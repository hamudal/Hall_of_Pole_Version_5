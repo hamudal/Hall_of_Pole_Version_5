{
 "cells": [
  {
   "cell_type": "code",
   "execution_count": 1,
   "metadata": {},
   "outputs": [],
   "source": [
    "import os\n",
    "import requests\n",
    "from bs4 import BeautifulSoup\n",
    "import pandas as pd\n",
    "\n",
    "url = \"https://www.eversports.de/s/poda-studio\"\n",
    "\n",
    "# Function to reconstruct URLs and get button names\n",
    "def reconstruct_urls(url):\n",
    "    response = requests.get(url)\n",
    "    soup = BeautifulSoup(response.content, 'html.parser')\n",
    "    \n",
    "    overviewbuttons = soup.find_all('div', class_=\"MuiStack-root css-sgccrm\")\n",
    "\n",
    "    # Define mapping of button names to URL fragments\n",
    "    button_url_mapping = {\n",
    "        'Übersicht': 's',\n",
    "        'Klassen': 'scl',\n",
    "        'Workshops': 'sw',\n",
    "        'Videos': 's/videos',\n",
    "        'Preise': 'sp',\n",
    "        'Team': 's/team'\n",
    "    }\n",
    "\n",
    "    link_text = []  # Create an empty list to store link text\n",
    "    reconstructed_urls = {}\n",
    "\n",
    "    for item in overviewbuttons:\n",
    "        # Find all <a> elements within the current <div>\n",
    "        a_elements = item.find_all('a')\n",
    "\n",
    "        # Iterate through <a> elements and append their text content to the list\n",
    "        for a in a_elements:\n",
    "            text = a.text\n",
    "            link_text.append(text)\n",
    "            if text in button_url_mapping:\n",
    "                reconstructed_url = f\"https://www.eversports.de/{button_url_mapping[text]}/poda-studio\"\n",
    "                reconstructed_urls[text] = reconstructed_url\n",
    "\n",
    "    return link_text, reconstructed_urls\n",
    "\n",
    "# Example usage with a specific URL and row data\n",
    "\n",
    "columns = ['PoleStudio_Name', 'Adresse', 'PLZ', 'Stadt', 'Straße']\n",
    "row_data = ['Sample Pole Studio', 'Sample Address', '12345', 'Sample City', 'Sample Street']\n",
    "\n",
    "link_text, reconstructed_urls = reconstruct_urls(url)\n",
    "\n",
    "# Now you have 'link_text' and 'reconstructed_urls' for this URL\n",
    "# You can use these values in your DataFrame for the specific row\n",
    "# For example, you can insert 'link_text' into the 'Buttons' column and the URLs into their respective columns in the DataFrame.\n"
   ]
  },
  {
   "cell_type": "code",
   "execution_count": 2,
   "metadata": {},
   "outputs": [
    {
     "data": {
      "text/plain": [
       "['Übersicht', 'Klassen', 'Workshops', 'Videos', 'Preise', 'Team']"
      ]
     },
     "execution_count": 2,
     "metadata": {},
     "output_type": "execute_result"
    }
   ],
   "source": [
    "link_text"
   ]
  },
  {
   "cell_type": "code",
   "execution_count": 3,
   "metadata": {},
   "outputs": [
    {
     "data": {
      "text/plain": [
       "{'Übersicht': 'https://www.eversports.de/s/poda-studio',\n",
       " 'Klassen': 'https://www.eversports.de/scl/poda-studio',\n",
       " 'Workshops': 'https://www.eversports.de/sw/poda-studio',\n",
       " 'Videos': 'https://www.eversports.de/s/videos/poda-studio',\n",
       " 'Preise': 'https://www.eversports.de/sp/poda-studio',\n",
       " 'Team': 'https://www.eversports.de/s/team/poda-studio'}"
      ]
     },
     "execution_count": 3,
     "metadata": {},
     "output_type": "execute_result"
    }
   ],
   "source": [
    "reconstructed_urls"
   ]
  }
 ],
 "metadata": {
  "kernelspec": {
   "display_name": "Python 3",
   "language": "python",
   "name": "python3"
  },
  "language_info": {
   "codemirror_mode": {
    "name": "ipython",
    "version": 3
   },
   "file_extension": ".py",
   "mimetype": "text/x-python",
   "name": "python",
   "nbconvert_exporter": "python",
   "pygments_lexer": "ipython3",
   "version": "3.12.1"
  }
 },
 "nbformat": 4,
 "nbformat_minor": 2
}
