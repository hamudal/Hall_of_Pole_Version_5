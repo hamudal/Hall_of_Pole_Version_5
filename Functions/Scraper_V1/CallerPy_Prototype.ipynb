{
 "cells": [
  {
   "cell_type": "code",
   "execution_count": 8,
   "metadata": {},
   "outputs": [],
   "source": [
    "# Importieren der benötigten Module\n",
    "from a_URL_Reconstructor import reconstruct_urls_and_extract_buttons\n",
    "from aa_URL_Validation import validate_urls\n",
    "from aaa_PoleStudio_URL_S_Function import scrape_pole_studio\n",
    "from b_Workshopslist_URL_SW_Function import scrape_workshops\n",
    "from c_Workshop_URL_E_Function import scrape_workshop_details\n",
    "from d_Klassenlist_SCL_Function import scrape_classes\n",
    "\n",
    "import pandas as pd"
   ]
  },
  {
   "cell_type": "code",
   "execution_count": 9,
   "metadata": {},
   "outputs": [],
   "source": [
    "url = \"https://www.eversports.de/s/poda-studio\""
   ]
  },
  {
   "cell_type": "code",
   "execution_count": 10,
   "metadata": {},
   "outputs": [
    {
     "data": {
      "text/plain": [
       "{'Übersicht': 'https://www.eversports.de/s/poda-studio',\n",
       " 'Klassen': 'https://www.eversports.de/scl/poda-studio',\n",
       " 'Workshops': 'https://www.eversports.de/sw/poda-studio',\n",
       " 'Videos': 'https://www.eversports.de/s/videos/poda-studio',\n",
       " 'Preise': 'https://www.eversports.de/sp/poda-studio',\n",
       " 'Team': 'https://www.eversports.de/s/team/poda-studio'}"
      ]
     },
     "execution_count": 10,
     "metadata": {},
     "output_type": "execute_result"
    }
   ],
   "source": [
    "_, reconstructed_urls = reconstruct_urls_and_extract_buttons(url)\n",
    "reconstructed_urls"
   ]
  },
  {
   "cell_type": "code",
   "execution_count": 11,
   "metadata": {},
   "outputs": [
    {
     "name": "stdout",
     "output_type": "stream",
     "text": [
      "   Kategorie                                             URL\n",
      "0  Übersicht         https://www.eversports.de/s/poda-studio\n",
      "1    Klassen       https://www.eversports.de/scl/poda-studio\n",
      "2  Workshops        https://www.eversports.de/sw/poda-studio\n",
      "3     Videos  https://www.eversports.de/s/videos/poda-studio\n",
      "4     Preise        https://www.eversports.de/sp/poda-studio\n",
      "5       Team    https://www.eversports.de/s/team/poda-studio\n"
     ]
    }
   ],
   "source": [
    "# Umwandlung des Dictionaries in ein DataFrame\n",
    "reconstructed_urls_df = pd.DataFrame(list(reconstructed_urls.items()), columns=['Kategorie', 'URL'])\n",
    "\n",
    "# Anzeige des DataFrames\n",
    "print(reconstructed_urls_df)"
   ]
  },
  {
   "cell_type": "code",
   "execution_count": 12,
   "metadata": {},
   "outputs": [
    {
     "name": "stdout",
     "output_type": "stream",
     "text": [
      "Processing URL 1/6: https://www.eversports.de/s/poda-studio\n",
      "URL https://www.eversports.de/s/poda-studio is valid.\n",
      "\n",
      "\n",
      "Processing URL 2/6: https://www.eversports.de/scl/poda-studio\n",
      "URL https://www.eversports.de/scl/poda-studio is valid.\n",
      "\n",
      "\n",
      "Processing URL 3/6: https://www.eversports.de/sw/poda-studio\n",
      "URL https://www.eversports.de/sw/poda-studio is valid.\n",
      "\n",
      "\n",
      "Processing URL 4/6: https://www.eversports.de/s/videos/poda-studio\n",
      "URL https://www.eversports.de/s/videos/poda-studio is not valid.\n",
      "\n",
      "\n",
      "Processing URL 5/6: https://www.eversports.de/sp/poda-studio\n",
      "URL https://www.eversports.de/sp/poda-studio is valid.\n",
      "\n",
      "\n",
      "Processing URL 6/6: https://www.eversports.de/s/team/poda-studio\n",
      "URL https://www.eversports.de/s/team/poda-studio is not valid.\n",
      "\n",
      "\n"
     ]
    },
    {
     "data": {
      "text/html": [
       "<div>\n",
       "<style scoped>\n",
       "    .dataframe tbody tr th:only-of-type {\n",
       "        vertical-align: middle;\n",
       "    }\n",
       "\n",
       "    .dataframe tbody tr th {\n",
       "        vertical-align: top;\n",
       "    }\n",
       "\n",
       "    .dataframe thead th {\n",
       "        text-align: right;\n",
       "    }\n",
       "</style>\n",
       "<table border=\"1\" class=\"dataframe\">\n",
       "  <thead>\n",
       "    <tr style=\"text-align: right;\">\n",
       "      <th></th>\n",
       "      <th>Valid_URL</th>\n",
       "    </tr>\n",
       "  </thead>\n",
       "  <tbody>\n",
       "    <tr>\n",
       "      <th>0</th>\n",
       "      <td>https://www.eversports.de/s/poda-studio</td>\n",
       "    </tr>\n",
       "    <tr>\n",
       "      <th>1</th>\n",
       "      <td>https://www.eversports.de/scl/poda-studio</td>\n",
       "    </tr>\n",
       "    <tr>\n",
       "      <th>2</th>\n",
       "      <td>https://www.eversports.de/sw/poda-studio</td>\n",
       "    </tr>\n",
       "    <tr>\n",
       "      <th>3</th>\n",
       "      <td>https://www.eversports.de/sp/poda-studio</td>\n",
       "    </tr>\n",
       "  </tbody>\n",
       "</table>\n",
       "</div>"
      ],
      "text/plain": [
       "                                   Valid_URL\n",
       "0    https://www.eversports.de/s/poda-studio\n",
       "1  https://www.eversports.de/scl/poda-studio\n",
       "2   https://www.eversports.de/sw/poda-studio\n",
       "3   https://www.eversports.de/sp/poda-studio"
      ]
     },
     "execution_count": 12,
     "metadata": {},
     "output_type": "execute_result"
    }
   ],
   "source": [
    "validated_urls_df = validate_urls(reconstructed_urls_df[\"URL\"].to_list())\n"
   ]
  },
  {
   "cell_type": "code",
   "execution_count": 13,
   "metadata": {},
   "outputs": [
    {
     "data": {
      "text/html": [
       "<div>\n",
       "<style scoped>\n",
       "    .dataframe tbody tr th:only-of-type {\n",
       "        vertical-align: middle;\n",
       "    }\n",
       "\n",
       "    .dataframe tbody tr th {\n",
       "        vertical-align: top;\n",
       "    }\n",
       "\n",
       "    .dataframe thead th {\n",
       "        text-align: right;\n",
       "    }\n",
       "</style>\n",
       "<table border=\"1\" class=\"dataframe\">\n",
       "  <thead>\n",
       "    <tr style=\"text-align: right;\">\n",
       "      <th></th>\n",
       "      <th>Valid_URL</th>\n",
       "    </tr>\n",
       "  </thead>\n",
       "  <tbody>\n",
       "    <tr>\n",
       "      <th>0</th>\n",
       "      <td>https://www.eversports.de/s/poda-studio</td>\n",
       "    </tr>\n",
       "    <tr>\n",
       "      <th>1</th>\n",
       "      <td>https://www.eversports.de/scl/poda-studio</td>\n",
       "    </tr>\n",
       "    <tr>\n",
       "      <th>2</th>\n",
       "      <td>https://www.eversports.de/sw/poda-studio</td>\n",
       "    </tr>\n",
       "    <tr>\n",
       "      <th>3</th>\n",
       "      <td>https://www.eversports.de/sp/poda-studio</td>\n",
       "    </tr>\n",
       "  </tbody>\n",
       "</table>\n",
       "</div>"
      ],
      "text/plain": [
       "                                   Valid_URL\n",
       "0    https://www.eversports.de/s/poda-studio\n",
       "1  https://www.eversports.de/scl/poda-studio\n",
       "2   https://www.eversports.de/sw/poda-studio\n",
       "3   https://www.eversports.de/sp/poda-studio"
      ]
     },
     "execution_count": 13,
     "metadata": {},
     "output_type": "execute_result"
    }
   ],
   "source": [
    "validated_urls_df"
   ]
  },
  {
   "cell_type": "code",
   "execution_count": 20,
   "metadata": {},
   "outputs": [
    {
     "data": {
      "text/plain": [
       "'https://www.eversports.de/s/poda-studio'"
      ]
     },
     "execution_count": 20,
     "metadata": {},
     "output_type": "execute_result"
    }
   ],
   "source": [
    "validated_urls_df[\"Valid_URL\"][0]"
   ]
  },
  {
   "cell_type": "code",
   "execution_count": 22,
   "metadata": {},
   "outputs": [
    {
     "name": "stdout",
     "output_type": "stream",
     "text": [
      "                                   Valid_URL\n",
      "0    https://www.eversports.de/s/poda-studio\n",
      "1  https://www.eversports.de/scl/poda-studio\n",
      "2   https://www.eversports.de/sw/poda-studio\n",
      "3   https://www.eversports.de/sp/poda-studio\n",
      "                                     URL_S  \\\n",
      "0  https://www.eversports.de/s/poda-studio   \n",
      "\n",
      "                                     URL_SCL  \\\n",
      "0  https://www.eversports.de/scl/poda-studio   \n",
      "\n",
      "                                     URL_SW  \\\n",
      "0  https://www.eversports.de/sw/poda-studio   \n",
      "\n",
      "                                     URL_SP  \n",
      "0  https://www.eversports.de/sp/poda-studio  \n"
     ]
    }
   ],
   "source": [
    "# Stellen Sie sicher, dass 'validated_urls_df' ein DataFrame ist und die Spalte 'Valid_URL' enthält\n",
    "print(validated_urls_df)\n",
    "\n",
    "# Extrahieren der URLs aus der Spalte 'Valid_URL'\n",
    "url_s = validated_urls_df[\"Valid_URL\"][0]\n",
    "url_scl = validated_urls_df[\"Valid_URL\"][1]\n",
    "url_sw = validated_urls_df[\"Valid_URL\"][2]\n",
    "url_sp = validated_urls_df[\"Valid_URL\"][3]\n",
    "\n",
    "# Erstellen eines neuen DataFrames mit separaten Spalten für jede URL-Kategorie\n",
    "url_categories_df = pd.DataFrame({\n",
    "    \"URL_S\": [url_s],\n",
    "    \"URL_SCL\": [url_scl],\n",
    "    \"URL_SW\": [url_sw],\n",
    "    \"URL_SP\": [url_sp]\n",
    "})\n",
    "\n",
    "# Anzeige des DataFrames\n",
    "print(url_categories_df)\n"
   ]
  },
  {
   "cell_type": "code",
   "execution_count": 29,
   "metadata": {},
   "outputs": [
    {
     "data": {
      "text/plain": [
       "'https://www.eversports.de/s/poda-studio'"
      ]
     },
     "execution_count": 29,
     "metadata": {},
     "output_type": "execute_result"
    }
   ],
   "source": [
    "url_s = url_categories_df[\"URL_S\"][0]\n",
    "url_s"
   ]
  },
  {
   "cell_type": "code",
   "execution_count": 30,
   "metadata": {},
   "outputs": [
    {
     "data": {
      "text/html": [
       "<div>\n",
       "<style scoped>\n",
       "    .dataframe tbody tr th:only-of-type {\n",
       "        vertical-align: middle;\n",
       "    }\n",
       "\n",
       "    .dataframe tbody tr th {\n",
       "        vertical-align: top;\n",
       "    }\n",
       "\n",
       "    .dataframe thead th {\n",
       "        text-align: right;\n",
       "    }\n",
       "</style>\n",
       "<table border=\"1\" class=\"dataframe\">\n",
       "  <thead>\n",
       "    <tr style=\"text-align: right;\">\n",
       "      <th></th>\n",
       "      <th>PoleStudio_Name</th>\n",
       "      <th>Adresse</th>\n",
       "      <th>PLZ</th>\n",
       "      <th>Stadt</th>\n",
       "      <th>Straße</th>\n",
       "      <th>Buttons</th>\n",
       "      <th>Pole Studio Beschreibung</th>\n",
       "      <th>Ratingscore</th>\n",
       "      <th>Reviewanzahl</th>\n",
       "      <th>Rating Faktoren</th>\n",
       "      <th>E-Mail</th>\n",
       "      <th>Homepage</th>\n",
       "      <th>Telefon</th>\n",
       "      <th>URL_S</th>\n",
       "      <th>Art</th>\n",
       "      <th>Angebot</th>\n",
       "      <th>Bildergalerie</th>\n",
       "      <th>Created Date</th>\n",
       "      <th>Updated Date</th>\n",
       "    </tr>\n",
       "  </thead>\n",
       "  <tbody>\n",
       "    <tr>\n",
       "      <th>0</th>\n",
       "      <td>poda Studio</td>\n",
       "      <td>[Martinstraße 10-12 ,  52062 Aachen]</td>\n",
       "      <td>52062</td>\n",
       "      <td>Aachen</td>\n",
       "      <td>Martinstraße 10-12</td>\n",
       "      <td>[Übersicht, Klassen, Workshops, Videos, Preise...</td>\n",
       "      <td>Flieg mit uns! Poda ist das größte Pole Dance ...</td>\n",
       "      <td>4,9</td>\n",
       "      <td>52 Rezensionen</td>\n",
       "      <td>[Raumqualität: 5.0, Freundlichkeit &amp; Service: ...</td>\n",
       "      <td>info@podastudio.de</td>\n",
       "      <td>https://www.podastudio.de/</td>\n",
       "      <td>+49241 95719917</td>\n",
       "      <td>https://www.eversports.de/s/poda-studio</td>\n",
       "      <td>[Fitness, Tanzen, Fitness, Yoga, Fitness, Yoga...</td>\n",
       "      <td>1 Angebot für Neukund:innen</td>\n",
       "      <td>[https://files.eversports.com/b5fbdb8d-cc1e-44...</td>\n",
       "      <td>2023-12-20 08:13:07</td>\n",
       "      <td>2023-12-20 08:13:07</td>\n",
       "    </tr>\n",
       "  </tbody>\n",
       "</table>\n",
       "</div>"
      ],
      "text/plain": [
       "  PoleStudio_Name                               Adresse    PLZ   Stadt  \\\n",
       "0     poda Studio  [Martinstraße 10-12 ,  52062 Aachen]  52062  Aachen   \n",
       "\n",
       "                Straße                                            Buttons  \\\n",
       "0  Martinstraße 10-12   [Übersicht, Klassen, Workshops, Videos, Preise...   \n",
       "\n",
       "                            Pole Studio Beschreibung Ratingscore  \\\n",
       "0  Flieg mit uns! Poda ist das größte Pole Dance ...         4,9   \n",
       "\n",
       "     Reviewanzahl                                    Rating Faktoren  \\\n",
       "0  52 Rezensionen  [Raumqualität: 5.0, Freundlichkeit & Service: ...   \n",
       "\n",
       "                E-Mail                    Homepage          Telefon  \\\n",
       "0   info@podastudio.de  https://www.podastudio.de/  +49241 95719917   \n",
       "\n",
       "                                     URL_S  \\\n",
       "0  https://www.eversports.de/s/poda-studio   \n",
       "\n",
       "                                                 Art  \\\n",
       "0  [Fitness, Tanzen, Fitness, Yoga, Fitness, Yoga...   \n",
       "\n",
       "                       Angebot  \\\n",
       "0  1 Angebot für Neukund:innen   \n",
       "\n",
       "                                       Bildergalerie         Created Date  \\\n",
       "0  [https://files.eversports.com/b5fbdb8d-cc1e-44...  2023-12-20 08:13:07   \n",
       "\n",
       "          Updated Date  \n",
       "0  2023-12-20 08:13:07  "
      ]
     },
     "execution_count": 30,
     "metadata": {},
     "output_type": "execute_result"
    }
   ],
   "source": [
    "pole_studio_data = scrape_pole_studio(url_s)\n",
    "pole_studio_data"
   ]
  },
  {
   "cell_type": "code",
   "execution_count": 31,
   "metadata": {},
   "outputs": [
    {
     "data": {
      "text/plain": [
       "'https://www.eversports.de/sw/poda-studio'"
      ]
     },
     "execution_count": 31,
     "metadata": {},
     "output_type": "execute_result"
    }
   ],
   "source": [
    "url_sw = url_categories_df[\"URL_SW\"][0]\n",
    "url_sw"
   ]
  },
  {
   "cell_type": "code",
   "execution_count": 34,
   "metadata": {},
   "outputs": [
    {
     "data": {
      "text/html": [
       "<div>\n",
       "<style scoped>\n",
       "    .dataframe tbody tr th:only-of-type {\n",
       "        vertical-align: middle;\n",
       "    }\n",
       "\n",
       "    .dataframe tbody tr th {\n",
       "        vertical-align: top;\n",
       "    }\n",
       "\n",
       "    .dataframe thead th {\n",
       "        text-align: right;\n",
       "    }\n",
       "</style>\n",
       "<table border=\"1\" class=\"dataframe\">\n",
       "  <thead>\n",
       "    <tr style=\"text-align: right;\">\n",
       "      <th></th>\n",
       "      <th>Workshop Name</th>\n",
       "      <th>Workshop Date</th>\n",
       "      <th>Workshop Price</th>\n",
       "      <th>Workshop Units</th>\n",
       "      <th>Workshop Studio</th>\n",
       "      <th>Workshop Address</th>\n",
       "      <th>URL_SW</th>\n",
       "    </tr>\n",
       "  </thead>\n",
       "  <tbody>\n",
       "    <tr>\n",
       "      <th>0</th>\n",
       "      <td>Aerial Loops Workshop</td>\n",
       "      <td>Jan13Samstag</td>\n",
       "      <td>ab 35,00 €</td>\n",
       "      <td>1 Einheit</td>\n",
       "      <td>poda Studio</td>\n",
       "      <td>10-12 Martinstraße Innenhof, 52062 Aachen</td>\n",
       "      <td>https://www.eversports.de/e/workshop/5Qka0Ok</td>\n",
       "    </tr>\n",
       "    <tr>\n",
       "      <th>1</th>\n",
       "      <td>Handstands on Pole Workshop</td>\n",
       "      <td>Jan20Samstag</td>\n",
       "      <td>ab 35,00 €</td>\n",
       "      <td>1 Einheit</td>\n",
       "      <td>poda Studio</td>\n",
       "      <td>10-12 Martinstraße Innenhof, 52062 Aachen</td>\n",
       "      <td>https://www.eversports.de/e/workshop/mmIS0hG</td>\n",
       "    </tr>\n",
       "    <tr>\n",
       "      <th>2</th>\n",
       "      <td>How to invert Workshop</td>\n",
       "      <td>Jan20Samstag</td>\n",
       "      <td>ab 35,00 €</td>\n",
       "      <td>1 Einheit</td>\n",
       "      <td>poda Studio</td>\n",
       "      <td>10-12 Martinstraße Innenhof, 52062 Aachen</td>\n",
       "      <td>https://www.eversports.de/e/workshop/5id4nVo</td>\n",
       "    </tr>\n",
       "    <tr>\n",
       "      <th>3</th>\n",
       "      <td>Rock Hard Style High Heels Pole Workshop</td>\n",
       "      <td>Feb04Sonntag</td>\n",
       "      <td>ab 35,00 €</td>\n",
       "      <td>1 Einheit</td>\n",
       "      <td>poda Studio</td>\n",
       "      <td>10-12 Martinstraße Innenhof, 52062 Aachen</td>\n",
       "      <td>https://www.eversports.de/e/workshop/LAHNDF-</td>\n",
       "    </tr>\n",
       "    <tr>\n",
       "      <th>4</th>\n",
       "      <td>Hip Hop Pole Choreo Workshop</td>\n",
       "      <td>März16Samstag</td>\n",
       "      <td>ab 35,00 €</td>\n",
       "      <td>1 Einheit</td>\n",
       "      <td>poda Studio</td>\n",
       "      <td>10-12 Martinstraße Innenhof, 52062 Aachen</td>\n",
       "      <td>https://www.eversports.de/e/workshop/2f93D4_</td>\n",
       "    </tr>\n",
       "  </tbody>\n",
       "</table>\n",
       "</div>"
      ],
      "text/plain": [
       "                              Workshop Name  Workshop Date Workshop Price  \\\n",
       "0                     Aerial Loops Workshop   Jan13Samstag     ab 35,00 €   \n",
       "1               Handstands on Pole Workshop   Jan20Samstag     ab 35,00 €   \n",
       "2                    How to invert Workshop   Jan20Samstag     ab 35,00 €   \n",
       "3  Rock Hard Style High Heels Pole Workshop   Feb04Sonntag     ab 35,00 €   \n",
       "4              Hip Hop Pole Choreo Workshop  März16Samstag     ab 35,00 €   \n",
       "\n",
       "  Workshop Units Workshop Studio                           Workshop Address  \\\n",
       "0      1 Einheit     poda Studio  10-12 Martinstraße Innenhof, 52062 Aachen   \n",
       "1      1 Einheit     poda Studio  10-12 Martinstraße Innenhof, 52062 Aachen   \n",
       "2      1 Einheit     poda Studio  10-12 Martinstraße Innenhof, 52062 Aachen   \n",
       "3      1 Einheit     poda Studio  10-12 Martinstraße Innenhof, 52062 Aachen   \n",
       "4      1 Einheit     poda Studio  10-12 Martinstraße Innenhof, 52062 Aachen   \n",
       "\n",
       "                                         URL_SW  \n",
       "0  https://www.eversports.de/e/workshop/5Qka0Ok  \n",
       "1  https://www.eversports.de/e/workshop/mmIS0hG  \n",
       "2  https://www.eversports.de/e/workshop/5id4nVo  \n",
       "3  https://www.eversports.de/e/workshop/LAHNDF-  \n",
       "4  https://www.eversports.de/e/workshop/2f93D4_  "
      ]
     },
     "execution_count": 34,
     "metadata": {},
     "output_type": "execute_result"
    }
   ],
   "source": [
    "workshops_data = scrape_workshops(url_sw)\n",
    "workshops_data"
   ]
  },
  {
   "cell_type": "code",
   "execution_count": 39,
   "metadata": {},
   "outputs": [
    {
     "data": {
      "text/html": [
       "<div>\n",
       "<style scoped>\n",
       "    .dataframe tbody tr th:only-of-type {\n",
       "        vertical-align: middle;\n",
       "    }\n",
       "\n",
       "    .dataframe tbody tr th {\n",
       "        vertical-align: top;\n",
       "    }\n",
       "\n",
       "    .dataframe thead th {\n",
       "        text-align: right;\n",
       "    }\n",
       "</style>\n",
       "<table border=\"1\" class=\"dataframe\">\n",
       "  <thead>\n",
       "    <tr style=\"text-align: right;\">\n",
       "      <th></th>\n",
       "      <th>Workshop Name</th>\n",
       "      <th>Beschreibung</th>\n",
       "      <th>Studio Name</th>\n",
       "      <th>Location</th>\n",
       "      <th>Category</th>\n",
       "      <th>Date</th>\n",
       "      <th>URL_E</th>\n",
       "      <th>Time</th>\n",
       "    </tr>\n",
       "  </thead>\n",
       "  <tbody>\n",
       "    <tr>\n",
       "      <th>0</th>\n",
       "      <td>Aerial Loops Workshop</td>\n",
       "      <td>Aerial Loops oder auch Straps Loops genannt si...</td>\n",
       "      <td>poda Studio</td>\n",
       "      <td>10-12 Martinstraße Innenhof, 52062 Aachen</td>\n",
       "      <td>Aerial Akrobatik</td>\n",
       "      <td>Samstag, 13. Januar 2024</td>\n",
       "      <td>https://www.eversports.de/e/workshop/5Qka0Ok</td>\n",
       "      <td>13:00 - 14:30</td>\n",
       "    </tr>\n",
       "  </tbody>\n",
       "</table>\n",
       "</div>"
      ],
      "text/plain": [
       "           Workshop Name                                       Beschreibung  \\\n",
       "0  Aerial Loops Workshop  Aerial Loops oder auch Straps Loops genannt si...   \n",
       "\n",
       "   Studio Name                                    Location          Category  \\\n",
       "0  poda Studio   10-12 Martinstraße Innenhof, 52062 Aachen  Aerial Akrobatik   \n",
       "\n",
       "                       Date                                         URL_E  \\\n",
       "0  Samstag, 13. Januar 2024  https://www.eversports.de/e/workshop/5Qka0Ok   \n",
       "\n",
       "            Time  \n",
       "0  13:00 - 14:30  "
      ]
     },
     "execution_count": 39,
     "metadata": {},
     "output_type": "execute_result"
    }
   ],
   "source": [
    "url_e = workshops_data['URL_SW'].tolist()[0]\n",
    "workshop_details = scrape_workshop_details(url_e)\n",
    "workshop_details"
   ]
  },
  {
   "cell_type": "code",
   "execution_count": 53,
   "metadata": {},
   "outputs": [
    {
     "name": "stdout",
     "output_type": "stream",
     "text": [
      "https://www.eversports.de/scl/poda-studio\n"
     ]
    }
   ],
   "source": [
    "# Extrahieren der URL_SCL aus dem DataFrame\n",
    "url_scl = url_categories_df['URL_SCL'].tolist()[0]\n",
    "\n",
    "# Ausgabe der URL zur Überprüfung\n",
    "print(url_scl)\n"
   ]
  },
  {
   "cell_type": "code",
   "execution_count": 54,
   "metadata": {},
   "outputs": [
    {
     "name": "stdout",
     "output_type": "stream",
     "text": [
      "                                   URL_SCL_E   Time Duration  \\\n",
      "0  https://www.eversports.de/e/class/Otaqqee  18:45   60 Min   \n",
      "1  https://www.eversports.de/e/class/pci9U3w  20:00   60 Min   \n",
      "2  https://www.eversports.de/e/class/IMt1Fo6  18:45   60 Min   \n",
      "3  https://www.eversports.de/e/class/Otaqqee  18:45   60 Min   \n",
      "4  https://www.eversports.de/e/class/pci9U3w  20:00   60 Min   \n",
      "5  https://www.eversports.de/e/class/IMt1Fo6  18:45   60 Min   \n",
      "\n",
      "                                                Name         Available Slots  \\\n",
      "0  Do they know it's Fitnesstime - Pole Fitness *...  6/24 Plätzen verfügbar   \n",
      "1  Ho ho hold your split - stretch for splits Xma...  8/24 Plätzen verfügbar   \n",
      "2                Burlesque Chairdance *Xmas Special*  4/24 Plätzen verfügbar   \n",
      "3  Do they know it's Fitnesstime - Pole Fitness *...  6/24 Plätzen verfügbar   \n",
      "4  Ho ho hold your split - stretch for splits Xma...  8/24 Plätzen verfügbar   \n",
      "5                Burlesque Chairdance *Xmas Special*  4/24 Plätzen verfügbar   \n",
      "\n",
      "  Trainer         Room  \n",
      "0    Anna  Poda Studio  \n",
      "1    Anna  Poda Studio  \n",
      "2   Joana  Poda Studio  \n",
      "3    Anna  Poda Studio  \n",
      "4    Anna  Poda Studio  \n",
      "5   Joana  Poda Studio  \n"
     ]
    }
   ],
   "source": [
    "# Stellen Sie sicher, dass url_scl eine Liste von URLs ist\n",
    "urls_list = [url_scl] if isinstance(url_scl, str) else url_scl\n",
    "\n",
    "# Aufruf der Funktion scrape_classes mit einer Liste von URLs\n",
    "classes_data = scrape_classes(urls_list)\n",
    "\n",
    "# Überprüfen Sie das Ergebnis\n",
    "print(classes_data)\n"
   ]
  },
  {
   "cell_type": "code",
   "execution_count": 58,
   "metadata": {},
   "outputs": [
    {
     "data": {
      "text/html": [
       "<div>\n",
       "<style scoped>\n",
       "    .dataframe tbody tr th:only-of-type {\n",
       "        vertical-align: middle;\n",
       "    }\n",
       "\n",
       "    .dataframe tbody tr th {\n",
       "        vertical-align: top;\n",
       "    }\n",
       "\n",
       "    .dataframe thead th {\n",
       "        text-align: right;\n",
       "    }\n",
       "</style>\n",
       "<table border=\"1\" class=\"dataframe\">\n",
       "  <thead>\n",
       "    <tr style=\"text-align: right;\">\n",
       "      <th></th>\n",
       "      <th>Workshop Name</th>\n",
       "      <th>Beschreibung</th>\n",
       "      <th>Studio Name</th>\n",
       "      <th>Location</th>\n",
       "      <th>Category</th>\n",
       "      <th>Date</th>\n",
       "      <th>URL_E</th>\n",
       "      <th>Time</th>\n",
       "    </tr>\n",
       "  </thead>\n",
       "  <tbody>\n",
       "    <tr>\n",
       "      <th>0</th>\n",
       "      <td>Do they know it's Fitnesstime - Pole Fitness *...</td>\n",
       "      <td>Wir warten nicht bis Neujahr, um den Weihnacht...</td>\n",
       "      <td>poda Studio</td>\n",
       "      <td>10-12 Martinstraße Innenhof, 52062 Aachen</td>\n",
       "      <td>Fitness</td>\n",
       "      <td>Montag, 18. Dezember 2023</td>\n",
       "      <td>https://www.eversports.de/e/class/Otaqqee</td>\n",
       "      <td>18:45 - 19:45</td>\n",
       "    </tr>\n",
       "  </tbody>\n",
       "</table>\n",
       "</div>"
      ],
      "text/plain": [
       "                                       Workshop Name  \\\n",
       "0  Do they know it's Fitnesstime - Pole Fitness *...   \n",
       "\n",
       "                                        Beschreibung  Studio Name  \\\n",
       "0  Wir warten nicht bis Neujahr, um den Weihnacht...  poda Studio   \n",
       "\n",
       "                                     Location Category  \\\n",
       "0   10-12 Martinstraße Innenhof, 52062 Aachen  Fitness   \n",
       "\n",
       "                        Date                                      URL_E  \\\n",
       "0  Montag, 18. Dezember 2023  https://www.eversports.de/e/class/Otaqqee   \n",
       "\n",
       "            Time  \n",
       "0  18:45 - 19:45  "
      ]
     },
     "execution_count": 58,
     "metadata": {},
     "output_type": "execute_result"
    }
   ],
   "source": [
    "url_scl_e = classes_data['URL_SCL_E'].tolist()[0]\n",
    "classes_details = scrape_workshop_details(url_scl_e)\n",
    "classes_details"
   ]
  }
 ],
 "metadata": {
  "kernelspec": {
   "display_name": "Python 3",
   "language": "python",
   "name": "python3"
  },
  "language_info": {
   "codemirror_mode": {
    "name": "ipython",
    "version": 3
   },
   "file_extension": ".py",
   "mimetype": "text/x-python",
   "name": "python",
   "nbconvert_exporter": "python",
   "pygments_lexer": "ipython3",
   "version": "3.12.1"
  }
 },
 "nbformat": 4,
 "nbformat_minor": 2
}
