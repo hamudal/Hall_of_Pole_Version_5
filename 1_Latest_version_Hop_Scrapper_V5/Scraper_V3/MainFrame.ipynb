{
 "cells": [
  {
   "cell_type": "code",
   "execution_count": 13,
   "metadata": {},
   "outputs": [],
   "source": [
    "import pandas as pd\n",
    "from PyCaller import process_urls"
   ]
  },
  {
   "cell_type": "markdown",
   "metadata": {},
   "source": [
    "All Found URL"
   ]
  },
  {
   "cell_type": "code",
   "execution_count": 14,
   "metadata": {},
   "outputs": [],
   "source": [
    "# all_found_urls_s = pd.read_csv(\"all_found_urls_23.12.23.csv\")\n",
    "# initial_urls = set(all_found_urls_s[\"0\"])\n",
    "# len(initial_urls)\n"
   ]
  },
  {
   "cell_type": "markdown",
   "metadata": {},
   "source": [
    "Didi DF"
   ]
  },
  {
   "cell_type": "code",
   "execution_count": 15,
   "metadata": {},
   "outputs": [],
   "source": [
    "polestudios = pd.read_csv(\"validated_polestudios_V2.csv\")"
   ]
  },
  {
   "cell_type": "code",
   "execution_count": 16,
   "metadata": {},
   "outputs": [],
   "source": [
    "# polestudios[:1]"
   ]
  },
  {
   "cell_type": "code",
   "execution_count": 17,
   "metadata": {},
   "outputs": [],
   "source": [
    "# polestudios[\"Eversports Pole Studio Seite\"][2]"
   ]
  },
  {
   "cell_type": "code",
   "execution_count": 18,
   "metadata": {},
   "outputs": [],
   "source": [
    "# valid_url = pd.read_csv(\"unique_urls_s_23.12.23.csv\")\n",
    "# initial_urls = valid_url[\"0\"]\n",
    "#initial_urls = initial_urls[:50]"
   ]
  },
  {
   "cell_type": "code",
   "execution_count": 19,
   "metadata": {},
   "outputs": [],
   "source": [
    "#valid_url[:2]"
   ]
  },
  {
   "cell_type": "markdown",
   "metadata": {},
   "source": [
    "Test"
   ]
  },
  {
   "cell_type": "code",
   "execution_count": 20,
   "metadata": {},
   "outputs": [],
   "source": [
    "# initial_urls = [\"https://www.eversports.de/s/poda-studio\"]\n",
    "initial_urls = polestudios[\"Eversports Pole Studio Seite\"]"
   ]
  },
  {
   "cell_type": "code",
   "execution_count": 21,
   "metadata": {},
   "outputs": [],
   "source": [
    "# # Funktion, um die Ergebnisse für eine URL zu verarbeiten und zu speichern\n",
    "# def process_and_print_results(url):\n",
    "#     print(f\"Verarbeite URL: {url}\")\n",
    "#     data = process_urls([url])  # Eine Liste übergeben\n",
    "\n",
    "#     if data:  # Überprüfen, ob Daten vorhanden sind\n",
    "#         print(f\"\\nErgebnisse für URL: {url}\")\n",
    "#         for key, df in data.items():\n",
    "#             if df is not None and not df.empty:\n",
    "#                 print(f\"{key.replace('_', ' ').title()}:\")\n",
    "#                 print(df)\n",
    "#                 print(\"\\n\")\n",
    "#         return data\n",
    "#     else:\n",
    "#         print(f\"Keine Daten gefunden für URL: {url}\")\n",
    "#         return None\n",
    "\n",
    "# # Einlesen der Pole Studios aus einer CSV-Datei\n",
    "# # polestudios = pd.read_csv(\"validated_polestudios_V2.csv\")\n",
    "# # initial_urls = polestudios[\"Eversports Pole Studio Seite\"][:2].to_list()\n",
    "\n",
    "# # Initialisieren der DataFrames für jede Datenkategorie\n",
    "# all_pole_studio_data = pd.DataFrame()\n",
    "# all_workshops_data = pd.DataFrame()\n",
    "# all_workshop_details_data = pd.DataFrame()\n",
    "# all_classes_data = pd.DataFrame()\n",
    "# all_classes_details_data = pd.DataFrame()\n",
    "\n",
    "# # Schleife über jede URL in der Liste\n",
    "# for url in initial_urls:\n",
    "#     data = process_and_print_results(url)\n",
    "#     if data:\n",
    "#         # Daten zu den entsprechenden DataFrames hinzufügen\n",
    "#         if 'pole_studio_data' in data and not data['pole_studio_data'].empty:\n",
    "#             all_pole_studio_data = pd.concat([all_pole_studio_data, data['pole_studio_data']], ignore_index=True)\n",
    "        \n",
    "#         if 'workshops_data' in data and not data['workshops_data'].empty:\n",
    "#             all_workshops_data = pd.concat([all_workshops_data, data['workshops_data']], ignore_index=True)\n",
    "        \n",
    "#         if 'workshop_details' in data and not data['workshop_details'].empty:\n",
    "#             all_workshop_details_data = pd.concat([all_workshop_details_data, data['workshop_details']], ignore_index=True)\n",
    "        \n",
    "#         if 'classes_data' in data and not data['classes_data'].empty:\n",
    "#             all_classes_data = pd.concat([all_classes_data, data['classes_data']], ignore_index=True)\n",
    "        \n",
    "#         if 'classes_details' in data and not data['classes_details'].empty:\n",
    "#             all_classes_details_data = pd.concat([all_classes_details_data, data['classes_details']], ignore_index=True)\n",
    "\n",
    "# # Ergebnisse anzeigen\n",
    "# print(\"Gesammelte Pole Studio Daten:\")\n",
    "# print(all_pole_studio_data)\n",
    "# print(\"\\nGesammelte Workshops Daten:\")\n",
    "# print(all_workshops_data)\n",
    "# print(\"\\nGesammelte Workshop Details Daten:\")\n",
    "# print(all_workshop_details_data)\n",
    "# print(\"\\nGesammelte Klassen Daten:\")\n",
    "# print(all_classes_data)\n",
    "# print(\"\\nGesammelte Klassen Details Daten:\")\n",
    "# print(all_classes_details_data)"
   ]
  },
  {
   "cell_type": "code",
   "execution_count": null,
   "metadata": {},
   "outputs": [],
   "source": []
  },
  {
   "cell_type": "markdown",
   "metadata": {},
   "source": [
    "Test"
   ]
  },
  {
   "cell_type": "code",
   "execution_count": 33,
   "metadata": {},
   "outputs": [
    {
     "data": {
      "text/plain": [
       "10"
      ]
     },
     "execution_count": 33,
     "metadata": {},
     "output_type": "execute_result"
    }
   ],
   "source": [
    "all_found_urls_s = pd.read_csv(\"all_found_urls_23.12.23.csv\")\n",
    "initial_urls = set(all_found_urls_s[\"0\"])\n",
    "initial_urls = list(set(initial_urls))\n",
    "initial_urls = initial_urls[:10]\n",
    "len(initial_urls)"
   ]
  },
  {
   "cell_type": "code",
   "execution_count": 23,
   "metadata": {},
   "outputs": [],
   "source": [
    "# # Einlesen der Pole Studios aus einer CSV-Datei\n",
    "# polestudios = pd.read_csv(\"validated_polestudios_V2.csv\")\n",
    "# initial_urls = polestudios[\"Eversports Pole Studio Seite\"].to_list()\n",
    "\n",
    "# len(initial_urls)"
   ]
  },
  {
   "cell_type": "markdown",
   "metadata": {},
   "source": [
    "V3"
   ]
  },
  {
   "cell_type": "markdown",
   "metadata": {},
   "source": [
    "V2"
   ]
  },
  {
   "cell_type": "code",
   "execution_count": 26,
   "metadata": {},
   "outputs": [
    {
     "name": "stdout",
     "output_type": "stream",
     "text": [
      "Processing URL 1/559\n",
      "Verarbeite URL: https://www.eversports.de/s/Körperformfabrik-GbR\n",
      "Starte URL-Rekonstruktion...\n",
      "Error during HTTP request: Exceeded 30 redirects.\n",
      "Konvertiere in DataFrame...\n",
      "Validiere URLs...\n",
      "Verarbeitung abgeschlossen.\n",
      "\n",
      "Ergebnisse für URL: https://www.eversports.de/s/Körperformfabrik-GbR\n",
      "Progress: 0.18%\n",
      "\n",
      "Processing URL 2/559\n",
      "Verarbeite URL: https://www.eversports.de/s/The-Pole-Jungle\n",
      "Starte URL-Rekonstruktion...\n"
     ]
    },
    {
     "name": "stderr",
     "output_type": "stream",
     "text": [
      "2024-01-26 15:11:28,907 - INFO - Processing URL 1/7: https://www.eversports.de/s/The-Pole-Jungle\n"
     ]
    },
    {
     "name": "stdout",
     "output_type": "stream",
     "text": [
      "Konvertiere in DataFrame...\n",
      "Validiere URLs...\n"
     ]
    },
    {
     "name": "stderr",
     "output_type": "stream",
     "text": [
      "2024-01-26 15:11:30,657 - INFO - URL https://www.eversports.de/s/The-Pole-Jungle is valid.\n",
      "2024-01-26 15:11:30,673 - INFO - Processing URL 2/7: https://www.eversports.de/scl/The-Pole-Jungle\n",
      "2024-01-26 15:11:32,165 - INFO - URL https://www.eversports.de/scl/The-Pole-Jungle is not valid.\n",
      "2024-01-26 15:11:32,165 - INFO - Processing URL 3/7: https://www.eversports.de/s/The-Pole-Jungle/trainings\n",
      "2024-01-26 15:11:33,588 - INFO - URL https://www.eversports.de/s/The-Pole-Jungle/trainings is not valid.\n",
      "2024-01-26 15:11:33,588 - INFO - Processing URL 4/7: https://www.eversports.de/s/The-Pole-Jungle/kurse\n",
      "2024-01-26 15:11:35,510 - INFO - URL https://www.eversports.de/s/The-Pole-Jungle/kurse is not valid.\n",
      "2024-01-26 15:11:35,510 - INFO - Processing URL 5/7: https://www.eversports.de/sw/The-Pole-Jungle\n",
      "2024-01-26 15:11:36,948 - INFO - URL https://www.eversports.de/sw/The-Pole-Jungle is not valid.\n",
      "2024-01-26 15:11:36,948 - INFO - Processing URL 6/7: https://www.eversports.de/sp/The-Pole-Jungle\n",
      "2024-01-26 15:11:38,355 - INFO - URL https://www.eversports.de/sp/The-Pole-Jungle is not valid.\n",
      "2024-01-26 15:11:38,355 - INFO - Processing URL 7/7: https://www.eversports.de/s/The-Pole-Jungle/team\n",
      "2024-01-26 15:11:40,085 - INFO - URL https://www.eversports.de/s/The-Pole-Jungle/team is valid.\n"
     ]
    },
    {
     "name": "stdout",
     "output_type": "stream",
     "text": [
      "Scrape Pole Studio Daten von https://www.eversports.de/s/The-Pole-Jungle...\n",
      "Verarbeitung abgeschlossen.\n",
      "\n",
      "Ergebnisse für URL: https://www.eversports.de/s/The-Pole-Jungle\n",
      "Pole Studio Data:\n",
      "\n",
      "\n",
      "Progress: 0.36%\n",
      "\n",
      "Processing URL 3/559\n",
      "Verarbeite URL: https://www.eversports.de/s/pole-dance-nrw\n",
      "Starte URL-Rekonstruktion...\n",
      "Error during HTTP request: 404 Client Error: Not Found for url: https://www.eversports.de/s/pole-dance-nrw\n",
      "Konvertiere in DataFrame...\n",
      "Validiere URLs...\n",
      "Verarbeitung abgeschlossen.\n",
      "\n",
      "Ergebnisse für URL: https://www.eversports.de/s/pole-dance-nrw\n",
      "Progress: 0.54%\n",
      "\n",
      "Processing URL 4/559\n",
      "Verarbeite URL: https://www.eversports.de/s/Health-&-Shape-München\n",
      "Starte URL-Rekonstruktion...\n",
      "Error during HTTP request: 404 Client Error: Not Found for url: https://www.eversports.de/s/Health-&-Shape-M%C3%BCnchen\n",
      "Konvertiere in DataFrame...\n",
      "Validiere URLs...\n",
      "Verarbeitung abgeschlossen.\n",
      "\n",
      "Ergebnisse für URL: https://www.eversports.de/s/Health-&-Shape-München\n",
      "Progress: 0.72%\n",
      "\n",
      "Processing URL 5/559\n",
      "Verarbeite URL: https://www.eversports.de/s/aerial-art-poledance\n",
      "Starte URL-Rekonstruktion...\n"
     ]
    },
    {
     "name": "stderr",
     "output_type": "stream",
     "text": [
      "2024-01-26 15:11:45,055 - INFO - Processing URL 1/7: https://www.eversports.de/s/aerial-art-poledance\n"
     ]
    },
    {
     "name": "stdout",
     "output_type": "stream",
     "text": [
      "Konvertiere in DataFrame...\n",
      "Validiere URLs...\n"
     ]
    },
    {
     "name": "stderr",
     "output_type": "stream",
     "text": [
      "2024-01-26 15:11:46,684 - INFO - URL https://www.eversports.de/s/aerial-art-poledance is valid.\n",
      "2024-01-26 15:11:46,686 - INFO - Processing URL 2/7: https://www.eversports.de/scl/aerial-art-poledance\n",
      "2024-01-26 15:11:48,136 - INFO - URL https://www.eversports.de/scl/aerial-art-poledance is valid.\n",
      "2024-01-26 15:11:48,136 - INFO - Processing URL 3/7: https://www.eversports.de/sw/aerial-art-poledance\n",
      "2024-01-26 15:11:49,518 - INFO - URL https://www.eversports.de/sw/aerial-art-poledance is valid.\n",
      "2024-01-26 15:11:49,518 - INFO - Processing URL 4/7: https://www.eversports.de/s/aerial-art-poledance/events\n",
      "2024-01-26 15:11:50,817 - INFO - URL https://www.eversports.de/s/aerial-art-poledance/events is not valid.\n",
      "2024-01-26 15:11:50,817 - INFO - Processing URL 5/7: https://www.eversports.de/s/aerial-art-poledance/videos\n",
      "2024-01-26 15:11:52,235 - INFO - URL https://www.eversports.de/s/aerial-art-poledance/videos is valid.\n",
      "2024-01-26 15:11:52,236 - INFO - Processing URL 6/7: https://www.eversports.de/sp/aerial-art-poledance\n",
      "2024-01-26 15:11:53,616 - INFO - URL https://www.eversports.de/sp/aerial-art-poledance is valid.\n",
      "2024-01-26 15:11:53,616 - INFO - Processing URL 7/7: https://www.eversports.de/s/aerial-art-poledance/team\n",
      "2024-01-26 15:11:55,032 - INFO - URL https://www.eversports.de/s/aerial-art-poledance/team is valid.\n"
     ]
    },
    {
     "name": "stdout",
     "output_type": "stream",
     "text": [
      "Scrape Pole Studio Daten von https://www.eversports.de/s/aerial-art-poledance...\n",
      "Scrape Klassen Daten von https://www.eversports.de/scl/aerial-art-poledance...\n",
      "Scrape Klassen Details von https://www.eversports.de/scl/aerial-art-poledance...\n",
      "Scrape Workshops Daten von https://www.eversports.de/sw/aerial-art-poledance...\n",
      "Scrape Workshop Details von https://www.eversports.de/e/workshop/1pLUOJO...\n",
      "Verarbeitung abgeschlossen.\n",
      "\n",
      "Ergebnisse für URL: https://www.eversports.de/s/aerial-art-poledance\n",
      "Pole Studio Data:\n",
      "\n",
      "\n",
      "Classes Data:\n",
      "\n",
      "\n",
      "Classes Details:\n",
      "\n",
      "\n",
      "Workshops Data:\n",
      "\n",
      "\n",
      "Workshop Details:\n",
      "\n",
      "\n",
      "Progress: 0.89%\n",
      "\n",
      "Processing URL 6/559\n",
      "Verarbeite URL: https://www.eversports.de/s/Cindys-Pole-Dance\n",
      "Starte URL-Rekonstruktion...\n"
     ]
    },
    {
     "name": "stderr",
     "output_type": "stream",
     "text": [
      "2024-01-26 15:13:48,586 - INFO - Processing URL 1/1: https://www.eversports.de/s/Cindys-Pole-Dance\n"
     ]
    },
    {
     "name": "stdout",
     "output_type": "stream",
     "text": [
      "Konvertiere in DataFrame...\n",
      "Validiere URLs...\n"
     ]
    },
    {
     "name": "stderr",
     "output_type": "stream",
     "text": [
      "2024-01-26 15:13:50,170 - INFO - URL https://www.eversports.de/s/Cindys-Pole-Dance is valid.\n"
     ]
    },
    {
     "name": "stdout",
     "output_type": "stream",
     "text": [
      "Scrape Pole Studio Daten von https://www.eversports.de/s/Cindys-Pole-Dance...\n",
      "Verarbeitung abgeschlossen.\n",
      "\n",
      "Ergebnisse für URL: https://www.eversports.de/s/Cindys-Pole-Dance\n",
      "Pole Studio Data:\n",
      "\n",
      "\n",
      "Progress: 1.07%\n",
      "\n",
      "Processing URL 7/559\n",
      "Verarbeite URL: https://www.eversports.de/s/Stadtgazellen-Studio\n",
      "Starte URL-Rekonstruktion...\n"
     ]
    },
    {
     "name": "stderr",
     "output_type": "stream",
     "text": [
      "2024-01-26 15:13:52,888 - INFO - Processing URL 1/5: https://www.eversports.de/s/Stadtgazellen-Studio\n"
     ]
    },
    {
     "name": "stdout",
     "output_type": "stream",
     "text": [
      "Konvertiere in DataFrame...\n",
      "Validiere URLs...\n"
     ]
    },
    {
     "name": "stderr",
     "output_type": "stream",
     "text": [
      "2024-01-26 15:13:54,671 - INFO - URL https://www.eversports.de/s/Stadtgazellen-Studio is valid.\n",
      "2024-01-26 15:13:54,671 - INFO - Processing URL 2/5: https://www.eversports.de/scl/Stadtgazellen-Studio\n",
      "2024-01-26 15:13:56,835 - INFO - URL https://www.eversports.de/scl/Stadtgazellen-Studio is valid.\n",
      "2024-01-26 15:13:56,835 - INFO - Processing URL 3/5: https://www.eversports.de/s/Stadtgazellen-Studio/kurse\n",
      "2024-01-26 15:13:58,102 - INFO - URL https://www.eversports.de/s/Stadtgazellen-Studio/kurse is not valid.\n",
      "2024-01-26 15:13:58,102 - INFO - Processing URL 4/5: https://www.eversports.de/sp/Stadtgazellen-Studio\n",
      "2024-01-26 15:13:59,636 - INFO - URL https://www.eversports.de/sp/Stadtgazellen-Studio is valid.\n",
      "2024-01-26 15:13:59,636 - INFO - Processing URL 5/5: https://www.eversports.de/s/Stadtgazellen-Studio/team\n",
      "2024-01-26 15:14:01,273 - INFO - URL https://www.eversports.de/s/Stadtgazellen-Studio/team is valid.\n"
     ]
    },
    {
     "name": "stdout",
     "output_type": "stream",
     "text": [
      "Scrape Pole Studio Daten von https://www.eversports.de/s/Stadtgazellen-Studio...\n",
      "Scrape Klassen Daten von https://www.eversports.de/scl/Stadtgazellen-Studio...\n",
      "Scrape Klassen Details von https://www.eversports.de/scl/Stadtgazellen-Studio...\n",
      "Verarbeitung abgeschlossen.\n",
      "\n",
      "Ergebnisse für URL: https://www.eversports.de/s/Stadtgazellen-Studio\n",
      "Pole Studio Data:\n",
      "\n",
      "\n",
      "Classes Data:\n",
      "\n",
      "\n",
      "Classes Details:\n",
      "\n",
      "\n",
      "Progress: 1.25%\n",
      "\n",
      "Processing URL 8/559\n",
      "Verarbeite URL: https://www.eversports.de/s/pole-arts\n",
      "Starte URL-Rekonstruktion...\n"
     ]
    },
    {
     "name": "stderr",
     "output_type": "stream",
     "text": [
      "2024-01-26 15:15:59,624 - INFO - Processing URL 1/5: https://www.eversports.de/s/pole-arts\n"
     ]
    },
    {
     "name": "stdout",
     "output_type": "stream",
     "text": [
      "Konvertiere in DataFrame...\n",
      "Validiere URLs...\n"
     ]
    },
    {
     "name": "stderr",
     "output_type": "stream",
     "text": [
      "2024-01-26 15:16:02,327 - INFO - URL https://www.eversports.de/s/pole-arts is valid.\n",
      "2024-01-26 15:16:02,327 - INFO - Processing URL 2/5: https://www.eversports.de/scl/pole-arts\n",
      "2024-01-26 15:16:03,706 - INFO - URL https://www.eversports.de/scl/pole-arts is valid.\n",
      "2024-01-26 15:16:03,706 - INFO - Processing URL 3/5: https://www.eversports.de/s/pole-arts/kurse\n",
      "2024-01-26 15:16:04,959 - INFO - URL https://www.eversports.de/s/pole-arts/kurse is not valid.\n",
      "2024-01-26 15:16:04,974 - INFO - Processing URL 4/5: https://www.eversports.de/sp/pole-arts\n",
      "2024-01-26 15:16:06,424 - INFO - URL https://www.eversports.de/sp/pole-arts is valid.\n",
      "2024-01-26 15:16:06,424 - INFO - Processing URL 5/5: https://www.eversports.de/s/pole-arts/team\n",
      "2024-01-26 15:16:07,938 - INFO - URL https://www.eversports.de/s/pole-arts/team is valid.\n"
     ]
    },
    {
     "name": "stdout",
     "output_type": "stream",
     "text": [
      "Scrape Pole Studio Daten von https://www.eversports.de/s/pole-arts...\n",
      "Scrape Klassen Daten von https://www.eversports.de/scl/pole-arts...\n",
      "Scrape Klassen Details von https://www.eversports.de/scl/pole-arts...\n",
      "Verarbeitung abgeschlossen.\n",
      "\n",
      "Ergebnisse für URL: https://www.eversports.de/s/pole-arts\n",
      "Pole Studio Data:\n",
      "\n",
      "\n",
      "Classes Data:\n",
      "\n",
      "\n",
      "Classes Details:\n",
      "\n",
      "\n",
      "Progress: 1.43%\n",
      "\n",
      "Processing URL 9/559\n",
      "Verarbeite URL: https://www.eversports.de/s/annis-pole-dance-neumuenster\n",
      "Starte URL-Rekonstruktion...\n"
     ]
    },
    {
     "name": "stderr",
     "output_type": "stream",
     "text": [
      "2024-01-26 15:16:46,461 - INFO - Processing URL 1/5: https://www.eversports.de/s/annis-pole-dance-neumuenster\n"
     ]
    },
    {
     "name": "stdout",
     "output_type": "stream",
     "text": [
      "Konvertiere in DataFrame...\n",
      "Validiere URLs...\n"
     ]
    },
    {
     "name": "stderr",
     "output_type": "stream",
     "text": [
      "2024-01-26 15:16:47,977 - INFO - URL https://www.eversports.de/s/annis-pole-dance-neumuenster is valid.\n",
      "2024-01-26 15:16:47,977 - INFO - Processing URL 2/5: https://www.eversports.de/scl/annis-pole-dance-neumuenster\n",
      "2024-01-26 15:16:49,310 - INFO - URL https://www.eversports.de/scl/annis-pole-dance-neumuenster is valid.\n",
      "2024-01-26 15:16:49,311 - INFO - Processing URL 3/5: https://www.eversports.de/s/annis-pole-dance-neumuenster/trainings\n",
      "2024-01-26 15:16:50,561 - INFO - URL https://www.eversports.de/s/annis-pole-dance-neumuenster/trainings is not valid.\n",
      "2024-01-26 15:16:50,561 - INFO - Processing URL 4/5: https://www.eversports.de/s/annis-pole-dance-neumuenster/kurse\n",
      "2024-01-26 15:16:51,827 - INFO - URL https://www.eversports.de/s/annis-pole-dance-neumuenster/kurse is not valid.\n",
      "2024-01-26 15:16:51,827 - INFO - Processing URL 5/5: https://www.eversports.de/s/annis-pole-dance-neumuenster/team\n",
      "2024-01-26 15:16:53,690 - INFO - URL https://www.eversports.de/s/annis-pole-dance-neumuenster/team is valid.\n"
     ]
    },
    {
     "name": "stdout",
     "output_type": "stream",
     "text": [
      "Scrape Pole Studio Daten von https://www.eversports.de/s/annis-pole-dance-neumuenster...\n",
      "Scrape Klassen Daten von https://www.eversports.de/scl/annis-pole-dance-neumuenster...\n",
      "Scrape Klassen Details von https://www.eversports.de/scl/annis-pole-dance-neumuenster...\n",
      "Verarbeitung abgeschlossen.\n",
      "\n",
      "Ergebnisse für URL: https://www.eversports.de/s/annis-pole-dance-neumuenster\n",
      "Pole Studio Data:\n",
      "\n",
      "\n",
      "Classes Data:\n",
      "\n",
      "\n",
      "Classes Details:\n",
      "\n",
      "\n",
      "Progress: 1.61%\n",
      "\n",
      "Processing URL 10/559\n",
      "Verarbeite URL: https://www.eversports.de/s/aerial-art-poledance-city-base\n",
      "Starte URL-Rekonstruktion...\n",
      "Error during HTTP request: 404 Client Error: Not Found for url: https://www.eversports.de/s/aerial-art-poledance-city-base\n",
      "Konvertiere in DataFrame...\n",
      "Validiere URLs...\n",
      "Verarbeitung abgeschlossen.\n",
      "\n",
      "Ergebnisse für URL: https://www.eversports.de/s/aerial-art-poledance-city-base\n",
      "Progress: 1.79%\n",
      "\n",
      "Processing URL 11/559\n",
      "Verarbeite URL: https://www.eversports.de/s/Pole-Land\n",
      "Starte URL-Rekonstruktion...\n"
     ]
    },
    {
     "name": "stderr",
     "output_type": "stream",
     "text": [
      "2024-01-26 15:17:14,407 - INFO - Processing URL 1/7: https://www.eversports.de/s/Pole-Land\n"
     ]
    },
    {
     "name": "stdout",
     "output_type": "stream",
     "text": [
      "Konvertiere in DataFrame...\n",
      "Validiere URLs...\n"
     ]
    },
    {
     "name": "stderr",
     "output_type": "stream",
     "text": [
      "2024-01-26 15:17:16,159 - INFO - URL https://www.eversports.de/s/Pole-Land is valid.\n",
      "2024-01-26 15:17:16,159 - INFO - Processing URL 2/7: https://www.eversports.de/scl/Pole-Land\n",
      "2024-01-26 15:17:17,673 - INFO - URL https://www.eversports.de/scl/Pole-Land is valid.\n",
      "2024-01-26 15:17:17,673 - INFO - Processing URL 3/7: https://www.eversports.de/s/Pole-Land/kurse\n",
      "2024-01-26 15:17:19,325 - INFO - URL https://www.eversports.de/s/Pole-Land/kurse is not valid.\n",
      "2024-01-26 15:17:19,325 - INFO - Processing URL 4/7: https://www.eversports.de/sw/Pole-Land\n",
      "2024-01-26 15:17:20,992 - INFO - URL https://www.eversports.de/sw/Pole-Land is valid.\n",
      "2024-01-26 15:17:20,992 - INFO - Processing URL 5/7: https://www.eversports.de/s/Pole-Land/events\n",
      "2024-01-26 15:17:22,291 - INFO - URL https://www.eversports.de/s/Pole-Land/events is not valid.\n",
      "2024-01-26 15:17:22,291 - INFO - Processing URL 6/7: https://www.eversports.de/sp/Pole-Land\n",
      "2024-01-26 15:17:23,746 - INFO - URL https://www.eversports.de/sp/Pole-Land is valid.\n",
      "2024-01-26 15:17:23,746 - INFO - Processing URL 7/7: https://www.eversports.de/s/Pole-Land/team\n",
      "2024-01-26 15:17:25,544 - INFO - URL https://www.eversports.de/s/Pole-Land/team is valid.\n"
     ]
    },
    {
     "name": "stdout",
     "output_type": "stream",
     "text": [
      "Scrape Pole Studio Daten von https://www.eversports.de/s/Pole-Land...\n",
      "Scrape Klassen Daten von https://www.eversports.de/scl/Pole-Land...\n",
      "Scrape Klassen Details von https://www.eversports.de/scl/Pole-Land...\n",
      "Scrape Workshops Daten von https://www.eversports.de/sw/Pole-Land...\n",
      "Scrape Workshop Details von https://www.eversports.de/e/workshop/ezegoNQ...\n",
      "Scrape Workshop Details von https://www.eversports.de/e/workshop/mFEme0g...\n",
      "Scrape Workshop Details von https://www.eversports.de/e/workshop/S8noX1Z...\n",
      "Scrape Workshop Details von https://www.eversports.de/e/workshop/SqEYfO3...\n",
      "Scrape Workshop Details von https://www.eversports.de/e/workshop/OGUBUS8...\n",
      "Scrape Workshop Details von https://www.eversports.de/e/workshop/VVXdiD8...\n",
      "Verarbeitung abgeschlossen.\n",
      "\n",
      "Ergebnisse für URL: https://www.eversports.de/s/Pole-Land\n",
      "Pole Studio Data:\n",
      "\n",
      "\n",
      "Classes Data:\n",
      "\n",
      "\n",
      "Classes Details:\n",
      "\n",
      "\n",
      "Workshops Data:\n",
      "\n",
      "\n",
      "Workshop Details:\n",
      "\n",
      "\n",
      "Progress: 1.97%\n",
      "\n",
      "Processing URL 12/559\n",
      "Verarbeite URL: https://www.eversports.de/s/glow-sports-club\n",
      "Starte URL-Rekonstruktion...\n"
     ]
    },
    {
     "name": "stderr",
     "output_type": "stream",
     "text": [
      "2024-01-26 15:19:18,763 - INFO - Processing URL 1/7: https://www.eversports.de/s/glow-sports-club\n"
     ]
    },
    {
     "name": "stdout",
     "output_type": "stream",
     "text": [
      "Konvertiere in DataFrame...\n",
      "Validiere URLs...\n"
     ]
    },
    {
     "name": "stderr",
     "output_type": "stream",
     "text": [
      "2024-01-26 15:19:20,428 - INFO - URL https://www.eversports.de/s/glow-sports-club is valid.\n",
      "2024-01-26 15:19:20,428 - INFO - Processing URL 2/7: https://www.eversports.de/scl/glow-sports-club\n",
      "2024-01-26 15:19:22,011 - INFO - URL https://www.eversports.de/scl/glow-sports-club is valid.\n",
      "2024-01-26 15:19:22,012 - INFO - Processing URL 3/7: https://www.eversports.de/s/glow-sports-club/trainings\n",
      "2024-01-26 15:19:23,329 - INFO - URL https://www.eversports.de/s/glow-sports-club/trainings is not valid.\n",
      "2024-01-26 15:19:23,329 - INFO - Processing URL 4/7: https://www.eversports.de/s/glow-sports-club/kurse\n",
      "2024-01-26 15:19:24,729 - INFO - URL https://www.eversports.de/s/glow-sports-club/kurse is not valid.\n",
      "2024-01-26 15:19:24,729 - INFO - Processing URL 5/7: https://www.eversports.de/sw/glow-sports-club\n",
      "2024-01-26 15:19:26,131 - INFO - URL https://www.eversports.de/sw/glow-sports-club is valid.\n",
      "2024-01-26 15:19:26,131 - INFO - Processing URL 6/7: https://www.eversports.de/sp/glow-sports-club\n",
      "2024-01-26 15:19:28,865 - INFO - URL https://www.eversports.de/sp/glow-sports-club is valid.\n",
      "2024-01-26 15:19:28,880 - INFO - Processing URL 7/7: https://www.eversports.de/s/glow-sports-club/team\n",
      "2024-01-26 15:19:30,715 - INFO - URL https://www.eversports.de/s/glow-sports-club/team is valid.\n"
     ]
    },
    {
     "name": "stdout",
     "output_type": "stream",
     "text": [
      "Scrape Pole Studio Daten von https://www.eversports.de/s/glow-sports-club...\n",
      "Scrape Klassen Daten von https://www.eversports.de/scl/glow-sports-club...\n",
      "Scrape Klassen Details von https://www.eversports.de/scl/glow-sports-club...\n",
      "Scrape Workshops Daten von https://www.eversports.de/sw/glow-sports-club...\n",
      "Scrape Workshop Details von https://www.eversports.de/e/workshop/n1eG1oH...\n",
      "Verarbeitung abgeschlossen.\n",
      "\n",
      "Ergebnisse für URL: https://www.eversports.de/s/glow-sports-club\n",
      "Pole Studio Data:\n",
      "\n",
      "\n",
      "Classes Data:\n",
      "\n",
      "\n",
      "Classes Details:\n",
      "\n",
      "\n",
      "Workshops Data:\n",
      "\n",
      "\n",
      "Workshop Details:\n",
      "\n",
      "\n",
      "Progress: 2.15%\n",
      "\n",
      "Processing URL 13/559\n",
      "Verarbeite URL: https://www.eversports.de/s/polemotions-tuebingen\n",
      "Starte URL-Rekonstruktion...\n"
     ]
    },
    {
     "name": "stderr",
     "output_type": "stream",
     "text": [
      "2024-01-26 15:20:51,900 - INFO - Processing URL 1/5: https://www.eversports.de/s/polemotions-tuebingen\n"
     ]
    },
    {
     "name": "stdout",
     "output_type": "stream",
     "text": [
      "Konvertiere in DataFrame...\n",
      "Validiere URLs...\n"
     ]
    },
    {
     "name": "stderr",
     "output_type": "stream",
     "text": [
      "2024-01-26 15:20:53,530 - INFO - URL https://www.eversports.de/s/polemotions-tuebingen is valid.\n",
      "2024-01-26 15:20:53,530 - INFO - Processing URL 2/5: https://www.eversports.de/scl/polemotions-tuebingen\n",
      "2024-01-26 15:20:54,914 - INFO - URL https://www.eversports.de/scl/polemotions-tuebingen is valid.\n",
      "2024-01-26 15:20:54,914 - INFO - Processing URL 3/5: https://www.eversports.de/s/polemotions-tuebingen/videos\n",
      "2024-01-26 15:20:56,315 - INFO - URL https://www.eversports.de/s/polemotions-tuebingen/videos is valid.\n",
      "2024-01-26 15:20:56,315 - INFO - Processing URL 4/5: https://www.eversports.de/sp/polemotions-tuebingen\n",
      "2024-01-26 15:20:57,665 - INFO - URL https://www.eversports.de/sp/polemotions-tuebingen is valid.\n",
      "2024-01-26 15:20:57,665 - INFO - Processing URL 5/5: https://www.eversports.de/s/polemotions-tuebingen/team\n",
      "2024-01-26 15:20:59,280 - INFO - URL https://www.eversports.de/s/polemotions-tuebingen/team is valid.\n"
     ]
    },
    {
     "name": "stdout",
     "output_type": "stream",
     "text": [
      "Scrape Pole Studio Daten von https://www.eversports.de/s/polemotions-tuebingen...\n",
      "Scrape Klassen Daten von https://www.eversports.de/scl/polemotions-tuebingen...\n",
      "Scrape Klassen Details von https://www.eversports.de/scl/polemotions-tuebingen...\n",
      "Verarbeitung abgeschlossen.\n",
      "\n",
      "Ergebnisse für URL: https://www.eversports.de/s/polemotions-tuebingen\n",
      "Pole Studio Data:\n",
      "\n",
      "\n",
      "Classes Data:\n",
      "\n",
      "\n",
      "Classes Details:\n",
      "\n",
      "\n",
      "Progress: 2.33%\n",
      "\n",
      "Processing URL 14/559\n",
      "Verarbeite URL: https://www.eversports.de/s/KAIFU-LODGE\n",
      "Starte URL-Rekonstruktion...\n"
     ]
    },
    {
     "name": "stderr",
     "output_type": "stream",
     "text": [
      "2024-01-26 15:22:54,665 - INFO - Processing URL 1/1: https://www.eversports.de/s/KAIFU-LODGE\n"
     ]
    },
    {
     "name": "stdout",
     "output_type": "stream",
     "text": [
      "Konvertiere in DataFrame...\n",
      "Validiere URLs...\n"
     ]
    },
    {
     "name": "stderr",
     "output_type": "stream",
     "text": [
      "2024-01-26 15:22:56,864 - INFO - URL https://www.eversports.de/s/KAIFU-LODGE is valid.\n"
     ]
    },
    {
     "name": "stdout",
     "output_type": "stream",
     "text": [
      "Scrape Pole Studio Daten von https://www.eversports.de/s/KAIFU-LODGE...\n",
      "Verarbeitung abgeschlossen.\n",
      "\n",
      "Ergebnisse für URL: https://www.eversports.de/s/KAIFU-LODGE\n",
      "Pole Studio Data:\n",
      "\n",
      "\n",
      "Progress: 2.50%\n",
      "\n",
      "Processing URL 15/559\n",
      "Verarbeite URL: https://www.eversports.de/s/k%C3%B6rperformfabrik-gbr\n",
      "Starte URL-Rekonstruktion...\n",
      "Error during HTTP request: Exceeded 30 redirects.\n",
      "Konvertiere in DataFrame...\n",
      "Validiere URLs...\n",
      "Verarbeitung abgeschlossen.\n",
      "\n",
      "Ergebnisse für URL: https://www.eversports.de/s/k%C3%B6rperformfabrik-gbr\n",
      "Progress: 2.68%\n",
      "\n",
      "Processing URL 16/559\n",
      "Verarbeite URL: https://www.eversports.de/s/poledance-4-you\n",
      "Starte URL-Rekonstruktion...\n"
     ]
    },
    {
     "name": "stderr",
     "output_type": "stream",
     "text": [
      "2024-01-26 15:23:02,066 - INFO - Processing URL 1/1: https://www.eversports.de/s/poledance-4-you\n"
     ]
    },
    {
     "name": "stdout",
     "output_type": "stream",
     "text": [
      "Konvertiere in DataFrame...\n",
      "Validiere URLs...\n"
     ]
    },
    {
     "name": "stderr",
     "output_type": "stream",
     "text": [
      "2024-01-26 15:23:03,473 - INFO - URL https://www.eversports.de/s/poledance-4-you is valid.\n"
     ]
    },
    {
     "name": "stdout",
     "output_type": "stream",
     "text": [
      "Scrape Pole Studio Daten von https://www.eversports.de/s/poledance-4-you...\n",
      "Verarbeitung abgeschlossen.\n",
      "\n",
      "Ergebnisse für URL: https://www.eversports.de/s/poledance-4-you\n",
      "Pole Studio Data:\n",
      "\n",
      "\n",
      "Progress: 2.86%\n",
      "\n",
      "Processing URL 17/559\n",
      "Verarbeite URL: https://www.eversports.de/s/drehimpuls-aachen\n",
      "Starte URL-Rekonstruktion...\n",
      "Error during HTTP request: 404 Client Error: Not Found for url: https://www.eversports.de/s/drehimpuls-aachen\n",
      "Konvertiere in DataFrame...\n",
      "Validiere URLs...\n",
      "Verarbeitung abgeschlossen.\n",
      "\n",
      "Ergebnisse für URL: https://www.eversports.de/s/drehimpuls-aachen\n",
      "Progress: 3.04%\n",
      "\n",
      "Processing URL 18/559\n",
      "Verarbeite URL: https://www.eversports.de/s/sportheim-abensberg\n",
      "Starte URL-Rekonstruktion...\n"
     ]
    },
    {
     "name": "stderr",
     "output_type": "stream",
     "text": [
      "2024-01-26 15:23:06,734 - INFO - Processing URL 1/5: https://www.eversports.de/s/sportheim-abensberg\n"
     ]
    },
    {
     "name": "stdout",
     "output_type": "stream",
     "text": [
      "Konvertiere in DataFrame...\n",
      "Validiere URLs...\n"
     ]
    },
    {
     "name": "stderr",
     "output_type": "stream",
     "text": [
      "2024-01-26 15:23:08,350 - INFO - URL https://www.eversports.de/s/sportheim-abensberg is valid.\n",
      "2024-01-26 15:23:08,350 - INFO - Processing URL 2/5: https://www.eversports.de/scl/sportheim-abensberg\n",
      "2024-01-26 15:23:09,716 - INFO - URL https://www.eversports.de/scl/sportheim-abensberg is valid.\n",
      "2024-01-26 15:23:09,716 - INFO - Processing URL 3/5: https://www.eversports.de/s/sportheim-abensberg/videos\n",
      "2024-01-26 15:23:11,168 - INFO - URL https://www.eversports.de/s/sportheim-abensberg/videos is valid.\n",
      "2024-01-26 15:23:11,168 - INFO - Processing URL 4/5: https://www.eversports.de/sp/sportheim-abensberg\n",
      "2024-01-26 15:23:12,567 - INFO - URL https://www.eversports.de/sp/sportheim-abensberg is valid.\n",
      "2024-01-26 15:23:12,567 - INFO - Processing URL 5/5: https://www.eversports.de/s/sportheim-abensberg/team\n",
      "2024-01-26 15:23:14,401 - INFO - URL https://www.eversports.de/s/sportheim-abensberg/team is valid.\n"
     ]
    },
    {
     "name": "stdout",
     "output_type": "stream",
     "text": [
      "Scrape Pole Studio Daten von https://www.eversports.de/s/sportheim-abensberg...\n",
      "Scrape Klassen Daten von https://www.eversports.de/scl/sportheim-abensberg...\n",
      "Scrape Klassen Details von https://www.eversports.de/scl/sportheim-abensberg...\n",
      "Verarbeitung abgeschlossen.\n",
      "\n",
      "Ergebnisse für URL: https://www.eversports.de/s/sportheim-abensberg\n",
      "Pole Studio Data:\n",
      "\n",
      "\n",
      "Classes Data:\n",
      "\n",
      "\n",
      "Classes Details:\n",
      "\n",
      "\n",
      "Progress: 3.22%\n",
      "\n",
      "Processing URL 19/559\n",
      "Verarbeite URL: https://www.eversports.de/s/polemotion-freiburg\n",
      "Starte URL-Rekonstruktion...\n",
      "Error during HTTP request: 404 Client Error: Not Found for url: https://www.eversports.de/s/polemotion-freiburg\n",
      "Konvertiere in DataFrame...\n",
      "Validiere URLs...\n",
      "Verarbeitung abgeschlossen.\n",
      "\n",
      "Ergebnisse für URL: https://www.eversports.de/s/polemotion-freiburg\n",
      "Progress: 3.40%\n",
      "\n",
      "Processing URL 20/559\n",
      "Verarbeite URL: https://www.eversports.de/s/css-aerial-dance-studio\n",
      "Starte URL-Rekonstruktion...\n"
     ]
    },
    {
     "name": "stderr",
     "output_type": "stream",
     "text": [
      "2024-01-26 15:24:07,301 - INFO - Processing URL 1/5: https://www.eversports.de/s/css-aerial-dance-studio\n"
     ]
    },
    {
     "name": "stdout",
     "output_type": "stream",
     "text": [
      "Konvertiere in DataFrame...\n",
      "Validiere URLs...\n"
     ]
    },
    {
     "name": "stderr",
     "output_type": "stream",
     "text": [
      "2024-01-26 15:24:08,900 - INFO - URL https://www.eversports.de/s/css-aerial-dance-studio is valid.\n",
      "2024-01-26 15:24:08,901 - INFO - Processing URL 2/5: https://www.eversports.de/scl/css-aerial-dance-studio\n",
      "2024-01-26 15:24:10,568 - INFO - URL https://www.eversports.de/scl/css-aerial-dance-studio is valid.\n",
      "2024-01-26 15:24:10,568 - INFO - Processing URL 3/5: https://www.eversports.de/s/css-aerial-dance-studio/kurse\n",
      "2024-01-26 15:24:12,368 - INFO - URL https://www.eversports.de/s/css-aerial-dance-studio/kurse is not valid.\n",
      "2024-01-26 15:24:12,368 - INFO - Processing URL 4/5: https://www.eversports.de/sp/css-aerial-dance-studio\n",
      "2024-01-26 15:24:13,734 - INFO - URL https://www.eversports.de/sp/css-aerial-dance-studio is valid.\n",
      "2024-01-26 15:24:13,734 - INFO - Processing URL 5/5: https://www.eversports.de/s/css-aerial-dance-studio/team\n",
      "2024-01-26 15:24:15,167 - INFO - URL https://www.eversports.de/s/css-aerial-dance-studio/team is valid.\n"
     ]
    },
    {
     "name": "stdout",
     "output_type": "stream",
     "text": [
      "Scrape Pole Studio Daten von https://www.eversports.de/s/css-aerial-dance-studio...\n",
      "Scrape Klassen Daten von https://www.eversports.de/scl/css-aerial-dance-studio...\n",
      "Scrape Klassen Details von https://www.eversports.de/scl/css-aerial-dance-studio...\n",
      "Verarbeitung abgeschlossen.\n",
      "\n",
      "Ergebnisse für URL: https://www.eversports.de/s/css-aerial-dance-studio\n",
      "Pole Studio Data:\n",
      "\n",
      "\n",
      "Classes Data:\n",
      "\n",
      "\n",
      "Classes Details:\n",
      "\n",
      "\n",
      "Progress: 3.58%\n",
      "\n",
      "Processing URL 21/559\n",
      "Verarbeite URL: https://www.eversports.de/s/pole-dance-academy-hameln\n",
      "Starte URL-Rekonstruktion...\n",
      "Error during HTTP request: 404 Client Error: Not Found for url: https://www.eversports.de/s/pole-dance-academy-hameln\n",
      "Konvertiere in DataFrame...\n",
      "Validiere URLs...\n",
      "Verarbeitung abgeschlossen.\n",
      "\n",
      "Ergebnisse für URL: https://www.eversports.de/s/pole-dance-academy-hameln\n",
      "Progress: 3.76%\n",
      "\n",
      "Processing URL 22/559\n",
      "Verarbeite URL: https://www.eversports.de/s/polestructions\n",
      "Starte URL-Rekonstruktion...\n"
     ]
    },
    {
     "name": "stderr",
     "output_type": "stream",
     "text": [
      "2024-01-26 15:25:29,653 - INFO - Processing URL 1/5: https://www.eversports.de/s/polestructions\n"
     ]
    },
    {
     "name": "stdout",
     "output_type": "stream",
     "text": [
      "Konvertiere in DataFrame...\n",
      "Validiere URLs...\n"
     ]
    },
    {
     "name": "stderr",
     "output_type": "stream",
     "text": [
      "2024-01-26 15:25:31,318 - INFO - URL https://www.eversports.de/s/polestructions is valid.\n",
      "2024-01-26 15:25:31,319 - INFO - Processing URL 2/5: https://www.eversports.de/scl/polestructions\n",
      "2024-01-26 15:25:33,103 - INFO - URL https://www.eversports.de/scl/polestructions is valid.\n",
      "2024-01-26 15:25:33,103 - INFO - Processing URL 3/5: https://www.eversports.de/s/polestructions/videos\n",
      "2024-01-26 15:25:34,554 - INFO - URL https://www.eversports.de/s/polestructions/videos is valid.\n",
      "2024-01-26 15:25:34,554 - INFO - Processing URL 4/5: https://www.eversports.de/sp/polestructions\n",
      "2024-01-26 15:25:35,952 - INFO - URL https://www.eversports.de/sp/polestructions is valid.\n",
      "2024-01-26 15:25:35,952 - INFO - Processing URL 5/5: https://www.eversports.de/s/polestructions/team\n",
      "2024-01-26 15:25:37,404 - INFO - URL https://www.eversports.de/s/polestructions/team is valid.\n"
     ]
    },
    {
     "name": "stdout",
     "output_type": "stream",
     "text": [
      "Scrape Pole Studio Daten von https://www.eversports.de/s/polestructions...\n",
      "Scrape Klassen Daten von https://www.eversports.de/scl/polestructions...\n",
      "Scrape Klassen Details von https://www.eversports.de/scl/polestructions...\n",
      "Verarbeitung abgeschlossen.\n",
      "\n",
      "Ergebnisse für URL: https://www.eversports.de/s/polestructions\n",
      "Pole Studio Data:\n",
      "\n",
      "\n",
      "Classes Data:\n",
      "\n",
      "\n",
      "Classes Details:\n",
      "\n",
      "\n",
      "Progress: 3.94%\n",
      "\n",
      "Processing URL 23/559\n",
      "Verarbeite URL: https://www.eversports.de/s/Polefriends-Halle\n",
      "Starte URL-Rekonstruktion...\n"
     ]
    },
    {
     "name": "stderr",
     "output_type": "stream",
     "text": [
      "2024-01-26 15:28:31,740 - INFO - Processing URL 1/5: https://www.eversports.de/s/Polefriends-Halle\n"
     ]
    },
    {
     "name": "stdout",
     "output_type": "stream",
     "text": [
      "Konvertiere in DataFrame...\n",
      "Validiere URLs...\n"
     ]
    },
    {
     "name": "stderr",
     "output_type": "stream",
     "text": [
      "2024-01-26 15:28:33,422 - INFO - URL https://www.eversports.de/s/Polefriends-Halle is valid.\n",
      "2024-01-26 15:28:33,422 - INFO - Processing URL 2/5: https://www.eversports.de/scl/Polefriends-Halle\n",
      "2024-01-26 15:28:34,841 - INFO - URL https://www.eversports.de/scl/Polefriends-Halle is valid.\n",
      "2024-01-26 15:28:34,841 - INFO - Processing URL 3/5: https://www.eversports.de/sw/Polefriends-Halle\n",
      "2024-01-26 15:28:36,224 - INFO - URL https://www.eversports.de/sw/Polefriends-Halle is valid.\n",
      "2024-01-26 15:28:36,224 - INFO - Processing URL 4/5: https://www.eversports.de/sp/Polefriends-Halle\n",
      "2024-01-26 15:28:38,856 - INFO - URL https://www.eversports.de/sp/Polefriends-Halle is valid.\n",
      "2024-01-26 15:28:38,856 - INFO - Processing URL 5/5: https://www.eversports.de/s/Polefriends-Halle/team\n",
      "2024-01-26 15:28:41,789 - INFO - URL https://www.eversports.de/s/Polefriends-Halle/team is valid.\n"
     ]
    },
    {
     "name": "stdout",
     "output_type": "stream",
     "text": [
      "Scrape Pole Studio Daten von https://www.eversports.de/s/Polefriends-Halle...\n",
      "Scrape Klassen Daten von https://www.eversports.de/scl/Polefriends-Halle...\n",
      "Scrape Klassen Details von https://www.eversports.de/scl/Polefriends-Halle...\n",
      "Scrape Workshops Daten von https://www.eversports.de/sw/Polefriends-Halle...\n",
      "Scrape Workshop Details von https://www.eversports.de/e/workshop/NMiVGZD...\n",
      "Verarbeitung abgeschlossen.\n",
      "\n",
      "Ergebnisse für URL: https://www.eversports.de/s/Polefriends-Halle\n",
      "Pole Studio Data:\n",
      "\n",
      "\n",
      "Classes Data:\n",
      "\n",
      "\n",
      "Classes Details:\n",
      "\n",
      "\n",
      "Workshops Data:\n",
      "\n",
      "\n",
      "Workshop Details:\n",
      "\n",
      "\n",
      "Progress: 4.11%\n",
      "\n",
      "Processing URL 24/559\n",
      "Verarbeite URL: https://www.eversports.de/s/-Pole-Aerial-Dance--Souldance\n",
      "Starte URL-Rekonstruktion...\n",
      "Error during HTTP request: 404 Client Error: Not Found for url: https://www.eversports.de/s/-pole-aerial-dance--souldance\n",
      "Konvertiere in DataFrame...\n",
      "Validiere URLs...\n",
      "Verarbeitung abgeschlossen.\n",
      "\n",
      "Ergebnisse für URL: https://www.eversports.de/s/-Pole-Aerial-Dance--Souldance\n",
      "Progress: 4.29%\n",
      "\n",
      "Processing URL 25/559\n",
      "Verarbeite URL: https://www.eversports.de/s/360-grad-soulsports\n",
      "Starte URL-Rekonstruktion...\n",
      "Error during HTTP request: 404 Client Error: Not Found for url: https://www.eversports.de/s/360-grad-soulsports\n",
      "Konvertiere in DataFrame...\n",
      "Validiere URLs...\n",
      "Verarbeitung abgeschlossen.\n",
      "\n",
      "Ergebnisse für URL: https://www.eversports.de/s/360-grad-soulsports\n",
      "Progress: 4.47%\n",
      "\n",
      "Processing URL 26/559\n",
      "Verarbeite URL: https://www.eversports.de/s/poledance-leipzig\n",
      "Starte URL-Rekonstruktion...\n",
      "Error during HTTP request: 404 Client Error: Not Found for url: https://www.eversports.de/s/poledance-leipzig\n",
      "Konvertiere in DataFrame...\n",
      "Validiere URLs...\n",
      "Verarbeitung abgeschlossen.\n",
      "\n",
      "Ergebnisse für URL: https://www.eversports.de/s/poledance-leipzig\n",
      "Progress: 4.65%\n",
      "\n",
      "Processing URL 27/559\n",
      "Verarbeite URL: https://www.eversports.de/s/Pole-and-Move-Ludwigshafen\n",
      "Starte URL-Rekonstruktion...\n"
     ]
    },
    {
     "name": "stderr",
     "output_type": "stream",
     "text": [
      "2024-01-26 15:30:15,724 - INFO - Processing URL 1/5: https://www.eversports.de/s/Pole-and-Move-Ludwigshafen\n"
     ]
    },
    {
     "name": "stdout",
     "output_type": "stream",
     "text": [
      "Konvertiere in DataFrame...\n",
      "Validiere URLs...\n"
     ]
    },
    {
     "name": "stderr",
     "output_type": "stream",
     "text": [
      "2024-01-26 15:30:17,374 - INFO - URL https://www.eversports.de/s/Pole-and-Move-Ludwigshafen is valid.\n",
      "2024-01-26 15:30:17,374 - INFO - Processing URL 2/5: https://www.eversports.de/scl/Pole-and-Move-Ludwigshafen\n",
      "2024-01-26 15:30:18,791 - INFO - URL https://www.eversports.de/scl/Pole-and-Move-Ludwigshafen is valid.\n",
      "2024-01-26 15:30:18,791 - INFO - Processing URL 3/5: https://www.eversports.de/sw/Pole-and-Move-Ludwigshafen\n",
      "2024-01-26 15:30:22,509 - INFO - URL https://www.eversports.de/sw/Pole-and-Move-Ludwigshafen is valid.\n",
      "2024-01-26 15:30:22,509 - INFO - Processing URL 4/5: https://www.eversports.de/sp/Pole-and-Move-Ludwigshafen\n",
      "2024-01-26 15:30:23,876 - INFO - URL https://www.eversports.de/sp/Pole-and-Move-Ludwigshafen is valid.\n",
      "2024-01-26 15:30:23,876 - INFO - Processing URL 5/5: https://www.eversports.de/s/Pole-and-Move-Ludwigshafen/team\n",
      "2024-01-26 15:30:25,443 - INFO - URL https://www.eversports.de/s/Pole-and-Move-Ludwigshafen/team is valid.\n"
     ]
    },
    {
     "name": "stdout",
     "output_type": "stream",
     "text": [
      "Scrape Pole Studio Daten von https://www.eversports.de/s/Pole-and-Move-Ludwigshafen...\n",
      "Scrape Klassen Daten von https://www.eversports.de/scl/Pole-and-Move-Ludwigshafen...\n",
      "Scrape Klassen Details von https://www.eversports.de/scl/Pole-and-Move-Ludwigshafen...\n",
      "Scrape Workshops Daten von https://www.eversports.de/sw/Pole-and-Move-Ludwigshafen...\n",
      "Scrape Workshop Details von https://www.eversports.de/e/workshop/YuOP2Ee...\n",
      "Scrape Workshop Details von https://www.eversports.de/e/workshop/aldL57L...\n",
      "Scrape Workshop Details von https://www.eversports.de/e/workshop/hz_ZPLE...\n",
      "Scrape Workshop Details von https://www.eversports.de/e/workshop/M1wKpZR...\n",
      "Scrape Workshop Details von https://www.eversports.de/e/workshop/xAIHC25...\n",
      "Scrape Workshop Details von https://www.eversports.de/e/workshop/QSBryP0...\n",
      "Scrape Workshop Details von https://www.eversports.de/e/workshop/VBYd7ZF...\n",
      "Scrape Workshop Details von https://www.eversports.de/e/workshop/zTbGfLi...\n",
      "Scrape Workshop Details von https://www.eversports.de/e/workshop/fUoSQuY...\n",
      "Verarbeitung abgeschlossen.\n",
      "\n",
      "Ergebnisse für URL: https://www.eversports.de/s/Pole-and-Move-Ludwigshafen\n",
      "Pole Studio Data:\n",
      "\n",
      "\n",
      "Classes Data:\n",
      "\n",
      "\n",
      "Classes Details:\n",
      "\n",
      "\n",
      "Workshops Data:\n",
      "\n",
      "\n",
      "Workshop Details:\n",
      "\n",
      "\n",
      "Progress: 4.83%\n",
      "\n",
      "Processing URL 28/559\n",
      "Verarbeite URL: https://www.eversports.de/s/freaky-pole-cats-cham\n",
      "Starte URL-Rekonstruktion...\n",
      "Error during HTTP request: 404 Client Error: Not Found for url: https://www.eversports.de/s/freaky-pole-cats-cham\n",
      "Konvertiere in DataFrame...\n",
      "Validiere URLs...\n",
      "Verarbeitung abgeschlossen.\n",
      "\n",
      "Ergebnisse für URL: https://www.eversports.de/s/freaky-pole-cats-cham\n",
      "Progress: 5.01%\n",
      "\n",
      "Processing URL 29/559\n",
      "Verarbeite URL: https://www.eversports.de/s/vertical-moves---pole-dance-%26-sports\n",
      "Starte URL-Rekonstruktion...\n",
      "Error during HTTP request: 404 Client Error: Not Found for url: https://www.eversports.de/s/vertical-moves---pole-dance-%26-sports\n",
      "Konvertiere in DataFrame...\n",
      "Validiere URLs...\n",
      "Verarbeitung abgeschlossen.\n",
      "\n",
      "Ergebnisse für URL: https://www.eversports.de/s/vertical-moves---pole-dance-%26-sports\n",
      "Progress: 5.19%\n",
      "\n",
      "Processing URL 30/559\n",
      "Verarbeite URL: https://www.eversports.de/s/schwerelos-bochum\n",
      "Starte URL-Rekonstruktion...\n",
      "Error during HTTP request: 404 Client Error: Not Found for url: https://www.eversports.de/s/schwerelos-bochum\n",
      "Konvertiere in DataFrame...\n",
      "Validiere URLs...\n",
      "Verarbeitung abgeschlossen.\n",
      "\n",
      "Ergebnisse für URL: https://www.eversports.de/s/schwerelos-bochum\n",
      "Progress: 5.37%\n",
      "\n",
      "Processing URL 31/559\n",
      "Verarbeite URL: https://www.eversports.de/s/pole-paradise\n",
      "Starte URL-Rekonstruktion...\n"
     ]
    },
    {
     "name": "stderr",
     "output_type": "stream",
     "text": [
      "2024-01-26 15:31:36,777 - INFO - Processing URL 1/6: https://www.eversports.de/s/pole-paradise\n"
     ]
    },
    {
     "name": "stdout",
     "output_type": "stream",
     "text": [
      "Konvertiere in DataFrame...\n",
      "Validiere URLs...\n"
     ]
    },
    {
     "name": "stderr",
     "output_type": "stream",
     "text": [
      "2024-01-26 15:31:38,911 - INFO - URL https://www.eversports.de/s/pole-paradise is valid.\n",
      "2024-01-26 15:31:38,911 - INFO - Processing URL 2/6: https://www.eversports.de/scl/pole-paradise\n",
      "2024-01-26 15:31:40,407 - INFO - URL https://www.eversports.de/scl/pole-paradise is valid.\n",
      "2024-01-26 15:31:40,408 - INFO - Processing URL 3/6: https://www.eversports.de/sw/pole-paradise\n",
      "2024-01-26 15:31:41,778 - INFO - URL https://www.eversports.de/sw/pole-paradise is valid.\n",
      "2024-01-26 15:31:41,791 - INFO - Processing URL 4/6: https://www.eversports.de/s/pole-paradise/videos\n",
      "2024-01-26 15:31:43,161 - INFO - URL https://www.eversports.de/s/pole-paradise/videos is valid.\n",
      "2024-01-26 15:31:43,161 - INFO - Processing URL 5/6: https://www.eversports.de/sp/pole-paradise\n",
      "2024-01-26 15:31:44,528 - INFO - URL https://www.eversports.de/sp/pole-paradise is valid.\n",
      "2024-01-26 15:31:44,528 - INFO - Processing URL 6/6: https://www.eversports.de/s/pole-paradise/team\n",
      "2024-01-26 15:31:45,963 - INFO - URL https://www.eversports.de/s/pole-paradise/team is valid.\n"
     ]
    },
    {
     "name": "stdout",
     "output_type": "stream",
     "text": [
      "Scrape Pole Studio Daten von https://www.eversports.de/s/pole-paradise...\n",
      "Scrape Klassen Daten von https://www.eversports.de/scl/pole-paradise...\n",
      "Scrape Klassen Details von https://www.eversports.de/scl/pole-paradise...\n",
      "Scrape Workshops Daten von https://www.eversports.de/sw/pole-paradise...\n",
      "Scrape Workshop Details von https://www.eversports.de/e/workshop/1zI8wYx...\n",
      "Scrape Workshop Details von https://www.eversports.de/e/workshop/NLk1782...\n",
      "Verarbeitung abgeschlossen.\n",
      "\n",
      "Ergebnisse für URL: https://www.eversports.de/s/pole-paradise\n",
      "Pole Studio Data:\n",
      "\n",
      "\n",
      "Classes Data:\n",
      "\n",
      "\n",
      "Classes Details:\n",
      "\n",
      "\n",
      "Workshops Data:\n",
      "\n",
      "\n",
      "Workshop Details:\n",
      "\n",
      "\n",
      "Progress: 5.55%\n",
      "\n",
      "Processing URL 32/559\n",
      "Verarbeite URL: https://www.eversports.de/s/pole-room-%2F-poledance-%26-bodyworks\n",
      "Starte URL-Rekonstruktion...\n",
      "Error during HTTP request: Exceeded 30 redirects.\n",
      "Konvertiere in DataFrame...\n",
      "Validiere URLs...\n",
      "Verarbeitung abgeschlossen.\n",
      "\n",
      "Ergebnisse für URL: https://www.eversports.de/s/pole-room-%2F-poledance-%26-bodyworks\n",
      "Progress: 5.72%\n",
      "\n",
      "Processing URL 33/559\n",
      "Verarbeite URL: https://www.eversports.de/s/UpsideDown-Studio-Friedrichsdorf\n",
      "Starte URL-Rekonstruktion...\n"
     ]
    },
    {
     "name": "stderr",
     "output_type": "stream",
     "text": [
      "2024-01-26 15:34:01,731 - INFO - Processing URL 1/5: https://www.eversports.de/s/UpsideDown-Studio-Friedrichsdorf\n"
     ]
    },
    {
     "name": "stdout",
     "output_type": "stream",
     "text": [
      "Konvertiere in DataFrame...\n",
      "Validiere URLs...\n"
     ]
    },
    {
     "name": "stderr",
     "output_type": "stream",
     "text": [
      "2024-01-26 15:34:03,547 - INFO - URL https://www.eversports.de/s/UpsideDown-Studio-Friedrichsdorf is valid.\n",
      "2024-01-26 15:34:03,547 - INFO - Processing URL 2/5: https://www.eversports.de/scl/UpsideDown-Studio-Friedrichsdorf\n",
      "2024-01-26 15:34:04,912 - INFO - URL https://www.eversports.de/scl/UpsideDown-Studio-Friedrichsdorf is valid.\n",
      "2024-01-26 15:34:04,913 - INFO - Processing URL 3/5: https://www.eversports.de/s/UpsideDown-Studio-Friedrichsdorf/kurse\n",
      "2024-01-26 15:34:06,214 - INFO - URL https://www.eversports.de/s/UpsideDown-Studio-Friedrichsdorf/kurse is not valid.\n",
      "2024-01-26 15:34:06,214 - INFO - Processing URL 4/5: https://www.eversports.de/sp/UpsideDown-Studio-Friedrichsdorf\n",
      "2024-01-26 15:34:07,997 - INFO - URL https://www.eversports.de/sp/UpsideDown-Studio-Friedrichsdorf is valid.\n",
      "2024-01-26 15:34:07,997 - INFO - Processing URL 5/5: https://www.eversports.de/s/UpsideDown-Studio-Friedrichsdorf/team\n",
      "2024-01-26 15:34:09,498 - INFO - URL https://www.eversports.de/s/UpsideDown-Studio-Friedrichsdorf/team is valid.\n"
     ]
    },
    {
     "name": "stdout",
     "output_type": "stream",
     "text": [
      "Scrape Pole Studio Daten von https://www.eversports.de/s/UpsideDown-Studio-Friedrichsdorf...\n",
      "Scrape Klassen Daten von https://www.eversports.de/scl/UpsideDown-Studio-Friedrichsdorf...\n",
      "Scrape Klassen Details von https://www.eversports.de/scl/UpsideDown-Studio-Friedrichsdorf...\n",
      "Fehler beim Abrufen der Webseite\n",
      "Verarbeitung abgeschlossen.\n",
      "\n",
      "Ergebnisse für URL: https://www.eversports.de/s/UpsideDown-Studio-Friedrichsdorf\n",
      "Pole Studio Data:\n",
      "\n",
      "\n",
      "Classes Data:\n",
      "\n",
      "\n",
      "Classes Details:\n",
      "\n",
      "\n",
      "Progress: 5.90%\n",
      "\n",
      "Processing URL 34/559\n",
      "Verarbeite URL: https://www.eversports.de/s/Pole-Faction---Pole-Dance-&-Fitness\n",
      "Starte URL-Rekonstruktion...\n",
      "Error during HTTP request: 404 Client Error: Not Found for url: https://www.eversports.de/s/Pole-Faction---Pole-Dance-&-Fitness\n",
      "Konvertiere in DataFrame...\n",
      "Validiere URLs...\n",
      "Verarbeitung abgeschlossen.\n",
      "\n",
      "Ergebnisse für URL: https://www.eversports.de/s/Pole-Faction---Pole-Dance-&-Fitness\n",
      "Progress: 6.08%\n",
      "\n",
      "Processing URL 35/559\n",
      "Verarbeite URL: https://www.eversports.de/s/bodysoul-studio-düsseldorf\n",
      "Starte URL-Rekonstruktion...\n",
      "Error during HTTP request: Exceeded 30 redirects.\n",
      "Konvertiere in DataFrame...\n",
      "Validiere URLs...\n",
      "Verarbeitung abgeschlossen.\n",
      "\n",
      "Ergebnisse für URL: https://www.eversports.de/s/bodysoul-studio-düsseldorf\n",
      "Progress: 6.26%\n",
      "\n",
      "Processing URL 36/559\n",
      "Verarbeite URL: https://www.eversports.de/s/firstsports---polefitness\n",
      "Starte URL-Rekonstruktion...\n",
      "Error during HTTP request: 404 Client Error: Not Found for url: https://www.eversports.de/s/firstsports---polefitness\n",
      "Konvertiere in DataFrame...\n",
      "Validiere URLs...\n",
      "Verarbeitung abgeschlossen.\n",
      "\n",
      "Ergebnisse für URL: https://www.eversports.de/s/firstsports---polefitness\n",
      "Progress: 6.44%\n",
      "\n",
      "Processing URL 37/559\n",
      "Verarbeite URL: https://www.eversports.de/s/polesports-studio-buchholz\n",
      "Starte URL-Rekonstruktion...\n",
      "Error during HTTP request: 404 Client Error: Not Found for url: https://www.eversports.de/s/polesports-studio-buchholz\n",
      "Konvertiere in DataFrame...\n",
      "Validiere URLs...\n",
      "Verarbeitung abgeschlossen.\n",
      "\n",
      "Ergebnisse für URL: https://www.eversports.de/s/polesports-studio-buchholz\n",
      "Progress: 6.62%\n",
      "\n",
      "Processing URL 38/559\n",
      "Verarbeite URL: https://www.eversports.de/s/Polestructions\n",
      "Starte URL-Rekonstruktion...\n"
     ]
    },
    {
     "name": "stderr",
     "output_type": "stream",
     "text": [
      "2024-01-26 15:34:55,862 - INFO - Processing URL 1/5: https://www.eversports.de/s/Polestructions\n"
     ]
    },
    {
     "name": "stdout",
     "output_type": "stream",
     "text": [
      "Konvertiere in DataFrame...\n",
      "Validiere URLs...\n"
     ]
    },
    {
     "name": "stderr",
     "output_type": "stream",
     "text": [
      "2024-01-26 15:34:57,586 - INFO - URL https://www.eversports.de/s/Polestructions is valid.\n",
      "2024-01-26 15:34:57,586 - INFO - Processing URL 2/5: https://www.eversports.de/scl/Polestructions\n",
      "2024-01-26 15:34:59,197 - INFO - URL https://www.eversports.de/scl/Polestructions is valid.\n",
      "2024-01-26 15:34:59,197 - INFO - Processing URL 3/5: https://www.eversports.de/s/Polestructions/videos\n",
      "2024-01-26 15:35:00,614 - INFO - URL https://www.eversports.de/s/Polestructions/videos is valid.\n",
      "2024-01-26 15:35:00,614 - INFO - Processing URL 4/5: https://www.eversports.de/sp/Polestructions\n",
      "2024-01-26 15:35:02,098 - INFO - URL https://www.eversports.de/sp/Polestructions is valid.\n",
      "2024-01-26 15:35:02,098 - INFO - Processing URL 5/5: https://www.eversports.de/s/Polestructions/team\n",
      "2024-01-26 15:35:04,980 - INFO - URL https://www.eversports.de/s/Polestructions/team is valid.\n"
     ]
    },
    {
     "name": "stdout",
     "output_type": "stream",
     "text": [
      "Scrape Pole Studio Daten von https://www.eversports.de/s/Polestructions...\n",
      "Scrape Klassen Daten von https://www.eversports.de/scl/Polestructions...\n",
      "Scrape Klassen Details von https://www.eversports.de/scl/Polestructions...\n",
      "Verarbeitung abgeschlossen.\n",
      "\n",
      "Ergebnisse für URL: https://www.eversports.de/s/Polestructions\n",
      "Pole Studio Data:\n",
      "\n",
      "\n",
      "Classes Data:\n",
      "\n",
      "\n",
      "Classes Details:\n",
      "\n",
      "\n",
      "Progress: 6.80%\n",
      "\n",
      "Processing URL 39/559\n",
      "Verarbeite URL: https://www.eversports.de/s/health-&-shape-münchen\n",
      "Starte URL-Rekonstruktion...\n",
      "Error during HTTP request: 404 Client Error: Not Found for url: https://www.eversports.de/s/health-&-shape-m%C3%BCnchen\n",
      "Konvertiere in DataFrame...\n",
      "Validiere URLs...\n",
      "Verarbeitung abgeschlossen.\n",
      "\n",
      "Ergebnisse für URL: https://www.eversports.de/s/health-&-shape-münchen\n",
      "Progress: 6.98%\n",
      "\n",
      "Processing URL 40/559\n",
      "Verarbeite URL: https://www.eversports.de/s/POLEDANCE-NRW\n",
      "Starte URL-Rekonstruktion...\n"
     ]
    },
    {
     "name": "stderr",
     "output_type": "stream",
     "text": [
      "2024-01-26 15:38:45,819 - INFO - Processing URL 1/3: https://www.eversports.de/s/POLEDANCE-NRW\n"
     ]
    },
    {
     "name": "stdout",
     "output_type": "stream",
     "text": [
      "Konvertiere in DataFrame...\n",
      "Validiere URLs...\n"
     ]
    },
    {
     "name": "stderr",
     "output_type": "stream",
     "text": [
      "2024-01-26 15:38:47,386 - INFO - URL https://www.eversports.de/s/POLEDANCE-NRW is valid.\n",
      "2024-01-26 15:38:47,386 - INFO - Processing URL 2/3: https://www.eversports.de/s/POLEDANCE-NRW/videos\n",
      "2024-01-26 15:38:48,853 - INFO - URL https://www.eversports.de/s/POLEDANCE-NRW/videos is valid.\n",
      "2024-01-26 15:38:48,853 - INFO - Processing URL 3/3: https://www.eversports.de/sp/POLEDANCE-NRW\n",
      "2024-01-26 15:38:50,218 - INFO - URL https://www.eversports.de/sp/POLEDANCE-NRW is valid.\n"
     ]
    },
    {
     "name": "stdout",
     "output_type": "stream",
     "text": [
      "Scrape Pole Studio Daten von https://www.eversports.de/s/POLEDANCE-NRW...\n",
      "Verarbeitung abgeschlossen.\n",
      "\n",
      "Ergebnisse für URL: https://www.eversports.de/s/POLEDANCE-NRW\n",
      "Pole Studio Data:\n",
      "\n",
      "\n",
      "Progress: 7.16%\n",
      "\n",
      "Processing URL 41/559\n",
      "Verarbeite URL: https://www.eversports.de/s/dayuma---pole-&-acrobatics\n",
      "Starte URL-Rekonstruktion...\n",
      "Error during HTTP request: 404 Client Error: Not Found for url: https://www.eversports.de/s/dayuma---pole-&-acrobatics\n",
      "Konvertiere in DataFrame...\n",
      "Validiere URLs...\n",
      "Verarbeitung abgeschlossen.\n",
      "\n",
      "Ergebnisse für URL: https://www.eversports.de/s/dayuma---pole-&-acrobatics\n",
      "Progress: 7.33%\n",
      "\n",
      "Processing URL 42/559\n",
      "Verarbeite URL: https://www.eversports.de/s/PoleCreation\n",
      "Starte URL-Rekonstruktion...\n"
     ]
    },
    {
     "name": "stderr",
     "output_type": "stream",
     "text": [
      "2024-01-26 15:38:53,770 - INFO - Processing URL 1/5: https://www.eversports.de/s/PoleCreation\n"
     ]
    },
    {
     "name": "stdout",
     "output_type": "stream",
     "text": [
      "Konvertiere in DataFrame...\n",
      "Validiere URLs...\n"
     ]
    },
    {
     "name": "stderr",
     "output_type": "stream",
     "text": [
      "2024-01-26 15:38:56,254 - INFO - URL https://www.eversports.de/s/PoleCreation is valid.\n",
      "2024-01-26 15:38:56,254 - INFO - Processing URL 2/5: https://www.eversports.de/scl/PoleCreation\n",
      "2024-01-26 15:38:57,634 - INFO - URL https://www.eversports.de/scl/PoleCreation is valid.\n",
      "2024-01-26 15:38:57,634 - INFO - Processing URL 3/5: https://www.eversports.de/sw/PoleCreation\n",
      "2024-01-26 15:38:59,238 - INFO - URL https://www.eversports.de/sw/PoleCreation is valid.\n",
      "2024-01-26 15:38:59,239 - INFO - Processing URL 4/5: https://www.eversports.de/sp/PoleCreation\n",
      "2024-01-26 15:39:00,636 - INFO - URL https://www.eversports.de/sp/PoleCreation is valid.\n",
      "2024-01-26 15:39:00,636 - INFO - Processing URL 5/5: https://www.eversports.de/s/PoleCreation/team\n",
      "2024-01-26 15:39:04,686 - INFO - URL https://www.eversports.de/s/PoleCreation/team is valid.\n"
     ]
    },
    {
     "name": "stdout",
     "output_type": "stream",
     "text": [
      "Scrape Pole Studio Daten von https://www.eversports.de/s/PoleCreation...\n",
      "Scrape Klassen Daten von https://www.eversports.de/scl/PoleCreation...\n",
      "Scrape Klassen Details von https://www.eversports.de/scl/PoleCreation...\n",
      "Scrape Workshops Daten von https://www.eversports.de/sw/PoleCreation...\n",
      "Scrape Workshop Details von https://www.eversports.de/e/workshop/bmZxua4...\n",
      "Scrape Workshop Details von https://www.eversports.de/e/workshop/qcRMhzd...\n",
      "Scrape Workshop Details von https://www.eversports.de/e/workshop/Zj0NETg...\n",
      "Verarbeitung abgeschlossen.\n",
      "\n",
      "Ergebnisse für URL: https://www.eversports.de/s/PoleCreation\n",
      "Pole Studio Data:\n",
      "\n",
      "\n",
      "Classes Data:\n",
      "\n",
      "\n",
      "Classes Details:\n",
      "\n",
      "\n",
      "Workshops Data:\n",
      "\n",
      "\n",
      "Workshop Details:\n",
      "\n",
      "\n",
      "Progress: 7.51%\n",
      "\n",
      "Processing URL 43/559\n",
      "Verarbeite URL: https://www.eversports.de/s/YH-Pole-(and)-Sports-Berlin\n",
      "Starte URL-Rekonstruktion...\n",
      "Error during HTTP request: 404 Client Error: Not Found for url: https://www.eversports.de/s/YH-Pole-(and)-Sports-Berlin\n",
      "Konvertiere in DataFrame...\n",
      "Validiere URLs...\n",
      "Verarbeitung abgeschlossen.\n",
      "\n",
      "Ergebnisse für URL: https://www.eversports.de/s/YH-Pole-(and)-Sports-Berlin\n",
      "Progress: 7.69%\n",
      "\n",
      "Processing URL 44/559\n",
      "Verarbeite URL: https://www.eversports.de/s/the-basement-pole-dance-and-movement\n",
      "Starte URL-Rekonstruktion...\n"
     ]
    },
    {
     "name": "stderr",
     "output_type": "stream",
     "text": [
      "2024-01-26 15:40:09,885 - INFO - Processing URL 1/1: https://www.eversports.de/s/the-basement-pole-dance-and-movement\n"
     ]
    },
    {
     "name": "stdout",
     "output_type": "stream",
     "text": [
      "Konvertiere in DataFrame...\n",
      "Validiere URLs...\n"
     ]
    },
    {
     "name": "stderr",
     "output_type": "stream",
     "text": [
      "2024-01-26 15:40:11,436 - INFO - URL https://www.eversports.de/s/the-basement-pole-dance-and-movement is valid.\n"
     ]
    },
    {
     "name": "stdout",
     "output_type": "stream",
     "text": [
      "Scrape Pole Studio Daten von https://www.eversports.de/s/the-basement-pole-dance-and-movement...\n",
      "Verarbeitung abgeschlossen.\n",
      "\n",
      "Ergebnisse für URL: https://www.eversports.de/s/the-basement-pole-dance-and-movement\n",
      "Pole Studio Data:\n",
      "\n",
      "\n",
      "Progress: 7.87%\n",
      "\n",
      "Processing URL 45/559\n",
      "Verarbeite URL: https://www.eversports.de/s/flyhigh\n",
      "Starte URL-Rekonstruktion...\n",
      "Error during HTTP request: 404 Client Error: Not Found for url: https://www.eversports.de/s/flyhigh\n",
      "Konvertiere in DataFrame...\n",
      "Validiere URLs...\n",
      "Verarbeitung abgeschlossen.\n",
      "\n",
      "Ergebnisse für URL: https://www.eversports.de/s/flyhigh\n",
      "Progress: 8.05%\n",
      "\n",
      "Processing URL 46/559\n",
      "Verarbeite URL: https://www.eversports.de/s/Pole-Arts\n",
      "Starte URL-Rekonstruktion...\n"
     ]
    },
    {
     "name": "stderr",
     "output_type": "stream",
     "text": [
      "2024-01-26 15:40:14,969 - INFO - Processing URL 1/5: https://www.eversports.de/s/Pole-Arts\n"
     ]
    },
    {
     "name": "stdout",
     "output_type": "stream",
     "text": [
      "Konvertiere in DataFrame...\n",
      "Validiere URLs...\n"
     ]
    },
    {
     "name": "stderr",
     "output_type": "stream",
     "text": [
      "2024-01-26 15:40:16,520 - INFO - URL https://www.eversports.de/s/Pole-Arts is valid.\n",
      "2024-01-26 15:40:16,520 - INFO - Processing URL 2/5: https://www.eversports.de/scl/Pole-Arts\n",
      "2024-01-26 15:40:17,853 - INFO - URL https://www.eversports.de/scl/Pole-Arts is valid.\n",
      "2024-01-26 15:40:17,853 - INFO - Processing URL 3/5: https://www.eversports.de/s/Pole-Arts/kurse\n",
      "2024-01-26 15:40:19,121 - INFO - URL https://www.eversports.de/s/Pole-Arts/kurse is not valid.\n",
      "2024-01-26 15:40:19,121 - INFO - Processing URL 4/5: https://www.eversports.de/sp/Pole-Arts\n",
      "2024-01-26 15:40:20,554 - INFO - URL https://www.eversports.de/sp/Pole-Arts is valid.\n",
      "2024-01-26 15:40:20,555 - INFO - Processing URL 5/5: https://www.eversports.de/s/Pole-Arts/team\n",
      "2024-01-26 15:40:22,037 - INFO - URL https://www.eversports.de/s/Pole-Arts/team is valid.\n"
     ]
    },
    {
     "name": "stdout",
     "output_type": "stream",
     "text": [
      "Scrape Pole Studio Daten von https://www.eversports.de/s/Pole-Arts...\n",
      "Scrape Klassen Daten von https://www.eversports.de/scl/Pole-Arts...\n",
      "Scrape Klassen Details von https://www.eversports.de/scl/Pole-Arts...\n",
      "Verarbeitung abgeschlossen.\n",
      "\n",
      "Ergebnisse für URL: https://www.eversports.de/s/Pole-Arts\n",
      "Pole Studio Data:\n",
      "\n",
      "\n",
      "Classes Data:\n",
      "\n",
      "\n",
      "Classes Details:\n",
      "\n",
      "\n",
      "Progress: 8.23%\n",
      "\n",
      "Processing URL 47/559\n",
      "Verarbeite URL: https://www.eversports.de/s/Annaconda-Pole-&-Fitness\n",
      "Starte URL-Rekonstruktion...\n",
      "Error during HTTP request: 404 Client Error: Not Found for url: https://www.eversports.de/s/Annaconda-Pole-&-Fitness\n",
      "Konvertiere in DataFrame...\n",
      "Validiere URLs...\n",
      "Verarbeitung abgeschlossen.\n",
      "\n",
      "Ergebnisse für URL: https://www.eversports.de/s/Annaconda-Pole-&-Fitness\n",
      "Progress: 8.41%\n",
      "\n",
      "Processing URL 48/559\n",
      "Verarbeite URL: https://www.eversports.de/s/polelove-bremen\n",
      "Starte URL-Rekonstruktion...\n",
      "Error during HTTP request: 404 Client Error: Not Found for url: https://www.eversports.de/s/polelove-bremen\n",
      "Konvertiere in DataFrame...\n",
      "Validiere URLs...\n",
      "Verarbeitung abgeschlossen.\n",
      "\n",
      "Ergebnisse für URL: https://www.eversports.de/s/polelove-bremen\n",
      "Progress: 8.59%\n",
      "\n",
      "Processing URL 49/559\n",
      "Verarbeite URL: https://www.eversports.de/s/pole-circus-a-+-k\n",
      "Starte URL-Rekonstruktion...\n",
      "Error during HTTP request: 404 Client Error: Not Found for url: https://www.eversports.de/s/pole-circus-a-+-k\n",
      "Konvertiere in DataFrame...\n",
      "Validiere URLs...\n",
      "Verarbeitung abgeschlossen.\n",
      "\n",
      "Ergebnisse für URL: https://www.eversports.de/s/pole-circus-a-+-k\n",
      "Progress: 8.77%\n",
      "\n",
      "Processing URL 50/559\n",
      "Verarbeite URL: https://www.eversports.de/s/Flow-Fusion-Pole-Aerial-Dance-Studio\n",
      "Starte URL-Rekonstruktion...\n"
     ]
    },
    {
     "name": "stderr",
     "output_type": "stream",
     "text": [
      "2024-01-26 15:41:13,837 - INFO - Processing URL 1/5: https://www.eversports.de/s/Flow-Fusion-Pole-Aerial-Dance-Studio\n"
     ]
    },
    {
     "name": "stdout",
     "output_type": "stream",
     "text": [
      "Konvertiere in DataFrame...\n",
      "Validiere URLs...\n"
     ]
    },
    {
     "name": "stderr",
     "output_type": "stream",
     "text": [
      "2024-01-26 15:41:15,539 - INFO - URL https://www.eversports.de/s/Flow-Fusion-Pole-Aerial-Dance-Studio is valid.\n",
      "2024-01-26 15:41:15,540 - INFO - Processing URL 2/5: https://www.eversports.de/scl/Flow-Fusion-Pole-Aerial-Dance-Studio\n",
      "2024-01-26 15:41:16,872 - INFO - URL https://www.eversports.de/scl/Flow-Fusion-Pole-Aerial-Dance-Studio is valid.\n",
      "2024-01-26 15:41:16,872 - INFO - Processing URL 3/5: https://www.eversports.de/sw/Flow-Fusion-Pole-Aerial-Dance-Studio\n",
      "2024-01-26 15:41:18,238 - INFO - URL https://www.eversports.de/sw/Flow-Fusion-Pole-Aerial-Dance-Studio is valid.\n",
      "2024-01-26 15:41:18,238 - INFO - Processing URL 4/5: https://www.eversports.de/sp/Flow-Fusion-Pole-Aerial-Dance-Studio\n",
      "2024-01-26 15:41:19,589 - INFO - URL https://www.eversports.de/sp/Flow-Fusion-Pole-Aerial-Dance-Studio is valid.\n",
      "2024-01-26 15:41:19,589 - INFO - Processing URL 5/5: https://www.eversports.de/s/Flow-Fusion-Pole-Aerial-Dance-Studio/team\n",
      "2024-01-26 15:41:21,121 - INFO - URL https://www.eversports.de/s/Flow-Fusion-Pole-Aerial-Dance-Studio/team is valid.\n"
     ]
    },
    {
     "name": "stdout",
     "output_type": "stream",
     "text": [
      "Scrape Pole Studio Daten von https://www.eversports.de/s/Flow-Fusion-Pole-Aerial-Dance-Studio...\n",
      "Scrape Klassen Daten von https://www.eversports.de/scl/Flow-Fusion-Pole-Aerial-Dance-Studio...\n",
      "Scrape Klassen Details von https://www.eversports.de/scl/Flow-Fusion-Pole-Aerial-Dance-Studio...\n",
      "Scrape Workshops Daten von https://www.eversports.de/sw/Flow-Fusion-Pole-Aerial-Dance-Studio...\n",
      "Scrape Workshop Details von https://www.eversports.de/e/workshop/pcj6I1Q...\n",
      "Verarbeitung abgeschlossen.\n",
      "\n",
      "Ergebnisse für URL: https://www.eversports.de/s/Flow-Fusion-Pole-Aerial-Dance-Studio\n",
      "Pole Studio Data:\n",
      "\n",
      "\n",
      "Classes Data:\n",
      "\n",
      "\n",
      "Classes Details:\n",
      "\n",
      "\n",
      "Workshops Data:\n",
      "\n",
      "\n",
      "Workshop Details:\n",
      "\n",
      "\n",
      "Progress: 8.94%\n",
      "\n",
      "Processing URL 51/559\n",
      "Verarbeite URL: https://www.eversports.de/s/incredipole---pole-%26-fitness-by-carolin\n",
      "Starte URL-Rekonstruktion...\n",
      "Error during HTTP request: 404 Client Error: Not Found for url: https://www.eversports.de/s/incredipole---pole-%26-fitness-by-carolin\n",
      "Konvertiere in DataFrame...\n",
      "Validiere URLs...\n",
      "Verarbeitung abgeschlossen.\n",
      "\n",
      "Ergebnisse für URL: https://www.eversports.de/s/incredipole---pole-%26-fitness-by-carolin\n",
      "Progress: 9.12%\n",
      "\n",
      "Processing URL 52/559\n",
      "Verarbeite URL: https://www.eversports.de/s/Muse-Pole-Dance\n",
      "Starte URL-Rekonstruktion...\n"
     ]
    },
    {
     "name": "stderr",
     "output_type": "stream",
     "text": [
      "2024-01-26 15:42:16,806 - INFO - Processing URL 1/1: https://www.eversports.de/s/Muse-Pole-Dance\n"
     ]
    },
    {
     "name": "stdout",
     "output_type": "stream",
     "text": [
      "Konvertiere in DataFrame...\n",
      "Validiere URLs...\n"
     ]
    },
    {
     "name": "stderr",
     "output_type": "stream",
     "text": [
      "2024-01-26 15:42:18,339 - INFO - URL https://www.eversports.de/s/Muse-Pole-Dance is valid.\n"
     ]
    },
    {
     "name": "stdout",
     "output_type": "stream",
     "text": [
      "Scrape Pole Studio Daten von https://www.eversports.de/s/Muse-Pole-Dance...\n",
      "Verarbeitung abgeschlossen.\n",
      "\n",
      "Ergebnisse für URL: https://www.eversports.de/s/Muse-Pole-Dance\n",
      "Pole Studio Data:\n",
      "\n",
      "\n",
      "Progress: 9.30%\n",
      "\n",
      "Processing URL 53/559\n",
      "Verarbeite URL: https://www.eversports.de/s/anni's-pole-dance-neumünster\n",
      "Starte URL-Rekonstruktion...\n",
      "Error during HTTP request: 404 Client Error: Not Found for url: https://www.eversports.de/s/anni's-pole-dance-neum%C3%BCnster\n",
      "Konvertiere in DataFrame...\n",
      "Validiere URLs...\n",
      "Verarbeitung abgeschlossen.\n",
      "\n",
      "Ergebnisse für URL: https://www.eversports.de/s/anni's-pole-dance-neumünster\n",
      "Progress: 9.48%\n",
      "\n",
      "Processing URL 54/559\n",
      "Verarbeite URL: https://www.eversports.de/s/Pole-Dance-Beauties\n",
      "Starte URL-Rekonstruktion...\n"
     ]
    },
    {
     "name": "stderr",
     "output_type": "stream",
     "text": [
      "2024-01-26 15:42:21,972 - INFO - Processing URL 1/6: https://www.eversports.de/s/Pole-Dance-Beauties\n"
     ]
    },
    {
     "name": "stdout",
     "output_type": "stream",
     "text": [
      "Konvertiere in DataFrame...\n",
      "Validiere URLs...\n"
     ]
    },
    {
     "name": "stderr",
     "output_type": "stream",
     "text": [
      "2024-01-26 15:42:24,174 - INFO - URL https://www.eversports.de/s/Pole-Dance-Beauties is valid.\n",
      "2024-01-26 15:42:24,174 - INFO - Processing URL 2/6: https://www.eversports.de/scl/Pole-Dance-Beauties\n",
      "2024-01-26 15:42:25,757 - INFO - URL https://www.eversports.de/scl/Pole-Dance-Beauties is valid.\n",
      "2024-01-26 15:42:25,757 - INFO - Processing URL 3/6: https://www.eversports.de/s/Pole-Dance-Beauties/kurse\n",
      "2024-01-26 15:42:27,090 - INFO - URL https://www.eversports.de/s/Pole-Dance-Beauties/kurse is not valid.\n",
      "2024-01-26 15:42:27,090 - INFO - Processing URL 4/6: https://www.eversports.de/s/Pole-Dance-Beauties/videos\n",
      "2024-01-26 15:42:29,623 - INFO - URL https://www.eversports.de/s/Pole-Dance-Beauties/videos is valid.\n",
      "2024-01-26 15:42:29,623 - INFO - Processing URL 5/6: https://www.eversports.de/sp/Pole-Dance-Beauties\n",
      "2024-01-26 15:42:30,990 - INFO - URL https://www.eversports.de/sp/Pole-Dance-Beauties is valid.\n",
      "2024-01-26 15:42:30,990 - INFO - Processing URL 6/6: https://www.eversports.de/s/Pole-Dance-Beauties/team\n",
      "2024-01-26 15:42:32,472 - INFO - URL https://www.eversports.de/s/Pole-Dance-Beauties/team is valid.\n"
     ]
    },
    {
     "name": "stdout",
     "output_type": "stream",
     "text": [
      "Scrape Pole Studio Daten von https://www.eversports.de/s/Pole-Dance-Beauties...\n",
      "Scrape Klassen Daten von https://www.eversports.de/scl/Pole-Dance-Beauties...\n",
      "Scrape Klassen Details von https://www.eversports.de/scl/Pole-Dance-Beauties...\n",
      "Verarbeitung abgeschlossen.\n",
      "\n",
      "Ergebnisse für URL: https://www.eversports.de/s/Pole-Dance-Beauties\n",
      "Pole Studio Data:\n",
      "\n",
      "\n",
      "Classes Data:\n",
      "\n",
      "\n",
      "Classes Details:\n",
      "\n",
      "\n",
      "Progress: 9.66%\n",
      "\n",
      "Processing URL 55/559\n",
      "Verarbeite URL: https://www.eversports.de/s/pole-acrobatics-deggingen\n",
      "Starte URL-Rekonstruktion...\n",
      "Error during HTTP request: 404 Client Error: Not Found for url: https://www.eversports.de/s/pole-acrobatics-deggingen\n",
      "Konvertiere in DataFrame...\n",
      "Validiere URLs...\n",
      "Verarbeitung abgeschlossen.\n",
      "\n",
      "Ergebnisse für URL: https://www.eversports.de/s/pole-acrobatics-deggingen\n",
      "Progress: 9.84%\n",
      "\n",
      "Processing URL 56/559\n",
      "Verarbeite URL: https://www.eversports.de/s/upsidedown-studio-friedrichsdorf\n",
      "Starte URL-Rekonstruktion...\n"
     ]
    },
    {
     "name": "stderr",
     "output_type": "stream",
     "text": [
      "2024-01-26 15:43:11,960 - INFO - Processing URL 1/5: https://www.eversports.de/s/upsidedown-studio-friedrichsdorf\n"
     ]
    },
    {
     "name": "stdout",
     "output_type": "stream",
     "text": [
      "Konvertiere in DataFrame...\n",
      "Validiere URLs...\n"
     ]
    },
    {
     "name": "stderr",
     "output_type": "stream",
     "text": [
      "2024-01-26 15:43:13,463 - INFO - URL https://www.eversports.de/s/upsidedown-studio-friedrichsdorf is valid.\n",
      "2024-01-26 15:43:13,463 - INFO - Processing URL 2/5: https://www.eversports.de/scl/upsidedown-studio-friedrichsdorf\n",
      "2024-01-26 15:43:14,771 - INFO - URL https://www.eversports.de/scl/upsidedown-studio-friedrichsdorf is valid.\n",
      "2024-01-26 15:43:14,786 - INFO - Processing URL 3/5: https://www.eversports.de/s/upsidedown-studio-friedrichsdorf/kurse\n",
      "2024-01-26 15:43:16,075 - INFO - URL https://www.eversports.de/s/upsidedown-studio-friedrichsdorf/kurse is not valid.\n",
      "2024-01-26 15:43:16,075 - INFO - Processing URL 4/5: https://www.eversports.de/sp/upsidedown-studio-friedrichsdorf\n",
      "2024-01-26 15:43:17,458 - INFO - URL https://www.eversports.de/sp/upsidedown-studio-friedrichsdorf is valid.\n",
      "2024-01-26 15:43:17,460 - INFO - Processing URL 5/5: https://www.eversports.de/s/upsidedown-studio-friedrichsdorf/team\n",
      "2024-01-26 15:43:18,894 - INFO - URL https://www.eversports.de/s/upsidedown-studio-friedrichsdorf/team is valid.\n"
     ]
    },
    {
     "name": "stdout",
     "output_type": "stream",
     "text": [
      "Scrape Pole Studio Daten von https://www.eversports.de/s/upsidedown-studio-friedrichsdorf...\n",
      "Scrape Klassen Daten von https://www.eversports.de/scl/upsidedown-studio-friedrichsdorf...\n",
      "Scrape Klassen Details von https://www.eversports.de/scl/upsidedown-studio-friedrichsdorf...\n",
      "Verarbeitung abgeschlossen.\n",
      "\n",
      "Ergebnisse für URL: https://www.eversports.de/s/upsidedown-studio-friedrichsdorf\n",
      "Pole Studio Data:\n",
      "\n",
      "\n",
      "Classes Data:\n",
      "\n",
      "\n",
      "Classes Details:\n",
      "\n",
      "\n",
      "Progress: 10.02%\n",
      "\n",
      "Processing URL 57/559\n",
      "Verarbeite URL: https://www.eversports.de/s/Pura-Studio\n",
      "Starte URL-Rekonstruktion...\n"
     ]
    },
    {
     "name": "stderr",
     "output_type": "stream",
     "text": [
      "2024-01-26 15:43:58,472 - INFO - Processing URL 1/5: https://www.eversports.de/s/Pura-Studio\n"
     ]
    },
    {
     "name": "stdout",
     "output_type": "stream",
     "text": [
      "Konvertiere in DataFrame...\n",
      "Validiere URLs...\n"
     ]
    },
    {
     "name": "stderr",
     "output_type": "stream",
     "text": [
      "2024-01-26 15:44:00,740 - INFO - URL https://www.eversports.de/s/Pura-Studio is valid.\n",
      "2024-01-26 15:44:00,742 - INFO - Processing URL 2/5: https://www.eversports.de/scl/Pura-Studio\n",
      "2024-01-26 15:44:02,446 - INFO - URL https://www.eversports.de/scl/Pura-Studio is valid.\n",
      "2024-01-26 15:44:02,447 - INFO - Processing URL 3/5: https://www.eversports.de/sw/Pura-Studio\n",
      "2024-01-26 15:44:04,163 - INFO - URL https://www.eversports.de/sw/Pura-Studio is valid.\n",
      "2024-01-26 15:44:04,164 - INFO - Processing URL 4/5: https://www.eversports.de/sp/Pura-Studio\n",
      "2024-01-26 15:44:05,989 - INFO - URL https://www.eversports.de/sp/Pura-Studio is valid.\n",
      "2024-01-26 15:44:05,991 - INFO - Processing URL 5/5: https://www.eversports.de/s/Pura-Studio/team\n",
      "2024-01-26 15:44:08,410 - INFO - URL https://www.eversports.de/s/Pura-Studio/team is valid.\n"
     ]
    },
    {
     "name": "stdout",
     "output_type": "stream",
     "text": [
      "Scrape Pole Studio Daten von https://www.eversports.de/s/Pura-Studio...\n",
      "Scrape Klassen Daten von https://www.eversports.de/scl/Pura-Studio...\n",
      "Scrape Klassen Details von https://www.eversports.de/scl/Pura-Studio...\n",
      "Scrape Workshops Daten von https://www.eversports.de/sw/Pura-Studio...\n",
      "Scrape Workshop Details von https://www.eversports.de/e/workshop/4v8G7Xw...\n",
      "Scrape Workshop Details von https://www.eversports.de/e/workshop/Gc0_BuG...\n",
      "Scrape Workshop Details von https://www.eversports.de/e/workshop/BItjT7x...\n",
      "Scrape Workshop Details von https://www.eversports.de/e/workshop/7N6VOLN...\n",
      "Scrape Workshop Details von https://www.eversports.de/e/workshop/fIWcXIY...\n",
      "Scrape Workshop Details von https://www.eversports.de/e/workshop/aaXFGLh...\n",
      "Verarbeitung abgeschlossen.\n",
      "\n",
      "Ergebnisse für URL: https://www.eversports.de/s/Pura-Studio\n",
      "Pole Studio Data:\n",
      "\n",
      "\n",
      "Classes Data:\n",
      "\n",
      "\n",
      "Classes Details:\n",
      "\n",
      "\n",
      "Workshops Data:\n",
      "\n",
      "\n",
      "Workshop Details:\n",
      "\n",
      "\n",
      "Progress: 10.20%\n",
      "\n",
      "Processing URL 58/559\n",
      "Verarbeite URL: https://www.eversports.de/s/La-Belle\n",
      "Starte URL-Rekonstruktion...\n"
     ]
    },
    {
     "name": "stderr",
     "output_type": "stream",
     "text": [
      "2024-01-26 15:46:35,331 - INFO - Processing URL 1/5: https://www.eversports.de/s/La-Belle\n"
     ]
    },
    {
     "name": "stdout",
     "output_type": "stream",
     "text": [
      "Konvertiere in DataFrame...\n",
      "Validiere URLs...\n"
     ]
    },
    {
     "name": "stderr",
     "output_type": "stream",
     "text": [
      "2024-01-26 15:46:37,256 - INFO - URL https://www.eversports.de/s/La-Belle is valid.\n",
      "2024-01-26 15:46:37,258 - INFO - Processing URL 2/5: https://www.eversports.de/scl/La-Belle\n",
      "2024-01-26 15:46:38,681 - INFO - URL https://www.eversports.de/scl/La-Belle is valid.\n",
      "2024-01-26 15:46:38,681 - INFO - Processing URL 3/5: https://www.eversports.de/s/La-Belle/kurse\n",
      "2024-01-26 15:46:39,947 - INFO - URL https://www.eversports.de/s/La-Belle/kurse is not valid.\n",
      "2024-01-26 15:46:39,947 - INFO - Processing URL 4/5: https://www.eversports.de/sp/La-Belle\n",
      "2024-01-26 15:46:41,380 - INFO - URL https://www.eversports.de/sp/La-Belle is valid.\n",
      "2024-01-26 15:46:41,380 - INFO - Processing URL 5/5: https://www.eversports.de/s/La-Belle/team\n",
      "2024-01-26 15:46:42,929 - INFO - URL https://www.eversports.de/s/La-Belle/team is valid.\n"
     ]
    },
    {
     "name": "stdout",
     "output_type": "stream",
     "text": [
      "Scrape Pole Studio Daten von https://www.eversports.de/s/La-Belle...\n",
      "Scrape Klassen Daten von https://www.eversports.de/scl/La-Belle...\n",
      "Scrape Klassen Details von https://www.eversports.de/scl/La-Belle...\n",
      "Verarbeitung abgeschlossen.\n",
      "\n",
      "Ergebnisse für URL: https://www.eversports.de/s/La-Belle\n",
      "Pole Studio Data:\n",
      "\n",
      "\n",
      "Classes Data:\n",
      "\n",
      "\n",
      "Classes Details:\n",
      "\n",
      "\n",
      "Progress: 10.38%\n",
      "\n",
      "Processing URL 59/559\n",
      "Verarbeite URL: https://www.eversports.de/s/dance-%26-pole-deltawerk\n",
      "Starte URL-Rekonstruktion...\n",
      "Error during HTTP request: 404 Client Error: Not Found for url: https://www.eversports.de/s/dance-%26-pole-deltawerk\n",
      "Konvertiere in DataFrame...\n",
      "Validiere URLs...\n",
      "Verarbeitung abgeschlossen.\n",
      "\n",
      "Ergebnisse für URL: https://www.eversports.de/s/dance-%26-pole-deltawerk\n",
      "Progress: 10.55%\n",
      "\n",
      "Processing URL 60/559\n",
      "Verarbeite URL: https://www.eversports.de/s/-pole-aerial-dance-souldance\n",
      "Starte URL-Rekonstruktion...\n"
     ]
    },
    {
     "name": "stderr",
     "output_type": "stream",
     "text": [
      "2024-01-26 15:47:45,010 - INFO - Processing URL 1/5: https://www.eversports.de/s/-pole-aerial-dance-souldance\n"
     ]
    },
    {
     "name": "stdout",
     "output_type": "stream",
     "text": [
      "Konvertiere in DataFrame...\n",
      "Validiere URLs...\n"
     ]
    },
    {
     "name": "stderr",
     "output_type": "stream",
     "text": [
      "2024-01-26 15:47:46,580 - INFO - URL https://www.eversports.de/s/-pole-aerial-dance-souldance is valid.\n",
      "2024-01-26 15:47:46,580 - INFO - Processing URL 2/5: https://www.eversports.de/scl/-pole-aerial-dance-souldance\n",
      "2024-01-26 15:47:48,092 - INFO - URL https://www.eversports.de/scl/-pole-aerial-dance-souldance is valid.\n",
      "2024-01-26 15:47:48,096 - INFO - Processing URL 3/5: https://www.eversports.de/s/-pole-aerial-dance-souldance/videos\n",
      "2024-01-26 15:47:49,481 - INFO - URL https://www.eversports.de/s/-pole-aerial-dance-souldance/videos is valid.\n",
      "2024-01-26 15:47:49,481 - INFO - Processing URL 4/5: https://www.eversports.de/sp/-pole-aerial-dance-souldance\n",
      "2024-01-26 15:47:50,897 - INFO - URL https://www.eversports.de/sp/-pole-aerial-dance-souldance is valid.\n",
      "2024-01-26 15:47:50,897 - INFO - Processing URL 5/5: https://www.eversports.de/s/-pole-aerial-dance-souldance/team\n",
      "2024-01-26 15:47:52,363 - INFO - URL https://www.eversports.de/s/-pole-aerial-dance-souldance/team is valid.\n"
     ]
    },
    {
     "name": "stdout",
     "output_type": "stream",
     "text": [
      "Scrape Pole Studio Daten von https://www.eversports.de/s/-pole-aerial-dance-souldance...\n",
      "Scrape Klassen Daten von https://www.eversports.de/scl/-pole-aerial-dance-souldance...\n",
      "Scrape Klassen Details von https://www.eversports.de/scl/-pole-aerial-dance-souldance...\n",
      "Verarbeitung abgeschlossen.\n",
      "\n",
      "Ergebnisse für URL: https://www.eversports.de/s/-pole-aerial-dance-souldance\n",
      "Pole Studio Data:\n",
      "\n",
      "\n",
      "Classes Data:\n",
      "\n",
      "\n",
      "Classes Details:\n",
      "\n",
      "\n",
      "Progress: 10.73%\n",
      "\n",
      "Processing URL 61/559\n",
      "Verarbeite URL: https://www.eversports.de/s/poledance!-aerial-%26-fitness-flensburg-wees\n",
      "Starte URL-Rekonstruktion...\n",
      "Error during HTTP request: 404 Client Error: Not Found for url: https://www.eversports.de/s/poledance!-aerial-%26-fitness-flensburg-wees\n",
      "Konvertiere in DataFrame...\n",
      "Validiere URLs...\n",
      "Verarbeitung abgeschlossen.\n",
      "\n",
      "Ergebnisse für URL: https://www.eversports.de/s/poledance!-aerial-%26-fitness-flensburg-wees\n",
      "Progress: 10.91%\n",
      "\n",
      "Processing URL 62/559\n",
      "Verarbeite URL: https://www.eversports.de/s/cindys-pole-dance\n",
      "Starte URL-Rekonstruktion...\n"
     ]
    },
    {
     "name": "stderr",
     "output_type": "stream",
     "text": [
      "2024-01-26 15:50:00,131 - INFO - Processing URL 1/1: https://www.eversports.de/s/cindys-pole-dance\n"
     ]
    },
    {
     "name": "stdout",
     "output_type": "stream",
     "text": [
      "Konvertiere in DataFrame...\n",
      "Validiere URLs...\n"
     ]
    },
    {
     "name": "stderr",
     "output_type": "stream",
     "text": [
      "2024-01-26 15:50:01,798 - INFO - URL https://www.eversports.de/s/cindys-pole-dance is valid.\n"
     ]
    },
    {
     "name": "stdout",
     "output_type": "stream",
     "text": [
      "Scrape Pole Studio Daten von https://www.eversports.de/s/cindys-pole-dance...\n",
      "Verarbeitung abgeschlossen.\n",
      "\n",
      "Ergebnisse für URL: https://www.eversports.de/s/cindys-pole-dance\n",
      "Pole Studio Data:\n",
      "\n",
      "\n",
      "Progress: 11.09%\n",
      "\n",
      "Processing URL 63/559\n",
      "Verarbeite URL: https://www.eversports.de/s/yh-pole-and-sports-berlin\n",
      "Starte URL-Rekonstruktion...\n"
     ]
    },
    {
     "name": "stderr",
     "output_type": "stream",
     "text": [
      "2024-01-26 15:50:03,653 - INFO - Processing URL 1/4: https://www.eversports.de/s/yh-pole-and-sports-berlin\n"
     ]
    },
    {
     "name": "stdout",
     "output_type": "stream",
     "text": [
      "Konvertiere in DataFrame...\n",
      "Validiere URLs...\n"
     ]
    },
    {
     "name": "stderr",
     "output_type": "stream",
     "text": [
      "2024-01-26 15:50:05,354 - INFO - URL https://www.eversports.de/s/yh-pole-and-sports-berlin is valid.\n",
      "2024-01-26 15:50:05,354 - INFO - Processing URL 2/4: https://www.eversports.de/scl/yh-pole-and-sports-berlin\n",
      "2024-01-26 15:50:06,970 - INFO - URL https://www.eversports.de/scl/yh-pole-and-sports-berlin is valid.\n",
      "2024-01-26 15:50:06,970 - INFO - Processing URL 3/4: https://www.eversports.de/sp/yh-pole-and-sports-berlin\n",
      "2024-01-26 15:50:08,750 - INFO - URL https://www.eversports.de/sp/yh-pole-and-sports-berlin is valid.\n",
      "2024-01-26 15:50:08,751 - INFO - Processing URL 4/4: https://www.eversports.de/s/yh-pole-and-sports-berlin/team\n",
      "2024-01-26 15:50:10,283 - INFO - URL https://www.eversports.de/s/yh-pole-and-sports-berlin/team is valid.\n"
     ]
    },
    {
     "name": "stdout",
     "output_type": "stream",
     "text": [
      "Scrape Pole Studio Daten von https://www.eversports.de/s/yh-pole-and-sports-berlin...\n",
      "Scrape Klassen Daten von https://www.eversports.de/scl/yh-pole-and-sports-berlin...\n",
      "Scrape Klassen Details von https://www.eversports.de/scl/yh-pole-and-sports-berlin...\n",
      "Verarbeitung abgeschlossen.\n",
      "\n",
      "Ergebnisse für URL: https://www.eversports.de/s/yh-pole-and-sports-berlin\n",
      "Pole Studio Data:\n",
      "\n",
      "\n",
      "Classes Data:\n",
      "\n",
      "\n",
      "Classes Details:\n",
      "\n",
      "\n",
      "Progress: 11.27%\n",
      "\n",
      "Processing URL 64/559\n",
      "Verarbeite URL: https://www.eversports.de/s/mstage-tanzart-bewegung\n",
      "Starte URL-Rekonstruktion...\n",
      "Error during HTTP request: 404 Client Error: Not Found for url: https://www.eversports.de/s/mstage-tanzart-bewegung\n",
      "Konvertiere in DataFrame...\n",
      "Validiere URLs...\n",
      "Verarbeitung abgeschlossen.\n",
      "\n",
      "Ergebnisse für URL: https://www.eversports.de/s/mstage-tanzart-bewegung\n",
      "Progress: 11.45%\n",
      "\n",
      "Processing URL 65/559\n",
      "Verarbeite URL: https://www.eversports.de/s/pole-position-studio\n",
      "Starte URL-Rekonstruktion...\n",
      "Error during HTTP request: 404 Client Error: Not Found for url: https://www.eversports.de/s/pole-position-studio\n",
      "Konvertiere in DataFrame...\n",
      "Validiere URLs...\n",
      "Verarbeitung abgeschlossen.\n",
      "\n",
      "Ergebnisse für URL: https://www.eversports.de/s/pole-position-studio\n",
      "Progress: 11.63%\n",
      "\n",
      "Processing URL 66/559\n",
      "Verarbeite URL: https://www.eversports.de/s/Da-Becca-Flow-and-Fit\n",
      "Starte URL-Rekonstruktion...\n"
     ]
    },
    {
     "name": "stderr",
     "output_type": "stream",
     "text": [
      "2024-01-26 15:50:55,468 - INFO - Processing URL 1/5: https://www.eversports.de/s/Da-Becca-Flow-and-Fit\n"
     ]
    },
    {
     "name": "stdout",
     "output_type": "stream",
     "text": [
      "Konvertiere in DataFrame...\n",
      "Validiere URLs...\n"
     ]
    },
    {
     "name": "stderr",
     "output_type": "stream",
     "text": [
      "2024-01-26 15:50:57,168 - INFO - URL https://www.eversports.de/s/Da-Becca-Flow-and-Fit is valid.\n",
      "2024-01-26 15:50:57,168 - INFO - Processing URL 2/5: https://www.eversports.de/scl/Da-Becca-Flow-and-Fit\n",
      "2024-01-26 15:50:58,518 - INFO - URL https://www.eversports.de/scl/Da-Becca-Flow-and-Fit is valid.\n",
      "2024-01-26 15:50:58,518 - INFO - Processing URL 3/5: https://www.eversports.de/sw/Da-Becca-Flow-and-Fit\n",
      "2024-01-26 15:51:01,037 - INFO - URL https://www.eversports.de/sw/Da-Becca-Flow-and-Fit is valid.\n",
      "2024-01-26 15:51:01,053 - INFO - Processing URL 4/5: https://www.eversports.de/sp/Da-Becca-Flow-and-Fit\n",
      "2024-01-26 15:51:02,552 - INFO - URL https://www.eversports.de/sp/Da-Becca-Flow-and-Fit is valid.\n",
      "2024-01-26 15:51:02,552 - INFO - Processing URL 5/5: https://www.eversports.de/s/Da-Becca-Flow-and-Fit/team\n",
      "2024-01-26 15:51:04,034 - INFO - URL https://www.eversports.de/s/Da-Becca-Flow-and-Fit/team is valid.\n"
     ]
    },
    {
     "name": "stdout",
     "output_type": "stream",
     "text": [
      "Scrape Pole Studio Daten von https://www.eversports.de/s/Da-Becca-Flow-and-Fit...\n",
      "Scrape Klassen Daten von https://www.eversports.de/scl/Da-Becca-Flow-and-Fit...\n",
      "Scrape Klassen Details von https://www.eversports.de/scl/Da-Becca-Flow-and-Fit...\n",
      "Scrape Workshops Daten von https://www.eversports.de/sw/Da-Becca-Flow-and-Fit...\n",
      "Scrape Workshop Details von https://www.eversports.de/e/workshop/2z_srY0...\n",
      "Scrape Workshop Details von https://www.eversports.de/e/workshop/o5_MV7J...\n",
      "Scrape Workshop Details von https://www.eversports.de/e/workshop/0u01Mza...\n",
      "Scrape Workshop Details von https://www.eversports.de/e/workshop/DBxar8u...\n",
      "Scrape Workshop Details von https://www.eversports.de/e/workshop/GlPG304...\n",
      "Scrape Workshop Details von https://www.eversports.de/e/workshop/wj20M8W...\n",
      "Scrape Workshop Details von https://www.eversports.de/e/workshop/113IYbR...\n",
      "Scrape Workshop Details von https://www.eversports.de/e/workshop/vyTj8JR...\n",
      "Scrape Workshop Details von https://www.eversports.de/e/workshop/GMeuKSV...\n",
      "Scrape Workshop Details von https://www.eversports.de/e/workshop/461op6s...\n",
      "Scrape Workshop Details von https://www.eversports.de/e/workshop/NrFmto0...\n",
      "Scrape Workshop Details von https://www.eversports.de/e/workshop/km4K7Yv...\n",
      "Scrape Workshop Details von https://www.eversports.de/e/workshop/B2Sz3mv...\n",
      "Scrape Workshop Details von https://www.eversports.de/e/workshop/HhyMbSA...\n",
      "Scrape Workshop Details von https://www.eversports.de/e/workshop/WBlAegH...\n",
      "Verarbeitung abgeschlossen.\n",
      "\n",
      "Ergebnisse für URL: https://www.eversports.de/s/Da-Becca-Flow-and-Fit\n",
      "Pole Studio Data:\n",
      "\n",
      "\n",
      "Classes Data:\n",
      "\n",
      "\n",
      "Classes Details:\n",
      "\n",
      "\n",
      "Workshops Data:\n",
      "\n",
      "\n",
      "Workshop Details:\n",
      "\n",
      "\n",
      "Progress: 11.81%\n",
      "\n",
      "Processing URL 67/559\n",
      "Verarbeite URL: https://www.eversports.de/s/poleworkx\n",
      "Starte URL-Rekonstruktion...\n"
     ]
    },
    {
     "name": "stderr",
     "output_type": "stream",
     "text": [
      "2024-01-26 15:52:33,786 - INFO - Processing URL 1/1: https://www.eversports.de/s/poleworkx\n"
     ]
    },
    {
     "name": "stdout",
     "output_type": "stream",
     "text": [
      "Konvertiere in DataFrame...\n",
      "Validiere URLs...\n"
     ]
    },
    {
     "name": "stderr",
     "output_type": "stream",
     "text": [
      "2024-01-26 15:52:35,252 - INFO - URL https://www.eversports.de/s/poleworkx is valid.\n"
     ]
    },
    {
     "name": "stdout",
     "output_type": "stream",
     "text": [
      "Scrape Pole Studio Daten von https://www.eversports.de/s/poleworkx...\n",
      "Verarbeitung abgeschlossen.\n",
      "\n",
      "Ergebnisse für URL: https://www.eversports.de/s/poleworkx\n",
      "Pole Studio Data:\n",
      "\n",
      "\n",
      "Progress: 11.99%\n",
      "\n",
      "Processing URL 68/559\n",
      "Verarbeite URL: https://www.eversports.de/s/pole-formance\n",
      "Starte URL-Rekonstruktion...\n"
     ]
    },
    {
     "name": "stderr",
     "output_type": "stream",
     "text": [
      "2024-01-26 15:52:37,155 - INFO - Processing URL 1/6: https://www.eversports.de/s/pole-formance\n"
     ]
    },
    {
     "name": "stdout",
     "output_type": "stream",
     "text": [
      "Konvertiere in DataFrame...\n",
      "Validiere URLs...\n"
     ]
    },
    {
     "name": "stderr",
     "output_type": "stream",
     "text": [
      "2024-01-26 15:52:38,688 - INFO - URL https://www.eversports.de/s/pole-formance is valid.\n",
      "2024-01-26 15:52:38,688 - INFO - Processing URL 2/6: https://www.eversports.de/scl/pole-formance\n",
      "2024-01-26 15:52:40,101 - INFO - URL https://www.eversports.de/scl/pole-formance is valid.\n",
      "2024-01-26 15:52:40,101 - INFO - Processing URL 3/6: https://www.eversports.de/s/pole-formance/kurse\n",
      "2024-01-26 15:52:41,422 - INFO - URL https://www.eversports.de/s/pole-formance/kurse is not valid.\n",
      "2024-01-26 15:52:41,422 - INFO - Processing URL 4/6: https://www.eversports.de/sw/pole-formance\n",
      "2024-01-26 15:52:42,820 - INFO - URL https://www.eversports.de/sw/pole-formance is valid.\n",
      "2024-01-26 15:52:42,821 - INFO - Processing URL 5/6: https://www.eversports.de/sp/pole-formance\n",
      "2024-01-26 15:52:44,272 - INFO - URL https://www.eversports.de/sp/pole-formance is valid.\n",
      "2024-01-26 15:52:44,272 - INFO - Processing URL 6/6: https://www.eversports.de/s/pole-formance/team\n",
      "2024-01-26 15:52:46,272 - INFO - URL https://www.eversports.de/s/pole-formance/team is valid.\n"
     ]
    },
    {
     "name": "stdout",
     "output_type": "stream",
     "text": [
      "Scrape Pole Studio Daten von https://www.eversports.de/s/pole-formance...\n",
      "Scrape Klassen Daten von https://www.eversports.de/scl/pole-formance...\n",
      "Scrape Klassen Details von https://www.eversports.de/scl/pole-formance...\n",
      "Scrape Workshops Daten von https://www.eversports.de/sw/pole-formance...\n",
      "Scrape Workshop Details von https://www.eversports.de/e/workshop/KDYKHQf...\n",
      "Scrape Workshop Details von https://www.eversports.de/e/workshop/BjFbe-z...\n",
      "Scrape Workshop Details von https://www.eversports.de/e/workshop/U58r9aD...\n",
      "Verarbeitung abgeschlossen.\n",
      "\n",
      "Ergebnisse für URL: https://www.eversports.de/s/pole-formance\n",
      "Pole Studio Data:\n",
      "\n",
      "\n",
      "Classes Data:\n",
      "\n",
      "\n",
      "Classes Details:\n",
      "\n",
      "\n",
      "Workshops Data:\n",
      "\n",
      "\n",
      "Workshop Details:\n",
      "\n",
      "\n",
      "Progress: 12.16%\n",
      "\n",
      "Processing URL 69/559\n",
      "Verarbeite URL: https://www.eversports.de/s/körpernah\n",
      "Starte URL-Rekonstruktion...\n",
      "Error during HTTP request: Exceeded 30 redirects.\n",
      "Konvertiere in DataFrame...\n",
      "Validiere URLs...\n",
      "Verarbeitung abgeschlossen.\n",
      "\n",
      "Ergebnisse für URL: https://www.eversports.de/s/körpernah\n",
      "Progress: 12.34%\n",
      "\n",
      "Processing URL 70/559\n",
      "Verarbeite URL: https://www.eversports.de/s/polespirit\n",
      "Starte URL-Rekonstruktion...\n"
     ]
    },
    {
     "name": "stderr",
     "output_type": "stream",
     "text": [
      "2024-01-26 15:53:29,141 - INFO - Processing URL 1/5: https://www.eversports.de/s/polespirit\n"
     ]
    },
    {
     "name": "stdout",
     "output_type": "stream",
     "text": [
      "Konvertiere in DataFrame...\n",
      "Validiere URLs...\n"
     ]
    },
    {
     "name": "stderr",
     "output_type": "stream",
     "text": [
      "2024-01-26 15:53:30,937 - INFO - URL https://www.eversports.de/s/polespirit is valid.\n",
      "2024-01-26 15:53:30,938 - INFO - Processing URL 2/5: https://www.eversports.de/scl/polespirit\n",
      "2024-01-26 15:53:32,304 - INFO - URL https://www.eversports.de/scl/polespirit is valid.\n",
      "2024-01-26 15:53:32,304 - INFO - Processing URL 3/5: https://www.eversports.de/sw/polespirit\n",
      "2024-01-26 15:53:33,873 - INFO - URL https://www.eversports.de/sw/polespirit is valid.\n",
      "2024-01-26 15:53:33,889 - INFO - Processing URL 4/5: https://www.eversports.de/sp/polespirit\n",
      "2024-01-26 15:53:35,286 - INFO - URL https://www.eversports.de/sp/polespirit is valid.\n",
      "2024-01-26 15:53:35,286 - INFO - Processing URL 5/5: https://www.eversports.de/s/polespirit/team\n",
      "2024-01-26 15:53:36,707 - INFO - URL https://www.eversports.de/s/polespirit/team is valid.\n"
     ]
    },
    {
     "name": "stdout",
     "output_type": "stream",
     "text": [
      "Scrape Pole Studio Daten von https://www.eversports.de/s/polespirit...\n",
      "Scrape Klassen Daten von https://www.eversports.de/scl/polespirit...\n",
      "Scrape Klassen Details von https://www.eversports.de/scl/polespirit...\n",
      "Scrape Workshops Daten von https://www.eversports.de/sw/polespirit...\n",
      "Scrape Workshop Details von https://www.eversports.de/e/workshop/xUH0CLo...\n",
      "Scrape Workshop Details von https://www.eversports.de/e/workshop/c-5lTys...\n",
      "Verarbeitung abgeschlossen.\n",
      "\n",
      "Ergebnisse für URL: https://www.eversports.de/s/polespirit\n",
      "Pole Studio Data:\n",
      "\n",
      "\n",
      "Classes Data:\n",
      "\n",
      "\n",
      "Classes Details:\n",
      "\n",
      "\n",
      "Workshops Data:\n",
      "\n",
      "\n",
      "Workshop Details:\n",
      "\n",
      "\n",
      "Progress: 12.52%\n",
      "\n",
      "Processing URL 71/559\n",
      "Verarbeite URL: https://www.eversports.de/s/IMA-Intentional-Movement-Academy\n",
      "Starte URL-Rekonstruktion...\n"
     ]
    },
    {
     "name": "stderr",
     "output_type": "stream",
     "text": [
      "2024-01-26 15:53:47,608 - INFO - Processing URL 1/6: https://www.eversports.de/s/IMA-Intentional-Movement-Academy\n"
     ]
    },
    {
     "name": "stdout",
     "output_type": "stream",
     "text": [
      "Konvertiere in DataFrame...\n",
      "Validiere URLs...\n"
     ]
    },
    {
     "name": "stderr",
     "output_type": "stream",
     "text": [
      "2024-01-26 15:53:49,255 - INFO - URL https://www.eversports.de/s/IMA-Intentional-Movement-Academy is valid.\n",
      "2024-01-26 15:53:49,255 - INFO - Processing URL 2/6: https://www.eversports.de/scl/IMA-Intentional-Movement-Academy\n",
      "2024-01-26 15:53:50,658 - INFO - URL https://www.eversports.de/scl/IMA-Intentional-Movement-Academy is valid.\n",
      "2024-01-26 15:53:50,658 - INFO - Processing URL 3/6: https://www.eversports.de/s/IMA-Intentional-Movement-Academy/retreats\n",
      "2024-01-26 15:53:51,988 - INFO - URL https://www.eversports.de/s/IMA-Intentional-Movement-Academy/retreats is not valid.\n",
      "2024-01-26 15:53:51,989 - INFO - Processing URL 4/6: https://www.eversports.de/s/IMA-Intentional-Movement-Academy/videos\n",
      "2024-01-26 15:53:53,389 - INFO - URL https://www.eversports.de/s/IMA-Intentional-Movement-Academy/videos is valid.\n",
      "2024-01-26 15:53:53,389 - INFO - Processing URL 5/6: https://www.eversports.de/sp/IMA-Intentional-Movement-Academy\n",
      "2024-01-26 15:53:56,137 - INFO - URL https://www.eversports.de/sp/IMA-Intentional-Movement-Academy is valid.\n",
      "2024-01-26 15:53:56,137 - INFO - Processing URL 6/6: https://www.eversports.de/s/IMA-Intentional-Movement-Academy/team\n",
      "2024-01-26 15:53:57,922 - INFO - URL https://www.eversports.de/s/IMA-Intentional-Movement-Academy/team is valid.\n"
     ]
    },
    {
     "name": "stdout",
     "output_type": "stream",
     "text": [
      "Scrape Pole Studio Daten von https://www.eversports.de/s/IMA-Intentional-Movement-Academy...\n",
      "Scrape Klassen Daten von https://www.eversports.de/scl/IMA-Intentional-Movement-Academy...\n",
      "Scrape Klassen Details von https://www.eversports.de/scl/IMA-Intentional-Movement-Academy...\n",
      "Verarbeitung abgeschlossen.\n",
      "\n",
      "Ergebnisse für URL: https://www.eversports.de/s/IMA-Intentional-Movement-Academy\n",
      "Pole Studio Data:\n",
      "\n",
      "\n",
      "Classes Data:\n",
      "\n",
      "\n",
      "Classes Details:\n",
      "\n",
      "\n",
      "Progress: 12.70%\n",
      "\n",
      "Processing URL 72/559\n",
      "Verarbeite URL: https://www.eversports.de/s/pole-emotion-bremerhaven\n",
      "Starte URL-Rekonstruktion...\n",
      "Error during HTTP request: 404 Client Error: Not Found for url: https://www.eversports.de/s/pole-emotion-bremerhaven\n",
      "Konvertiere in DataFrame...\n",
      "Validiere URLs...\n",
      "Verarbeitung abgeschlossen.\n",
      "\n",
      "Ergebnisse für URL: https://www.eversports.de/s/pole-emotion-bremerhaven\n",
      "Progress: 12.88%\n",
      "\n",
      "Processing URL 73/559\n",
      "Verarbeite URL: https://www.eversports.de/s/kaifu-lodge\n",
      "Starte URL-Rekonstruktion...\n"
     ]
    },
    {
     "name": "stderr",
     "output_type": "stream",
     "text": [
      "2024-01-26 15:54:57,374 - INFO - Processing URL 1/1: https://www.eversports.de/s/kaifu-lodge\n"
     ]
    },
    {
     "name": "stdout",
     "output_type": "stream",
     "text": [
      "Konvertiere in DataFrame...\n",
      "Validiere URLs...\n"
     ]
    },
    {
     "name": "stderr",
     "output_type": "stream",
     "text": [
      "2024-01-26 15:55:00,506 - INFO - URL https://www.eversports.de/s/kaifu-lodge is valid.\n"
     ]
    },
    {
     "name": "stdout",
     "output_type": "stream",
     "text": [
      "Scrape Pole Studio Daten von https://www.eversports.de/s/kaifu-lodge...\n",
      "Verarbeitung abgeschlossen.\n",
      "\n",
      "Ergebnisse für URL: https://www.eversports.de/s/kaifu-lodge\n",
      "Pole Studio Data:\n",
      "\n",
      "\n",
      "Progress: 13.06%\n",
      "\n",
      "Processing URL 74/559\n",
      "Verarbeite URL: https://www.eversports.de/s/T-Tanzstück-Wolfsburg\n",
      "Starte URL-Rekonstruktion...\n",
      "Error during HTTP request: Exceeded 30 redirects.\n",
      "Konvertiere in DataFrame...\n",
      "Validiere URLs...\n",
      "Verarbeitung abgeschlossen.\n",
      "\n",
      "Ergebnisse für URL: https://www.eversports.de/s/T-Tanzstück-Wolfsburg\n",
      "Progress: 13.24%\n",
      "\n",
      "Processing URL 75/559\n",
      "Verarbeite URL: https://www.eversports.de/s/papillon-pole-dance-studio\n",
      "Starte URL-Rekonstruktion...\n",
      "Error during HTTP request: 404 Client Error: Not Found for url: https://www.eversports.de/s/papillon-pole-dance-studio\n",
      "Konvertiere in DataFrame...\n",
      "Validiere URLs...\n",
      "Verarbeitung abgeschlossen.\n",
      "\n",
      "Ergebnisse für URL: https://www.eversports.de/s/papillon-pole-dance-studio\n",
      "Progress: 13.42%\n",
      "\n",
      "Processing URL 76/559\n",
      "Verarbeite URL: https://www.eversports.de/s/fl'air-studios-berlin\n",
      "Starte URL-Rekonstruktion...\n",
      "Error during HTTP request: 404 Client Error: Not Found for url: https://www.eversports.de/s/fl'air-studios-berlin\n",
      "Konvertiere in DataFrame...\n",
      "Validiere URLs...\n",
      "Verarbeitung abgeschlossen.\n",
      "\n",
      "Ergebnisse für URL: https://www.eversports.de/s/fl'air-studios-berlin\n",
      "Progress: 13.60%\n",
      "\n",
      "Processing URL 77/559\n",
      "Verarbeite URL: https://www.eversports.de/s/freaky-fitness\n",
      "Starte URL-Rekonstruktion...\n"
     ]
    },
    {
     "name": "stderr",
     "output_type": "stream",
     "text": [
      "2024-01-26 15:55:09,773 - INFO - Processing URL 1/1: https://www.eversports.de/s/freaky-fitness\n"
     ]
    },
    {
     "name": "stdout",
     "output_type": "stream",
     "text": [
      "Konvertiere in DataFrame...\n",
      "Validiere URLs...\n"
     ]
    },
    {
     "name": "stderr",
     "output_type": "stream",
     "text": [
      "2024-01-26 15:55:11,571 - INFO - URL https://www.eversports.de/s/freaky-fitness is valid.\n"
     ]
    },
    {
     "name": "stdout",
     "output_type": "stream",
     "text": [
      "Scrape Pole Studio Daten von https://www.eversports.de/s/freaky-fitness...\n",
      "Verarbeitung abgeschlossen.\n",
      "\n",
      "Ergebnisse für URL: https://www.eversports.de/s/freaky-fitness\n",
      "Pole Studio Data:\n",
      "\n",
      "\n",
      "Progress: 13.77%\n",
      "\n",
      "Processing URL 78/559\n",
      "Verarbeite URL: https://www.eversports.de/s/Pole-Circus-A-K\n",
      "Starte URL-Rekonstruktion...\n",
      "Error during HTTP request: 404 Client Error: Not Found for url: https://www.eversports.de/s/pole-circus-a-k\n",
      "Konvertiere in DataFrame...\n",
      "Validiere URLs...\n",
      "Verarbeitung abgeschlossen.\n",
      "\n",
      "Ergebnisse für URL: https://www.eversports.de/s/Pole-Circus-A-K\n",
      "Progress: 13.95%\n",
      "\n",
      "Processing URL 79/559\n",
      "Verarbeite URL: https://www.eversports.de/s/poda-studio\n",
      "Starte URL-Rekonstruktion...\n"
     ]
    },
    {
     "name": "stderr",
     "output_type": "stream",
     "text": [
      "2024-01-26 15:55:15,790 - INFO - Processing URL 1/6: https://www.eversports.de/s/poda-studio\n"
     ]
    },
    {
     "name": "stdout",
     "output_type": "stream",
     "text": [
      "Konvertiere in DataFrame...\n",
      "Validiere URLs...\n"
     ]
    },
    {
     "name": "stderr",
     "output_type": "stream",
     "text": [
      "2024-01-26 15:55:17,423 - INFO - URL https://www.eversports.de/s/poda-studio is valid.\n",
      "2024-01-26 15:55:17,424 - INFO - Processing URL 2/6: https://www.eversports.de/scl/poda-studio\n",
      "2024-01-26 15:55:18,925 - INFO - URL https://www.eversports.de/scl/poda-studio is valid.\n",
      "2024-01-26 15:55:18,925 - INFO - Processing URL 3/6: https://www.eversports.de/sw/poda-studio\n",
      "2024-01-26 15:55:20,970 - INFO - URL https://www.eversports.de/sw/poda-studio is valid.\n",
      "2024-01-26 15:55:20,971 - INFO - Processing URL 4/6: https://www.eversports.de/s/poda-studio/videos\n",
      "2024-01-26 15:55:22,371 - INFO - URL https://www.eversports.de/s/poda-studio/videos is valid.\n",
      "2024-01-26 15:55:22,371 - INFO - Processing URL 5/6: https://www.eversports.de/sp/poda-studio\n",
      "2024-01-26 15:55:23,875 - INFO - URL https://www.eversports.de/sp/poda-studio is valid.\n",
      "2024-01-26 15:55:23,875 - INFO - Processing URL 6/6: https://www.eversports.de/s/poda-studio/team\n",
      "2024-01-26 15:55:25,441 - INFO - URL https://www.eversports.de/s/poda-studio/team is valid.\n"
     ]
    },
    {
     "name": "stdout",
     "output_type": "stream",
     "text": [
      "Scrape Pole Studio Daten von https://www.eversports.de/s/poda-studio...\n",
      "Scrape Klassen Daten von https://www.eversports.de/scl/poda-studio...\n",
      "Scrape Klassen Details von https://www.eversports.de/scl/poda-studio...\n",
      "Scrape Workshops Daten von https://www.eversports.de/sw/poda-studio...\n",
      "Scrape Workshop Details von https://www.eversports.de/e/workshop/LAHNDF-...\n",
      "Scrape Workshop Details von https://www.eversports.de/e/workshop/JM68hgK...\n",
      "Scrape Workshop Details von https://www.eversports.de/e/workshop/2f93D4_...\n",
      "Scrape Workshop Details von https://www.eversports.de/e/workshop/9PbaXsNu8...\n",
      "Verarbeitung abgeschlossen.\n",
      "\n",
      "Ergebnisse für URL: https://www.eversports.de/s/poda-studio\n",
      "Pole Studio Data:\n",
      "\n",
      "\n",
      "Classes Data:\n",
      "\n",
      "\n",
      "Classes Details:\n",
      "\n",
      "\n",
      "Workshops Data:\n",
      "\n",
      "\n",
      "Workshop Details:\n",
      "\n",
      "\n",
      "Progress: 14.13%\n",
      "\n",
      "Processing URL 80/559\n",
      "Verarbeite URL: https://www.eversports.de/s/pole-dance-studio-waiblingen\n",
      "Starte URL-Rekonstruktion...\n",
      "Error during HTTP request: 404 Client Error: Not Found for url: https://www.eversports.de/s/pole-dance-studio-waiblingen\n",
      "Konvertiere in DataFrame...\n",
      "Validiere URLs...\n",
      "Verarbeitung abgeschlossen.\n",
      "\n",
      "Ergebnisse für URL: https://www.eversports.de/s/pole-dance-studio-waiblingen\n",
      "Progress: 14.31%\n",
      "\n",
      "Processing URL 81/559\n",
      "Verarbeite URL: https://www.eversports.de/s/PoleFitness-Leipzig\n",
      "Starte URL-Rekonstruktion...\n"
     ]
    },
    {
     "name": "stderr",
     "output_type": "stream",
     "text": [
      "2024-01-26 15:57:13,241 - INFO - Processing URL 1/4: https://www.eversports.de/s/PoleFitness-Leipzig\n"
     ]
    },
    {
     "name": "stdout",
     "output_type": "stream",
     "text": [
      "Konvertiere in DataFrame...\n",
      "Validiere URLs...\n"
     ]
    },
    {
     "name": "stderr",
     "output_type": "stream",
     "text": [
      "2024-01-26 15:57:14,942 - INFO - URL https://www.eversports.de/s/PoleFitness-Leipzig is valid.\n",
      "2024-01-26 15:57:14,942 - INFO - Processing URL 2/4: https://www.eversports.de/scl/PoleFitness-Leipzig\n",
      "2024-01-26 15:57:16,323 - INFO - URL https://www.eversports.de/scl/PoleFitness-Leipzig is valid.\n",
      "2024-01-26 15:57:16,323 - INFO - Processing URL 3/4: https://www.eversports.de/sp/PoleFitness-Leipzig\n",
      "2024-01-26 15:57:17,672 - INFO - URL https://www.eversports.de/sp/PoleFitness-Leipzig is valid.\n",
      "2024-01-26 15:57:17,672 - INFO - Processing URL 4/4: https://www.eversports.de/s/PoleFitness-Leipzig/team\n",
      "2024-01-26 15:57:19,108 - INFO - URL https://www.eversports.de/s/PoleFitness-Leipzig/team is valid.\n"
     ]
    },
    {
     "name": "stdout",
     "output_type": "stream",
     "text": [
      "Scrape Pole Studio Daten von https://www.eversports.de/s/PoleFitness-Leipzig...\n",
      "Scrape Klassen Daten von https://www.eversports.de/scl/PoleFitness-Leipzig...\n",
      "Scrape Klassen Details von https://www.eversports.de/scl/PoleFitness-Leipzig...\n",
      "Verarbeitung abgeschlossen.\n",
      "\n",
      "Ergebnisse für URL: https://www.eversports.de/s/PoleFitness-Leipzig\n",
      "Pole Studio Data:\n",
      "\n",
      "\n",
      "Classes Data:\n",
      "\n",
      "\n",
      "Classes Details:\n",
      "\n",
      "\n",
      "Progress: 14.49%\n",
      "\n",
      "Processing URL 82/559\n",
      "Verarbeite URL: https://www.eversports.de/s/polegarage-iserloh\n",
      "Starte URL-Rekonstruktion...\n",
      "Error during HTTP request: 404 Client Error: Not Found for url: https://www.eversports.de/s/polegarage-iserloh\n",
      "Konvertiere in DataFrame...\n",
      "Validiere URLs...\n",
      "Verarbeitung abgeschlossen.\n",
      "\n",
      "Ergebnisse für URL: https://www.eversports.de/s/polegarage-iserloh\n",
      "Progress: 14.67%\n",
      "\n",
      "Processing URL 83/559\n",
      "Verarbeite URL: https://www.eversports.de/s/pole2dance---vertical-fitness-and-dance-company\n",
      "Starte URL-Rekonstruktion...\n",
      "Error during HTTP request: 404 Client Error: Not Found for url: https://www.eversports.de/s/pole2dance---vertical-fitness-and-dance-company\n",
      "Konvertiere in DataFrame...\n",
      "Validiere URLs...\n",
      "Verarbeitung abgeschlossen.\n",
      "\n",
      "Ergebnisse für URL: https://www.eversports.de/s/pole2dance---vertical-fitness-and-dance-company\n",
      "Progress: 14.85%\n",
      "\n",
      "Processing URL 84/559\n",
      "Verarbeite URL: https://www.eversports.de/s/dance-%26-fitness-academy\n",
      "Starte URL-Rekonstruktion...\n",
      "Error during HTTP request: 404 Client Error: Not Found for url: https://www.eversports.de/s/dance-%26-fitness-academy\n",
      "Konvertiere in DataFrame...\n",
      "Validiere URLs...\n",
      "Verarbeitung abgeschlossen.\n",
      "\n",
      "Ergebnisse für URL: https://www.eversports.de/s/dance-%26-fitness-academy\n",
      "Progress: 15.03%\n",
      "\n",
      "Processing URL 85/559\n",
      "Verarbeite URL: https://www.eversports.de/s/crazypole%C2%AE\n",
      "Starte URL-Rekonstruktion...\n",
      "Error during HTTP request: Exceeded 30 redirects.\n",
      "Konvertiere in DataFrame...\n",
      "Validiere URLs...\n",
      "Verarbeitung abgeschlossen.\n",
      "\n",
      "Ergebnisse für URL: https://www.eversports.de/s/crazypole%C2%AE\n",
      "Progress: 15.21%\n",
      "\n",
      "Processing URL 86/559\n",
      "Verarbeite URL: https://www.eversports.de/s/monopole-dance\n",
      "Starte URL-Rekonstruktion...\n",
      "Error during HTTP request: 404 Client Error: Not Found for url: https://www.eversports.de/s/monopole-dance\n",
      "Konvertiere in DataFrame...\n",
      "Validiere URLs...\n",
      "Verarbeitung abgeschlossen.\n",
      "\n",
      "Ergebnisse für URL: https://www.eversports.de/s/monopole-dance\n",
      "Progress: 15.38%\n",
      "\n",
      "Processing URL 87/559\n",
      "Verarbeite URL: https://www.eversports.de/s/calipso-studio\n",
      "Starte URL-Rekonstruktion...\n"
     ]
    },
    {
     "name": "stderr",
     "output_type": "stream",
     "text": [
      "2024-01-26 15:58:20,910 - INFO - Processing URL 1/6: https://www.eversports.de/s/calipso-studio\n"
     ]
    },
    {
     "name": "stdout",
     "output_type": "stream",
     "text": [
      "Konvertiere in DataFrame...\n",
      "Validiere URLs...\n"
     ]
    },
    {
     "name": "stderr",
     "output_type": "stream",
     "text": [
      "2024-01-26 15:58:22,545 - INFO - URL https://www.eversports.de/s/calipso-studio is valid.\n",
      "2024-01-26 15:58:22,545 - INFO - Processing URL 2/6: https://www.eversports.de/scl/calipso-studio\n",
      "2024-01-26 15:58:24,126 - INFO - URL https://www.eversports.de/scl/calipso-studio is not valid.\n",
      "2024-01-26 15:58:24,141 - INFO - Processing URL 3/6: https://www.eversports.de/s/calipso-studio/kurse\n",
      "2024-01-26 15:58:25,414 - INFO - URL https://www.eversports.de/s/calipso-studio/kurse is not valid.\n",
      "2024-01-26 15:58:25,414 - INFO - Processing URL 4/6: https://www.eversports.de/s/calipso-studio/videos\n",
      "2024-01-26 15:58:26,914 - INFO - URL https://www.eversports.de/s/calipso-studio/videos is not valid.\n",
      "2024-01-26 15:58:26,914 - INFO - Processing URL 5/6: https://www.eversports.de/sp/calipso-studio\n",
      "2024-01-26 15:58:28,293 - INFO - URL https://www.eversports.de/sp/calipso-studio is not valid.\n",
      "2024-01-26 15:58:28,293 - INFO - Processing URL 6/6: https://www.eversports.de/s/calipso-studio/team\n",
      "2024-01-26 15:58:30,346 - INFO - URL https://www.eversports.de/s/calipso-studio/team is valid.\n"
     ]
    },
    {
     "name": "stdout",
     "output_type": "stream",
     "text": [
      "Scrape Pole Studio Daten von https://www.eversports.de/s/calipso-studio...\n",
      "Verarbeitung abgeschlossen.\n",
      "\n",
      "Ergebnisse für URL: https://www.eversports.de/s/calipso-studio\n",
      "Pole Studio Data:\n",
      "\n",
      "\n",
      "Progress: 15.56%\n",
      "\n",
      "Processing URL 88/559\n",
      "Verarbeite URL: https://www.eversports.de/s/Flexx-Arts---Aerial-Dance-&-Fitness\n",
      "Starte URL-Rekonstruktion...\n",
      "Error during HTTP request: 404 Client Error: Not Found for url: https://www.eversports.de/s/Flexx-Arts---Aerial-Dance-&-Fitness\n",
      "Konvertiere in DataFrame...\n",
      "Validiere URLs...\n",
      "Verarbeitung abgeschlossen.\n",
      "\n",
      "Ergebnisse für URL: https://www.eversports.de/s/Flexx-Arts---Aerial-Dance-&-Fitness\n",
      "Progress: 15.74%\n",
      "\n",
      "Processing URL 89/559\n",
      "Verarbeite URL: https://www.eversports.de/s/dance-%26-fly-pole-studio\n",
      "Starte URL-Rekonstruktion...\n",
      "Error during HTTP request: 404 Client Error: Not Found for url: https://www.eversports.de/s/dance-%26-fly-pole-studio\n",
      "Konvertiere in DataFrame...\n",
      "Validiere URLs...\n",
      "Verarbeitung abgeschlossen.\n",
      "\n",
      "Ergebnisse für URL: https://www.eversports.de/s/dance-%26-fly-pole-studio\n",
      "Progress: 15.92%\n",
      "\n",
      "Processing URL 90/559\n",
      "Verarbeite URL: https://www.eversports.de/s/Pole-and-Move-Heidelberg\n",
      "Starte URL-Rekonstruktion...\n"
     ]
    },
    {
     "name": "stderr",
     "output_type": "stream",
     "text": [
      "2024-01-26 15:58:36,111 - INFO - Processing URL 1/5: https://www.eversports.de/s/Pole-and-Move-Heidelberg\n"
     ]
    },
    {
     "name": "stdout",
     "output_type": "stream",
     "text": [
      "Konvertiere in DataFrame...\n",
      "Validiere URLs...\n"
     ]
    },
    {
     "name": "stderr",
     "output_type": "stream",
     "text": [
      "2024-01-26 15:58:37,794 - INFO - URL https://www.eversports.de/s/Pole-and-Move-Heidelberg is valid.\n",
      "2024-01-26 15:58:37,794 - INFO - Processing URL 2/5: https://www.eversports.de/scl/Pole-and-Move-Heidelberg\n",
      "2024-01-26 15:58:39,262 - INFO - URL https://www.eversports.de/scl/Pole-and-Move-Heidelberg is valid.\n",
      "2024-01-26 15:58:39,262 - INFO - Processing URL 3/5: https://www.eversports.de/sw/Pole-and-Move-Heidelberg\n",
      "2024-01-26 15:58:41,562 - INFO - URL https://www.eversports.de/sw/Pole-and-Move-Heidelberg is valid.\n",
      "2024-01-26 15:58:41,562 - INFO - Processing URL 4/5: https://www.eversports.de/sp/Pole-and-Move-Heidelberg\n",
      "2024-01-26 15:58:42,996 - INFO - URL https://www.eversports.de/sp/Pole-and-Move-Heidelberg is valid.\n",
      "2024-01-26 15:58:42,996 - INFO - Processing URL 5/5: https://www.eversports.de/s/Pole-and-Move-Heidelberg/team\n",
      "2024-01-26 15:58:44,559 - INFO - URL https://www.eversports.de/s/Pole-and-Move-Heidelberg/team is valid.\n"
     ]
    },
    {
     "name": "stdout",
     "output_type": "stream",
     "text": [
      "Scrape Pole Studio Daten von https://www.eversports.de/s/Pole-and-Move-Heidelberg...\n",
      "Scrape Klassen Daten von https://www.eversports.de/scl/Pole-and-Move-Heidelberg...\n",
      "Scrape Klassen Details von https://www.eversports.de/scl/Pole-and-Move-Heidelberg...\n",
      "Scrape Workshops Daten von https://www.eversports.de/sw/Pole-and-Move-Heidelberg...\n",
      "Scrape Workshop Details von https://www.eversports.de/e/workshop/VYi81mK...\n",
      "Scrape Workshop Details von https://www.eversports.de/e/workshop/101RSFR...\n",
      "Scrape Workshop Details von https://www.eversports.de/e/workshop/AnumKko...\n",
      "Scrape Workshop Details von https://www.eversports.de/e/workshop/aqDwRxt...\n",
      "Scrape Workshop Details von https://www.eversports.de/e/workshop/xpUUbAx...\n",
      "Scrape Workshop Details von https://www.eversports.de/e/workshop/yXAMy8l...\n",
      "Scrape Workshop Details von https://www.eversports.de/e/workshop/mI91ydw...\n",
      "Scrape Workshop Details von https://www.eversports.de/e/workshop/Ngcpd4l...\n",
      "Scrape Workshop Details von https://www.eversports.de/e/workshop/ij8VZCH...\n",
      "Verarbeitung abgeschlossen.\n",
      "\n",
      "Ergebnisse für URL: https://www.eversports.de/s/Pole-and-Move-Heidelberg\n",
      "Pole Studio Data:\n",
      "\n",
      "\n",
      "Classes Data:\n",
      "\n",
      "\n",
      "Classes Details:\n",
      "\n",
      "\n",
      "Workshops Data:\n",
      "\n",
      "\n",
      "Workshop Details:\n",
      "\n",
      "\n",
      "Progress: 16.10%\n",
      "\n",
      "Processing URL 91/559\n",
      "Verarbeite URL: https://www.eversports.de/s/exquisuite\n",
      "Starte URL-Rekonstruktion...\n",
      "Error during HTTP request: 404 Client Error: Not Found for url: https://www.eversports.de/s/exquisuite\n",
      "Konvertiere in DataFrame...\n",
      "Validiere URLs...\n",
      "Verarbeitung abgeschlossen.\n",
      "\n",
      "Ergebnisse für URL: https://www.eversports.de/s/exquisuite\n",
      "Progress: 16.28%\n",
      "\n",
      "Processing URL 92/559\n",
      "Verarbeite URL: https://www.eversports.de/s/polefitness-tituba-m%C3%B6nchengladbach!\n",
      "Starte URL-Rekonstruktion...\n",
      "Error during HTTP request: 404 Client Error: Not Found for url: https://www.eversports.de/s/polefitness-tituba-m%C3%B6nchengladbach!\n",
      "Konvertiere in DataFrame...\n",
      "Validiere URLs...\n",
      "Verarbeitung abgeschlossen.\n",
      "\n",
      "Ergebnisse für URL: https://www.eversports.de/s/polefitness-tituba-m%C3%B6nchengladbach!\n",
      "Progress: 16.46%\n",
      "\n",
      "Processing URL 93/559\n",
      "Verarbeite URL: https://www.eversports.de/s/polemotions\n",
      "Starte URL-Rekonstruktion...\n",
      "Error during HTTP request: 404 Client Error: Not Found for url: https://www.eversports.de/s/polemotions\n",
      "Konvertiere in DataFrame...\n",
      "Validiere URLs...\n",
      "Verarbeitung abgeschlossen.\n",
      "\n",
      "Ergebnisse für URL: https://www.eversports.de/s/polemotions\n",
      "Progress: 16.64%\n",
      "\n",
      "Processing URL 94/559\n",
      "Verarbeite URL: https://www.eversports.de/s/Soul-Flight\n",
      "Starte URL-Rekonstruktion...\n"
     ]
    },
    {
     "name": "stderr",
     "output_type": "stream",
     "text": [
      "2024-01-26 16:00:11,146 - INFO - Processing URL 1/1: https://www.eversports.de/s/Soul-Flight\n"
     ]
    },
    {
     "name": "stdout",
     "output_type": "stream",
     "text": [
      "Konvertiere in DataFrame...\n",
      "Validiere URLs...\n"
     ]
    },
    {
     "name": "stderr",
     "output_type": "stream",
     "text": [
      "2024-01-26 16:00:13,661 - INFO - URL https://www.eversports.de/s/Soul-Flight is valid.\n"
     ]
    },
    {
     "name": "stdout",
     "output_type": "stream",
     "text": [
      "Scrape Pole Studio Daten von https://www.eversports.de/s/Soul-Flight...\n",
      "Verarbeitung abgeschlossen.\n",
      "\n",
      "Ergebnisse für URL: https://www.eversports.de/s/Soul-Flight\n",
      "Pole Studio Data:\n",
      "\n",
      "\n",
      "Progress: 16.82%\n",
      "\n",
      "Processing URL 95/559\n",
      "Verarbeite URL: https://www.eversports.de/s/lift-off-–-poledance-academy\n",
      "Starte URL-Rekonstruktion...\n",
      "Error during HTTP request: Exceeded 30 redirects.\n",
      "Konvertiere in DataFrame...\n",
      "Validiere URLs...\n",
      "Verarbeitung abgeschlossen.\n",
      "\n",
      "Ergebnisse für URL: https://www.eversports.de/s/lift-off-–-poledance-academy\n",
      "Progress: 16.99%\n",
      "\n",
      "Processing URL 96/559\n",
      "Verarbeite URL: https://www.eversports.de/s/vertical---pole-aerial-dance\n",
      "Starte URL-Rekonstruktion...\n",
      "Error during HTTP request: 404 Client Error: Not Found for url: https://www.eversports.de/s/vertical---pole-aerial-dance\n",
      "Konvertiere in DataFrame...\n",
      "Validiere URLs...\n",
      "Verarbeitung abgeschlossen.\n",
      "\n",
      "Ergebnisse für URL: https://www.eversports.de/s/vertical---pole-aerial-dance\n",
      "Progress: 17.17%\n",
      "\n",
      "Processing URL 97/559\n",
      "Verarbeite URL: https://www.eversports.de/s/poledreams\n",
      "Starte URL-Rekonstruktion...\n",
      "Error during HTTP request: 404 Client Error: Not Found for url: https://www.eversports.de/s/poledreams\n",
      "Konvertiere in DataFrame...\n",
      "Validiere URLs...\n",
      "Verarbeitung abgeschlossen.\n",
      "\n",
      "Ergebnisse für URL: https://www.eversports.de/s/poledreams\n",
      "Progress: 17.35%\n",
      "\n",
      "Processing URL 98/559\n",
      "Verarbeite URL: https://www.eversports.de/s/Pole-Dance-Krefeld\n",
      "Starte URL-Rekonstruktion...\n"
     ]
    },
    {
     "name": "stderr",
     "output_type": "stream",
     "text": [
      "2024-01-26 16:00:26,644 - INFO - Processing URL 1/7: https://www.eversports.de/s/Pole-Dance-Krefeld\n"
     ]
    },
    {
     "name": "stdout",
     "output_type": "stream",
     "text": [
      "Konvertiere in DataFrame...\n",
      "Validiere URLs...\n"
     ]
    },
    {
     "name": "stderr",
     "output_type": "stream",
     "text": [
      "2024-01-26 16:00:28,431 - INFO - URL https://www.eversports.de/s/Pole-Dance-Krefeld is valid.\n",
      "2024-01-26 16:00:28,431 - INFO - Processing URL 2/7: https://www.eversports.de/scl/Pole-Dance-Krefeld\n",
      "2024-01-26 16:00:29,846 - INFO - URL https://www.eversports.de/scl/Pole-Dance-Krefeld is valid.\n",
      "2024-01-26 16:00:29,846 - INFO - Processing URL 3/7: https://www.eversports.de/s/Pole-Dance-Krefeld/trainings\n",
      "2024-01-26 16:00:31,144 - INFO - URL https://www.eversports.de/s/Pole-Dance-Krefeld/trainings is not valid.\n",
      "2024-01-26 16:00:31,144 - INFO - Processing URL 4/7: https://www.eversports.de/sw/Pole-Dance-Krefeld\n",
      "2024-01-26 16:00:32,547 - INFO - URL https://www.eversports.de/sw/Pole-Dance-Krefeld is valid.\n",
      "2024-01-26 16:00:32,547 - INFO - Processing URL 5/7: https://www.eversports.de/s/Pole-Dance-Krefeld/videos\n",
      "2024-01-26 16:00:34,012 - INFO - URL https://www.eversports.de/s/Pole-Dance-Krefeld/videos is valid.\n",
      "2024-01-26 16:00:34,012 - INFO - Processing URL 6/7: https://www.eversports.de/sp/Pole-Dance-Krefeld\n",
      "2024-01-26 16:00:35,430 - INFO - URL https://www.eversports.de/sp/Pole-Dance-Krefeld is valid.\n",
      "2024-01-26 16:00:35,443 - INFO - Processing URL 7/7: https://www.eversports.de/s/Pole-Dance-Krefeld/team\n",
      "2024-01-26 16:00:36,998 - INFO - URL https://www.eversports.de/s/Pole-Dance-Krefeld/team is valid.\n"
     ]
    },
    {
     "name": "stdout",
     "output_type": "stream",
     "text": [
      "Scrape Pole Studio Daten von https://www.eversports.de/s/Pole-Dance-Krefeld...\n",
      "Scrape Klassen Daten von https://www.eversports.de/scl/Pole-Dance-Krefeld...\n",
      "Scrape Klassen Details von https://www.eversports.de/scl/Pole-Dance-Krefeld...\n",
      "Scrape Workshops Daten von https://www.eversports.de/sw/Pole-Dance-Krefeld...\n",
      "Scrape Workshop Details von https://www.eversports.de/e/workshop/AKLhjkw...\n",
      "Scrape Workshop Details von https://www.eversports.de/e/workshop/-EpTuWT...\n",
      "Scrape Workshop Details von https://www.eversports.de/e/workshop/hFi4nNH...\n",
      "Scrape Workshop Details von https://www.eversports.de/e/workshop/T5e_9Bp...\n",
      "Scrape Workshop Details von https://www.eversports.de/e/workshop/WkTS9HS...\n",
      "Scrape Workshop Details von https://www.eversports.de/e/workshop/_LQRruK...\n",
      "Verarbeitung abgeschlossen.\n",
      "\n",
      "Ergebnisse für URL: https://www.eversports.de/s/Pole-Dance-Krefeld\n",
      "Pole Studio Data:\n",
      "\n",
      "\n",
      "Classes Data:\n",
      "\n",
      "\n",
      "Classes Details:\n",
      "\n",
      "\n",
      "Workshops Data:\n",
      "\n",
      "\n",
      "Workshop Details:\n",
      "\n",
      "\n",
      "Progress: 17.53%\n",
      "\n",
      "Processing URL 99/559\n",
      "Verarbeite URL: https://www.eversports.de/s/poledance-rostock\n",
      "Starte URL-Rekonstruktion...\n",
      "Error during HTTP request: 404 Client Error: Not Found for url: https://www.eversports.de/s/poledance-rostock\n",
      "Konvertiere in DataFrame...\n",
      "Validiere URLs...\n",
      "Verarbeitung abgeschlossen.\n",
      "\n",
      "Ergebnisse für URL: https://www.eversports.de/s/poledance-rostock\n",
      "Progress: 17.71%\n",
      "\n",
      "Processing URL 100/559\n",
      "Verarbeite URL: https://www.eversports.de/s/niyaha-yoga-susann-kind\n",
      "Starte URL-Rekonstruktion...\n"
     ]
    },
    {
     "name": "stderr",
     "output_type": "stream",
     "text": [
      "2024-01-26 16:01:57,413 - INFO - Processing URL 1/7: https://www.eversports.de/s/niyaha-yoga-susann-kind\n"
     ]
    },
    {
     "name": "stdout",
     "output_type": "stream",
     "text": [
      "Konvertiere in DataFrame...\n",
      "Validiere URLs...\n"
     ]
    },
    {
     "name": "stderr",
     "output_type": "stream",
     "text": [
      "2024-01-26 16:01:59,082 - INFO - URL https://www.eversports.de/s/niyaha-yoga-susann-kind is valid.\n",
      "2024-01-26 16:01:59,082 - INFO - Processing URL 2/7: https://www.eversports.de/scl/niyaha-yoga-susann-kind\n",
      "2024-01-26 16:02:00,482 - INFO - URL https://www.eversports.de/scl/niyaha-yoga-susann-kind is valid.\n",
      "2024-01-26 16:02:00,482 - INFO - Processing URL 3/7: https://www.eversports.de/sw/niyaha-yoga-susann-kind\n",
      "2024-01-26 16:02:01,948 - INFO - URL https://www.eversports.de/sw/niyaha-yoga-susann-kind is valid.\n",
      "2024-01-26 16:02:01,949 - INFO - Processing URL 4/7: https://www.eversports.de/s/niyaha-yoga-susann-kind/events\n",
      "2024-01-26 16:02:03,234 - INFO - URL https://www.eversports.de/s/niyaha-yoga-susann-kind/events is not valid.\n",
      "2024-01-26 16:02:03,250 - INFO - Processing URL 5/7: https://www.eversports.de/s/niyaha-yoga-susann-kind/videos\n",
      "2024-01-26 16:02:04,617 - INFO - URL https://www.eversports.de/s/niyaha-yoga-susann-kind/videos is valid.\n",
      "2024-01-26 16:02:04,617 - INFO - Processing URL 6/7: https://www.eversports.de/sp/niyaha-yoga-susann-kind\n",
      "2024-01-26 16:02:06,084 - INFO - URL https://www.eversports.de/sp/niyaha-yoga-susann-kind is valid.\n",
      "2024-01-26 16:02:06,084 - INFO - Processing URL 7/7: https://www.eversports.de/s/niyaha-yoga-susann-kind/team\n",
      "2024-01-26 16:02:07,482 - INFO - URL https://www.eversports.de/s/niyaha-yoga-susann-kind/team is valid.\n"
     ]
    },
    {
     "name": "stdout",
     "output_type": "stream",
     "text": [
      "Scrape Pole Studio Daten von https://www.eversports.de/s/niyaha-yoga-susann-kind...\n",
      "Scrape Klassen Daten von https://www.eversports.de/scl/niyaha-yoga-susann-kind...\n",
      "Scrape Klassen Details von https://www.eversports.de/scl/niyaha-yoga-susann-kind...\n",
      "Scrape Workshops Daten von https://www.eversports.de/sw/niyaha-yoga-susann-kind...\n",
      "Scrape Workshop Details von https://www.eversports.de/e/workshop/u0m4PpJ...\n",
      "Scrape Workshop Details von https://www.eversports.de/e/workshop/Qph3Nhi...\n",
      "Scrape Workshop Details von https://www.eversports.de/e/workshop/cnaEonv...\n",
      "Scrape Workshop Details von https://www.eversports.de/e/workshop/VVUAlSC...\n",
      "Verarbeitung abgeschlossen.\n",
      "\n",
      "Ergebnisse für URL: https://www.eversports.de/s/niyaha-yoga-susann-kind\n",
      "Pole Studio Data:\n",
      "\n",
      "\n",
      "Classes Data:\n",
      "\n",
      "\n",
      "Classes Details:\n",
      "\n",
      "\n",
      "Workshops Data:\n",
      "\n",
      "\n",
      "Workshop Details:\n",
      "\n",
      "\n",
      "Progress: 17.89%\n",
      "\n",
      "Processing URL 101/559\n",
      "Verarbeite URL: https://www.eversports.de/s/lespole\n",
      "Starte URL-Rekonstruktion...\n"
     ]
    },
    {
     "name": "stderr",
     "output_type": "stream",
     "text": [
      "2024-01-26 16:02:57,133 - INFO - Processing URL 1/5: https://www.eversports.de/s/lespole\n"
     ]
    },
    {
     "name": "stdout",
     "output_type": "stream",
     "text": [
      "Konvertiere in DataFrame...\n",
      "Validiere URLs...\n"
     ]
    },
    {
     "name": "stderr",
     "output_type": "stream",
     "text": [
      "2024-01-26 16:02:58,832 - INFO - URL https://www.eversports.de/s/lespole is valid.\n",
      "2024-01-26 16:02:58,832 - INFO - Processing URL 2/5: https://www.eversports.de/scl/lespole\n",
      "2024-01-26 16:03:00,197 - INFO - URL https://www.eversports.de/scl/lespole is valid.\n",
      "2024-01-26 16:03:00,197 - INFO - Processing URL 3/5: https://www.eversports.de/sw/lespole\n",
      "2024-01-26 16:03:01,680 - INFO - URL https://www.eversports.de/sw/lespole is valid.\n",
      "2024-01-26 16:03:01,696 - INFO - Processing URL 4/5: https://www.eversports.de/sp/lespole\n",
      "2024-01-26 16:03:03,102 - INFO - URL https://www.eversports.de/sp/lespole is valid.\n",
      "2024-01-26 16:03:03,102 - INFO - Processing URL 5/5: https://www.eversports.de/s/lespole/team\n",
      "2024-01-26 16:03:04,801 - INFO - URL https://www.eversports.de/s/lespole/team is valid.\n"
     ]
    },
    {
     "name": "stdout",
     "output_type": "stream",
     "text": [
      "Scrape Pole Studio Daten von https://www.eversports.de/s/lespole...\n",
      "Scrape Klassen Daten von https://www.eversports.de/scl/lespole...\n",
      "Scrape Klassen Details von https://www.eversports.de/scl/lespole...\n",
      "Scrape Workshops Daten von https://www.eversports.de/sw/lespole...\n",
      "Scrape Workshop Details von https://www.eversports.de/e/workshop/ph8TlfO...\n",
      "Verarbeitung abgeschlossen.\n",
      "\n",
      "Ergebnisse für URL: https://www.eversports.de/s/lespole\n",
      "Pole Studio Data:\n",
      "\n",
      "\n",
      "Classes Data:\n",
      "\n",
      "\n",
      "Classes Details:\n",
      "\n",
      "\n",
      "Workshops Data:\n",
      "\n",
      "\n",
      "Workshop Details:\n",
      "\n",
      "\n",
      "Progress: 18.07%\n",
      "\n",
      "Processing URL 102/559\n",
      "Verarbeite URL: https://www.eversports.de/s/la-belle\n",
      "Starte URL-Rekonstruktion...\n"
     ]
    },
    {
     "name": "stderr",
     "output_type": "stream",
     "text": [
      "2024-01-26 16:03:50,298 - INFO - Processing URL 1/5: https://www.eversports.de/s/la-belle\n"
     ]
    },
    {
     "name": "stdout",
     "output_type": "stream",
     "text": [
      "Konvertiere in DataFrame...\n",
      "Validiere URLs...\n"
     ]
    },
    {
     "name": "stderr",
     "output_type": "stream",
     "text": [
      "2024-01-26 16:03:51,872 - INFO - URL https://www.eversports.de/s/la-belle is valid.\n",
      "2024-01-26 16:03:51,872 - INFO - Processing URL 2/5: https://www.eversports.de/scl/la-belle\n",
      "2024-01-26 16:03:53,281 - INFO - URL https://www.eversports.de/scl/la-belle is valid.\n",
      "2024-01-26 16:03:53,281 - INFO - Processing URL 3/5: https://www.eversports.de/s/la-belle/kurse\n",
      "2024-01-26 16:03:54,579 - INFO - URL https://www.eversports.de/s/la-belle/kurse is not valid.\n",
      "2024-01-26 16:03:54,579 - INFO - Processing URL 4/5: https://www.eversports.de/sp/la-belle\n",
      "2024-01-26 16:03:55,917 - INFO - URL https://www.eversports.de/sp/la-belle is valid.\n",
      "2024-01-26 16:03:55,917 - INFO - Processing URL 5/5: https://www.eversports.de/s/la-belle/team\n",
      "2024-01-26 16:03:57,336 - INFO - URL https://www.eversports.de/s/la-belle/team is valid.\n"
     ]
    },
    {
     "name": "stdout",
     "output_type": "stream",
     "text": [
      "Scrape Pole Studio Daten von https://www.eversports.de/s/la-belle...\n",
      "Scrape Klassen Daten von https://www.eversports.de/scl/la-belle...\n",
      "Scrape Klassen Details von https://www.eversports.de/scl/la-belle...\n",
      "Verarbeitung abgeschlossen.\n",
      "\n",
      "Ergebnisse für URL: https://www.eversports.de/s/la-belle\n",
      "Pole Studio Data:\n",
      "\n",
      "\n",
      "Classes Data:\n",
      "\n",
      "\n",
      "Classes Details:\n",
      "\n",
      "\n",
      "Progress: 18.25%\n",
      "\n",
      "Processing URL 103/559\n",
      "Verarbeite URL: https://www.eversports.de/s/balance-neumarkt\n",
      "Starte URL-Rekonstruktion...\n",
      "Error during HTTP request: 502 Server Error: Bad Gateway for url: https://www.eversports.de/s/balance-neumarkt\n",
      "Konvertiere in DataFrame...\n",
      "Validiere URLs...\n",
      "Verarbeitung abgeschlossen.\n",
      "\n",
      "Ergebnisse für URL: https://www.eversports.de/s/balance-neumarkt\n",
      "Progress: 18.43%\n",
      "\n",
      "Processing URL 104/559\n",
      "Verarbeite URL: https://www.eversports.de/s/poleathletix\n",
      "Starte URL-Rekonstruktion...\n"
     ]
    },
    {
     "name": "stderr",
     "output_type": "stream",
     "text": [
      "2024-01-26 16:04:42,517 - INFO - Processing URL 1/6: https://www.eversports.de/s/poleathletix\n"
     ]
    },
    {
     "name": "stdout",
     "output_type": "stream",
     "text": [
      "Konvertiere in DataFrame...\n",
      "Validiere URLs...\n"
     ]
    },
    {
     "name": "stderr",
     "output_type": "stream",
     "text": [
      "2024-01-26 16:04:44,654 - INFO - URL https://www.eversports.de/s/poleathletix is valid.\n",
      "2024-01-26 16:04:44,654 - INFO - Processing URL 2/6: https://www.eversports.de/scl/poleathletix\n",
      "2024-01-26 16:04:46,118 - INFO - URL https://www.eversports.de/scl/poleathletix is valid.\n",
      "2024-01-26 16:04:46,118 - INFO - Processing URL 3/6: https://www.eversports.de/s/poleathletix/trainings\n",
      "2024-01-26 16:04:47,401 - INFO - URL https://www.eversports.de/s/poleathletix/trainings is not valid.\n",
      "2024-01-26 16:04:47,402 - INFO - Processing URL 4/6: https://www.eversports.de/sw/poleathletix\n",
      "2024-01-26 16:04:49,000 - INFO - URL https://www.eversports.de/sw/poleathletix is valid.\n",
      "2024-01-26 16:04:49,001 - INFO - Processing URL 5/6: https://www.eversports.de/sp/poleathletix\n",
      "2024-01-26 16:04:50,535 - INFO - URL https://www.eversports.de/sp/poleathletix is valid.\n",
      "2024-01-26 16:04:50,535 - INFO - Processing URL 6/6: https://www.eversports.de/s/poleathletix/team\n",
      "2024-01-26 16:04:52,018 - INFO - URL https://www.eversports.de/s/poleathletix/team is valid.\n"
     ]
    },
    {
     "name": "stdout",
     "output_type": "stream",
     "text": [
      "Scrape Pole Studio Daten von https://www.eversports.de/s/poleathletix...\n",
      "Scrape Klassen Daten von https://www.eversports.de/scl/poleathletix...\n",
      "Scrape Klassen Details von https://www.eversports.de/scl/poleathletix...\n",
      "Scrape Workshops Daten von https://www.eversports.de/sw/poleathletix...\n",
      "Scrape Workshop Details von https://www.eversports.de/e/workshop/bFfG7kg...\n",
      "Scrape Workshop Details von https://www.eversports.de/e/workshop/fWcLCKr...\n",
      "Scrape Workshop Details von https://www.eversports.de/e/workshop/Tb_3jSS...\n",
      "Scrape Workshop Details von https://www.eversports.de/e/workshop/BCHRRb3...\n",
      "Scrape Workshop Details von https://www.eversports.de/e/workshop/LuQ-jUD...\n",
      "Scrape Workshop Details von https://www.eversports.de/e/workshop/wpcpX0U...\n",
      "Scrape Workshop Details von https://www.eversports.de/e/workshop/csrqGyT...\n",
      "Scrape Workshop Details von https://www.eversports.de/e/workshop/rXgOpSM...\n",
      "Scrape Workshop Details von https://www.eversports.de/e/workshop/GPwT8hl...\n",
      "Scrape Workshop Details von https://www.eversports.de/e/workshop/Q4B35ej...\n",
      "Verarbeitung abgeschlossen.\n",
      "\n",
      "Ergebnisse für URL: https://www.eversports.de/s/poleathletix\n",
      "Pole Studio Data:\n",
      "\n",
      "\n",
      "Classes Data:\n",
      "\n",
      "\n",
      "Classes Details:\n",
      "\n",
      "\n",
      "Workshops Data:\n",
      "\n",
      "\n",
      "Workshop Details:\n",
      "\n",
      "\n",
      "Progress: 18.60%\n",
      "\n",
      "Processing URL 105/559\n",
      "Verarbeite URL: https://www.eversports.de/s/dance-and-pole-leverkusen\n",
      "Starte URL-Rekonstruktion...\n"
     ]
    },
    {
     "name": "stderr",
     "output_type": "stream",
     "text": [
      "2024-01-26 16:05:40,585 - INFO - Processing URL 1/5: https://www.eversports.de/s/dance-and-pole-leverkusen\n"
     ]
    },
    {
     "name": "stdout",
     "output_type": "stream",
     "text": [
      "Konvertiere in DataFrame...\n",
      "Validiere URLs...\n"
     ]
    },
    {
     "name": "stderr",
     "output_type": "stream",
     "text": [
      "2024-01-26 16:05:42,284 - INFO - URL https://www.eversports.de/s/dance-and-pole-leverkusen is valid.\n",
      "2024-01-26 16:05:42,284 - INFO - Processing URL 2/5: https://www.eversports.de/scl/dance-and-pole-leverkusen\n",
      "2024-01-26 16:05:43,753 - INFO - URL https://www.eversports.de/scl/dance-and-pole-leverkusen is valid.\n",
      "2024-01-26 16:05:43,753 - INFO - Processing URL 3/5: https://www.eversports.de/sw/dance-and-pole-leverkusen\n",
      "2024-01-26 16:05:45,131 - INFO - URL https://www.eversports.de/sw/dance-and-pole-leverkusen is valid.\n",
      "2024-01-26 16:05:45,131 - INFO - Processing URL 4/5: https://www.eversports.de/sp/dance-and-pole-leverkusen\n",
      "2024-01-26 16:05:46,534 - INFO - URL https://www.eversports.de/sp/dance-and-pole-leverkusen is valid.\n",
      "2024-01-26 16:05:46,534 - INFO - Processing URL 5/5: https://www.eversports.de/s/dance-and-pole-leverkusen/team\n",
      "2024-01-26 16:05:47,970 - INFO - URL https://www.eversports.de/s/dance-and-pole-leverkusen/team is valid.\n"
     ]
    },
    {
     "name": "stdout",
     "output_type": "stream",
     "text": [
      "Scrape Pole Studio Daten von https://www.eversports.de/s/dance-and-pole-leverkusen...\n",
      "Scrape Klassen Daten von https://www.eversports.de/scl/dance-and-pole-leverkusen...\n",
      "Scrape Klassen Details von https://www.eversports.de/scl/dance-and-pole-leverkusen...\n",
      "Scrape Workshops Daten von https://www.eversports.de/sw/dance-and-pole-leverkusen...\n",
      "Scrape Workshop Details von https://www.eversports.de/e/workshop/II-gWEL...\n",
      "Verarbeitung abgeschlossen.\n",
      "\n",
      "Ergebnisse für URL: https://www.eversports.de/s/dance-and-pole-leverkusen\n",
      "Pole Studio Data:\n",
      "\n",
      "\n",
      "Classes Data:\n",
      "\n",
      "\n",
      "Classes Details:\n",
      "\n",
      "\n",
      "Workshops Data:\n",
      "\n",
      "\n",
      "Workshop Details:\n",
      "\n",
      "\n",
      "Progress: 18.78%\n",
      "\n",
      "Processing URL 106/559\n",
      "Verarbeite URL: https://www.eversports.de/s/Polefly-Academy\n",
      "Starte URL-Rekonstruktion...\n"
     ]
    },
    {
     "name": "stderr",
     "output_type": "stream",
     "text": [
      "2024-01-26 16:06:29,333 - INFO - Processing URL 1/4: https://www.eversports.de/s/Polefly-Academy\n"
     ]
    },
    {
     "name": "stdout",
     "output_type": "stream",
     "text": [
      "Konvertiere in DataFrame...\n",
      "Validiere URLs...\n"
     ]
    },
    {
     "name": "stderr",
     "output_type": "stream",
     "text": [
      "2024-01-26 16:06:30,904 - INFO - URL https://www.eversports.de/s/Polefly-Academy is valid.\n",
      "2024-01-26 16:06:30,904 - INFO - Processing URL 2/4: https://www.eversports.de/scl/Polefly-Academy\n",
      "2024-01-26 16:06:32,738 - INFO - URL https://www.eversports.de/scl/Polefly-Academy is valid.\n",
      "2024-01-26 16:06:32,738 - INFO - Processing URL 3/4: https://www.eversports.de/sp/Polefly-Academy\n",
      "2024-01-26 16:06:34,173 - INFO - URL https://www.eversports.de/sp/Polefly-Academy is valid.\n",
      "2024-01-26 16:06:34,173 - INFO - Processing URL 4/4: https://www.eversports.de/s/Polefly-Academy/team\n",
      "2024-01-26 16:06:35,871 - INFO - URL https://www.eversports.de/s/Polefly-Academy/team is valid.\n"
     ]
    },
    {
     "name": "stdout",
     "output_type": "stream",
     "text": [
      "Scrape Pole Studio Daten von https://www.eversports.de/s/Polefly-Academy...\n",
      "Scrape Klassen Daten von https://www.eversports.de/scl/Polefly-Academy...\n",
      "Scrape Klassen Details von https://www.eversports.de/scl/Polefly-Academy...\n",
      "Verarbeitung abgeschlossen.\n",
      "\n",
      "Ergebnisse für URL: https://www.eversports.de/s/Polefly-Academy\n",
      "Pole Studio Data:\n",
      "\n",
      "\n",
      "Classes Data:\n",
      "\n",
      "\n",
      "Classes Details:\n",
      "\n",
      "\n",
      "Progress: 18.96%\n",
      "\n",
      "Processing URL 107/559\n",
      "Verarbeite URL: https://www.eversports.de/s/Pole-Dance-Palazzo-Sportivo\n",
      "Starte URL-Rekonstruktion...\n"
     ]
    },
    {
     "name": "stderr",
     "output_type": "stream",
     "text": [
      "2024-01-26 16:06:51,734 - INFO - Processing URL 1/1: https://www.eversports.de/s/Pole-Dance-Palazzo-Sportivo\n"
     ]
    },
    {
     "name": "stdout",
     "output_type": "stream",
     "text": [
      "Konvertiere in DataFrame...\n",
      "Validiere URLs...\n"
     ]
    },
    {
     "name": "stderr",
     "output_type": "stream",
     "text": [
      "2024-01-26 16:06:53,457 - INFO - URL https://www.eversports.de/s/Pole-Dance-Palazzo-Sportivo is valid.\n"
     ]
    },
    {
     "name": "stdout",
     "output_type": "stream",
     "text": [
      "Scrape Pole Studio Daten von https://www.eversports.de/s/Pole-Dance-Palazzo-Sportivo...\n",
      "Verarbeitung abgeschlossen.\n",
      "\n",
      "Ergebnisse für URL: https://www.eversports.de/s/Pole-Dance-Palazzo-Sportivo\n",
      "Pole Studio Data:\n",
      "\n",
      "\n",
      "Progress: 19.14%\n",
      "\n",
      "Processing URL 108/559\n",
      "Verarbeite URL: https://www.eversports.de/s/st-polestudio\n",
      "Starte URL-Rekonstruktion...\n"
     ]
    },
    {
     "name": "stderr",
     "output_type": "stream",
     "text": [
      "2024-01-26 16:06:55,954 - INFO - Processing URL 1/4: https://www.eversports.de/s/st-polestudio\n"
     ]
    },
    {
     "name": "stdout",
     "output_type": "stream",
     "text": [
      "Konvertiere in DataFrame...\n",
      "Validiere URLs...\n"
     ]
    },
    {
     "name": "stderr",
     "output_type": "stream",
     "text": [
      "2024-01-26 16:06:57,372 - INFO - URL https://www.eversports.de/s/st-polestudio is valid.\n",
      "2024-01-26 16:06:57,372 - INFO - Processing URL 2/4: https://www.eversports.de/scl/st-polestudio\n",
      "2024-01-26 16:07:00,010 - INFO - URL https://www.eversports.de/scl/st-polestudio is valid.\n",
      "2024-01-26 16:07:00,010 - INFO - Processing URL 3/4: https://www.eversports.de/sp/st-polestudio\n",
      "2024-01-26 16:07:01,333 - INFO - URL https://www.eversports.de/sp/st-polestudio is valid.\n",
      "2024-01-26 16:07:01,333 - INFO - Processing URL 4/4: https://www.eversports.de/s/st-polestudio/team\n",
      "2024-01-26 16:07:02,735 - INFO - URL https://www.eversports.de/s/st-polestudio/team is valid.\n"
     ]
    },
    {
     "name": "stdout",
     "output_type": "stream",
     "text": [
      "Scrape Pole Studio Daten von https://www.eversports.de/s/st-polestudio...\n",
      "Scrape Klassen Daten von https://www.eversports.de/scl/st-polestudio...\n",
      "Scrape Klassen Details von https://www.eversports.de/scl/st-polestudio...\n",
      "Verarbeitung abgeschlossen.\n",
      "\n",
      "Ergebnisse für URL: https://www.eversports.de/s/st-polestudio\n",
      "Pole Studio Data:\n",
      "\n",
      "\n",
      "Classes Data:\n",
      "\n",
      "\n",
      "Classes Details:\n",
      "\n",
      "\n",
      "Progress: 19.32%\n",
      "\n",
      "Processing URL 109/559\n",
      "Verarbeite URL: https://www.eversports.de/s/nordpole\n",
      "Starte URL-Rekonstruktion...\n"
     ]
    },
    {
     "name": "stderr",
     "output_type": "stream",
     "text": [
      "2024-01-26 16:07:25,771 - INFO - Processing URL 1/7: https://www.eversports.de/s/nordpole\n"
     ]
    },
    {
     "name": "stdout",
     "output_type": "stream",
     "text": [
      "Konvertiere in DataFrame...\n",
      "Validiere URLs...\n"
     ]
    },
    {
     "name": "stderr",
     "output_type": "stream",
     "text": [
      "2024-01-26 16:07:27,371 - INFO - URL https://www.eversports.de/s/nordpole is valid.\n",
      "2024-01-26 16:07:27,371 - INFO - Processing URL 2/7: https://www.eversports.de/scl/nordpole\n",
      "2024-01-26 16:07:28,871 - INFO - URL https://www.eversports.de/scl/nordpole is valid.\n",
      "2024-01-26 16:07:28,871 - INFO - Processing URL 3/7: https://www.eversports.de/sw/nordpole\n",
      "2024-01-26 16:07:30,407 - INFO - URL https://www.eversports.de/sw/nordpole is valid.\n",
      "2024-01-26 16:07:30,407 - INFO - Processing URL 4/7: https://www.eversports.de/s/nordpole/events\n",
      "2024-01-26 16:07:32,122 - INFO - URL https://www.eversports.de/s/nordpole/events is not valid.\n",
      "2024-01-26 16:07:32,122 - INFO - Processing URL 5/7: https://www.eversports.de/s/nordpole/videos\n",
      "2024-01-26 16:07:33,505 - INFO - URL https://www.eversports.de/s/nordpole/videos is valid.\n",
      "2024-01-26 16:07:33,505 - INFO - Processing URL 6/7: https://www.eversports.de/sp/nordpole\n",
      "2024-01-26 16:07:35,007 - INFO - URL https://www.eversports.de/sp/nordpole is valid.\n",
      "2024-01-26 16:07:35,007 - INFO - Processing URL 7/7: https://www.eversports.de/s/nordpole/team\n",
      "2024-01-26 16:07:36,537 - INFO - URL https://www.eversports.de/s/nordpole/team is valid.\n"
     ]
    },
    {
     "name": "stdout",
     "output_type": "stream",
     "text": [
      "Scrape Pole Studio Daten von https://www.eversports.de/s/nordpole...\n",
      "Scrape Klassen Daten von https://www.eversports.de/scl/nordpole...\n",
      "Scrape Klassen Details von https://www.eversports.de/scl/nordpole...\n",
      "Scrape Workshops Daten von https://www.eversports.de/sw/nordpole...\n",
      "Scrape Workshop Details von https://www.eversports.de/e/workshop/eNLYiTi...\n",
      "Scrape Workshop Details von https://www.eversports.de/e/workshop/kP5QagX...\n",
      "Verarbeitung abgeschlossen.\n",
      "\n",
      "Ergebnisse für URL: https://www.eversports.de/s/nordpole\n",
      "Pole Studio Data:\n",
      "\n",
      "\n",
      "Classes Data:\n",
      "\n",
      "\n",
      "Classes Details:\n",
      "\n",
      "\n",
      "Workshops Data:\n",
      "\n",
      "\n",
      "Workshop Details:\n",
      "\n",
      "\n",
      "Progress: 19.50%\n",
      "\n",
      "Processing URL 110/559\n",
      "Verarbeite URL: https://www.eversports.de/s/Polefamily-Koblenz\n",
      "Starte URL-Rekonstruktion...\n"
     ]
    },
    {
     "name": "stderr",
     "output_type": "stream",
     "text": [
      "2024-01-26 16:10:16,277 - INFO - Processing URL 1/4: https://www.eversports.de/s/Polefamily-Koblenz\n"
     ]
    },
    {
     "name": "stdout",
     "output_type": "stream",
     "text": [
      "Konvertiere in DataFrame...\n",
      "Validiere URLs...\n"
     ]
    },
    {
     "name": "stderr",
     "output_type": "stream",
     "text": [
      "2024-01-26 16:10:17,926 - INFO - URL https://www.eversports.de/s/Polefamily-Koblenz is valid.\n",
      "2024-01-26 16:10:17,926 - INFO - Processing URL 2/4: https://www.eversports.de/scl/Polefamily-Koblenz\n",
      "2024-01-26 16:10:19,441 - INFO - URL https://www.eversports.de/scl/Polefamily-Koblenz is valid.\n",
      "2024-01-26 16:10:19,442 - INFO - Processing URL 3/4: https://www.eversports.de/sp/Polefamily-Koblenz\n",
      "2024-01-26 16:10:20,925 - INFO - URL https://www.eversports.de/sp/Polefamily-Koblenz is valid.\n",
      "2024-01-26 16:10:20,926 - INFO - Processing URL 4/4: https://www.eversports.de/s/Polefamily-Koblenz/team\n",
      "2024-01-26 16:10:23,772 - INFO - URL https://www.eversports.de/s/Polefamily-Koblenz/team is valid.\n"
     ]
    },
    {
     "name": "stdout",
     "output_type": "stream",
     "text": [
      "Scrape Pole Studio Daten von https://www.eversports.de/s/Polefamily-Koblenz...\n",
      "Scrape Klassen Daten von https://www.eversports.de/scl/Polefamily-Koblenz...\n",
      "Scrape Klassen Details von https://www.eversports.de/scl/Polefamily-Koblenz...\n",
      "Verarbeitung abgeschlossen.\n",
      "\n",
      "Ergebnisse für URL: https://www.eversports.de/s/Polefamily-Koblenz\n",
      "Pole Studio Data:\n",
      "\n",
      "\n",
      "Classes Data:\n",
      "\n",
      "\n",
      "Classes Details:\n",
      "\n",
      "\n",
      "Progress: 19.68%\n",
      "\n",
      "Processing URL 111/559\n",
      "Verarbeite URL: https://www.eversports.de/s/tanzschule-poledance-reutlingen\n",
      "Starte URL-Rekonstruktion...\n"
     ]
    },
    {
     "name": "stderr",
     "output_type": "stream",
     "text": [
      "2024-01-26 16:11:14,590 - INFO - Processing URL 1/5: https://www.eversports.de/s/tanzschule-poledance-reutlingen\n"
     ]
    },
    {
     "name": "stdout",
     "output_type": "stream",
     "text": [
      "Konvertiere in DataFrame...\n",
      "Validiere URLs...\n"
     ]
    },
    {
     "name": "stderr",
     "output_type": "stream",
     "text": [
      "2024-01-26 16:11:16,212 - INFO - URL https://www.eversports.de/s/tanzschule-poledance-reutlingen is valid.\n",
      "2024-01-26 16:11:16,212 - INFO - Processing URL 2/5: https://www.eversports.de/scl/tanzschule-poledance-reutlingen\n",
      "2024-01-26 16:11:17,707 - INFO - URL https://www.eversports.de/scl/tanzschule-poledance-reutlingen is valid.\n",
      "2024-01-26 16:11:17,707 - INFO - Processing URL 3/5: https://www.eversports.de/s/tanzschule-poledance-reutlingen/videos\n",
      "2024-01-26 16:11:19,094 - INFO - URL https://www.eversports.de/s/tanzschule-poledance-reutlingen/videos is valid.\n",
      "2024-01-26 16:11:19,094 - INFO - Processing URL 4/5: https://www.eversports.de/sp/tanzschule-poledance-reutlingen\n",
      "2024-01-26 16:11:20,510 - INFO - URL https://www.eversports.de/sp/tanzschule-poledance-reutlingen is valid.\n",
      "2024-01-26 16:11:20,510 - INFO - Processing URL 5/5: https://www.eversports.de/s/tanzschule-poledance-reutlingen/team\n",
      "2024-01-26 16:11:22,059 - INFO - URL https://www.eversports.de/s/tanzschule-poledance-reutlingen/team is valid.\n"
     ]
    },
    {
     "name": "stdout",
     "output_type": "stream",
     "text": [
      "Scrape Pole Studio Daten von https://www.eversports.de/s/tanzschule-poledance-reutlingen...\n",
      "Scrape Klassen Daten von https://www.eversports.de/scl/tanzschule-poledance-reutlingen...\n",
      "Scrape Klassen Details von https://www.eversports.de/scl/tanzschule-poledance-reutlingen...\n",
      "Verarbeitung abgeschlossen.\n",
      "\n",
      "Ergebnisse für URL: https://www.eversports.de/s/tanzschule-poledance-reutlingen\n",
      "Pole Studio Data:\n",
      "\n",
      "\n",
      "Classes Data:\n",
      "\n",
      "\n",
      "Classes Details:\n",
      "\n",
      "\n",
      "Progress: 19.86%\n",
      "\n",
      "Processing URL 112/559\n",
      "Verarbeite URL: https://www.eversports.de/s/feel-good-factory%3A-pole-%E2%80%A2-stretch-%E2%80%A2-fly\n",
      "Starte URL-Rekonstruktion...\n",
      "Error during HTTP request: Exceeded 30 redirects.\n",
      "Konvertiere in DataFrame...\n",
      "Validiere URLs...\n",
      "Verarbeitung abgeschlossen.\n",
      "\n",
      "Ergebnisse für URL: https://www.eversports.de/s/feel-good-factory%3A-pole-%E2%80%A2-stretch-%E2%80%A2-fly\n",
      "Progress: 20.04%\n",
      "\n",
      "Processing URL 113/559\n",
      "Verarbeite URL: https://www.eversports.de/s/k%C3%B6rpernah\n",
      "Starte URL-Rekonstruktion...\n",
      "Error during HTTP request: Exceeded 30 redirects.\n",
      "Konvertiere in DataFrame...\n",
      "Validiere URLs...\n",
      "Verarbeitung abgeschlossen.\n",
      "\n",
      "Ergebnisse für URL: https://www.eversports.de/s/k%C3%B6rpernah\n",
      "Progress: 20.21%\n",
      "\n",
      "Processing URL 114/559\n",
      "Verarbeite URL: https://www.eversports.de/s/flexx-arts-memmingen\n",
      "Starte URL-Rekonstruktion...\n",
      "Error during HTTP request: 404 Client Error: Not Found for url: https://www.eversports.de/s/flexx-arts-memmingen\n",
      "Konvertiere in DataFrame...\n",
      "Validiere URLs...\n",
      "Verarbeitung abgeschlossen.\n",
      "\n",
      "Ergebnisse für URL: https://www.eversports.de/s/flexx-arts-memmingen\n",
      "Progress: 20.39%\n",
      "\n",
      "Processing URL 115/559\n",
      "Verarbeite URL: https://www.eversports.de/s/vertical-kay-poledance-%26-aerialarts-studio\n",
      "Starte URL-Rekonstruktion...\n",
      "Error during HTTP request: 404 Client Error: Not Found for url: https://www.eversports.de/s/vertical-kay-poledance-%26-aerialarts-studio\n",
      "Konvertiere in DataFrame...\n",
      "Validiere URLs...\n",
      "Verarbeitung abgeschlossen.\n",
      "\n",
      "Ergebnisse für URL: https://www.eversports.de/s/vertical-kay-poledance-%26-aerialarts-studio\n",
      "Progress: 20.57%\n",
      "\n",
      "Processing URL 116/559\n",
      "Verarbeite URL: https://www.eversports.de/s/aircrobatic-studios-m%C3%BCnchen\n",
      "Starte URL-Rekonstruktion...\n",
      "Error during HTTP request: Exceeded 30 redirects.\n",
      "Konvertiere in DataFrame...\n",
      "Validiere URLs...\n",
      "Verarbeitung abgeschlossen.\n",
      "\n",
      "Ergebnisse für URL: https://www.eversports.de/s/aircrobatic-studios-m%C3%BCnchen\n",
      "Progress: 20.75%\n",
      "\n",
      "Processing URL 117/559\n",
      "Verarbeite URL: https://www.eversports.de/s/polearize\n",
      "Starte URL-Rekonstruktion...\n"
     ]
    },
    {
     "name": "stderr",
     "output_type": "stream",
     "text": [
      "2024-01-26 16:13:35,094 - INFO - Processing URL 1/5: https://www.eversports.de/s/polearize\n"
     ]
    },
    {
     "name": "stdout",
     "output_type": "stream",
     "text": [
      "Konvertiere in DataFrame...\n",
      "Validiere URLs...\n"
     ]
    },
    {
     "name": "stderr",
     "output_type": "stream",
     "text": [
      "2024-01-26 16:13:36,731 - INFO - URL https://www.eversports.de/s/polearize is valid.\n",
      "2024-01-26 16:13:36,731 - INFO - Processing URL 2/5: https://www.eversports.de/scl/polearize\n",
      "2024-01-26 16:13:38,143 - INFO - URL https://www.eversports.de/scl/polearize is valid.\n",
      "2024-01-26 16:13:38,143 - INFO - Processing URL 3/5: https://www.eversports.de/sw/polearize\n",
      "2024-01-26 16:13:39,592 - INFO - URL https://www.eversports.de/sw/polearize is valid.\n",
      "2024-01-26 16:13:39,593 - INFO - Processing URL 4/5: https://www.eversports.de/sp/polearize\n",
      "2024-01-26 16:13:40,962 - INFO - URL https://www.eversports.de/sp/polearize is valid.\n",
      "2024-01-26 16:13:40,962 - INFO - Processing URL 5/5: https://www.eversports.de/s/polearize/team\n",
      "2024-01-26 16:13:42,495 - INFO - URL https://www.eversports.de/s/polearize/team is valid.\n"
     ]
    },
    {
     "name": "stdout",
     "output_type": "stream",
     "text": [
      "Scrape Pole Studio Daten von https://www.eversports.de/s/polearize...\n",
      "Scrape Klassen Daten von https://www.eversports.de/scl/polearize...\n",
      "Scrape Klassen Details von https://www.eversports.de/scl/polearize...\n",
      "Scrape Workshops Daten von https://www.eversports.de/sw/polearize...\n",
      "Scrape Workshop Details von https://www.eversports.de/e/workshop/1m_jLPa...\n",
      "Scrape Workshop Details von https://www.eversports.de/e/workshop/5N9aoto...\n",
      "Scrape Workshop Details von https://www.eversports.de/e/workshop/7QwFsx3...\n",
      "Verarbeitung abgeschlossen.\n",
      "\n",
      "Ergebnisse für URL: https://www.eversports.de/s/polearize\n",
      "Pole Studio Data:\n",
      "\n",
      "\n",
      "Classes Data:\n",
      "\n",
      "\n",
      "Classes Details:\n",
      "\n",
      "\n",
      "Workshops Data:\n",
      "\n",
      "\n",
      "Workshop Details:\n",
      "\n",
      "\n",
      "Progress: 20.93%\n",
      "\n",
      "Processing URL 118/559\n",
      "Verarbeite URL: https://www.eversports.de/s/saltosandra\n",
      "Starte URL-Rekonstruktion...\n",
      "Error during HTTP request: 404 Client Error: Not Found for url: https://www.eversports.de/s/saltosandra\n",
      "Konvertiere in DataFrame...\n",
      "Validiere URLs...\n",
      "Verarbeitung abgeschlossen.\n",
      "\n",
      "Ergebnisse für URL: https://www.eversports.de/s/saltosandra\n",
      "Progress: 21.11%\n",
      "\n",
      "Processing URL 119/559\n",
      "Verarbeite URL: https://www.eversports.de/s/CALIPSO-STUDIO\n",
      "Starte URL-Rekonstruktion...\n"
     ]
    },
    {
     "name": "stderr",
     "output_type": "stream",
     "text": [
      "2024-01-26 16:15:31,750 - INFO - Processing URL 1/6: https://www.eversports.de/s/CALIPSO-STUDIO\n"
     ]
    },
    {
     "name": "stdout",
     "output_type": "stream",
     "text": [
      "Konvertiere in DataFrame...\n",
      "Validiere URLs...\n"
     ]
    },
    {
     "name": "stderr",
     "output_type": "stream",
     "text": [
      "2024-01-26 16:15:33,662 - INFO - URL https://www.eversports.de/s/CALIPSO-STUDIO is valid.\n",
      "2024-01-26 16:15:33,662 - INFO - Processing URL 2/6: https://www.eversports.de/scl/CALIPSO-STUDIO\n",
      "2024-01-26 16:15:35,147 - INFO - URL https://www.eversports.de/scl/CALIPSO-STUDIO is not valid.\n",
      "2024-01-26 16:15:35,147 - INFO - Processing URL 3/6: https://www.eversports.de/s/CALIPSO-STUDIO/kurse\n",
      "2024-01-26 16:15:36,445 - INFO - URL https://www.eversports.de/s/CALIPSO-STUDIO/kurse is not valid.\n",
      "2024-01-26 16:15:36,447 - INFO - Processing URL 4/6: https://www.eversports.de/s/CALIPSO-STUDIO/videos\n",
      "2024-01-26 16:15:38,245 - INFO - URL https://www.eversports.de/s/CALIPSO-STUDIO/videos is not valid.\n",
      "2024-01-26 16:15:38,246 - INFO - Processing URL 5/6: https://www.eversports.de/sp/CALIPSO-STUDIO\n",
      "2024-01-26 16:15:39,594 - INFO - URL https://www.eversports.de/sp/CALIPSO-STUDIO is not valid.\n",
      "2024-01-26 16:15:39,594 - INFO - Processing URL 6/6: https://www.eversports.de/s/CALIPSO-STUDIO/team\n",
      "2024-01-26 16:15:41,183 - INFO - URL https://www.eversports.de/s/CALIPSO-STUDIO/team is valid.\n"
     ]
    },
    {
     "name": "stdout",
     "output_type": "stream",
     "text": [
      "Scrape Pole Studio Daten von https://www.eversports.de/s/CALIPSO-STUDIO...\n",
      "Verarbeitung abgeschlossen.\n",
      "\n",
      "Ergebnisse für URL: https://www.eversports.de/s/CALIPSO-STUDIO\n",
      "Pole Studio Data:\n",
      "\n",
      "\n",
      "Progress: 21.29%\n",
      "\n",
      "Processing URL 120/559\n",
      "Verarbeite URL: https://www.eversports.de/s/move-Lounge---Pilates,-PowerPlate,-TRX,-Personaltraining\n",
      "Starte URL-Rekonstruktion...\n",
      "Error during HTTP request: 404 Client Error: Not Found for url: https://www.eversports.de/s/move-Lounge---Pilates,-PowerPlate,-TRX,-Personaltraining\n",
      "Konvertiere in DataFrame...\n",
      "Validiere URLs...\n",
      "Verarbeitung abgeschlossen.\n",
      "\n",
      "Ergebnisse für URL: https://www.eversports.de/s/move-Lounge---Pilates,-PowerPlate,-TRX,-Personaltraining\n",
      "Progress: 21.47%\n",
      "\n",
      "Processing URL 121/559\n",
      "Verarbeite URL: https://www.eversports.de/s/b.fitness-pole%26body\n",
      "Starte URL-Rekonstruktion...\n",
      "Error during HTTP request: 404 Client Error: Not Found for url: https://www.eversports.de/s/b.fitness-pole%26body\n",
      "Konvertiere in DataFrame...\n",
      "Validiere URLs...\n",
      "Verarbeitung abgeschlossen.\n",
      "\n",
      "Ergebnisse für URL: https://www.eversports.de/s/b.fitness-pole%26body\n",
      "Progress: 21.65%\n",
      "\n",
      "Processing URL 122/559\n",
      "Verarbeite URL: https://www.eversports.de/s/polefitness-leipzig\n",
      "Starte URL-Rekonstruktion...\n"
     ]
    },
    {
     "name": "stderr",
     "output_type": "stream",
     "text": [
      "2024-01-26 16:15:46,730 - INFO - Processing URL 1/4: https://www.eversports.de/s/polefitness-leipzig\n"
     ]
    },
    {
     "name": "stdout",
     "output_type": "stream",
     "text": [
      "Konvertiere in DataFrame...\n",
      "Validiere URLs...\n"
     ]
    },
    {
     "name": "stderr",
     "output_type": "stream",
     "text": [
      "2024-01-26 16:15:48,297 - INFO - URL https://www.eversports.de/s/polefitness-leipzig is valid.\n",
      "2024-01-26 16:15:48,297 - INFO - Processing URL 2/4: https://www.eversports.de/scl/polefitness-leipzig\n",
      "2024-01-26 16:15:49,694 - INFO - URL https://www.eversports.de/scl/polefitness-leipzig is valid.\n",
      "2024-01-26 16:15:49,694 - INFO - Processing URL 3/4: https://www.eversports.de/sp/polefitness-leipzig\n",
      "2024-01-26 16:15:51,315 - INFO - URL https://www.eversports.de/sp/polefitness-leipzig is valid.\n",
      "2024-01-26 16:15:51,315 - INFO - Processing URL 4/4: https://www.eversports.de/s/polefitness-leipzig/team\n",
      "2024-01-26 16:15:52,712 - INFO - URL https://www.eversports.de/s/polefitness-leipzig/team is valid.\n"
     ]
    },
    {
     "name": "stdout",
     "output_type": "stream",
     "text": [
      "Scrape Pole Studio Daten von https://www.eversports.de/s/polefitness-leipzig...\n",
      "Scrape Klassen Daten von https://www.eversports.de/scl/polefitness-leipzig...\n",
      "Scrape Klassen Details von https://www.eversports.de/scl/polefitness-leipzig...\n",
      "Verarbeitung abgeschlossen.\n",
      "\n",
      "Ergebnisse für URL: https://www.eversports.de/s/polefitness-leipzig\n",
      "Pole Studio Data:\n",
      "\n",
      "\n",
      "Classes Data:\n",
      "\n",
      "\n",
      "Classes Details:\n",
      "\n",
      "\n",
      "Progress: 21.82%\n",
      "\n",
      "Processing URL 123/559\n",
      "Verarbeite URL: https://www.eversports.de/s/BodySoul-Studio-Düsseldorf\n",
      "Starte URL-Rekonstruktion...\n",
      "Error during HTTP request: Exceeded 30 redirects.\n",
      "Konvertiere in DataFrame...\n",
      "Validiere URLs...\n",
      "Verarbeitung abgeschlossen.\n",
      "\n",
      "Ergebnisse für URL: https://www.eversports.de/s/BodySoul-Studio-Düsseldorf\n",
      "Progress: 22.00%\n",
      "\n",
      "Processing URL 124/559\n",
      "Verarbeite URL: https://www.eversports.de/s/tanzvisionen\n",
      "Starte URL-Rekonstruktion...\n",
      "Error during HTTP request: 404 Client Error: Not Found for url: https://www.eversports.de/s/tanzvisionen\n",
      "Konvertiere in DataFrame...\n",
      "Validiere URLs...\n",
      "Verarbeitung abgeschlossen.\n",
      "\n",
      "Ergebnisse für URL: https://www.eversports.de/s/tanzvisionen\n",
      "Progress: 22.18%\n",
      "\n",
      "Processing URL 125/559\n",
      "Verarbeite URL: https://www.eversports.de/s/dunya-pole-dance-school\n",
      "Starte URL-Rekonstruktion...\n"
     ]
    },
    {
     "name": "stderr",
     "output_type": "stream",
     "text": [
      "2024-01-26 16:16:49,548 - INFO - Processing URL 1/3: https://www.eversports.de/s/dunya-pole-dance-school\n"
     ]
    },
    {
     "name": "stdout",
     "output_type": "stream",
     "text": [
      "Konvertiere in DataFrame...\n",
      "Validiere URLs...\n"
     ]
    },
    {
     "name": "stderr",
     "output_type": "stream",
     "text": [
      "2024-01-26 16:16:51,284 - INFO - URL https://www.eversports.de/s/dunya-pole-dance-school is valid.\n",
      "2024-01-26 16:16:51,284 - INFO - Processing URL 2/3: https://www.eversports.de/scl/dunya-pole-dance-school\n",
      "2024-01-26 16:16:52,735 - INFO - URL https://www.eversports.de/scl/dunya-pole-dance-school is not valid.\n",
      "2024-01-26 16:16:52,735 - INFO - Processing URL 3/3: https://www.eversports.de/s/dunya-pole-dance-school/team\n",
      "2024-01-26 16:16:54,364 - INFO - URL https://www.eversports.de/s/dunya-pole-dance-school/team is valid.\n"
     ]
    },
    {
     "name": "stdout",
     "output_type": "stream",
     "text": [
      "Scrape Pole Studio Daten von https://www.eversports.de/s/dunya-pole-dance-school...\n",
      "Verarbeitung abgeschlossen.\n",
      "\n",
      "Ergebnisse für URL: https://www.eversports.de/s/dunya-pole-dance-school\n",
      "Pole Studio Data:\n",
      "\n",
      "\n",
      "Progress: 22.36%\n",
      "\n",
      "Processing URL 126/559\n",
      "Verarbeite URL: https://www.eversports.de/s/satori-pole-dance-potsdam\n",
      "Starte URL-Rekonstruktion...\n",
      "Error during HTTP request: 404 Client Error: Not Found for url: https://www.eversports.de/s/satori-pole-dance-potsdam\n",
      "Konvertiere in DataFrame...\n",
      "Validiere URLs...\n",
      "Verarbeitung abgeschlossen.\n",
      "\n",
      "Ergebnisse für URL: https://www.eversports.de/s/satori-pole-dance-potsdam\n",
      "Progress: 22.54%\n",
      "\n",
      "Processing URL 127/559\n",
      "Verarbeite URL: https://www.eversports.de/s/Pure-Motion-Kiel\n",
      "Starte URL-Rekonstruktion...\n"
     ]
    },
    {
     "name": "stderr",
     "output_type": "stream",
     "text": [
      "2024-01-26 16:16:59,235 - INFO - Processing URL 1/6: https://www.eversports.de/s/Pure-Motion-Kiel\n"
     ]
    },
    {
     "name": "stdout",
     "output_type": "stream",
     "text": [
      "Konvertiere in DataFrame...\n",
      "Validiere URLs...\n"
     ]
    },
    {
     "name": "stderr",
     "output_type": "stream",
     "text": [
      "2024-01-26 16:17:00,934 - INFO - URL https://www.eversports.de/s/Pure-Motion-Kiel is valid.\n",
      "2024-01-26 16:17:00,934 - INFO - Processing URL 2/6: https://www.eversports.de/scl/Pure-Motion-Kiel\n",
      "2024-01-26 16:17:02,431 - INFO - URL https://www.eversports.de/scl/Pure-Motion-Kiel is valid.\n",
      "2024-01-26 16:17:02,433 - INFO - Processing URL 3/6: https://www.eversports.de/s/Pure-Motion-Kiel/kurse\n",
      "2024-01-26 16:17:03,735 - INFO - URL https://www.eversports.de/s/Pure-Motion-Kiel/kurse is not valid.\n",
      "2024-01-26 16:17:03,735 - INFO - Processing URL 4/6: https://www.eversports.de/sw/Pure-Motion-Kiel\n",
      "2024-01-26 16:17:05,300 - INFO - URL https://www.eversports.de/sw/Pure-Motion-Kiel is valid.\n",
      "2024-01-26 16:17:05,302 - INFO - Processing URL 5/6: https://www.eversports.de/sp/Pure-Motion-Kiel\n",
      "2024-01-26 16:17:06,769 - INFO - URL https://www.eversports.de/sp/Pure-Motion-Kiel is valid.\n",
      "2024-01-26 16:17:06,769 - INFO - Processing URL 6/6: https://www.eversports.de/s/Pure-Motion-Kiel/team\n",
      "2024-01-26 16:17:08,418 - INFO - URL https://www.eversports.de/s/Pure-Motion-Kiel/team is valid.\n"
     ]
    },
    {
     "name": "stdout",
     "output_type": "stream",
     "text": [
      "Scrape Pole Studio Daten von https://www.eversports.de/s/Pure-Motion-Kiel...\n",
      "Scrape Klassen Daten von https://www.eversports.de/scl/Pure-Motion-Kiel...\n",
      "Scrape Klassen Details von https://www.eversports.de/scl/Pure-Motion-Kiel...\n",
      "Scrape Workshops Daten von https://www.eversports.de/sw/Pure-Motion-Kiel...\n",
      "Scrape Workshop Details von https://www.eversports.de/e/workshop/Z1qnkVh...\n",
      "Verarbeitung abgeschlossen.\n",
      "\n",
      "Ergebnisse für URL: https://www.eversports.de/s/Pure-Motion-Kiel\n",
      "Pole Studio Data:\n",
      "\n",
      "\n",
      "Classes Data:\n",
      "\n",
      "\n",
      "Classes Details:\n",
      "\n",
      "\n",
      "Workshops Data:\n",
      "\n",
      "\n",
      "Workshop Details:\n",
      "\n",
      "\n",
      "Progress: 22.72%\n",
      "\n",
      "Processing URL 128/559\n",
      "Verarbeite URL: https://www.eversports.de/s/muse-pole-dance\n",
      "Starte URL-Rekonstruktion...\n"
     ]
    },
    {
     "name": "stderr",
     "output_type": "stream",
     "text": [
      "2024-01-26 16:19:53,455 - INFO - Processing URL 1/1: https://www.eversports.de/s/muse-pole-dance\n"
     ]
    },
    {
     "name": "stdout",
     "output_type": "stream",
     "text": [
      "Konvertiere in DataFrame...\n",
      "Validiere URLs...\n"
     ]
    },
    {
     "name": "stderr",
     "output_type": "stream",
     "text": [
      "2024-01-26 16:19:54,920 - INFO - URL https://www.eversports.de/s/muse-pole-dance is valid.\n"
     ]
    },
    {
     "name": "stdout",
     "output_type": "stream",
     "text": [
      "Scrape Pole Studio Daten von https://www.eversports.de/s/muse-pole-dance...\n",
      "Verarbeitung abgeschlossen.\n",
      "\n",
      "Ergebnisse für URL: https://www.eversports.de/s/muse-pole-dance\n",
      "Pole Studio Data:\n",
      "\n",
      "\n",
      "Progress: 22.90%\n",
      "\n",
      "Processing URL 129/559\n",
      "Verarbeite URL: https://www.eversports.de/s/polepoint-dance-studio\n",
      "Starte URL-Rekonstruktion...\n",
      "Error during HTTP request: 404 Client Error: Not Found for url: https://www.eversports.de/s/polepoint-dance-studio\n",
      "Konvertiere in DataFrame...\n",
      "Validiere URLs...\n",
      "Verarbeitung abgeschlossen.\n",
      "\n",
      "Ergebnisse für URL: https://www.eversports.de/s/polepoint-dance-studio\n",
      "Progress: 23.08%\n",
      "\n",
      "Processing URL 130/559\n",
      "Verarbeite URL: https://www.eversports.de/s/aerial-balance\n",
      "Starte URL-Rekonstruktion...\n",
      "Error during HTTP request: 404 Client Error: Not Found for url: https://www.eversports.de/s/aerial-balance\n",
      "Konvertiere in DataFrame...\n",
      "Validiere URLs...\n",
      "Verarbeitung abgeschlossen.\n",
      "\n",
      "Ergebnisse für URL: https://www.eversports.de/s/aerial-balance\n",
      "Progress: 23.26%\n",
      "\n",
      "Processing URL 131/559\n",
      "Verarbeite URL: https://www.eversports.de/s/Pole-Werk-by-Nelly\n",
      "Starte URL-Rekonstruktion...\n"
     ]
    },
    {
     "name": "stderr",
     "output_type": "stream",
     "text": [
      "2024-01-26 16:19:59,766 - INFO - Processing URL 1/4: https://www.eversports.de/s/Pole-Werk-by-Nelly\n"
     ]
    },
    {
     "name": "stdout",
     "output_type": "stream",
     "text": [
      "Konvertiere in DataFrame...\n",
      "Validiere URLs...\n"
     ]
    },
    {
     "name": "stderr",
     "output_type": "stream",
     "text": [
      "2024-01-26 16:20:01,404 - INFO - URL https://www.eversports.de/s/Pole-Werk-by-Nelly is valid.\n",
      "2024-01-26 16:20:01,404 - INFO - Processing URL 2/4: https://www.eversports.de/scl/Pole-Werk-by-Nelly\n",
      "2024-01-26 16:20:03,140 - INFO - URL https://www.eversports.de/scl/Pole-Werk-by-Nelly is valid.\n",
      "2024-01-26 16:20:03,140 - INFO - Processing URL 3/4: https://www.eversports.de/s/Pole-Werk-by-Nelly/kurse\n",
      "2024-01-26 16:20:04,404 - INFO - URL https://www.eversports.de/s/Pole-Werk-by-Nelly/kurse is not valid.\n",
      "2024-01-26 16:20:04,404 - INFO - Processing URL 4/4: https://www.eversports.de/s/Pole-Werk-by-Nelly/team\n",
      "2024-01-26 16:20:05,885 - INFO - URL https://www.eversports.de/s/Pole-Werk-by-Nelly/team is valid.\n"
     ]
    },
    {
     "name": "stdout",
     "output_type": "stream",
     "text": [
      "Scrape Pole Studio Daten von https://www.eversports.de/s/Pole-Werk-by-Nelly...\n",
      "Scrape Klassen Daten von https://www.eversports.de/scl/Pole-Werk-by-Nelly...\n",
      "Scrape Klassen Details von https://www.eversports.de/scl/Pole-Werk-by-Nelly...\n",
      "Verarbeitung abgeschlossen.\n",
      "\n",
      "Ergebnisse für URL: https://www.eversports.de/s/Pole-Werk-by-Nelly\n",
      "Pole Studio Data:\n",
      "\n",
      "\n",
      "Classes Data:\n",
      "\n",
      "\n",
      "Classes Details:\n",
      "\n",
      "\n",
      "Progress: 23.43%\n",
      "\n",
      "Processing URL 132/559\n",
      "Verarbeite URL: https://www.eversports.de/s/unique-studios\n",
      "Starte URL-Rekonstruktion...\n",
      "Error during HTTP request: 404 Client Error: Not Found for url: https://www.eversports.de/s/unique-studios\n",
      "Konvertiere in DataFrame...\n",
      "Validiere URLs...\n",
      "Verarbeitung abgeschlossen.\n",
      "\n",
      "Ergebnisse für URL: https://www.eversports.de/s/unique-studios\n",
      "Progress: 23.61%\n",
      "\n",
      "Processing URL 133/559\n",
      "Verarbeite URL: https://www.eversports.de/s/schwerelos-muenster\n",
      "Starte URL-Rekonstruktion...\n"
     ]
    },
    {
     "name": "stderr",
     "output_type": "stream",
     "text": [
      "2024-01-26 16:20:48,882 - INFO - Processing URL 1/7: https://www.eversports.de/s/schwerelos-muenster\n"
     ]
    },
    {
     "name": "stdout",
     "output_type": "stream",
     "text": [
      "Konvertiere in DataFrame...\n",
      "Validiere URLs...\n"
     ]
    },
    {
     "name": "stderr",
     "output_type": "stream",
     "text": [
      "2024-01-26 16:20:50,651 - INFO - URL https://www.eversports.de/s/schwerelos-muenster is valid.\n",
      "2024-01-26 16:20:50,651 - INFO - Processing URL 2/7: https://www.eversports.de/scl/schwerelos-muenster\n",
      "2024-01-26 16:20:52,221 - INFO - URL https://www.eversports.de/scl/schwerelos-muenster is valid.\n",
      "2024-01-26 16:20:52,221 - INFO - Processing URL 3/7: https://www.eversports.de/s/schwerelos-muenster/kurse\n",
      "2024-01-26 16:20:53,606 - INFO - URL https://www.eversports.de/s/schwerelos-muenster/kurse is not valid.\n",
      "2024-01-26 16:20:53,606 - INFO - Processing URL 4/7: https://www.eversports.de/sw/schwerelos-muenster\n",
      "2024-01-26 16:20:55,290 - INFO - URL https://www.eversports.de/sw/schwerelos-muenster is valid.\n",
      "2024-01-26 16:20:55,290 - INFO - Processing URL 5/7: https://www.eversports.de/s/schwerelos-muenster/videos\n",
      "2024-01-26 16:20:57,121 - INFO - URL https://www.eversports.de/s/schwerelos-muenster/videos is valid.\n",
      "2024-01-26 16:20:57,121 - INFO - Processing URL 6/7: https://www.eversports.de/sp/schwerelos-muenster\n",
      "2024-01-26 16:21:01,738 - INFO - URL https://www.eversports.de/sp/schwerelos-muenster is valid.\n",
      "2024-01-26 16:21:01,740 - INFO - Processing URL 7/7: https://www.eversports.de/s/schwerelos-muenster/team\n",
      "2024-01-26 16:21:03,185 - INFO - URL https://www.eversports.de/s/schwerelos-muenster/team is valid.\n"
     ]
    },
    {
     "name": "stdout",
     "output_type": "stream",
     "text": [
      "Scrape Pole Studio Daten von https://www.eversports.de/s/schwerelos-muenster...\n",
      "Scrape Klassen Daten von https://www.eversports.de/scl/schwerelos-muenster...\n",
      "Scrape Klassen Details von https://www.eversports.de/scl/schwerelos-muenster...\n",
      "Scrape Workshops Daten von https://www.eversports.de/sw/schwerelos-muenster...\n",
      "Scrape Workshop Details von https://www.eversports.de/e/workshop/vARBWEo...\n",
      "Scrape Workshop Details von https://www.eversports.de/e/workshop/_rpmj33...\n",
      "Scrape Workshop Details von https://www.eversports.de/e/workshop/3sYwu8j...\n",
      "Scrape Workshop Details von https://www.eversports.de/e/workshop/sJO5aQ1...\n",
      "Scrape Workshop Details von https://www.eversports.de/e/workshop/T2iJuZb...\n",
      "Scrape Workshop Details von https://www.eversports.de/e/workshop/JKD4cQ5...\n",
      "Scrape Workshop Details von https://www.eversports.de/e/workshop/fVM0ULF...\n",
      "Scrape Workshop Details von https://www.eversports.de/e/workshop/9fkoAyU...\n",
      "Scrape Workshop Details von https://www.eversports.de/e/workshop/leDNfNr...\n",
      "Scrape Workshop Details von https://www.eversports.de/e/workshop/ahCVYvh...\n",
      "Scrape Workshop Details von https://www.eversports.de/e/workshop/RjsCf5S...\n",
      "Scrape Workshop Details von https://www.eversports.de/e/workshop/ZOxKKrM...\n",
      "Scrape Workshop Details von https://www.eversports.de/e/workshop/Zq0GQNB...\n",
      "Scrape Workshop Details von https://www.eversports.de/e/workshop/xPGUjbS...\n",
      "Verarbeitung abgeschlossen.\n",
      "\n",
      "Ergebnisse für URL: https://www.eversports.de/s/schwerelos-muenster\n",
      "Pole Studio Data:\n",
      "\n",
      "\n",
      "Classes Data:\n",
      "\n",
      "\n",
      "Classes Details:\n",
      "\n",
      "\n",
      "Workshops Data:\n",
      "\n",
      "\n",
      "Workshop Details:\n",
      "\n",
      "\n",
      "Progress: 23.79%\n",
      "\n",
      "Processing URL 134/559\n",
      "Verarbeite URL: https://www.eversports.de/s/pole-and-move-mannheim\n",
      "Starte URL-Rekonstruktion...\n"
     ]
    },
    {
     "name": "stderr",
     "output_type": "stream",
     "text": [
      "2024-01-26 16:24:09,631 - INFO - Processing URL 1/5: https://www.eversports.de/s/pole-and-move-mannheim\n"
     ]
    },
    {
     "name": "stdout",
     "output_type": "stream",
     "text": [
      "Konvertiere in DataFrame...\n",
      "Validiere URLs...\n"
     ]
    },
    {
     "name": "stderr",
     "output_type": "stream",
     "text": [
      "2024-01-26 16:24:11,309 - INFO - URL https://www.eversports.de/s/pole-and-move-mannheim is valid.\n",
      "2024-01-26 16:24:11,325 - INFO - Processing URL 2/5: https://www.eversports.de/scl/pole-and-move-mannheim\n",
      "2024-01-26 16:24:12,790 - INFO - URL https://www.eversports.de/scl/pole-and-move-mannheim is valid.\n",
      "2024-01-26 16:24:12,790 - INFO - Processing URL 3/5: https://www.eversports.de/sw/pole-and-move-mannheim\n",
      "2024-01-26 16:24:14,459 - INFO - URL https://www.eversports.de/sw/pole-and-move-mannheim is valid.\n",
      "2024-01-26 16:24:14,459 - INFO - Processing URL 4/5: https://www.eversports.de/sp/pole-and-move-mannheim\n",
      "2024-01-26 16:24:16,357 - INFO - URL https://www.eversports.de/sp/pole-and-move-mannheim is valid.\n",
      "2024-01-26 16:24:16,357 - INFO - Processing URL 5/5: https://www.eversports.de/s/pole-and-move-mannheim/team\n",
      "2024-01-26 16:24:17,858 - INFO - URL https://www.eversports.de/s/pole-and-move-mannheim/team is valid.\n"
     ]
    },
    {
     "name": "stdout",
     "output_type": "stream",
     "text": [
      "Scrape Pole Studio Daten von https://www.eversports.de/s/pole-and-move-mannheim...\n",
      "Scrape Klassen Daten von https://www.eversports.de/scl/pole-and-move-mannheim...\n",
      "Scrape Klassen Details von https://www.eversports.de/scl/pole-and-move-mannheim...\n",
      "Scrape Workshops Daten von https://www.eversports.de/sw/pole-and-move-mannheim...\n",
      "Scrape Workshop Details von https://www.eversports.de/e/workshop/UZAUnxM...\n",
      "Scrape Workshop Details von https://www.eversports.de/e/workshop/-IGRjIZ...\n",
      "Scrape Workshop Details von https://www.eversports.de/e/workshop/gbofUBp...\n",
      "Scrape Workshop Details von https://www.eversports.de/e/workshop/NFfn_y6...\n",
      "Scrape Workshop Details von https://www.eversports.de/e/workshop/miY7n0b...\n",
      "Scrape Workshop Details von https://www.eversports.de/e/workshop/C9b62JT...\n",
      "Scrape Workshop Details von https://www.eversports.de/e/workshop/0fonSE4...\n",
      "Verarbeitung abgeschlossen.\n",
      "\n",
      "Ergebnisse für URL: https://www.eversports.de/s/pole-and-move-mannheim\n",
      "Pole Studio Data:\n",
      "\n",
      "\n",
      "Classes Data:\n",
      "\n",
      "\n",
      "Classes Details:\n",
      "\n",
      "\n",
      "Workshops Data:\n",
      "\n",
      "\n",
      "Workshop Details:\n",
      "\n",
      "\n",
      "Progress: 23.97%\n",
      "\n",
      "Processing URL 135/559\n",
      "Verarbeite URL: https://www.eversports.de/s/upsidedown-studio-bad-homburg\n",
      "Starte URL-Rekonstruktion...\n"
     ]
    },
    {
     "name": "stderr",
     "output_type": "stream",
     "text": [
      "2024-01-26 16:27:32,542 - INFO - Processing URL 1/5: https://www.eversports.de/s/upsidedown-studio-bad-homburg\n"
     ]
    },
    {
     "name": "stdout",
     "output_type": "stream",
     "text": [
      "Konvertiere in DataFrame...\n",
      "Validiere URLs...\n"
     ]
    },
    {
     "name": "stderr",
     "output_type": "stream",
     "text": [
      "2024-01-26 16:27:34,175 - INFO - URL https://www.eversports.de/s/upsidedown-studio-bad-homburg is valid.\n",
      "2024-01-26 16:27:34,175 - INFO - Processing URL 2/5: https://www.eversports.de/scl/upsidedown-studio-bad-homburg\n",
      "2024-01-26 16:27:35,546 - INFO - URL https://www.eversports.de/scl/upsidedown-studio-bad-homburg is valid.\n",
      "2024-01-26 16:27:35,546 - INFO - Processing URL 3/5: https://www.eversports.de/s/upsidedown-studio-bad-homburg/kurse\n",
      "2024-01-26 16:27:36,880 - INFO - URL https://www.eversports.de/s/upsidedown-studio-bad-homburg/kurse is not valid.\n",
      "2024-01-26 16:27:36,880 - INFO - Processing URL 4/5: https://www.eversports.de/sp/upsidedown-studio-bad-homburg\n",
      "2024-01-26 16:27:38,264 - INFO - URL https://www.eversports.de/sp/upsidedown-studio-bad-homburg is valid.\n",
      "2024-01-26 16:27:38,264 - INFO - Processing URL 5/5: https://www.eversports.de/s/upsidedown-studio-bad-homburg/team\n",
      "2024-01-26 16:27:39,695 - INFO - URL https://www.eversports.de/s/upsidedown-studio-bad-homburg/team is valid.\n"
     ]
    },
    {
     "name": "stdout",
     "output_type": "stream",
     "text": [
      "Scrape Pole Studio Daten von https://www.eversports.de/s/upsidedown-studio-bad-homburg...\n",
      "Scrape Klassen Daten von https://www.eversports.de/scl/upsidedown-studio-bad-homburg...\n",
      "Scrape Klassen Details von https://www.eversports.de/scl/upsidedown-studio-bad-homburg...\n",
      "Verarbeitung abgeschlossen.\n",
      "\n",
      "Ergebnisse für URL: https://www.eversports.de/s/upsidedown-studio-bad-homburg\n",
      "Pole Studio Data:\n",
      "\n",
      "\n",
      "Classes Data:\n",
      "\n",
      "\n",
      "Classes Details:\n",
      "\n",
      "\n",
      "Progress: 24.15%\n",
      "\n",
      "Processing URL 136/559\n",
      "Verarbeite URL: https://www.eversports.de/s/Move-On!-Dance-Studio-&-Polemotions\n",
      "Starte URL-Rekonstruktion...\n",
      "Error during HTTP request: 404 Client Error: Not Found for url: https://www.eversports.de/s/Move-On!-Dance-Studio-&-Polemotions\n",
      "Konvertiere in DataFrame...\n",
      "Validiere URLs...\n",
      "Verarbeitung abgeschlossen.\n",
      "\n",
      "Ergebnisse für URL: https://www.eversports.de/s/Move-On!-Dance-Studio-&-Polemotions\n",
      "Progress: 24.33%\n",
      "\n",
      "Processing URL 137/559\n",
      "Verarbeite URL: https://www.eversports.de/s/pole-dance-stuttgart\n",
      "Starte URL-Rekonstruktion...\n",
      "Error during HTTP request: 404 Client Error: Not Found for url: https://www.eversports.de/s/pole-dance-stuttgart\n",
      "Konvertiere in DataFrame...\n",
      "Validiere URLs...\n",
      "Verarbeitung abgeschlossen.\n",
      "\n",
      "Ergebnisse für URL: https://www.eversports.de/s/pole-dance-stuttgart\n",
      "Progress: 24.51%\n",
      "\n",
      "Processing URL 138/559\n",
      "Verarbeite URL: https://www.eversports.de/s/Dance-&-Pole-Deltawerk\n",
      "Starte URL-Rekonstruktion...\n",
      "Error during HTTP request: 404 Client Error: Not Found for url: https://www.eversports.de/s/Dance-&-Pole-Deltawerk\n",
      "Konvertiere in DataFrame...\n",
      "Validiere URLs...\n",
      "Verarbeitung abgeschlossen.\n",
      "\n",
      "Ergebnisse für URL: https://www.eversports.de/s/Dance-&-Pole-Deltawerk\n",
      "Progress: 24.69%\n",
      "\n",
      "Processing URL 139/559\n",
      "Verarbeite URL: https://www.eversports.de/s/luftfabrik-dresden\n",
      "Starte URL-Rekonstruktion...\n",
      "Error during HTTP request: 404 Client Error: Not Found for url: https://www.eversports.de/s/luftfabrik-dresden\n",
      "Konvertiere in DataFrame...\n",
      "Validiere URLs...\n",
      "Verarbeitung abgeschlossen.\n",
      "\n",
      "Ergebnisse für URL: https://www.eversports.de/s/luftfabrik-dresden\n",
      "Progress: 24.87%\n",
      "\n",
      "Processing URL 140/559\n",
      "Verarbeite URL: https://www.eversports.de/s/aerial-amazons\n",
      "Starte URL-Rekonstruktion...\n",
      "Error during HTTP request: 404 Client Error: Not Found for url: https://www.eversports.de/s/aerial-amazons\n",
      "Konvertiere in DataFrame...\n",
      "Validiere URLs...\n",
      "Verarbeitung abgeschlossen.\n",
      "\n",
      "Ergebnisse für URL: https://www.eversports.de/s/aerial-amazons\n",
      "Progress: 25.04%\n",
      "\n",
      "Processing URL 141/559\n",
      "Verarbeite URL: https://www.eversports.de/s/poledance-area\n",
      "Starte URL-Rekonstruktion...\n"
     ]
    },
    {
     "name": "stderr",
     "output_type": "stream",
     "text": [
      "2024-01-26 16:28:35,814 - INFO - Processing URL 1/1: https://www.eversports.de/s/poledance-area\n"
     ]
    },
    {
     "name": "stdout",
     "output_type": "stream",
     "text": [
      "Konvertiere in DataFrame...\n",
      "Validiere URLs...\n"
     ]
    },
    {
     "name": "stderr",
     "output_type": "stream",
     "text": [
      "2024-01-26 16:28:38,079 - INFO - URL https://www.eversports.de/s/poledance-area is valid.\n"
     ]
    },
    {
     "name": "stdout",
     "output_type": "stream",
     "text": [
      "Scrape Pole Studio Daten von https://www.eversports.de/s/poledance-area...\n",
      "Verarbeitung abgeschlossen.\n",
      "\n",
      "Ergebnisse für URL: https://www.eversports.de/s/poledance-area\n",
      "Pole Studio Data:\n",
      "\n",
      "\n",
      "Progress: 25.22%\n",
      "\n",
      "Processing URL 142/559\n",
      "Verarbeite URL: https://www.eversports.de/s/annaconda-pole-&-fitness\n",
      "Starte URL-Rekonstruktion...\n",
      "Error during HTTP request: 404 Client Error: Not Found for url: https://www.eversports.de/s/annaconda-pole-&-fitness\n",
      "Konvertiere in DataFrame...\n",
      "Validiere URLs...\n",
      "Verarbeitung abgeschlossen.\n",
      "\n",
      "Ergebnisse für URL: https://www.eversports.de/s/annaconda-pole-&-fitness\n",
      "Progress: 25.40%\n",
      "\n",
      "Processing URL 143/559\n",
      "Verarbeite URL: https://www.eversports.de/s/passionate-pole-&-sports\n",
      "Starte URL-Rekonstruktion...\n",
      "Error during HTTP request: 404 Client Error: Not Found for url: https://www.eversports.de/s/passionate-pole-&-sports\n",
      "Konvertiere in DataFrame...\n",
      "Validiere URLs...\n",
      "Verarbeitung abgeschlossen.\n",
      "\n",
      "Ergebnisse für URL: https://www.eversports.de/s/passionate-pole-&-sports\n",
      "Progress: 25.58%\n",
      "\n",
      "Processing URL 144/559\n",
      "Verarbeite URL: https://www.eversports.de/s/pole-dance-academy-n%C3%BCrnberg\n",
      "Starte URL-Rekonstruktion...\n",
      "Error during HTTP request: Exceeded 30 redirects.\n",
      "Konvertiere in DataFrame...\n",
      "Validiere URLs...\n",
      "Verarbeitung abgeschlossen.\n",
      "\n",
      "Ergebnisse für URL: https://www.eversports.de/s/pole-dance-academy-n%C3%BCrnberg\n",
      "Progress: 25.76%\n",
      "\n",
      "Processing URL 145/559\n",
      "Verarbeite URL: https://www.eversports.de/s/annaconda-pole-%26-aerial-sports\n",
      "Starte URL-Rekonstruktion...\n",
      "Error during HTTP request: 404 Client Error: Not Found for url: https://www.eversports.de/s/annaconda-pole-%26-aerial-sports\n",
      "Konvertiere in DataFrame...\n",
      "Validiere URLs...\n",
      "Verarbeitung abgeschlossen.\n",
      "\n",
      "Ergebnisse für URL: https://www.eversports.de/s/annaconda-pole-%26-aerial-sports\n",
      "Progress: 25.94%\n",
      "\n",
      "Processing URL 146/559\n",
      "Verarbeite URL: https://www.eversports.de/s/aerial-art-poledance-country-base\n",
      "Starte URL-Rekonstruktion...\n",
      "Error during HTTP request: 404 Client Error: Not Found for url: https://www.eversports.de/s/aerial-art-poledance-country-base\n",
      "Konvertiere in DataFrame...\n",
      "Validiere URLs...\n",
      "Verarbeitung abgeschlossen.\n",
      "\n",
      "Ergebnisse für URL: https://www.eversports.de/s/aerial-art-poledance-country-base\n",
      "Progress: 26.12%\n",
      "\n",
      "Processing URL 147/559\n",
      "Verarbeite URL: https://www.eversports.de/s/pole.physio-eppelheim\n",
      "Starte URL-Rekonstruktion...\n",
      "Error during HTTP request: 404 Client Error: Not Found for url: https://www.eversports.de/s/pole.physio-eppelheim\n",
      "Konvertiere in DataFrame...\n",
      "Validiere URLs...\n",
      "Verarbeitung abgeschlossen.\n",
      "\n",
      "Ergebnisse für URL: https://www.eversports.de/s/pole.physio-eppelheim\n",
      "Progress: 26.30%\n",
      "\n",
      "Processing URL 148/559\n",
      "Verarbeite URL: https://www.eversports.de/s/spin-up\n",
      "Starte URL-Rekonstruktion...\n"
     ]
    },
    {
     "name": "stderr",
     "output_type": "stream",
     "text": [
      "2024-01-26 16:28:51,607 - INFO - Processing URL 1/4: https://www.eversports.de/s/spin-up\n"
     ]
    },
    {
     "name": "stdout",
     "output_type": "stream",
     "text": [
      "Konvertiere in DataFrame...\n",
      "Validiere URLs...\n"
     ]
    },
    {
     "name": "stderr",
     "output_type": "stream",
     "text": [
      "2024-01-26 16:28:53,797 - INFO - URL https://www.eversports.de/s/spin-up is valid.\n",
      "2024-01-26 16:28:53,797 - INFO - Processing URL 2/4: https://www.eversports.de/scl/spin-up\n",
      "2024-01-26 16:28:55,298 - INFO - URL https://www.eversports.de/scl/spin-up is not valid.\n",
      "2024-01-26 16:28:55,313 - INFO - Processing URL 3/4: https://www.eversports.de/sp/spin-up\n",
      "2024-01-26 16:28:56,680 - INFO - URL https://www.eversports.de/sp/spin-up is not valid.\n",
      "2024-01-26 16:28:56,680 - INFO - Processing URL 4/4: https://www.eversports.de/s/spin-up/team\n",
      "2024-01-26 16:28:58,998 - INFO - URL https://www.eversports.de/s/spin-up/team is valid.\n"
     ]
    },
    {
     "name": "stdout",
     "output_type": "stream",
     "text": [
      "Scrape Pole Studio Daten von https://www.eversports.de/s/spin-up...\n",
      "Verarbeitung abgeschlossen.\n",
      "\n",
      "Ergebnisse für URL: https://www.eversports.de/s/spin-up\n",
      "Pole Studio Data:\n",
      "\n",
      "\n",
      "Progress: 26.48%\n",
      "\n",
      "Processing URL 149/559\n",
      "Verarbeite URL: https://www.eversports.de/s/crazy-up-%26-pole\n",
      "Starte URL-Rekonstruktion...\n",
      "Error during HTTP request: 404 Client Error: Not Found for url: https://www.eversports.de/s/crazy-up-%26-pole\n",
      "Konvertiere in DataFrame...\n",
      "Validiere URLs...\n",
      "Verarbeitung abgeschlossen.\n",
      "\n",
      "Ergebnisse für URL: https://www.eversports.de/s/crazy-up-%26-pole\n",
      "Progress: 26.65%\n",
      "\n",
      "Processing URL 150/559\n",
      "Verarbeite URL: https://www.eversports.de/s/verticalarts-pole-and-aerial-fitness\n",
      "Starte URL-Rekonstruktion...\n",
      "Error during HTTP request: 404 Client Error: Not Found for url: https://www.eversports.de/s/verticalarts-pole-and-aerial-fitness\n",
      "Konvertiere in DataFrame...\n",
      "Validiere URLs...\n",
      "Verarbeitung abgeschlossen.\n",
      "\n",
      "Ergebnisse für URL: https://www.eversports.de/s/verticalarts-pole-and-aerial-fitness\n",
      "Progress: 26.83%\n",
      "\n",
      "Processing URL 151/559\n",
      "Verarbeite URL: https://www.eversports.de/s/aerial-sportstudio\n",
      "Starte URL-Rekonstruktion...\n"
     ]
    },
    {
     "name": "stderr",
     "output_type": "stream",
     "text": [
      "2024-01-26 16:29:03,915 - INFO - Processing URL 1/1: https://www.eversports.de/s/aerial-sportstudio\n"
     ]
    },
    {
     "name": "stdout",
     "output_type": "stream",
     "text": [
      "Konvertiere in DataFrame...\n",
      "Validiere URLs...\n"
     ]
    },
    {
     "name": "stderr",
     "output_type": "stream",
     "text": [
      "2024-01-26 16:29:05,464 - INFO - URL https://www.eversports.de/s/aerial-sportstudio is valid.\n"
     ]
    },
    {
     "name": "stdout",
     "output_type": "stream",
     "text": [
      "Scrape Pole Studio Daten von https://www.eversports.de/s/aerial-sportstudio...\n",
      "Verarbeitung abgeschlossen.\n",
      "\n",
      "Ergebnisse für URL: https://www.eversports.de/s/aerial-sportstudio\n",
      "Pole Studio Data:\n",
      "\n",
      "\n",
      "Progress: 27.01%\n",
      "\n",
      "Processing URL 152/559\n",
      "Verarbeite URL: https://www.eversports.de/s/Pole-Faction--Pole-Dance-&-Fitness\n",
      "Starte URL-Rekonstruktion...\n",
      "Error during HTTP request: 404 Client Error: Not Found for url: https://www.eversports.de/s/Pole-Faction--Pole-Dance-&-Fitness\n",
      "Konvertiere in DataFrame...\n",
      "Validiere URLs...\n",
      "Verarbeitung abgeschlossen.\n",
      "\n",
      "Ergebnisse für URL: https://www.eversports.de/s/Pole-Faction--Pole-Dance-&-Fitness\n",
      "Progress: 27.19%\n",
      "\n",
      "Processing URL 153/559\n",
      "Verarbeite URL: https://www.eversports.de/s/Pole-Passion-Bielefeld\n",
      "Starte URL-Rekonstruktion...\n"
     ]
    },
    {
     "name": "stderr",
     "output_type": "stream",
     "text": [
      "2024-01-26 16:29:09,099 - INFO - Processing URL 1/1: https://www.eversports.de/s/Pole-Passion-Bielefeld\n"
     ]
    },
    {
     "name": "stdout",
     "output_type": "stream",
     "text": [
      "Konvertiere in DataFrame...\n",
      "Validiere URLs...\n"
     ]
    },
    {
     "name": "stderr",
     "output_type": "stream",
     "text": [
      "2024-01-26 16:29:10,711 - INFO - URL https://www.eversports.de/s/Pole-Passion-Bielefeld is valid.\n"
     ]
    },
    {
     "name": "stdout",
     "output_type": "stream",
     "text": [
      "Scrape Pole Studio Daten von https://www.eversports.de/s/Pole-Passion-Bielefeld...\n",
      "Verarbeitung abgeschlossen.\n",
      "\n",
      "Ergebnisse für URL: https://www.eversports.de/s/Pole-Passion-Bielefeld\n",
      "Pole Studio Data:\n",
      "\n",
      "\n",
      "Progress: 27.37%\n",
      "\n",
      "Processing URL 154/559\n",
      "Verarbeite URL: https://www.eversports.de/s/yoga-vidya-burgdorf\n",
      "Starte URL-Rekonstruktion...\n"
     ]
    },
    {
     "name": "stderr",
     "output_type": "stream",
     "text": [
      "2024-01-26 16:29:13,314 - INFO - Processing URL 1/6: https://www.eversports.de/s/yoga-vidya-burgdorf\n"
     ]
    },
    {
     "name": "stdout",
     "output_type": "stream",
     "text": [
      "Konvertiere in DataFrame...\n",
      "Validiere URLs...\n"
     ]
    },
    {
     "name": "stderr",
     "output_type": "stream",
     "text": [
      "2024-01-26 16:29:15,113 - INFO - URL https://www.eversports.de/s/yoga-vidya-burgdorf is valid.\n",
      "2024-01-26 16:29:15,129 - INFO - Processing URL 2/6: https://www.eversports.de/scl/yoga-vidya-burgdorf\n",
      "2024-01-26 16:29:16,584 - INFO - URL https://www.eversports.de/scl/yoga-vidya-burgdorf is valid.\n",
      "2024-01-26 16:29:16,584 - INFO - Processing URL 3/6: https://www.eversports.de/s/yoga-vidya-burgdorf/kurse\n",
      "2024-01-26 16:29:17,934 - INFO - URL https://www.eversports.de/s/yoga-vidya-burgdorf/kurse is not valid.\n",
      "2024-01-26 16:29:17,943 - INFO - Processing URL 4/6: https://www.eversports.de/s/yoga-vidya-burgdorf/retreats\n",
      "2024-01-26 16:29:19,232 - INFO - URL https://www.eversports.de/s/yoga-vidya-burgdorf/retreats is not valid.\n",
      "2024-01-26 16:29:19,232 - INFO - Processing URL 5/6: https://www.eversports.de/sp/yoga-vidya-burgdorf\n",
      "2024-01-26 16:29:21,280 - INFO - URL https://www.eversports.de/sp/yoga-vidya-burgdorf is valid.\n",
      "2024-01-26 16:29:21,280 - INFO - Processing URL 6/6: https://www.eversports.de/s/yoga-vidya-burgdorf/team\n",
      "2024-01-26 16:29:27,561 - INFO - URL https://www.eversports.de/s/yoga-vidya-burgdorf/team is valid.\n"
     ]
    },
    {
     "name": "stdout",
     "output_type": "stream",
     "text": [
      "Scrape Pole Studio Daten von https://www.eversports.de/s/yoga-vidya-burgdorf...\n",
      "Scrape Klassen Daten von https://www.eversports.de/scl/yoga-vidya-burgdorf...\n",
      "Scrape Klassen Details von https://www.eversports.de/scl/yoga-vidya-burgdorf...\n",
      "Verarbeitung abgeschlossen.\n",
      "\n",
      "Ergebnisse für URL: https://www.eversports.de/s/yoga-vidya-burgdorf\n",
      "Pole Studio Data:\n",
      "\n",
      "\n",
      "Classes Data:\n",
      "\n",
      "\n",
      "Classes Details:\n",
      "\n",
      "\n",
      "Progress: 27.55%\n",
      "\n",
      "Processing URL 155/559\n",
      "Verarbeite URL: https://www.eversports.de/s/pole-for-soul-gbr\n",
      "Starte URL-Rekonstruktion...\n"
     ]
    },
    {
     "name": "stderr",
     "output_type": "stream",
     "text": [
      "2024-01-26 16:29:33,981 - INFO - Processing URL 1/4: https://www.eversports.de/s/pole-for-soul-gbr\n"
     ]
    },
    {
     "name": "stdout",
     "output_type": "stream",
     "text": [
      "Konvertiere in DataFrame...\n",
      "Validiere URLs...\n"
     ]
    },
    {
     "name": "stderr",
     "output_type": "stream",
     "text": [
      "2024-01-26 16:29:35,517 - INFO - URL https://www.eversports.de/s/pole-for-soul-gbr is valid.\n",
      "2024-01-26 16:29:35,517 - INFO - Processing URL 2/4: https://www.eversports.de/scl/pole-for-soul-gbr\n",
      "2024-01-26 16:29:37,034 - INFO - URL https://www.eversports.de/scl/pole-for-soul-gbr is valid.\n",
      "2024-01-26 16:29:37,034 - INFO - Processing URL 3/4: https://www.eversports.de/s/pole-for-soul-gbr/videos\n",
      "2024-01-26 16:29:38,549 - INFO - URL https://www.eversports.de/s/pole-for-soul-gbr/videos is valid.\n",
      "2024-01-26 16:29:38,549 - INFO - Processing URL 4/4: https://www.eversports.de/s/pole-for-soul-gbr/team\n",
      "2024-01-26 16:29:39,993 - INFO - URL https://www.eversports.de/s/pole-for-soul-gbr/team is valid.\n"
     ]
    },
    {
     "name": "stdout",
     "output_type": "stream",
     "text": [
      "Scrape Pole Studio Daten von https://www.eversports.de/s/pole-for-soul-gbr...\n",
      "Scrape Klassen Daten von https://www.eversports.de/scl/pole-for-soul-gbr...\n",
      "Scrape Klassen Details von https://www.eversports.de/scl/pole-for-soul-gbr...\n",
      "Verarbeitung abgeschlossen.\n",
      "\n",
      "Ergebnisse für URL: https://www.eversports.de/s/pole-for-soul-gbr\n",
      "Pole Studio Data:\n",
      "\n",
      "\n",
      "Classes Data:\n",
      "\n",
      "\n",
      "Classes Details:\n",
      "\n",
      "\n",
      "Progress: 27.73%\n",
      "\n",
      "Processing URL 156/559\n",
      "Verarbeite URL: https://www.eversports.de/s/Poledance-4-You\n",
      "Starte URL-Rekonstruktion...\n"
     ]
    },
    {
     "name": "stderr",
     "output_type": "stream",
     "text": [
      "2024-01-26 16:30:57,525 - INFO - Processing URL 1/1: https://www.eversports.de/s/Poledance-4-You\n"
     ]
    },
    {
     "name": "stdout",
     "output_type": "stream",
     "text": [
      "Konvertiere in DataFrame...\n",
      "Validiere URLs...\n"
     ]
    },
    {
     "name": "stderr",
     "output_type": "stream",
     "text": [
      "2024-01-26 16:30:59,187 - INFO - URL https://www.eversports.de/s/Poledance-4-You is valid.\n"
     ]
    },
    {
     "name": "stdout",
     "output_type": "stream",
     "text": [
      "Scrape Pole Studio Daten von https://www.eversports.de/s/Poledance-4-You...\n",
      "Verarbeitung abgeschlossen.\n",
      "\n",
      "Ergebnisse für URL: https://www.eversports.de/s/Poledance-4-You\n",
      "Pole Studio Data:\n",
      "\n",
      "\n",
      "Progress: 27.91%\n",
      "\n",
      "Processing URL 157/559\n",
      "Verarbeite URL: https://www.eversports.de/s/SECRET-MOVES---Athletic-Dance-Studio\n",
      "Starte URL-Rekonstruktion...\n",
      "Error during HTTP request: 404 Client Error: Not Found for url: https://www.eversports.de/s/secret-moves---athletic-dance-studio\n",
      "Konvertiere in DataFrame...\n",
      "Validiere URLs...\n",
      "Verarbeitung abgeschlossen.\n",
      "\n",
      "Ergebnisse für URL: https://www.eversports.de/s/SECRET-MOVES---Athletic-Dance-Studio\n",
      "Progress: 28.09%\n",
      "\n",
      "Processing URL 158/559\n",
      "Verarbeite URL: https://www.eversports.de/s/tanzschule-step-up\n",
      "Starte URL-Rekonstruktion...\n",
      "Error during HTTP request: 404 Client Error: Not Found for url: https://www.eversports.de/s/tanzschule-step-up\n",
      "Konvertiere in DataFrame...\n",
      "Validiere URLs...\n",
      "Verarbeitung abgeschlossen.\n",
      "\n",
      "Ergebnisse für URL: https://www.eversports.de/s/tanzschule-step-up\n",
      "Progress: 28.26%\n",
      "\n",
      "Processing URL 159/559\n",
      "Verarbeite URL: https://www.eversports.de/s/dance-%26-pole-h%C3%BCckeswagen\n",
      "Starte URL-Rekonstruktion...\n",
      "Error during HTTP request: Exceeded 30 redirects.\n",
      "Konvertiere in DataFrame...\n",
      "Validiere URLs...\n",
      "Verarbeitung abgeschlossen.\n",
      "\n",
      "Ergebnisse für URL: https://www.eversports.de/s/dance-%26-pole-h%C3%BCckeswagen\n",
      "Progress: 28.44%\n",
      "\n",
      "Processing URL 160/559\n",
      "Verarbeite URL: https://www.eversports.de/s/WeLovePoledance\n",
      "Starte URL-Rekonstruktion...\n"
     ]
    },
    {
     "name": "stderr",
     "output_type": "stream",
     "text": [
      "2024-01-26 16:31:07,502 - INFO - Processing URL 1/1: https://www.eversports.de/s/WeLovePoledance\n"
     ]
    },
    {
     "name": "stdout",
     "output_type": "stream",
     "text": [
      "Konvertiere in DataFrame...\n",
      "Validiere URLs...\n"
     ]
    },
    {
     "name": "stderr",
     "output_type": "stream",
     "text": [
      "2024-01-26 16:31:10,449 - INFO - URL https://www.eversports.de/s/WeLovePoledance is valid.\n"
     ]
    },
    {
     "name": "stdout",
     "output_type": "stream",
     "text": [
      "Scrape Pole Studio Daten von https://www.eversports.de/s/WeLovePoledance...\n",
      "Verarbeitung abgeschlossen.\n",
      "\n",
      "Ergebnisse für URL: https://www.eversports.de/s/WeLovePoledance\n",
      "Pole Studio Data:\n",
      "\n",
      "\n",
      "Progress: 28.62%\n",
      "\n",
      "Processing URL 161/559\n",
      "Verarbeite URL: https://www.eversports.de/s/open-aerial-dance-wiesbaden\n",
      "Starte URL-Rekonstruktion...\n",
      "Error during HTTP request: 404 Client Error: Not Found for url: https://www.eversports.de/s/open-aerial-dance-wiesbaden\n",
      "Konvertiere in DataFrame...\n",
      "Validiere URLs...\n",
      "Verarbeitung abgeschlossen.\n",
      "\n",
      "Ergebnisse für URL: https://www.eversports.de/s/open-aerial-dance-wiesbaden\n",
      "Progress: 28.80%\n",
      "\n",
      "Processing URL 162/559\n",
      "Verarbeite URL: https://www.eversports.de/s/secret-moves---athletic-dance-studio\n",
      "Starte URL-Rekonstruktion...\n",
      "Error during HTTP request: 404 Client Error: Not Found for url: https://www.eversports.de/s/secret-moves---athletic-dance-studio\n",
      "Konvertiere in DataFrame...\n",
      "Validiere URLs...\n",
      "Verarbeitung abgeschlossen.\n",
      "\n",
      "Ergebnisse für URL: https://www.eversports.de/s/secret-moves---athletic-dance-studio\n",
      "Progress: 28.98%\n",
      "\n",
      "Processing URL 163/559\n",
      "Verarbeite URL: https://www.eversports.de/s/studio-fitnessdarling\n",
      "Starte URL-Rekonstruktion...\n",
      "Error during HTTP request: 404 Client Error: Not Found for url: https://www.eversports.de/s/studio-fitnessdarling\n",
      "Konvertiere in DataFrame...\n",
      "Validiere URLs...\n",
      "Verarbeitung abgeschlossen.\n",
      "\n",
      "Ergebnisse für URL: https://www.eversports.de/s/studio-fitnessdarling\n",
      "Progress: 29.16%\n",
      "\n",
      "Processing URL 164/559\n",
      "Verarbeite URL: https://www.eversports.de/s/polesition-regensburg\n",
      "Starte URL-Rekonstruktion...\n"
     ]
    },
    {
     "name": "stderr",
     "output_type": "stream",
     "text": [
      "2024-01-26 16:31:17,974 - INFO - Processing URL 1/1: https://www.eversports.de/s/polesition-regensburg\n"
     ]
    },
    {
     "name": "stdout",
     "output_type": "stream",
     "text": [
      "Konvertiere in DataFrame...\n",
      "Validiere URLs...\n"
     ]
    },
    {
     "name": "stderr",
     "output_type": "stream",
     "text": [
      "2024-01-26 16:31:19,551 - INFO - URL https://www.eversports.de/s/polesition-regensburg is valid.\n"
     ]
    },
    {
     "name": "stdout",
     "output_type": "stream",
     "text": [
      "Scrape Pole Studio Daten von https://www.eversports.de/s/polesition-regensburg...\n",
      "Verarbeitung abgeschlossen.\n",
      "\n",
      "Ergebnisse für URL: https://www.eversports.de/s/polesition-regensburg\n",
      "Pole Studio Data:\n",
      "\n",
      "\n",
      "Progress: 29.34%\n",
      "\n",
      "Processing URL 165/559\n",
      "Verarbeite URL: https://www.eversports.de/s/one8dance-studio\n",
      "Starte URL-Rekonstruktion...\n"
     ]
    },
    {
     "name": "stderr",
     "output_type": "stream",
     "text": [
      "2024-01-26 16:31:21,444 - INFO - Processing URL 1/4: https://www.eversports.de/s/one8dance-studio\n"
     ]
    },
    {
     "name": "stdout",
     "output_type": "stream",
     "text": [
      "Konvertiere in DataFrame...\n",
      "Validiere URLs...\n"
     ]
    },
    {
     "name": "stderr",
     "output_type": "stream",
     "text": [
      "2024-01-26 16:31:23,045 - INFO - URL https://www.eversports.de/s/one8dance-studio is valid.\n",
      "2024-01-26 16:31:23,046 - INFO - Processing URL 2/4: https://www.eversports.de/scl/one8dance-studio\n",
      "2024-01-26 16:31:24,378 - INFO - URL https://www.eversports.de/scl/one8dance-studio is valid.\n",
      "2024-01-26 16:31:24,379 - INFO - Processing URL 3/4: https://www.eversports.de/sp/one8dance-studio\n",
      "2024-01-26 16:31:25,871 - INFO - URL https://www.eversports.de/sp/one8dance-studio is valid.\n",
      "2024-01-26 16:31:25,872 - INFO - Processing URL 4/4: https://www.eversports.de/s/one8dance-studio/team\n",
      "2024-01-26 16:31:28,129 - INFO - URL https://www.eversports.de/s/one8dance-studio/team is valid.\n"
     ]
    },
    {
     "name": "stdout",
     "output_type": "stream",
     "text": [
      "Scrape Pole Studio Daten von https://www.eversports.de/s/one8dance-studio...\n",
      "Scrape Klassen Daten von https://www.eversports.de/scl/one8dance-studio...\n",
      "Scrape Klassen Details von https://www.eversports.de/scl/one8dance-studio...\n",
      "Verarbeitung abgeschlossen.\n",
      "\n",
      "Ergebnisse für URL: https://www.eversports.de/s/one8dance-studio\n",
      "Pole Studio Data:\n",
      "\n",
      "\n",
      "Classes Data:\n",
      "\n",
      "\n",
      "Classes Details:\n",
      "\n",
      "\n",
      "Progress: 29.52%\n",
      "\n",
      "Processing URL 166/559\n",
      "Verarbeite URL: https://www.eversports.de/s/polesports-studio-l%C3%BCneburg\n",
      "Starte URL-Rekonstruktion...\n",
      "Error during HTTP request: Exceeded 30 redirects.\n",
      "Konvertiere in DataFrame...\n",
      "Validiere URLs...\n",
      "Verarbeitung abgeschlossen.\n",
      "\n",
      "Ergebnisse für URL: https://www.eversports.de/s/polesports-studio-l%C3%BCneburg\n",
      "Progress: 29.70%\n",
      "\n",
      "Processing URL 167/559\n",
      "Verarbeite URL: https://www.eversports.de/s/Yoga-Vidya-Burgdorf\n",
      "Starte URL-Rekonstruktion...\n"
     ]
    },
    {
     "name": "stderr",
     "output_type": "stream",
     "text": [
      "2024-01-26 16:32:33,599 - INFO - Processing URL 1/6: https://www.eversports.de/s/Yoga-Vidya-Burgdorf\n"
     ]
    },
    {
     "name": "stdout",
     "output_type": "stream",
     "text": [
      "Konvertiere in DataFrame...\n",
      "Validiere URLs...\n"
     ]
    },
    {
     "name": "stderr",
     "output_type": "stream",
     "text": [
      "2024-01-26 16:32:35,391 - INFO - URL https://www.eversports.de/s/Yoga-Vidya-Burgdorf is valid.\n",
      "2024-01-26 16:32:35,392 - INFO - Processing URL 2/6: https://www.eversports.de/scl/Yoga-Vidya-Burgdorf\n",
      "2024-01-26 16:32:36,737 - INFO - URL https://www.eversports.de/scl/Yoga-Vidya-Burgdorf is valid.\n",
      "2024-01-26 16:32:36,737 - INFO - Processing URL 3/6: https://www.eversports.de/s/Yoga-Vidya-Burgdorf/kurse\n",
      "2024-01-26 16:32:38,010 - INFO - URL https://www.eversports.de/s/Yoga-Vidya-Burgdorf/kurse is not valid.\n",
      "2024-01-26 16:32:38,011 - INFO - Processing URL 4/6: https://www.eversports.de/s/Yoga-Vidya-Burgdorf/retreats\n",
      "2024-01-26 16:32:39,342 - INFO - URL https://www.eversports.de/s/Yoga-Vidya-Burgdorf/retreats is not valid.\n",
      "2024-01-26 16:32:39,343 - INFO - Processing URL 5/6: https://www.eversports.de/sp/Yoga-Vidya-Burgdorf\n",
      "2024-01-26 16:32:40,774 - INFO - URL https://www.eversports.de/sp/Yoga-Vidya-Burgdorf is valid.\n",
      "2024-01-26 16:32:40,776 - INFO - Processing URL 6/6: https://www.eversports.de/s/Yoga-Vidya-Burgdorf/team\n",
      "2024-01-26 16:32:43,283 - INFO - URL https://www.eversports.de/s/Yoga-Vidya-Burgdorf/team is valid.\n"
     ]
    },
    {
     "name": "stdout",
     "output_type": "stream",
     "text": [
      "Scrape Pole Studio Daten von https://www.eversports.de/s/Yoga-Vidya-Burgdorf...\n",
      "Scrape Klassen Daten von https://www.eversports.de/scl/Yoga-Vidya-Burgdorf...\n",
      "Scrape Klassen Details von https://www.eversports.de/scl/Yoga-Vidya-Burgdorf...\n",
      "Verarbeitung abgeschlossen.\n",
      "\n",
      "Ergebnisse für URL: https://www.eversports.de/s/Yoga-Vidya-Burgdorf\n",
      "Pole Studio Data:\n",
      "\n",
      "\n",
      "Classes Data:\n",
      "\n",
      "\n",
      "Classes Details:\n",
      "\n",
      "\n",
      "Progress: 29.87%\n",
      "\n",
      "Processing URL 168/559\n",
      "Verarbeite URL: https://www.eversports.de/s/studio-aeris\n",
      "Starte URL-Rekonstruktion...\n"
     ]
    },
    {
     "name": "stderr",
     "output_type": "stream",
     "text": [
      "2024-01-26 16:32:49,920 - INFO - Processing URL 1/6: https://www.eversports.de/s/studio-aeris\n"
     ]
    },
    {
     "name": "stdout",
     "output_type": "stream",
     "text": [
      "Konvertiere in DataFrame...\n",
      "Validiere URLs...\n"
     ]
    },
    {
     "name": "stderr",
     "output_type": "stream",
     "text": [
      "2024-01-26 16:32:51,481 - INFO - URL https://www.eversports.de/s/studio-aeris is valid.\n",
      "2024-01-26 16:32:51,482 - INFO - Processing URL 2/6: https://www.eversports.de/scl/studio-aeris\n",
      "2024-01-26 16:32:53,155 - INFO - URL https://www.eversports.de/scl/studio-aeris is not valid.\n",
      "2024-01-26 16:32:53,156 - INFO - Processing URL 3/6: https://www.eversports.de/s/studio-aeris/kurse\n",
      "2024-01-26 16:32:54,414 - INFO - URL https://www.eversports.de/s/studio-aeris/kurse is not valid.\n",
      "2024-01-26 16:32:54,415 - INFO - Processing URL 4/6: https://www.eversports.de/sw/studio-aeris\n",
      "2024-01-26 16:32:55,738 - INFO - URL https://www.eversports.de/sw/studio-aeris is not valid.\n",
      "2024-01-26 16:32:55,739 - INFO - Processing URL 5/6: https://www.eversports.de/sp/studio-aeris\n",
      "2024-01-26 16:32:57,181 - INFO - URL https://www.eversports.de/sp/studio-aeris is not valid.\n",
      "2024-01-26 16:32:57,182 - INFO - Processing URL 6/6: https://www.eversports.de/s/studio-aeris/team\n",
      "2024-01-26 16:32:58,703 - INFO - URL https://www.eversports.de/s/studio-aeris/team is valid.\n"
     ]
    },
    {
     "name": "stdout",
     "output_type": "stream",
     "text": [
      "Scrape Pole Studio Daten von https://www.eversports.de/s/studio-aeris...\n",
      "Verarbeitung abgeschlossen.\n",
      "\n",
      "Ergebnisse für URL: https://www.eversports.de/s/studio-aeris\n",
      "Pole Studio Data:\n",
      "\n",
      "\n",
      "Progress: 30.05%\n",
      "\n",
      "Processing URL 169/559\n",
      "Verarbeite URL: https://www.eversports.de/s/Stadtgazellen-Bremen\n",
      "Starte URL-Rekonstruktion...\n"
     ]
    },
    {
     "name": "stderr",
     "output_type": "stream",
     "text": [
      "2024-01-26 16:33:00,992 - INFO - Processing URL 1/5: https://www.eversports.de/s/Stadtgazellen-Bremen\n"
     ]
    },
    {
     "name": "stdout",
     "output_type": "stream",
     "text": [
      "Konvertiere in DataFrame...\n",
      "Validiere URLs...\n"
     ]
    },
    {
     "name": "stderr",
     "output_type": "stream",
     "text": [
      "2024-01-26 16:33:02,794 - INFO - URL https://www.eversports.de/s/Stadtgazellen-Bremen is valid.\n",
      "2024-01-26 16:33:02,795 - INFO - Processing URL 2/5: https://www.eversports.de/scl/Stadtgazellen-Bremen\n",
      "2024-01-26 16:33:04,309 - INFO - URL https://www.eversports.de/scl/Stadtgazellen-Bremen is valid.\n",
      "2024-01-26 16:33:04,310 - INFO - Processing URL 3/5: https://www.eversports.de/sw/Stadtgazellen-Bremen\n",
      "2024-01-26 16:33:07,050 - INFO - URL https://www.eversports.de/sw/Stadtgazellen-Bremen is valid.\n",
      "2024-01-26 16:33:07,052 - INFO - Processing URL 4/5: https://www.eversports.de/sp/Stadtgazellen-Bremen\n",
      "2024-01-26 16:33:08,419 - INFO - URL https://www.eversports.de/sp/Stadtgazellen-Bremen is valid.\n",
      "2024-01-26 16:33:08,420 - INFO - Processing URL 5/5: https://www.eversports.de/s/Stadtgazellen-Bremen/team\n",
      "2024-01-26 16:33:09,991 - INFO - URL https://www.eversports.de/s/Stadtgazellen-Bremen/team is valid.\n"
     ]
    },
    {
     "name": "stdout",
     "output_type": "stream",
     "text": [
      "Scrape Pole Studio Daten von https://www.eversports.de/s/Stadtgazellen-Bremen...\n",
      "Scrape Klassen Daten von https://www.eversports.de/scl/Stadtgazellen-Bremen...\n",
      "Scrape Klassen Details von https://www.eversports.de/scl/Stadtgazellen-Bremen...\n",
      "Scrape Workshops Daten von https://www.eversports.de/sw/Stadtgazellen-Bremen...\n",
      "Scrape Workshop Details von https://www.eversports.de/e/workshop/YiU_KF8...\n",
      "Scrape Workshop Details von https://www.eversports.de/e/workshop/Vnofur2...\n",
      "Scrape Workshop Details von https://www.eversports.de/e/workshop/wFn4PaN...\n",
      "Scrape Workshop Details von https://www.eversports.de/e/workshop/6ZllXAZ...\n",
      "Scrape Workshop Details von https://www.eversports.de/e/workshop/L5UxsO9...\n",
      "Scrape Workshop Details von https://www.eversports.de/e/workshop/7blW22y...\n",
      "Scrape Workshop Details von https://www.eversports.de/e/workshop/v4tYN09...\n",
      "Scrape Workshop Details von https://www.eversports.de/e/workshop/KWx3LyO...\n",
      "Scrape Workshop Details von https://www.eversports.de/e/workshop/WRl24o5...\n",
      "Scrape Workshop Details von https://www.eversports.de/e/workshop/wrZkEQ3...\n",
      "Verarbeitung abgeschlossen.\n",
      "\n",
      "Ergebnisse für URL: https://www.eversports.de/s/Stadtgazellen-Bremen\n",
      "Pole Studio Data:\n",
      "\n",
      "\n",
      "Classes Data:\n",
      "\n",
      "\n",
      "Classes Details:\n",
      "\n",
      "\n",
      "Workshops Data:\n",
      "\n",
      "\n",
      "Workshop Details:\n",
      "\n",
      "\n",
      "Progress: 30.23%\n",
      "\n",
      "Processing URL 170/559\n",
      "Verarbeite URL: https://www.eversports.de/s/pole-sisters\n",
      "Starte URL-Rekonstruktion...\n",
      "Error during HTTP request: 404 Client Error: Not Found for url: https://www.eversports.de/s/pole-sisters\n",
      "Konvertiere in DataFrame...\n",
      "Validiere URLs...\n",
      "Verarbeitung abgeschlossen.\n",
      "\n",
      "Ergebnisse für URL: https://www.eversports.de/s/pole-sisters\n",
      "Progress: 30.41%\n",
      "\n",
      "Processing URL 171/559\n",
      "Verarbeite URL: https://www.eversports.de/s/pole-sensation\n",
      "Starte URL-Rekonstruktion...\n",
      "Error during HTTP request: 404 Client Error: Not Found for url: https://www.eversports.de/s/pole-sensation\n",
      "Konvertiere in DataFrame...\n",
      "Validiere URLs...\n",
      "Verarbeitung abgeschlossen.\n",
      "\n",
      "Ergebnisse für URL: https://www.eversports.de/s/pole-sensation\n",
      "Progress: 30.59%\n",
      "\n",
      "Processing URL 172/559\n",
      "Verarbeite URL: https://www.eversports.de/s/dance-%26-pole-leverkusen\n",
      "Starte URL-Rekonstruktion...\n",
      "Error during HTTP request: 404 Client Error: Not Found for url: https://www.eversports.de/s/dance-%26-pole-leverkusen\n",
      "Konvertiere in DataFrame...\n",
      "Validiere URLs...\n",
      "Verarbeitung abgeschlossen.\n",
      "\n",
      "Ergebnisse für URL: https://www.eversports.de/s/dance-%26-pole-leverkusen\n",
      "Progress: 30.77%\n",
      "\n",
      "Processing URL 173/559\n",
      "Verarbeite URL: https://www.eversports.de/s/yoga-at-lobe-block\n",
      "Starte URL-Rekonstruktion...\n"
     ]
    },
    {
     "name": "stderr",
     "output_type": "stream",
     "text": [
      "2024-01-26 16:35:44,968 - INFO - Processing URL 1/6: https://www.eversports.de/s/yoga-at-lobe-block\n"
     ]
    },
    {
     "name": "stdout",
     "output_type": "stream",
     "text": [
      "Konvertiere in DataFrame...\n",
      "Validiere URLs...\n"
     ]
    },
    {
     "name": "stderr",
     "output_type": "stream",
     "text": [
      "2024-01-26 16:35:47,773 - INFO - URL https://www.eversports.de/s/yoga-at-lobe-block is valid.\n",
      "2024-01-26 16:35:47,774 - INFO - Processing URL 2/6: https://www.eversports.de/scl/yoga-at-lobe-block\n",
      "2024-01-26 16:35:49,643 - INFO - URL https://www.eversports.de/scl/yoga-at-lobe-block is valid.\n",
      "2024-01-26 16:35:49,644 - INFO - Processing URL 3/6: https://www.eversports.de/sw/yoga-at-lobe-block\n",
      "2024-01-26 16:35:51,636 - INFO - URL https://www.eversports.de/sw/yoga-at-lobe-block is valid.\n",
      "2024-01-26 16:35:51,638 - INFO - Processing URL 4/6: https://www.eversports.de/s/yoga-at-lobe-block/videos\n",
      "2024-01-26 16:35:53,212 - INFO - URL https://www.eversports.de/s/yoga-at-lobe-block/videos is valid.\n",
      "2024-01-26 16:35:53,213 - INFO - Processing URL 5/6: https://www.eversports.de/sp/yoga-at-lobe-block\n",
      "2024-01-26 16:35:54,752 - INFO - URL https://www.eversports.de/sp/yoga-at-lobe-block is valid.\n",
      "2024-01-26 16:35:54,753 - INFO - Processing URL 6/6: https://www.eversports.de/s/yoga-at-lobe-block/team\n",
      "2024-01-26 16:35:56,378 - INFO - URL https://www.eversports.de/s/yoga-at-lobe-block/team is valid.\n"
     ]
    },
    {
     "name": "stdout",
     "output_type": "stream",
     "text": [
      "Scrape Pole Studio Daten von https://www.eversports.de/s/yoga-at-lobe-block...\n",
      "Scrape Klassen Daten von https://www.eversports.de/scl/yoga-at-lobe-block...\n",
      "Scrape Klassen Details von https://www.eversports.de/scl/yoga-at-lobe-block...\n",
      "Scrape Workshops Daten von https://www.eversports.de/sw/yoga-at-lobe-block...\n",
      "Scrape Workshop Details von https://www.eversports.de/e/workshop/vmr79nD...\n",
      "Scrape Workshop Details von https://www.eversports.de/e/workshop/5WFQ4Sn...\n",
      "Verarbeitung abgeschlossen.\n",
      "\n",
      "Ergebnisse für URL: https://www.eversports.de/s/yoga-at-lobe-block\n",
      "Pole Studio Data:\n",
      "\n",
      "\n",
      "Classes Data:\n",
      "\n",
      "\n",
      "Classes Details:\n",
      "\n",
      "\n",
      "Workshops Data:\n",
      "\n",
      "\n",
      "Workshop Details:\n",
      "\n",
      "\n",
      "Progress: 30.95%\n",
      "\n",
      "Processing URL 174/559\n",
      "Verarbeite URL: https://www.eversports.de/s/divapole\n",
      "Starte URL-Rekonstruktion...\n"
     ]
    },
    {
     "name": "stderr",
     "output_type": "stream",
     "text": [
      "2024-01-26 16:42:32,991 - INFO - Processing URL 1/4: https://www.eversports.de/s/divapole\n"
     ]
    },
    {
     "name": "stdout",
     "output_type": "stream",
     "text": [
      "Konvertiere in DataFrame...\n",
      "Validiere URLs...\n"
     ]
    },
    {
     "name": "stderr",
     "output_type": "stream",
     "text": [
      "2024-01-26 16:42:35,396 - INFO - URL https://www.eversports.de/s/divapole is valid.\n",
      "2024-01-26 16:42:35,398 - INFO - Processing URL 2/4: https://www.eversports.de/s/divapole/trainings\n",
      "2024-01-26 16:42:36,730 - INFO - URL https://www.eversports.de/s/divapole/trainings is not valid.\n",
      "2024-01-26 16:42:36,731 - INFO - Processing URL 3/4: https://www.eversports.de/sp/divapole\n",
      "2024-01-26 16:42:38,078 - INFO - URL https://www.eversports.de/sp/divapole is valid.\n",
      "2024-01-26 16:42:38,079 - INFO - Processing URL 4/4: https://www.eversports.de/s/divapole/team\n",
      "2024-01-26 16:42:40,155 - INFO - URL https://www.eversports.de/s/divapole/team is valid.\n"
     ]
    },
    {
     "name": "stdout",
     "output_type": "stream",
     "text": [
      "Scrape Pole Studio Daten von https://www.eversports.de/s/divapole...\n",
      "Verarbeitung abgeschlossen.\n",
      "\n",
      "Ergebnisse für URL: https://www.eversports.de/s/divapole\n",
      "Pole Studio Data:\n",
      "\n",
      "\n",
      "Progress: 31.13%\n",
      "\n",
      "Processing URL 175/559\n",
      "Verarbeite URL: https://www.eversports.de/s/dance-%26-pole-solingen\n",
      "Starte URL-Rekonstruktion...\n",
      "Error during HTTP request: 404 Client Error: Not Found for url: https://www.eversports.de/s/dance-%26-pole-solingen\n",
      "Konvertiere in DataFrame...\n",
      "Validiere URLs...\n",
      "Verarbeitung abgeschlossen.\n",
      "\n",
      "Ergebnisse für URL: https://www.eversports.de/s/dance-%26-pole-solingen\n",
      "Progress: 31.31%\n",
      "\n",
      "Processing URL 176/559\n",
      "Verarbeite URL: https://www.eversports.de/s/polefit-aline-sustrath\n",
      "Starte URL-Rekonstruktion...\n"
     ]
    },
    {
     "name": "stderr",
     "output_type": "stream",
     "text": [
      "2024-01-26 16:42:45,438 - INFO - Processing URL 1/6: https://www.eversports.de/s/polefit-aline-sustrath\n"
     ]
    },
    {
     "name": "stdout",
     "output_type": "stream",
     "text": [
      "Konvertiere in DataFrame...\n",
      "Validiere URLs...\n"
     ]
    },
    {
     "name": "stderr",
     "output_type": "stream",
     "text": [
      "2024-01-26 16:42:47,034 - INFO - URL https://www.eversports.de/s/polefit-aline-sustrath is valid.\n",
      "2024-01-26 16:42:47,035 - INFO - Processing URL 2/6: https://www.eversports.de/scl/polefit-aline-sustrath\n",
      "2024-01-26 16:42:48,540 - INFO - URL https://www.eversports.de/scl/polefit-aline-sustrath is valid.\n",
      "2024-01-26 16:42:48,541 - INFO - Processing URL 3/6: https://www.eversports.de/s/polefit-aline-sustrath/kurse\n",
      "2024-01-26 16:42:49,851 - INFO - URL https://www.eversports.de/s/polefit-aline-sustrath/kurse is not valid.\n",
      "2024-01-26 16:42:49,853 - INFO - Processing URL 4/6: https://www.eversports.de/sw/polefit-aline-sustrath\n",
      "2024-01-26 16:42:51,245 - INFO - URL https://www.eversports.de/sw/polefit-aline-sustrath is valid.\n",
      "2024-01-26 16:42:51,247 - INFO - Processing URL 5/6: https://www.eversports.de/sp/polefit-aline-sustrath\n",
      "2024-01-26 16:42:52,661 - INFO - URL https://www.eversports.de/sp/polefit-aline-sustrath is valid.\n",
      "2024-01-26 16:42:52,662 - INFO - Processing URL 6/6: https://www.eversports.de/s/polefit-aline-sustrath/team\n",
      "2024-01-26 16:42:54,064 - INFO - URL https://www.eversports.de/s/polefit-aline-sustrath/team is valid.\n"
     ]
    },
    {
     "name": "stdout",
     "output_type": "stream",
     "text": [
      "Scrape Pole Studio Daten von https://www.eversports.de/s/polefit-aline-sustrath...\n",
      "Scrape Klassen Daten von https://www.eversports.de/scl/polefit-aline-sustrath...\n",
      "Scrape Klassen Details von https://www.eversports.de/scl/polefit-aline-sustrath...\n",
      "Scrape Workshops Daten von https://www.eversports.de/sw/polefit-aline-sustrath...\n",
      "Scrape Workshop Details von https://www.eversports.de/e/workshop/cMAYTid...\n",
      "Scrape Workshop Details von https://www.eversports.de/e/workshop/VKmdxO2...\n",
      "Scrape Workshop Details von https://www.eversports.de/e/workshop/F0nh2br...\n",
      "Verarbeitung abgeschlossen.\n",
      "\n",
      "Ergebnisse für URL: https://www.eversports.de/s/polefit-aline-sustrath\n",
      "Pole Studio Data:\n",
      "\n",
      "\n",
      "Classes Data:\n",
      "\n",
      "\n",
      "Classes Details:\n",
      "\n",
      "\n",
      "Workshops Data:\n",
      "\n",
      "\n",
      "Workshop Details:\n",
      "\n",
      "\n",
      "Progress: 31.48%\n",
      "\n",
      "Processing URL 177/559\n",
      "Verarbeite URL: https://www.eversports.de/s/Janardana-Yoga\n",
      "Starte URL-Rekonstruktion...\n"
     ]
    },
    {
     "name": "stderr",
     "output_type": "stream",
     "text": [
      "2024-01-26 16:43:41,493 - INFO - Processing URL 1/6: https://www.eversports.de/s/Janardana-Yoga\n"
     ]
    },
    {
     "name": "stdout",
     "output_type": "stream",
     "text": [
      "Konvertiere in DataFrame...\n",
      "Validiere URLs...\n"
     ]
    },
    {
     "name": "stderr",
     "output_type": "stream",
     "text": [
      "2024-01-26 16:43:43,128 - INFO - URL https://www.eversports.de/s/Janardana-Yoga is valid.\n",
      "2024-01-26 16:43:43,129 - INFO - Processing URL 2/6: https://www.eversports.de/scl/Janardana-Yoga\n",
      "2024-01-26 16:43:45,185 - INFO - URL https://www.eversports.de/scl/Janardana-Yoga is valid.\n",
      "2024-01-26 16:43:45,187 - INFO - Processing URL 3/6: https://www.eversports.de/s/Janardana-Yoga/ausbildungen\n",
      "2024-01-26 16:43:46,496 - INFO - URL https://www.eversports.de/s/Janardana-Yoga/ausbildungen is not valid.\n",
      "2024-01-26 16:43:46,497 - INFO - Processing URL 4/6: https://www.eversports.de/s/Janardana-Yoga/videos\n",
      "2024-01-26 16:43:47,892 - INFO - URL https://www.eversports.de/s/Janardana-Yoga/videos is valid.\n",
      "2024-01-26 16:43:47,893 - INFO - Processing URL 5/6: https://www.eversports.de/sp/Janardana-Yoga\n",
      "2024-01-26 16:43:49,544 - INFO - URL https://www.eversports.de/sp/Janardana-Yoga is valid.\n",
      "2024-01-26 16:43:49,545 - INFO - Processing URL 6/6: https://www.eversports.de/s/Janardana-Yoga/team\n",
      "2024-01-26 16:43:51,065 - INFO - URL https://www.eversports.de/s/Janardana-Yoga/team is valid.\n"
     ]
    },
    {
     "name": "stdout",
     "output_type": "stream",
     "text": [
      "Scrape Pole Studio Daten von https://www.eversports.de/s/Janardana-Yoga...\n",
      "Scrape Klassen Daten von https://www.eversports.de/scl/Janardana-Yoga...\n",
      "Scrape Klassen Details von https://www.eversports.de/scl/Janardana-Yoga...\n",
      "Verarbeitung abgeschlossen.\n",
      "\n",
      "Ergebnisse für URL: https://www.eversports.de/s/Janardana-Yoga\n",
      "Pole Studio Data:\n",
      "\n",
      "\n",
      "Classes Data:\n",
      "\n",
      "\n",
      "Classes Details:\n",
      "\n",
      "\n",
      "Progress: 31.66%\n",
      "\n",
      "Processing URL 178/559\n",
      "Verarbeite URL: https://www.eversports.de/s/poledance-worms\n",
      "Starte URL-Rekonstruktion...\n",
      "Error during HTTP request: 404 Client Error: Not Found for url: https://www.eversports.de/s/poledance-worms\n",
      "Konvertiere in DataFrame...\n",
      "Validiere URLs...\n",
      "Verarbeitung abgeschlossen.\n",
      "\n",
      "Ergebnisse für URL: https://www.eversports.de/s/poledance-worms\n",
      "Progress: 31.84%\n",
      "\n",
      "Processing URL 179/559\n",
      "Verarbeite URL: https://www.eversports.de/s/poledance-schule-berlin\n",
      "Starte URL-Rekonstruktion...\n",
      "Error during HTTP request: 404 Client Error: Not Found for url: https://www.eversports.de/s/poledance-schule-berlin\n",
      "Konvertiere in DataFrame...\n",
      "Validiere URLs...\n",
      "Verarbeitung abgeschlossen.\n",
      "\n",
      "Ergebnisse für URL: https://www.eversports.de/s/poledance-schule-berlin\n",
      "Progress: 32.02%\n",
      "\n",
      "Processing URL 180/559\n",
      "Verarbeite URL: https://www.eversports.de/s/polesition\n",
      "Starte URL-Rekonstruktion...\n",
      "Error during HTTP request: 404 Client Error: Not Found for url: https://www.eversports.de/s/polesition\n",
      "Konvertiere in DataFrame...\n",
      "Validiere URLs...\n",
      "Verarbeitung abgeschlossen.\n",
      "\n",
      "Ergebnisse für URL: https://www.eversports.de/s/polesition\n",
      "Progress: 32.20%\n",
      "\n",
      "Processing URL 181/559\n",
      "Verarbeite URL: https://www.eversports.de/s/Luftbonbon\n",
      "Starte URL-Rekonstruktion...\n"
     ]
    },
    {
     "name": "stderr",
     "output_type": "stream",
     "text": [
      "2024-01-26 16:45:16,792 - INFO - Processing URL 1/5: https://www.eversports.de/s/Luftbonbon\n"
     ]
    },
    {
     "name": "stdout",
     "output_type": "stream",
     "text": [
      "Konvertiere in DataFrame...\n",
      "Validiere URLs...\n"
     ]
    },
    {
     "name": "stderr",
     "output_type": "stream",
     "text": [
      "2024-01-26 16:45:19,766 - INFO - URL https://www.eversports.de/s/Luftbonbon is valid.\n",
      "2024-01-26 16:45:19,767 - INFO - Processing URL 2/5: https://www.eversports.de/scl/Luftbonbon\n",
      "2024-01-26 16:45:21,647 - INFO - URL https://www.eversports.de/scl/Luftbonbon is valid.\n",
      "2024-01-26 16:45:21,648 - INFO - Processing URL 3/5: https://www.eversports.de/sw/Luftbonbon\n",
      "2024-01-26 16:45:23,016 - INFO - URL https://www.eversports.de/sw/Luftbonbon is valid.\n",
      "2024-01-26 16:45:23,018 - INFO - Processing URL 4/5: https://www.eversports.de/sp/Luftbonbon\n",
      "2024-01-26 16:45:24,408 - INFO - URL https://www.eversports.de/sp/Luftbonbon is valid.\n",
      "2024-01-26 16:45:24,409 - INFO - Processing URL 5/5: https://www.eversports.de/s/Luftbonbon/team\n",
      "2024-01-26 16:45:25,854 - INFO - URL https://www.eversports.de/s/Luftbonbon/team is valid.\n"
     ]
    },
    {
     "name": "stdout",
     "output_type": "stream",
     "text": [
      "Scrape Pole Studio Daten von https://www.eversports.de/s/Luftbonbon...\n",
      "Scrape Klassen Daten von https://www.eversports.de/scl/Luftbonbon...\n",
      "Scrape Klassen Details von https://www.eversports.de/scl/Luftbonbon...\n",
      "Scrape Workshops Daten von https://www.eversports.de/sw/Luftbonbon...\n",
      "Scrape Workshop Details von https://www.eversports.de/e/workshop/60kU5cU...\n",
      "Verarbeitung abgeschlossen.\n",
      "\n",
      "Ergebnisse für URL: https://www.eversports.de/s/Luftbonbon\n",
      "Pole Studio Data:\n",
      "\n",
      "\n",
      "Classes Data:\n",
      "\n",
      "\n",
      "Classes Details:\n",
      "\n",
      "\n",
      "Workshops Data:\n",
      "\n",
      "\n",
      "Workshop Details:\n",
      "\n",
      "\n",
      "Progress: 32.38%\n",
      "\n",
      "Processing URL 182/559\n",
      "Verarbeite URL: https://www.eversports.de/s/firstsports-polefitness\n",
      "Starte URL-Rekonstruktion...\n"
     ]
    },
    {
     "name": "stderr",
     "output_type": "stream",
     "text": [
      "2024-01-26 16:46:28,524 - INFO - Processing URL 1/1: https://www.eversports.de/s/firstsports-polefitness\n"
     ]
    },
    {
     "name": "stdout",
     "output_type": "stream",
     "text": [
      "Konvertiere in DataFrame...\n",
      "Validiere URLs...\n"
     ]
    },
    {
     "name": "stderr",
     "output_type": "stream",
     "text": [
      "2024-01-26 16:46:30,179 - INFO - URL https://www.eversports.de/s/firstsports-polefitness is valid.\n"
     ]
    },
    {
     "name": "stdout",
     "output_type": "stream",
     "text": [
      "Scrape Pole Studio Daten von https://www.eversports.de/s/firstsports-polefitness...\n",
      "Verarbeitung abgeschlossen.\n",
      "\n",
      "Ergebnisse für URL: https://www.eversports.de/s/firstsports-polefitness\n",
      "Pole Studio Data:\n",
      "\n",
      "\n",
      "Progress: 32.56%\n",
      "\n",
      "Processing URL 183/559\n",
      "Verarbeite URL: https://www.eversports.de/s/Nordpole\n",
      "Starte URL-Rekonstruktion...\n"
     ]
    },
    {
     "name": "stderr",
     "output_type": "stream",
     "text": [
      "2024-01-26 16:46:34,561 - INFO - Processing URL 1/7: https://www.eversports.de/s/Nordpole\n"
     ]
    },
    {
     "name": "stdout",
     "output_type": "stream",
     "text": [
      "Konvertiere in DataFrame...\n",
      "Validiere URLs...\n"
     ]
    },
    {
     "name": "stderr",
     "output_type": "stream",
     "text": [
      "2024-01-26 16:46:36,904 - INFO - URL https://www.eversports.de/s/Nordpole is valid.\n",
      "2024-01-26 16:46:36,906 - INFO - Processing URL 2/7: https://www.eversports.de/scl/Nordpole\n",
      "2024-01-26 16:46:38,338 - INFO - URL https://www.eversports.de/scl/Nordpole is valid.\n",
      "2024-01-26 16:46:38,339 - INFO - Processing URL 3/7: https://www.eversports.de/sw/Nordpole\n",
      "2024-01-26 16:46:39,714 - INFO - URL https://www.eversports.de/sw/Nordpole is valid.\n",
      "2024-01-26 16:46:39,715 - INFO - Processing URL 4/7: https://www.eversports.de/s/Nordpole/events\n",
      "2024-01-26 16:46:40,969 - INFO - URL https://www.eversports.de/s/Nordpole/events is not valid.\n",
      "2024-01-26 16:46:40,970 - INFO - Processing URL 5/7: https://www.eversports.de/s/Nordpole/videos\n",
      "2024-01-26 16:46:42,360 - INFO - URL https://www.eversports.de/s/Nordpole/videos is valid.\n",
      "2024-01-26 16:46:42,361 - INFO - Processing URL 6/7: https://www.eversports.de/sp/Nordpole\n",
      "2024-01-26 16:46:43,715 - INFO - URL https://www.eversports.de/sp/Nordpole is valid.\n",
      "2024-01-26 16:46:43,716 - INFO - Processing URL 7/7: https://www.eversports.de/s/Nordpole/team\n",
      "2024-01-26 16:46:46,002 - INFO - URL https://www.eversports.de/s/Nordpole/team is valid.\n"
     ]
    },
    {
     "name": "stdout",
     "output_type": "stream",
     "text": [
      "Scrape Pole Studio Daten von https://www.eversports.de/s/Nordpole...\n",
      "Scrape Klassen Daten von https://www.eversports.de/scl/Nordpole...\n",
      "Scrape Klassen Details von https://www.eversports.de/scl/Nordpole...\n",
      "Scrape Workshops Daten von https://www.eversports.de/sw/Nordpole...\n",
      "Scrape Workshop Details von https://www.eversports.de/e/workshop/eNLYiTi...\n",
      "Scrape Workshop Details von https://www.eversports.de/e/workshop/kP5QagX...\n",
      "Verarbeitung abgeschlossen.\n",
      "\n",
      "Ergebnisse für URL: https://www.eversports.de/s/Nordpole\n",
      "Pole Studio Data:\n",
      "\n",
      "\n",
      "Classes Data:\n",
      "\n",
      "\n",
      "Classes Details:\n",
      "\n",
      "\n",
      "Workshops Data:\n",
      "\n",
      "\n",
      "Workshop Details:\n",
      "\n",
      "\n",
      "Progress: 32.74%\n",
      "\n",
      "Processing URL 184/559\n",
      "Verarbeite URL: https://www.eversports.de/s/vi-dance-m%C3%BCnster\n",
      "Starte URL-Rekonstruktion...\n",
      "Error during HTTP request: Exceeded 30 redirects.\n",
      "Konvertiere in DataFrame...\n",
      "Validiere URLs...\n",
      "Verarbeitung abgeschlossen.\n",
      "\n",
      "Ergebnisse für URL: https://www.eversports.de/s/vi-dance-m%C3%BCnster\n",
      "Progress: 32.92%\n",
      "\n",
      "Processing URL 185/559\n",
      "Verarbeite URL: https://www.eversports.de/s/health-and-shape-muenchen\n",
      "Starte URL-Rekonstruktion...\n"
     ]
    },
    {
     "name": "stderr",
     "output_type": "stream",
     "text": [
      "2024-01-26 16:49:26,212 - INFO - Processing URL 1/5: https://www.eversports.de/s/health-and-shape-muenchen\n"
     ]
    },
    {
     "name": "stdout",
     "output_type": "stream",
     "text": [
      "Konvertiere in DataFrame...\n",
      "Validiere URLs...\n"
     ]
    },
    {
     "name": "stderr",
     "output_type": "stream",
     "text": [
      "2024-01-26 16:49:28,319 - INFO - URL https://www.eversports.de/s/health-and-shape-muenchen is valid.\n",
      "2024-01-26 16:49:28,320 - INFO - Processing URL 2/5: https://www.eversports.de/scl/health-and-shape-muenchen\n",
      "2024-01-26 16:49:29,857 - INFO - URL https://www.eversports.de/scl/health-and-shape-muenchen is valid.\n",
      "2024-01-26 16:49:29,858 - INFO - Processing URL 3/5: https://www.eversports.de/s/health-and-shape-muenchen/videos\n",
      "2024-01-26 16:49:32,671 - INFO - URL https://www.eversports.de/s/health-and-shape-muenchen/videos is valid.\n",
      "2024-01-26 16:49:32,672 - INFO - Processing URL 4/5: https://www.eversports.de/sp/health-and-shape-muenchen\n",
      "2024-01-26 16:49:34,469 - INFO - URL https://www.eversports.de/sp/health-and-shape-muenchen is valid.\n",
      "2024-01-26 16:49:34,470 - INFO - Processing URL 5/5: https://www.eversports.de/s/health-and-shape-muenchen/team\n",
      "2024-01-26 16:49:35,955 - INFO - URL https://www.eversports.de/s/health-and-shape-muenchen/team is valid.\n"
     ]
    },
    {
     "name": "stdout",
     "output_type": "stream",
     "text": [
      "Scrape Pole Studio Daten von https://www.eversports.de/s/health-and-shape-muenchen...\n",
      "Scrape Klassen Daten von https://www.eversports.de/scl/health-and-shape-muenchen...\n",
      "Scrape Klassen Details von https://www.eversports.de/scl/health-and-shape-muenchen...\n",
      "Verarbeitung abgeschlossen.\n",
      "\n",
      "Ergebnisse für URL: https://www.eversports.de/s/health-and-shape-muenchen\n",
      "Pole Studio Data:\n",
      "\n",
      "\n",
      "Classes Data:\n",
      "\n",
      "\n",
      "Classes Details:\n",
      "\n",
      "\n",
      "Progress: 33.09%\n",
      "\n",
      "Processing URL 186/559\n",
      "Verarbeite URL: https://www.eversports.de/s/just-fly\n",
      "Starte URL-Rekonstruktion...\n",
      "Error during HTTP request: 404 Client Error: Not Found for url: https://www.eversports.de/s/just-fly\n",
      "Konvertiere in DataFrame...\n",
      "Validiere URLs...\n",
      "Verarbeitung abgeschlossen.\n",
      "\n",
      "Ergebnisse für URL: https://www.eversports.de/s/just-fly\n",
      "Progress: 33.27%\n",
      "\n",
      "Processing URL 187/559\n",
      "Verarbeite URL: https://www.eversports.de/s/mypole\n",
      "Starte URL-Rekonstruktion...\n",
      "Error during HTTP request: 404 Client Error: Not Found for url: https://www.eversports.de/s/mypole\n",
      "Konvertiere in DataFrame...\n",
      "Validiere URLs...\n",
      "Verarbeitung abgeschlossen.\n",
      "\n",
      "Ergebnisse für URL: https://www.eversports.de/s/mypole\n",
      "Progress: 33.45%\n",
      "\n",
      "Processing URL 188/559\n",
      "Verarbeite URL: https://www.eversports.de/s/yh-pole-(and)-sports-berlin\n",
      "Starte URL-Rekonstruktion...\n",
      "Error during HTTP request: 404 Client Error: Not Found for url: https://www.eversports.de/s/yh-pole-(and)-sports-berlin\n",
      "Konvertiere in DataFrame...\n",
      "Validiere URLs...\n",
      "Verarbeitung abgeschlossen.\n",
      "\n",
      "Ergebnisse für URL: https://www.eversports.de/s/yh-pole-(and)-sports-berlin\n",
      "Progress: 33.63%\n",
      "\n",
      "Processing URL 189/559\n",
      "Verarbeite URL: https://www.eversports.de/s/Polesition-Regensburg\n",
      "Starte URL-Rekonstruktion...\n"
     ]
    },
    {
     "name": "stderr",
     "output_type": "stream",
     "text": [
      "2024-01-26 16:51:30,809 - INFO - Processing URL 1/1: https://www.eversports.de/s/Polesition-Regensburg\n"
     ]
    },
    {
     "name": "stdout",
     "output_type": "stream",
     "text": [
      "Konvertiere in DataFrame...\n",
      "Validiere URLs...\n"
     ]
    },
    {
     "name": "stderr",
     "output_type": "stream",
     "text": [
      "2024-01-26 16:51:32,481 - INFO - URL https://www.eversports.de/s/Polesition-Regensburg is valid.\n"
     ]
    },
    {
     "name": "stdout",
     "output_type": "stream",
     "text": [
      "Scrape Pole Studio Daten von https://www.eversports.de/s/Polesition-Regensburg...\n",
      "Verarbeitung abgeschlossen.\n",
      "\n",
      "Ergebnisse für URL: https://www.eversports.de/s/Polesition-Regensburg\n",
      "Pole Studio Data:\n",
      "\n",
      "\n",
      "Progress: 33.81%\n",
      "\n",
      "Processing URL 190/559\n",
      "Verarbeite URL: https://www.eversports.de/s/zero-gravity-pole-\n",
      "Starte URL-Rekonstruktion...\n",
      "Error during HTTP request: 404 Client Error: Not Found for url: https://www.eversports.de/s/zero-gravity-pole-\n",
      "Konvertiere in DataFrame...\n",
      "Validiere URLs...\n",
      "Verarbeitung abgeschlossen.\n",
      "\n",
      "Ergebnisse für URL: https://www.eversports.de/s/zero-gravity-pole-\n",
      "Progress: 33.99%\n",
      "\n",
      "Processing URL 191/559\n",
      "Verarbeite URL: https://www.eversports.de/s/polegarage-hagen\n",
      "Starte URL-Rekonstruktion...\n",
      "Error during HTTP request: 404 Client Error: Not Found for url: https://www.eversports.de/s/polegarage-hagen\n",
      "Konvertiere in DataFrame...\n",
      "Validiere URLs...\n",
      "Verarbeitung abgeschlossen.\n",
      "\n",
      "Ergebnisse für URL: https://www.eversports.de/s/polegarage-hagen\n",
      "Progress: 34.17%\n",
      "\n",
      "Processing URL 192/559\n",
      "Verarbeite URL: https://www.eversports.de/s/Passionate-Pole-&-Sports\n",
      "Starte URL-Rekonstruktion...\n",
      "Error during HTTP request: 404 Client Error: Not Found for url: https://www.eversports.de/s/Passionate-Pole-&-Sports\n",
      "Konvertiere in DataFrame...\n",
      "Validiere URLs...\n",
      "Verarbeitung abgeschlossen.\n",
      "\n",
      "Ergebnisse für URL: https://www.eversports.de/s/Passionate-Pole-&-Sports\n",
      "Progress: 34.35%\n",
      "\n",
      "Processing URL 193/559\n",
      "Verarbeite URL: https://www.eversports.de/s/Pole-and-Move-Mannheim\n",
      "Starte URL-Rekonstruktion...\n"
     ]
    },
    {
     "name": "stderr",
     "output_type": "stream",
     "text": [
      "2024-01-26 16:51:38,897 - INFO - Processing URL 1/5: https://www.eversports.de/s/Pole-and-Move-Mannheim\n"
     ]
    },
    {
     "name": "stdout",
     "output_type": "stream",
     "text": [
      "Konvertiere in DataFrame...\n",
      "Validiere URLs...\n"
     ]
    },
    {
     "name": "stderr",
     "output_type": "stream",
     "text": [
      "2024-01-26 16:51:40,600 - INFO - URL https://www.eversports.de/s/Pole-and-Move-Mannheim is valid.\n",
      "2024-01-26 16:51:40,601 - INFO - Processing URL 2/5: https://www.eversports.de/scl/Pole-and-Move-Mannheim\n",
      "2024-01-26 16:51:42,046 - INFO - URL https://www.eversports.de/scl/Pole-and-Move-Mannheim is valid.\n",
      "2024-01-26 16:51:42,047 - INFO - Processing URL 3/5: https://www.eversports.de/sw/Pole-and-Move-Mannheim\n",
      "2024-01-26 16:51:43,797 - INFO - URL https://www.eversports.de/sw/Pole-and-Move-Mannheim is valid.\n",
      "2024-01-26 16:51:43,798 - INFO - Processing URL 4/5: https://www.eversports.de/sp/Pole-and-Move-Mannheim\n",
      "2024-01-26 16:51:45,162 - INFO - URL https://www.eversports.de/sp/Pole-and-Move-Mannheim is valid.\n",
      "2024-01-26 16:51:45,164 - INFO - Processing URL 5/5: https://www.eversports.de/s/Pole-and-Move-Mannheim/team\n",
      "2024-01-26 16:51:47,535 - INFO - URL https://www.eversports.de/s/Pole-and-Move-Mannheim/team is valid.\n"
     ]
    },
    {
     "name": "stdout",
     "output_type": "stream",
     "text": [
      "Scrape Pole Studio Daten von https://www.eversports.de/s/Pole-and-Move-Mannheim...\n",
      "Scrape Klassen Daten von https://www.eversports.de/scl/Pole-and-Move-Mannheim...\n",
      "Scrape Klassen Details von https://www.eversports.de/scl/Pole-and-Move-Mannheim...\n",
      "Scrape Workshops Daten von https://www.eversports.de/sw/Pole-and-Move-Mannheim...\n",
      "Scrape Workshop Details von https://www.eversports.de/e/workshop/UZAUnxM...\n",
      "Scrape Workshop Details von https://www.eversports.de/e/workshop/-IGRjIZ...\n",
      "Scrape Workshop Details von https://www.eversports.de/e/workshop/gbofUBp...\n",
      "Scrape Workshop Details von https://www.eversports.de/e/workshop/NFfn_y6...\n",
      "Scrape Workshop Details von https://www.eversports.de/e/workshop/miY7n0b...\n",
      "Scrape Workshop Details von https://www.eversports.de/e/workshop/C9b62JT...\n",
      "Scrape Workshop Details von https://www.eversports.de/e/workshop/0fonSE4...\n",
      "Verarbeitung abgeschlossen.\n",
      "\n",
      "Ergebnisse für URL: https://www.eversports.de/s/Pole-and-Move-Mannheim\n",
      "Pole Studio Data:\n",
      "\n",
      "\n",
      "Classes Data:\n",
      "\n",
      "\n",
      "Classes Details:\n",
      "\n",
      "\n",
      "Workshops Data:\n",
      "\n",
      "\n",
      "Workshop Details:\n",
      "\n",
      "\n",
      "Progress: 34.53%\n",
      "\n",
      "Processing URL 194/559\n",
      "Verarbeite URL: https://www.eversports.de/s/Ramonas-Tanzschmiede\n",
      "Starte URL-Rekonstruktion...\n"
     ]
    },
    {
     "name": "stderr",
     "output_type": "stream",
     "text": [
      "2024-01-26 16:54:36,583 - INFO - Processing URL 1/5: https://www.eversports.de/s/Ramonas-Tanzschmiede\n"
     ]
    },
    {
     "name": "stdout",
     "output_type": "stream",
     "text": [
      "Konvertiere in DataFrame...\n",
      "Validiere URLs...\n"
     ]
    },
    {
     "name": "stderr",
     "output_type": "stream",
     "text": [
      "2024-01-26 16:54:38,227 - INFO - URL https://www.eversports.de/s/Ramonas-Tanzschmiede is valid.\n",
      "2024-01-26 16:54:38,228 - INFO - Processing URL 2/5: https://www.eversports.de/scl/Ramonas-Tanzschmiede\n",
      "2024-01-26 16:54:39,635 - INFO - URL https://www.eversports.de/scl/Ramonas-Tanzschmiede is valid.\n",
      "2024-01-26 16:54:39,636 - INFO - Processing URL 3/5: https://www.eversports.de/sw/Ramonas-Tanzschmiede\n",
      "2024-01-26 16:54:41,102 - INFO - URL https://www.eversports.de/sw/Ramonas-Tanzschmiede is valid.\n",
      "2024-01-26 16:54:41,103 - INFO - Processing URL 4/5: https://www.eversports.de/sp/Ramonas-Tanzschmiede\n",
      "2024-01-26 16:54:42,443 - INFO - URL https://www.eversports.de/sp/Ramonas-Tanzschmiede is valid.\n",
      "2024-01-26 16:54:42,444 - INFO - Processing URL 5/5: https://www.eversports.de/s/Ramonas-Tanzschmiede/team\n",
      "2024-01-26 16:54:43,974 - INFO - URL https://www.eversports.de/s/Ramonas-Tanzschmiede/team is valid.\n"
     ]
    },
    {
     "name": "stdout",
     "output_type": "stream",
     "text": [
      "Scrape Pole Studio Daten von https://www.eversports.de/s/Ramonas-Tanzschmiede...\n",
      "Scrape Klassen Daten von https://www.eversports.de/scl/Ramonas-Tanzschmiede...\n",
      "Scrape Klassen Details von https://www.eversports.de/scl/Ramonas-Tanzschmiede...\n",
      "Scrape Workshops Daten von https://www.eversports.de/sw/Ramonas-Tanzschmiede...\n",
      "Scrape Workshop Details von https://www.eversports.de/e/workshop/qpLF3tB...\n",
      "Scrape Workshop Details von https://www.eversports.de/e/workshop/NUbP_o2...\n",
      "Scrape Workshop Details von https://www.eversports.de/e/workshop/h6T780l...\n",
      "Scrape Workshop Details von https://www.eversports.de/e/workshop/HZmJGaW...\n",
      "Verarbeitung abgeschlossen.\n",
      "\n",
      "Ergebnisse für URL: https://www.eversports.de/s/Ramonas-Tanzschmiede\n",
      "Pole Studio Data:\n",
      "\n",
      "\n",
      "Classes Data:\n",
      "\n",
      "\n",
      "Classes Details:\n",
      "\n",
      "\n",
      "Workshops Data:\n",
      "\n",
      "\n",
      "Workshop Details:\n",
      "\n",
      "\n",
      "Progress: 34.70%\n",
      "\n",
      "Processing URL 195/559\n",
      "Verarbeite URL: https://www.eversports.de/s/polerina's-poledance\n",
      "Starte URL-Rekonstruktion...\n",
      "Error during HTTP request: 404 Client Error: Not Found for url: https://www.eversports.de/s/polerina's-poledance\n",
      "Konvertiere in DataFrame...\n",
      "Validiere URLs...\n",
      "Verarbeitung abgeschlossen.\n",
      "\n",
      "Ergebnisse für URL: https://www.eversports.de/s/polerina's-poledance\n",
      "Progress: 34.88%\n",
      "\n",
      "Processing URL 196/559\n",
      "Verarbeite URL: https://www.eversports.de/s/aerial-studio\n",
      "Starte URL-Rekonstruktion...\n"
     ]
    },
    {
     "name": "stderr",
     "output_type": "stream",
     "text": [
      "2024-01-26 16:56:46,538 - INFO - Processing URL 1/5: https://www.eversports.de/s/aerial-studio\n"
     ]
    },
    {
     "name": "stdout",
     "output_type": "stream",
     "text": [
      "Konvertiere in DataFrame...\n",
      "Validiere URLs...\n"
     ]
    },
    {
     "name": "stderr",
     "output_type": "stream",
     "text": [
      "2024-01-26 16:56:48,054 - INFO - URL https://www.eversports.de/s/aerial-studio is valid.\n",
      "2024-01-26 16:56:48,055 - INFO - Processing URL 2/5: https://www.eversports.de/scl/aerial-studio\n",
      "2024-01-26 16:56:49,531 - INFO - URL https://www.eversports.de/scl/aerial-studio is not valid.\n",
      "2024-01-26 16:56:49,532 - INFO - Processing URL 3/5: https://www.eversports.de/s/aerial-studio/videos\n",
      "2024-01-26 16:56:50,880 - INFO - URL https://www.eversports.de/s/aerial-studio/videos is not valid.\n",
      "2024-01-26 16:56:50,881 - INFO - Processing URL 4/5: https://www.eversports.de/sp/aerial-studio\n",
      "2024-01-26 16:56:52,248 - INFO - URL https://www.eversports.de/sp/aerial-studio is not valid.\n",
      "2024-01-26 16:56:52,249 - INFO - Processing URL 5/5: https://www.eversports.de/s/aerial-studio/team\n",
      "2024-01-26 16:56:53,674 - INFO - URL https://www.eversports.de/s/aerial-studio/team is valid.\n"
     ]
    },
    {
     "name": "stdout",
     "output_type": "stream",
     "text": [
      "Scrape Pole Studio Daten von https://www.eversports.de/s/aerial-studio...\n",
      "Verarbeitung abgeschlossen.\n",
      "\n",
      "Ergebnisse für URL: https://www.eversports.de/s/aerial-studio\n",
      "Pole Studio Data:\n",
      "\n",
      "\n",
      "Progress: 35.06%\n",
      "\n",
      "Processing URL 197/559\n",
      "Verarbeite URL: https://www.eversports.de/s/pole-fun-wehr\n",
      "Starte URL-Rekonstruktion...\n",
      "Error during HTTP request: 404 Client Error: Not Found for url: https://www.eversports.de/s/pole-fun-wehr\n",
      "Konvertiere in DataFrame...\n",
      "Validiere URLs...\n",
      "Verarbeitung abgeschlossen.\n",
      "\n",
      "Ergebnisse für URL: https://www.eversports.de/s/pole-fun-wehr\n",
      "Progress: 35.24%\n",
      "\n",
      "Processing URL 198/559\n",
      "Verarbeite URL: https://www.eversports.de/s/bodysoul-studio-duesseldorf\n",
      "Starte URL-Rekonstruktion...\n"
     ]
    },
    {
     "name": "stderr",
     "output_type": "stream",
     "text": [
      "2024-01-26 16:56:57,007 - INFO - Processing URL 1/4: https://www.eversports.de/s/bodysoul-studio-duesseldorf\n"
     ]
    },
    {
     "name": "stdout",
     "output_type": "stream",
     "text": [
      "Konvertiere in DataFrame...\n",
      "Validiere URLs...\n"
     ]
    },
    {
     "name": "stderr",
     "output_type": "stream",
     "text": [
      "2024-01-26 16:56:58,547 - INFO - URL https://www.eversports.de/s/bodysoul-studio-duesseldorf is valid.\n",
      "2024-01-26 16:56:58,548 - INFO - Processing URL 2/4: https://www.eversports.de/scl/bodysoul-studio-duesseldorf\n",
      "2024-01-26 16:56:59,987 - INFO - URL https://www.eversports.de/scl/bodysoul-studio-duesseldorf is valid.\n",
      "2024-01-26 16:56:59,988 - INFO - Processing URL 3/4: https://www.eversports.de/sp/bodysoul-studio-duesseldorf\n",
      "2024-01-26 16:57:01,408 - INFO - URL https://www.eversports.de/sp/bodysoul-studio-duesseldorf is valid.\n",
      "2024-01-26 16:57:01,409 - INFO - Processing URL 4/4: https://www.eversports.de/s/bodysoul-studio-duesseldorf/team\n",
      "2024-01-26 16:57:02,850 - INFO - URL https://www.eversports.de/s/bodysoul-studio-duesseldorf/team is valid.\n"
     ]
    },
    {
     "name": "stdout",
     "output_type": "stream",
     "text": [
      "Scrape Pole Studio Daten von https://www.eversports.de/s/bodysoul-studio-duesseldorf...\n",
      "Scrape Klassen Daten von https://www.eversports.de/scl/bodysoul-studio-duesseldorf...\n",
      "Scrape Klassen Details von https://www.eversports.de/scl/bodysoul-studio-duesseldorf...\n",
      "Verarbeitung abgeschlossen.\n",
      "\n",
      "Ergebnisse für URL: https://www.eversports.de/s/bodysoul-studio-duesseldorf\n",
      "Pole Studio Data:\n",
      "\n",
      "\n",
      "Classes Data:\n",
      "\n",
      "\n",
      "Classes Details:\n",
      "\n",
      "\n",
      "Progress: 35.42%\n",
      "\n",
      "Processing URL 199/559\n",
      "Verarbeite URL: https://www.eversports.de/s/pole-statement\n",
      "Starte URL-Rekonstruktion...\n"
     ]
    },
    {
     "name": "stderr",
     "output_type": "stream",
     "text": [
      "2024-01-26 16:57:29,156 - INFO - Processing URL 1/6: https://www.eversports.de/s/pole-statement\n"
     ]
    },
    {
     "name": "stdout",
     "output_type": "stream",
     "text": [
      "Konvertiere in DataFrame...\n",
      "Validiere URLs...\n"
     ]
    },
    {
     "name": "stderr",
     "output_type": "stream",
     "text": [
      "2024-01-26 16:57:31,653 - INFO - URL https://www.eversports.de/s/pole-statement is valid.\n",
      "2024-01-26 16:57:31,654 - INFO - Processing URL 2/6: https://www.eversports.de/scl/pole-statement\n",
      "2024-01-26 16:57:33,068 - INFO - URL https://www.eversports.de/scl/pole-statement is valid.\n",
      "2024-01-26 16:57:33,069 - INFO - Processing URL 3/6: https://www.eversports.de/s/pole-statement/kurse\n",
      "2024-01-26 16:57:34,324 - INFO - URL https://www.eversports.de/s/pole-statement/kurse is not valid.\n",
      "2024-01-26 16:57:34,325 - INFO - Processing URL 4/6: https://www.eversports.de/s/pole-statement/events\n",
      "2024-01-26 16:57:35,676 - INFO - URL https://www.eversports.de/s/pole-statement/events is not valid.\n",
      "2024-01-26 16:57:35,677 - INFO - Processing URL 5/6: https://www.eversports.de/sp/pole-statement\n",
      "2024-01-26 16:57:37,034 - INFO - URL https://www.eversports.de/sp/pole-statement is valid.\n",
      "2024-01-26 16:57:37,036 - INFO - Processing URL 6/6: https://www.eversports.de/s/pole-statement/team\n",
      "2024-01-26 16:57:38,444 - INFO - URL https://www.eversports.de/s/pole-statement/team is valid.\n"
     ]
    },
    {
     "name": "stdout",
     "output_type": "stream",
     "text": [
      "Scrape Pole Studio Daten von https://www.eversports.de/s/pole-statement...\n",
      "Scrape Klassen Daten von https://www.eversports.de/scl/pole-statement...\n",
      "Scrape Klassen Details von https://www.eversports.de/scl/pole-statement...\n",
      "Verarbeitung abgeschlossen.\n",
      "\n",
      "Ergebnisse für URL: https://www.eversports.de/s/pole-statement\n",
      "Pole Studio Data:\n",
      "\n",
      "\n",
      "Classes Data:\n",
      "\n",
      "\n",
      "Classes Details:\n",
      "\n",
      "\n",
      "Progress: 35.60%\n",
      "\n",
      "Processing URL 200/559\n",
      "Verarbeite URL: https://www.eversports.de/s/freaky-pole-cats-hengersberg\n",
      "Starte URL-Rekonstruktion...\n",
      "Error during HTTP request: 404 Client Error: Not Found for url: https://www.eversports.de/s/freaky-pole-cats-hengersberg\n",
      "Konvertiere in DataFrame...\n",
      "Validiere URLs...\n",
      "Verarbeitung abgeschlossen.\n",
      "\n",
      "Ergebnisse für URL: https://www.eversports.de/s/freaky-pole-cats-hengersberg\n",
      "Progress: 35.78%\n",
      "\n",
      "Processing URL 201/559\n",
      "Verarbeite URL: https://www.eversports.de/s/poda-Studio\n",
      "Starte URL-Rekonstruktion...\n"
     ]
    },
    {
     "name": "stderr",
     "output_type": "stream",
     "text": [
      "2024-01-26 16:58:57,462 - INFO - Processing URL 1/6: https://www.eversports.de/s/poda-Studio\n"
     ]
    },
    {
     "name": "stdout",
     "output_type": "stream",
     "text": [
      "Konvertiere in DataFrame...\n",
      "Validiere URLs...\n"
     ]
    },
    {
     "name": "stderr",
     "output_type": "stream",
     "text": [
      "2024-01-26 16:58:59,165 - INFO - URL https://www.eversports.de/s/poda-Studio is valid.\n",
      "2024-01-26 16:58:59,166 - INFO - Processing URL 2/6: https://www.eversports.de/scl/poda-Studio\n",
      "2024-01-26 16:59:00,614 - INFO - URL https://www.eversports.de/scl/poda-Studio is valid.\n",
      "2024-01-26 16:59:00,615 - INFO - Processing URL 3/6: https://www.eversports.de/sw/poda-Studio\n",
      "2024-01-26 16:59:02,136 - INFO - URL https://www.eversports.de/sw/poda-Studio is valid.\n",
      "2024-01-26 16:59:02,137 - INFO - Processing URL 4/6: https://www.eversports.de/s/poda-Studio/videos\n",
      "2024-01-26 16:59:03,560 - INFO - URL https://www.eversports.de/s/poda-Studio/videos is valid.\n",
      "2024-01-26 16:59:03,561 - INFO - Processing URL 5/6: https://www.eversports.de/sp/poda-Studio\n",
      "2024-01-26 16:59:05,028 - INFO - URL https://www.eversports.de/sp/poda-Studio is valid.\n",
      "2024-01-26 16:59:05,029 - INFO - Processing URL 6/6: https://www.eversports.de/s/poda-Studio/team\n",
      "2024-01-26 16:59:07,308 - INFO - URL https://www.eversports.de/s/poda-Studio/team is valid.\n"
     ]
    },
    {
     "name": "stdout",
     "output_type": "stream",
     "text": [
      "Scrape Pole Studio Daten von https://www.eversports.de/s/poda-Studio...\n",
      "Scrape Klassen Daten von https://www.eversports.de/scl/poda-Studio...\n",
      "Scrape Klassen Details von https://www.eversports.de/scl/poda-Studio...\n",
      "Scrape Workshops Daten von https://www.eversports.de/sw/poda-Studio...\n",
      "Scrape Workshop Details von https://www.eversports.de/e/workshop/LAHNDF-...\n",
      "Scrape Workshop Details von https://www.eversports.de/e/workshop/JM68hgK...\n",
      "Scrape Workshop Details von https://www.eversports.de/e/workshop/2f93D4_...\n",
      "Scrape Workshop Details von https://www.eversports.de/e/workshop/9PbaXsNu8...\n",
      "Verarbeitung abgeschlossen.\n",
      "\n",
      "Ergebnisse für URL: https://www.eversports.de/s/poda-Studio\n",
      "Pole Studio Data:\n",
      "\n",
      "\n",
      "Classes Data:\n",
      "\n",
      "\n",
      "Classes Details:\n",
      "\n",
      "\n",
      "Workshops Data:\n",
      "\n",
      "\n",
      "Workshop Details:\n",
      "\n",
      "\n",
      "Progress: 35.96%\n",
      "\n",
      "Processing URL 202/559\n",
      "Verarbeite URL: https://www.eversports.de/s/crazysports-augsburg\n",
      "Starte URL-Rekonstruktion...\n",
      "Error during HTTP request: 404 Client Error: Not Found for url: https://www.eversports.de/s/crazysports-augsburg\n",
      "Konvertiere in DataFrame...\n",
      "Validiere URLs...\n",
      "Verarbeitung abgeschlossen.\n",
      "\n",
      "Ergebnisse für URL: https://www.eversports.de/s/crazysports-augsburg\n",
      "Progress: 36.14%\n",
      "\n",
      "Processing URL 203/559\n",
      "Verarbeite URL: https://www.eversports.de/s/Nisa-Verticals\n",
      "Starte URL-Rekonstruktion...\n"
     ]
    },
    {
     "name": "stderr",
     "output_type": "stream",
     "text": [
      "2024-01-26 17:01:02,977 - INFO - Processing URL 1/3: https://www.eversports.de/s/Nisa-Verticals\n"
     ]
    },
    {
     "name": "stdout",
     "output_type": "stream",
     "text": [
      "Konvertiere in DataFrame...\n",
      "Validiere URLs...\n"
     ]
    },
    {
     "name": "stderr",
     "output_type": "stream",
     "text": [
      "2024-01-26 17:01:04,705 - INFO - URL https://www.eversports.de/s/Nisa-Verticals is valid.\n",
      "2024-01-26 17:01:04,706 - INFO - Processing URL 2/3: https://www.eversports.de/s/Nisa-Verticals/videos\n",
      "2024-01-26 17:01:06,070 - INFO - URL https://www.eversports.de/s/Nisa-Verticals/videos is valid.\n",
      "2024-01-26 17:01:06,071 - INFO - Processing URL 3/3: https://www.eversports.de/sp/Nisa-Verticals\n",
      "2024-01-26 17:01:07,538 - INFO - URL https://www.eversports.de/sp/Nisa-Verticals is valid.\n"
     ]
    },
    {
     "name": "stdout",
     "output_type": "stream",
     "text": [
      "Scrape Pole Studio Daten von https://www.eversports.de/s/Nisa-Verticals...\n",
      "Verarbeitung abgeschlossen.\n",
      "\n",
      "Ergebnisse für URL: https://www.eversports.de/s/Nisa-Verticals\n",
      "Pole Studio Data:\n",
      "\n",
      "\n",
      "Progress: 36.31%\n",
      "\n",
      "Processing URL 204/559\n",
      "Verarbeite URL: https://www.eversports.de/s/swiss-mega-park\n",
      "Starte URL-Rekonstruktion...\n"
     ]
    },
    {
     "name": "stderr",
     "output_type": "stream",
     "text": [
      "2024-01-26 17:01:12,806 - INFO - Processing URL 1/3: https://www.eversports.de/s/swiss-mega-park\n"
     ]
    },
    {
     "name": "stdout",
     "output_type": "stream",
     "text": [
      "Konvertiere in DataFrame...\n",
      "Validiere URLs...\n"
     ]
    },
    {
     "name": "stderr",
     "output_type": "stream",
     "text": [
      "2024-01-26 17:01:15,009 - INFO - URL https://www.eversports.de/s/swiss-mega-park is valid.\n",
      "2024-01-26 17:01:15,010 - INFO - Processing URL 2/3: https://www.eversports.de/s/swiss-mega-park/sportplätze\n",
      "2024-01-26 17:01:16,294 - INFO - URL https://www.eversports.de/s/swiss-mega-park/sportplätze is not valid.\n",
      "2024-01-26 17:01:16,295 - INFO - Processing URL 3/3: https://www.eversports.de/s/swiss-mega-park/matches\n",
      "2024-01-26 17:01:18,550 - INFO - URL https://www.eversports.de/s/swiss-mega-park/matches is valid.\n"
     ]
    },
    {
     "name": "stdout",
     "output_type": "stream",
     "text": [
      "Scrape Pole Studio Daten von https://www.eversports.de/s/swiss-mega-park...\n",
      "Scrape Pole Studio Daten von https://www.eversports.de/s/swiss-mega-park/matches...\n",
      "Verarbeitung abgeschlossen.\n",
      "\n",
      "Ergebnisse für URL: https://www.eversports.de/s/swiss-mega-park\n",
      "Pole Studio Data:\n",
      "\n",
      "\n",
      "Progress: 36.49%\n",
      "\n",
      "Processing URL 205/559\n",
      "Verarbeite URL: https://www.eversports.de/s/pole-yourself\n",
      "Starte URL-Rekonstruktion...\n",
      "Error during HTTP request: 404 Client Error: Not Found for url: https://www.eversports.de/s/pole-yourself\n",
      "Konvertiere in DataFrame...\n",
      "Validiere URLs...\n",
      "Verarbeitung abgeschlossen.\n",
      "\n",
      "Ergebnisse für URL: https://www.eversports.de/s/pole-yourself\n",
      "Progress: 36.67%\n",
      "\n",
      "Processing URL 206/559\n",
      "Verarbeite URL: https://www.eversports.de/s/poledance-nrw\n",
      "Starte URL-Rekonstruktion...\n"
     ]
    },
    {
     "name": "stderr",
     "output_type": "stream",
     "text": [
      "2024-01-26 17:01:24,251 - INFO - Processing URL 1/3: https://www.eversports.de/s/poledance-nrw\n"
     ]
    },
    {
     "name": "stdout",
     "output_type": "stream",
     "text": [
      "Konvertiere in DataFrame...\n",
      "Validiere URLs...\n"
     ]
    },
    {
     "name": "stderr",
     "output_type": "stream",
     "text": [
      "2024-01-26 17:01:25,840 - INFO - URL https://www.eversports.de/s/poledance-nrw is valid.\n",
      "2024-01-26 17:01:25,841 - INFO - Processing URL 2/3: https://www.eversports.de/s/poledance-nrw/videos\n",
      "2024-01-26 17:01:27,278 - INFO - URL https://www.eversports.de/s/poledance-nrw/videos is valid.\n",
      "2024-01-26 17:01:27,279 - INFO - Processing URL 3/3: https://www.eversports.de/sp/poledance-nrw\n",
      "2024-01-26 17:01:28,664 - INFO - URL https://www.eversports.de/sp/poledance-nrw is valid.\n"
     ]
    },
    {
     "name": "stdout",
     "output_type": "stream",
     "text": [
      "Scrape Pole Studio Daten von https://www.eversports.de/s/poledance-nrw...\n",
      "Verarbeitung abgeschlossen.\n",
      "\n",
      "Ergebnisse für URL: https://www.eversports.de/s/poledance-nrw\n",
      "Pole Studio Data:\n",
      "\n",
      "\n",
      "Progress: 36.85%\n",
      "\n",
      "Processing URL 207/559\n",
      "Verarbeite URL: https://www.eversports.de/s/aerial-art-studio\n",
      "Starte URL-Rekonstruktion...\n",
      "Error during HTTP request: 404 Client Error: Not Found for url: https://www.eversports.de/s/aerial-art-studio\n",
      "Konvertiere in DataFrame...\n",
      "Validiere URLs...\n",
      "Verarbeitung abgeschlossen.\n",
      "\n",
      "Ergebnisse für URL: https://www.eversports.de/s/aerial-art-studio\n",
      "Progress: 37.03%\n",
      "\n",
      "Processing URL 208/559\n",
      "Verarbeite URL: https://www.eversports.de/s/polestation-academy\n",
      "Starte URL-Rekonstruktion...\n"
     ]
    },
    {
     "name": "stderr",
     "output_type": "stream",
     "text": [
      "2024-01-26 17:01:32,146 - INFO - Processing URL 1/5: https://www.eversports.de/s/polestation-academy\n"
     ]
    },
    {
     "name": "stdout",
     "output_type": "stream",
     "text": [
      "Konvertiere in DataFrame...\n",
      "Validiere URLs...\n"
     ]
    },
    {
     "name": "stderr",
     "output_type": "stream",
     "text": [
      "2024-01-26 17:01:33,642 - INFO - URL https://www.eversports.de/s/polestation-academy is valid.\n",
      "2024-01-26 17:01:33,643 - INFO - Processing URL 2/5: https://www.eversports.de/scl/polestation-academy\n",
      "2024-01-26 17:01:35,072 - INFO - URL https://www.eversports.de/scl/polestation-academy is not valid.\n",
      "2024-01-26 17:01:35,073 - INFO - Processing URL 3/5: https://www.eversports.de/s/polestation-academy/videos\n",
      "2024-01-26 17:01:36,449 - INFO - URL https://www.eversports.de/s/polestation-academy/videos is not valid.\n",
      "2024-01-26 17:01:36,450 - INFO - Processing URL 4/5: https://www.eversports.de/sp/polestation-academy\n",
      "2024-01-26 17:01:38,117 - INFO - URL https://www.eversports.de/sp/polestation-academy is not valid.\n",
      "2024-01-26 17:01:38,118 - INFO - Processing URL 5/5: https://www.eversports.de/s/polestation-academy/team\n",
      "2024-01-26 17:01:40,702 - INFO - URL https://www.eversports.de/s/polestation-academy/team is valid.\n"
     ]
    },
    {
     "name": "stdout",
     "output_type": "stream",
     "text": [
      "Scrape Pole Studio Daten von https://www.eversports.de/s/polestation-academy...\n",
      "Verarbeitung abgeschlossen.\n",
      "\n",
      "Ergebnisse für URL: https://www.eversports.de/s/polestation-academy\n",
      "Pole Studio Data:\n",
      "\n",
      "\n",
      "Progress: 37.21%\n",
      "\n",
      "Processing URL 209/559\n",
      "Verarbeite URL: https://www.eversports.de/s/Center-of-Moving-Arts\n",
      "Starte URL-Rekonstruktion...\n"
     ]
    },
    {
     "name": "stderr",
     "output_type": "stream",
     "text": [
      "2024-01-26 17:01:43,465 - INFO - Processing URL 1/4: https://www.eversports.de/s/Center-of-Moving-Arts\n"
     ]
    },
    {
     "name": "stdout",
     "output_type": "stream",
     "text": [
      "Konvertiere in DataFrame...\n",
      "Validiere URLs...\n"
     ]
    },
    {
     "name": "stderr",
     "output_type": "stream",
     "text": [
      "2024-01-26 17:01:45,151 - INFO - URL https://www.eversports.de/s/Center-of-Moving-Arts is valid.\n",
      "2024-01-26 17:01:45,152 - INFO - Processing URL 2/4: https://www.eversports.de/scl/Center-of-Moving-Arts\n",
      "2024-01-26 17:01:47,196 - INFO - URL https://www.eversports.de/scl/Center-of-Moving-Arts is valid.\n",
      "2024-01-26 17:01:47,198 - INFO - Processing URL 3/4: https://www.eversports.de/sp/Center-of-Moving-Arts\n",
      "2024-01-26 17:01:48,615 - INFO - URL https://www.eversports.de/sp/Center-of-Moving-Arts is valid.\n",
      "2024-01-26 17:01:48,616 - INFO - Processing URL 4/4: https://www.eversports.de/s/Center-of-Moving-Arts/team\n",
      "2024-01-26 17:01:50,148 - INFO - URL https://www.eversports.de/s/Center-of-Moving-Arts/team is valid.\n"
     ]
    },
    {
     "name": "stdout",
     "output_type": "stream",
     "text": [
      "Scrape Pole Studio Daten von https://www.eversports.de/s/Center-of-Moving-Arts...\n",
      "Scrape Klassen Daten von https://www.eversports.de/scl/Center-of-Moving-Arts...\n",
      "Scrape Klassen Details von https://www.eversports.de/scl/Center-of-Moving-Arts...\n",
      "Verarbeitung abgeschlossen.\n",
      "\n",
      "Ergebnisse für URL: https://www.eversports.de/s/Center-of-Moving-Arts\n",
      "Pole Studio Data:\n",
      "\n",
      "\n",
      "Classes Data:\n",
      "\n",
      "\n",
      "Classes Details:\n",
      "\n",
      "\n",
      "Progress: 37.39%\n",
      "\n",
      "Processing URL 210/559\n",
      "Verarbeite URL: https://www.eversports.de/s/pole-faction---pole-dance-&-fitness\n",
      "Starte URL-Rekonstruktion...\n",
      "Error during HTTP request: 404 Client Error: Not Found for url: https://www.eversports.de/s/pole-faction---pole-dance-&-fitness\n",
      "Konvertiere in DataFrame...\n",
      "Validiere URLs...\n",
      "Verarbeitung abgeschlossen.\n",
      "\n",
      "Ergebnisse für URL: https://www.eversports.de/s/pole-faction---pole-dance-&-fitness\n",
      "Progress: 37.57%\n",
      "\n",
      "Processing URL 211/559\n",
      "Verarbeite URL: https://www.eversports.de/s/studio-aria-arte\n",
      "Starte URL-Rekonstruktion...\n",
      "Error during HTTP request: 404 Client Error: Not Found for url: https://www.eversports.de/s/studio-aria-arte\n",
      "Konvertiere in DataFrame...\n",
      "Validiere URLs...\n",
      "Verarbeitung abgeschlossen.\n",
      "\n",
      "Ergebnisse für URL: https://www.eversports.de/s/studio-aria-arte\n",
      "Progress: 37.75%\n",
      "\n",
      "Processing URL 212/559\n",
      "Verarbeite URL: https://www.eversports.de/s/cologne-pole-fitness---pole-dance-k%C3%B6ln\n",
      "Starte URL-Rekonstruktion...\n",
      "Error during HTTP request: Exceeded 30 redirects.\n",
      "Konvertiere in DataFrame...\n",
      "Validiere URLs...\n",
      "Verarbeitung abgeschlossen.\n",
      "\n",
      "Ergebnisse für URL: https://www.eversports.de/s/cologne-pole-fitness---pole-dance-k%C3%B6ln\n",
      "Progress: 37.92%\n",
      "\n",
      "Processing URL 213/559\n",
      "Verarbeite URL: https://www.eversports.de/s/t-tanzst%C3%BCck-tanzstudio\n",
      "Starte URL-Rekonstruktion...\n",
      "Error during HTTP request: Exceeded 30 redirects.\n",
      "Konvertiere in DataFrame...\n",
      "Validiere URLs...\n",
      "Verarbeitung abgeschlossen.\n",
      "\n",
      "Ergebnisse für URL: https://www.eversports.de/s/t-tanzst%C3%BCck-tanzstudio\n",
      "Progress: 38.10%\n",
      "\n",
      "Processing URL 214/559\n",
      "Verarbeite URL: https://www.eversports.de/s/polefly-academy\n",
      "Starte URL-Rekonstruktion...\n"
     ]
    },
    {
     "name": "stderr",
     "output_type": "stream",
     "text": [
      "2024-01-26 17:05:02,401 - INFO - Processing URL 1/4: https://www.eversports.de/s/polefly-academy\n"
     ]
    },
    {
     "name": "stdout",
     "output_type": "stream",
     "text": [
      "Konvertiere in DataFrame...\n",
      "Validiere URLs...\n"
     ]
    },
    {
     "name": "stderr",
     "output_type": "stream",
     "text": [
      "2024-01-26 17:05:03,930 - INFO - URL https://www.eversports.de/s/polefly-academy is valid.\n",
      "2024-01-26 17:05:03,931 - INFO - Processing URL 2/4: https://www.eversports.de/scl/polefly-academy\n",
      "2024-01-26 17:05:05,349 - INFO - URL https://www.eversports.de/scl/polefly-academy is valid.\n",
      "2024-01-26 17:05:05,351 - INFO - Processing URL 3/4: https://www.eversports.de/sp/polefly-academy\n",
      "2024-01-26 17:05:06,717 - INFO - URL https://www.eversports.de/sp/polefly-academy is valid.\n",
      "2024-01-26 17:05:06,718 - INFO - Processing URL 4/4: https://www.eversports.de/s/polefly-academy/team\n",
      "2024-01-26 17:05:08,680 - INFO - URL https://www.eversports.de/s/polefly-academy/team is valid.\n"
     ]
    },
    {
     "name": "stdout",
     "output_type": "stream",
     "text": [
      "Scrape Pole Studio Daten von https://www.eversports.de/s/polefly-academy...\n",
      "Scrape Klassen Daten von https://www.eversports.de/scl/polefly-academy...\n",
      "Scrape Klassen Details von https://www.eversports.de/scl/polefly-academy...\n",
      "Verarbeitung abgeschlossen.\n",
      "\n",
      "Ergebnisse für URL: https://www.eversports.de/s/polefly-academy\n",
      "Pole Studio Data:\n",
      "\n",
      "\n",
      "Classes Data:\n",
      "\n",
      "\n",
      "Classes Details:\n",
      "\n",
      "\n",
      "Progress: 38.28%\n",
      "\n",
      "Processing URL 215/559\n",
      "Verarbeite URL: https://www.eversports.de/s/poledancestar\n",
      "Starte URL-Rekonstruktion...\n"
     ]
    },
    {
     "name": "stderr",
     "output_type": "stream",
     "text": [
      "2024-01-26 17:05:25,857 - INFO - Processing URL 1/8: https://www.eversports.de/s/poledancestar\n"
     ]
    },
    {
     "name": "stdout",
     "output_type": "stream",
     "text": [
      "Konvertiere in DataFrame...\n",
      "Validiere URLs...\n"
     ]
    },
    {
     "name": "stderr",
     "output_type": "stream",
     "text": [
      "2024-01-26 17:05:27,499 - INFO - URL https://www.eversports.de/s/poledancestar is valid.\n",
      "2024-01-26 17:05:27,501 - INFO - Processing URL 2/8: https://www.eversports.de/scl/poledancestar\n",
      "2024-01-26 17:05:29,139 - INFO - URL https://www.eversports.de/scl/poledancestar is valid.\n",
      "2024-01-26 17:05:29,140 - INFO - Processing URL 3/8: https://www.eversports.de/s/poledancestar/trainings\n",
      "2024-01-26 17:05:30,401 - INFO - URL https://www.eversports.de/s/poledancestar/trainings is not valid.\n",
      "2024-01-26 17:05:30,402 - INFO - Processing URL 4/8: https://www.eversports.de/s/poledancestar/kurse\n",
      "2024-01-26 17:05:31,743 - INFO - URL https://www.eversports.de/s/poledancestar/kurse is not valid.\n",
      "2024-01-26 17:05:31,744 - INFO - Processing URL 5/8: https://www.eversports.de/sw/poledancestar\n",
      "2024-01-26 17:05:34,598 - INFO - URL https://www.eversports.de/sw/poledancestar is valid.\n",
      "2024-01-26 17:05:34,599 - INFO - Processing URL 6/8: https://www.eversports.de/s/poledancestar/videos\n",
      "2024-01-26 17:05:36,025 - INFO - URL https://www.eversports.de/s/poledancestar/videos is valid.\n",
      "2024-01-26 17:05:36,026 - INFO - Processing URL 7/8: https://www.eversports.de/sp/poledancestar\n",
      "2024-01-26 17:05:37,462 - INFO - URL https://www.eversports.de/sp/poledancestar is valid.\n",
      "2024-01-26 17:05:37,463 - INFO - Processing URL 8/8: https://www.eversports.de/s/poledancestar/team\n",
      "2024-01-26 17:05:38,976 - INFO - URL https://www.eversports.de/s/poledancestar/team is valid.\n"
     ]
    },
    {
     "name": "stdout",
     "output_type": "stream",
     "text": [
      "Scrape Pole Studio Daten von https://www.eversports.de/s/poledancestar...\n",
      "Scrape Klassen Daten von https://www.eversports.de/scl/poledancestar...\n",
      "Scrape Klassen Details von https://www.eversports.de/scl/poledancestar...\n",
      "Fehler beim Abrufen der Webseite\n",
      "Scrape Workshops Daten von https://www.eversports.de/sw/poledancestar...\n",
      "Scrape Workshop Details von https://www.eversports.de/e/workshop/K-hife3...\n",
      "Scrape Workshop Details von https://www.eversports.de/e/workshop/xaEtNcz...\n",
      "Scrape Workshop Details von https://www.eversports.de/e/workshop/wiYgBoM...\n",
      "Scrape Workshop Details von https://www.eversports.de/e/workshop/6-MAo7Z...\n",
      "Scrape Workshop Details von https://www.eversports.de/e/workshop/GVnc2YT...\n",
      "Scrape Workshop Details von https://www.eversports.de/e/workshop/Une0T_w...\n",
      "Scrape Workshop Details von https://www.eversports.de/e/workshop/59slMW0...\n",
      "Scrape Workshop Details von https://www.eversports.de/e/workshop/FWyv3gp...\n",
      "Scrape Workshop Details von https://www.eversports.de/e/workshop/gdRuiO9...\n",
      "Scrape Workshop Details von https://www.eversports.de/e/workshop/edFh1ih...\n",
      "Scrape Workshop Details von https://www.eversports.de/e/workshop/l467buh...\n",
      "Scrape Workshop Details von https://www.eversports.de/e/workshop/fvmjDvJ...\n",
      "Scrape Workshop Details von https://www.eversports.de/e/workshop/_YEPqgy...\n",
      "Scrape Workshop Details von https://www.eversports.de/e/workshop/J71eKxz...\n",
      "Verarbeitung abgeschlossen.\n",
      "\n",
      "Ergebnisse für URL: https://www.eversports.de/s/poledancestar\n",
      "Pole Studio Data:\n",
      "\n",
      "\n",
      "Classes Data:\n",
      "\n",
      "\n",
      "Classes Details:\n",
      "\n",
      "\n",
      "Workshops Data:\n",
      "\n",
      "\n",
      "Workshop Details:\n",
      "\n",
      "\n",
      "Progress: 38.46%\n",
      "\n",
      "Processing URL 216/559\n",
      "Verarbeite URL: https://www.eversports.de/s/schönheitstanz-studio\n",
      "Starte URL-Rekonstruktion...\n",
      "Error during HTTP request: Exceeded 30 redirects.\n",
      "Konvertiere in DataFrame...\n",
      "Validiere URLs...\n",
      "Verarbeitung abgeschlossen.\n",
      "\n",
      "Ergebnisse für URL: https://www.eversports.de/s/schönheitstanz-studio\n",
      "Progress: 38.64%\n",
      "\n",
      "Processing URL 217/559\n",
      "Verarbeite URL: https://www.eversports.de/s/bellabina-kulturell%2C-ballettschule%2C-pole-sport%2C-tanzstudio%2C-musikunterricht\n",
      "Starte URL-Rekonstruktion...\n",
      "Error during HTTP request: Exceeded 30 redirects.\n",
      "Konvertiere in DataFrame...\n",
      "Validiere URLs...\n",
      "Verarbeitung abgeschlossen.\n",
      "\n",
      "Ergebnisse für URL: https://www.eversports.de/s/bellabina-kulturell%2C-ballettschule%2C-pole-sport%2C-tanzstudio%2C-musikunterricht\n",
      "Progress: 38.82%\n",
      "\n",
      "Processing URL 218/559\n",
      "Verarbeite URL: https://www.eversports.de/s/femella-studio\n",
      "Starte URL-Rekonstruktion...\n",
      "Error during HTTP request: 404 Client Error: Not Found for url: https://www.eversports.de/s/femella-studio\n",
      "Konvertiere in DataFrame...\n",
      "Validiere URLs...\n",
      "Verarbeitung abgeschlossen.\n",
      "\n",
      "Ergebnisse für URL: https://www.eversports.de/s/femella-studio\n",
      "Progress: 39.00%\n",
      "\n",
      "Processing URL 219/559\n",
      "Verarbeite URL: https://www.eversports.de/s/Pole-Heaven\n",
      "Starte URL-Rekonstruktion...\n"
     ]
    },
    {
     "name": "stderr",
     "output_type": "stream",
     "text": [
      "2024-01-26 17:08:31,805 - INFO - Processing URL 1/1: https://www.eversports.de/s/Pole-Heaven\n"
     ]
    },
    {
     "name": "stdout",
     "output_type": "stream",
     "text": [
      "Konvertiere in DataFrame...\n",
      "Validiere URLs...\n"
     ]
    },
    {
     "name": "stderr",
     "output_type": "stream",
     "text": [
      "2024-01-26 17:08:33,339 - INFO - URL https://www.eversports.de/s/Pole-Heaven is valid.\n"
     ]
    },
    {
     "name": "stdout",
     "output_type": "stream",
     "text": [
      "Scrape Pole Studio Daten von https://www.eversports.de/s/Pole-Heaven...\n",
      "Verarbeitung abgeschlossen.\n",
      "\n",
      "Ergebnisse für URL: https://www.eversports.de/s/Pole-Heaven\n",
      "Pole Studio Data:\n",
      "\n",
      "\n",
      "Progress: 39.18%\n",
      "\n",
      "Processing URL 220/559\n",
      "Verarbeite URL: https://www.eversports.de/s/polestudio-neuss\n",
      "Starte URL-Rekonstruktion...\n",
      "Error during HTTP request: 404 Client Error: Not Found for url: https://www.eversports.de/s/polestudio-neuss\n",
      "Konvertiere in DataFrame...\n",
      "Validiere URLs...\n",
      "Verarbeitung abgeschlossen.\n",
      "\n",
      "Ergebnisse für URL: https://www.eversports.de/s/polestudio-neuss\n",
      "Progress: 39.36%\n",
      "\n",
      "Processing URL 221/559\n",
      "Verarbeite URL: https://www.eversports.de/s/pura-studio\n",
      "Starte URL-Rekonstruktion...\n"
     ]
    },
    {
     "name": "stderr",
     "output_type": "stream",
     "text": [
      "2024-01-26 17:08:36,592 - INFO - Processing URL 1/5: https://www.eversports.de/s/pura-studio\n"
     ]
    },
    {
     "name": "stdout",
     "output_type": "stream",
     "text": [
      "Konvertiere in DataFrame...\n",
      "Validiere URLs...\n"
     ]
    },
    {
     "name": "stderr",
     "output_type": "stream",
     "text": [
      "2024-01-26 17:08:38,233 - INFO - URL https://www.eversports.de/s/pura-studio is valid.\n",
      "2024-01-26 17:08:38,234 - INFO - Processing URL 2/5: https://www.eversports.de/scl/pura-studio\n",
      "2024-01-26 17:08:39,690 - INFO - URL https://www.eversports.de/scl/pura-studio is valid.\n",
      "2024-01-26 17:08:39,691 - INFO - Processing URL 3/5: https://www.eversports.de/sw/pura-studio\n",
      "2024-01-26 17:08:41,140 - INFO - URL https://www.eversports.de/sw/pura-studio is valid.\n",
      "2024-01-26 17:08:41,141 - INFO - Processing URL 4/5: https://www.eversports.de/sp/pura-studio\n",
      "2024-01-26 17:08:42,496 - INFO - URL https://www.eversports.de/sp/pura-studio is valid.\n",
      "2024-01-26 17:08:42,497 - INFO - Processing URL 5/5: https://www.eversports.de/s/pura-studio/team\n",
      "2024-01-26 17:08:43,974 - INFO - URL https://www.eversports.de/s/pura-studio/team is valid.\n"
     ]
    },
    {
     "name": "stdout",
     "output_type": "stream",
     "text": [
      "Scrape Pole Studio Daten von https://www.eversports.de/s/pura-studio...\n",
      "Scrape Klassen Daten von https://www.eversports.de/scl/pura-studio...\n",
      "Scrape Klassen Details von https://www.eversports.de/scl/pura-studio...\n",
      "Scrape Workshops Daten von https://www.eversports.de/sw/pura-studio...\n",
      "Scrape Workshop Details von https://www.eversports.de/e/workshop/4v8G7Xw...\n",
      "Scrape Workshop Details von https://www.eversports.de/e/workshop/Gc0_BuG...\n",
      "Scrape Workshop Details von https://www.eversports.de/e/workshop/BItjT7x...\n",
      "Scrape Workshop Details von https://www.eversports.de/e/workshop/7N6VOLN...\n",
      "Scrape Workshop Details von https://www.eversports.de/e/workshop/fIWcXIY...\n",
      "Scrape Workshop Details von https://www.eversports.de/e/workshop/aaXFGLh...\n",
      "Verarbeitung abgeschlossen.\n",
      "\n",
      "Ergebnisse für URL: https://www.eversports.de/s/pura-studio\n",
      "Pole Studio Data:\n",
      "\n",
      "\n",
      "Classes Data:\n",
      "\n",
      "\n",
      "Classes Details:\n",
      "\n",
      "\n",
      "Workshops Data:\n",
      "\n",
      "\n",
      "Workshop Details:\n",
      "\n",
      "\n",
      "Progress: 39.53%\n",
      "\n",
      "Processing URL 222/559\n",
      "Verarbeite URL: https://www.eversports.de/s/pole-plus\n",
      "Starte URL-Rekonstruktion...\n"
     ]
    },
    {
     "name": "stderr",
     "output_type": "stream",
     "text": [
      "2024-01-26 17:11:05,253 - INFO - Processing URL 1/5: https://www.eversports.de/s/pole-plus\n"
     ]
    },
    {
     "name": "stdout",
     "output_type": "stream",
     "text": [
      "Konvertiere in DataFrame...\n",
      "Validiere URLs...\n"
     ]
    },
    {
     "name": "stderr",
     "output_type": "stream",
     "text": [
      "2024-01-26 17:11:07,650 - INFO - URL https://www.eversports.de/s/pole-plus is valid.\n",
      "2024-01-26 17:11:07,651 - INFO - Processing URL 2/5: https://www.eversports.de/scl/pole-plus\n",
      "2024-01-26 17:11:09,100 - INFO - URL https://www.eversports.de/scl/pole-plus is valid.\n",
      "2024-01-26 17:11:09,101 - INFO - Processing URL 3/5: https://www.eversports.de/sw/pole-plus\n",
      "2024-01-26 17:11:10,570 - INFO - URL https://www.eversports.de/sw/pole-plus is valid.\n",
      "2024-01-26 17:11:10,571 - INFO - Processing URL 4/5: https://www.eversports.de/sp/pole-plus\n",
      "2024-01-26 17:11:11,969 - INFO - URL https://www.eversports.de/sp/pole-plus is valid.\n",
      "2024-01-26 17:11:11,970 - INFO - Processing URL 5/5: https://www.eversports.de/s/pole-plus/team\n",
      "2024-01-26 17:11:14,114 - INFO - URL https://www.eversports.de/s/pole-plus/team is valid.\n"
     ]
    },
    {
     "name": "stdout",
     "output_type": "stream",
     "text": [
      "Scrape Pole Studio Daten von https://www.eversports.de/s/pole-plus...\n",
      "Scrape Klassen Daten von https://www.eversports.de/scl/pole-plus...\n",
      "Scrape Klassen Details von https://www.eversports.de/scl/pole-plus...\n",
      "Scrape Workshops Daten von https://www.eversports.de/sw/pole-plus...\n",
      "Scrape Workshop Details von https://www.eversports.de/e/workshop/NHtp6Mw...\n",
      "Scrape Workshop Details von https://www.eversports.de/e/workshop/CRl1muH...\n",
      "Scrape Workshop Details von https://www.eversports.de/e/workshop/upSDQIA...\n",
      "Verarbeitung abgeschlossen.\n",
      "\n",
      "Ergebnisse für URL: https://www.eversports.de/s/pole-plus\n",
      "Pole Studio Data:\n",
      "\n",
      "\n",
      "Classes Data:\n",
      "\n",
      "\n",
      "Classes Details:\n",
      "\n",
      "\n",
      "Workshops Data:\n",
      "\n",
      "\n",
      "Workshop Details:\n",
      "\n",
      "\n",
      "Progress: 39.71%\n",
      "\n",
      "Processing URL 223/559\n",
      "Verarbeite URL: https://www.eversports.de/s/ST-Polestudio\n",
      "Starte URL-Rekonstruktion...\n"
     ]
    },
    {
     "name": "stderr",
     "output_type": "stream",
     "text": [
      "2024-01-26 17:11:52,994 - INFO - Processing URL 1/4: https://www.eversports.de/s/ST-Polestudio\n"
     ]
    },
    {
     "name": "stdout",
     "output_type": "stream",
     "text": [
      "Konvertiere in DataFrame...\n",
      "Validiere URLs...\n"
     ]
    },
    {
     "name": "stderr",
     "output_type": "stream",
     "text": [
      "2024-01-26 17:11:54,577 - INFO - URL https://www.eversports.de/s/ST-Polestudio is valid.\n",
      "2024-01-26 17:11:54,578 - INFO - Processing URL 2/4: https://www.eversports.de/scl/ST-Polestudio\n",
      "2024-01-26 17:11:55,939 - INFO - URL https://www.eversports.de/scl/ST-Polestudio is valid.\n",
      "2024-01-26 17:11:55,940 - INFO - Processing URL 3/4: https://www.eversports.de/sp/ST-Polestudio\n",
      "2024-01-26 17:11:57,260 - INFO - URL https://www.eversports.de/sp/ST-Polestudio is valid.\n",
      "2024-01-26 17:11:57,261 - INFO - Processing URL 4/4: https://www.eversports.de/s/ST-Polestudio/team\n",
      "2024-01-26 17:11:58,735 - INFO - URL https://www.eversports.de/s/ST-Polestudio/team is valid.\n"
     ]
    },
    {
     "name": "stdout",
     "output_type": "stream",
     "text": [
      "Scrape Pole Studio Daten von https://www.eversports.de/s/ST-Polestudio...\n",
      "Scrape Klassen Daten von https://www.eversports.de/scl/ST-Polestudio...\n",
      "Scrape Klassen Details von https://www.eversports.de/scl/ST-Polestudio...\n",
      "Verarbeitung abgeschlossen.\n",
      "\n",
      "Ergebnisse für URL: https://www.eversports.de/s/ST-Polestudio\n",
      "Pole Studio Data:\n",
      "\n",
      "\n",
      "Classes Data:\n",
      "\n",
      "\n",
      "Classes Details:\n",
      "\n",
      "\n",
      "Progress: 39.89%\n",
      "\n",
      "Processing URL 224/559\n",
      "Verarbeite URL: https://www.eversports.de/s/Munich-Poledance\n",
      "Starte URL-Rekonstruktion...\n"
     ]
    },
    {
     "name": "stderr",
     "output_type": "stream",
     "text": [
      "2024-01-26 17:12:19,972 - INFO - Processing URL 1/5: https://www.eversports.de/s/Munich-Poledance\n"
     ]
    },
    {
     "name": "stdout",
     "output_type": "stream",
     "text": [
      "Konvertiere in DataFrame...\n",
      "Validiere URLs...\n"
     ]
    },
    {
     "name": "stderr",
     "output_type": "stream",
     "text": [
      "2024-01-26 17:12:22,451 - INFO - URL https://www.eversports.de/s/Munich-Poledance is valid.\n",
      "2024-01-26 17:12:22,453 - INFO - Processing URL 2/5: https://www.eversports.de/scl/Munich-Poledance\n",
      "2024-01-26 17:12:24,404 - INFO - URL https://www.eversports.de/scl/Munich-Poledance is valid.\n",
      "2024-01-26 17:12:24,405 - INFO - Processing URL 3/5: https://www.eversports.de/s/Munich-Poledance/videos\n",
      "2024-01-26 17:12:25,807 - INFO - URL https://www.eversports.de/s/Munich-Poledance/videos is valid.\n",
      "2024-01-26 17:12:25,808 - INFO - Processing URL 4/5: https://www.eversports.de/sp/Munich-Poledance\n",
      "2024-01-26 17:12:27,220 - INFO - URL https://www.eversports.de/sp/Munich-Poledance is valid.\n",
      "2024-01-26 17:12:27,221 - INFO - Processing URL 5/5: https://www.eversports.de/s/Munich-Poledance/team\n",
      "2024-01-26 17:12:28,838 - INFO - URL https://www.eversports.de/s/Munich-Poledance/team is valid.\n"
     ]
    },
    {
     "name": "stdout",
     "output_type": "stream",
     "text": [
      "Scrape Pole Studio Daten von https://www.eversports.de/s/Munich-Poledance...\n",
      "Scrape Klassen Daten von https://www.eversports.de/scl/Munich-Poledance...\n",
      "Scrape Klassen Details von https://www.eversports.de/scl/Munich-Poledance...\n",
      "Verarbeitung abgeschlossen.\n",
      "\n",
      "Ergebnisse für URL: https://www.eversports.de/s/Munich-Poledance\n",
      "Pole Studio Data:\n",
      "\n",
      "\n",
      "Classes Data:\n",
      "\n",
      "\n",
      "Classes Details:\n",
      "\n",
      "\n",
      "Progress: 40.07%\n",
      "\n",
      "Processing URL 225/559\n",
      "Verarbeite URL: https://www.eversports.de/s/welovepoledance\n",
      "Starte URL-Rekonstruktion...\n"
     ]
    },
    {
     "name": "stderr",
     "output_type": "stream",
     "text": [
      "2024-01-26 17:15:39,886 - INFO - Processing URL 1/1: https://www.eversports.de/s/welovepoledance\n"
     ]
    },
    {
     "name": "stdout",
     "output_type": "stream",
     "text": [
      "Konvertiere in DataFrame...\n",
      "Validiere URLs...\n"
     ]
    },
    {
     "name": "stderr",
     "output_type": "stream",
     "text": [
      "2024-01-26 17:15:41,386 - INFO - URL https://www.eversports.de/s/welovepoledance is valid.\n"
     ]
    },
    {
     "name": "stdout",
     "output_type": "stream",
     "text": [
      "Scrape Pole Studio Daten von https://www.eversports.de/s/welovepoledance...\n",
      "Verarbeitung abgeschlossen.\n",
      "\n",
      "Ergebnisse für URL: https://www.eversports.de/s/welovepoledance\n",
      "Pole Studio Data:\n",
      "\n",
      "\n",
      "Progress: 40.25%\n",
      "\n",
      "Processing URL 226/559\n",
      "Verarbeite URL: https://www.eversports.de/s/a-heart-for-poledance-1\n",
      "Starte URL-Rekonstruktion...\n"
     ]
    },
    {
     "name": "stderr",
     "output_type": "stream",
     "text": [
      "2024-01-26 17:15:43,221 - INFO - Processing URL 1/5: https://www.eversports.de/s/a-heart-for-poledance-1\n"
     ]
    },
    {
     "name": "stdout",
     "output_type": "stream",
     "text": [
      "Konvertiere in DataFrame...\n",
      "Validiere URLs...\n"
     ]
    },
    {
     "name": "stderr",
     "output_type": "stream",
     "text": [
      "2024-01-26 17:15:45,271 - INFO - URL https://www.eversports.de/s/a-heart-for-poledance-1 is valid.\n",
      "2024-01-26 17:15:45,272 - INFO - Processing URL 2/5: https://www.eversports.de/scl/a-heart-for-poledance-1\n",
      "2024-01-26 17:15:46,666 - INFO - URL https://www.eversports.de/scl/a-heart-for-poledance-1 is valid.\n",
      "2024-01-26 17:15:46,667 - INFO - Processing URL 3/5: https://www.eversports.de/sw/a-heart-for-poledance-1\n",
      "2024-01-26 17:15:48,157 - INFO - URL https://www.eversports.de/sw/a-heart-for-poledance-1 is valid.\n",
      "2024-01-26 17:15:48,158 - INFO - Processing URL 4/5: https://www.eversports.de/sp/a-heart-for-poledance-1\n",
      "2024-01-26 17:15:49,548 - INFO - URL https://www.eversports.de/sp/a-heart-for-poledance-1 is valid.\n",
      "2024-01-26 17:15:49,549 - INFO - Processing URL 5/5: https://www.eversports.de/s/a-heart-for-poledance-1/team\n",
      "2024-01-26 17:15:50,954 - INFO - URL https://www.eversports.de/s/a-heart-for-poledance-1/team is valid.\n"
     ]
    },
    {
     "name": "stdout",
     "output_type": "stream",
     "text": [
      "Scrape Pole Studio Daten von https://www.eversports.de/s/a-heart-for-poledance-1...\n",
      "Scrape Klassen Daten von https://www.eversports.de/scl/a-heart-for-poledance-1...\n",
      "Scrape Klassen Details von https://www.eversports.de/scl/a-heart-for-poledance-1...\n",
      "Scrape Workshops Daten von https://www.eversports.de/sw/a-heart-for-poledance-1...\n",
      "Scrape Workshop Details von https://www.eversports.de/e/workshop/AleLN6N...\n",
      "Scrape Workshop Details von https://www.eversports.de/e/workshop/5VJvMXI...\n",
      "Scrape Workshop Details von https://www.eversports.de/e/workshop/jQOaOC3...\n",
      "Scrape Workshop Details von https://www.eversports.de/e/workshop/H4Qz_fT...\n",
      "Scrape Workshop Details von https://www.eversports.de/e/workshop/nOac6zt...\n",
      "Scrape Workshop Details von https://www.eversports.de/e/workshop/yMiXoIi...\n",
      "Verarbeitung abgeschlossen.\n",
      "\n",
      "Ergebnisse für URL: https://www.eversports.de/s/a-heart-for-poledance-1\n",
      "Pole Studio Data:\n",
      "\n",
      "\n",
      "Classes Data:\n",
      "\n",
      "\n",
      "Classes Details:\n",
      "\n",
      "\n",
      "Workshops Data:\n",
      "\n",
      "\n",
      "Workshop Details:\n",
      "\n",
      "\n",
      "Progress: 40.43%\n",
      "\n",
      "Processing URL 227/559\n",
      "Verarbeite URL: https://www.eversports.de/s/polewirbel\n",
      "Starte URL-Rekonstruktion...\n"
     ]
    },
    {
     "name": "stderr",
     "output_type": "stream",
     "text": [
      "2024-01-26 17:16:58,253 - INFO - Processing URL 1/4: https://www.eversports.de/s/polewirbel\n"
     ]
    },
    {
     "name": "stdout",
     "output_type": "stream",
     "text": [
      "Konvertiere in DataFrame...\n",
      "Validiere URLs...\n"
     ]
    },
    {
     "name": "stderr",
     "output_type": "stream",
     "text": [
      "2024-01-26 17:16:59,805 - INFO - URL https://www.eversports.de/s/polewirbel is valid.\n",
      "2024-01-26 17:16:59,806 - INFO - Processing URL 2/4: https://www.eversports.de/scl/polewirbel\n",
      "2024-01-26 17:17:01,158 - INFO - URL https://www.eversports.de/scl/polewirbel is valid.\n",
      "2024-01-26 17:17:01,158 - INFO - Processing URL 3/4: https://www.eversports.de/sp/polewirbel\n",
      "2024-01-26 17:17:02,555 - INFO - URL https://www.eversports.de/sp/polewirbel is valid.\n",
      "2024-01-26 17:17:02,556 - INFO - Processing URL 4/4: https://www.eversports.de/s/polewirbel/team\n",
      "2024-01-26 17:17:04,024 - INFO - URL https://www.eversports.de/s/polewirbel/team is valid.\n"
     ]
    },
    {
     "name": "stdout",
     "output_type": "stream",
     "text": [
      "Scrape Pole Studio Daten von https://www.eversports.de/s/polewirbel...\n",
      "Scrape Klassen Daten von https://www.eversports.de/scl/polewirbel...\n",
      "Scrape Klassen Details von https://www.eversports.de/scl/polewirbel...\n",
      "Verarbeitung abgeschlossen.\n",
      "\n",
      "Ergebnisse für URL: https://www.eversports.de/s/polewirbel\n",
      "Pole Studio Data:\n",
      "\n",
      "\n",
      "Classes Data:\n",
      "\n",
      "\n",
      "Classes Details:\n",
      "\n",
      "\n",
      "Progress: 40.61%\n",
      "\n",
      "Processing URL 228/559\n",
      "Verarbeite URL: https://www.eversports.de/s/stretch-%26-pole\n",
      "Starte URL-Rekonstruktion...\n",
      "Error during HTTP request: 404 Client Error: Not Found for url: https://www.eversports.de/s/stretch-%26-pole\n",
      "Konvertiere in DataFrame...\n",
      "Validiere URLs...\n",
      "Verarbeitung abgeschlossen.\n",
      "\n",
      "Ergebnisse für URL: https://www.eversports.de/s/stretch-%26-pole\n",
      "Progress: 40.79%\n",
      "\n",
      "Processing URL 229/559\n",
      "Verarbeite URL: https://www.eversports.de/s/POLE-LOFT\n",
      "Starte URL-Rekonstruktion...\n"
     ]
    },
    {
     "name": "stderr",
     "output_type": "stream",
     "text": [
      "2024-01-26 17:17:17,988 - INFO - Processing URL 1/4: https://www.eversports.de/s/POLE-LOFT\n"
     ]
    },
    {
     "name": "stdout",
     "output_type": "stream",
     "text": [
      "Konvertiere in DataFrame...\n",
      "Validiere URLs...\n"
     ]
    },
    {
     "name": "stderr",
     "output_type": "stream",
     "text": [
      "2024-01-26 17:17:19,610 - INFO - URL https://www.eversports.de/s/POLE-LOFT is valid.\n",
      "2024-01-26 17:17:19,611 - INFO - Processing URL 2/4: https://www.eversports.de/scl/POLE-LOFT\n",
      "2024-01-26 17:17:21,027 - INFO - URL https://www.eversports.de/scl/POLE-LOFT is valid.\n",
      "2024-01-26 17:17:21,028 - INFO - Processing URL 3/4: https://www.eversports.de/sp/POLE-LOFT\n",
      "2024-01-26 17:17:22,425 - INFO - URL https://www.eversports.de/sp/POLE-LOFT is valid.\n",
      "2024-01-26 17:17:22,427 - INFO - Processing URL 4/4: https://www.eversports.de/s/POLE-LOFT/team\n",
      "2024-01-26 17:17:23,922 - INFO - URL https://www.eversports.de/s/POLE-LOFT/team is valid.\n"
     ]
    },
    {
     "name": "stdout",
     "output_type": "stream",
     "text": [
      "Scrape Pole Studio Daten von https://www.eversports.de/s/POLE-LOFT...\n",
      "Scrape Klassen Daten von https://www.eversports.de/scl/POLE-LOFT...\n",
      "Scrape Klassen Details von https://www.eversports.de/scl/POLE-LOFT...\n",
      "Verarbeitung abgeschlossen.\n",
      "\n",
      "Ergebnisse für URL: https://www.eversports.de/s/POLE-LOFT\n",
      "Pole Studio Data:\n",
      "\n",
      "\n",
      "Classes Data:\n",
      "\n",
      "\n",
      "Classes Details:\n",
      "\n",
      "\n",
      "Progress: 40.97%\n",
      "\n",
      "Processing URL 230/559\n",
      "Verarbeite URL: https://www.eversports.de/s/Yoga-and-Pole-Art-by-Selina\n",
      "Starte URL-Rekonstruktion...\n"
     ]
    },
    {
     "name": "stderr",
     "output_type": "stream",
     "text": [
      "2024-01-26 17:18:26,624 - INFO - Processing URL 1/6: https://www.eversports.de/s/Yoga-and-Pole-Art-by-Selina\n"
     ]
    },
    {
     "name": "stdout",
     "output_type": "stream",
     "text": [
      "Konvertiere in DataFrame...\n",
      "Validiere URLs...\n"
     ]
    },
    {
     "name": "stderr",
     "output_type": "stream",
     "text": [
      "2024-01-26 17:18:29,124 - INFO - URL https://www.eversports.de/s/Yoga-and-Pole-Art-by-Selina is valid.\n",
      "2024-01-26 17:18:29,125 - INFO - Processing URL 2/6: https://www.eversports.de/scl/Yoga-and-Pole-Art-by-Selina\n",
      "2024-01-26 17:18:30,559 - INFO - URL https://www.eversports.de/scl/Yoga-and-Pole-Art-by-Selina is valid.\n",
      "2024-01-26 17:18:30,560 - INFO - Processing URL 3/6: https://www.eversports.de/sw/Yoga-and-Pole-Art-by-Selina\n",
      "2024-01-26 17:18:32,318 - INFO - URL https://www.eversports.de/sw/Yoga-and-Pole-Art-by-Selina is valid.\n",
      "2024-01-26 17:18:32,319 - INFO - Processing URL 4/6: https://www.eversports.de/s/Yoga-and-Pole-Art-by-Selina/videos\n",
      "2024-01-26 17:18:33,814 - INFO - URL https://www.eversports.de/s/Yoga-and-Pole-Art-by-Selina/videos is valid.\n",
      "2024-01-26 17:18:33,816 - INFO - Processing URL 5/6: https://www.eversports.de/sp/Yoga-and-Pole-Art-by-Selina\n",
      "2024-01-26 17:18:35,223 - INFO - URL https://www.eversports.de/sp/Yoga-and-Pole-Art-by-Selina is valid.\n",
      "2024-01-26 17:18:35,224 - INFO - Processing URL 6/6: https://www.eversports.de/s/Yoga-and-Pole-Art-by-Selina/team\n",
      "2024-01-26 17:18:37,590 - INFO - URL https://www.eversports.de/s/Yoga-and-Pole-Art-by-Selina/team is valid.\n"
     ]
    },
    {
     "name": "stdout",
     "output_type": "stream",
     "text": [
      "Scrape Pole Studio Daten von https://www.eversports.de/s/Yoga-and-Pole-Art-by-Selina...\n",
      "Scrape Klassen Daten von https://www.eversports.de/scl/Yoga-and-Pole-Art-by-Selina...\n",
      "Scrape Klassen Details von https://www.eversports.de/scl/Yoga-and-Pole-Art-by-Selina...\n",
      "Scrape Workshops Daten von https://www.eversports.de/sw/Yoga-and-Pole-Art-by-Selina...\n",
      "Scrape Workshop Details von https://www.eversports.de/e/workshop/WN-XHxi...\n",
      "Scrape Workshop Details von https://www.eversports.de/e/workshop/dhAWne_...\n",
      "Scrape Workshop Details von https://www.eversports.de/e/workshop/p_eKWTW...\n",
      "Scrape Workshop Details von https://www.eversports.de/e/workshop/1PmB24I...\n",
      "Scrape Workshop Details von https://www.eversports.de/e/workshop/Zk4neM3...\n",
      "Scrape Workshop Details von https://www.eversports.de/e/workshop/VnmCBGD...\n",
      "Scrape Workshop Details von https://www.eversports.de/e/workshop/qdYG4WC...\n",
      "Scrape Workshop Details von https://www.eversports.de/e/workshop/M4MjCdo...\n",
      "Scrape Workshop Details von https://www.eversports.de/e/workshop/bi8m5zs...\n",
      "Scrape Workshop Details von https://www.eversports.de/e/workshop/ccLkJAE...\n",
      "Verarbeitung abgeschlossen.\n",
      "\n",
      "Ergebnisse für URL: https://www.eversports.de/s/Yoga-and-Pole-Art-by-Selina\n",
      "Pole Studio Data:\n",
      "\n",
      "\n",
      "Classes Data:\n",
      "\n",
      "\n",
      "Classes Details:\n",
      "\n",
      "\n",
      "Workshops Data:\n",
      "\n",
      "\n",
      "Workshop Details:\n",
      "\n",
      "\n",
      "Progress: 41.14%\n",
      "\n",
      "Processing URL 231/559\n",
      "Verarbeite URL: https://www.eversports.de/s/poledance!-aerial-%26-fitness-schleswig\n",
      "Starte URL-Rekonstruktion...\n",
      "Error during HTTP request: 404 Client Error: Not Found for url: https://www.eversports.de/s/poledance!-aerial-%26-fitness-schleswig\n",
      "Konvertiere in DataFrame...\n",
      "Validiere URLs...\n",
      "Verarbeitung abgeschlossen.\n",
      "\n",
      "Ergebnisse für URL: https://www.eversports.de/s/poledance!-aerial-%26-fitness-schleswig\n",
      "Progress: 41.32%\n",
      "\n",
      "Processing URL 232/559\n",
      "Verarbeite URL: https://www.eversports.de/s/crazypole-dresden\n",
      "Starte URL-Rekonstruktion...\n",
      "Error during HTTP request: 404 Client Error: Not Found for url: https://www.eversports.de/s/crazypole-dresden\n",
      "Konvertiere in DataFrame...\n",
      "Validiere URLs...\n",
      "Verarbeitung abgeschlossen.\n",
      "\n",
      "Ergebnisse für URL: https://www.eversports.de/s/crazypole-dresden\n",
      "Progress: 41.50%\n",
      "\n",
      "Processing URL 233/559\n",
      "Verarbeite URL: https://www.eversports.de/s/t-tanzstück-braunschweig\n",
      "Starte URL-Rekonstruktion...\n",
      "Error during HTTP request: Exceeded 30 redirects.\n",
      "Konvertiere in DataFrame...\n",
      "Validiere URLs...\n",
      "Verarbeitung abgeschlossen.\n",
      "\n",
      "Ergebnisse für URL: https://www.eversports.de/s/t-tanzstück-braunschweig\n",
      "Progress: 41.68%\n",
      "\n",
      "Processing URL 234/559\n",
      "Verarbeite URL: https://www.eversports.de/s/pole-sport-coburg---akrobatik-%26-tanz-\n",
      "Starte URL-Rekonstruktion...\n",
      "Error during HTTP request: 404 Client Error: Not Found for url: https://www.eversports.de/s/pole-sport-coburg---akrobatik-%26-tanz-\n",
      "Konvertiere in DataFrame...\n",
      "Validiere URLs...\n",
      "Verarbeitung abgeschlossen.\n",
      "\n",
      "Ergebnisse für URL: https://www.eversports.de/s/pole-sport-coburg---akrobatik-%26-tanz-\n",
      "Progress: 41.86%\n",
      "\n",
      "Processing URL 235/559\n",
      "Verarbeite URL: https://www.eversports.de/s/papillon-dance-and-sport-academy\n",
      "Starte URL-Rekonstruktion...\n"
     ]
    },
    {
     "name": "stderr",
     "output_type": "stream",
     "text": [
      "2024-01-26 17:19:45,835 - INFO - Processing URL 1/4: https://www.eversports.de/s/papillon-dance-and-sport-academy\n"
     ]
    },
    {
     "name": "stdout",
     "output_type": "stream",
     "text": [
      "Konvertiere in DataFrame...\n",
      "Validiere URLs...\n"
     ]
    },
    {
     "name": "stderr",
     "output_type": "stream",
     "text": [
      "2024-01-26 17:19:47,356 - INFO - URL https://www.eversports.de/s/papillon-dance-and-sport-academy is valid.\n",
      "2024-01-26 17:19:47,357 - INFO - Processing URL 2/4: https://www.eversports.de/scl/papillon-dance-and-sport-academy\n",
      "2024-01-26 17:19:49,039 - INFO - URL https://www.eversports.de/scl/papillon-dance-and-sport-academy is valid.\n",
      "2024-01-26 17:19:49,040 - INFO - Processing URL 3/4: https://www.eversports.de/sp/papillon-dance-and-sport-academy\n",
      "2024-01-26 17:19:50,459 - INFO - URL https://www.eversports.de/sp/papillon-dance-and-sport-academy is valid.\n",
      "2024-01-26 17:19:50,461 - INFO - Processing URL 4/4: https://www.eversports.de/s/papillon-dance-and-sport-academy/team\n",
      "2024-01-26 17:19:51,860 - INFO - URL https://www.eversports.de/s/papillon-dance-and-sport-academy/team is valid.\n"
     ]
    },
    {
     "name": "stdout",
     "output_type": "stream",
     "text": [
      "Scrape Pole Studio Daten von https://www.eversports.de/s/papillon-dance-and-sport-academy...\n",
      "Scrape Klassen Daten von https://www.eversports.de/scl/papillon-dance-and-sport-academy...\n",
      "Scrape Klassen Details von https://www.eversports.de/scl/papillon-dance-and-sport-academy...\n",
      "Verarbeitung abgeschlossen.\n",
      "\n",
      "Ergebnisse für URL: https://www.eversports.de/s/papillon-dance-and-sport-academy\n",
      "Pole Studio Data:\n",
      "\n",
      "\n",
      "Classes Data:\n",
      "\n",
      "\n",
      "Classes Details:\n",
      "\n",
      "\n",
      "Progress: 42.04%\n",
      "\n",
      "Processing URL 236/559\n",
      "Verarbeite URL: https://www.eversports.de/s/Polearize\n",
      "Starte URL-Rekonstruktion...\n"
     ]
    },
    {
     "name": "stderr",
     "output_type": "stream",
     "text": [
      "2024-01-26 17:20:50,812 - INFO - Processing URL 1/5: https://www.eversports.de/s/Polearize\n"
     ]
    },
    {
     "name": "stdout",
     "output_type": "stream",
     "text": [
      "Konvertiere in DataFrame...\n",
      "Validiere URLs...\n"
     ]
    },
    {
     "name": "stderr",
     "output_type": "stream",
     "text": [
      "2024-01-26 17:20:52,776 - INFO - URL https://www.eversports.de/s/Polearize is valid.\n",
      "2024-01-26 17:20:52,777 - INFO - Processing URL 2/5: https://www.eversports.de/scl/Polearize\n",
      "2024-01-26 17:20:54,213 - INFO - URL https://www.eversports.de/scl/Polearize is valid.\n",
      "2024-01-26 17:20:54,214 - INFO - Processing URL 3/5: https://www.eversports.de/sw/Polearize\n",
      "2024-01-26 17:20:55,676 - INFO - URL https://www.eversports.de/sw/Polearize is valid.\n",
      "2024-01-26 17:20:55,677 - INFO - Processing URL 4/5: https://www.eversports.de/sp/Polearize\n",
      "2024-01-26 17:20:57,091 - INFO - URL https://www.eversports.de/sp/Polearize is valid.\n",
      "2024-01-26 17:20:57,092 - INFO - Processing URL 5/5: https://www.eversports.de/s/Polearize/team\n",
      "2024-01-26 17:20:58,697 - INFO - URL https://www.eversports.de/s/Polearize/team is valid.\n"
     ]
    },
    {
     "name": "stdout",
     "output_type": "stream",
     "text": [
      "Scrape Pole Studio Daten von https://www.eversports.de/s/Polearize...\n",
      "Scrape Klassen Daten von https://www.eversports.de/scl/Polearize...\n",
      "Scrape Klassen Details von https://www.eversports.de/scl/Polearize...\n",
      "Scrape Workshops Daten von https://www.eversports.de/sw/Polearize...\n",
      "Scrape Workshop Details von https://www.eversports.de/e/workshop/1m_jLPa...\n",
      "Scrape Workshop Details von https://www.eversports.de/e/workshop/5N9aoto...\n",
      "Scrape Workshop Details von https://www.eversports.de/e/workshop/7QwFsx3...\n",
      "Verarbeitung abgeschlossen.\n",
      "\n",
      "Ergebnisse für URL: https://www.eversports.de/s/Polearize\n",
      "Pole Studio Data:\n",
      "\n",
      "\n",
      "Classes Data:\n",
      "\n",
      "\n",
      "Classes Details:\n",
      "\n",
      "\n",
      "Workshops Data:\n",
      "\n",
      "\n",
      "Workshop Details:\n",
      "\n",
      "\n",
      "Progress: 42.22%\n",
      "\n",
      "Processing URL 237/559\n",
      "Verarbeite URL: https://www.eversports.de/s/passionate-pole-and-sports\n",
      "Starte URL-Rekonstruktion...\n"
     ]
    },
    {
     "name": "stderr",
     "output_type": "stream",
     "text": [
      "2024-01-26 17:22:45,449 - INFO - Processing URL 1/4: https://www.eversports.de/s/passionate-pole-and-sports\n"
     ]
    },
    {
     "name": "stdout",
     "output_type": "stream",
     "text": [
      "Konvertiere in DataFrame...\n",
      "Validiere URLs...\n"
     ]
    },
    {
     "name": "stderr",
     "output_type": "stream",
     "text": [
      "2024-01-26 17:22:47,039 - INFO - URL https://www.eversports.de/s/passionate-pole-and-sports is valid.\n",
      "2024-01-26 17:22:47,040 - INFO - Processing URL 2/4: https://www.eversports.de/scl/passionate-pole-and-sports\n",
      "2024-01-26 17:22:48,431 - INFO - URL https://www.eversports.de/scl/passionate-pole-and-sports is valid.\n",
      "2024-01-26 17:22:48,432 - INFO - Processing URL 3/4: https://www.eversports.de/sp/passionate-pole-and-sports\n",
      "2024-01-26 17:22:50,346 - INFO - URL https://www.eversports.de/sp/passionate-pole-and-sports is valid.\n",
      "2024-01-26 17:22:50,347 - INFO - Processing URL 4/4: https://www.eversports.de/s/passionate-pole-and-sports/team\n",
      "2024-01-26 17:22:51,761 - INFO - URL https://www.eversports.de/s/passionate-pole-and-sports/team is valid.\n"
     ]
    },
    {
     "name": "stdout",
     "output_type": "stream",
     "text": [
      "Scrape Pole Studio Daten von https://www.eversports.de/s/passionate-pole-and-sports...\n",
      "Scrape Klassen Daten von https://www.eversports.de/scl/passionate-pole-and-sports...\n",
      "Scrape Klassen Details von https://www.eversports.de/scl/passionate-pole-and-sports...\n",
      "Verarbeitung abgeschlossen.\n",
      "\n",
      "Ergebnisse für URL: https://www.eversports.de/s/passionate-pole-and-sports\n",
      "Pole Studio Data:\n",
      "\n",
      "\n",
      "Classes Data:\n",
      "\n",
      "\n",
      "Classes Details:\n",
      "\n",
      "\n",
      "Progress: 42.40%\n",
      "\n",
      "Processing URL 238/559\n",
      "Verarbeite URL: https://www.eversports.de/s/da-becca-flow-and-fit\n",
      "Starte URL-Rekonstruktion...\n"
     ]
    },
    {
     "name": "stderr",
     "output_type": "stream",
     "text": [
      "2024-01-26 17:23:29,297 - INFO - Processing URL 1/5: https://www.eversports.de/s/da-becca-flow-and-fit\n"
     ]
    },
    {
     "name": "stdout",
     "output_type": "stream",
     "text": [
      "Konvertiere in DataFrame...\n",
      "Validiere URLs...\n"
     ]
    },
    {
     "name": "stderr",
     "output_type": "stream",
     "text": [
      "2024-01-26 17:23:31,044 - INFO - URL https://www.eversports.de/s/da-becca-flow-and-fit is valid.\n",
      "2024-01-26 17:23:31,045 - INFO - Processing URL 2/5: https://www.eversports.de/scl/da-becca-flow-and-fit\n",
      "2024-01-26 17:23:32,557 - INFO - URL https://www.eversports.de/scl/da-becca-flow-and-fit is valid.\n",
      "2024-01-26 17:23:32,558 - INFO - Processing URL 3/5: https://www.eversports.de/sw/da-becca-flow-and-fit\n",
      "2024-01-26 17:23:34,785 - INFO - URL https://www.eversports.de/sw/da-becca-flow-and-fit is valid.\n",
      "2024-01-26 17:23:34,786 - INFO - Processing URL 4/5: https://www.eversports.de/sp/da-becca-flow-and-fit\n",
      "2024-01-26 17:23:36,181 - INFO - URL https://www.eversports.de/sp/da-becca-flow-and-fit is valid.\n",
      "2024-01-26 17:23:36,182 - INFO - Processing URL 5/5: https://www.eversports.de/s/da-becca-flow-and-fit/team\n",
      "2024-01-26 17:23:37,727 - INFO - URL https://www.eversports.de/s/da-becca-flow-and-fit/team is valid.\n"
     ]
    },
    {
     "name": "stdout",
     "output_type": "stream",
     "text": [
      "Scrape Pole Studio Daten von https://www.eversports.de/s/da-becca-flow-and-fit...\n",
      "Scrape Klassen Daten von https://www.eversports.de/scl/da-becca-flow-and-fit...\n",
      "Scrape Klassen Details von https://www.eversports.de/scl/da-becca-flow-and-fit...\n",
      "Scrape Workshops Daten von https://www.eversports.de/sw/da-becca-flow-and-fit...\n",
      "Scrape Workshop Details von https://www.eversports.de/e/workshop/2z_srY0...\n",
      "Scrape Workshop Details von https://www.eversports.de/e/workshop/o5_MV7J...\n",
      "Scrape Workshop Details von https://www.eversports.de/e/workshop/0u01Mza...\n",
      "Scrape Workshop Details von https://www.eversports.de/e/workshop/DBxar8u...\n",
      "Scrape Workshop Details von https://www.eversports.de/e/workshop/GlPG304...\n",
      "Scrape Workshop Details von https://www.eversports.de/e/workshop/wj20M8W...\n",
      "Scrape Workshop Details von https://www.eversports.de/e/workshop/113IYbR...\n",
      "Scrape Workshop Details von https://www.eversports.de/e/workshop/vyTj8JR...\n",
      "Scrape Workshop Details von https://www.eversports.de/e/workshop/GMeuKSV...\n",
      "Scrape Workshop Details von https://www.eversports.de/e/workshop/461op6s...\n",
      "Scrape Workshop Details von https://www.eversports.de/e/workshop/NrFmto0...\n",
      "Scrape Workshop Details von https://www.eversports.de/e/workshop/km4K7Yv...\n",
      "Scrape Workshop Details von https://www.eversports.de/e/workshop/B2Sz3mv...\n",
      "Scrape Workshop Details von https://www.eversports.de/e/workshop/HhyMbSA...\n",
      "Scrape Workshop Details von https://www.eversports.de/e/workshop/WBlAegH...\n",
      "Verarbeitung abgeschlossen.\n",
      "\n",
      "Ergebnisse für URL: https://www.eversports.de/s/da-becca-flow-and-fit\n",
      "Pole Studio Data:\n",
      "\n",
      "\n",
      "Classes Data:\n",
      "\n",
      "\n",
      "Classes Details:\n",
      "\n",
      "\n",
      "Workshops Data:\n",
      "\n",
      "\n",
      "Workshop Details:\n",
      "\n",
      "\n",
      "Progress: 42.58%\n",
      "\n",
      "Processing URL 239/559\n",
      "Verarbeite URL: https://www.eversports.de/s/verticalarts-pole-&-aerial-fitness\n",
      "Starte URL-Rekonstruktion...\n",
      "Error during HTTP request: 404 Client Error: Not Found for url: https://www.eversports.de/s/verticalarts-pole-&-aerial-fitness\n",
      "Konvertiere in DataFrame...\n",
      "Validiere URLs...\n",
      "Verarbeitung abgeschlossen.\n",
      "\n",
      "Ergebnisse für URL: https://www.eversports.de/s/verticalarts-pole-&-aerial-fitness\n",
      "Progress: 42.75%\n",
      "\n",
      "Processing URL 240/559\n",
      "Verarbeite URL: https://www.eversports.de/s/SWISS-MEGA-PARK\n",
      "Starte URL-Rekonstruktion...\n"
     ]
    },
    {
     "name": "stderr",
     "output_type": "stream",
     "text": [
      "2024-01-26 17:25:04,020 - INFO - Processing URL 1/3: https://www.eversports.de/s/SWISS-MEGA-PARK\n"
     ]
    },
    {
     "name": "stdout",
     "output_type": "stream",
     "text": [
      "Konvertiere in DataFrame...\n",
      "Validiere URLs...\n"
     ]
    },
    {
     "name": "stderr",
     "output_type": "stream",
     "text": [
      "2024-01-26 17:25:05,942 - INFO - URL https://www.eversports.de/s/SWISS-MEGA-PARK is valid.\n",
      "2024-01-26 17:25:05,943 - INFO - Processing URL 2/3: https://www.eversports.de/s/SWISS-MEGA-PARK/sportplätze\n",
      "2024-01-26 17:25:07,302 - INFO - URL https://www.eversports.de/s/SWISS-MEGA-PARK/sportplätze is not valid.\n",
      "2024-01-26 17:25:07,303 - INFO - Processing URL 3/3: https://www.eversports.de/s/SWISS-MEGA-PARK/matches\n",
      "2024-01-26 17:25:10,324 - INFO - URL https://www.eversports.de/s/SWISS-MEGA-PARK/matches is valid.\n"
     ]
    },
    {
     "name": "stdout",
     "output_type": "stream",
     "text": [
      "Scrape Pole Studio Daten von https://www.eversports.de/s/SWISS-MEGA-PARK...\n",
      "Scrape Pole Studio Daten von https://www.eversports.de/s/SWISS-MEGA-PARK/matches...\n",
      "Verarbeitung abgeschlossen.\n",
      "\n",
      "Ergebnisse für URL: https://www.eversports.de/s/SWISS-MEGA-PARK\n",
      "Pole Studio Data:\n",
      "\n",
      "\n",
      "Progress: 42.93%\n",
      "\n",
      "Processing URL 241/559\n",
      "Verarbeite URL: https://www.eversports.de/s/le-serpent-rouge\n",
      "Starte URL-Rekonstruktion...\n",
      "Error during HTTP request: 404 Client Error: Not Found for url: https://www.eversports.de/s/le-serpent-rouge\n",
      "Konvertiere in DataFrame...\n",
      "Validiere URLs...\n",
      "Verarbeitung abgeschlossen.\n",
      "\n",
      "Ergebnisse für URL: https://www.eversports.de/s/le-serpent-rouge\n",
      "Progress: 43.11%\n",
      "\n",
      "Processing URL 242/559\n",
      "Verarbeite URL: https://www.eversports.de/s/open-aerial-dance\n",
      "Starte URL-Rekonstruktion...\n",
      "Error during HTTP request: 404 Client Error: Not Found for url: https://www.eversports.de/s/open-aerial-dance\n",
      "Konvertiere in DataFrame...\n",
      "Validiere URLs...\n",
      "Verarbeitung abgeschlossen.\n",
      "\n",
      "Ergebnisse für URL: https://www.eversports.de/s/open-aerial-dance\n",
      "Progress: 43.29%\n",
      "\n",
      "Processing URL 243/559\n",
      "Verarbeite URL: https://www.eversports.de/s/Aerial-Circus\n",
      "Starte URL-Rekonstruktion...\n"
     ]
    },
    {
     "name": "stderr",
     "output_type": "stream",
     "text": [
      "2024-01-26 17:25:16,456 - INFO - Processing URL 1/4: https://www.eversports.de/s/Aerial-Circus\n"
     ]
    },
    {
     "name": "stdout",
     "output_type": "stream",
     "text": [
      "Konvertiere in DataFrame...\n",
      "Validiere URLs...\n"
     ]
    },
    {
     "name": "stderr",
     "output_type": "stream",
     "text": [
      "2024-01-26 17:25:18,282 - INFO - URL https://www.eversports.de/s/Aerial-Circus is valid.\n",
      "2024-01-26 17:25:18,283 - INFO - Processing URL 2/4: https://www.eversports.de/scl/Aerial-Circus\n",
      "2024-01-26 17:25:19,702 - INFO - URL https://www.eversports.de/scl/Aerial-Circus is valid.\n",
      "2024-01-26 17:25:19,703 - INFO - Processing URL 3/4: https://www.eversports.de/sp/Aerial-Circus\n",
      "2024-01-26 17:25:21,392 - INFO - URL https://www.eversports.de/sp/Aerial-Circus is valid.\n",
      "2024-01-26 17:25:21,393 - INFO - Processing URL 4/4: https://www.eversports.de/s/Aerial-Circus/team\n",
      "2024-01-26 17:25:22,939 - INFO - URL https://www.eversports.de/s/Aerial-Circus/team is valid.\n"
     ]
    },
    {
     "name": "stdout",
     "output_type": "stream",
     "text": [
      "Scrape Pole Studio Daten von https://www.eversports.de/s/Aerial-Circus...\n",
      "Scrape Klassen Daten von https://www.eversports.de/scl/Aerial-Circus...\n",
      "Scrape Klassen Details von https://www.eversports.de/scl/Aerial-Circus...\n",
      "Verarbeitung abgeschlossen.\n",
      "\n",
      "Ergebnisse für URL: https://www.eversports.de/s/Aerial-Circus\n",
      "Pole Studio Data:\n",
      "\n",
      "\n",
      "Classes Data:\n",
      "\n",
      "\n",
      "Classes Details:\n",
      "\n",
      "\n",
      "Progress: 43.47%\n",
      "\n",
      "Processing URL 244/559\n",
      "Verarbeite URL: https://www.eversports.de/s/lift-off-poledance-academy\n",
      "Starte URL-Rekonstruktion...\n",
      "Error during HTTP request: 404 Client Error: Not Found for url: https://www.eversports.de/s/lift-off-poledance-academy\n",
      "Konvertiere in DataFrame...\n",
      "Validiere URLs...\n",
      "Verarbeitung abgeschlossen.\n",
      "\n",
      "Ergebnisse für URL: https://www.eversports.de/s/lift-off-poledance-academy\n",
      "Progress: 43.65%\n",
      "\n",
      "Processing URL 245/559\n",
      "Verarbeite URL: https://www.eversports.de/s/pole-faction-darmstadt\n",
      "Starte URL-Rekonstruktion...\n"
     ]
    },
    {
     "name": "stderr",
     "output_type": "stream",
     "text": [
      "2024-01-26 17:26:06,738 - INFO - Processing URL 1/5: https://www.eversports.de/s/pole-faction-darmstadt\n"
     ]
    },
    {
     "name": "stdout",
     "output_type": "stream",
     "text": [
      "Konvertiere in DataFrame...\n",
      "Validiere URLs...\n"
     ]
    },
    {
     "name": "stderr",
     "output_type": "stream",
     "text": [
      "2024-01-26 17:26:08,631 - INFO - URL https://www.eversports.de/s/pole-faction-darmstadt is valid.\n",
      "2024-01-26 17:26:08,632 - INFO - Processing URL 2/5: https://www.eversports.de/scl/pole-faction-darmstadt\n",
      "2024-01-26 17:26:10,041 - INFO - URL https://www.eversports.de/scl/pole-faction-darmstadt is valid.\n",
      "2024-01-26 17:26:10,042 - INFO - Processing URL 3/5: https://www.eversports.de/sw/pole-faction-darmstadt\n",
      "2024-01-26 17:26:11,449 - INFO - URL https://www.eversports.de/sw/pole-faction-darmstadt is valid.\n",
      "2024-01-26 17:26:11,450 - INFO - Processing URL 4/5: https://www.eversports.de/sp/pole-faction-darmstadt\n",
      "2024-01-26 17:26:12,877 - INFO - URL https://www.eversports.de/sp/pole-faction-darmstadt is valid.\n",
      "2024-01-26 17:26:12,878 - INFO - Processing URL 5/5: https://www.eversports.de/s/pole-faction-darmstadt/team\n",
      "2024-01-26 17:26:15,406 - INFO - URL https://www.eversports.de/s/pole-faction-darmstadt/team is valid.\n"
     ]
    },
    {
     "name": "stdout",
     "output_type": "stream",
     "text": [
      "Scrape Pole Studio Daten von https://www.eversports.de/s/pole-faction-darmstadt...\n",
      "Scrape Klassen Daten von https://www.eversports.de/scl/pole-faction-darmstadt...\n",
      "Scrape Klassen Details von https://www.eversports.de/scl/pole-faction-darmstadt...\n",
      "Scrape Workshops Daten von https://www.eversports.de/sw/pole-faction-darmstadt...\n",
      "Scrape Workshop Details von https://www.eversports.de/e/workshop/FP-cEyn...\n",
      "Verarbeitung abgeschlossen.\n",
      "\n",
      "Ergebnisse für URL: https://www.eversports.de/s/pole-faction-darmstadt\n",
      "Pole Studio Data:\n",
      "\n",
      "\n",
      "Classes Data:\n",
      "\n",
      "\n",
      "Classes Details:\n",
      "\n",
      "\n",
      "Workshops Data:\n",
      "\n",
      "\n",
      "Workshop Details:\n",
      "\n",
      "\n",
      "Progress: 43.83%\n",
      "\n",
      "Processing URL 246/559\n",
      "Verarbeite URL: https://www.eversports.de/s/tanzteufel-denzlingen\n",
      "Starte URL-Rekonstruktion...\n",
      "Error during HTTP request: 404 Client Error: Not Found for url: https://www.eversports.de/s/tanzteufel-denzlingen\n",
      "Konvertiere in DataFrame...\n",
      "Validiere URLs...\n",
      "Verarbeitung abgeschlossen.\n",
      "\n",
      "Ergebnisse für URL: https://www.eversports.de/s/tanzteufel-denzlingen\n",
      "Progress: 44.01%\n",
      "\n",
      "Processing URL 247/559\n",
      "Verarbeite URL: https://www.eversports.de/s/pole-for-soul\n",
      "Starte URL-Rekonstruktion...\n",
      "Error during HTTP request: 404 Client Error: Not Found for url: https://www.eversports.de/s/pole-for-soul\n",
      "Konvertiere in DataFrame...\n",
      "Validiere URLs...\n",
      "Verarbeitung abgeschlossen.\n",
      "\n",
      "Ergebnisse für URL: https://www.eversports.de/s/pole-for-soul\n",
      "Progress: 44.19%\n",
      "\n",
      "Processing URL 248/559\n",
      "Verarbeite URL: https://www.eversports.de/s/poleroom-braunschweig\n",
      "Starte URL-Rekonstruktion...\n"
     ]
    },
    {
     "name": "stderr",
     "output_type": "stream",
     "text": [
      "2024-01-26 17:28:05,109 - INFO - Processing URL 1/6: https://www.eversports.de/s/poleroom-braunschweig\n"
     ]
    },
    {
     "name": "stdout",
     "output_type": "stream",
     "text": [
      "Konvertiere in DataFrame...\n",
      "Validiere URLs...\n"
     ]
    },
    {
     "name": "stderr",
     "output_type": "stream",
     "text": [
      "2024-01-26 17:28:06,736 - INFO - URL https://www.eversports.de/s/poleroom-braunschweig is valid.\n",
      "2024-01-26 17:28:06,737 - INFO - Processing URL 2/6: https://www.eversports.de/scl/poleroom-braunschweig\n",
      "2024-01-26 17:28:08,169 - INFO - URL https://www.eversports.de/scl/poleroom-braunschweig is valid.\n",
      "2024-01-26 17:28:08,170 - INFO - Processing URL 3/6: https://www.eversports.de/s/poleroom-braunschweig/trainings\n",
      "2024-01-26 17:28:09,432 - INFO - URL https://www.eversports.de/s/poleroom-braunschweig/trainings is not valid.\n",
      "2024-01-26 17:28:09,433 - INFO - Processing URL 4/6: https://www.eversports.de/sw/poleroom-braunschweig\n",
      "2024-01-26 17:28:10,997 - INFO - URL https://www.eversports.de/sw/poleroom-braunschweig is valid.\n",
      "2024-01-26 17:28:10,999 - INFO - Processing URL 5/6: https://www.eversports.de/sp/poleroom-braunschweig\n",
      "2024-01-26 17:28:12,357 - INFO - URL https://www.eversports.de/sp/poleroom-braunschweig is valid.\n",
      "2024-01-26 17:28:12,359 - INFO - Processing URL 6/6: https://www.eversports.de/s/poleroom-braunschweig/team\n",
      "2024-01-26 17:28:13,887 - INFO - URL https://www.eversports.de/s/poleroom-braunschweig/team is valid.\n"
     ]
    },
    {
     "name": "stdout",
     "output_type": "stream",
     "text": [
      "Scrape Pole Studio Daten von https://www.eversports.de/s/poleroom-braunschweig...\n",
      "Scrape Klassen Daten von https://www.eversports.de/scl/poleroom-braunschweig...\n",
      "Scrape Klassen Details von https://www.eversports.de/scl/poleroom-braunschweig...\n",
      "Scrape Workshops Daten von https://www.eversports.de/sw/poleroom-braunschweig...\n",
      "Scrape Workshop Details von https://www.eversports.de/e/workshop/TxFNxWf...\n",
      "Scrape Workshop Details von https://www.eversports.de/e/workshop/ITccdPW...\n",
      "Scrape Workshop Details von https://www.eversports.de/e/workshop/5FIBkpe...\n",
      "Scrape Workshop Details von https://www.eversports.de/e/workshop/GB5CNr0...\n",
      "Scrape Workshop Details von https://www.eversports.de/e/workshop/1pzXUtZ...\n",
      "Scrape Workshop Details von https://www.eversports.de/e/workshop/fx6DrZ8...\n",
      "Verarbeitung abgeschlossen.\n",
      "\n",
      "Ergebnisse für URL: https://www.eversports.de/s/poleroom-braunschweig\n",
      "Pole Studio Data:\n",
      "\n",
      "\n",
      "Classes Data:\n",
      "\n",
      "\n",
      "Classes Details:\n",
      "\n",
      "\n",
      "Workshops Data:\n",
      "\n",
      "\n",
      "Workshop Details:\n",
      "\n",
      "\n",
      "Progress: 44.36%\n",
      "\n",
      "Processing URL 249/559\n",
      "Verarbeite URL: https://www.eversports.de/s/freaky-pole-cats-straubing\n",
      "Starte URL-Rekonstruktion...\n",
      "Error during HTTP request: 404 Client Error: Not Found for url: https://www.eversports.de/s/freaky-pole-cats-straubing\n",
      "Konvertiere in DataFrame...\n",
      "Validiere URLs...\n",
      "Verarbeitung abgeschlossen.\n",
      "\n",
      "Ergebnisse für URL: https://www.eversports.de/s/freaky-pole-cats-straubing\n",
      "Progress: 44.54%\n",
      "\n",
      "Processing URL 250/559\n",
      "Verarbeite URL: https://www.eversports.de/s/pole-%40-bremerhaven\n",
      "Starte URL-Rekonstruktion...\n",
      "Error during HTTP request: 404 Client Error: Not Found for url: https://www.eversports.de/s/pole-%40-bremerhaven\n",
      "Konvertiere in DataFrame...\n",
      "Validiere URLs...\n",
      "Verarbeitung abgeschlossen.\n",
      "\n",
      "Ergebnisse für URL: https://www.eversports.de/s/pole-%40-bremerhaven\n",
      "Progress: 44.72%\n",
      "\n",
      "Processing URL 251/559\n",
      "Verarbeite URL: https://www.eversports.de/s/metropole-dance---now2\n",
      "Starte URL-Rekonstruktion...\n",
      "Error during HTTP request: 404 Client Error: Not Found for url: https://www.eversports.de/s/metropole-dance---now2\n",
      "Konvertiere in DataFrame...\n",
      "Validiere URLs...\n",
      "Verarbeitung abgeschlossen.\n",
      "\n",
      "Ergebnisse für URL: https://www.eversports.de/s/metropole-dance---now2\n",
      "Progress: 44.90%\n",
      "\n",
      "Processing URL 252/559\n",
      "Verarbeite URL: https://www.eversports.de/s/aerial-loft\n",
      "Starte URL-Rekonstruktion...\n"
     ]
    },
    {
     "name": "stderr",
     "output_type": "stream",
     "text": [
      "2024-01-26 17:29:24,068 - INFO - Processing URL 1/8: https://www.eversports.de/s/aerial-loft\n"
     ]
    },
    {
     "name": "stdout",
     "output_type": "stream",
     "text": [
      "Konvertiere in DataFrame...\n",
      "Validiere URLs...\n"
     ]
    },
    {
     "name": "stderr",
     "output_type": "stream",
     "text": [
      "2024-01-26 17:29:26,249 - INFO - URL https://www.eversports.de/s/aerial-loft is valid.\n",
      "2024-01-26 17:29:26,250 - INFO - Processing URL 2/8: https://www.eversports.de/scl/aerial-loft\n",
      "2024-01-26 17:29:27,732 - INFO - URL https://www.eversports.de/scl/aerial-loft is valid.\n",
      "2024-01-26 17:29:27,733 - INFO - Processing URL 3/8: https://www.eversports.de/s/aerial-loft/kurse\n",
      "2024-01-26 17:29:28,994 - INFO - URL https://www.eversports.de/s/aerial-loft/kurse is not valid.\n",
      "2024-01-26 17:29:28,995 - INFO - Processing URL 4/8: https://www.eversports.de/sw/aerial-loft\n",
      "2024-01-26 17:29:30,437 - INFO - URL https://www.eversports.de/sw/aerial-loft is valid.\n",
      "2024-01-26 17:29:30,439 - INFO - Processing URL 5/8: https://www.eversports.de/s/aerial-loft/events\n",
      "2024-01-26 17:29:31,718 - INFO - URL https://www.eversports.de/s/aerial-loft/events is not valid.\n",
      "2024-01-26 17:29:31,719 - INFO - Processing URL 6/8: https://www.eversports.de/s/aerial-loft/videos\n",
      "2024-01-26 17:29:33,177 - INFO - URL https://www.eversports.de/s/aerial-loft/videos is valid.\n",
      "2024-01-26 17:29:33,178 - INFO - Processing URL 7/8: https://www.eversports.de/sp/aerial-loft\n",
      "2024-01-26 17:29:34,520 - INFO - URL https://www.eversports.de/sp/aerial-loft is valid.\n",
      "2024-01-26 17:29:34,521 - INFO - Processing URL 8/8: https://www.eversports.de/s/aerial-loft/team\n",
      "2024-01-26 17:29:36,178 - INFO - URL https://www.eversports.de/s/aerial-loft/team is valid.\n"
     ]
    },
    {
     "name": "stdout",
     "output_type": "stream",
     "text": [
      "Scrape Pole Studio Daten von https://www.eversports.de/s/aerial-loft...\n",
      "Scrape Klassen Daten von https://www.eversports.de/scl/aerial-loft...\n",
      "Scrape Klassen Details von https://www.eversports.de/scl/aerial-loft...\n",
      "Scrape Workshops Daten von https://www.eversports.de/sw/aerial-loft...\n",
      "Scrape Workshop Details von https://www.eversports.de/e/workshop/tM6w_bx...\n",
      "Scrape Workshop Details von https://www.eversports.de/e/workshop/Uf4VM65...\n",
      "Scrape Workshop Details von https://www.eversports.de/e/workshop/N4v8WV0...\n",
      "Scrape Workshop Details von https://www.eversports.de/e/workshop/onN7Doj...\n",
      "Verarbeitung abgeschlossen.\n",
      "\n",
      "Ergebnisse für URL: https://www.eversports.de/s/aerial-loft\n",
      "Pole Studio Data:\n",
      "\n",
      "\n",
      "Classes Data:\n",
      "\n",
      "\n",
      "Classes Details:\n",
      "\n",
      "\n",
      "Workshops Data:\n",
      "\n",
      "\n",
      "Workshop Details:\n",
      "\n",
      "\n",
      "Progress: 45.08%\n",
      "\n",
      "Processing URL 253/559\n",
      "Verarbeite URL: https://www.eversports.de/s/unique-studios-w%C3%BCrzburg\n",
      "Starte URL-Rekonstruktion...\n",
      "Error during HTTP request: Exceeded 30 redirects.\n",
      "Konvertiere in DataFrame...\n",
      "Validiere URLs...\n",
      "Verarbeitung abgeschlossen.\n",
      "\n",
      "Ergebnisse für URL: https://www.eversports.de/s/unique-studios-w%C3%BCrzburg\n",
      "Progress: 45.26%\n",
      "\n",
      "Processing URL 254/559\n",
      "Verarbeite URL: https://www.eversports.de/s/koerperformfabrik-gbr\n",
      "Starte URL-Rekonstruktion...\n"
     ]
    },
    {
     "name": "stderr",
     "output_type": "stream",
     "text": [
      "2024-01-26 17:31:41,908 - INFO - Processing URL 1/4: https://www.eversports.de/s/koerperformfabrik-gbr\n"
     ]
    },
    {
     "name": "stdout",
     "output_type": "stream",
     "text": [
      "Konvertiere in DataFrame...\n",
      "Validiere URLs...\n"
     ]
    },
    {
     "name": "stderr",
     "output_type": "stream",
     "text": [
      "2024-01-26 17:31:43,469 - INFO - URL https://www.eversports.de/s/koerperformfabrik-gbr is valid.\n",
      "2024-01-26 17:31:43,471 - INFO - Processing URL 2/4: https://www.eversports.de/scl/koerperformfabrik-gbr\n",
      "2024-01-26 17:31:44,850 - INFO - URL https://www.eversports.de/scl/koerperformfabrik-gbr is valid.\n",
      "2024-01-26 17:31:44,851 - INFO - Processing URL 3/4: https://www.eversports.de/sp/koerperformfabrik-gbr\n",
      "2024-01-26 17:31:46,245 - INFO - URL https://www.eversports.de/sp/koerperformfabrik-gbr is valid.\n",
      "2024-01-26 17:31:46,246 - INFO - Processing URL 4/4: https://www.eversports.de/s/koerperformfabrik-gbr/team\n",
      "2024-01-26 17:31:47,685 - INFO - URL https://www.eversports.de/s/koerperformfabrik-gbr/team is valid.\n"
     ]
    },
    {
     "name": "stdout",
     "output_type": "stream",
     "text": [
      "Scrape Pole Studio Daten von https://www.eversports.de/s/koerperformfabrik-gbr...\n",
      "Scrape Klassen Daten von https://www.eversports.de/scl/koerperformfabrik-gbr...\n",
      "Scrape Klassen Details von https://www.eversports.de/scl/koerperformfabrik-gbr...\n",
      "Verarbeitung abgeschlossen.\n",
      "\n",
      "Ergebnisse für URL: https://www.eversports.de/s/koerperformfabrik-gbr\n",
      "Pole Studio Data:\n",
      "\n",
      "\n",
      "Classes Data:\n",
      "\n",
      "\n",
      "Classes Details:\n",
      "\n",
      "\n",
      "Progress: 45.44%\n",
      "\n",
      "Processing URL 255/559\n",
      "Verarbeite URL: https://www.eversports.de/s/Pole-Oase\n",
      "Starte URL-Rekonstruktion...\n"
     ]
    },
    {
     "name": "stderr",
     "output_type": "stream",
     "text": [
      "2024-01-26 17:33:03,742 - INFO - Processing URL 1/5: https://www.eversports.de/s/Pole-Oase\n"
     ]
    },
    {
     "name": "stdout",
     "output_type": "stream",
     "text": [
      "Konvertiere in DataFrame...\n",
      "Validiere URLs...\n"
     ]
    },
    {
     "name": "stderr",
     "output_type": "stream",
     "text": [
      "2024-01-26 17:33:05,663 - INFO - URL https://www.eversports.de/s/Pole-Oase is valid.\n",
      "2024-01-26 17:33:05,664 - INFO - Processing URL 2/5: https://www.eversports.de/scl/Pole-Oase\n",
      "2024-01-26 17:33:07,067 - INFO - URL https://www.eversports.de/scl/Pole-Oase is valid.\n",
      "2024-01-26 17:33:07,068 - INFO - Processing URL 3/5: https://www.eversports.de/sw/Pole-Oase\n",
      "2024-01-26 17:33:08,381 - INFO - URL https://www.eversports.de/sw/Pole-Oase is valid.\n",
      "2024-01-26 17:33:08,382 - INFO - Processing URL 4/5: https://www.eversports.de/sp/Pole-Oase\n",
      "2024-01-26 17:33:09,792 - INFO - URL https://www.eversports.de/sp/Pole-Oase is valid.\n",
      "2024-01-26 17:33:09,794 - INFO - Processing URL 5/5: https://www.eversports.de/s/Pole-Oase/team\n",
      "2024-01-26 17:33:11,268 - INFO - URL https://www.eversports.de/s/Pole-Oase/team is valid.\n"
     ]
    },
    {
     "name": "stdout",
     "output_type": "stream",
     "text": [
      "Scrape Pole Studio Daten von https://www.eversports.de/s/Pole-Oase...\n",
      "Scrape Klassen Daten von https://www.eversports.de/scl/Pole-Oase...\n",
      "Scrape Klassen Details von https://www.eversports.de/scl/Pole-Oase...\n",
      "Scrape Workshops Daten von https://www.eversports.de/sw/Pole-Oase...\n",
      "Scrape Workshop Details von https://www.eversports.de/e/workshop/9cNbxVS...\n",
      "Scrape Workshop Details von https://www.eversports.de/e/workshop/FkutCDr...\n",
      "Scrape Workshop Details von https://www.eversports.de/e/workshop/qzt25WB...\n",
      "Verarbeitung abgeschlossen.\n",
      "\n",
      "Ergebnisse für URL: https://www.eversports.de/s/Pole-Oase\n",
      "Pole Studio Data:\n",
      "\n",
      "\n",
      "Classes Data:\n",
      "\n",
      "\n",
      "Classes Details:\n",
      "\n",
      "\n",
      "Workshops Data:\n",
      "\n",
      "\n",
      "Workshop Details:\n",
      "\n",
      "\n",
      "Progress: 45.62%\n",
      "\n",
      "Processing URL 256/559\n",
      "Verarbeite URL: https://www.eversports.de/s/X-Step-Berlin\n",
      "Starte URL-Rekonstruktion...\n"
     ]
    },
    {
     "name": "stderr",
     "output_type": "stream",
     "text": [
      "2024-01-26 17:33:56,922 - INFO - Processing URL 1/1: https://www.eversports.de/s/X-Step-Berlin\n"
     ]
    },
    {
     "name": "stdout",
     "output_type": "stream",
     "text": [
      "Konvertiere in DataFrame...\n",
      "Validiere URLs...\n"
     ]
    },
    {
     "name": "stderr",
     "output_type": "stream",
     "text": [
      "2024-01-26 17:33:58,570 - INFO - URL https://www.eversports.de/s/X-Step-Berlin is valid.\n"
     ]
    },
    {
     "name": "stdout",
     "output_type": "stream",
     "text": [
      "Scrape Pole Studio Daten von https://www.eversports.de/s/X-Step-Berlin...\n",
      "Verarbeitung abgeschlossen.\n",
      "\n",
      "Ergebnisse für URL: https://www.eversports.de/s/X-Step-Berlin\n",
      "Pole Studio Data:\n",
      "\n",
      "\n",
      "Progress: 45.80%\n",
      "\n",
      "Processing URL 257/559\n",
      "Verarbeite URL: https://www.eversports.de/s/poleria\n",
      "Starte URL-Rekonstruktion...\n",
      "Error during HTTP request: 404 Client Error: Not Found for url: https://www.eversports.de/s/poleria\n",
      "Konvertiere in DataFrame...\n",
      "Validiere URLs...\n",
      "Verarbeitung abgeschlossen.\n",
      "\n",
      "Ergebnisse für URL: https://www.eversports.de/s/poleria\n",
      "Progress: 45.97%\n",
      "\n",
      "Processing URL 258/559\n",
      "Verarbeite URL: https://www.eversports.de/s/vertical-ballerina---poledance-studio-m%C3%BCnchen\n",
      "Starte URL-Rekonstruktion...\n",
      "Error during HTTP request: Exceeded 30 redirects.\n",
      "Konvertiere in DataFrame...\n",
      "Validiere URLs...\n",
      "Verarbeitung abgeschlossen.\n",
      "\n",
      "Ergebnisse für URL: https://www.eversports.de/s/vertical-ballerina---poledance-studio-m%C3%BCnchen\n",
      "Progress: 46.15%\n",
      "\n",
      "Processing URL 259/559\n",
      "Verarbeite URL: https://www.eversports.de/s/verticalspirit-chemnitz-e.-v.\n",
      "Starte URL-Rekonstruktion...\n",
      "Error during HTTP request: 404 Client Error: Not Found for url: https://www.eversports.de/s/verticalspirit-chemnitz-e.-v.\n",
      "Konvertiere in DataFrame...\n",
      "Validiere URLs...\n",
      "Verarbeitung abgeschlossen.\n",
      "\n",
      "Ergebnisse für URL: https://www.eversports.de/s/verticalspirit-chemnitz-e.-v.\n",
      "Progress: 46.33%\n",
      "\n",
      "Processing URL 260/559\n",
      "Verarbeite URL: https://www.eversports.de/s/aerialflow\n",
      "Starte URL-Rekonstruktion...\n"
     ]
    },
    {
     "name": "stderr",
     "output_type": "stream",
     "text": [
      "2024-01-26 17:34:09,522 - INFO - Processing URL 1/7: https://www.eversports.de/s/aerialflow\n"
     ]
    },
    {
     "name": "stdout",
     "output_type": "stream",
     "text": [
      "Konvertiere in DataFrame...\n",
      "Validiere URLs...\n"
     ]
    },
    {
     "name": "stderr",
     "output_type": "stream",
     "text": [
      "2024-01-26 17:34:11,207 - INFO - URL https://www.eversports.de/s/aerialflow is valid.\n",
      "2024-01-26 17:34:11,208 - INFO - Processing URL 2/7: https://www.eversports.de/scl/aerialflow\n",
      "2024-01-26 17:34:12,810 - INFO - URL https://www.eversports.de/scl/aerialflow is valid.\n",
      "2024-01-26 17:34:12,811 - INFO - Processing URL 3/7: https://www.eversports.de/s/aerialflow/trainings\n",
      "2024-01-26 17:34:14,177 - INFO - URL https://www.eversports.de/s/aerialflow/trainings is not valid.\n",
      "2024-01-26 17:34:14,178 - INFO - Processing URL 4/7: https://www.eversports.de/s/aerialflow/kurse\n",
      "2024-01-26 17:34:15,460 - INFO - URL https://www.eversports.de/s/aerialflow/kurse is not valid.\n",
      "2024-01-26 17:34:15,461 - INFO - Processing URL 5/7: https://www.eversports.de/s/aerialflow/videos\n",
      "2024-01-26 17:34:16,972 - INFO - URL https://www.eversports.de/s/aerialflow/videos is valid.\n",
      "2024-01-26 17:34:16,973 - INFO - Processing URL 6/7: https://www.eversports.de/sp/aerialflow\n",
      "2024-01-26 17:34:18,414 - INFO - URL https://www.eversports.de/sp/aerialflow is valid.\n",
      "2024-01-26 17:34:18,415 - INFO - Processing URL 7/7: https://www.eversports.de/s/aerialflow/team\n",
      "2024-01-26 17:34:19,964 - INFO - URL https://www.eversports.de/s/aerialflow/team is valid.\n"
     ]
    },
    {
     "name": "stdout",
     "output_type": "stream",
     "text": [
      "Scrape Pole Studio Daten von https://www.eversports.de/s/aerialflow...\n",
      "Scrape Klassen Daten von https://www.eversports.de/scl/aerialflow...\n",
      "Scrape Klassen Details von https://www.eversports.de/scl/aerialflow...\n",
      "Verarbeitung abgeschlossen.\n",
      "\n",
      "Ergebnisse für URL: https://www.eversports.de/s/aerialflow\n",
      "Pole Studio Data:\n",
      "\n",
      "\n",
      "Classes Data:\n",
      "\n",
      "\n",
      "Classes Details:\n",
      "\n",
      "\n",
      "Progress: 46.51%\n",
      "\n",
      "Processing URL 261/559\n",
      "Verarbeite URL: https://www.eversports.de/s/Poledancestar\n",
      "Starte URL-Rekonstruktion...\n"
     ]
    },
    {
     "name": "stderr",
     "output_type": "stream",
     "text": [
      "2024-01-26 17:36:37,275 - INFO - Processing URL 1/8: https://www.eversports.de/s/Poledancestar\n"
     ]
    },
    {
     "name": "stdout",
     "output_type": "stream",
     "text": [
      "Konvertiere in DataFrame...\n",
      "Validiere URLs...\n"
     ]
    },
    {
     "name": "stderr",
     "output_type": "stream",
     "text": [
      "2024-01-26 17:36:39,141 - INFO - URL https://www.eversports.de/s/Poledancestar is valid.\n",
      "2024-01-26 17:36:39,142 - INFO - Processing URL 2/8: https://www.eversports.de/scl/Poledancestar\n",
      "2024-01-26 17:36:40,677 - INFO - URL https://www.eversports.de/scl/Poledancestar is valid.\n",
      "2024-01-26 17:36:40,678 - INFO - Processing URL 3/8: https://www.eversports.de/s/Poledancestar/trainings\n",
      "2024-01-26 17:36:42,023 - INFO - URL https://www.eversports.de/s/Poledancestar/trainings is not valid.\n",
      "2024-01-26 17:36:42,024 - INFO - Processing URL 4/8: https://www.eversports.de/s/Poledancestar/kurse\n",
      "2024-01-26 17:36:43,296 - INFO - URL https://www.eversports.de/s/Poledancestar/kurse is not valid.\n",
      "2024-01-26 17:36:43,297 - INFO - Processing URL 5/8: https://www.eversports.de/sw/Poledancestar\n",
      "2024-01-26 17:36:45,493 - INFO - URL https://www.eversports.de/sw/Poledancestar is valid.\n",
      "2024-01-26 17:36:45,494 - INFO - Processing URL 6/8: https://www.eversports.de/s/Poledancestar/videos\n",
      "2024-01-26 17:36:46,920 - INFO - URL https://www.eversports.de/s/Poledancestar/videos is valid.\n",
      "2024-01-26 17:36:46,921 - INFO - Processing URL 7/8: https://www.eversports.de/sp/Poledancestar\n",
      "2024-01-26 17:36:48,334 - INFO - URL https://www.eversports.de/sp/Poledancestar is valid.\n",
      "2024-01-26 17:36:48,335 - INFO - Processing URL 8/8: https://www.eversports.de/s/Poledancestar/team\n",
      "2024-01-26 17:36:49,865 - INFO - URL https://www.eversports.de/s/Poledancestar/team is valid.\n"
     ]
    },
    {
     "name": "stdout",
     "output_type": "stream",
     "text": [
      "Scrape Pole Studio Daten von https://www.eversports.de/s/Poledancestar...\n",
      "Scrape Klassen Daten von https://www.eversports.de/scl/Poledancestar...\n",
      "Scrape Klassen Details von https://www.eversports.de/scl/Poledancestar...\n",
      "Scrape Workshops Daten von https://www.eversports.de/sw/Poledancestar...\n",
      "Scrape Workshop Details von https://www.eversports.de/e/workshop/K-hife3...\n",
      "Scrape Workshop Details von https://www.eversports.de/e/workshop/xaEtNcz...\n",
      "Scrape Workshop Details von https://www.eversports.de/e/workshop/wiYgBoM...\n",
      "Scrape Workshop Details von https://www.eversports.de/e/workshop/6-MAo7Z...\n",
      "Scrape Workshop Details von https://www.eversports.de/e/workshop/GVnc2YT...\n",
      "Scrape Workshop Details von https://www.eversports.de/e/workshop/Une0T_w...\n",
      "Scrape Workshop Details von https://www.eversports.de/e/workshop/59slMW0...\n",
      "Scrape Workshop Details von https://www.eversports.de/e/workshop/FWyv3gp...\n",
      "Scrape Workshop Details von https://www.eversports.de/e/workshop/gdRuiO9...\n",
      "Scrape Workshop Details von https://www.eversports.de/e/workshop/edFh1ih...\n",
      "Scrape Workshop Details von https://www.eversports.de/e/workshop/l467buh...\n",
      "Scrape Workshop Details von https://www.eversports.de/e/workshop/fvmjDvJ...\n",
      "Scrape Workshop Details von https://www.eversports.de/e/workshop/_YEPqgy...\n",
      "Scrape Workshop Details von https://www.eversports.de/e/workshop/J71eKxz...\n",
      "Verarbeitung abgeschlossen.\n",
      "\n",
      "Ergebnisse für URL: https://www.eversports.de/s/Poledancestar\n",
      "Pole Studio Data:\n",
      "\n",
      "\n",
      "Classes Data:\n",
      "\n",
      "\n",
      "Classes Details:\n",
      "\n",
      "\n",
      "Workshops Data:\n",
      "\n",
      "\n",
      "Workshop Details:\n",
      "\n",
      "\n",
      "Progress: 46.69%\n",
      "\n",
      "Processing URL 262/559\n",
      "Verarbeite URL: https://www.eversports.de/s/FEEL-GOOD-FACTORY:-Pole-•-Stretch-•-Fly\n",
      "Starte URL-Rekonstruktion...\n",
      "Error during HTTP request: Exceeded 30 redirects.\n",
      "Konvertiere in DataFrame...\n",
      "Validiere URLs...\n",
      "Verarbeitung abgeschlossen.\n",
      "\n",
      "Ergebnisse für URL: https://www.eversports.de/s/FEEL-GOOD-FACTORY:-Pole-•-Stretch-•-Fly\n",
      "Progress: 46.87%\n",
      "\n",
      "Processing URL 263/559\n",
      "Verarbeite URL: https://www.eversports.de/s/CSS-AERIAL-DANCE-STUDIO\n",
      "Starte URL-Rekonstruktion...\n"
     ]
    },
    {
     "name": "stderr",
     "output_type": "stream",
     "text": [
      "2024-01-26 17:39:40,966 - INFO - Processing URL 1/5: https://www.eversports.de/s/CSS-AERIAL-DANCE-STUDIO\n"
     ]
    },
    {
     "name": "stdout",
     "output_type": "stream",
     "text": [
      "Konvertiere in DataFrame...\n",
      "Validiere URLs...\n"
     ]
    },
    {
     "name": "stderr",
     "output_type": "stream",
     "text": [
      "2024-01-26 17:39:42,813 - INFO - URL https://www.eversports.de/s/CSS-AERIAL-DANCE-STUDIO is valid.\n",
      "2024-01-26 17:39:42,814 - INFO - Processing URL 2/5: https://www.eversports.de/scl/CSS-AERIAL-DANCE-STUDIO\n",
      "2024-01-26 17:39:45,587 - INFO - URL https://www.eversports.de/scl/CSS-AERIAL-DANCE-STUDIO is valid.\n",
      "2024-01-26 17:39:45,589 - INFO - Processing URL 3/5: https://www.eversports.de/s/CSS-AERIAL-DANCE-STUDIO/kurse\n",
      "2024-01-26 17:39:46,838 - INFO - URL https://www.eversports.de/s/CSS-AERIAL-DANCE-STUDIO/kurse is not valid.\n",
      "2024-01-26 17:39:46,839 - INFO - Processing URL 4/5: https://www.eversports.de/sp/CSS-AERIAL-DANCE-STUDIO\n",
      "2024-01-26 17:39:48,178 - INFO - URL https://www.eversports.de/sp/CSS-AERIAL-DANCE-STUDIO is valid.\n",
      "2024-01-26 17:39:48,180 - INFO - Processing URL 5/5: https://www.eversports.de/s/CSS-AERIAL-DANCE-STUDIO/team\n",
      "2024-01-26 17:39:51,255 - INFO - URL https://www.eversports.de/s/CSS-AERIAL-DANCE-STUDIO/team is valid.\n"
     ]
    },
    {
     "name": "stdout",
     "output_type": "stream",
     "text": [
      "Scrape Pole Studio Daten von https://www.eversports.de/s/CSS-AERIAL-DANCE-STUDIO...\n",
      "Scrape Klassen Daten von https://www.eversports.de/scl/CSS-AERIAL-DANCE-STUDIO...\n",
      "Scrape Klassen Details von https://www.eversports.de/scl/CSS-AERIAL-DANCE-STUDIO...\n",
      "Verarbeitung abgeschlossen.\n",
      "\n",
      "Ergebnisse für URL: https://www.eversports.de/s/CSS-AERIAL-DANCE-STUDIO\n",
      "Pole Studio Data:\n",
      "\n",
      "\n",
      "Classes Data:\n",
      "\n",
      "\n",
      "Classes Details:\n",
      "\n",
      "\n",
      "Progress: 47.05%\n",
      "\n",
      "Processing URL 264/559\n",
      "Verarbeite URL: https://www.eversports.de/s/body-meets-soul-leipzig\n",
      "Starte URL-Rekonstruktion...\n"
     ]
    },
    {
     "name": "stderr",
     "output_type": "stream",
     "text": [
      "2024-01-26 17:40:59,210 - INFO - Processing URL 1/6: https://www.eversports.de/s/body-meets-soul-leipzig\n"
     ]
    },
    {
     "name": "stdout",
     "output_type": "stream",
     "text": [
      "Konvertiere in DataFrame...\n",
      "Validiere URLs...\n"
     ]
    },
    {
     "name": "stderr",
     "output_type": "stream",
     "text": [
      "2024-01-26 17:41:00,657 - INFO - URL https://www.eversports.de/s/body-meets-soul-leipzig is valid.\n",
      "2024-01-26 17:41:00,658 - INFO - Processing URL 2/6: https://www.eversports.de/scl/body-meets-soul-leipzig\n",
      "2024-01-26 17:41:02,024 - INFO - URL https://www.eversports.de/scl/body-meets-soul-leipzig is valid.\n",
      "2024-01-26 17:41:02,025 - INFO - Processing URL 3/6: https://www.eversports.de/sw/body-meets-soul-leipzig\n",
      "2024-01-26 17:41:03,376 - INFO - URL https://www.eversports.de/sw/body-meets-soul-leipzig is valid.\n",
      "2024-01-26 17:41:03,377 - INFO - Processing URL 4/6: https://www.eversports.de/s/body-meets-soul-leipzig/videos\n",
      "2024-01-26 17:41:04,767 - INFO - URL https://www.eversports.de/s/body-meets-soul-leipzig/videos is valid.\n",
      "2024-01-26 17:41:04,768 - INFO - Processing URL 5/6: https://www.eversports.de/sp/body-meets-soul-leipzig\n",
      "2024-01-26 17:41:06,139 - INFO - URL https://www.eversports.de/sp/body-meets-soul-leipzig is valid.\n",
      "2024-01-26 17:41:06,140 - INFO - Processing URL 6/6: https://www.eversports.de/s/body-meets-soul-leipzig/team\n",
      "2024-01-26 17:41:07,565 - INFO - URL https://www.eversports.de/s/body-meets-soul-leipzig/team is valid.\n"
     ]
    },
    {
     "name": "stdout",
     "output_type": "stream",
     "text": [
      "Scrape Pole Studio Daten von https://www.eversports.de/s/body-meets-soul-leipzig...\n",
      "Scrape Klassen Daten von https://www.eversports.de/scl/body-meets-soul-leipzig...\n",
      "Scrape Klassen Details von https://www.eversports.de/scl/body-meets-soul-leipzig...\n",
      "Scrape Workshops Daten von https://www.eversports.de/sw/body-meets-soul-leipzig...\n",
      "Scrape Workshop Details von https://www.eversports.de/e/workshop/uO9N1VQ...\n",
      "Verarbeitung abgeschlossen.\n",
      "\n",
      "Ergebnisse für URL: https://www.eversports.de/s/body-meets-soul-leipzig\n",
      "Pole Studio Data:\n",
      "\n",
      "\n",
      "Classes Data:\n",
      "\n",
      "\n",
      "Classes Details:\n",
      "\n",
      "\n",
      "Workshops Data:\n",
      "\n",
      "\n",
      "Workshop Details:\n",
      "\n",
      "\n",
      "Progress: 47.23%\n",
      "\n",
      "Processing URL 265/559\n",
      "Verarbeite URL: https://www.eversports.de/s/dancexotic\n",
      "Starte URL-Rekonstruktion...\n",
      "Error during HTTP request: 404 Client Error: Not Found for url: https://www.eversports.de/s/dancexotic\n",
      "Konvertiere in DataFrame...\n",
      "Validiere URLs...\n",
      "Verarbeitung abgeschlossen.\n",
      "\n",
      "Ergebnisse für URL: https://www.eversports.de/s/dancexotic\n",
      "Progress: 47.41%\n",
      "\n",
      "Processing URL 266/559\n",
      "Verarbeite URL: https://www.eversports.de/s/pole-shape-studio\n",
      "Starte URL-Rekonstruktion...\n",
      "Error during HTTP request: 404 Client Error: Not Found for url: https://www.eversports.de/s/pole-shape-studio\n",
      "Konvertiere in DataFrame...\n",
      "Validiere URLs...\n",
      "Verarbeitung abgeschlossen.\n",
      "\n",
      "Ergebnisse für URL: https://www.eversports.de/s/pole-shape-studio\n",
      "Progress: 47.58%\n",
      "\n",
      "Processing URL 267/559\n",
      "Verarbeite URL: https://www.eversports.de/s/tanzstudio-michel\n",
      "Starte URL-Rekonstruktion...\n"
     ]
    },
    {
     "name": "stderr",
     "output_type": "stream",
     "text": [
      "2024-01-26 17:41:27,347 - INFO - Processing URL 1/4: https://www.eversports.de/s/tanzstudio-michel\n"
     ]
    },
    {
     "name": "stdout",
     "output_type": "stream",
     "text": [
      "Konvertiere in DataFrame...\n",
      "Validiere URLs...\n"
     ]
    },
    {
     "name": "stderr",
     "output_type": "stream",
     "text": [
      "2024-01-26 17:41:28,786 - INFO - URL https://www.eversports.de/s/tanzstudio-michel is valid.\n",
      "2024-01-26 17:41:28,787 - INFO - Processing URL 2/4: https://www.eversports.de/scl/tanzstudio-michel\n",
      "2024-01-26 17:41:30,134 - INFO - URL https://www.eversports.de/scl/tanzstudio-michel is valid.\n",
      "2024-01-26 17:41:30,135 - INFO - Processing URL 3/4: https://www.eversports.de/sp/tanzstudio-michel\n",
      "2024-01-26 17:41:31,493 - INFO - URL https://www.eversports.de/sp/tanzstudio-michel is valid.\n",
      "2024-01-26 17:41:31,494 - INFO - Processing URL 4/4: https://www.eversports.de/s/tanzstudio-michel/team\n",
      "2024-01-26 17:41:32,881 - INFO - URL https://www.eversports.de/s/tanzstudio-michel/team is valid.\n"
     ]
    },
    {
     "name": "stdout",
     "output_type": "stream",
     "text": [
      "Scrape Pole Studio Daten von https://www.eversports.de/s/tanzstudio-michel...\n",
      "Scrape Klassen Daten von https://www.eversports.de/scl/tanzstudio-michel...\n",
      "Scrape Klassen Details von https://www.eversports.de/scl/tanzstudio-michel...\n",
      "Verarbeitung abgeschlossen.\n",
      "\n",
      "Ergebnisse für URL: https://www.eversports.de/s/tanzstudio-michel\n",
      "Pole Studio Data:\n",
      "\n",
      "\n",
      "Classes Data:\n",
      "\n",
      "\n",
      "Classes Details:\n",
      "\n",
      "\n",
      "Progress: 47.76%\n",
      "\n",
      "Processing URL 268/559\n",
      "Verarbeite URL: https://www.eversports.de/s/Divapole\n",
      "Starte URL-Rekonstruktion...\n"
     ]
    },
    {
     "name": "stderr",
     "output_type": "stream",
     "text": [
      "2024-01-26 17:42:14,395 - INFO - Processing URL 1/4: https://www.eversports.de/s/Divapole\n"
     ]
    },
    {
     "name": "stdout",
     "output_type": "stream",
     "text": [
      "Konvertiere in DataFrame...\n",
      "Validiere URLs...\n"
     ]
    },
    {
     "name": "stderr",
     "output_type": "stream",
     "text": [
      "2024-01-26 17:42:16,583 - INFO - URL https://www.eversports.de/s/Divapole is valid.\n",
      "2024-01-26 17:42:16,584 - INFO - Processing URL 2/4: https://www.eversports.de/s/Divapole/trainings\n",
      "2024-01-26 17:42:17,818 - INFO - URL https://www.eversports.de/s/Divapole/trainings is not valid.\n",
      "2024-01-26 17:42:17,819 - INFO - Processing URL 3/4: https://www.eversports.de/sp/Divapole\n",
      "2024-01-26 17:42:19,126 - INFO - URL https://www.eversports.de/sp/Divapole is valid.\n",
      "2024-01-26 17:42:19,127 - INFO - Processing URL 4/4: https://www.eversports.de/s/Divapole/team\n",
      "2024-01-26 17:42:20,561 - INFO - URL https://www.eversports.de/s/Divapole/team is valid.\n"
     ]
    },
    {
     "name": "stdout",
     "output_type": "stream",
     "text": [
      "Scrape Pole Studio Daten von https://www.eversports.de/s/Divapole...\n",
      "Verarbeitung abgeschlossen.\n",
      "\n",
      "Ergebnisse für URL: https://www.eversports.de/s/Divapole\n",
      "Pole Studio Data:\n",
      "\n",
      "\n",
      "Progress: 47.94%\n",
      "\n",
      "Processing URL 269/559\n",
      "Verarbeite URL: https://www.eversports.de/s/soul-flight\n",
      "Starte URL-Rekonstruktion...\n"
     ]
    },
    {
     "name": "stderr",
     "output_type": "stream",
     "text": [
      "2024-01-26 17:42:22,788 - INFO - Processing URL 1/1: https://www.eversports.de/s/soul-flight\n"
     ]
    },
    {
     "name": "stdout",
     "output_type": "stream",
     "text": [
      "Konvertiere in DataFrame...\n",
      "Validiere URLs...\n"
     ]
    },
    {
     "name": "stderr",
     "output_type": "stream",
     "text": [
      "2024-01-26 17:42:24,239 - INFO - URL https://www.eversports.de/s/soul-flight is valid.\n"
     ]
    },
    {
     "name": "stdout",
     "output_type": "stream",
     "text": [
      "Scrape Pole Studio Daten von https://www.eversports.de/s/soul-flight...\n",
      "Verarbeitung abgeschlossen.\n",
      "\n",
      "Ergebnisse für URL: https://www.eversports.de/s/soul-flight\n",
      "Pole Studio Data:\n",
      "\n",
      "\n",
      "Progress: 48.12%\n",
      "\n",
      "Processing URL 270/559\n",
      "Verarbeite URL: https://www.eversports.de/s/Pole-for-Soul-GbR\n",
      "Starte URL-Rekonstruktion...\n"
     ]
    },
    {
     "name": "stderr",
     "output_type": "stream",
     "text": [
      "2024-01-26 17:42:26,283 - INFO - Processing URL 1/4: https://www.eversports.de/s/Pole-for-Soul-GbR\n"
     ]
    },
    {
     "name": "stdout",
     "output_type": "stream",
     "text": [
      "Konvertiere in DataFrame...\n",
      "Validiere URLs...\n"
     ]
    },
    {
     "name": "stderr",
     "output_type": "stream",
     "text": [
      "2024-01-26 17:42:27,781 - INFO - URL https://www.eversports.de/s/Pole-for-Soul-GbR is valid.\n",
      "2024-01-26 17:42:27,782 - INFO - Processing URL 2/4: https://www.eversports.de/scl/Pole-for-Soul-GbR\n",
      "2024-01-26 17:42:29,102 - INFO - URL https://www.eversports.de/scl/Pole-for-Soul-GbR is valid.\n",
      "2024-01-26 17:42:29,103 - INFO - Processing URL 3/4: https://www.eversports.de/s/Pole-for-Soul-GbR/videos\n",
      "2024-01-26 17:42:30,474 - INFO - URL https://www.eversports.de/s/Pole-for-Soul-GbR/videos is valid.\n",
      "2024-01-26 17:42:30,475 - INFO - Processing URL 4/4: https://www.eversports.de/s/Pole-for-Soul-GbR/team\n",
      "2024-01-26 17:42:33,748 - INFO - URL https://www.eversports.de/s/Pole-for-Soul-GbR/team is valid.\n"
     ]
    },
    {
     "name": "stdout",
     "output_type": "stream",
     "text": [
      "Scrape Pole Studio Daten von https://www.eversports.de/s/Pole-for-Soul-GbR...\n",
      "Scrape Klassen Daten von https://www.eversports.de/scl/Pole-for-Soul-GbR...\n",
      "Scrape Klassen Details von https://www.eversports.de/scl/Pole-for-Soul-GbR...\n",
      "Verarbeitung abgeschlossen.\n",
      "\n",
      "Ergebnisse für URL: https://www.eversports.de/s/Pole-for-Soul-GbR\n",
      "Pole Studio Data:\n",
      "\n",
      "\n",
      "Classes Data:\n",
      "\n",
      "\n",
      "Classes Details:\n",
      "\n",
      "\n",
      "Progress: 48.30%\n",
      "\n",
      "Processing URL 271/559\n",
      "Verarbeite URL: https://www.eversports.de/s/Poleaddict\n",
      "Starte URL-Rekonstruktion...\n"
     ]
    },
    {
     "name": "stderr",
     "output_type": "stream",
     "text": [
      "2024-01-26 17:43:36,752 - INFO - Processing URL 1/4: https://www.eversports.de/s/Poleaddict\n"
     ]
    },
    {
     "name": "stdout",
     "output_type": "stream",
     "text": [
      "Konvertiere in DataFrame...\n",
      "Validiere URLs...\n"
     ]
    },
    {
     "name": "stderr",
     "output_type": "stream",
     "text": [
      "2024-01-26 17:43:38,322 - INFO - URL https://www.eversports.de/s/Poleaddict is valid.\n",
      "2024-01-26 17:43:38,323 - INFO - Processing URL 2/4: https://www.eversports.de/scl/Poleaddict\n",
      "2024-01-26 17:43:39,676 - INFO - URL https://www.eversports.de/scl/Poleaddict is valid.\n",
      "2024-01-26 17:43:39,677 - INFO - Processing URL 3/4: https://www.eversports.de/sp/Poleaddict\n",
      "2024-01-26 17:43:41,047 - INFO - URL https://www.eversports.de/sp/Poleaddict is valid.\n",
      "2024-01-26 17:43:41,048 - INFO - Processing URL 4/4: https://www.eversports.de/s/Poleaddict/team\n",
      "2024-01-26 17:43:42,601 - INFO - URL https://www.eversports.de/s/Poleaddict/team is valid.\n"
     ]
    },
    {
     "name": "stdout",
     "output_type": "stream",
     "text": [
      "Scrape Pole Studio Daten von https://www.eversports.de/s/Poleaddict...\n",
      "Scrape Klassen Daten von https://www.eversports.de/scl/Poleaddict...\n",
      "Verarbeitung abgeschlossen.\n",
      "\n",
      "Ergebnisse für URL: https://www.eversports.de/s/Poleaddict\n",
      "Pole Studio Data:\n",
      "\n",
      "\n",
      "Progress: 48.48%\n",
      "\n",
      "Processing URL 272/559\n",
      "Verarbeite URL: https://www.eversports.de/s/Janine-Hollung\n",
      "Starte URL-Rekonstruktion...\n"
     ]
    },
    {
     "name": "stderr",
     "output_type": "stream",
     "text": [
      "2024-01-26 17:43:46,131 - INFO - Processing URL 1/6: https://www.eversports.de/s/Janine-Hollung\n"
     ]
    },
    {
     "name": "stdout",
     "output_type": "stream",
     "text": [
      "Konvertiere in DataFrame...\n",
      "Validiere URLs...\n"
     ]
    },
    {
     "name": "stderr",
     "output_type": "stream",
     "text": [
      "2024-01-26 17:43:47,681 - INFO - URL https://www.eversports.de/s/Janine-Hollung is valid.\n",
      "2024-01-26 17:43:47,682 - INFO - Processing URL 2/6: https://www.eversports.de/scl/Janine-Hollung\n",
      "2024-01-26 17:43:49,037 - INFO - URL https://www.eversports.de/scl/Janine-Hollung is valid.\n",
      "2024-01-26 17:43:49,038 - INFO - Processing URL 3/6: https://www.eversports.de/s/Janine-Hollung/kurse\n",
      "2024-01-26 17:43:50,321 - INFO - URL https://www.eversports.de/s/Janine-Hollung/kurse is not valid.\n",
      "2024-01-26 17:43:50,322 - INFO - Processing URL 4/6: https://www.eversports.de/s/Janine-Hollung/videos\n",
      "2024-01-26 17:43:51,674 - INFO - URL https://www.eversports.de/s/Janine-Hollung/videos is valid.\n",
      "2024-01-26 17:43:51,675 - INFO - Processing URL 5/6: https://www.eversports.de/sp/Janine-Hollung\n",
      "2024-01-26 17:43:53,003 - INFO - URL https://www.eversports.de/sp/Janine-Hollung is valid.\n",
      "2024-01-26 17:43:53,004 - INFO - Processing URL 6/6: https://www.eversports.de/s/Janine-Hollung/team\n",
      "2024-01-26 17:43:54,549 - INFO - URL https://www.eversports.de/s/Janine-Hollung/team is valid.\n"
     ]
    },
    {
     "name": "stdout",
     "output_type": "stream",
     "text": [
      "Scrape Pole Studio Daten von https://www.eversports.de/s/Janine-Hollung...\n",
      "Scrape Klassen Daten von https://www.eversports.de/scl/Janine-Hollung...\n",
      "Scrape Klassen Details von https://www.eversports.de/scl/Janine-Hollung...\n",
      "Verarbeitung abgeschlossen.\n",
      "\n",
      "Ergebnisse für URL: https://www.eversports.de/s/Janine-Hollung\n",
      "Pole Studio Data:\n",
      "\n",
      "\n",
      "Classes Data:\n",
      "\n",
      "\n",
      "Classes Details:\n",
      "\n",
      "\n",
      "Progress: 48.66%\n",
      "\n",
      "Processing URL 273/559\n",
      "Verarbeite URL: https://www.eversports.de/s/Pole-Paradise\n",
      "Starte URL-Rekonstruktion...\n"
     ]
    },
    {
     "name": "stderr",
     "output_type": "stream",
     "text": [
      "2024-01-26 17:44:26,825 - INFO - Processing URL 1/6: https://www.eversports.de/s/Pole-Paradise\n"
     ]
    },
    {
     "name": "stdout",
     "output_type": "stream",
     "text": [
      "Konvertiere in DataFrame...\n",
      "Validiere URLs...\n"
     ]
    },
    {
     "name": "stderr",
     "output_type": "stream",
     "text": [
      "2024-01-26 17:44:28,461 - INFO - URL https://www.eversports.de/s/Pole-Paradise is valid.\n",
      "2024-01-26 17:44:28,462 - INFO - Processing URL 2/6: https://www.eversports.de/scl/Pole-Paradise\n",
      "2024-01-26 17:44:29,984 - INFO - URL https://www.eversports.de/scl/Pole-Paradise is valid.\n",
      "2024-01-26 17:44:29,985 - INFO - Processing URL 3/6: https://www.eversports.de/sw/Pole-Paradise\n",
      "2024-01-26 17:44:31,374 - INFO - URL https://www.eversports.de/sw/Pole-Paradise is valid.\n",
      "2024-01-26 17:44:31,375 - INFO - Processing URL 4/6: https://www.eversports.de/s/Pole-Paradise/videos\n",
      "2024-01-26 17:44:32,707 - INFO - URL https://www.eversports.de/s/Pole-Paradise/videos is valid.\n",
      "2024-01-26 17:44:32,708 - INFO - Processing URL 5/6: https://www.eversports.de/sp/Pole-Paradise\n",
      "2024-01-26 17:44:34,104 - INFO - URL https://www.eversports.de/sp/Pole-Paradise is valid.\n",
      "2024-01-26 17:44:34,106 - INFO - Processing URL 6/6: https://www.eversports.de/s/Pole-Paradise/team\n",
      "2024-01-26 17:44:35,611 - INFO - URL https://www.eversports.de/s/Pole-Paradise/team is valid.\n"
     ]
    },
    {
     "name": "stdout",
     "output_type": "stream",
     "text": [
      "Scrape Pole Studio Daten von https://www.eversports.de/s/Pole-Paradise...\n",
      "Scrape Klassen Daten von https://www.eversports.de/scl/Pole-Paradise...\n",
      "Scrape Klassen Details von https://www.eversports.de/scl/Pole-Paradise...\n",
      "Scrape Workshops Daten von https://www.eversports.de/sw/Pole-Paradise...\n",
      "Scrape Workshop Details von https://www.eversports.de/e/workshop/1zI8wYx...\n",
      "Scrape Workshop Details von https://www.eversports.de/e/workshop/NLk1782...\n",
      "Verarbeitung abgeschlossen.\n",
      "\n",
      "Ergebnisse für URL: https://www.eversports.de/s/Pole-Paradise\n",
      "Pole Studio Data:\n",
      "\n",
      "\n",
      "Classes Data:\n",
      "\n",
      "\n",
      "Classes Details:\n",
      "\n",
      "\n",
      "Workshops Data:\n",
      "\n",
      "\n",
      "Workshop Details:\n",
      "\n",
      "\n",
      "Progress: 48.84%\n",
      "\n",
      "Processing URL 274/559\n",
      "Verarbeite URL: https://www.eversports.de/s/Pole-and-Move-Online-Studio\n",
      "Starte URL-Rekonstruktion...\n"
     ]
    },
    {
     "name": "stderr",
     "output_type": "stream",
     "text": [
      "2024-01-26 17:46:42,263 - INFO - Processing URL 1/5: https://www.eversports.de/s/Pole-and-Move-Online-Studio\n"
     ]
    },
    {
     "name": "stdout",
     "output_type": "stream",
     "text": [
      "Konvertiere in DataFrame...\n",
      "Validiere URLs...\n"
     ]
    },
    {
     "name": "stderr",
     "output_type": "stream",
     "text": [
      "2024-01-26 17:46:43,868 - INFO - URL https://www.eversports.de/s/Pole-and-Move-Online-Studio is valid.\n",
      "2024-01-26 17:46:43,870 - INFO - Processing URL 2/5: https://www.eversports.de/scl/Pole-and-Move-Online-Studio\n",
      "2024-01-26 17:46:46,496 - INFO - URL https://www.eversports.de/scl/Pole-and-Move-Online-Studio is valid.\n",
      "2024-01-26 17:46:46,497 - INFO - Processing URL 3/5: https://www.eversports.de/s/Pole-and-Move-Online-Studio/videos\n",
      "2024-01-26 17:46:47,847 - INFO - URL https://www.eversports.de/s/Pole-and-Move-Online-Studio/videos is valid.\n",
      "2024-01-26 17:46:47,848 - INFO - Processing URL 4/5: https://www.eversports.de/sp/Pole-and-Move-Online-Studio\n",
      "2024-01-26 17:46:49,192 - INFO - URL https://www.eversports.de/sp/Pole-and-Move-Online-Studio is valid.\n",
      "2024-01-26 17:46:49,193 - INFO - Processing URL 5/5: https://www.eversports.de/s/Pole-and-Move-Online-Studio/team\n",
      "2024-01-26 17:46:52,202 - INFO - URL https://www.eversports.de/s/Pole-and-Move-Online-Studio/team is valid.\n"
     ]
    },
    {
     "name": "stdout",
     "output_type": "stream",
     "text": [
      "Scrape Pole Studio Daten von https://www.eversports.de/s/Pole-and-Move-Online-Studio...\n",
      "Scrape Klassen Daten von https://www.eversports.de/scl/Pole-and-Move-Online-Studio...\n",
      "Scrape Klassen Details von https://www.eversports.de/scl/Pole-and-Move-Online-Studio...\n",
      "Verarbeitung abgeschlossen.\n",
      "\n",
      "Ergebnisse für URL: https://www.eversports.de/s/Pole-and-Move-Online-Studio\n",
      "Pole Studio Data:\n",
      "\n",
      "\n",
      "Classes Data:\n",
      "\n",
      "\n",
      "Classes Details:\n",
      "\n",
      "\n",
      "Progress: 49.02%\n",
      "\n",
      "Processing URL 275/559\n",
      "Verarbeite URL: https://www.eversports.de/s/studio-yh-pole-(and)-sports-berlin\n",
      "Starte URL-Rekonstruktion...\n",
      "Error during HTTP request: 404 Client Error: Not Found for url: https://www.eversports.de/s/studio-yh-pole-(and)-sports-berlin\n",
      "Konvertiere in DataFrame...\n",
      "Validiere URLs...\n",
      "Verarbeitung abgeschlossen.\n",
      "\n",
      "Ergebnisse für URL: https://www.eversports.de/s/studio-yh-pole-(and)-sports-berlin\n",
      "Progress: 49.19%\n",
      "\n",
      "Processing URL 276/559\n",
      "Verarbeite URL: https://www.eversports.de/s/PoleFit-Aline-Sustrath\n",
      "Starte URL-Rekonstruktion...\n"
     ]
    },
    {
     "name": "stderr",
     "output_type": "stream",
     "text": [
      "2024-01-26 17:47:38,078 - INFO - Processing URL 1/6: https://www.eversports.de/s/PoleFit-Aline-Sustrath\n"
     ]
    },
    {
     "name": "stdout",
     "output_type": "stream",
     "text": [
      "Konvertiere in DataFrame...\n",
      "Validiere URLs...\n"
     ]
    },
    {
     "name": "stderr",
     "output_type": "stream",
     "text": [
      "2024-01-26 17:47:39,610 - INFO - URL https://www.eversports.de/s/PoleFit-Aline-Sustrath is valid.\n",
      "2024-01-26 17:47:39,612 - INFO - Processing URL 2/6: https://www.eversports.de/scl/PoleFit-Aline-Sustrath\n",
      "2024-01-26 17:47:40,946 - INFO - URL https://www.eversports.de/scl/PoleFit-Aline-Sustrath is valid.\n",
      "2024-01-26 17:47:40,947 - INFO - Processing URL 3/6: https://www.eversports.de/s/PoleFit-Aline-Sustrath/kurse\n",
      "2024-01-26 17:47:42,350 - INFO - URL https://www.eversports.de/s/PoleFit-Aline-Sustrath/kurse is not valid.\n",
      "2024-01-26 17:47:42,351 - INFO - Processing URL 4/6: https://www.eversports.de/sw/PoleFit-Aline-Sustrath\n",
      "2024-01-26 17:47:43,734 - INFO - URL https://www.eversports.de/sw/PoleFit-Aline-Sustrath is valid.\n",
      "2024-01-26 17:47:43,735 - INFO - Processing URL 5/6: https://www.eversports.de/sp/PoleFit-Aline-Sustrath\n",
      "2024-01-26 17:47:45,352 - INFO - URL https://www.eversports.de/sp/PoleFit-Aline-Sustrath is valid.\n",
      "2024-01-26 17:47:45,353 - INFO - Processing URL 6/6: https://www.eversports.de/s/PoleFit-Aline-Sustrath/team\n",
      "2024-01-26 17:47:46,880 - INFO - URL https://www.eversports.de/s/PoleFit-Aline-Sustrath/team is valid.\n"
     ]
    },
    {
     "name": "stdout",
     "output_type": "stream",
     "text": [
      "Scrape Pole Studio Daten von https://www.eversports.de/s/PoleFit-Aline-Sustrath...\n",
      "Scrape Klassen Daten von https://www.eversports.de/scl/PoleFit-Aline-Sustrath...\n",
      "Scrape Klassen Details von https://www.eversports.de/scl/PoleFit-Aline-Sustrath...\n",
      "Scrape Workshops Daten von https://www.eversports.de/sw/PoleFit-Aline-Sustrath...\n",
      "Scrape Workshop Details von https://www.eversports.de/e/workshop/VKmdxO2...\n",
      "Scrape Workshop Details von https://www.eversports.de/e/workshop/F0nh2br...\n",
      "Verarbeitung abgeschlossen.\n",
      "\n",
      "Ergebnisse für URL: https://www.eversports.de/s/PoleFit-Aline-Sustrath\n",
      "Pole Studio Data:\n",
      "\n",
      "\n",
      "Classes Data:\n",
      "\n",
      "\n",
      "Classes Details:\n",
      "\n",
      "\n",
      "Workshops Data:\n",
      "\n",
      "\n",
      "Workshop Details:\n",
      "\n",
      "\n",
      "Progress: 49.37%\n",
      "\n",
      "Processing URL 277/559\n",
      "Verarbeite URL: https://www.eversports.de/s/poleart_inspiration\n",
      "Starte URL-Rekonstruktion...\n"
     ]
    },
    {
     "name": "stderr",
     "output_type": "stream",
     "text": [
      "2024-01-26 17:48:35,565 - INFO - Processing URL 1/1: https://www.eversports.de/s/poleart_inspiration\n"
     ]
    },
    {
     "name": "stdout",
     "output_type": "stream",
     "text": [
      "Konvertiere in DataFrame...\n",
      "Validiere URLs...\n"
     ]
    },
    {
     "name": "stderr",
     "output_type": "stream",
     "text": [
      "2024-01-26 17:48:36,941 - INFO - URL https://www.eversports.de/s/poleart_inspiration is valid.\n"
     ]
    },
    {
     "name": "stdout",
     "output_type": "stream",
     "text": [
      "Scrape Pole Studio Daten von https://www.eversports.de/s/poleart_inspiration...\n",
      "Verarbeitung abgeschlossen.\n",
      "\n",
      "Ergebnisse für URL: https://www.eversports.de/s/poleart_inspiration\n",
      "Pole Studio Data:\n",
      "\n",
      "\n",
      "Progress: 49.55%\n",
      "\n",
      "Processing URL 278/559\n",
      "Verarbeite URL: https://www.eversports.de/s/metropole-dance---now1\n",
      "Starte URL-Rekonstruktion...\n",
      "Error during HTTP request: 404 Client Error: Not Found for url: https://www.eversports.de/s/metropole-dance---now1\n",
      "Konvertiere in DataFrame...\n",
      "Validiere URLs...\n",
      "Verarbeitung abgeschlossen.\n",
      "\n",
      "Ergebnisse für URL: https://www.eversports.de/s/metropole-dance---now1\n",
      "Progress: 49.73%\n",
      "\n",
      "Processing URL 279/559\n",
      "Verarbeite URL: https://www.eversports.de/s/les.pole\n",
      "Starte URL-Rekonstruktion...\n",
      "Error during HTTP request: 404 Client Error: Not Found for url: https://www.eversports.de/s/les.pole\n",
      "Konvertiere in DataFrame...\n",
      "Validiere URLs...\n",
      "Verarbeitung abgeschlossen.\n",
      "\n",
      "Ergebnisse für URL: https://www.eversports.de/s/les.pole\n",
      "Progress: 49.91%\n",
      "\n",
      "Processing URL 280/559\n",
      "Verarbeite URL: https://www.eversports.de/s/das-tanz-center\n",
      "Starte URL-Rekonstruktion...\n",
      "Error during HTTP request: 404 Client Error: Not Found for url: https://www.eversports.de/s/das-tanz-center\n",
      "Konvertiere in DataFrame...\n",
      "Validiere URLs...\n",
      "Verarbeitung abgeschlossen.\n",
      "\n",
      "Ergebnisse für URL: https://www.eversports.de/s/das-tanz-center\n",
      "Progress: 50.09%\n",
      "\n",
      "Processing URL 281/559\n",
      "Verarbeite URL: https://www.eversports.de/s/a-heart-for-poledance\n",
      "Starte URL-Rekonstruktion...\n"
     ]
    },
    {
     "name": "stderr",
     "output_type": "stream",
     "text": [
      "2024-01-26 17:48:43,140 - INFO - Processing URL 1/1: https://www.eversports.de/s/a-heart-for-poledance\n"
     ]
    },
    {
     "name": "stdout",
     "output_type": "stream",
     "text": [
      "Konvertiere in DataFrame...\n",
      "Validiere URLs...\n"
     ]
    },
    {
     "name": "stderr",
     "output_type": "stream",
     "text": [
      "2024-01-26 17:48:45,097 - INFO - URL https://www.eversports.de/s/a-heart-for-poledance is valid.\n"
     ]
    },
    {
     "name": "stdout",
     "output_type": "stream",
     "text": [
      "Scrape Pole Studio Daten von https://www.eversports.de/s/a-heart-for-poledance...\n",
      "Verarbeitung abgeschlossen.\n",
      "\n",
      "Ergebnisse für URL: https://www.eversports.de/s/a-heart-for-poledance\n",
      "Pole Studio Data:\n",
      "\n",
      "\n",
      "Progress: 50.27%\n",
      "\n",
      "Processing URL 282/559\n",
      "Verarbeite URL: https://www.eversports.de/s/ramonas-tanzschmiede\n",
      "Starte URL-Rekonstruktion...\n"
     ]
    },
    {
     "name": "stderr",
     "output_type": "stream",
     "text": [
      "2024-01-26 17:48:47,455 - INFO - Processing URL 1/5: https://www.eversports.de/s/ramonas-tanzschmiede\n"
     ]
    },
    {
     "name": "stdout",
     "output_type": "stream",
     "text": [
      "Konvertiere in DataFrame...\n",
      "Validiere URLs...\n"
     ]
    },
    {
     "name": "stderr",
     "output_type": "stream",
     "text": [
      "2024-01-26 17:48:48,977 - INFO - URL https://www.eversports.de/s/ramonas-tanzschmiede is valid.\n",
      "2024-01-26 17:48:48,978 - INFO - Processing URL 2/5: https://www.eversports.de/scl/ramonas-tanzschmiede\n",
      "2024-01-26 17:48:50,452 - INFO - URL https://www.eversports.de/scl/ramonas-tanzschmiede is valid.\n",
      "2024-01-26 17:48:50,453 - INFO - Processing URL 3/5: https://www.eversports.de/sw/ramonas-tanzschmiede\n",
      "2024-01-26 17:48:52,152 - INFO - URL https://www.eversports.de/sw/ramonas-tanzschmiede is valid.\n",
      "2024-01-26 17:48:52,153 - INFO - Processing URL 4/5: https://www.eversports.de/sp/ramonas-tanzschmiede\n",
      "2024-01-26 17:48:53,601 - INFO - URL https://www.eversports.de/sp/ramonas-tanzschmiede is valid.\n",
      "2024-01-26 17:48:53,602 - INFO - Processing URL 5/5: https://www.eversports.de/s/ramonas-tanzschmiede/team\n",
      "2024-01-26 17:48:55,614 - INFO - URL https://www.eversports.de/s/ramonas-tanzschmiede/team is valid.\n"
     ]
    },
    {
     "name": "stdout",
     "output_type": "stream",
     "text": [
      "Scrape Pole Studio Daten von https://www.eversports.de/s/ramonas-tanzschmiede...\n",
      "Scrape Klassen Daten von https://www.eversports.de/scl/ramonas-tanzschmiede...\n",
      "Scrape Klassen Details von https://www.eversports.de/scl/ramonas-tanzschmiede...\n",
      "Scrape Workshops Daten von https://www.eversports.de/sw/ramonas-tanzschmiede...\n",
      "Scrape Workshop Details von https://www.eversports.de/e/workshop/qpLF3tB...\n",
      "Scrape Workshop Details von https://www.eversports.de/e/workshop/NUbP_o2...\n",
      "Scrape Workshop Details von https://www.eversports.de/e/workshop/h6T780l...\n",
      "Scrape Workshop Details von https://www.eversports.de/e/workshop/HZmJGaW...\n",
      "Verarbeitung abgeschlossen.\n",
      "\n",
      "Ergebnisse für URL: https://www.eversports.de/s/ramonas-tanzschmiede\n",
      "Pole Studio Data:\n",
      "\n",
      "\n",
      "Classes Data:\n",
      "\n",
      "\n",
      "Classes Details:\n",
      "\n",
      "\n",
      "Workshops Data:\n",
      "\n",
      "\n",
      "Workshop Details:\n",
      "\n",
      "\n",
      "Progress: 50.45%\n",
      "\n",
      "Processing URL 283/559\n",
      "Verarbeite URL: https://www.eversports.de/s/pole-flow-berlin\n",
      "Starte URL-Rekonstruktion...\n"
     ]
    },
    {
     "name": "stderr",
     "output_type": "stream",
     "text": [
      "2024-01-26 17:50:45,349 - INFO - Processing URL 1/1: https://www.eversports.de/s/pole-flow-berlin\n"
     ]
    },
    {
     "name": "stdout",
     "output_type": "stream",
     "text": [
      "Konvertiere in DataFrame...\n",
      "Validiere URLs...\n"
     ]
    },
    {
     "name": "stderr",
     "output_type": "stream",
     "text": [
      "2024-01-26 17:50:46,713 - INFO - URL https://www.eversports.de/s/pole-flow-berlin is valid.\n"
     ]
    },
    {
     "name": "stdout",
     "output_type": "stream",
     "text": [
      "Scrape Pole Studio Daten von https://www.eversports.de/s/pole-flow-berlin...\n",
      "Verarbeitung abgeschlossen.\n",
      "\n",
      "Ergebnisse für URL: https://www.eversports.de/s/pole-flow-berlin\n",
      "Pole Studio Data:\n",
      "\n",
      "\n",
      "Progress: 50.63%\n",
      "\n",
      "Processing URL 284/559\n",
      "Verarbeite URL: https://www.eversports.de/s/Lift-Off-–-Poledance-Academy\n",
      "Starte URL-Rekonstruktion...\n",
      "Error during HTTP request: Exceeded 30 redirects.\n",
      "Konvertiere in DataFrame...\n",
      "Validiere URLs...\n",
      "Verarbeitung abgeschlossen.\n",
      "\n",
      "Ergebnisse für URL: https://www.eversports.de/s/Lift-Off-–-Poledance-Academy\n",
      "Progress: 50.81%\n",
      "\n",
      "Processing URL 285/559\n",
      "Verarbeite URL: https://www.eversports.de/s/infinity-polesports-eggenfelden\n",
      "Starte URL-Rekonstruktion...\n"
     ]
    },
    {
     "name": "stderr",
     "output_type": "stream",
     "text": [
      "2024-01-26 17:50:52,311 - INFO - Processing URL 1/1: https://www.eversports.de/s/infinity-polesports-eggenfelden\n"
     ]
    },
    {
     "name": "stdout",
     "output_type": "stream",
     "text": [
      "Konvertiere in DataFrame...\n",
      "Validiere URLs...\n"
     ]
    },
    {
     "name": "stderr",
     "output_type": "stream",
     "text": [
      "2024-01-26 17:50:53,766 - INFO - URL https://www.eversports.de/s/infinity-polesports-eggenfelden is valid.\n"
     ]
    },
    {
     "name": "stdout",
     "output_type": "stream",
     "text": [
      "Scrape Pole Studio Daten von https://www.eversports.de/s/infinity-polesports-eggenfelden...\n",
      "Verarbeitung abgeschlossen.\n",
      "\n",
      "Ergebnisse für URL: https://www.eversports.de/s/infinity-polesports-eggenfelden\n",
      "Pole Studio Data:\n",
      "\n",
      "\n",
      "Progress: 50.98%\n",
      "\n",
      "Processing URL 286/559\n",
      "Verarbeite URL: https://www.eversports.de/s/pole-stars-osnabr%C3%BCck\n",
      "Starte URL-Rekonstruktion...\n",
      "Error during HTTP request: Exceeded 30 redirects.\n",
      "Konvertiere in DataFrame...\n",
      "Validiere URLs...\n",
      "Verarbeitung abgeschlossen.\n",
      "\n",
      "Ergebnisse für URL: https://www.eversports.de/s/pole-stars-osnabr%C3%BCck\n",
      "Progress: 51.16%\n",
      "\n",
      "Processing URL 287/559\n",
      "Verarbeite URL: https://www.eversports.de/s/pole-%26-aerial-dance-g%C3%B6ttingen\n",
      "Starte URL-Rekonstruktion...\n",
      "Error during HTTP request: Exceeded 30 redirects.\n",
      "Konvertiere in DataFrame...\n",
      "Validiere URLs...\n",
      "Verarbeitung abgeschlossen.\n",
      "\n",
      "Ergebnisse für URL: https://www.eversports.de/s/pole-%26-aerial-dance-g%C3%B6ttingen\n",
      "Progress: 51.34%\n",
      "\n",
      "Processing URL 288/559\n",
      "Verarbeite URL: https://www.eversports.de/s/dance-and-pole-deltawerk\n",
      "Starte URL-Rekonstruktion...\n"
     ]
    },
    {
     "name": "stderr",
     "output_type": "stream",
     "text": [
      "2024-01-26 17:51:05,987 - INFO - Processing URL 1/4: https://www.eversports.de/s/dance-and-pole-deltawerk\n"
     ]
    },
    {
     "name": "stdout",
     "output_type": "stream",
     "text": [
      "Konvertiere in DataFrame...\n",
      "Validiere URLs...\n"
     ]
    },
    {
     "name": "stderr",
     "output_type": "stream",
     "text": [
      "2024-01-26 17:51:07,416 - INFO - URL https://www.eversports.de/s/dance-and-pole-deltawerk is valid.\n",
      "2024-01-26 17:51:07,417 - INFO - Processing URL 2/4: https://www.eversports.de/scl/dance-and-pole-deltawerk\n",
      "2024-01-26 17:51:08,813 - INFO - URL https://www.eversports.de/scl/dance-and-pole-deltawerk is valid.\n",
      "2024-01-26 17:51:08,814 - INFO - Processing URL 3/4: https://www.eversports.de/sp/dance-and-pole-deltawerk\n",
      "2024-01-26 17:51:10,198 - INFO - URL https://www.eversports.de/sp/dance-and-pole-deltawerk is valid.\n",
      "2024-01-26 17:51:10,199 - INFO - Processing URL 4/4: https://www.eversports.de/s/dance-and-pole-deltawerk/team\n",
      "2024-01-26 17:51:11,606 - INFO - URL https://www.eversports.de/s/dance-and-pole-deltawerk/team is valid.\n"
     ]
    },
    {
     "name": "stdout",
     "output_type": "stream",
     "text": [
      "Scrape Pole Studio Daten von https://www.eversports.de/s/dance-and-pole-deltawerk...\n",
      "Scrape Klassen Daten von https://www.eversports.de/scl/dance-and-pole-deltawerk...\n",
      "Scrape Klassen Details von https://www.eversports.de/scl/dance-and-pole-deltawerk...\n",
      "Verarbeitung abgeschlossen.\n",
      "\n",
      "Ergebnisse für URL: https://www.eversports.de/s/dance-and-pole-deltawerk\n",
      "Pole Studio Data:\n",
      "\n",
      "\n",
      "Classes Data:\n",
      "\n",
      "\n",
      "Classes Details:\n",
      "\n",
      "\n",
      "Progress: 51.52%\n",
      "\n",
      "Processing URL 289/559\n",
      "Verarbeite URL: https://www.eversports.de/s/schwerelos-Münster\n",
      "Starte URL-Rekonstruktion...\n",
      "Error during HTTP request: Exceeded 30 redirects.\n",
      "Konvertiere in DataFrame...\n",
      "Validiere URLs...\n",
      "Verarbeitung abgeschlossen.\n",
      "\n",
      "Ergebnisse für URL: https://www.eversports.de/s/schwerelos-Münster\n",
      "Progress: 51.70%\n",
      "\n",
      "Processing URL 290/559\n",
      "Verarbeite URL: https://www.eversports.de/s/SPIN-UP\n",
      "Starte URL-Rekonstruktion...\n"
     ]
    },
    {
     "name": "stderr",
     "output_type": "stream",
     "text": [
      "2024-01-26 17:51:55,662 - INFO - Processing URL 1/4: https://www.eversports.de/s/SPIN-UP\n"
     ]
    },
    {
     "name": "stdout",
     "output_type": "stream",
     "text": [
      "Konvertiere in DataFrame...\n",
      "Validiere URLs...\n"
     ]
    },
    {
     "name": "stderr",
     "output_type": "stream",
     "text": [
      "2024-01-26 17:51:57,234 - INFO - URL https://www.eversports.de/s/SPIN-UP is valid.\n",
      "2024-01-26 17:51:57,235 - INFO - Processing URL 2/4: https://www.eversports.de/scl/SPIN-UP\n",
      "2024-01-26 17:51:58,996 - INFO - URL https://www.eversports.de/scl/SPIN-UP is not valid.\n",
      "2024-01-26 17:51:58,997 - INFO - Processing URL 3/4: https://www.eversports.de/sp/SPIN-UP\n",
      "2024-01-26 17:52:00,391 - INFO - URL https://www.eversports.de/sp/SPIN-UP is not valid.\n",
      "2024-01-26 17:52:00,392 - INFO - Processing URL 4/4: https://www.eversports.de/s/SPIN-UP/team\n",
      "2024-01-26 17:52:02,214 - INFO - URL https://www.eversports.de/s/SPIN-UP/team is valid.\n"
     ]
    },
    {
     "name": "stdout",
     "output_type": "stream",
     "text": [
      "Scrape Pole Studio Daten von https://www.eversports.de/s/SPIN-UP...\n",
      "Verarbeitung abgeschlossen.\n",
      "\n",
      "Ergebnisse für URL: https://www.eversports.de/s/SPIN-UP\n",
      "Pole Studio Data:\n",
      "\n",
      "\n",
      "Progress: 51.88%\n",
      "\n",
      "Processing URL 291/559\n",
      "Verarbeite URL: https://www.eversports.de/s/happy-pole-place\n",
      "Starte URL-Rekonstruktion...\n",
      "Error during HTTP request: 404 Client Error: Not Found for url: https://www.eversports.de/s/happy-pole-place\n",
      "Konvertiere in DataFrame...\n",
      "Validiere URLs...\n",
      "Verarbeitung abgeschlossen.\n",
      "\n",
      "Ergebnisse für URL: https://www.eversports.de/s/happy-pole-place\n",
      "Progress: 52.06%\n",
      "\n",
      "Processing URL 292/559\n",
      "Verarbeite URL: https://www.eversports.de/s/vanilla-sky-pole-atelier\n",
      "Starte URL-Rekonstruktion...\n",
      "Error during HTTP request: 404 Client Error: Not Found for url: https://www.eversports.de/s/vanilla-sky-pole-atelier\n",
      "Konvertiere in DataFrame...\n",
      "Validiere URLs...\n",
      "Verarbeitung abgeschlossen.\n",
      "\n",
      "Ergebnisse für URL: https://www.eversports.de/s/vanilla-sky-pole-atelier\n",
      "Progress: 52.24%\n",
      "\n",
      "Processing URL 293/559\n",
      "Verarbeite URL: https://www.eversports.de/s/AIRobics\n",
      "Starte URL-Rekonstruktion...\n"
     ]
    },
    {
     "name": "stderr",
     "output_type": "stream",
     "text": [
      "2024-01-26 17:52:10,585 - INFO - Processing URL 1/5: https://www.eversports.de/s/AIRobics\n"
     ]
    },
    {
     "name": "stdout",
     "output_type": "stream",
     "text": [
      "Konvertiere in DataFrame...\n",
      "Validiere URLs...\n"
     ]
    },
    {
     "name": "stderr",
     "output_type": "stream",
     "text": [
      "2024-01-26 17:52:12,238 - INFO - URL https://www.eversports.de/s/AIRobics is valid.\n",
      "2024-01-26 17:52:12,239 - INFO - Processing URL 2/5: https://www.eversports.de/scl/AIRobics\n",
      "2024-01-26 17:52:13,648 - INFO - URL https://www.eversports.de/scl/AIRobics is valid.\n",
      "2024-01-26 17:52:13,650 - INFO - Processing URL 3/5: https://www.eversports.de/s/AIRobics/kurse\n",
      "2024-01-26 17:52:14,985 - INFO - URL https://www.eversports.de/s/AIRobics/kurse is not valid.\n",
      "2024-01-26 17:52:14,986 - INFO - Processing URL 4/5: https://www.eversports.de/sp/AIRobics\n",
      "2024-01-26 17:52:16,706 - INFO - URL https://www.eversports.de/sp/AIRobics is valid.\n",
      "2024-01-26 17:52:16,707 - INFO - Processing URL 5/5: https://www.eversports.de/s/AIRobics/team\n",
      "2024-01-26 17:52:18,161 - INFO - URL https://www.eversports.de/s/AIRobics/team is valid.\n"
     ]
    },
    {
     "name": "stdout",
     "output_type": "stream",
     "text": [
      "Scrape Pole Studio Daten von https://www.eversports.de/s/AIRobics...\n",
      "Scrape Klassen Daten von https://www.eversports.de/scl/AIRobics...\n",
      "Scrape Klassen Details von https://www.eversports.de/scl/AIRobics...\n",
      "Verarbeitung abgeschlossen.\n",
      "\n",
      "Ergebnisse für URL: https://www.eversports.de/s/AIRobics\n",
      "Pole Studio Data:\n",
      "\n",
      "\n",
      "Classes Data:\n",
      "\n",
      "\n",
      "Classes Details:\n",
      "\n",
      "\n",
      "Progress: 52.42%\n",
      "\n",
      "Processing URL 294/559\n",
      "Verarbeite URL: https://www.eversports.de/s/dalibravita\n",
      "Starte URL-Rekonstruktion...\n",
      "Error during HTTP request: 404 Client Error: Not Found for url: https://www.eversports.de/s/dalibravita\n",
      "Konvertiere in DataFrame...\n",
      "Validiere URLs...\n",
      "Verarbeitung abgeschlossen.\n",
      "\n",
      "Ergebnisse für URL: https://www.eversports.de/s/dalibravita\n",
      "Progress: 52.59%\n",
      "\n",
      "Processing URL 295/559\n",
      "Verarbeite URL: https://www.eversports.de/s/pole-dance-krefeld\n",
      "Starte URL-Rekonstruktion...\n"
     ]
    },
    {
     "name": "stderr",
     "output_type": "stream",
     "text": [
      "2024-01-26 17:54:01,422 - INFO - Processing URL 1/7: https://www.eversports.de/s/pole-dance-krefeld\n"
     ]
    },
    {
     "name": "stdout",
     "output_type": "stream",
     "text": [
      "Konvertiere in DataFrame...\n",
      "Validiere URLs...\n"
     ]
    },
    {
     "name": "stderr",
     "output_type": "stream",
     "text": [
      "2024-01-26 17:54:02,945 - INFO - URL https://www.eversports.de/s/pole-dance-krefeld is valid.\n",
      "2024-01-26 17:54:02,946 - INFO - Processing URL 2/7: https://www.eversports.de/scl/pole-dance-krefeld\n",
      "2024-01-26 17:54:04,381 - INFO - URL https://www.eversports.de/scl/pole-dance-krefeld is valid.\n",
      "2024-01-26 17:54:04,382 - INFO - Processing URL 3/7: https://www.eversports.de/s/pole-dance-krefeld/trainings\n",
      "2024-01-26 17:54:05,644 - INFO - URL https://www.eversports.de/s/pole-dance-krefeld/trainings is not valid.\n",
      "2024-01-26 17:54:05,645 - INFO - Processing URL 4/7: https://www.eversports.de/sw/pole-dance-krefeld\n",
      "2024-01-26 17:54:07,263 - INFO - URL https://www.eversports.de/sw/pole-dance-krefeld is valid.\n",
      "2024-01-26 17:54:07,264 - INFO - Processing URL 5/7: https://www.eversports.de/s/pole-dance-krefeld/videos\n",
      "2024-01-26 17:54:08,640 - INFO - URL https://www.eversports.de/s/pole-dance-krefeld/videos is valid.\n",
      "2024-01-26 17:54:08,641 - INFO - Processing URL 6/7: https://www.eversports.de/sp/pole-dance-krefeld\n",
      "2024-01-26 17:54:10,037 - INFO - URL https://www.eversports.de/sp/pole-dance-krefeld is valid.\n",
      "2024-01-26 17:54:10,038 - INFO - Processing URL 7/7: https://www.eversports.de/s/pole-dance-krefeld/team\n",
      "2024-01-26 17:54:11,486 - INFO - URL https://www.eversports.de/s/pole-dance-krefeld/team is valid.\n"
     ]
    },
    {
     "name": "stdout",
     "output_type": "stream",
     "text": [
      "Scrape Pole Studio Daten von https://www.eversports.de/s/pole-dance-krefeld...\n",
      "Scrape Klassen Daten von https://www.eversports.de/scl/pole-dance-krefeld...\n",
      "Scrape Klassen Details von https://www.eversports.de/scl/pole-dance-krefeld...\n",
      "Scrape Workshops Daten von https://www.eversports.de/sw/pole-dance-krefeld...\n",
      "Scrape Workshop Details von https://www.eversports.de/e/workshop/AKLhjkw...\n",
      "Scrape Workshop Details von https://www.eversports.de/e/workshop/-EpTuWT...\n",
      "Scrape Workshop Details von https://www.eversports.de/e/workshop/hFi4nNH...\n",
      "Scrape Workshop Details von https://www.eversports.de/e/workshop/T5e_9Bp...\n",
      "Scrape Workshop Details von https://www.eversports.de/e/workshop/WkTS9HS...\n",
      "Scrape Workshop Details von https://www.eversports.de/e/workshop/_LQRruK...\n",
      "Verarbeitung abgeschlossen.\n",
      "\n",
      "Ergebnisse für URL: https://www.eversports.de/s/pole-dance-krefeld\n",
      "Pole Studio Data:\n",
      "\n",
      "\n",
      "Classes Data:\n",
      "\n",
      "\n",
      "Classes Details:\n",
      "\n",
      "\n",
      "Workshops Data:\n",
      "\n",
      "\n",
      "Workshop Details:\n",
      "\n",
      "\n",
      "Progress: 52.77%\n",
      "\n",
      "Processing URL 296/559\n",
      "Verarbeite URL: https://www.eversports.de/s/vertical-kay-poledance-%26-aerialarts-education\n",
      "Starte URL-Rekonstruktion...\n",
      "Error during HTTP request: 404 Client Error: Not Found for url: https://www.eversports.de/s/vertical-kay-poledance-%26-aerialarts-education\n",
      "Konvertiere in DataFrame...\n",
      "Validiere URLs...\n",
      "Verarbeitung abgeschlossen.\n",
      "\n",
      "Ergebnisse für URL: https://www.eversports.de/s/vertical-kay-poledance-%26-aerialarts-education\n",
      "Progress: 52.95%\n",
      "\n",
      "Processing URL 297/559\n",
      "Verarbeite URL: https://www.eversports.de/s/mmc-dance-and-event-studio\n",
      "Starte URL-Rekonstruktion...\n"
     ]
    },
    {
     "name": "stderr",
     "output_type": "stream",
     "text": [
      "2024-01-26 17:55:25,685 - INFO - Processing URL 1/4: https://www.eversports.de/s/mmc-dance-and-event-studio\n"
     ]
    },
    {
     "name": "stdout",
     "output_type": "stream",
     "text": [
      "Konvertiere in DataFrame...\n",
      "Validiere URLs...\n"
     ]
    },
    {
     "name": "stderr",
     "output_type": "stream",
     "text": [
      "2024-01-26 17:55:29,796 - INFO - URL https://www.eversports.de/s/mmc-dance-and-event-studio is valid.\n",
      "2024-01-26 17:55:29,797 - INFO - Processing URL 2/4: https://www.eversports.de/scl/mmc-dance-and-event-studio\n",
      "2024-01-26 17:55:31,222 - INFO - URL https://www.eversports.de/scl/mmc-dance-and-event-studio is valid.\n",
      "2024-01-26 17:55:31,223 - INFO - Processing URL 3/4: https://www.eversports.de/sp/mmc-dance-and-event-studio\n",
      "2024-01-26 17:55:32,588 - INFO - URL https://www.eversports.de/sp/mmc-dance-and-event-studio is valid.\n",
      "2024-01-26 17:55:32,589 - INFO - Processing URL 4/4: https://www.eversports.de/s/mmc-dance-and-event-studio/team\n",
      "2024-01-26 17:55:33,956 - INFO - URL https://www.eversports.de/s/mmc-dance-and-event-studio/team is valid.\n"
     ]
    },
    {
     "name": "stdout",
     "output_type": "stream",
     "text": [
      "Scrape Pole Studio Daten von https://www.eversports.de/s/mmc-dance-and-event-studio...\n",
      "Scrape Klassen Daten von https://www.eversports.de/scl/mmc-dance-and-event-studio...\n",
      "Scrape Klassen Details von https://www.eversports.de/scl/mmc-dance-and-event-studio...\n",
      "Fehler beim Abrufen der Webseite\n",
      "Verarbeitung abgeschlossen.\n",
      "\n",
      "Ergebnisse für URL: https://www.eversports.de/s/mmc-dance-and-event-studio\n",
      "Pole Studio Data:\n",
      "\n",
      "\n",
      "Classes Data:\n",
      "\n",
      "\n",
      "Classes Details:\n",
      "\n",
      "\n",
      "Progress: 53.13%\n",
      "\n",
      "Processing URL 298/559\n",
      "Verarbeite URL: https://www.eversports.de/s/Star-Poledance\n",
      "Starte URL-Rekonstruktion...\n"
     ]
    },
    {
     "name": "stderr",
     "output_type": "stream",
     "text": [
      "2024-01-26 17:56:31,183 - INFO - Processing URL 1/6: https://www.eversports.de/s/Star-Poledance\n"
     ]
    },
    {
     "name": "stdout",
     "output_type": "stream",
     "text": [
      "Konvertiere in DataFrame...\n",
      "Validiere URLs...\n"
     ]
    },
    {
     "name": "stderr",
     "output_type": "stream",
     "text": [
      "2024-01-26 17:56:32,731 - INFO - URL https://www.eversports.de/s/Star-Poledance is valid.\n",
      "2024-01-26 17:56:32,732 - INFO - Processing URL 2/6: https://www.eversports.de/scl/Star-Poledance\n",
      "2024-01-26 17:56:34,159 - INFO - URL https://www.eversports.de/scl/Star-Poledance is valid.\n",
      "2024-01-26 17:56:34,160 - INFO - Processing URL 3/6: https://www.eversports.de/sw/Star-Poledance\n",
      "2024-01-26 17:56:35,493 - INFO - URL https://www.eversports.de/sw/Star-Poledance is valid.\n",
      "2024-01-26 17:56:35,494 - INFO - Processing URL 4/6: https://www.eversports.de/s/Star-Poledance/videos\n",
      "2024-01-26 17:56:36,937 - INFO - URL https://www.eversports.de/s/Star-Poledance/videos is valid.\n",
      "2024-01-26 17:56:36,938 - INFO - Processing URL 5/6: https://www.eversports.de/sp/Star-Poledance\n",
      "2024-01-26 17:56:38,303 - INFO - URL https://www.eversports.de/sp/Star-Poledance is valid.\n",
      "2024-01-26 17:56:38,305 - INFO - Processing URL 6/6: https://www.eversports.de/s/Star-Poledance/team\n",
      "2024-01-26 17:56:39,802 - INFO - URL https://www.eversports.de/s/Star-Poledance/team is valid.\n"
     ]
    },
    {
     "name": "stdout",
     "output_type": "stream",
     "text": [
      "Scrape Pole Studio Daten von https://www.eversports.de/s/Star-Poledance...\n",
      "Scrape Klassen Daten von https://www.eversports.de/scl/Star-Poledance...\n",
      "Scrape Klassen Details von https://www.eversports.de/scl/Star-Poledance...\n",
      "Scrape Workshops Daten von https://www.eversports.de/sw/Star-Poledance...\n",
      "Scrape Workshop Details von https://www.eversports.de/e/workshop/Z8xiHKr...\n",
      "Verarbeitung abgeschlossen.\n",
      "\n",
      "Ergebnisse für URL: https://www.eversports.de/s/Star-Poledance\n",
      "Pole Studio Data:\n",
      "\n",
      "\n",
      "Classes Data:\n",
      "\n",
      "\n",
      "Classes Details:\n",
      "\n",
      "\n",
      "Workshops Data:\n",
      "\n",
      "\n",
      "Workshop Details:\n",
      "\n",
      "\n",
      "Progress: 53.31%\n",
      "\n",
      "Processing URL 299/559\n",
      "Verarbeite URL: https://www.eversports.de/s/pole-dance-palazzo-sportivo\n",
      "Starte URL-Rekonstruktion...\n"
     ]
    },
    {
     "name": "stderr",
     "output_type": "stream",
     "text": [
      "2024-01-26 17:57:31,979 - INFO - Processing URL 1/1: https://www.eversports.de/s/pole-dance-palazzo-sportivo\n"
     ]
    },
    {
     "name": "stdout",
     "output_type": "stream",
     "text": [
      "Konvertiere in DataFrame...\n",
      "Validiere URLs...\n"
     ]
    },
    {
     "name": "stderr",
     "output_type": "stream",
     "text": [
      "2024-01-26 17:57:33,607 - INFO - URL https://www.eversports.de/s/pole-dance-palazzo-sportivo is valid.\n"
     ]
    },
    {
     "name": "stdout",
     "output_type": "stream",
     "text": [
      "Scrape Pole Studio Daten von https://www.eversports.de/s/pole-dance-palazzo-sportivo...\n",
      "Verarbeitung abgeschlossen.\n",
      "\n",
      "Ergebnisse für URL: https://www.eversports.de/s/pole-dance-palazzo-sportivo\n",
      "Pole Studio Data:\n",
      "\n",
      "\n",
      "Progress: 53.49%\n",
      "\n",
      "Processing URL 300/559\n",
      "Verarbeite URL: https://www.eversports.de/s/t-tanzstück-wolfsburg\n",
      "Starte URL-Rekonstruktion...\n",
      "Error during HTTP request: Exceeded 30 redirects.\n",
      "Konvertiere in DataFrame...\n",
      "Validiere URLs...\n",
      "Verarbeitung abgeschlossen.\n",
      "\n",
      "Ergebnisse für URL: https://www.eversports.de/s/t-tanzstück-wolfsburg\n",
      "Progress: 53.67%\n",
      "\n",
      "Processing URL 301/559\n",
      "Verarbeite URL: https://www.eversports.de/s/Niyaha-Yoga-Susann-Kind\n",
      "Starte URL-Rekonstruktion...\n"
     ]
    },
    {
     "name": "stderr",
     "output_type": "stream",
     "text": [
      "2024-01-26 17:57:38,777 - INFO - Processing URL 1/7: https://www.eversports.de/s/Niyaha-Yoga-Susann-Kind\n"
     ]
    },
    {
     "name": "stdout",
     "output_type": "stream",
     "text": [
      "Konvertiere in DataFrame...\n",
      "Validiere URLs...\n"
     ]
    },
    {
     "name": "stderr",
     "output_type": "stream",
     "text": [
      "2024-01-26 17:57:40,393 - INFO - URL https://www.eversports.de/s/Niyaha-Yoga-Susann-Kind is valid.\n",
      "2024-01-26 17:57:40,394 - INFO - Processing URL 2/7: https://www.eversports.de/scl/Niyaha-Yoga-Susann-Kind\n",
      "2024-01-26 17:57:41,932 - INFO - URL https://www.eversports.de/scl/Niyaha-Yoga-Susann-Kind is valid.\n",
      "2024-01-26 17:57:41,933 - INFO - Processing URL 3/7: https://www.eversports.de/sw/Niyaha-Yoga-Susann-Kind\n",
      "2024-01-26 17:57:43,378 - INFO - URL https://www.eversports.de/sw/Niyaha-Yoga-Susann-Kind is valid.\n",
      "2024-01-26 17:57:43,379 - INFO - Processing URL 4/7: https://www.eversports.de/s/Niyaha-Yoga-Susann-Kind/events\n",
      "2024-01-26 17:57:44,638 - INFO - URL https://www.eversports.de/s/Niyaha-Yoga-Susann-Kind/events is not valid.\n",
      "2024-01-26 17:57:44,639 - INFO - Processing URL 5/7: https://www.eversports.de/s/Niyaha-Yoga-Susann-Kind/videos\n",
      "2024-01-26 17:57:46,005 - INFO - URL https://www.eversports.de/s/Niyaha-Yoga-Susann-Kind/videos is valid.\n",
      "2024-01-26 17:57:46,006 - INFO - Processing URL 6/7: https://www.eversports.de/sp/Niyaha-Yoga-Susann-Kind\n",
      "2024-01-26 17:57:47,323 - INFO - URL https://www.eversports.de/sp/Niyaha-Yoga-Susann-Kind is valid.\n",
      "2024-01-26 17:57:47,324 - INFO - Processing URL 7/7: https://www.eversports.de/s/Niyaha-Yoga-Susann-Kind/team\n",
      "2024-01-26 17:57:48,841 - INFO - URL https://www.eversports.de/s/Niyaha-Yoga-Susann-Kind/team is valid.\n"
     ]
    },
    {
     "name": "stdout",
     "output_type": "stream",
     "text": [
      "Scrape Pole Studio Daten von https://www.eversports.de/s/Niyaha-Yoga-Susann-Kind...\n",
      "Scrape Klassen Daten von https://www.eversports.de/scl/Niyaha-Yoga-Susann-Kind...\n",
      "Scrape Klassen Details von https://www.eversports.de/scl/Niyaha-Yoga-Susann-Kind...\n",
      "Scrape Workshops Daten von https://www.eversports.de/sw/Niyaha-Yoga-Susann-Kind...\n",
      "Scrape Workshop Details von https://www.eversports.de/e/workshop/u0m4PpJ...\n",
      "Scrape Workshop Details von https://www.eversports.de/e/workshop/Qph3Nhi...\n",
      "Scrape Workshop Details von https://www.eversports.de/e/workshop/cnaEonv...\n",
      "Scrape Workshop Details von https://www.eversports.de/e/workshop/VVUAlSC...\n",
      "Verarbeitung abgeschlossen.\n",
      "\n",
      "Ergebnisse für URL: https://www.eversports.de/s/Niyaha-Yoga-Susann-Kind\n",
      "Pole Studio Data:\n",
      "\n",
      "\n",
      "Classes Data:\n",
      "\n",
      "\n",
      "Classes Details:\n",
      "\n",
      "\n",
      "Workshops Data:\n",
      "\n",
      "\n",
      "Workshop Details:\n",
      "\n",
      "\n",
      "Progress: 53.85%\n",
      "\n",
      "Processing URL 302/559\n",
      "Verarbeite URL: https://www.eversports.de/s/Sportheim-Abensberg\n",
      "Starte URL-Rekonstruktion...\n"
     ]
    },
    {
     "name": "stderr",
     "output_type": "stream",
     "text": [
      "2024-01-26 17:58:28,318 - INFO - Processing URL 1/5: https://www.eversports.de/s/Sportheim-Abensberg\n"
     ]
    },
    {
     "name": "stdout",
     "output_type": "stream",
     "text": [
      "Konvertiere in DataFrame...\n",
      "Validiere URLs...\n"
     ]
    },
    {
     "name": "stderr",
     "output_type": "stream",
     "text": [
      "2024-01-26 17:58:30,340 - INFO - URL https://www.eversports.de/s/Sportheim-Abensberg is valid.\n",
      "2024-01-26 17:58:30,341 - INFO - Processing URL 2/5: https://www.eversports.de/scl/Sportheim-Abensberg\n",
      "2024-01-26 17:58:31,671 - INFO - URL https://www.eversports.de/scl/Sportheim-Abensberg is valid.\n",
      "2024-01-26 17:58:31,672 - INFO - Processing URL 3/5: https://www.eversports.de/s/Sportheim-Abensberg/videos\n",
      "2024-01-26 17:58:33,058 - INFO - URL https://www.eversports.de/s/Sportheim-Abensberg/videos is valid.\n",
      "2024-01-26 17:58:33,059 - INFO - Processing URL 4/5: https://www.eversports.de/sp/Sportheim-Abensberg\n",
      "2024-01-26 17:58:34,594 - INFO - URL https://www.eversports.de/sp/Sportheim-Abensberg is valid.\n",
      "2024-01-26 17:58:34,595 - INFO - Processing URL 5/5: https://www.eversports.de/s/Sportheim-Abensberg/team\n",
      "2024-01-26 17:58:36,157 - INFO - URL https://www.eversports.de/s/Sportheim-Abensberg/team is valid.\n"
     ]
    },
    {
     "name": "stdout",
     "output_type": "stream",
     "text": [
      "Scrape Pole Studio Daten von https://www.eversports.de/s/Sportheim-Abensberg...\n",
      "Scrape Klassen Daten von https://www.eversports.de/scl/Sportheim-Abensberg...\n",
      "Scrape Klassen Details von https://www.eversports.de/scl/Sportheim-Abensberg...\n",
      "Verarbeitung abgeschlossen.\n",
      "\n",
      "Ergebnisse für URL: https://www.eversports.de/s/Sportheim-Abensberg\n",
      "Pole Studio Data:\n",
      "\n",
      "\n",
      "Classes Data:\n",
      "\n",
      "\n",
      "Classes Details:\n",
      "\n",
      "\n",
      "Progress: 54.03%\n",
      "\n",
      "Processing URL 303/559\n",
      "Verarbeite URL: https://www.eversports.de/s/feel-good-factory:-pole-•-stretch-•-fly\n",
      "Starte URL-Rekonstruktion...\n",
      "Error during HTTP request: Exceeded 30 redirects.\n",
      "Konvertiere in DataFrame...\n",
      "Validiere URLs...\n",
      "Verarbeitung abgeschlossen.\n",
      "\n",
      "Ergebnisse für URL: https://www.eversports.de/s/feel-good-factory:-pole-•-stretch-•-fly\n",
      "Progress: 54.20%\n",
      "\n",
      "Processing URL 304/559\n",
      "Verarbeite URL: https://www.eversports.de/s/pole-dance-%26-fitness\n",
      "Starte URL-Rekonstruktion...\n",
      "Error during HTTP request: 404 Client Error: Not Found for url: https://www.eversports.de/s/pole-dance-%26-fitness\n",
      "Konvertiere in DataFrame...\n",
      "Validiere URLs...\n",
      "Verarbeitung abgeschlossen.\n",
      "\n",
      "Ergebnisse für URL: https://www.eversports.de/s/pole-dance-%26-fitness\n",
      "Progress: 54.38%\n",
      "\n",
      "Processing URL 305/559\n",
      "Verarbeite URL: https://www.eversports.de/s/yoga-and-pole-art-by-selina\n",
      "Starte URL-Rekonstruktion...\n"
     ]
    },
    {
     "name": "stderr",
     "output_type": "stream",
     "text": [
      "2024-01-26 17:59:30,003 - INFO - Processing URL 1/6: https://www.eversports.de/s/yoga-and-pole-art-by-selina\n"
     ]
    },
    {
     "name": "stdout",
     "output_type": "stream",
     "text": [
      "Konvertiere in DataFrame...\n",
      "Validiere URLs...\n"
     ]
    },
    {
     "name": "stderr",
     "output_type": "stream",
     "text": [
      "2024-01-26 17:59:31,569 - INFO - URL https://www.eversports.de/s/yoga-and-pole-art-by-selina is valid.\n",
      "2024-01-26 17:59:31,571 - INFO - Processing URL 2/6: https://www.eversports.de/scl/yoga-and-pole-art-by-selina\n",
      "2024-01-26 17:59:32,960 - INFO - URL https://www.eversports.de/scl/yoga-and-pole-art-by-selina is valid.\n",
      "2024-01-26 17:59:32,961 - INFO - Processing URL 3/6: https://www.eversports.de/sw/yoga-and-pole-art-by-selina\n",
      "2024-01-26 17:59:34,577 - INFO - URL https://www.eversports.de/sw/yoga-and-pole-art-by-selina is valid.\n",
      "2024-01-26 17:59:34,578 - INFO - Processing URL 4/6: https://www.eversports.de/s/yoga-and-pole-art-by-selina/videos\n",
      "2024-01-26 17:59:35,937 - INFO - URL https://www.eversports.de/s/yoga-and-pole-art-by-selina/videos is valid.\n",
      "2024-01-26 17:59:35,938 - INFO - Processing URL 5/6: https://www.eversports.de/sp/yoga-and-pole-art-by-selina\n",
      "2024-01-26 17:59:37,398 - INFO - URL https://www.eversports.de/sp/yoga-and-pole-art-by-selina is valid.\n",
      "2024-01-26 17:59:37,399 - INFO - Processing URL 6/6: https://www.eversports.de/s/yoga-and-pole-art-by-selina/team\n",
      "2024-01-26 17:59:39,192 - INFO - URL https://www.eversports.de/s/yoga-and-pole-art-by-selina/team is valid.\n"
     ]
    },
    {
     "name": "stdout",
     "output_type": "stream",
     "text": [
      "Scrape Pole Studio Daten von https://www.eversports.de/s/yoga-and-pole-art-by-selina...\n",
      "Scrape Klassen Daten von https://www.eversports.de/scl/yoga-and-pole-art-by-selina...\n",
      "Scrape Klassen Details von https://www.eversports.de/scl/yoga-and-pole-art-by-selina...\n",
      "Scrape Workshops Daten von https://www.eversports.de/sw/yoga-and-pole-art-by-selina...\n",
      "Scrape Workshop Details von https://www.eversports.de/e/workshop/WN-XHxi...\n",
      "Scrape Workshop Details von https://www.eversports.de/e/workshop/dhAWne_...\n",
      "Scrape Workshop Details von https://www.eversports.de/e/workshop/p_eKWTW...\n",
      "Scrape Workshop Details von https://www.eversports.de/e/workshop/1PmB24I...\n",
      "Scrape Workshop Details von https://www.eversports.de/e/workshop/Zk4neM3...\n",
      "Scrape Workshop Details von https://www.eversports.de/e/workshop/VnmCBGD...\n",
      "Scrape Workshop Details von https://www.eversports.de/e/workshop/qdYG4WC...\n",
      "Scrape Workshop Details von https://www.eversports.de/e/workshop/M4MjCdo...\n",
      "Scrape Workshop Details von https://www.eversports.de/e/workshop/bi8m5zs...\n",
      "Scrape Workshop Details von https://www.eversports.de/e/workshop/ccLkJAE...\n",
      "Verarbeitung abgeschlossen.\n",
      "\n",
      "Ergebnisse für URL: https://www.eversports.de/s/yoga-and-pole-art-by-selina\n",
      "Pole Studio Data:\n",
      "\n",
      "\n",
      "Classes Data:\n",
      "\n",
      "\n",
      "Classes Details:\n",
      "\n",
      "\n",
      "Workshops Data:\n",
      "\n",
      "\n",
      "Workshop Details:\n",
      "\n",
      "\n",
      "Progress: 54.56%\n",
      "\n",
      "Processing URL 306/559\n",
      "Verarbeite URL: https://www.eversports.de/s/lea-aqua\n",
      "Starte URL-Rekonstruktion...\n",
      "Error during HTTP request: 404 Client Error: Not Found for url: https://www.eversports.de/s/lea-aqua\n",
      "Konvertiere in DataFrame...\n",
      "Validiere URLs...\n",
      "Verarbeitung abgeschlossen.\n",
      "\n",
      "Ergebnisse für URL: https://www.eversports.de/s/lea-aqua\n",
      "Progress: 54.74%\n",
      "\n",
      "Processing URL 307/559\n",
      "Verarbeite URL: https://www.eversports.de/s/pole-circus-a-k\n",
      "Starte URL-Rekonstruktion...\n",
      "Error during HTTP request: 404 Client Error: Not Found for url: https://www.eversports.de/s/pole-circus-a-k\n",
      "Konvertiere in DataFrame...\n",
      "Validiere URLs...\n",
      "Verarbeitung abgeschlossen.\n",
      "\n",
      "Ergebnisse für URL: https://www.eversports.de/s/pole-circus-a-k\n",
      "Progress: 54.92%\n",
      "\n",
      "Processing URL 308/559\n",
      "Verarbeite URL: https://www.eversports.de/s/YOGA-at-Lobe-Block\n",
      "Starte URL-Rekonstruktion...\n"
     ]
    },
    {
     "name": "stderr",
     "output_type": "stream",
     "text": [
      "2024-01-26 18:00:38,906 - INFO - Processing URL 1/6: https://www.eversports.de/s/YOGA-at-Lobe-Block\n"
     ]
    },
    {
     "name": "stdout",
     "output_type": "stream",
     "text": [
      "Konvertiere in DataFrame...\n",
      "Validiere URLs...\n"
     ]
    },
    {
     "name": "stderr",
     "output_type": "stream",
     "text": [
      "2024-01-26 18:00:40,722 - INFO - URL https://www.eversports.de/s/YOGA-at-Lobe-Block is valid.\n",
      "2024-01-26 18:00:40,723 - INFO - Processing URL 2/6: https://www.eversports.de/scl/YOGA-at-Lobe-Block\n",
      "2024-01-26 18:00:42,856 - INFO - URL https://www.eversports.de/scl/YOGA-at-Lobe-Block is valid.\n",
      "2024-01-26 18:00:42,857 - INFO - Processing URL 3/6: https://www.eversports.de/sw/YOGA-at-Lobe-Block\n",
      "2024-01-26 18:00:44,342 - INFO - URL https://www.eversports.de/sw/YOGA-at-Lobe-Block is valid.\n",
      "2024-01-26 18:00:44,343 - INFO - Processing URL 4/6: https://www.eversports.de/s/YOGA-at-Lobe-Block/videos\n",
      "2024-01-26 18:00:45,815 - INFO - URL https://www.eversports.de/s/YOGA-at-Lobe-Block/videos is valid.\n",
      "2024-01-26 18:00:45,816 - INFO - Processing URL 5/6: https://www.eversports.de/sp/YOGA-at-Lobe-Block\n",
      "2024-01-26 18:00:47,632 - INFO - URL https://www.eversports.de/sp/YOGA-at-Lobe-Block is valid.\n",
      "2024-01-26 18:00:47,633 - INFO - Processing URL 6/6: https://www.eversports.de/s/YOGA-at-Lobe-Block/team\n",
      "2024-01-26 18:00:49,294 - INFO - URL https://www.eversports.de/s/YOGA-at-Lobe-Block/team is valid.\n"
     ]
    },
    {
     "name": "stdout",
     "output_type": "stream",
     "text": [
      "Scrape Pole Studio Daten von https://www.eversports.de/s/YOGA-at-Lobe-Block...\n",
      "Scrape Klassen Daten von https://www.eversports.de/scl/YOGA-at-Lobe-Block...\n",
      "Scrape Klassen Details von https://www.eversports.de/scl/YOGA-at-Lobe-Block...\n",
      "Scrape Workshops Daten von https://www.eversports.de/sw/YOGA-at-Lobe-Block...\n",
      "Scrape Workshop Details von https://www.eversports.de/e/workshop/vmr79nD...\n",
      "Scrape Workshop Details von https://www.eversports.de/e/workshop/5WFQ4Sn...\n",
      "Verarbeitung abgeschlossen.\n",
      "\n",
      "Ergebnisse für URL: https://www.eversports.de/s/YOGA-at-Lobe-Block\n",
      "Pole Studio Data:\n",
      "\n",
      "\n",
      "Classes Data:\n",
      "\n",
      "\n",
      "Classes Details:\n",
      "\n",
      "\n",
      "Workshops Data:\n",
      "\n",
      "\n",
      "Workshop Details:\n",
      "\n",
      "\n",
      "Progress: 55.10%\n",
      "\n",
      "Processing URL 309/559\n",
      "Verarbeite URL: https://www.eversports.de/s/t-tanzst%C3%BCck-wolfsburg\n",
      "Starte URL-Rekonstruktion...\n",
      "Error during HTTP request: Exceeded 30 redirects.\n",
      "Konvertiere in DataFrame...\n",
      "Validiere URLs...\n",
      "Verarbeitung abgeschlossen.\n",
      "\n",
      "Ergebnisse für URL: https://www.eversports.de/s/t-tanzst%C3%BCck-wolfsburg\n",
      "Progress: 55.28%\n",
      "\n",
      "Processing URL 310/559\n",
      "Verarbeite URL: https://www.eversports.de/s/stadtgazellen-studio\n",
      "Starte URL-Rekonstruktion...\n"
     ]
    },
    {
     "name": "stderr",
     "output_type": "stream",
     "text": [
      "2024-01-26 18:08:05,816 - INFO - Processing URL 1/5: https://www.eversports.de/s/stadtgazellen-studio\n"
     ]
    },
    {
     "name": "stdout",
     "output_type": "stream",
     "text": [
      "Konvertiere in DataFrame...\n",
      "Validiere URLs...\n"
     ]
    },
    {
     "name": "stderr",
     "output_type": "stream",
     "text": [
      "2024-01-26 18:08:07,578 - INFO - URL https://www.eversports.de/s/stadtgazellen-studio is valid.\n",
      "2024-01-26 18:08:07,579 - INFO - Processing URL 2/5: https://www.eversports.de/scl/stadtgazellen-studio\n",
      "2024-01-26 18:08:09,114 - INFO - URL https://www.eversports.de/scl/stadtgazellen-studio is valid.\n",
      "2024-01-26 18:08:09,115 - INFO - Processing URL 3/5: https://www.eversports.de/s/stadtgazellen-studio/kurse\n",
      "2024-01-26 18:08:10,697 - INFO - URL https://www.eversports.de/s/stadtgazellen-studio/kurse is not valid.\n",
      "2024-01-26 18:08:10,698 - INFO - Processing URL 4/5: https://www.eversports.de/sp/stadtgazellen-studio\n",
      "2024-01-26 18:08:12,090 - INFO - URL https://www.eversports.de/sp/stadtgazellen-studio is valid.\n",
      "2024-01-26 18:08:12,091 - INFO - Processing URL 5/5: https://www.eversports.de/s/stadtgazellen-studio/team\n",
      "2024-01-26 18:08:14,288 - INFO - URL https://www.eversports.de/s/stadtgazellen-studio/team is valid.\n"
     ]
    },
    {
     "name": "stdout",
     "output_type": "stream",
     "text": [
      "Scrape Pole Studio Daten von https://www.eversports.de/s/stadtgazellen-studio...\n",
      "Scrape Klassen Daten von https://www.eversports.de/scl/stadtgazellen-studio...\n",
      "Scrape Klassen Details von https://www.eversports.de/scl/stadtgazellen-studio...\n",
      "Verarbeitung abgeschlossen.\n",
      "\n",
      "Ergebnisse für URL: https://www.eversports.de/s/stadtgazellen-studio\n",
      "Pole Studio Data:\n",
      "\n",
      "\n",
      "Classes Data:\n",
      "\n",
      "\n",
      "Classes Details:\n",
      "\n",
      "\n",
      "Progress: 55.46%\n",
      "\n",
      "Processing URL 311/559\n",
      "Verarbeite URL: https://www.eversports.de/s/the-supergirl-studio\n",
      "Starte URL-Rekonstruktion...\n"
     ]
    },
    {
     "name": "stderr",
     "output_type": "stream",
     "text": [
      "2024-01-26 18:10:11,611 - INFO - Processing URL 1/4: https://www.eversports.de/s/the-supergirl-studio\n"
     ]
    },
    {
     "name": "stdout",
     "output_type": "stream",
     "text": [
      "Konvertiere in DataFrame...\n",
      "Validiere URLs...\n"
     ]
    },
    {
     "name": "stderr",
     "output_type": "stream",
     "text": [
      "2024-01-26 18:10:13,200 - INFO - URL https://www.eversports.de/s/the-supergirl-studio is valid.\n",
      "2024-01-26 18:10:13,201 - INFO - Processing URL 2/4: https://www.eversports.de/scl/the-supergirl-studio\n",
      "2024-01-26 18:10:14,892 - INFO - URL https://www.eversports.de/scl/the-supergirl-studio is valid.\n",
      "2024-01-26 18:10:14,894 - INFO - Processing URL 3/4: https://www.eversports.de/sp/the-supergirl-studio\n",
      "2024-01-26 18:10:16,689 - INFO - URL https://www.eversports.de/sp/the-supergirl-studio is valid.\n",
      "2024-01-26 18:10:16,690 - INFO - Processing URL 4/4: https://www.eversports.de/s/the-supergirl-studio/team\n",
      "2024-01-26 18:10:18,171 - INFO - URL https://www.eversports.de/s/the-supergirl-studio/team is valid.\n"
     ]
    },
    {
     "name": "stdout",
     "output_type": "stream",
     "text": [
      "Scrape Pole Studio Daten von https://www.eversports.de/s/the-supergirl-studio...\n",
      "Scrape Klassen Daten von https://www.eversports.de/scl/the-supergirl-studio...\n",
      "Scrape Klassen Details von https://www.eversports.de/scl/the-supergirl-studio...\n",
      "Verarbeitung abgeschlossen.\n",
      "\n",
      "Ergebnisse für URL: https://www.eversports.de/s/the-supergirl-studio\n",
      "Pole Studio Data:\n",
      "\n",
      "\n",
      "Classes Data:\n",
      "\n",
      "\n",
      "Classes Details:\n",
      "\n",
      "\n",
      "Progress: 55.64%\n",
      "\n",
      "Processing URL 312/559\n",
      "Verarbeite URL: https://www.eversports.de/s/tsg-blau-gold-ballett--und-pole-dance--studio\n",
      "Starte URL-Rekonstruktion...\n",
      "Error during HTTP request: 404 Client Error: Not Found for url: https://www.eversports.de/s/tsg-blau-gold-ballett--und-pole-dance--studio\n",
      "Konvertiere in DataFrame...\n",
      "Validiere URLs...\n",
      "Verarbeitung abgeschlossen.\n",
      "\n",
      "Ergebnisse für URL: https://www.eversports.de/s/tsg-blau-gold-ballett--und-pole-dance--studio\n",
      "Progress: 55.81%\n",
      "\n",
      "Processing URL 313/559\n",
      "Verarbeite URL: https://www.eversports.de/s/dance-moves-wolfenb%C3%BCttel\n",
      "Starte URL-Rekonstruktion...\n",
      "Error during HTTP request: Exceeded 30 redirects.\n",
      "Konvertiere in DataFrame...\n",
      "Validiere URLs...\n",
      "Verarbeitung abgeschlossen.\n",
      "\n",
      "Ergebnisse für URL: https://www.eversports.de/s/dance-moves-wolfenb%C3%BCttel\n",
      "Progress: 55.99%\n",
      "\n",
      "Processing URL 314/559\n",
      "Verarbeite URL: https://www.eversports.de/s/Studio-Nienke\n",
      "Starte URL-Rekonstruktion...\n"
     ]
    },
    {
     "name": "stderr",
     "output_type": "stream",
     "text": [
      "2024-01-26 18:11:42,736 - INFO - Processing URL 1/5: https://www.eversports.de/s/Studio-Nienke\n"
     ]
    },
    {
     "name": "stdout",
     "output_type": "stream",
     "text": [
      "Konvertiere in DataFrame...\n",
      "Validiere URLs...\n"
     ]
    },
    {
     "name": "stderr",
     "output_type": "stream",
     "text": [
      "2024-01-26 18:11:44,424 - INFO - URL https://www.eversports.de/s/Studio-Nienke is valid.\n",
      "2024-01-26 18:11:44,425 - INFO - Processing URL 2/5: https://www.eversports.de/scl/Studio-Nienke\n",
      "2024-01-26 18:11:45,753 - INFO - URL https://www.eversports.de/scl/Studio-Nienke is not valid.\n",
      "2024-01-26 18:11:45,754 - INFO - Processing URL 3/5: https://www.eversports.de/s/Studio-Nienke/kurse\n",
      "2024-01-26 18:11:47,037 - INFO - URL https://www.eversports.de/s/Studio-Nienke/kurse is not valid.\n",
      "2024-01-26 18:11:47,039 - INFO - Processing URL 4/5: https://www.eversports.de/sp/Studio-Nienke\n",
      "2024-01-26 18:11:48,442 - INFO - URL https://www.eversports.de/sp/Studio-Nienke is not valid.\n",
      "2024-01-26 18:11:48,443 - INFO - Processing URL 5/5: https://www.eversports.de/s/Studio-Nienke/team\n",
      "2024-01-26 18:11:50,933 - INFO - URL https://www.eversports.de/s/Studio-Nienke/team is valid.\n"
     ]
    },
    {
     "name": "stdout",
     "output_type": "stream",
     "text": [
      "Scrape Pole Studio Daten von https://www.eversports.de/s/Studio-Nienke...\n",
      "Verarbeitung abgeschlossen.\n",
      "\n",
      "Ergebnisse für URL: https://www.eversports.de/s/Studio-Nienke\n",
      "Pole Studio Data:\n",
      "\n",
      "\n",
      "Progress: 56.17%\n",
      "\n",
      "Processing URL 315/559\n",
      "Verarbeite URL: https://www.eversports.de/s/dance-department\n",
      "Starte URL-Rekonstruktion...\n",
      "Error during HTTP request: 404 Client Error: Not Found for url: https://www.eversports.de/s/dance-department\n",
      "Konvertiere in DataFrame...\n",
      "Validiere URLs...\n",
      "Verarbeitung abgeschlossen.\n",
      "\n",
      "Ergebnisse für URL: https://www.eversports.de/s/dance-department\n",
      "Progress: 56.35%\n",
      "\n",
      "Processing URL 316/559\n",
      "Verarbeite URL: https://www.eversports.de/s/palazzo-sportivo\n",
      "Starte URL-Rekonstruktion...\n",
      "Error during HTTP request: 404 Client Error: Not Found for url: https://www.eversports.de/s/palazzo-sportivo\n",
      "Konvertiere in DataFrame...\n",
      "Validiere URLs...\n",
      "Verarbeitung abgeschlossen.\n",
      "\n",
      "Ergebnisse für URL: https://www.eversports.de/s/palazzo-sportivo\n",
      "Progress: 56.53%\n",
      "\n",
      "Processing URL 317/559\n",
      "Verarbeite URL: https://www.eversports.de/s/polefriends\n",
      "Starte URL-Rekonstruktion...\n",
      "Error during HTTP request: 404 Client Error: Not Found for url: https://www.eversports.de/s/polefriends\n",
      "Konvertiere in DataFrame...\n",
      "Validiere URLs...\n",
      "Verarbeitung abgeschlossen.\n",
      "\n",
      "Ergebnisse für URL: https://www.eversports.de/s/polefriends\n",
      "Progress: 56.71%\n",
      "\n",
      "Processing URL 318/559\n",
      "Verarbeite URL: https://www.eversports.de/s/infinity-polesports-burgkirchen\n",
      "Starte URL-Rekonstruktion...\n",
      "Error during HTTP request: 404 Client Error: Not Found for url: https://www.eversports.de/s/infinity-polesports-burgkirchen\n",
      "Konvertiere in DataFrame...\n",
      "Validiere URLs...\n",
      "Verarbeitung abgeschlossen.\n",
      "\n",
      "Ergebnisse für URL: https://www.eversports.de/s/infinity-polesports-burgkirchen\n",
      "Progress: 56.89%\n",
      "\n",
      "Processing URL 319/559\n",
      "Verarbeite URL: https://www.eversports.de/s/vi-dance-hamm\n",
      "Starte URL-Rekonstruktion...\n",
      "Error during HTTP request: 404 Client Error: Not Found for url: https://www.eversports.de/s/vi-dance-hamm\n",
      "Konvertiere in DataFrame...\n",
      "Validiere URLs...\n",
      "Verarbeitung abgeschlossen.\n",
      "\n",
      "Ergebnisse für URL: https://www.eversports.de/s/vi-dance-hamm\n",
      "Progress: 57.07%\n",
      "\n",
      "Processing URL 320/559\n",
      "Verarbeite URL: https://www.eversports.de/s/Vertical--Pole-Aerial-Dance\n",
      "Starte URL-Rekonstruktion...\n",
      "Error during HTTP request: 404 Client Error: Not Found for url: https://www.eversports.de/s/vertical--pole-aerial-dance\n",
      "Konvertiere in DataFrame...\n",
      "Validiere URLs...\n",
      "Verarbeitung abgeschlossen.\n",
      "\n",
      "Ergebnisse für URL: https://www.eversports.de/s/Vertical--Pole-Aerial-Dance\n",
      "Progress: 57.25%\n",
      "\n",
      "Processing URL 321/559\n",
      "Verarbeite URL: https://www.eversports.de/s/janine-hollung\n",
      "Starte URL-Rekonstruktion...\n"
     ]
    },
    {
     "name": "stderr",
     "output_type": "stream",
     "text": [
      "2024-01-26 18:12:02,078 - INFO - Processing URL 1/6: https://www.eversports.de/s/janine-hollung\n"
     ]
    },
    {
     "name": "stdout",
     "output_type": "stream",
     "text": [
      "Konvertiere in DataFrame...\n",
      "Validiere URLs...\n"
     ]
    },
    {
     "name": "stderr",
     "output_type": "stream",
     "text": [
      "2024-01-26 18:12:03,584 - INFO - URL https://www.eversports.de/s/janine-hollung is valid.\n",
      "2024-01-26 18:12:03,586 - INFO - Processing URL 2/6: https://www.eversports.de/scl/janine-hollung\n",
      "2024-01-26 18:12:05,056 - INFO - URL https://www.eversports.de/scl/janine-hollung is valid.\n",
      "2024-01-26 18:12:05,057 - INFO - Processing URL 3/6: https://www.eversports.de/s/janine-hollung/kurse\n",
      "2024-01-26 18:12:06,309 - INFO - URL https://www.eversports.de/s/janine-hollung/kurse is not valid.\n",
      "2024-01-26 18:12:06,310 - INFO - Processing URL 4/6: https://www.eversports.de/s/janine-hollung/videos\n",
      "2024-01-26 18:12:08,122 - INFO - URL https://www.eversports.de/s/janine-hollung/videos is valid.\n",
      "2024-01-26 18:12:08,123 - INFO - Processing URL 5/6: https://www.eversports.de/sp/janine-hollung\n",
      "2024-01-26 18:12:11,528 - INFO - URL https://www.eversports.de/sp/janine-hollung is valid.\n",
      "2024-01-26 18:12:11,529 - INFO - Processing URL 6/6: https://www.eversports.de/s/janine-hollung/team\n",
      "2024-01-26 18:12:12,886 - INFO - URL https://www.eversports.de/s/janine-hollung/team is valid.\n"
     ]
    },
    {
     "name": "stdout",
     "output_type": "stream",
     "text": [
      "Scrape Pole Studio Daten von https://www.eversports.de/s/janine-hollung...\n",
      "Scrape Klassen Daten von https://www.eversports.de/scl/janine-hollung...\n",
      "Scrape Klassen Details von https://www.eversports.de/scl/janine-hollung...\n",
      "Verarbeitung abgeschlossen.\n",
      "\n",
      "Ergebnisse für URL: https://www.eversports.de/s/janine-hollung\n",
      "Pole Studio Data:\n",
      "\n",
      "\n",
      "Classes Data:\n",
      "\n",
      "\n",
      "Classes Details:\n",
      "\n",
      "\n",
      "Progress: 57.42%\n",
      "\n",
      "Processing URL 322/559\n",
      "Verarbeite URL: https://www.eversports.de/s/verticalarts-pole-%26-aerial-fitness\n",
      "Starte URL-Rekonstruktion...\n",
      "Error during HTTP request: 404 Client Error: Not Found for url: https://www.eversports.de/s/verticalarts-pole-%26-aerial-fitness\n",
      "Konvertiere in DataFrame...\n",
      "Validiere URLs...\n",
      "Verarbeitung abgeschlossen.\n",
      "\n",
      "Ergebnisse für URL: https://www.eversports.de/s/verticalarts-pole-%26-aerial-fitness\n",
      "Progress: 57.60%\n",
      "\n",
      "Processing URL 323/559\n",
      "Verarbeite URL: https://www.eversports.de/s/polemotions-gp\n",
      "Starte URL-Rekonstruktion...\n",
      "Error during HTTP request: 404 Client Error: Not Found for url: https://www.eversports.de/s/polemotions-gp\n",
      "Konvertiere in DataFrame...\n",
      "Validiere URLs...\n",
      "Verarbeitung abgeschlossen.\n",
      "\n",
      "Ergebnisse für URL: https://www.eversports.de/s/polemotions-gp\n",
      "Progress: 57.78%\n",
      "\n",
      "Processing URL 324/559\n",
      "Verarbeite URL: https://www.eversports.de/s/Polestation-Academy\n",
      "Starte URL-Rekonstruktion...\n"
     ]
    },
    {
     "name": "stderr",
     "output_type": "stream",
     "text": [
      "2024-01-26 18:12:47,285 - INFO - Processing URL 1/5: https://www.eversports.de/s/Polestation-Academy\n"
     ]
    },
    {
     "name": "stdout",
     "output_type": "stream",
     "text": [
      "Konvertiere in DataFrame...\n",
      "Validiere URLs...\n"
     ]
    },
    {
     "name": "stderr",
     "output_type": "stream",
     "text": [
      "2024-01-26 18:12:48,937 - INFO - URL https://www.eversports.de/s/Polestation-Academy is valid.\n",
      "2024-01-26 18:12:48,938 - INFO - Processing URL 2/5: https://www.eversports.de/scl/Polestation-Academy\n",
      "2024-01-26 18:12:50,251 - INFO - URL https://www.eversports.de/scl/Polestation-Academy is not valid.\n",
      "2024-01-26 18:12:50,252 - INFO - Processing URL 3/5: https://www.eversports.de/s/Polestation-Academy/videos\n",
      "2024-01-26 18:12:51,629 - INFO - URL https://www.eversports.de/s/Polestation-Academy/videos is not valid.\n",
      "2024-01-26 18:12:51,630 - INFO - Processing URL 4/5: https://www.eversports.de/sp/Polestation-Academy\n",
      "2024-01-26 18:12:53,021 - INFO - URL https://www.eversports.de/sp/Polestation-Academy is not valid.\n",
      "2024-01-26 18:12:53,022 - INFO - Processing URL 5/5: https://www.eversports.de/s/Polestation-Academy/team\n",
      "2024-01-26 18:12:54,515 - INFO - URL https://www.eversports.de/s/Polestation-Academy/team is valid.\n"
     ]
    },
    {
     "name": "stdout",
     "output_type": "stream",
     "text": [
      "Scrape Pole Studio Daten von https://www.eversports.de/s/Polestation-Academy...\n",
      "Verarbeitung abgeschlossen.\n",
      "\n",
      "Ergebnisse für URL: https://www.eversports.de/s/Polestation-Academy\n",
      "Pole Studio Data:\n",
      "\n",
      "\n",
      "Progress: 57.96%\n",
      "\n",
      "Processing URL 325/559\n",
      "Verarbeite URL: https://www.eversports.de/s/home-of-pole\n",
      "Starte URL-Rekonstruktion...\n",
      "Error during HTTP request: 404 Client Error: Not Found for url: https://www.eversports.de/s/home-of-pole\n",
      "Konvertiere in DataFrame...\n",
      "Validiere URLs...\n",
      "Verarbeitung abgeschlossen.\n",
      "\n",
      "Ergebnisse für URL: https://www.eversports.de/s/home-of-pole\n",
      "Progress: 58.14%\n",
      "\n",
      "Processing URL 326/559\n",
      "Verarbeite URL: https://www.eversports.de/s/Tanzschule-Poledance-Reutlingen\n",
      "Starte URL-Rekonstruktion...\n"
     ]
    },
    {
     "name": "stderr",
     "output_type": "stream",
     "text": [
      "2024-01-26 18:12:59,893 - INFO - Processing URL 1/5: https://www.eversports.de/s/Tanzschule-Poledance-Reutlingen\n"
     ]
    },
    {
     "name": "stdout",
     "output_type": "stream",
     "text": [
      "Konvertiere in DataFrame...\n",
      "Validiere URLs...\n"
     ]
    },
    {
     "name": "stderr",
     "output_type": "stream",
     "text": [
      "2024-01-26 18:13:01,592 - INFO - URL https://www.eversports.de/s/Tanzschule-Poledance-Reutlingen is valid.\n",
      "2024-01-26 18:13:01,593 - INFO - Processing URL 2/5: https://www.eversports.de/scl/Tanzschule-Poledance-Reutlingen\n",
      "2024-01-26 18:13:02,998 - INFO - URL https://www.eversports.de/scl/Tanzschule-Poledance-Reutlingen is valid.\n",
      "2024-01-26 18:13:02,999 - INFO - Processing URL 3/5: https://www.eversports.de/s/Tanzschule-Poledance-Reutlingen/videos\n",
      "2024-01-26 18:13:04,403 - INFO - URL https://www.eversports.de/s/Tanzschule-Poledance-Reutlingen/videos is valid.\n",
      "2024-01-26 18:13:04,404 - INFO - Processing URL 4/5: https://www.eversports.de/sp/Tanzschule-Poledance-Reutlingen\n",
      "2024-01-26 18:13:05,779 - INFO - URL https://www.eversports.de/sp/Tanzschule-Poledance-Reutlingen is valid.\n",
      "2024-01-26 18:13:05,780 - INFO - Processing URL 5/5: https://www.eversports.de/s/Tanzschule-Poledance-Reutlingen/team\n",
      "2024-01-26 18:13:07,428 - INFO - URL https://www.eversports.de/s/Tanzschule-Poledance-Reutlingen/team is valid.\n"
     ]
    },
    {
     "name": "stdout",
     "output_type": "stream",
     "text": [
      "Scrape Pole Studio Daten von https://www.eversports.de/s/Tanzschule-Poledance-Reutlingen...\n",
      "Scrape Klassen Daten von https://www.eversports.de/scl/Tanzschule-Poledance-Reutlingen...\n",
      "Scrape Klassen Details von https://www.eversports.de/scl/Tanzschule-Poledance-Reutlingen...\n",
      "Verarbeitung abgeschlossen.\n",
      "\n",
      "Ergebnisse für URL: https://www.eversports.de/s/Tanzschule-Poledance-Reutlingen\n",
      "Pole Studio Data:\n",
      "\n",
      "\n",
      "Classes Data:\n",
      "\n",
      "\n",
      "Classes Details:\n",
      "\n",
      "\n",
      "Progress: 58.32%\n",
      "\n",
      "Processing URL 327/559\n",
      "Verarbeite URL: https://www.eversports.de/s/die-dance-academy-by-wipper\n",
      "Starte URL-Rekonstruktion...\n",
      "Error during HTTP request: 404 Client Error: Not Found for url: https://www.eversports.de/s/die-dance-academy-by-wipper\n",
      "Konvertiere in DataFrame...\n",
      "Validiere URLs...\n",
      "Verarbeitung abgeschlossen.\n",
      "\n",
      "Ergebnisse für URL: https://www.eversports.de/s/die-dance-academy-by-wipper\n",
      "Progress: 58.50%\n",
      "\n",
      "Processing URL 328/559\n",
      "Verarbeite URL: https://www.eversports.de/s/airobics---pole-%26-aerial-dance-hamburg\n",
      "Starte URL-Rekonstruktion...\n",
      "Error during HTTP request: 404 Client Error: Not Found for url: https://www.eversports.de/s/airobics---pole-%26-aerial-dance-hamburg\n",
      "Konvertiere in DataFrame...\n",
      "Validiere URLs...\n",
      "Verarbeitung abgeschlossen.\n",
      "\n",
      "Ergebnisse für URL: https://www.eversports.de/s/airobics---pole-%26-aerial-dance-hamburg\n",
      "Progress: 58.68%\n",
      "\n",
      "Processing URL 329/559\n",
      "Verarbeite URL: https://www.eversports.de/s/move-with-ana\n",
      "Starte URL-Rekonstruktion...\n",
      "Error during HTTP request: 404 Client Error: Not Found for url: https://www.eversports.de/s/move-with-ana\n",
      "Konvertiere in DataFrame...\n",
      "Validiere URLs...\n",
      "Verarbeitung abgeschlossen.\n",
      "\n",
      "Ergebnisse für URL: https://www.eversports.de/s/move-with-ana\n",
      "Progress: 58.86%\n",
      "\n",
      "Processing URL 330/559\n",
      "Verarbeite URL: https://www.eversports.de/s/vertical-pole-aerial-dance-w%C3%BCrzburg\n",
      "Starte URL-Rekonstruktion...\n",
      "Error during HTTP request: Exceeded 30 redirects.\n",
      "Konvertiere in DataFrame...\n",
      "Validiere URLs...\n",
      "Verarbeitung abgeschlossen.\n",
      "\n",
      "Ergebnisse für URL: https://www.eversports.de/s/vertical-pole-aerial-dance-w%C3%BCrzburg\n",
      "Progress: 59.03%\n",
      "\n",
      "Processing URL 331/559\n",
      "Verarbeite URL: https://www.eversports.de/s/-pole-aerial-dance--souldance\n",
      "Starte URL-Rekonstruktion...\n",
      "Error during HTTP request: 404 Client Error: Not Found for url: https://www.eversports.de/s/-pole-aerial-dance--souldance\n",
      "Konvertiere in DataFrame...\n",
      "Validiere URLs...\n",
      "Verarbeitung abgeschlossen.\n",
      "\n",
      "Ergebnisse für URL: https://www.eversports.de/s/-pole-aerial-dance--souldance\n",
      "Progress: 59.21%\n",
      "\n",
      "Processing URL 332/559\n",
      "Verarbeite URL: https://www.eversports.de/s/Anni's-Pole-Dance-Uetersen\n",
      "Starte URL-Rekonstruktion...\n",
      "Error during HTTP request: 404 Client Error: Not Found for url: https://www.eversports.de/s/Anni's-Pole-Dance-Uetersen\n",
      "Konvertiere in DataFrame...\n",
      "Validiere URLs...\n",
      "Verarbeitung abgeschlossen.\n",
      "\n",
      "Ergebnisse für URL: https://www.eversports.de/s/Anni's-Pole-Dance-Uetersen\n",
      "Progress: 59.39%\n",
      "\n",
      "Processing URL 333/559\n",
      "Verarbeite URL: https://www.eversports.de/s/indeed-unique---studio-wien\n",
      "Starte URL-Rekonstruktion...\n",
      "Error during HTTP request: 404 Client Error: Not Found for url: https://www.eversports.de/s/indeed-unique---studio-wien\n",
      "Konvertiere in DataFrame...\n",
      "Validiere URLs...\n",
      "Verarbeitung abgeschlossen.\n",
      "\n",
      "Ergebnisse für URL: https://www.eversports.de/s/indeed-unique---studio-wien\n",
      "Progress: 59.57%\n",
      "\n",
      "Processing URL 334/559\n",
      "Verarbeite URL: https://www.eversports.de/s/pole-faction-rhein-neckar\n",
      "Starte URL-Rekonstruktion...\n"
     ]
    },
    {
     "name": "stderr",
     "output_type": "stream",
     "text": [
      "2024-01-26 18:15:23,952 - INFO - Processing URL 1/5: https://www.eversports.de/s/pole-faction-rhein-neckar\n"
     ]
    },
    {
     "name": "stdout",
     "output_type": "stream",
     "text": [
      "Konvertiere in DataFrame...\n",
      "Validiere URLs...\n"
     ]
    },
    {
     "name": "stderr",
     "output_type": "stream",
     "text": [
      "2024-01-26 18:15:25,554 - INFO - URL https://www.eversports.de/s/pole-faction-rhein-neckar is valid.\n",
      "2024-01-26 18:15:25,556 - INFO - Processing URL 2/5: https://www.eversports.de/scl/pole-faction-rhein-neckar\n",
      "2024-01-26 18:15:27,065 - INFO - URL https://www.eversports.de/scl/pole-faction-rhein-neckar is valid.\n",
      "2024-01-26 18:15:27,066 - INFO - Processing URL 3/5: https://www.eversports.de/sw/pole-faction-rhein-neckar\n",
      "2024-01-26 18:15:28,594 - INFO - URL https://www.eversports.de/sw/pole-faction-rhein-neckar is valid.\n",
      "2024-01-26 18:15:28,595 - INFO - Processing URL 4/5: https://www.eversports.de/sp/pole-faction-rhein-neckar\n",
      "2024-01-26 18:15:30,133 - INFO - URL https://www.eversports.de/sp/pole-faction-rhein-neckar is valid.\n",
      "2024-01-26 18:15:30,135 - INFO - Processing URL 5/5: https://www.eversports.de/s/pole-faction-rhein-neckar/team\n",
      "2024-01-26 18:15:31,709 - INFO - URL https://www.eversports.de/s/pole-faction-rhein-neckar/team is valid.\n"
     ]
    },
    {
     "name": "stdout",
     "output_type": "stream",
     "text": [
      "Scrape Pole Studio Daten von https://www.eversports.de/s/pole-faction-rhein-neckar...\n",
      "Scrape Klassen Daten von https://www.eversports.de/scl/pole-faction-rhein-neckar...\n",
      "Scrape Workshops Daten von https://www.eversports.de/sw/pole-faction-rhein-neckar...\n",
      "Scrape Workshop Details von https://www.eversports.de/e/workshop/ykldhbJ...\n",
      "Scrape Workshop Details von https://www.eversports.de/e/workshop/PETMN6i...\n",
      "Scrape Workshop Details von https://www.eversports.de/e/workshop/VtQCbbh...\n",
      "Verarbeitung abgeschlossen.\n",
      "\n",
      "Ergebnisse für URL: https://www.eversports.de/s/pole-faction-rhein-neckar\n",
      "Pole Studio Data:\n",
      "\n",
      "\n",
      "Workshops Data:\n",
      "\n",
      "\n",
      "Workshop Details:\n",
      "\n",
      "\n",
      "Progress: 59.75%\n",
      "\n",
      "Processing URL 335/559\n",
      "Verarbeite URL: https://www.eversports.de/s/pole-fit-britt\n",
      "Starte URL-Rekonstruktion...\n",
      "Error during HTTP request: 404 Client Error: Not Found for url: https://www.eversports.de/s/pole-fit-britt\n",
      "Konvertiere in DataFrame...\n",
      "Validiere URLs...\n",
      "Verarbeitung abgeschlossen.\n",
      "\n",
      "Ergebnisse für URL: https://www.eversports.de/s/pole-fit-britt\n",
      "Progress: 59.93%\n",
      "\n",
      "Processing URL 336/559\n",
      "Verarbeite URL: https://www.eversports.de/s/polefamily-koblenz\n",
      "Starte URL-Rekonstruktion...\n"
     ]
    },
    {
     "name": "stderr",
     "output_type": "stream",
     "text": [
      "2024-01-26 18:15:44,728 - INFO - Processing URL 1/4: https://www.eversports.de/s/polefamily-koblenz\n"
     ]
    },
    {
     "name": "stdout",
     "output_type": "stream",
     "text": [
      "Konvertiere in DataFrame...\n",
      "Validiere URLs...\n"
     ]
    },
    {
     "name": "stderr",
     "output_type": "stream",
     "text": [
      "2024-01-26 18:15:46,630 - INFO - URL https://www.eversports.de/s/polefamily-koblenz is valid.\n",
      "2024-01-26 18:15:46,631 - INFO - Processing URL 2/4: https://www.eversports.de/scl/polefamily-koblenz\n",
      "2024-01-26 18:15:48,209 - INFO - URL https://www.eversports.de/scl/polefamily-koblenz is valid.\n",
      "2024-01-26 18:15:48,210 - INFO - Processing URL 3/4: https://www.eversports.de/sp/polefamily-koblenz\n",
      "2024-01-26 18:15:50,386 - INFO - URL https://www.eversports.de/sp/polefamily-koblenz is valid.\n",
      "2024-01-26 18:15:50,387 - INFO - Processing URL 4/4: https://www.eversports.de/s/polefamily-koblenz/team\n",
      "2024-01-26 18:15:51,996 - INFO - URL https://www.eversports.de/s/polefamily-koblenz/team is valid.\n"
     ]
    },
    {
     "name": "stdout",
     "output_type": "stream",
     "text": [
      "Scrape Pole Studio Daten von https://www.eversports.de/s/polefamily-koblenz...\n",
      "Scrape Klassen Daten von https://www.eversports.de/scl/polefamily-koblenz...\n",
      "Scrape Klassen Details von https://www.eversports.de/scl/polefamily-koblenz...\n",
      "Verarbeitung abgeschlossen.\n",
      "\n",
      "Ergebnisse für URL: https://www.eversports.de/s/polefamily-koblenz\n",
      "Pole Studio Data:\n",
      "\n",
      "\n",
      "Classes Data:\n",
      "\n",
      "\n",
      "Classes Details:\n",
      "\n",
      "\n",
      "Progress: 60.11%\n",
      "\n",
      "Processing URL 337/559\n",
      "Verarbeite URL: https://www.eversports.de/s/munich-poledance\n",
      "Starte URL-Rekonstruktion...\n"
     ]
    },
    {
     "name": "stderr",
     "output_type": "stream",
     "text": [
      "2024-01-26 18:16:45,701 - INFO - Processing URL 1/5: https://www.eversports.de/s/munich-poledance\n"
     ]
    },
    {
     "name": "stdout",
     "output_type": "stream",
     "text": [
      "Konvertiere in DataFrame...\n",
      "Validiere URLs...\n"
     ]
    },
    {
     "name": "stderr",
     "output_type": "stream",
     "text": [
      "2024-01-26 18:16:47,519 - INFO - URL https://www.eversports.de/s/munich-poledance is valid.\n",
      "2024-01-26 18:16:47,521 - INFO - Processing URL 2/5: https://www.eversports.de/scl/munich-poledance\n",
      "2024-01-26 18:16:49,155 - INFO - URL https://www.eversports.de/scl/munich-poledance is valid.\n",
      "2024-01-26 18:16:49,156 - INFO - Processing URL 3/5: https://www.eversports.de/s/munich-poledance/videos\n",
      "2024-01-26 18:16:50,984 - INFO - URL https://www.eversports.de/s/munich-poledance/videos is valid.\n",
      "2024-01-26 18:16:50,985 - INFO - Processing URL 4/5: https://www.eversports.de/sp/munich-poledance\n",
      "2024-01-26 18:16:52,689 - INFO - URL https://www.eversports.de/sp/munich-poledance is valid.\n",
      "2024-01-26 18:16:52,690 - INFO - Processing URL 5/5: https://www.eversports.de/s/munich-poledance/team\n",
      "2024-01-26 18:16:54,293 - INFO - URL https://www.eversports.de/s/munich-poledance/team is valid.\n"
     ]
    },
    {
     "name": "stdout",
     "output_type": "stream",
     "text": [
      "Scrape Pole Studio Daten von https://www.eversports.de/s/munich-poledance...\n",
      "Scrape Klassen Daten von https://www.eversports.de/scl/munich-poledance...\n",
      "Scrape Klassen Details von https://www.eversports.de/scl/munich-poledance...\n",
      "Verarbeitung abgeschlossen.\n",
      "\n",
      "Ergebnisse für URL: https://www.eversports.de/s/munich-poledance\n",
      "Pole Studio Data:\n",
      "\n",
      "\n",
      "Classes Data:\n",
      "\n",
      "\n",
      "Classes Details:\n",
      "\n",
      "\n",
      "Progress: 60.29%\n",
      "\n",
      "Processing URL 338/559\n",
      "Verarbeite URL: https://www.eversports.de/s/unique-studios-schweinfurt\n",
      "Starte URL-Rekonstruktion...\n",
      "Error during HTTP request: 404 Client Error: Not Found for url: https://www.eversports.de/s/unique-studios-schweinfurt\n",
      "Konvertiere in DataFrame...\n",
      "Validiere URLs...\n",
      "Verarbeitung abgeschlossen.\n",
      "\n",
      "Ergebnisse für URL: https://www.eversports.de/s/unique-studios-schweinfurt\n",
      "Progress: 60.47%\n",
      "\n",
      "Processing URL 339/559\n",
      "Verarbeite URL: https://www.eversports.de/s/Polea--Pole-and-Aerial-Dance\n",
      "Starte URL-Rekonstruktion...\n",
      "Error during HTTP request: 404 Client Error: Not Found for url: https://www.eversports.de/s/polea--pole-and-aerial-dance\n",
      "Konvertiere in DataFrame...\n",
      "Validiere URLs...\n",
      "Verarbeitung abgeschlossen.\n",
      "\n",
      "Ergebnisse für URL: https://www.eversports.de/s/Polea--Pole-and-Aerial-Dance\n",
      "Progress: 60.64%\n",
      "\n",
      "Processing URL 340/559\n",
      "Verarbeite URL: https://www.eversports.de/s/mmc-dance-&-event-studio\n",
      "Starte URL-Rekonstruktion...\n",
      "Error during HTTP request: 404 Client Error: Not Found for url: https://www.eversports.de/s/mmc-dance-&-event-studio\n",
      "Konvertiere in DataFrame...\n",
      "Validiere URLs...\n",
      "Verarbeitung abgeschlossen.\n",
      "\n",
      "Ergebnisse für URL: https://www.eversports.de/s/mmc-dance-&-event-studio\n",
      "Progress: 60.82%\n",
      "\n",
      "Processing URL 341/559\n",
      "Verarbeite URL: https://www.eversports.de/s/Infinity-Polesports-Eggenfelden\n",
      "Starte URL-Rekonstruktion...\n"
     ]
    },
    {
     "name": "stderr",
     "output_type": "stream",
     "text": [
      "2024-01-26 18:19:33,048 - INFO - Processing URL 1/1: https://www.eversports.de/s/Infinity-Polesports-Eggenfelden\n"
     ]
    },
    {
     "name": "stdout",
     "output_type": "stream",
     "text": [
      "Konvertiere in DataFrame...\n",
      "Validiere URLs...\n"
     ]
    },
    {
     "name": "stderr",
     "output_type": "stream",
     "text": [
      "2024-01-26 18:19:34,890 - INFO - URL https://www.eversports.de/s/Infinity-Polesports-Eggenfelden is valid.\n"
     ]
    },
    {
     "name": "stdout",
     "output_type": "stream",
     "text": [
      "Scrape Pole Studio Daten von https://www.eversports.de/s/Infinity-Polesports-Eggenfelden...\n",
      "Verarbeitung abgeschlossen.\n",
      "\n",
      "Ergebnisse für URL: https://www.eversports.de/s/Infinity-Polesports-Eggenfelden\n",
      "Pole Studio Data:\n",
      "\n",
      "\n",
      "Progress: 61.00%\n",
      "\n",
      "Processing URL 342/559\n",
      "Verarbeite URL: https://www.eversports.de/s/pole-dance-studio-n%C3%BCrnberg\n",
      "Starte URL-Rekonstruktion...\n",
      "Error during HTTP request: Exceeded 30 redirects.\n",
      "Konvertiere in DataFrame...\n",
      "Validiere URLs...\n",
      "Verarbeitung abgeschlossen.\n",
      "\n",
      "Ergebnisse für URL: https://www.eversports.de/s/pole-dance-studio-n%C3%BCrnberg\n",
      "Progress: 61.18%\n",
      "\n",
      "Processing URL 343/559\n",
      "Verarbeite URL: https://www.eversports.de/s/souldance\n",
      "Starte URL-Rekonstruktion...\n",
      "Error during HTTP request: 404 Client Error: Not Found for url: https://www.eversports.de/s/souldance\n",
      "Konvertiere in DataFrame...\n",
      "Validiere URLs...\n",
      "Verarbeitung abgeschlossen.\n",
      "\n",
      "Ergebnisse für URL: https://www.eversports.de/s/souldance\n",
      "Progress: 61.36%\n",
      "\n",
      "Processing URL 344/559\n",
      "Verarbeite URL: https://www.eversports.de/s/le-chat-noir-berlin\n",
      "Starte URL-Rekonstruktion...\n",
      "Error during HTTP request: 404 Client Error: Not Found for url: https://www.eversports.de/s/le-chat-noir-berlin\n",
      "Konvertiere in DataFrame...\n",
      "Validiere URLs...\n",
      "Verarbeitung abgeschlossen.\n",
      "\n",
      "Ergebnisse für URL: https://www.eversports.de/s/le-chat-noir-berlin\n",
      "Progress: 61.54%\n",
      "\n",
      "Processing URL 345/559\n",
      "Verarbeite URL: https://www.eversports.de/s/pole-faction-pole-dance-and-fitness\n",
      "Starte URL-Rekonstruktion...\n",
      "Error during HTTP request: 404 Client Error: Not Found for url: https://www.eversports.de/s/pole-faction-pole-dance-and-fitness\n",
      "Konvertiere in DataFrame...\n",
      "Validiere URLs...\n",
      "Verarbeitung abgeschlossen.\n",
      "\n",
      "Ergebnisse für URL: https://www.eversports.de/s/pole-faction-pole-dance-and-fitness\n",
      "Progress: 61.72%\n",
      "\n",
      "Processing URL 346/559\n",
      "Verarbeite URL: https://www.eversports.de/s/seemannsbraut-poledance\n",
      "Starte URL-Rekonstruktion...\n"
     ]
    },
    {
     "name": "stderr",
     "output_type": "stream",
     "text": [
      "2024-01-26 18:19:45,194 - INFO - Processing URL 1/6: https://www.eversports.de/s/seemannsbraut-poledance\n"
     ]
    },
    {
     "name": "stdout",
     "output_type": "stream",
     "text": [
      "Konvertiere in DataFrame...\n",
      "Validiere URLs...\n"
     ]
    },
    {
     "name": "stderr",
     "output_type": "stream",
     "text": [
      "2024-01-26 18:19:46,857 - INFO - URL https://www.eversports.de/s/seemannsbraut-poledance is valid.\n",
      "2024-01-26 18:19:46,858 - INFO - Processing URL 2/6: https://www.eversports.de/scl/seemannsbraut-poledance\n",
      "2024-01-26 18:19:48,347 - INFO - URL https://www.eversports.de/scl/seemannsbraut-poledance is valid.\n",
      "2024-01-26 18:19:48,348 - INFO - Processing URL 3/6: https://www.eversports.de/s/seemannsbraut-poledance/kurse\n",
      "2024-01-26 18:19:49,765 - INFO - URL https://www.eversports.de/s/seemannsbraut-poledance/kurse is not valid.\n",
      "2024-01-26 18:19:49,766 - INFO - Processing URL 4/6: https://www.eversports.de/sw/seemannsbraut-poledance\n",
      "2024-01-26 18:19:51,258 - INFO - URL https://www.eversports.de/sw/seemannsbraut-poledance is valid.\n",
      "2024-01-26 18:19:51,259 - INFO - Processing URL 5/6: https://www.eversports.de/sp/seemannsbraut-poledance\n",
      "2024-01-26 18:19:53,152 - INFO - URL https://www.eversports.de/sp/seemannsbraut-poledance is valid.\n",
      "2024-01-26 18:19:53,154 - INFO - Processing URL 6/6: https://www.eversports.de/s/seemannsbraut-poledance/team\n",
      "2024-01-26 18:19:54,769 - INFO - URL https://www.eversports.de/s/seemannsbraut-poledance/team is valid.\n"
     ]
    },
    {
     "name": "stdout",
     "output_type": "stream",
     "text": [
      "Scrape Pole Studio Daten von https://www.eversports.de/s/seemannsbraut-poledance...\n",
      "Scrape Klassen Daten von https://www.eversports.de/scl/seemannsbraut-poledance...\n",
      "Scrape Klassen Details von https://www.eversports.de/scl/seemannsbraut-poledance...\n",
      "Scrape Workshops Daten von https://www.eversports.de/sw/seemannsbraut-poledance...\n",
      "Scrape Workshop Details von https://www.eversports.de/e/workshop/tjSmCEx...\n",
      "Scrape Workshop Details von https://www.eversports.de/e/workshop/mQPzgO-...\n",
      "Verarbeitung abgeschlossen.\n",
      "\n",
      "Ergebnisse für URL: https://www.eversports.de/s/seemannsbraut-poledance\n",
      "Pole Studio Data:\n",
      "\n",
      "\n",
      "Classes Data:\n",
      "\n",
      "\n",
      "Classes Details:\n",
      "\n",
      "\n",
      "Workshops Data:\n",
      "\n",
      "\n",
      "Workshop Details:\n",
      "\n",
      "\n",
      "Progress: 61.90%\n",
      "\n",
      "Processing URL 347/559\n",
      "Verarbeite URL: https://www.eversports.de/s/flow-academy\n",
      "Starte URL-Rekonstruktion...\n"
     ]
    },
    {
     "name": "stderr",
     "output_type": "stream",
     "text": [
      "2024-01-26 18:21:12,575 - INFO - Processing URL 1/4: https://www.eversports.de/s/flow-academy\n"
     ]
    },
    {
     "name": "stdout",
     "output_type": "stream",
     "text": [
      "Konvertiere in DataFrame...\n",
      "Validiere URLs...\n"
     ]
    },
    {
     "name": "stderr",
     "output_type": "stream",
     "text": [
      "2024-01-26 18:21:14,240 - INFO - URL https://www.eversports.de/s/flow-academy is valid.\n",
      "2024-01-26 18:21:14,241 - INFO - Processing URL 2/4: https://www.eversports.de/scl/flow-academy\n",
      "2024-01-26 18:21:15,739 - INFO - URL https://www.eversports.de/scl/flow-academy is valid.\n",
      "2024-01-26 18:21:15,740 - INFO - Processing URL 3/4: https://www.eversports.de/sp/flow-academy\n",
      "2024-01-26 18:21:17,231 - INFO - URL https://www.eversports.de/sp/flow-academy is valid.\n",
      "2024-01-26 18:21:17,232 - INFO - Processing URL 4/4: https://www.eversports.de/s/flow-academy/team\n",
      "2024-01-26 18:21:18,770 - INFO - URL https://www.eversports.de/s/flow-academy/team is valid.\n"
     ]
    },
    {
     "name": "stdout",
     "output_type": "stream",
     "text": [
      "Scrape Pole Studio Daten von https://www.eversports.de/s/flow-academy...\n",
      "Scrape Klassen Daten von https://www.eversports.de/scl/flow-academy...\n",
      "Scrape Klassen Details von https://www.eversports.de/scl/flow-academy...\n",
      "Verarbeitung abgeschlossen.\n",
      "\n",
      "Ergebnisse für URL: https://www.eversports.de/s/flow-academy\n",
      "Pole Studio Data:\n",
      "\n",
      "\n",
      "Classes Data:\n",
      "\n",
      "\n",
      "Classes Details:\n",
      "\n",
      "\n",
      "Progress: 62.08%\n",
      "\n",
      "Processing URL 348/559\n",
      "Verarbeite URL: https://www.eversports.de/s/TSG-Blau-Gold-Gießen-e.V.\n",
      "Starte URL-Rekonstruktion...\n",
      "Error during HTTP request: Exceeded 30 redirects.\n",
      "Konvertiere in DataFrame...\n",
      "Validiere URLs...\n",
      "Verarbeitung abgeschlossen.\n",
      "\n",
      "Ergebnisse für URL: https://www.eversports.de/s/TSG-Blau-Gold-Gießen-e.V.\n",
      "Progress: 62.25%\n",
      "\n",
      "Processing URL 349/559\n",
      "Verarbeite URL: https://www.eversports.de/s/Body-meets-Soul-Leipzig\n",
      "Starte URL-Rekonstruktion...\n"
     ]
    },
    {
     "name": "stderr",
     "output_type": "stream",
     "text": [
      "2024-01-26 18:21:43,137 - INFO - Processing URL 1/6: https://www.eversports.de/s/Body-meets-Soul-Leipzig\n"
     ]
    },
    {
     "name": "stdout",
     "output_type": "stream",
     "text": [
      "Konvertiere in DataFrame...\n",
      "Validiere URLs...\n"
     ]
    },
    {
     "name": "stderr",
     "output_type": "stream",
     "text": [
      "2024-01-26 18:21:44,924 - INFO - URL https://www.eversports.de/s/Body-meets-Soul-Leipzig is valid.\n",
      "2024-01-26 18:21:44,925 - INFO - Processing URL 2/6: https://www.eversports.de/scl/Body-meets-Soul-Leipzig\n",
      "2024-01-26 18:21:46,394 - INFO - URL https://www.eversports.de/scl/Body-meets-Soul-Leipzig is valid.\n",
      "2024-01-26 18:21:46,395 - INFO - Processing URL 3/6: https://www.eversports.de/sw/Body-meets-Soul-Leipzig\n",
      "2024-01-26 18:21:47,906 - INFO - URL https://www.eversports.de/sw/Body-meets-Soul-Leipzig is valid.\n",
      "2024-01-26 18:21:47,907 - INFO - Processing URL 4/6: https://www.eversports.de/s/Body-meets-Soul-Leipzig/videos\n",
      "2024-01-26 18:21:49,355 - INFO - URL https://www.eversports.de/s/Body-meets-Soul-Leipzig/videos is valid.\n",
      "2024-01-26 18:21:49,356 - INFO - Processing URL 5/6: https://www.eversports.de/sp/Body-meets-Soul-Leipzig\n",
      "2024-01-26 18:21:51,014 - INFO - URL https://www.eversports.de/sp/Body-meets-Soul-Leipzig is valid.\n",
      "2024-01-26 18:21:51,016 - INFO - Processing URL 6/6: https://www.eversports.de/s/Body-meets-Soul-Leipzig/team\n",
      "2024-01-26 18:21:52,590 - INFO - URL https://www.eversports.de/s/Body-meets-Soul-Leipzig/team is valid.\n"
     ]
    },
    {
     "name": "stdout",
     "output_type": "stream",
     "text": [
      "Scrape Pole Studio Daten von https://www.eversports.de/s/Body-meets-Soul-Leipzig...\n",
      "Scrape Klassen Daten von https://www.eversports.de/scl/Body-meets-Soul-Leipzig...\n",
      "Scrape Klassen Details von https://www.eversports.de/scl/Body-meets-Soul-Leipzig...\n",
      "Scrape Workshops Daten von https://www.eversports.de/sw/Body-meets-Soul-Leipzig...\n",
      "Scrape Workshop Details von https://www.eversports.de/e/workshop/uO9N1VQ...\n",
      "Verarbeitung abgeschlossen.\n",
      "\n",
      "Ergebnisse für URL: https://www.eversports.de/s/Body-meets-Soul-Leipzig\n",
      "Pole Studio Data:\n",
      "\n",
      "\n",
      "Classes Data:\n",
      "\n",
      "\n",
      "Classes Details:\n",
      "\n",
      "\n",
      "Workshops Data:\n",
      "\n",
      "\n",
      "Workshop Details:\n",
      "\n",
      "\n",
      "Progress: 62.43%\n",
      "\n",
      "Processing URL 350/559\n",
      "Verarbeite URL: https://www.eversports.de/s/lift-off---poledance-academy-viersen\n",
      "Starte URL-Rekonstruktion...\n",
      "Error during HTTP request: 404 Client Error: Not Found for url: https://www.eversports.de/s/lift-off---poledance-academy-viersen\n",
      "Konvertiere in DataFrame...\n",
      "Validiere URLs...\n",
      "Verarbeitung abgeschlossen.\n",
      "\n",
      "Ergebnisse für URL: https://www.eversports.de/s/lift-off---poledance-academy-viersen\n",
      "Progress: 62.61%\n",
      "\n",
      "Processing URL 351/559\n",
      "Verarbeite URL: https://www.eversports.de/s/körperformfabrik-gbr\n",
      "Starte URL-Rekonstruktion...\n",
      "Error during HTTP request: Exceeded 30 redirects.\n",
      "Konvertiere in DataFrame...\n",
      "Validiere URLs...\n",
      "Verarbeitung abgeschlossen.\n",
      "\n",
      "Ergebnisse für URL: https://www.eversports.de/s/körperformfabrik-gbr\n",
      "Progress: 62.79%\n",
      "\n",
      "Processing URL 352/559\n",
      "Verarbeite URL: https://www.eversports.de/s/polefitness-premium\n",
      "Starte URL-Rekonstruktion...\n",
      "Error during HTTP request: 404 Client Error: Not Found for url: https://www.eversports.de/s/polefitness-premium\n",
      "Konvertiere in DataFrame...\n",
      "Validiere URLs...\n",
      "Verarbeitung abgeschlossen.\n",
      "\n",
      "Ergebnisse für URL: https://www.eversports.de/s/polefitness-premium\n",
      "Progress: 62.97%\n",
      "\n",
      "Processing URL 353/559\n",
      "Verarbeite URL: https://www.eversports.de/s/pole-dance-studio-passion-hannover\n",
      "Starte URL-Rekonstruktion...\n"
     ]
    },
    {
     "name": "stderr",
     "output_type": "stream",
     "text": [
      "2024-01-26 18:22:16,277 - INFO - Processing URL 1/4: https://www.eversports.de/s/pole-dance-studio-passion-hannover\n"
     ]
    },
    {
     "name": "stdout",
     "output_type": "stream",
     "text": [
      "Konvertiere in DataFrame...\n",
      "Validiere URLs...\n"
     ]
    },
    {
     "name": "stderr",
     "output_type": "stream",
     "text": [
      "2024-01-26 18:22:17,865 - INFO - URL https://www.eversports.de/s/pole-dance-studio-passion-hannover is valid.\n",
      "2024-01-26 18:22:17,866 - INFO - Processing URL 2/4: https://www.eversports.de/scl/pole-dance-studio-passion-hannover\n",
      "2024-01-26 18:22:19,390 - INFO - URL https://www.eversports.de/scl/pole-dance-studio-passion-hannover is valid.\n",
      "2024-01-26 18:22:19,391 - INFO - Processing URL 3/4: https://www.eversports.de/sp/pole-dance-studio-passion-hannover\n",
      "2024-01-26 18:22:20,930 - INFO - URL https://www.eversports.de/sp/pole-dance-studio-passion-hannover is valid.\n",
      "2024-01-26 18:22:20,931 - INFO - Processing URL 4/4: https://www.eversports.de/s/pole-dance-studio-passion-hannover/team\n",
      "2024-01-26 18:22:22,478 - INFO - URL https://www.eversports.de/s/pole-dance-studio-passion-hannover/team is valid.\n"
     ]
    },
    {
     "name": "stdout",
     "output_type": "stream",
     "text": [
      "Scrape Pole Studio Daten von https://www.eversports.de/s/pole-dance-studio-passion-hannover...\n",
      "Scrape Klassen Daten von https://www.eversports.de/scl/pole-dance-studio-passion-hannover...\n",
      "Scrape Klassen Details von https://www.eversports.de/scl/pole-dance-studio-passion-hannover...\n",
      "Verarbeitung abgeschlossen.\n",
      "\n",
      "Ergebnisse für URL: https://www.eversports.de/s/pole-dance-studio-passion-hannover\n",
      "Pole Studio Data:\n",
      "\n",
      "\n",
      "Classes Data:\n",
      "\n",
      "\n",
      "Classes Details:\n",
      "\n",
      "\n",
      "Progress: 63.15%\n",
      "\n",
      "Processing URL 354/559\n",
      "Verarbeite URL: https://www.eversports.de/s/VerticalArts-Pole-&-Aerial-Fitness\n",
      "Starte URL-Rekonstruktion...\n",
      "Error during HTTP request: 404 Client Error: Not Found for url: https://www.eversports.de/s/VerticalArts-Pole-&-Aerial-Fitness\n",
      "Konvertiere in DataFrame...\n",
      "Validiere URLs...\n",
      "Verarbeitung abgeschlossen.\n",
      "\n",
      "Ergebnisse für URL: https://www.eversports.de/s/VerticalArts-Pole-&-Aerial-Fitness\n",
      "Progress: 63.33%\n",
      "\n",
      "Processing URL 355/559\n",
      "Verarbeite URL: https://www.eversports.de/s/Aerial-Art-Poledance\n",
      "Starte URL-Rekonstruktion...\n"
     ]
    },
    {
     "name": "stderr",
     "output_type": "stream",
     "text": [
      "2024-01-26 18:22:51,793 - INFO - Processing URL 1/7: https://www.eversports.de/s/Aerial-Art-Poledance\n"
     ]
    },
    {
     "name": "stdout",
     "output_type": "stream",
     "text": [
      "Konvertiere in DataFrame...\n",
      "Validiere URLs...\n"
     ]
    },
    {
     "name": "stderr",
     "output_type": "stream",
     "text": [
      "2024-01-26 18:22:53,512 - INFO - URL https://www.eversports.de/s/Aerial-Art-Poledance is valid.\n",
      "2024-01-26 18:22:53,513 - INFO - Processing URL 2/7: https://www.eversports.de/scl/Aerial-Art-Poledance\n",
      "2024-01-26 18:22:55,005 - INFO - URL https://www.eversports.de/scl/Aerial-Art-Poledance is valid.\n",
      "2024-01-26 18:22:55,006 - INFO - Processing URL 3/7: https://www.eversports.de/sw/Aerial-Art-Poledance\n",
      "2024-01-26 18:22:56,545 - INFO - URL https://www.eversports.de/sw/Aerial-Art-Poledance is valid.\n",
      "2024-01-26 18:22:56,547 - INFO - Processing URL 4/7: https://www.eversports.de/s/Aerial-Art-Poledance/events\n",
      "2024-01-26 18:22:57,951 - INFO - URL https://www.eversports.de/s/Aerial-Art-Poledance/events is not valid.\n",
      "2024-01-26 18:22:57,954 - INFO - Processing URL 5/7: https://www.eversports.de/s/Aerial-Art-Poledance/videos\n",
      "2024-01-26 18:22:59,469 - INFO - URL https://www.eversports.de/s/Aerial-Art-Poledance/videos is valid.\n",
      "2024-01-26 18:22:59,471 - INFO - Processing URL 6/7: https://www.eversports.de/sp/Aerial-Art-Poledance\n",
      "2024-01-26 18:23:01,025 - INFO - URL https://www.eversports.de/sp/Aerial-Art-Poledance is valid.\n",
      "2024-01-26 18:23:01,026 - INFO - Processing URL 7/7: https://www.eversports.de/s/Aerial-Art-Poledance/team\n",
      "2024-01-26 18:23:02,734 - INFO - URL https://www.eversports.de/s/Aerial-Art-Poledance/team is valid.\n"
     ]
    },
    {
     "name": "stdout",
     "output_type": "stream",
     "text": [
      "Scrape Pole Studio Daten von https://www.eversports.de/s/Aerial-Art-Poledance...\n",
      "Scrape Klassen Daten von https://www.eversports.de/scl/Aerial-Art-Poledance...\n",
      "Scrape Klassen Details von https://www.eversports.de/scl/Aerial-Art-Poledance...\n",
      "Scrape Workshops Daten von https://www.eversports.de/sw/Aerial-Art-Poledance...\n",
      "Scrape Workshop Details von https://www.eversports.de/e/workshop/1pLUOJO...\n",
      "Verarbeitung abgeschlossen.\n",
      "\n",
      "Ergebnisse für URL: https://www.eversports.de/s/Aerial-Art-Poledance\n",
      "Pole Studio Data:\n",
      "\n",
      "\n",
      "Classes Data:\n",
      "\n",
      "\n",
      "Classes Details:\n",
      "\n",
      "\n",
      "Workshops Data:\n",
      "\n",
      "\n",
      "Workshop Details:\n",
      "\n",
      "\n",
      "Progress: 63.51%\n",
      "\n",
      "Processing URL 356/559\n",
      "Verarbeite URL: https://www.eversports.de/s/poledance-zwickau-e.-v.\n",
      "Starte URL-Rekonstruktion...\n",
      "Error during HTTP request: 404 Client Error: Not Found for url: https://www.eversports.de/s/poledance-zwickau-e.-v.\n",
      "Konvertiere in DataFrame...\n",
      "Validiere URLs...\n",
      "Verarbeitung abgeschlossen.\n",
      "\n",
      "Ergebnisse für URL: https://www.eversports.de/s/poledance-zwickau-e.-v.\n",
      "Progress: 63.69%\n",
      "\n",
      "Processing URL 357/559\n",
      "Verarbeite URL: https://www.eversports.de/s/lush-motion\n",
      "Starte URL-Rekonstruktion...\n"
     ]
    },
    {
     "name": "stderr",
     "output_type": "stream",
     "text": [
      "2024-01-26 18:25:02,037 - INFO - Processing URL 1/1: https://www.eversports.de/s/lush-motion\n"
     ]
    },
    {
     "name": "stdout",
     "output_type": "stream",
     "text": [
      "Konvertiere in DataFrame...\n",
      "Validiere URLs...\n"
     ]
    },
    {
     "name": "stderr",
     "output_type": "stream",
     "text": [
      "2024-01-26 18:25:05,186 - INFO - URL https://www.eversports.de/s/lush-motion is valid.\n"
     ]
    },
    {
     "name": "stdout",
     "output_type": "stream",
     "text": [
      "Scrape Pole Studio Daten von https://www.eversports.de/s/lush-motion...\n",
      "Verarbeitung abgeschlossen.\n",
      "\n",
      "Ergebnisse für URL: https://www.eversports.de/s/lush-motion\n",
      "Pole Studio Data:\n",
      "\n",
      "\n",
      "Progress: 63.86%\n",
      "\n",
      "Processing URL 358/559\n",
      "Verarbeite URL: https://www.eversports.de/s/Tanzteufel\n",
      "Starte URL-Rekonstruktion...\n"
     ]
    },
    {
     "name": "stderr",
     "output_type": "stream",
     "text": [
      "2024-01-26 18:25:08,226 - INFO - Processing URL 1/5: https://www.eversports.de/s/Tanzteufel\n"
     ]
    },
    {
     "name": "stdout",
     "output_type": "stream",
     "text": [
      "Konvertiere in DataFrame...\n",
      "Validiere URLs...\n"
     ]
    },
    {
     "name": "stderr",
     "output_type": "stream",
     "text": [
      "2024-01-26 18:25:10,153 - INFO - URL https://www.eversports.de/s/Tanzteufel is valid.\n",
      "2024-01-26 18:25:10,154 - INFO - Processing URL 2/5: https://www.eversports.de/scl/Tanzteufel\n",
      "2024-01-26 18:25:11,789 - INFO - URL https://www.eversports.de/scl/Tanzteufel is valid.\n",
      "2024-01-26 18:25:11,790 - INFO - Processing URL 3/5: https://www.eversports.de/s/Tanzteufel/videos\n",
      "2024-01-26 18:25:13,507 - INFO - URL https://www.eversports.de/s/Tanzteufel/videos is valid.\n",
      "2024-01-26 18:25:13,508 - INFO - Processing URL 4/5: https://www.eversports.de/sp/Tanzteufel\n",
      "2024-01-26 18:25:15,105 - INFO - URL https://www.eversports.de/sp/Tanzteufel is valid.\n",
      "2024-01-26 18:25:15,106 - INFO - Processing URL 5/5: https://www.eversports.de/s/Tanzteufel/team\n",
      "2024-01-26 18:25:18,622 - INFO - URL https://www.eversports.de/s/Tanzteufel/team is valid.\n"
     ]
    },
    {
     "name": "stdout",
     "output_type": "stream",
     "text": [
      "Scrape Pole Studio Daten von https://www.eversports.de/s/Tanzteufel...\n",
      "Scrape Klassen Daten von https://www.eversports.de/scl/Tanzteufel...\n",
      "Scrape Klassen Details von https://www.eversports.de/scl/Tanzteufel...\n",
      "Verarbeitung abgeschlossen.\n",
      "\n",
      "Ergebnisse für URL: https://www.eversports.de/s/Tanzteufel\n",
      "Pole Studio Data:\n",
      "\n",
      "\n",
      "Classes Data:\n",
      "\n",
      "\n",
      "Classes Details:\n",
      "\n",
      "\n",
      "Progress: 64.04%\n",
      "\n",
      "Processing URL 359/559\n",
      "Verarbeite URL: https://www.eversports.de/s/dance-and-pole-langenfeld\n",
      "Starte URL-Rekonstruktion...\n"
     ]
    },
    {
     "name": "stderr",
     "output_type": "stream",
     "text": [
      "2024-01-26 18:28:10,896 - INFO - Processing URL 1/4: https://www.eversports.de/s/dance-and-pole-langenfeld\n"
     ]
    },
    {
     "name": "stdout",
     "output_type": "stream",
     "text": [
      "Konvertiere in DataFrame...\n",
      "Validiere URLs...\n"
     ]
    },
    {
     "name": "stderr",
     "output_type": "stream",
     "text": [
      "2024-01-26 18:28:12,696 - INFO - URL https://www.eversports.de/s/dance-and-pole-langenfeld is valid.\n",
      "2024-01-26 18:28:12,698 - INFO - Processing URL 2/4: https://www.eversports.de/scl/dance-and-pole-langenfeld\n",
      "2024-01-26 18:28:14,680 - INFO - URL https://www.eversports.de/scl/dance-and-pole-langenfeld is valid.\n",
      "2024-01-26 18:28:14,681 - INFO - Processing URL 3/4: https://www.eversports.de/sp/dance-and-pole-langenfeld\n",
      "2024-01-26 18:28:16,846 - INFO - URL https://www.eversports.de/sp/dance-and-pole-langenfeld is valid.\n",
      "2024-01-26 18:28:16,848 - INFO - Processing URL 4/4: https://www.eversports.de/s/dance-and-pole-langenfeld/team\n",
      "2024-01-26 18:28:18,975 - INFO - URL https://www.eversports.de/s/dance-and-pole-langenfeld/team is valid.\n"
     ]
    },
    {
     "name": "stdout",
     "output_type": "stream",
     "text": [
      "Scrape Pole Studio Daten von https://www.eversports.de/s/dance-and-pole-langenfeld...\n",
      "Scrape Klassen Daten von https://www.eversports.de/scl/dance-and-pole-langenfeld...\n",
      "Scrape Klassen Details von https://www.eversports.de/scl/dance-and-pole-langenfeld...\n",
      "Verarbeitung abgeschlossen.\n",
      "\n",
      "Ergebnisse für URL: https://www.eversports.de/s/dance-and-pole-langenfeld\n",
      "Pole Studio Data:\n",
      "\n",
      "\n",
      "Classes Data:\n",
      "\n",
      "\n",
      "Classes Details:\n",
      "\n",
      "\n",
      "Progress: 64.22%\n",
      "\n",
      "Processing URL 360/559\n",
      "Verarbeite URL: https://www.eversports.de/s/Pole-Dance-Balance\n",
      "Starte URL-Rekonstruktion...\n"
     ]
    },
    {
     "name": "stderr",
     "output_type": "stream",
     "text": [
      "2024-01-26 18:29:26,466 - INFO - Processing URL 1/2: https://www.eversports.de/s/Pole-Dance-Balance\n"
     ]
    },
    {
     "name": "stdout",
     "output_type": "stream",
     "text": [
      "Konvertiere in DataFrame...\n",
      "Validiere URLs...\n"
     ]
    },
    {
     "name": "stderr",
     "output_type": "stream",
     "text": [
      "2024-01-26 18:29:28,382 - INFO - URL https://www.eversports.de/s/Pole-Dance-Balance is valid.\n",
      "2024-01-26 18:29:28,384 - INFO - Processing URL 2/2: https://www.eversports.de/sp/Pole-Dance-Balance\n",
      "2024-01-26 18:29:30,189 - INFO - URL https://www.eversports.de/sp/Pole-Dance-Balance is valid.\n"
     ]
    },
    {
     "name": "stdout",
     "output_type": "stream",
     "text": [
      "Scrape Pole Studio Daten von https://www.eversports.de/s/Pole-Dance-Balance...\n",
      "Verarbeitung abgeschlossen.\n",
      "\n",
      "Ergebnisse für URL: https://www.eversports.de/s/Pole-Dance-Balance\n",
      "Pole Studio Data:\n",
      "\n",
      "\n",
      "Progress: 64.40%\n",
      "\n",
      "Processing URL 361/559\n",
      "Verarbeite URL: https://www.eversports.de/s/ima-intentional-movement-academy\n",
      "Starte URL-Rekonstruktion...\n"
     ]
    },
    {
     "name": "stderr",
     "output_type": "stream",
     "text": [
      "2024-01-26 18:29:32,659 - INFO - Processing URL 1/6: https://www.eversports.de/s/ima-intentional-movement-academy\n"
     ]
    },
    {
     "name": "stdout",
     "output_type": "stream",
     "text": [
      "Konvertiere in DataFrame...\n",
      "Validiere URLs...\n"
     ]
    },
    {
     "name": "stderr",
     "output_type": "stream",
     "text": [
      "2024-01-26 18:29:34,413 - INFO - URL https://www.eversports.de/s/ima-intentional-movement-academy is valid.\n",
      "2024-01-26 18:29:34,415 - INFO - Processing URL 2/6: https://www.eversports.de/scl/ima-intentional-movement-academy\n",
      "2024-01-26 18:29:35,914 - INFO - URL https://www.eversports.de/scl/ima-intentional-movement-academy is valid.\n",
      "2024-01-26 18:29:35,915 - INFO - Processing URL 3/6: https://www.eversports.de/s/ima-intentional-movement-academy/retreats\n",
      "2024-01-26 18:29:38,509 - INFO - URL https://www.eversports.de/s/ima-intentional-movement-academy/retreats is not valid.\n",
      "2024-01-26 18:29:38,510 - INFO - Processing URL 4/6: https://www.eversports.de/s/ima-intentional-movement-academy/videos\n",
      "2024-01-26 18:29:40,174 - INFO - URL https://www.eversports.de/s/ima-intentional-movement-academy/videos is valid.\n",
      "2024-01-26 18:29:40,175 - INFO - Processing URL 5/6: https://www.eversports.de/sp/ima-intentional-movement-academy\n",
      "2024-01-26 18:29:41,774 - INFO - URL https://www.eversports.de/sp/ima-intentional-movement-academy is valid.\n",
      "2024-01-26 18:29:41,775 - INFO - Processing URL 6/6: https://www.eversports.de/s/ima-intentional-movement-academy/team\n",
      "2024-01-26 18:29:43,429 - INFO - URL https://www.eversports.de/s/ima-intentional-movement-academy/team is valid.\n"
     ]
    },
    {
     "name": "stdout",
     "output_type": "stream",
     "text": [
      "Scrape Pole Studio Daten von https://www.eversports.de/s/ima-intentional-movement-academy...\n",
      "Scrape Klassen Daten von https://www.eversports.de/scl/ima-intentional-movement-academy...\n",
      "Scrape Klassen Details von https://www.eversports.de/scl/ima-intentional-movement-academy...\n",
      "Verarbeitung abgeschlossen.\n",
      "\n",
      "Ergebnisse für URL: https://www.eversports.de/s/ima-intentional-movement-academy\n",
      "Pole Studio Data:\n",
      "\n",
      "\n",
      "Classes Data:\n",
      "\n",
      "\n",
      "Classes Details:\n",
      "\n",
      "\n",
      "Progress: 64.58%\n",
      "\n",
      "Processing URL 362/559\n",
      "Verarbeite URL: https://www.eversports.de/s/schwerelos\n",
      "Starte URL-Rekonstruktion...\n",
      "Error during HTTP request: 404 Client Error: Not Found for url: https://www.eversports.de/s/schwerelos\n",
      "Konvertiere in DataFrame...\n",
      "Validiere URLs...\n",
      "Verarbeitung abgeschlossen.\n",
      "\n",
      "Ergebnisse für URL: https://www.eversports.de/s/schwerelos\n",
      "Progress: 64.76%\n",
      "\n",
      "Processing URL 363/559\n",
      "Verarbeite URL: https://www.eversports.de/s/pole-land\n",
      "Starte URL-Rekonstruktion...\n"
     ]
    },
    {
     "name": "stderr",
     "output_type": "stream",
     "text": [
      "2024-01-26 18:31:05,144 - INFO - Processing URL 1/7: https://www.eversports.de/s/pole-land\n"
     ]
    },
    {
     "name": "stdout",
     "output_type": "stream",
     "text": [
      "Konvertiere in DataFrame...\n",
      "Validiere URLs...\n"
     ]
    },
    {
     "name": "stderr",
     "output_type": "stream",
     "text": [
      "2024-01-26 18:31:07,171 - INFO - URL https://www.eversports.de/s/pole-land is valid.\n",
      "2024-01-26 18:31:07,172 - INFO - Processing URL 2/7: https://www.eversports.de/scl/pole-land\n",
      "2024-01-26 18:31:08,856 - INFO - URL https://www.eversports.de/scl/pole-land is valid.\n",
      "2024-01-26 18:31:08,857 - INFO - Processing URL 3/7: https://www.eversports.de/s/pole-land/kurse\n",
      "2024-01-26 18:31:10,292 - INFO - URL https://www.eversports.de/s/pole-land/kurse is not valid.\n",
      "2024-01-26 18:31:10,293 - INFO - Processing URL 4/7: https://www.eversports.de/sw/pole-land\n",
      "2024-01-26 18:31:12,121 - INFO - URL https://www.eversports.de/sw/pole-land is valid.\n",
      "2024-01-26 18:31:12,122 - INFO - Processing URL 5/7: https://www.eversports.de/s/pole-land/events\n",
      "2024-01-26 18:31:13,527 - INFO - URL https://www.eversports.de/s/pole-land/events is not valid.\n",
      "2024-01-26 18:31:13,528 - INFO - Processing URL 6/7: https://www.eversports.de/sp/pole-land\n",
      "2024-01-26 18:31:15,075 - INFO - URL https://www.eversports.de/sp/pole-land is valid.\n",
      "2024-01-26 18:31:15,076 - INFO - Processing URL 7/7: https://www.eversports.de/s/pole-land/team\n",
      "2024-01-26 18:31:16,646 - INFO - URL https://www.eversports.de/s/pole-land/team is valid.\n"
     ]
    },
    {
     "name": "stdout",
     "output_type": "stream",
     "text": [
      "Scrape Pole Studio Daten von https://www.eversports.de/s/pole-land...\n",
      "Scrape Klassen Daten von https://www.eversports.de/scl/pole-land...\n",
      "Scrape Klassen Details von https://www.eversports.de/scl/pole-land...\n",
      "Fehler beim Abrufen der Webseite\n",
      "Scrape Workshops Daten von https://www.eversports.de/sw/pole-land...\n",
      "Scrape Workshop Details von https://www.eversports.de/e/workshop/ezegoNQ...\n",
      "Scrape Workshop Details von https://www.eversports.de/e/workshop/mFEme0g...\n",
      "Scrape Workshop Details von https://www.eversports.de/e/workshop/S8noX1Z...\n",
      "Scrape Workshop Details von https://www.eversports.de/e/workshop/SqEYfO3...\n",
      "Scrape Workshop Details von https://www.eversports.de/e/workshop/OGUBUS8...\n",
      "Scrape Workshop Details von https://www.eversports.de/e/workshop/VVXdiD8...\n",
      "Verarbeitung abgeschlossen.\n",
      "\n",
      "Ergebnisse für URL: https://www.eversports.de/s/pole-land\n",
      "Pole Studio Data:\n",
      "\n",
      "\n",
      "Classes Data:\n",
      "\n",
      "\n",
      "Classes Details:\n",
      "\n",
      "\n",
      "Workshops Data:\n",
      "\n",
      "\n",
      "Workshop Details:\n",
      "\n",
      "\n",
      "Progress: 64.94%\n",
      "\n",
      "Processing URL 364/559\n",
      "Verarbeite URL: https://www.eversports.de/s/Les.Pole\n",
      "Starte URL-Rekonstruktion...\n",
      "Error during HTTP request: 404 Client Error: Not Found for url: https://www.eversports.de/s/les.pole\n",
      "Konvertiere in DataFrame...\n",
      "Validiere URLs...\n",
      "Verarbeitung abgeschlossen.\n",
      "\n",
      "Ergebnisse für URL: https://www.eversports.de/s/Les.Pole\n",
      "Progress: 65.12%\n",
      "\n",
      "Processing URL 365/559\n",
      "Verarbeite URL: https://www.eversports.de/s/pole-fit-plauen\n",
      "Starte URL-Rekonstruktion...\n",
      "Error during HTTP request: 404 Client Error: Not Found for url: https://www.eversports.de/s/pole-fit-plauen\n",
      "Konvertiere in DataFrame...\n",
      "Validiere URLs...\n",
      "Verarbeitung abgeschlossen.\n",
      "\n",
      "Ergebnisse für URL: https://www.eversports.de/s/pole-fit-plauen\n",
      "Progress: 65.30%\n",
      "\n",
      "Processing URL 366/559\n",
      "Verarbeite URL: https://www.eversports.de/s/pole-heroes-pole-%26aerial-dance-studio\n",
      "Starte URL-Rekonstruktion...\n",
      "Error during HTTP request: 404 Client Error: Not Found for url: https://www.eversports.de/s/pole-heroes-pole-%26aerial-dance-studio\n",
      "Konvertiere in DataFrame...\n",
      "Validiere URLs...\n",
      "Verarbeitung abgeschlossen.\n",
      "\n",
      "Ergebnisse für URL: https://www.eversports.de/s/pole-heroes-pole-%26aerial-dance-studio\n",
      "Progress: 65.47%\n",
      "\n",
      "Processing URL 367/559\n",
      "Verarbeite URL: https://www.eversports.de/s/orbit-studio\n",
      "Starte URL-Rekonstruktion...\n",
      "Error during HTTP request: 404 Client Error: Not Found for url: https://www.eversports.de/s/orbit-studio\n",
      "Konvertiere in DataFrame...\n",
      "Validiere URLs...\n",
      "Verarbeitung abgeschlossen.\n",
      "\n",
      "Ergebnisse für URL: https://www.eversports.de/s/orbit-studio\n",
      "Progress: 65.65%\n",
      "\n",
      "Processing URL 368/559\n",
      "Verarbeite URL: https://www.eversports.de/s/Poledance-Area\n",
      "Starte URL-Rekonstruktion...\n"
     ]
    },
    {
     "name": "stderr",
     "output_type": "stream",
     "text": [
      "2024-01-26 18:33:45,818 - INFO - Processing URL 1/1: https://www.eversports.de/s/Poledance-Area\n"
     ]
    },
    {
     "name": "stdout",
     "output_type": "stream",
     "text": [
      "Konvertiere in DataFrame...\n",
      "Validiere URLs...\n"
     ]
    },
    {
     "name": "stderr",
     "output_type": "stream",
     "text": [
      "2024-01-26 18:33:47,657 - INFO - URL https://www.eversports.de/s/Poledance-Area is valid.\n"
     ]
    },
    {
     "name": "stdout",
     "output_type": "stream",
     "text": [
      "Scrape Pole Studio Daten von https://www.eversports.de/s/Poledance-Area...\n",
      "Verarbeitung abgeschlossen.\n",
      "\n",
      "Ergebnisse für URL: https://www.eversports.de/s/Poledance-Area\n",
      "Pole Studio Data:\n",
      "\n",
      "\n",
      "Progress: 65.83%\n",
      "\n",
      "Processing URL 369/559\n",
      "Verarbeite URL: https://www.eversports.de/s/del%C3%ADa-pole-dance\n",
      "Starte URL-Rekonstruktion...\n",
      "Error during HTTP request: Exceeded 30 redirects.\n",
      "Konvertiere in DataFrame...\n",
      "Validiere URLs...\n",
      "Verarbeitung abgeschlossen.\n",
      "\n",
      "Ergebnisse für URL: https://www.eversports.de/s/del%C3%ADa-pole-dance\n",
      "Progress: 66.01%\n",
      "\n",
      "Processing URL 370/559\n",
      "Verarbeite URL: https://www.eversports.de/s/infinity-polesports\n",
      "Starte URL-Rekonstruktion...\n"
     ]
    },
    {
     "name": "stderr",
     "output_type": "stream",
     "text": [
      "2024-01-26 18:34:00,653 - INFO - Processing URL 1/4: https://www.eversports.de/s/infinity-polesports\n"
     ]
    },
    {
     "name": "stdout",
     "output_type": "stream",
     "text": [
      "Konvertiere in DataFrame...\n",
      "Validiere URLs...\n"
     ]
    },
    {
     "name": "stderr",
     "output_type": "stream",
     "text": [
      "2024-01-26 18:34:02,740 - INFO - URL https://www.eversports.de/s/infinity-polesports is valid.\n",
      "2024-01-26 18:34:02,741 - INFO - Processing URL 2/4: https://www.eversports.de/scl/infinity-polesports\n",
      "2024-01-26 18:34:04,952 - INFO - URL https://www.eversports.de/scl/infinity-polesports is valid.\n",
      "2024-01-26 18:34:04,953 - INFO - Processing URL 3/4: https://www.eversports.de/sp/infinity-polesports\n",
      "2024-01-26 18:34:06,705 - INFO - URL https://www.eversports.de/sp/infinity-polesports is valid.\n",
      "2024-01-26 18:34:06,706 - INFO - Processing URL 4/4: https://www.eversports.de/s/infinity-polesports/team\n",
      "2024-01-26 18:34:08,344 - INFO - URL https://www.eversports.de/s/infinity-polesports/team is valid.\n"
     ]
    },
    {
     "name": "stdout",
     "output_type": "stream",
     "text": [
      "Scrape Pole Studio Daten von https://www.eversports.de/s/infinity-polesports...\n",
      "Scrape Klassen Daten von https://www.eversports.de/scl/infinity-polesports...\n",
      "Scrape Klassen Details von https://www.eversports.de/scl/infinity-polesports...\n",
      "Verarbeitung abgeschlossen.\n",
      "\n",
      "Ergebnisse für URL: https://www.eversports.de/s/infinity-polesports\n",
      "Pole Studio Data:\n",
      "\n",
      "\n",
      "Classes Data:\n",
      "\n",
      "\n",
      "Classes Details:\n",
      "\n",
      "\n",
      "Progress: 66.19%\n",
      "\n",
      "Processing URL 371/559\n",
      "Verarbeite URL: https://www.eversports.de/s/divas-dance-studio\n",
      "Starte URL-Rekonstruktion...\n",
      "Error during HTTP request: 404 Client Error: Not Found for url: https://www.eversports.de/s/divas-dance-studio\n",
      "Konvertiere in DataFrame...\n",
      "Validiere URLs...\n",
      "Verarbeitung abgeschlossen.\n",
      "\n",
      "Ergebnisse für URL: https://www.eversports.de/s/divas-dance-studio\n",
      "Progress: 66.37%\n",
      "\n",
      "Processing URL 372/559\n",
      "Verarbeite URL: https://www.eversports.de/s/dance-&-pole-langenfeld\n",
      "Starte URL-Rekonstruktion...\n",
      "Error during HTTP request: 404 Client Error: Not Found for url: https://www.eversports.de/s/dance-&-pole-langenfeld\n",
      "Konvertiere in DataFrame...\n",
      "Validiere URLs...\n",
      "Verarbeitung abgeschlossen.\n",
      "\n",
      "Ergebnisse für URL: https://www.eversports.de/s/dance-&-pole-langenfeld\n",
      "Progress: 66.55%\n",
      "\n",
      "Processing URL 373/559\n",
      "Verarbeite URL: https://www.eversports.de/s/pole-dance-power\n",
      "Starte URL-Rekonstruktion...\n",
      "Error during HTTP request: 404 Client Error: Not Found for url: https://www.eversports.de/s/pole-dance-power\n",
      "Konvertiere in DataFrame...\n",
      "Validiere URLs...\n",
      "Verarbeitung abgeschlossen.\n",
      "\n",
      "Ergebnisse für URL: https://www.eversports.de/s/pole-dance-power\n",
      "Progress: 66.73%\n",
      "\n",
      "Processing URL 374/559\n",
      "Verarbeite URL: https://www.eversports.de/s/soultide\n",
      "Starte URL-Rekonstruktion...\n"
     ]
    },
    {
     "name": "stderr",
     "output_type": "stream",
     "text": [
      "2024-01-26 18:35:37,768 - INFO - Processing URL 1/6: https://www.eversports.de/s/soultide\n"
     ]
    },
    {
     "name": "stdout",
     "output_type": "stream",
     "text": [
      "Konvertiere in DataFrame...\n",
      "Validiere URLs...\n"
     ]
    },
    {
     "name": "stderr",
     "output_type": "stream",
     "text": [
      "2024-01-26 18:35:39,529 - INFO - URL https://www.eversports.de/s/soultide is valid.\n",
      "2024-01-26 18:35:39,531 - INFO - Processing URL 2/6: https://www.eversports.de/scl/soultide\n",
      "2024-01-26 18:35:42,162 - INFO - URL https://www.eversports.de/scl/soultide is valid.\n",
      "2024-01-26 18:35:42,163 - INFO - Processing URL 3/6: https://www.eversports.de/sw/soultide\n",
      "2024-01-26 18:35:43,787 - INFO - URL https://www.eversports.de/sw/soultide is valid.\n",
      "2024-01-26 18:35:43,788 - INFO - Processing URL 4/6: https://www.eversports.de/s/soultide/retreats\n",
      "2024-01-26 18:35:45,336 - INFO - URL https://www.eversports.de/s/soultide/retreats is not valid.\n",
      "2024-01-26 18:35:45,337 - INFO - Processing URL 5/6: https://www.eversports.de/sp/soultide\n",
      "2024-01-26 18:35:46,942 - INFO - URL https://www.eversports.de/sp/soultide is valid.\n",
      "2024-01-26 18:35:46,943 - INFO - Processing URL 6/6: https://www.eversports.de/s/soultide/team\n",
      "2024-01-26 18:35:48,456 - INFO - URL https://www.eversports.de/s/soultide/team is valid.\n"
     ]
    },
    {
     "name": "stdout",
     "output_type": "stream",
     "text": [
      "Scrape Pole Studio Daten von https://www.eversports.de/s/soultide...\n",
      "Scrape Klassen Daten von https://www.eversports.de/scl/soultide...\n",
      "Scrape Klassen Details von https://www.eversports.de/scl/soultide...\n",
      "Scrape Workshops Daten von https://www.eversports.de/sw/soultide...\n",
      "Scrape Workshop Details von https://www.eversports.de/e/workshop/Q5aPZDK...\n",
      "Scrape Workshop Details von https://www.eversports.de/e/workshop/I9MFy2z...\n",
      "Verarbeitung abgeschlossen.\n",
      "\n",
      "Ergebnisse für URL: https://www.eversports.de/s/soultide\n",
      "Pole Studio Data:\n",
      "\n",
      "\n",
      "Classes Data:\n",
      "\n",
      "\n",
      "Classes Details:\n",
      "\n",
      "\n",
      "Workshops Data:\n",
      "\n",
      "\n",
      "Workshop Details:\n",
      "\n",
      "\n",
      "Progress: 66.91%\n",
      "\n",
      "Processing URL 375/559\n",
      "Verarbeite URL: https://www.eversports.de/s/pole-dance-studio-karlsruhe\n",
      "Starte URL-Rekonstruktion...\n",
      "Error during HTTP request: 404 Client Error: Not Found for url: https://www.eversports.de/s/pole-dance-studio-karlsruhe\n",
      "Konvertiere in DataFrame...\n",
      "Validiere URLs...\n",
      "Verarbeitung abgeschlossen.\n",
      "\n",
      "Ergebnisse für URL: https://www.eversports.de/s/pole-dance-studio-karlsruhe\n",
      "Progress: 67.08%\n",
      "\n",
      "Processing URL 376/559\n",
      "Verarbeite URL: https://www.eversports.de/s/PoleathletiX\n",
      "Starte URL-Rekonstruktion...\n"
     ]
    },
    {
     "name": "stderr",
     "output_type": "stream",
     "text": [
      "2024-01-26 18:38:42,003 - INFO - Processing URL 1/6: https://www.eversports.de/s/PoleathletiX\n"
     ]
    },
    {
     "name": "stdout",
     "output_type": "stream",
     "text": [
      "Konvertiere in DataFrame...\n",
      "Validiere URLs...\n"
     ]
    },
    {
     "name": "stderr",
     "output_type": "stream",
     "text": [
      "2024-01-26 18:38:44,023 - INFO - URL https://www.eversports.de/s/PoleathletiX is valid.\n",
      "2024-01-26 18:38:44,026 - INFO - Processing URL 2/6: https://www.eversports.de/scl/PoleathletiX\n",
      "2024-01-26 18:38:45,803 - INFO - URL https://www.eversports.de/scl/PoleathletiX is valid.\n",
      "2024-01-26 18:38:45,805 - INFO - Processing URL 3/6: https://www.eversports.de/s/PoleathletiX/trainings\n",
      "2024-01-26 18:38:47,595 - INFO - URL https://www.eversports.de/s/PoleathletiX/trainings is not valid.\n",
      "2024-01-26 18:38:47,596 - INFO - Processing URL 4/6: https://www.eversports.de/sw/PoleathletiX\n",
      "2024-01-26 18:38:49,503 - INFO - URL https://www.eversports.de/sw/PoleathletiX is valid.\n",
      "2024-01-26 18:38:49,505 - INFO - Processing URL 5/6: https://www.eversports.de/sp/PoleathletiX\n",
      "2024-01-26 18:38:51,026 - INFO - URL https://www.eversports.de/sp/PoleathletiX is valid.\n",
      "2024-01-26 18:38:51,027 - INFO - Processing URL 6/6: https://www.eversports.de/s/PoleathletiX/team\n",
      "2024-01-26 18:38:53,134 - INFO - URL https://www.eversports.de/s/PoleathletiX/team is valid.\n"
     ]
    },
    {
     "name": "stdout",
     "output_type": "stream",
     "text": [
      "Scrape Pole Studio Daten von https://www.eversports.de/s/PoleathletiX...\n",
      "Scrape Klassen Daten von https://www.eversports.de/scl/PoleathletiX...\n",
      "Scrape Klassen Details von https://www.eversports.de/scl/PoleathletiX...\n",
      "Scrape Workshops Daten von https://www.eversports.de/sw/PoleathletiX...\n",
      "Scrape Workshop Details von https://www.eversports.de/e/workshop/bFfG7kg...\n",
      "Scrape Workshop Details von https://www.eversports.de/e/workshop/fWcLCKr...\n",
      "Scrape Workshop Details von https://www.eversports.de/e/workshop/Tb_3jSS...\n",
      "Scrape Workshop Details von https://www.eversports.de/e/workshop/BCHRRb3...\n",
      "Scrape Workshop Details von https://www.eversports.de/e/workshop/LuQ-jUD...\n",
      "Scrape Workshop Details von https://www.eversports.de/e/workshop/wpcpX0U...\n",
      "Scrape Workshop Details von https://www.eversports.de/e/workshop/csrqGyT...\n",
      "Scrape Workshop Details von https://www.eversports.de/e/workshop/rXgOpSM...\n",
      "Scrape Workshop Details von https://www.eversports.de/e/workshop/GPwT8hl...\n",
      "Scrape Workshop Details von https://www.eversports.de/e/workshop/Q4B35ej...\n",
      "Verarbeitung abgeschlossen.\n",
      "\n",
      "Ergebnisse für URL: https://www.eversports.de/s/PoleathletiX\n",
      "Pole Studio Data:\n",
      "\n",
      "\n",
      "Classes Data:\n",
      "\n",
      "\n",
      "Classes Details:\n",
      "\n",
      "\n",
      "Workshops Data:\n",
      "\n",
      "\n",
      "Workshop Details:\n",
      "\n",
      "\n",
      "Progress: 67.26%\n",
      "\n",
      "Processing URL 377/559\n",
      "Verarbeite URL: https://www.eversports.de/s/pole-circus-a-%2B-k\n",
      "Starte URL-Rekonstruktion...\n",
      "Error during HTTP request: Exceeded 30 redirects.\n",
      "Konvertiere in DataFrame...\n",
      "Validiere URLs...\n",
      "Verarbeitung abgeschlossen.\n",
      "\n",
      "Ergebnisse für URL: https://www.eversports.de/s/pole-circus-a-%2B-k\n",
      "Progress: 67.44%\n",
      "\n",
      "Processing URL 378/559\n",
      "Verarbeite URL: https://www.eversports.de/s/t-tanzstueck-wolfsburg\n",
      "Starte URL-Rekonstruktion...\n"
     ]
    },
    {
     "name": "stderr",
     "output_type": "stream",
     "text": [
      "2024-01-26 18:39:51,667 - INFO - Processing URL 1/6: https://www.eversports.de/s/t-tanzstueck-wolfsburg\n"
     ]
    },
    {
     "name": "stdout",
     "output_type": "stream",
     "text": [
      "Konvertiere in DataFrame...\n",
      "Validiere URLs...\n"
     ]
    },
    {
     "name": "stderr",
     "output_type": "stream",
     "text": [
      "2024-01-26 18:39:53,367 - INFO - URL https://www.eversports.de/s/t-tanzstueck-wolfsburg is valid.\n",
      "2024-01-26 18:39:53,368 - INFO - Processing URL 2/6: https://www.eversports.de/scl/t-tanzstueck-wolfsburg\n",
      "2024-01-26 18:39:54,909 - INFO - URL https://www.eversports.de/scl/t-tanzstueck-wolfsburg is valid.\n",
      "2024-01-26 18:39:54,910 - INFO - Processing URL 3/6: https://www.eversports.de/s/t-tanzstueck-wolfsburg/kurse\n",
      "2024-01-26 18:39:56,227 - INFO - URL https://www.eversports.de/s/t-tanzstueck-wolfsburg/kurse is not valid.\n",
      "2024-01-26 18:39:56,228 - INFO - Processing URL 4/6: https://www.eversports.de/sw/t-tanzstueck-wolfsburg\n",
      "2024-01-26 18:39:57,589 - INFO - URL https://www.eversports.de/sw/t-tanzstueck-wolfsburg is valid.\n",
      "2024-01-26 18:39:57,590 - INFO - Processing URL 5/6: https://www.eversports.de/sp/t-tanzstueck-wolfsburg\n",
      "2024-01-26 18:39:59,045 - INFO - URL https://www.eversports.de/sp/t-tanzstueck-wolfsburg is valid.\n",
      "2024-01-26 18:39:59,046 - INFO - Processing URL 6/6: https://www.eversports.de/s/t-tanzstueck-wolfsburg/team\n",
      "2024-01-26 18:40:00,780 - INFO - URL https://www.eversports.de/s/t-tanzstueck-wolfsburg/team is valid.\n"
     ]
    },
    {
     "name": "stdout",
     "output_type": "stream",
     "text": [
      "Scrape Pole Studio Daten von https://www.eversports.de/s/t-tanzstueck-wolfsburg...\n",
      "Scrape Klassen Daten von https://www.eversports.de/scl/t-tanzstueck-wolfsburg...\n",
      "Scrape Klassen Details von https://www.eversports.de/scl/t-tanzstueck-wolfsburg...\n",
      "Scrape Workshops Daten von https://www.eversports.de/sw/t-tanzstueck-wolfsburg...\n",
      "Scrape Workshop Details von https://www.eversports.de/e/workshop/jg7fLUb...\n",
      "Verarbeitung abgeschlossen.\n",
      "\n",
      "Ergebnisse für URL: https://www.eversports.de/s/t-tanzstueck-wolfsburg\n",
      "Pole Studio Data:\n",
      "\n",
      "\n",
      "Classes Data:\n",
      "\n",
      "\n",
      "Classes Details:\n",
      "\n",
      "\n",
      "Workshops Data:\n",
      "\n",
      "\n",
      "Workshop Details:\n",
      "\n",
      "\n",
      "Progress: 67.62%\n",
      "\n",
      "Processing URL 379/559\n",
      "Verarbeite URL: https://www.eversports.de/s/Seemannsbraut-Poledance\n",
      "Starte URL-Rekonstruktion...\n",
      "Error during HTTP request: 502 Server Error: Bad Gateway for url: https://www.eversports.de/s/seemannsbraut-poledance\n",
      "Konvertiere in DataFrame...\n",
      "Validiere URLs...\n",
      "Verarbeitung abgeschlossen.\n",
      "\n",
      "Ergebnisse für URL: https://www.eversports.de/s/Seemannsbraut-Poledance\n",
      "Progress: 67.80%\n",
      "\n",
      "Processing URL 380/559\n",
      "Verarbeite URL: https://www.eversports.de/s/aerial-%26-vertikal-floor-of-art\n",
      "Starte URL-Rekonstruktion...\n",
      "Error during HTTP request: 404 Client Error: Not Found for url: https://www.eversports.de/s/aerial-%26-vertikal-floor-of-art\n",
      "Konvertiere in DataFrame...\n",
      "Validiere URLs...\n",
      "Verarbeitung abgeschlossen.\n",
      "\n",
      "Ergebnisse für URL: https://www.eversports.de/s/aerial-%26-vertikal-floor-of-art\n",
      "Progress: 67.98%\n",
      "\n",
      "Processing URL 381/559\n",
      "Verarbeite URL: https://www.eversports.de/s/schoenheitstanz-studio\n",
      "Starte URL-Rekonstruktion...\n"
     ]
    },
    {
     "name": "stderr",
     "output_type": "stream",
     "text": [
      "2024-01-26 18:41:50,570 - INFO - Processing URL 1/7: https://www.eversports.de/s/schoenheitstanz-studio\n"
     ]
    },
    {
     "name": "stdout",
     "output_type": "stream",
     "text": [
      "Konvertiere in DataFrame...\n",
      "Validiere URLs...\n"
     ]
    },
    {
     "name": "stderr",
     "output_type": "stream",
     "text": [
      "2024-01-26 18:41:52,385 - INFO - URL https://www.eversports.de/s/schoenheitstanz-studio is valid.\n",
      "2024-01-26 18:41:52,386 - INFO - Processing URL 2/7: https://www.eversports.de/scl/schoenheitstanz-studio\n",
      "2024-01-26 18:41:53,923 - INFO - URL https://www.eversports.de/scl/schoenheitstanz-studio is valid.\n",
      "2024-01-26 18:41:53,924 - INFO - Processing URL 3/7: https://www.eversports.de/sw/schoenheitstanz-studio\n",
      "2024-01-26 18:41:57,488 - INFO - URL https://www.eversports.de/sw/schoenheitstanz-studio is valid.\n",
      "2024-01-26 18:41:57,490 - INFO - Processing URL 4/7: https://www.eversports.de/s/schoenheitstanz-studio/events\n",
      "2024-01-26 18:41:59,264 - INFO - URL https://www.eversports.de/s/schoenheitstanz-studio/events is not valid.\n",
      "2024-01-26 18:41:59,266 - INFO - Processing URL 5/7: https://www.eversports.de/s/schoenheitstanz-studio/videos\n",
      "2024-01-26 18:42:01,333 - INFO - URL https://www.eversports.de/s/schoenheitstanz-studio/videos is valid.\n",
      "2024-01-26 18:42:01,336 - INFO - Processing URL 6/7: https://www.eversports.de/sp/schoenheitstanz-studio\n",
      "2024-01-26 18:42:03,932 - INFO - URL https://www.eversports.de/sp/schoenheitstanz-studio is valid.\n",
      "2024-01-26 18:42:03,934 - INFO - Processing URL 7/7: https://www.eversports.de/s/schoenheitstanz-studio/team\n",
      "2024-01-26 18:42:06,268 - INFO - URL https://www.eversports.de/s/schoenheitstanz-studio/team is valid.\n"
     ]
    },
    {
     "name": "stdout",
     "output_type": "stream",
     "text": [
      "Scrape Pole Studio Daten von https://www.eversports.de/s/schoenheitstanz-studio...\n",
      "Scrape Klassen Daten von https://www.eversports.de/scl/schoenheitstanz-studio...\n",
      "Scrape Klassen Details von https://www.eversports.de/scl/schoenheitstanz-studio...\n",
      "Scrape Workshops Daten von https://www.eversports.de/sw/schoenheitstanz-studio...\n",
      "Scrape Workshop Details von https://www.eversports.de/e/workshop/2uKqNmS...\n",
      "Scrape Workshop Details von https://www.eversports.de/e/workshop/8p-Qzz0...\n",
      "Scrape Workshop Details von https://www.eversports.de/e/workshop/xylFJo_...\n",
      "Scrape Workshop Details von https://www.eversports.de/e/workshop/1uwwOCo...\n",
      "Scrape Workshop Details von https://www.eversports.de/e/workshop/H4MGU4o...\n",
      "Scrape Workshop Details von https://www.eversports.de/e/workshop/PzcuaPc...\n",
      "Scrape Workshop Details von https://www.eversports.de/e/workshop/_GaYtcj...\n",
      "Scrape Workshop Details von https://www.eversports.de/e/workshop/GGeNmMh...\n",
      "Scrape Workshop Details von https://www.eversports.de/e/workshop/eTjnNEG...\n",
      "Scrape Workshop Details von https://www.eversports.de/e/workshop/CbbUEIN...\n",
      "Scrape Workshop Details von https://www.eversports.de/e/workshop/aHz4uNe...\n",
      "Scrape Workshop Details von https://www.eversports.de/e/workshop/4gnxET4...\n",
      "Scrape Workshop Details von https://www.eversports.de/e/workshop/1jGKU-B...\n",
      "Scrape Workshop Details von https://www.eversports.de/e/workshop/82dGR1f...\n",
      "Scrape Workshop Details von https://www.eversports.de/e/workshop/7uJPxgC...\n",
      "Scrape Workshop Details von https://www.eversports.de/e/workshop/U7zlEnt...\n",
      "Scrape Workshop Details von https://www.eversports.de/e/workshop/FWAxvoS...\n",
      "Scrape Workshop Details von https://www.eversports.de/e/workshop/YHVJqpe...\n",
      "Scrape Workshop Details von https://www.eversports.de/e/workshop/7TGSxs7...\n",
      "Scrape Workshop Details von https://www.eversports.de/e/workshop/PJH8px9...\n",
      "Scrape Workshop Details von https://www.eversports.de/e/workshop/AusEWhX...\n",
      "Scrape Workshop Details von https://www.eversports.de/e/workshop/TIB5eun...\n",
      "Scrape Workshop Details von https://www.eversports.de/e/workshop/EXI9bhu...\n",
      "Scrape Workshop Details von https://www.eversports.de/e/workshop/-fUr-r3...\n",
      "Scrape Workshop Details von https://www.eversports.de/e/workshop/8ZaKFif...\n",
      "Scrape Workshop Details von https://www.eversports.de/e/workshop/k-lte3C...\n",
      "Scrape Workshop Details von https://www.eversports.de/e/workshop/ENyQnil...\n",
      "Scrape Workshop Details von https://www.eversports.de/e/workshop/6bAW9KR...\n",
      "Scrape Workshop Details von https://www.eversports.de/e/workshop/W4EOuNp...\n",
      "Scrape Workshop Details von https://www.eversports.de/e/workshop/o_XLfIC...\n",
      "Scrape Workshop Details von https://www.eversports.de/e/workshop/npP7JVG...\n",
      "Scrape Workshop Details von https://www.eversports.de/e/workshop/nY-OhUe...\n",
      "Scrape Workshop Details von https://www.eversports.de/e/workshop/5sKuQHR...\n",
      "Scrape Workshop Details von https://www.eversports.de/e/workshop/e0T0khi...\n",
      "Scrape Workshop Details von https://www.eversports.de/e/workshop/LD103vJ...\n",
      "Scrape Workshop Details von https://www.eversports.de/e/workshop/xCayZIW...\n",
      "Scrape Workshop Details von https://www.eversports.de/e/workshop/hQ8U2tE...\n",
      "Scrape Workshop Details von https://www.eversports.de/e/workshop/nM6r0Ic...\n",
      "Scrape Workshop Details von https://www.eversports.de/e/workshop/inR_xoX...\n",
      "Scrape Workshop Details von https://www.eversports.de/e/workshop/hgCxZm6...\n",
      "Scrape Workshop Details von https://www.eversports.de/e/workshop/hONC_aO...\n",
      "Scrape Workshop Details von https://www.eversports.de/e/workshop/A5lJjTH...\n",
      "Scrape Workshop Details von https://www.eversports.de/e/workshop/ygw2_TL...\n",
      "Scrape Workshop Details von https://www.eversports.de/e/workshop/Tqtzdzb...\n",
      "Scrape Workshop Details von https://www.eversports.de/e/workshop/EBZuEA1...\n",
      "Scrape Workshop Details von https://www.eversports.de/e/workshop/bkSlugn...\n",
      "Scrape Workshop Details von https://www.eversports.de/e/workshop/Nv15_mw...\n",
      "Scrape Workshop Details von https://www.eversports.de/e/workshop/dcD4Lin...\n",
      "Scrape Workshop Details von https://www.eversports.de/e/workshop/uHk1KUg...\n",
      "Scrape Workshop Details von https://www.eversports.de/e/workshop/kYpFiaE...\n",
      "Verarbeitung abgeschlossen.\n",
      "\n",
      "Ergebnisse für URL: https://www.eversports.de/s/schoenheitstanz-studio\n",
      "Pole Studio Data:\n",
      "\n",
      "\n",
      "Classes Data:\n",
      "\n",
      "\n",
      "Classes Details:\n",
      "\n",
      "\n",
      "Workshops Data:\n",
      "\n",
      "\n",
      "Workshop Details:\n",
      "\n",
      "\n",
      "Progress: 68.16%\n",
      "\n",
      "Processing URL 382/559\n",
      "Verarbeite URL: https://www.eversports.de/s/POLE-HEROES\n",
      "Starte URL-Rekonstruktion...\n"
     ]
    },
    {
     "name": "stderr",
     "output_type": "stream",
     "text": [
      "2024-01-26 18:48:49,350 - INFO - Processing URL 1/5: https://www.eversports.de/s/POLE-HEROES\n"
     ]
    },
    {
     "name": "stdout",
     "output_type": "stream",
     "text": [
      "Konvertiere in DataFrame...\n",
      "Validiere URLs...\n"
     ]
    },
    {
     "name": "stderr",
     "output_type": "stream",
     "text": [
      "2024-01-26 18:48:51,059 - INFO - URL https://www.eversports.de/s/POLE-HEROES is valid.\n",
      "2024-01-26 18:48:51,060 - INFO - Processing URL 2/5: https://www.eversports.de/scl/POLE-HEROES\n",
      "2024-01-26 18:48:52,908 - INFO - URL https://www.eversports.de/scl/POLE-HEROES is valid.\n",
      "2024-01-26 18:48:52,909 - INFO - Processing URL 3/5: https://www.eversports.de/sw/POLE-HEROES\n",
      "2024-01-26 18:48:54,469 - INFO - URL https://www.eversports.de/sw/POLE-HEROES is valid.\n",
      "2024-01-26 18:48:54,470 - INFO - Processing URL 4/5: https://www.eversports.de/sp/POLE-HEROES\n",
      "2024-01-26 18:48:56,028 - INFO - URL https://www.eversports.de/sp/POLE-HEROES is valid.\n",
      "2024-01-26 18:48:56,029 - INFO - Processing URL 5/5: https://www.eversports.de/s/POLE-HEROES/team\n",
      "2024-01-26 18:48:57,684 - INFO - URL https://www.eversports.de/s/POLE-HEROES/team is valid.\n"
     ]
    },
    {
     "name": "stdout",
     "output_type": "stream",
     "text": [
      "Scrape Pole Studio Daten von https://www.eversports.de/s/POLE-HEROES...\n",
      "Scrape Klassen Daten von https://www.eversports.de/scl/POLE-HEROES...\n",
      "Scrape Klassen Details von https://www.eversports.de/scl/POLE-HEROES...\n",
      "Scrape Workshops Daten von https://www.eversports.de/sw/POLE-HEROES...\n",
      "Scrape Workshop Details von https://www.eversports.de/e/workshop/6blRZdc...\n",
      "Fehler beim Abrufen der Webseite: https://www.eversports.de/e/workshop/6blRZdc\n",
      "Scrape Workshop Details von https://www.eversports.de/e/workshop/qyrtCxT...\n",
      "Scrape Workshop Details von https://www.eversports.de/e/workshop/XbedbNM...\n",
      "Scrape Workshop Details von https://www.eversports.de/e/workshop/_cVfx28...\n",
      "Scrape Workshop Details von https://www.eversports.de/e/workshop/vPqMS0U...\n",
      "Verarbeitung abgeschlossen.\n",
      "\n",
      "Ergebnisse für URL: https://www.eversports.de/s/POLE-HEROES\n",
      "Pole Studio Data:\n",
      "\n",
      "\n",
      "Classes Data:\n",
      "\n",
      "\n",
      "Classes Details:\n",
      "\n",
      "\n",
      "Workshops Data:\n",
      "\n",
      "\n",
      "Workshop Details:\n",
      "\n",
      "\n",
      "Progress: 68.34%\n",
      "\n",
      "Processing URL 383/559\n",
      "Verarbeite URL: https://www.eversports.de/s/polefitness-by-sophie-m.\n",
      "Starte URL-Rekonstruktion...\n",
      "Error during HTTP request: 404 Client Error: Not Found for url: https://www.eversports.de/s/polefitness-by-sophie-m.\n",
      "Konvertiere in DataFrame...\n",
      "Validiere URLs...\n",
      "Verarbeitung abgeschlossen.\n",
      "\n",
      "Ergebnisse für URL: https://www.eversports.de/s/polefitness-by-sophie-m.\n",
      "Progress: 68.52%\n",
      "\n",
      "Processing URL 384/559\n",
      "Verarbeite URL: https://www.eversports.de/s/UpsideDown-Studio-Bad-Homburg\n",
      "Starte URL-Rekonstruktion...\n"
     ]
    },
    {
     "name": "stderr",
     "output_type": "stream",
     "text": [
      "2024-01-26 18:49:45,080 - INFO - Processing URL 1/5: https://www.eversports.de/s/UpsideDown-Studio-Bad-Homburg\n"
     ]
    },
    {
     "name": "stdout",
     "output_type": "stream",
     "text": [
      "Konvertiere in DataFrame...\n",
      "Validiere URLs...\n"
     ]
    },
    {
     "name": "stderr",
     "output_type": "stream",
     "text": [
      "2024-01-26 18:49:47,097 - INFO - URL https://www.eversports.de/s/UpsideDown-Studio-Bad-Homburg is valid.\n",
      "2024-01-26 18:49:47,099 - INFO - Processing URL 2/5: https://www.eversports.de/scl/UpsideDown-Studio-Bad-Homburg\n",
      "2024-01-26 18:49:48,685 - INFO - URL https://www.eversports.de/scl/UpsideDown-Studio-Bad-Homburg is valid.\n",
      "2024-01-26 18:49:48,686 - INFO - Processing URL 3/5: https://www.eversports.de/s/UpsideDown-Studio-Bad-Homburg/kurse\n",
      "2024-01-26 18:49:50,266 - INFO - URL https://www.eversports.de/s/UpsideDown-Studio-Bad-Homburg/kurse is not valid.\n",
      "2024-01-26 18:49:50,268 - INFO - Processing URL 4/5: https://www.eversports.de/sp/UpsideDown-Studio-Bad-Homburg\n",
      "2024-01-26 18:49:51,774 - INFO - URL https://www.eversports.de/sp/UpsideDown-Studio-Bad-Homburg is valid.\n",
      "2024-01-26 18:49:51,775 - INFO - Processing URL 5/5: https://www.eversports.de/s/UpsideDown-Studio-Bad-Homburg/team\n",
      "2024-01-26 18:49:53,465 - INFO - URL https://www.eversports.de/s/UpsideDown-Studio-Bad-Homburg/team is valid.\n"
     ]
    },
    {
     "name": "stdout",
     "output_type": "stream",
     "text": [
      "Scrape Pole Studio Daten von https://www.eversports.de/s/UpsideDown-Studio-Bad-Homburg...\n",
      "Scrape Klassen Daten von https://www.eversports.de/scl/UpsideDown-Studio-Bad-Homburg...\n",
      "Scrape Klassen Details von https://www.eversports.de/scl/UpsideDown-Studio-Bad-Homburg...\n",
      "Verarbeitung abgeschlossen.\n",
      "\n",
      "Ergebnisse für URL: https://www.eversports.de/s/UpsideDown-Studio-Bad-Homburg\n",
      "Pole Studio Data:\n",
      "\n",
      "\n",
      "Classes Data:\n",
      "\n",
      "\n",
      "Classes Details:\n",
      "\n",
      "\n",
      "Progress: 68.69%\n",
      "\n",
      "Processing URL 385/559\n",
      "Verarbeite URL: https://www.eversports.de/s/the-pole-jungle\n",
      "Starte URL-Rekonstruktion...\n"
     ]
    },
    {
     "name": "stderr",
     "output_type": "stream",
     "text": [
      "2024-01-26 18:50:39,471 - INFO - Processing URL 1/7: https://www.eversports.de/s/the-pole-jungle\n"
     ]
    },
    {
     "name": "stdout",
     "output_type": "stream",
     "text": [
      "Konvertiere in DataFrame...\n",
      "Validiere URLs...\n"
     ]
    },
    {
     "name": "stderr",
     "output_type": "stream",
     "text": [
      "2024-01-26 18:50:41,997 - INFO - URL https://www.eversports.de/s/the-pole-jungle is valid.\n",
      "2024-01-26 18:50:41,998 - INFO - Processing URL 2/7: https://www.eversports.de/scl/the-pole-jungle\n",
      "2024-01-26 18:50:44,422 - INFO - URL https://www.eversports.de/scl/the-pole-jungle is not valid.\n",
      "2024-01-26 18:50:44,423 - INFO - Processing URL 3/7: https://www.eversports.de/s/the-pole-jungle/trainings\n",
      "2024-01-26 18:50:45,894 - INFO - URL https://www.eversports.de/s/the-pole-jungle/trainings is not valid.\n",
      "2024-01-26 18:50:45,895 - INFO - Processing URL 4/7: https://www.eversports.de/s/the-pole-jungle/kurse\n",
      "2024-01-26 18:50:47,374 - INFO - URL https://www.eversports.de/s/the-pole-jungle/kurse is not valid.\n",
      "2024-01-26 18:50:47,375 - INFO - Processing URL 5/7: https://www.eversports.de/sw/the-pole-jungle\n",
      "2024-01-26 18:50:48,899 - INFO - URL https://www.eversports.de/sw/the-pole-jungle is not valid.\n",
      "2024-01-26 18:50:48,901 - INFO - Processing URL 6/7: https://www.eversports.de/sp/the-pole-jungle\n",
      "2024-01-26 18:50:50,406 - INFO - URL https://www.eversports.de/sp/the-pole-jungle is not valid.\n",
      "2024-01-26 18:50:50,408 - INFO - Processing URL 7/7: https://www.eversports.de/s/the-pole-jungle/team\n",
      "2024-01-26 18:50:51,884 - INFO - URL https://www.eversports.de/s/the-pole-jungle/team is valid.\n"
     ]
    },
    {
     "name": "stdout",
     "output_type": "stream",
     "text": [
      "Scrape Pole Studio Daten von https://www.eversports.de/s/the-pole-jungle...\n",
      "Verarbeitung abgeschlossen.\n",
      "\n",
      "Ergebnisse für URL: https://www.eversports.de/s/the-pole-jungle\n",
      "Pole Studio Data:\n",
      "\n",
      "\n",
      "Progress: 68.87%\n",
      "\n",
      "Processing URL 386/559\n",
      "Verarbeite URL: https://www.eversports.de/s/Pole-Acrobatics\n",
      "Starte URL-Rekonstruktion...\n"
     ]
    },
    {
     "name": "stderr",
     "output_type": "stream",
     "text": [
      "2024-01-26 18:50:54,705 - INFO - Processing URL 1/6: https://www.eversports.de/s/Pole-Acrobatics\n"
     ]
    },
    {
     "name": "stdout",
     "output_type": "stream",
     "text": [
      "Konvertiere in DataFrame...\n",
      "Validiere URLs...\n"
     ]
    },
    {
     "name": "stderr",
     "output_type": "stream",
     "text": [
      "2024-01-26 18:50:56,455 - INFO - URL https://www.eversports.de/s/Pole-Acrobatics is valid.\n",
      "2024-01-26 18:50:56,456 - INFO - Processing URL 2/6: https://www.eversports.de/s/Pole-Acrobatics/trainings\n",
      "2024-01-26 18:50:57,826 - INFO - URL https://www.eversports.de/s/Pole-Acrobatics/trainings is not valid.\n",
      "2024-01-26 18:50:57,827 - INFO - Processing URL 3/6: https://www.eversports.de/sw/Pole-Acrobatics\n",
      "2024-01-26 18:50:59,289 - INFO - URL https://www.eversports.de/sw/Pole-Acrobatics is valid.\n",
      "2024-01-26 18:50:59,290 - INFO - Processing URL 4/6: https://www.eversports.de/s/Pole-Acrobatics/videos\n",
      "2024-01-26 18:51:00,743 - INFO - URL https://www.eversports.de/s/Pole-Acrobatics/videos is valid.\n",
      "2024-01-26 18:51:00,744 - INFO - Processing URL 5/6: https://www.eversports.de/sp/Pole-Acrobatics\n",
      "2024-01-26 18:51:02,284 - INFO - URL https://www.eversports.de/sp/Pole-Acrobatics is valid.\n",
      "2024-01-26 18:51:02,285 - INFO - Processing URL 6/6: https://www.eversports.de/s/Pole-Acrobatics/team\n",
      "2024-01-26 18:51:03,850 - INFO - URL https://www.eversports.de/s/Pole-Acrobatics/team is valid.\n"
     ]
    },
    {
     "name": "stdout",
     "output_type": "stream",
     "text": [
      "Scrape Pole Studio Daten von https://www.eversports.de/s/Pole-Acrobatics...\n",
      "Scrape Workshops Daten von https://www.eversports.de/sw/Pole-Acrobatics...\n",
      "Scrape Workshop Details von https://www.eversports.de/e/workshop/-wGhAaJ...\n",
      "Verarbeitung abgeschlossen.\n",
      "\n",
      "Ergebnisse für URL: https://www.eversports.de/s/Pole-Acrobatics\n",
      "Pole Studio Data:\n",
      "\n",
      "\n",
      "Workshops Data:\n",
      "\n",
      "\n",
      "Workshop Details:\n",
      "\n",
      "\n",
      "Progress: 69.05%\n",
      "\n",
      "Processing URL 387/559\n",
      "Verarbeite URL: https://www.eversports.de/s/secret-moves-athletic-dance-studio\n",
      "Starte URL-Rekonstruktion...\n"
     ]
    },
    {
     "name": "stderr",
     "output_type": "stream",
     "text": [
      "2024-01-26 18:51:34,974 - INFO - Processing URL 1/4: https://www.eversports.de/s/secret-moves-athletic-dance-studio\n"
     ]
    },
    {
     "name": "stdout",
     "output_type": "stream",
     "text": [
      "Konvertiere in DataFrame...\n",
      "Validiere URLs...\n"
     ]
    },
    {
     "name": "stderr",
     "output_type": "stream",
     "text": [
      "2024-01-26 18:51:37,129 - INFO - URL https://www.eversports.de/s/secret-moves-athletic-dance-studio is valid.\n",
      "2024-01-26 18:51:37,130 - INFO - Processing URL 2/4: https://www.eversports.de/scl/secret-moves-athletic-dance-studio\n",
      "2024-01-26 18:51:38,774 - INFO - URL https://www.eversports.de/scl/secret-moves-athletic-dance-studio is valid.\n",
      "2024-01-26 18:51:38,775 - INFO - Processing URL 3/4: https://www.eversports.de/sp/secret-moves-athletic-dance-studio\n",
      "2024-01-26 18:51:40,269 - INFO - URL https://www.eversports.de/sp/secret-moves-athletic-dance-studio is valid.\n",
      "2024-01-26 18:51:40,271 - INFO - Processing URL 4/4: https://www.eversports.de/s/secret-moves-athletic-dance-studio/team\n",
      "2024-01-26 18:51:41,899 - INFO - URL https://www.eversports.de/s/secret-moves-athletic-dance-studio/team is valid.\n"
     ]
    },
    {
     "name": "stdout",
     "output_type": "stream",
     "text": [
      "Scrape Pole Studio Daten von https://www.eversports.de/s/secret-moves-athletic-dance-studio...\n",
      "Scrape Klassen Daten von https://www.eversports.de/scl/secret-moves-athletic-dance-studio...\n",
      "Scrape Klassen Details von https://www.eversports.de/scl/secret-moves-athletic-dance-studio...\n",
      "Verarbeitung abgeschlossen.\n",
      "\n",
      "Ergebnisse für URL: https://www.eversports.de/s/secret-moves-athletic-dance-studio\n",
      "Pole Studio Data:\n",
      "\n",
      "\n",
      "Classes Data:\n",
      "\n",
      "\n",
      "Classes Details:\n",
      "\n",
      "\n",
      "Progress: 69.23%\n",
      "\n",
      "Processing URL 388/559\n",
      "Verarbeite URL: https://www.eversports.de/s/polemotions-g%C3%B6ppingen\n",
      "Starte URL-Rekonstruktion...\n",
      "Error during HTTP request: Exceeded 30 redirects.\n",
      "Konvertiere in DataFrame...\n",
      "Validiere URLs...\n",
      "Verarbeitung abgeschlossen.\n",
      "\n",
      "Ergebnisse für URL: https://www.eversports.de/s/polemotions-g%C3%B6ppingen\n",
      "Progress: 69.41%\n",
      "\n",
      "Processing URL 389/559\n",
      "Verarbeite URL: https://www.eversports.de/s/Pole-Circus-A-+-K\n",
      "Starte URL-Rekonstruktion...\n",
      "Error during HTTP request: 404 Client Error: Not Found for url: https://www.eversports.de/s/pole-circus-a-+-k\n",
      "Konvertiere in DataFrame...\n",
      "Validiere URLs...\n",
      "Verarbeitung abgeschlossen.\n",
      "\n",
      "Ergebnisse für URL: https://www.eversports.de/s/Pole-Circus-A-+-K\n",
      "Progress: 69.59%\n",
      "\n",
      "Processing URL 390/559\n",
      "Verarbeite URL: https://www.eversports.de/s/pole-and-move-heidelberg\n",
      "Starte URL-Rekonstruktion...\n"
     ]
    },
    {
     "name": "stderr",
     "output_type": "stream",
     "text": [
      "2024-01-26 18:56:09,455 - INFO - Processing URL 1/5: https://www.eversports.de/s/pole-and-move-heidelberg\n"
     ]
    },
    {
     "name": "stdout",
     "output_type": "stream",
     "text": [
      "Konvertiere in DataFrame...\n",
      "Validiere URLs...\n"
     ]
    },
    {
     "name": "stderr",
     "output_type": "stream",
     "text": [
      "2024-01-26 18:56:11,492 - INFO - URL https://www.eversports.de/s/pole-and-move-heidelberg is valid.\n",
      "2024-01-26 18:56:11,493 - INFO - Processing URL 2/5: https://www.eversports.de/scl/pole-and-move-heidelberg\n",
      "2024-01-26 18:56:12,988 - INFO - URL https://www.eversports.de/scl/pole-and-move-heidelberg is valid.\n",
      "2024-01-26 18:56:12,989 - INFO - Processing URL 3/5: https://www.eversports.de/sw/pole-and-move-heidelberg\n",
      "2024-01-26 18:56:14,746 - INFO - URL https://www.eversports.de/sw/pole-and-move-heidelberg is valid.\n",
      "2024-01-26 18:56:14,747 - INFO - Processing URL 4/5: https://www.eversports.de/sp/pole-and-move-heidelberg\n",
      "2024-01-26 18:56:16,192 - INFO - URL https://www.eversports.de/sp/pole-and-move-heidelberg is valid.\n",
      "2024-01-26 18:56:16,193 - INFO - Processing URL 5/5: https://www.eversports.de/s/pole-and-move-heidelberg/team\n",
      "2024-01-26 18:56:17,686 - INFO - URL https://www.eversports.de/s/pole-and-move-heidelberg/team is valid.\n"
     ]
    },
    {
     "name": "stdout",
     "output_type": "stream",
     "text": [
      "Scrape Pole Studio Daten von https://www.eversports.de/s/pole-and-move-heidelberg...\n",
      "Scrape Klassen Daten von https://www.eversports.de/scl/pole-and-move-heidelberg...\n",
      "Scrape Klassen Details von https://www.eversports.de/scl/pole-and-move-heidelberg...\n",
      "Scrape Workshops Daten von https://www.eversports.de/sw/pole-and-move-heidelberg...\n",
      "Scrape Workshop Details von https://www.eversports.de/e/workshop/VYi81mK...\n",
      "Scrape Workshop Details von https://www.eversports.de/e/workshop/101RSFR...\n",
      "Scrape Workshop Details von https://www.eversports.de/e/workshop/AnumKko...\n",
      "Scrape Workshop Details von https://www.eversports.de/e/workshop/aqDwRxt...\n",
      "Scrape Workshop Details von https://www.eversports.de/e/workshop/xpUUbAx...\n",
      "Scrape Workshop Details von https://www.eversports.de/e/workshop/yXAMy8l...\n",
      "Scrape Workshop Details von https://www.eversports.de/e/workshop/mI91ydw...\n",
      "Scrape Workshop Details von https://www.eversports.de/e/workshop/Ngcpd4l...\n",
      "Scrape Workshop Details von https://www.eversports.de/e/workshop/ij8VZCH...\n",
      "Verarbeitung abgeschlossen.\n",
      "\n",
      "Ergebnisse für URL: https://www.eversports.de/s/pole-and-move-heidelberg\n",
      "Pole Studio Data:\n",
      "\n",
      "\n",
      "Classes Data:\n",
      "\n",
      "\n",
      "Classes Details:\n",
      "\n",
      "\n",
      "Workshops Data:\n",
      "\n",
      "\n",
      "Workshop Details:\n",
      "\n",
      "\n",
      "Progress: 69.77%\n",
      "\n",
      "Processing URL 391/559\n",
      "Verarbeite URL: https://www.eversports.de/s/polefriends-magdeburg\n",
      "Starte URL-Rekonstruktion...\n"
     ]
    },
    {
     "name": "stderr",
     "output_type": "stream",
     "text": [
      "2024-01-26 18:57:39,461 - INFO - Processing URL 1/1: https://www.eversports.de/s/polefriends-magdeburg\n"
     ]
    },
    {
     "name": "stdout",
     "output_type": "stream",
     "text": [
      "Konvertiere in DataFrame...\n",
      "Validiere URLs...\n"
     ]
    },
    {
     "name": "stderr",
     "output_type": "stream",
     "text": [
      "2024-01-26 18:57:41,079 - INFO - URL https://www.eversports.de/s/polefriends-magdeburg is valid.\n"
     ]
    },
    {
     "name": "stdout",
     "output_type": "stream",
     "text": [
      "Scrape Pole Studio Daten von https://www.eversports.de/s/polefriends-magdeburg...\n",
      "Verarbeitung abgeschlossen.\n",
      "\n",
      "Ergebnisse für URL: https://www.eversports.de/s/polefriends-magdeburg\n",
      "Pole Studio Data:\n",
      "\n",
      "\n",
      "Progress: 69.95%\n",
      "\n",
      "Processing URL 392/559\n",
      "Verarbeite URL: https://www.eversports.de/s/Polemotions-Filderstadt\n",
      "Starte URL-Rekonstruktion...\n"
     ]
    },
    {
     "name": "stderr",
     "output_type": "stream",
     "text": [
      "2024-01-26 18:57:43,562 - INFO - Processing URL 1/4: https://www.eversports.de/s/Polemotions-Filderstadt\n"
     ]
    },
    {
     "name": "stdout",
     "output_type": "stream",
     "text": [
      "Konvertiere in DataFrame...\n",
      "Validiere URLs...\n"
     ]
    },
    {
     "name": "stderr",
     "output_type": "stream",
     "text": [
      "2024-01-26 18:57:45,368 - INFO - URL https://www.eversports.de/s/Polemotions-Filderstadt is valid.\n",
      "2024-01-26 18:57:45,370 - INFO - Processing URL 2/4: https://www.eversports.de/scl/Polemotions-Filderstadt\n",
      "2024-01-26 18:57:46,872 - INFO - URL https://www.eversports.de/scl/Polemotions-Filderstadt is valid.\n",
      "2024-01-26 18:57:46,873 - INFO - Processing URL 3/4: https://www.eversports.de/sp/Polemotions-Filderstadt\n",
      "2024-01-26 18:57:48,477 - INFO - URL https://www.eversports.de/sp/Polemotions-Filderstadt is valid.\n",
      "2024-01-26 18:57:48,478 - INFO - Processing URL 4/4: https://www.eversports.de/s/Polemotions-Filderstadt/team\n",
      "2024-01-26 18:57:50,110 - INFO - URL https://www.eversports.de/s/Polemotions-Filderstadt/team is valid.\n"
     ]
    },
    {
     "name": "stdout",
     "output_type": "stream",
     "text": [
      "Scrape Pole Studio Daten von https://www.eversports.de/s/Polemotions-Filderstadt...\n",
      "Scrape Klassen Daten von https://www.eversports.de/scl/Polemotions-Filderstadt...\n",
      "Scrape Klassen Details von https://www.eversports.de/scl/Polemotions-Filderstadt...\n",
      "Verarbeitung abgeschlossen.\n",
      "\n",
      "Ergebnisse für URL: https://www.eversports.de/s/Polemotions-Filderstadt\n",
      "Pole Studio Data:\n",
      "\n",
      "\n",
      "Classes Data:\n",
      "\n",
      "\n",
      "Classes Details:\n",
      "\n",
      "\n",
      "Progress: 70.13%\n",
      "\n",
      "Processing URL 393/559\n",
      "Verarbeite URL: https://www.eversports.de/s/flexx-arts---aerial-dance-&-fitness\n",
      "Starte URL-Rekonstruktion...\n",
      "Error during HTTP request: 404 Client Error: Not Found for url: https://www.eversports.de/s/flexx-arts---aerial-dance-&-fitness\n",
      "Konvertiere in DataFrame...\n",
      "Validiere URLs...\n",
      "Verarbeitung abgeschlossen.\n",
      "\n",
      "Ergebnisse für URL: https://www.eversports.de/s/flexx-arts---aerial-dance-&-fitness\n",
      "Progress: 70.30%\n",
      "\n",
      "Processing URL 394/559\n",
      "Verarbeite URL: https://www.eversports.de/s/Poleart_Inspiration\n",
      "Starte URL-Rekonstruktion...\n"
     ]
    },
    {
     "name": "stderr",
     "output_type": "stream",
     "text": [
      "2024-01-26 18:58:45,755 - INFO - Processing URL 1/1: https://www.eversports.de/s/Poleart_Inspiration\n"
     ]
    },
    {
     "name": "stdout",
     "output_type": "stream",
     "text": [
      "Konvertiere in DataFrame...\n",
      "Validiere URLs...\n"
     ]
    },
    {
     "name": "stderr",
     "output_type": "stream",
     "text": [
      "2024-01-26 18:58:47,400 - INFO - URL https://www.eversports.de/s/Poleart_Inspiration is valid.\n"
     ]
    },
    {
     "name": "stdout",
     "output_type": "stream",
     "text": [
      "Scrape Pole Studio Daten von https://www.eversports.de/s/Poleart_Inspiration...\n",
      "Verarbeitung abgeschlossen.\n",
      "\n",
      "Ergebnisse für URL: https://www.eversports.de/s/Poleart_Inspiration\n",
      "Pole Studio Data:\n",
      "\n",
      "\n",
      "Progress: 70.48%\n",
      "\n",
      "Processing URL 395/559\n",
      "Verarbeite URL: https://www.eversports.de/s/activo-polefitness\n",
      "Starte URL-Rekonstruktion...\n",
      "Error during HTTP request: 404 Client Error: Not Found for url: https://www.eversports.de/s/activo-polefitness\n",
      "Konvertiere in DataFrame...\n",
      "Validiere URLs...\n",
      "Verarbeitung abgeschlossen.\n",
      "\n",
      "Ergebnisse für URL: https://www.eversports.de/s/activo-polefitness\n",
      "Progress: 70.66%\n",
      "\n",
      "Processing URL 396/559\n",
      "Verarbeite URL: https://www.eversports.de/s/sch%C3%B6nheitstanz-berlin\n",
      "Starte URL-Rekonstruktion...\n",
      "Error during HTTP request: Exceeded 30 redirects.\n",
      "Konvertiere in DataFrame...\n",
      "Validiere URLs...\n",
      "Verarbeitung abgeschlossen.\n",
      "\n",
      "Ergebnisse für URL: https://www.eversports.de/s/sch%C3%B6nheitstanz-berlin\n",
      "Progress: 70.84%\n",
      "\n",
      "Processing URL 397/559\n",
      "Verarbeite URL: https://www.eversports.de/s/pole-dream\n",
      "Starte URL-Rekonstruktion...\n",
      "Error during HTTP request: 404 Client Error: Not Found for url: https://www.eversports.de/s/pole-dream\n",
      "Konvertiere in DataFrame...\n",
      "Validiere URLs...\n",
      "Verarbeitung abgeschlossen.\n",
      "\n",
      "Ergebnisse für URL: https://www.eversports.de/s/pole-dream\n",
      "Progress: 71.02%\n",
      "\n",
      "Processing URL 398/559\n",
      "Verarbeite URL: https://www.eversports.de/s/lift-off---poledance-academy-frankfurt\n",
      "Starte URL-Rekonstruktion...\n",
      "Error during HTTP request: 404 Client Error: Not Found for url: https://www.eversports.de/s/lift-off---poledance-academy-frankfurt\n",
      "Konvertiere in DataFrame...\n",
      "Validiere URLs...\n",
      "Verarbeitung abgeschlossen.\n",
      "\n",
      "Ergebnisse für URL: https://www.eversports.de/s/lift-off---poledance-academy-frankfurt\n",
      "Progress: 71.20%\n",
      "\n",
      "Processing URL 399/559\n",
      "Verarbeite URL: https://www.eversports.de/s/Tanzstudio-Michel\n",
      "Starte URL-Rekonstruktion...\n"
     ]
    },
    {
     "name": "stderr",
     "output_type": "stream",
     "text": [
      "2024-01-26 18:58:58,703 - INFO - Processing URL 1/4: https://www.eversports.de/s/Tanzstudio-Michel\n"
     ]
    },
    {
     "name": "stdout",
     "output_type": "stream",
     "text": [
      "Konvertiere in DataFrame...\n",
      "Validiere URLs...\n"
     ]
    },
    {
     "name": "stderr",
     "output_type": "stream",
     "text": [
      "2024-01-26 18:59:00,294 - INFO - URL https://www.eversports.de/s/Tanzstudio-Michel is valid.\n",
      "2024-01-26 18:59:00,295 - INFO - Processing URL 2/4: https://www.eversports.de/scl/Tanzstudio-Michel\n",
      "2024-01-26 18:59:01,726 - INFO - URL https://www.eversports.de/scl/Tanzstudio-Michel is valid.\n",
      "2024-01-26 18:59:01,727 - INFO - Processing URL 3/4: https://www.eversports.de/sp/Tanzstudio-Michel\n",
      "2024-01-26 18:59:03,161 - INFO - URL https://www.eversports.de/sp/Tanzstudio-Michel is valid.\n",
      "2024-01-26 18:59:03,163 - INFO - Processing URL 4/4: https://www.eversports.de/s/Tanzstudio-Michel/team\n",
      "2024-01-26 18:59:04,710 - INFO - URL https://www.eversports.de/s/Tanzstudio-Michel/team is valid.\n"
     ]
    },
    {
     "name": "stdout",
     "output_type": "stream",
     "text": [
      "Scrape Pole Studio Daten von https://www.eversports.de/s/Tanzstudio-Michel...\n",
      "Scrape Klassen Daten von https://www.eversports.de/scl/Tanzstudio-Michel...\n",
      "Scrape Klassen Details von https://www.eversports.de/scl/Tanzstudio-Michel...\n",
      "Verarbeitung abgeschlossen.\n",
      "\n",
      "Ergebnisse für URL: https://www.eversports.de/s/Tanzstudio-Michel\n",
      "Pole Studio Data:\n",
      "\n",
      "\n",
      "Classes Data:\n",
      "\n",
      "\n",
      "Classes Details:\n",
      "\n",
      "\n",
      "Progress: 71.38%\n",
      "\n",
      "Processing URL 400/559\n",
      "Verarbeite URL: https://www.eversports.de/s/sweatndance-k%C3%B6ln\n",
      "Starte URL-Rekonstruktion...\n",
      "Error during HTTP request: Exceeded 30 redirects.\n",
      "Konvertiere in DataFrame...\n",
      "Validiere URLs...\n",
      "Verarbeitung abgeschlossen.\n",
      "\n",
      "Ergebnisse für URL: https://www.eversports.de/s/sweatndance-k%C3%B6ln\n",
      "Progress: 71.56%\n",
      "\n",
      "Processing URL 401/559\n",
      "Verarbeite URL: https://www.eversports.de/s/tsg-blau-gold-gießen-e.v.\n",
      "Starte URL-Rekonstruktion...\n",
      "Error during HTTP request: Exceeded 30 redirects.\n",
      "Konvertiere in DataFrame...\n",
      "Validiere URLs...\n",
      "Verarbeitung abgeschlossen.\n",
      "\n",
      "Ergebnisse für URL: https://www.eversports.de/s/tsg-blau-gold-gießen-e.v.\n",
      "Progress: 71.74%\n",
      "\n",
      "Processing URL 402/559\n",
      "Verarbeite URL: https://www.eversports.de/s/tanzstudio-redlightdance-berlin\n",
      "Starte URL-Rekonstruktion...\n",
      "Error during HTTP request: 404 Client Error: Not Found for url: https://www.eversports.de/s/tanzstudio-redlightdance-berlin\n",
      "Konvertiere in DataFrame...\n",
      "Validiere URLs...\n",
      "Verarbeitung abgeschlossen.\n",
      "\n",
      "Ergebnisse für URL: https://www.eversports.de/s/tanzstudio-redlightdance-berlin\n",
      "Progress: 71.91%\n",
      "\n",
      "Processing URL 403/559\n",
      "Verarbeite URL: https://www.eversports.de/s/pole-dance-academy-neuburg\n",
      "Starte URL-Rekonstruktion...\n",
      "Error during HTTP request: 404 Client Error: Not Found for url: https://www.eversports.de/s/pole-dance-academy-neuburg\n",
      "Konvertiere in DataFrame...\n",
      "Validiere URLs...\n",
      "Verarbeitung abgeschlossen.\n",
      "\n",
      "Ergebnisse für URL: https://www.eversports.de/s/pole-dance-academy-neuburg\n",
      "Progress: 72.09%\n",
      "\n",
      "Processing URL 404/559\n",
      "Verarbeite URL: https://www.eversports.de/s/move-on!-dance-studio-%26-polemotions\n",
      "Starte URL-Rekonstruktion...\n",
      "Error during HTTP request: 404 Client Error: Not Found for url: https://www.eversports.de/s/move-on!-dance-studio-%26-polemotions\n",
      "Konvertiere in DataFrame...\n",
      "Validiere URLs...\n",
      "Verarbeitung abgeschlossen.\n",
      "\n",
      "Ergebnisse für URL: https://www.eversports.de/s/move-on!-dance-studio-%26-polemotions\n",
      "Progress: 72.27%\n",
      "\n",
      "Processing URL 405/559\n",
      "Verarbeite URL: https://www.eversports.de/s/One8dance-Studio\n",
      "Starte URL-Rekonstruktion...\n"
     ]
    },
    {
     "name": "stderr",
     "output_type": "stream",
     "text": [
      "2024-01-26 19:00:00,261 - INFO - Processing URL 1/4: https://www.eversports.de/s/One8dance-Studio\n"
     ]
    },
    {
     "name": "stdout",
     "output_type": "stream",
     "text": [
      "Konvertiere in DataFrame...\n",
      "Validiere URLs...\n"
     ]
    },
    {
     "name": "stderr",
     "output_type": "stream",
     "text": [
      "2024-01-26 19:00:01,861 - INFO - URL https://www.eversports.de/s/One8dance-Studio is valid.\n",
      "2024-01-26 19:00:01,862 - INFO - Processing URL 2/4: https://www.eversports.de/scl/One8dance-Studio\n",
      "2024-01-26 19:00:03,251 - INFO - URL https://www.eversports.de/scl/One8dance-Studio is valid.\n",
      "2024-01-26 19:00:03,252 - INFO - Processing URL 3/4: https://www.eversports.de/sp/One8dance-Studio\n",
      "2024-01-26 19:00:04,660 - INFO - URL https://www.eversports.de/sp/One8dance-Studio is valid.\n",
      "2024-01-26 19:00:04,661 - INFO - Processing URL 4/4: https://www.eversports.de/s/One8dance-Studio/team\n",
      "2024-01-26 19:00:06,233 - INFO - URL https://www.eversports.de/s/One8dance-Studio/team is valid.\n"
     ]
    },
    {
     "name": "stdout",
     "output_type": "stream",
     "text": [
      "Scrape Pole Studio Daten von https://www.eversports.de/s/One8dance-Studio...\n",
      "Scrape Klassen Daten von https://www.eversports.de/scl/One8dance-Studio...\n",
      "Scrape Klassen Details von https://www.eversports.de/scl/One8dance-Studio...\n",
      "Verarbeitung abgeschlossen.\n",
      "\n",
      "Ergebnisse für URL: https://www.eversports.de/s/One8dance-Studio\n",
      "Pole Studio Data:\n",
      "\n",
      "\n",
      "Classes Data:\n",
      "\n",
      "\n",
      "Classes Details:\n",
      "\n",
      "\n",
      "Progress: 72.45%\n",
      "\n",
      "Processing URL 406/559\n",
      "Verarbeite URL: https://www.eversports.de/s/passionate-pole-%26-sports\n",
      "Starte URL-Rekonstruktion...\n",
      "Error during HTTP request: 404 Client Error: Not Found for url: https://www.eversports.de/s/passionate-pole-%26-sports\n",
      "Konvertiere in DataFrame...\n",
      "Validiere URLs...\n",
      "Verarbeitung abgeschlossen.\n",
      "\n",
      "Ergebnisse für URL: https://www.eversports.de/s/passionate-pole-%26-sports\n",
      "Progress: 72.63%\n",
      "\n",
      "Processing URL 407/559\n",
      "Verarbeite URL: https://www.eversports.de/s/poleplace\n",
      "Starte URL-Rekonstruktion...\n",
      "Error during HTTP request: 404 Client Error: Not Found for url: https://www.eversports.de/s/poleplace\n",
      "Konvertiere in DataFrame...\n",
      "Validiere URLs...\n",
      "Verarbeitung abgeschlossen.\n",
      "\n",
      "Ergebnisse für URL: https://www.eversports.de/s/poleplace\n",
      "Progress: 72.81%\n",
      "\n",
      "Processing URL 408/559\n",
      "Verarbeite URL: https://www.eversports.de/s/move-lounge---pilates,-powerplate,-trx,-personaltraining\n",
      "Starte URL-Rekonstruktion...\n",
      "Error during HTTP request: 404 Client Error: Not Found for url: https://www.eversports.de/s/move-lounge---pilates,-powerplate,-trx,-personaltraining\n",
      "Konvertiere in DataFrame...\n",
      "Validiere URLs...\n",
      "Verarbeitung abgeschlossen.\n",
      "\n",
      "Ergebnisse für URL: https://www.eversports.de/s/move-lounge---pilates,-powerplate,-trx,-personaltraining\n",
      "Progress: 72.99%\n",
      "\n",
      "Processing URL 409/559\n",
      "Verarbeite URL: https://www.eversports.de/s/pole-dance-beauties\n",
      "Starte URL-Rekonstruktion...\n"
     ]
    },
    {
     "name": "stderr",
     "output_type": "stream",
     "text": [
      "2024-01-26 19:01:05,289 - INFO - Processing URL 1/6: https://www.eversports.de/s/pole-dance-beauties\n"
     ]
    },
    {
     "name": "stdout",
     "output_type": "stream",
     "text": [
      "Konvertiere in DataFrame...\n",
      "Validiere URLs...\n"
     ]
    },
    {
     "name": "stderr",
     "output_type": "stream",
     "text": [
      "2024-01-26 19:01:06,974 - INFO - URL https://www.eversports.de/s/pole-dance-beauties is valid.\n",
      "2024-01-26 19:01:06,975 - INFO - Processing URL 2/6: https://www.eversports.de/scl/pole-dance-beauties\n",
      "2024-01-26 19:01:08,473 - INFO - URL https://www.eversports.de/scl/pole-dance-beauties is valid.\n",
      "2024-01-26 19:01:08,474 - INFO - Processing URL 3/6: https://www.eversports.de/s/pole-dance-beauties/kurse\n",
      "2024-01-26 19:01:10,361 - INFO - URL https://www.eversports.de/s/pole-dance-beauties/kurse is not valid.\n",
      "2024-01-26 19:01:10,362 - INFO - Processing URL 4/6: https://www.eversports.de/s/pole-dance-beauties/videos\n",
      "2024-01-26 19:01:11,956 - INFO - URL https://www.eversports.de/s/pole-dance-beauties/videos is valid.\n",
      "2024-01-26 19:01:11,956 - INFO - Processing URL 5/6: https://www.eversports.de/sp/pole-dance-beauties\n",
      "2024-01-26 19:01:13,466 - INFO - URL https://www.eversports.de/sp/pole-dance-beauties is valid.\n",
      "2024-01-26 19:01:13,467 - INFO - Processing URL 6/6: https://www.eversports.de/s/pole-dance-beauties/team\n",
      "2024-01-26 19:01:15,958 - INFO - URL https://www.eversports.de/s/pole-dance-beauties/team is valid.\n"
     ]
    },
    {
     "name": "stdout",
     "output_type": "stream",
     "text": [
      "Scrape Pole Studio Daten von https://www.eversports.de/s/pole-dance-beauties...\n",
      "Scrape Klassen Daten von https://www.eversports.de/scl/pole-dance-beauties...\n",
      "Scrape Klassen Details von https://www.eversports.de/scl/pole-dance-beauties...\n",
      "Verarbeitung abgeschlossen.\n",
      "\n",
      "Ergebnisse für URL: https://www.eversports.de/s/pole-dance-beauties\n",
      "Pole Studio Data:\n",
      "\n",
      "\n",
      "Classes Data:\n",
      "\n",
      "\n",
      "Classes Details:\n",
      "\n",
      "\n",
      "Progress: 73.17%\n",
      "\n",
      "Processing URL 410/559\n",
      "Verarbeite URL: https://www.eversports.de/s/tsg-blau-gold-giessen-ev\n",
      "Starte URL-Rekonstruktion...\n"
     ]
    },
    {
     "name": "stderr",
     "output_type": "stream",
     "text": [
      "2024-01-26 19:01:52,748 - INFO - Processing URL 1/5: https://www.eversports.de/s/tsg-blau-gold-giessen-ev\n"
     ]
    },
    {
     "name": "stdout",
     "output_type": "stream",
     "text": [
      "Konvertiere in DataFrame...\n",
      "Validiere URLs...\n"
     ]
    },
    {
     "name": "stderr",
     "output_type": "stream",
     "text": [
      "2024-01-26 19:01:54,557 - INFO - URL https://www.eversports.de/s/tsg-blau-gold-giessen-ev is valid.\n",
      "2024-01-26 19:01:54,558 - INFO - Processing URL 2/5: https://www.eversports.de/scl/tsg-blau-gold-giessen-ev\n",
      "2024-01-26 19:01:56,643 - INFO - URL https://www.eversports.de/scl/tsg-blau-gold-giessen-ev is valid.\n",
      "2024-01-26 19:01:56,644 - INFO - Processing URL 3/5: https://www.eversports.de/sw/tsg-blau-gold-giessen-ev\n",
      "2024-01-26 19:01:58,352 - INFO - URL https://www.eversports.de/sw/tsg-blau-gold-giessen-ev is valid.\n",
      "2024-01-26 19:01:58,354 - INFO - Processing URL 4/5: https://www.eversports.de/sp/tsg-blau-gold-giessen-ev\n",
      "2024-01-26 19:02:00,220 - INFO - URL https://www.eversports.de/sp/tsg-blau-gold-giessen-ev is valid.\n",
      "2024-01-26 19:02:00,221 - INFO - Processing URL 5/5: https://www.eversports.de/s/tsg-blau-gold-giessen-ev/team\n",
      "2024-01-26 19:02:02,044 - INFO - URL https://www.eversports.de/s/tsg-blau-gold-giessen-ev/team is valid.\n"
     ]
    },
    {
     "name": "stdout",
     "output_type": "stream",
     "text": [
      "Scrape Pole Studio Daten von https://www.eversports.de/s/tsg-blau-gold-giessen-ev...\n",
      "Scrape Klassen Daten von https://www.eversports.de/scl/tsg-blau-gold-giessen-ev...\n",
      "Scrape Klassen Details von https://www.eversports.de/scl/tsg-blau-gold-giessen-ev...\n",
      "Fehler beim Abrufen der Webseite\n",
      "Scrape Workshops Daten von https://www.eversports.de/sw/tsg-blau-gold-giessen-ev...\n",
      "Scrape Workshop Details von https://www.eversports.de/e/workshop/qMj9ocS...\n",
      "Scrape Workshop Details von https://www.eversports.de/e/workshop/Yv4ZcEK...\n",
      "Scrape Workshop Details von https://www.eversports.de/e/workshop/1LJamzo...\n",
      "Verarbeitung abgeschlossen.\n",
      "\n",
      "Ergebnisse für URL: https://www.eversports.de/s/tsg-blau-gold-giessen-ev\n",
      "Pole Studio Data:\n",
      "\n",
      "\n",
      "Classes Data:\n",
      "\n",
      "\n",
      "Classes Details:\n",
      "\n",
      "\n",
      "Workshops Data:\n",
      "\n",
      "\n",
      "Workshop Details:\n",
      "\n",
      "\n",
      "Progress: 73.35%\n",
      "\n",
      "Processing URL 411/559\n",
      "Verarbeite URL: https://www.eversports.de/s/POLEside\n",
      "Starte URL-Rekonstruktion...\n"
     ]
    },
    {
     "name": "stderr",
     "output_type": "stream",
     "text": [
      "2024-01-26 19:21:52,798 - INFO - Processing URL 1/7: https://www.eversports.de/s/POLEside\n"
     ]
    },
    {
     "name": "stdout",
     "output_type": "stream",
     "text": [
      "Konvertiere in DataFrame...\n",
      "Validiere URLs...\n"
     ]
    },
    {
     "name": "stderr",
     "output_type": "stream",
     "text": [
      "2024-01-26 19:21:54,871 - INFO - URL https://www.eversports.de/s/POLEside is valid.\n",
      "2024-01-26 19:21:54,872 - INFO - Processing URL 2/7: https://www.eversports.de/scl/POLEside\n",
      "2024-01-26 19:21:58,208 - INFO - URL https://www.eversports.de/scl/POLEside is valid.\n",
      "2024-01-26 19:21:58,209 - INFO - Processing URL 3/7: https://www.eversports.de/s/POLEside/kurse\n",
      "2024-01-26 19:22:00,051 - INFO - URL https://www.eversports.de/s/POLEside/kurse is not valid.\n",
      "2024-01-26 19:22:00,053 - INFO - Processing URL 4/7: https://www.eversports.de/sw/POLEside\n",
      "2024-01-26 19:22:02,037 - INFO - URL https://www.eversports.de/sw/POLEside is valid.\n",
      "2024-01-26 19:22:02,039 - INFO - Processing URL 5/7: https://www.eversports.de/s/POLEside/videos\n",
      "2024-01-26 19:22:03,735 - INFO - URL https://www.eversports.de/s/POLEside/videos is valid.\n",
      "2024-01-26 19:22:03,737 - INFO - Processing URL 6/7: https://www.eversports.de/sp/POLEside\n",
      "2024-01-26 19:22:05,404 - INFO - URL https://www.eversports.de/sp/POLEside is valid.\n",
      "2024-01-26 19:22:05,405 - INFO - Processing URL 7/7: https://www.eversports.de/s/POLEside/team\n",
      "2024-01-26 19:22:07,218 - INFO - URL https://www.eversports.de/s/POLEside/team is valid.\n"
     ]
    },
    {
     "name": "stdout",
     "output_type": "stream",
     "text": [
      "Scrape Pole Studio Daten von https://www.eversports.de/s/POLEside...\n",
      "Scrape Klassen Daten von https://www.eversports.de/scl/POLEside...\n",
      "Scrape Klassen Details von https://www.eversports.de/scl/POLEside...\n",
      "Scrape Workshops Daten von https://www.eversports.de/sw/POLEside...\n",
      "Scrape Workshop Details von https://www.eversports.de/e/workshop/llCPKoMLh...\n",
      "Verarbeitung abgeschlossen.\n",
      "\n",
      "Ergebnisse für URL: https://www.eversports.de/s/POLEside\n",
      "Pole Studio Data:\n",
      "\n",
      "\n",
      "Classes Data:\n",
      "\n",
      "\n",
      "Classes Details:\n",
      "\n",
      "\n",
      "Workshops Data:\n",
      "\n",
      "\n",
      "Workshop Details:\n",
      "\n",
      "\n",
      "Progress: 73.52%\n",
      "\n",
      "Processing URL 412/559\n",
      "Verarbeite URL: https://www.eversports.de/s/loft1-basel-city\n",
      "Starte URL-Rekonstruktion...\n"
     ]
    },
    {
     "name": "stderr",
     "output_type": "stream",
     "text": [
      "2024-01-26 19:23:27,317 - INFO - Processing URL 1/5: https://www.eversports.de/s/loft1-basel-city\n"
     ]
    },
    {
     "name": "stdout",
     "output_type": "stream",
     "text": [
      "Konvertiere in DataFrame...\n",
      "Validiere URLs...\n"
     ]
    },
    {
     "name": "stderr",
     "output_type": "stream",
     "text": [
      "2024-01-26 19:23:29,156 - INFO - URL https://www.eversports.de/s/loft1-basel-city is valid.\n",
      "2024-01-26 19:23:29,157 - INFO - Processing URL 2/5: https://www.eversports.de/scl/loft1-basel-city\n",
      "2024-01-26 19:23:30,795 - INFO - URL https://www.eversports.de/scl/loft1-basel-city is not valid.\n",
      "2024-01-26 19:23:30,797 - INFO - Processing URL 3/5: https://www.eversports.de/s/loft1-basel-city/videos\n",
      "2024-01-26 19:23:32,531 - INFO - URL https://www.eversports.de/s/loft1-basel-city/videos is not valid.\n",
      "2024-01-26 19:23:32,532 - INFO - Processing URL 4/5: https://www.eversports.de/sp/loft1-basel-city\n",
      "2024-01-26 19:23:34,235 - INFO - URL https://www.eversports.de/sp/loft1-basel-city is not valid.\n",
      "2024-01-26 19:23:34,236 - INFO - Processing URL 5/5: https://www.eversports.de/s/loft1-basel-city/team\n",
      "2024-01-26 19:23:35,944 - INFO - URL https://www.eversports.de/s/loft1-basel-city/team is valid.\n"
     ]
    },
    {
     "name": "stdout",
     "output_type": "stream",
     "text": [
      "Scrape Pole Studio Daten von https://www.eversports.de/s/loft1-basel-city...\n",
      "Verarbeitung abgeschlossen.\n",
      "\n",
      "Ergebnisse für URL: https://www.eversports.de/s/loft1-basel-city\n",
      "Pole Studio Data:\n",
      "\n",
      "\n",
      "Progress: 73.70%\n",
      "\n",
      "Processing URL 413/559\n",
      "Verarbeite URL: https://www.eversports.de/s/Studio-AERIS\n",
      "Starte URL-Rekonstruktion...\n"
     ]
    },
    {
     "name": "stderr",
     "output_type": "stream",
     "text": [
      "2024-01-26 19:23:38,425 - INFO - Processing URL 1/6: https://www.eversports.de/s/Studio-AERIS\n"
     ]
    },
    {
     "name": "stdout",
     "output_type": "stream",
     "text": [
      "Konvertiere in DataFrame...\n",
      "Validiere URLs...\n"
     ]
    },
    {
     "name": "stderr",
     "output_type": "stream",
     "text": [
      "2024-01-26 19:23:40,376 - INFO - URL https://www.eversports.de/s/Studio-AERIS is valid.\n",
      "2024-01-26 19:23:40,378 - INFO - Processing URL 2/6: https://www.eversports.de/scl/Studio-AERIS\n",
      "2024-01-26 19:23:42,031 - INFO - URL https://www.eversports.de/scl/Studio-AERIS is not valid.\n",
      "2024-01-26 19:23:42,033 - INFO - Processing URL 3/6: https://www.eversports.de/s/Studio-AERIS/kurse\n",
      "2024-01-26 19:23:43,721 - INFO - URL https://www.eversports.de/s/Studio-AERIS/kurse is not valid.\n",
      "2024-01-26 19:23:43,723 - INFO - Processing URL 4/6: https://www.eversports.de/sw/Studio-AERIS\n",
      "2024-01-26 19:23:45,387 - INFO - URL https://www.eversports.de/sw/Studio-AERIS is not valid.\n",
      "2024-01-26 19:23:45,388 - INFO - Processing URL 5/6: https://www.eversports.de/sp/Studio-AERIS\n",
      "2024-01-26 19:23:47,272 - INFO - URL https://www.eversports.de/sp/Studio-AERIS is not valid.\n",
      "2024-01-26 19:23:47,273 - INFO - Processing URL 6/6: https://www.eversports.de/s/Studio-AERIS/team\n",
      "2024-01-26 19:23:49,159 - INFO - URL https://www.eversports.de/s/Studio-AERIS/team is valid.\n"
     ]
    },
    {
     "name": "stdout",
     "output_type": "stream",
     "text": [
      "Scrape Pole Studio Daten von https://www.eversports.de/s/Studio-AERIS...\n",
      "Verarbeitung abgeschlossen.\n",
      "\n",
      "Ergebnisse für URL: https://www.eversports.de/s/Studio-AERIS\n",
      "Pole Studio Data:\n",
      "\n",
      "\n",
      "Progress: 73.88%\n",
      "\n",
      "Processing URL 414/559\n",
      "Verarbeite URL: https://www.eversports.de/s/polesports-studio-bremen\n",
      "Starte URL-Rekonstruktion...\n",
      "Error during HTTP request: 404 Client Error: Not Found for url: https://www.eversports.de/s/polesports-studio-bremen\n",
      "Konvertiere in DataFrame...\n",
      "Validiere URLs...\n",
      "Verarbeitung abgeschlossen.\n",
      "\n",
      "Ergebnisse für URL: https://www.eversports.de/s/polesports-studio-bremen\n",
      "Progress: 74.06%\n",
      "\n",
      "Processing URL 415/559\n",
      "Verarbeite URL: https://www.eversports.de/s/Polerina's-Poledance\n",
      "Starte URL-Rekonstruktion...\n",
      "Error during HTTP request: 404 Client Error: Not Found for url: https://www.eversports.de/s/Polerina's-Poledance\n",
      "Konvertiere in DataFrame...\n",
      "Validiere URLs...\n",
      "Verarbeitung abgeschlossen.\n",
      "\n",
      "Ergebnisse für URL: https://www.eversports.de/s/Polerina's-Poledance\n",
      "Progress: 74.24%\n",
      "\n",
      "Processing URL 416/559\n",
      "Verarbeite URL: https://www.eversports.de/s/Pole-Plus\n",
      "Starte URL-Rekonstruktion...\n"
     ]
    },
    {
     "name": "stderr",
     "output_type": "stream",
     "text": [
      "2024-01-26 19:23:56,259 - INFO - Processing URL 1/5: https://www.eversports.de/s/Pole-Plus\n"
     ]
    },
    {
     "name": "stdout",
     "output_type": "stream",
     "text": [
      "Konvertiere in DataFrame...\n",
      "Validiere URLs...\n"
     ]
    },
    {
     "name": "stderr",
     "output_type": "stream",
     "text": [
      "2024-01-26 19:23:58,311 - INFO - URL https://www.eversports.de/s/Pole-Plus is valid.\n",
      "2024-01-26 19:23:58,313 - INFO - Processing URL 2/5: https://www.eversports.de/scl/Pole-Plus\n",
      "2024-01-26 19:24:00,137 - INFO - URL https://www.eversports.de/scl/Pole-Plus is valid.\n",
      "2024-01-26 19:24:00,138 - INFO - Processing URL 3/5: https://www.eversports.de/sw/Pole-Plus\n",
      "2024-01-26 19:24:01,752 - INFO - URL https://www.eversports.de/sw/Pole-Plus is valid.\n",
      "2024-01-26 19:24:01,753 - INFO - Processing URL 4/5: https://www.eversports.de/sp/Pole-Plus\n",
      "2024-01-26 19:24:03,416 - INFO - URL https://www.eversports.de/sp/Pole-Plus is valid.\n",
      "2024-01-26 19:24:03,418 - INFO - Processing URL 5/5: https://www.eversports.de/s/Pole-Plus/team\n",
      "2024-01-26 19:24:05,202 - INFO - URL https://www.eversports.de/s/Pole-Plus/team is valid.\n"
     ]
    },
    {
     "name": "stdout",
     "output_type": "stream",
     "text": [
      "Scrape Pole Studio Daten von https://www.eversports.de/s/Pole-Plus...\n",
      "Scrape Klassen Daten von https://www.eversports.de/scl/Pole-Plus...\n",
      "Scrape Klassen Details von https://www.eversports.de/scl/Pole-Plus...\n",
      "Scrape Workshops Daten von https://www.eversports.de/sw/Pole-Plus...\n",
      "Scrape Workshop Details von https://www.eversports.de/e/workshop/NHtp6Mw...\n",
      "Scrape Workshop Details von https://www.eversports.de/e/workshop/CRl1muH...\n",
      "Scrape Workshop Details von https://www.eversports.de/e/workshop/upSDQIA...\n",
      "Verarbeitung abgeschlossen.\n",
      "\n",
      "Ergebnisse für URL: https://www.eversports.de/s/Pole-Plus\n",
      "Pole Studio Data:\n",
      "\n",
      "\n",
      "Classes Data:\n",
      "\n",
      "\n",
      "Classes Details:\n",
      "\n",
      "\n",
      "Workshops Data:\n",
      "\n",
      "\n",
      "Workshop Details:\n",
      "\n",
      "\n",
      "Progress: 74.42%\n",
      "\n",
      "Processing URL 417/559\n",
      "Verarbeite URL: https://www.eversports.de/s/x-step-berlin\n",
      "Starte URL-Rekonstruktion...\n"
     ]
    },
    {
     "name": "stderr",
     "output_type": "stream",
     "text": [
      "2024-01-26 19:24:58,490 - INFO - Processing URL 1/1: https://www.eversports.de/s/x-step-berlin\n"
     ]
    },
    {
     "name": "stdout",
     "output_type": "stream",
     "text": [
      "Konvertiere in DataFrame...\n",
      "Validiere URLs...\n"
     ]
    },
    {
     "name": "stderr",
     "output_type": "stream",
     "text": [
      "2024-01-26 19:25:00,358 - INFO - URL https://www.eversports.de/s/x-step-berlin is valid.\n"
     ]
    },
    {
     "name": "stdout",
     "output_type": "stream",
     "text": [
      "Scrape Pole Studio Daten von https://www.eversports.de/s/x-step-berlin...\n",
      "Verarbeitung abgeschlossen.\n",
      "\n",
      "Ergebnisse für URL: https://www.eversports.de/s/x-step-berlin\n",
      "Pole Studio Data:\n",
      "\n",
      "\n",
      "Progress: 74.60%\n",
      "\n",
      "Processing URL 418/559\n",
      "Verarbeite URL: https://www.eversports.de/s/A-heart-for-poledance\n",
      "Starte URL-Rekonstruktion...\n"
     ]
    },
    {
     "name": "stderr",
     "output_type": "stream",
     "text": [
      "2024-01-26 19:25:03,772 - INFO - Processing URL 1/1: https://www.eversports.de/s/A-heart-for-poledance\n"
     ]
    },
    {
     "name": "stdout",
     "output_type": "stream",
     "text": [
      "Konvertiere in DataFrame...\n",
      "Validiere URLs...\n"
     ]
    },
    {
     "name": "stderr",
     "output_type": "stream",
     "text": [
      "2024-01-26 19:25:05,684 - INFO - URL https://www.eversports.de/s/A-heart-for-poledance is valid.\n"
     ]
    },
    {
     "name": "stdout",
     "output_type": "stream",
     "text": [
      "Scrape Pole Studio Daten von https://www.eversports.de/s/A-heart-for-poledance...\n",
      "Verarbeitung abgeschlossen.\n",
      "\n",
      "Ergebnisse für URL: https://www.eversports.de/s/A-heart-for-poledance\n",
      "Pole Studio Data:\n",
      "\n",
      "\n",
      "Progress: 74.78%\n",
      "\n",
      "Processing URL 419/559\n",
      "Verarbeite URL: https://www.eversports.de/s/flexx-arts-aerial-dance-and-fitness\n",
      "Starte URL-Rekonstruktion...\n"
     ]
    },
    {
     "name": "stderr",
     "output_type": "stream",
     "text": [
      "2024-01-26 19:25:08,320 - INFO - Processing URL 1/6: https://www.eversports.de/s/flexx-arts-aerial-dance-and-fitness\n"
     ]
    },
    {
     "name": "stdout",
     "output_type": "stream",
     "text": [
      "Konvertiere in DataFrame...\n",
      "Validiere URLs...\n"
     ]
    },
    {
     "name": "stderr",
     "output_type": "stream",
     "text": [
      "2024-01-26 19:25:10,142 - INFO - URL https://www.eversports.de/s/flexx-arts-aerial-dance-and-fitness is valid.\n",
      "2024-01-26 19:25:10,143 - INFO - Processing URL 2/6: https://www.eversports.de/scl/flexx-arts-aerial-dance-and-fitness\n",
      "2024-01-26 19:25:11,924 - INFO - URL https://www.eversports.de/scl/flexx-arts-aerial-dance-and-fitness is valid.\n",
      "2024-01-26 19:25:11,926 - INFO - Processing URL 3/6: https://www.eversports.de/s/flexx-arts-aerial-dance-and-fitness/kurse\n",
      "2024-01-26 19:25:13,563 - INFO - URL https://www.eversports.de/s/flexx-arts-aerial-dance-and-fitness/kurse is not valid.\n",
      "2024-01-26 19:25:13,565 - INFO - Processing URL 4/6: https://www.eversports.de/sw/flexx-arts-aerial-dance-and-fitness\n",
      "2024-01-26 19:25:15,294 - INFO - URL https://www.eversports.de/sw/flexx-arts-aerial-dance-and-fitness is valid.\n",
      "2024-01-26 19:25:15,297 - INFO - Processing URL 5/6: https://www.eversports.de/sp/flexx-arts-aerial-dance-and-fitness\n",
      "2024-01-26 19:25:17,094 - INFO - URL https://www.eversports.de/sp/flexx-arts-aerial-dance-and-fitness is valid.\n",
      "2024-01-26 19:25:17,096 - INFO - Processing URL 6/6: https://www.eversports.de/s/flexx-arts-aerial-dance-and-fitness/team\n",
      "2024-01-26 19:25:18,840 - INFO - URL https://www.eversports.de/s/flexx-arts-aerial-dance-and-fitness/team is valid.\n"
     ]
    },
    {
     "name": "stdout",
     "output_type": "stream",
     "text": [
      "Scrape Pole Studio Daten von https://www.eversports.de/s/flexx-arts-aerial-dance-and-fitness...\n",
      "Scrape Klassen Daten von https://www.eversports.de/scl/flexx-arts-aerial-dance-and-fitness...\n",
      "Scrape Klassen Details von https://www.eversports.de/scl/flexx-arts-aerial-dance-and-fitness...\n",
      "Scrape Workshops Daten von https://www.eversports.de/sw/flexx-arts-aerial-dance-and-fitness...\n",
      "Scrape Workshop Details von https://www.eversports.de/e/workshop/nCNxtqP...\n",
      "Scrape Workshop Details von https://www.eversports.de/e/workshop/_EBraSK...\n",
      "Verarbeitung abgeschlossen.\n",
      "\n",
      "Ergebnisse für URL: https://www.eversports.de/s/flexx-arts-aerial-dance-and-fitness\n",
      "Pole Studio Data:\n",
      "\n",
      "\n",
      "Classes Data:\n",
      "\n",
      "\n",
      "Classes Details:\n",
      "\n",
      "\n",
      "Workshops Data:\n",
      "\n",
      "\n",
      "Workshop Details:\n",
      "\n",
      "\n",
      "Progress: 74.96%\n",
      "\n",
      "Processing URL 420/559\n",
      "Verarbeite URL: https://www.eversports.de/s/pole-and-move-online-studio\n",
      "Starte URL-Rekonstruktion...\n"
     ]
    },
    {
     "name": "stderr",
     "output_type": "stream",
     "text": [
      "2024-01-26 19:25:58,727 - INFO - Processing URL 1/5: https://www.eversports.de/s/pole-and-move-online-studio\n"
     ]
    },
    {
     "name": "stdout",
     "output_type": "stream",
     "text": [
      "Konvertiere in DataFrame...\n",
      "Validiere URLs...\n"
     ]
    },
    {
     "name": "stderr",
     "output_type": "stream",
     "text": [
      "2024-01-26 19:26:00,899 - INFO - URL https://www.eversports.de/s/pole-and-move-online-studio is valid.\n",
      "2024-01-26 19:26:00,901 - INFO - Processing URL 2/5: https://www.eversports.de/scl/pole-and-move-online-studio\n",
      "2024-01-26 19:26:02,791 - INFO - URL https://www.eversports.de/scl/pole-and-move-online-studio is valid.\n",
      "2024-01-26 19:26:02,793 - INFO - Processing URL 3/5: https://www.eversports.de/s/pole-and-move-online-studio/videos\n",
      "2024-01-26 19:26:04,486 - INFO - URL https://www.eversports.de/s/pole-and-move-online-studio/videos is valid.\n",
      "2024-01-26 19:26:04,487 - INFO - Processing URL 4/5: https://www.eversports.de/sp/pole-and-move-online-studio\n",
      "2024-01-26 19:26:06,342 - INFO - URL https://www.eversports.de/sp/pole-and-move-online-studio is valid.\n",
      "2024-01-26 19:26:06,343 - INFO - Processing URL 5/5: https://www.eversports.de/s/pole-and-move-online-studio/team\n",
      "2024-01-26 19:26:08,808 - INFO - URL https://www.eversports.de/s/pole-and-move-online-studio/team is valid.\n"
     ]
    },
    {
     "name": "stdout",
     "output_type": "stream",
     "text": [
      "Scrape Pole Studio Daten von https://www.eversports.de/s/pole-and-move-online-studio...\n",
      "Scrape Klassen Daten von https://www.eversports.de/scl/pole-and-move-online-studio...\n",
      "Scrape Klassen Details von https://www.eversports.de/scl/pole-and-move-online-studio...\n",
      "Verarbeitung abgeschlossen.\n",
      "\n",
      "Ergebnisse für URL: https://www.eversports.de/s/pole-and-move-online-studio\n",
      "Pole Studio Data:\n",
      "\n",
      "\n",
      "Classes Data:\n",
      "\n",
      "\n",
      "Classes Details:\n",
      "\n",
      "\n",
      "Progress: 75.13%\n",
      "\n",
      "Processing URL 421/559\n",
      "Verarbeite URL: https://www.eversports.de/s/Polemotions-Tübingen\n",
      "Starte URL-Rekonstruktion...\n",
      "Error during HTTP request: Exceeded 30 redirects.\n",
      "Konvertiere in DataFrame...\n",
      "Validiere URLs...\n",
      "Verarbeitung abgeschlossen.\n",
      "\n",
      "Ergebnisse für URL: https://www.eversports.de/s/Polemotions-Tübingen\n",
      "Progress: 75.31%\n",
      "\n",
      "Processing URL 422/559\n",
      "Verarbeite URL: https://www.eversports.de/s/pole-heaven\n",
      "Starte URL-Rekonstruktion...\n"
     ]
    },
    {
     "name": "stderr",
     "output_type": "stream",
     "text": [
      "2024-01-26 19:27:12,013 - INFO - Processing URL 1/1: https://www.eversports.de/s/pole-heaven\n"
     ]
    },
    {
     "name": "stdout",
     "output_type": "stream",
     "text": [
      "Konvertiere in DataFrame...\n",
      "Validiere URLs...\n"
     ]
    },
    {
     "name": "stderr",
     "output_type": "stream",
     "text": [
      "2024-01-26 19:27:13,907 - INFO - URL https://www.eversports.de/s/pole-heaven is valid.\n"
     ]
    },
    {
     "name": "stdout",
     "output_type": "stream",
     "text": [
      "Scrape Pole Studio Daten von https://www.eversports.de/s/pole-heaven...\n",
      "Verarbeitung abgeschlossen.\n",
      "\n",
      "Ergebnisse für URL: https://www.eversports.de/s/pole-heaven\n",
      "Pole Studio Data:\n",
      "\n",
      "\n",
      "Progress: 75.49%\n",
      "\n",
      "Processing URL 423/559\n",
      "Verarbeite URL: https://www.eversports.de/s/janardana-yoga\n",
      "Starte URL-Rekonstruktion...\n"
     ]
    },
    {
     "name": "stderr",
     "output_type": "stream",
     "text": [
      "2024-01-26 19:27:16,174 - INFO - Processing URL 1/6: https://www.eversports.de/s/janardana-yoga\n"
     ]
    },
    {
     "name": "stdout",
     "output_type": "stream",
     "text": [
      "Konvertiere in DataFrame...\n",
      "Validiere URLs...\n"
     ]
    },
    {
     "name": "stderr",
     "output_type": "stream",
     "text": [
      "2024-01-26 19:27:18,009 - INFO - URL https://www.eversports.de/s/janardana-yoga is valid.\n",
      "2024-01-26 19:27:18,011 - INFO - Processing URL 2/6: https://www.eversports.de/scl/janardana-yoga\n",
      "2024-01-26 19:27:19,711 - INFO - URL https://www.eversports.de/scl/janardana-yoga is valid.\n",
      "2024-01-26 19:27:19,713 - INFO - Processing URL 3/6: https://www.eversports.de/s/janardana-yoga/ausbildungen\n",
      "2024-01-26 19:27:21,354 - INFO - URL https://www.eversports.de/s/janardana-yoga/ausbildungen is not valid.\n",
      "2024-01-26 19:27:21,356 - INFO - Processing URL 4/6: https://www.eversports.de/s/janardana-yoga/videos\n",
      "2024-01-26 19:27:23,041 - INFO - URL https://www.eversports.de/s/janardana-yoga/videos is valid.\n",
      "2024-01-26 19:27:23,042 - INFO - Processing URL 5/6: https://www.eversports.de/sp/janardana-yoga\n",
      "2024-01-26 19:27:24,907 - INFO - URL https://www.eversports.de/sp/janardana-yoga is valid.\n",
      "2024-01-26 19:27:24,908 - INFO - Processing URL 6/6: https://www.eversports.de/s/janardana-yoga/team\n",
      "2024-01-26 19:27:26,646 - INFO - URL https://www.eversports.de/s/janardana-yoga/team is valid.\n"
     ]
    },
    {
     "name": "stdout",
     "output_type": "stream",
     "text": [
      "Scrape Pole Studio Daten von https://www.eversports.de/s/janardana-yoga...\n",
      "Scrape Klassen Daten von https://www.eversports.de/scl/janardana-yoga...\n",
      "Scrape Klassen Details von https://www.eversports.de/scl/janardana-yoga...\n",
      "Verarbeitung abgeschlossen.\n",
      "\n",
      "Ergebnisse für URL: https://www.eversports.de/s/janardana-yoga\n",
      "Pole Studio Data:\n",
      "\n",
      "\n",
      "Classes Data:\n",
      "\n",
      "\n",
      "Classes Details:\n",
      "\n",
      "\n",
      "Progress: 75.67%\n",
      "\n",
      "Processing URL 424/559\n",
      "Verarbeite URL: https://www.eversports.de/s/tanzteufel-emmendingen\n",
      "Starte URL-Rekonstruktion...\n",
      "Error during HTTP request: 404 Client Error: Not Found for url: https://www.eversports.de/s/tanzteufel-emmendingen\n",
      "Konvertiere in DataFrame...\n",
      "Validiere URLs...\n",
      "Verarbeitung abgeschlossen.\n",
      "\n",
      "Ergebnisse für URL: https://www.eversports.de/s/tanzteufel-emmendingen\n",
      "Progress: 75.85%\n",
      "\n",
      "Processing URL 425/559\n",
      "Verarbeite URL: https://www.eversports.de/s/unique-pole-art\n",
      "Starte URL-Rekonstruktion...\n",
      "Error during HTTP request: 404 Client Error: Not Found for url: https://www.eversports.de/s/unique-pole-art\n",
      "Konvertiere in DataFrame...\n",
      "Validiere URLs...\n",
      "Verarbeitung abgeschlossen.\n",
      "\n",
      "Ergebnisse für URL: https://www.eversports.de/s/unique-pole-art\n",
      "Progress: 76.03%\n",
      "\n",
      "Processing URL 426/559\n",
      "Verarbeite URL: https://www.eversports.de/s/pure-body-concepts-1\n",
      "Starte URL-Rekonstruktion...\n"
     ]
    },
    {
     "name": "stderr",
     "output_type": "stream",
     "text": [
      "2024-01-26 19:29:15,516 - INFO - Processing URL 1/5: https://www.eversports.de/s/pure-body-concepts-1\n"
     ]
    },
    {
     "name": "stdout",
     "output_type": "stream",
     "text": [
      "Konvertiere in DataFrame...\n",
      "Validiere URLs...\n"
     ]
    },
    {
     "name": "stderr",
     "output_type": "stream",
     "text": [
      "2024-01-26 19:29:17,540 - INFO - URL https://www.eversports.de/s/pure-body-concepts-1 is valid.\n",
      "2024-01-26 19:29:17,542 - INFO - Processing URL 2/5: https://www.eversports.de/scl/pure-body-concepts-1\n",
      "2024-01-26 19:29:19,474 - INFO - URL https://www.eversports.de/scl/pure-body-concepts-1 is valid.\n",
      "2024-01-26 19:29:19,476 - INFO - Processing URL 3/5: https://www.eversports.de/s/pure-body-concepts-1/videos\n",
      "2024-01-26 19:29:21,257 - INFO - URL https://www.eversports.de/s/pure-body-concepts-1/videos is valid.\n",
      "2024-01-26 19:29:21,258 - INFO - Processing URL 4/5: https://www.eversports.de/sp/pure-body-concepts-1\n",
      "2024-01-26 19:29:23,248 - INFO - URL https://www.eversports.de/sp/pure-body-concepts-1 is valid.\n",
      "2024-01-26 19:29:23,249 - INFO - Processing URL 5/5: https://www.eversports.de/s/pure-body-concepts-1/team\n",
      "2024-01-26 19:29:25,027 - INFO - URL https://www.eversports.de/s/pure-body-concepts-1/team is valid.\n"
     ]
    },
    {
     "name": "stdout",
     "output_type": "stream",
     "text": [
      "Scrape Pole Studio Daten von https://www.eversports.de/s/pure-body-concepts-1...\n",
      "Scrape Klassen Daten von https://www.eversports.de/scl/pure-body-concepts-1...\n",
      "Scrape Klassen Details von https://www.eversports.de/scl/pure-body-concepts-1...\n",
      "Verarbeitung abgeschlossen.\n",
      "\n",
      "Ergebnisse für URL: https://www.eversports.de/s/pure-body-concepts-1\n",
      "Pole Studio Data:\n",
      "\n",
      "\n",
      "Classes Data:\n",
      "\n",
      "\n",
      "Classes Details:\n",
      "\n",
      "\n",
      "Progress: 76.21%\n",
      "\n",
      "Processing URL 427/559\n",
      "Verarbeite URL: https://www.eversports.de/s/airobics\n",
      "Starte URL-Rekonstruktion...\n"
     ]
    },
    {
     "name": "stderr",
     "output_type": "stream",
     "text": [
      "2024-01-26 19:32:04,114 - INFO - Processing URL 1/5: https://www.eversports.de/s/airobics\n"
     ]
    },
    {
     "name": "stdout",
     "output_type": "stream",
     "text": [
      "Konvertiere in DataFrame...\n",
      "Validiere URLs...\n"
     ]
    },
    {
     "name": "stderr",
     "output_type": "stream",
     "text": [
      "2024-01-26 19:32:07,368 - INFO - URL https://www.eversports.de/s/airobics is valid.\n",
      "2024-01-26 19:32:07,369 - INFO - Processing URL 2/5: https://www.eversports.de/scl/airobics\n",
      "2024-01-26 19:32:09,190 - INFO - URL https://www.eversports.de/scl/airobics is valid.\n",
      "2024-01-26 19:32:09,191 - INFO - Processing URL 3/5: https://www.eversports.de/s/airobics/kurse\n",
      "2024-01-26 19:32:10,858 - INFO - URL https://www.eversports.de/s/airobics/kurse is not valid.\n",
      "2024-01-26 19:32:10,859 - INFO - Processing URL 4/5: https://www.eversports.de/sp/airobics\n",
      "2024-01-26 19:32:12,735 - INFO - URL https://www.eversports.de/sp/airobics is valid.\n",
      "2024-01-26 19:32:12,736 - INFO - Processing URL 5/5: https://www.eversports.de/s/airobics/team\n",
      "2024-01-26 19:32:14,458 - INFO - URL https://www.eversports.de/s/airobics/team is valid.\n"
     ]
    },
    {
     "name": "stdout",
     "output_type": "stream",
     "text": [
      "Scrape Pole Studio Daten von https://www.eversports.de/s/airobics...\n",
      "Scrape Klassen Daten von https://www.eversports.de/scl/airobics...\n",
      "Scrape Klassen Details von https://www.eversports.de/scl/airobics...\n",
      "Verarbeitung abgeschlossen.\n",
      "\n",
      "Ergebnisse für URL: https://www.eversports.de/s/airobics\n",
      "Pole Studio Data:\n",
      "\n",
      "\n",
      "Classes Data:\n",
      "\n",
      "\n",
      "Classes Details:\n",
      "\n",
      "\n",
      "Progress: 76.39%\n",
      "\n",
      "Processing URL 428/559\n",
      "Verarbeite URL: https://www.eversports.de/s/Lustforlife.Studio\n",
      "Starte URL-Rekonstruktion...\n",
      "Error during HTTP request: 404 Client Error: Not Found for url: https://www.eversports.de/s/lustforlife.studio\n",
      "Konvertiere in DataFrame...\n",
      "Validiere URLs...\n",
      "Verarbeitung abgeschlossen.\n",
      "\n",
      "Ergebnisse für URL: https://www.eversports.de/s/Lustforlife.Studio\n",
      "Progress: 76.57%\n",
      "\n",
      "Processing URL 429/559\n",
      "Verarbeite URL: https://www.eversports.de/s/studio-elodie-tanzbewegung\n",
      "Starte URL-Rekonstruktion...\n",
      "Error during HTTP request: 404 Client Error: Not Found for url: https://www.eversports.de/s/studio-elodie-tanzbewegung\n",
      "Konvertiere in DataFrame...\n",
      "Validiere URLs...\n",
      "Verarbeitung abgeschlossen.\n",
      "\n",
      "Ergebnisse für URL: https://www.eversports.de/s/studio-elodie-tanzbewegung\n",
      "Progress: 76.74%\n",
      "\n",
      "Processing URL 430/559\n",
      "Verarbeite URL: https://www.eversports.de/s/polemotions-filderstadt\n",
      "Starte URL-Rekonstruktion...\n"
     ]
    },
    {
     "name": "stderr",
     "output_type": "stream",
     "text": [
      "2024-01-26 19:34:19,608 - INFO - Processing URL 1/4: https://www.eversports.de/s/polemotions-filderstadt\n"
     ]
    },
    {
     "name": "stdout",
     "output_type": "stream",
     "text": [
      "Konvertiere in DataFrame...\n",
      "Validiere URLs...\n"
     ]
    },
    {
     "name": "stderr",
     "output_type": "stream",
     "text": [
      "2024-01-26 19:34:21,427 - INFO - URL https://www.eversports.de/s/polemotions-filderstadt is valid.\n",
      "2024-01-26 19:34:21,429 - INFO - Processing URL 2/4: https://www.eversports.de/scl/polemotions-filderstadt\n",
      "2024-01-26 19:34:23,220 - INFO - URL https://www.eversports.de/scl/polemotions-filderstadt is valid.\n",
      "2024-01-26 19:34:23,221 - INFO - Processing URL 3/4: https://www.eversports.de/sp/polemotions-filderstadt\n",
      "2024-01-26 19:34:26,065 - INFO - URL https://www.eversports.de/sp/polemotions-filderstadt is valid.\n",
      "2024-01-26 19:34:26,066 - INFO - Processing URL 4/4: https://www.eversports.de/s/polemotions-filderstadt/team\n",
      "2024-01-26 19:34:27,701 - INFO - URL https://www.eversports.de/s/polemotions-filderstadt/team is valid.\n"
     ]
    },
    {
     "name": "stdout",
     "output_type": "stream",
     "text": [
      "Scrape Pole Studio Daten von https://www.eversports.de/s/polemotions-filderstadt...\n",
      "Scrape Klassen Daten von https://www.eversports.de/scl/polemotions-filderstadt...\n",
      "Scrape Klassen Details von https://www.eversports.de/scl/polemotions-filderstadt...\n",
      "Verarbeitung abgeschlossen.\n",
      "\n",
      "Ergebnisse für URL: https://www.eversports.de/s/polemotions-filderstadt\n",
      "Pole Studio Data:\n",
      "\n",
      "\n",
      "Classes Data:\n",
      "\n",
      "\n",
      "Classes Details:\n",
      "\n",
      "\n",
      "Progress: 76.92%\n",
      "\n",
      "Processing URL 431/559\n",
      "Verarbeite URL: https://www.eversports.de/s/rock'n'pole-regensburg\n",
      "Starte URL-Rekonstruktion...\n",
      "Error during HTTP request: 404 Client Error: Not Found for url: https://www.eversports.de/s/rock'n'pole-regensburg\n",
      "Konvertiere in DataFrame...\n",
      "Validiere URLs...\n",
      "Verarbeitung abgeschlossen.\n",
      "\n",
      "Ergebnisse für URL: https://www.eversports.de/s/rock'n'pole-regensburg\n",
      "Progress: 77.10%\n",
      "\n",
      "Processing URL 432/559\n",
      "Verarbeite URL: https://www.eversports.de/s/Infinity-Polesports\n",
      "Starte URL-Rekonstruktion...\n"
     ]
    },
    {
     "name": "stderr",
     "output_type": "stream",
     "text": [
      "2024-01-26 19:35:28,647 - INFO - Processing URL 1/4: https://www.eversports.de/s/Infinity-Polesports\n"
     ]
    },
    {
     "name": "stdout",
     "output_type": "stream",
     "text": [
      "Konvertiere in DataFrame...\n",
      "Validiere URLs...\n"
     ]
    },
    {
     "name": "stderr",
     "output_type": "stream",
     "text": [
      "2024-01-26 19:35:31,193 - INFO - URL https://www.eversports.de/s/Infinity-Polesports is valid.\n",
      "2024-01-26 19:35:31,195 - INFO - Processing URL 2/4: https://www.eversports.de/scl/Infinity-Polesports\n",
      "2024-01-26 19:35:32,853 - INFO - URL https://www.eversports.de/scl/Infinity-Polesports is valid.\n",
      "2024-01-26 19:35:32,854 - INFO - Processing URL 3/4: https://www.eversports.de/sp/Infinity-Polesports\n",
      "2024-01-26 19:35:34,569 - INFO - URL https://www.eversports.de/sp/Infinity-Polesports is valid.\n",
      "2024-01-26 19:35:34,571 - INFO - Processing URL 4/4: https://www.eversports.de/s/Infinity-Polesports/team\n",
      "2024-01-26 19:35:36,408 - INFO - URL https://www.eversports.de/s/Infinity-Polesports/team is valid.\n"
     ]
    },
    {
     "name": "stdout",
     "output_type": "stream",
     "text": [
      "Scrape Pole Studio Daten von https://www.eversports.de/s/Infinity-Polesports...\n",
      "Scrape Klassen Daten von https://www.eversports.de/scl/Infinity-Polesports...\n",
      "Scrape Klassen Details von https://www.eversports.de/scl/Infinity-Polesports...\n",
      "Fehler beim Abrufen der Webseite\n",
      "Verarbeitung abgeschlossen.\n",
      "\n",
      "Ergebnisse für URL: https://www.eversports.de/s/Infinity-Polesports\n",
      "Pole Studio Data:\n",
      "\n",
      "\n",
      "Classes Data:\n",
      "\n",
      "\n",
      "Classes Details:\n",
      "\n",
      "\n",
      "Progress: 77.28%\n",
      "\n",
      "Processing URL 433/559\n",
      "Verarbeite URL: https://www.eversports.de/s/polestarz---the-art-of-pole%2C-dance-%26-fitness\n",
      "Starte URL-Rekonstruktion...\n",
      "Error during HTTP request: Exceeded 30 redirects.\n",
      "Konvertiere in DataFrame...\n",
      "Validiere URLs...\n",
      "Verarbeitung abgeschlossen.\n",
      "\n",
      "Ergebnisse für URL: https://www.eversports.de/s/polestarz---the-art-of-pole%2C-dance-%26-fitness\n",
      "Progress: 77.46%\n",
      "\n",
      "Processing URL 434/559\n",
      "Verarbeite URL: https://www.eversports.de/s/vi-dance-essen\n",
      "Starte URL-Rekonstruktion...\n",
      "Error during HTTP request: 404 Client Error: Not Found for url: https://www.eversports.de/s/vi-dance-essen\n",
      "Konvertiere in DataFrame...\n",
      "Validiere URLs...\n",
      "Verarbeitung abgeschlossen.\n",
      "\n",
      "Ergebnisse für URL: https://www.eversports.de/s/vi-dance-essen\n",
      "Progress: 77.64%\n",
      "\n",
      "Processing URL 435/559\n",
      "Verarbeite URL: https://www.eversports.de/s/pole-fit-nes\n",
      "Starte URL-Rekonstruktion...\n",
      "Error during HTTP request: 404 Client Error: Not Found for url: https://www.eversports.de/s/pole-fit-nes\n",
      "Konvertiere in DataFrame...\n",
      "Validiere URLs...\n",
      "Verarbeitung abgeschlossen.\n",
      "\n",
      "Ergebnisse für URL: https://www.eversports.de/s/pole-fit-nes\n",
      "Progress: 77.82%\n",
      "\n",
      "Processing URL 436/559\n",
      "Verarbeite URL: https://www.eversports.de/s/bodysoul-studio-d%C3%BCsseldorf\n",
      "Starte URL-Rekonstruktion...\n",
      "Error during HTTP request: Exceeded 30 redirects.\n",
      "Konvertiere in DataFrame...\n",
      "Validiere URLs...\n",
      "Verarbeitung abgeschlossen.\n",
      "\n",
      "Ergebnisse für URL: https://www.eversports.de/s/bodysoul-studio-d%C3%BCsseldorf\n",
      "Progress: 78.00%\n",
      "\n",
      "Processing URL 437/559\n",
      "Verarbeite URL: https://www.eversports.de/s/pole-heroes\n",
      "Starte URL-Rekonstruktion...\n"
     ]
    },
    {
     "name": "stderr",
     "output_type": "stream",
     "text": [
      "2024-01-26 19:37:16,793 - INFO - Processing URL 1/5: https://www.eversports.de/s/pole-heroes\n"
     ]
    },
    {
     "name": "stdout",
     "output_type": "stream",
     "text": [
      "Konvertiere in DataFrame...\n",
      "Validiere URLs...\n"
     ]
    },
    {
     "name": "stderr",
     "output_type": "stream",
     "text": [
      "2024-01-26 19:37:18,812 - INFO - URL https://www.eversports.de/s/pole-heroes is valid.\n",
      "2024-01-26 19:37:18,814 - INFO - Processing URL 2/5: https://www.eversports.de/scl/pole-heroes\n",
      "2024-01-26 19:37:20,550 - INFO - URL https://www.eversports.de/scl/pole-heroes is valid.\n",
      "2024-01-26 19:37:20,552 - INFO - Processing URL 3/5: https://www.eversports.de/sw/pole-heroes\n",
      "2024-01-26 19:37:22,340 - INFO - URL https://www.eversports.de/sw/pole-heroes is valid.\n",
      "2024-01-26 19:37:22,342 - INFO - Processing URL 4/5: https://www.eversports.de/sp/pole-heroes\n",
      "2024-01-26 19:37:24,036 - INFO - URL https://www.eversports.de/sp/pole-heroes is valid.\n",
      "2024-01-26 19:37:24,038 - INFO - Processing URL 5/5: https://www.eversports.de/s/pole-heroes/team\n",
      "2024-01-26 19:37:26,121 - INFO - URL https://www.eversports.de/s/pole-heroes/team is valid.\n"
     ]
    },
    {
     "name": "stdout",
     "output_type": "stream",
     "text": [
      "Scrape Pole Studio Daten von https://www.eversports.de/s/pole-heroes...\n",
      "Scrape Klassen Daten von https://www.eversports.de/scl/pole-heroes...\n",
      "Scrape Klassen Details von https://www.eversports.de/scl/pole-heroes...\n",
      "Scrape Workshops Daten von https://www.eversports.de/sw/pole-heroes...\n",
      "Scrape Workshop Details von https://www.eversports.de/e/workshop/6blRZdc...\n",
      "Scrape Workshop Details von https://www.eversports.de/e/workshop/qyrtCxT...\n",
      "Scrape Workshop Details von https://www.eversports.de/e/workshop/XbedbNM...\n",
      "Scrape Workshop Details von https://www.eversports.de/e/workshop/_cVfx28...\n",
      "Scrape Workshop Details von https://www.eversports.de/e/workshop/vPqMS0U...\n",
      "Verarbeitung abgeschlossen.\n",
      "\n",
      "Ergebnisse für URL: https://www.eversports.de/s/pole-heroes\n",
      "Pole Studio Data:\n",
      "\n",
      "\n",
      "Classes Data:\n",
      "\n",
      "\n",
      "Classes Details:\n",
      "\n",
      "\n",
      "Workshops Data:\n",
      "\n",
      "\n",
      "Workshop Details:\n",
      "\n",
      "\n",
      "Progress: 78.18%\n",
      "\n",
      "Processing URL 438/559\n",
      "Verarbeite URL: https://www.eversports.de/s/polerinas-art-pole-%26aerial-fitness\n",
      "Starte URL-Rekonstruktion...\n",
      "Error during HTTP request: 404 Client Error: Not Found for url: https://www.eversports.de/s/polerinas-art-pole-%26aerial-fitness\n",
      "Konvertiere in DataFrame...\n",
      "Validiere URLs...\n",
      "Verarbeitung abgeschlossen.\n",
      "\n",
      "Ergebnisse für URL: https://www.eversports.de/s/polerinas-art-pole-%26aerial-fitness\n",
      "Progress: 78.35%\n",
      "\n",
      "Processing URL 439/559\n",
      "Verarbeite URL: https://www.eversports.de/s/t-tanzstueck-braunschweig\n",
      "Starte URL-Rekonstruktion...\n"
     ]
    },
    {
     "name": "stderr",
     "output_type": "stream",
     "text": [
      "2024-01-26 19:38:22,988 - INFO - Processing URL 1/6: https://www.eversports.de/s/t-tanzstueck-braunschweig\n"
     ]
    },
    {
     "name": "stdout",
     "output_type": "stream",
     "text": [
      "Konvertiere in DataFrame...\n",
      "Validiere URLs...\n"
     ]
    },
    {
     "name": "stderr",
     "output_type": "stream",
     "text": [
      "2024-01-26 19:38:24,889 - INFO - URL https://www.eversports.de/s/t-tanzstueck-braunschweig is valid.\n",
      "2024-01-26 19:38:24,890 - INFO - Processing URL 2/6: https://www.eversports.de/scl/t-tanzstueck-braunschweig\n",
      "2024-01-26 19:38:26,685 - INFO - URL https://www.eversports.de/scl/t-tanzstueck-braunschweig is valid.\n",
      "2024-01-26 19:38:26,687 - INFO - Processing URL 3/6: https://www.eversports.de/s/t-tanzstueck-braunschweig/kurse\n",
      "2024-01-26 19:38:28,222 - INFO - URL https://www.eversports.de/s/t-tanzstueck-braunschweig/kurse is not valid.\n",
      "2024-01-26 19:38:28,223 - INFO - Processing URL 4/6: https://www.eversports.de/sw/t-tanzstueck-braunschweig\n",
      "2024-01-26 19:38:29,954 - INFO - URL https://www.eversports.de/sw/t-tanzstueck-braunschweig is valid.\n",
      "2024-01-26 19:38:29,955 - INFO - Processing URL 5/6: https://www.eversports.de/sp/t-tanzstueck-braunschweig\n",
      "2024-01-26 19:38:31,582 - INFO - URL https://www.eversports.de/sp/t-tanzstueck-braunschweig is valid.\n",
      "2024-01-26 19:38:31,583 - INFO - Processing URL 6/6: https://www.eversports.de/s/t-tanzstueck-braunschweig/team\n",
      "2024-01-26 19:38:33,310 - INFO - URL https://www.eversports.de/s/t-tanzstueck-braunschweig/team is valid.\n"
     ]
    },
    {
     "name": "stdout",
     "output_type": "stream",
     "text": [
      "Scrape Pole Studio Daten von https://www.eversports.de/s/t-tanzstueck-braunschweig...\n",
      "Scrape Klassen Daten von https://www.eversports.de/scl/t-tanzstueck-braunschweig...\n",
      "Scrape Klassen Details von https://www.eversports.de/scl/t-tanzstueck-braunschweig...\n",
      "Scrape Workshops Daten von https://www.eversports.de/sw/t-tanzstueck-braunschweig...\n",
      "Scrape Workshop Details von https://www.eversports.de/e/workshop/fDL8rwL...\n",
      "Scrape Workshop Details von https://www.eversports.de/e/workshop/itCOcd3...\n",
      "Verarbeitung abgeschlossen.\n",
      "\n",
      "Ergebnisse für URL: https://www.eversports.de/s/t-tanzstueck-braunschweig\n",
      "Pole Studio Data:\n",
      "\n",
      "\n",
      "Classes Data:\n",
      "\n",
      "\n",
      "Classes Details:\n",
      "\n",
      "\n",
      "Workshops Data:\n",
      "\n",
      "\n",
      "Workshop Details:\n",
      "\n",
      "\n",
      "Progress: 78.53%\n",
      "\n",
      "Processing URL 440/559\n",
      "Verarbeite URL: https://www.eversports.de/s/PoleWirbel\n",
      "Starte URL-Rekonstruktion...\n"
     ]
    },
    {
     "name": "stderr",
     "output_type": "stream",
     "text": [
      "2024-01-26 19:40:32,448 - INFO - Processing URL 1/4: https://www.eversports.de/s/PoleWirbel\n"
     ]
    },
    {
     "name": "stdout",
     "output_type": "stream",
     "text": [
      "Konvertiere in DataFrame...\n",
      "Validiere URLs...\n"
     ]
    },
    {
     "name": "stderr",
     "output_type": "stream",
     "text": [
      "2024-01-26 19:40:34,363 - INFO - URL https://www.eversports.de/s/PoleWirbel is valid.\n",
      "2024-01-26 19:40:34,364 - INFO - Processing URL 2/4: https://www.eversports.de/scl/PoleWirbel\n",
      "2024-01-26 19:40:36,024 - INFO - URL https://www.eversports.de/scl/PoleWirbel is valid.\n",
      "2024-01-26 19:40:36,026 - INFO - Processing URL 3/4: https://www.eversports.de/sp/PoleWirbel\n",
      "2024-01-26 19:40:37,708 - INFO - URL https://www.eversports.de/sp/PoleWirbel is valid.\n",
      "2024-01-26 19:40:37,710 - INFO - Processing URL 4/4: https://www.eversports.de/s/PoleWirbel/team\n",
      "2024-01-26 19:40:39,635 - INFO - URL https://www.eversports.de/s/PoleWirbel/team is valid.\n"
     ]
    },
    {
     "name": "stdout",
     "output_type": "stream",
     "text": [
      "Scrape Pole Studio Daten von https://www.eversports.de/s/PoleWirbel...\n",
      "Scrape Klassen Daten von https://www.eversports.de/scl/PoleWirbel...\n",
      "Scrape Klassen Details von https://www.eversports.de/scl/PoleWirbel...\n",
      "Verarbeitung abgeschlossen.\n",
      "\n",
      "Ergebnisse für URL: https://www.eversports.de/s/PoleWirbel\n",
      "Pole Studio Data:\n",
      "\n",
      "\n",
      "Classes Data:\n",
      "\n",
      "\n",
      "Classes Details:\n",
      "\n",
      "\n",
      "Progress: 78.71%\n",
      "\n",
      "Processing URL 441/559\n",
      "Verarbeite URL: https://www.eversports.de/s/Schönheitstanz-Studio\n",
      "Starte URL-Rekonstruktion...\n",
      "Error during HTTP request: Exceeded 30 redirects.\n",
      "Konvertiere in DataFrame...\n",
      "Validiere URLs...\n",
      "Verarbeitung abgeschlossen.\n",
      "\n",
      "Ergebnisse für URL: https://www.eversports.de/s/Schönheitstanz-Studio\n",
      "Progress: 78.89%\n",
      "\n",
      "Processing URL 442/559\n",
      "Verarbeite URL: https://www.eversports.de/s/the-pole-lounge\n",
      "Starte URL-Rekonstruktion...\n"
     ]
    },
    {
     "name": "stderr",
     "output_type": "stream",
     "text": [
      "2024-01-26 19:41:02,040 - INFO - Processing URL 1/6: https://www.eversports.de/s/the-pole-lounge\n"
     ]
    },
    {
     "name": "stdout",
     "output_type": "stream",
     "text": [
      "Konvertiere in DataFrame...\n",
      "Validiere URLs...\n"
     ]
    },
    {
     "name": "stderr",
     "output_type": "stream",
     "text": [
      "2024-01-26 19:41:04,042 - INFO - URL https://www.eversports.de/s/the-pole-lounge is valid.\n",
      "2024-01-26 19:41:04,043 - INFO - Processing URL 2/6: https://www.eversports.de/scl/the-pole-lounge\n",
      "2024-01-26 19:41:07,786 - INFO - URL https://www.eversports.de/scl/the-pole-lounge is valid.\n",
      "2024-01-26 19:41:07,787 - INFO - Processing URL 3/6: https://www.eversports.de/s/the-pole-lounge/kurse\n",
      "2024-01-26 19:41:09,338 - INFO - URL https://www.eversports.de/s/the-pole-lounge/kurse is not valid.\n",
      "2024-01-26 19:41:09,339 - INFO - Processing URL 4/6: https://www.eversports.de/sw/the-pole-lounge\n",
      "2024-01-26 19:41:11,058 - INFO - URL https://www.eversports.de/sw/the-pole-lounge is valid.\n",
      "2024-01-26 19:41:11,059 - INFO - Processing URL 5/6: https://www.eversports.de/sp/the-pole-lounge\n",
      "2024-01-26 19:41:12,825 - INFO - URL https://www.eversports.de/sp/the-pole-lounge is valid.\n",
      "2024-01-26 19:41:12,826 - INFO - Processing URL 6/6: https://www.eversports.de/s/the-pole-lounge/team\n",
      "2024-01-26 19:41:14,546 - INFO - URL https://www.eversports.de/s/the-pole-lounge/team is valid.\n"
     ]
    },
    {
     "name": "stdout",
     "output_type": "stream",
     "text": [
      "Scrape Pole Studio Daten von https://www.eversports.de/s/the-pole-lounge...\n",
      "Scrape Klassen Daten von https://www.eversports.de/scl/the-pole-lounge...\n",
      "Scrape Klassen Details von https://www.eversports.de/scl/the-pole-lounge...\n",
      "Scrape Workshops Daten von https://www.eversports.de/sw/the-pole-lounge...\n",
      "Scrape Workshop Details von https://www.eversports.de/e/workshop/QD21QTN...\n",
      "Verarbeitung abgeschlossen.\n",
      "\n",
      "Ergebnisse für URL: https://www.eversports.de/s/the-pole-lounge\n",
      "Pole Studio Data:\n",
      "\n",
      "\n",
      "Classes Data:\n",
      "\n",
      "\n",
      "Classes Details:\n",
      "\n",
      "\n",
      "Workshops Data:\n",
      "\n",
      "\n",
      "Workshop Details:\n",
      "\n",
      "\n",
      "Progress: 79.07%\n",
      "\n",
      "Processing URL 443/559\n",
      "Verarbeite URL: https://www.eversports.de/s/la-familia-poleclub\n",
      "Starte URL-Rekonstruktion...\n",
      "Error during HTTP request: 404 Client Error: Not Found for url: https://www.eversports.de/s/la-familia-poleclub\n",
      "Konvertiere in DataFrame...\n",
      "Validiere URLs...\n",
      "Verarbeitung abgeschlossen.\n",
      "\n",
      "Ergebnisse für URL: https://www.eversports.de/s/la-familia-poleclub\n",
      "Progress: 79.25%\n",
      "\n",
      "Processing URL 444/559\n",
      "Verarbeite URL: https://www.eversports.de/s/dayuma-pole-and-acrobatics\n",
      "Starte URL-Rekonstruktion...\n"
     ]
    },
    {
     "name": "stderr",
     "output_type": "stream",
     "text": [
      "2024-01-26 19:44:33,100 - INFO - Processing URL 1/5: https://www.eversports.de/s/dayuma-pole-and-acrobatics\n"
     ]
    },
    {
     "name": "stdout",
     "output_type": "stream",
     "text": [
      "Konvertiere in DataFrame...\n",
      "Validiere URLs...\n"
     ]
    },
    {
     "name": "stderr",
     "output_type": "stream",
     "text": [
      "2024-01-26 19:44:35,098 - INFO - URL https://www.eversports.de/s/dayuma-pole-and-acrobatics is valid.\n",
      "2024-01-26 19:44:35,101 - INFO - Processing URL 2/5: https://www.eversports.de/scl/dayuma-pole-and-acrobatics\n",
      "2024-01-26 19:44:37,013 - INFO - URL https://www.eversports.de/scl/dayuma-pole-and-acrobatics is not valid.\n",
      "2024-01-26 19:44:37,014 - INFO - Processing URL 3/5: https://www.eversports.de/sw/dayuma-pole-and-acrobatics\n",
      "2024-01-26 19:44:38,830 - INFO - URL https://www.eversports.de/sw/dayuma-pole-and-acrobatics is not valid.\n",
      "2024-01-26 19:44:38,832 - INFO - Processing URL 4/5: https://www.eversports.de/sp/dayuma-pole-and-acrobatics\n",
      "2024-01-26 19:44:42,112 - INFO - URL https://www.eversports.de/sp/dayuma-pole-and-acrobatics is not valid.\n",
      "2024-01-26 19:44:42,114 - INFO - Processing URL 5/5: https://www.eversports.de/s/dayuma-pole-and-acrobatics/team\n",
      "2024-01-26 19:44:44,018 - INFO - URL https://www.eversports.de/s/dayuma-pole-and-acrobatics/team is valid.\n"
     ]
    },
    {
     "name": "stdout",
     "output_type": "stream",
     "text": [
      "Scrape Pole Studio Daten von https://www.eversports.de/s/dayuma-pole-and-acrobatics...\n",
      "Verarbeitung abgeschlossen.\n",
      "\n",
      "Ergebnisse für URL: https://www.eversports.de/s/dayuma-pole-and-acrobatics\n",
      "Pole Studio Data:\n",
      "\n",
      "\n",
      "Progress: 79.43%\n",
      "\n",
      "Processing URL 445/559\n",
      "Verarbeite URL: https://www.eversports.de/s/dance-in-the-city-remscheid\n",
      "Starte URL-Rekonstruktion...\n",
      "Error during HTTP request: 404 Client Error: Not Found for url: https://www.eversports.de/s/dance-in-the-city-remscheid\n",
      "Konvertiere in DataFrame...\n",
      "Validiere URLs...\n",
      "Verarbeitung abgeschlossen.\n",
      "\n",
      "Ergebnisse für URL: https://www.eversports.de/s/dance-in-the-city-remscheid\n",
      "Progress: 79.61%\n",
      "\n",
      "Processing URL 446/559\n",
      "Verarbeite URL: https://www.eversports.de/s/LOFT1-BASEL-CITY\n",
      "Starte URL-Rekonstruktion...\n"
     ]
    },
    {
     "name": "stderr",
     "output_type": "stream",
     "text": [
      "2024-01-26 19:44:48,448 - INFO - Processing URL 1/5: https://www.eversports.de/s/LOFT1-BASEL-CITY\n"
     ]
    },
    {
     "name": "stdout",
     "output_type": "stream",
     "text": [
      "Konvertiere in DataFrame...\n",
      "Validiere URLs...\n"
     ]
    },
    {
     "name": "stderr",
     "output_type": "stream",
     "text": [
      "2024-01-26 19:44:50,534 - INFO - URL https://www.eversports.de/s/LOFT1-BASEL-CITY is valid.\n",
      "2024-01-26 19:44:50,536 - INFO - Processing URL 2/5: https://www.eversports.de/scl/LOFT1-BASEL-CITY\n",
      "2024-01-26 19:44:52,294 - INFO - URL https://www.eversports.de/scl/LOFT1-BASEL-CITY is not valid.\n",
      "2024-01-26 19:44:52,296 - INFO - Processing URL 3/5: https://www.eversports.de/s/LOFT1-BASEL-CITY/videos\n",
      "2024-01-26 19:44:54,190 - INFO - URL https://www.eversports.de/s/LOFT1-BASEL-CITY/videos is not valid.\n",
      "2024-01-26 19:44:54,191 - INFO - Processing URL 4/5: https://www.eversports.de/sp/LOFT1-BASEL-CITY\n",
      "2024-01-26 19:44:56,005 - INFO - URL https://www.eversports.de/sp/LOFT1-BASEL-CITY is not valid.\n",
      "2024-01-26 19:44:56,007 - INFO - Processing URL 5/5: https://www.eversports.de/s/LOFT1-BASEL-CITY/team\n",
      "2024-01-26 19:45:13,189 - INFO - URL https://www.eversports.de/s/LOFT1-BASEL-CITY/team is valid.\n"
     ]
    },
    {
     "name": "stdout",
     "output_type": "stream",
     "text": [
      "Scrape Pole Studio Daten von https://www.eversports.de/s/LOFT1-BASEL-CITY...\n",
      "Verarbeitung abgeschlossen.\n",
      "\n",
      "Ergebnisse für URL: https://www.eversports.de/s/LOFT1-BASEL-CITY\n",
      "Pole Studio Data:\n",
      "\n",
      "\n",
      "Progress: 79.79%\n",
      "\n",
      "Processing URL 447/559\n",
      "Verarbeite URL: https://www.eversports.de/s/pole-passion-bielefeld\n",
      "Starte URL-Rekonstruktion...\n"
     ]
    },
    {
     "name": "stderr",
     "output_type": "stream",
     "text": [
      "2024-01-26 19:45:15,641 - INFO - Processing URL 1/1: https://www.eversports.de/s/pole-passion-bielefeld\n"
     ]
    },
    {
     "name": "stdout",
     "output_type": "stream",
     "text": [
      "Konvertiere in DataFrame...\n",
      "Validiere URLs...\n"
     ]
    },
    {
     "name": "stderr",
     "output_type": "stream",
     "text": [
      "2024-01-26 19:45:17,545 - INFO - URL https://www.eversports.de/s/pole-passion-bielefeld is valid.\n"
     ]
    },
    {
     "name": "stdout",
     "output_type": "stream",
     "text": [
      "Scrape Pole Studio Daten von https://www.eversports.de/s/pole-passion-bielefeld...\n",
      "Verarbeitung abgeschlossen.\n",
      "\n",
      "Ergebnisse für URL: https://www.eversports.de/s/pole-passion-bielefeld\n",
      "Pole Studio Data:\n",
      "\n",
      "\n",
      "Progress: 79.96%\n",
      "\n",
      "Processing URL 448/559\n",
      "Verarbeite URL: https://www.eversports.de/s/Polea---Pole-and-Aerial-Dance\n",
      "Starte URL-Rekonstruktion...\n",
      "Error during HTTP request: 404 Client Error: Not Found for url: https://www.eversports.de/s/polea---pole-and-aerial-dance\n",
      "Konvertiere in DataFrame...\n",
      "Validiere URLs...\n",
      "Verarbeitung abgeschlossen.\n",
      "\n",
      "Ergebnisse für URL: https://www.eversports.de/s/Polea---Pole-and-Aerial-Dance\n",
      "Progress: 80.14%\n",
      "\n",
      "Processing URL 449/559\n",
      "Verarbeite URL: https://www.eversports.de/s/artletik-ug-laufen-und-meer\n",
      "Starte URL-Rekonstruktion...\n"
     ]
    },
    {
     "name": "stderr",
     "output_type": "stream",
     "text": [
      "2024-01-26 19:45:21,790 - INFO - Processing URL 1/1: https://www.eversports.de/s/artletik-ug-laufen-und-meer\n"
     ]
    },
    {
     "name": "stdout",
     "output_type": "stream",
     "text": [
      "Konvertiere in DataFrame...\n",
      "Validiere URLs...\n"
     ]
    },
    {
     "name": "stderr",
     "output_type": "stream",
     "text": [
      "2024-01-26 19:45:23,521 - INFO - URL https://www.eversports.de/s/artletik-ug-laufen-und-meer is valid.\n"
     ]
    },
    {
     "name": "stdout",
     "output_type": "stream",
     "text": [
      "Scrape Pole Studio Daten von https://www.eversports.de/s/artletik-ug-laufen-und-meer...\n",
      "Verarbeitung abgeschlossen.\n",
      "\n",
      "Ergebnisse für URL: https://www.eversports.de/s/artletik-ug-laufen-und-meer\n",
      "Pole Studio Data:\n",
      "\n",
      "\n",
      "Progress: 80.32%\n",
      "\n",
      "Processing URL 450/559\n",
      "Verarbeite URL: https://www.eversports.de/s/Dance-&-Pole-Leverkusen\n",
      "Starte URL-Rekonstruktion...\n",
      "Error during HTTP request: 404 Client Error: Not Found for url: https://www.eversports.de/s/Dance-&-Pole-Leverkusen\n",
      "Konvertiere in DataFrame...\n",
      "Validiere URLs...\n",
      "Verarbeitung abgeschlossen.\n",
      "\n",
      "Ergebnisse für URL: https://www.eversports.de/s/Dance-&-Pole-Leverkusen\n",
      "Progress: 80.50%\n",
      "\n",
      "Processing URL 451/559\n",
      "Verarbeite URL: https://www.eversports.de/s/polea---pole-and-aerial-dance\n",
      "Starte URL-Rekonstruktion...\n",
      "Error during HTTP request: 404 Client Error: Not Found for url: https://www.eversports.de/s/polea---pole-and-aerial-dance\n",
      "Konvertiere in DataFrame...\n",
      "Validiere URLs...\n",
      "Verarbeitung abgeschlossen.\n",
      "\n",
      "Ergebnisse für URL: https://www.eversports.de/s/polea---pole-and-aerial-dance\n",
      "Progress: 80.68%\n",
      "\n",
      "Processing URL 452/559\n",
      "Verarbeite URL: https://www.eversports.de/s/exotic-academy\n",
      "Starte URL-Rekonstruktion...\n",
      "Error during HTTP request: 404 Client Error: Not Found for url: https://www.eversports.de/s/exotic-academy\n",
      "Konvertiere in DataFrame...\n",
      "Validiere URLs...\n",
      "Verarbeitung abgeschlossen.\n",
      "\n",
      "Ergebnisse für URL: https://www.eversports.de/s/exotic-academy\n",
      "Progress: 80.86%\n",
      "\n",
      "Processing URL 453/559\n",
      "Verarbeite URL: https://www.eversports.de/s/cheesy-heaven\n",
      "Starte URL-Rekonstruktion...\n"
     ]
    },
    {
     "name": "stderr",
     "output_type": "stream",
     "text": [
      "2024-01-26 19:45:31,683 - INFO - Processing URL 1/6: https://www.eversports.de/s/cheesy-heaven\n"
     ]
    },
    {
     "name": "stdout",
     "output_type": "stream",
     "text": [
      "Konvertiere in DataFrame...\n",
      "Validiere URLs...\n"
     ]
    },
    {
     "name": "stderr",
     "output_type": "stream",
     "text": [
      "2024-01-26 19:45:33,437 - INFO - URL https://www.eversports.de/s/cheesy-heaven is valid.\n",
      "2024-01-26 19:45:33,438 - INFO - Processing URL 2/6: https://www.eversports.de/scl/cheesy-heaven\n",
      "2024-01-26 19:45:35,043 - INFO - URL https://www.eversports.de/scl/cheesy-heaven is valid.\n",
      "2024-01-26 19:45:35,045 - INFO - Processing URL 3/6: https://www.eversports.de/sw/cheesy-heaven\n",
      "2024-01-26 19:45:36,779 - INFO - URL https://www.eversports.de/sw/cheesy-heaven is valid.\n",
      "2024-01-26 19:45:36,781 - INFO - Processing URL 4/6: https://www.eversports.de/s/cheesy-heaven/videos\n",
      "2024-01-26 19:45:38,427 - INFO - URL https://www.eversports.de/s/cheesy-heaven/videos is valid.\n",
      "2024-01-26 19:45:38,429 - INFO - Processing URL 5/6: https://www.eversports.de/sp/cheesy-heaven\n",
      "2024-01-26 19:45:39,982 - INFO - URL https://www.eversports.de/sp/cheesy-heaven is valid.\n",
      "2024-01-26 19:45:39,984 - INFO - Processing URL 6/6: https://www.eversports.de/s/cheesy-heaven/team\n",
      "2024-01-26 19:45:41,549 - INFO - URL https://www.eversports.de/s/cheesy-heaven/team is valid.\n"
     ]
    },
    {
     "name": "stdout",
     "output_type": "stream",
     "text": [
      "Scrape Pole Studio Daten von https://www.eversports.de/s/cheesy-heaven...\n",
      "Scrape Klassen Daten von https://www.eversports.de/scl/cheesy-heaven...\n",
      "Scrape Klassen Details von https://www.eversports.de/scl/cheesy-heaven...\n",
      "Scrape Workshops Daten von https://www.eversports.de/sw/cheesy-heaven...\n",
      "Scrape Workshop Details von https://www.eversports.de/e/workshop/FPhYm4m...\n",
      "Scrape Workshop Details von https://www.eversports.de/e/workshop/YUDNvHE...\n",
      "Scrape Workshop Details von https://www.eversports.de/e/workshop/_TKMrS6...\n",
      "Scrape Workshop Details von https://www.eversports.de/e/workshop/wLNZTsC...\n",
      "Verarbeitung abgeschlossen.\n",
      "\n",
      "Ergebnisse für URL: https://www.eversports.de/s/cheesy-heaven\n",
      "Pole Studio Data:\n",
      "\n",
      "\n",
      "Classes Data:\n",
      "\n",
      "\n",
      "Classes Details:\n",
      "\n",
      "\n",
      "Workshops Data:\n",
      "\n",
      "\n",
      "Workshop Details:\n",
      "\n",
      "\n",
      "Progress: 81.04%\n",
      "\n",
      "Processing URL 454/559\n",
      "Verarbeite URL: https://www.eversports.de/s/slow-motion\n",
      "Starte URL-Rekonstruktion...\n",
      "Error during HTTP request: 404 Client Error: Not Found for url: https://www.eversports.de/s/slow-motion\n",
      "Konvertiere in DataFrame...\n",
      "Validiere URLs...\n",
      "Verarbeitung abgeschlossen.\n",
      "\n",
      "Ergebnisse für URL: https://www.eversports.de/s/slow-motion\n",
      "Progress: 81.22%\n",
      "\n",
      "Processing URL 455/559\n",
      "Verarbeite URL: https://www.eversports.de/s/lioness-lodge\n",
      "Starte URL-Rekonstruktion...\n",
      "Error during HTTP request: 404 Client Error: Not Found for url: https://www.eversports.de/s/lioness-lodge\n",
      "Konvertiere in DataFrame...\n",
      "Validiere URLs...\n",
      "Verarbeitung abgeschlossen.\n",
      "\n",
      "Ergebnisse für URL: https://www.eversports.de/s/lioness-lodge\n",
      "Progress: 81.40%\n",
      "\n",
      "Processing URL 456/559\n",
      "Verarbeite URL: https://www.eversports.de/s/mmc-dance-studio\n",
      "Starte URL-Rekonstruktion...\n",
      "Error during HTTP request: 404 Client Error: Not Found for url: https://www.eversports.de/s/mmc-dance-studio\n",
      "Konvertiere in DataFrame...\n",
      "Validiere URLs...\n",
      "Verarbeitung abgeschlossen.\n",
      "\n",
      "Ergebnisse für URL: https://www.eversports.de/s/mmc-dance-studio\n",
      "Progress: 81.57%\n",
      "\n",
      "Processing URL 457/559\n",
      "Verarbeite URL: https://www.eversports.de/s/pole-arts-saarland-\n",
      "Starte URL-Rekonstruktion...\n",
      "Error during HTTP request: 404 Client Error: Not Found for url: https://www.eversports.de/s/pole-arts-saarland-\n",
      "Konvertiere in DataFrame...\n",
      "Validiere URLs...\n",
      "Verarbeitung abgeschlossen.\n",
      "\n",
      "Ergebnisse für URL: https://www.eversports.de/s/pole-arts-saarland-\n",
      "Progress: 81.75%\n",
      "\n",
      "Processing URL 458/559\n",
      "Verarbeite URL: https://www.eversports.de/s/studio-mohnblume\n",
      "Starte URL-Rekonstruktion...\n",
      "Error during HTTP request: 404 Client Error: Not Found for url: https://www.eversports.de/s/studio-mohnblume\n",
      "Konvertiere in DataFrame...\n",
      "Validiere URLs...\n",
      "Verarbeitung abgeschlossen.\n",
      "\n",
      "Ergebnisse für URL: https://www.eversports.de/s/studio-mohnblume\n",
      "Progress: 81.93%\n",
      "\n",
      "Processing URL 459/559\n",
      "Verarbeite URL: https://www.eversports.de/s/pole-dance-trier\n",
      "Starte URL-Rekonstruktion...\n",
      "Error during HTTP request: 404 Client Error: Not Found for url: https://www.eversports.de/s/pole-dance-trier\n",
      "Konvertiere in DataFrame...\n",
      "Validiere URLs...\n",
      "Verarbeitung abgeschlossen.\n",
      "\n",
      "Ergebnisse für URL: https://www.eversports.de/s/pole-dance-trier\n",
      "Progress: 82.11%\n",
      "\n",
      "Processing URL 460/559\n",
      "Verarbeite URL: https://www.eversports.de/s/pole-and-move-ketsch\n",
      "Starte URL-Rekonstruktion...\n"
     ]
    },
    {
     "name": "stderr",
     "output_type": "stream",
     "text": [
      "2024-01-26 19:47:37,679 - INFO - Processing URL 1/5: https://www.eversports.de/s/pole-and-move-ketsch\n"
     ]
    },
    {
     "name": "stdout",
     "output_type": "stream",
     "text": [
      "Konvertiere in DataFrame...\n",
      "Validiere URLs...\n"
     ]
    },
    {
     "name": "stderr",
     "output_type": "stream",
     "text": [
      "2024-01-26 19:47:39,891 - INFO - URL https://www.eversports.de/s/pole-and-move-ketsch is valid.\n",
      "2024-01-26 19:47:39,893 - INFO - Processing URL 2/5: https://www.eversports.de/scl/pole-and-move-ketsch\n",
      "2024-01-26 19:47:41,575 - INFO - URL https://www.eversports.de/scl/pole-and-move-ketsch is valid.\n",
      "2024-01-26 19:47:41,576 - INFO - Processing URL 3/5: https://www.eversports.de/sw/pole-and-move-ketsch\n",
      "2024-01-26 19:47:43,521 - INFO - URL https://www.eversports.de/sw/pole-and-move-ketsch is valid.\n",
      "2024-01-26 19:47:43,523 - INFO - Processing URL 4/5: https://www.eversports.de/sp/pole-and-move-ketsch\n",
      "2024-01-26 19:47:45,376 - INFO - URL https://www.eversports.de/sp/pole-and-move-ketsch is valid.\n",
      "2024-01-26 19:47:45,379 - INFO - Processing URL 5/5: https://www.eversports.de/s/pole-and-move-ketsch/team\n",
      "2024-01-26 19:47:47,187 - INFO - URL https://www.eversports.de/s/pole-and-move-ketsch/team is valid.\n"
     ]
    },
    {
     "name": "stdout",
     "output_type": "stream",
     "text": [
      "Scrape Pole Studio Daten von https://www.eversports.de/s/pole-and-move-ketsch...\n",
      "Scrape Klassen Daten von https://www.eversports.de/scl/pole-and-move-ketsch...\n",
      "Scrape Klassen Details von https://www.eversports.de/scl/pole-and-move-ketsch...\n",
      "Scrape Workshops Daten von https://www.eversports.de/sw/pole-and-move-ketsch...\n",
      "Scrape Workshop Details von https://www.eversports.de/e/workshop/d8-2jYm...\n",
      "Scrape Workshop Details von https://www.eversports.de/e/workshop/m2bIKF_...\n",
      "Scrape Workshop Details von https://www.eversports.de/e/workshop/nZwqDWw...\n",
      "Scrape Workshop Details von https://www.eversports.de/e/workshop/NCNYd8p...\n",
      "Verarbeitung abgeschlossen.\n",
      "\n",
      "Ergebnisse für URL: https://www.eversports.de/s/pole-and-move-ketsch\n",
      "Pole Studio Data:\n",
      "\n",
      "\n",
      "Classes Data:\n",
      "\n",
      "\n",
      "Classes Details:\n",
      "\n",
      "\n",
      "Workshops Data:\n",
      "\n",
      "\n",
      "Workshop Details:\n",
      "\n",
      "\n",
      "Progress: 82.29%\n",
      "\n",
      "Processing URL 461/559\n",
      "Verarbeite URL: https://www.eversports.de/s/Freaky-Fitness\n",
      "Starte URL-Rekonstruktion...\n"
     ]
    },
    {
     "name": "stderr",
     "output_type": "stream",
     "text": [
      "2024-01-26 19:49:20,984 - INFO - Processing URL 1/1: https://www.eversports.de/s/Freaky-Fitness\n"
     ]
    },
    {
     "name": "stdout",
     "output_type": "stream",
     "text": [
      "Konvertiere in DataFrame...\n",
      "Validiere URLs...\n"
     ]
    },
    {
     "name": "stderr",
     "output_type": "stream",
     "text": [
      "2024-01-26 19:49:23,302 - INFO - URL https://www.eversports.de/s/Freaky-Fitness is valid.\n"
     ]
    },
    {
     "name": "stdout",
     "output_type": "stream",
     "text": [
      "Scrape Pole Studio Daten von https://www.eversports.de/s/Freaky-Fitness...\n",
      "Verarbeitung abgeschlossen.\n",
      "\n",
      "Ergebnisse für URL: https://www.eversports.de/s/Freaky-Fitness\n",
      "Pole Studio Data:\n",
      "\n",
      "\n",
      "Progress: 82.47%\n",
      "\n",
      "Processing URL 462/559\n",
      "Verarbeite URL: https://www.eversports.de/s/Firstsports---Polefitness\n",
      "Starte URL-Rekonstruktion...\n",
      "Error during HTTP request: 404 Client Error: Not Found for url: https://www.eversports.de/s/firstsports---polefitness\n",
      "Konvertiere in DataFrame...\n",
      "Validiere URLs...\n",
      "Verarbeitung abgeschlossen.\n",
      "\n",
      "Ergebnisse für URL: https://www.eversports.de/s/Firstsports---Polefitness\n",
      "Progress: 82.65%\n",
      "\n",
      "Processing URL 463/559\n",
      "Verarbeite URL: https://www.eversports.de/s/stadtgazellen-bremen\n",
      "Starte URL-Rekonstruktion...\n"
     ]
    },
    {
     "name": "stderr",
     "output_type": "stream",
     "text": [
      "2024-01-26 19:49:28,438 - INFO - Processing URL 1/5: https://www.eversports.de/s/stadtgazellen-bremen\n"
     ]
    },
    {
     "name": "stdout",
     "output_type": "stream",
     "text": [
      "Konvertiere in DataFrame...\n",
      "Validiere URLs...\n"
     ]
    },
    {
     "name": "stderr",
     "output_type": "stream",
     "text": [
      "2024-01-26 19:49:30,499 - INFO - URL https://www.eversports.de/s/stadtgazellen-bremen is valid.\n",
      "2024-01-26 19:49:30,500 - INFO - Processing URL 2/5: https://www.eversports.de/scl/stadtgazellen-bremen\n",
      "2024-01-26 19:49:32,327 - INFO - URL https://www.eversports.de/scl/stadtgazellen-bremen is valid.\n",
      "2024-01-26 19:49:32,329 - INFO - Processing URL 3/5: https://www.eversports.de/sw/stadtgazellen-bremen\n",
      "2024-01-26 19:49:34,141 - INFO - URL https://www.eversports.de/sw/stadtgazellen-bremen is valid.\n",
      "2024-01-26 19:49:34,142 - INFO - Processing URL 4/5: https://www.eversports.de/sp/stadtgazellen-bremen\n",
      "2024-01-26 19:49:35,886 - INFO - URL https://www.eversports.de/sp/stadtgazellen-bremen is valid.\n",
      "2024-01-26 19:49:35,888 - INFO - Processing URL 5/5: https://www.eversports.de/s/stadtgazellen-bremen/team\n",
      "2024-01-26 19:49:37,690 - INFO - URL https://www.eversports.de/s/stadtgazellen-bremen/team is valid.\n"
     ]
    },
    {
     "name": "stdout",
     "output_type": "stream",
     "text": [
      "Scrape Pole Studio Daten von https://www.eversports.de/s/stadtgazellen-bremen...\n",
      "Scrape Klassen Daten von https://www.eversports.de/scl/stadtgazellen-bremen...\n",
      "Scrape Klassen Details von https://www.eversports.de/scl/stadtgazellen-bremen...\n",
      "Scrape Workshops Daten von https://www.eversports.de/sw/stadtgazellen-bremen...\n",
      "Scrape Workshop Details von https://www.eversports.de/e/workshop/YiU_KF8...\n",
      "Scrape Workshop Details von https://www.eversports.de/e/workshop/Vnofur2...\n",
      "Scrape Workshop Details von https://www.eversports.de/e/workshop/wFn4PaN...\n",
      "Scrape Workshop Details von https://www.eversports.de/e/workshop/6ZllXAZ...\n",
      "Scrape Workshop Details von https://www.eversports.de/e/workshop/L5UxsO9...\n",
      "Scrape Workshop Details von https://www.eversports.de/e/workshop/7blW22y...\n",
      "Scrape Workshop Details von https://www.eversports.de/e/workshop/v4tYN09...\n",
      "Scrape Workshop Details von https://www.eversports.de/e/workshop/KWx3LyO...\n",
      "Scrape Workshop Details von https://www.eversports.de/e/workshop/WRl24o5...\n",
      "Scrape Workshop Details von https://www.eversports.de/e/workshop/wrZkEQ3...\n",
      "Verarbeitung abgeschlossen.\n",
      "\n",
      "Ergebnisse für URL: https://www.eversports.de/s/stadtgazellen-bremen\n",
      "Pole Studio Data:\n",
      "\n",
      "\n",
      "Classes Data:\n",
      "\n",
      "\n",
      "Classes Details:\n",
      "\n",
      "\n",
      "Workshops Data:\n",
      "\n",
      "\n",
      "Workshop Details:\n",
      "\n",
      "\n",
      "Progress: 82.83%\n",
      "\n",
      "Processing URL 464/559\n",
      "Verarbeite URL: https://www.eversports.de/s/BALANCE-Neumarkt\n",
      "Starte URL-Rekonstruktion...\n"
     ]
    },
    {
     "name": "stderr",
     "output_type": "stream",
     "text": [
      "2024-01-26 19:52:46,448 - INFO - Processing URL 1/7: https://www.eversports.de/s/BALANCE-Neumarkt\n"
     ]
    },
    {
     "name": "stdout",
     "output_type": "stream",
     "text": [
      "Konvertiere in DataFrame...\n",
      "Validiere URLs...\n"
     ]
    },
    {
     "name": "stderr",
     "output_type": "stream",
     "text": [
      "2024-01-26 19:52:48,462 - INFO - URL https://www.eversports.de/s/BALANCE-Neumarkt is valid.\n",
      "2024-01-26 19:52:48,465 - INFO - Processing URL 2/7: https://www.eversports.de/scl/BALANCE-Neumarkt\n",
      "2024-01-26 19:52:50,346 - INFO - URL https://www.eversports.de/scl/BALANCE-Neumarkt is valid.\n",
      "2024-01-26 19:52:50,348 - INFO - Processing URL 3/7: https://www.eversports.de/s/BALANCE-Neumarkt/kurse\n",
      "2024-01-26 19:52:52,013 - INFO - URL https://www.eversports.de/s/BALANCE-Neumarkt/kurse is not valid.\n",
      "2024-01-26 19:52:52,015 - INFO - Processing URL 4/7: https://www.eversports.de/sw/BALANCE-Neumarkt\n",
      "2024-01-26 19:52:54,363 - INFO - URL https://www.eversports.de/sw/BALANCE-Neumarkt is valid.\n",
      "2024-01-26 19:52:54,364 - INFO - Processing URL 5/7: https://www.eversports.de/s/BALANCE-Neumarkt/videos\n",
      "2024-01-26 19:52:56,070 - INFO - URL https://www.eversports.de/s/BALANCE-Neumarkt/videos is valid.\n",
      "2024-01-26 19:52:56,071 - INFO - Processing URL 6/7: https://www.eversports.de/sp/BALANCE-Neumarkt\n",
      "2024-01-26 19:52:58,049 - INFO - URL https://www.eversports.de/sp/BALANCE-Neumarkt is valid.\n",
      "2024-01-26 19:52:58,050 - INFO - Processing URL 7/7: https://www.eversports.de/s/BALANCE-Neumarkt/team\n",
      "2024-01-26 19:52:59,971 - INFO - URL https://www.eversports.de/s/BALANCE-Neumarkt/team is valid.\n"
     ]
    },
    {
     "name": "stdout",
     "output_type": "stream",
     "text": [
      "Scrape Pole Studio Daten von https://www.eversports.de/s/BALANCE-Neumarkt...\n",
      "Scrape Klassen Daten von https://www.eversports.de/scl/BALANCE-Neumarkt...\n",
      "Scrape Klassen Details von https://www.eversports.de/scl/BALANCE-Neumarkt...\n",
      "Scrape Workshops Daten von https://www.eversports.de/sw/BALANCE-Neumarkt...\n",
      "Scrape Workshop Details von https://www.eversports.de/e/workshop/lxu9gbp...\n",
      "Scrape Workshop Details von https://www.eversports.de/e/workshop/CRjs8aS...\n",
      "Scrape Workshop Details von https://www.eversports.de/e/workshop/HlGXT-6...\n",
      "Scrape Workshop Details von https://www.eversports.de/e/workshop/9j7N418...\n",
      "Scrape Workshop Details von https://www.eversports.de/e/workshop/AL0d8uV...\n",
      "Scrape Workshop Details von https://www.eversports.de/e/workshop/OWKdsKA...\n",
      "Scrape Workshop Details von https://www.eversports.de/e/workshop/qtwNW3p...\n",
      "Scrape Workshop Details von https://www.eversports.de/e/workshop/-lRCjR7...\n",
      "Scrape Workshop Details von https://www.eversports.de/e/workshop/DmdrEre...\n",
      "Scrape Workshop Details von https://www.eversports.de/e/workshop/vnjpjso...\n",
      "Scrape Workshop Details von https://www.eversports.de/e/workshop/s-CvYfY...\n",
      "Scrape Workshop Details von https://www.eversports.de/e/workshop/lIzIIH9...\n",
      "Scrape Workshop Details von https://www.eversports.de/e/workshop/1hwRppH...\n",
      "Scrape Workshop Details von https://www.eversports.de/e/workshop/FWO9nVb...\n",
      "Scrape Workshop Details von https://www.eversports.de/e/workshop/wHwtdS-...\n",
      "Scrape Workshop Details von https://www.eversports.de/e/workshop/D7_g8hU...\n",
      "Scrape Workshop Details von https://www.eversports.de/e/workshop/yXJE2Qf...\n",
      "Scrape Workshop Details von https://www.eversports.de/e/workshop/WpCq6MN...\n",
      "Scrape Workshop Details von https://www.eversports.de/e/workshop/uE03gmT...\n",
      "Scrape Workshop Details von https://www.eversports.de/e/workshop/Nm33K4u...\n",
      "Scrape Workshop Details von https://www.eversports.de/e/workshop/U27XEmo...\n",
      "Scrape Workshop Details von https://www.eversports.de/e/workshop/DujyYDr...\n",
      "Verarbeitung abgeschlossen.\n",
      "\n",
      "Ergebnisse für URL: https://www.eversports.de/s/BALANCE-Neumarkt\n",
      "Pole Studio Data:\n",
      "\n",
      "\n",
      "Classes Data:\n",
      "\n",
      "\n",
      "Classes Details:\n",
      "\n",
      "\n",
      "Workshops Data:\n",
      "\n",
      "\n",
      "Workshop Details:\n",
      "\n",
      "\n",
      "Progress: 83.01%\n",
      "\n",
      "Processing URL 465/559\n",
      "Verarbeite URL: https://www.eversports.de/s/dance-%26-pole-langenfeld\n",
      "Starte URL-Rekonstruktion...\n",
      "Error during HTTP request: 404 Client Error: Not Found for url: https://www.eversports.de/s/dance-%26-pole-langenfeld\n",
      "Konvertiere in DataFrame...\n",
      "Validiere URLs...\n",
      "Verarbeitung abgeschlossen.\n",
      "\n",
      "Ergebnisse für URL: https://www.eversports.de/s/dance-%26-pole-langenfeld\n",
      "Progress: 83.18%\n",
      "\n",
      "Processing URL 466/559\n",
      "Verarbeite URL: https://www.eversports.de/s/Glow-Sports-Club\n",
      "Starte URL-Rekonstruktion...\n"
     ]
    },
    {
     "name": "stderr",
     "output_type": "stream",
     "text": [
      "2024-01-26 19:56:11,849 - INFO - Processing URL 1/7: https://www.eversports.de/s/Glow-Sports-Club\n"
     ]
    },
    {
     "name": "stdout",
     "output_type": "stream",
     "text": [
      "Konvertiere in DataFrame...\n",
      "Validiere URLs...\n"
     ]
    },
    {
     "name": "stderr",
     "output_type": "stream",
     "text": [
      "2024-01-26 19:56:15,003 - INFO - URL https://www.eversports.de/s/Glow-Sports-Club is valid.\n",
      "2024-01-26 19:56:15,005 - INFO - Processing URL 2/7: https://www.eversports.de/scl/Glow-Sports-Club\n",
      "2024-01-26 19:56:17,838 - INFO - URL https://www.eversports.de/scl/Glow-Sports-Club is valid.\n",
      "2024-01-26 19:56:17,840 - INFO - Processing URL 3/7: https://www.eversports.de/s/Glow-Sports-Club/trainings\n",
      "2024-01-26 19:56:20,163 - INFO - URL https://www.eversports.de/s/Glow-Sports-Club/trainings is not valid.\n",
      "2024-01-26 19:56:20,164 - INFO - Processing URL 4/7: https://www.eversports.de/s/Glow-Sports-Club/kurse\n",
      "2024-01-26 19:56:21,883 - INFO - URL https://www.eversports.de/s/Glow-Sports-Club/kurse is not valid.\n",
      "2024-01-26 19:56:21,885 - INFO - Processing URL 5/7: https://www.eversports.de/sw/Glow-Sports-Club\n",
      "2024-01-26 19:56:23,463 - INFO - URL https://www.eversports.de/sw/Glow-Sports-Club is valid.\n",
      "2024-01-26 19:56:23,464 - INFO - Processing URL 6/7: https://www.eversports.de/sp/Glow-Sports-Club\n",
      "2024-01-26 19:56:25,907 - INFO - URL https://www.eversports.de/sp/Glow-Sports-Club is valid.\n",
      "2024-01-26 19:56:25,908 - INFO - Processing URL 7/7: https://www.eversports.de/s/Glow-Sports-Club/team\n",
      "2024-01-26 19:56:28,366 - INFO - URL https://www.eversports.de/s/Glow-Sports-Club/team is valid.\n"
     ]
    },
    {
     "name": "stdout",
     "output_type": "stream",
     "text": [
      "Scrape Pole Studio Daten von https://www.eversports.de/s/Glow-Sports-Club...\n",
      "Scrape Klassen Daten von https://www.eversports.de/scl/Glow-Sports-Club...\n",
      "Scrape Klassen Details von https://www.eversports.de/scl/Glow-Sports-Club...\n",
      "Scrape Workshops Daten von https://www.eversports.de/sw/Glow-Sports-Club...\n",
      "Scrape Workshop Details von https://www.eversports.de/e/workshop/n1eG1oH...\n",
      "Verarbeitung abgeschlossen.\n",
      "\n",
      "Ergebnisse für URL: https://www.eversports.de/s/Glow-Sports-Club\n",
      "Pole Studio Data:\n",
      "\n",
      "\n",
      "Classes Data:\n",
      "\n",
      "\n",
      "Classes Details:\n",
      "\n",
      "\n",
      "Workshops Data:\n",
      "\n",
      "\n",
      "Workshop Details:\n",
      "\n",
      "\n",
      "Progress: 83.36%\n",
      "\n",
      "Processing URL 467/559\n",
      "Verarbeite URL: https://www.eversports.de/s/pole-werk-by-nelly\n",
      "Starte URL-Rekonstruktion...\n"
     ]
    },
    {
     "name": "stderr",
     "output_type": "stream",
     "text": [
      "2024-01-26 19:57:58,306 - INFO - Processing URL 1/3: https://www.eversports.de/s/pole-werk-by-nelly\n"
     ]
    },
    {
     "name": "stdout",
     "output_type": "stream",
     "text": [
      "Konvertiere in DataFrame...\n",
      "Validiere URLs...\n"
     ]
    },
    {
     "name": "stderr",
     "output_type": "stream",
     "text": [
      "2024-01-26 19:57:59,997 - INFO - URL https://www.eversports.de/s/pole-werk-by-nelly is valid.\n",
      "2024-01-26 19:57:59,999 - INFO - Processing URL 2/3: https://www.eversports.de/scl/pole-werk-by-nelly\n",
      "2024-01-26 19:58:01,515 - INFO - URL https://www.eversports.de/scl/pole-werk-by-nelly is valid.\n",
      "2024-01-26 19:58:01,516 - INFO - Processing URL 3/3: https://www.eversports.de/s/pole-werk-by-nelly/team\n",
      "2024-01-26 19:58:03,109 - INFO - URL https://www.eversports.de/s/pole-werk-by-nelly/team is valid.\n"
     ]
    },
    {
     "name": "stdout",
     "output_type": "stream",
     "text": [
      "Scrape Pole Studio Daten von https://www.eversports.de/s/pole-werk-by-nelly...\n",
      "Scrape Klassen Daten von https://www.eversports.de/scl/pole-werk-by-nelly...\n",
      "Scrape Klassen Details von https://www.eversports.de/scl/pole-werk-by-nelly...\n",
      "Verarbeitung abgeschlossen.\n",
      "\n",
      "Ergebnisse für URL: https://www.eversports.de/s/pole-werk-by-nelly\n",
      "Pole Studio Data:\n",
      "\n",
      "\n",
      "Classes Data:\n",
      "\n",
      "\n",
      "Classes Details:\n",
      "\n",
      "\n",
      "Progress: 83.54%\n",
      "\n",
      "Processing URL 468/559\n",
      "Verarbeite URL: https://www.eversports.de/s/PoleSide\n",
      "Starte URL-Rekonstruktion...\n"
     ]
    },
    {
     "name": "stderr",
     "output_type": "stream",
     "text": [
      "2024-01-26 19:59:00,423 - INFO - Processing URL 1/7: https://www.eversports.de/s/PoleSide\n"
     ]
    },
    {
     "name": "stdout",
     "output_type": "stream",
     "text": [
      "Konvertiere in DataFrame...\n",
      "Validiere URLs...\n"
     ]
    },
    {
     "name": "stderr",
     "output_type": "stream",
     "text": [
      "2024-01-26 19:59:02,026 - INFO - URL https://www.eversports.de/s/PoleSide is valid.\n",
      "2024-01-26 19:59:02,026 - INFO - Processing URL 2/7: https://www.eversports.de/scl/PoleSide\n",
      "2024-01-26 19:59:03,529 - INFO - URL https://www.eversports.de/scl/PoleSide is valid.\n",
      "2024-01-26 19:59:03,529 - INFO - Processing URL 3/7: https://www.eversports.de/s/PoleSide/kurse\n",
      "2024-01-26 19:59:04,939 - INFO - URL https://www.eversports.de/s/PoleSide/kurse is not valid.\n",
      "2024-01-26 19:59:04,941 - INFO - Processing URL 4/7: https://www.eversports.de/sw/PoleSide\n",
      "2024-01-26 19:59:06,398 - INFO - URL https://www.eversports.de/sw/PoleSide is valid.\n",
      "2024-01-26 19:59:06,399 - INFO - Processing URL 5/7: https://www.eversports.de/s/PoleSide/videos\n",
      "2024-01-26 19:59:07,816 - INFO - URL https://www.eversports.de/s/PoleSide/videos is valid.\n",
      "2024-01-26 19:59:07,817 - INFO - Processing URL 6/7: https://www.eversports.de/sp/PoleSide\n",
      "2024-01-26 19:59:09,274 - INFO - URL https://www.eversports.de/sp/PoleSide is valid.\n",
      "2024-01-26 19:59:09,276 - INFO - Processing URL 7/7: https://www.eversports.de/s/PoleSide/team\n",
      "2024-01-26 19:59:10,818 - INFO - URL https://www.eversports.de/s/PoleSide/team is valid.\n"
     ]
    },
    {
     "name": "stdout",
     "output_type": "stream",
     "text": [
      "Scrape Pole Studio Daten von https://www.eversports.de/s/PoleSide...\n",
      "Scrape Klassen Daten von https://www.eversports.de/scl/PoleSide...\n",
      "Scrape Klassen Details von https://www.eversports.de/scl/PoleSide...\n",
      "Scrape Workshops Daten von https://www.eversports.de/sw/PoleSide...\n",
      "Scrape Workshop Details von https://www.eversports.de/e/workshop/llCPKoMLh...\n",
      "Verarbeitung abgeschlossen.\n",
      "\n",
      "Ergebnisse für URL: https://www.eversports.de/s/PoleSide\n",
      "Pole Studio Data:\n",
      "\n",
      "\n",
      "Classes Data:\n",
      "\n",
      "\n",
      "Classes Details:\n",
      "\n",
      "\n",
      "Workshops Data:\n",
      "\n",
      "\n",
      "Workshop Details:\n",
      "\n",
      "\n",
      "Progress: 83.72%\n",
      "\n",
      "Processing URL 469/559\n",
      "Verarbeite URL: https://www.eversports.de/s/vertical-pole-aerial-dance\n",
      "Starte URL-Rekonstruktion...\n"
     ]
    },
    {
     "name": "stderr",
     "output_type": "stream",
     "text": [
      "2024-01-26 20:00:20,465 - INFO - Processing URL 1/6: https://www.eversports.de/s/vertical-pole-aerial-dance\n"
     ]
    },
    {
     "name": "stdout",
     "output_type": "stream",
     "text": [
      "Konvertiere in DataFrame...\n",
      "Validiere URLs...\n"
     ]
    },
    {
     "name": "stderr",
     "output_type": "stream",
     "text": [
      "2024-01-26 20:00:22,143 - INFO - URL https://www.eversports.de/s/vertical-pole-aerial-dance is valid.\n",
      "2024-01-26 20:00:22,145 - INFO - Processing URL 2/6: https://www.eversports.de/scl/vertical-pole-aerial-dance\n",
      "2024-01-26 20:00:24,239 - INFO - URL https://www.eversports.de/scl/vertical-pole-aerial-dance is valid.\n",
      "2024-01-26 20:00:24,241 - INFO - Processing URL 3/6: https://www.eversports.de/sw/vertical-pole-aerial-dance\n",
      "2024-01-26 20:00:25,953 - INFO - URL https://www.eversports.de/sw/vertical-pole-aerial-dance is valid.\n",
      "2024-01-26 20:00:25,955 - INFO - Processing URL 4/6: https://www.eversports.de/s/vertical-pole-aerial-dance/videos\n",
      "2024-01-26 20:00:27,700 - INFO - URL https://www.eversports.de/s/vertical-pole-aerial-dance/videos is valid.\n",
      "2024-01-26 20:00:27,701 - INFO - Processing URL 5/6: https://www.eversports.de/sp/vertical-pole-aerial-dance\n",
      "2024-01-26 20:00:29,282 - INFO - URL https://www.eversports.de/sp/vertical-pole-aerial-dance is valid.\n",
      "2024-01-26 20:00:29,283 - INFO - Processing URL 6/6: https://www.eversports.de/s/vertical-pole-aerial-dance/team\n",
      "2024-01-26 20:00:31,120 - INFO - URL https://www.eversports.de/s/vertical-pole-aerial-dance/team is valid.\n"
     ]
    },
    {
     "name": "stdout",
     "output_type": "stream",
     "text": [
      "Scrape Pole Studio Daten von https://www.eversports.de/s/vertical-pole-aerial-dance...\n",
      "Scrape Klassen Daten von https://www.eversports.de/scl/vertical-pole-aerial-dance...\n",
      "Scrape Klassen Details von https://www.eversports.de/scl/vertical-pole-aerial-dance...\n",
      "Scrape Workshops Daten von https://www.eversports.de/sw/vertical-pole-aerial-dance...\n",
      "Scrape Workshop Details von https://www.eversports.de/e/workshop/mylmioi...\n",
      "Scrape Workshop Details von https://www.eversports.de/e/workshop/Yace1e3...\n",
      "Verarbeitung abgeschlossen.\n",
      "\n",
      "Ergebnisse für URL: https://www.eversports.de/s/vertical-pole-aerial-dance\n",
      "Pole Studio Data:\n",
      "\n",
      "\n",
      "Classes Data:\n",
      "\n",
      "\n",
      "Classes Details:\n",
      "\n",
      "\n",
      "Workshops Data:\n",
      "\n",
      "\n",
      "Workshop Details:\n",
      "\n",
      "\n",
      "Progress: 83.90%\n",
      "\n",
      "Processing URL 470/559\n",
      "Verarbeite URL: https://www.eversports.de/s/pole-%26-tanzwelt\n",
      "Starte URL-Rekonstruktion...\n",
      "Error during HTTP request: 404 Client Error: Not Found for url: https://www.eversports.de/s/pole-%26-tanzwelt\n",
      "Konvertiere in DataFrame...\n",
      "Validiere URLs...\n",
      "Verarbeitung abgeschlossen.\n",
      "\n",
      "Ergebnisse für URL: https://www.eversports.de/s/pole-%26-tanzwelt\n",
      "Progress: 84.08%\n",
      "\n",
      "Processing URL 471/559\n",
      "Verarbeite URL: https://www.eversports.de/s/Dancingstyle\n",
      "Starte URL-Rekonstruktion...\n"
     ]
    },
    {
     "name": "stderr",
     "output_type": "stream",
     "text": [
      "2024-01-26 20:02:06,230 - INFO - Processing URL 1/1: https://www.eversports.de/s/Dancingstyle\n"
     ]
    },
    {
     "name": "stdout",
     "output_type": "stream",
     "text": [
      "Konvertiere in DataFrame...\n",
      "Validiere URLs...\n"
     ]
    },
    {
     "name": "stderr",
     "output_type": "stream",
     "text": [
      "2024-01-26 20:02:08,087 - INFO - URL https://www.eversports.de/s/Dancingstyle is valid.\n"
     ]
    },
    {
     "name": "stdout",
     "output_type": "stream",
     "text": [
      "Scrape Pole Studio Daten von https://www.eversports.de/s/Dancingstyle...\n",
      "Verarbeitung abgeschlossen.\n",
      "\n",
      "Ergebnisse für URL: https://www.eversports.de/s/Dancingstyle\n",
      "Pole Studio Data:\n",
      "\n",
      "\n",
      "Progress: 84.26%\n",
      "\n",
      "Processing URL 472/559\n",
      "Verarbeite URL: https://www.eversports.de/s/dance-&-pole-leverkusen\n",
      "Starte URL-Rekonstruktion...\n",
      "Error during HTTP request: 404 Client Error: Not Found for url: https://www.eversports.de/s/dance-&-pole-leverkusen\n",
      "Konvertiere in DataFrame...\n",
      "Validiere URLs...\n",
      "Verarbeitung abgeschlossen.\n",
      "\n",
      "Ergebnisse für URL: https://www.eversports.de/s/dance-&-pole-leverkusen\n",
      "Progress: 84.44%\n",
      "\n",
      "Processing URL 473/559\n",
      "Verarbeite URL: https://www.eversports.de/s/pole-studio-koblenz\n",
      "Starte URL-Rekonstruktion...\n",
      "Error during HTTP request: 404 Client Error: Not Found for url: https://www.eversports.de/s/pole-studio-koblenz\n",
      "Konvertiere in DataFrame...\n",
      "Validiere URLs...\n",
      "Verarbeitung abgeschlossen.\n",
      "\n",
      "Ergebnisse für URL: https://www.eversports.de/s/pole-studio-koblenz\n",
      "Progress: 84.62%\n",
      "\n",
      "Processing URL 474/559\n",
      "Verarbeite URL: https://www.eversports.de/s/dance-&-pole-deltawerk\n",
      "Starte URL-Rekonstruktion...\n",
      "Error during HTTP request: 404 Client Error: Not Found for url: https://www.eversports.de/s/dance-&-pole-deltawerk\n",
      "Konvertiere in DataFrame...\n",
      "Validiere URLs...\n",
      "Verarbeitung abgeschlossen.\n",
      "\n",
      "Ergebnisse für URL: https://www.eversports.de/s/dance-&-pole-deltawerk\n",
      "Progress: 84.79%\n",
      "\n",
      "Processing URL 475/559\n",
      "Verarbeite URL: https://www.eversports.de/s/polerina%C2%B4s-poledance-%26-aerial-fitness\n",
      "Starte URL-Rekonstruktion...\n",
      "Error during HTTP request: Exceeded 30 redirects.\n",
      "Konvertiere in DataFrame...\n",
      "Validiere URLs...\n",
      "Verarbeitung abgeschlossen.\n",
      "\n",
      "Ergebnisse für URL: https://www.eversports.de/s/polerina%C2%B4s-poledance-%26-aerial-fitness\n",
      "Progress: 84.97%\n",
      "\n",
      "Processing URL 476/559\n",
      "Verarbeite URL: https://www.eversports.de/s/Flow-Academy\n",
      "Starte URL-Rekonstruktion...\n"
     ]
    },
    {
     "name": "stderr",
     "output_type": "stream",
     "text": [
      "2024-01-26 20:02:21,903 - INFO - Processing URL 1/4: https://www.eversports.de/s/Flow-Academy\n"
     ]
    },
    {
     "name": "stdout",
     "output_type": "stream",
     "text": [
      "Konvertiere in DataFrame...\n",
      "Validiere URLs...\n"
     ]
    },
    {
     "name": "stderr",
     "output_type": "stream",
     "text": [
      "2024-01-26 20:02:23,589 - INFO - URL https://www.eversports.de/s/Flow-Academy is valid.\n",
      "2024-01-26 20:02:23,590 - INFO - Processing URL 2/4: https://www.eversports.de/scl/Flow-Academy\n",
      "2024-01-26 20:02:25,313 - INFO - URL https://www.eversports.de/scl/Flow-Academy is valid.\n",
      "2024-01-26 20:02:25,314 - INFO - Processing URL 3/4: https://www.eversports.de/sp/Flow-Academy\n",
      "2024-01-26 20:02:26,857 - INFO - URL https://www.eversports.de/sp/Flow-Academy is valid.\n",
      "2024-01-26 20:02:26,859 - INFO - Processing URL 4/4: https://www.eversports.de/s/Flow-Academy/team\n",
      "2024-01-26 20:02:28,784 - INFO - URL https://www.eversports.de/s/Flow-Academy/team is valid.\n"
     ]
    },
    {
     "name": "stdout",
     "output_type": "stream",
     "text": [
      "Scrape Pole Studio Daten von https://www.eversports.de/s/Flow-Academy...\n",
      "Scrape Klassen Daten von https://www.eversports.de/scl/Flow-Academy...\n",
      "Scrape Klassen Details von https://www.eversports.de/scl/Flow-Academy...\n",
      "Verarbeitung abgeschlossen.\n",
      "\n",
      "Ergebnisse für URL: https://www.eversports.de/s/Flow-Academy\n",
      "Pole Studio Data:\n",
      "\n",
      "\n",
      "Classes Data:\n",
      "\n",
      "\n",
      "Classes Details:\n",
      "\n",
      "\n",
      "Progress: 85.15%\n",
      "\n",
      "Processing URL 477/559\n",
      "Verarbeite URL: https://www.eversports.de/s/studio-nienke\n",
      "Starte URL-Rekonstruktion...\n"
     ]
    },
    {
     "name": "stderr",
     "output_type": "stream",
     "text": [
      "2024-01-26 20:02:46,469 - INFO - Processing URL 1/5: https://www.eversports.de/s/studio-nienke\n"
     ]
    },
    {
     "name": "stdout",
     "output_type": "stream",
     "text": [
      "Konvertiere in DataFrame...\n",
      "Validiere URLs...\n"
     ]
    },
    {
     "name": "stderr",
     "output_type": "stream",
     "text": [
      "2024-01-26 20:02:48,442 - INFO - URL https://www.eversports.de/s/studio-nienke is valid.\n",
      "2024-01-26 20:02:48,444 - INFO - Processing URL 2/5: https://www.eversports.de/scl/studio-nienke\n",
      "2024-01-26 20:02:49,875 - INFO - URL https://www.eversports.de/scl/studio-nienke is not valid.\n",
      "2024-01-26 20:02:49,877 - INFO - Processing URL 3/5: https://www.eversports.de/s/studio-nienke/kurse\n",
      "2024-01-26 20:02:51,307 - INFO - URL https://www.eversports.de/s/studio-nienke/kurse is not valid.\n",
      "2024-01-26 20:02:51,309 - INFO - Processing URL 4/5: https://www.eversports.de/sp/studio-nienke\n",
      "2024-01-26 20:02:52,726 - INFO - URL https://www.eversports.de/sp/studio-nienke is not valid.\n",
      "2024-01-26 20:02:52,727 - INFO - Processing URL 5/5: https://www.eversports.de/s/studio-nienke/team\n",
      "2024-01-26 20:02:54,218 - INFO - URL https://www.eversports.de/s/studio-nienke/team is valid.\n"
     ]
    },
    {
     "name": "stdout",
     "output_type": "stream",
     "text": [
      "Scrape Pole Studio Daten von https://www.eversports.de/s/studio-nienke...\n",
      "Verarbeitung abgeschlossen.\n",
      "\n",
      "Ergebnisse für URL: https://www.eversports.de/s/studio-nienke\n",
      "Pole Studio Data:\n",
      "\n",
      "\n",
      "Progress: 85.33%\n",
      "\n",
      "Processing URL 478/559\n",
      "Verarbeite URL: https://www.eversports.de/s/poledancestar-leipzig\n",
      "Starte URL-Rekonstruktion...\n",
      "Error during HTTP request: 404 Client Error: Not Found for url: https://www.eversports.de/s/poledancestar-leipzig\n",
      "Konvertiere in DataFrame...\n",
      "Validiere URLs...\n",
      "Verarbeitung abgeschlossen.\n",
      "\n",
      "Ergebnisse für URL: https://www.eversports.de/s/poledancestar-leipzig\n",
      "Progress: 85.51%\n",
      "\n",
      "Processing URL 479/559\n",
      "Verarbeite URL: https://www.eversports.de/s/aerial-circus\n",
      "Starte URL-Rekonstruktion...\n"
     ]
    },
    {
     "name": "stderr",
     "output_type": "stream",
     "text": [
      "2024-01-26 20:02:57,812 - INFO - Processing URL 1/4: https://www.eversports.de/s/aerial-circus\n"
     ]
    },
    {
     "name": "stdout",
     "output_type": "stream",
     "text": [
      "Konvertiere in DataFrame...\n",
      "Validiere URLs...\n"
     ]
    },
    {
     "name": "stderr",
     "output_type": "stream",
     "text": [
      "2024-01-26 20:02:59,789 - INFO - URL https://www.eversports.de/s/aerial-circus is valid.\n",
      "2024-01-26 20:02:59,791 - INFO - Processing URL 2/4: https://www.eversports.de/scl/aerial-circus\n",
      "2024-01-26 20:03:01,351 - INFO - URL https://www.eversports.de/scl/aerial-circus is valid.\n",
      "2024-01-26 20:03:01,353 - INFO - Processing URL 3/4: https://www.eversports.de/sp/aerial-circus\n",
      "2024-01-26 20:03:02,960 - INFO - URL https://www.eversports.de/sp/aerial-circus is valid.\n",
      "2024-01-26 20:03:02,961 - INFO - Processing URL 4/4: https://www.eversports.de/s/aerial-circus/team\n",
      "2024-01-26 20:03:04,447 - INFO - URL https://www.eversports.de/s/aerial-circus/team is valid.\n"
     ]
    },
    {
     "name": "stdout",
     "output_type": "stream",
     "text": [
      "Scrape Pole Studio Daten von https://www.eversports.de/s/aerial-circus...\n",
      "Scrape Klassen Daten von https://www.eversports.de/scl/aerial-circus...\n",
      "Scrape Klassen Details von https://www.eversports.de/scl/aerial-circus...\n",
      "Verarbeitung abgeschlossen.\n",
      "\n",
      "Ergebnisse für URL: https://www.eversports.de/s/aerial-circus\n",
      "Pole Studio Data:\n",
      "\n",
      "\n",
      "Classes Data:\n",
      "\n",
      "\n",
      "Classes Details:\n",
      "\n",
      "\n",
      "Progress: 85.69%\n",
      "\n",
      "Processing URL 480/559\n",
      "Verarbeite URL: https://www.eversports.de/s/koerpernah\n",
      "Starte URL-Rekonstruktion...\n"
     ]
    },
    {
     "name": "stderr",
     "output_type": "stream",
     "text": [
      "2024-01-26 20:03:48,000 - INFO - Processing URL 1/5: https://www.eversports.de/s/koerpernah\n"
     ]
    },
    {
     "name": "stdout",
     "output_type": "stream",
     "text": [
      "Konvertiere in DataFrame...\n",
      "Validiere URLs...\n"
     ]
    },
    {
     "name": "stderr",
     "output_type": "stream",
     "text": [
      "2024-01-26 20:03:49,563 - INFO - URL https://www.eversports.de/s/koerpernah is valid.\n",
      "2024-01-26 20:03:49,565 - INFO - Processing URL 2/5: https://www.eversports.de/scl/koerpernah\n",
      "2024-01-26 20:03:51,057 - INFO - URL https://www.eversports.de/scl/koerpernah is valid.\n",
      "2024-01-26 20:03:51,058 - INFO - Processing URL 3/5: https://www.eversports.de/sw/koerpernah\n",
      "2024-01-26 20:03:52,515 - INFO - URL https://www.eversports.de/sw/koerpernah is valid.\n",
      "2024-01-26 20:03:52,516 - INFO - Processing URL 4/5: https://www.eversports.de/sp/koerpernah\n",
      "2024-01-26 20:03:54,034 - INFO - URL https://www.eversports.de/sp/koerpernah is valid.\n",
      "2024-01-26 20:03:54,035 - INFO - Processing URL 5/5: https://www.eversports.de/s/koerpernah/team\n",
      "2024-01-26 20:03:56,080 - INFO - URL https://www.eversports.de/s/koerpernah/team is valid.\n"
     ]
    },
    {
     "name": "stdout",
     "output_type": "stream",
     "text": [
      "Scrape Pole Studio Daten von https://www.eversports.de/s/koerpernah...\n",
      "Scrape Klassen Daten von https://www.eversports.de/scl/koerpernah...\n",
      "Scrape Workshops Daten von https://www.eversports.de/sw/koerpernah...\n",
      "Scrape Workshop Details von https://www.eversports.de/e/workshop/MfhCem5...\n",
      "Verarbeitung abgeschlossen.\n",
      "\n",
      "Ergebnisse für URL: https://www.eversports.de/s/koerpernah\n",
      "Pole Studio Data:\n",
      "\n",
      "\n",
      "Workshops Data:\n",
      "\n",
      "\n",
      "Workshop Details:\n",
      "\n",
      "\n",
      "Progress: 85.87%\n",
      "\n",
      "Processing URL 481/559\n",
      "Verarbeite URL: https://www.eversports.de/s/polecreation\n",
      "Starte URL-Rekonstruktion...\n"
     ]
    },
    {
     "name": "stderr",
     "output_type": "stream",
     "text": [
      "2024-01-26 20:04:03,640 - INFO - Processing URL 1/5: https://www.eversports.de/s/polecreation\n"
     ]
    },
    {
     "name": "stdout",
     "output_type": "stream",
     "text": [
      "Konvertiere in DataFrame...\n",
      "Validiere URLs...\n"
     ]
    },
    {
     "name": "stderr",
     "output_type": "stream",
     "text": [
      "2024-01-26 20:04:05,532 - INFO - URL https://www.eversports.de/s/polecreation is valid.\n",
      "2024-01-26 20:04:05,533 - INFO - Processing URL 2/5: https://www.eversports.de/scl/polecreation\n",
      "2024-01-26 20:04:07,221 - INFO - URL https://www.eversports.de/scl/polecreation is valid.\n",
      "2024-01-26 20:04:07,222 - INFO - Processing URL 3/5: https://www.eversports.de/sw/polecreation\n",
      "2024-01-26 20:04:08,795 - INFO - URL https://www.eversports.de/sw/polecreation is valid.\n",
      "2024-01-26 20:04:08,797 - INFO - Processing URL 4/5: https://www.eversports.de/sp/polecreation\n",
      "2024-01-26 20:04:10,432 - INFO - URL https://www.eversports.de/sp/polecreation is valid.\n",
      "2024-01-26 20:04:10,434 - INFO - Processing URL 5/5: https://www.eversports.de/s/polecreation/team\n",
      "2024-01-26 20:04:11,949 - INFO - URL https://www.eversports.de/s/polecreation/team is valid.\n"
     ]
    },
    {
     "name": "stdout",
     "output_type": "stream",
     "text": [
      "Scrape Pole Studio Daten von https://www.eversports.de/s/polecreation...\n",
      "Scrape Klassen Daten von https://www.eversports.de/scl/polecreation...\n",
      "Scrape Klassen Details von https://www.eversports.de/scl/polecreation...\n",
      "Scrape Workshops Daten von https://www.eversports.de/sw/polecreation...\n",
      "Scrape Workshop Details von https://www.eversports.de/e/workshop/bmZxua4...\n",
      "Scrape Workshop Details von https://www.eversports.de/e/workshop/qcRMhzd...\n",
      "Scrape Workshop Details von https://www.eversports.de/e/workshop/Zj0NETg...\n",
      "Verarbeitung abgeschlossen.\n",
      "\n",
      "Ergebnisse für URL: https://www.eversports.de/s/polecreation\n",
      "Pole Studio Data:\n",
      "\n",
      "\n",
      "Classes Data:\n",
      "\n",
      "\n",
      "Classes Details:\n",
      "\n",
      "\n",
      "Workshops Data:\n",
      "\n",
      "\n",
      "Workshop Details:\n",
      "\n",
      "\n",
      "Progress: 86.05%\n",
      "\n",
      "Processing URL 482/559\n",
      "Verarbeite URL: https://www.eversports.de/s/Pole-Dance-Studio-Passion-Hannover\n",
      "Starte URL-Rekonstruktion...\n"
     ]
    },
    {
     "name": "stderr",
     "output_type": "stream",
     "text": [
      "2024-01-26 20:05:20,354 - INFO - Processing URL 1/4: https://www.eversports.de/s/Pole-Dance-Studio-Passion-Hannover\n"
     ]
    },
    {
     "name": "stdout",
     "output_type": "stream",
     "text": [
      "Konvertiere in DataFrame...\n",
      "Validiere URLs...\n"
     ]
    },
    {
     "name": "stderr",
     "output_type": "stream",
     "text": [
      "2024-01-26 20:05:21,944 - INFO - URL https://www.eversports.de/s/Pole-Dance-Studio-Passion-Hannover is valid.\n",
      "2024-01-26 20:05:21,945 - INFO - Processing URL 2/4: https://www.eversports.de/scl/Pole-Dance-Studio-Passion-Hannover\n",
      "2024-01-26 20:05:23,303 - INFO - URL https://www.eversports.de/scl/Pole-Dance-Studio-Passion-Hannover is valid.\n",
      "2024-01-26 20:05:23,304 - INFO - Processing URL 3/4: https://www.eversports.de/sp/Pole-Dance-Studio-Passion-Hannover\n",
      "2024-01-26 20:05:24,711 - INFO - URL https://www.eversports.de/sp/Pole-Dance-Studio-Passion-Hannover is valid.\n",
      "2024-01-26 20:05:24,712 - INFO - Processing URL 4/4: https://www.eversports.de/s/Pole-Dance-Studio-Passion-Hannover/team\n",
      "2024-01-26 20:05:26,159 - INFO - URL https://www.eversports.de/s/Pole-Dance-Studio-Passion-Hannover/team is valid.\n"
     ]
    },
    {
     "name": "stdout",
     "output_type": "stream",
     "text": [
      "Scrape Pole Studio Daten von https://www.eversports.de/s/Pole-Dance-Studio-Passion-Hannover...\n",
      "Scrape Klassen Daten von https://www.eversports.de/scl/Pole-Dance-Studio-Passion-Hannover...\n",
      "Scrape Klassen Details von https://www.eversports.de/scl/Pole-Dance-Studio-Passion-Hannover...\n",
      "Verarbeitung abgeschlossen.\n",
      "\n",
      "Ergebnisse für URL: https://www.eversports.de/s/Pole-Dance-Studio-Passion-Hannover\n",
      "Pole Studio Data:\n",
      "\n",
      "\n",
      "Classes Data:\n",
      "\n",
      "\n",
      "Classes Details:\n",
      "\n",
      "\n",
      "Progress: 86.23%\n",
      "\n",
      "Processing URL 483/559\n",
      "Verarbeite URL: https://www.eversports.de/s/health-and-shape\n",
      "Starte URL-Rekonstruktion...\n",
      "Error during HTTP request: 404 Client Error: Not Found for url: https://www.eversports.de/s/health-and-shape\n",
      "Konvertiere in DataFrame...\n",
      "Validiere URLs...\n",
      "Verarbeitung abgeschlossen.\n",
      "\n",
      "Ergebnisse für URL: https://www.eversports.de/s/health-and-shape\n",
      "Progress: 86.40%\n",
      "\n",
      "Processing URL 484/559\n",
      "Verarbeite URL: https://www.eversports.de/s/Dayuma---Pole-&-Acrobatics\n",
      "Starte URL-Rekonstruktion...\n",
      "Error during HTTP request: 404 Client Error: Not Found for url: https://www.eversports.de/s/Dayuma---Pole-&-Acrobatics\n",
      "Konvertiere in DataFrame...\n",
      "Validiere URLs...\n",
      "Verarbeitung abgeschlossen.\n",
      "\n",
      "Ergebnisse für URL: https://www.eversports.de/s/Dayuma---Pole-&-Acrobatics\n",
      "Progress: 86.58%\n",
      "\n",
      "Processing URL 485/559\n",
      "Verarbeite URL: https://www.eversports.de/s/poletastix-d%C3%BCsseldorf\n",
      "Starte URL-Rekonstruktion...\n",
      "Error during HTTP request: Exceeded 30 redirects.\n",
      "Konvertiere in DataFrame...\n",
      "Validiere URLs...\n",
      "Verarbeitung abgeschlossen.\n",
      "\n",
      "Ergebnisse für URL: https://www.eversports.de/s/poletastix-d%C3%BCsseldorf\n",
      "Progress: 86.76%\n",
      "\n",
      "Processing URL 486/559\n",
      "Verarbeite URL: https://www.eversports.de/s/poleroom\n",
      "Starte URL-Rekonstruktion...\n",
      "Error during HTTP request: 404 Client Error: Not Found for url: https://www.eversports.de/s/poleroom\n",
      "Konvertiere in DataFrame...\n",
      "Validiere URLs...\n",
      "Verarbeitung abgeschlossen.\n",
      "\n",
      "Ergebnisse für URL: https://www.eversports.de/s/poleroom\n",
      "Progress: 86.94%\n",
      "\n",
      "Processing URL 487/559\n",
      "Verarbeite URL: https://www.eversports.de/s/pole-loft\n",
      "Starte URL-Rekonstruktion...\n"
     ]
    },
    {
     "name": "stderr",
     "output_type": "stream",
     "text": [
      "2024-01-26 20:06:04,388 - INFO - Processing URL 1/4: https://www.eversports.de/s/pole-loft\n"
     ]
    },
    {
     "name": "stdout",
     "output_type": "stream",
     "text": [
      "Konvertiere in DataFrame...\n",
      "Validiere URLs...\n"
     ]
    },
    {
     "name": "stderr",
     "output_type": "stream",
     "text": [
      "2024-01-26 20:06:06,607 - INFO - URL https://www.eversports.de/s/pole-loft is valid.\n",
      "2024-01-26 20:06:06,609 - INFO - Processing URL 2/4: https://www.eversports.de/scl/pole-loft\n",
      "2024-01-26 20:06:08,641 - INFO - URL https://www.eversports.de/scl/pole-loft is valid.\n",
      "2024-01-26 20:06:08,643 - INFO - Processing URL 3/4: https://www.eversports.de/sp/pole-loft\n",
      "2024-01-26 20:06:10,816 - INFO - URL https://www.eversports.de/sp/pole-loft is valid.\n",
      "2024-01-26 20:06:10,818 - INFO - Processing URL 4/4: https://www.eversports.de/s/pole-loft/team\n",
      "2024-01-26 20:06:13,205 - INFO - URL https://www.eversports.de/s/pole-loft/team is valid.\n"
     ]
    },
    {
     "name": "stdout",
     "output_type": "stream",
     "text": [
      "Scrape Pole Studio Daten von https://www.eversports.de/s/pole-loft...\n",
      "Scrape Klassen Daten von https://www.eversports.de/scl/pole-loft...\n",
      "Scrape Klassen Details von https://www.eversports.de/scl/pole-loft...\n",
      "Verarbeitung abgeschlossen.\n",
      "\n",
      "Ergebnisse für URL: https://www.eversports.de/s/pole-loft\n",
      "Pole Studio Data:\n",
      "\n",
      "\n",
      "Classes Data:\n",
      "\n",
      "\n",
      "Classes Details:\n",
      "\n",
      "\n",
      "Progress: 87.12%\n",
      "\n",
      "Processing URL 488/559\n",
      "Verarbeite URL: https://www.eversports.de/s/pure-motion-kiel\n",
      "Starte URL-Rekonstruktion...\n"
     ]
    },
    {
     "name": "stderr",
     "output_type": "stream",
     "text": [
      "2024-01-26 20:07:35,171 - INFO - Processing URL 1/6: https://www.eversports.de/s/pure-motion-kiel\n"
     ]
    },
    {
     "name": "stdout",
     "output_type": "stream",
     "text": [
      "Konvertiere in DataFrame...\n",
      "Validiere URLs...\n"
     ]
    },
    {
     "name": "stderr",
     "output_type": "stream",
     "text": [
      "2024-01-26 20:07:37,525 - INFO - URL https://www.eversports.de/s/pure-motion-kiel is valid.\n",
      "2024-01-26 20:07:37,527 - INFO - Processing URL 2/6: https://www.eversports.de/scl/pure-motion-kiel\n",
      "2024-01-26 20:07:39,446 - INFO - URL https://www.eversports.de/scl/pure-motion-kiel is valid.\n",
      "2024-01-26 20:07:39,447 - INFO - Processing URL 3/6: https://www.eversports.de/s/pure-motion-kiel/kurse\n",
      "2024-01-26 20:07:41,127 - INFO - URL https://www.eversports.de/s/pure-motion-kiel/kurse is not valid.\n",
      "2024-01-26 20:07:41,129 - INFO - Processing URL 4/6: https://www.eversports.de/sw/pure-motion-kiel\n",
      "2024-01-26 20:07:42,743 - INFO - URL https://www.eversports.de/sw/pure-motion-kiel is valid.\n",
      "2024-01-26 20:07:42,745 - INFO - Processing URL 5/6: https://www.eversports.de/sp/pure-motion-kiel\n",
      "2024-01-26 20:07:44,402 - INFO - URL https://www.eversports.de/sp/pure-motion-kiel is valid.\n",
      "2024-01-26 20:07:44,403 - INFO - Processing URL 6/6: https://www.eversports.de/s/pure-motion-kiel/team\n",
      "2024-01-26 20:07:45,964 - INFO - URL https://www.eversports.de/s/pure-motion-kiel/team is valid.\n"
     ]
    },
    {
     "name": "stdout",
     "output_type": "stream",
     "text": [
      "Scrape Pole Studio Daten von https://www.eversports.de/s/pure-motion-kiel...\n",
      "Scrape Klassen Daten von https://www.eversports.de/scl/pure-motion-kiel...\n",
      "Scrape Klassen Details von https://www.eversports.de/scl/pure-motion-kiel...\n",
      "Scrape Workshops Daten von https://www.eversports.de/sw/pure-motion-kiel...\n",
      "Scrape Workshop Details von https://www.eversports.de/e/workshop/Z1qnkVh...\n",
      "Verarbeitung abgeschlossen.\n",
      "\n",
      "Ergebnisse für URL: https://www.eversports.de/s/pure-motion-kiel\n",
      "Pole Studio Data:\n",
      "\n",
      "\n",
      "Classes Data:\n",
      "\n",
      "\n",
      "Classes Details:\n",
      "\n",
      "\n",
      "Workshops Data:\n",
      "\n",
      "\n",
      "Workshop Details:\n",
      "\n",
      "\n",
      "Progress: 87.30%\n",
      "\n",
      "Processing URL 489/559\n",
      "Verarbeite URL: https://www.eversports.de/s/polemotions-t%C3%BCbingen\n",
      "Starte URL-Rekonstruktion...\n",
      "Error during HTTP request: 502 Server Error: Bad Gateway for url: https://www.eversports.de/s/polemotions-t%C3%BCbingen\n",
      "Konvertiere in DataFrame...\n",
      "Validiere URLs...\n",
      "Verarbeitung abgeschlossen.\n",
      "\n",
      "Ergebnisse für URL: https://www.eversports.de/s/polemotions-t%C3%BCbingen\n",
      "Progress: 87.48%\n",
      "\n",
      "Processing URL 490/559\n",
      "Verarbeite URL: https://www.eversports.de/s/royal-pole\n",
      "Starte URL-Rekonstruktion...\n"
     ]
    },
    {
     "name": "stderr",
     "output_type": "stream",
     "text": [
      "2024-01-26 20:10:58,226 - INFO - Processing URL 1/6: https://www.eversports.de/s/royal-pole\n"
     ]
    },
    {
     "name": "stdout",
     "output_type": "stream",
     "text": [
      "Konvertiere in DataFrame...\n",
      "Validiere URLs...\n"
     ]
    },
    {
     "name": "stderr",
     "output_type": "stream",
     "text": [
      "2024-01-26 20:11:00,026 - INFO - URL https://www.eversports.de/s/royal-pole is valid.\n",
      "2024-01-26 20:11:00,028 - INFO - Processing URL 2/6: https://www.eversports.de/scl/royal-pole\n",
      "2024-01-26 20:11:02,067 - INFO - URL https://www.eversports.de/scl/royal-pole is not valid.\n",
      "2024-01-26 20:11:02,069 - INFO - Processing URL 3/6: https://www.eversports.de/sw/royal-pole\n",
      "2024-01-26 20:11:04,034 - INFO - URL https://www.eversports.de/sw/royal-pole is not valid.\n",
      "2024-01-26 20:11:04,036 - INFO - Processing URL 4/6: https://www.eversports.de/s/royal-pole/freie-trainings\n",
      "2024-01-26 20:11:05,713 - INFO - URL https://www.eversports.de/s/royal-pole/freie-trainings is not valid.\n",
      "2024-01-26 20:11:05,714 - INFO - Processing URL 5/6: https://www.eversports.de/sp/royal-pole\n",
      "2024-01-26 20:11:07,471 - INFO - URL https://www.eversports.de/sp/royal-pole is not valid.\n",
      "2024-01-26 20:11:07,472 - INFO - Processing URL 6/6: https://www.eversports.de/s/royal-pole/team\n",
      "2024-01-26 20:11:09,195 - INFO - URL https://www.eversports.de/s/royal-pole/team is valid.\n"
     ]
    },
    {
     "name": "stdout",
     "output_type": "stream",
     "text": [
      "Scrape Pole Studio Daten von https://www.eversports.de/s/royal-pole...\n",
      "Verarbeitung abgeschlossen.\n",
      "\n",
      "Ergebnisse für URL: https://www.eversports.de/s/royal-pole\n",
      "Pole Studio Data:\n",
      "\n",
      "\n",
      "Progress: 87.66%\n",
      "\n",
      "Processing URL 491/559\n",
      "Verarbeite URL: https://www.eversports.de/s/nisa-verticals\n",
      "Starte URL-Rekonstruktion...\n"
     ]
    },
    {
     "name": "stderr",
     "output_type": "stream",
     "text": [
      "2024-01-26 20:11:11,706 - INFO - Processing URL 1/3: https://www.eversports.de/s/nisa-verticals\n"
     ]
    },
    {
     "name": "stdout",
     "output_type": "stream",
     "text": [
      "Konvertiere in DataFrame...\n",
      "Validiere URLs...\n"
     ]
    },
    {
     "name": "stderr",
     "output_type": "stream",
     "text": [
      "2024-01-26 20:11:13,656 - INFO - URL https://www.eversports.de/s/nisa-verticals is valid.\n",
      "2024-01-26 20:11:13,657 - INFO - Processing URL 2/3: https://www.eversports.de/s/nisa-verticals/videos\n",
      "2024-01-26 20:11:15,311 - INFO - URL https://www.eversports.de/s/nisa-verticals/videos is valid.\n",
      "2024-01-26 20:11:15,314 - INFO - Processing URL 3/3: https://www.eversports.de/sp/nisa-verticals\n",
      "2024-01-26 20:11:17,275 - INFO - URL https://www.eversports.de/sp/nisa-verticals is valid.\n"
     ]
    },
    {
     "name": "stdout",
     "output_type": "stream",
     "text": [
      "Scrape Pole Studio Daten von https://www.eversports.de/s/nisa-verticals...\n",
      "Verarbeitung abgeschlossen.\n",
      "\n",
      "Ergebnisse für URL: https://www.eversports.de/s/nisa-verticals\n",
      "Pole Studio Data:\n",
      "\n",
      "\n",
      "Progress: 87.84%\n",
      "\n",
      "Processing URL 492/559\n",
      "Verarbeite URL: https://www.eversports.de/s/tanzteufel\n",
      "Starte URL-Rekonstruktion...\n"
     ]
    },
    {
     "name": "stderr",
     "output_type": "stream",
     "text": [
      "2024-01-26 20:11:19,563 - INFO - Processing URL 1/5: https://www.eversports.de/s/tanzteufel\n"
     ]
    },
    {
     "name": "stdout",
     "output_type": "stream",
     "text": [
      "Konvertiere in DataFrame...\n",
      "Validiere URLs...\n"
     ]
    },
    {
     "name": "stderr",
     "output_type": "stream",
     "text": [
      "2024-01-26 20:11:21,838 - INFO - URL https://www.eversports.de/s/tanzteufel is valid.\n",
      "2024-01-26 20:11:21,840 - INFO - Processing URL 2/5: https://www.eversports.de/scl/tanzteufel\n",
      "2024-01-26 20:11:24,031 - INFO - URL https://www.eversports.de/scl/tanzteufel is valid.\n",
      "2024-01-26 20:11:24,032 - INFO - Processing URL 3/5: https://www.eversports.de/s/tanzteufel/videos\n",
      "2024-01-26 20:11:25,645 - INFO - URL https://www.eversports.de/s/tanzteufel/videos is valid.\n",
      "2024-01-26 20:11:25,647 - INFO - Processing URL 4/5: https://www.eversports.de/sp/tanzteufel\n",
      "2024-01-26 20:11:27,328 - INFO - URL https://www.eversports.de/sp/tanzteufel is valid.\n",
      "2024-01-26 20:11:27,330 - INFO - Processing URL 5/5: https://www.eversports.de/s/tanzteufel/team\n",
      "2024-01-26 20:11:29,338 - INFO - URL https://www.eversports.de/s/tanzteufel/team is valid.\n"
     ]
    },
    {
     "name": "stdout",
     "output_type": "stream",
     "text": [
      "Scrape Pole Studio Daten von https://www.eversports.de/s/tanzteufel...\n",
      "Scrape Klassen Daten von https://www.eversports.de/scl/tanzteufel...\n",
      "Scrape Klassen Details von https://www.eversports.de/scl/tanzteufel...\n",
      "Verarbeitung abgeschlossen.\n",
      "\n",
      "Ergebnisse für URL: https://www.eversports.de/s/tanzteufel\n",
      "Pole Studio Data:\n",
      "\n",
      "\n",
      "Classes Data:\n",
      "\n",
      "\n",
      "Classes Details:\n",
      "\n",
      "\n",
      "Progress: 88.01%\n",
      "\n",
      "Processing URL 493/559\n",
      "Verarbeite URL: https://www.eversports.de/s/anni's-pole-dance-uetersen\n",
      "Starte URL-Rekonstruktion...\n",
      "Error during HTTP request: 404 Client Error: Not Found for url: https://www.eversports.de/s/anni's-pole-dance-uetersen\n",
      "Konvertiere in DataFrame...\n",
      "Validiere URLs...\n",
      "Verarbeitung abgeschlossen.\n",
      "\n",
      "Ergebnisse für URL: https://www.eversports.de/s/anni's-pole-dance-uetersen\n",
      "Progress: 88.19%\n",
      "\n",
      "Processing URL 494/559\n",
      "Verarbeite URL: https://www.eversports.de/s/POLE-your-BODY\n",
      "Starte URL-Rekonstruktion...\n"
     ]
    },
    {
     "name": "stderr",
     "output_type": "stream",
     "text": [
      "2024-01-26 20:14:00,603 - INFO - Processing URL 1/1: https://www.eversports.de/s/POLE-your-BODY\n"
     ]
    },
    {
     "name": "stdout",
     "output_type": "stream",
     "text": [
      "Konvertiere in DataFrame...\n",
      "Validiere URLs...\n"
     ]
    },
    {
     "name": "stderr",
     "output_type": "stream",
     "text": [
      "2024-01-26 20:14:03,063 - INFO - URL https://www.eversports.de/s/POLE-your-BODY is valid.\n"
     ]
    },
    {
     "name": "stdout",
     "output_type": "stream",
     "text": [
      "Scrape Pole Studio Daten von https://www.eversports.de/s/POLE-your-BODY...\n",
      "Verarbeitung abgeschlossen.\n",
      "\n",
      "Ergebnisse für URL: https://www.eversports.de/s/POLE-your-BODY\n",
      "Pole Studio Data:\n",
      "\n",
      "\n",
      "Progress: 88.37%\n",
      "\n",
      "Processing URL 495/559\n",
      "Verarbeite URL: https://www.eversports.de/s/The-Pole-Lounge\n",
      "Starte URL-Rekonstruktion...\n"
     ]
    },
    {
     "name": "stderr",
     "output_type": "stream",
     "text": [
      "2024-01-26 20:14:05,748 - INFO - Processing URL 1/6: https://www.eversports.de/s/The-Pole-Lounge\n"
     ]
    },
    {
     "name": "stdout",
     "output_type": "stream",
     "text": [
      "Konvertiere in DataFrame...\n",
      "Validiere URLs...\n"
     ]
    },
    {
     "name": "stderr",
     "output_type": "stream",
     "text": [
      "2024-01-26 20:14:08,085 - INFO - URL https://www.eversports.de/s/The-Pole-Lounge is valid.\n",
      "2024-01-26 20:14:08,086 - INFO - Processing URL 2/6: https://www.eversports.de/scl/The-Pole-Lounge\n",
      "2024-01-26 20:14:09,680 - INFO - URL https://www.eversports.de/scl/The-Pole-Lounge is valid.\n",
      "2024-01-26 20:14:09,681 - INFO - Processing URL 3/6: https://www.eversports.de/s/The-Pole-Lounge/kurse\n",
      "2024-01-26 20:14:11,443 - INFO - URL https://www.eversports.de/s/The-Pole-Lounge/kurse is not valid.\n",
      "2024-01-26 20:14:11,445 - INFO - Processing URL 4/6: https://www.eversports.de/sw/The-Pole-Lounge\n",
      "2024-01-26 20:14:13,135 - INFO - URL https://www.eversports.de/sw/The-Pole-Lounge is valid.\n",
      "2024-01-26 20:14:13,137 - INFO - Processing URL 5/6: https://www.eversports.de/sp/The-Pole-Lounge\n",
      "2024-01-26 20:14:15,048 - INFO - URL https://www.eversports.de/sp/The-Pole-Lounge is valid.\n",
      "2024-01-26 20:14:15,051 - INFO - Processing URL 6/6: https://www.eversports.de/s/The-Pole-Lounge/team\n",
      "2024-01-26 20:14:17,748 - INFO - URL https://www.eversports.de/s/The-Pole-Lounge/team is valid.\n"
     ]
    },
    {
     "name": "stdout",
     "output_type": "stream",
     "text": [
      "Scrape Pole Studio Daten von https://www.eversports.de/s/The-Pole-Lounge...\n",
      "Scrape Klassen Daten von https://www.eversports.de/scl/The-Pole-Lounge...\n",
      "Scrape Klassen Details von https://www.eversports.de/scl/The-Pole-Lounge...\n",
      "Scrape Workshops Daten von https://www.eversports.de/sw/The-Pole-Lounge...\n",
      "Scrape Workshop Details von https://www.eversports.de/e/workshop/QD21QTN...\n",
      "Verarbeitung abgeschlossen.\n",
      "\n",
      "Ergebnisse für URL: https://www.eversports.de/s/The-Pole-Lounge\n",
      "Pole Studio Data:\n",
      "\n",
      "\n",
      "Classes Data:\n",
      "\n",
      "\n",
      "Classes Details:\n",
      "\n",
      "\n",
      "Workshops Data:\n",
      "\n",
      "\n",
      "Workshop Details:\n",
      "\n",
      "\n",
      "Progress: 88.55%\n",
      "\n",
      "Processing URL 496/559\n",
      "Verarbeite URL: https://www.eversports.de/s/pole-dance-hechingen\n",
      "Starte URL-Rekonstruktion...\n",
      "Error during HTTP request: 404 Client Error: Not Found for url: https://www.eversports.de/s/pole-dance-hechingen\n",
      "Konvertiere in DataFrame...\n",
      "Validiere URLs...\n",
      "Verarbeitung abgeschlossen.\n",
      "\n",
      "Ergebnisse für URL: https://www.eversports.de/s/pole-dance-hechingen\n",
      "Progress: 88.73%\n",
      "\n",
      "Processing URL 497/559\n",
      "Verarbeite URL: https://www.eversports.de/s/dancingstyle\n",
      "Starte URL-Rekonstruktion...\n"
     ]
    },
    {
     "name": "stderr",
     "output_type": "stream",
     "text": [
      "2024-01-26 20:17:32,797 - INFO - Processing URL 1/1: https://www.eversports.de/s/dancingstyle\n"
     ]
    },
    {
     "name": "stdout",
     "output_type": "stream",
     "text": [
      "Konvertiere in DataFrame...\n",
      "Validiere URLs...\n"
     ]
    },
    {
     "name": "stderr",
     "output_type": "stream",
     "text": [
      "2024-01-26 20:17:34,401 - INFO - URL https://www.eversports.de/s/dancingstyle is valid.\n"
     ]
    },
    {
     "name": "stdout",
     "output_type": "stream",
     "text": [
      "Scrape Pole Studio Daten von https://www.eversports.de/s/dancingstyle...\n",
      "Verarbeitung abgeschlossen.\n",
      "\n",
      "Ergebnisse für URL: https://www.eversports.de/s/dancingstyle\n",
      "Pole Studio Data:\n",
      "\n",
      "\n",
      "Progress: 88.91%\n",
      "\n",
      "Processing URL 498/559\n",
      "Verarbeite URL: https://www.eversports.de/s/aerial-athletix-\n",
      "Starte URL-Rekonstruktion...\n",
      "Error during HTTP request: 404 Client Error: Not Found for url: https://www.eversports.de/s/aerial-athletix-\n",
      "Konvertiere in DataFrame...\n",
      "Validiere URLs...\n",
      "Verarbeitung abgeschlossen.\n",
      "\n",
      "Ergebnisse für URL: https://www.eversports.de/s/aerial-athletix-\n",
      "Progress: 89.09%\n",
      "\n",
      "Processing URL 499/559\n",
      "Verarbeite URL: https://www.eversports.de/s/wildheart-yoga-%26-pole-dance\n",
      "Starte URL-Rekonstruktion...\n",
      "Error during HTTP request: 404 Client Error: Not Found for url: https://www.eversports.de/s/wildheart-yoga-%26-pole-dance\n",
      "Konvertiere in DataFrame...\n",
      "Validiere URLs...\n",
      "Verarbeitung abgeschlossen.\n",
      "\n",
      "Ergebnisse für URL: https://www.eversports.de/s/wildheart-yoga-%26-pole-dance\n",
      "Progress: 89.27%\n",
      "\n",
      "Processing URL 500/559\n",
      "Verarbeite URL: https://www.eversports.de/s/polesensation\n",
      "Starte URL-Rekonstruktion...\n"
     ]
    },
    {
     "name": "stderr",
     "output_type": "stream",
     "text": [
      "2024-01-26 20:17:39,559 - INFO - Processing URL 1/1: https://www.eversports.de/s/polesensation\n"
     ]
    },
    {
     "name": "stdout",
     "output_type": "stream",
     "text": [
      "Konvertiere in DataFrame...\n",
      "Validiere URLs...\n"
     ]
    },
    {
     "name": "stderr",
     "output_type": "stream",
     "text": [
      "2024-01-26 20:17:41,156 - INFO - URL https://www.eversports.de/s/polesensation is valid.\n"
     ]
    },
    {
     "name": "stdout",
     "output_type": "stream",
     "text": [
      "Scrape Pole Studio Daten von https://www.eversports.de/s/polesensation...\n",
      "Verarbeitung abgeschlossen.\n",
      "\n",
      "Ergebnisse für URL: https://www.eversports.de/s/polesensation\n",
      "Pole Studio Data:\n",
      "\n",
      "\n",
      "Progress: 89.45%\n",
      "\n",
      "Processing URL 501/559\n",
      "Verarbeite URL: https://www.eversports.de/s/PoleRoom-Braunschweig\n",
      "Starte URL-Rekonstruktion...\n"
     ]
    },
    {
     "name": "stderr",
     "output_type": "stream",
     "text": [
      "2024-01-26 20:17:44,340 - INFO - Processing URL 1/6: https://www.eversports.de/s/PoleRoom-Braunschweig\n"
     ]
    },
    {
     "name": "stdout",
     "output_type": "stream",
     "text": [
      "Konvertiere in DataFrame...\n",
      "Validiere URLs...\n"
     ]
    },
    {
     "name": "stderr",
     "output_type": "stream",
     "text": [
      "2024-01-26 20:17:46,946 - INFO - URL https://www.eversports.de/s/PoleRoom-Braunschweig is valid.\n",
      "2024-01-26 20:17:46,947 - INFO - Processing URL 2/6: https://www.eversports.de/scl/PoleRoom-Braunschweig\n",
      "2024-01-26 20:17:48,563 - INFO - URL https://www.eversports.de/scl/PoleRoom-Braunschweig is valid.\n",
      "2024-01-26 20:17:48,564 - INFO - Processing URL 3/6: https://www.eversports.de/s/PoleRoom-Braunschweig/trainings\n",
      "2024-01-26 20:17:50,257 - INFO - URL https://www.eversports.de/s/PoleRoom-Braunschweig/trainings is not valid.\n",
      "2024-01-26 20:17:50,259 - INFO - Processing URL 4/6: https://www.eversports.de/sw/PoleRoom-Braunschweig\n",
      "2024-01-26 20:17:53,034 - INFO - URL https://www.eversports.de/sw/PoleRoom-Braunschweig is valid.\n",
      "2024-01-26 20:17:53,036 - INFO - Processing URL 5/6: https://www.eversports.de/sp/PoleRoom-Braunschweig\n",
      "2024-01-26 20:17:54,646 - INFO - URL https://www.eversports.de/sp/PoleRoom-Braunschweig is valid.\n",
      "2024-01-26 20:17:54,647 - INFO - Processing URL 6/6: https://www.eversports.de/s/PoleRoom-Braunschweig/team\n",
      "2024-01-26 20:17:56,425 - INFO - URL https://www.eversports.de/s/PoleRoom-Braunschweig/team is valid.\n"
     ]
    },
    {
     "name": "stdout",
     "output_type": "stream",
     "text": [
      "Scrape Pole Studio Daten von https://www.eversports.de/s/PoleRoom-Braunschweig...\n",
      "Scrape Klassen Daten von https://www.eversports.de/scl/PoleRoom-Braunschweig...\n",
      "Scrape Klassen Details von https://www.eversports.de/scl/PoleRoom-Braunschweig...\n",
      "Scrape Workshops Daten von https://www.eversports.de/sw/PoleRoom-Braunschweig...\n",
      "Scrape Workshop Details von https://www.eversports.de/e/workshop/ITccdPW...\n",
      "Scrape Workshop Details von https://www.eversports.de/e/workshop/5FIBkpe...\n",
      "Scrape Workshop Details von https://www.eversports.de/e/workshop/GB5CNr0...\n",
      "Scrape Workshop Details von https://www.eversports.de/e/workshop/1pzXUtZ...\n",
      "Scrape Workshop Details von https://www.eversports.de/e/workshop/fx6DrZ8...\n",
      "Verarbeitung abgeschlossen.\n",
      "\n",
      "Ergebnisse für URL: https://www.eversports.de/s/PoleRoom-Braunschweig\n",
      "Pole Studio Data:\n",
      "\n",
      "\n",
      "Classes Data:\n",
      "\n",
      "\n",
      "Classes Details:\n",
      "\n",
      "\n",
      "Workshops Data:\n",
      "\n",
      "\n",
      "Workshop Details:\n",
      "\n",
      "\n",
      "Progress: 89.62%\n",
      "\n",
      "Processing URL 502/559\n",
      "Verarbeite URL: https://www.eversports.de/s/pole-circus\n",
      "Starte URL-Rekonstruktion...\n"
     ]
    },
    {
     "name": "stderr",
     "output_type": "stream",
     "text": [
      "2024-01-26 20:19:08,012 - INFO - Processing URL 1/1: https://www.eversports.de/s/pole-circus\n"
     ]
    },
    {
     "name": "stdout",
     "output_type": "stream",
     "text": [
      "Konvertiere in DataFrame...\n",
      "Validiere URLs...\n"
     ]
    },
    {
     "name": "stderr",
     "output_type": "stream",
     "text": [
      "2024-01-26 20:19:09,953 - INFO - URL https://www.eversports.de/s/pole-circus is valid.\n"
     ]
    },
    {
     "name": "stdout",
     "output_type": "stream",
     "text": [
      "Scrape Pole Studio Daten von https://www.eversports.de/s/pole-circus...\n",
      "Verarbeitung abgeschlossen.\n",
      "\n",
      "Ergebnisse für URL: https://www.eversports.de/s/pole-circus\n",
      "Pole Studio Data:\n",
      "\n",
      "\n",
      "Progress: 89.80%\n",
      "\n",
      "Processing URL 503/559\n",
      "Verarbeite URL: https://www.eversports.de/s/wonderpole\n",
      "Starte URL-Rekonstruktion...\n",
      "Error during HTTP request: 404 Client Error: Not Found for url: https://www.eversports.de/s/wonderpole\n",
      "Konvertiere in DataFrame...\n",
      "Validiere URLs...\n",
      "Verarbeitung abgeschlossen.\n",
      "\n",
      "Ergebnisse für URL: https://www.eversports.de/s/wonderpole\n",
      "Progress: 89.98%\n",
      "\n",
      "Processing URL 504/559\n",
      "Verarbeite URL: https://www.eversports.de/s/The-Supergirl-Studio\n",
      "Starte URL-Rekonstruktion...\n"
     ]
    },
    {
     "name": "stderr",
     "output_type": "stream",
     "text": [
      "2024-01-26 20:19:13,772 - INFO - Processing URL 1/4: https://www.eversports.de/s/The-Supergirl-Studio\n"
     ]
    },
    {
     "name": "stdout",
     "output_type": "stream",
     "text": [
      "Konvertiere in DataFrame...\n",
      "Validiere URLs...\n"
     ]
    },
    {
     "name": "stderr",
     "output_type": "stream",
     "text": [
      "2024-01-26 20:19:15,630 - INFO - URL https://www.eversports.de/s/The-Supergirl-Studio is valid.\n",
      "2024-01-26 20:19:15,631 - INFO - Processing URL 2/4: https://www.eversports.de/scl/The-Supergirl-Studio\n",
      "2024-01-26 20:19:17,269 - INFO - URL https://www.eversports.de/scl/The-Supergirl-Studio is valid.\n",
      "2024-01-26 20:19:17,270 - INFO - Processing URL 3/4: https://www.eversports.de/sp/The-Supergirl-Studio\n",
      "2024-01-26 20:19:19,246 - INFO - URL https://www.eversports.de/sp/The-Supergirl-Studio is valid.\n",
      "2024-01-26 20:19:19,247 - INFO - Processing URL 4/4: https://www.eversports.de/s/The-Supergirl-Studio/team\n",
      "2024-01-26 20:19:21,011 - INFO - URL https://www.eversports.de/s/The-Supergirl-Studio/team is valid.\n"
     ]
    },
    {
     "name": "stdout",
     "output_type": "stream",
     "text": [
      "Scrape Pole Studio Daten von https://www.eversports.de/s/The-Supergirl-Studio...\n",
      "Scrape Klassen Daten von https://www.eversports.de/scl/The-Supergirl-Studio...\n",
      "Scrape Klassen Details von https://www.eversports.de/scl/The-Supergirl-Studio...\n",
      "Verarbeitung abgeschlossen.\n",
      "\n",
      "Ergebnisse für URL: https://www.eversports.de/s/The-Supergirl-Studio\n",
      "Pole Studio Data:\n",
      "\n",
      "\n",
      "Classes Data:\n",
      "\n",
      "\n",
      "Classes Details:\n",
      "\n",
      "\n",
      "Progress: 90.16%\n",
      "\n",
      "Processing URL 505/559\n",
      "Verarbeite URL: https://www.eversports.de/s/pole-and-move-ludwigshafen\n",
      "Starte URL-Rekonstruktion...\n"
     ]
    },
    {
     "name": "stderr",
     "output_type": "stream",
     "text": [
      "2024-01-26 20:20:54,680 - INFO - Processing URL 1/5: https://www.eversports.de/s/pole-and-move-ludwigshafen\n"
     ]
    },
    {
     "name": "stdout",
     "output_type": "stream",
     "text": [
      "Konvertiere in DataFrame...\n",
      "Validiere URLs...\n"
     ]
    },
    {
     "name": "stderr",
     "output_type": "stream",
     "text": [
      "2024-01-26 20:20:56,555 - INFO - URL https://www.eversports.de/s/pole-and-move-ludwigshafen is valid.\n",
      "2024-01-26 20:20:56,557 - INFO - Processing URL 2/5: https://www.eversports.de/scl/pole-and-move-ludwigshafen\n",
      "2024-01-26 20:20:58,280 - INFO - URL https://www.eversports.de/scl/pole-and-move-ludwigshafen is valid.\n",
      "2024-01-26 20:20:58,281 - INFO - Processing URL 3/5: https://www.eversports.de/sw/pole-and-move-ludwigshafen\n",
      "2024-01-26 20:21:00,468 - INFO - URL https://www.eversports.de/sw/pole-and-move-ludwigshafen is valid.\n",
      "2024-01-26 20:21:00,469 - INFO - Processing URL 4/5: https://www.eversports.de/sp/pole-and-move-ludwigshafen\n",
      "2024-01-26 20:21:02,243 - INFO - URL https://www.eversports.de/sp/pole-and-move-ludwigshafen is valid.\n",
      "2024-01-26 20:21:02,244 - INFO - Processing URL 5/5: https://www.eversports.de/s/pole-and-move-ludwigshafen/team\n",
      "2024-01-26 20:21:03,866 - INFO - URL https://www.eversports.de/s/pole-and-move-ludwigshafen/team is valid.\n"
     ]
    },
    {
     "name": "stdout",
     "output_type": "stream",
     "text": [
      "Scrape Pole Studio Daten von https://www.eversports.de/s/pole-and-move-ludwigshafen...\n",
      "Scrape Klassen Daten von https://www.eversports.de/scl/pole-and-move-ludwigshafen...\n",
      "Scrape Klassen Details von https://www.eversports.de/scl/pole-and-move-ludwigshafen...\n",
      "Scrape Workshops Daten von https://www.eversports.de/sw/pole-and-move-ludwigshafen...\n",
      "Scrape Workshop Details von https://www.eversports.de/e/workshop/YuOP2Ee...\n",
      "Scrape Workshop Details von https://www.eversports.de/e/workshop/aldL57L...\n",
      "Scrape Workshop Details von https://www.eversports.de/e/workshop/hz_ZPLE...\n",
      "Scrape Workshop Details von https://www.eversports.de/e/workshop/M1wKpZR...\n",
      "Scrape Workshop Details von https://www.eversports.de/e/workshop/xAIHC25...\n",
      "Scrape Workshop Details von https://www.eversports.de/e/workshop/QSBryP0...\n",
      "Scrape Workshop Details von https://www.eversports.de/e/workshop/VBYd7ZF...\n",
      "Scrape Workshop Details von https://www.eversports.de/e/workshop/zTbGfLi...\n",
      "Scrape Workshop Details von https://www.eversports.de/e/workshop/fUoSQuY...\n",
      "Verarbeitung abgeschlossen.\n",
      "\n",
      "Ergebnisse für URL: https://www.eversports.de/s/pole-and-move-ludwigshafen\n",
      "Pole Studio Data:\n",
      "\n",
      "\n",
      "Classes Data:\n",
      "\n",
      "\n",
      "Classes Details:\n",
      "\n",
      "\n",
      "Workshops Data:\n",
      "\n",
      "\n",
      "Workshop Details:\n",
      "\n",
      "\n",
      "Progress: 90.34%\n",
      "\n",
      "Processing URL 506/559\n",
      "Verarbeite URL: https://www.eversports.de/s/T-Tanzstück-Braunschweig\n",
      "Starte URL-Rekonstruktion...\n",
      "Error during HTTP request: Exceeded 30 redirects.\n",
      "Konvertiere in DataFrame...\n",
      "Validiere URLs...\n",
      "Verarbeitung abgeschlossen.\n",
      "\n",
      "Ergebnisse für URL: https://www.eversports.de/s/T-Tanzstück-Braunschweig\n",
      "Progress: 90.52%\n",
      "\n",
      "Processing URL 507/559\n",
      "Verarbeite URL: https://www.eversports.de/s/empire-pole\n",
      "Starte URL-Rekonstruktion...\n",
      "Error during HTTP request: 404 Client Error: Not Found for url: https://www.eversports.de/s/empire-pole\n",
      "Konvertiere in DataFrame...\n",
      "Validiere URLs...\n",
      "Verarbeitung abgeschlossen.\n",
      "\n",
      "Ergebnisse für URL: https://www.eversports.de/s/empire-pole\n",
      "Progress: 90.70%\n",
      "\n",
      "Processing URL 508/559\n",
      "Verarbeite URL: https://www.eversports.de/s/Polemotions-GP\n",
      "Starte URL-Rekonstruktion...\n",
      "Error during HTTP request: 404 Client Error: Not Found for url: https://www.eversports.de/s/polemotions-gp\n",
      "Konvertiere in DataFrame...\n",
      "Validiere URLs...\n",
      "Verarbeitung abgeschlossen.\n",
      "\n",
      "Ergebnisse für URL: https://www.eversports.de/s/Polemotions-GP\n",
      "Progress: 90.88%\n",
      "\n",
      "Processing URL 509/559\n",
      "Verarbeite URL: https://www.eversports.de/s/Pole-Statement\n",
      "Starte URL-Rekonstruktion...\n"
     ]
    },
    {
     "name": "stderr",
     "output_type": "stream",
     "text": [
      "2024-01-26 20:22:32,884 - INFO - Processing URL 1/6: https://www.eversports.de/s/Pole-Statement\n"
     ]
    },
    {
     "name": "stdout",
     "output_type": "stream",
     "text": [
      "Konvertiere in DataFrame...\n",
      "Validiere URLs...\n"
     ]
    },
    {
     "name": "stderr",
     "output_type": "stream",
     "text": [
      "2024-01-26 20:22:35,104 - INFO - URL https://www.eversports.de/s/Pole-Statement is valid.\n",
      "2024-01-26 20:22:35,105 - INFO - Processing URL 2/6: https://www.eversports.de/scl/Pole-Statement\n",
      "2024-01-26 20:22:36,593 - INFO - URL https://www.eversports.de/scl/Pole-Statement is valid.\n",
      "2024-01-26 20:22:36,594 - INFO - Processing URL 3/6: https://www.eversports.de/s/Pole-Statement/kurse\n",
      "2024-01-26 20:22:38,148 - INFO - URL https://www.eversports.de/s/Pole-Statement/kurse is not valid.\n",
      "2024-01-26 20:22:38,149 - INFO - Processing URL 4/6: https://www.eversports.de/s/Pole-Statement/events\n",
      "2024-01-26 20:22:39,684 - INFO - URL https://www.eversports.de/s/Pole-Statement/events is not valid.\n",
      "2024-01-26 20:22:39,685 - INFO - Processing URL 5/6: https://www.eversports.de/sp/Pole-Statement\n",
      "2024-01-26 20:22:41,537 - INFO - URL https://www.eversports.de/sp/Pole-Statement is valid.\n",
      "2024-01-26 20:22:41,538 - INFO - Processing URL 6/6: https://www.eversports.de/s/Pole-Statement/team\n",
      "2024-01-26 20:22:43,399 - INFO - URL https://www.eversports.de/s/Pole-Statement/team is valid.\n"
     ]
    },
    {
     "name": "stdout",
     "output_type": "stream",
     "text": [
      "Scrape Pole Studio Daten von https://www.eversports.de/s/Pole-Statement...\n",
      "Scrape Klassen Daten von https://www.eversports.de/scl/Pole-Statement...\n",
      "Scrape Klassen Details von https://www.eversports.de/scl/Pole-Statement...\n",
      "Verarbeitung abgeschlossen.\n",
      "\n",
      "Ergebnisse für URL: https://www.eversports.de/s/Pole-Statement\n",
      "Pole Studio Data:\n",
      "\n",
      "\n",
      "Classes Data:\n",
      "\n",
      "\n",
      "Classes Details:\n",
      "\n",
      "\n",
      "Progress: 91.06%\n",
      "\n",
      "Processing URL 510/559\n",
      "Verarbeite URL: https://www.eversports.de/s/moving-art-studios\n",
      "Starte URL-Rekonstruktion...\n",
      "Error during HTTP request: 404 Client Error: Not Found for url: https://www.eversports.de/s/moving-art-studios\n",
      "Konvertiere in DataFrame...\n",
      "Validiere URLs...\n",
      "Verarbeitung abgeschlossen.\n",
      "\n",
      "Ergebnisse für URL: https://www.eversports.de/s/moving-art-studios\n",
      "Progress: 91.23%\n",
      "\n",
      "Processing URL 511/559\n",
      "Verarbeite URL: https://www.eversports.de/s/MMC-DANCE-&-Event-Studio\n",
      "Starte URL-Rekonstruktion...\n",
      "Error during HTTP request: 404 Client Error: Not Found for url: https://www.eversports.de/s/MMC-DANCE-&-Event-Studio\n",
      "Konvertiere in DataFrame...\n",
      "Validiere URLs...\n",
      "Verarbeitung abgeschlossen.\n",
      "\n",
      "Ergebnisse für URL: https://www.eversports.de/s/MMC-DANCE-&-Event-Studio\n",
      "Progress: 91.41%\n",
      "\n",
      "Processing URL 512/559\n",
      "Verarbeite URL: https://www.eversports.de/s/poledance-m%C3%B6nchengladbach\n",
      "Starte URL-Rekonstruktion...\n",
      "Error during HTTP request: Exceeded 30 redirects.\n",
      "Konvertiere in DataFrame...\n",
      "Validiere URLs...\n",
      "Verarbeitung abgeschlossen.\n",
      "\n",
      "Ergebnisse für URL: https://www.eversports.de/s/poledance-m%C3%B6nchengladbach\n",
      "Progress: 91.59%\n",
      "\n",
      "Processing URL 513/559\n",
      "Verarbeite URL: https://www.eversports.de/s/Aerial-Loft\n",
      "Starte URL-Rekonstruktion...\n"
     ]
    },
    {
     "name": "stderr",
     "output_type": "stream",
     "text": [
      "2024-01-26 20:24:18,593 - INFO - Processing URL 1/8: https://www.eversports.de/s/Aerial-Loft\n"
     ]
    },
    {
     "name": "stdout",
     "output_type": "stream",
     "text": [
      "Konvertiere in DataFrame...\n",
      "Validiere URLs...\n"
     ]
    },
    {
     "name": "stderr",
     "output_type": "stream",
     "text": [
      "2024-01-26 20:24:20,611 - INFO - URL https://www.eversports.de/s/Aerial-Loft is valid.\n",
      "2024-01-26 20:24:20,612 - INFO - Processing URL 2/8: https://www.eversports.de/scl/Aerial-Loft\n",
      "2024-01-26 20:24:22,179 - INFO - URL https://www.eversports.de/scl/Aerial-Loft is valid.\n",
      "2024-01-26 20:24:22,180 - INFO - Processing URL 3/8: https://www.eversports.de/s/Aerial-Loft/kurse\n",
      "2024-01-26 20:24:23,730 - INFO - URL https://www.eversports.de/s/Aerial-Loft/kurse is not valid.\n",
      "2024-01-26 20:24:23,731 - INFO - Processing URL 4/8: https://www.eversports.de/sw/Aerial-Loft\n",
      "2024-01-26 20:24:25,254 - INFO - URL https://www.eversports.de/sw/Aerial-Loft is valid.\n",
      "2024-01-26 20:24:25,256 - INFO - Processing URL 5/8: https://www.eversports.de/s/Aerial-Loft/events\n",
      "2024-01-26 20:24:27,031 - INFO - URL https://www.eversports.de/s/Aerial-Loft/events is not valid.\n",
      "2024-01-26 20:24:27,032 - INFO - Processing URL 6/8: https://www.eversports.de/s/Aerial-Loft/videos\n",
      "2024-01-26 20:24:28,854 - INFO - URL https://www.eversports.de/s/Aerial-Loft/videos is valid.\n",
      "2024-01-26 20:24:28,855 - INFO - Processing URL 7/8: https://www.eversports.de/sp/Aerial-Loft\n",
      "2024-01-26 20:24:30,391 - INFO - URL https://www.eversports.de/sp/Aerial-Loft is valid.\n",
      "2024-01-26 20:24:30,392 - INFO - Processing URL 8/8: https://www.eversports.de/s/Aerial-Loft/team\n",
      "2024-01-26 20:24:32,507 - INFO - URL https://www.eversports.de/s/Aerial-Loft/team is valid.\n"
     ]
    },
    {
     "name": "stdout",
     "output_type": "stream",
     "text": [
      "Scrape Pole Studio Daten von https://www.eversports.de/s/Aerial-Loft...\n",
      "Scrape Klassen Daten von https://www.eversports.de/scl/Aerial-Loft...\n",
      "Scrape Klassen Details von https://www.eversports.de/scl/Aerial-Loft...\n",
      "Scrape Workshops Daten von https://www.eversports.de/sw/Aerial-Loft...\n",
      "Scrape Workshop Details von https://www.eversports.de/e/workshop/tM6w_bx...\n",
      "Scrape Workshop Details von https://www.eversports.de/e/workshop/Uf4VM65...\n",
      "Scrape Workshop Details von https://www.eversports.de/e/workshop/N4v8WV0...\n",
      "Scrape Workshop Details von https://www.eversports.de/e/workshop/onN7Doj...\n",
      "Verarbeitung abgeschlossen.\n",
      "\n",
      "Ergebnisse für URL: https://www.eversports.de/s/Aerial-Loft\n",
      "Pole Studio Data:\n",
      "\n",
      "\n",
      "Classes Data:\n",
      "\n",
      "\n",
      "Classes Details:\n",
      "\n",
      "\n",
      "Workshops Data:\n",
      "\n",
      "\n",
      "Workshop Details:\n",
      "\n",
      "\n",
      "Progress: 91.77%\n",
      "\n",
      "Processing URL 514/559\n",
      "Verarbeite URL: https://www.eversports.de/s/Soultide\n",
      "Starte URL-Rekonstruktion...\n"
     ]
    },
    {
     "name": "stderr",
     "output_type": "stream",
     "text": [
      "2024-01-26 20:26:40,966 - INFO - Processing URL 1/6: https://www.eversports.de/s/Soultide\n"
     ]
    },
    {
     "name": "stdout",
     "output_type": "stream",
     "text": [
      "Konvertiere in DataFrame...\n",
      "Validiere URLs...\n"
     ]
    },
    {
     "name": "stderr",
     "output_type": "stream",
     "text": [
      "2024-01-26 20:26:43,087 - INFO - URL https://www.eversports.de/s/Soultide is valid.\n",
      "2024-01-26 20:26:43,088 - INFO - Processing URL 2/6: https://www.eversports.de/scl/Soultide\n",
      "2024-01-26 20:26:44,641 - INFO - URL https://www.eversports.de/scl/Soultide is valid.\n",
      "2024-01-26 20:26:44,642 - INFO - Processing URL 3/6: https://www.eversports.de/sw/Soultide\n",
      "2024-01-26 20:26:46,160 - INFO - URL https://www.eversports.de/sw/Soultide is valid.\n",
      "2024-01-26 20:26:46,161 - INFO - Processing URL 4/6: https://www.eversports.de/s/Soultide/retreats\n",
      "2024-01-26 20:26:47,730 - INFO - URL https://www.eversports.de/s/Soultide/retreats is not valid.\n",
      "2024-01-26 20:26:47,731 - INFO - Processing URL 5/6: https://www.eversports.de/sp/Soultide\n",
      "2024-01-26 20:26:49,482 - INFO - URL https://www.eversports.de/sp/Soultide is valid.\n",
      "2024-01-26 20:26:49,483 - INFO - Processing URL 6/6: https://www.eversports.de/s/Soultide/team\n",
      "2024-01-26 20:26:51,227 - INFO - URL https://www.eversports.de/s/Soultide/team is valid.\n"
     ]
    },
    {
     "name": "stdout",
     "output_type": "stream",
     "text": [
      "Scrape Pole Studio Daten von https://www.eversports.de/s/Soultide...\n",
      "Scrape Klassen Daten von https://www.eversports.de/scl/Soultide...\n",
      "Scrape Klassen Details von https://www.eversports.de/scl/Soultide...\n",
      "Scrape Workshops Daten von https://www.eversports.de/sw/Soultide...\n",
      "Scrape Workshop Details von https://www.eversports.de/e/workshop/Q5aPZDK...\n",
      "Scrape Workshop Details von https://www.eversports.de/e/workshop/I9MFy2z...\n",
      "Verarbeitung abgeschlossen.\n",
      "\n",
      "Ergebnisse für URL: https://www.eversports.de/s/Soultide\n",
      "Pole Studio Data:\n",
      "\n",
      "\n",
      "Classes Data:\n",
      "\n",
      "\n",
      "Classes Details:\n",
      "\n",
      "\n",
      "Workshops Data:\n",
      "\n",
      "\n",
      "Workshop Details:\n",
      "\n",
      "\n",
      "Progress: 91.95%\n",
      "\n",
      "Processing URL 515/559\n",
      "Verarbeite URL: https://www.eversports.de/s/stadtgazellen-osnabr%C3%BCck\n",
      "Starte URL-Rekonstruktion...\n",
      "Error during HTTP request: Exceeded 30 redirects.\n",
      "Konvertiere in DataFrame...\n",
      "Validiere URLs...\n",
      "Verarbeitung abgeschlossen.\n",
      "\n",
      "Ergebnisse für URL: https://www.eversports.de/s/stadtgazellen-osnabr%C3%BCck\n",
      "Progress: 92.13%\n",
      "\n",
      "Processing URL 516/559\n",
      "Verarbeite URL: https://www.eversports.de/s/move-on!-dance-studio-&-polemotions\n",
      "Starte URL-Rekonstruktion...\n",
      "Error during HTTP request: 404 Client Error: Not Found for url: https://www.eversports.de/s/move-on!-dance-studio-&-polemotions\n",
      "Konvertiere in DataFrame...\n",
      "Validiere URLs...\n",
      "Verarbeitung abgeschlossen.\n",
      "\n",
      "Ergebnisse für URL: https://www.eversports.de/s/move-on!-dance-studio-&-polemotions\n",
      "Progress: 92.31%\n",
      "\n",
      "Processing URL 517/559\n",
      "Verarbeite URL: https://www.eversports.de/s/anni's-pole-dance-neum%C3%BCnster\n",
      "Starte URL-Rekonstruktion...\n",
      "Error during HTTP request: 404 Client Error: Not Found for url: https://www.eversports.de/s/anni's-pole-dance-neum%C3%BCnster\n",
      "Konvertiere in DataFrame...\n",
      "Validiere URLs...\n",
      "Verarbeitung abgeschlossen.\n",
      "\n",
      "Ergebnisse für URL: https://www.eversports.de/s/anni's-pole-dance-neum%C3%BCnster\n",
      "Progress: 92.49%\n",
      "\n",
      "Processing URL 518/559\n",
      "Verarbeite URL: https://www.eversports.de/s/polea-pole-and-aerial-dance\n",
      "Starte URL-Rekonstruktion...\n"
     ]
    },
    {
     "name": "stderr",
     "output_type": "stream",
     "text": [
      "2024-01-26 20:30:24,428 - INFO - Processing URL 1/6: https://www.eversports.de/s/polea-pole-and-aerial-dance\n"
     ]
    },
    {
     "name": "stdout",
     "output_type": "stream",
     "text": [
      "Konvertiere in DataFrame...\n",
      "Validiere URLs...\n"
     ]
    },
    {
     "name": "stderr",
     "output_type": "stream",
     "text": [
      "2024-01-26 20:30:27,808 - INFO - URL https://www.eversports.de/s/polea-pole-and-aerial-dance is valid.\n",
      "2024-01-26 20:30:27,810 - INFO - Processing URL 2/6: https://www.eversports.de/scl/polea-pole-and-aerial-dance\n",
      "2024-01-26 20:30:29,577 - INFO - URL https://www.eversports.de/scl/polea-pole-and-aerial-dance is valid.\n",
      "2024-01-26 20:30:29,578 - INFO - Processing URL 3/6: https://www.eversports.de/sw/polea-pole-and-aerial-dance\n",
      "2024-01-26 20:30:31,059 - INFO - URL https://www.eversports.de/sw/polea-pole-and-aerial-dance is valid.\n",
      "2024-01-26 20:30:31,060 - INFO - Processing URL 4/6: https://www.eversports.de/s/polea-pole-and-aerial-dance/videos\n",
      "2024-01-26 20:30:32,761 - INFO - URL https://www.eversports.de/s/polea-pole-and-aerial-dance/videos is valid.\n",
      "2024-01-26 20:30:32,762 - INFO - Processing URL 5/6: https://www.eversports.de/sp/polea-pole-and-aerial-dance\n",
      "2024-01-26 20:30:34,293 - INFO - URL https://www.eversports.de/sp/polea-pole-and-aerial-dance is valid.\n",
      "2024-01-26 20:30:34,294 - INFO - Processing URL 6/6: https://www.eversports.de/s/polea-pole-and-aerial-dance/team\n",
      "2024-01-26 20:30:35,861 - INFO - URL https://www.eversports.de/s/polea-pole-and-aerial-dance/team is valid.\n"
     ]
    },
    {
     "name": "stdout",
     "output_type": "stream",
     "text": [
      "Scrape Pole Studio Daten von https://www.eversports.de/s/polea-pole-and-aerial-dance...\n",
      "Scrape Klassen Daten von https://www.eversports.de/scl/polea-pole-and-aerial-dance...\n",
      "Scrape Klassen Details von https://www.eversports.de/scl/polea-pole-and-aerial-dance...\n",
      "Scrape Workshops Daten von https://www.eversports.de/sw/polea-pole-and-aerial-dance...\n",
      "Scrape Workshop Details von https://www.eversports.de/e/workshop/-BAz15m...\n",
      "Scrape Workshop Details von https://www.eversports.de/e/workshop/u3m9tGL...\n",
      "Verarbeitung abgeschlossen.\n",
      "\n",
      "Ergebnisse für URL: https://www.eversports.de/s/polea-pole-and-aerial-dance\n",
      "Pole Studio Data:\n",
      "\n",
      "\n",
      "Classes Data:\n",
      "\n",
      "\n",
      "Classes Details:\n",
      "\n",
      "\n",
      "Workshops Data:\n",
      "\n",
      "\n",
      "Workshop Details:\n",
      "\n",
      "\n",
      "Progress: 92.67%\n",
      "\n",
      "Processing URL 519/559\n",
      "Verarbeite URL: https://www.eversports.de/s/Vertical---Pole-Aerial-Dance\n",
      "Starte URL-Rekonstruktion...\n",
      "Error during HTTP request: 404 Client Error: Not Found for url: https://www.eversports.de/s/vertical---pole-aerial-dance\n",
      "Konvertiere in DataFrame...\n",
      "Validiere URLs...\n",
      "Verarbeitung abgeschlossen.\n",
      "\n",
      "Ergebnisse für URL: https://www.eversports.de/s/Vertical---Pole-Aerial-Dance\n",
      "Progress: 92.84%\n",
      "\n",
      "Processing URL 520/559\n",
      "Verarbeite URL: https://www.eversports.de/s/pole-box\n",
      "Starte URL-Rekonstruktion...\n",
      "Error during HTTP request: 404 Client Error: Not Found for url: https://www.eversports.de/s/pole-box\n",
      "Konvertiere in DataFrame...\n",
      "Validiere URLs...\n",
      "Verarbeitung abgeschlossen.\n",
      "\n",
      "Ergebnisse für URL: https://www.eversports.de/s/pole-box\n",
      "Progress: 93.02%\n",
      "\n",
      "Processing URL 521/559\n",
      "Verarbeite URL: https://www.eversports.de/s/freaky-pole-cats-schwandorf\n",
      "Starte URL-Rekonstruktion...\n",
      "Error during HTTP request: 404 Client Error: Not Found for url: https://www.eversports.de/s/freaky-pole-cats-schwandorf\n",
      "Konvertiere in DataFrame...\n",
      "Validiere URLs...\n",
      "Verarbeitung abgeschlossen.\n",
      "\n",
      "Ergebnisse für URL: https://www.eversports.de/s/freaky-pole-cats-schwandorf\n",
      "Progress: 93.20%\n",
      "\n",
      "Processing URL 522/559\n",
      "Verarbeite URL: https://www.eversports.de/s/pole-dance-balance\n",
      "Starte URL-Rekonstruktion...\n",
      "Error during HTTP request: 502 Server Error: Bad Gateway for url: https://www.eversports.de/s/pole-dance-balance\n",
      "Konvertiere in DataFrame...\n",
      "Validiere URLs...\n",
      "Verarbeitung abgeschlossen.\n",
      "\n",
      "Ergebnisse für URL: https://www.eversports.de/s/pole-dance-balance\n",
      "Progress: 93.38%\n",
      "\n",
      "Processing URL 523/559\n",
      "Verarbeite URL: https://www.eversports.de/s/ironx-\n",
      "Starte URL-Rekonstruktion...\n",
      "Error during HTTP request: 404 Client Error: Not Found for url: https://www.eversports.de/s/ironx-\n",
      "Konvertiere in DataFrame...\n",
      "Validiere URLs...\n",
      "Verarbeitung abgeschlossen.\n",
      "\n",
      "Ergebnisse für URL: https://www.eversports.de/s/ironx-\n",
      "Progress: 93.56%\n",
      "\n",
      "Processing URL 524/559\n",
      "Verarbeite URL: https://www.eversports.de/s/poledance!-aerial-%26-fitness-kiel\n",
      "Starte URL-Rekonstruktion...\n",
      "Error during HTTP request: 404 Client Error: Not Found for url: https://www.eversports.de/s/poledance!-aerial-%26-fitness-kiel\n",
      "Konvertiere in DataFrame...\n",
      "Validiere URLs...\n",
      "Verarbeitung abgeschlossen.\n",
      "\n",
      "Ergebnisse für URL: https://www.eversports.de/s/poledance!-aerial-%26-fitness-kiel\n",
      "Progress: 93.74%\n",
      "\n",
      "Processing URL 525/559\n",
      "Verarbeite URL: https://www.eversports.de/s/pole-your-body\n",
      "Starte URL-Rekonstruktion...\n"
     ]
    },
    {
     "name": "stderr",
     "output_type": "stream",
     "text": [
      "2024-01-26 20:31:49,547 - INFO - Processing URL 1/1: https://www.eversports.de/s/pole-your-body\n"
     ]
    },
    {
     "name": "stdout",
     "output_type": "stream",
     "text": [
      "Konvertiere in DataFrame...\n",
      "Validiere URLs...\n"
     ]
    },
    {
     "name": "stderr",
     "output_type": "stream",
     "text": [
      "2024-01-26 20:31:51,408 - INFO - URL https://www.eversports.de/s/pole-your-body is valid.\n"
     ]
    },
    {
     "name": "stdout",
     "output_type": "stream",
     "text": [
      "Scrape Pole Studio Daten von https://www.eversports.de/s/pole-your-body...\n",
      "Verarbeitung abgeschlossen.\n",
      "\n",
      "Ergebnisse für URL: https://www.eversports.de/s/pole-your-body\n",
      "Pole Studio Data:\n",
      "\n",
      "\n",
      "Progress: 93.92%\n",
      "\n",
      "Processing URL 526/559\n",
      "Verarbeite URL: https://www.eversports.de/s/schwerelos-münster\n",
      "Starte URL-Rekonstruktion...\n",
      "Error during HTTP request: Exceeded 30 redirects.\n",
      "Konvertiere in DataFrame...\n",
      "Validiere URLs...\n",
      "Verarbeitung abgeschlossen.\n",
      "\n",
      "Ergebnisse für URL: https://www.eversports.de/s/schwerelos-münster\n",
      "Progress: 94.10%\n",
      "\n",
      "Processing URL 527/559\n",
      "Verarbeite URL: https://www.eversports.de/s/seemannsbraut-poledance-flensburg\n",
      "Starte URL-Rekonstruktion...\n",
      "Error during HTTP request: 404 Client Error: Not Found for url: https://www.eversports.de/s/seemannsbraut-poledance-flensburg\n",
      "Konvertiere in DataFrame...\n",
      "Validiere URLs...\n",
      "Verarbeitung abgeschlossen.\n",
      "\n",
      "Ergebnisse für URL: https://www.eversports.de/s/seemannsbraut-poledance-flensburg\n",
      "Progress: 94.28%\n",
      "\n",
      "Processing URL 528/559\n",
      "Verarbeite URL: https://www.eversports.de/s/pure-body-concepts\n",
      "Starte URL-Rekonstruktion...\n"
     ]
    },
    {
     "name": "stderr",
     "output_type": "stream",
     "text": [
      "2024-01-26 20:32:00,312 - INFO - Processing URL 1/1: https://www.eversports.de/s/pure-body-concepts\n"
     ]
    },
    {
     "name": "stdout",
     "output_type": "stream",
     "text": [
      "Konvertiere in DataFrame...\n",
      "Validiere URLs...\n"
     ]
    },
    {
     "name": "stderr",
     "output_type": "stream",
     "text": [
      "2024-01-26 20:32:02,207 - INFO - URL https://www.eversports.de/s/pure-body-concepts is valid.\n"
     ]
    },
    {
     "name": "stdout",
     "output_type": "stream",
     "text": [
      "Scrape Pole Studio Daten von https://www.eversports.de/s/pure-body-concepts...\n",
      "Verarbeitung abgeschlossen.\n",
      "\n",
      "Ergebnisse für URL: https://www.eversports.de/s/pure-body-concepts\n",
      "Pole Studio Data:\n",
      "\n",
      "\n",
      "Progress: 94.45%\n",
      "\n",
      "Processing URL 529/559\n",
      "Verarbeite URL: https://www.eversports.de/s/poleaddict\n",
      "Starte URL-Rekonstruktion...\n"
     ]
    },
    {
     "name": "stderr",
     "output_type": "stream",
     "text": [
      "2024-01-26 20:32:08,257 - INFO - Processing URL 1/4: https://www.eversports.de/s/poleaddict\n"
     ]
    },
    {
     "name": "stdout",
     "output_type": "stream",
     "text": [
      "Konvertiere in DataFrame...\n",
      "Validiere URLs...\n"
     ]
    },
    {
     "name": "stderr",
     "output_type": "stream",
     "text": [
      "2024-01-26 20:32:09,926 - INFO - URL https://www.eversports.de/s/poleaddict is valid.\n",
      "2024-01-26 20:32:09,927 - INFO - Processing URL 2/4: https://www.eversports.de/scl/poleaddict\n",
      "2024-01-26 20:32:11,504 - INFO - URL https://www.eversports.de/scl/poleaddict is valid.\n",
      "2024-01-26 20:32:11,505 - INFO - Processing URL 3/4: https://www.eversports.de/sp/poleaddict\n",
      "2024-01-26 20:32:12,999 - INFO - URL https://www.eversports.de/sp/poleaddict is valid.\n",
      "2024-01-26 20:32:13,000 - INFO - Processing URL 4/4: https://www.eversports.de/s/poleaddict/team\n",
      "2024-01-26 20:32:14,651 - INFO - URL https://www.eversports.de/s/poleaddict/team is valid.\n"
     ]
    },
    {
     "name": "stdout",
     "output_type": "stream",
     "text": [
      "Scrape Pole Studio Daten von https://www.eversports.de/s/poleaddict...\n",
      "Scrape Klassen Daten von https://www.eversports.de/scl/poleaddict...\n",
      "Verarbeitung abgeschlossen.\n",
      "\n",
      "Ergebnisse für URL: https://www.eversports.de/s/poleaddict\n",
      "Pole Studio Data:\n",
      "\n",
      "\n",
      "Progress: 94.63%\n",
      "\n",
      "Processing URL 530/559\n",
      "Verarbeite URL: https://www.eversports.de/s/Flexx-Arts--Aerial-Dance-&-Fitness\n",
      "Starte URL-Rekonstruktion...\n",
      "Error during HTTP request: 404 Client Error: Not Found for url: https://www.eversports.de/s/Flexx-Arts--Aerial-Dance-&-Fitness\n",
      "Konvertiere in DataFrame...\n",
      "Validiere URLs...\n",
      "Verarbeitung abgeschlossen.\n",
      "\n",
      "Ergebnisse für URL: https://www.eversports.de/s/Flexx-Arts--Aerial-Dance-&-Fitness\n",
      "Progress: 94.81%\n",
      "\n",
      "Processing URL 531/559\n",
      "Verarbeite URL: https://www.eversports.de/s/Aerial-Studio\n",
      "Starte URL-Rekonstruktion...\n"
     ]
    },
    {
     "name": "stderr",
     "output_type": "stream",
     "text": [
      "2024-01-26 20:32:22,239 - INFO - Processing URL 1/5: https://www.eversports.de/s/Aerial-Studio\n"
     ]
    },
    {
     "name": "stdout",
     "output_type": "stream",
     "text": [
      "Konvertiere in DataFrame...\n",
      "Validiere URLs...\n"
     ]
    },
    {
     "name": "stderr",
     "output_type": "stream",
     "text": [
      "2024-01-26 20:32:23,983 - INFO - URL https://www.eversports.de/s/Aerial-Studio is valid.\n",
      "2024-01-26 20:32:23,984 - INFO - Processing URL 2/5: https://www.eversports.de/scl/Aerial-Studio\n",
      "2024-01-26 20:32:25,596 - INFO - URL https://www.eversports.de/scl/Aerial-Studio is not valid.\n",
      "2024-01-26 20:32:25,597 - INFO - Processing URL 3/5: https://www.eversports.de/s/Aerial-Studio/videos\n",
      "2024-01-26 20:32:27,092 - INFO - URL https://www.eversports.de/s/Aerial-Studio/videos is not valid.\n",
      "2024-01-26 20:32:27,093 - INFO - Processing URL 4/5: https://www.eversports.de/sp/Aerial-Studio\n",
      "2024-01-26 20:32:28,671 - INFO - URL https://www.eversports.de/sp/Aerial-Studio is not valid.\n",
      "2024-01-26 20:32:28,673 - INFO - Processing URL 5/5: https://www.eversports.de/s/Aerial-Studio/team\n",
      "2024-01-26 20:32:30,312 - INFO - URL https://www.eversports.de/s/Aerial-Studio/team is valid.\n"
     ]
    },
    {
     "name": "stdout",
     "output_type": "stream",
     "text": [
      "Scrape Pole Studio Daten von https://www.eversports.de/s/Aerial-Studio...\n",
      "Verarbeitung abgeschlossen.\n",
      "\n",
      "Ergebnisse für URL: https://www.eversports.de/s/Aerial-Studio\n",
      "Pole Studio Data:\n",
      "\n",
      "\n",
      "Progress: 94.99%\n",
      "\n",
      "Processing URL 532/559\n",
      "Verarbeite URL: https://www.eversports.de/s/nordpole-studio\n",
      "Starte URL-Rekonstruktion...\n",
      "Error during HTTP request: 404 Client Error: Not Found for url: https://www.eversports.de/s/nordpole-studio\n",
      "Konvertiere in DataFrame...\n",
      "Validiere URLs...\n",
      "Verarbeitung abgeschlossen.\n",
      "\n",
      "Ergebnisse für URL: https://www.eversports.de/s/nordpole-studio\n",
      "Progress: 95.17%\n",
      "\n",
      "Processing URL 533/559\n",
      "Verarbeite URL: https://www.eversports.de/s/poleside\n",
      "Starte URL-Rekonstruktion...\n"
     ]
    },
    {
     "name": "stderr",
     "output_type": "stream",
     "text": [
      "2024-01-26 20:32:34,030 - INFO - Processing URL 1/7: https://www.eversports.de/s/poleside\n"
     ]
    },
    {
     "name": "stdout",
     "output_type": "stream",
     "text": [
      "Konvertiere in DataFrame...\n",
      "Validiere URLs...\n"
     ]
    },
    {
     "name": "stderr",
     "output_type": "stream",
     "text": [
      "2024-01-26 20:32:35,691 - INFO - URL https://www.eversports.de/s/poleside is valid.\n",
      "2024-01-26 20:32:35,693 - INFO - Processing URL 2/7: https://www.eversports.de/scl/poleside\n",
      "2024-01-26 20:32:37,298 - INFO - URL https://www.eversports.de/scl/poleside is valid.\n",
      "2024-01-26 20:32:37,299 - INFO - Processing URL 3/7: https://www.eversports.de/s/poleside/kurse\n",
      "2024-01-26 20:32:38,743 - INFO - URL https://www.eversports.de/s/poleside/kurse is not valid.\n",
      "2024-01-26 20:32:38,744 - INFO - Processing URL 4/7: https://www.eversports.de/sw/poleside\n",
      "2024-01-26 20:32:41,064 - INFO - URL https://www.eversports.de/sw/poleside is valid.\n",
      "2024-01-26 20:32:41,065 - INFO - Processing URL 5/7: https://www.eversports.de/s/poleside/videos\n",
      "2024-01-26 20:32:42,568 - INFO - URL https://www.eversports.de/s/poleside/videos is valid.\n",
      "2024-01-26 20:32:42,569 - INFO - Processing URL 6/7: https://www.eversports.de/sp/poleside\n",
      "2024-01-26 20:32:44,149 - INFO - URL https://www.eversports.de/sp/poleside is valid.\n",
      "2024-01-26 20:32:44,150 - INFO - Processing URL 7/7: https://www.eversports.de/s/poleside/team\n",
      "2024-01-26 20:32:45,794 - INFO - URL https://www.eversports.de/s/poleside/team is valid.\n"
     ]
    },
    {
     "name": "stdout",
     "output_type": "stream",
     "text": [
      "Scrape Pole Studio Daten von https://www.eversports.de/s/poleside...\n",
      "Scrape Klassen Daten von https://www.eversports.de/scl/poleside...\n",
      "Scrape Klassen Details von https://www.eversports.de/scl/poleside...\n",
      "Scrape Workshops Daten von https://www.eversports.de/sw/poleside...\n",
      "Scrape Workshop Details von https://www.eversports.de/e/workshop/llCPKoMLh...\n",
      "Verarbeitung abgeschlossen.\n",
      "\n",
      "Ergebnisse für URL: https://www.eversports.de/s/poleside\n",
      "Pole Studio Data:\n",
      "\n",
      "\n",
      "Classes Data:\n",
      "\n",
      "\n",
      "Classes Details:\n",
      "\n",
      "\n",
      "Workshops Data:\n",
      "\n",
      "\n",
      "Workshop Details:\n",
      "\n",
      "\n",
      "Progress: 95.35%\n",
      "\n",
      "Processing URL 534/559\n",
      "Verarbeite URL: https://www.eversports.de/s/sweatndance\n",
      "Starte URL-Rekonstruktion...\n"
     ]
    },
    {
     "name": "stderr",
     "output_type": "stream",
     "text": [
      "2024-01-26 20:34:09,130 - INFO - Processing URL 1/1: https://www.eversports.de/s/sweatndance\n"
     ]
    },
    {
     "name": "stdout",
     "output_type": "stream",
     "text": [
      "Konvertiere in DataFrame...\n",
      "Validiere URLs...\n"
     ]
    },
    {
     "name": "stderr",
     "output_type": "stream",
     "text": [
      "2024-01-26 20:34:10,883 - INFO - URL https://www.eversports.de/s/sweatndance is valid.\n"
     ]
    },
    {
     "name": "stdout",
     "output_type": "stream",
     "text": [
      "Scrape Pole Studio Daten von https://www.eversports.de/s/sweatndance...\n",
      "Verarbeitung abgeschlossen.\n",
      "\n",
      "Ergebnisse für URL: https://www.eversports.de/s/sweatndance\n",
      "Pole Studio Data:\n",
      "\n",
      "\n",
      "Progress: 95.53%\n",
      "\n",
      "Processing URL 535/559\n",
      "Verarbeite URL: https://www.eversports.de/s/tanzstudio-vi-dance-dortmund\n",
      "Starte URL-Rekonstruktion...\n",
      "Error during HTTP request: 404 Client Error: Not Found for url: https://www.eversports.de/s/tanzstudio-vi-dance-dortmund\n",
      "Konvertiere in DataFrame...\n",
      "Validiere URLs...\n",
      "Verarbeitung abgeschlossen.\n",
      "\n",
      "Ergebnisse für URL: https://www.eversports.de/s/tanzstudio-vi-dance-dortmund\n",
      "Progress: 95.71%\n",
      "\n",
      "Processing URL 536/559\n",
      "Verarbeite URL: https://www.eversports.de/s/vertical-pole-aerial-dance-1\n",
      "Starte URL-Rekonstruktion...\n"
     ]
    },
    {
     "name": "stderr",
     "output_type": "stream",
     "text": [
      "2024-01-26 20:34:14,862 - INFO - Processing URL 1/6: https://www.eversports.de/s/vertical-pole-aerial-dance-1\n"
     ]
    },
    {
     "name": "stdout",
     "output_type": "stream",
     "text": [
      "Konvertiere in DataFrame...\n",
      "Validiere URLs...\n"
     ]
    },
    {
     "name": "stderr",
     "output_type": "stream",
     "text": [
      "2024-01-26 20:34:18,092 - INFO - URL https://www.eversports.de/s/vertical-pole-aerial-dance-1 is valid.\n",
      "2024-01-26 20:34:18,094 - INFO - Processing URL 2/6: https://www.eversports.de/scl/vertical-pole-aerial-dance-1\n",
      "2024-01-26 20:34:19,647 - INFO - URL https://www.eversports.de/scl/vertical-pole-aerial-dance-1 is valid.\n",
      "2024-01-26 20:34:19,648 - INFO - Processing URL 3/6: https://www.eversports.de/sw/vertical-pole-aerial-dance-1\n",
      "2024-01-26 20:34:21,101 - INFO - URL https://www.eversports.de/sw/vertical-pole-aerial-dance-1 is valid.\n",
      "2024-01-26 20:34:21,102 - INFO - Processing URL 4/6: https://www.eversports.de/s/vertical-pole-aerial-dance-1/videos\n",
      "2024-01-26 20:34:22,679 - INFO - URL https://www.eversports.de/s/vertical-pole-aerial-dance-1/videos is valid.\n",
      "2024-01-26 20:34:22,680 - INFO - Processing URL 5/6: https://www.eversports.de/sp/vertical-pole-aerial-dance-1\n",
      "2024-01-26 20:34:24,166 - INFO - URL https://www.eversports.de/sp/vertical-pole-aerial-dance-1 is valid.\n",
      "2024-01-26 20:34:24,167 - INFO - Processing URL 6/6: https://www.eversports.de/s/vertical-pole-aerial-dance-1/team\n",
      "2024-01-26 20:34:25,650 - INFO - URL https://www.eversports.de/s/vertical-pole-aerial-dance-1/team is valid.\n"
     ]
    },
    {
     "name": "stdout",
     "output_type": "stream",
     "text": [
      "Scrape Pole Studio Daten von https://www.eversports.de/s/vertical-pole-aerial-dance-1...\n",
      "Scrape Klassen Daten von https://www.eversports.de/scl/vertical-pole-aerial-dance-1...\n",
      "Scrape Klassen Details von https://www.eversports.de/scl/vertical-pole-aerial-dance-1...\n",
      "Scrape Workshops Daten von https://www.eversports.de/sw/vertical-pole-aerial-dance-1...\n",
      "Scrape Workshop Details von https://www.eversports.de/e/workshop/u2GaG-M...\n",
      "Scrape Workshop Details von https://www.eversports.de/e/workshop/ogqaXAU...\n",
      "Verarbeitung abgeschlossen.\n",
      "\n",
      "Ergebnisse für URL: https://www.eversports.de/s/vertical-pole-aerial-dance-1\n",
      "Pole Studio Data:\n",
      "\n",
      "\n",
      "Classes Data:\n",
      "\n",
      "\n",
      "Classes Details:\n",
      "\n",
      "\n",
      "Workshops Data:\n",
      "\n",
      "\n",
      "Workshop Details:\n",
      "\n",
      "\n",
      "Progress: 95.89%\n",
      "\n",
      "Processing URL 537/559\n",
      "Verarbeite URL: https://www.eversports.de/s/flow-fusion-pole-aerial-dance-studio\n",
      "Starte URL-Rekonstruktion...\n"
     ]
    },
    {
     "name": "stderr",
     "output_type": "stream",
     "text": [
      "2024-01-26 20:35:33,568 - INFO - Processing URL 1/5: https://www.eversports.de/s/flow-fusion-pole-aerial-dance-studio\n"
     ]
    },
    {
     "name": "stdout",
     "output_type": "stream",
     "text": [
      "Konvertiere in DataFrame...\n",
      "Validiere URLs...\n"
     ]
    },
    {
     "name": "stderr",
     "output_type": "stream",
     "text": [
      "2024-01-26 20:35:35,315 - INFO - URL https://www.eversports.de/s/flow-fusion-pole-aerial-dance-studio is valid.\n",
      "2024-01-26 20:35:35,316 - INFO - Processing URL 2/5: https://www.eversports.de/scl/flow-fusion-pole-aerial-dance-studio\n",
      "2024-01-26 20:35:37,010 - INFO - URL https://www.eversports.de/scl/flow-fusion-pole-aerial-dance-studio is valid.\n",
      "2024-01-26 20:35:37,011 - INFO - Processing URL 3/5: https://www.eversports.de/sw/flow-fusion-pole-aerial-dance-studio\n",
      "2024-01-26 20:35:38,563 - INFO - URL https://www.eversports.de/sw/flow-fusion-pole-aerial-dance-studio is valid.\n",
      "2024-01-26 20:35:38,565 - INFO - Processing URL 4/5: https://www.eversports.de/sp/flow-fusion-pole-aerial-dance-studio\n",
      "2024-01-26 20:35:40,083 - INFO - URL https://www.eversports.de/sp/flow-fusion-pole-aerial-dance-studio is valid.\n",
      "2024-01-26 20:35:40,084 - INFO - Processing URL 5/5: https://www.eversports.de/s/flow-fusion-pole-aerial-dance-studio/team\n",
      "2024-01-26 20:35:41,579 - INFO - URL https://www.eversports.de/s/flow-fusion-pole-aerial-dance-studio/team is valid.\n"
     ]
    },
    {
     "name": "stdout",
     "output_type": "stream",
     "text": [
      "Scrape Pole Studio Daten von https://www.eversports.de/s/flow-fusion-pole-aerial-dance-studio...\n",
      "Scrape Klassen Daten von https://www.eversports.de/scl/flow-fusion-pole-aerial-dance-studio...\n",
      "Scrape Klassen Details von https://www.eversports.de/scl/flow-fusion-pole-aerial-dance-studio...\n",
      "Scrape Workshops Daten von https://www.eversports.de/sw/flow-fusion-pole-aerial-dance-studio...\n",
      "Scrape Workshop Details von https://www.eversports.de/e/workshop/pcj6I1Q...\n",
      "Verarbeitung abgeschlossen.\n",
      "\n",
      "Ergebnisse für URL: https://www.eversports.de/s/flow-fusion-pole-aerial-dance-studio\n",
      "Pole Studio Data:\n",
      "\n",
      "\n",
      "Classes Data:\n",
      "\n",
      "\n",
      "Classes Details:\n",
      "\n",
      "\n",
      "Workshops Data:\n",
      "\n",
      "\n",
      "Workshop Details:\n",
      "\n",
      "\n",
      "Progress: 96.06%\n",
      "\n",
      "Processing URL 538/559\n",
      "Verarbeite URL: https://www.eversports.de/s/pole-acrobatics\n",
      "Starte URL-Rekonstruktion...\n"
     ]
    },
    {
     "name": "stderr",
     "output_type": "stream",
     "text": [
      "2024-01-26 20:36:34,502 - INFO - Processing URL 1/6: https://www.eversports.de/s/pole-acrobatics\n"
     ]
    },
    {
     "name": "stdout",
     "output_type": "stream",
     "text": [
      "Konvertiere in DataFrame...\n",
      "Validiere URLs...\n"
     ]
    },
    {
     "name": "stderr",
     "output_type": "stream",
     "text": [
      "2024-01-26 20:36:36,242 - INFO - URL https://www.eversports.de/s/pole-acrobatics is valid.\n",
      "2024-01-26 20:36:36,243 - INFO - Processing URL 2/6: https://www.eversports.de/s/pole-acrobatics/trainings\n",
      "2024-01-26 20:36:37,631 - INFO - URL https://www.eversports.de/s/pole-acrobatics/trainings is not valid.\n",
      "2024-01-26 20:36:37,632 - INFO - Processing URL 3/6: https://www.eversports.de/sw/pole-acrobatics\n",
      "2024-01-26 20:36:39,125 - INFO - URL https://www.eversports.de/sw/pole-acrobatics is valid.\n",
      "2024-01-26 20:36:39,126 - INFO - Processing URL 4/6: https://www.eversports.de/s/pole-acrobatics/videos\n",
      "2024-01-26 20:36:40,649 - INFO - URL https://www.eversports.de/s/pole-acrobatics/videos is valid.\n",
      "2024-01-26 20:36:40,650 - INFO - Processing URL 5/6: https://www.eversports.de/sp/pole-acrobatics\n",
      "2024-01-26 20:36:42,145 - INFO - URL https://www.eversports.de/sp/pole-acrobatics is valid.\n",
      "2024-01-26 20:36:42,146 - INFO - Processing URL 6/6: https://www.eversports.de/s/pole-acrobatics/team\n",
      "2024-01-26 20:36:43,770 - INFO - URL https://www.eversports.de/s/pole-acrobatics/team is valid.\n"
     ]
    },
    {
     "name": "stdout",
     "output_type": "stream",
     "text": [
      "Scrape Pole Studio Daten von https://www.eversports.de/s/pole-acrobatics...\n",
      "Scrape Workshops Daten von https://www.eversports.de/sw/pole-acrobatics...\n",
      "Scrape Workshop Details von https://www.eversports.de/e/workshop/-wGhAaJ...\n",
      "Verarbeitung abgeschlossen.\n",
      "\n",
      "Ergebnisse für URL: https://www.eversports.de/s/pole-acrobatics\n",
      "Pole Studio Data:\n",
      "\n",
      "\n",
      "Workshops Data:\n",
      "\n",
      "\n",
      "Workshop Details:\n",
      "\n",
      "\n",
      "Progress: 96.24%\n",
      "\n",
      "Processing URL 539/559\n",
      "Verarbeite URL: https://www.eversports.de/s/vertical-pole-aerial-dance-aschaffenburg\n",
      "Starte URL-Rekonstruktion...\n",
      "Error during HTTP request: 404 Client Error: Not Found for url: https://www.eversports.de/s/vertical-pole-aerial-dance-aschaffenburg\n",
      "Konvertiere in DataFrame...\n",
      "Validiere URLs...\n",
      "Verarbeitung abgeschlossen.\n",
      "\n",
      "Ergebnisse für URL: https://www.eversports.de/s/vertical-pole-aerial-dance-aschaffenburg\n",
      "Progress: 96.42%\n",
      "\n",
      "Processing URL 540/559\n",
      "Verarbeite URL: https://www.eversports.de/s/polemotions-tübingen\n",
      "Starte URL-Rekonstruktion...\n",
      "Error during HTTP request: Exceeded 30 redirects.\n",
      "Konvertiere in DataFrame...\n",
      "Validiere URLs...\n",
      "Verarbeitung abgeschlossen.\n",
      "\n",
      "Ergebnisse für URL: https://www.eversports.de/s/polemotions-tübingen\n",
      "Progress: 96.60%\n",
      "\n",
      "Processing URL 541/559\n",
      "Verarbeite URL: https://www.eversports.de/s/drehmoment-pole.aerial.dance\n",
      "Starte URL-Rekonstruktion...\n",
      "Error during HTTP request: 404 Client Error: Not Found for url: https://www.eversports.de/s/drehmoment-pole.aerial.dance\n",
      "Konvertiere in DataFrame...\n",
      "Validiere URLs...\n",
      "Verarbeitung abgeschlossen.\n",
      "\n",
      "Ergebnisse für URL: https://www.eversports.de/s/drehmoment-pole.aerial.dance\n",
      "Progress: 96.78%\n",
      "\n",
      "Processing URL 542/559\n",
      "Verarbeite URL: https://www.eversports.de/s/star-poledance\n",
      "Starte URL-Rekonstruktion...\n"
     ]
    },
    {
     "name": "stderr",
     "output_type": "stream",
     "text": [
      "2024-01-26 20:36:55,917 - INFO - Processing URL 1/6: https://www.eversports.de/s/star-poledance\n"
     ]
    },
    {
     "name": "stdout",
     "output_type": "stream",
     "text": [
      "Konvertiere in DataFrame...\n",
      "Validiere URLs...\n"
     ]
    },
    {
     "name": "stderr",
     "output_type": "stream",
     "text": [
      "2024-01-26 20:36:57,734 - INFO - URL https://www.eversports.de/s/star-poledance is valid.\n",
      "2024-01-26 20:36:57,735 - INFO - Processing URL 2/6: https://www.eversports.de/scl/star-poledance\n",
      "2024-01-26 20:36:59,208 - INFO - URL https://www.eversports.de/scl/star-poledance is valid.\n",
      "2024-01-26 20:36:59,209 - INFO - Processing URL 3/6: https://www.eversports.de/sw/star-poledance\n",
      "2024-01-26 20:37:00,748 - INFO - URL https://www.eversports.de/sw/star-poledance is valid.\n",
      "2024-01-26 20:37:00,749 - INFO - Processing URL 4/6: https://www.eversports.de/s/star-poledance/videos\n",
      "2024-01-26 20:37:02,400 - INFO - URL https://www.eversports.de/s/star-poledance/videos is valid.\n",
      "2024-01-26 20:37:02,401 - INFO - Processing URL 5/6: https://www.eversports.de/sp/star-poledance\n",
      "2024-01-26 20:37:04,141 - INFO - URL https://www.eversports.de/sp/star-poledance is valid.\n",
      "2024-01-26 20:37:04,142 - INFO - Processing URL 6/6: https://www.eversports.de/s/star-poledance/team\n",
      "2024-01-26 20:37:05,741 - INFO - URL https://www.eversports.de/s/star-poledance/team is valid.\n"
     ]
    },
    {
     "name": "stdout",
     "output_type": "stream",
     "text": [
      "Scrape Pole Studio Daten von https://www.eversports.de/s/star-poledance...\n",
      "Scrape Klassen Daten von https://www.eversports.de/scl/star-poledance...\n",
      "Scrape Klassen Details von https://www.eversports.de/scl/star-poledance...\n",
      "Scrape Workshops Daten von https://www.eversports.de/sw/star-poledance...\n",
      "Scrape Workshop Details von https://www.eversports.de/e/workshop/Z8xiHKr...\n",
      "Verarbeitung abgeschlossen.\n",
      "\n",
      "Ergebnisse für URL: https://www.eversports.de/s/star-poledance\n",
      "Pole Studio Data:\n",
      "\n",
      "\n",
      "Classes Data:\n",
      "\n",
      "\n",
      "Classes Details:\n",
      "\n",
      "\n",
      "Workshops Data:\n",
      "\n",
      "\n",
      "Workshop Details:\n",
      "\n",
      "\n",
      "Progress: 96.96%\n",
      "\n",
      "Processing URL 543/559\n",
      "Verarbeite URL: https://www.eversports.de/s/Dance-&-Pole-Langenfeld\n",
      "Starte URL-Rekonstruktion...\n",
      "Error during HTTP request: 404 Client Error: Not Found for url: https://www.eversports.de/s/Dance-&-Pole-Langenfeld\n",
      "Konvertiere in DataFrame...\n",
      "Validiere URLs...\n",
      "Verarbeitung abgeschlossen.\n",
      "\n",
      "Ergebnisse für URL: https://www.eversports.de/s/Dance-&-Pole-Langenfeld\n",
      "Progress: 97.14%\n",
      "\n",
      "Processing URL 544/559\n",
      "Verarbeite URL: https://www.eversports.de/s/schwerelos-m%C3%BCnster\n",
      "Starte URL-Rekonstruktion...\n",
      "Error during HTTP request: Exceeded 30 redirects.\n",
      "Konvertiere in DataFrame...\n",
      "Validiere URLs...\n",
      "Verarbeitung abgeschlossen.\n",
      "\n",
      "Ergebnisse für URL: https://www.eversports.de/s/schwerelos-m%C3%BCnster\n",
      "Progress: 97.32%\n",
      "\n",
      "Processing URL 545/559\n",
      "Verarbeite URL: https://www.eversports.de/s/sky-move-pole-sport\n",
      "Starte URL-Rekonstruktion...\n",
      "Error during HTTP request: 404 Client Error: Not Found for url: https://www.eversports.de/s/sky-move-pole-sport\n",
      "Konvertiere in DataFrame...\n",
      "Validiere URLs...\n",
      "Verarbeitung abgeschlossen.\n",
      "\n",
      "Ergebnisse für URL: https://www.eversports.de/s/sky-move-pole-sport\n",
      "Progress: 97.50%\n",
      "\n",
      "Processing URL 546/559\n",
      "Verarbeite URL: https://www.eversports.de/s/polefriends-halle\n",
      "Starte URL-Rekonstruktion...\n"
     ]
    },
    {
     "name": "stderr",
     "output_type": "stream",
     "text": [
      "2024-01-26 20:38:12,082 - INFO - Processing URL 1/5: https://www.eversports.de/s/polefriends-halle\n"
     ]
    },
    {
     "name": "stdout",
     "output_type": "stream",
     "text": [
      "Konvertiere in DataFrame...\n",
      "Validiere URLs...\n"
     ]
    },
    {
     "name": "stderr",
     "output_type": "stream",
     "text": [
      "2024-01-26 20:38:13,769 - INFO - URL https://www.eversports.de/s/polefriends-halle is valid.\n",
      "2024-01-26 20:38:13,770 - INFO - Processing URL 2/5: https://www.eversports.de/scl/polefriends-halle\n",
      "2024-01-26 20:38:15,346 - INFO - URL https://www.eversports.de/scl/polefriends-halle is valid.\n",
      "2024-01-26 20:38:15,347 - INFO - Processing URL 3/5: https://www.eversports.de/sw/polefriends-halle\n",
      "2024-01-26 20:38:17,008 - INFO - URL https://www.eversports.de/sw/polefriends-halle is valid.\n",
      "2024-01-26 20:38:17,009 - INFO - Processing URL 4/5: https://www.eversports.de/sp/polefriends-halle\n",
      "2024-01-26 20:38:18,641 - INFO - URL https://www.eversports.de/sp/polefriends-halle is valid.\n",
      "2024-01-26 20:38:18,642 - INFO - Processing URL 5/5: https://www.eversports.de/s/polefriends-halle/team\n",
      "2024-01-26 20:38:20,176 - INFO - URL https://www.eversports.de/s/polefriends-halle/team is valid.\n"
     ]
    },
    {
     "name": "stdout",
     "output_type": "stream",
     "text": [
      "Scrape Pole Studio Daten von https://www.eversports.de/s/polefriends-halle...\n",
      "Scrape Klassen Daten von https://www.eversports.de/scl/polefriends-halle...\n",
      "Scrape Klassen Details von https://www.eversports.de/scl/polefriends-halle...\n",
      "Scrape Workshops Daten von https://www.eversports.de/sw/polefriends-halle...\n",
      "Scrape Workshop Details von https://www.eversports.de/e/workshop/NMiVGZD...\n",
      "Verarbeitung abgeschlossen.\n",
      "\n",
      "Ergebnisse für URL: https://www.eversports.de/s/polefriends-halle\n",
      "Pole Studio Data:\n",
      "\n",
      "\n",
      "Classes Data:\n",
      "\n",
      "\n",
      "Classes Details:\n",
      "\n",
      "\n",
      "Workshops Data:\n",
      "\n",
      "\n",
      "Workshop Details:\n",
      "\n",
      "\n",
      "Progress: 97.67%\n",
      "\n",
      "Processing URL 547/559\n",
      "Verarbeite URL: https://www.eversports.de/s/annis-pole-dance-uetersen\n",
      "Starte URL-Rekonstruktion...\n"
     ]
    },
    {
     "name": "stderr",
     "output_type": "stream",
     "text": [
      "2024-01-26 20:39:55,157 - INFO - Processing URL 1/5: https://www.eversports.de/s/annis-pole-dance-uetersen\n"
     ]
    },
    {
     "name": "stdout",
     "output_type": "stream",
     "text": [
      "Konvertiere in DataFrame...\n",
      "Validiere URLs...\n"
     ]
    },
    {
     "name": "stderr",
     "output_type": "stream",
     "text": [
      "2024-01-26 20:39:56,848 - INFO - URL https://www.eversports.de/s/annis-pole-dance-uetersen is valid.\n",
      "2024-01-26 20:39:56,849 - INFO - Processing URL 2/5: https://www.eversports.de/scl/annis-pole-dance-uetersen\n",
      "2024-01-26 20:39:58,419 - INFO - URL https://www.eversports.de/scl/annis-pole-dance-uetersen is valid.\n",
      "2024-01-26 20:39:58,420 - INFO - Processing URL 3/5: https://www.eversports.de/s/annis-pole-dance-uetersen/trainings\n",
      "2024-01-26 20:39:59,836 - INFO - URL https://www.eversports.de/s/annis-pole-dance-uetersen/trainings is not valid.\n",
      "2024-01-26 20:39:59,837 - INFO - Processing URL 4/5: https://www.eversports.de/s/annis-pole-dance-uetersen/kurse\n",
      "2024-01-26 20:40:01,242 - INFO - URL https://www.eversports.de/s/annis-pole-dance-uetersen/kurse is not valid.\n",
      "2024-01-26 20:40:01,244 - INFO - Processing URL 5/5: https://www.eversports.de/s/annis-pole-dance-uetersen/team\n",
      "2024-01-26 20:40:02,720 - INFO - URL https://www.eversports.de/s/annis-pole-dance-uetersen/team is valid.\n"
     ]
    },
    {
     "name": "stdout",
     "output_type": "stream",
     "text": [
      "Scrape Pole Studio Daten von https://www.eversports.de/s/annis-pole-dance-uetersen...\n",
      "Scrape Klassen Daten von https://www.eversports.de/scl/annis-pole-dance-uetersen...\n",
      "Scrape Klassen Details von https://www.eversports.de/scl/annis-pole-dance-uetersen...\n",
      "Verarbeitung abgeschlossen.\n",
      "\n",
      "Ergebnisse für URL: https://www.eversports.de/s/annis-pole-dance-uetersen\n",
      "Pole Studio Data:\n",
      "\n",
      "\n",
      "Classes Data:\n",
      "\n",
      "\n",
      "Classes Details:\n",
      "\n",
      "\n",
      "Progress: 97.85%\n",
      "\n",
      "Processing URL 548/559\n",
      "Verarbeite URL: https://www.eversports.de/s/pole-dance-mettingen\n",
      "Starte URL-Rekonstruktion...\n",
      "Error during HTTP request: 404 Client Error: Not Found for url: https://www.eversports.de/s/pole-dance-mettingen\n",
      "Konvertiere in DataFrame...\n",
      "Validiere URLs...\n",
      "Verarbeitung abgeschlossen.\n",
      "\n",
      "Ergebnisse für URL: https://www.eversports.de/s/pole-dance-mettingen\n",
      "Progress: 98.03%\n",
      "\n",
      "Processing URL 549/559\n",
      "Verarbeite URL: https://www.eversports.de/s/move-on-dance-studio-and-polemotions\n",
      "Starte URL-Rekonstruktion...\n"
     ]
    },
    {
     "name": "stderr",
     "output_type": "stream",
     "text": [
      "2024-01-26 20:40:37,691 - INFO - Processing URL 1/6: https://www.eversports.de/s/move-on-dance-studio-and-polemotions\n"
     ]
    },
    {
     "name": "stdout",
     "output_type": "stream",
     "text": [
      "Konvertiere in DataFrame...\n",
      "Validiere URLs...\n"
     ]
    },
    {
     "name": "stderr",
     "output_type": "stream",
     "text": [
      "2024-01-26 20:40:39,421 - INFO - URL https://www.eversports.de/s/move-on-dance-studio-and-polemotions is valid.\n",
      "2024-01-26 20:40:39,423 - INFO - Processing URL 2/6: https://www.eversports.de/scl/move-on-dance-studio-and-polemotions\n",
      "2024-01-26 20:40:41,204 - INFO - URL https://www.eversports.de/scl/move-on-dance-studio-and-polemotions is valid.\n",
      "2024-01-26 20:40:41,205 - INFO - Processing URL 3/6: https://www.eversports.de/s/move-on-dance-studio-and-polemotions/kurse\n",
      "2024-01-26 20:40:42,597 - INFO - URL https://www.eversports.de/s/move-on-dance-studio-and-polemotions/kurse is not valid.\n",
      "2024-01-26 20:40:42,598 - INFO - Processing URL 4/6: https://www.eversports.de/sw/move-on-dance-studio-and-polemotions\n",
      "2024-01-26 20:40:44,094 - INFO - URL https://www.eversports.de/sw/move-on-dance-studio-and-polemotions is valid.\n",
      "2024-01-26 20:40:44,096 - INFO - Processing URL 5/6: https://www.eversports.de/sp/move-on-dance-studio-and-polemotions\n",
      "2024-01-26 20:40:45,917 - INFO - URL https://www.eversports.de/sp/move-on-dance-studio-and-polemotions is valid.\n",
      "2024-01-26 20:40:45,918 - INFO - Processing URL 6/6: https://www.eversports.de/s/move-on-dance-studio-and-polemotions/team\n",
      "2024-01-26 20:40:47,550 - INFO - URL https://www.eversports.de/s/move-on-dance-studio-and-polemotions/team is valid.\n"
     ]
    },
    {
     "name": "stdout",
     "output_type": "stream",
     "text": [
      "Scrape Pole Studio Daten von https://www.eversports.de/s/move-on-dance-studio-and-polemotions...\n",
      "Scrape Klassen Daten von https://www.eversports.de/scl/move-on-dance-studio-and-polemotions...\n",
      "Scrape Klassen Details von https://www.eversports.de/scl/move-on-dance-studio-and-polemotions...\n",
      "Fehler beim Abrufen der Webseite\n",
      "Scrape Workshops Daten von https://www.eversports.de/sw/move-on-dance-studio-and-polemotions...\n",
      "Scrape Workshop Details von https://www.eversports.de/e/workshop/1i9L-3q...\n",
      "Verarbeitung abgeschlossen.\n",
      "\n",
      "Ergebnisse für URL: https://www.eversports.de/s/move-on-dance-studio-and-polemotions\n",
      "Pole Studio Data:\n",
      "\n",
      "\n",
      "Classes Data:\n",
      "\n",
      "\n",
      "Classes Details:\n",
      "\n",
      "\n",
      "Workshops Data:\n",
      "\n",
      "\n",
      "Workshop Details:\n",
      "\n",
      "\n",
      "Progress: 98.21%\n",
      "\n",
      "Processing URL 550/559\n",
      "Verarbeite URL: https://www.eversports.de/s/feel-good-factory-pole-stretch-fly\n",
      "Starte URL-Rekonstruktion...\n"
     ]
    },
    {
     "name": "stderr",
     "output_type": "stream",
     "text": [
      "2024-01-26 20:44:04,788 - INFO - Processing URL 1/7: https://www.eversports.de/s/feel-good-factory-pole-stretch-fly\n"
     ]
    },
    {
     "name": "stdout",
     "output_type": "stream",
     "text": [
      "Konvertiere in DataFrame...\n",
      "Validiere URLs...\n"
     ]
    },
    {
     "name": "stderr",
     "output_type": "stream",
     "text": [
      "2024-01-26 20:44:06,554 - INFO - URL https://www.eversports.de/s/feel-good-factory-pole-stretch-fly is valid.\n",
      "2024-01-26 20:44:06,556 - INFO - Processing URL 2/7: https://www.eversports.de/scl/feel-good-factory-pole-stretch-fly\n",
      "2024-01-26 20:44:08,108 - INFO - URL https://www.eversports.de/scl/feel-good-factory-pole-stretch-fly is valid.\n",
      "2024-01-26 20:44:08,109 - INFO - Processing URL 3/7: https://www.eversports.de/s/feel-good-factory-pole-stretch-fly/kurse\n",
      "2024-01-26 20:44:09,825 - INFO - URL https://www.eversports.de/s/feel-good-factory-pole-stretch-fly/kurse is not valid.\n",
      "2024-01-26 20:44:09,828 - INFO - Processing URL 4/7: https://www.eversports.de/s/feel-good-factory-pole-stretch-fly/events\n",
      "2024-01-26 20:44:11,495 - INFO - URL https://www.eversports.de/s/feel-good-factory-pole-stretch-fly/events is not valid.\n",
      "2024-01-26 20:44:11,497 - INFO - Processing URL 5/7: https://www.eversports.de/s/feel-good-factory-pole-stretch-fly/videos\n",
      "2024-01-26 20:44:13,091 - INFO - URL https://www.eversports.de/s/feel-good-factory-pole-stretch-fly/videos is valid.\n",
      "2024-01-26 20:44:13,092 - INFO - Processing URL 6/7: https://www.eversports.de/sp/feel-good-factory-pole-stretch-fly\n",
      "2024-01-26 20:44:14,763 - INFO - URL https://www.eversports.de/sp/feel-good-factory-pole-stretch-fly is valid.\n",
      "2024-01-26 20:44:14,767 - INFO - Processing URL 7/7: https://www.eversports.de/s/feel-good-factory-pole-stretch-fly/team\n",
      "2024-01-26 20:44:16,461 - INFO - URL https://www.eversports.de/s/feel-good-factory-pole-stretch-fly/team is valid.\n"
     ]
    },
    {
     "name": "stdout",
     "output_type": "stream",
     "text": [
      "Scrape Pole Studio Daten von https://www.eversports.de/s/feel-good-factory-pole-stretch-fly...\n",
      "Scrape Klassen Daten von https://www.eversports.de/scl/feel-good-factory-pole-stretch-fly...\n",
      "Scrape Klassen Details von https://www.eversports.de/scl/feel-good-factory-pole-stretch-fly...\n",
      "Verarbeitung abgeschlossen.\n",
      "\n",
      "Ergebnisse für URL: https://www.eversports.de/s/feel-good-factory-pole-stretch-fly\n",
      "Pole Studio Data:\n",
      "\n",
      "\n",
      "Classes Data:\n",
      "\n",
      "\n",
      "Classes Details:\n",
      "\n",
      "\n",
      "Progress: 98.39%\n",
      "\n",
      "Processing URL 551/559\n",
      "Verarbeite URL: https://www.eversports.de/s/polemagique\n",
      "Starte URL-Rekonstruktion...\n",
      "Error during HTTP request: 404 Client Error: Not Found for url: https://www.eversports.de/s/polemagique\n",
      "Konvertiere in DataFrame...\n",
      "Validiere URLs...\n",
      "Verarbeitung abgeschlossen.\n",
      "\n",
      "Ergebnisse für URL: https://www.eversports.de/s/polemagique\n",
      "Progress: 98.57%\n",
      "\n",
      "Processing URL 552/559\n",
      "Verarbeite URL: https://www.eversports.de/s/pole-oase\n",
      "Starte URL-Rekonstruktion...\n"
     ]
    },
    {
     "name": "stderr",
     "output_type": "stream",
     "text": [
      "2024-01-26 20:45:00,261 - INFO - Processing URL 1/5: https://www.eversports.de/s/pole-oase\n"
     ]
    },
    {
     "name": "stdout",
     "output_type": "stream",
     "text": [
      "Konvertiere in DataFrame...\n",
      "Validiere URLs...\n"
     ]
    },
    {
     "name": "stderr",
     "output_type": "stream",
     "text": [
      "2024-01-26 20:45:02,327 - INFO - URL https://www.eversports.de/s/pole-oase is valid.\n",
      "2024-01-26 20:45:02,328 - INFO - Processing URL 2/5: https://www.eversports.de/scl/pole-oase\n",
      "2024-01-26 20:45:04,299 - INFO - URL https://www.eversports.de/scl/pole-oase is valid.\n",
      "2024-01-26 20:45:04,300 - INFO - Processing URL 3/5: https://www.eversports.de/sw/pole-oase\n",
      "2024-01-26 20:45:05,913 - INFO - URL https://www.eversports.de/sw/pole-oase is valid.\n",
      "2024-01-26 20:45:05,914 - INFO - Processing URL 4/5: https://www.eversports.de/sp/pole-oase\n",
      "2024-01-26 20:45:07,704 - INFO - URL https://www.eversports.de/sp/pole-oase is valid.\n",
      "2024-01-26 20:45:07,705 - INFO - Processing URL 5/5: https://www.eversports.de/s/pole-oase/team\n",
      "2024-01-26 20:45:09,213 - INFO - URL https://www.eversports.de/s/pole-oase/team is valid.\n"
     ]
    },
    {
     "name": "stdout",
     "output_type": "stream",
     "text": [
      "Scrape Pole Studio Daten von https://www.eversports.de/s/pole-oase...\n",
      "Scrape Klassen Daten von https://www.eversports.de/scl/pole-oase...\n",
      "Scrape Klassen Details von https://www.eversports.de/scl/pole-oase...\n",
      "Scrape Workshops Daten von https://www.eversports.de/sw/pole-oase...\n",
      "Scrape Workshop Details von https://www.eversports.de/e/workshop/9cNbxVS...\n",
      "Scrape Workshop Details von https://www.eversports.de/e/workshop/FkutCDr...\n",
      "Scrape Workshop Details von https://www.eversports.de/e/workshop/qzt25WB...\n",
      "Verarbeitung abgeschlossen.\n",
      "\n",
      "Ergebnisse für URL: https://www.eversports.de/s/pole-oase\n",
      "Pole Studio Data:\n",
      "\n",
      "\n",
      "Classes Data:\n",
      "\n",
      "\n",
      "Classes Details:\n",
      "\n",
      "\n",
      "Workshops Data:\n",
      "\n",
      "\n",
      "Workshop Details:\n",
      "\n",
      "\n",
      "Progress: 98.75%\n",
      "\n",
      "Processing URL 553/559\n",
      "Verarbeite URL: https://www.eversports.de/s/Pole-and-Move-Ketsch\n",
      "Starte URL-Rekonstruktion...\n"
     ]
    },
    {
     "name": "stderr",
     "output_type": "stream",
     "text": [
      "2024-01-26 20:45:59,530 - INFO - Processing URL 1/5: https://www.eversports.de/s/Pole-and-Move-Ketsch\n"
     ]
    },
    {
     "name": "stdout",
     "output_type": "stream",
     "text": [
      "Konvertiere in DataFrame...\n",
      "Validiere URLs...\n"
     ]
    },
    {
     "name": "stderr",
     "output_type": "stream",
     "text": [
      "2024-01-26 20:46:01,424 - INFO - URL https://www.eversports.de/s/Pole-and-Move-Ketsch is valid.\n",
      "2024-01-26 20:46:01,426 - INFO - Processing URL 2/5: https://www.eversports.de/scl/Pole-and-Move-Ketsch\n",
      "2024-01-26 20:46:03,083 - INFO - URL https://www.eversports.de/scl/Pole-and-Move-Ketsch is valid.\n",
      "2024-01-26 20:46:03,085 - INFO - Processing URL 3/5: https://www.eversports.de/sw/Pole-and-Move-Ketsch\n",
      "2024-01-26 20:46:05,018 - INFO - URL https://www.eversports.de/sw/Pole-and-Move-Ketsch is valid.\n",
      "2024-01-26 20:46:05,019 - INFO - Processing URL 4/5: https://www.eversports.de/sp/Pole-and-Move-Ketsch\n",
      "2024-01-26 20:46:08,483 - INFO - URL https://www.eversports.de/sp/Pole-and-Move-Ketsch is valid.\n",
      "2024-01-26 20:46:08,484 - INFO - Processing URL 5/5: https://www.eversports.de/s/Pole-and-Move-Ketsch/team\n",
      "2024-01-26 20:46:10,702 - INFO - URL https://www.eversports.de/s/Pole-and-Move-Ketsch/team is valid.\n"
     ]
    },
    {
     "name": "stdout",
     "output_type": "stream",
     "text": [
      "Scrape Pole Studio Daten von https://www.eversports.de/s/Pole-and-Move-Ketsch...\n",
      "Scrape Klassen Daten von https://www.eversports.de/scl/Pole-and-Move-Ketsch...\n",
      "Scrape Klassen Details von https://www.eversports.de/scl/Pole-and-Move-Ketsch...\n",
      "Fehler beim Abrufen der Webseite\n",
      "Scrape Workshops Daten von https://www.eversports.de/sw/Pole-and-Move-Ketsch...\n",
      "Scrape Workshop Details von https://www.eversports.de/e/workshop/d8-2jYm...\n",
      "Scrape Workshop Details von https://www.eversports.de/e/workshop/m2bIKF_...\n",
      "Scrape Workshop Details von https://www.eversports.de/e/workshop/nZwqDWw...\n",
      "Scrape Workshop Details von https://www.eversports.de/e/workshop/NCNYd8p...\n",
      "Verarbeitung abgeschlossen.\n",
      "\n",
      "Ergebnisse für URL: https://www.eversports.de/s/Pole-and-Move-Ketsch\n",
      "Pole Studio Data:\n",
      "\n",
      "\n",
      "Classes Data:\n",
      "\n",
      "\n",
      "Classes Details:\n",
      "\n",
      "\n",
      "Workshops Data:\n",
      "\n",
      "\n",
      "Workshop Details:\n",
      "\n",
      "\n",
      "Progress: 98.93%\n",
      "\n",
      "Processing URL 554/559\n",
      "Verarbeite URL: https://www.eversports.de/s/Papillon-Dance-and-Sport-Academy\n",
      "Starte URL-Rekonstruktion...\n"
     ]
    },
    {
     "name": "stderr",
     "output_type": "stream",
     "text": [
      "2024-01-26 20:47:33,852 - INFO - Processing URL 1/4: https://www.eversports.de/s/Papillon-Dance-and-Sport-Academy\n"
     ]
    },
    {
     "name": "stdout",
     "output_type": "stream",
     "text": [
      "Konvertiere in DataFrame...\n",
      "Validiere URLs...\n"
     ]
    },
    {
     "name": "stderr",
     "output_type": "stream",
     "text": [
      "2024-01-26 20:47:35,624 - INFO - URL https://www.eversports.de/s/Papillon-Dance-and-Sport-Academy is valid.\n",
      "2024-01-26 20:47:35,626 - INFO - Processing URL 2/4: https://www.eversports.de/scl/Papillon-Dance-and-Sport-Academy\n",
      "2024-01-26 20:47:37,151 - INFO - URL https://www.eversports.de/scl/Papillon-Dance-and-Sport-Academy is valid.\n",
      "2024-01-26 20:47:37,152 - INFO - Processing URL 3/4: https://www.eversports.de/sp/Papillon-Dance-and-Sport-Academy\n",
      "2024-01-26 20:47:39,039 - INFO - URL https://www.eversports.de/sp/Papillon-Dance-and-Sport-Academy is valid.\n",
      "2024-01-26 20:47:39,040 - INFO - Processing URL 4/4: https://www.eversports.de/s/Papillon-Dance-and-Sport-Academy/team\n",
      "2024-01-26 20:47:40,668 - INFO - URL https://www.eversports.de/s/Papillon-Dance-and-Sport-Academy/team is valid.\n"
     ]
    },
    {
     "name": "stdout",
     "output_type": "stream",
     "text": [
      "Scrape Pole Studio Daten von https://www.eversports.de/s/Papillon-Dance-and-Sport-Academy...\n",
      "Scrape Klassen Daten von https://www.eversports.de/scl/Papillon-Dance-and-Sport-Academy...\n",
      "Scrape Klassen Details von https://www.eversports.de/scl/Papillon-Dance-and-Sport-Academy...\n",
      "Verarbeitung abgeschlossen.\n",
      "\n",
      "Ergebnisse für URL: https://www.eversports.de/s/Papillon-Dance-and-Sport-Academy\n",
      "Pole Studio Data:\n",
      "\n",
      "\n",
      "Classes Data:\n",
      "\n",
      "\n",
      "Classes Details:\n",
      "\n",
      "\n",
      "Progress: 99.11%\n",
      "\n",
      "Processing URL 555/559\n",
      "Verarbeite URL: https://www.eversports.de/s/polevybe\n",
      "Starte URL-Rekonstruktion...\n",
      "Error during HTTP request: 404 Client Error: Not Found for url: https://www.eversports.de/s/polevybe\n",
      "Konvertiere in DataFrame...\n",
      "Validiere URLs...\n",
      "Verarbeitung abgeschlossen.\n",
      "\n",
      "Ergebnisse für URL: https://www.eversports.de/s/polevybe\n",
      "Progress: 99.28%\n",
      "\n",
      "Processing URL 556/559\n",
      "Verarbeite URL: https://www.eversports.de/s/Anni's-Pole-Dance-Neumünster\n",
      "Starte URL-Rekonstruktion...\n",
      "Error during HTTP request: 404 Client Error: Not Found for url: https://www.eversports.de/s/Anni's-Pole-Dance-Neum%C3%BCnster\n",
      "Konvertiere in DataFrame...\n",
      "Validiere URLs...\n",
      "Verarbeitung abgeschlossen.\n",
      "\n",
      "Ergebnisse für URL: https://www.eversports.de/s/Anni's-Pole-Dance-Neumünster\n",
      "Progress: 99.46%\n",
      "\n",
      "Processing URL 557/559\n",
      "Verarbeite URL: https://www.eversports.de/s/center-of-moving-arts\n",
      "Starte URL-Rekonstruktion...\n"
     ]
    },
    {
     "name": "stderr",
     "output_type": "stream",
     "text": [
      "2024-01-26 20:48:52,933 - INFO - Processing URL 1/4: https://www.eversports.de/s/center-of-moving-arts\n"
     ]
    },
    {
     "name": "stdout",
     "output_type": "stream",
     "text": [
      "Konvertiere in DataFrame...\n",
      "Validiere URLs...\n"
     ]
    },
    {
     "name": "stderr",
     "output_type": "stream",
     "text": [
      "2024-01-26 20:48:54,797 - INFO - URL https://www.eversports.de/s/center-of-moving-arts is valid.\n",
      "2024-01-26 20:48:54,798 - INFO - Processing URL 2/4: https://www.eversports.de/scl/center-of-moving-arts\n",
      "2024-01-26 20:48:56,561 - INFO - URL https://www.eversports.de/scl/center-of-moving-arts is valid.\n",
      "2024-01-26 20:48:56,562 - INFO - Processing URL 3/4: https://www.eversports.de/sp/center-of-moving-arts\n",
      "2024-01-26 20:48:58,155 - INFO - URL https://www.eversports.de/sp/center-of-moving-arts is valid.\n",
      "2024-01-26 20:48:58,156 - INFO - Processing URL 4/4: https://www.eversports.de/s/center-of-moving-arts/team\n",
      "2024-01-26 20:48:59,888 - INFO - URL https://www.eversports.de/s/center-of-moving-arts/team is valid.\n"
     ]
    },
    {
     "name": "stdout",
     "output_type": "stream",
     "text": [
      "Scrape Pole Studio Daten von https://www.eversports.de/s/center-of-moving-arts...\n",
      "Scrape Klassen Daten von https://www.eversports.de/scl/center-of-moving-arts...\n",
      "Scrape Klassen Details von https://www.eversports.de/scl/center-of-moving-arts...\n",
      "Verarbeitung abgeschlossen.\n",
      "\n",
      "Ergebnisse für URL: https://www.eversports.de/s/center-of-moving-arts\n",
      "Pole Studio Data:\n",
      "\n",
      "\n",
      "Classes Data:\n",
      "\n",
      "\n",
      "Classes Details:\n",
      "\n",
      "\n",
      "Progress: 99.64%\n",
      "\n",
      "Processing URL 558/559\n",
      "Verarbeite URL: https://www.eversports.de/s/luftbonbon\n",
      "Starte URL-Rekonstruktion...\n"
     ]
    },
    {
     "name": "stderr",
     "output_type": "stream",
     "text": [
      "2024-01-26 20:52:27,497 - INFO - Processing URL 1/5: https://www.eversports.de/s/luftbonbon\n"
     ]
    },
    {
     "name": "stdout",
     "output_type": "stream",
     "text": [
      "Konvertiere in DataFrame...\n",
      "Validiere URLs...\n"
     ]
    },
    {
     "name": "stderr",
     "output_type": "stream",
     "text": [
      "2024-01-26 20:52:29,114 - INFO - URL https://www.eversports.de/s/luftbonbon is valid.\n",
      "2024-01-26 20:52:29,115 - INFO - Processing URL 2/5: https://www.eversports.de/scl/luftbonbon\n",
      "2024-01-26 20:52:30,643 - INFO - URL https://www.eversports.de/scl/luftbonbon is valid.\n",
      "2024-01-26 20:52:30,644 - INFO - Processing URL 3/5: https://www.eversports.de/sw/luftbonbon\n",
      "2024-01-26 20:52:32,186 - INFO - URL https://www.eversports.de/sw/luftbonbon is valid.\n",
      "2024-01-26 20:52:32,188 - INFO - Processing URL 4/5: https://www.eversports.de/sp/luftbonbon\n",
      "2024-01-26 20:52:33,646 - INFO - URL https://www.eversports.de/sp/luftbonbon is valid.\n",
      "2024-01-26 20:52:33,647 - INFO - Processing URL 5/5: https://www.eversports.de/s/luftbonbon/team\n",
      "2024-01-26 20:52:35,199 - INFO - URL https://www.eversports.de/s/luftbonbon/team is valid.\n"
     ]
    },
    {
     "name": "stdout",
     "output_type": "stream",
     "text": [
      "Scrape Pole Studio Daten von https://www.eversports.de/s/luftbonbon...\n",
      "Scrape Klassen Daten von https://www.eversports.de/scl/luftbonbon...\n",
      "Scrape Klassen Details von https://www.eversports.de/scl/luftbonbon...\n",
      "Scrape Workshops Daten von https://www.eversports.de/sw/luftbonbon...\n",
      "Scrape Workshop Details von https://www.eversports.de/e/workshop/60kU5cU...\n",
      "Verarbeitung abgeschlossen.\n",
      "\n",
      "Ergebnisse für URL: https://www.eversports.de/s/luftbonbon\n",
      "Pole Studio Data:\n",
      "\n",
      "\n",
      "Classes Data:\n",
      "\n",
      "\n",
      "Classes Details:\n",
      "\n",
      "\n",
      "Workshops Data:\n",
      "\n",
      "\n",
      "Workshop Details:\n",
      "\n",
      "\n",
      "Progress: 99.82%\n",
      "\n",
      "Processing URL 559/559\n",
      "Verarbeite URL: https://www.eversports.de/s/lustforlife.studio\n",
      "Starte URL-Rekonstruktion...\n",
      "Error during HTTP request: 404 Client Error: Not Found for url: https://www.eversports.de/s/lustforlife.studio\n",
      "Konvertiere in DataFrame...\n",
      "Validiere URLs...\n",
      "Verarbeitung abgeschlossen.\n",
      "\n",
      "Ergebnisse für URL: https://www.eversports.de/s/lustforlife.studio\n",
      "Progress: 100.00%\n",
      "\n",
      "Gesammelte Pole Studio Daten:\n",
      "268\n",
      "\n",
      "Gesammelte Workshops Daten:\n",
      "458\n",
      "\n",
      "Gesammelte Workshop Details Daten:\n",
      "457\n",
      "\n",
      "Gesammelte Klassen Daten:\n",
      "8654\n",
      "\n",
      "Gesammelte Klassen Details Daten:\n",
      "8646\n"
     ]
    }
   ],
   "source": [
    "# Funktion, um die Ergebnisse für eine URL zu verarbeiten und zu speichern\n",
    "def process_and_print_results(url):\n",
    "    print(f\"Verarbeite URL: {url}\")\n",
    "    data = process_urls([url])  # Eine Liste übergeben\n",
    "\n",
    "    if data:  # Überprüfen, ob Daten vorhanden sind\n",
    "        print(f\"\\nErgebnisse für URL: {url}\")\n",
    "        for key, df in data.items():\n",
    "            if df is not None and not df.empty:\n",
    "                print(f\"{key.replace('_', ' ').title()}:\")\n",
    "                #print(df)\n",
    "                print(\"\\n\")\n",
    "        return data\n",
    "    else:\n",
    "        print(f\"Keine Daten gefunden für URL: {url}\")\n",
    "        return None\n",
    "\n",
    "# # Einlesen der Pole Studios aus einer CSV-Datei\n",
    "# polestudios = pd.read_csv(\"validated_polestudios_V2.csv\")\n",
    "# initial_urls = polestudios[\"Eversports Pole Studio Seite\"][:2].to_list()\n",
    "\n",
    "# Initialisieren der DataFrames für jede Datenkategorie\n",
    "all_pole_studio_data = pd.DataFrame()\n",
    "all_workshops_data = pd.DataFrame()\n",
    "all_workshop_details_data = pd.DataFrame()\n",
    "all_classes_data = pd.DataFrame()\n",
    "all_classes_details_data = pd.DataFrame()\n",
    "\n",
    "# Schleife über jede URL in der Liste\n",
    "total_urls = len(initial_urls)\n",
    "for i, url in enumerate(initial_urls, start=1):\n",
    "    print(f\"Processing URL {i}/{total_urls}\")\n",
    "    data = process_and_print_results(url)\n",
    "    if data:\n",
    "        # Daten zu den entsprechenden DataFrames hinzufügen\n",
    "        if 'pole_studio_data' in data and not data['pole_studio_data'].empty:\n",
    "            all_pole_studio_data = pd.concat([all_pole_studio_data, data['pole_studio_data']], ignore_index=True)\n",
    "        \n",
    "        if 'workshops_data' in data and not data['workshops_data'].empty:\n",
    "            all_workshops_data = pd.concat([all_workshops_data, data['workshops_data']], ignore_index=True)\n",
    "        \n",
    "        if 'workshop_details' in data and not data['workshop_details'].empty:\n",
    "            all_workshop_details_data = pd.concat([all_workshop_details_data, data['workshop_details']], ignore_index=True)\n",
    "        \n",
    "        if 'classes_data' in data and not data['classes_data'].empty:\n",
    "            all_classes_data = pd.concat([all_classes_data, data['classes_data']], ignore_index=True)\n",
    "        \n",
    "        if 'classes_details' in data and not data['classes_details'].empty:\n",
    "            all_classes_details_data = pd.concat([all_classes_details_data, data['classes_details']], ignore_index=True)\n",
    "\n",
    "    # Display progress\n",
    "    progress_percent = (i / total_urls) * 100\n",
    "    print(f\"Progress: {progress_percent:.2f}%\\n\")\n"
   ]
  },
  {
   "cell_type": "code",
   "execution_count": 27,
   "metadata": {},
   "outputs": [
    {
     "data": {
      "text/html": [
       "<div>\n",
       "<style scoped>\n",
       "    .dataframe tbody tr th:only-of-type {\n",
       "        vertical-align: middle;\n",
       "    }\n",
       "\n",
       "    .dataframe tbody tr th {\n",
       "        vertical-align: top;\n",
       "    }\n",
       "\n",
       "    .dataframe thead th {\n",
       "        text-align: right;\n",
       "    }\n",
       "</style>\n",
       "<table border=\"1\" class=\"dataframe\">\n",
       "  <thead>\n",
       "    <tr style=\"text-align: right;\">\n",
       "      <th></th>\n",
       "      <th>PoleStudio_Name</th>\n",
       "      <th>Adresse</th>\n",
       "      <th>PLZ</th>\n",
       "      <th>Stadt</th>\n",
       "      <th>Straße</th>\n",
       "      <th>Buttons</th>\n",
       "      <th>Pole Studio Beschreibung</th>\n",
       "      <th>Ratingscore</th>\n",
       "      <th>Reviewanzahl</th>\n",
       "      <th>Rating Faktoren</th>\n",
       "      <th>E-Mail</th>\n",
       "      <th>Homepage</th>\n",
       "      <th>Telefon</th>\n",
       "      <th>URL_S</th>\n",
       "      <th>Art</th>\n",
       "      <th>Angebot</th>\n",
       "      <th>Bildergalerie</th>\n",
       "      <th>Created Date</th>\n",
       "      <th>Updated Date</th>\n",
       "    </tr>\n",
       "  </thead>\n",
       "  <tbody>\n",
       "    <tr>\n",
       "      <th>0</th>\n",
       "      <td>The Pole Jungle</td>\n",
       "      <td>[Volksgartenstraße 19 ,  4020 Linz]</td>\n",
       "      <td>4020</td>\n",
       "      <td>Linz</td>\n",
       "      <td>Volksgartenstraße 19</td>\n",
       "      <td>[Übersicht, Klassen, Trainings, Kurse, Worksho...</td>\n",
       "      <td>Wie der Name bereits sagt erwartet euch ein gr...</td>\n",
       "      <td>5</td>\n",
       "      <td>11 Rezensionen</td>\n",
       "      <td>[Raumqualität: 4.8, Freundlichkeit &amp; Service: ...</td>\n",
       "      <td>hello@thepolejungle.com</td>\n",
       "      <td>http://www.thepolejungle.com</td>\n",
       "      <td>+43 677 647 33 8 00</td>\n",
       "      <td>https://www.eversports.de/s/The-Pole-Jungle</td>\n",
       "      <td>[Poledance, Poledance, Poledance, Poledance, P...</td>\n",
       "      <td>Zum Stundenplan</td>\n",
       "      <td>[https://files.eversports.com/c902a4a3-458a-45...</td>\n",
       "      <td>2024-01-26 15:11:40</td>\n",
       "      <td>2024-01-26 15:11:40</td>\n",
       "    </tr>\n",
       "    <tr>\n",
       "      <th>1</th>\n",
       "      <td>Aerial Art Poledance</td>\n",
       "      <td>[Holzer Straße 98 ,  66287 Quierschied]</td>\n",
       "      <td>66287</td>\n",
       "      <td>Quierschied</td>\n",
       "      <td>Holzer Straße 98</td>\n",
       "      <td>[Übersicht, Klassen, Workshops, Events, Videos...</td>\n",
       "      <td>Das Aerial Art Poledance in ein Poledance Stud...</td>\n",
       "      <td>4,9</td>\n",
       "      <td>106 Rezensionen</td>\n",
       "      <td>[Raumqualität: 5.0, Freundlichkeit &amp; Service: ...</td>\n",
       "      <td>info@aerialart-poledance.de</td>\n",
       "      <td>http://www.aerialart-poledance.de/</td>\n",
       "      <td>01777870239</td>\n",
       "      <td>https://www.eversports.de/s/aerial-art-poledance</td>\n",
       "      <td>[Poledance, Poledance, Poledance, Online Klass...</td>\n",
       "      <td>1 Angebot für Neukund:innen</td>\n",
       "      <td>[https://files.eversports.com/22c70aea-bf3a-4e...</td>\n",
       "      <td>2024-01-26 15:11:55</td>\n",
       "      <td>2024-01-26 15:11:55</td>\n",
       "    </tr>\n",
       "    <tr>\n",
       "      <th>2</th>\n",
       "      <td>Cindy´s Pole Dance</td>\n",
       "      <td>[Fließstraße,  12439 Berlin]</td>\n",
       "      <td>12439</td>\n",
       "      <td>Berlin</td>\n",
       "      <td>Fließstraße</td>\n",
       "      <td>[Übersicht]</td>\n",
       "      <td>Diese Sportanlage bietet eine Vielzahl an Spor...</td>\n",
       "      <td>None</td>\n",
       "      <td>None</td>\n",
       "      <td>[Raumqualität: 0.0, Freundlichkeit &amp; Service: ...</td>\n",
       "      <td>info@cindy-poledance.de</td>\n",
       "      <td>None</td>\n",
       "      <td>None</td>\n",
       "      <td>https://www.eversports.de/s/Cindys-Pole-Dance</td>\n",
       "      <td>[(Noch keine Bewertungen), Poledance]</td>\n",
       "      <td>None</td>\n",
       "      <td>[]</td>\n",
       "      <td>2024-01-26 15:13:50</td>\n",
       "      <td>2024-01-26 15:13:50</td>\n",
       "    </tr>\n",
       "    <tr>\n",
       "      <th>3</th>\n",
       "      <td>Stadtgazellen Studio</td>\n",
       "      <td>[Neulandstraße 12 ,  49084 Osnabrück]</td>\n",
       "      <td>49084</td>\n",
       "      <td>Osnabrück</td>\n",
       "      <td>Neulandstraße 12</td>\n",
       "      <td>[Übersicht, Klassen, Kurse, Preise, Team]</td>\n",
       "      <td>Dein Studio für Poledance und Luftakrobatik in...</td>\n",
       "      <td>4,9</td>\n",
       "      <td>67 Rezensionen</td>\n",
       "      <td>[Raumqualität: 4.9, Freundlichkeit &amp; Service: ...</td>\n",
       "      <td>info@stadtgazellen-studio.de</td>\n",
       "      <td>http://www.stadtgazellen-studio.de</td>\n",
       "      <td>+491743017074‬</td>\n",
       "      <td>https://www.eversports.de/s/Stadtgazellen-Studio</td>\n",
       "      <td>[Aerial Silk, Stretching, Ballett-Fitness, Str...</td>\n",
       "      <td>Zum Stundenplan</td>\n",
       "      <td>[https://files.eversports.com/49b461dd-628a-4b...</td>\n",
       "      <td>2024-01-26 15:14:02</td>\n",
       "      <td>2024-01-26 15:14:02</td>\n",
       "    </tr>\n",
       "  </tbody>\n",
       "</table>\n",
       "</div>"
      ],
      "text/plain": [
       "        PoleStudio_Name                                  Adresse    PLZ  \\\n",
       "0       The Pole Jungle      [Volksgartenstraße 19 ,  4020 Linz]   4020   \n",
       "1  Aerial Art Poledance  [Holzer Straße 98 ,  66287 Quierschied]  66287   \n",
       "2    Cindy´s Pole Dance             [Fließstraße,  12439 Berlin]  12439   \n",
       "3  Stadtgazellen Studio    [Neulandstraße 12 ,  49084 Osnabrück]  49084   \n",
       "\n",
       "         Stadt                 Straße  \\\n",
       "0         Linz  Volksgartenstraße 19    \n",
       "1  Quierschied      Holzer Straße 98    \n",
       "2       Berlin            Fließstraße   \n",
       "3    Osnabrück      Neulandstraße 12    \n",
       "\n",
       "                                             Buttons  \\\n",
       "0  [Übersicht, Klassen, Trainings, Kurse, Worksho...   \n",
       "1  [Übersicht, Klassen, Workshops, Events, Videos...   \n",
       "2                                        [Übersicht]   \n",
       "3          [Übersicht, Klassen, Kurse, Preise, Team]   \n",
       "\n",
       "                            Pole Studio Beschreibung Ratingscore  \\\n",
       "0  Wie der Name bereits sagt erwartet euch ein gr...           5   \n",
       "1  Das Aerial Art Poledance in ein Poledance Stud...         4,9   \n",
       "2  Diese Sportanlage bietet eine Vielzahl an Spor...        None   \n",
       "3  Dein Studio für Poledance und Luftakrobatik in...         4,9   \n",
       "\n",
       "      Reviewanzahl                                    Rating Faktoren  \\\n",
       "0   11 Rezensionen  [Raumqualität: 4.8, Freundlichkeit & Service: ...   \n",
       "1  106 Rezensionen  [Raumqualität: 5.0, Freundlichkeit & Service: ...   \n",
       "2             None  [Raumqualität: 0.0, Freundlichkeit & Service: ...   \n",
       "3   67 Rezensionen  [Raumqualität: 4.9, Freundlichkeit & Service: ...   \n",
       "\n",
       "                          E-Mail                            Homepage  \\\n",
       "0        hello@thepolejungle.com        http://www.thepolejungle.com   \n",
       "1    info@aerialart-poledance.de  http://www.aerialart-poledance.de/   \n",
       "2        info@cindy-poledance.de                                None   \n",
       "3   info@stadtgazellen-studio.de  http://www.stadtgazellen-studio.de   \n",
       "\n",
       "               Telefon                                             URL_S  \\\n",
       "0  +43 677 647 33 8 00       https://www.eversports.de/s/The-Pole-Jungle   \n",
       "1          01777870239  https://www.eversports.de/s/aerial-art-poledance   \n",
       "2                 None     https://www.eversports.de/s/Cindys-Pole-Dance   \n",
       "3       +491743017074‬  https://www.eversports.de/s/Stadtgazellen-Studio   \n",
       "\n",
       "                                                 Art  \\\n",
       "0  [Poledance, Poledance, Poledance, Poledance, P...   \n",
       "1  [Poledance, Poledance, Poledance, Online Klass...   \n",
       "2              [(Noch keine Bewertungen), Poledance]   \n",
       "3  [Aerial Silk, Stretching, Ballett-Fitness, Str...   \n",
       "\n",
       "                       Angebot  \\\n",
       "0              Zum Stundenplan   \n",
       "1  1 Angebot für Neukund:innen   \n",
       "2                         None   \n",
       "3              Zum Stundenplan   \n",
       "\n",
       "                                       Bildergalerie         Created Date  \\\n",
       "0  [https://files.eversports.com/c902a4a3-458a-45...  2024-01-26 15:11:40   \n",
       "1  [https://files.eversports.com/22c70aea-bf3a-4e...  2024-01-26 15:11:55   \n",
       "2                                                 []  2024-01-26 15:13:50   \n",
       "3  [https://files.eversports.com/49b461dd-628a-4b...  2024-01-26 15:14:02   \n",
       "\n",
       "          Updated Date  \n",
       "0  2024-01-26 15:11:40  \n",
       "1  2024-01-26 15:11:55  \n",
       "2  2024-01-26 15:13:50  \n",
       "3  2024-01-26 15:14:02  "
      ]
     },
     "execution_count": 27,
     "metadata": {},
     "output_type": "execute_result"
    }
   ],
   "source": [
    "all_pole_studio_data[:4]\n"
   ]
  },
  {
   "cell_type": "code",
   "execution_count": 28,
   "metadata": {},
   "outputs": [
    {
     "data": {
      "text/html": [
       "<div>\n",
       "<style scoped>\n",
       "    .dataframe tbody tr th:only-of-type {\n",
       "        vertical-align: middle;\n",
       "    }\n",
       "\n",
       "    .dataframe tbody tr th {\n",
       "        vertical-align: top;\n",
       "    }\n",
       "\n",
       "    .dataframe thead th {\n",
       "        text-align: right;\n",
       "    }\n",
       "</style>\n",
       "<table border=\"1\" class=\"dataframe\">\n",
       "  <thead>\n",
       "    <tr style=\"text-align: right;\">\n",
       "      <th></th>\n",
       "      <th>Workshop Name</th>\n",
       "      <th>Workshop Date</th>\n",
       "      <th>Workshop Price</th>\n",
       "      <th>Workshop Units</th>\n",
       "      <th>Workshop Studio</th>\n",
       "      <th>Workshop Address</th>\n",
       "      <th>URL_E</th>\n",
       "    </tr>\n",
       "  </thead>\n",
       "  <tbody>\n",
       "    <tr>\n",
       "      <th>0</th>\n",
       "      <td>Lap Dance - Get Closer! in Quierschied</td>\n",
       "      <td>Feb04Sonntag</td>\n",
       "      <td>ab 45,00 €</td>\n",
       "      <td>1 Einheit</td>\n",
       "      <td>Aerial Art Poledance</td>\n",
       "      <td>Holzer Straße 98, 66287 Quierschied</td>\n",
       "      <td>https://www.eversports.de/e/workshop/1pLUOJO</td>\n",
       "    </tr>\n",
       "    <tr>\n",
       "      <th>1</th>\n",
       "      <td>Partner Akrobatik</td>\n",
       "      <td>Dez12bis Apr 16</td>\n",
       "      <td>ab 30,00 €</td>\n",
       "      <td>3 Einheiten</td>\n",
       "      <td>Pole Land</td>\n",
       "      <td>Kölner Straße 336a, 40227 Düsseldorf</td>\n",
       "      <td>https://www.eversports.de/e/workshop/ezegoNQ</td>\n",
       "    </tr>\n",
       "    <tr>\n",
       "      <th>2</th>\n",
       "      <td>Partner Akrobatik</td>\n",
       "      <td>Jan28Sonntag</td>\n",
       "      <td>ab 30,00 €</td>\n",
       "      <td>1 Einheit</td>\n",
       "      <td>Pole Land</td>\n",
       "      <td>Kölner Straße 336a, 40227 Düsseldorf</td>\n",
       "      <td>https://www.eversports.de/e/workshop/mFEme0g</td>\n",
       "    </tr>\n",
       "    <tr>\n",
       "      <th>3</th>\n",
       "      <td>Pole mit Lea</td>\n",
       "      <td>Feb18bis Feb 18</td>\n",
       "      <td>ab 35,00 €</td>\n",
       "      <td>2 Einheiten</td>\n",
       "      <td>Pole Land</td>\n",
       "      <td>Kölner Straße 336a, 40227 Düsseldorf</td>\n",
       "      <td>https://www.eversports.de/e/workshop/S8noX1Z</td>\n",
       "    </tr>\n",
       "  </tbody>\n",
       "</table>\n",
       "</div>"
      ],
      "text/plain": [
       "                            Workshop Name    Workshop Date Workshop Price  \\\n",
       "0  Lap Dance - Get Closer! in Quierschied     Feb04Sonntag     ab 45,00 €   \n",
       "1                       Partner Akrobatik  Dez12bis Apr 16     ab 30,00 €   \n",
       "2                      Partner Akrobatik      Jan28Sonntag     ab 30,00 €   \n",
       "3                            Pole mit Lea  Feb18bis Feb 18     ab 35,00 €   \n",
       "\n",
       "  Workshop Units       Workshop Studio                      Workshop Address  \\\n",
       "0      1 Einheit  Aerial Art Poledance   Holzer Straße 98, 66287 Quierschied   \n",
       "1    3 Einheiten             Pole Land  Kölner Straße 336a, 40227 Düsseldorf   \n",
       "2      1 Einheit             Pole Land  Kölner Straße 336a, 40227 Düsseldorf   \n",
       "3    2 Einheiten             Pole Land  Kölner Straße 336a, 40227 Düsseldorf   \n",
       "\n",
       "                                          URL_E  \n",
       "0  https://www.eversports.de/e/workshop/1pLUOJO  \n",
       "1  https://www.eversports.de/e/workshop/ezegoNQ  \n",
       "2  https://www.eversports.de/e/workshop/mFEme0g  \n",
       "3  https://www.eversports.de/e/workshop/S8noX1Z  "
      ]
     },
     "execution_count": 28,
     "metadata": {},
     "output_type": "execute_result"
    }
   ],
   "source": [
    "all_workshops_data[:4]"
   ]
  },
  {
   "cell_type": "code",
   "execution_count": 29,
   "metadata": {},
   "outputs": [
    {
     "data": {
      "text/html": [
       "<div>\n",
       "<style scoped>\n",
       "    .dataframe tbody tr th:only-of-type {\n",
       "        vertical-align: middle;\n",
       "    }\n",
       "\n",
       "    .dataframe tbody tr th {\n",
       "        vertical-align: top;\n",
       "    }\n",
       "\n",
       "    .dataframe thead th {\n",
       "        text-align: right;\n",
       "    }\n",
       "</style>\n",
       "<table border=\"1\" class=\"dataframe\">\n",
       "  <thead>\n",
       "    <tr style=\"text-align: right;\">\n",
       "      <th></th>\n",
       "      <th>Workshop Name</th>\n",
       "      <th>Beschreibung</th>\n",
       "      <th>Studio Name</th>\n",
       "      <th>Location</th>\n",
       "      <th>Category</th>\n",
       "      <th>Date</th>\n",
       "      <th>URL_E</th>\n",
       "      <th>Time</th>\n",
       "    </tr>\n",
       "  </thead>\n",
       "  <tbody>\n",
       "    <tr>\n",
       "      <th>0</th>\n",
       "      <td>Lap Dance - Get Closer! in Quierschied</td>\n",
       "      <td>Du willst weniger denken und mehr fühlen? Du w...</td>\n",
       "      <td>Aerial Art Poledance</td>\n",
       "      <td>Ticket für So. 04.02.2024, 13:00 - 15:15</td>\n",
       "      <td>Poledance</td>\n",
       "      <td>Sonntag, 4. Februar 2024</td>\n",
       "      <td>https://www.eversports.de/e/workshop/1pLUOJO</td>\n",
       "      <td>13:00 - 15:15</td>\n",
       "    </tr>\n",
       "    <tr>\n",
       "      <th>1</th>\n",
       "      <td>Partner Akrobatik</td>\n",
       "      <td>Du möchtest coole Posen und akrobatische Eleme...</td>\n",
       "      <td>Pole Land</td>\n",
       "      <td>Di. 13. Februar 19:20</td>\n",
       "      <td>Akrobatik</td>\n",
       "      <td>Begann am Dienstag, 12. Dezember 2023</td>\n",
       "      <td>https://www.eversports.de/e/workshop/ezegoNQ</td>\n",
       "      <td>Kölner Straße 336a, 40227 Düsseldorf</td>\n",
       "    </tr>\n",
       "    <tr>\n",
       "      <th>2</th>\n",
       "      <td>Partner Akrobatik</td>\n",
       "      <td>Beim Partner Akrobatik steht das gemeinsame er...</td>\n",
       "      <td>Pole Land</td>\n",
       "      <td>Ticket für So. 28.01.2024, 14:00 - 15:30</td>\n",
       "      <td>Akrobatik</td>\n",
       "      <td>Sonntag, 28. Januar 2024</td>\n",
       "      <td>https://www.eversports.de/e/workshop/mFEme0g</td>\n",
       "      <td>14:00 - 15:30</td>\n",
       "    </tr>\n",
       "    <tr>\n",
       "      <th>3</th>\n",
       "      <td>Pole mit Lea</td>\n",
       "      <td>Save the date! Lea alis Ioetzchen kommt uns wi...</td>\n",
       "      <td>Pole Land</td>\n",
       "      <td>13:00 - 14:30</td>\n",
       "      <td>Poledance</td>\n",
       "      <td>Beginnt am Sonntag, 18. Februar 2024</td>\n",
       "      <td>https://www.eversports.de/e/workshop/S8noX1Z</td>\n",
       "      <td>Kölner Straße 336a, 40227 Düsseldorf</td>\n",
       "    </tr>\n",
       "  </tbody>\n",
       "</table>\n",
       "</div>"
      ],
      "text/plain": [
       "                            Workshop Name  \\\n",
       "0  Lap Dance - Get Closer! in Quierschied   \n",
       "1                       Partner Akrobatik   \n",
       "2                       Partner Akrobatik   \n",
       "3                            Pole mit Lea   \n",
       "\n",
       "                                        Beschreibung           Studio Name  \\\n",
       "0  Du willst weniger denken und mehr fühlen? Du w...  Aerial Art Poledance   \n",
       "1  Du möchtest coole Posen und akrobatische Eleme...             Pole Land   \n",
       "2  Beim Partner Akrobatik steht das gemeinsame er...             Pole Land   \n",
       "3  Save the date! Lea alis Ioetzchen kommt uns wi...             Pole Land   \n",
       "\n",
       "                                   Location   Category  \\\n",
       "0  Ticket für So. 04.02.2024, 13:00 - 15:15  Poledance   \n",
       "1                     Di. 13. Februar 19:20  Akrobatik   \n",
       "2  Ticket für So. 28.01.2024, 14:00 - 15:30  Akrobatik   \n",
       "3                             13:00 - 14:30  Poledance   \n",
       "\n",
       "                                    Date  \\\n",
       "0               Sonntag, 4. Februar 2024   \n",
       "1  Begann am Dienstag, 12. Dezember 2023   \n",
       "2               Sonntag, 28. Januar 2024   \n",
       "3   Beginnt am Sonntag, 18. Februar 2024   \n",
       "\n",
       "                                          URL_E  \\\n",
       "0  https://www.eversports.de/e/workshop/1pLUOJO   \n",
       "1  https://www.eversports.de/e/workshop/ezegoNQ   \n",
       "2  https://www.eversports.de/e/workshop/mFEme0g   \n",
       "3  https://www.eversports.de/e/workshop/S8noX1Z   \n",
       "\n",
       "                                   Time  \n",
       "0                         13:00 - 15:15  \n",
       "1  Kölner Straße 336a, 40227 Düsseldorf  \n",
       "2                         14:00 - 15:30  \n",
       "3  Kölner Straße 336a, 40227 Düsseldorf  "
      ]
     },
     "execution_count": 29,
     "metadata": {},
     "output_type": "execute_result"
    }
   ],
   "source": [
    "all_workshop_details_data[:4]"
   ]
  },
  {
   "cell_type": "code",
   "execution_count": 30,
   "metadata": {},
   "outputs": [
    {
     "data": {
      "text/html": [
       "<div>\n",
       "<style scoped>\n",
       "    .dataframe tbody tr th:only-of-type {\n",
       "        vertical-align: middle;\n",
       "    }\n",
       "\n",
       "    .dataframe tbody tr th {\n",
       "        vertical-align: top;\n",
       "    }\n",
       "\n",
       "    .dataframe thead th {\n",
       "        text-align: right;\n",
       "    }\n",
       "</style>\n",
       "<table border=\"1\" class=\"dataframe\">\n",
       "  <thead>\n",
       "    <tr style=\"text-align: right;\">\n",
       "      <th></th>\n",
       "      <th>URL_SCL_E</th>\n",
       "      <th>Time</th>\n",
       "      <th>Duration</th>\n",
       "      <th>Name</th>\n",
       "      <th>Available Slots</th>\n",
       "      <th>Trainer</th>\n",
       "      <th>Room</th>\n",
       "    </tr>\n",
       "  </thead>\n",
       "  <tbody>\n",
       "    <tr>\n",
       "      <th>0</th>\n",
       "      <td>https://www.eversports.de/e/class/qH91Ttu</td>\n",
       "      <td>17:30</td>\n",
       "      <td>75 Min</td>\n",
       "      <td>Pole Level 3 in Quierschied</td>\n",
       "      <td>3 freie Plätze</td>\n",
       "      <td>Alexandra</td>\n",
       "      <td>Unbekannt</td>\n",
       "    </tr>\n",
       "    <tr>\n",
       "      <th>1</th>\n",
       "      <td>https://www.eversports.de/e/class/_tI61ax</td>\n",
       "      <td>19:00</td>\n",
       "      <td>75 Min</td>\n",
       "      <td>Pole Level 6 in Quierschied</td>\n",
       "      <td>mehr als 5 Plätze</td>\n",
       "      <td>Alexandra</td>\n",
       "      <td>Unbekannt</td>\n",
       "    </tr>\n",
       "    <tr>\n",
       "      <th>2</th>\n",
       "      <td>https://www.eversports.de/e/class/OcYGXtj</td>\n",
       "      <td>19:00</td>\n",
       "      <td>75 Min</td>\n",
       "      <td>Pole Level 2 in Saarbrücken</td>\n",
       "      <td>mehr als 5 Plätze</td>\n",
       "      <td>Vanessa</td>\n",
       "      <td>Unbekannt</td>\n",
       "    </tr>\n",
       "    <tr>\n",
       "      <th>3</th>\n",
       "      <td>https://www.eversports.de/e/class/AD5f6SG</td>\n",
       "      <td>20:30</td>\n",
       "      <td>75 Min</td>\n",
       "      <td>Pole Level 1 in Quierschied</td>\n",
       "      <td>5 freie Plätze</td>\n",
       "      <td>Julia</td>\n",
       "      <td>Unbekannt</td>\n",
       "    </tr>\n",
       "  </tbody>\n",
       "</table>\n",
       "</div>"
      ],
      "text/plain": [
       "                                   URL_SCL_E   Time Duration  \\\n",
       "0  https://www.eversports.de/e/class/qH91Ttu  17:30   75 Min   \n",
       "1  https://www.eversports.de/e/class/_tI61ax  19:00   75 Min   \n",
       "2  https://www.eversports.de/e/class/OcYGXtj  19:00   75 Min   \n",
       "3  https://www.eversports.de/e/class/AD5f6SG  20:30   75 Min   \n",
       "\n",
       "                          Name    Available Slots    Trainer       Room  \n",
       "0  Pole Level 3 in Quierschied     3 freie Plätze  Alexandra  Unbekannt  \n",
       "1  Pole Level 6 in Quierschied  mehr als 5 Plätze  Alexandra  Unbekannt  \n",
       "2  Pole Level 2 in Saarbrücken  mehr als 5 Plätze    Vanessa  Unbekannt  \n",
       "3  Pole Level 1 in Quierschied     5 freie Plätze      Julia  Unbekannt  "
      ]
     },
     "execution_count": 30,
     "metadata": {},
     "output_type": "execute_result"
    }
   ],
   "source": [
    "all_classes_data[:4]"
   ]
  },
  {
   "cell_type": "code",
   "execution_count": 31,
   "metadata": {},
   "outputs": [
    {
     "data": {
      "text/html": [
       "<div>\n",
       "<style scoped>\n",
       "    .dataframe tbody tr th:only-of-type {\n",
       "        vertical-align: middle;\n",
       "    }\n",
       "\n",
       "    .dataframe tbody tr th {\n",
       "        vertical-align: top;\n",
       "    }\n",
       "\n",
       "    .dataframe thead th {\n",
       "        text-align: right;\n",
       "    }\n",
       "</style>\n",
       "<table border=\"1\" class=\"dataframe\">\n",
       "  <thead>\n",
       "    <tr style=\"text-align: right;\">\n",
       "      <th></th>\n",
       "      <th>Klassenname</th>\n",
       "      <th>Beschreibung</th>\n",
       "      <th>Studio Name</th>\n",
       "      <th>Standort</th>\n",
       "      <th>Kategorie</th>\n",
       "      <th>Datum</th>\n",
       "      <th>URL_E</th>\n",
       "      <th>Zeit</th>\n",
       "    </tr>\n",
       "  </thead>\n",
       "  <tbody>\n",
       "    <tr>\n",
       "      <th>0</th>\n",
       "      <td>Pole Level 3 in Quierschied</td>\n",
       "      <td>Du lernst in Level 3 langsam auch anspruchsvol...</td>\n",
       "      <td>Aerial Art Poledance</td>\n",
       "      <td>Schnupperstunde Aerial Art</td>\n",
       "      <td>Poledance</td>\n",
       "      <td>Montag, 22. Januar 2024</td>\n",
       "      <td>https://www.eversports.de/e/class/qH91Ttu</td>\n",
       "      <td>17:30 - 18:45</td>\n",
       "    </tr>\n",
       "    <tr>\n",
       "      <th>1</th>\n",
       "      <td>Pole Level 6 in Quierschied</td>\n",
       "      <td>Dieser Kurs ist für alle fortgeschrittenen Pol...</td>\n",
       "      <td>Aerial Art Poledance</td>\n",
       "      <td>Schnupperstunde Aerial Art</td>\n",
       "      <td>Poledance</td>\n",
       "      <td>Montag, 22. Januar 2024</td>\n",
       "      <td>https://www.eversports.de/e/class/_tI61ax</td>\n",
       "      <td>19:00 - 20:15</td>\n",
       "    </tr>\n",
       "    <tr>\n",
       "      <th>2</th>\n",
       "      <td>Pole Level 2 in Saarbrücken</td>\n",
       "      <td>In Level 2 bauen wir die finalen Grundvorausse...</td>\n",
       "      <td>Aerial Art Poledance</td>\n",
       "      <td>Schnupperstunde Aerial Art</td>\n",
       "      <td>Poledance</td>\n",
       "      <td>Montag, 22. Januar 2024</td>\n",
       "      <td>https://www.eversports.de/e/class/OcYGXtj</td>\n",
       "      <td>19:00 - 20:15</td>\n",
       "    </tr>\n",
       "    <tr>\n",
       "      <th>3</th>\n",
       "      <td>Pole Level 1 in Quierschied</td>\n",
       "      <td>In Level 1 lernst du zahlreiche Spins und Tanz...</td>\n",
       "      <td>Aerial Art Poledance</td>\n",
       "      <td>Schnupperstunde Aerial Art</td>\n",
       "      <td>Poledance</td>\n",
       "      <td>Montag, 22. Januar 2024</td>\n",
       "      <td>https://www.eversports.de/e/class/AD5f6SG</td>\n",
       "      <td>20:30 - 21:45</td>\n",
       "    </tr>\n",
       "  </tbody>\n",
       "</table>\n",
       "</div>"
      ],
      "text/plain": [
       "                   Klassenname  \\\n",
       "0  Pole Level 3 in Quierschied   \n",
       "1  Pole Level 6 in Quierschied   \n",
       "2  Pole Level 2 in Saarbrücken   \n",
       "3  Pole Level 1 in Quierschied   \n",
       "\n",
       "                                        Beschreibung           Studio Name  \\\n",
       "0  Du lernst in Level 3 langsam auch anspruchsvol...  Aerial Art Poledance   \n",
       "1  Dieser Kurs ist für alle fortgeschrittenen Pol...  Aerial Art Poledance   \n",
       "2  In Level 2 bauen wir die finalen Grundvorausse...  Aerial Art Poledance   \n",
       "3  In Level 1 lernst du zahlreiche Spins und Tanz...  Aerial Art Poledance   \n",
       "\n",
       "                     Standort  Kategorie                    Datum  \\\n",
       "0  Schnupperstunde Aerial Art  Poledance  Montag, 22. Januar 2024   \n",
       "1  Schnupperstunde Aerial Art  Poledance  Montag, 22. Januar 2024   \n",
       "2  Schnupperstunde Aerial Art  Poledance  Montag, 22. Januar 2024   \n",
       "3  Schnupperstunde Aerial Art  Poledance  Montag, 22. Januar 2024   \n",
       "\n",
       "                                       URL_E           Zeit  \n",
       "0  https://www.eversports.de/e/class/qH91Ttu  17:30 - 18:45  \n",
       "1  https://www.eversports.de/e/class/_tI61ax  19:00 - 20:15  \n",
       "2  https://www.eversports.de/e/class/OcYGXtj  19:00 - 20:15  \n",
       "3  https://www.eversports.de/e/class/AD5f6SG  20:30 - 21:45  "
      ]
     },
     "execution_count": 31,
     "metadata": {},
     "output_type": "execute_result"
    }
   ],
   "source": [
    "all_classes_details_data.head(4)"
   ]
  },
  {
   "cell_type": "code",
   "execution_count": 32,
   "metadata": {},
   "outputs": [],
   "source": [
    "# # # Exportieren der DataFrames in CSV-Dateien\n",
    "all_pole_studio_data.to_csv(\"Pole_Studio_Übersicht_S.csv\", index=False)\n",
    "all_workshops_data.to_csv(\"Workshop_Liste_SW.csv\", index=False)\n",
    "all_workshop_details_data.to_csv(\"Workshop_Übersicht_E.csv\", index=False)\n",
    "all_classes_data.to_csv(\"Klassen_Liste_Class_E.csv\", index=False)\n",
    "all_classes_details_data.to_csv(\"Klassen_Übersicht_SCL.csv\", index=False)\n"
   ]
  }
 ],
 "metadata": {
  "kernelspec": {
   "display_name": "Python 3",
   "language": "python",
   "name": "python3"
  },
  "language_info": {
   "codemirror_mode": {
    "name": "ipython",
    "version": 3
   },
   "file_extension": ".py",
   "mimetype": "text/x-python",
   "name": "python",
   "nbconvert_exporter": "python",
   "pygments_lexer": "ipython3",
   "version": "3.12.1"
  }
 },
 "nbformat": 4,
 "nbformat_minor": 2
}
