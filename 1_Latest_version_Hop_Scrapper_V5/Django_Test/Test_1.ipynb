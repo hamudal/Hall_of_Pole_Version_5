{
 "cells": [
  {
   "cell_type": "code",
   "execution_count": 1,
   "metadata": {},
   "outputs": [
    {
     "name": "stdout",
     "output_type": "stream",
     "text": [
      "Defaulting to user installation because normal site-packages is not writeable\n",
      "Collecting django\n",
      "  Downloading Django-5.0-py3-none-any.whl.metadata (4.1 kB)\n",
      "Collecting asgiref>=3.7.0 (from django)\n",
      "  Downloading asgiref-3.7.2-py3-none-any.whl.metadata (9.2 kB)\n",
      "Collecting sqlparse>=0.3.1 (from django)\n",
      "  Downloading sqlparse-0.4.4-py3-none-any.whl (41 kB)\n",
      "     ---------------------------------------- 0.0/41.2 kB ? eta -:--:--\n",
      "     ---------------------------------------- 41.2/41.2 kB 1.9 MB/s eta 0:00:00\n",
      "Requirement already satisfied: tzdata in c:\\users\\hamud\\appdata\\roaming\\python\\python312\\site-packages (from django) (2023.3)\n",
      "Downloading Django-5.0-py3-none-any.whl (8.1 MB)\n",
      "   ---------------------------------------- 0.0/8.1 MB ? eta -:--:--\n",
      "    --------------------------------------- 0.2/8.1 MB 5.1 MB/s eta 0:00:02\n",
      "   - -------------------------------------- 0.4/8.1 MB 4.9 MB/s eta 0:00:02\n",
      "   --- ------------------------------------ 0.6/8.1 MB 5.1 MB/s eta 0:00:02\n",
      "   ---- ----------------------------------- 0.8/8.1 MB 4.7 MB/s eta 0:00:02\n",
      "   ----- ---------------------------------- 1.0/8.1 MB 4.7 MB/s eta 0:00:02\n",
      "   ------ --------------------------------- 1.4/8.1 MB 5.1 MB/s eta 0:00:02\n",
      "   -------- ------------------------------- 1.7/8.1 MB 5.3 MB/s eta 0:00:02\n",
      "   --------- ------------------------------ 1.9/8.1 MB 5.3 MB/s eta 0:00:02\n",
      "   ----------- ---------------------------- 2.2/8.1 MB 5.5 MB/s eta 0:00:02\n",
      "   ------------- -------------------------- 2.7/8.1 MB 5.9 MB/s eta 0:00:01\n",
      "   -------------- ------------------------- 3.0/8.1 MB 6.0 MB/s eta 0:00:01\n",
      "   ---------------- ----------------------- 3.3/8.1 MB 6.1 MB/s eta 0:00:01\n",
      "   ----------------- ---------------------- 3.6/8.1 MB 6.1 MB/s eta 0:00:01\n",
      "   -------------------- ------------------- 4.1/8.1 MB 6.4 MB/s eta 0:00:01\n",
      "   ---------------------- ----------------- 4.6/8.1 MB 6.6 MB/s eta 0:00:01\n",
      "   ------------------------ --------------- 5.0/8.1 MB 6.8 MB/s eta 0:00:01\n",
      "   ------------------------- -------------- 5.2/8.1 MB 6.8 MB/s eta 0:00:01\n",
      "   --------------------------- ------------ 5.6/8.1 MB 6.8 MB/s eta 0:00:01\n",
      "   ------------------------------ --------- 6.2/8.1 MB 7.0 MB/s eta 0:00:01\n",
      "   -------------------------------- ------- 6.6/8.1 MB 7.3 MB/s eta 0:00:01\n",
      "   ----------------------------------- ---- 7.1/8.1 MB 7.5 MB/s eta 0:00:01\n",
      "   ------------------------------------ --- 7.5/8.1 MB 7.5 MB/s eta 0:00:01\n",
      "   ---------------------------------------  8.0/8.1 MB 7.7 MB/s eta 0:00:01\n",
      "   ---------------------------------------- 8.1/8.1 MB 7.4 MB/s eta 0:00:00\n",
      "Downloading asgiref-3.7.2-py3-none-any.whl (24 kB)\n",
      "Installing collected packages: sqlparse, asgiref, django\n",
      "Successfully installed asgiref-3.7.2 django-5.0 sqlparse-0.4.4\n",
      "Note: you may need to restart the kernel to use updated packages.\n"
     ]
    }
   ],
   "source": [
    "#pip install django"
   ]
  },
  {
   "cell_type": "code",
   "execution_count": null,
   "metadata": {},
   "outputs": [],
   "source": []
  }
 ],
 "metadata": {
  "kernelspec": {
   "display_name": "Python 3",
   "language": "python",
   "name": "python3"
  },
  "language_info": {
   "codemirror_mode": {
    "name": "ipython",
    "version": 3
   },
   "file_extension": ".py",
   "mimetype": "text/x-python",
   "name": "python",
   "nbconvert_exporter": "python",
   "pygments_lexer": "ipython3",
   "version": "3.12.1"
  }
 },
 "nbformat": 4,
 "nbformat_minor": 2
}
