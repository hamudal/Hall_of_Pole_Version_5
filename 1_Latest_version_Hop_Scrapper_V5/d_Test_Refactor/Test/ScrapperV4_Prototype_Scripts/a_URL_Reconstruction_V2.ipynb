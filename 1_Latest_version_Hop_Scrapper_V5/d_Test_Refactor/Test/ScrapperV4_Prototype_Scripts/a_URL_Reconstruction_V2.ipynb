{
 "cells": [
  {
   "cell_type": "code",
   "execution_count": 1,
   "metadata": {},
   "outputs": [
    {
     "name": "stderr",
     "output_type": "stream",
     "text": [
      "2023-12-23 15:31:36,440 - INFO - Link-Texte: ['Übersicht', 'Klassen', 'Workshops', 'Videos', 'Preise', 'Team']\n",
      "2023-12-23 15:31:36,443 - INFO - Rekonstruierte URLs: {'Übersicht': 'https://www.eversports.de/s/poda-studio', 'Klassen': 'https://www.eversports.de/scl/poda-studio', 'Workshops': 'https://www.eversports.de/sw/poda-studio', 'Videos': 'https://www.eversports.de/s/videos/poda-studio', 'Preise': 'https://www.eversports.de/sp/poda-studio', 'Team': 'https://www.eversports.de/s/team/poda-studio'}\n"
     ]
    }
   ],
   "source": [
    "import requests\n",
    "from bs4 import BeautifulSoup\n",
    "import logging\n",
    "\n",
    "# Konfiguration des Logging-Systems\n",
    "logging.basicConfig(level=logging.INFO, format='%(asctime)s - %(levelname)s - %(message)s')\n",
    "\n",
    "def get_response_content(url):\n",
    "    \"\"\"Holt den Inhalt einer Webseite über eine HTTP-Anfrage.\"\"\"\n",
    "    try:\n",
    "        response = requests.get(url)\n",
    "        response.raise_for_status()\n",
    "        return response.content\n",
    "    except requests.RequestException as e:\n",
    "        logging.error(f\"Fehler bei der HTTP-Anfrage für {url}: {e}\")\n",
    "        return None\n",
    "\n",
    "def reconstruct_urls_and_extract_buttons(url):\n",
    "    \"\"\"\n",
    "    Rekonstruiert URLs und extrahiert Buttons für eine gegebene URL.\n",
    "\n",
    "    Args:\n",
    "        url (str): Die URL der zu scrapenden Seite.\n",
    "\n",
    "    Returns:\n",
    "        tuple: Eine Liste der Link-Texte und ein Dictionary der rekonstruierten URLs.\n",
    "    \"\"\"\n",
    "    content = get_response_content(url)\n",
    "    if content is None:\n",
    "        return [], {}\n",
    "\n",
    "    try:\n",
    "        soup = BeautifulSoup(content, 'html.parser')\n",
    "        overview_buttons = soup.find_all('div', class_=\"MuiStack-root css-sgccrm\")\n",
    "\n",
    "        button_url_mapping = {\n",
    "            'Übersicht': 's',\n",
    "            'Klassen': 'scl',\n",
    "            'Workshops': 'sw',\n",
    "            'Videos': 's/videos',\n",
    "            'Preise': 'sp',\n",
    "            'Team': 's/team'\n",
    "        }\n",
    "\n",
    "        dynamic_part = url.split(\"/\")[-1]\n",
    "        link_text = []\n",
    "        reconstructed_urls = {}\n",
    "\n",
    "        if overview_buttons:\n",
    "            for item in overview_buttons:\n",
    "                anchor_elements = item.find_all('a')\n",
    "                for anchor in anchor_elements:\n",
    "                    text = anchor.text\n",
    "                    link_text.append(text)\n",
    "                    if text in button_url_mapping:\n",
    "                        reconstructed_url = f\"https://www.eversports.de/{button_url_mapping[text]}/{dynamic_part}\"\n",
    "                        reconstructed_urls[text] = reconstructed_url\n",
    "\n",
    "        return link_text, reconstructed_urls\n",
    "\n",
    "    except Exception as e:\n",
    "        logging.error(f\"Fehler bei der Verarbeitung der URL {url}: {e}\")\n",
    "        return [], {}\n",
    "\n",
    "# Beispielaufruf der Funktion\n",
    "if __name__ == \"__main__\":\n",
    "    test_url = \"https://www.eversports.de/s/poda-studio\"\n",
    "    link_text, reconstructed_urls = reconstruct_urls_and_extract_buttons(test_url)\n",
    "    logging.info(f\"Link-Texte: {link_text}\")\n",
    "    logging.info(f\"Rekonstruierte URLs: {reconstructed_urls}\")\n"
   ]
  }
 ],
 "metadata": {
  "kernelspec": {
   "display_name": "Python 3",
   "language": "python",
   "name": "python3"
  },
  "language_info": {
   "codemirror_mode": {
    "name": "ipython",
    "version": 3
   },
   "file_extension": ".py",
   "mimetype": "text/x-python",
   "name": "python",
   "nbconvert_exporter": "python",
   "pygments_lexer": "ipython3",
   "version": "3.12.1"
  }
 },
 "nbformat": 4,
 "nbformat_minor": 2
}
