{
 "cells": [
  {
   "cell_type": "code",
   "execution_count": 1,
   "metadata": {},
   "outputs": [
    {
     "name": "stderr",
     "output_type": "stream",
     "text": [
      "2023-12-23 15:50:32,768 - INFO - Gescrapte Workshop-Details:\n",
      "                             Workshop Name  \\\n",
      "0  Strip that down!  Workshop *girls only*   \n",
      "\n",
      "                                        Beschreibung  Studio Name  \\\n",
      "0  Strip that down! Lerne in einer smoothen Chore...  poda Studio   \n",
      "\n",
      "                                     Location Category  \\\n",
      "0   10-12 Martinstraße Innenhof, 52062 Aachen   Tanzen   \n",
      "\n",
      "                        Date                                         URL_E  \\\n",
      "0  Sonntag, 29. Oktober 2023  https://www.eversports.de/e/workshop/mT-MZa2   \n",
      "\n",
      "            Time  \n",
      "0  20:15 - 21:45  \n"
     ]
    }
   ],
   "source": [
    "import requests\n",
    "from bs4 import BeautifulSoup\n",
    "import pandas as pd\n",
    "import logging\n",
    "\n",
    "# Konfiguration des Logging-Systems\n",
    "logging.basicConfig(level=logging.INFO, format='%(asctime)s - %(levelname)s - %(message)s')\n",
    "\n",
    "def get_text_or_none(element):\n",
    "    \"\"\"Hilfsfunktion zum sicheren Abrufen des Textes aus einem BeautifulSoup-Element.\"\"\"\n",
    "    return element.text if element else None\n",
    "\n",
    "def scrape_workshop_details(url):\n",
    "    \"\"\"\n",
    "    Scraped detaillierte Informationen eines Workshops von einer gegebenen URL.\n",
    "    \"\"\"\n",
    "    try:\n",
    "        response = requests.get(url)\n",
    "        response.raise_for_status()\n",
    "    except requests.RequestException as e:\n",
    "        logging.error(f\"Fehler beim Abrufen der Webseite {url}: {e}\")\n",
    "        return None\n",
    "\n",
    "    soup = BeautifulSoup(response.content, 'html.parser')\n",
    "\n",
    "    # Extraktion der verschiedenen Datenpunkte\n",
    "    workshop_name = get_text_or_none(soup.find('h1', class_='MuiTypography-root MuiTypography-h1 css-1bvkaia'))\n",
    "    description_div = soup.find('div', class_='css-3awvdx')\n",
    "    description = ' '.join([p.text for p in description_div.find_all('p')]) if description_div else None\n",
    "    studio_name = get_text_or_none(soup.find('p', class_='MuiTypography-root MuiTypography-body1 css-z923os'))\n",
    "    location = get_text_or_none(soup.find_all('p', class_='MuiTypography-root MuiTypography-body1 css-bjhn26')[2])\n",
    "    level = get_text_or_none(soup.find('p', class_='MuiTypography-root MuiTypography-body1 css-ilcg2f'))\n",
    "    date = get_text_or_none(soup.find('p', class_='MuiTypography-root MuiTypography-body1 css-16ai5j1'))\n",
    "    time = get_text_or_none(soup.find('p', class_='MuiTypography-root MuiTypography-body1 css-bjhn26'))\n",
    "\n",
    "    # Erstellen des DataFrame\n",
    "    workshop_df = pd.DataFrame({\n",
    "        'Workshop Name': [workshop_name],\n",
    "        'Beschreibung': [description],\n",
    "        'Studio Name': [studio_name],\n",
    "        'Location': [location],\n",
    "        'Category': [level],\n",
    "        'Date': [date],\n",
    "        'URL_E': [url],\n",
    "        'Time': [time]\n",
    "    })\n",
    "\n",
    "    return workshop_df\n",
    "\n",
    "if __name__ == \"__main__\":\n",
    "    test_url = \"https://www.eversports.de/e/workshop/mT-MZa2\"\n",
    "    workshop_df = scrape_workshop_details(test_url)\n",
    "    if workshop_df is not None:\n",
    "        logging.info(f\"Gescrapte Workshop-Details:\\n{workshop_df}\")\n",
    "    else:\n",
    "        logging.info(\"Keine Details gescraped.\")\n",
    "\n"
   ]
  }
 ],
 "metadata": {
  "kernelspec": {
   "display_name": "Python 3",
   "language": "python",
   "name": "python3"
  },
  "language_info": {
   "codemirror_mode": {
    "name": "ipython",
    "version": 3
   },
   "file_extension": ".py",
   "mimetype": "text/x-python",
   "name": "python",
   "nbconvert_exporter": "python",
   "pygments_lexer": "ipython3",
   "version": "3.12.1"
  }
 },
 "nbformat": 4,
 "nbformat_minor": 2
}
