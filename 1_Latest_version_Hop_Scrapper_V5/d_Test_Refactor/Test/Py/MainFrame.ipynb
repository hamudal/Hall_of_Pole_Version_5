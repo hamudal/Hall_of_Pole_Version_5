{
 "cells": [
  {
   "cell_type": "code",
   "execution_count": 2,
   "metadata": {},
   "outputs": [
    {
     "name": "stderr",
     "output_type": "stream",
     "text": [
      "Processing URLs:   0%|          | 0/10 [00:00<?, ?it/s]"
     ]
    },
    {
     "name": "stdout",
     "output_type": "stream",
     "text": [
      "Processing URL 1/10: https://www.eversports.de/s/secret-moves---athletic-dance-studio\n",
      "Processing URL: https://www.eversports.de/s/secret-moves---athletic-dance-studio\n",
      "Starting URL reconstruction...\n"
     ]
    },
    {
     "name": "stderr",
     "output_type": "stream",
     "text": [
      "Processing URLs:  10%|█         | 1/10 [00:01<00:11,  1.23s/it]"
     ]
    },
    {
     "name": "stdout",
     "output_type": "stream",
     "text": [
      "Error during HTTP request: 404 Client Error: Not Found for url: https://www.eversports.de/s/secret-moves---athletic-dance-studio\n",
      "Converting to DataFrame...\n",
      "Validating URLs...\n",
      "Processing completed.\n",
      "\n",
      "Results for URL: https://www.eversports.de/s/secret-moves---athletic-dance-studio\n",
      "Progress: 10.00%\n",
      "\n",
      "Processing URL 2/10: https://www.eversports.de/s/CSS-AERIAL-DANCE-STUDIO\n",
      "Processing URL: https://www.eversports.de/s/CSS-AERIAL-DANCE-STUDIO\n",
      "Starting URL reconstruction...\n"
     ]
    },
    {
     "name": "stderr",
     "output_type": "stream",
     "text": [
      "2024-02-01 21:31:53,011 - INFO - Processing URL 1/3: https://www.eversports.de/s/CSS-AERIAL-DANCE-STUDIO\n"
     ]
    },
    {
     "name": "stdout",
     "output_type": "stream",
     "text": [
      "Error reconstructing URL for 'Kurse': Unrecognized text: 'Kurse'\n",
      "Converting to DataFrame...\n",
      "Validating URLs...\n"
     ]
    },
    {
     "name": "stderr",
     "output_type": "stream",
     "text": [
      "2024-02-01 21:31:54,472 - INFO - URL https://www.eversports.de/s/CSS-AERIAL-DANCE-STUDIO is valid.\n",
      "2024-02-01 21:31:54,473 - INFO - Processing URL 2/3: https://www.eversports.de/sp/CSS-AERIAL-DANCE-STUDIO\n",
      "2024-02-01 21:31:55,622 - INFO - URL https://www.eversports.de/sp/CSS-AERIAL-DANCE-STUDIO is valid.\n",
      "2024-02-01 21:31:55,623 - INFO - Processing URL 3/3: https://www.eversports.de/s/CSS-AERIAL-DANCE-STUDIO/team\n",
      "2024-02-01 21:31:56,886 - INFO - URL https://www.eversports.de/s/CSS-AERIAL-DANCE-STUDIO/team is valid.\n"
     ]
    },
    {
     "name": "stdout",
     "output_type": "stream",
     "text": [
      "Scraping Pole Studio Data from https://www.eversports.de/s/CSS-AERIAL-DANCE-STUDIO...\n"
     ]
    },
    {
     "name": "stderr",
     "output_type": "stream",
     "text": [
      "Processing URLs:  20%|██        | 2/10 [00:08<00:36,  4.60s/it]"
     ]
    },
    {
     "name": "stdout",
     "output_type": "stream",
     "text": [
      "Processing completed.\n",
      "\n",
      "Results for URL: https://www.eversports.de/s/CSS-AERIAL-DANCE-STUDIO\n",
      "Pole Studio Data:\n",
      "\n",
      "\n",
      "Progress: 20.00%\n",
      "\n",
      "Processing URL 3/10: https://www.eversports.de/s/yoga-vidya-burgdorf\n",
      "Processing URL: https://www.eversports.de/s/yoga-vidya-burgdorf\n",
      "Starting URL reconstruction...\n"
     ]
    },
    {
     "name": "stderr",
     "output_type": "stream",
     "text": [
      "2024-02-01 21:31:59,952 - INFO - Processing URL 1/3: https://www.eversports.de/s/yoga-vidya-burgdorf\n"
     ]
    },
    {
     "name": "stdout",
     "output_type": "stream",
     "text": [
      "Error reconstructing URL for 'Kurse': Unrecognized text: 'Kurse'\n",
      "Error reconstructing URL for 'Retreats': Unrecognized text: 'Retreats'\n",
      "Converting to DataFrame...\n",
      "Validating URLs...\n"
     ]
    },
    {
     "name": "stderr",
     "output_type": "stream",
     "text": [
      "2024-02-01 21:32:01,552 - INFO - URL https://www.eversports.de/s/yoga-vidya-burgdorf is valid.\n",
      "2024-02-01 21:32:01,553 - INFO - Processing URL 2/3: https://www.eversports.de/sp/yoga-vidya-burgdorf\n",
      "2024-02-01 21:32:03,418 - INFO - URL https://www.eversports.de/sp/yoga-vidya-burgdorf is valid.\n",
      "2024-02-01 21:32:03,419 - INFO - Processing URL 3/3: https://www.eversports.de/s/yoga-vidya-burgdorf/team\n",
      "2024-02-01 21:32:04,746 - INFO - URL https://www.eversports.de/s/yoga-vidya-burgdorf/team is valid.\n"
     ]
    },
    {
     "name": "stdout",
     "output_type": "stream",
     "text": [
      "Scraping Pole Studio Data from https://www.eversports.de/s/yoga-vidya-burgdorf...\n"
     ]
    },
    {
     "name": "stderr",
     "output_type": "stream",
     "text": [
      "Processing URLs:  30%|███       | 3/10 [00:15<00:40,  5.74s/it]"
     ]
    },
    {
     "name": "stdout",
     "output_type": "stream",
     "text": [
      "Processing completed.\n",
      "\n",
      "Results for URL: https://www.eversports.de/s/yoga-vidya-burgdorf\n",
      "Pole Studio Data:\n",
      "\n",
      "\n",
      "Progress: 30.00%\n",
      "\n",
      "Processing URL 4/10: https://www.eversports.de/s/Pole-Statement\n",
      "Processing URL: https://www.eversports.de/s/Pole-Statement\n",
      "Starting URL reconstruction...\n"
     ]
    },
    {
     "name": "stderr",
     "output_type": "stream",
     "text": [
      "2024-02-01 21:32:07,511 - INFO - Processing URL 1/3: https://www.eversports.de/s/Pole-Statement\n"
     ]
    },
    {
     "name": "stdout",
     "output_type": "stream",
     "text": [
      "Error reconstructing URL for 'Kurse': Unrecognized text: 'Kurse'\n",
      "Error reconstructing URL for 'Events': Unrecognized text: 'Events'\n",
      "Converting to DataFrame...\n",
      "Validating URLs...\n"
     ]
    },
    {
     "name": "stderr",
     "output_type": "stream",
     "text": [
      "2024-02-01 21:32:09,547 - INFO - URL https://www.eversports.de/s/Pole-Statement is valid.\n",
      "2024-02-01 21:32:09,548 - INFO - Processing URL 2/3: https://www.eversports.de/sp/Pole-Statement\n",
      "2024-02-01 21:32:10,674 - INFO - URL https://www.eversports.de/sp/Pole-Statement is valid.\n",
      "2024-02-01 21:32:10,676 - INFO - Processing URL 3/3: https://www.eversports.de/s/Pole-Statement/team\n",
      "2024-02-01 21:32:11,916 - INFO - URL https://www.eversports.de/s/Pole-Statement/team is valid.\n"
     ]
    },
    {
     "name": "stdout",
     "output_type": "stream",
     "text": [
      "Scraping Pole Studio Data from https://www.eversports.de/s/Pole-Statement...\n"
     ]
    },
    {
     "name": "stderr",
     "output_type": "stream",
     "text": [
      "Processing URLs:  40%|████      | 4/10 [00:22<00:37,  6.19s/it]"
     ]
    },
    {
     "name": "stdout",
     "output_type": "stream",
     "text": [
      "Processing completed.\n",
      "\n",
      "Results for URL: https://www.eversports.de/s/Pole-Statement\n",
      "Pole Studio Data:\n",
      "\n",
      "\n",
      "Progress: 40.00%\n",
      "\n",
      "Processing URL 5/10: https://www.eversports.de/s/studio-yh-pole-(and)-sports-berlin\n",
      "Processing URL: https://www.eversports.de/s/studio-yh-pole-(and)-sports-berlin\n",
      "Starting URL reconstruction...\n"
     ]
    },
    {
     "name": "stderr",
     "output_type": "stream",
     "text": [
      "Processing URLs:  50%|█████     | 5/10 [00:23<00:21,  4.35s/it]"
     ]
    },
    {
     "name": "stdout",
     "output_type": "stream",
     "text": [
      "Error during HTTP request: 404 Client Error: Not Found for url: https://www.eversports.de/s/studio-yh-pole-(and)-sports-berlin\n",
      "Converting to DataFrame...\n",
      "Validating URLs...\n",
      "Processing completed.\n",
      "\n",
      "Results for URL: https://www.eversports.de/s/studio-yh-pole-(and)-sports-berlin\n",
      "Progress: 50.00%\n",
      "\n",
      "Processing URL 6/10: https://www.eversports.de/s/Pole-and-Move-Heidelberg\n",
      "Processing URL: https://www.eversports.de/s/Pole-and-Move-Heidelberg\n",
      "Starting URL reconstruction...\n"
     ]
    },
    {
     "name": "stderr",
     "output_type": "stream",
     "text": [
      "2024-02-01 21:32:14,949 - INFO - Processing URL 1/4: https://www.eversports.de/s/Pole-and-Move-Heidelberg\n"
     ]
    },
    {
     "name": "stdout",
     "output_type": "stream",
     "text": [
      "Converting to DataFrame...\n",
      "Validating URLs...\n"
     ]
    },
    {
     "name": "stderr",
     "output_type": "stream",
     "text": [
      "2024-02-01 21:32:16,393 - INFO - URL https://www.eversports.de/s/Pole-and-Move-Heidelberg is valid.\n",
      "2024-02-01 21:32:16,394 - INFO - Processing URL 2/4: https://www.eversports.de/sw/Pole-and-Move-Heidelberg\n",
      "2024-02-01 21:32:17,841 - INFO - URL https://www.eversports.de/sw/Pole-and-Move-Heidelberg is valid.\n",
      "2024-02-01 21:32:17,842 - INFO - Processing URL 3/4: https://www.eversports.de/sp/Pole-and-Move-Heidelberg\n",
      "2024-02-01 21:32:19,008 - INFO - URL https://www.eversports.de/sp/Pole-and-Move-Heidelberg is valid.\n",
      "2024-02-01 21:32:19,008 - INFO - Processing URL 4/4: https://www.eversports.de/s/Pole-and-Move-Heidelberg/team\n",
      "2024-02-01 21:32:20,962 - INFO - URL https://www.eversports.de/s/Pole-and-Move-Heidelberg/team is valid.\n"
     ]
    },
    {
     "name": "stdout",
     "output_type": "stream",
     "text": [
      "Scraping Pole Studio Data from https://www.eversports.de/s/Pole-and-Move-Heidelberg...\n",
      "Scraping Workshops Data from https://www.eversports.de/sw/Pole-and-Move-Heidelberg...\n",
      "Scraping Workshop Details from https://www.eversports.de/e/workshop/VYi81mK...\n",
      "Scraping Workshop Details from https://www.eversports.de/e/workshop/101RSFR...\n",
      "Scraping Workshop Details from https://www.eversports.de/e/workshop/AnumKko...\n",
      "Scraping Workshop Details from https://www.eversports.de/e/workshop/aqDwRxt...\n",
      "Scraping Workshop Details from https://www.eversports.de/e/workshop/xpUUbAx...\n",
      "Scraping Workshop Details from https://www.eversports.de/e/workshop/yXAMy8l...\n",
      "Scraping Workshop Details from https://www.eversports.de/e/workshop/mI91ydw...\n",
      "Scraping Workshop Details from https://www.eversports.de/e/workshop/Ngcpd4l...\n",
      "Scraping Workshop Details from https://www.eversports.de/e/workshop/ij8VZCH...\n"
     ]
    },
    {
     "name": "stderr",
     "output_type": "stream",
     "text": [
      "Processing URLs:  60%|██████    | 6/10 [00:45<00:41, 10.32s/it]"
     ]
    },
    {
     "name": "stdout",
     "output_type": "stream",
     "text": [
      "Processing completed.\n",
      "\n",
      "Results for URL: https://www.eversports.de/s/Pole-and-Move-Heidelberg\n",
      "Pole Studio Data:\n",
      "\n",
      "\n",
      "Workshops Data:\n",
      "\n",
      "\n",
      "Workshop Details:\n",
      "\n",
      "\n",
      "Progress: 60.00%\n",
      "\n",
      "Processing URL 7/10: https://www.eversports.de/s/BALANCE-Neumarkt\n",
      "Processing URL: https://www.eversports.de/s/BALANCE-Neumarkt\n",
      "Starting URL reconstruction...\n"
     ]
    },
    {
     "name": "stderr",
     "output_type": "stream",
     "text": [
      "2024-02-01 21:32:36,925 - INFO - Processing URL 1/4: https://www.eversports.de/s/BALANCE-Neumarkt\n"
     ]
    },
    {
     "name": "stdout",
     "output_type": "stream",
     "text": [
      "Error reconstructing URL for 'Kurse': Unrecognized text: 'Kurse'\n",
      "Converting to DataFrame...\n",
      "Validating URLs...\n"
     ]
    },
    {
     "name": "stderr",
     "output_type": "stream",
     "text": [
      "2024-02-01 21:32:38,612 - INFO - URL https://www.eversports.de/s/BALANCE-Neumarkt is valid.\n",
      "2024-02-01 21:32:38,613 - INFO - Processing URL 2/4: https://www.eversports.de/sw/BALANCE-Neumarkt\n",
      "2024-02-01 21:32:40,069 - INFO - URL https://www.eversports.de/sw/BALANCE-Neumarkt is valid.\n",
      "2024-02-01 21:32:40,071 - INFO - Processing URL 3/4: https://www.eversports.de/sp/BALANCE-Neumarkt\n",
      "Processing URLs:  60%|██████    | 6/10 [00:50<00:33,  8.48s/it]\n"
     ]
    },
    {
     "ename": "KeyboardInterrupt",
     "evalue": "",
     "output_type": "error",
     "traceback": [
      "\u001b[1;31m---------------------------------------------------------------------------\u001b[0m",
      "\u001b[1;31mKeyboardInterrupt\u001b[0m                         Traceback (most recent call last)",
      "Cell \u001b[1;32mIn[2], line 56\u001b[0m\n\u001b[0;32m     50\u001b[0m     \u001b[38;5;66;03m# # Export DataFrames to CSV files\u001b[39;00m\n\u001b[0;32m     51\u001b[0m     \u001b[38;5;66;03m# all_pole_studio_data.to_csv(\"Pole_Studio_Übersicht_S.csv\", index=False)\u001b[39;00m\n\u001b[0;32m     52\u001b[0m     \u001b[38;5;66;03m# all_workshops_data.to_csv(\"Workshop_Liste_SW.csv\", index=False)\u001b[39;00m\n\u001b[0;32m     53\u001b[0m     \u001b[38;5;66;03m# all_workshop_details_data.to_csv(\"Workshop_Übersicht_E.csv\", index=False)\u001b[39;00m\n\u001b[0;32m     55\u001b[0m \u001b[38;5;28;01mif\u001b[39;00m \u001b[38;5;18m__name__\u001b[39m \u001b[38;5;241m==\u001b[39m \u001b[38;5;124m\"\u001b[39m\u001b[38;5;124m__main__\u001b[39m\u001b[38;5;124m\"\u001b[39m:\n\u001b[1;32m---> 56\u001b[0m     \u001b[43mmain\u001b[49m\u001b[43m(\u001b[49m\u001b[43m)\u001b[49m\n",
      "Cell \u001b[1;32mIn[2], line 34\u001b[0m, in \u001b[0;36mmain\u001b[1;34m()\u001b[0m\n\u001b[0;32m     32\u001b[0m \u001b[38;5;28;01mfor\u001b[39;00m i, url \u001b[38;5;129;01min\u001b[39;00m tqdm(\u001b[38;5;28menumerate\u001b[39m(initial_urls, start\u001b[38;5;241m=\u001b[39m\u001b[38;5;241m1\u001b[39m), total\u001b[38;5;241m=\u001b[39mtotal_urls, desc\u001b[38;5;241m=\u001b[39m\u001b[38;5;124m\"\u001b[39m\u001b[38;5;124mProcessing URLs\u001b[39m\u001b[38;5;124m\"\u001b[39m):\n\u001b[0;32m     33\u001b[0m     \u001b[38;5;28mprint\u001b[39m(\u001b[38;5;124mf\u001b[39m\u001b[38;5;124m\"\u001b[39m\u001b[38;5;124mProcessing URL \u001b[39m\u001b[38;5;132;01m{\u001b[39;00mi\u001b[38;5;132;01m}\u001b[39;00m\u001b[38;5;124m/\u001b[39m\u001b[38;5;132;01m{\u001b[39;00mtotal_urls\u001b[38;5;132;01m}\u001b[39;00m\u001b[38;5;124m: \u001b[39m\u001b[38;5;132;01m{\u001b[39;00murl\u001b[38;5;132;01m}\u001b[39;00m\u001b[38;5;124m\"\u001b[39m)\n\u001b[1;32m---> 34\u001b[0m     data \u001b[38;5;241m=\u001b[39m \u001b[43mprocess_and_print_results\u001b[49m\u001b[43m(\u001b[49m\u001b[43murl\u001b[49m\u001b[43m)\u001b[49m\n\u001b[0;32m     35\u001b[0m     \u001b[38;5;28;01mif\u001b[39;00m data:\n\u001b[0;32m     36\u001b[0m         \u001b[38;5;66;03m# Add data to corresponding DataFrames\u001b[39;00m\n\u001b[0;32m     37\u001b[0m         \u001b[38;5;28;01mif\u001b[39;00m \u001b[38;5;124m'\u001b[39m\u001b[38;5;124mpole_studio_data\u001b[39m\u001b[38;5;124m'\u001b[39m \u001b[38;5;129;01min\u001b[39;00m data \u001b[38;5;129;01mand\u001b[39;00m \u001b[38;5;129;01mnot\u001b[39;00m data[\u001b[38;5;124m'\u001b[39m\u001b[38;5;124mpole_studio_data\u001b[39m\u001b[38;5;124m'\u001b[39m]\u001b[38;5;241m.\u001b[39mempty:\n",
      "Cell \u001b[1;32mIn[2], line 7\u001b[0m, in \u001b[0;36mprocess_and_print_results\u001b[1;34m(url)\u001b[0m\n\u001b[0;32m      5\u001b[0m \u001b[38;5;28;01mdef\u001b[39;00m \u001b[38;5;21mprocess_and_print_results\u001b[39m(url):\n\u001b[0;32m      6\u001b[0m     \u001b[38;5;28mprint\u001b[39m(\u001b[38;5;124mf\u001b[39m\u001b[38;5;124m\"\u001b[39m\u001b[38;5;124mProcessing URL: \u001b[39m\u001b[38;5;132;01m{\u001b[39;00murl\u001b[38;5;132;01m}\u001b[39;00m\u001b[38;5;124m\"\u001b[39m)\n\u001b[1;32m----> 7\u001b[0m     data \u001b[38;5;241m=\u001b[39m \u001b[43mprocess_urls\u001b[49m\u001b[43m(\u001b[49m\u001b[43m[\u001b[49m\u001b[43murl\u001b[49m\u001b[43m]\u001b[49m\u001b[43m)\u001b[49m\n\u001b[0;32m      9\u001b[0m     \u001b[38;5;28;01mif\u001b[39;00m data:\n\u001b[0;32m     10\u001b[0m         \u001b[38;5;28mprint\u001b[39m(\u001b[38;5;124mf\u001b[39m\u001b[38;5;124m\"\u001b[39m\u001b[38;5;130;01m\\n\u001b[39;00m\u001b[38;5;124mResults for URL: \u001b[39m\u001b[38;5;132;01m{\u001b[39;00murl\u001b[38;5;132;01m}\u001b[39;00m\u001b[38;5;124m\"\u001b[39m)\n",
      "File \u001b[1;32mc:\\Users\\hamud\\Documents\\GitHub\\1_Latest_version_Hop_Scrapper_V5\\d_Test_Refactor\\Test\\Py\\PyCaller.py:27\u001b[0m, in \u001b[0;36mprocess_urls\u001b[1;34m(urls)\u001b[0m\n\u001b[0;32m     24\u001b[0m reconstructed_urls_df \u001b[38;5;241m=\u001b[39m pd\u001b[38;5;241m.\u001b[39mDataFrame(\u001b[38;5;28mlist\u001b[39m(reconstructed_urls\u001b[38;5;241m.\u001b[39mitems()), columns\u001b[38;5;241m=\u001b[39m[\u001b[38;5;124m'\u001b[39m\u001b[38;5;124mCategory\u001b[39m\u001b[38;5;124m'\u001b[39m, \u001b[38;5;124m'\u001b[39m\u001b[38;5;124mURL\u001b[39m\u001b[38;5;124m'\u001b[39m])\n\u001b[0;32m     26\u001b[0m \u001b[38;5;28mprint\u001b[39m(\u001b[38;5;124m\"\u001b[39m\u001b[38;5;124mValidating URLs...\u001b[39m\u001b[38;5;124m\"\u001b[39m)\n\u001b[1;32m---> 27\u001b[0m validated_urls_df \u001b[38;5;241m=\u001b[39m \u001b[43mvalidate_urls\u001b[49m\u001b[43m(\u001b[49m\u001b[43mreconstructed_urls_df\u001b[49m\u001b[43m[\u001b[49m\u001b[38;5;124;43m\"\u001b[39;49m\u001b[38;5;124;43mURL\u001b[39;49m\u001b[38;5;124;43m\"\u001b[39;49m\u001b[43m]\u001b[49m\u001b[38;5;241;43m.\u001b[39;49m\u001b[43mto_list\u001b[49m\u001b[43m(\u001b[49m\u001b[43m)\u001b[49m\u001b[43m)\u001b[49m\n\u001b[0;32m     28\u001b[0m validated_urls \u001b[38;5;241m=\u001b[39m validated_urls_df[\u001b[38;5;124m\"\u001b[39m\u001b[38;5;124mValid_URL\u001b[39m\u001b[38;5;124m\"\u001b[39m]\u001b[38;5;241m.\u001b[39mtolist()\n\u001b[0;32m     30\u001b[0m \u001b[38;5;66;03m# Processing URLs\u001b[39;00m\n",
      "File \u001b[1;32mc:\\Users\\hamud\\Documents\\GitHub\\1_Latest_version_Hop_Scrapper_V5\\d_Test_Refactor\\Test\\Py\\b_URLS_Validation.py:39\u001b[0m, in \u001b[0;36mvalidate_urls\u001b[1;34m(url_list)\u001b[0m\n\u001b[0;32m     37\u001b[0m \u001b[38;5;28;01mfor\u001b[39;00m index, url \u001b[38;5;129;01min\u001b[39;00m \u001b[38;5;28menumerate\u001b[39m(url_list):\n\u001b[0;32m     38\u001b[0m     logging\u001b[38;5;241m.\u001b[39minfo(\u001b[38;5;124mf\u001b[39m\u001b[38;5;124m\"\u001b[39m\u001b[38;5;124mProcessing URL \u001b[39m\u001b[38;5;132;01m{\u001b[39;00mindex\u001b[38;5;250m \u001b[39m\u001b[38;5;241m+\u001b[39m\u001b[38;5;250m \u001b[39m\u001b[38;5;241m1\u001b[39m\u001b[38;5;132;01m}\u001b[39;00m\u001b[38;5;124m/\u001b[39m\u001b[38;5;132;01m{\u001b[39;00m\u001b[38;5;28mlen\u001b[39m(url_list)\u001b[38;5;132;01m}\u001b[39;00m\u001b[38;5;124m: \u001b[39m\u001b[38;5;132;01m{\u001b[39;00murl\u001b[38;5;132;01m}\u001b[39;00m\u001b[38;5;124m\"\u001b[39m)\n\u001b[1;32m---> 39\u001b[0m     \u001b[38;5;28;01mif\u001b[39;00m \u001b[43mis_url_valid\u001b[49m\u001b[43m(\u001b[49m\u001b[43murl\u001b[49m\u001b[43m)\u001b[49m:\n\u001b[0;32m     40\u001b[0m         valid_urls\u001b[38;5;241m.\u001b[39mappend(url)\n\u001b[0;32m     41\u001b[0m         logging\u001b[38;5;241m.\u001b[39minfo(\u001b[38;5;124mf\u001b[39m\u001b[38;5;124m\"\u001b[39m\u001b[38;5;124mURL \u001b[39m\u001b[38;5;132;01m{\u001b[39;00murl\u001b[38;5;132;01m}\u001b[39;00m\u001b[38;5;124m is valid.\u001b[39m\u001b[38;5;124m\"\u001b[39m)\n",
      "File \u001b[1;32mc:\\Users\\hamud\\Documents\\GitHub\\1_Latest_version_Hop_Scrapper_V5\\d_Test_Refactor\\Test\\Py\\b_URLS_Validation.py:19\u001b[0m, in \u001b[0;36mis_url_valid\u001b[1;34m(url)\u001b[0m\n\u001b[0;32m      9\u001b[0m \u001b[38;5;250m\u001b[39m\u001b[38;5;124;03m\"\"\"\u001b[39;00m\n\u001b[0;32m     10\u001b[0m \u001b[38;5;124;03mChecks if a URL is valid.\u001b[39;00m\n\u001b[0;32m     11\u001b[0m \n\u001b[1;32m   (...)\u001b[0m\n\u001b[0;32m     16\u001b[0m \u001b[38;5;124;03m    bool: True if the URL is valid, False otherwise.\u001b[39;00m\n\u001b[0;32m     17\u001b[0m \u001b[38;5;124;03m\"\"\"\u001b[39;00m\n\u001b[0;32m     18\u001b[0m \u001b[38;5;28;01mtry\u001b[39;00m:\n\u001b[1;32m---> 19\u001b[0m     response \u001b[38;5;241m=\u001b[39m \u001b[43mrequests\u001b[49m\u001b[38;5;241;43m.\u001b[39;49m\u001b[43mget\u001b[49m\u001b[43m(\u001b[49m\u001b[43murl\u001b[49m\u001b[43m)\u001b[49m\n\u001b[0;32m     20\u001b[0m     \u001b[38;5;28;01mreturn\u001b[39;00m response\u001b[38;5;241m.\u001b[39mstatus_code \u001b[38;5;241m==\u001b[39m \u001b[38;5;241m200\u001b[39m\n\u001b[0;32m     21\u001b[0m \u001b[38;5;28;01mexcept\u001b[39;00m requests\u001b[38;5;241m.\u001b[39mRequestException \u001b[38;5;28;01mas\u001b[39;00m e:\n",
      "File \u001b[1;32m~\\AppData\\Roaming\\Python\\Python312\\site-packages\\requests\\api.py:73\u001b[0m, in \u001b[0;36mget\u001b[1;34m(url, params, **kwargs)\u001b[0m\n\u001b[0;32m     62\u001b[0m \u001b[38;5;28;01mdef\u001b[39;00m \u001b[38;5;21mget\u001b[39m(url, params\u001b[38;5;241m=\u001b[39m\u001b[38;5;28;01mNone\u001b[39;00m, \u001b[38;5;241m*\u001b[39m\u001b[38;5;241m*\u001b[39mkwargs):\n\u001b[0;32m     63\u001b[0m \u001b[38;5;250m    \u001b[39m\u001b[38;5;124mr\u001b[39m\u001b[38;5;124;03m\"\"\"Sends a GET request.\u001b[39;00m\n\u001b[0;32m     64\u001b[0m \n\u001b[0;32m     65\u001b[0m \u001b[38;5;124;03m    :param url: URL for the new :class:`Request` object.\u001b[39;00m\n\u001b[1;32m   (...)\u001b[0m\n\u001b[0;32m     70\u001b[0m \u001b[38;5;124;03m    :rtype: requests.Response\u001b[39;00m\n\u001b[0;32m     71\u001b[0m \u001b[38;5;124;03m    \"\"\"\u001b[39;00m\n\u001b[1;32m---> 73\u001b[0m     \u001b[38;5;28;01mreturn\u001b[39;00m \u001b[43mrequest\u001b[49m\u001b[43m(\u001b[49m\u001b[38;5;124;43m\"\u001b[39;49m\u001b[38;5;124;43mget\u001b[39;49m\u001b[38;5;124;43m\"\u001b[39;49m\u001b[43m,\u001b[49m\u001b[43m \u001b[49m\u001b[43murl\u001b[49m\u001b[43m,\u001b[49m\u001b[43m \u001b[49m\u001b[43mparams\u001b[49m\u001b[38;5;241;43m=\u001b[39;49m\u001b[43mparams\u001b[49m\u001b[43m,\u001b[49m\u001b[43m \u001b[49m\u001b[38;5;241;43m*\u001b[39;49m\u001b[38;5;241;43m*\u001b[39;49m\u001b[43mkwargs\u001b[49m\u001b[43m)\u001b[49m\n",
      "File \u001b[1;32m~\\AppData\\Roaming\\Python\\Python312\\site-packages\\requests\\api.py:59\u001b[0m, in \u001b[0;36mrequest\u001b[1;34m(method, url, **kwargs)\u001b[0m\n\u001b[0;32m     55\u001b[0m \u001b[38;5;66;03m# By using the 'with' statement we are sure the session is closed, thus we\u001b[39;00m\n\u001b[0;32m     56\u001b[0m \u001b[38;5;66;03m# avoid leaving sockets open which can trigger a ResourceWarning in some\u001b[39;00m\n\u001b[0;32m     57\u001b[0m \u001b[38;5;66;03m# cases, and look like a memory leak in others.\u001b[39;00m\n\u001b[0;32m     58\u001b[0m \u001b[38;5;28;01mwith\u001b[39;00m sessions\u001b[38;5;241m.\u001b[39mSession() \u001b[38;5;28;01mas\u001b[39;00m session:\n\u001b[1;32m---> 59\u001b[0m     \u001b[38;5;28;01mreturn\u001b[39;00m \u001b[43msession\u001b[49m\u001b[38;5;241;43m.\u001b[39;49m\u001b[43mrequest\u001b[49m\u001b[43m(\u001b[49m\u001b[43mmethod\u001b[49m\u001b[38;5;241;43m=\u001b[39;49m\u001b[43mmethod\u001b[49m\u001b[43m,\u001b[49m\u001b[43m \u001b[49m\u001b[43murl\u001b[49m\u001b[38;5;241;43m=\u001b[39;49m\u001b[43murl\u001b[49m\u001b[43m,\u001b[49m\u001b[43m \u001b[49m\u001b[38;5;241;43m*\u001b[39;49m\u001b[38;5;241;43m*\u001b[39;49m\u001b[43mkwargs\u001b[49m\u001b[43m)\u001b[49m\n",
      "File \u001b[1;32m~\\AppData\\Roaming\\Python\\Python312\\site-packages\\requests\\sessions.py:589\u001b[0m, in \u001b[0;36mSession.request\u001b[1;34m(self, method, url, params, data, headers, cookies, files, auth, timeout, allow_redirects, proxies, hooks, stream, verify, cert, json)\u001b[0m\n\u001b[0;32m    584\u001b[0m send_kwargs \u001b[38;5;241m=\u001b[39m {\n\u001b[0;32m    585\u001b[0m     \u001b[38;5;124m\"\u001b[39m\u001b[38;5;124mtimeout\u001b[39m\u001b[38;5;124m\"\u001b[39m: timeout,\n\u001b[0;32m    586\u001b[0m     \u001b[38;5;124m\"\u001b[39m\u001b[38;5;124mallow_redirects\u001b[39m\u001b[38;5;124m\"\u001b[39m: allow_redirects,\n\u001b[0;32m    587\u001b[0m }\n\u001b[0;32m    588\u001b[0m send_kwargs\u001b[38;5;241m.\u001b[39mupdate(settings)\n\u001b[1;32m--> 589\u001b[0m resp \u001b[38;5;241m=\u001b[39m \u001b[38;5;28;43mself\u001b[39;49m\u001b[38;5;241;43m.\u001b[39;49m\u001b[43msend\u001b[49m\u001b[43m(\u001b[49m\u001b[43mprep\u001b[49m\u001b[43m,\u001b[49m\u001b[43m \u001b[49m\u001b[38;5;241;43m*\u001b[39;49m\u001b[38;5;241;43m*\u001b[39;49m\u001b[43msend_kwargs\u001b[49m\u001b[43m)\u001b[49m\n\u001b[0;32m    591\u001b[0m \u001b[38;5;28;01mreturn\u001b[39;00m resp\n",
      "File \u001b[1;32m~\\AppData\\Roaming\\Python\\Python312\\site-packages\\requests\\sessions.py:703\u001b[0m, in \u001b[0;36mSession.send\u001b[1;34m(self, request, **kwargs)\u001b[0m\n\u001b[0;32m    700\u001b[0m start \u001b[38;5;241m=\u001b[39m preferred_clock()\n\u001b[0;32m    702\u001b[0m \u001b[38;5;66;03m# Send the request\u001b[39;00m\n\u001b[1;32m--> 703\u001b[0m r \u001b[38;5;241m=\u001b[39m \u001b[43madapter\u001b[49m\u001b[38;5;241;43m.\u001b[39;49m\u001b[43msend\u001b[49m\u001b[43m(\u001b[49m\u001b[43mrequest\u001b[49m\u001b[43m,\u001b[49m\u001b[43m \u001b[49m\u001b[38;5;241;43m*\u001b[39;49m\u001b[38;5;241;43m*\u001b[39;49m\u001b[43mkwargs\u001b[49m\u001b[43m)\u001b[49m\n\u001b[0;32m    705\u001b[0m \u001b[38;5;66;03m# Total elapsed time of the request (approximately)\u001b[39;00m\n\u001b[0;32m    706\u001b[0m elapsed \u001b[38;5;241m=\u001b[39m preferred_clock() \u001b[38;5;241m-\u001b[39m start\n",
      "File \u001b[1;32m~\\AppData\\Roaming\\Python\\Python312\\site-packages\\requests\\adapters.py:486\u001b[0m, in \u001b[0;36mHTTPAdapter.send\u001b[1;34m(self, request, stream, timeout, verify, cert, proxies)\u001b[0m\n\u001b[0;32m    483\u001b[0m     timeout \u001b[38;5;241m=\u001b[39m TimeoutSauce(connect\u001b[38;5;241m=\u001b[39mtimeout, read\u001b[38;5;241m=\u001b[39mtimeout)\n\u001b[0;32m    485\u001b[0m \u001b[38;5;28;01mtry\u001b[39;00m:\n\u001b[1;32m--> 486\u001b[0m     resp \u001b[38;5;241m=\u001b[39m \u001b[43mconn\u001b[49m\u001b[38;5;241;43m.\u001b[39;49m\u001b[43murlopen\u001b[49m\u001b[43m(\u001b[49m\n\u001b[0;32m    487\u001b[0m \u001b[43m        \u001b[49m\u001b[43mmethod\u001b[49m\u001b[38;5;241;43m=\u001b[39;49m\u001b[43mrequest\u001b[49m\u001b[38;5;241;43m.\u001b[39;49m\u001b[43mmethod\u001b[49m\u001b[43m,\u001b[49m\n\u001b[0;32m    488\u001b[0m \u001b[43m        \u001b[49m\u001b[43murl\u001b[49m\u001b[38;5;241;43m=\u001b[39;49m\u001b[43murl\u001b[49m\u001b[43m,\u001b[49m\n\u001b[0;32m    489\u001b[0m \u001b[43m        \u001b[49m\u001b[43mbody\u001b[49m\u001b[38;5;241;43m=\u001b[39;49m\u001b[43mrequest\u001b[49m\u001b[38;5;241;43m.\u001b[39;49m\u001b[43mbody\u001b[49m\u001b[43m,\u001b[49m\n\u001b[0;32m    490\u001b[0m \u001b[43m        \u001b[49m\u001b[43mheaders\u001b[49m\u001b[38;5;241;43m=\u001b[39;49m\u001b[43mrequest\u001b[49m\u001b[38;5;241;43m.\u001b[39;49m\u001b[43mheaders\u001b[49m\u001b[43m,\u001b[49m\n\u001b[0;32m    491\u001b[0m \u001b[43m        \u001b[49m\u001b[43mredirect\u001b[49m\u001b[38;5;241;43m=\u001b[39;49m\u001b[38;5;28;43;01mFalse\u001b[39;49;00m\u001b[43m,\u001b[49m\n\u001b[0;32m    492\u001b[0m \u001b[43m        \u001b[49m\u001b[43massert_same_host\u001b[49m\u001b[38;5;241;43m=\u001b[39;49m\u001b[38;5;28;43;01mFalse\u001b[39;49;00m\u001b[43m,\u001b[49m\n\u001b[0;32m    493\u001b[0m \u001b[43m        \u001b[49m\u001b[43mpreload_content\u001b[49m\u001b[38;5;241;43m=\u001b[39;49m\u001b[38;5;28;43;01mFalse\u001b[39;49;00m\u001b[43m,\u001b[49m\n\u001b[0;32m    494\u001b[0m \u001b[43m        \u001b[49m\u001b[43mdecode_content\u001b[49m\u001b[38;5;241;43m=\u001b[39;49m\u001b[38;5;28;43;01mFalse\u001b[39;49;00m\u001b[43m,\u001b[49m\n\u001b[0;32m    495\u001b[0m \u001b[43m        \u001b[49m\u001b[43mretries\u001b[49m\u001b[38;5;241;43m=\u001b[39;49m\u001b[38;5;28;43mself\u001b[39;49m\u001b[38;5;241;43m.\u001b[39;49m\u001b[43mmax_retries\u001b[49m\u001b[43m,\u001b[49m\n\u001b[0;32m    496\u001b[0m \u001b[43m        \u001b[49m\u001b[43mtimeout\u001b[49m\u001b[38;5;241;43m=\u001b[39;49m\u001b[43mtimeout\u001b[49m\u001b[43m,\u001b[49m\n\u001b[0;32m    497\u001b[0m \u001b[43m        \u001b[49m\u001b[43mchunked\u001b[49m\u001b[38;5;241;43m=\u001b[39;49m\u001b[43mchunked\u001b[49m\u001b[43m,\u001b[49m\n\u001b[0;32m    498\u001b[0m \u001b[43m    \u001b[49m\u001b[43m)\u001b[49m\n\u001b[0;32m    500\u001b[0m \u001b[38;5;28;01mexcept\u001b[39;00m (ProtocolError, \u001b[38;5;167;01mOSError\u001b[39;00m) \u001b[38;5;28;01mas\u001b[39;00m err:\n\u001b[0;32m    501\u001b[0m     \u001b[38;5;28;01mraise\u001b[39;00m \u001b[38;5;167;01mConnectionError\u001b[39;00m(err, request\u001b[38;5;241m=\u001b[39mrequest)\n",
      "File \u001b[1;32m~\\AppData\\Roaming\\Python\\Python312\\site-packages\\urllib3\\connectionpool.py:790\u001b[0m, in \u001b[0;36mHTTPConnectionPool.urlopen\u001b[1;34m(self, method, url, body, headers, retries, redirect, assert_same_host, timeout, pool_timeout, release_conn, chunked, body_pos, preload_content, decode_content, **response_kw)\u001b[0m\n\u001b[0;32m    787\u001b[0m response_conn \u001b[38;5;241m=\u001b[39m conn \u001b[38;5;28;01mif\u001b[39;00m \u001b[38;5;129;01mnot\u001b[39;00m release_conn \u001b[38;5;28;01melse\u001b[39;00m \u001b[38;5;28;01mNone\u001b[39;00m\n\u001b[0;32m    789\u001b[0m \u001b[38;5;66;03m# Make the request on the HTTPConnection object\u001b[39;00m\n\u001b[1;32m--> 790\u001b[0m response \u001b[38;5;241m=\u001b[39m \u001b[38;5;28;43mself\u001b[39;49m\u001b[38;5;241;43m.\u001b[39;49m\u001b[43m_make_request\u001b[49m\u001b[43m(\u001b[49m\n\u001b[0;32m    791\u001b[0m \u001b[43m    \u001b[49m\u001b[43mconn\u001b[49m\u001b[43m,\u001b[49m\n\u001b[0;32m    792\u001b[0m \u001b[43m    \u001b[49m\u001b[43mmethod\u001b[49m\u001b[43m,\u001b[49m\n\u001b[0;32m    793\u001b[0m \u001b[43m    \u001b[49m\u001b[43murl\u001b[49m\u001b[43m,\u001b[49m\n\u001b[0;32m    794\u001b[0m \u001b[43m    \u001b[49m\u001b[43mtimeout\u001b[49m\u001b[38;5;241;43m=\u001b[39;49m\u001b[43mtimeout_obj\u001b[49m\u001b[43m,\u001b[49m\n\u001b[0;32m    795\u001b[0m \u001b[43m    \u001b[49m\u001b[43mbody\u001b[49m\u001b[38;5;241;43m=\u001b[39;49m\u001b[43mbody\u001b[49m\u001b[43m,\u001b[49m\n\u001b[0;32m    796\u001b[0m \u001b[43m    \u001b[49m\u001b[43mheaders\u001b[49m\u001b[38;5;241;43m=\u001b[39;49m\u001b[43mheaders\u001b[49m\u001b[43m,\u001b[49m\n\u001b[0;32m    797\u001b[0m \u001b[43m    \u001b[49m\u001b[43mchunked\u001b[49m\u001b[38;5;241;43m=\u001b[39;49m\u001b[43mchunked\u001b[49m\u001b[43m,\u001b[49m\n\u001b[0;32m    798\u001b[0m \u001b[43m    \u001b[49m\u001b[43mretries\u001b[49m\u001b[38;5;241;43m=\u001b[39;49m\u001b[43mretries\u001b[49m\u001b[43m,\u001b[49m\n\u001b[0;32m    799\u001b[0m \u001b[43m    \u001b[49m\u001b[43mresponse_conn\u001b[49m\u001b[38;5;241;43m=\u001b[39;49m\u001b[43mresponse_conn\u001b[49m\u001b[43m,\u001b[49m\n\u001b[0;32m    800\u001b[0m \u001b[43m    \u001b[49m\u001b[43mpreload_content\u001b[49m\u001b[38;5;241;43m=\u001b[39;49m\u001b[43mpreload_content\u001b[49m\u001b[43m,\u001b[49m\n\u001b[0;32m    801\u001b[0m \u001b[43m    \u001b[49m\u001b[43mdecode_content\u001b[49m\u001b[38;5;241;43m=\u001b[39;49m\u001b[43mdecode_content\u001b[49m\u001b[43m,\u001b[49m\n\u001b[0;32m    802\u001b[0m \u001b[43m    \u001b[49m\u001b[38;5;241;43m*\u001b[39;49m\u001b[38;5;241;43m*\u001b[39;49m\u001b[43mresponse_kw\u001b[49m\u001b[43m,\u001b[49m\n\u001b[0;32m    803\u001b[0m \u001b[43m\u001b[49m\u001b[43m)\u001b[49m\n\u001b[0;32m    805\u001b[0m \u001b[38;5;66;03m# Everything went great!\u001b[39;00m\n\u001b[0;32m    806\u001b[0m clean_exit \u001b[38;5;241m=\u001b[39m \u001b[38;5;28;01mTrue\u001b[39;00m\n",
      "File \u001b[1;32m~\\AppData\\Roaming\\Python\\Python312\\site-packages\\urllib3\\connectionpool.py:467\u001b[0m, in \u001b[0;36mHTTPConnectionPool._make_request\u001b[1;34m(self, conn, method, url, body, headers, retries, timeout, chunked, response_conn, preload_content, decode_content, enforce_content_length)\u001b[0m\n\u001b[0;32m    464\u001b[0m \u001b[38;5;28;01mtry\u001b[39;00m:\n\u001b[0;32m    465\u001b[0m     \u001b[38;5;66;03m# Trigger any extra validation we need to do.\u001b[39;00m\n\u001b[0;32m    466\u001b[0m     \u001b[38;5;28;01mtry\u001b[39;00m:\n\u001b[1;32m--> 467\u001b[0m         \u001b[38;5;28;43mself\u001b[39;49m\u001b[38;5;241;43m.\u001b[39;49m\u001b[43m_validate_conn\u001b[49m\u001b[43m(\u001b[49m\u001b[43mconn\u001b[49m\u001b[43m)\u001b[49m\n\u001b[0;32m    468\u001b[0m     \u001b[38;5;28;01mexcept\u001b[39;00m (SocketTimeout, BaseSSLError) \u001b[38;5;28;01mas\u001b[39;00m e:\n\u001b[0;32m    469\u001b[0m         \u001b[38;5;28mself\u001b[39m\u001b[38;5;241m.\u001b[39m_raise_timeout(err\u001b[38;5;241m=\u001b[39me, url\u001b[38;5;241m=\u001b[39murl, timeout_value\u001b[38;5;241m=\u001b[39mconn\u001b[38;5;241m.\u001b[39mtimeout)\n",
      "File \u001b[1;32m~\\AppData\\Roaming\\Python\\Python312\\site-packages\\urllib3\\connectionpool.py:1096\u001b[0m, in \u001b[0;36mHTTPSConnectionPool._validate_conn\u001b[1;34m(self, conn)\u001b[0m\n\u001b[0;32m   1094\u001b[0m \u001b[38;5;66;03m# Force connect early to allow us to validate the connection.\u001b[39;00m\n\u001b[0;32m   1095\u001b[0m \u001b[38;5;28;01mif\u001b[39;00m conn\u001b[38;5;241m.\u001b[39mis_closed:\n\u001b[1;32m-> 1096\u001b[0m     \u001b[43mconn\u001b[49m\u001b[38;5;241;43m.\u001b[39;49m\u001b[43mconnect\u001b[49m\u001b[43m(\u001b[49m\u001b[43m)\u001b[49m\n\u001b[0;32m   1098\u001b[0m \u001b[38;5;28;01mif\u001b[39;00m \u001b[38;5;129;01mnot\u001b[39;00m conn\u001b[38;5;241m.\u001b[39mis_verified:\n\u001b[0;32m   1099\u001b[0m     warnings\u001b[38;5;241m.\u001b[39mwarn(\n\u001b[0;32m   1100\u001b[0m         (\n\u001b[0;32m   1101\u001b[0m             \u001b[38;5;124mf\u001b[39m\u001b[38;5;124m\"\u001b[39m\u001b[38;5;124mUnverified HTTPS request is being made to host \u001b[39m\u001b[38;5;124m'\u001b[39m\u001b[38;5;132;01m{\u001b[39;00mconn\u001b[38;5;241m.\u001b[39mhost\u001b[38;5;132;01m}\u001b[39;00m\u001b[38;5;124m'\u001b[39m\u001b[38;5;124m. \u001b[39m\u001b[38;5;124m\"\u001b[39m\n\u001b[1;32m   (...)\u001b[0m\n\u001b[0;32m   1106\u001b[0m         InsecureRequestWarning,\n\u001b[0;32m   1107\u001b[0m     )\n",
      "File \u001b[1;32m~\\AppData\\Roaming\\Python\\Python312\\site-packages\\urllib3\\connection.py:642\u001b[0m, in \u001b[0;36mHTTPSConnection.connect\u001b[1;34m(self)\u001b[0m\n\u001b[0;32m    633\u001b[0m \u001b[38;5;28;01mif\u001b[39;00m is_time_off:\n\u001b[0;32m    634\u001b[0m     warnings\u001b[38;5;241m.\u001b[39mwarn(\n\u001b[0;32m    635\u001b[0m         (\n\u001b[0;32m    636\u001b[0m             \u001b[38;5;124mf\u001b[39m\u001b[38;5;124m\"\u001b[39m\u001b[38;5;124mSystem time is way off (before \u001b[39m\u001b[38;5;132;01m{\u001b[39;00mRECENT_DATE\u001b[38;5;132;01m}\u001b[39;00m\u001b[38;5;124m). This will probably \u001b[39m\u001b[38;5;124m\"\u001b[39m\n\u001b[1;32m   (...)\u001b[0m\n\u001b[0;32m    639\u001b[0m         SystemTimeWarning,\n\u001b[0;32m    640\u001b[0m     )\n\u001b[1;32m--> 642\u001b[0m sock_and_verified \u001b[38;5;241m=\u001b[39m \u001b[43m_ssl_wrap_socket_and_match_hostname\u001b[49m\u001b[43m(\u001b[49m\n\u001b[0;32m    643\u001b[0m \u001b[43m    \u001b[49m\u001b[43msock\u001b[49m\u001b[38;5;241;43m=\u001b[39;49m\u001b[43msock\u001b[49m\u001b[43m,\u001b[49m\n\u001b[0;32m    644\u001b[0m \u001b[43m    \u001b[49m\u001b[43mcert_reqs\u001b[49m\u001b[38;5;241;43m=\u001b[39;49m\u001b[38;5;28;43mself\u001b[39;49m\u001b[38;5;241;43m.\u001b[39;49m\u001b[43mcert_reqs\u001b[49m\u001b[43m,\u001b[49m\n\u001b[0;32m    645\u001b[0m \u001b[43m    \u001b[49m\u001b[43mssl_version\u001b[49m\u001b[38;5;241;43m=\u001b[39;49m\u001b[38;5;28;43mself\u001b[39;49m\u001b[38;5;241;43m.\u001b[39;49m\u001b[43mssl_version\u001b[49m\u001b[43m,\u001b[49m\n\u001b[0;32m    646\u001b[0m \u001b[43m    \u001b[49m\u001b[43mssl_minimum_version\u001b[49m\u001b[38;5;241;43m=\u001b[39;49m\u001b[38;5;28;43mself\u001b[39;49m\u001b[38;5;241;43m.\u001b[39;49m\u001b[43mssl_minimum_version\u001b[49m\u001b[43m,\u001b[49m\n\u001b[0;32m    647\u001b[0m \u001b[43m    \u001b[49m\u001b[43mssl_maximum_version\u001b[49m\u001b[38;5;241;43m=\u001b[39;49m\u001b[38;5;28;43mself\u001b[39;49m\u001b[38;5;241;43m.\u001b[39;49m\u001b[43mssl_maximum_version\u001b[49m\u001b[43m,\u001b[49m\n\u001b[0;32m    648\u001b[0m \u001b[43m    \u001b[49m\u001b[43mca_certs\u001b[49m\u001b[38;5;241;43m=\u001b[39;49m\u001b[38;5;28;43mself\u001b[39;49m\u001b[38;5;241;43m.\u001b[39;49m\u001b[43mca_certs\u001b[49m\u001b[43m,\u001b[49m\n\u001b[0;32m    649\u001b[0m \u001b[43m    \u001b[49m\u001b[43mca_cert_dir\u001b[49m\u001b[38;5;241;43m=\u001b[39;49m\u001b[38;5;28;43mself\u001b[39;49m\u001b[38;5;241;43m.\u001b[39;49m\u001b[43mca_cert_dir\u001b[49m\u001b[43m,\u001b[49m\n\u001b[0;32m    650\u001b[0m \u001b[43m    \u001b[49m\u001b[43mca_cert_data\u001b[49m\u001b[38;5;241;43m=\u001b[39;49m\u001b[38;5;28;43mself\u001b[39;49m\u001b[38;5;241;43m.\u001b[39;49m\u001b[43mca_cert_data\u001b[49m\u001b[43m,\u001b[49m\n\u001b[0;32m    651\u001b[0m \u001b[43m    \u001b[49m\u001b[43mcert_file\u001b[49m\u001b[38;5;241;43m=\u001b[39;49m\u001b[38;5;28;43mself\u001b[39;49m\u001b[38;5;241;43m.\u001b[39;49m\u001b[43mcert_file\u001b[49m\u001b[43m,\u001b[49m\n\u001b[0;32m    652\u001b[0m \u001b[43m    \u001b[49m\u001b[43mkey_file\u001b[49m\u001b[38;5;241;43m=\u001b[39;49m\u001b[38;5;28;43mself\u001b[39;49m\u001b[38;5;241;43m.\u001b[39;49m\u001b[43mkey_file\u001b[49m\u001b[43m,\u001b[49m\n\u001b[0;32m    653\u001b[0m \u001b[43m    \u001b[49m\u001b[43mkey_password\u001b[49m\u001b[38;5;241;43m=\u001b[39;49m\u001b[38;5;28;43mself\u001b[39;49m\u001b[38;5;241;43m.\u001b[39;49m\u001b[43mkey_password\u001b[49m\u001b[43m,\u001b[49m\n\u001b[0;32m    654\u001b[0m \u001b[43m    \u001b[49m\u001b[43mserver_hostname\u001b[49m\u001b[38;5;241;43m=\u001b[39;49m\u001b[43mserver_hostname\u001b[49m\u001b[43m,\u001b[49m\n\u001b[0;32m    655\u001b[0m \u001b[43m    \u001b[49m\u001b[43mssl_context\u001b[49m\u001b[38;5;241;43m=\u001b[39;49m\u001b[38;5;28;43mself\u001b[39;49m\u001b[38;5;241;43m.\u001b[39;49m\u001b[43mssl_context\u001b[49m\u001b[43m,\u001b[49m\n\u001b[0;32m    656\u001b[0m \u001b[43m    \u001b[49m\u001b[43mtls_in_tls\u001b[49m\u001b[38;5;241;43m=\u001b[39;49m\u001b[43mtls_in_tls\u001b[49m\u001b[43m,\u001b[49m\n\u001b[0;32m    657\u001b[0m \u001b[43m    \u001b[49m\u001b[43massert_hostname\u001b[49m\u001b[38;5;241;43m=\u001b[39;49m\u001b[38;5;28;43mself\u001b[39;49m\u001b[38;5;241;43m.\u001b[39;49m\u001b[43massert_hostname\u001b[49m\u001b[43m,\u001b[49m\n\u001b[0;32m    658\u001b[0m \u001b[43m    \u001b[49m\u001b[43massert_fingerprint\u001b[49m\u001b[38;5;241;43m=\u001b[39;49m\u001b[38;5;28;43mself\u001b[39;49m\u001b[38;5;241;43m.\u001b[39;49m\u001b[43massert_fingerprint\u001b[49m\u001b[43m,\u001b[49m\n\u001b[0;32m    659\u001b[0m \u001b[43m\u001b[49m\u001b[43m)\u001b[49m\n\u001b[0;32m    660\u001b[0m \u001b[38;5;28mself\u001b[39m\u001b[38;5;241m.\u001b[39msock \u001b[38;5;241m=\u001b[39m sock_and_verified\u001b[38;5;241m.\u001b[39msocket\n\u001b[0;32m    661\u001b[0m \u001b[38;5;28mself\u001b[39m\u001b[38;5;241m.\u001b[39mis_verified \u001b[38;5;241m=\u001b[39m sock_and_verified\u001b[38;5;241m.\u001b[39mis_verified\n",
      "File \u001b[1;32m~\\AppData\\Roaming\\Python\\Python312\\site-packages\\urllib3\\connection.py:782\u001b[0m, in \u001b[0;36m_ssl_wrap_socket_and_match_hostname\u001b[1;34m(sock, cert_reqs, ssl_version, ssl_minimum_version, ssl_maximum_version, cert_file, key_file, key_password, ca_certs, ca_cert_dir, ca_cert_data, assert_hostname, assert_fingerprint, server_hostname, ssl_context, tls_in_tls)\u001b[0m\n\u001b[0;32m    779\u001b[0m     \u001b[38;5;28;01mif\u001b[39;00m is_ipaddress(normalized):\n\u001b[0;32m    780\u001b[0m         server_hostname \u001b[38;5;241m=\u001b[39m normalized\n\u001b[1;32m--> 782\u001b[0m ssl_sock \u001b[38;5;241m=\u001b[39m \u001b[43mssl_wrap_socket\u001b[49m\u001b[43m(\u001b[49m\n\u001b[0;32m    783\u001b[0m \u001b[43m    \u001b[49m\u001b[43msock\u001b[49m\u001b[38;5;241;43m=\u001b[39;49m\u001b[43msock\u001b[49m\u001b[43m,\u001b[49m\n\u001b[0;32m    784\u001b[0m \u001b[43m    \u001b[49m\u001b[43mkeyfile\u001b[49m\u001b[38;5;241;43m=\u001b[39;49m\u001b[43mkey_file\u001b[49m\u001b[43m,\u001b[49m\n\u001b[0;32m    785\u001b[0m \u001b[43m    \u001b[49m\u001b[43mcertfile\u001b[49m\u001b[38;5;241;43m=\u001b[39;49m\u001b[43mcert_file\u001b[49m\u001b[43m,\u001b[49m\n\u001b[0;32m    786\u001b[0m \u001b[43m    \u001b[49m\u001b[43mkey_password\u001b[49m\u001b[38;5;241;43m=\u001b[39;49m\u001b[43mkey_password\u001b[49m\u001b[43m,\u001b[49m\n\u001b[0;32m    787\u001b[0m \u001b[43m    \u001b[49m\u001b[43mca_certs\u001b[49m\u001b[38;5;241;43m=\u001b[39;49m\u001b[43mca_certs\u001b[49m\u001b[43m,\u001b[49m\n\u001b[0;32m    788\u001b[0m \u001b[43m    \u001b[49m\u001b[43mca_cert_dir\u001b[49m\u001b[38;5;241;43m=\u001b[39;49m\u001b[43mca_cert_dir\u001b[49m\u001b[43m,\u001b[49m\n\u001b[0;32m    789\u001b[0m \u001b[43m    \u001b[49m\u001b[43mca_cert_data\u001b[49m\u001b[38;5;241;43m=\u001b[39;49m\u001b[43mca_cert_data\u001b[49m\u001b[43m,\u001b[49m\n\u001b[0;32m    790\u001b[0m \u001b[43m    \u001b[49m\u001b[43mserver_hostname\u001b[49m\u001b[38;5;241;43m=\u001b[39;49m\u001b[43mserver_hostname\u001b[49m\u001b[43m,\u001b[49m\n\u001b[0;32m    791\u001b[0m \u001b[43m    \u001b[49m\u001b[43mssl_context\u001b[49m\u001b[38;5;241;43m=\u001b[39;49m\u001b[43mcontext\u001b[49m\u001b[43m,\u001b[49m\n\u001b[0;32m    792\u001b[0m \u001b[43m    \u001b[49m\u001b[43mtls_in_tls\u001b[49m\u001b[38;5;241;43m=\u001b[39;49m\u001b[43mtls_in_tls\u001b[49m\u001b[43m,\u001b[49m\n\u001b[0;32m    793\u001b[0m \u001b[43m\u001b[49m\u001b[43m)\u001b[49m\n\u001b[0;32m    795\u001b[0m \u001b[38;5;28;01mtry\u001b[39;00m:\n\u001b[0;32m    796\u001b[0m     \u001b[38;5;28;01mif\u001b[39;00m assert_fingerprint:\n",
      "File \u001b[1;32m~\\AppData\\Roaming\\Python\\Python312\\site-packages\\urllib3\\util\\ssl_.py:445\u001b[0m, in \u001b[0;36mssl_wrap_socket\u001b[1;34m(sock, keyfile, certfile, cert_reqs, ca_certs, server_hostname, ssl_version, ciphers, ssl_context, ca_cert_dir, key_password, ca_cert_data, tls_in_tls)\u001b[0m\n\u001b[0;32m    443\u001b[0m \u001b[38;5;28;01mif\u001b[39;00m ca_certs \u001b[38;5;129;01mor\u001b[39;00m ca_cert_dir \u001b[38;5;129;01mor\u001b[39;00m ca_cert_data:\n\u001b[0;32m    444\u001b[0m     \u001b[38;5;28;01mtry\u001b[39;00m:\n\u001b[1;32m--> 445\u001b[0m         \u001b[43mcontext\u001b[49m\u001b[38;5;241;43m.\u001b[39;49m\u001b[43mload_verify_locations\u001b[49m\u001b[43m(\u001b[49m\u001b[43mca_certs\u001b[49m\u001b[43m,\u001b[49m\u001b[43m \u001b[49m\u001b[43mca_cert_dir\u001b[49m\u001b[43m,\u001b[49m\u001b[43m \u001b[49m\u001b[43mca_cert_data\u001b[49m\u001b[43m)\u001b[49m\n\u001b[0;32m    446\u001b[0m     \u001b[38;5;28;01mexcept\u001b[39;00m \u001b[38;5;167;01mOSError\u001b[39;00m \u001b[38;5;28;01mas\u001b[39;00m e:\n\u001b[0;32m    447\u001b[0m         \u001b[38;5;28;01mraise\u001b[39;00m SSLError(e) \u001b[38;5;28;01mfrom\u001b[39;00m \u001b[38;5;21;01me\u001b[39;00m\n",
      "\u001b[1;31mKeyboardInterrupt\u001b[0m: "
     ]
    }
   ],
   "source": [
    "import pandas as pd\n",
    "from PyCaller import process_urls\n",
    "from tqdm import tqdm\n",
    "\n",
    "def process_and_print_results(url):\n",
    "    print(f\"Processing URL: {url}\")\n",
    "    data = process_urls([url])\n",
    "\n",
    "    if data:\n",
    "        print(f\"\\nResults for URL: {url}\")\n",
    "        for key, df in data.items():\n",
    "            if df is not None and not df.empty:\n",
    "                print(f\"{key.replace('_', ' ').title()}:\")\n",
    "                print(\"\\n\")\n",
    "        return data\n",
    "    else:\n",
    "        print(f\"No data found for URL: {url}\")\n",
    "        return None\n",
    "\n",
    "def main():\n",
    "    # Load initial URLs\n",
    "    all_found_urls_s = pd.read_csv(\"all_found_urls_23.12.23_cleaned.csv\")\n",
    "    initial_urls = list(set(all_found_urls_s[\"0\"]))[:10]\n",
    "\n",
    "    # Initialize DataFrames\n",
    "    all_pole_studio_data = pd.DataFrame()\n",
    "    all_workshops_data = pd.DataFrame()\n",
    "    all_workshop_details_data = pd.DataFrame()\n",
    "\n",
    "    # Process each URL\n",
    "    total_urls = len(initial_urls)\n",
    "    for i, url in tqdm(enumerate(initial_urls, start=1), total=total_urls, desc=\"Processing URLs\"):\n",
    "        print(f\"Processing URL {i}/{total_urls}: {url}\")\n",
    "        data = process_and_print_results(url)\n",
    "        if data:\n",
    "            # Add data to corresponding DataFrames\n",
    "            if 'pole_studio_data' in data and not data['pole_studio_data'].empty:\n",
    "                all_pole_studio_data = pd.concat([all_pole_studio_data, data['pole_studio_data']], ignore_index=True)\n",
    "            \n",
    "            if 'workshops_data' in data and not data['workshops_data'].empty:\n",
    "                all_workshops_data = pd.concat([all_workshops_data, data['workshops_data']], ignore_index=True)\n",
    "            \n",
    "            if 'workshop_details' in data and not data['workshop_details'].empty:\n",
    "                all_workshop_details_data = pd.concat([all_workshop_details_data, data['workshop_details']], ignore_index=True)\n",
    "\n",
    "        # Display progress\n",
    "        progress_percent = (i / total_urls) * 100\n",
    "        print(f\"Progress: {progress_percent:.2f}%\\n\")\n",
    "\n",
    "    # # Export DataFrames to CSV files\n",
    "    # all_pole_studio_data.to_csv(\"Pole_Studio_Übersicht_S.csv\", index=False)\n",
    "    # all_workshops_data.to_csv(\"Workshop_Liste_SW.csv\", index=False)\n",
    "    # all_workshop_details_data.to_csv(\"Workshop_Übersicht_E.csv\", index=False)\n",
    "\n",
    "if __name__ == \"__main__\":\n",
    "    main()\n"
   ]
  },
  {
   "cell_type": "markdown",
   "metadata": {},
   "source": [
    "URLS Cleaner"
   ]
  },
  {
   "cell_type": "code",
   "execution_count": 3,
   "metadata": {},
   "outputs": [
    {
     "name": "stdout",
     "output_type": "stream",
     "text": [
      "Cleaned and unique URLs saved to: all_found_urls_23.12.23_cleaned.csv\n"
     ]
    }
   ],
   "source": [
    "import pandas as pd\n",
    "\n",
    "def clean_and_unique_urls(file_path):\n",
    "    # Read the CSV file\n",
    "    all_found_urls_s = pd.read_csv(file_path, header=None, names=['index', 'url'])\n",
    "\n",
    "    # Ensure all URLs are in lowercase\n",
    "    all_found_urls_s['url'] = all_found_urls_s['url'].str.lower()\n",
    "\n",
    "    # Remove duplicate URLs\n",
    "    all_found_urls_s = all_found_urls_s.drop_duplicates(subset=['url'])\n",
    "\n",
    "    # Save the cleaned and unique URLs to a new CSV file\n",
    "    cleaned_file_path = file_path.replace('.csv', '_cleaned.csv')\n",
    "    all_found_urls_s.to_csv(cleaned_file_path, index=False, header=False)\n",
    "\n",
    "    return cleaned_file_path\n",
    "\n",
    "if __name__ == \"__main__\":\n",
    "    # Example usage\n",
    "    input_file_path = \"all_found_urls_23.12.23.csv\"\n",
    "    cleaned_file_path = clean_and_unique_urls(input_file_path)\n",
    "    print(f\"Cleaned and unique URLs saved to: {cleaned_file_path}\")\n"
   ]
  },
  {
   "cell_type": "markdown",
   "metadata": {},
   "source": [
    "V2"
   ]
  },
  {
   "cell_type": "code",
   "execution_count": 5,
   "metadata": {},
   "outputs": [
    {
     "name": "stderr",
     "output_type": "stream",
     "text": [
      "Processing URLs:   0%|          | 0/412 [00:00<?, ?it/s]"
     ]
    },
    {
     "name": "stdout",
     "output_type": "stream",
     "text": [
      "Starting URL reconstruction...\n"
     ]
    },
    {
     "name": "stderr",
     "output_type": "stream",
     "text": [
      "Processing URLs:   0%|          | 1/412 [00:01<08:23,  1.23s/it]"
     ]
    },
    {
     "name": "stdout",
     "output_type": "stream",
     "text": [
      "Error during HTTP request: 404 Client Error: Not Found for url: https://www.eversports.de/s/secret-moves---athletic-dance-studio\n",
      "Converting to DataFrame...\n",
      "Validating URLs...\n",
      "Processing completed.\n",
      "Starting URL reconstruction...\n"
     ]
    },
    {
     "name": "stderr",
     "output_type": "stream",
     "text": [
      "2024-02-01 21:38:54,096 - INFO - Processing URL 1/3: https://www.eversports.de/s/yoga-vidya-burgdorf\n"
     ]
    },
    {
     "name": "stdout",
     "output_type": "stream",
     "text": [
      "Error reconstructing URL for 'Kurse': Unrecognized text: 'Kurse'\n",
      "Error reconstructing URL for 'Retreats': Unrecognized text: 'Retreats'\n",
      "Converting to DataFrame...\n",
      "Validating URLs...\n"
     ]
    },
    {
     "name": "stderr",
     "output_type": "stream",
     "text": [
      "2024-02-01 21:38:55,420 - INFO - URL https://www.eversports.de/s/yoga-vidya-burgdorf is valid.\n",
      "2024-02-01 21:38:55,421 - INFO - Processing URL 2/3: https://www.eversports.de/sp/yoga-vidya-burgdorf\n",
      "2024-02-01 21:38:56,569 - INFO - URL https://www.eversports.de/sp/yoga-vidya-burgdorf is valid.\n",
      "2024-02-01 21:38:56,570 - INFO - Processing URL 3/3: https://www.eversports.de/s/yoga-vidya-burgdorf/team\n",
      "2024-02-01 21:38:57,942 - INFO - URL https://www.eversports.de/s/yoga-vidya-burgdorf/team is valid.\n"
     ]
    },
    {
     "name": "stdout",
     "output_type": "stream",
     "text": [
      "Scraping Pole Studio Data from https://www.eversports.de/s/yoga-vidya-burgdorf...\n"
     ]
    },
    {
     "name": "stderr",
     "output_type": "stream",
     "text": [
      "Processing URLs:   0%|          | 2/412 [00:07<28:22,  4.15s/it]"
     ]
    },
    {
     "name": "stdout",
     "output_type": "stream",
     "text": [
      "Processing completed.\n",
      "Pole Studio Data: 1 entries\n",
      "Starting URL reconstruction...\n"
     ]
    },
    {
     "name": "stderr",
     "output_type": "stream",
     "text": [
      "Processing URLs:   1%|          | 3/412 [00:08<19:01,  2.79s/it]"
     ]
    },
    {
     "name": "stdout",
     "output_type": "stream",
     "text": [
      "Error during HTTP request: 404 Client Error: Not Found for url: https://www.eversports.de/s/studio-yh-pole-(and)-sports-berlin\n",
      "Converting to DataFrame...\n",
      "Validating URLs...\n",
      "Processing completed.\n",
      "Starting URL reconstruction...\n"
     ]
    },
    {
     "name": "stderr",
     "output_type": "stream",
     "text": [
      "Processing URLs:   1%|          | 4/412 [00:13<23:37,  3.47s/it]"
     ]
    },
    {
     "name": "stdout",
     "output_type": "stream",
     "text": [
      "Error during HTTP request: Exceeded 30 redirects.\n",
      "Converting to DataFrame...\n",
      "Validating URLs...\n",
      "Processing completed.\n",
      "Starting URL reconstruction...\n"
     ]
    },
    {
     "name": "stderr",
     "output_type": "stream",
     "text": [
      "Processing URLs:   1%|          | 5/412 [00:16<23:52,  3.52s/it]"
     ]
    },
    {
     "name": "stdout",
     "output_type": "stream",
     "text": [
      "Error during HTTP request: Exceeded 30 redirects.\n",
      "Converting to DataFrame...\n",
      "Validating URLs...\n",
      "Processing completed.\n",
      "Starting URL reconstruction...\n"
     ]
    },
    {
     "name": "stderr",
     "output_type": "stream",
     "text": [
      "Processing URLs:   1%|▏         | 6/412 [00:20<24:05,  3.56s/it]"
     ]
    },
    {
     "name": "stdout",
     "output_type": "stream",
     "text": [
      "Error during HTTP request: Exceeded 30 redirects.\n",
      "Converting to DataFrame...\n",
      "Validating URLs...\n",
      "Processing completed.\n",
      "Starting URL reconstruction...\n"
     ]
    },
    {
     "name": "stderr",
     "output_type": "stream",
     "text": [
      "2024-02-01 21:39:12,601 - INFO - Processing URL 1/3: https://www.eversports.de/s/flow-academy\n"
     ]
    },
    {
     "name": "stdout",
     "output_type": "stream",
     "text": [
      "Converting to DataFrame...\n",
      "Validating URLs...\n"
     ]
    },
    {
     "name": "stderr",
     "output_type": "stream",
     "text": [
      "2024-02-01 21:39:13,781 - INFO - URL https://www.eversports.de/s/flow-academy is valid.\n",
      "2024-02-01 21:39:13,782 - INFO - Processing URL 2/3: https://www.eversports.de/sp/flow-academy\n",
      "2024-02-01 21:39:14,912 - INFO - URL https://www.eversports.de/sp/flow-academy is valid.\n",
      "2024-02-01 21:39:14,913 - INFO - Processing URL 3/3: https://www.eversports.de/s/flow-academy/team\n",
      "2024-02-01 21:39:16,129 - INFO - URL https://www.eversports.de/s/flow-academy/team is valid.\n"
     ]
    },
    {
     "name": "stdout",
     "output_type": "stream",
     "text": [
      "Scraping Pole Studio Data from https://www.eversports.de/s/flow-academy...\n"
     ]
    },
    {
     "name": "stderr",
     "output_type": "stream",
     "text": [
      "Processing URLs:   2%|▏         | 7/412 [00:26<29:52,  4.43s/it]"
     ]
    },
    {
     "name": "stdout",
     "output_type": "stream",
     "text": [
      "Processing completed.\n",
      "Pole Studio Data: 1 entries\n",
      "Starting URL reconstruction...\n"
     ]
    },
    {
     "name": "stderr",
     "output_type": "stream",
     "text": [
      "2024-02-01 21:39:18,838 - INFO - Processing URL 1/4: https://www.eversports.de/s/t-tanzstueck-wolfsburg\n"
     ]
    },
    {
     "name": "stdout",
     "output_type": "stream",
     "text": [
      "Error reconstructing URL for 'Kurse': Unrecognized text: 'Kurse'\n",
      "Converting to DataFrame...\n",
      "Validating URLs...\n"
     ]
    },
    {
     "name": "stderr",
     "output_type": "stream",
     "text": [
      "2024-02-01 21:39:25,053 - INFO - URL https://www.eversports.de/s/t-tanzstueck-wolfsburg is valid.\n",
      "2024-02-01 21:39:25,054 - INFO - Processing URL 2/4: https://www.eversports.de/sw/t-tanzstueck-wolfsburg\n",
      "2024-02-01 21:39:26,264 - INFO - URL https://www.eversports.de/sw/t-tanzstueck-wolfsburg is valid.\n",
      "2024-02-01 21:39:26,265 - INFO - Processing URL 3/4: https://www.eversports.de/sp/t-tanzstueck-wolfsburg\n",
      "2024-02-01 21:39:28,533 - INFO - URL https://www.eversports.de/sp/t-tanzstueck-wolfsburg is valid.\n",
      "2024-02-01 21:39:28,535 - INFO - Processing URL 4/4: https://www.eversports.de/s/t-tanzstueck-wolfsburg/team\n",
      "2024-02-01 21:39:30,610 - INFO - URL https://www.eversports.de/s/t-tanzstueck-wolfsburg/team is valid.\n"
     ]
    },
    {
     "name": "stdout",
     "output_type": "stream",
     "text": [
      "Scraping Pole Studio Data from https://www.eversports.de/s/t-tanzstueck-wolfsburg...\n",
      "Scraping Workshops Data from https://www.eversports.de/sw/t-tanzstueck-wolfsburg...\n",
      "Scraping Workshop Details from https://www.eversports.de/e/workshop/jg7fLUb...\n"
     ]
    },
    {
     "name": "stderr",
     "output_type": "stream",
     "text": [
      "Processing URLs:   2%|▏         | 8/412 [00:44<57:48,  8.58s/it]"
     ]
    },
    {
     "name": "stdout",
     "output_type": "stream",
     "text": [
      "Processing completed.\n",
      "Pole Studio Data: 1 entries\n",
      "Workshops Data: 1 entries\n",
      "Workshop Details: 1 entries\n",
      "Starting URL reconstruction...\n"
     ]
    },
    {
     "name": "stderr",
     "output_type": "stream",
     "text": [
      "2024-02-01 21:39:36,679 - INFO - Processing URL 1/1: https://www.eversports.de/s/the-basement-pole-dance-and-movement\n"
     ]
    },
    {
     "name": "stdout",
     "output_type": "stream",
     "text": [
      "Converting to DataFrame...\n",
      "Validating URLs...\n"
     ]
    },
    {
     "name": "stderr",
     "output_type": "stream",
     "text": [
      "2024-02-01 21:39:37,987 - INFO - URL https://www.eversports.de/s/the-basement-pole-dance-and-movement is valid.\n"
     ]
    },
    {
     "name": "stdout",
     "output_type": "stream",
     "text": [
      "Scraping Pole Studio Data from https://www.eversports.de/s/the-basement-pole-dance-and-movement...\n"
     ]
    },
    {
     "name": "stderr",
     "output_type": "stream",
     "text": [
      "Processing URLs:   2%|▏         | 9/412 [00:47<46:37,  6.94s/it]"
     ]
    },
    {
     "name": "stdout",
     "output_type": "stream",
     "text": [
      "Processing completed.\n",
      "Pole Studio Data: 1 entries\n",
      "Starting URL reconstruction...\n"
     ]
    },
    {
     "name": "stderr",
     "output_type": "stream",
     "text": [
      "Processing URLs:   2%|▏         | 10/412 [00:49<36:02,  5.38s/it]"
     ]
    },
    {
     "name": "stdout",
     "output_type": "stream",
     "text": [
      "Error during HTTP request: 404 Client Error: Not Found for url: https://www.eversports.de/s/pole-position-studio\n",
      "Converting to DataFrame...\n",
      "Validating URLs...\n",
      "Processing completed.\n",
      "Starting URL reconstruction...\n"
     ]
    },
    {
     "name": "stderr",
     "output_type": "stream",
     "text": [
      "Processing URLs:   3%|▎         | 11/412 [00:50<28:14,  4.23s/it]"
     ]
    },
    {
     "name": "stdout",
     "output_type": "stream",
     "text": [
      "Error during HTTP request: 404 Client Error: Not Found for url: https://www.eversports.de/s/palazzo-sportivo\n",
      "Converting to DataFrame...\n",
      "Validating URLs...\n",
      "Processing completed.\n",
      "Starting URL reconstruction...\n"
     ]
    },
    {
     "name": "stderr",
     "output_type": "stream",
     "text": [
      "Processing URLs:   3%|▎         | 12/412 [00:52<21:55,  3.29s/it]"
     ]
    },
    {
     "name": "stdout",
     "output_type": "stream",
     "text": [
      "Error during HTTP request: 404 Client Error: Not Found for url: https://www.eversports.de/s/pole-fit-plauen\n",
      "Converting to DataFrame...\n",
      "Validating URLs...\n",
      "Processing completed.\n",
      "Starting URL reconstruction...\n"
     ]
    },
    {
     "name": "stderr",
     "output_type": "stream",
     "text": [
      "Processing URLs:   3%|▎         | 13/412 [00:53<18:23,  2.77s/it]"
     ]
    },
    {
     "name": "stdout",
     "output_type": "stream",
     "text": [
      "Error during HTTP request: 404 Client Error: Not Found for url: https://www.eversports.de/s/studio-elodie-tanzbewegung\n",
      "Converting to DataFrame...\n",
      "Validating URLs...\n",
      "Processing completed.\n",
      "Starting URL reconstruction...\n"
     ]
    },
    {
     "name": "stderr",
     "output_type": "stream",
     "text": [
      "Processing URLs:   3%|▎         | 14/412 [00:54<15:06,  2.28s/it]"
     ]
    },
    {
     "name": "stdout",
     "output_type": "stream",
     "text": [
      "Error during HTTP request: 404 Client Error: Not Found for url: https://www.eversports.de/s/verticalarts-pole-%26-aerial-fitness\n",
      "Converting to DataFrame...\n",
      "Validating URLs...\n",
      "Processing completed.\n",
      "Starting URL reconstruction...\n"
     ]
    },
    {
     "name": "stderr",
     "output_type": "stream",
     "text": [
      "Processing URLs:   4%|▎         | 15/412 [00:55<12:42,  1.92s/it]"
     ]
    },
    {
     "name": "stdout",
     "output_type": "stream",
     "text": [
      "Error during HTTP request: 404 Client Error: Not Found for url: https://www.eversports.de/s/unique-pole-art\n",
      "Converting to DataFrame...\n",
      "Validating URLs...\n",
      "Processing completed.\n",
      "Starting URL reconstruction...\n"
     ]
    },
    {
     "name": "stderr",
     "output_type": "stream",
     "text": [
      "Processing URLs:   4%|▍         | 16/412 [00:56<10:51,  1.65s/it]"
     ]
    },
    {
     "name": "stdout",
     "output_type": "stream",
     "text": [
      "Error during HTTP request: 404 Client Error: Not Found for url: https://www.eversports.de/s/pole-faction---pole-dance-&-fitness\n",
      "Converting to DataFrame...\n",
      "Validating URLs...\n",
      "Processing completed.\n",
      "Starting URL reconstruction...\n"
     ]
    },
    {
     "name": "stderr",
     "output_type": "stream",
     "text": [
      "Processing URLs:   4%|▍         | 17/412 [01:00<14:27,  2.20s/it]"
     ]
    },
    {
     "name": "stdout",
     "output_type": "stream",
     "text": [
      "Error during HTTP request: Exceeded 30 redirects.\n",
      "Converting to DataFrame...\n",
      "Validating URLs...\n",
      "Processing completed.\n",
      "Starting URL reconstruction...\n"
     ]
    },
    {
     "name": "stderr",
     "output_type": "stream",
     "text": [
      "Processing URLs:   4%|▍         | 18/412 [01:01<12:16,  1.87s/it]"
     ]
    },
    {
     "name": "stdout",
     "output_type": "stream",
     "text": [
      "Error during HTTP request: 404 Client Error: Not Found for url: https://www.eversports.de/s/orbit-studio\n",
      "Converting to DataFrame...\n",
      "Validating URLs...\n",
      "Processing completed.\n",
      "Starting URL reconstruction...\n"
     ]
    },
    {
     "name": "stderr",
     "output_type": "stream",
     "text": [
      "2024-02-01 21:39:53,708 - INFO - Processing URL 1/4: https://www.eversports.de/s/niyaha-yoga-susann-kind\n"
     ]
    },
    {
     "name": "stdout",
     "output_type": "stream",
     "text": [
      "Error reconstructing URL for 'Events': Unrecognized text: 'Events'\n",
      "Converting to DataFrame...\n",
      "Validating URLs...\n"
     ]
    },
    {
     "name": "stderr",
     "output_type": "stream",
     "text": [
      "2024-02-01 21:39:54,946 - INFO - URL https://www.eversports.de/s/niyaha-yoga-susann-kind is valid.\n",
      "2024-02-01 21:39:54,947 - INFO - Processing URL 2/4: https://www.eversports.de/sw/niyaha-yoga-susann-kind\n",
      "2024-02-01 21:39:56,083 - INFO - URL https://www.eversports.de/sw/niyaha-yoga-susann-kind is valid.\n",
      "2024-02-01 21:39:56,084 - INFO - Processing URL 3/4: https://www.eversports.de/sp/niyaha-yoga-susann-kind\n",
      "2024-02-01 21:39:57,148 - INFO - URL https://www.eversports.de/sp/niyaha-yoga-susann-kind is valid.\n",
      "2024-02-01 21:39:57,149 - INFO - Processing URL 4/4: https://www.eversports.de/s/niyaha-yoga-susann-kind/team\n",
      "2024-02-01 21:39:58,266 - INFO - URL https://www.eversports.de/s/niyaha-yoga-susann-kind/team is valid.\n"
     ]
    },
    {
     "name": "stdout",
     "output_type": "stream",
     "text": [
      "Scraping Pole Studio Data from https://www.eversports.de/s/niyaha-yoga-susann-kind...\n",
      "Scraping Workshops Data from https://www.eversports.de/sw/niyaha-yoga-susann-kind...\n",
      "Scraping Workshop Details from https://www.eversports.de/e/workshop/u0m4PpJ...\n",
      "Scraping Workshop Details from https://www.eversports.de/e/workshop/Qph3Nhi...\n",
      "Scraping Workshop Details from https://www.eversports.de/e/workshop/cnaEonv...\n",
      "Scraping Workshop Details from https://www.eversports.de/e/workshop/VVUAlSC...\n"
     ]
    },
    {
     "name": "stderr",
     "output_type": "stream",
     "text": [
      "Processing URLs:   5%|▍         | 19/412 [01:13<33:14,  5.08s/it]"
     ]
    },
    {
     "name": "stdout",
     "output_type": "stream",
     "text": [
      "Processing completed.\n",
      "Pole Studio Data: 1 entries\n",
      "Workshops Data: 4 entries\n",
      "Workshop Details: 4 entries\n",
      "Starting URL reconstruction...\n"
     ]
    },
    {
     "name": "stderr",
     "output_type": "stream",
     "text": [
      "Processing URLs:   5%|▍         | 20/412 [01:15<25:43,  3.94s/it]"
     ]
    },
    {
     "name": "stdout",
     "output_type": "stream",
     "text": [
      "Error during HTTP request: 404 Client Error: Not Found for url: https://www.eversports.de/s/metropole-dance---now1\n",
      "Converting to DataFrame...\n",
      "Validating URLs...\n",
      "Processing completed.\n",
      "Starting URL reconstruction...\n"
     ]
    },
    {
     "name": "stderr",
     "output_type": "stream",
     "text": [
      "Processing URLs:   5%|▌         | 21/412 [01:16<20:39,  3.17s/it]"
     ]
    },
    {
     "name": "stdout",
     "output_type": "stream",
     "text": [
      "Error during HTTP request: 404 Client Error: Not Found for url: https://www.eversports.de/s/polefriends\n",
      "Converting to DataFrame...\n",
      "Validating URLs...\n",
      "Processing completed.\n",
      "Starting URL reconstruction...\n"
     ]
    },
    {
     "name": "stderr",
     "output_type": "stream",
     "text": [
      "2024-02-01 21:40:09,659 - INFO - Processing URL 1/3: https://www.eversports.de/s/spin-up\n"
     ]
    },
    {
     "name": "stdout",
     "output_type": "stream",
     "text": [
      "Converting to DataFrame...\n",
      "Validating URLs...\n"
     ]
    },
    {
     "name": "stderr",
     "output_type": "stream",
     "text": [
      "2024-02-01 21:40:11,436 - INFO - URL https://www.eversports.de/s/spin-up is valid.\n",
      "2024-02-01 21:40:11,437 - INFO - Processing URL 2/3: https://www.eversports.de/sp/spin-up\n",
      "2024-02-01 21:40:12,587 - INFO - URL https://www.eversports.de/sp/spin-up is not valid.\n",
      "2024-02-01 21:40:12,588 - INFO - Processing URL 3/3: https://www.eversports.de/s/spin-up/team\n",
      "2024-02-01 21:40:13,893 - INFO - URL https://www.eversports.de/s/spin-up/team is valid.\n"
     ]
    },
    {
     "name": "stdout",
     "output_type": "stream",
     "text": [
      "Scraping Pole Studio Data from https://www.eversports.de/s/spin-up...\n"
     ]
    },
    {
     "name": "stderr",
     "output_type": "stream",
     "text": [
      "Processing URLs:   5%|▌         | 22/412 [01:23<27:28,  4.23s/it]"
     ]
    },
    {
     "name": "stdout",
     "output_type": "stream",
     "text": [
      "Processing completed.\n",
      "Pole Studio Data: 1 entries\n",
      "Starting URL reconstruction...\n"
     ]
    },
    {
     "name": "stderr",
     "output_type": "stream",
     "text": [
      "Processing URLs:   6%|▌         | 23/412 [01:24<21:22,  3.30s/it]"
     ]
    },
    {
     "name": "stdout",
     "output_type": "stream",
     "text": [
      "Error during HTTP request: 404 Client Error: Not Found for url: https://www.eversports.de/s/pole-box\n",
      "Converting to DataFrame...\n",
      "Validating URLs...\n",
      "Processing completed.\n",
      "Starting URL reconstruction...\n"
     ]
    },
    {
     "name": "stderr",
     "output_type": "stream",
     "text": [
      "Processing URLs:   6%|▌         | 24/412 [01:27<21:33,  3.33s/it]"
     ]
    },
    {
     "name": "stdout",
     "output_type": "stream",
     "text": [
      "Error during HTTP request: Exceeded 30 redirects.\n",
      "Converting to DataFrame...\n",
      "Validating URLs...\n",
      "Processing completed.\n",
      "Starting URL reconstruction...\n"
     ]
    },
    {
     "name": "stderr",
     "output_type": "stream",
     "text": [
      "Processing URLs:   6%|▌         | 25/412 [01:28<17:13,  2.67s/it]"
     ]
    },
    {
     "name": "stdout",
     "output_type": "stream",
     "text": [
      "Error during HTTP request: 404 Client Error: Not Found for url: https://www.eversports.de/s/flexx-arts-memmingen\n",
      "Converting to DataFrame...\n",
      "Validating URLs...\n",
      "Processing completed.\n",
      "Starting URL reconstruction...\n"
     ]
    },
    {
     "name": "stderr",
     "output_type": "stream",
     "text": [
      "2024-02-01 21:40:21,191 - INFO - Processing URL 1/4: https://www.eversports.de/s/body-meets-soul-leipzig\n"
     ]
    },
    {
     "name": "stdout",
     "output_type": "stream",
     "text": [
      "Converting to DataFrame...\n",
      "Validating URLs...\n"
     ]
    },
    {
     "name": "stderr",
     "output_type": "stream",
     "text": [
      "2024-02-01 21:40:22,419 - INFO - URL https://www.eversports.de/s/body-meets-soul-leipzig is valid.\n",
      "2024-02-01 21:40:22,420 - INFO - Processing URL 2/4: https://www.eversports.de/sw/body-meets-soul-leipzig\n",
      "2024-02-01 21:40:23,563 - INFO - URL https://www.eversports.de/sw/body-meets-soul-leipzig is valid.\n",
      "2024-02-01 21:40:23,564 - INFO - Processing URL 3/4: https://www.eversports.de/sp/body-meets-soul-leipzig\n",
      "2024-02-01 21:40:24,784 - INFO - URL https://www.eversports.de/sp/body-meets-soul-leipzig is valid.\n",
      "2024-02-01 21:40:24,785 - INFO - Processing URL 4/4: https://www.eversports.de/s/body-meets-soul-leipzig/team\n",
      "2024-02-01 21:40:26,126 - INFO - URL https://www.eversports.de/s/body-meets-soul-leipzig/team is valid.\n"
     ]
    },
    {
     "name": "stdout",
     "output_type": "stream",
     "text": [
      "Scraping Pole Studio Data from https://www.eversports.de/s/body-meets-soul-leipzig...\n",
      "Scraping Workshops Data from https://www.eversports.de/sw/body-meets-soul-leipzig...\n",
      "Scraping Workshop Details from https://www.eversports.de/e/workshop/uO9N1VQ...\n"
     ]
    },
    {
     "name": "stderr",
     "output_type": "stream",
     "text": [
      "Processing URLs:   6%|▋         | 26/412 [01:38<29:27,  4.58s/it]"
     ]
    },
    {
     "name": "stdout",
     "output_type": "stream",
     "text": [
      "Processing completed.\n",
      "Pole Studio Data: 1 entries\n",
      "Workshops Data: 1 entries\n",
      "Workshop Details: 1 entries\n",
      "Starting URL reconstruction...\n"
     ]
    },
    {
     "name": "stderr",
     "output_type": "stream",
     "text": [
      "2024-02-01 21:40:30,375 - INFO - Processing URL 1/3: https://www.eversports.de/s/ima-intentional-movement-academy\n"
     ]
    },
    {
     "name": "stdout",
     "output_type": "stream",
     "text": [
      "Error reconstructing URL for 'Retreats': Unrecognized text: 'Retreats'\n",
      "Converting to DataFrame...\n",
      "Validating URLs...\n"
     ]
    },
    {
     "name": "stderr",
     "output_type": "stream",
     "text": [
      "2024-02-01 21:40:31,751 - INFO - URL https://www.eversports.de/s/ima-intentional-movement-academy is valid.\n",
      "2024-02-01 21:40:31,752 - INFO - Processing URL 2/3: https://www.eversports.de/sp/ima-intentional-movement-academy\n",
      "2024-02-01 21:40:32,926 - INFO - URL https://www.eversports.de/sp/ima-intentional-movement-academy is valid.\n",
      "2024-02-01 21:40:32,927 - INFO - Processing URL 3/3: https://www.eversports.de/s/ima-intentional-movement-academy/team\n",
      "2024-02-01 21:40:34,183 - INFO - URL https://www.eversports.de/s/ima-intentional-movement-academy/team is valid.\n"
     ]
    },
    {
     "name": "stdout",
     "output_type": "stream",
     "text": [
      "Scraping Pole Studio Data from https://www.eversports.de/s/ima-intentional-movement-academy...\n"
     ]
    },
    {
     "name": "stderr",
     "output_type": "stream",
     "text": [
      "Processing URLs:   7%|▋         | 27/412 [01:43<31:15,  4.87s/it]"
     ]
    },
    {
     "name": "stdout",
     "output_type": "stream",
     "text": [
      "Processing completed.\n",
      "Pole Studio Data: 1 entries\n",
      "Starting URL reconstruction...\n"
     ]
    },
    {
     "name": "stderr",
     "output_type": "stream",
     "text": [
      "2024-02-01 21:40:36,280 - INFO - Processing URL 1/4: https://www.eversports.de/s/koerpernah\n"
     ]
    },
    {
     "name": "stdout",
     "output_type": "stream",
     "text": [
      "Converting to DataFrame...\n",
      "Validating URLs...\n"
     ]
    },
    {
     "name": "stderr",
     "output_type": "stream",
     "text": [
      "2024-02-01 21:40:37,867 - INFO - URL https://www.eversports.de/s/koerpernah is valid.\n",
      "2024-02-01 21:40:37,868 - INFO - Processing URL 2/4: https://www.eversports.de/sw/koerpernah\n",
      "2024-02-01 21:40:38,985 - INFO - URL https://www.eversports.de/sw/koerpernah is valid.\n",
      "2024-02-01 21:40:38,986 - INFO - Processing URL 3/4: https://www.eversports.de/sp/koerpernah\n",
      "2024-02-01 21:40:40,265 - INFO - URL https://www.eversports.de/sp/koerpernah is valid.\n",
      "2024-02-01 21:40:40,267 - INFO - Processing URL 4/4: https://www.eversports.de/s/koerpernah/team\n",
      "2024-02-01 21:40:41,484 - INFO - URL https://www.eversports.de/s/koerpernah/team is valid.\n"
     ]
    },
    {
     "name": "stdout",
     "output_type": "stream",
     "text": [
      "Scraping Pole Studio Data from https://www.eversports.de/s/koerpernah...\n",
      "Scraping Workshops Data from https://www.eversports.de/sw/koerpernah...\n",
      "Scraping Workshop Details from https://www.eversports.de/e/workshop/MfhCem5...\n"
     ]
    },
    {
     "name": "stderr",
     "output_type": "stream",
     "text": [
      "Processing URLs:   7%|▋         | 28/412 [01:53<41:13,  6.44s/it]"
     ]
    },
    {
     "name": "stdout",
     "output_type": "stream",
     "text": [
      "Processing completed.\n",
      "Pole Studio Data: 1 entries\n",
      "Workshops Data: 1 entries\n",
      "Workshop Details: 1 entries\n",
      "Starting URL reconstruction...\n"
     ]
    },
    {
     "name": "stderr",
     "output_type": "stream",
     "text": [
      "Processing URLs:   7%|▋         | 29/412 [01:54<31:17,  4.90s/it]"
     ]
    },
    {
     "name": "stdout",
     "output_type": "stream",
     "text": [
      "Error during HTTP request: 404 Client Error: Not Found for url: https://www.eversports.de/s/pole2dance---vertical-fitness-and-dance-company\n",
      "Converting to DataFrame...\n",
      "Validating URLs...\n",
      "Processing completed.\n",
      "Starting URL reconstruction...\n"
     ]
    },
    {
     "name": "stderr",
     "output_type": "stream",
     "text": [
      "Processing URLs:   7%|▋         | 30/412 [01:56<24:04,  3.78s/it]"
     ]
    },
    {
     "name": "stdout",
     "output_type": "stream",
     "text": [
      "Error during HTTP request: 404 Client Error: Not Found for url: https://www.eversports.de/s/polegarage-iserloh\n",
      "Converting to DataFrame...\n",
      "Validating URLs...\n",
      "Processing completed.\n",
      "Starting URL reconstruction...\n"
     ]
    },
    {
     "name": "stderr",
     "output_type": "stream",
     "text": [
      "2024-02-01 21:40:48,549 - INFO - Processing URL 1/4: https://www.eversports.de/s/dance-and-pole-leverkusen\n"
     ]
    },
    {
     "name": "stdout",
     "output_type": "stream",
     "text": [
      "Converting to DataFrame...\n",
      "Validating URLs...\n"
     ]
    },
    {
     "name": "stderr",
     "output_type": "stream",
     "text": [
      "2024-02-01 21:40:50,848 - INFO - URL https://www.eversports.de/s/dance-and-pole-leverkusen is valid.\n",
      "2024-02-01 21:40:50,849 - INFO - Processing URL 2/4: https://www.eversports.de/sw/dance-and-pole-leverkusen\n",
      "2024-02-01 21:40:52,022 - INFO - URL https://www.eversports.de/sw/dance-and-pole-leverkusen is valid.\n",
      "2024-02-01 21:40:52,023 - INFO - Processing URL 3/4: https://www.eversports.de/sp/dance-and-pole-leverkusen\n",
      "2024-02-01 21:40:53,238 - INFO - URL https://www.eversports.de/sp/dance-and-pole-leverkusen is valid.\n",
      "2024-02-01 21:40:53,239 - INFO - Processing URL 4/4: https://www.eversports.de/s/dance-and-pole-leverkusen/team\n",
      "2024-02-01 21:40:54,508 - INFO - URL https://www.eversports.de/s/dance-and-pole-leverkusen/team is valid.\n"
     ]
    },
    {
     "name": "stdout",
     "output_type": "stream",
     "text": [
      "Scraping Pole Studio Data from https://www.eversports.de/s/dance-and-pole-leverkusen...\n",
      "Scraping Workshops Data from https://www.eversports.de/sw/dance-and-pole-leverkusen...\n",
      "Scraping Workshop Details from https://www.eversports.de/e/workshop/II-gWEL...\n"
     ]
    },
    {
     "name": "stderr",
     "output_type": "stream",
     "text": [
      "Processing URLs:   8%|▊         | 31/412 [02:06<36:51,  5.81s/it]"
     ]
    },
    {
     "name": "stdout",
     "output_type": "stream",
     "text": [
      "Processing completed.\n",
      "Pole Studio Data: 1 entries\n",
      "Workshops Data: 1 entries\n",
      "Workshop Details: 1 entries\n",
      "Starting URL reconstruction...\n"
     ]
    },
    {
     "name": "stderr",
     "output_type": "stream",
     "text": [
      "2024-02-01 21:41:00,646 - INFO - Processing URL 1/3: https://www.eversports.de/s/pole-arts\n"
     ]
    },
    {
     "name": "stdout",
     "output_type": "stream",
     "text": [
      "Error reconstructing URL for 'Kurse': Unrecognized text: 'Kurse'\n",
      "Converting to DataFrame...\n",
      "Validating URLs...\n"
     ]
    },
    {
     "name": "stderr",
     "output_type": "stream",
     "text": [
      "2024-02-01 21:41:02,110 - INFO - URL https://www.eversports.de/s/pole-arts is valid.\n",
      "2024-02-01 21:41:02,112 - INFO - Processing URL 2/3: https://www.eversports.de/sp/pole-arts\n",
      "2024-02-01 21:41:03,328 - INFO - URL https://www.eversports.de/sp/pole-arts is valid.\n",
      "2024-02-01 21:41:03,328 - INFO - Processing URL 3/3: https://www.eversports.de/s/pole-arts/team\n",
      "2024-02-01 21:41:04,617 - INFO - URL https://www.eversports.de/s/pole-arts/team is valid.\n"
     ]
    },
    {
     "name": "stdout",
     "output_type": "stream",
     "text": [
      "Scraping Pole Studio Data from https://www.eversports.de/s/pole-arts...\n"
     ]
    },
    {
     "name": "stderr",
     "output_type": "stream",
     "text": [
      "Processing URLs:   8%|▊         | 32/412 [02:14<39:53,  6.30s/it]"
     ]
    },
    {
     "name": "stdout",
     "output_type": "stream",
     "text": [
      "Processing completed.\n",
      "Pole Studio Data: 1 entries\n",
      "Starting URL reconstruction...\n"
     ]
    },
    {
     "name": "stderr",
     "output_type": "stream",
     "text": [
      "2024-02-01 21:41:06,749 - INFO - Processing URL 1/4: https://www.eversports.de/s/royal-pole\n"
     ]
    },
    {
     "name": "stdout",
     "output_type": "stream",
     "text": [
      "Error reconstructing URL for 'Freie Trainings': Unrecognized text: 'Freie Trainings'\n",
      "Converting to DataFrame...\n",
      "Validating URLs...\n"
     ]
    },
    {
     "name": "stderr",
     "output_type": "stream",
     "text": [
      "2024-02-01 21:41:08,950 - INFO - URL https://www.eversports.de/s/royal-pole is valid.\n",
      "2024-02-01 21:41:08,951 - INFO - Processing URL 2/4: https://www.eversports.de/sw/royal-pole\n",
      "2024-02-01 21:41:10,141 - INFO - URL https://www.eversports.de/sw/royal-pole is not valid.\n",
      "2024-02-01 21:41:10,142 - INFO - Processing URL 3/4: https://www.eversports.de/sp/royal-pole\n",
      "2024-02-01 21:41:11,816 - INFO - URL https://www.eversports.de/sp/royal-pole is not valid.\n",
      "2024-02-01 21:41:11,818 - INFO - Processing URL 4/4: https://www.eversports.de/s/royal-pole/team\n",
      "2024-02-01 21:41:13,037 - INFO - URL https://www.eversports.de/s/royal-pole/team is valid.\n"
     ]
    },
    {
     "name": "stdout",
     "output_type": "stream",
     "text": [
      "Scraping Pole Studio Data from https://www.eversports.de/s/royal-pole...\n"
     ]
    },
    {
     "name": "stderr",
     "output_type": "stream",
     "text": [
      "Processing URLs:   8%|▊         | 33/412 [02:22<43:43,  6.92s/it]"
     ]
    },
    {
     "name": "stdout",
     "output_type": "stream",
     "text": [
      "Processing completed.\n",
      "Pole Studio Data: 1 entries\n",
      "Starting URL reconstruction...\n"
     ]
    },
    {
     "name": "stderr",
     "output_type": "stream",
     "text": [
      "2024-02-01 21:41:14,853 - INFO - Processing URL 1/4: https://www.eversports.de/s/stadtgazellen-bremen\n"
     ]
    },
    {
     "name": "stdout",
     "output_type": "stream",
     "text": [
      "Converting to DataFrame...\n",
      "Validating URLs...\n"
     ]
    },
    {
     "name": "stderr",
     "output_type": "stream",
     "text": [
      "2024-02-01 21:41:16,272 - INFO - URL https://www.eversports.de/s/stadtgazellen-bremen is valid.\n",
      "2024-02-01 21:41:16,273 - INFO - Processing URL 2/4: https://www.eversports.de/sw/stadtgazellen-bremen\n",
      "2024-02-01 21:41:17,414 - INFO - URL https://www.eversports.de/sw/stadtgazellen-bremen is valid.\n",
      "2024-02-01 21:41:17,415 - INFO - Processing URL 3/4: https://www.eversports.de/sp/stadtgazellen-bremen\n",
      "2024-02-01 21:41:18,569 - INFO - URL https://www.eversports.de/sp/stadtgazellen-bremen is valid.\n",
      "2024-02-01 21:41:18,570 - INFO - Processing URL 4/4: https://www.eversports.de/s/stadtgazellen-bremen/team\n",
      "2024-02-01 21:41:19,771 - INFO - URL https://www.eversports.de/s/stadtgazellen-bremen/team is valid.\n"
     ]
    },
    {
     "name": "stdout",
     "output_type": "stream",
     "text": [
      "Scraping Pole Studio Data from https://www.eversports.de/s/stadtgazellen-bremen...\n",
      "Scraping Workshops Data from https://www.eversports.de/sw/stadtgazellen-bremen...\n",
      "Scraping Workshop Details from https://www.eversports.de/e/workshop/YiU_KF8...\n",
      "Scraping Workshop Details from https://www.eversports.de/e/workshop/Vnofur2...\n",
      "Scraping Workshop Details from https://www.eversports.de/e/workshop/wFn4PaN...\n",
      "Scraping Workshop Details from https://www.eversports.de/e/workshop/6ZllXAZ...\n",
      "Scraping Workshop Details from https://www.eversports.de/e/workshop/L5UxsO9...\n",
      "Scraping Workshop Details from https://www.eversports.de/e/workshop/7blW22y...\n",
      "Scraping Workshop Details from https://www.eversports.de/e/workshop/v4tYN09...\n",
      "Scraping Workshop Details from https://www.eversports.de/e/workshop/KWx3LyO...\n",
      "Scraping Workshop Details from https://www.eversports.de/e/workshop/WRl24o5...\n",
      "Scraping Workshop Details from https://www.eversports.de/e/workshop/wrZkEQ3...\n"
     ]
    },
    {
     "name": "stderr",
     "output_type": "stream",
     "text": [
      "Processing URLs:   8%|▊         | 34/412 [02:44<1:11:45, 11.39s/it]"
     ]
    },
    {
     "name": "stdout",
     "output_type": "stream",
     "text": [
      "Processing completed.\n",
      "Pole Studio Data: 1 entries\n",
      "Workshops Data: 10 entries\n",
      "Workshop Details: 10 entries\n",
      "Starting URL reconstruction...\n"
     ]
    },
    {
     "name": "stderr",
     "output_type": "stream",
     "text": [
      "2024-02-01 21:41:36,617 - INFO - Processing URL 1/2: https://www.eversports.de/s/annis-pole-dance-neumuenster\n"
     ]
    },
    {
     "name": "stdout",
     "output_type": "stream",
     "text": [
      "Error reconstructing URL for 'Trainings': Unrecognized text: 'Trainings'\n",
      "Error reconstructing URL for 'Kurse': Unrecognized text: 'Kurse'\n",
      "Converting to DataFrame...\n",
      "Validating URLs...\n"
     ]
    },
    {
     "name": "stderr",
     "output_type": "stream",
     "text": [
      "2024-02-01 21:41:37,860 - INFO - URL https://www.eversports.de/s/annis-pole-dance-neumuenster is valid.\n",
      "2024-02-01 21:41:37,861 - INFO - Processing URL 2/2: https://www.eversports.de/s/annis-pole-dance-neumuenster/team\n",
      "2024-02-01 21:41:39,132 - INFO - URL https://www.eversports.de/s/annis-pole-dance-neumuenster/team is valid.\n"
     ]
    },
    {
     "name": "stdout",
     "output_type": "stream",
     "text": [
      "Scraping Pole Studio Data from https://www.eversports.de/s/annis-pole-dance-neumuenster...\n"
     ]
    },
    {
     "name": "stderr",
     "output_type": "stream",
     "text": [
      "Processing URLs:   8%|▊         | 35/412 [02:49<1:00:28,  9.63s/it]"
     ]
    },
    {
     "name": "stdout",
     "output_type": "stream",
     "text": [
      "Processing completed.\n",
      "Pole Studio Data: 1 entries\n",
      "Starting URL reconstruction...\n"
     ]
    },
    {
     "name": "stderr",
     "output_type": "stream",
     "text": [
      "Processing URLs:   9%|▊         | 36/412 [02:50<44:10,  7.05s/it]  "
     ]
    },
    {
     "name": "stdout",
     "output_type": "stream",
     "text": [
      "Error during HTTP request: 404 Client Error: Not Found for url: https://www.eversports.de/s/move-on!-dance-studio-&-polemotions\n",
      "Converting to DataFrame...\n",
      "Validating URLs...\n",
      "Processing completed.\n",
      "Starting URL reconstruction...\n"
     ]
    },
    {
     "name": "stderr",
     "output_type": "stream",
     "text": [
      "Processing URLs:   9%|▉         | 37/412 [02:52<33:30,  5.36s/it]"
     ]
    },
    {
     "name": "stdout",
     "output_type": "stream",
     "text": [
      "Error during HTTP request: 404 Client Error: Not Found for url: https://www.eversports.de/s/poleroom\n",
      "Converting to DataFrame...\n",
      "Validating URLs...\n",
      "Processing completed.\n",
      "Starting URL reconstruction...\n"
     ]
    },
    {
     "name": "stderr",
     "output_type": "stream",
     "text": [
      "2024-02-01 21:41:45,334 - INFO - Processing URL 1/4: https://www.eversports.de/s/soultide\n"
     ]
    },
    {
     "name": "stdout",
     "output_type": "stream",
     "text": [
      "Error reconstructing URL for 'Retreats': Unrecognized text: 'Retreats'\n",
      "Converting to DataFrame...\n",
      "Validating URLs...\n"
     ]
    },
    {
     "name": "stderr",
     "output_type": "stream",
     "text": [
      "2024-02-01 21:41:46,671 - INFO - URL https://www.eversports.de/s/soultide is valid.\n",
      "2024-02-01 21:41:46,672 - INFO - Processing URL 2/4: https://www.eversports.de/sw/soultide\n",
      "2024-02-01 21:41:48,069 - INFO - URL https://www.eversports.de/sw/soultide is valid.\n",
      "2024-02-01 21:41:48,071 - INFO - Processing URL 3/4: https://www.eversports.de/sp/soultide\n",
      "2024-02-01 21:41:49,285 - INFO - URL https://www.eversports.de/sp/soultide is valid.\n",
      "2024-02-01 21:41:49,286 - INFO - Processing URL 4/4: https://www.eversports.de/s/soultide/team\n",
      "2024-02-01 21:41:50,494 - INFO - URL https://www.eversports.de/s/soultide/team is valid.\n"
     ]
    },
    {
     "name": "stdout",
     "output_type": "stream",
     "text": [
      "Scraping Pole Studio Data from https://www.eversports.de/s/soultide...\n",
      "Scraping Workshops Data from https://www.eversports.de/sw/soultide...\n",
      "Scraping Workshop Details from https://www.eversports.de/e/workshop/Q5aPZDK...\n",
      "Scraping Workshop Details from https://www.eversports.de/e/workshop/U2ElOtm...\n",
      "Scraping Workshop Details from https://www.eversports.de/e/workshop/npdGKjQ...\n"
     ]
    },
    {
     "name": "stderr",
     "output_type": "stream",
     "text": [
      "Processing URLs:   9%|▉         | 38/412 [03:06<49:05,  7.88s/it]"
     ]
    },
    {
     "name": "stdout",
     "output_type": "stream",
     "text": [
      "Processing completed.\n",
      "Pole Studio Data: 1 entries\n",
      "Workshops Data: 3 entries\n",
      "Workshop Details: 3 entries\n",
      "Starting URL reconstruction...\n"
     ]
    },
    {
     "name": "stderr",
     "output_type": "stream",
     "text": [
      "2024-02-01 21:41:58,252 - INFO - Processing URL 1/4: https://www.eversports.de/s/pole-plus\n"
     ]
    },
    {
     "name": "stdout",
     "output_type": "stream",
     "text": [
      "Converting to DataFrame...\n",
      "Validating URLs...\n"
     ]
    },
    {
     "name": "stderr",
     "output_type": "stream",
     "text": [
      "2024-02-01 21:41:59,538 - INFO - URL https://www.eversports.de/s/pole-plus is valid.\n",
      "2024-02-01 21:41:59,539 - INFO - Processing URL 2/4: https://www.eversports.de/sw/pole-plus\n",
      "2024-02-01 21:42:00,885 - INFO - URL https://www.eversports.de/sw/pole-plus is valid.\n",
      "2024-02-01 21:42:00,887 - INFO - Processing URL 3/4: https://www.eversports.de/sp/pole-plus\n",
      "2024-02-01 21:42:02,024 - INFO - URL https://www.eversports.de/sp/pole-plus is valid.\n",
      "2024-02-01 21:42:02,025 - INFO - Processing URL 4/4: https://www.eversports.de/s/pole-plus/team\n",
      "2024-02-01 21:42:03,228 - INFO - URL https://www.eversports.de/s/pole-plus/team is valid.\n"
     ]
    },
    {
     "name": "stdout",
     "output_type": "stream",
     "text": [
      "Scraping Pole Studio Data from https://www.eversports.de/s/pole-plus...\n",
      "Scraping Workshops Data from https://www.eversports.de/sw/pole-plus...\n",
      "Scraping Workshop Details from https://www.eversports.de/e/workshop/NHtp6Mw...\n",
      "Scraping Workshop Details from https://www.eversports.de/e/workshop/upSDQIA...\n",
      "Scraping Workshop Details from https://www.eversports.de/e/workshop/lBLI7xf...\n"
     ]
    },
    {
     "name": "stderr",
     "output_type": "stream",
     "text": [
      "Processing URLs:   9%|▉         | 39/412 [03:21<1:03:17, 10.18s/it]"
     ]
    },
    {
     "name": "stdout",
     "output_type": "stream",
     "text": [
      "Processing completed.\n",
      "Pole Studio Data: 1 entries\n",
      "Workshops Data: 3 entries\n",
      "Workshop Details: 3 entries\n",
      "Starting URL reconstruction...\n"
     ]
    },
    {
     "name": "stderr",
     "output_type": "stream",
     "text": [
      "2024-02-01 21:42:13,889 - INFO - Processing URL 1/4: https://www.eversports.de/s/pole-acrobatics\n"
     ]
    },
    {
     "name": "stdout",
     "output_type": "stream",
     "text": [
      "Error reconstructing URL for 'Trainings': Unrecognized text: 'Trainings'\n",
      "Converting to DataFrame...\n",
      "Validating URLs...\n"
     ]
    },
    {
     "name": "stderr",
     "output_type": "stream",
     "text": [
      "2024-02-01 21:42:15,201 - INFO - URL https://www.eversports.de/s/pole-acrobatics is valid.\n",
      "2024-02-01 21:42:15,202 - INFO - Processing URL 2/4: https://www.eversports.de/sw/pole-acrobatics\n",
      "2024-02-01 21:42:16,350 - INFO - URL https://www.eversports.de/sw/pole-acrobatics is valid.\n",
      "2024-02-01 21:42:16,351 - INFO - Processing URL 3/4: https://www.eversports.de/sp/pole-acrobatics\n",
      "2024-02-01 21:42:17,541 - INFO - URL https://www.eversports.de/sp/pole-acrobatics is valid.\n",
      "2024-02-01 21:42:17,542 - INFO - Processing URL 4/4: https://www.eversports.de/s/pole-acrobatics/team\n",
      "2024-02-01 21:42:18,761 - INFO - URL https://www.eversports.de/s/pole-acrobatics/team is valid.\n"
     ]
    },
    {
     "name": "stdout",
     "output_type": "stream",
     "text": [
      "Scraping Pole Studio Data from https://www.eversports.de/s/pole-acrobatics...\n",
      "Scraping Workshops Data from https://www.eversports.de/sw/pole-acrobatics...\n",
      "Scraping Workshop Details from https://www.eversports.de/e/workshop/-wGhAaJ...\n"
     ]
    },
    {
     "name": "stderr",
     "output_type": "stream",
     "text": [
      "Processing URLs:  10%|▉         | 40/412 [03:30<1:01:06,  9.86s/it]"
     ]
    },
    {
     "name": "stdout",
     "output_type": "stream",
     "text": [
      "Processing completed.\n",
      "Pole Studio Data: 1 entries\n",
      "Workshops Data: 1 entries\n",
      "Workshop Details: 1 entries\n",
      "Starting URL reconstruction...\n"
     ]
    },
    {
     "name": "stderr",
     "output_type": "stream",
     "text": [
      "Processing URLs:  10%|▉         | 41/412 [03:31<45:02,  7.28s/it]  "
     ]
    },
    {
     "name": "stdout",
     "output_type": "stream",
     "text": [
      "Error during HTTP request: 404 Client Error: Not Found for url: https://www.eversports.de/s/lift-off---poledance-academy-frankfurt\n",
      "Converting to DataFrame...\n",
      "Validating URLs...\n",
      "Processing completed.\n",
      "Starting URL reconstruction...\n"
     ]
    },
    {
     "name": "stderr",
     "output_type": "stream",
     "text": [
      "2024-02-01 21:42:26,535 - INFO - Processing URL 1/3: https://www.eversports.de/s/loft1-basel-city\n"
     ]
    },
    {
     "name": "stdout",
     "output_type": "stream",
     "text": [
      "Converting to DataFrame...\n",
      "Validating URLs...\n"
     ]
    },
    {
     "name": "stderr",
     "output_type": "stream",
     "text": [
      "2024-02-01 21:42:27,923 - INFO - URL https://www.eversports.de/s/loft1-basel-city is valid.\n",
      "2024-02-01 21:42:27,925 - INFO - Processing URL 2/3: https://www.eversports.de/sp/loft1-basel-city\n",
      "2024-02-01 21:42:29,037 - INFO - URL https://www.eversports.de/sp/loft1-basel-city is not valid.\n",
      "2024-02-01 21:42:29,037 - INFO - Processing URL 3/3: https://www.eversports.de/s/loft1-basel-city/team\n",
      "2024-02-01 21:42:30,290 - INFO - URL https://www.eversports.de/s/loft1-basel-city/team is valid.\n"
     ]
    },
    {
     "name": "stdout",
     "output_type": "stream",
     "text": [
      "Scraping Pole Studio Data from https://www.eversports.de/s/loft1-basel-city...\n"
     ]
    },
    {
     "name": "stderr",
     "output_type": "stream",
     "text": [
      "Processing URLs:  10%|█         | 42/412 [03:39<46:09,  7.49s/it]"
     ]
    },
    {
     "name": "stdout",
     "output_type": "stream",
     "text": [
      "Processing completed.\n",
      "Pole Studio Data: 1 entries\n",
      "Starting URL reconstruction...\n"
     ]
    },
    {
     "name": "stderr",
     "output_type": "stream",
     "text": [
      "2024-02-01 21:42:32,224 - INFO - Processing URL 1/4: https://www.eversports.de/s/polefit-aline-sustrath\n"
     ]
    },
    {
     "name": "stdout",
     "output_type": "stream",
     "text": [
      "Error reconstructing URL for 'Kurse': Unrecognized text: 'Kurse'\n",
      "Converting to DataFrame...\n",
      "Validating URLs...\n"
     ]
    },
    {
     "name": "stderr",
     "output_type": "stream",
     "text": [
      "2024-02-01 21:42:33,542 - INFO - URL https://www.eversports.de/s/polefit-aline-sustrath is valid.\n",
      "2024-02-01 21:42:33,542 - INFO - Processing URL 2/4: https://www.eversports.de/sw/polefit-aline-sustrath\n",
      "2024-02-01 21:42:34,650 - INFO - URL https://www.eversports.de/sw/polefit-aline-sustrath is valid.\n",
      "2024-02-01 21:42:34,651 - INFO - Processing URL 3/4: https://www.eversports.de/sp/polefit-aline-sustrath\n",
      "2024-02-01 21:42:35,736 - INFO - URL https://www.eversports.de/sp/polefit-aline-sustrath is valid.\n",
      "2024-02-01 21:42:35,737 - INFO - Processing URL 4/4: https://www.eversports.de/s/polefit-aline-sustrath/team\n",
      "2024-02-01 21:42:36,891 - INFO - URL https://www.eversports.de/s/polefit-aline-sustrath/team is valid.\n"
     ]
    },
    {
     "name": "stdout",
     "output_type": "stream",
     "text": [
      "Scraping Pole Studio Data from https://www.eversports.de/s/polefit-aline-sustrath...\n",
      "Scraping Workshops Data from https://www.eversports.de/sw/polefit-aline-sustrath...\n",
      "Scraping Workshop Details from https://www.eversports.de/e/workshop/F0nh2br...\n"
     ]
    },
    {
     "name": "stderr",
     "output_type": "stream",
     "text": [
      "Processing URLs:  10%|█         | 43/412 [03:48<48:28,  7.88s/it]"
     ]
    },
    {
     "name": "stdout",
     "output_type": "stream",
     "text": [
      "Processing completed.\n",
      "Pole Studio Data: 1 entries\n",
      "Workshops Data: 1 entries\n",
      "Workshop Details: 1 entries\n",
      "Starting URL reconstruction...\n"
     ]
    },
    {
     "name": "stderr",
     "output_type": "stream",
     "text": [
      "Processing URLs:  11%|█         | 44/412 [03:50<36:16,  5.91s/it]"
     ]
    },
    {
     "name": "stdout",
     "output_type": "stream",
     "text": [
      "Error during HTTP request: 404 Client Error: Not Found for url: https://www.eversports.de/s/aerial-balance\n",
      "Converting to DataFrame...\n",
      "Validating URLs...\n",
      "Processing completed.\n",
      "Starting URL reconstruction...\n"
     ]
    },
    {
     "name": "stderr",
     "output_type": "stream",
     "text": [
      "Processing URLs:  11%|█         | 45/412 [03:53<32:28,  5.31s/it]"
     ]
    },
    {
     "name": "stdout",
     "output_type": "stream",
     "text": [
      "Error during HTTP request: Exceeded 30 redirects.\n",
      "Converting to DataFrame...\n",
      "Validating URLs...\n",
      "Processing completed.\n",
      "Starting URL reconstruction...\n"
     ]
    },
    {
     "name": "stderr",
     "output_type": "stream",
     "text": [
      "Processing URLs:  11%|█         | 46/412 [03:55<24:50,  4.07s/it]"
     ]
    },
    {
     "name": "stdout",
     "output_type": "stream",
     "text": [
      "Error during HTTP request: 404 Client Error: Not Found for url: https://www.eversports.de/s/freaky-pole-cats-schwandorf\n",
      "Converting to DataFrame...\n",
      "Validating URLs...\n",
      "Processing completed.\n",
      "Starting URL reconstruction...\n"
     ]
    },
    {
     "name": "stderr",
     "output_type": "stream",
     "text": [
      "2024-02-01 21:42:47,520 - INFO - Processing URL 1/1: https://www.eversports.de/s/artletik-ug-laufen-und-meer\n"
     ]
    },
    {
     "name": "stdout",
     "output_type": "stream",
     "text": [
      "Converting to DataFrame...\n",
      "Validating URLs...\n"
     ]
    },
    {
     "name": "stderr",
     "output_type": "stream",
     "text": [
      "2024-02-01 21:42:49,115 - INFO - URL https://www.eversports.de/s/artletik-ug-laufen-und-meer is valid.\n"
     ]
    },
    {
     "name": "stdout",
     "output_type": "stream",
     "text": [
      "Scraping Pole Studio Data from https://www.eversports.de/s/artletik-ug-laufen-und-meer...\n"
     ]
    },
    {
     "name": "stderr",
     "output_type": "stream",
     "text": [
      "Processing URLs:  11%|█▏        | 47/412 [03:59<24:24,  4.01s/it]"
     ]
    },
    {
     "name": "stdout",
     "output_type": "stream",
     "text": [
      "Processing completed.\n",
      "Pole Studio Data: 1 entries\n",
      "Starting URL reconstruction...\n"
     ]
    },
    {
     "name": "stderr",
     "output_type": "stream",
     "text": [
      "Processing URLs:  12%|█▏        | 48/412 [04:00<19:13,  3.17s/it]"
     ]
    },
    {
     "name": "stdout",
     "output_type": "stream",
     "text": [
      "Error during HTTP request: 404 Client Error: Not Found for url: https://www.eversports.de/s/sky-move-pole-sport\n",
      "Converting to DataFrame...\n",
      "Validating URLs...\n",
      "Processing completed.\n",
      "Starting URL reconstruction...\n"
     ]
    },
    {
     "name": "stderr",
     "output_type": "stream",
     "text": [
      "2024-02-01 21:42:53,181 - INFO - Processing URL 1/3: https://www.eversports.de/s/secret-moves-athletic-dance-studio\n"
     ]
    },
    {
     "name": "stdout",
     "output_type": "stream",
     "text": [
      "Converting to DataFrame...\n",
      "Validating URLs...\n"
     ]
    },
    {
     "name": "stderr",
     "output_type": "stream",
     "text": [
      "2024-02-01 21:42:54,819 - INFO - URL https://www.eversports.de/s/secret-moves-athletic-dance-studio is valid.\n",
      "2024-02-01 21:42:54,820 - INFO - Processing URL 2/3: https://www.eversports.de/sp/secret-moves-athletic-dance-studio\n",
      "2024-02-01 21:42:56,037 - INFO - URL https://www.eversports.de/sp/secret-moves-athletic-dance-studio is valid.\n",
      "2024-02-01 21:42:56,038 - INFO - Processing URL 3/3: https://www.eversports.de/s/secret-moves-athletic-dance-studio/team\n",
      "2024-02-01 21:42:57,551 - INFO - URL https://www.eversports.de/s/secret-moves-athletic-dance-studio/team is valid.\n"
     ]
    },
    {
     "name": "stdout",
     "output_type": "stream",
     "text": [
      "Scraping Pole Studio Data from https://www.eversports.de/s/secret-moves-athletic-dance-studio...\n"
     ]
    },
    {
     "name": "stderr",
     "output_type": "stream",
     "text": [
      "Processing URLs:  12%|█▏        | 49/412 [04:07<25:46,  4.26s/it]"
     ]
    },
    {
     "name": "stdout",
     "output_type": "stream",
     "text": [
      "Processing completed.\n",
      "Pole Studio Data: 1 entries\n",
      "Starting URL reconstruction...\n"
     ]
    },
    {
     "name": "stderr",
     "output_type": "stream",
     "text": [
      "Processing URLs:  12%|█▏        | 50/412 [04:10<24:52,  4.12s/it]"
     ]
    },
    {
     "name": "stdout",
     "output_type": "stream",
     "text": [
      "Error during HTTP request: Exceeded 30 redirects.\n",
      "Converting to DataFrame...\n",
      "Validating URLs...\n",
      "Processing completed.\n",
      "Starting URL reconstruction...\n"
     ]
    },
    {
     "name": "stderr",
     "output_type": "stream",
     "text": [
      "2024-02-01 21:43:03,110 - INFO - Processing URL 1/1: https://www.eversports.de/s/dancingstyle\n"
     ]
    },
    {
     "name": "stdout",
     "output_type": "stream",
     "text": [
      "Converting to DataFrame...\n",
      "Validating URLs...\n"
     ]
    },
    {
     "name": "stderr",
     "output_type": "stream",
     "text": [
      "2024-02-01 21:43:04,415 - INFO - URL https://www.eversports.de/s/dancingstyle is valid.\n"
     ]
    },
    {
     "name": "stdout",
     "output_type": "stream",
     "text": [
      "Scraping Pole Studio Data from https://www.eversports.de/s/dancingstyle...\n"
     ]
    },
    {
     "name": "stderr",
     "output_type": "stream",
     "text": [
      "Processing URLs:  12%|█▏        | 51/412 [04:13<22:35,  3.76s/it]"
     ]
    },
    {
     "name": "stdout",
     "output_type": "stream",
     "text": [
      "Processing completed.\n",
      "Pole Studio Data: 1 entries\n",
      "Starting URL reconstruction...\n"
     ]
    },
    {
     "name": "stderr",
     "output_type": "stream",
     "text": [
      "Processing URLs:  13%|█▎        | 52/412 [04:14<17:58,  3.00s/it]"
     ]
    },
    {
     "name": "stdout",
     "output_type": "stream",
     "text": [
      "Error during HTTP request: 404 Client Error: Not Found for url: https://www.eversports.de/s/annaconda-pole-%26-aerial-sports\n",
      "Converting to DataFrame...\n",
      "Validating URLs...\n",
      "Processing completed.\n",
      "Starting URL reconstruction...\n"
     ]
    },
    {
     "name": "stderr",
     "output_type": "stream",
     "text": [
      "Processing URLs:  13%|█▎        | 53/412 [04:20<21:58,  3.67s/it]"
     ]
    },
    {
     "name": "stdout",
     "output_type": "stream",
     "text": [
      "Error during HTTP request: Exceeded 30 redirects.\n",
      "Converting to DataFrame...\n",
      "Validating URLs...\n",
      "Processing completed.\n",
      "Starting URL reconstruction...\n"
     ]
    },
    {
     "name": "stderr",
     "output_type": "stream",
     "text": [
      "Processing URLs:  13%|█▎        | 54/412 [04:21<17:47,  2.98s/it]"
     ]
    },
    {
     "name": "stdout",
     "output_type": "stream",
     "text": [
      "Error during HTTP request: 404 Client Error: Not Found for url: https://www.eversports.de/s/annaconda-pole-&-fitness\n",
      "Converting to DataFrame...\n",
      "Validating URLs...\n",
      "Processing completed.\n",
      "Starting URL reconstruction...\n"
     ]
    },
    {
     "name": "stderr",
     "output_type": "stream",
     "text": [
      "Processing URLs:  13%|█▎        | 55/412 [04:22<14:22,  2.42s/it]"
     ]
    },
    {
     "name": "stdout",
     "output_type": "stream",
     "text": [
      "Error during HTTP request: 404 Client Error: Not Found for url: https://www.eversports.de/s/polerina's-poledance\n",
      "Converting to DataFrame...\n",
      "Validating URLs...\n",
      "Processing completed.\n",
      "Starting URL reconstruction...\n"
     ]
    },
    {
     "name": "stderr",
     "output_type": "stream",
     "text": [
      "2024-02-01 21:43:19,701 - INFO - Processing URL 1/2: https://www.eversports.de/s/dunya-pole-dance-school\n"
     ]
    },
    {
     "name": "stdout",
     "output_type": "stream",
     "text": [
      "Converting to DataFrame...\n",
      "Validating URLs...\n"
     ]
    },
    {
     "name": "stderr",
     "output_type": "stream",
     "text": [
      "2024-02-01 21:43:21,756 - INFO - URL https://www.eversports.de/s/dunya-pole-dance-school is valid.\n",
      "2024-02-01 21:43:21,757 - INFO - Processing URL 2/2: https://www.eversports.de/s/dunya-pole-dance-school/team\n",
      "2024-02-01 21:43:23,006 - INFO - URL https://www.eversports.de/s/dunya-pole-dance-school/team is valid.\n"
     ]
    },
    {
     "name": "stdout",
     "output_type": "stream",
     "text": [
      "Scraping Pole Studio Data from https://www.eversports.de/s/dunya-pole-dance-school...\n"
     ]
    },
    {
     "name": "stderr",
     "output_type": "stream",
     "text": [
      "Processing URLs:  14%|█▎        | 56/412 [04:32<27:16,  4.60s/it]"
     ]
    },
    {
     "name": "stdout",
     "output_type": "stream",
     "text": [
      "Processing completed.\n",
      "Pole Studio Data: 1 entries\n",
      "Starting URL reconstruction...\n"
     ]
    },
    {
     "name": "stderr",
     "output_type": "stream",
     "text": [
      "Processing URLs:  14%|█▍        | 57/412 [04:33<21:03,  3.56s/it]"
     ]
    },
    {
     "name": "stdout",
     "output_type": "stream",
     "text": [
      "Error during HTTP request: 404 Client Error: Not Found for url: https://www.eversports.de/s/satori-pole-dance-potsdam\n",
      "Converting to DataFrame...\n",
      "Validating URLs...\n",
      "Processing completed.\n",
      "Starting URL reconstruction...\n"
     ]
    },
    {
     "name": "stderr",
     "output_type": "stream",
     "text": [
      "Processing URLs:  14%|█▍        | 58/412 [04:34<17:15,  2.92s/it]"
     ]
    },
    {
     "name": "stdout",
     "output_type": "stream",
     "text": [
      "Error during HTTP request: 404 Client Error: Not Found for url: https://www.eversports.de/s/polesition\n",
      "Converting to DataFrame...\n",
      "Validating URLs...\n",
      "Processing completed.\n",
      "Starting URL reconstruction...\n"
     ]
    },
    {
     "name": "stderr",
     "output_type": "stream",
     "text": [
      "2024-02-01 21:43:27,119 - INFO - Processing URL 1/1: https://www.eversports.de/s/welovepoledance\n"
     ]
    },
    {
     "name": "stdout",
     "output_type": "stream",
     "text": [
      "Converting to DataFrame...\n",
      "Validating URLs...\n"
     ]
    },
    {
     "name": "stderr",
     "output_type": "stream",
     "text": [
      "2024-02-01 21:43:28,429 - INFO - URL https://www.eversports.de/s/welovepoledance is valid.\n"
     ]
    },
    {
     "name": "stdout",
     "output_type": "stream",
     "text": [
      "Scraping Pole Studio Data from https://www.eversports.de/s/welovepoledance...\n"
     ]
    },
    {
     "name": "stderr",
     "output_type": "stream",
     "text": [
      "Processing URLs:  14%|█▍        | 59/412 [04:37<17:01,  2.89s/it]"
     ]
    },
    {
     "name": "stdout",
     "output_type": "stream",
     "text": [
      "Processing completed.\n",
      "Pole Studio Data: 1 entries\n",
      "Starting URL reconstruction...\n"
     ]
    },
    {
     "name": "stderr",
     "output_type": "stream",
     "text": [
      "2024-02-01 21:43:30,267 - INFO - Processing URL 1/1: https://www.eversports.de/s/infinity-polesports-eggenfelden\n"
     ]
    },
    {
     "name": "stdout",
     "output_type": "stream",
     "text": [
      "Converting to DataFrame...\n",
      "Validating URLs...\n"
     ]
    },
    {
     "name": "stderr",
     "output_type": "stream",
     "text": [
      "2024-02-01 21:43:31,715 - INFO - URL https://www.eversports.de/s/infinity-polesports-eggenfelden is valid.\n"
     ]
    },
    {
     "name": "stdout",
     "output_type": "stream",
     "text": [
      "Scraping Pole Studio Data from https://www.eversports.de/s/infinity-polesports-eggenfelden...\n"
     ]
    },
    {
     "name": "stderr",
     "output_type": "stream",
     "text": [
      "Processing URLs:  15%|█▍        | 60/412 [04:41<17:38,  3.01s/it]"
     ]
    },
    {
     "name": "stdout",
     "output_type": "stream",
     "text": [
      "Processing completed.\n",
      "Pole Studio Data: 1 entries\n",
      "Starting URL reconstruction...\n"
     ]
    },
    {
     "name": "stderr",
     "output_type": "stream",
     "text": [
      "2024-02-01 21:43:33,393 - INFO - Processing URL 1/3: https://www.eversports.de/s/polemotions-filderstadt\n"
     ]
    },
    {
     "name": "stdout",
     "output_type": "stream",
     "text": [
      "Converting to DataFrame...\n",
      "Validating URLs...\n"
     ]
    },
    {
     "name": "stderr",
     "output_type": "stream",
     "text": [
      "2024-02-01 21:43:35,152 - INFO - URL https://www.eversports.de/s/polemotions-filderstadt is valid.\n",
      "2024-02-01 21:43:35,153 - INFO - Processing URL 2/3: https://www.eversports.de/sp/polemotions-filderstadt\n",
      "2024-02-01 21:43:36,405 - INFO - URL https://www.eversports.de/sp/polemotions-filderstadt is valid.\n",
      "2024-02-01 21:43:36,406 - INFO - Processing URL 3/3: https://www.eversports.de/s/polemotions-filderstadt/team\n",
      "2024-02-01 21:43:37,651 - INFO - URL https://www.eversports.de/s/polemotions-filderstadt/team is valid.\n"
     ]
    },
    {
     "name": "stdout",
     "output_type": "stream",
     "text": [
      "Scraping Pole Studio Data from https://www.eversports.de/s/polemotions-filderstadt...\n"
     ]
    },
    {
     "name": "stderr",
     "output_type": "stream",
     "text": [
      "Processing URLs:  15%|█▍        | 61/412 [04:47<22:55,  3.92s/it]"
     ]
    },
    {
     "name": "stdout",
     "output_type": "stream",
     "text": [
      "Processing completed.\n",
      "Pole Studio Data: 1 entries\n",
      "Starting URL reconstruction...\n"
     ]
    },
    {
     "name": "stderr",
     "output_type": "stream",
     "text": [
      "Processing URLs:  15%|█▌        | 62/412 [04:48<18:06,  3.11s/it]"
     ]
    },
    {
     "name": "stdout",
     "output_type": "stream",
     "text": [
      "Error during HTTP request: 404 Client Error: Not Found for url: https://www.eversports.de/s/pole-sport-coburg---akrobatik-%26-tanz-\n",
      "Converting to DataFrame...\n",
      "Validating URLs...\n",
      "Processing completed.\n",
      "Starting URL reconstruction...\n"
     ]
    },
    {
     "name": "stderr",
     "output_type": "stream",
     "text": [
      "2024-02-01 21:43:40,651 - INFO - Processing URL 1/3: https://www.eversports.de/s/janardana-yoga\n"
     ]
    },
    {
     "name": "stdout",
     "output_type": "stream",
     "text": [
      "Error reconstructing URL for 'Ausbildungen': Unrecognized text: 'Ausbildungen'\n",
      "Converting to DataFrame...\n",
      "Validating URLs...\n"
     ]
    },
    {
     "name": "stderr",
     "output_type": "stream",
     "text": [
      "2024-02-01 21:43:42,042 - INFO - URL https://www.eversports.de/s/janardana-yoga is valid.\n",
      "2024-02-01 21:43:42,043 - INFO - Processing URL 2/3: https://www.eversports.de/sp/janardana-yoga\n",
      "2024-02-01 21:43:43,216 - INFO - URL https://www.eversports.de/sp/janardana-yoga is valid.\n",
      "2024-02-01 21:43:43,217 - INFO - Processing URL 3/3: https://www.eversports.de/s/janardana-yoga/team\n",
      "2024-02-01 21:43:44,501 - INFO - URL https://www.eversports.de/s/janardana-yoga/team is valid.\n"
     ]
    },
    {
     "name": "stdout",
     "output_type": "stream",
     "text": [
      "Scraping Pole Studio Data from https://www.eversports.de/s/janardana-yoga...\n"
     ]
    },
    {
     "name": "stderr",
     "output_type": "stream",
     "text": [
      "Processing URLs:  15%|█▌        | 63/412 [04:53<22:31,  3.87s/it]"
     ]
    },
    {
     "name": "stdout",
     "output_type": "stream",
     "text": [
      "Processing completed.\n",
      "Pole Studio Data: 1 entries\n",
      "Starting URL reconstruction...\n"
     ]
    },
    {
     "name": "stderr",
     "output_type": "stream",
     "text": [
      "Processing URLs:  16%|█▌        | 64/412 [04:55<17:43,  3.06s/it]"
     ]
    },
    {
     "name": "stdout",
     "output_type": "stream",
     "text": [
      "Error during HTTP request: 404 Client Error: Not Found for url: https://www.eversports.de/s/tanzstudio-redlightdance-berlin\n",
      "Converting to DataFrame...\n",
      "Validating URLs...\n",
      "Processing completed.\n",
      "Starting URL reconstruction...\n"
     ]
    },
    {
     "name": "stderr",
     "output_type": "stream",
     "text": [
      "2024-02-01 21:43:47,520 - INFO - Processing URL 1/4: https://www.eversports.de/s/polea-pole-and-aerial-dance\n"
     ]
    },
    {
     "name": "stdout",
     "output_type": "stream",
     "text": [
      "Converting to DataFrame...\n",
      "Validating URLs...\n"
     ]
    },
    {
     "name": "stderr",
     "output_type": "stream",
     "text": [
      "2024-02-01 21:43:48,912 - INFO - URL https://www.eversports.de/s/polea-pole-and-aerial-dance is valid.\n",
      "2024-02-01 21:43:48,913 - INFO - Processing URL 2/4: https://www.eversports.de/sw/polea-pole-and-aerial-dance\n",
      "2024-02-01 21:43:50,209 - INFO - URL https://www.eversports.de/sw/polea-pole-and-aerial-dance is valid.\n",
      "2024-02-01 21:43:50,209 - INFO - Processing URL 3/4: https://www.eversports.de/sp/polea-pole-and-aerial-dance\n",
      "2024-02-01 21:43:51,361 - INFO - URL https://www.eversports.de/sp/polea-pole-and-aerial-dance is valid.\n",
      "2024-02-01 21:43:51,362 - INFO - Processing URL 4/4: https://www.eversports.de/s/polea-pole-and-aerial-dance/team\n",
      "2024-02-01 21:43:52,642 - INFO - URL https://www.eversports.de/s/polea-pole-and-aerial-dance/team is valid.\n"
     ]
    },
    {
     "name": "stdout",
     "output_type": "stream",
     "text": [
      "Scraping Pole Studio Data from https://www.eversports.de/s/polea-pole-and-aerial-dance...\n",
      "Scraping Workshops Data from https://www.eversports.de/sw/polea-pole-and-aerial-dance...\n",
      "Scraping Workshop Details from https://www.eversports.de/e/workshop/-BAz15m...\n",
      "Scraping Workshop Details from https://www.eversports.de/e/workshop/u3m9tGL...\n"
     ]
    },
    {
     "name": "stderr",
     "output_type": "stream",
     "text": [
      "Processing URLs:  16%|█▌        | 65/412 [05:07<33:15,  5.75s/it]"
     ]
    },
    {
     "name": "stdout",
     "output_type": "stream",
     "text": [
      "Processing completed.\n",
      "Pole Studio Data: 1 entries\n",
      "Workshops Data: 2 entries\n",
      "Workshop Details: 2 entries\n",
      "Starting URL reconstruction...\n"
     ]
    },
    {
     "name": "stderr",
     "output_type": "stream",
     "text": [
      "2024-02-01 21:43:59,489 - INFO - Processing URL 1/1: https://www.eversports.de/s/a-heart-for-poledance\n"
     ]
    },
    {
     "name": "stdout",
     "output_type": "stream",
     "text": [
      "Converting to DataFrame...\n",
      "Validating URLs...\n"
     ]
    },
    {
     "name": "stderr",
     "output_type": "stream",
     "text": [
      "2024-02-01 21:44:01,236 - INFO - URL https://www.eversports.de/s/a-heart-for-poledance is valid.\n"
     ]
    },
    {
     "name": "stdout",
     "output_type": "stream",
     "text": [
      "Scraping Pole Studio Data from https://www.eversports.de/s/a-heart-for-poledance...\n"
     ]
    },
    {
     "name": "stderr",
     "output_type": "stream",
     "text": [
      "Processing URLs:  16%|█▌        | 66/412 [05:10<29:09,  5.06s/it]"
     ]
    },
    {
     "name": "stdout",
     "output_type": "stream",
     "text": [
      "Processing completed.\n",
      "Pole Studio Data: 1 entries\n",
      "Starting URL reconstruction...\n"
     ]
    },
    {
     "name": "stderr",
     "output_type": "stream",
     "text": [
      "Processing URLs:  16%|█▋        | 67/412 [05:11<22:43,  3.95s/it]"
     ]
    },
    {
     "name": "stdout",
     "output_type": "stream",
     "text": [
      "Error during HTTP request: 404 Client Error: Not Found for url: https://www.eversports.de/s/pole-dance-academy-neuburg\n",
      "Converting to DataFrame...\n",
      "Validating URLs...\n",
      "Processing completed.\n",
      "Starting URL reconstruction...\n"
     ]
    },
    {
     "name": "stderr",
     "output_type": "stream",
     "text": [
      "Processing URLs:  17%|█▋        | 68/412 [05:13<19:04,  3.33s/it]"
     ]
    },
    {
     "name": "stdout",
     "output_type": "stream",
     "text": [
      "Error during HTTP request: 404 Client Error: Not Found for url: https://www.eversports.de/s/mmc-dance-studio\n",
      "Converting to DataFrame...\n",
      "Validating URLs...\n",
      "Processing completed.\n",
      "Starting URL reconstruction...\n"
     ]
    },
    {
     "name": "stderr",
     "output_type": "stream",
     "text": [
      "Processing URLs:  17%|█▋        | 69/412 [05:15<15:33,  2.72s/it]"
     ]
    },
    {
     "name": "stdout",
     "output_type": "stream",
     "text": [
      "Error during HTTP request: 404 Client Error: Not Found for url: https://www.eversports.de/s/pole-dance-studio-karlsruhe\n",
      "Converting to DataFrame...\n",
      "Validating URLs...\n",
      "Processing completed.\n",
      "Starting URL reconstruction...\n"
     ]
    },
    {
     "name": "stderr",
     "output_type": "stream",
     "text": [
      "Processing URLs:  17%|█▋        | 70/412 [05:16<12:56,  2.27s/it]"
     ]
    },
    {
     "name": "stdout",
     "output_type": "stream",
     "text": [
      "Error during HTTP request: 404 Client Error: Not Found for url: https://www.eversports.de/s/la-familia-poleclub\n",
      "Converting to DataFrame...\n",
      "Validating URLs...\n",
      "Processing completed.\n",
      "Starting URL reconstruction...\n"
     ]
    },
    {
     "name": "stderr",
     "output_type": "stream",
     "text": [
      "Processing URLs:  17%|█▋        | 71/412 [05:20<16:12,  2.85s/it]"
     ]
    },
    {
     "name": "stdout",
     "output_type": "stream",
     "text": [
      "Error during HTTP request: Exceeded 30 redirects.\n",
      "Converting to DataFrame...\n",
      "Validating URLs...\n",
      "Processing completed.\n",
      "Starting URL reconstruction...\n"
     ]
    },
    {
     "name": "stderr",
     "output_type": "stream",
     "text": [
      "2024-02-01 21:44:12,958 - INFO - Processing URL 1/3: https://www.eversports.de/s/pure-body-concepts-1\n"
     ]
    },
    {
     "name": "stdout",
     "output_type": "stream",
     "text": [
      "Converting to DataFrame...\n",
      "Validating URLs...\n"
     ]
    },
    {
     "name": "stderr",
     "output_type": "stream",
     "text": [
      "2024-02-01 21:44:14,289 - INFO - URL https://www.eversports.de/s/pure-body-concepts-1 is valid.\n",
      "2024-02-01 21:44:14,290 - INFO - Processing URL 2/3: https://www.eversports.de/sp/pure-body-concepts-1\n",
      "2024-02-01 21:44:15,581 - INFO - URL https://www.eversports.de/sp/pure-body-concepts-1 is valid.\n",
      "2024-02-01 21:44:15,582 - INFO - Processing URL 3/3: https://www.eversports.de/s/pure-body-concepts-1/team\n",
      "2024-02-01 21:44:16,888 - INFO - URL https://www.eversports.de/s/pure-body-concepts-1/team is valid.\n"
     ]
    },
    {
     "name": "stdout",
     "output_type": "stream",
     "text": [
      "Scraping Pole Studio Data from https://www.eversports.de/s/pure-body-concepts-1...\n"
     ]
    },
    {
     "name": "stderr",
     "output_type": "stream",
     "text": [
      "Processing URLs:  17%|█▋        | 72/412 [05:26<21:05,  3.72s/it]"
     ]
    },
    {
     "name": "stdout",
     "output_type": "stream",
     "text": [
      "Processing completed.\n",
      "Pole Studio Data: 1 entries\n",
      "Starting URL reconstruction...\n"
     ]
    },
    {
     "name": "stderr",
     "output_type": "stream",
     "text": [
      "Processing URLs:  18%|█▊        | 73/412 [05:27<16:45,  2.96s/it]"
     ]
    },
    {
     "name": "stdout",
     "output_type": "stream",
     "text": [
      "Error during HTTP request: 404 Client Error: Not Found for url: https://www.eversports.de/s/pole-dance-academy-hameln\n",
      "Converting to DataFrame...\n",
      "Validating URLs...\n",
      "Processing completed.\n",
      "Starting URL reconstruction...\n"
     ]
    },
    {
     "name": "stderr",
     "output_type": "stream",
     "text": [
      "2024-02-01 21:44:19,923 - INFO - Processing URL 1/1: https://www.eversports.de/s/polesition-regensburg\n"
     ]
    },
    {
     "name": "stdout",
     "output_type": "stream",
     "text": [
      "Converting to DataFrame...\n",
      "Validating URLs...\n"
     ]
    },
    {
     "name": "stderr",
     "output_type": "stream",
     "text": [
      "2024-02-01 21:44:21,591 - INFO - URL https://www.eversports.de/s/polesition-regensburg is valid.\n"
     ]
    },
    {
     "name": "stdout",
     "output_type": "stream",
     "text": [
      "Scraping Pole Studio Data from https://www.eversports.de/s/polesition-regensburg...\n"
     ]
    },
    {
     "name": "stderr",
     "output_type": "stream",
     "text": [
      "Processing URLs:  18%|█▊        | 74/412 [05:30<17:34,  3.12s/it]"
     ]
    },
    {
     "name": "stdout",
     "output_type": "stream",
     "text": [
      "Processing completed.\n",
      "Pole Studio Data: 1 entries\n",
      "Starting URL reconstruction...\n"
     ]
    },
    {
     "name": "stderr",
     "output_type": "stream",
     "text": [
      "Processing URLs:  18%|█▊        | 75/412 [05:32<14:13,  2.53s/it]"
     ]
    },
    {
     "name": "stdout",
     "output_type": "stream",
     "text": [
      "Error during HTTP request: 404 Client Error: Not Found for url: https://www.eversports.de/s/polemotions-gp\n",
      "Converting to DataFrame...\n",
      "Validating URLs...\n",
      "Processing completed.\n",
      "Starting URL reconstruction...\n"
     ]
    },
    {
     "name": "stderr",
     "output_type": "stream",
     "text": [
      "Processing URLs:  18%|█▊        | 76/412 [05:33<11:47,  2.11s/it]"
     ]
    },
    {
     "name": "stdout",
     "output_type": "stream",
     "text": [
      "Error during HTTP request: 404 Client Error: Not Found for url: https://www.eversports.de/s/aerial-amazons\n",
      "Converting to DataFrame...\n",
      "Validating URLs...\n",
      "Processing completed.\n",
      "Starting URL reconstruction...\n"
     ]
    },
    {
     "name": "stderr",
     "output_type": "stream",
     "text": [
      "Processing URLs:  19%|█▊        | 77/412 [05:34<10:05,  1.81s/it]"
     ]
    },
    {
     "name": "stdout",
     "output_type": "stream",
     "text": [
      "Error during HTTP request: 404 Client Error: Not Found for url: https://www.eversports.de/s/health-&-shape-m%C3%BCnchen\n",
      "Converting to DataFrame...\n",
      "Validating URLs...\n",
      "Processing completed.\n",
      "Starting URL reconstruction...\n"
     ]
    },
    {
     "name": "stderr",
     "output_type": "stream",
     "text": [
      "Processing URLs:  19%|█▉        | 78/412 [05:35<09:02,  1.63s/it]"
     ]
    },
    {
     "name": "stdout",
     "output_type": "stream",
     "text": [
      "Error during HTTP request: 404 Client Error: Not Found for url: https://www.eversports.de/s/poledreams\n",
      "Converting to DataFrame...\n",
      "Validating URLs...\n",
      "Processing completed.\n",
      "Starting URL reconstruction...\n"
     ]
    },
    {
     "name": "stderr",
     "output_type": "stream",
     "text": [
      "Processing URLs:  19%|█▉        | 79/412 [05:39<12:06,  2.18s/it]"
     ]
    },
    {
     "name": "stdout",
     "output_type": "stream",
     "text": [
      "Error during HTTP request: Exceeded 30 redirects.\n",
      "Converting to DataFrame...\n",
      "Validating URLs...\n",
      "Processing completed.\n",
      "Starting URL reconstruction...\n"
     ]
    },
    {
     "name": "stderr",
     "output_type": "stream",
     "text": [
      "Processing URLs:  19%|█▉        | 80/412 [05:40<10:38,  1.92s/it]"
     ]
    },
    {
     "name": "stdout",
     "output_type": "stream",
     "text": [
      "Error during HTTP request: 404 Client Error: Not Found for url: https://www.eversports.de/s/vi-dance-essen\n",
      "Converting to DataFrame...\n",
      "Validating URLs...\n",
      "Processing completed.\n",
      "Starting URL reconstruction...\n"
     ]
    },
    {
     "name": "stderr",
     "output_type": "stream",
     "text": [
      "Processing URLs:  20%|█▉        | 81/412 [05:41<09:42,  1.76s/it]"
     ]
    },
    {
     "name": "stdout",
     "output_type": "stream",
     "text": [
      "Error during HTTP request: 404 Client Error: Not Found for url: https://www.eversports.de/s/poledance-rostock\n",
      "Converting to DataFrame...\n",
      "Validating URLs...\n",
      "Processing completed.\n",
      "Starting URL reconstruction...\n"
     ]
    },
    {
     "name": "stderr",
     "output_type": "stream",
     "text": [
      "Processing URLs:  20%|█▉        | 82/412 [05:43<08:58,  1.63s/it]"
     ]
    },
    {
     "name": "stdout",
     "output_type": "stream",
     "text": [
      "Error during HTTP request: 404 Client Error: Not Found for url: https://www.eversports.de/s/polelove-bremen\n",
      "Converting to DataFrame...\n",
      "Validating URLs...\n",
      "Processing completed.\n",
      "Starting URL reconstruction...\n"
     ]
    },
    {
     "name": "stderr",
     "output_type": "stream",
     "text": [
      "2024-02-01 21:44:36,920 - INFO - Processing URL 1/4: https://www.eversports.de/s/pole-paradise\n"
     ]
    },
    {
     "name": "stdout",
     "output_type": "stream",
     "text": [
      "Converting to DataFrame...\n",
      "Validating URLs...\n"
     ]
    },
    {
     "name": "stderr",
     "output_type": "stream",
     "text": [
      "2024-02-01 21:44:38,679 - INFO - URL https://www.eversports.de/s/pole-paradise is valid.\n",
      "2024-02-01 21:44:38,681 - INFO - Processing URL 2/4: https://www.eversports.de/sw/pole-paradise\n",
      "2024-02-01 21:44:40,309 - INFO - URL https://www.eversports.de/sw/pole-paradise is valid.\n",
      "2024-02-01 21:44:40,311 - INFO - Processing URL 3/4: https://www.eversports.de/sp/pole-paradise\n",
      "2024-02-01 21:44:41,474 - INFO - URL https://www.eversports.de/sp/pole-paradise is valid.\n",
      "2024-02-01 21:44:41,475 - INFO - Processing URL 4/4: https://www.eversports.de/s/pole-paradise/team\n",
      "2024-02-01 21:44:42,752 - INFO - URL https://www.eversports.de/s/pole-paradise/team is valid.\n"
     ]
    },
    {
     "name": "stdout",
     "output_type": "stream",
     "text": [
      "Scraping Pole Studio Data from https://www.eversports.de/s/pole-paradise...\n",
      "Scraping Workshops Data from https://www.eversports.de/sw/pole-paradise...\n",
      "Scraping Workshop Details from https://www.eversports.de/e/workshop/1zI8wYx...\n",
      "Scraping Workshop Details from https://www.eversports.de/e/workshop/NLk1782...\n"
     ]
    },
    {
     "name": "stderr",
     "output_type": "stream",
     "text": [
      "Processing URLs:  20%|██        | 83/412 [05:56<28:09,  5.14s/it]"
     ]
    },
    {
     "name": "stdout",
     "output_type": "stream",
     "text": [
      "Processing completed.\n",
      "Pole Studio Data: 1 entries\n",
      "Workshops Data: 2 entries\n",
      "Workshop Details: 2 entries\n",
      "Starting URL reconstruction...\n"
     ]
    },
    {
     "name": "stderr",
     "output_type": "stream",
     "text": [
      "Processing URLs:  20%|██        | 84/412 [05:57<21:35,  3.95s/it]"
     ]
    },
    {
     "name": "stdout",
     "output_type": "stream",
     "text": [
      "Error during HTTP request: 404 Client Error: Not Found for url: https://www.eversports.de/s/pole-fun-wehr\n",
      "Converting to DataFrame...\n",
      "Validating URLs...\n",
      "Processing completed.\n",
      "Starting URL reconstruction...\n"
     ]
    },
    {
     "name": "stderr",
     "output_type": "stream",
     "text": [
      "2024-02-01 21:44:49,973 - INFO - Processing URL 1/1: https://www.eversports.de/s/poleaddict\n"
     ]
    },
    {
     "name": "stdout",
     "output_type": "stream",
     "text": [
      "Converting to DataFrame...\n",
      "Validating URLs...\n"
     ]
    },
    {
     "name": "stderr",
     "output_type": "stream",
     "text": [
      "2024-02-01 21:44:51,214 - INFO - URL https://www.eversports.de/s/poleaddict is valid.\n"
     ]
    },
    {
     "name": "stdout",
     "output_type": "stream",
     "text": [
      "Scraping Pole Studio Data from https://www.eversports.de/s/poleaddict...\n"
     ]
    },
    {
     "name": "stderr",
     "output_type": "stream",
     "text": [
      "Processing URLs:  21%|██        | 85/412 [06:00<20:00,  3.67s/it]"
     ]
    },
    {
     "name": "stdout",
     "output_type": "stream",
     "text": [
      "Processing completed.\n",
      "Pole Studio Data: 1 entries\n",
      "Starting URL reconstruction...\n"
     ]
    },
    {
     "name": "stderr",
     "output_type": "stream",
     "text": [
      "2024-02-01 21:45:02,888 - INFO - Processing URL 1/4: https://www.eversports.de/s/yoga-and-pole-art-by-selina\n"
     ]
    },
    {
     "name": "stdout",
     "output_type": "stream",
     "text": [
      "Converting to DataFrame...\n",
      "Validating URLs...\n"
     ]
    },
    {
     "name": "stderr",
     "output_type": "stream",
     "text": [
      "2024-02-01 21:45:04,691 - INFO - URL https://www.eversports.de/s/yoga-and-pole-art-by-selina is valid.\n",
      "2024-02-01 21:45:04,691 - INFO - Processing URL 2/4: https://www.eversports.de/sw/yoga-and-pole-art-by-selina\n",
      "2024-02-01 21:45:06,262 - INFO - URL https://www.eversports.de/sw/yoga-and-pole-art-by-selina is valid.\n",
      "2024-02-01 21:45:06,263 - INFO - Processing URL 3/4: https://www.eversports.de/sp/yoga-and-pole-art-by-selina\n",
      "2024-02-01 21:45:07,418 - INFO - URL https://www.eversports.de/sp/yoga-and-pole-art-by-selina is valid.\n",
      "2024-02-01 21:45:07,419 - INFO - Processing URL 4/4: https://www.eversports.de/s/yoga-and-pole-art-by-selina/team\n",
      "2024-02-01 21:45:08,567 - INFO - URL https://www.eversports.de/s/yoga-and-pole-art-by-selina/team is valid.\n"
     ]
    },
    {
     "name": "stdout",
     "output_type": "stream",
     "text": [
      "Scraping Pole Studio Data from https://www.eversports.de/s/yoga-and-pole-art-by-selina...\n",
      "Scraping Workshops Data from https://www.eversports.de/sw/yoga-and-pole-art-by-selina...\n",
      "Scraping Workshop Details from https://www.eversports.de/e/workshop/dhAWne_...\n",
      "Scraping Workshop Details from https://www.eversports.de/e/workshop/p_eKWTW...\n",
      "Scraping Workshop Details from https://www.eversports.de/e/workshop/1PmB24I...\n",
      "Scraping Workshop Details from https://www.eversports.de/e/workshop/Zk4neM3...\n",
      "Scraping Workshop Details from https://www.eversports.de/e/workshop/VnmCBGD...\n",
      "Scraping Workshop Details from https://www.eversports.de/e/workshop/qdYG4WC...\n",
      "Scraping Workshop Details from https://www.eversports.de/e/workshop/M4MjCdo...\n",
      "Scraping Workshop Details from https://www.eversports.de/e/workshop/bi8m5zs...\n",
      "Scraping Workshop Details from https://www.eversports.de/e/workshop/ccLkJAE...\n"
     ]
    },
    {
     "name": "stderr",
     "output_type": "stream",
     "text": [
      "Processing URLs:  21%|██        | 86/412 [06:32<1:05:23, 12.03s/it]"
     ]
    },
    {
     "name": "stdout",
     "output_type": "stream",
     "text": [
      "Processing completed.\n",
      "Pole Studio Data: 1 entries\n",
      "Workshops Data: 9 entries\n",
      "Workshop Details: 9 entries\n",
      "Starting URL reconstruction...\n"
     ]
    },
    {
     "name": "stderr",
     "output_type": "stream",
     "text": [
      "Processing URLs:  21%|██        | 87/412 [06:33<47:35,  8.78s/it]  "
     ]
    },
    {
     "name": "stdout",
     "output_type": "stream",
     "text": [
      "Error during HTTP request: 404 Client Error: Not Found for url: https://www.eversports.de/s/pole-sisters\n",
      "Converting to DataFrame...\n",
      "Validating URLs...\n",
      "Processing completed.\n",
      "Starting URL reconstruction...\n"
     ]
    },
    {
     "name": "stderr",
     "output_type": "stream",
     "text": [
      "Processing URLs:  21%|██▏       | 88/412 [06:38<40:46,  7.55s/it]"
     ]
    },
    {
     "name": "stdout",
     "output_type": "stream",
     "text": [
      "Error during HTTP request: Exceeded 30 redirects.\n",
      "Converting to DataFrame...\n",
      "Validating URLs...\n",
      "Processing completed.\n",
      "Starting URL reconstruction...\n"
     ]
    },
    {
     "name": "stderr",
     "output_type": "stream",
     "text": [
      "Processing URLs:  22%|██▏       | 89/412 [06:39<30:20,  5.64s/it]"
     ]
    },
    {
     "name": "stdout",
     "output_type": "stream",
     "text": [
      "Error during HTTP request: 404 Client Error: Not Found for url: https://www.eversports.de/s/polevybe\n",
      "Converting to DataFrame...\n",
      "Validating URLs...\n",
      "Processing completed.\n",
      "Starting URL reconstruction...\n"
     ]
    },
    {
     "name": "stderr",
     "output_type": "stream",
     "text": [
      "2024-02-01 21:45:31,638 - INFO - Processing URL 1/3: https://www.eversports.de/s/aerial-circus\n"
     ]
    },
    {
     "name": "stdout",
     "output_type": "stream",
     "text": [
      "Converting to DataFrame...\n",
      "Validating URLs...\n"
     ]
    },
    {
     "name": "stderr",
     "output_type": "stream",
     "text": [
      "2024-02-01 21:45:32,955 - INFO - URL https://www.eversports.de/s/aerial-circus is valid.\n",
      "2024-02-01 21:45:32,956 - INFO - Processing URL 2/3: https://www.eversports.de/sp/aerial-circus\n",
      "2024-02-01 21:45:34,086 - INFO - URL https://www.eversports.de/sp/aerial-circus is valid.\n",
      "2024-02-01 21:45:34,086 - INFO - Processing URL 3/3: https://www.eversports.de/s/aerial-circus/team\n",
      "2024-02-01 21:45:35,296 - INFO - URL https://www.eversports.de/s/aerial-circus/team is valid.\n"
     ]
    },
    {
     "name": "stdout",
     "output_type": "stream",
     "text": [
      "Scraping Pole Studio Data from https://www.eversports.de/s/aerial-circus...\n"
     ]
    },
    {
     "name": "stderr",
     "output_type": "stream",
     "text": [
      "Processing URLs:  22%|██▏       | 90/412 [06:44<30:04,  5.60s/it]"
     ]
    },
    {
     "name": "stdout",
     "output_type": "stream",
     "text": [
      "Processing completed.\n",
      "Pole Studio Data: 1 entries\n",
      "Starting URL reconstruction...\n"
     ]
    },
    {
     "name": "stderr",
     "output_type": "stream",
     "text": [
      "2024-02-01 21:45:37,739 - INFO - Processing URL 1/4: https://www.eversports.de/s/poleroom-braunschweig\n"
     ]
    },
    {
     "name": "stdout",
     "output_type": "stream",
     "text": [
      "Error reconstructing URL for 'Trainings': Unrecognized text: 'Trainings'\n",
      "Converting to DataFrame...\n",
      "Validating URLs...\n"
     ]
    },
    {
     "name": "stderr",
     "output_type": "stream",
     "text": [
      "2024-02-01 21:45:39,170 - INFO - URL https://www.eversports.de/s/poleroom-braunschweig is valid.\n",
      "2024-02-01 21:45:39,171 - INFO - Processing URL 2/4: https://www.eversports.de/sw/poleroom-braunschweig\n",
      "2024-02-01 21:45:40,487 - INFO - URL https://www.eversports.de/sw/poleroom-braunschweig is valid.\n",
      "2024-02-01 21:45:40,488 - INFO - Processing URL 3/4: https://www.eversports.de/sp/poleroom-braunschweig\n",
      "2024-02-01 21:45:41,684 - INFO - URL https://www.eversports.de/sp/poleroom-braunschweig is valid.\n",
      "2024-02-01 21:45:41,685 - INFO - Processing URL 4/4: https://www.eversports.de/s/poleroom-braunschweig/team\n",
      "2024-02-01 21:45:42,995 - INFO - URL https://www.eversports.de/s/poleroom-braunschweig/team is valid.\n"
     ]
    },
    {
     "name": "stdout",
     "output_type": "stream",
     "text": [
      "Scraping Pole Studio Data from https://www.eversports.de/s/poleroom-braunschweig...\n",
      "Scraping Workshops Data from https://www.eversports.de/sw/poleroom-braunschweig...\n",
      "Scraping Workshop Details from https://www.eversports.de/e/workshop/5FIBkpe...\n",
      "Scraping Workshop Details from https://www.eversports.de/e/workshop/GB5CNr0...\n",
      "Scraping Workshop Details from https://www.eversports.de/e/workshop/1pzXUtZ...\n",
      "Scraping Workshop Details from https://www.eversports.de/e/workshop/fx6DrZ8...\n"
     ]
    },
    {
     "name": "stderr",
     "output_type": "stream",
     "text": [
      "Processing URLs:  22%|██▏       | 91/412 [06:59<44:56,  8.40s/it]"
     ]
    },
    {
     "name": "stdout",
     "output_type": "stream",
     "text": [
      "Processing completed.\n",
      "Pole Studio Data: 1 entries\n",
      "Workshops Data: 4 entries\n",
      "Workshop Details: 4 entries\n",
      "Starting URL reconstruction...\n"
     ]
    },
    {
     "name": "stderr",
     "output_type": "stream",
     "text": [
      "Processing URLs:  22%|██▏       | 92/412 [07:01<34:06,  6.40s/it]"
     ]
    },
    {
     "name": "stdout",
     "output_type": "stream",
     "text": [
      "Error during HTTP request: 404 Client Error: Not Found for url: https://www.eversports.de/s/schwerelos-bochum\n",
      "Converting to DataFrame...\n",
      "Validating URLs...\n",
      "Processing completed.\n",
      "Starting URL reconstruction...\n"
     ]
    },
    {
     "name": "stderr",
     "output_type": "stream",
     "text": [
      "2024-02-01 21:45:53,742 - INFO - Processing URL 1/3: https://www.eversports.de/s/munich-poledance\n"
     ]
    },
    {
     "name": "stdout",
     "output_type": "stream",
     "text": [
      "Converting to DataFrame...\n",
      "Validating URLs...\n"
     ]
    },
    {
     "name": "stderr",
     "output_type": "stream",
     "text": [
      "2024-02-01 21:45:55,141 - INFO - URL https://www.eversports.de/s/munich-poledance is valid.\n",
      "2024-02-01 21:45:55,142 - INFO - Processing URL 2/3: https://www.eversports.de/sp/munich-poledance\n",
      "2024-02-01 21:45:56,301 - INFO - URL https://www.eversports.de/sp/munich-poledance is valid.\n",
      "2024-02-01 21:45:56,302 - INFO - Processing URL 3/3: https://www.eversports.de/s/munich-poledance/team\n",
      "2024-02-01 21:45:57,652 - INFO - URL https://www.eversports.de/s/munich-poledance/team is valid.\n"
     ]
    },
    {
     "name": "stdout",
     "output_type": "stream",
     "text": [
      "Scraping Pole Studio Data from https://www.eversports.de/s/munich-poledance...\n"
     ]
    },
    {
     "name": "stderr",
     "output_type": "stream",
     "text": [
      "Processing URLs:  23%|██▎       | 93/412 [07:07<33:00,  6.21s/it]"
     ]
    },
    {
     "name": "stdout",
     "output_type": "stream",
     "text": [
      "Processing completed.\n",
      "Pole Studio Data: 1 entries\n",
      "Starting URL reconstruction...\n"
     ]
    },
    {
     "name": "stderr",
     "output_type": "stream",
     "text": [
      "2024-02-01 21:45:59,466 - INFO - Processing URL 1/3: https://www.eversports.de/s/-pole-aerial-dance-souldance\n"
     ]
    },
    {
     "name": "stdout",
     "output_type": "stream",
     "text": [
      "Converting to DataFrame...\n",
      "Validating URLs...\n"
     ]
    },
    {
     "name": "stderr",
     "output_type": "stream",
     "text": [
      "2024-02-01 21:46:00,999 - INFO - URL https://www.eversports.de/s/-pole-aerial-dance-souldance is valid.\n",
      "2024-02-01 21:46:01,000 - INFO - Processing URL 2/3: https://www.eversports.de/sp/-pole-aerial-dance-souldance\n",
      "2024-02-01 21:46:02,178 - INFO - URL https://www.eversports.de/sp/-pole-aerial-dance-souldance is valid.\n",
      "2024-02-01 21:46:02,179 - INFO - Processing URL 3/3: https://www.eversports.de/s/-pole-aerial-dance-souldance/team\n",
      "2024-02-01 21:46:03,430 - INFO - URL https://www.eversports.de/s/-pole-aerial-dance-souldance/team is valid.\n"
     ]
    },
    {
     "name": "stdout",
     "output_type": "stream",
     "text": [
      "Scraping Pole Studio Data from https://www.eversports.de/s/-pole-aerial-dance-souldance...\n"
     ]
    },
    {
     "name": "stderr",
     "output_type": "stream",
     "text": [
      "Processing URLs:  23%|██▎       | 94/412 [07:12<32:15,  6.09s/it]"
     ]
    },
    {
     "name": "stdout",
     "output_type": "stream",
     "text": [
      "Processing completed.\n",
      "Pole Studio Data: 1 entries\n",
      "Starting URL reconstruction...\n"
     ]
    },
    {
     "name": "stderr",
     "output_type": "stream",
     "text": [
      "2024-02-01 21:46:05,493 - INFO - Processing URL 1/4: https://www.eversports.de/s/da-becca-flow-and-fit\n"
     ]
    },
    {
     "name": "stdout",
     "output_type": "stream",
     "text": [
      "Converting to DataFrame...\n",
      "Validating URLs...\n"
     ]
    },
    {
     "name": "stderr",
     "output_type": "stream",
     "text": [
      "2024-02-01 21:46:06,846 - INFO - URL https://www.eversports.de/s/da-becca-flow-and-fit is valid.\n",
      "2024-02-01 21:46:06,848 - INFO - Processing URL 2/4: https://www.eversports.de/sw/da-becca-flow-and-fit\n",
      "2024-02-01 21:46:08,257 - INFO - URL https://www.eversports.de/sw/da-becca-flow-and-fit is valid.\n",
      "2024-02-01 21:46:08,258 - INFO - Processing URL 3/4: https://www.eversports.de/sp/da-becca-flow-and-fit\n",
      "2024-02-01 21:46:10,101 - INFO - URL https://www.eversports.de/sp/da-becca-flow-and-fit is valid.\n",
      "2024-02-01 21:46:10,102 - INFO - Processing URL 4/4: https://www.eversports.de/s/da-becca-flow-and-fit/team\n",
      "2024-02-01 21:46:11,446 - INFO - URL https://www.eversports.de/s/da-becca-flow-and-fit/team is valid.\n"
     ]
    },
    {
     "name": "stdout",
     "output_type": "stream",
     "text": [
      "Scraping Pole Studio Data from https://www.eversports.de/s/da-becca-flow-and-fit...\n",
      "Scraping Workshops Data from https://www.eversports.de/sw/da-becca-flow-and-fit...\n",
      "Scraping Workshop Details from https://www.eversports.de/e/workshop/2z_srY0...\n",
      "Scraping Workshop Details from https://www.eversports.de/e/workshop/o5_MV7J...\n",
      "Scraping Workshop Details from https://www.eversports.de/e/workshop/0u01Mza...\n",
      "Scraping Workshop Details from https://www.eversports.de/e/workshop/DBxar8u...\n",
      "Scraping Workshop Details from https://www.eversports.de/e/workshop/GlPG304...\n",
      "Scraping Workshop Details from https://www.eversports.de/e/workshop/wj20M8W...\n",
      "Scraping Workshop Details from https://www.eversports.de/e/workshop/113IYbR...\n",
      "Scraping Workshop Details from https://www.eversports.de/e/workshop/vyTj8JR...\n",
      "Scraping Workshop Details from https://www.eversports.de/e/workshop/GMeuKSV...\n",
      "Scraping Workshop Details from https://www.eversports.de/e/workshop/461op6s...\n",
      "Scraping Workshop Details from https://www.eversports.de/e/workshop/NrFmto0...\n",
      "Scraping Workshop Details from https://www.eversports.de/e/workshop/km4K7Yv...\n",
      "Scraping Workshop Details from https://www.eversports.de/e/workshop/B2Sz3mv...\n",
      "Scraping Workshop Details from https://www.eversports.de/e/workshop/HhyMbSA...\n",
      "Scraping Workshop Details from https://www.eversports.de/e/workshop/WBlAegH...\n"
     ]
    },
    {
     "name": "stderr",
     "output_type": "stream",
     "text": [
      "Processing URLs:  23%|██▎       | 95/412 [07:43<1:11:03, 13.45s/it]"
     ]
    },
    {
     "name": "stdout",
     "output_type": "stream",
     "text": [
      "Processing completed.\n",
      "Pole Studio Data: 1 entries\n",
      "Workshops Data: 15 entries\n",
      "Workshop Details: 15 entries\n",
      "Starting URL reconstruction...\n"
     ]
    },
    {
     "name": "stderr",
     "output_type": "stream",
     "text": [
      "Processing URLs:  23%|██▎       | 96/412 [07:44<51:27,  9.77s/it]  "
     ]
    },
    {
     "name": "stdout",
     "output_type": "stream",
     "text": [
      "Error during HTTP request: 404 Client Error: Not Found for url: https://www.eversports.de/s/das-tanz-center\n",
      "Converting to DataFrame...\n",
      "Validating URLs...\n",
      "Processing completed.\n",
      "Starting URL reconstruction...\n"
     ]
    },
    {
     "name": "stderr",
     "output_type": "stream",
     "text": [
      "2024-02-01 21:46:37,027 - INFO - Processing URL 1/3: https://www.eversports.de/s/pole-werk-by-nelly\n"
     ]
    },
    {
     "name": "stdout",
     "output_type": "stream",
     "text": [
      "Error reconstructing URL for 'Kurse': Unrecognized text: 'Kurse'\n",
      "Converting to DataFrame...\n",
      "Validating URLs...\n"
     ]
    },
    {
     "name": "stderr",
     "output_type": "stream",
     "text": [
      "2024-02-01 21:46:38,412 - INFO - URL https://www.eversports.de/s/pole-werk-by-nelly is valid.\n",
      "2024-02-01 21:46:38,413 - INFO - Processing URL 2/3: https://www.eversports.de/sw/pole-werk-by-nelly\n",
      "2024-02-01 21:46:39,574 - INFO - URL https://www.eversports.de/sw/pole-werk-by-nelly is valid.\n",
      "2024-02-01 21:46:39,575 - INFO - Processing URL 3/3: https://www.eversports.de/s/pole-werk-by-nelly/team\n",
      "2024-02-01 21:46:40,748 - INFO - URL https://www.eversports.de/s/pole-werk-by-nelly/team is valid.\n"
     ]
    },
    {
     "name": "stdout",
     "output_type": "stream",
     "text": [
      "Scraping Pole Studio Data from https://www.eversports.de/s/pole-werk-by-nelly...\n",
      "Scraping Workshops Data from https://www.eversports.de/sw/pole-werk-by-nelly...\n",
      "Scraping Workshop Details from https://www.eversports.de/e/workshop/HlobVZo...\n"
     ]
    },
    {
     "name": "stderr",
     "output_type": "stream",
     "text": [
      "Processing URLs:  24%|██▎       | 97/412 [07:52<48:19,  9.21s/it]"
     ]
    },
    {
     "name": "stdout",
     "output_type": "stream",
     "text": [
      "Processing completed.\n",
      "Pole Studio Data: 1 entries\n",
      "Workshops Data: 1 entries\n",
      "Workshop Details: 1 entries\n",
      "Starting URL reconstruction...\n"
     ]
    },
    {
     "name": "stderr",
     "output_type": "stream",
     "text": [
      "Processing URLs:  24%|██▍       | 98/412 [08:00<45:36,  8.72s/it]"
     ]
    },
    {
     "name": "stdout",
     "output_type": "stream",
     "text": [
      "Error during HTTP request: Exceeded 30 redirects.\n",
      "Converting to DataFrame...\n",
      "Validating URLs...\n",
      "Processing completed.\n",
      "Starting URL reconstruction...\n"
     ]
    },
    {
     "name": "stderr",
     "output_type": "stream",
     "text": [
      "Processing URLs:  24%|██▍       | 99/412 [08:01<33:37,  6.45s/it]"
     ]
    },
    {
     "name": "stdout",
     "output_type": "stream",
     "text": [
      "Error during HTTP request: 404 Client Error: Not Found for url: https://www.eversports.de/s/polemotion-freiburg\n",
      "Converting to DataFrame...\n",
      "Validating URLs...\n",
      "Processing completed.\n",
      "Starting URL reconstruction...\n"
     ]
    },
    {
     "name": "stderr",
     "output_type": "stream",
     "text": [
      "Processing URLs:  24%|██▍       | 100/412 [08:02<25:13,  4.85s/it]"
     ]
    },
    {
     "name": "stdout",
     "output_type": "stream",
     "text": [
      "Error during HTTP request: 404 Client Error: Not Found for url: https://www.eversports.de/s/vertical-moves---pole-dance-%26-sports\n",
      "Converting to DataFrame...\n",
      "Validating URLs...\n",
      "Processing completed.\n",
      "Starting URL reconstruction...\n"
     ]
    },
    {
     "name": "stderr",
     "output_type": "stream",
     "text": [
      "Processing URLs:  25%|██▍       | 101/412 [08:03<19:24,  3.74s/it]"
     ]
    },
    {
     "name": "stdout",
     "output_type": "stream",
     "text": [
      "Error during HTTP request: 404 Client Error: Not Found for url: https://www.eversports.de/s/le-serpent-rouge\n",
      "Converting to DataFrame...\n",
      "Validating URLs...\n",
      "Processing completed.\n",
      "Starting URL reconstruction...\n"
     ]
    },
    {
     "name": "stderr",
     "output_type": "stream",
     "text": [
      "2024-02-01 21:46:55,869 - INFO - Processing URL 1/1: https://www.eversports.de/s/cindys-pole-dance\n"
     ]
    },
    {
     "name": "stdout",
     "output_type": "stream",
     "text": [
      "Converting to DataFrame...\n",
      "Validating URLs...\n"
     ]
    },
    {
     "name": "stderr",
     "output_type": "stream",
     "text": [
      "2024-02-01 21:46:57,151 - INFO - URL https://www.eversports.de/s/cindys-pole-dance is valid.\n"
     ]
    },
    {
     "name": "stdout",
     "output_type": "stream",
     "text": [
      "Scraping Pole Studio Data from https://www.eversports.de/s/cindys-pole-dance...\n"
     ]
    },
    {
     "name": "stderr",
     "output_type": "stream",
     "text": [
      "Processing URLs:  25%|██▍       | 102/412 [08:06<17:58,  3.48s/it]"
     ]
    },
    {
     "name": "stdout",
     "output_type": "stream",
     "text": [
      "Processing completed.\n",
      "Pole Studio Data: 1 entries\n",
      "Starting URL reconstruction...\n"
     ]
    },
    {
     "name": "stderr",
     "output_type": "stream",
     "text": [
      "2024-02-01 21:46:59,855 - INFO - Processing URL 1/3: https://www.eversports.de/s/pole-and-move-online-studio\n"
     ]
    },
    {
     "name": "stdout",
     "output_type": "stream",
     "text": [
      "Converting to DataFrame...\n",
      "Validating URLs...\n"
     ]
    },
    {
     "name": "stderr",
     "output_type": "stream",
     "text": [
      "2024-02-01 21:47:01,232 - INFO - URL https://www.eversports.de/s/pole-and-move-online-studio is valid.\n",
      "2024-02-01 21:47:01,233 - INFO - Processing URL 2/3: https://www.eversports.de/sp/pole-and-move-online-studio\n",
      "2024-02-01 21:47:02,451 - INFO - URL https://www.eversports.de/sp/pole-and-move-online-studio is valid.\n",
      "2024-02-01 21:47:02,452 - INFO - Processing URL 3/3: https://www.eversports.de/s/pole-and-move-online-studio/team\n",
      "2024-02-01 21:47:03,888 - INFO - URL https://www.eversports.de/s/pole-and-move-online-studio/team is valid.\n"
     ]
    },
    {
     "name": "stdout",
     "output_type": "stream",
     "text": [
      "Scraping Pole Studio Data from https://www.eversports.de/s/pole-and-move-online-studio...\n"
     ]
    },
    {
     "name": "stderr",
     "output_type": "stream",
     "text": [
      "Processing URLs:  25%|██▌       | 103/412 [08:13<23:12,  4.51s/it]"
     ]
    },
    {
     "name": "stdout",
     "output_type": "stream",
     "text": [
      "Processing completed.\n",
      "Pole Studio Data: 1 entries\n",
      "Starting URL reconstruction...\n"
     ]
    },
    {
     "name": "stderr",
     "output_type": "stream",
     "text": [
      "Processing URLs:  25%|██▌       | 104/412 [08:14<18:08,  3.53s/it]"
     ]
    },
    {
     "name": "stdout",
     "output_type": "stream",
     "text": [
      "Error during HTTP request: 404 Client Error: Not Found for url: https://www.eversports.de/s/indeed-unique---studio-wien\n",
      "Converting to DataFrame...\n",
      "Validating URLs...\n",
      "Processing completed.\n",
      "Starting URL reconstruction...\n"
     ]
    },
    {
     "name": "stderr",
     "output_type": "stream",
     "text": [
      "Processing URLs:  25%|██▌       | 105/412 [08:15<14:37,  2.86s/it]"
     ]
    },
    {
     "name": "stdout",
     "output_type": "stream",
     "text": [
      "Error during HTTP request: 404 Client Error: Not Found for url: https://www.eversports.de/s/anni's-pole-dance-neum%C3%BCnster\n",
      "Converting to DataFrame...\n",
      "Validating URLs...\n",
      "Processing completed.\n",
      "Starting URL reconstruction...\n"
     ]
    },
    {
     "name": "stderr",
     "output_type": "stream",
     "text": [
      "Processing URLs:  26%|██▌       | 106/412 [08:17<12:07,  2.38s/it]"
     ]
    },
    {
     "name": "stdout",
     "output_type": "stream",
     "text": [
      "Error during HTTP request: 404 Client Error: Not Found for url: https://www.eversports.de/s/verticalspirit-chemnitz-e.-v.\n",
      "Converting to DataFrame...\n",
      "Validating URLs...\n",
      "Processing completed.\n",
      "Starting URL reconstruction...\n"
     ]
    },
    {
     "name": "stderr",
     "output_type": "stream",
     "text": [
      "2024-02-01 21:47:09,519 - INFO - Processing URL 1/4: https://www.eversports.de/s/a-heart-for-poledance-1\n"
     ]
    },
    {
     "name": "stdout",
     "output_type": "stream",
     "text": [
      "Error reconstructing URL for 'Trainings': Unrecognized text: 'Trainings'\n",
      "Converting to DataFrame...\n",
      "Validating URLs...\n"
     ]
    },
    {
     "name": "stderr",
     "output_type": "stream",
     "text": [
      "2024-02-01 21:47:10,826 - INFO - URL https://www.eversports.de/s/a-heart-for-poledance-1 is valid.\n",
      "2024-02-01 21:47:10,827 - INFO - Processing URL 2/4: https://www.eversports.de/sw/a-heart-for-poledance-1\n",
      "2024-02-01 21:47:12,056 - INFO - URL https://www.eversports.de/sw/a-heart-for-poledance-1 is valid.\n",
      "2024-02-01 21:47:12,057 - INFO - Processing URL 3/4: https://www.eversports.de/sp/a-heart-for-poledance-1\n",
      "2024-02-01 21:47:13,225 - INFO - URL https://www.eversports.de/sp/a-heart-for-poledance-1 is valid.\n",
      "2024-02-01 21:47:13,227 - INFO - Processing URL 4/4: https://www.eversports.de/s/a-heart-for-poledance-1/team\n",
      "2024-02-01 21:47:14,427 - INFO - URL https://www.eversports.de/s/a-heart-for-poledance-1/team is valid.\n"
     ]
    },
    {
     "name": "stdout",
     "output_type": "stream",
     "text": [
      "Scraping Pole Studio Data from https://www.eversports.de/s/a-heart-for-poledance-1...\n",
      "Scraping Workshops Data from https://www.eversports.de/sw/a-heart-for-poledance-1...\n",
      "Scraping Workshop Details from https://www.eversports.de/e/workshop/5VJvMXI...\n",
      "Scraping Workshop Details from https://www.eversports.de/e/workshop/jQOaOC3...\n",
      "Scraping Workshop Details from https://www.eversports.de/e/workshop/H4Qz_fT...\n",
      "Scraping Workshop Details from https://www.eversports.de/e/workshop/nOac6zt...\n",
      "Scraping Workshop Details from https://www.eversports.de/e/workshop/yMiXoIi...\n"
     ]
    },
    {
     "name": "stderr",
     "output_type": "stream",
     "text": [
      "Processing URLs:  26%|██▌       | 107/412 [08:34<35:14,  6.93s/it]"
     ]
    },
    {
     "name": "stdout",
     "output_type": "stream",
     "text": [
      "Processing completed.\n",
      "Pole Studio Data: 1 entries\n",
      "Workshops Data: 5 entries\n",
      "Workshop Details: 5 entries\n",
      "Starting URL reconstruction...\n"
     ]
    },
    {
     "name": "stderr",
     "output_type": "stream",
     "text": [
      "2024-02-01 21:47:27,045 - INFO - Processing URL 1/3: https://www.eversports.de/s/upsidedown-studio-friedrichsdorf\n"
     ]
    },
    {
     "name": "stdout",
     "output_type": "stream",
     "text": [
      "Error reconstructing URL for 'Kurse': Unrecognized text: 'Kurse'\n",
      "Converting to DataFrame...\n",
      "Validating URLs...\n"
     ]
    },
    {
     "name": "stderr",
     "output_type": "stream",
     "text": [
      "2024-02-01 21:47:29,174 - INFO - URL https://www.eversports.de/s/upsidedown-studio-friedrichsdorf is valid.\n",
      "2024-02-01 21:47:29,176 - INFO - Processing URL 2/3: https://www.eversports.de/sp/upsidedown-studio-friedrichsdorf\n",
      "2024-02-01 21:47:30,428 - INFO - URL https://www.eversports.de/sp/upsidedown-studio-friedrichsdorf is valid.\n",
      "2024-02-01 21:47:30,429 - INFO - Processing URL 3/3: https://www.eversports.de/s/upsidedown-studio-friedrichsdorf/team\n",
      "2024-02-01 21:47:31,626 - INFO - URL https://www.eversports.de/s/upsidedown-studio-friedrichsdorf/team is valid.\n"
     ]
    },
    {
     "name": "stdout",
     "output_type": "stream",
     "text": [
      "Scraping Pole Studio Data from https://www.eversports.de/s/upsidedown-studio-friedrichsdorf...\n"
     ]
    },
    {
     "name": "stderr",
     "output_type": "stream",
     "text": [
      "Processing URLs:  26%|██▌       | 108/412 [08:41<34:04,  6.72s/it]"
     ]
    },
    {
     "name": "stdout",
     "output_type": "stream",
     "text": [
      "Processing completed.\n",
      "Pole Studio Data: 1 entries\n",
      "Starting URL reconstruction...\n"
     ]
    },
    {
     "name": "stderr",
     "output_type": "stream",
     "text": [
      "Processing URLs:  26%|██▋       | 109/412 [08:42<25:48,  5.11s/it]"
     ]
    },
    {
     "name": "stdout",
     "output_type": "stream",
     "text": [
      "Error during HTTP request: 404 Client Error: Not Found for url: https://www.eversports.de/s/dance-%26-pole-deltawerk\n",
      "Converting to DataFrame...\n",
      "Validating URLs...\n",
      "Processing completed.\n",
      "Starting URL reconstruction...\n"
     ]
    },
    {
     "name": "stderr",
     "output_type": "stream",
     "text": [
      "2024-02-01 21:47:34,667 - INFO - Processing URL 1/1: https://www.eversports.de/s/swiss-mega-park\n"
     ]
    },
    {
     "name": "stdout",
     "output_type": "stream",
     "text": [
      "Error reconstructing URL for 'Sportplätze': Unrecognized text: 'Sportplätze'\n",
      "Error reconstructing URL for 'Matches': Unrecognized text: 'Matches'\n",
      "Converting to DataFrame...\n",
      "Validating URLs...\n"
     ]
    },
    {
     "name": "stderr",
     "output_type": "stream",
     "text": [
      "2024-02-01 21:47:36,966 - INFO - URL https://www.eversports.de/s/swiss-mega-park is valid.\n"
     ]
    },
    {
     "name": "stdout",
     "output_type": "stream",
     "text": [
      "Scraping Pole Studio Data from https://www.eversports.de/s/swiss-mega-park...\n"
     ]
    },
    {
     "name": "stderr",
     "output_type": "stream",
     "text": [
      "Processing URLs:  27%|██▋       | 110/412 [08:46<24:05,  4.79s/it]"
     ]
    },
    {
     "name": "stdout",
     "output_type": "stream",
     "text": [
      "Processing completed.\n",
      "Pole Studio Data: 1 entries\n",
      "Starting URL reconstruction...\n"
     ]
    },
    {
     "name": "stderr",
     "output_type": "stream",
     "text": [
      "2024-02-01 21:47:38,783 - INFO - Processing URL 1/3: https://www.eversports.de/s/tanzschule-poledance-reutlingen\n"
     ]
    },
    {
     "name": "stdout",
     "output_type": "stream",
     "text": [
      "Converting to DataFrame...\n",
      "Validating URLs...\n"
     ]
    },
    {
     "name": "stderr",
     "output_type": "stream",
     "text": [
      "2024-02-01 21:47:40,817 - INFO - URL https://www.eversports.de/s/tanzschule-poledance-reutlingen is valid.\n",
      "2024-02-01 21:47:40,818 - INFO - Processing URL 2/3: https://www.eversports.de/sp/tanzschule-poledance-reutlingen\n",
      "2024-02-01 21:47:41,942 - INFO - URL https://www.eversports.de/sp/tanzschule-poledance-reutlingen is valid.\n",
      "2024-02-01 21:47:41,943 - INFO - Processing URL 3/3: https://www.eversports.de/s/tanzschule-poledance-reutlingen/team\n",
      "2024-02-01 21:47:43,233 - INFO - URL https://www.eversports.de/s/tanzschule-poledance-reutlingen/team is valid.\n"
     ]
    },
    {
     "name": "stdout",
     "output_type": "stream",
     "text": [
      "Scraping Pole Studio Data from https://www.eversports.de/s/tanzschule-poledance-reutlingen...\n"
     ]
    },
    {
     "name": "stderr",
     "output_type": "stream",
     "text": [
      "Processing URLs:  27%|██▋       | 111/412 [08:53<27:09,  5.41s/it]"
     ]
    },
    {
     "name": "stdout",
     "output_type": "stream",
     "text": [
      "Processing completed.\n",
      "Pole Studio Data: 1 entries\n",
      "Starting URL reconstruction...\n"
     ]
    },
    {
     "name": "stderr",
     "output_type": "stream",
     "text": [
      "2024-02-01 21:47:45,535 - INFO - Processing URL 1/1: https://www.eversports.de/s/soul-flight\n"
     ]
    },
    {
     "name": "stdout",
     "output_type": "stream",
     "text": [
      "Converting to DataFrame...\n",
      "Validating URLs...\n"
     ]
    },
    {
     "name": "stderr",
     "output_type": "stream",
     "text": [
      "2024-02-01 21:47:46,791 - INFO - URL https://www.eversports.de/s/soul-flight is valid.\n"
     ]
    },
    {
     "name": "stdout",
     "output_type": "stream",
     "text": [
      "Scraping Pole Studio Data from https://www.eversports.de/s/soul-flight...\n"
     ]
    },
    {
     "name": "stderr",
     "output_type": "stream",
     "text": [
      "Processing URLs:  27%|██▋       | 112/412 [08:56<23:17,  4.66s/it]"
     ]
    },
    {
     "name": "stdout",
     "output_type": "stream",
     "text": [
      "Processing completed.\n",
      "Pole Studio Data: 1 entries\n",
      "Starting URL reconstruction...\n"
     ]
    },
    {
     "name": "stderr",
     "output_type": "stream",
     "text": [
      "Processing URLs:  27%|██▋       | 113/412 [08:57<17:54,  3.60s/it]"
     ]
    },
    {
     "name": "stdout",
     "output_type": "stream",
     "text": [
      "Error during HTTP request: 404 Client Error: Not Found for url: https://www.eversports.de/s/ironx-\n",
      "Converting to DataFrame...\n",
      "Validating URLs...\n",
      "Processing completed.\n",
      "Starting URL reconstruction...\n"
     ]
    },
    {
     "name": "stderr",
     "output_type": "stream",
     "text": [
      "Processing URLs:  28%|██▊       | 114/412 [08:58<14:08,  2.85s/it]"
     ]
    },
    {
     "name": "stdout",
     "output_type": "stream",
     "text": [
      "Error during HTTP request: 404 Client Error: Not Found for url: https://www.eversports.de/s/exotic-academy\n",
      "Converting to DataFrame...\n",
      "Validating URLs...\n",
      "Processing completed.\n",
      "Starting URL reconstruction...\n"
     ]
    },
    {
     "name": "stderr",
     "output_type": "stream",
     "text": [
      "2024-02-01 21:47:50,724 - INFO - Processing URL 1/3: https://www.eversports.de/s/pole-dance-beauties\n"
     ]
    },
    {
     "name": "stdout",
     "output_type": "stream",
     "text": [
      "Error reconstructing URL for 'Kurse': Unrecognized text: 'Kurse'\n",
      "Converting to DataFrame...\n",
      "Validating URLs...\n"
     ]
    },
    {
     "name": "stderr",
     "output_type": "stream",
     "text": [
      "2024-02-01 21:47:52,289 - INFO - URL https://www.eversports.de/s/pole-dance-beauties is valid.\n",
      "2024-02-01 21:47:52,290 - INFO - Processing URL 2/3: https://www.eversports.de/sp/pole-dance-beauties\n",
      "2024-02-01 21:47:53,412 - INFO - URL https://www.eversports.de/sp/pole-dance-beauties is valid.\n",
      "2024-02-01 21:47:53,414 - INFO - Processing URL 3/3: https://www.eversports.de/s/pole-dance-beauties/team\n",
      "2024-02-01 21:47:55,383 - INFO - URL https://www.eversports.de/s/pole-dance-beauties/team is valid.\n"
     ]
    },
    {
     "name": "stdout",
     "output_type": "stream",
     "text": [
      "Scraping Pole Studio Data from https://www.eversports.de/s/pole-dance-beauties...\n"
     ]
    },
    {
     "name": "stderr",
     "output_type": "stream",
     "text": [
      "Processing URLs:  28%|██▊       | 115/412 [09:04<19:22,  3.92s/it]"
     ]
    },
    {
     "name": "stdout",
     "output_type": "stream",
     "text": [
      "Processing completed.\n",
      "Pole Studio Data: 1 entries\n",
      "Starting URL reconstruction...\n"
     ]
    },
    {
     "name": "stderr",
     "output_type": "stream",
     "text": [
      "Processing URLs:  28%|██▊       | 116/412 [09:05<15:10,  3.08s/it]"
     ]
    },
    {
     "name": "stdout",
     "output_type": "stream",
     "text": [
      "Error during HTTP request: 404 Client Error: Not Found for url: https://www.eversports.de/s/pole-dance-power\n",
      "Converting to DataFrame...\n",
      "Validating URLs...\n",
      "Processing completed.\n",
      "Starting URL reconstruction...\n"
     ]
    },
    {
     "name": "stderr",
     "output_type": "stream",
     "text": [
      "2024-02-01 21:47:58,163 - INFO - Processing URL 1/3: https://www.eversports.de/s/polefamily-koblenz\n"
     ]
    },
    {
     "name": "stdout",
     "output_type": "stream",
     "text": [
      "Converting to DataFrame...\n",
      "Validating URLs...\n"
     ]
    },
    {
     "name": "stderr",
     "output_type": "stream",
     "text": [
      "2024-02-01 21:47:59,454 - INFO - URL https://www.eversports.de/s/polefamily-koblenz is valid.\n",
      "2024-02-01 21:47:59,455 - INFO - Processing URL 2/3: https://www.eversports.de/sp/polefamily-koblenz\n",
      "2024-02-01 21:48:00,624 - INFO - URL https://www.eversports.de/sp/polefamily-koblenz is valid.\n",
      "2024-02-01 21:48:00,625 - INFO - Processing URL 3/3: https://www.eversports.de/s/polefamily-koblenz/team\n",
      "2024-02-01 21:48:01,774 - INFO - URL https://www.eversports.de/s/polefamily-koblenz/team is valid.\n"
     ]
    },
    {
     "name": "stdout",
     "output_type": "stream",
     "text": [
      "Scraping Pole Studio Data from https://www.eversports.de/s/polefamily-koblenz...\n"
     ]
    },
    {
     "name": "stderr",
     "output_type": "stream",
     "text": [
      "Processing URLs:  28%|██▊       | 117/412 [09:11<18:18,  3.72s/it]"
     ]
    },
    {
     "name": "stdout",
     "output_type": "stream",
     "text": [
      "Processing completed.\n",
      "Pole Studio Data: 1 entries\n",
      "Starting URL reconstruction...\n"
     ]
    },
    {
     "name": "stderr",
     "output_type": "stream",
     "text": [
      "2024-02-01 21:48:03,408 - INFO - Processing URL 1/3: https://www.eversports.de/s/mmc-dance-and-event-studio\n"
     ]
    },
    {
     "name": "stdout",
     "output_type": "stream",
     "text": [
      "Converting to DataFrame...\n",
      "Validating URLs...\n"
     ]
    },
    {
     "name": "stderr",
     "output_type": "stream",
     "text": [
      "2024-02-01 21:48:05,188 - INFO - URL https://www.eversports.de/s/mmc-dance-and-event-studio is valid.\n",
      "2024-02-01 21:48:05,189 - INFO - Processing URL 2/3: https://www.eversports.de/sp/mmc-dance-and-event-studio\n",
      "2024-02-01 21:48:06,316 - INFO - URL https://www.eversports.de/sp/mmc-dance-and-event-studio is valid.\n",
      "2024-02-01 21:48:06,317 - INFO - Processing URL 3/3: https://www.eversports.de/s/mmc-dance-and-event-studio/team\n",
      "2024-02-01 21:48:07,877 - INFO - URL https://www.eversports.de/s/mmc-dance-and-event-studio/team is valid.\n"
     ]
    },
    {
     "name": "stdout",
     "output_type": "stream",
     "text": [
      "Scraping Pole Studio Data from https://www.eversports.de/s/mmc-dance-and-event-studio...\n"
     ]
    },
    {
     "name": "stderr",
     "output_type": "stream",
     "text": [
      "Processing URLs:  29%|██▊       | 118/412 [09:17<21:45,  4.44s/it]"
     ]
    },
    {
     "name": "stdout",
     "output_type": "stream",
     "text": [
      "Processing completed.\n",
      "Pole Studio Data: 1 entries\n",
      "Starting URL reconstruction...\n"
     ]
    },
    {
     "name": "stderr",
     "output_type": "stream",
     "text": [
      "Processing URLs:  29%|██▉       | 119/412 [09:18<16:46,  3.44s/it]"
     ]
    },
    {
     "name": "stdout",
     "output_type": "stream",
     "text": [
      "Error during HTTP request: 404 Client Error: Not Found for url: https://www.eversports.de/s/tanzteufel-emmendingen\n",
      "Converting to DataFrame...\n",
      "Validating URLs...\n",
      "Processing completed.\n",
      "Starting URL reconstruction...\n"
     ]
    },
    {
     "name": "stderr",
     "output_type": "stream",
     "text": [
      "Processing URLs:  29%|██▉       | 120/412 [09:19<13:47,  2.83s/it]"
     ]
    },
    {
     "name": "stdout",
     "output_type": "stream",
     "text": [
      "Error during HTTP request: 404 Client Error: Not Found for url: https://www.eversports.de/s/poledance-schule-berlin\n",
      "Converting to DataFrame...\n",
      "Validating URLs...\n",
      "Processing completed.\n",
      "Starting URL reconstruction...\n"
     ]
    },
    {
     "name": "stderr",
     "output_type": "stream",
     "text": [
      "2024-02-01 21:48:12,105 - INFO - Processing URL 1/3: https://www.eversports.de/s/yh-pole-and-sports-berlin\n"
     ]
    },
    {
     "name": "stdout",
     "output_type": "stream",
     "text": [
      "Converting to DataFrame...\n",
      "Validating URLs...\n"
     ]
    },
    {
     "name": "stderr",
     "output_type": "stream",
     "text": [
      "2024-02-01 21:48:13,910 - INFO - URL https://www.eversports.de/s/yh-pole-and-sports-berlin is valid.\n",
      "2024-02-01 21:48:13,912 - INFO - Processing URL 2/3: https://www.eversports.de/sp/yh-pole-and-sports-berlin\n",
      "2024-02-01 21:48:15,070 - INFO - URL https://www.eversports.de/sp/yh-pole-and-sports-berlin is valid.\n",
      "2024-02-01 21:48:15,071 - INFO - Processing URL 3/3: https://www.eversports.de/s/yh-pole-and-sports-berlin/team\n",
      "2024-02-01 21:48:16,235 - INFO - URL https://www.eversports.de/s/yh-pole-and-sports-berlin/team is valid.\n"
     ]
    },
    {
     "name": "stdout",
     "output_type": "stream",
     "text": [
      "Scraping Pole Studio Data from https://www.eversports.de/s/yh-pole-and-sports-berlin...\n"
     ]
    },
    {
     "name": "stderr",
     "output_type": "stream",
     "text": [
      "Processing URLs:  29%|██▉       | 121/412 [09:25<18:15,  3.77s/it]"
     ]
    },
    {
     "name": "stdout",
     "output_type": "stream",
     "text": [
      "Processing completed.\n",
      "Pole Studio Data: 1 entries\n",
      "Starting URL reconstruction...\n"
     ]
    },
    {
     "name": "stderr",
     "output_type": "stream",
     "text": [
      "2024-02-01 21:48:17,927 - INFO - Processing URL 1/1: https://www.eversports.de/s/lush-motion\n"
     ]
    },
    {
     "name": "stdout",
     "output_type": "stream",
     "text": [
      "Converting to DataFrame...\n",
      "Validating URLs...\n"
     ]
    },
    {
     "name": "stderr",
     "output_type": "stream",
     "text": [
      "2024-02-01 21:48:19,584 - INFO - URL https://www.eversports.de/s/lush-motion is valid.\n"
     ]
    },
    {
     "name": "stdout",
     "output_type": "stream",
     "text": [
      "Scraping Pole Studio Data from https://www.eversports.de/s/lush-motion...\n"
     ]
    },
    {
     "name": "stderr",
     "output_type": "stream",
     "text": [
      "Processing URLs:  30%|██▉       | 122/412 [09:28<17:23,  3.60s/it]"
     ]
    },
    {
     "name": "stdout",
     "output_type": "stream",
     "text": [
      "Processing completed.\n",
      "Pole Studio Data: 1 entries\n",
      "Starting URL reconstruction...\n"
     ]
    },
    {
     "name": "stderr",
     "output_type": "stream",
     "text": [
      "Processing URLs:  30%|██▉       | 123/412 [09:30<13:50,  2.87s/it]"
     ]
    },
    {
     "name": "stdout",
     "output_type": "stream",
     "text": [
      "Error during HTTP request: 404 Client Error: Not Found for url: https://www.eversports.de/s/tanzstudio-vi-dance-dortmund\n",
      "Converting to DataFrame...\n",
      "Validating URLs...\n",
      "Processing completed.\n",
      "Starting URL reconstruction...\n"
     ]
    },
    {
     "name": "stderr",
     "output_type": "stream",
     "text": [
      "2024-02-01 21:48:22,521 - INFO - Processing URL 1/3: https://www.eversports.de/s/papillon-dance-and-sport-academy\n"
     ]
    },
    {
     "name": "stdout",
     "output_type": "stream",
     "text": [
      "Converting to DataFrame...\n",
      "Validating URLs...\n"
     ]
    },
    {
     "name": "stderr",
     "output_type": "stream",
     "text": [
      "2024-02-01 21:48:23,791 - INFO - URL https://www.eversports.de/s/papillon-dance-and-sport-academy is valid.\n",
      "2024-02-01 21:48:23,791 - INFO - Processing URL 2/3: https://www.eversports.de/sp/papillon-dance-and-sport-academy\n",
      "2024-02-01 21:48:24,951 - INFO - URL https://www.eversports.de/sp/papillon-dance-and-sport-academy is valid.\n",
      "2024-02-01 21:48:24,952 - INFO - Processing URL 3/3: https://www.eversports.de/s/papillon-dance-and-sport-academy/team\n",
      "2024-02-01 21:48:26,118 - INFO - URL https://www.eversports.de/s/papillon-dance-and-sport-academy/team is valid.\n"
     ]
    },
    {
     "name": "stdout",
     "output_type": "stream",
     "text": [
      "Scraping Pole Studio Data from https://www.eversports.de/s/papillon-dance-and-sport-academy...\n"
     ]
    },
    {
     "name": "stderr",
     "output_type": "stream",
     "text": [
      "Processing URLs:  30%|███       | 124/412 [09:35<17:28,  3.64s/it]"
     ]
    },
    {
     "name": "stdout",
     "output_type": "stream",
     "text": [
      "Processing completed.\n",
      "Pole Studio Data: 1 entries\n",
      "Starting URL reconstruction...\n"
     ]
    },
    {
     "name": "stderr",
     "output_type": "stream",
     "text": [
      "2024-02-01 21:48:27,881 - INFO - Processing URL 1/3: https://www.eversports.de/s/center-of-moving-arts\n"
     ]
    },
    {
     "name": "stdout",
     "output_type": "stream",
     "text": [
      "Converting to DataFrame...\n",
      "Validating URLs...\n"
     ]
    },
    {
     "name": "stderr",
     "output_type": "stream",
     "text": [
      "2024-02-01 21:48:29,333 - INFO - URL https://www.eversports.de/s/center-of-moving-arts is valid.\n",
      "2024-02-01 21:48:29,334 - INFO - Processing URL 2/3: https://www.eversports.de/sp/center-of-moving-arts\n",
      "2024-02-01 21:48:30,514 - INFO - URL https://www.eversports.de/sp/center-of-moving-arts is valid.\n",
      "2024-02-01 21:48:30,516 - INFO - Processing URL 3/3: https://www.eversports.de/s/center-of-moving-arts/team\n",
      "2024-02-01 21:48:31,811 - INFO - URL https://www.eversports.de/s/center-of-moving-arts/team is valid.\n"
     ]
    },
    {
     "name": "stdout",
     "output_type": "stream",
     "text": [
      "Scraping Pole Studio Data from https://www.eversports.de/s/center-of-moving-arts...\n"
     ]
    },
    {
     "name": "stderr",
     "output_type": "stream",
     "text": [
      "Processing URLs:  30%|███       | 125/412 [09:41<21:06,  4.41s/it]"
     ]
    },
    {
     "name": "stdout",
     "output_type": "stream",
     "text": [
      "Processing completed.\n",
      "Pole Studio Data: 1 entries\n",
      "Starting URL reconstruction...\n"
     ]
    },
    {
     "name": "stderr",
     "output_type": "stream",
     "text": [
      "Processing URLs:  31%|███       | 126/412 [09:45<19:29,  4.09s/it]"
     ]
    },
    {
     "name": "stdout",
     "output_type": "stream",
     "text": [
      "Error during HTTP request: Exceeded 30 redirects.\n",
      "Converting to DataFrame...\n",
      "Validating URLs...\n",
      "Processing completed.\n",
      "Starting URL reconstruction...\n"
     ]
    },
    {
     "name": "stderr",
     "output_type": "stream",
     "text": [
      "Processing URLs:  31%|███       | 127/412 [09:50<20:36,  4.34s/it]"
     ]
    },
    {
     "name": "stdout",
     "output_type": "stream",
     "text": [
      "Error during HTTP request: Exceeded 30 redirects.\n",
      "Converting to DataFrame...\n",
      "Validating URLs...\n",
      "Processing completed.\n",
      "Starting URL reconstruction...\n"
     ]
    },
    {
     "name": "stderr",
     "output_type": "stream",
     "text": [
      "Processing URLs:  31%|███       | 128/412 [09:53<19:16,  4.07s/it]"
     ]
    },
    {
     "name": "stdout",
     "output_type": "stream",
     "text": [
      "Error during HTTP request: Exceeded 30 redirects.\n",
      "Converting to DataFrame...\n",
      "Validating URLs...\n",
      "Processing completed.\n",
      "Starting URL reconstruction...\n"
     ]
    },
    {
     "name": "stderr",
     "output_type": "stream",
     "text": [
      "Processing URLs:  31%|███▏      | 129/412 [09:55<15:39,  3.32s/it]"
     ]
    },
    {
     "name": "stdout",
     "output_type": "stream",
     "text": [
      "Error during HTTP request: 404 Client Error: Not Found for url: https://www.eversports.de/s/polemotions\n",
      "Converting to DataFrame...\n",
      "Validating URLs...\n",
      "Processing completed.\n",
      "Starting URL reconstruction...\n"
     ]
    },
    {
     "name": "stderr",
     "output_type": "stream",
     "text": [
      "2024-02-01 21:48:48,089 - INFO - Processing URL 1/4: https://www.eversports.de/s/t-tanzstueck-braunschweig\n"
     ]
    },
    {
     "name": "stdout",
     "output_type": "stream",
     "text": [
      "Error reconstructing URL for 'Kurse': Unrecognized text: 'Kurse'\n",
      "Converting to DataFrame...\n",
      "Validating URLs...\n"
     ]
    },
    {
     "name": "stderr",
     "output_type": "stream",
     "text": [
      "2024-02-01 21:48:49,944 - INFO - URL https://www.eversports.de/s/t-tanzstueck-braunschweig is valid.\n",
      "2024-02-01 21:48:49,945 - INFO - Processing URL 2/4: https://www.eversports.de/sw/t-tanzstueck-braunschweig\n",
      "2024-02-01 21:48:51,108 - INFO - URL https://www.eversports.de/sw/t-tanzstueck-braunschweig is valid.\n",
      "2024-02-01 21:48:51,109 - INFO - Processing URL 3/4: https://www.eversports.de/sp/t-tanzstueck-braunschweig\n",
      "2024-02-01 21:48:53,799 - INFO - URL https://www.eversports.de/sp/t-tanzstueck-braunschweig is valid.\n",
      "2024-02-01 21:48:53,800 - INFO - Processing URL 4/4: https://www.eversports.de/s/t-tanzstueck-braunschweig/team\n",
      "2024-02-01 21:48:55,005 - INFO - URL https://www.eversports.de/s/t-tanzstueck-braunschweig/team is valid.\n"
     ]
    },
    {
     "name": "stdout",
     "output_type": "stream",
     "text": [
      "Scraping Pole Studio Data from https://www.eversports.de/s/t-tanzstueck-braunschweig...\n",
      "Scraping Workshops Data from https://www.eversports.de/sw/t-tanzstueck-braunschweig...\n",
      "Scraping Workshop Details from https://www.eversports.de/e/workshop/itCOcd3...\n"
     ]
    },
    {
     "name": "stderr",
     "output_type": "stream",
     "text": [
      "Processing URLs:  32%|███▏      | 130/412 [10:06<27:35,  5.87s/it]"
     ]
    },
    {
     "name": "stdout",
     "output_type": "stream",
     "text": [
      "Processing completed.\n",
      "Pole Studio Data: 1 entries\n",
      "Workshops Data: 1 entries\n",
      "Workshop Details: 1 entries\n",
      "Starting URL reconstruction...\n"
     ]
    },
    {
     "name": "stderr",
     "output_type": "stream",
     "text": [
      "2024-02-01 21:48:59,170 - INFO - Processing URL 1/4: https://www.eversports.de/s/pole-formance\n"
     ]
    },
    {
     "name": "stdout",
     "output_type": "stream",
     "text": [
      "Error reconstructing URL for 'Kurse': Unrecognized text: 'Kurse'\n",
      "Converting to DataFrame...\n",
      "Validating URLs...\n"
     ]
    },
    {
     "name": "stderr",
     "output_type": "stream",
     "text": [
      "2024-02-01 21:49:00,416 - INFO - URL https://www.eversports.de/s/pole-formance is valid.\n",
      "2024-02-01 21:49:00,417 - INFO - Processing URL 2/4: https://www.eversports.de/sw/pole-formance\n",
      "2024-02-01 21:49:04,182 - INFO - URL https://www.eversports.de/sw/pole-formance is valid.\n",
      "2024-02-01 21:49:04,183 - INFO - Processing URL 3/4: https://www.eversports.de/sp/pole-formance\n",
      "2024-02-01 21:49:05,267 - INFO - URL https://www.eversports.de/sp/pole-formance is valid.\n",
      "2024-02-01 21:49:05,267 - INFO - Processing URL 4/4: https://www.eversports.de/s/pole-formance/team\n",
      "2024-02-01 21:49:06,464 - INFO - URL https://www.eversports.de/s/pole-formance/team is valid.\n"
     ]
    },
    {
     "name": "stdout",
     "output_type": "stream",
     "text": [
      "Scraping Pole Studio Data from https://www.eversports.de/s/pole-formance...\n",
      "Scraping Workshops Data from https://www.eversports.de/sw/pole-formance...\n",
      "Scraping Workshop Details from https://www.eversports.de/e/workshop/AieRNXP...\n",
      "Scraping Workshop Details from https://www.eversports.de/e/workshop/NA0fA-V...\n",
      "Scraping Workshop Details from https://www.eversports.de/e/workshop/KDYKHQf...\n",
      "Scraping Workshop Details from https://www.eversports.de/e/workshop/BjFbe-z...\n",
      "Scraping Workshop Details from https://www.eversports.de/e/workshop/U58r9aD...\n"
     ]
    },
    {
     "name": "stderr",
     "output_type": "stream",
     "text": [
      "Processing URLs:  32%|███▏      | 131/412 [10:24<44:30,  9.50s/it]"
     ]
    },
    {
     "name": "stdout",
     "output_type": "stream",
     "text": [
      "Processing completed.\n",
      "Pole Studio Data: 1 entries\n",
      "Workshops Data: 5 entries\n",
      "Workshop Details: 5 entries\n",
      "Starting URL reconstruction...\n"
     ]
    },
    {
     "name": "stderr",
     "output_type": "stream",
     "text": [
      "Processing URLs:  32%|███▏      | 132/412 [10:25<32:40,  7.00s/it]"
     ]
    },
    {
     "name": "stdout",
     "output_type": "stream",
     "text": [
      "Error during HTTP request: 404 Client Error: Not Found for url: https://www.eversports.de/s/open-aerial-dance\n",
      "Converting to DataFrame...\n",
      "Validating URLs...\n",
      "Processing completed.\n",
      "Starting URL reconstruction...\n"
     ]
    },
    {
     "name": "stderr",
     "output_type": "stream",
     "text": [
      "2024-02-01 21:49:18,255 - INFO - Processing URL 1/2: https://www.eversports.de/s/annis-pole-dance-uetersen\n"
     ]
    },
    {
     "name": "stdout",
     "output_type": "stream",
     "text": [
      "Error reconstructing URL for 'Trainings': Unrecognized text: 'Trainings'\n",
      "Error reconstructing URL for 'Kurse': Unrecognized text: 'Kurse'\n",
      "Converting to DataFrame...\n",
      "Validating URLs...\n"
     ]
    },
    {
     "name": "stderr",
     "output_type": "stream",
     "text": [
      "2024-02-01 21:49:19,570 - INFO - URL https://www.eversports.de/s/annis-pole-dance-uetersen is valid.\n",
      "2024-02-01 21:49:19,572 - INFO - Processing URL 2/2: https://www.eversports.de/s/annis-pole-dance-uetersen/team\n",
      "2024-02-01 21:49:20,767 - INFO - URL https://www.eversports.de/s/annis-pole-dance-uetersen/team is valid.\n"
     ]
    },
    {
     "name": "stdout",
     "output_type": "stream",
     "text": [
      "Scraping Pole Studio Data from https://www.eversports.de/s/annis-pole-dance-uetersen...\n"
     ]
    },
    {
     "name": "stderr",
     "output_type": "stream",
     "text": [
      "Processing URLs:  32%|███▏      | 133/412 [10:30<29:05,  6.26s/it]"
     ]
    },
    {
     "name": "stdout",
     "output_type": "stream",
     "text": [
      "Processing completed.\n",
      "Pole Studio Data: 1 entries\n",
      "Starting URL reconstruction...\n"
     ]
    },
    {
     "name": "stderr",
     "output_type": "stream",
     "text": [
      "Processing URLs:  33%|███▎      | 134/412 [10:31<21:50,  4.71s/it]"
     ]
    },
    {
     "name": "stdout",
     "output_type": "stream",
     "text": [
      "Error during HTTP request: 404 Client Error: Not Found for url: https://www.eversports.de/s/wonderpole\n",
      "Converting to DataFrame...\n",
      "Validating URLs...\n",
      "Processing completed.\n",
      "Starting URL reconstruction...\n"
     ]
    },
    {
     "name": "stderr",
     "output_type": "stream",
     "text": [
      "2024-02-01 21:49:23,827 - INFO - Processing URL 1/1: https://www.eversports.de/s/pole-your-body\n"
     ]
    },
    {
     "name": "stdout",
     "output_type": "stream",
     "text": [
      "Converting to DataFrame...\n",
      "Validating URLs...\n"
     ]
    },
    {
     "name": "stderr",
     "output_type": "stream",
     "text": [
      "2024-02-01 21:49:25,078 - INFO - URL https://www.eversports.de/s/pole-your-body is valid.\n"
     ]
    },
    {
     "name": "stdout",
     "output_type": "stream",
     "text": [
      "Scraping Pole Studio Data from https://www.eversports.de/s/pole-your-body...\n"
     ]
    },
    {
     "name": "stderr",
     "output_type": "stream",
     "text": [
      "Processing URLs:  33%|███▎      | 135/412 [10:34<19:04,  4.13s/it]"
     ]
    },
    {
     "name": "stdout",
     "output_type": "stream",
     "text": [
      "Processing completed.\n",
      "Pole Studio Data: 1 entries\n",
      "Starting URL reconstruction...\n"
     ]
    },
    {
     "name": "stderr",
     "output_type": "stream",
     "text": [
      "Processing URLs:  33%|███▎      | 136/412 [10:35<14:54,  3.24s/it]"
     ]
    },
    {
     "name": "stdout",
     "output_type": "stream",
     "text": [
      "Error during HTTP request: 404 Client Error: Not Found for url: https://www.eversports.de/s/drehimpuls-aachen\n",
      "Converting to DataFrame...\n",
      "Validating URLs...\n",
      "Processing completed.\n",
      "Starting URL reconstruction...\n"
     ]
    },
    {
     "name": "stderr",
     "output_type": "stream",
     "text": [
      "Processing URLs:  33%|███▎      | 137/412 [10:47<27:01,  5.90s/it]"
     ]
    },
    {
     "name": "stdout",
     "output_type": "stream",
     "text": [
      "Error during HTTP request: 404 Client Error: Not Found for url: https://www.eversports.de/s/incredipole---pole-%26-fitness-by-carolin\n",
      "Converting to DataFrame...\n",
      "Validating URLs...\n",
      "Processing completed.\n",
      "Starting URL reconstruction...\n"
     ]
    },
    {
     "name": "stderr",
     "output_type": "stream",
     "text": [
      "2024-02-01 21:50:06,662 - INFO - Processing URL 1/4: https://www.eversports.de/s/seemannsbraut-poledance\n"
     ]
    },
    {
     "name": "stdout",
     "output_type": "stream",
     "text": [
      "Error reconstructing URL for 'Kurse': Unrecognized text: 'Kurse'\n",
      "Converting to DataFrame...\n",
      "Validating URLs...\n"
     ]
    },
    {
     "name": "stderr",
     "output_type": "stream",
     "text": [
      "2024-02-01 21:50:07,982 - INFO - URL https://www.eversports.de/s/seemannsbraut-poledance is valid.\n",
      "2024-02-01 21:50:07,983 - INFO - Processing URL 2/4: https://www.eversports.de/sw/seemannsbraut-poledance\n",
      "2024-02-01 21:50:09,345 - INFO - URL https://www.eversports.de/sw/seemannsbraut-poledance is valid.\n",
      "2024-02-01 21:50:09,345 - INFO - Processing URL 3/4: https://www.eversports.de/sp/seemannsbraut-poledance\n",
      "2024-02-01 21:50:10,489 - INFO - URL https://www.eversports.de/sp/seemannsbraut-poledance is valid.\n",
      "2024-02-01 21:50:10,490 - INFO - Processing URL 4/4: https://www.eversports.de/s/seemannsbraut-poledance/team\n",
      "2024-02-01 21:50:11,766 - INFO - URL https://www.eversports.de/s/seemannsbraut-poledance/team is valid.\n"
     ]
    },
    {
     "name": "stdout",
     "output_type": "stream",
     "text": [
      "Scraping Pole Studio Data from https://www.eversports.de/s/seemannsbraut-poledance...\n",
      "Scraping Workshops Data from https://www.eversports.de/sw/seemannsbraut-poledance...\n",
      "Scraping Workshop Details from https://www.eversports.de/e/workshop/tjSmCEx...\n",
      "Scraping Workshop Details from https://www.eversports.de/e/workshop/mQPzgO-...\n",
      "Scraping Workshop Details from https://www.eversports.de/e/workshop/ziaHmeW...\n",
      "Scraping Workshop Details from https://www.eversports.de/e/workshop/zBoJPTa...\n"
     ]
    },
    {
     "name": "stderr",
     "output_type": "stream",
     "text": [
      "Processing URLs:  33%|███▎      | 138/412 [11:28<1:14:09, 16.24s/it]"
     ]
    },
    {
     "name": "stdout",
     "output_type": "stream",
     "text": [
      "Processing completed.\n",
      "Pole Studio Data: 1 entries\n",
      "Workshops Data: 4 entries\n",
      "Workshop Details: 4 entries\n",
      "Starting URL reconstruction...\n"
     ]
    },
    {
     "name": "stderr",
     "output_type": "stream",
     "text": [
      "2024-02-01 21:50:20,324 - INFO - Processing URL 1/3: https://www.eversports.de/s/pole-statement\n"
     ]
    },
    {
     "name": "stdout",
     "output_type": "stream",
     "text": [
      "Error reconstructing URL for 'Kurse': Unrecognized text: 'Kurse'\n",
      "Error reconstructing URL for 'Events': Unrecognized text: 'Events'\n",
      "Converting to DataFrame...\n",
      "Validating URLs...\n"
     ]
    },
    {
     "name": "stderr",
     "output_type": "stream",
     "text": [
      "2024-02-01 21:50:22,022 - INFO - URL https://www.eversports.de/s/pole-statement is valid.\n",
      "2024-02-01 21:50:22,022 - INFO - Processing URL 2/3: https://www.eversports.de/sp/pole-statement\n",
      "2024-02-01 21:50:23,165 - INFO - URL https://www.eversports.de/sp/pole-statement is valid.\n",
      "2024-02-01 21:50:23,166 - INFO - Processing URL 3/3: https://www.eversports.de/s/pole-statement/team\n",
      "2024-02-01 21:50:24,688 - INFO - URL https://www.eversports.de/s/pole-statement/team is valid.\n"
     ]
    },
    {
     "name": "stdout",
     "output_type": "stream",
     "text": [
      "Scraping Pole Studio Data from https://www.eversports.de/s/pole-statement...\n"
     ]
    },
    {
     "name": "stderr",
     "output_type": "stream",
     "text": [
      "Processing URLs:  34%|███▎      | 139/412 [11:34<1:00:34, 13.31s/it]"
     ]
    },
    {
     "name": "stdout",
     "output_type": "stream",
     "text": [
      "Processing completed.\n",
      "Pole Studio Data: 1 entries\n",
      "Starting URL reconstruction...\n"
     ]
    },
    {
     "name": "stderr",
     "output_type": "stream",
     "text": [
      "Processing URLs:  34%|███▍      | 140/412 [13:15<2:59:38, 39.63s/it]"
     ]
    },
    {
     "name": "stdout",
     "output_type": "stream",
     "text": [
      "Error during HTTP request: 524 Server Error:  for url: https://www.eversports.de/s/monopole-dance\n",
      "Converting to DataFrame...\n",
      "Validating URLs...\n",
      "Processing completed.\n",
      "Starting URL reconstruction...\n"
     ]
    },
    {
     "name": "stderr",
     "output_type": "stream",
     "text": [
      "Processing URLs:  34%|███▍      | 141/412 [13:16<2:06:56, 28.11s/it]"
     ]
    },
    {
     "name": "stdout",
     "output_type": "stream",
     "text": [
      "Error during HTTP request: 404 Client Error: Not Found for url: https://www.eversports.de/s/tsg-blau-gold-ballett--und-pole-dance--studio\n",
      "Converting to DataFrame...\n",
      "Validating URLs...\n",
      "Processing completed.\n",
      "Starting URL reconstruction...\n"
     ]
    },
    {
     "name": "stderr",
     "output_type": "stream",
     "text": [
      "Processing URLs:  34%|███▍      | 142/412 [13:17<1:30:04, 20.02s/it]"
     ]
    },
    {
     "name": "stdout",
     "output_type": "stream",
     "text": [
      "Error during HTTP request: 404 Client Error: Not Found for url: https://www.eversports.de/s/stretch-%26-pole\n",
      "Converting to DataFrame...\n",
      "Validating URLs...\n",
      "Processing completed.\n",
      "Starting URL reconstruction...\n"
     ]
    },
    {
     "name": "stderr",
     "output_type": "stream",
     "text": [
      "Processing URLs:  35%|███▍      | 143/412 [13:22<1:08:40, 15.32s/it]"
     ]
    },
    {
     "name": "stdout",
     "output_type": "stream",
     "text": [
      "Error during HTTP request: Exceeded 30 redirects.\n",
      "Converting to DataFrame...\n",
      "Validating URLs...\n",
      "Processing completed.\n",
      "Starting URL reconstruction...\n"
     ]
    },
    {
     "name": "stderr",
     "output_type": "stream",
     "text": [
      "Processing URLs:  35%|███▍      | 144/412 [13:26<53:34, 11.99s/it]  "
     ]
    },
    {
     "name": "stdout",
     "output_type": "stream",
     "text": [
      "Error during HTTP request: Exceeded 30 redirects.\n",
      "Converting to DataFrame...\n",
      "Validating URLs...\n",
      "Processing completed.\n",
      "Starting URL reconstruction...\n"
     ]
    },
    {
     "name": "stderr",
     "output_type": "stream",
     "text": [
      "Processing URLs:  35%|███▌      | 145/412 [13:27<39:07,  8.79s/it]"
     ]
    },
    {
     "name": "stdout",
     "output_type": "stream",
     "text": [
      "Error during HTTP request: 404 Client Error: Not Found for url: https://www.eversports.de/s/crazy-up-%26-pole\n",
      "Converting to DataFrame...\n",
      "Validating URLs...\n",
      "Processing completed.\n",
      "Starting URL reconstruction...\n"
     ]
    },
    {
     "name": "stderr",
     "output_type": "stream",
     "text": [
      "2024-02-01 21:52:20,591 - INFO - Processing URL 1/4: https://www.eversports.de/s/pole-faction-darmstadt\n"
     ]
    },
    {
     "name": "stdout",
     "output_type": "stream",
     "text": [
      "Converting to DataFrame...\n",
      "Validating URLs...\n"
     ]
    },
    {
     "name": "stderr",
     "output_type": "stream",
     "text": [
      "2024-02-01 21:52:22,125 - INFO - URL https://www.eversports.de/s/pole-faction-darmstadt is valid.\n",
      "2024-02-01 21:52:22,125 - INFO - Processing URL 2/4: https://www.eversports.de/sw/pole-faction-darmstadt\n",
      "2024-02-01 21:52:23,682 - INFO - URL https://www.eversports.de/sw/pole-faction-darmstadt is valid.\n",
      "2024-02-01 21:52:23,684 - INFO - Processing URL 3/4: https://www.eversports.de/sp/pole-faction-darmstadt\n",
      "2024-02-01 21:52:25,588 - INFO - URL https://www.eversports.de/sp/pole-faction-darmstadt is valid.\n",
      "2024-02-01 21:52:25,589 - INFO - Processing URL 4/4: https://www.eversports.de/s/pole-faction-darmstadt/team\n",
      "2024-02-01 21:52:27,491 - INFO - URL https://www.eversports.de/s/pole-faction-darmstadt/team is valid.\n"
     ]
    },
    {
     "name": "stdout",
     "output_type": "stream",
     "text": [
      "Scraping Pole Studio Data from https://www.eversports.de/s/pole-faction-darmstadt...\n",
      "Scraping Workshops Data from https://www.eversports.de/sw/pole-faction-darmstadt...\n",
      "Scraping Workshop Details from https://www.eversports.de/e/workshop/FP-cEyn...\n"
     ]
    },
    {
     "name": "stderr",
     "output_type": "stream",
     "text": [
      "Processing URLs:  35%|███▌      | 146/412 [13:39<42:56,  9.69s/it]"
     ]
    },
    {
     "name": "stdout",
     "output_type": "stream",
     "text": [
      "Processing completed.\n",
      "Pole Studio Data: 1 entries\n",
      "Workshops Data: 1 entries\n",
      "Workshop Details: 1 entries\n",
      "Starting URL reconstruction...\n"
     ]
    },
    {
     "name": "stderr",
     "output_type": "stream",
     "text": [
      "2024-02-01 21:52:33,139 - INFO - Processing URL 1/4: https://www.eversports.de/s/the-pole-jungle\n"
     ]
    },
    {
     "name": "stdout",
     "output_type": "stream",
     "text": [
      "Error reconstructing URL for 'Trainings': Unrecognized text: 'Trainings'\n",
      "Error reconstructing URL for 'Kurse': Unrecognized text: 'Kurse'\n",
      "Converting to DataFrame...\n",
      "Validating URLs...\n"
     ]
    },
    {
     "name": "stderr",
     "output_type": "stream",
     "text": [
      "2024-02-01 21:52:34,599 - INFO - URL https://www.eversports.de/s/the-pole-jungle is valid.\n",
      "2024-02-01 21:52:34,600 - INFO - Processing URL 2/4: https://www.eversports.de/sw/the-pole-jungle\n",
      "2024-02-01 21:52:35,674 - INFO - URL https://www.eversports.de/sw/the-pole-jungle is not valid.\n",
      "2024-02-01 21:52:35,674 - INFO - Processing URL 3/4: https://www.eversports.de/sp/the-pole-jungle\n",
      "2024-02-01 21:52:36,767 - INFO - URL https://www.eversports.de/sp/the-pole-jungle is not valid.\n",
      "2024-02-01 21:52:36,767 - INFO - Processing URL 4/4: https://www.eversports.de/s/the-pole-jungle/team\n",
      "2024-02-01 21:52:38,434 - INFO - URL https://www.eversports.de/s/the-pole-jungle/team is valid.\n"
     ]
    },
    {
     "name": "stdout",
     "output_type": "stream",
     "text": [
      "Scraping Pole Studio Data from https://www.eversports.de/s/the-pole-jungle...\n"
     ]
    },
    {
     "name": "stderr",
     "output_type": "stream",
     "text": [
      "Processing URLs:  36%|███▌      | 147/412 [13:47<40:55,  9.27s/it]"
     ]
    },
    {
     "name": "stdout",
     "output_type": "stream",
     "text": [
      "Processing completed.\n",
      "Pole Studio Data: 1 entries\n",
      "Starting URL reconstruction...\n"
     ]
    },
    {
     "name": "stderr",
     "output_type": "stream",
     "text": [
      "Processing URLs:  36%|███▌      | 148/412 [13:49<30:10,  6.86s/it]"
     ]
    },
    {
     "name": "stdout",
     "output_type": "stream",
     "text": [
      "Error during HTTP request: 404 Client Error: Not Found for url: https://www.eversports.de/s/just-fly\n",
      "Converting to DataFrame...\n",
      "Validating URLs...\n",
      "Processing completed.\n",
      "Starting URL reconstruction...\n"
     ]
    },
    {
     "name": "stderr",
     "output_type": "stream",
     "text": [
      "Processing URLs:  36%|███▌      | 149/412 [13:50<22:35,  5.15s/it]"
     ]
    },
    {
     "name": "stdout",
     "output_type": "stream",
     "text": [
      "Error during HTTP request: 404 Client Error: Not Found for url: https://www.eversports.de/s/activo-polefitness\n",
      "Converting to DataFrame...\n",
      "Validating URLs...\n",
      "Processing completed.\n",
      "Starting URL reconstruction...\n"
     ]
    },
    {
     "name": "stderr",
     "output_type": "stream",
     "text": [
      "2024-02-01 21:52:44,456 - INFO - Processing URL 1/4: https://www.eversports.de/s/yoga-at-lobe-block\n"
     ]
    },
    {
     "name": "stdout",
     "output_type": "stream",
     "text": [
      "Converting to DataFrame...\n",
      "Validating URLs...\n"
     ]
    },
    {
     "name": "stderr",
     "output_type": "stream",
     "text": [
      "2024-02-01 21:52:46,031 - INFO - URL https://www.eversports.de/s/yoga-at-lobe-block is valid.\n",
      "2024-02-01 21:52:46,032 - INFO - Processing URL 2/4: https://www.eversports.de/sw/yoga-at-lobe-block\n",
      "2024-02-01 21:52:47,355 - INFO - URL https://www.eversports.de/sw/yoga-at-lobe-block is valid.\n",
      "2024-02-01 21:52:47,356 - INFO - Processing URL 3/4: https://www.eversports.de/sp/yoga-at-lobe-block\n",
      "2024-02-01 21:52:48,684 - INFO - URL https://www.eversports.de/sp/yoga-at-lobe-block is valid.\n",
      "2024-02-01 21:52:48,684 - INFO - Processing URL 4/4: https://www.eversports.de/s/yoga-at-lobe-block/team\n",
      "2024-02-01 21:52:50,024 - INFO - URL https://www.eversports.de/s/yoga-at-lobe-block/team is valid.\n"
     ]
    },
    {
     "name": "stdout",
     "output_type": "stream",
     "text": [
      "Scraping Pole Studio Data from https://www.eversports.de/s/yoga-at-lobe-block...\n",
      "Scraping Workshops Data from https://www.eversports.de/sw/yoga-at-lobe-block...\n",
      "Scraping Workshop Details from https://www.eversports.de/e/workshop/vmr79nD...\n",
      "Scraping Workshop Details from https://www.eversports.de/e/workshop/5WFQ4Sn...\n"
     ]
    },
    {
     "name": "stderr",
     "output_type": "stream",
     "text": [
      "Processing URLs:  36%|███▋      | 150/412 [14:05<35:40,  8.17s/it]"
     ]
    },
    {
     "name": "stdout",
     "output_type": "stream",
     "text": [
      "Processing completed.\n",
      "Pole Studio Data: 1 entries\n",
      "Workshops Data: 2 entries\n",
      "Workshop Details: 2 entries\n",
      "Starting URL reconstruction...\n"
     ]
    },
    {
     "name": "stderr",
     "output_type": "stream",
     "text": [
      "2024-02-01 21:52:57,728 - INFO - Processing URL 1/1: https://www.eversports.de/s/polefriends-magdeburg\n"
     ]
    },
    {
     "name": "stdout",
     "output_type": "stream",
     "text": [
      "Converting to DataFrame...\n",
      "Validating URLs...\n"
     ]
    },
    {
     "name": "stderr",
     "output_type": "stream",
     "text": [
      "2024-02-01 21:52:58,925 - INFO - URL https://www.eversports.de/s/polefriends-magdeburg is valid.\n"
     ]
    },
    {
     "name": "stdout",
     "output_type": "stream",
     "text": [
      "Scraping Pole Studio Data from https://www.eversports.de/s/polefriends-magdeburg...\n"
     ]
    },
    {
     "name": "stderr",
     "output_type": "stream",
     "text": [
      "Processing URLs:  37%|███▋      | 151/412 [14:08<28:30,  6.56s/it]"
     ]
    },
    {
     "name": "stdout",
     "output_type": "stream",
     "text": [
      "Processing completed.\n",
      "Pole Studio Data: 1 entries\n",
      "Starting URL reconstruction...\n"
     ]
    },
    {
     "name": "stderr",
     "output_type": "stream",
     "text": [
      "Processing URLs:  37%|███▋      | 152/412 [14:09<21:32,  4.97s/it]"
     ]
    },
    {
     "name": "stdout",
     "output_type": "stream",
     "text": [
      "Error during HTTP request: 404 Client Error: Not Found for url: https://www.eversports.de/s/360-grad-soulsports\n",
      "Converting to DataFrame...\n",
      "Validating URLs...\n",
      "Processing completed.\n",
      "Starting URL reconstruction...\n"
     ]
    },
    {
     "name": "stderr",
     "output_type": "stream",
     "text": [
      "2024-02-01 21:53:05,517 - INFO - Processing URL 1/4: https://www.eversports.de/s/cheesy-heaven\n"
     ]
    },
    {
     "name": "stdout",
     "output_type": "stream",
     "text": [
      "Converting to DataFrame...\n",
      "Validating URLs...\n"
     ]
    },
    {
     "name": "stderr",
     "output_type": "stream",
     "text": [
      "2024-02-01 21:53:06,821 - INFO - URL https://www.eversports.de/s/cheesy-heaven is valid.\n",
      "2024-02-01 21:53:06,821 - INFO - Processing URL 2/4: https://www.eversports.de/sw/cheesy-heaven\n",
      "2024-02-01 21:53:08,049 - INFO - URL https://www.eversports.de/sw/cheesy-heaven is valid.\n",
      "2024-02-01 21:53:08,050 - INFO - Processing URL 3/4: https://www.eversports.de/sp/cheesy-heaven\n",
      "2024-02-01 21:53:09,237 - INFO - URL https://www.eversports.de/sp/cheesy-heaven is valid.\n",
      "2024-02-01 21:53:09,238 - INFO - Processing URL 4/4: https://www.eversports.de/s/cheesy-heaven/team\n",
      "2024-02-01 21:53:10,469 - INFO - URL https://www.eversports.de/s/cheesy-heaven/team is valid.\n"
     ]
    },
    {
     "name": "stdout",
     "output_type": "stream",
     "text": [
      "Scraping Pole Studio Data from https://www.eversports.de/s/cheesy-heaven...\n",
      "Scraping Workshops Data from https://www.eversports.de/sw/cheesy-heaven...\n",
      "Scraping Workshop Details from https://www.eversports.de/e/workshop/FPhYm4m...\n",
      "Scraping Workshop Details from https://www.eversports.de/e/workshop/YUDNvHE...\n",
      "Scraping Workshop Details from https://www.eversports.de/e/workshop/_TKMrS6...\n",
      "Scraping Workshop Details from https://www.eversports.de/e/workshop/wLNZTsC...\n"
     ]
    },
    {
     "name": "stderr",
     "output_type": "stream",
     "text": [
      "Processing URLs:  37%|███▋      | 153/412 [14:27<37:51,  8.77s/it]"
     ]
    },
    {
     "name": "stdout",
     "output_type": "stream",
     "text": [
      "Processing completed.\n",
      "Pole Studio Data: 1 entries\n",
      "Workshops Data: 4 entries\n",
      "Workshop Details: 4 entries\n",
      "Starting URL reconstruction...\n"
     ]
    },
    {
     "name": "stderr",
     "output_type": "stream",
     "text": [
      "2024-02-01 21:53:19,503 - INFO - Processing URL 1/1: https://www.eversports.de/s/firstsports-polefitness\n"
     ]
    },
    {
     "name": "stdout",
     "output_type": "stream",
     "text": [
      "Converting to DataFrame...\n",
      "Validating URLs...\n"
     ]
    },
    {
     "name": "stderr",
     "output_type": "stream",
     "text": [
      "2024-02-01 21:53:20,972 - INFO - URL https://www.eversports.de/s/firstsports-polefitness is valid.\n"
     ]
    },
    {
     "name": "stdout",
     "output_type": "stream",
     "text": [
      "Scraping Pole Studio Data from https://www.eversports.de/s/firstsports-polefitness...\n"
     ]
    },
    {
     "name": "stderr",
     "output_type": "stream",
     "text": [
      "Processing URLs:  37%|███▋      | 154/412 [14:30<30:53,  7.19s/it]"
     ]
    },
    {
     "name": "stdout",
     "output_type": "stream",
     "text": [
      "Processing completed.\n",
      "Pole Studio Data: 1 entries\n",
      "Starting URL reconstruction...\n"
     ]
    },
    {
     "name": "stderr",
     "output_type": "stream",
     "text": [
      "Processing URLs:  38%|███▊      | 155/412 [14:31<23:02,  5.38s/it]"
     ]
    },
    {
     "name": "stdout",
     "output_type": "stream",
     "text": [
      "Error during HTTP request: 404 Client Error: Not Found for url: https://www.eversports.de/s/anni's-pole-dance-uetersen\n",
      "Converting to DataFrame...\n",
      "Validating URLs...\n",
      "Processing completed.\n",
      "Starting URL reconstruction...\n"
     ]
    },
    {
     "name": "stderr",
     "output_type": "stream",
     "text": [
      "Processing URLs:  38%|███▊      | 156/412 [14:33<17:35,  4.12s/it]"
     ]
    },
    {
     "name": "stdout",
     "output_type": "stream",
     "text": [
      "Error during HTTP request: 404 Client Error: Not Found for url: https://www.eversports.de/s/zero-gravity-pole-\n",
      "Converting to DataFrame...\n",
      "Validating URLs...\n",
      "Processing completed.\n",
      "Starting URL reconstruction...\n"
     ]
    },
    {
     "name": "stderr",
     "output_type": "stream",
     "text": [
      "2024-02-01 21:53:25,298 - INFO - Processing URL 1/2: https://www.eversports.de/s/pole-dance-balance\n"
     ]
    },
    {
     "name": "stdout",
     "output_type": "stream",
     "text": [
      "Converting to DataFrame...\n",
      "Validating URLs...\n"
     ]
    },
    {
     "name": "stderr",
     "output_type": "stream",
     "text": [
      "2024-02-01 21:53:26,664 - INFO - URL https://www.eversports.de/s/pole-dance-balance is valid.\n",
      "2024-02-01 21:53:26,666 - INFO - Processing URL 2/2: https://www.eversports.de/sp/pole-dance-balance\n",
      "2024-02-01 21:53:27,998 - INFO - URL https://www.eversports.de/sp/pole-dance-balance is valid.\n"
     ]
    },
    {
     "name": "stdout",
     "output_type": "stream",
     "text": [
      "Scraping Pole Studio Data from https://www.eversports.de/s/pole-dance-balance...\n"
     ]
    },
    {
     "name": "stderr",
     "output_type": "stream",
     "text": [
      "Processing URLs:  38%|███▊      | 157/412 [14:37<17:43,  4.17s/it]"
     ]
    },
    {
     "name": "stdout",
     "output_type": "stream",
     "text": [
      "Processing completed.\n",
      "Pole Studio Data: 1 entries\n",
      "Starting URL reconstruction...\n"
     ]
    },
    {
     "name": "stderr",
     "output_type": "stream",
     "text": [
      "2024-02-01 21:53:30,224 - INFO - Processing URL 1/4: https://www.eversports.de/s/polearize\n"
     ]
    },
    {
     "name": "stdout",
     "output_type": "stream",
     "text": [
      "Converting to DataFrame...\n",
      "Validating URLs...\n"
     ]
    },
    {
     "name": "stderr",
     "output_type": "stream",
     "text": [
      "2024-02-01 21:53:32,155 - INFO - URL https://www.eversports.de/s/polearize is valid.\n",
      "2024-02-01 21:53:32,156 - INFO - Processing URL 2/4: https://www.eversports.de/sw/polearize\n",
      "2024-02-01 21:53:33,504 - INFO - URL https://www.eversports.de/sw/polearize is valid.\n",
      "2024-02-01 21:53:33,505 - INFO - Processing URL 3/4: https://www.eversports.de/sp/polearize\n",
      "2024-02-01 21:53:34,670 - INFO - URL https://www.eversports.de/sp/polearize is valid.\n",
      "2024-02-01 21:53:34,671 - INFO - Processing URL 4/4: https://www.eversports.de/s/polearize/team\n",
      "2024-02-01 21:53:36,495 - INFO - URL https://www.eversports.de/s/polearize/team is valid.\n"
     ]
    },
    {
     "name": "stdout",
     "output_type": "stream",
     "text": [
      "Scraping Pole Studio Data from https://www.eversports.de/s/polearize...\n",
      "Scraping Workshops Data from https://www.eversports.de/sw/polearize...\n",
      "Scraping Workshop Details from https://www.eversports.de/e/workshop/5N9aoto...\n",
      "Scraping Workshop Details from https://www.eversports.de/e/workshop/7QwFsx3...\n",
      "Scraping Workshop Details from https://www.eversports.de/e/workshop/516yIHG...\n",
      "Scraping Workshop Details from https://www.eversports.de/e/workshop/4gGolhi...\n"
     ]
    },
    {
     "name": "stderr",
     "output_type": "stream",
     "text": [
      "Processing URLs:  38%|███▊      | 158/412 [14:52<32:09,  7.59s/it]"
     ]
    },
    {
     "name": "stdout",
     "output_type": "stream",
     "text": [
      "Processing completed.\n",
      "Pole Studio Data: 1 entries\n",
      "Workshops Data: 4 entries\n",
      "Workshop Details: 4 entries\n",
      "Starting URL reconstruction...\n"
     ]
    },
    {
     "name": "stderr",
     "output_type": "stream",
     "text": [
      "2024-02-01 21:53:45,755 - INFO - Processing URL 1/4: https://www.eversports.de/s/poda-studio\n"
     ]
    },
    {
     "name": "stdout",
     "output_type": "stream",
     "text": [
      "Converting to DataFrame...\n",
      "Validating URLs...\n"
     ]
    },
    {
     "name": "stderr",
     "output_type": "stream",
     "text": [
      "2024-02-01 21:53:47,044 - INFO - URL https://www.eversports.de/s/poda-studio is valid.\n",
      "2024-02-01 21:53:47,046 - INFO - Processing URL 2/4: https://www.eversports.de/sw/poda-studio\n",
      "2024-02-01 21:53:48,239 - INFO - URL https://www.eversports.de/sw/poda-studio is valid.\n",
      "2024-02-01 21:53:48,240 - INFO - Processing URL 3/4: https://www.eversports.de/sp/poda-studio\n",
      "2024-02-01 21:53:49,382 - INFO - URL https://www.eversports.de/sp/poda-studio is valid.\n",
      "2024-02-01 21:53:49,383 - INFO - Processing URL 4/4: https://www.eversports.de/s/poda-studio/team\n",
      "2024-02-01 21:53:50,592 - INFO - URL https://www.eversports.de/s/poda-studio/team is valid.\n"
     ]
    },
    {
     "name": "stdout",
     "output_type": "stream",
     "text": [
      "Scraping Pole Studio Data from https://www.eversports.de/s/poda-studio...\n",
      "Scraping Workshops Data from https://www.eversports.de/sw/poda-studio...\n",
      "Scraping Workshop Details from https://www.eversports.de/e/workshop/LAHNDF-...\n",
      "Scraping Workshop Details from https://www.eversports.de/e/workshop/JM68hgK...\n",
      "Scraping Workshop Details from https://www.eversports.de/e/workshop/2f93D4_...\n",
      "Scraping Workshop Details from https://www.eversports.de/e/workshop/9PbaXsNu8...\n"
     ]
    },
    {
     "name": "stderr",
     "output_type": "stream",
     "text": [
      "Processing URLs:  39%|███▊      | 159/412 [15:12<46:44, 11.08s/it]"
     ]
    },
    {
     "name": "stdout",
     "output_type": "stream",
     "text": [
      "Processing completed.\n",
      "Pole Studio Data: 1 entries\n",
      "Workshops Data: 4 entries\n",
      "Workshop Details: 4 entries\n",
      "Starting URL reconstruction...\n"
     ]
    },
    {
     "name": "stderr",
     "output_type": "stream",
     "text": [
      "2024-02-01 21:54:04,522 - INFO - Processing URL 1/1: https://www.eversports.de/s/poledance-4-you\n"
     ]
    },
    {
     "name": "stdout",
     "output_type": "stream",
     "text": [
      "Converting to DataFrame...\n",
      "Validating URLs...\n"
     ]
    },
    {
     "name": "stderr",
     "output_type": "stream",
     "text": [
      "2024-02-01 21:54:05,818 - INFO - URL https://www.eversports.de/s/poledance-4-you is valid.\n"
     ]
    },
    {
     "name": "stdout",
     "output_type": "stream",
     "text": [
      "Scraping Pole Studio Data from https://www.eversports.de/s/poledance-4-you...\n"
     ]
    },
    {
     "name": "stderr",
     "output_type": "stream",
     "text": [
      "Processing URLs:  39%|███▉      | 160/412 [15:15<36:26,  8.68s/it]"
     ]
    },
    {
     "name": "stdout",
     "output_type": "stream",
     "text": [
      "Processing completed.\n",
      "Pole Studio Data: 1 entries\n",
      "Starting URL reconstruction...\n"
     ]
    },
    {
     "name": "stderr",
     "output_type": "stream",
     "text": [
      "Processing URLs:  39%|███▉      | 161/412 [15:19<30:52,  7.38s/it]"
     ]
    },
    {
     "name": "stdout",
     "output_type": "stream",
     "text": [
      "Error during HTTP request: Exceeded 30 redirects.\n",
      "Converting to DataFrame...\n",
      "Validating URLs...\n",
      "Processing completed.\n",
      "Starting URL reconstruction...\n"
     ]
    },
    {
     "name": "stderr",
     "output_type": "stream",
     "text": [
      "Processing URLs:  39%|███▉      | 162/412 [15:20<23:02,  5.53s/it]"
     ]
    },
    {
     "name": "stdout",
     "output_type": "stream",
     "text": [
      "Error during HTTP request: 404 Client Error: Not Found for url: https://www.eversports.de/s/dance-in-the-city-remscheid\n",
      "Converting to DataFrame...\n",
      "Validating URLs...\n",
      "Processing completed.\n",
      "Starting URL reconstruction...\n"
     ]
    },
    {
     "name": "stderr",
     "output_type": "stream",
     "text": [
      "2024-02-01 21:54:13,238 - INFO - Processing URL 1/4: https://www.eversports.de/s/flexx-arts-aerial-dance-and-fitness\n"
     ]
    },
    {
     "name": "stdout",
     "output_type": "stream",
     "text": [
      "Error reconstructing URL for 'Kurse': Unrecognized text: 'Kurse'\n",
      "Converting to DataFrame...\n",
      "Validating URLs...\n"
     ]
    },
    {
     "name": "stderr",
     "output_type": "stream",
     "text": [
      "2024-02-01 21:54:14,713 - INFO - URL https://www.eversports.de/s/flexx-arts-aerial-dance-and-fitness is valid.\n",
      "2024-02-01 21:54:14,714 - INFO - Processing URL 2/4: https://www.eversports.de/sw/flexx-arts-aerial-dance-and-fitness\n",
      "2024-02-01 21:54:15,955 - INFO - URL https://www.eversports.de/sw/flexx-arts-aerial-dance-and-fitness is valid.\n",
      "2024-02-01 21:54:15,957 - INFO - Processing URL 3/4: https://www.eversports.de/sp/flexx-arts-aerial-dance-and-fitness\n",
      "2024-02-01 21:54:17,239 - INFO - URL https://www.eversports.de/sp/flexx-arts-aerial-dance-and-fitness is valid.\n",
      "2024-02-01 21:54:17,240 - INFO - Processing URL 4/4: https://www.eversports.de/s/flexx-arts-aerial-dance-and-fitness/team\n",
      "2024-02-01 21:54:19,309 - INFO - URL https://www.eversports.de/s/flexx-arts-aerial-dance-and-fitness/team is valid.\n"
     ]
    },
    {
     "name": "stdout",
     "output_type": "stream",
     "text": [
      "Scraping Pole Studio Data from https://www.eversports.de/s/flexx-arts-aerial-dance-and-fitness...\n",
      "Scraping Workshops Data from https://www.eversports.de/sw/flexx-arts-aerial-dance-and-fitness...\n",
      "Scraping Workshop Details from https://www.eversports.de/e/workshop/nCNxtqP...\n",
      "Scraping Workshop Details from https://www.eversports.de/e/workshop/_EBraSK...\n"
     ]
    },
    {
     "name": "stderr",
     "output_type": "stream",
     "text": [
      "Processing URLs:  40%|███▉      | 163/412 [15:33<32:31,  7.84s/it]"
     ]
    },
    {
     "name": "stdout",
     "output_type": "stream",
     "text": [
      "Processing completed.\n",
      "Pole Studio Data: 1 entries\n",
      "Workshops Data: 2 entries\n",
      "Workshop Details: 2 entries\n",
      "Starting URL reconstruction...\n"
     ]
    },
    {
     "name": "stderr",
     "output_type": "stream",
     "text": [
      "Processing URLs:  40%|███▉      | 164/412 [15:35<24:01,  5.81s/it]"
     ]
    },
    {
     "name": "stdout",
     "output_type": "stream",
     "text": [
      "Error during HTTP request: 404 Client Error: Not Found for url: https://www.eversports.de/s/poledance!-aerial-%26-fitness-kiel\n",
      "Converting to DataFrame...\n",
      "Validating URLs...\n",
      "Processing completed.\n",
      "Starting URL reconstruction...\n"
     ]
    },
    {
     "name": "stderr",
     "output_type": "stream",
     "text": [
      "2024-02-01 21:54:27,528 - INFO - Processing URL 1/3: https://www.eversports.de/s/the-supergirl-studio\n"
     ]
    },
    {
     "name": "stdout",
     "output_type": "stream",
     "text": [
      "Converting to DataFrame...\n",
      "Validating URLs...\n"
     ]
    },
    {
     "name": "stderr",
     "output_type": "stream",
     "text": [
      "2024-02-01 21:54:29,074 - INFO - URL https://www.eversports.de/s/the-supergirl-studio is valid.\n",
      "2024-02-01 21:54:29,075 - INFO - Processing URL 2/3: https://www.eversports.de/sp/the-supergirl-studio\n",
      "2024-02-01 21:54:30,716 - INFO - URL https://www.eversports.de/sp/the-supergirl-studio is valid.\n",
      "2024-02-01 21:54:30,716 - INFO - Processing URL 3/3: https://www.eversports.de/s/the-supergirl-studio/team\n",
      "2024-02-01 21:54:31,950 - INFO - URL https://www.eversports.de/s/the-supergirl-studio/team is valid.\n"
     ]
    },
    {
     "name": "stdout",
     "output_type": "stream",
     "text": [
      "Scraping Pole Studio Data from https://www.eversports.de/s/the-supergirl-studio...\n"
     ]
    },
    {
     "name": "stderr",
     "output_type": "stream",
     "text": [
      "Processing URLs:  40%|████      | 165/412 [15:43<27:00,  6.56s/it]"
     ]
    },
    {
     "name": "stdout",
     "output_type": "stream",
     "text": [
      "Processing completed.\n",
      "Pole Studio Data: 1 entries\n",
      "Starting URL reconstruction...\n"
     ]
    },
    {
     "name": "stderr",
     "output_type": "stream",
     "text": [
      "2024-02-01 21:54:36,174 - INFO - Processing URL 1/4: https://www.eversports.de/s/ramonas-tanzschmiede\n"
     ]
    },
    {
     "name": "stdout",
     "output_type": "stream",
     "text": [
      "Converting to DataFrame...\n",
      "Validating URLs...\n"
     ]
    },
    {
     "name": "stderr",
     "output_type": "stream",
     "text": [
      "2024-02-01 21:54:37,429 - INFO - URL https://www.eversports.de/s/ramonas-tanzschmiede is valid.\n",
      "2024-02-01 21:54:37,431 - INFO - Processing URL 2/4: https://www.eversports.de/sw/ramonas-tanzschmiede\n",
      "2024-02-01 21:54:38,772 - INFO - URL https://www.eversports.de/sw/ramonas-tanzschmiede is valid.\n",
      "2024-02-01 21:54:38,773 - INFO - Processing URL 3/4: https://www.eversports.de/sp/ramonas-tanzschmiede\n",
      "2024-02-01 21:54:39,931 - INFO - URL https://www.eversports.de/sp/ramonas-tanzschmiede is valid.\n",
      "2024-02-01 21:54:39,933 - INFO - Processing URL 4/4: https://www.eversports.de/s/ramonas-tanzschmiede/team\n",
      "2024-02-01 21:54:41,101 - INFO - URL https://www.eversports.de/s/ramonas-tanzschmiede/team is valid.\n"
     ]
    },
    {
     "name": "stdout",
     "output_type": "stream",
     "text": [
      "Scraping Pole Studio Data from https://www.eversports.de/s/ramonas-tanzschmiede...\n",
      "Scraping Workshops Data from https://www.eversports.de/sw/ramonas-tanzschmiede...\n",
      "Scraping Workshop Details from https://www.eversports.de/e/workshop/qpLF3tB...\n",
      "Scraping Workshop Details from https://www.eversports.de/e/workshop/NUbP_o2...\n",
      "Scraping Workshop Details from https://www.eversports.de/e/workshop/h6T780l...\n",
      "Scraping Workshop Details from https://www.eversports.de/e/workshop/HZmJGaW...\n"
     ]
    },
    {
     "name": "stderr",
     "output_type": "stream",
     "text": [
      "Processing URLs:  40%|████      | 166/412 [15:56<35:23,  8.63s/it]"
     ]
    },
    {
     "name": "stdout",
     "output_type": "stream",
     "text": [
      "Processing completed.\n",
      "Pole Studio Data: 1 entries\n",
      "Workshops Data: 4 entries\n",
      "Workshop Details: 4 entries\n",
      "Starting URL reconstruction...\n"
     ]
    },
    {
     "name": "stderr",
     "output_type": "stream",
     "text": [
      "Processing URLs:  41%|████      | 167/412 [16:03<33:11,  8.13s/it]"
     ]
    },
    {
     "name": "stdout",
     "output_type": "stream",
     "text": [
      "Error during HTTP request: Exceeded 30 redirects.\n",
      "Converting to DataFrame...\n",
      "Validating URLs...\n",
      "Processing completed.\n",
      "Starting URL reconstruction...\n"
     ]
    },
    {
     "name": "stderr",
     "output_type": "stream",
     "text": [
      "2024-02-01 21:54:56,369 - INFO - Processing URL 1/4: https://www.eversports.de/s/aerialflow\n"
     ]
    },
    {
     "name": "stdout",
     "output_type": "stream",
     "text": [
      "Error reconstructing URL for 'Trainings': Unrecognized text: 'Trainings'\n",
      "Error reconstructing URL for 'Kurse': Unrecognized text: 'Kurse'\n",
      "Converting to DataFrame...\n",
      "Validating URLs...\n"
     ]
    },
    {
     "name": "stderr",
     "output_type": "stream",
     "text": [
      "2024-02-01 21:54:57,841 - INFO - URL https://www.eversports.de/s/aerialflow is valid.\n",
      "2024-02-01 21:54:57,842 - INFO - Processing URL 2/4: https://www.eversports.de/sw/aerialflow\n",
      "2024-02-01 21:54:59,446 - INFO - URL https://www.eversports.de/sw/aerialflow is valid.\n",
      "2024-02-01 21:54:59,447 - INFO - Processing URL 3/4: https://www.eversports.de/sp/aerialflow\n",
      "2024-02-01 21:55:00,710 - INFO - URL https://www.eversports.de/sp/aerialflow is valid.\n",
      "2024-02-01 21:55:00,711 - INFO - Processing URL 4/4: https://www.eversports.de/s/aerialflow/team\n",
      "2024-02-01 21:55:02,566 - INFO - URL https://www.eversports.de/s/aerialflow/team is valid.\n"
     ]
    },
    {
     "name": "stdout",
     "output_type": "stream",
     "text": [
      "Scraping Pole Studio Data from https://www.eversports.de/s/aerialflow...\n",
      "Scraping Workshops Data from https://www.eversports.de/sw/aerialflow...\n",
      "Scraping Workshop Details from https://www.eversports.de/e/workshop/OQN28ZD...\n"
     ]
    },
    {
     "name": "stderr",
     "output_type": "stream",
     "text": [
      "Processing URLs:  41%|████      | 168/412 [16:14<36:47,  9.05s/it]"
     ]
    },
    {
     "name": "stdout",
     "output_type": "stream",
     "text": [
      "Processing completed.\n",
      "Pole Studio Data: 1 entries\n",
      "Workshops Data: 1 entries\n",
      "Workshop Details: 1 entries\n",
      "Starting URL reconstruction...\n"
     ]
    },
    {
     "name": "stderr",
     "output_type": "stream",
     "text": [
      "Processing URLs:  41%|████      | 169/412 [16:16<27:13,  6.72s/it]"
     ]
    },
    {
     "name": "stdout",
     "output_type": "stream",
     "text": [
      "Error during HTTP request: 404 Client Error: Not Found for url: https://www.eversports.de/s/pole-dance-hechingen\n",
      "Converting to DataFrame...\n",
      "Validating URLs...\n",
      "Processing completed.\n",
      "Starting URL reconstruction...\n"
     ]
    },
    {
     "name": "stderr",
     "output_type": "stream",
     "text": [
      "Processing URLs:  41%|████▏     | 170/412 [16:17<20:17,  5.03s/it]"
     ]
    },
    {
     "name": "stdout",
     "output_type": "stream",
     "text": [
      "Error during HTTP request: 404 Client Error: Not Found for url: https://www.eversports.de/s/dance-&-pole-leverkusen\n",
      "Converting to DataFrame...\n",
      "Validating URLs...\n",
      "Processing completed.\n",
      "Starting URL reconstruction...\n"
     ]
    },
    {
     "name": "stderr",
     "output_type": "stream",
     "text": [
      "Processing URLs:  42%|████▏     | 171/412 [16:20<18:16,  4.55s/it]"
     ]
    },
    {
     "name": "stdout",
     "output_type": "stream",
     "text": [
      "Error during HTTP request: Exceeded 30 redirects.\n",
      "Converting to DataFrame...\n",
      "Validating URLs...\n",
      "Processing completed.\n",
      "Starting URL reconstruction...\n"
     ]
    },
    {
     "name": "stderr",
     "output_type": "stream",
     "text": [
      "Processing URLs:  42%|████▏     | 172/412 [16:21<13:59,  3.50s/it]"
     ]
    },
    {
     "name": "stdout",
     "output_type": "stream",
     "text": [
      "Error during HTTP request: 404 Client Error: Not Found for url: https://www.eversports.de/s/pole-faction--pole-dance-&-fitness\n",
      "Converting to DataFrame...\n",
      "Validating URLs...\n",
      "Processing completed.\n",
      "Starting URL reconstruction...\n"
     ]
    },
    {
     "name": "stderr",
     "output_type": "stream",
     "text": [
      "2024-02-01 21:55:14,037 - INFO - Processing URL 1/1: https://www.eversports.de/s/kaifu-lodge\n"
     ]
    },
    {
     "name": "stdout",
     "output_type": "stream",
     "text": [
      "Converting to DataFrame...\n",
      "Validating URLs...\n"
     ]
    },
    {
     "name": "stderr",
     "output_type": "stream",
     "text": [
      "2024-02-01 21:55:15,250 - INFO - URL https://www.eversports.de/s/kaifu-lodge is valid.\n"
     ]
    },
    {
     "name": "stdout",
     "output_type": "stream",
     "text": [
      "Scraping Pole Studio Data from https://www.eversports.de/s/kaifu-lodge...\n"
     ]
    },
    {
     "name": "stderr",
     "output_type": "stream",
     "text": [
      "Processing URLs:  42%|████▏     | 173/412 [16:24<13:04,  3.28s/it]"
     ]
    },
    {
     "name": "stdout",
     "output_type": "stream",
     "text": [
      "Processing completed.\n",
      "Pole Studio Data: 1 entries\n",
      "Starting URL reconstruction...\n"
     ]
    },
    {
     "name": "stderr",
     "output_type": "stream",
     "text": [
      "2024-02-01 21:55:16,868 - INFO - Processing URL 1/3: https://www.eversports.de/s/infinity-polesports\n"
     ]
    },
    {
     "name": "stdout",
     "output_type": "stream",
     "text": [
      "Converting to DataFrame...\n",
      "Validating URLs...\n"
     ]
    },
    {
     "name": "stderr",
     "output_type": "stream",
     "text": [
      "2024-02-01 21:55:18,325 - INFO - URL https://www.eversports.de/s/infinity-polesports is valid.\n",
      "2024-02-01 21:55:18,326 - INFO - Processing URL 2/3: https://www.eversports.de/sp/infinity-polesports\n",
      "2024-02-01 21:55:19,442 - INFO - URL https://www.eversports.de/sp/infinity-polesports is valid.\n",
      "2024-02-01 21:55:19,443 - INFO - Processing URL 3/3: https://www.eversports.de/s/infinity-polesports/team\n",
      "2024-02-01 21:55:20,576 - INFO - URL https://www.eversports.de/s/infinity-polesports/team is valid.\n"
     ]
    },
    {
     "name": "stdout",
     "output_type": "stream",
     "text": [
      "Scraping Pole Studio Data from https://www.eversports.de/s/infinity-polesports...\n"
     ]
    },
    {
     "name": "stderr",
     "output_type": "stream",
     "text": [
      "Processing URLs:  42%|████▏     | 174/412 [16:30<15:50,  3.99s/it]"
     ]
    },
    {
     "name": "stdout",
     "output_type": "stream",
     "text": [
      "Processing completed.\n",
      "Pole Studio Data: 1 entries\n",
      "Starting URL reconstruction...\n"
     ]
    },
    {
     "name": "stderr",
     "output_type": "stream",
     "text": [
      "Processing URLs:  42%|████▏     | 175/412 [16:31<12:23,  3.14s/it]"
     ]
    },
    {
     "name": "stdout",
     "output_type": "stream",
     "text": [
      "Error during HTTP request: 404 Client Error: Not Found for url: https://www.eversports.de/s/moving-art-studios\n",
      "Converting to DataFrame...\n",
      "Validating URLs...\n",
      "Processing completed.\n",
      "Starting URL reconstruction...\n"
     ]
    },
    {
     "name": "stderr",
     "output_type": "stream",
     "text": [
      "Processing URLs:  43%|████▎     | 176/412 [16:32<10:01,  2.55s/it]"
     ]
    },
    {
     "name": "stdout",
     "output_type": "stream",
     "text": [
      "Error during HTTP request: 404 Client Error: Not Found for url: https://www.eversports.de/s/polesports-studio-bremen\n",
      "Converting to DataFrame...\n",
      "Validating URLs...\n",
      "Processing completed.\n",
      "Starting URL reconstruction...\n"
     ]
    },
    {
     "name": "stderr",
     "output_type": "stream",
     "text": [
      "2024-02-01 21:55:25,517 - INFO - Processing URL 1/4: https://www.eversports.de/s/studio-aeris\n"
     ]
    },
    {
     "name": "stdout",
     "output_type": "stream",
     "text": [
      "Error reconstructing URL for 'Kurse': Unrecognized text: 'Kurse'\n",
      "Converting to DataFrame...\n",
      "Validating URLs...\n"
     ]
    },
    {
     "name": "stderr",
     "output_type": "stream",
     "text": [
      "2024-02-01 21:55:26,811 - INFO - URL https://www.eversports.de/s/studio-aeris is valid.\n",
      "2024-02-01 21:55:26,812 - INFO - Processing URL 2/4: https://www.eversports.de/sw/studio-aeris\n",
      "2024-02-01 21:55:27,878 - INFO - URL https://www.eversports.de/sw/studio-aeris is not valid.\n",
      "2024-02-01 21:55:27,879 - INFO - Processing URL 3/4: https://www.eversports.de/sp/studio-aeris\n",
      "2024-02-01 21:55:28,957 - INFO - URL https://www.eversports.de/sp/studio-aeris is not valid.\n",
      "2024-02-01 21:55:28,958 - INFO - Processing URL 4/4: https://www.eversports.de/s/studio-aeris/team\n",
      "2024-02-01 21:55:30,177 - INFO - URL https://www.eversports.de/s/studio-aeris/team is valid.\n"
     ]
    },
    {
     "name": "stdout",
     "output_type": "stream",
     "text": [
      "Scraping Pole Studio Data from https://www.eversports.de/s/studio-aeris...\n"
     ]
    },
    {
     "name": "stderr",
     "output_type": "stream",
     "text": [
      "Processing URLs:  43%|████▎     | 177/412 [16:39<15:15,  3.89s/it]"
     ]
    },
    {
     "name": "stdout",
     "output_type": "stream",
     "text": [
      "Processing completed.\n",
      "Pole Studio Data: 1 entries\n",
      "Starting URL reconstruction...\n"
     ]
    },
    {
     "name": "stderr",
     "output_type": "stream",
     "text": [
      "Processing URLs:  43%|████▎     | 178/412 [16:40<11:50,  3.03s/it]"
     ]
    },
    {
     "name": "stdout",
     "output_type": "stream",
     "text": [
      "Error during HTTP request: 404 Client Error: Not Found for url: https://www.eversports.de/s/move-lounge---pilates,-powerplate,-trx,-personaltraining\n",
      "Converting to DataFrame...\n",
      "Validating URLs...\n",
      "Processing completed.\n",
      "Starting URL reconstruction...\n"
     ]
    },
    {
     "name": "stderr",
     "output_type": "stream",
     "text": [
      "2024-02-01 21:55:33,293 - INFO - Processing URL 1/3: https://www.eversports.de/s/bodysoul-studio-duesseldorf\n"
     ]
    },
    {
     "name": "stdout",
     "output_type": "stream",
     "text": [
      "Converting to DataFrame...\n",
      "Validating URLs...\n"
     ]
    },
    {
     "name": "stderr",
     "output_type": "stream",
     "text": [
      "2024-02-01 21:55:34,533 - INFO - URL https://www.eversports.de/s/bodysoul-studio-duesseldorf is valid.\n",
      "2024-02-01 21:55:34,534 - INFO - Processing URL 2/3: https://www.eversports.de/sp/bodysoul-studio-duesseldorf\n",
      "2024-02-01 21:55:37,008 - INFO - URL https://www.eversports.de/sp/bodysoul-studio-duesseldorf is valid.\n",
      "2024-02-01 21:55:37,009 - INFO - Processing URL 3/3: https://www.eversports.de/s/bodysoul-studio-duesseldorf/team\n",
      "2024-02-01 21:55:38,151 - INFO - URL https://www.eversports.de/s/bodysoul-studio-duesseldorf/team is valid.\n"
     ]
    },
    {
     "name": "stdout",
     "output_type": "stream",
     "text": [
      "Scraping Pole Studio Data from https://www.eversports.de/s/bodysoul-studio-duesseldorf...\n"
     ]
    },
    {
     "name": "stderr",
     "output_type": "stream",
     "text": [
      "Processing URLs:  43%|████▎     | 179/412 [16:47<16:34,  4.27s/it]"
     ]
    },
    {
     "name": "stdout",
     "output_type": "stream",
     "text": [
      "Processing completed.\n",
      "Pole Studio Data: 1 entries\n",
      "Starting URL reconstruction...\n"
     ]
    },
    {
     "name": "stderr",
     "output_type": "stream",
     "text": [
      "2024-02-01 21:55:40,539 - INFO - Processing URL 1/1: https://www.eversports.de/s/poledance-area\n"
     ]
    },
    {
     "name": "stdout",
     "output_type": "stream",
     "text": [
      "Converting to DataFrame...\n",
      "Validating URLs...\n"
     ]
    },
    {
     "name": "stderr",
     "output_type": "stream",
     "text": [
      "2024-02-01 21:55:41,758 - INFO - URL https://www.eversports.de/s/poledance-area is valid.\n"
     ]
    },
    {
     "name": "stdout",
     "output_type": "stream",
     "text": [
      "Scraping Pole Studio Data from https://www.eversports.de/s/poledance-area...\n"
     ]
    },
    {
     "name": "stderr",
     "output_type": "stream",
     "text": [
      "Processing URLs:  44%|████▎     | 180/412 [16:51<15:30,  4.01s/it]"
     ]
    },
    {
     "name": "stdout",
     "output_type": "stream",
     "text": [
      "Processing completed.\n",
      "Pole Studio Data: 1 entries\n",
      "Starting URL reconstruction...\n"
     ]
    },
    {
     "name": "stderr",
     "output_type": "stream",
     "text": [
      "2024-02-01 21:55:44,122 - INFO - Processing URL 1/3: https://www.eversports.de/s/calipso-studio\n"
     ]
    },
    {
     "name": "stdout",
     "output_type": "stream",
     "text": [
      "Error reconstructing URL for 'Kurse': Unrecognized text: 'Kurse'\n",
      "Converting to DataFrame...\n",
      "Validating URLs...\n"
     ]
    },
    {
     "name": "stderr",
     "output_type": "stream",
     "text": [
      "2024-02-01 21:55:46,046 - INFO - URL https://www.eversports.de/s/calipso-studio is valid.\n",
      "2024-02-01 21:55:46,048 - INFO - Processing URL 2/3: https://www.eversports.de/sp/calipso-studio\n",
      "2024-02-01 21:55:47,259 - INFO - URL https://www.eversports.de/sp/calipso-studio is not valid.\n",
      "2024-02-01 21:55:47,260 - INFO - Processing URL 3/3: https://www.eversports.de/s/calipso-studio/team\n",
      "2024-02-01 21:55:48,532 - INFO - URL https://www.eversports.de/s/calipso-studio/team is valid.\n"
     ]
    },
    {
     "name": "stdout",
     "output_type": "stream",
     "text": [
      "Scraping Pole Studio Data from https://www.eversports.de/s/calipso-studio...\n"
     ]
    },
    {
     "name": "stderr",
     "output_type": "stream",
     "text": [
      "Processing URLs:  44%|████▍     | 181/412 [16:58<18:46,  4.88s/it]"
     ]
    },
    {
     "name": "stdout",
     "output_type": "stream",
     "text": [
      "Processing completed.\n",
      "Pole Studio Data: 1 entries\n",
      "Starting URL reconstruction...\n"
     ]
    },
    {
     "name": "stderr",
     "output_type": "stream",
     "text": [
      "Processing URLs:  44%|████▍     | 182/412 [16:59<14:23,  3.75s/it]"
     ]
    },
    {
     "name": "stdout",
     "output_type": "stream",
     "text": [
      "Error during HTTP request: 404 Client Error: Not Found for url: https://www.eversports.de/s/crazysports-augsburg\n",
      "Converting to DataFrame...\n",
      "Validating URLs...\n",
      "Processing completed.\n",
      "Starting URL reconstruction...\n"
     ]
    },
    {
     "name": "stderr",
     "output_type": "stream",
     "text": [
      "Processing URLs:  44%|████▍     | 183/412 [17:00<11:23,  2.99s/it]"
     ]
    },
    {
     "name": "stdout",
     "output_type": "stream",
     "text": [
      "Error during HTTP request: 404 Client Error: Not Found for url: https://www.eversports.de/s/slow-motion\n",
      "Converting to DataFrame...\n",
      "Validating URLs...\n",
      "Processing completed.\n",
      "Starting URL reconstruction...\n"
     ]
    },
    {
     "name": "stderr",
     "output_type": "stream",
     "text": [
      "Processing URLs:  45%|████▍     | 184/412 [17:01<09:09,  2.41s/it]"
     ]
    },
    {
     "name": "stdout",
     "output_type": "stream",
     "text": [
      "Error during HTTP request: 404 Client Error: Not Found for url: https://www.eversports.de/s/yh-pole-(and)-sports-berlin\n",
      "Converting to DataFrame...\n",
      "Validating URLs...\n",
      "Processing completed.\n",
      "Starting URL reconstruction...\n"
     ]
    },
    {
     "name": "stderr",
     "output_type": "stream",
     "text": [
      "Processing URLs:  45%|████▍     | 185/412 [17:02<07:37,  2.02s/it]"
     ]
    },
    {
     "name": "stdout",
     "output_type": "stream",
     "text": [
      "Error during HTTP request: 404 Client Error: Not Found for url: https://www.eversports.de/s/vertical--pole-aerial-dance\n",
      "Converting to DataFrame...\n",
      "Validating URLs...\n",
      "Processing completed.\n",
      "Starting URL reconstruction...\n"
     ]
    },
    {
     "name": "stderr",
     "output_type": "stream",
     "text": [
      "2024-02-01 21:55:54,925 - INFO - Processing URL 1/3: https://www.eversports.de/s/dance-and-pole-langenfeld\n"
     ]
    },
    {
     "name": "stdout",
     "output_type": "stream",
     "text": [
      "Converting to DataFrame...\n",
      "Validating URLs...\n"
     ]
    },
    {
     "name": "stderr",
     "output_type": "stream",
     "text": [
      "2024-02-01 21:55:56,209 - INFO - URL https://www.eversports.de/s/dance-and-pole-langenfeld is valid.\n",
      "2024-02-01 21:55:56,210 - INFO - Processing URL 2/3: https://www.eversports.de/sp/dance-and-pole-langenfeld\n",
      "2024-02-01 21:55:57,385 - INFO - URL https://www.eversports.de/sp/dance-and-pole-langenfeld is valid.\n",
      "2024-02-01 21:55:57,386 - INFO - Processing URL 3/3: https://www.eversports.de/s/dance-and-pole-langenfeld/team\n",
      "2024-02-01 21:55:58,673 - INFO - URL https://www.eversports.de/s/dance-and-pole-langenfeld/team is valid.\n"
     ]
    },
    {
     "name": "stdout",
     "output_type": "stream",
     "text": [
      "Scraping Pole Studio Data from https://www.eversports.de/s/dance-and-pole-langenfeld...\n"
     ]
    },
    {
     "name": "stderr",
     "output_type": "stream",
     "text": [
      "Processing URLs:  45%|████▌     | 186/412 [17:08<11:32,  3.06s/it]"
     ]
    },
    {
     "name": "stdout",
     "output_type": "stream",
     "text": [
      "Processing completed.\n",
      "Pole Studio Data: 1 entries\n",
      "Starting URL reconstruction...\n"
     ]
    },
    {
     "name": "stderr",
     "output_type": "stream",
     "text": [
      "Processing URLs:  45%|████▌     | 187/412 [17:09<09:20,  2.49s/it]"
     ]
    },
    {
     "name": "stdout",
     "output_type": "stream",
     "text": [
      "Error during HTTP request: 404 Client Error: Not Found for url: https://www.eversports.de/s/crazypole-dresden\n",
      "Converting to DataFrame...\n",
      "Validating URLs...\n",
      "Processing completed.\n",
      "Starting URL reconstruction...\n"
     ]
    },
    {
     "name": "stderr",
     "output_type": "stream",
     "text": [
      "2024-02-01 21:56:01,570 - INFO - Processing URL 1/4: https://www.eversports.de/s/polefriends-halle\n"
     ]
    },
    {
     "name": "stdout",
     "output_type": "stream",
     "text": [
      "Converting to DataFrame...\n",
      "Validating URLs...\n"
     ]
    },
    {
     "name": "stderr",
     "output_type": "stream",
     "text": [
      "2024-02-01 21:56:02,882 - INFO - URL https://www.eversports.de/s/polefriends-halle is valid.\n",
      "2024-02-01 21:56:02,883 - INFO - Processing URL 2/4: https://www.eversports.de/sw/polefriends-halle\n",
      "2024-02-01 21:56:04,072 - INFO - URL https://www.eversports.de/sw/polefriends-halle is valid.\n",
      "2024-02-01 21:56:04,073 - INFO - Processing URL 3/4: https://www.eversports.de/sp/polefriends-halle\n",
      "2024-02-01 21:56:05,274 - INFO - URL https://www.eversports.de/sp/polefriends-halle is valid.\n",
      "2024-02-01 21:56:05,275 - INFO - Processing URL 4/4: https://www.eversports.de/s/polefriends-halle/team\n",
      "2024-02-01 21:56:06,842 - INFO - URL https://www.eversports.de/s/polefriends-halle/team is valid.\n"
     ]
    },
    {
     "name": "stdout",
     "output_type": "stream",
     "text": [
      "Scraping Pole Studio Data from https://www.eversports.de/s/polefriends-halle...\n",
      "Scraping Workshops Data from https://www.eversports.de/sw/polefriends-halle...\n",
      "Scraping Workshop Details from https://www.eversports.de/e/workshop/NMiVGZD...\n"
     ]
    },
    {
     "name": "stderr",
     "output_type": "stream",
     "text": [
      "Processing URLs:  46%|████▌     | 188/412 [17:19<17:57,  4.81s/it]"
     ]
    },
    {
     "name": "stdout",
     "output_type": "stream",
     "text": [
      "Processing completed.\n",
      "Pole Studio Data: 1 entries\n",
      "Workshops Data: 1 entries\n",
      "Workshop Details: 1 entries\n",
      "Starting URL reconstruction...\n"
     ]
    },
    {
     "name": "stderr",
     "output_type": "stream",
     "text": [
      "Processing URLs:  46%|████▌     | 189/412 [17:20<13:49,  3.72s/it]"
     ]
    },
    {
     "name": "stdout",
     "output_type": "stream",
     "text": [
      "Error during HTTP request: 404 Client Error: Not Found for url: https://www.eversports.de/s/vertical---pole-aerial-dance\n",
      "Converting to DataFrame...\n",
      "Validating URLs...\n",
      "Processing completed.\n",
      "Starting URL reconstruction...\n"
     ]
    },
    {
     "name": "stderr",
     "output_type": "stream",
     "text": [
      "Processing URLs:  46%|████▌     | 190/412 [17:21<10:55,  2.95s/it]"
     ]
    },
    {
     "name": "stdout",
     "output_type": "stream",
     "text": [
      "Error during HTTP request: 404 Client Error: Not Found for url: https://www.eversports.de/s/pole-dance-stuttgart\n",
      "Converting to DataFrame...\n",
      "Validating URLs...\n",
      "Processing completed.\n",
      "Starting URL reconstruction...\n"
     ]
    },
    {
     "name": "stderr",
     "output_type": "stream",
     "text": [
      "Processing URLs:  46%|████▋     | 191/412 [17:27<13:47,  3.75s/it]"
     ]
    },
    {
     "name": "stdout",
     "output_type": "stream",
     "text": [
      "Error during HTTP request: Exceeded 30 redirects.\n",
      "Converting to DataFrame...\n",
      "Validating URLs...\n",
      "Processing completed.\n",
      "Starting URL reconstruction...\n"
     ]
    },
    {
     "name": "stderr",
     "output_type": "stream",
     "text": [
      "Processing URLs:  47%|████▋     | 192/412 [17:31<13:49,  3.77s/it]"
     ]
    },
    {
     "name": "stdout",
     "output_type": "stream",
     "text": [
      "Error during HTTP request: 404 Client Error: Not Found for url: https://www.eversports.de/s/polefitness-premium\n",
      "Converting to DataFrame...\n",
      "Validating URLs...\n",
      "Processing completed.\n",
      "Starting URL reconstruction...\n"
     ]
    },
    {
     "name": "stderr",
     "output_type": "stream",
     "text": [
      "Processing URLs:  47%|████▋     | 193/412 [17:32<10:59,  3.01s/it]"
     ]
    },
    {
     "name": "stdout",
     "output_type": "stream",
     "text": [
      "Error during HTTP request: 404 Client Error: Not Found for url: https://www.eversports.de/s/lioness-lodge\n",
      "Converting to DataFrame...\n",
      "Validating URLs...\n",
      "Processing completed.\n",
      "Starting URL reconstruction...\n"
     ]
    },
    {
     "name": "stderr",
     "output_type": "stream",
     "text": [
      "2024-02-01 21:56:24,753 - INFO - Processing URL 1/1: https://www.eversports.de/s/pure-body-concepts\n"
     ]
    },
    {
     "name": "stdout",
     "output_type": "stream",
     "text": [
      "Converting to DataFrame...\n",
      "Validating URLs...\n"
     ]
    },
    {
     "name": "stderr",
     "output_type": "stream",
     "text": [
      "2024-02-01 21:56:26,049 - INFO - URL https://www.eversports.de/s/pure-body-concepts is valid.\n"
     ]
    },
    {
     "name": "stdout",
     "output_type": "stream",
     "text": [
      "Scraping Pole Studio Data from https://www.eversports.de/s/pure-body-concepts...\n"
     ]
    },
    {
     "name": "stderr",
     "output_type": "stream",
     "text": [
      "Processing URLs:  47%|████▋     | 194/412 [17:35<10:48,  2.98s/it]"
     ]
    },
    {
     "name": "stdout",
     "output_type": "stream",
     "text": [
      "Processing completed.\n",
      "Pole Studio Data: 1 entries\n",
      "Starting URL reconstruction...\n"
     ]
    },
    {
     "name": "stderr",
     "output_type": "stream",
     "text": [
      "Processing URLs:  47%|████▋     | 195/412 [17:36<08:45,  2.42s/it]"
     ]
    },
    {
     "name": "stdout",
     "output_type": "stream",
     "text": [
      "Error during HTTP request: 404 Client Error: Not Found for url: https://www.eversports.de/s/dayuma---pole-&-acrobatics\n",
      "Converting to DataFrame...\n",
      "Validating URLs...\n",
      "Processing completed.\n",
      "Starting URL reconstruction...\n"
     ]
    },
    {
     "name": "stderr",
     "output_type": "stream",
     "text": [
      "Processing URLs:  48%|████▊     | 196/412 [17:39<09:01,  2.51s/it]"
     ]
    },
    {
     "name": "stdout",
     "output_type": "stream",
     "text": [
      "Error during HTTP request: 404 Client Error: Not Found for url: https://www.eversports.de/s/empire-pole\n",
      "Converting to DataFrame...\n",
      "Validating URLs...\n",
      "Processing completed.\n",
      "Starting URL reconstruction...\n"
     ]
    },
    {
     "name": "stderr",
     "output_type": "stream",
     "text": [
      "2024-02-01 21:56:31,573 - INFO - Processing URL 1/4: https://www.eversports.de/s/pole-faction-rhein-neckar\n"
     ]
    },
    {
     "name": "stdout",
     "output_type": "stream",
     "text": [
      "Converting to DataFrame...\n",
      "Validating URLs...\n"
     ]
    },
    {
     "name": "stderr",
     "output_type": "stream",
     "text": [
      "2024-02-01 21:56:33,451 - INFO - URL https://www.eversports.de/s/pole-faction-rhein-neckar is valid.\n",
      "2024-02-01 21:56:33,453 - INFO - Processing URL 2/4: https://www.eversports.de/sw/pole-faction-rhein-neckar\n",
      "2024-02-01 21:56:35,009 - INFO - URL https://www.eversports.de/sw/pole-faction-rhein-neckar is valid.\n",
      "2024-02-01 21:56:35,010 - INFO - Processing URL 3/4: https://www.eversports.de/sp/pole-faction-rhein-neckar\n",
      "2024-02-01 21:56:36,258 - INFO - URL https://www.eversports.de/sp/pole-faction-rhein-neckar is valid.\n",
      "2024-02-01 21:56:36,259 - INFO - Processing URL 4/4: https://www.eversports.de/s/pole-faction-rhein-neckar/team\n",
      "2024-02-01 21:56:37,558 - INFO - URL https://www.eversports.de/s/pole-faction-rhein-neckar/team is valid.\n"
     ]
    },
    {
     "name": "stdout",
     "output_type": "stream",
     "text": [
      "Scraping Pole Studio Data from https://www.eversports.de/s/pole-faction-rhein-neckar...\n",
      "Scraping Workshops Data from https://www.eversports.de/sw/pole-faction-rhein-neckar...\n",
      "Scraping Workshop Details from https://www.eversports.de/e/workshop/ykldhbJ...\n",
      "Scraping Workshop Details from https://www.eversports.de/e/workshop/PETMN6i...\n",
      "Scraping Workshop Details from https://www.eversports.de/e/workshop/VtQCbbh...\n"
     ]
    },
    {
     "name": "stderr",
     "output_type": "stream",
     "text": [
      "Processing URLs:  48%|████▊     | 197/412 [17:53<21:58,  6.13s/it]"
     ]
    },
    {
     "name": "stdout",
     "output_type": "stream",
     "text": [
      "Processing completed.\n",
      "Pole Studio Data: 1 entries\n",
      "Workshops Data: 3 entries\n",
      "Workshop Details: 3 entries\n",
      "Starting URL reconstruction...\n"
     ]
    },
    {
     "name": "stderr",
     "output_type": "stream",
     "text": [
      "2024-02-01 21:56:46,289 - INFO - Processing URL 1/4: https://www.eversports.de/s/pole-land\n"
     ]
    },
    {
     "name": "stdout",
     "output_type": "stream",
     "text": [
      "Error reconstructing URL for 'Events': Unrecognized text: 'Events'\n",
      "Converting to DataFrame...\n",
      "Validating URLs...\n"
     ]
    },
    {
     "name": "stderr",
     "output_type": "stream",
     "text": [
      "2024-02-01 21:56:47,754 - INFO - URL https://www.eversports.de/s/pole-land is valid.\n",
      "2024-02-01 21:56:47,755 - INFO - Processing URL 2/4: https://www.eversports.de/sw/pole-land\n",
      "2024-02-01 21:56:48,963 - INFO - URL https://www.eversports.de/sw/pole-land is valid.\n",
      "2024-02-01 21:56:48,964 - INFO - Processing URL 3/4: https://www.eversports.de/sp/pole-land\n",
      "2024-02-01 21:56:50,223 - INFO - URL https://www.eversports.de/sp/pole-land is valid.\n",
      "2024-02-01 21:56:50,224 - INFO - Processing URL 4/4: https://www.eversports.de/s/pole-land/team\n",
      "2024-02-01 21:56:51,418 - INFO - URL https://www.eversports.de/s/pole-land/team is valid.\n"
     ]
    },
    {
     "name": "stdout",
     "output_type": "stream",
     "text": [
      "Scraping Pole Studio Data from https://www.eversports.de/s/pole-land...\n",
      "Scraping Workshops Data from https://www.eversports.de/sw/pole-land...\n",
      "Scraping Workshop Details from https://www.eversports.de/e/workshop/ezegoNQ...\n",
      "Scraping Workshop Details from https://www.eversports.de/e/workshop/S8noX1Z...\n",
      "Scraping Workshop Details from https://www.eversports.de/e/workshop/SqEYfO3...\n",
      "Scraping Workshop Details from https://www.eversports.de/e/workshop/OGUBUS8...\n",
      "Scraping Workshop Details from https://www.eversports.de/e/workshop/VVXdiD8...\n"
     ]
    },
    {
     "name": "stderr",
     "output_type": "stream",
     "text": [
      "Processing URLs:  48%|████▊     | 198/412 [18:09<32:23,  9.08s/it]"
     ]
    },
    {
     "name": "stdout",
     "output_type": "stream",
     "text": [
      "Processing completed.\n",
      "Pole Studio Data: 1 entries\n",
      "Workshops Data: 5 entries\n",
      "Workshop Details: 5 entries\n",
      "Starting URL reconstruction...\n"
     ]
    },
    {
     "name": "stderr",
     "output_type": "stream",
     "text": [
      "2024-02-01 21:57:02,278 - INFO - Processing URL 1/1: https://www.eversports.de/s/pole-heaven\n"
     ]
    },
    {
     "name": "stdout",
     "output_type": "stream",
     "text": [
      "Converting to DataFrame...\n",
      "Validating URLs...\n"
     ]
    },
    {
     "name": "stderr",
     "output_type": "stream",
     "text": [
      "2024-02-01 21:57:04,078 - INFO - URL https://www.eversports.de/s/pole-heaven is valid.\n"
     ]
    },
    {
     "name": "stdout",
     "output_type": "stream",
     "text": [
      "Scraping Pole Studio Data from https://www.eversports.de/s/pole-heaven...\n"
     ]
    },
    {
     "name": "stderr",
     "output_type": "stream",
     "text": [
      "Processing URLs:  48%|████▊     | 199/412 [18:13<26:46,  7.54s/it]"
     ]
    },
    {
     "name": "stdout",
     "output_type": "stream",
     "text": [
      "Processing completed.\n",
      "Pole Studio Data: 1 entries\n",
      "Starting URL reconstruction...\n"
     ]
    },
    {
     "name": "stderr",
     "output_type": "stream",
     "text": [
      "Processing URLs:  49%|████▊     | 200/412 [18:17<23:08,  6.55s/it]"
     ]
    },
    {
     "name": "stdout",
     "output_type": "stream",
     "text": [
      "Error during HTTP request: Exceeded 30 redirects.\n",
      "Converting to DataFrame...\n",
      "Validating URLs...\n",
      "Processing completed.\n",
      "Starting URL reconstruction...\n"
     ]
    },
    {
     "name": "stderr",
     "output_type": "stream",
     "text": [
      "2024-02-01 21:57:10,223 - INFO - Processing URL 1/4: https://www.eversports.de/s/pole-and-move-ketsch\n"
     ]
    },
    {
     "name": "stdout",
     "output_type": "stream",
     "text": [
      "Converting to DataFrame...\n",
      "Validating URLs...\n"
     ]
    },
    {
     "name": "stderr",
     "output_type": "stream",
     "text": [
      "2024-02-01 21:57:11,617 - INFO - URL https://www.eversports.de/s/pole-and-move-ketsch is valid.\n",
      "2024-02-01 21:57:11,618 - INFO - Processing URL 2/4: https://www.eversports.de/sw/pole-and-move-ketsch\n",
      "2024-02-01 21:57:12,782 - INFO - URL https://www.eversports.de/sw/pole-and-move-ketsch is valid.\n",
      "2024-02-01 21:57:12,783 - INFO - Processing URL 3/4: https://www.eversports.de/sp/pole-and-move-ketsch\n",
      "2024-02-01 21:57:13,911 - INFO - URL https://www.eversports.de/sp/pole-and-move-ketsch is valid.\n",
      "2024-02-01 21:57:13,913 - INFO - Processing URL 4/4: https://www.eversports.de/s/pole-and-move-ketsch/team\n",
      "2024-02-01 21:57:15,194 - INFO - URL https://www.eversports.de/s/pole-and-move-ketsch/team is valid.\n"
     ]
    },
    {
     "name": "stdout",
     "output_type": "stream",
     "text": [
      "Scraping Pole Studio Data from https://www.eversports.de/s/pole-and-move-ketsch...\n",
      "Scraping Workshops Data from https://www.eversports.de/sw/pole-and-move-ketsch...\n",
      "Scraping Workshop Details from https://www.eversports.de/e/workshop/nZwqDWw...\n",
      "Scraping Workshop Details from https://www.eversports.de/e/workshop/NCNYd8p...\n"
     ]
    },
    {
     "name": "stderr",
     "output_type": "stream",
     "text": [
      "Processing URLs:  49%|████▉     | 201/412 [18:28<27:14,  7.74s/it]"
     ]
    },
    {
     "name": "stdout",
     "output_type": "stream",
     "text": [
      "Processing completed.\n",
      "Pole Studio Data: 1 entries\n",
      "Workshops Data: 2 entries\n",
      "Workshop Details: 2 entries\n",
      "Starting URL reconstruction...\n"
     ]
    },
    {
     "name": "stderr",
     "output_type": "stream",
     "text": [
      "2024-02-01 21:57:20,805 - INFO - Processing URL 1/1: https://www.eversports.de/s/pole-dance-palazzo-sportivo\n"
     ]
    },
    {
     "name": "stdout",
     "output_type": "stream",
     "text": [
      "Converting to DataFrame...\n",
      "Validating URLs...\n"
     ]
    },
    {
     "name": "stderr",
     "output_type": "stream",
     "text": [
      "2024-02-01 21:57:22,067 - INFO - URL https://www.eversports.de/s/pole-dance-palazzo-sportivo is valid.\n"
     ]
    },
    {
     "name": "stdout",
     "output_type": "stream",
     "text": [
      "Scraping Pole Studio Data from https://www.eversports.de/s/pole-dance-palazzo-sportivo...\n"
     ]
    },
    {
     "name": "stderr",
     "output_type": "stream",
     "text": [
      "Processing URLs:  49%|████▉     | 202/412 [18:31<22:02,  6.30s/it]"
     ]
    },
    {
     "name": "stdout",
     "output_type": "stream",
     "text": [
      "Processing completed.\n",
      "Pole Studio Data: 1 entries\n",
      "Starting URL reconstruction...\n"
     ]
    },
    {
     "name": "stderr",
     "output_type": "stream",
     "text": [
      "Processing URLs:  49%|████▉     | 203/412 [18:32<16:44,  4.81s/it]"
     ]
    },
    {
     "name": "stdout",
     "output_type": "stream",
     "text": [
      "Error during HTTP request: 404 Client Error: Not Found for url: https://www.eversports.de/s/poledance!-aerial-%26-fitness-flensburg-wees\n",
      "Converting to DataFrame...\n",
      "Validating URLs...\n",
      "Processing completed.\n",
      "Starting URL reconstruction...\n"
     ]
    },
    {
     "name": "stderr",
     "output_type": "stream",
     "text": [
      "2024-02-01 21:57:24,955 - INFO - Processing URL 1/3: https://www.eversports.de/s/pole-loft\n"
     ]
    },
    {
     "name": "stdout",
     "output_type": "stream",
     "text": [
      "Converting to DataFrame...\n",
      "Validating URLs...\n"
     ]
    },
    {
     "name": "stderr",
     "output_type": "stream",
     "text": [
      "2024-02-01 21:57:26,362 - INFO - URL https://www.eversports.de/s/pole-loft is valid.\n",
      "2024-02-01 21:57:26,364 - INFO - Processing URL 2/3: https://www.eversports.de/sp/pole-loft\n",
      "2024-02-01 21:57:27,444 - INFO - URL https://www.eversports.de/sp/pole-loft is valid.\n",
      "2024-02-01 21:57:27,445 - INFO - Processing URL 3/3: https://www.eversports.de/s/pole-loft/team\n",
      "2024-02-01 21:57:28,630 - INFO - URL https://www.eversports.de/s/pole-loft/team is valid.\n"
     ]
    },
    {
     "name": "stdout",
     "output_type": "stream",
     "text": [
      "Scraping Pole Studio Data from https://www.eversports.de/s/pole-loft...\n"
     ]
    },
    {
     "name": "stderr",
     "output_type": "stream",
     "text": [
      "Processing URLs:  50%|████▉     | 204/412 [18:38<17:20,  5.00s/it]"
     ]
    },
    {
     "name": "stdout",
     "output_type": "stream",
     "text": [
      "Processing completed.\n",
      "Pole Studio Data: 1 entries\n",
      "Starting URL reconstruction...\n"
     ]
    },
    {
     "name": "stderr",
     "output_type": "stream",
     "text": [
      "Processing URLs:  50%|████▉     | 205/412 [18:39<13:21,  3.87s/it]"
     ]
    },
    {
     "name": "stdout",
     "output_type": "stream",
     "text": [
      "Error during HTTP request: 404 Client Error: Not Found for url: https://www.eversports.de/s/pole-dance-studio-waiblingen\n",
      "Converting to DataFrame...\n",
      "Validating URLs...\n",
      "Processing completed.\n",
      "Starting URL reconstruction...\n"
     ]
    },
    {
     "name": "stderr",
     "output_type": "stream",
     "text": [
      "2024-02-01 21:57:31,918 - INFO - Processing URL 1/3: https://www.eversports.de/s/stadtgazellen-studio\n"
     ]
    },
    {
     "name": "stdout",
     "output_type": "stream",
     "text": [
      "Error reconstructing URL for 'Kurse': Unrecognized text: 'Kurse'\n",
      "Converting to DataFrame...\n",
      "Validating URLs...\n"
     ]
    },
    {
     "name": "stderr",
     "output_type": "stream",
     "text": [
      "2024-02-01 21:57:36,146 - INFO - URL https://www.eversports.de/s/stadtgazellen-studio is valid.\n",
      "2024-02-01 21:57:36,147 - INFO - Processing URL 2/3: https://www.eversports.de/sp/stadtgazellen-studio\n",
      "2024-02-01 21:57:37,661 - INFO - URL https://www.eversports.de/sp/stadtgazellen-studio is valid.\n",
      "2024-02-01 21:57:37,662 - INFO - Processing URL 3/3: https://www.eversports.de/s/stadtgazellen-studio/team\n",
      "2024-02-01 21:57:38,889 - INFO - URL https://www.eversports.de/s/stadtgazellen-studio/team is valid.\n"
     ]
    },
    {
     "name": "stdout",
     "output_type": "stream",
     "text": [
      "Scraping Pole Studio Data from https://www.eversports.de/s/stadtgazellen-studio...\n"
     ]
    },
    {
     "name": "stderr",
     "output_type": "stream",
     "text": [
      "Processing URLs:  50%|█████     | 206/412 [18:48<18:34,  5.41s/it]"
     ]
    },
    {
     "name": "stdout",
     "output_type": "stream",
     "text": [
      "Processing completed.\n",
      "Pole Studio Data: 1 entries\n",
      "Starting URL reconstruction...\n"
     ]
    },
    {
     "name": "stderr",
     "output_type": "stream",
     "text": [
      "2024-02-01 21:57:40,840 - INFO - Processing URL 1/3: https://www.eversports.de/s/passionate-pole-and-sports\n"
     ]
    },
    {
     "name": "stdout",
     "output_type": "stream",
     "text": [
      "Converting to DataFrame...\n",
      "Validating URLs...\n"
     ]
    },
    {
     "name": "stderr",
     "output_type": "stream",
     "text": [
      "2024-02-01 21:57:42,115 - INFO - URL https://www.eversports.de/s/passionate-pole-and-sports is valid.\n",
      "2024-02-01 21:57:42,116 - INFO - Processing URL 2/3: https://www.eversports.de/sp/passionate-pole-and-sports\n",
      "2024-02-01 21:57:43,207 - INFO - URL https://www.eversports.de/sp/passionate-pole-and-sports is valid.\n",
      "2024-02-01 21:57:43,208 - INFO - Processing URL 3/3: https://www.eversports.de/s/passionate-pole-and-sports/team\n",
      "2024-02-01 21:57:44,459 - INFO - URL https://www.eversports.de/s/passionate-pole-and-sports/team is valid.\n"
     ]
    },
    {
     "name": "stdout",
     "output_type": "stream",
     "text": [
      "Scraping Pole Studio Data from https://www.eversports.de/s/passionate-pole-and-sports...\n"
     ]
    },
    {
     "name": "stderr",
     "output_type": "stream",
     "text": [
      "Processing URLs:  50%|█████     | 207/412 [18:53<18:34,  5.44s/it]"
     ]
    },
    {
     "name": "stdout",
     "output_type": "stream",
     "text": [
      "Processing completed.\n",
      "Pole Studio Data: 1 entries\n",
      "Starting URL reconstruction...\n"
     ]
    },
    {
     "name": "stderr",
     "output_type": "stream",
     "text": [
      "2024-02-01 21:57:46,129 - INFO - Processing URL 1/4: https://www.eversports.de/s/pura-studio\n"
     ]
    },
    {
     "name": "stdout",
     "output_type": "stream",
     "text": [
      "Converting to DataFrame...\n",
      "Validating URLs...\n"
     ]
    },
    {
     "name": "stderr",
     "output_type": "stream",
     "text": [
      "2024-02-01 21:57:47,457 - INFO - URL https://www.eversports.de/s/pura-studio is valid.\n",
      "2024-02-01 21:57:47,458 - INFO - Processing URL 2/4: https://www.eversports.de/sw/pura-studio\n",
      "2024-02-01 21:57:48,600 - INFO - URL https://www.eversports.de/sw/pura-studio is valid.\n",
      "2024-02-01 21:57:48,601 - INFO - Processing URL 3/4: https://www.eversports.de/sp/pura-studio\n",
      "2024-02-01 21:57:49,903 - INFO - URL https://www.eversports.de/sp/pura-studio is valid.\n",
      "2024-02-01 21:57:49,904 - INFO - Processing URL 4/4: https://www.eversports.de/s/pura-studio/team\n",
      "2024-02-01 21:57:51,036 - INFO - URL https://www.eversports.de/s/pura-studio/team is valid.\n"
     ]
    },
    {
     "name": "stdout",
     "output_type": "stream",
     "text": [
      "Scraping Pole Studio Data from https://www.eversports.de/s/pura-studio...\n",
      "Scraping Workshops Data from https://www.eversports.de/sw/pura-studio...\n",
      "Scraping Workshop Details from https://www.eversports.de/e/workshop/Gc0_BuG...\n",
      "Scraping Workshop Details from https://www.eversports.de/e/workshop/BItjT7x...\n",
      "Scraping Workshop Details from https://www.eversports.de/e/workshop/7N6VOLN...\n",
      "Scraping Workshop Details from https://www.eversports.de/e/workshop/fIWcXIY...\n",
      "Scraping Workshop Details from https://www.eversports.de/e/workshop/aaXFGLh...\n"
     ]
    },
    {
     "name": "stderr",
     "output_type": "stream",
     "text": [
      "Processing URLs:  50%|█████     | 208/412 [19:08<27:34,  8.11s/it]"
     ]
    },
    {
     "name": "stdout",
     "output_type": "stream",
     "text": [
      "Processing completed.\n",
      "Pole Studio Data: 1 entries\n",
      "Workshops Data: 5 entries\n",
      "Workshop Details: 5 entries\n",
      "Starting URL reconstruction...\n"
     ]
    },
    {
     "name": "stderr",
     "output_type": "stream",
     "text": [
      "2024-02-01 21:58:00,838 - INFO - Processing URL 1/4: https://www.eversports.de/s/vertical-pole-aerial-dance\n"
     ]
    },
    {
     "name": "stdout",
     "output_type": "stream",
     "text": [
      "Converting to DataFrame...\n",
      "Validating URLs...\n"
     ]
    },
    {
     "name": "stderr",
     "output_type": "stream",
     "text": [
      "2024-02-01 21:58:02,265 - INFO - URL https://www.eversports.de/s/vertical-pole-aerial-dance is valid.\n",
      "2024-02-01 21:58:02,266 - INFO - Processing URL 2/4: https://www.eversports.de/sw/vertical-pole-aerial-dance\n",
      "2024-02-01 21:58:03,488 - INFO - URL https://www.eversports.de/sw/vertical-pole-aerial-dance is valid.\n",
      "2024-02-01 21:58:03,489 - INFO - Processing URL 3/4: https://www.eversports.de/sp/vertical-pole-aerial-dance\n",
      "2024-02-01 21:58:04,729 - INFO - URL https://www.eversports.de/sp/vertical-pole-aerial-dance is valid.\n",
      "2024-02-01 21:58:04,730 - INFO - Processing URL 4/4: https://www.eversports.de/s/vertical-pole-aerial-dance/team\n",
      "2024-02-01 21:58:05,903 - INFO - URL https://www.eversports.de/s/vertical-pole-aerial-dance/team is valid.\n"
     ]
    },
    {
     "name": "stdout",
     "output_type": "stream",
     "text": [
      "Scraping Pole Studio Data from https://www.eversports.de/s/vertical-pole-aerial-dance...\n",
      "Scraping Workshops Data from https://www.eversports.de/sw/vertical-pole-aerial-dance...\n",
      "Scraping Workshop Details from https://www.eversports.de/e/workshop/mylmioi...\n",
      "Scraping Workshop Details from https://www.eversports.de/e/workshop/Yace1e3...\n"
     ]
    },
    {
     "name": "stderr",
     "output_type": "stream",
     "text": [
      "Processing URLs:  51%|█████     | 209/412 [19:19<30:48,  9.11s/it]"
     ]
    },
    {
     "name": "stdout",
     "output_type": "stream",
     "text": [
      "Processing completed.\n",
      "Pole Studio Data: 1 entries\n",
      "Workshops Data: 2 entries\n",
      "Workshop Details: 2 entries\n",
      "Starting URL reconstruction...\n"
     ]
    },
    {
     "name": "stderr",
     "output_type": "stream",
     "text": [
      "Processing URLs:  51%|█████     | 210/412 [19:20<22:34,  6.70s/it]"
     ]
    },
    {
     "name": "stdout",
     "output_type": "stream",
     "text": [
      "Error during HTTP request: 404 Client Error: Not Found for url: https://www.eversports.de/s/metropole-dance---now2\n",
      "Converting to DataFrame...\n",
      "Validating URLs...\n",
      "Processing completed.\n",
      "Starting URL reconstruction...\n"
     ]
    },
    {
     "name": "stderr",
     "output_type": "stream",
     "text": [
      "Processing URLs:  51%|█████     | 211/412 [19:24<19:39,  5.87s/it]"
     ]
    },
    {
     "name": "stdout",
     "output_type": "stream",
     "text": [
      "Error during HTTP request: Exceeded 30 redirects.\n",
      "Converting to DataFrame...\n",
      "Validating URLs...\n",
      "Processing completed.\n",
      "Starting URL reconstruction...\n"
     ]
    },
    {
     "name": "stderr",
     "output_type": "stream",
     "text": [
      "Processing URLs:  51%|█████▏    | 212/412 [19:25<14:50,  4.45s/it]"
     ]
    },
    {
     "name": "stdout",
     "output_type": "stream",
     "text": [
      "Error during HTTP request: 404 Client Error: Not Found for url: https://www.eversports.de/s/mypole\n",
      "Converting to DataFrame...\n",
      "Validating URLs...\n",
      "Processing completed.\n",
      "Starting URL reconstruction...\n"
     ]
    },
    {
     "name": "stderr",
     "output_type": "stream",
     "text": [
      "Processing URLs:  52%|█████▏    | 213/412 [19:31<15:58,  4.82s/it]"
     ]
    },
    {
     "name": "stdout",
     "output_type": "stream",
     "text": [
      "Error during HTTP request: Exceeded 30 redirects.\n",
      "Converting to DataFrame...\n",
      "Validating URLs...\n",
      "Processing completed.\n",
      "Starting URL reconstruction...\n"
     ]
    },
    {
     "name": "stderr",
     "output_type": "stream",
     "text": [
      "2024-02-01 21:58:23,841 - INFO - Processing URL 1/4: https://www.eversports.de/s/glow-sports-club\n"
     ]
    },
    {
     "name": "stdout",
     "output_type": "stream",
     "text": [
      "Error reconstructing URL for 'Trainings': Unrecognized text: 'Trainings'\n",
      "Error reconstructing URL for 'Kurse': Unrecognized text: 'Kurse'\n",
      "Converting to DataFrame...\n",
      "Validating URLs...\n"
     ]
    },
    {
     "name": "stderr",
     "output_type": "stream",
     "text": [
      "2024-02-01 21:58:25,118 - INFO - URL https://www.eversports.de/s/glow-sports-club is valid.\n",
      "2024-02-01 21:58:25,119 - INFO - Processing URL 2/4: https://www.eversports.de/sw/glow-sports-club\n",
      "2024-02-01 21:58:26,257 - INFO - URL https://www.eversports.de/sw/glow-sports-club is valid.\n",
      "2024-02-01 21:58:26,258 - INFO - Processing URL 3/4: https://www.eversports.de/sp/glow-sports-club\n",
      "2024-02-01 21:58:27,475 - INFO - URL https://www.eversports.de/sp/glow-sports-club is valid.\n",
      "2024-02-01 21:58:27,476 - INFO - Processing URL 4/4: https://www.eversports.de/s/glow-sports-club/team\n",
      "2024-02-01 21:58:28,757 - INFO - URL https://www.eversports.de/s/glow-sports-club/team is valid.\n"
     ]
    },
    {
     "name": "stdout",
     "output_type": "stream",
     "text": [
      "Scraping Pole Studio Data from https://www.eversports.de/s/glow-sports-club...\n",
      "Scraping Workshops Data from https://www.eversports.de/sw/glow-sports-club...\n",
      "Scraping Workshop Details from https://www.eversports.de/e/workshop/n1eG1oH...\n"
     ]
    },
    {
     "name": "stderr",
     "output_type": "stream",
     "text": [
      "Processing URLs:  52%|█████▏    | 214/412 [19:41<20:38,  6.26s/it]"
     ]
    },
    {
     "name": "stdout",
     "output_type": "stream",
     "text": [
      "Processing completed.\n",
      "Pole Studio Data: 1 entries\n",
      "Workshops Data: 1 entries\n",
      "Workshop Details: 1 entries\n",
      "Starting URL reconstruction...\n"
     ]
    },
    {
     "name": "stderr",
     "output_type": "stream",
     "text": [
      "2024-02-01 21:58:33,412 - INFO - Processing URL 1/4: https://www.eversports.de/s/pole-and-move-ludwigshafen\n"
     ]
    },
    {
     "name": "stdout",
     "output_type": "stream",
     "text": [
      "Converting to DataFrame...\n",
      "Validating URLs...\n"
     ]
    },
    {
     "name": "stderr",
     "output_type": "stream",
     "text": [
      "2024-02-01 21:58:34,756 - INFO - URL https://www.eversports.de/s/pole-and-move-ludwigshafen is valid.\n",
      "2024-02-01 21:58:34,757 - INFO - Processing URL 2/4: https://www.eversports.de/sw/pole-and-move-ludwigshafen\n",
      "2024-02-01 21:58:36,378 - INFO - URL https://www.eversports.de/sw/pole-and-move-ludwigshafen is valid.\n",
      "2024-02-01 21:58:36,379 - INFO - Processing URL 3/4: https://www.eversports.de/sp/pole-and-move-ludwigshafen\n",
      "2024-02-01 21:58:37,513 - INFO - URL https://www.eversports.de/sp/pole-and-move-ludwigshafen is valid.\n",
      "2024-02-01 21:58:37,515 - INFO - Processing URL 4/4: https://www.eversports.de/s/pole-and-move-ludwigshafen/team\n",
      "2024-02-01 21:58:38,772 - INFO - URL https://www.eversports.de/s/pole-and-move-ludwigshafen/team is valid.\n"
     ]
    },
    {
     "name": "stdout",
     "output_type": "stream",
     "text": [
      "Scraping Pole Studio Data from https://www.eversports.de/s/pole-and-move-ludwigshafen...\n",
      "Scraping Workshops Data from https://www.eversports.de/sw/pole-and-move-ludwigshafen...\n",
      "Scraping Workshop Details from https://www.eversports.de/e/workshop/aldL57L...\n",
      "Scraping Workshop Details from https://www.eversports.de/e/workshop/hz_ZPLE...\n",
      "Scraping Workshop Details from https://www.eversports.de/e/workshop/M1wKpZR...\n",
      "Scraping Workshop Details from https://www.eversports.de/e/workshop/xAIHC25...\n",
      "Scraping Workshop Details from https://www.eversports.de/e/workshop/QSBryP0...\n",
      "Scraping Workshop Details from https://www.eversports.de/e/workshop/VBYd7ZF...\n",
      "Scraping Workshop Details from https://www.eversports.de/e/workshop/zTbGfLi...\n",
      "Scraping Workshop Details from https://www.eversports.de/e/workshop/fUoSQuY...\n"
     ]
    },
    {
     "name": "stderr",
     "output_type": "stream",
     "text": [
      "Processing URLs:  52%|█████▏    | 215/412 [20:01<34:22, 10.47s/it]"
     ]
    },
    {
     "name": "stdout",
     "output_type": "stream",
     "text": [
      "Processing completed.\n",
      "Pole Studio Data: 1 entries\n",
      "Workshops Data: 8 entries\n",
      "Workshop Details: 8 entries\n",
      "Starting URL reconstruction...\n"
     ]
    },
    {
     "name": "stderr",
     "output_type": "stream",
     "text": [
      "Processing URLs:  52%|█████▏    | 216/412 [20:02<25:02,  7.67s/it]"
     ]
    },
    {
     "name": "stdout",
     "output_type": "stream",
     "text": [
      "Error during HTTP request: 404 Client Error: Not Found for url: https://www.eversports.de/s/pole-dance-%26-fitness\n",
      "Converting to DataFrame...\n",
      "Validating URLs...\n",
      "Processing completed.\n",
      "Starting URL reconstruction...\n"
     ]
    },
    {
     "name": "stderr",
     "output_type": "stream",
     "text": [
      "2024-02-01 21:58:54,914 - INFO - Processing URL 1/1: https://www.eversports.de/s/poleworkx\n"
     ]
    },
    {
     "name": "stdout",
     "output_type": "stream",
     "text": [
      "Converting to DataFrame...\n",
      "Validating URLs...\n"
     ]
    },
    {
     "name": "stderr",
     "output_type": "stream",
     "text": [
      "2024-02-01 21:58:56,178 - INFO - URL https://www.eversports.de/s/poleworkx is valid.\n"
     ]
    },
    {
     "name": "stdout",
     "output_type": "stream",
     "text": [
      "Scraping Pole Studio Data from https://www.eversports.de/s/poleworkx...\n"
     ]
    },
    {
     "name": "stderr",
     "output_type": "stream",
     "text": [
      "Processing URLs:  53%|█████▎    | 217/412 [20:05<20:19,  6.25s/it]"
     ]
    },
    {
     "name": "stdout",
     "output_type": "stream",
     "text": [
      "Processing completed.\n",
      "Pole Studio Data: 1 entries\n",
      "Starting URL reconstruction...\n"
     ]
    },
    {
     "name": "stderr",
     "output_type": "stream",
     "text": [
      "Processing URLs:  53%|█████▎    | 218/412 [20:06<15:16,  4.72s/it]"
     ]
    },
    {
     "name": "stdout",
     "output_type": "stream",
     "text": [
      "Error during HTTP request: 404 Client Error: Not Found for url: https://www.eversports.de/s/open-aerial-dance-wiesbaden\n",
      "Converting to DataFrame...\n",
      "Validating URLs...\n",
      "Processing completed.\n",
      "Starting URL reconstruction...\n"
     ]
    },
    {
     "name": "stderr",
     "output_type": "stream",
     "text": [
      "Processing URLs:  53%|█████▎    | 219/412 [20:07<11:42,  3.64s/it]"
     ]
    },
    {
     "name": "stdout",
     "output_type": "stream",
     "text": [
      "Error during HTTP request: 404 Client Error: Not Found for url: https://www.eversports.de/s/pole-%40-bremerhaven\n",
      "Converting to DataFrame...\n",
      "Validating URLs...\n",
      "Processing completed.\n",
      "Starting URL reconstruction...\n"
     ]
    },
    {
     "name": "stderr",
     "output_type": "stream",
     "text": [
      "Processing URLs:  53%|█████▎    | 220/412 [20:08<09:11,  2.87s/it]"
     ]
    },
    {
     "name": "stdout",
     "output_type": "stream",
     "text": [
      "Error during HTTP request: 404 Client Error: Not Found for url: https://www.eversports.de/s/tanzteufel-denzlingen\n",
      "Converting to DataFrame...\n",
      "Validating URLs...\n",
      "Processing completed.\n",
      "Starting URL reconstruction...\n"
     ]
    },
    {
     "name": "stderr",
     "output_type": "stream",
     "text": [
      "Processing URLs:  54%|█████▎    | 221/412 [20:09<07:27,  2.34s/it]"
     ]
    },
    {
     "name": "stdout",
     "output_type": "stream",
     "text": [
      "Error during HTTP request: 404 Client Error: Not Found for url: https://www.eversports.de/s/pole-emotion-bremerhaven\n",
      "Converting to DataFrame...\n",
      "Validating URLs...\n",
      "Processing completed.\n",
      "Starting URL reconstruction...\n"
     ]
    },
    {
     "name": "stderr",
     "output_type": "stream",
     "text": [
      "Processing URLs:  54%|█████▍    | 222/412 [20:11<06:15,  1.98s/it]"
     ]
    },
    {
     "name": "stdout",
     "output_type": "stream",
     "text": [
      "Error during HTTP request: 404 Client Error: Not Found for url: https://www.eversports.de/s/pole.physio-eppelheim\n",
      "Converting to DataFrame...\n",
      "Validating URLs...\n",
      "Processing completed.\n",
      "Starting URL reconstruction...\n"
     ]
    },
    {
     "name": "stderr",
     "output_type": "stream",
     "text": [
      "Processing URLs:  54%|█████▍    | 223/412 [20:12<05:23,  1.71s/it]"
     ]
    },
    {
     "name": "stdout",
     "output_type": "stream",
     "text": [
      "Error during HTTP request: 404 Client Error: Not Found for url: https://www.eversports.de/s/tanzschule-step-up\n",
      "Converting to DataFrame...\n",
      "Validating URLs...\n",
      "Processing completed.\n",
      "Starting URL reconstruction...\n"
     ]
    },
    {
     "name": "stderr",
     "output_type": "stream",
     "text": [
      "Processing URLs:  54%|█████▍    | 224/412 [20:13<04:54,  1.57s/it]"
     ]
    },
    {
     "name": "stdout",
     "output_type": "stream",
     "text": [
      "Error during HTTP request: 404 Client Error: Not Found for url: https://www.eversports.de/s/pole-faction-pole-dance-and-fitness\n",
      "Converting to DataFrame...\n",
      "Validating URLs...\n",
      "Processing completed.\n",
      "Starting URL reconstruction...\n"
     ]
    },
    {
     "name": "stderr",
     "output_type": "stream",
     "text": [
      "Processing URLs:  55%|█████▍    | 225/412 [20:14<04:28,  1.44s/it]"
     ]
    },
    {
     "name": "stdout",
     "output_type": "stream",
     "text": [
      "Error during HTTP request: 404 Client Error: Not Found for url: https://www.eversports.de/s/dancexotic\n",
      "Converting to DataFrame...\n",
      "Validating URLs...\n",
      "Processing completed.\n",
      "Starting URL reconstruction...\n"
     ]
    },
    {
     "name": "stderr",
     "output_type": "stream",
     "text": [
      "Processing URLs:  55%|█████▍    | 226/412 [20:15<04:12,  1.36s/it]"
     ]
    },
    {
     "name": "stdout",
     "output_type": "stream",
     "text": [
      "Error during HTTP request: 404 Client Error: Not Found for url: https://www.eversports.de/s/vertical-kay-poledance-%26-aerialarts-education\n",
      "Converting to DataFrame...\n",
      "Validating URLs...\n",
      "Processing completed.\n",
      "Starting URL reconstruction...\n"
     ]
    },
    {
     "name": "stderr",
     "output_type": "stream",
     "text": [
      "Processing URLs:  55%|█████▌    | 227/412 [20:16<04:04,  1.32s/it]"
     ]
    },
    {
     "name": "stdout",
     "output_type": "stream",
     "text": [
      "Error during HTTP request: 404 Client Error: Not Found for url: https://www.eversports.de/s/polestudio-neuss\n",
      "Converting to DataFrame...\n",
      "Validating URLs...\n",
      "Processing completed.\n",
      "Starting URL reconstruction...\n"
     ]
    },
    {
     "name": "stderr",
     "output_type": "stream",
     "text": [
      "Processing URLs:  55%|█████▌    | 228/412 [20:18<03:55,  1.28s/it]"
     ]
    },
    {
     "name": "stdout",
     "output_type": "stream",
     "text": [
      "Error during HTTP request: 404 Client Error: Not Found for url: https://www.eversports.de/s/aerial-art-poledance-country-base\n",
      "Converting to DataFrame...\n",
      "Validating URLs...\n",
      "Processing completed.\n",
      "Starting URL reconstruction...\n"
     ]
    },
    {
     "name": "stderr",
     "output_type": "stream",
     "text": [
      "2024-02-01 21:59:10,811 - INFO - Processing URL 1/1: https://www.eversports.de/s/pole-circus\n"
     ]
    },
    {
     "name": "stdout",
     "output_type": "stream",
     "text": [
      "Converting to DataFrame...\n",
      "Validating URLs...\n"
     ]
    },
    {
     "name": "stderr",
     "output_type": "stream",
     "text": [
      "2024-02-01 21:59:12,025 - INFO - URL https://www.eversports.de/s/pole-circus is valid.\n"
     ]
    },
    {
     "name": "stdout",
     "output_type": "stream",
     "text": [
      "Scraping Pole Studio Data from https://www.eversports.de/s/pole-circus...\n"
     ]
    },
    {
     "name": "stderr",
     "output_type": "stream",
     "text": [
      "Processing URLs:  56%|█████▌    | 229/412 [20:21<05:38,  1.85s/it]"
     ]
    },
    {
     "name": "stdout",
     "output_type": "stream",
     "text": [
      "Processing completed.\n",
      "Pole Studio Data: 1 entries\n",
      "Starting URL reconstruction...\n"
     ]
    },
    {
     "name": "stderr",
     "output_type": "stream",
     "text": [
      "Processing URLs:  56%|█████▌    | 230/412 [20:22<04:55,  1.62s/it]"
     ]
    },
    {
     "name": "stdout",
     "output_type": "stream",
     "text": [
      "Error during HTTP request: 404 Client Error: Not Found for url: https://www.eversports.de/s/poledancestar-leipzig\n",
      "Converting to DataFrame...\n",
      "Validating URLs...\n",
      "Processing completed.\n",
      "Starting URL reconstruction...\n"
     ]
    },
    {
     "name": "stderr",
     "output_type": "stream",
     "text": [
      "Processing URLs:  56%|█████▌    | 231/412 [20:23<04:26,  1.47s/it]"
     ]
    },
    {
     "name": "stdout",
     "output_type": "stream",
     "text": [
      "Error during HTTP request: 404 Client Error: Not Found for url: https://www.eversports.de/s/papillon-pole-dance-studio\n",
      "Converting to DataFrame...\n",
      "Validating URLs...\n",
      "Processing completed.\n",
      "Starting URL reconstruction...\n"
     ]
    },
    {
     "name": "stderr",
     "output_type": "stream",
     "text": [
      "Processing URLs:  56%|█████▋    | 232/412 [20:24<04:06,  1.37s/it]"
     ]
    },
    {
     "name": "stdout",
     "output_type": "stream",
     "text": [
      "Error during HTTP request: 404 Client Error: Not Found for url: https://www.eversports.de/s/lea-aqua\n",
      "Converting to DataFrame...\n",
      "Validating URLs...\n",
      "Processing completed.\n",
      "Starting URL reconstruction...\n"
     ]
    },
    {
     "name": "stderr",
     "output_type": "stream",
     "text": [
      "Processing URLs:  57%|█████▋    | 233/412 [20:25<03:52,  1.30s/it]"
     ]
    },
    {
     "name": "stdout",
     "output_type": "stream",
     "text": [
      "Error during HTTP request: 404 Client Error: Not Found for url: https://www.eversports.de/s/aerial-%26-vertikal-floor-of-art\n",
      "Converting to DataFrame...\n",
      "Validating URLs...\n",
      "Processing completed.\n",
      "Starting URL reconstruction...\n"
     ]
    },
    {
     "name": "stderr",
     "output_type": "stream",
     "text": [
      "2024-02-01 21:59:18,010 - INFO - Processing URL 1/1: https://www.eversports.de/s/aerial-sportstudio\n"
     ]
    },
    {
     "name": "stdout",
     "output_type": "stream",
     "text": [
      "Converting to DataFrame...\n",
      "Validating URLs...\n"
     ]
    },
    {
     "name": "stderr",
     "output_type": "stream",
     "text": [
      "2024-02-01 21:59:19,272 - INFO - URL https://www.eversports.de/s/aerial-sportstudio is valid.\n"
     ]
    },
    {
     "name": "stdout",
     "output_type": "stream",
     "text": [
      "Scraping Pole Studio Data from https://www.eversports.de/s/aerial-sportstudio...\n"
     ]
    },
    {
     "name": "stderr",
     "output_type": "stream",
     "text": [
      "Processing URLs:  57%|█████▋    | 234/412 [20:29<06:08,  2.07s/it]"
     ]
    },
    {
     "name": "stdout",
     "output_type": "stream",
     "text": [
      "Processing completed.\n",
      "Pole Studio Data: 1 entries\n",
      "Starting URL reconstruction...\n"
     ]
    },
    {
     "name": "stderr",
     "output_type": "stream",
     "text": [
      "Processing URLs:  57%|█████▋    | 235/412 [20:30<05:19,  1.80s/it]"
     ]
    },
    {
     "name": "stdout",
     "output_type": "stream",
     "text": [
      "Error during HTTP request: 404 Client Error: Not Found for url: https://www.eversports.de/s/poledance!-aerial-%26-fitness-schleswig\n",
      "Converting to DataFrame...\n",
      "Validating URLs...\n",
      "Processing completed.\n",
      "Starting URL reconstruction...\n"
     ]
    },
    {
     "name": "stderr",
     "output_type": "stream",
     "text": [
      "Processing URLs:  57%|█████▋    | 236/412 [20:32<04:43,  1.61s/it]"
     ]
    },
    {
     "name": "stdout",
     "output_type": "stream",
     "text": [
      "Error during HTTP request: 404 Client Error: Not Found for url: https://www.eversports.de/s/polefitness-tituba-m%C3%B6nchengladbach!\n",
      "Converting to DataFrame...\n",
      "Validating URLs...\n",
      "Processing completed.\n",
      "Starting URL reconstruction...\n"
     ]
    },
    {
     "name": "stderr",
     "output_type": "stream",
     "text": [
      "Processing URLs:  58%|█████▊    | 237/412 [20:36<07:04,  2.42s/it]"
     ]
    },
    {
     "name": "stdout",
     "output_type": "stream",
     "text": [
      "Error during HTTP request: Exceeded 30 redirects.\n",
      "Converting to DataFrame...\n",
      "Validating URLs...\n",
      "Processing completed.\n",
      "Starting URL reconstruction...\n"
     ]
    },
    {
     "name": "stderr",
     "output_type": "stream",
     "text": [
      "Processing URLs:  58%|█████▊    | 238/412 [20:37<05:56,  2.05s/it]"
     ]
    },
    {
     "name": "stdout",
     "output_type": "stream",
     "text": [
      "Error during HTTP request: 404 Client Error: Not Found for url: https://www.eversports.de/s/lustforlife.studio\n",
      "Converting to DataFrame...\n",
      "Validating URLs...\n",
      "Processing completed.\n",
      "Starting URL reconstruction...\n"
     ]
    },
    {
     "name": "stderr",
     "output_type": "stream",
     "text": [
      "Processing URLs:  58%|█████▊    | 239/412 [20:38<05:03,  1.76s/it]"
     ]
    },
    {
     "name": "stdout",
     "output_type": "stream",
     "text": [
      "Error during HTTP request: 404 Client Error: Not Found for url: https://www.eversports.de/s/mmc-dance-&-event-studio\n",
      "Converting to DataFrame...\n",
      "Validating URLs...\n",
      "Processing completed.\n",
      "Starting URL reconstruction...\n"
     ]
    },
    {
     "name": "stderr",
     "output_type": "stream",
     "text": [
      "Processing URLs:  58%|█████▊    | 240/412 [20:39<04:34,  1.59s/it]"
     ]
    },
    {
     "name": "stdout",
     "output_type": "stream",
     "text": [
      "Error during HTTP request: 404 Client Error: Not Found for url: https://www.eversports.de/s/nordpole-studio\n",
      "Converting to DataFrame...\n",
      "Validating URLs...\n",
      "Processing completed.\n",
      "Starting URL reconstruction...\n"
     ]
    },
    {
     "name": "stderr",
     "output_type": "stream",
     "text": [
      "2024-02-01 21:59:32,200 - INFO - Processing URL 1/4: https://www.eversports.de/s/dayuma-pole-and-acrobatics\n"
     ]
    },
    {
     "name": "stdout",
     "output_type": "stream",
     "text": [
      "Converting to DataFrame...\n",
      "Validating URLs...\n"
     ]
    },
    {
     "name": "stderr",
     "output_type": "stream",
     "text": [
      "2024-02-01 21:59:33,514 - INFO - URL https://www.eversports.de/s/dayuma-pole-and-acrobatics is valid.\n",
      "2024-02-01 21:59:33,515 - INFO - Processing URL 2/4: https://www.eversports.de/sw/dayuma-pole-and-acrobatics\n",
      "2024-02-01 21:59:34,789 - INFO - URL https://www.eversports.de/sw/dayuma-pole-and-acrobatics is not valid.\n",
      "2024-02-01 21:59:34,790 - INFO - Processing URL 3/4: https://www.eversports.de/sp/dayuma-pole-and-acrobatics\n",
      "2024-02-01 21:59:35,977 - INFO - URL https://www.eversports.de/sp/dayuma-pole-and-acrobatics is not valid.\n",
      "2024-02-01 21:59:35,978 - INFO - Processing URL 4/4: https://www.eversports.de/s/dayuma-pole-and-acrobatics/team\n",
      "2024-02-01 21:59:37,158 - INFO - URL https://www.eversports.de/s/dayuma-pole-and-acrobatics/team is valid.\n",
      "Processing URLs:  58%|█████▊    | 241/412 [20:46<08:43,  3.06s/it]"
     ]
    },
    {
     "name": "stdout",
     "output_type": "stream",
     "text": [
      "Scraping Pole Studio Data from https://www.eversports.de/s/dayuma-pole-and-acrobatics...\n",
      "Error retrieving the webpage: 502 Server Error: Bad Gateway for url: https://www.eversports.de/s/dayuma-pole-and-acrobatics\n",
      "Processing completed.\n",
      "Starting URL reconstruction...\n"
     ]
    },
    {
     "name": "stderr",
     "output_type": "stream",
     "text": [
      "Processing URLs:  59%|█████▊    | 242/412 [20:50<09:18,  3.29s/it]"
     ]
    },
    {
     "name": "stdout",
     "output_type": "stream",
     "text": [
      "Error during HTTP request: 404 Client Error: Not Found for url: https://www.eversports.de/s/dalibravita\n",
      "Converting to DataFrame...\n",
      "Validating URLs...\n",
      "Processing completed.\n",
      "Starting URL reconstruction...\n"
     ]
    },
    {
     "name": "stderr",
     "output_type": "stream",
     "text": [
      "2024-02-01 21:59:42,757 - INFO - Processing URL 1/3: https://www.eversports.de/s/sportheim-abensberg\n"
     ]
    },
    {
     "name": "stdout",
     "output_type": "stream",
     "text": [
      "Converting to DataFrame...\n",
      "Validating URLs...\n"
     ]
    },
    {
     "name": "stderr",
     "output_type": "stream",
     "text": [
      "2024-02-01 21:59:44,976 - INFO - URL https://www.eversports.de/s/sportheim-abensberg is valid.\n",
      "2024-02-01 21:59:44,977 - INFO - Processing URL 2/3: https://www.eversports.de/sp/sportheim-abensberg\n",
      "2024-02-01 21:59:46,191 - INFO - URL https://www.eversports.de/sp/sportheim-abensberg is valid.\n",
      "2024-02-01 21:59:46,192 - INFO - Processing URL 3/3: https://www.eversports.de/s/sportheim-abensberg/team\n",
      "2024-02-01 21:59:47,950 - INFO - URL https://www.eversports.de/s/sportheim-abensberg/team is valid.\n"
     ]
    },
    {
     "name": "stdout",
     "output_type": "stream",
     "text": [
      "Scraping Pole Studio Data from https://www.eversports.de/s/sportheim-abensberg...\n"
     ]
    },
    {
     "name": "stderr",
     "output_type": "stream",
     "text": [
      "Processing URLs:  59%|█████▉    | 243/412 [20:57<12:38,  4.49s/it]"
     ]
    },
    {
     "name": "stdout",
     "output_type": "stream",
     "text": [
      "Processing completed.\n",
      "Pole Studio Data: 1 entries\n",
      "Starting URL reconstruction...\n"
     ]
    },
    {
     "name": "stderr",
     "output_type": "stream",
     "text": [
      "Processing URLs:  59%|█████▉    | 244/412 [21:01<11:52,  4.24s/it]"
     ]
    },
    {
     "name": "stdout",
     "output_type": "stream",
     "text": [
      "Error during HTTP request: Exceeded 30 redirects.\n",
      "Converting to DataFrame...\n",
      "Validating URLs...\n",
      "Processing completed.\n",
      "Starting URL reconstruction...\n"
     ]
    },
    {
     "name": "stderr",
     "output_type": "stream",
     "text": [
      "Processing URLs:  59%|█████▉    | 245/412 [21:02<09:14,  3.32s/it]"
     ]
    },
    {
     "name": "stdout",
     "output_type": "stream",
     "text": [
      "Error during HTTP request: 404 Client Error: Not Found for url: https://www.eversports.de/s/aerial-art-poledance-city-base\n",
      "Converting to DataFrame...\n",
      "Validating URLs...\n",
      "Processing completed.\n",
      "Starting URL reconstruction...\n"
     ]
    },
    {
     "name": "stderr",
     "output_type": "stream",
     "text": [
      "Processing URLs:  60%|█████▉    | 246/412 [21:03<07:23,  2.67s/it]"
     ]
    },
    {
     "name": "stdout",
     "output_type": "stream",
     "text": [
      "Error during HTTP request: 404 Client Error: Not Found for url: https://www.eversports.de/s/dance-&-pole-deltawerk\n",
      "Converting to DataFrame...\n",
      "Validating URLs...\n",
      "Processing completed.\n",
      "Starting URL reconstruction...\n"
     ]
    },
    {
     "name": "stderr",
     "output_type": "stream",
     "text": [
      "2024-02-01 21:59:55,823 - INFO - Processing URL 1/1: https://www.eversports.de/s/x-step-berlin\n"
     ]
    },
    {
     "name": "stdout",
     "output_type": "stream",
     "text": [
      "Converting to DataFrame...\n",
      "Validating URLs...\n"
     ]
    },
    {
     "name": "stderr",
     "output_type": "stream",
     "text": [
      "2024-02-01 21:59:57,683 - INFO - URL https://www.eversports.de/s/x-step-berlin is valid.\n"
     ]
    },
    {
     "name": "stdout",
     "output_type": "stream",
     "text": [
      "Scraping Pole Studio Data from https://www.eversports.de/s/x-step-berlin...\n"
     ]
    },
    {
     "name": "stderr",
     "output_type": "stream",
     "text": [
      "Processing URLs:  60%|█████▉    | 247/412 [21:07<08:12,  2.98s/it]"
     ]
    },
    {
     "name": "stdout",
     "output_type": "stream",
     "text": [
      "Processing completed.\n",
      "Pole Studio Data: 1 entries\n",
      "Starting URL reconstruction...\n"
     ]
    },
    {
     "name": "stderr",
     "output_type": "stream",
     "text": [
      "2024-02-01 21:59:59,694 - INFO - Processing URL 1/1: https://www.eversports.de/s/sweatndance\n"
     ]
    },
    {
     "name": "stdout",
     "output_type": "stream",
     "text": [
      "Converting to DataFrame...\n",
      "Validating URLs...\n"
     ]
    },
    {
     "name": "stderr",
     "output_type": "stream",
     "text": [
      "2024-02-01 22:00:00,975 - INFO - URL https://www.eversports.de/s/sweatndance is valid.\n"
     ]
    },
    {
     "name": "stdout",
     "output_type": "stream",
     "text": [
      "Scraping Pole Studio Data from https://www.eversports.de/s/sweatndance...\n"
     ]
    },
    {
     "name": "stderr",
     "output_type": "stream",
     "text": [
      "Processing URLs:  60%|██████    | 248/412 [21:10<08:19,  3.04s/it]"
     ]
    },
    {
     "name": "stdout",
     "output_type": "stream",
     "text": [
      "Processing completed.\n",
      "Pole Studio Data: 1 entries\n",
      "Starting URL reconstruction...\n"
     ]
    },
    {
     "name": "stderr",
     "output_type": "stream",
     "text": [
      "Processing URLs:  60%|██████    | 249/412 [21:14<09:08,  3.36s/it]"
     ]
    },
    {
     "name": "stdout",
     "output_type": "stream",
     "text": [
      "Error during HTTP request: Exceeded 30 redirects.\n",
      "Converting to DataFrame...\n",
      "Validating URLs...\n",
      "Processing completed.\n",
      "Starting URL reconstruction...\n"
     ]
    },
    {
     "name": "stderr",
     "output_type": "stream",
     "text": [
      "2024-02-01 22:00:07,278 - INFO - Processing URL 1/3: https://www.eversports.de/s/health-and-shape-muenchen\n"
     ]
    },
    {
     "name": "stdout",
     "output_type": "stream",
     "text": [
      "Converting to DataFrame...\n",
      "Validating URLs...\n"
     ]
    },
    {
     "name": "stderr",
     "output_type": "stream",
     "text": [
      "2024-02-01 22:00:08,656 - INFO - URL https://www.eversports.de/s/health-and-shape-muenchen is valid.\n",
      "2024-02-01 22:00:08,657 - INFO - Processing URL 2/3: https://www.eversports.de/sp/health-and-shape-muenchen\n",
      "2024-02-01 22:00:09,900 - INFO - URL https://www.eversports.de/sp/health-and-shape-muenchen is valid.\n",
      "2024-02-01 22:00:09,901 - INFO - Processing URL 3/3: https://www.eversports.de/s/health-and-shape-muenchen/team\n",
      "2024-02-01 22:00:11,200 - INFO - URL https://www.eversports.de/s/health-and-shape-muenchen/team is valid.\n"
     ]
    },
    {
     "name": "stdout",
     "output_type": "stream",
     "text": [
      "Scraping Pole Studio Data from https://www.eversports.de/s/health-and-shape-muenchen...\n"
     ]
    },
    {
     "name": "stderr",
     "output_type": "stream",
     "text": [
      "Processing URLs:  61%|██████    | 250/412 [21:20<11:33,  4.28s/it]"
     ]
    },
    {
     "name": "stdout",
     "output_type": "stream",
     "text": [
      "Processing completed.\n",
      "Pole Studio Data: 1 entries\n",
      "Starting URL reconstruction...\n"
     ]
    },
    {
     "name": "stderr",
     "output_type": "stream",
     "text": [
      "Processing URLs:  61%|██████    | 251/412 [21:25<11:26,  4.27s/it]"
     ]
    },
    {
     "name": "stdout",
     "output_type": "stream",
     "text": [
      "Error during HTTP request: Exceeded 30 redirects.\n",
      "Converting to DataFrame...\n",
      "Validating URLs...\n",
      "Processing completed.\n",
      "Starting URL reconstruction...\n"
     ]
    },
    {
     "name": "stderr",
     "output_type": "stream",
     "text": [
      "Processing URLs:  61%|██████    | 252/412 [21:29<11:09,  4.18s/it]"
     ]
    },
    {
     "name": "stdout",
     "output_type": "stream",
     "text": [
      "Error during HTTP request: Exceeded 30 redirects.\n",
      "Converting to DataFrame...\n",
      "Validating URLs...\n",
      "Processing completed.\n",
      "Starting URL reconstruction...\n"
     ]
    },
    {
     "name": "stderr",
     "output_type": "stream",
     "text": [
      "Processing URLs:  61%|██████▏   | 253/412 [21:30<08:47,  3.32s/it]"
     ]
    },
    {
     "name": "stdout",
     "output_type": "stream",
     "text": [
      "Error during HTTP request: 404 Client Error: Not Found for url: https://www.eversports.de/s/polea---pole-and-aerial-dance\n",
      "Converting to DataFrame...\n",
      "Validating URLs...\n",
      "Processing completed.\n",
      "Starting URL reconstruction...\n"
     ]
    },
    {
     "name": "stderr",
     "output_type": "stream",
     "text": [
      "Processing URLs:  62%|██████▏   | 254/412 [21:36<10:51,  4.12s/it]"
     ]
    },
    {
     "name": "stdout",
     "output_type": "stream",
     "text": [
      "Error during HTTP request: Exceeded 30 redirects.\n",
      "Converting to DataFrame...\n",
      "Validating URLs...\n",
      "Processing completed.\n",
      "Starting URL reconstruction...\n"
     ]
    },
    {
     "name": "stderr",
     "output_type": "stream",
     "text": [
      "Processing URLs:  62%|██████▏   | 255/412 [21:37<08:27,  3.23s/it]"
     ]
    },
    {
     "name": "stdout",
     "output_type": "stream",
     "text": [
      "Error during HTTP request: 404 Client Error: Not Found for url: https://www.eversports.de/s/poledance-leipzig\n",
      "Converting to DataFrame...\n",
      "Validating URLs...\n",
      "Processing completed.\n",
      "Starting URL reconstruction...\n"
     ]
    },
    {
     "name": "stderr",
     "output_type": "stream",
     "text": [
      "Processing URLs:  62%|██████▏   | 256/412 [21:41<09:12,  3.54s/it]"
     ]
    },
    {
     "name": "stdout",
     "output_type": "stream",
     "text": [
      "Error during HTTP request: Exceeded 30 redirects.\n",
      "Converting to DataFrame...\n",
      "Validating URLs...\n",
      "Processing completed.\n",
      "Starting URL reconstruction...\n"
     ]
    },
    {
     "name": "stderr",
     "output_type": "stream",
     "text": [
      "Processing URLs:  62%|██████▏   | 257/412 [21:42<07:20,  2.84s/it]"
     ]
    },
    {
     "name": "stdout",
     "output_type": "stream",
     "text": [
      "Error during HTTP request: 404 Client Error: Not Found for url: https://www.eversports.de/s/poledance-zwickau-e.-v.\n",
      "Converting to DataFrame...\n",
      "Validating URLs...\n",
      "Processing completed.\n",
      "Starting URL reconstruction...\n"
     ]
    },
    {
     "name": "stderr",
     "output_type": "stream",
     "text": [
      "2024-02-01 22:00:35,333 - INFO - Processing URL 1/3: https://www.eversports.de/s/janine-hollung\n"
     ]
    },
    {
     "name": "stdout",
     "output_type": "stream",
     "text": [
      "Converting to DataFrame...\n",
      "Validating URLs...\n"
     ]
    },
    {
     "name": "stderr",
     "output_type": "stream",
     "text": [
      "2024-02-01 22:00:36,779 - INFO - URL https://www.eversports.de/s/janine-hollung is valid.\n",
      "2024-02-01 22:00:36,781 - INFO - Processing URL 2/3: https://www.eversports.de/sp/janine-hollung\n",
      "2024-02-01 22:00:37,853 - INFO - URL https://www.eversports.de/sp/janine-hollung is valid.\n",
      "2024-02-01 22:00:37,854 - INFO - Processing URL 3/3: https://www.eversports.de/s/janine-hollung/team\n",
      "2024-02-01 22:00:38,981 - INFO - URL https://www.eversports.de/s/janine-hollung/team is valid.\n"
     ]
    },
    {
     "name": "stdout",
     "output_type": "stream",
     "text": [
      "Scraping Pole Studio Data from https://www.eversports.de/s/janine-hollung...\n"
     ]
    },
    {
     "name": "stderr",
     "output_type": "stream",
     "text": [
      "Processing URLs:  63%|██████▎   | 258/412 [21:48<09:16,  3.61s/it]"
     ]
    },
    {
     "name": "stdout",
     "output_type": "stream",
     "text": [
      "Processing completed.\n",
      "Pole Studio Data: 1 entries\n",
      "Starting URL reconstruction...\n"
     ]
    },
    {
     "name": "stderr",
     "output_type": "stream",
     "text": [
      "Processing URLs:  63%|██████▎   | 259/412 [21:49<07:17,  2.86s/it]"
     ]
    },
    {
     "name": "stdout",
     "output_type": "stream",
     "text": [
      "Error during HTTP request: 404 Client Error: Not Found for url: https://www.eversports.de/s/unique-studios-schweinfurt\n",
      "Converting to DataFrame...\n",
      "Validating URLs...\n",
      "Processing completed.\n",
      "Starting URL reconstruction...\n"
     ]
    },
    {
     "name": "stderr",
     "output_type": "stream",
     "text": [
      "Processing URLs:  63%|██████▎   | 260/412 [21:50<05:54,  2.34s/it]"
     ]
    },
    {
     "name": "stdout",
     "output_type": "stream",
     "text": [
      "Error during HTTP request: 404 Client Error: Not Found for url: https://www.eversports.de/s/vertical-kay-poledance-%26-aerialarts-studio\n",
      "Converting to DataFrame...\n",
      "Validating URLs...\n",
      "Processing completed.\n",
      "Starting URL reconstruction...\n"
     ]
    },
    {
     "name": "stderr",
     "output_type": "stream",
     "text": [
      "Processing URLs:  63%|██████▎   | 261/412 [21:51<05:02,  2.01s/it]"
     ]
    },
    {
     "name": "stdout",
     "output_type": "stream",
     "text": [
      "Error during HTTP request: 404 Client Error: Not Found for url: https://www.eversports.de/s/home-of-pole\n",
      "Converting to DataFrame...\n",
      "Validating URLs...\n",
      "Processing completed.\n",
      "Starting URL reconstruction...\n"
     ]
    },
    {
     "name": "stderr",
     "output_type": "stream",
     "text": [
      "Processing URLs:  64%|██████▎   | 262/412 [21:52<04:20,  1.74s/it]"
     ]
    },
    {
     "name": "stdout",
     "output_type": "stream",
     "text": [
      "Error during HTTP request: 404 Client Error: Not Found for url: https://www.eversports.de/s/passionate-pole-%26-sports\n",
      "Converting to DataFrame...\n",
      "Validating URLs...\n",
      "Processing completed.\n",
      "Starting URL reconstruction...\n"
     ]
    },
    {
     "name": "stderr",
     "output_type": "stream",
     "text": [
      "Processing URLs:  64%|██████▍   | 263/412 [21:54<03:49,  1.54s/it]"
     ]
    },
    {
     "name": "stdout",
     "output_type": "stream",
     "text": [
      "Error during HTTP request: 404 Client Error: Not Found for url: https://www.eversports.de/s/tanzvisionen\n",
      "Converting to DataFrame...\n",
      "Validating URLs...\n",
      "Processing completed.\n",
      "Starting URL reconstruction...\n"
     ]
    },
    {
     "name": "stderr",
     "output_type": "stream",
     "text": [
      "2024-02-01 22:00:46,390 - INFO - Processing URL 1/3: https://www.eversports.de/s/tanzteufel\n"
     ]
    },
    {
     "name": "stdout",
     "output_type": "stream",
     "text": [
      "Converting to DataFrame...\n",
      "Validating URLs...\n"
     ]
    },
    {
     "name": "stderr",
     "output_type": "stream",
     "text": [
      "2024-02-01 22:00:47,953 - INFO - URL https://www.eversports.de/s/tanzteufel is valid.\n",
      "2024-02-01 22:00:47,954 - INFO - Processing URL 2/3: https://www.eversports.de/sp/tanzteufel\n",
      "2024-02-01 22:00:49,167 - INFO - URL https://www.eversports.de/sp/tanzteufel is valid.\n",
      "2024-02-01 22:00:49,168 - INFO - Processing URL 3/3: https://www.eversports.de/s/tanzteufel/team\n",
      "2024-02-01 22:00:51,316 - INFO - URL https://www.eversports.de/s/tanzteufel/team is valid.\n"
     ]
    },
    {
     "name": "stdout",
     "output_type": "stream",
     "text": [
      "Scraping Pole Studio Data from https://www.eversports.de/s/tanzteufel...\n"
     ]
    },
    {
     "name": "stderr",
     "output_type": "stream",
     "text": [
      "Processing URLs:  64%|██████▍   | 264/412 [22:00<07:47,  3.16s/it]"
     ]
    },
    {
     "name": "stdout",
     "output_type": "stream",
     "text": [
      "Processing completed.\n",
      "Pole Studio Data: 1 entries\n",
      "Starting URL reconstruction...\n"
     ]
    },
    {
     "name": "stderr",
     "output_type": "stream",
     "text": [
      "2024-02-01 22:00:53,253 - INFO - Processing URL 1/3: https://www.eversports.de/s/divapole\n"
     ]
    },
    {
     "name": "stdout",
     "output_type": "stream",
     "text": [
      "Error reconstructing URL for 'Trainings': Unrecognized text: 'Trainings'\n",
      "Converting to DataFrame...\n",
      "Validating URLs...\n"
     ]
    },
    {
     "name": "stderr",
     "output_type": "stream",
     "text": [
      "2024-02-01 22:00:54,517 - INFO - URL https://www.eversports.de/s/divapole is valid.\n",
      "2024-02-01 22:00:54,518 - INFO - Processing URL 2/3: https://www.eversports.de/sp/divapole\n",
      "2024-02-01 22:00:55,786 - INFO - URL https://www.eversports.de/sp/divapole is valid.\n",
      "2024-02-01 22:00:55,787 - INFO - Processing URL 3/3: https://www.eversports.de/s/divapole/team\n",
      "2024-02-01 22:00:56,936 - INFO - URL https://www.eversports.de/s/divapole/team is valid.\n"
     ]
    },
    {
     "name": "stdout",
     "output_type": "stream",
     "text": [
      "Scraping Pole Studio Data from https://www.eversports.de/s/divapole...\n"
     ]
    },
    {
     "name": "stderr",
     "output_type": "stream",
     "text": [
      "Processing URLs:  64%|██████▍   | 265/412 [22:07<10:09,  4.14s/it]"
     ]
    },
    {
     "name": "stdout",
     "output_type": "stream",
     "text": [
      "Processing completed.\n",
      "Pole Studio Data: 1 entries\n",
      "Starting URL reconstruction...\n"
     ]
    },
    {
     "name": "stderr",
     "output_type": "stream",
     "text": [
      "Processing URLs:  65%|██████▍   | 266/412 [22:11<09:47,  4.02s/it]"
     ]
    },
    {
     "name": "stdout",
     "output_type": "stream",
     "text": [
      "Error during HTTP request: Exceeded 30 redirects.\n",
      "Converting to DataFrame...\n",
      "Validating URLs...\n",
      "Processing completed.\n",
      "Starting URL reconstruction...\n"
     ]
    },
    {
     "name": "stderr",
     "output_type": "stream",
     "text": [
      "2024-02-01 22:01:03,368 - INFO - Processing URL 1/1: https://www.eversports.de/s/muse-pole-dance\n"
     ]
    },
    {
     "name": "stdout",
     "output_type": "stream",
     "text": [
      "Converting to DataFrame...\n",
      "Validating URLs...\n"
     ]
    },
    {
     "name": "stderr",
     "output_type": "stream",
     "text": [
      "2024-02-01 22:01:04,618 - INFO - URL https://www.eversports.de/s/muse-pole-dance is valid.\n"
     ]
    },
    {
     "name": "stdout",
     "output_type": "stream",
     "text": [
      "Scraping Pole Studio Data from https://www.eversports.de/s/muse-pole-dance...\n"
     ]
    },
    {
     "name": "stderr",
     "output_type": "stream",
     "text": [
      "Processing URLs:  65%|██████▍   | 267/412 [22:13<08:50,  3.66s/it]"
     ]
    },
    {
     "name": "stdout",
     "output_type": "stream",
     "text": [
      "Processing completed.\n",
      "Pole Studio Data: 1 entries\n",
      "Starting URL reconstruction...\n"
     ]
    },
    {
     "name": "stderr",
     "output_type": "stream",
     "text": [
      "Processing URLs:  65%|██████▌   | 268/412 [22:15<07:01,  2.93s/it]"
     ]
    },
    {
     "name": "stdout",
     "output_type": "stream",
     "text": [
      "Error during HTTP request: 404 Client Error: Not Found for url: https://www.eversports.de/s/pole-arts-saarland-\n",
      "Converting to DataFrame...\n",
      "Validating URLs...\n",
      "Processing completed.\n",
      "Starting URL reconstruction...\n"
     ]
    },
    {
     "name": "stderr",
     "output_type": "stream",
     "text": [
      "Processing URLs:  65%|██████▌   | 269/412 [22:16<05:40,  2.38s/it]"
     ]
    },
    {
     "name": "stdout",
     "output_type": "stream",
     "text": [
      "Error during HTTP request: 404 Client Error: Not Found for url: https://www.eversports.de/s/dance-department\n",
      "Converting to DataFrame...\n",
      "Validating URLs...\n",
      "Processing completed.\n",
      "Starting URL reconstruction...\n"
     ]
    },
    {
     "name": "stderr",
     "output_type": "stream",
     "text": [
      "Processing URLs:  66%|██████▌   | 270/412 [22:21<07:22,  3.11s/it]"
     ]
    },
    {
     "name": "stdout",
     "output_type": "stream",
     "text": [
      "Error during HTTP request: Exceeded 30 redirects.\n",
      "Converting to DataFrame...\n",
      "Validating URLs...\n",
      "Processing completed.\n",
      "Starting URL reconstruction...\n"
     ]
    },
    {
     "name": "stderr",
     "output_type": "stream",
     "text": [
      "2024-02-01 22:01:13,430 - INFO - Processing URL 1/4: https://www.eversports.de/s/polecreation\n"
     ]
    },
    {
     "name": "stdout",
     "output_type": "stream",
     "text": [
      "Converting to DataFrame...\n",
      "Validating URLs...\n"
     ]
    },
    {
     "name": "stderr",
     "output_type": "stream",
     "text": [
      "2024-02-01 22:01:14,800 - INFO - URL https://www.eversports.de/s/polecreation is valid.\n",
      "2024-02-01 22:01:14,801 - INFO - Processing URL 2/4: https://www.eversports.de/sw/polecreation\n",
      "2024-02-01 22:01:15,976 - INFO - URL https://www.eversports.de/sw/polecreation is valid.\n",
      "2024-02-01 22:01:15,977 - INFO - Processing URL 3/4: https://www.eversports.de/sp/polecreation\n",
      "2024-02-01 22:01:17,068 - INFO - URL https://www.eversports.de/sp/polecreation is valid.\n",
      "2024-02-01 22:01:17,070 - INFO - Processing URL 4/4: https://www.eversports.de/s/polecreation/team\n",
      "2024-02-01 22:01:18,274 - INFO - URL https://www.eversports.de/s/polecreation/team is valid.\n"
     ]
    },
    {
     "name": "stdout",
     "output_type": "stream",
     "text": [
      "Scraping Pole Studio Data from https://www.eversports.de/s/polecreation...\n",
      "Scraping Workshops Data from https://www.eversports.de/sw/polecreation...\n",
      "Scraping Workshop Details from https://www.eversports.de/e/workshop/bmZxua4...\n",
      "Scraping Workshop Details from https://www.eversports.de/e/workshop/qcRMhzd...\n",
      "Scraping Workshop Details from https://www.eversports.de/e/workshop/Zj0NETg...\n"
     ]
    },
    {
     "name": "stderr",
     "output_type": "stream",
     "text": [
      "Processing URLs:  66%|██████▌   | 271/412 [22:33<13:45,  5.85s/it]"
     ]
    },
    {
     "name": "stdout",
     "output_type": "stream",
     "text": [
      "Processing completed.\n",
      "Pole Studio Data: 1 entries\n",
      "Workshops Data: 3 entries\n",
      "Workshop Details: 3 entries\n",
      "Starting URL reconstruction...\n"
     ]
    },
    {
     "name": "stderr",
     "output_type": "stream",
     "text": [
      "2024-02-01 22:01:25,719 - INFO - Processing URL 1/4: https://www.eversports.de/s/star-poledance\n"
     ]
    },
    {
     "name": "stdout",
     "output_type": "stream",
     "text": [
      "Converting to DataFrame...\n",
      "Validating URLs...\n"
     ]
    },
    {
     "name": "stderr",
     "output_type": "stream",
     "text": [
      "2024-02-01 22:01:27,857 - INFO - URL https://www.eversports.de/s/star-poledance is valid.\n",
      "2024-02-01 22:01:27,857 - INFO - Processing URL 2/4: https://www.eversports.de/sw/star-poledance\n",
      "2024-02-01 22:01:29,020 - INFO - URL https://www.eversports.de/sw/star-poledance is valid.\n",
      "2024-02-01 22:01:29,021 - INFO - Processing URL 3/4: https://www.eversports.de/sp/star-poledance\n",
      "2024-02-01 22:01:30,155 - INFO - URL https://www.eversports.de/sp/star-poledance is valid.\n",
      "2024-02-01 22:01:30,156 - INFO - Processing URL 4/4: https://www.eversports.de/s/star-poledance/team\n",
      "2024-02-01 22:01:31,529 - INFO - URL https://www.eversports.de/s/star-poledance/team is valid.\n"
     ]
    },
    {
     "name": "stdout",
     "output_type": "stream",
     "text": [
      "Scraping Pole Studio Data from https://www.eversports.de/s/star-poledance...\n",
      "Scraping Workshops Data from https://www.eversports.de/sw/star-poledance...\n",
      "Scraping Workshop Details from https://www.eversports.de/e/workshop/jZ6LjEO...\n"
     ]
    },
    {
     "name": "stderr",
     "output_type": "stream",
     "text": [
      "Processing URLs:  66%|██████▌   | 272/412 [22:43<16:58,  7.28s/it]"
     ]
    },
    {
     "name": "stdout",
     "output_type": "stream",
     "text": [
      "Processing completed.\n",
      "Pole Studio Data: 1 entries\n",
      "Workshops Data: 1 entries\n",
      "Workshop Details: 1 entries\n",
      "Starting URL reconstruction...\n"
     ]
    },
    {
     "name": "stderr",
     "output_type": "stream",
     "text": [
      "2024-02-01 22:01:45,947 - INFO - Processing URL 1/3: https://www.eversports.de/s/polewirbel\n"
     ]
    },
    {
     "name": "stdout",
     "output_type": "stream",
     "text": [
      "Converting to DataFrame...\n",
      "Validating URLs...\n"
     ]
    },
    {
     "name": "stderr",
     "output_type": "stream",
     "text": [
      "2024-02-01 22:01:47,164 - INFO - URL https://www.eversports.de/s/polewirbel is valid.\n",
      "2024-02-01 22:01:47,165 - INFO - Processing URL 2/3: https://www.eversports.de/sp/polewirbel\n",
      "2024-02-01 22:01:48,257 - INFO - URL https://www.eversports.de/sp/polewirbel is valid.\n",
      "2024-02-01 22:01:48,258 - INFO - Processing URL 3/3: https://www.eversports.de/s/polewirbel/team\n",
      "2024-02-01 22:01:49,441 - INFO - URL https://www.eversports.de/s/polewirbel/team is valid.\n"
     ]
    },
    {
     "name": "stdout",
     "output_type": "stream",
     "text": [
      "Scraping Pole Studio Data from https://www.eversports.de/s/polewirbel...\n"
     ]
    },
    {
     "name": "stderr",
     "output_type": "stream",
     "text": [
      "Processing URLs:  66%|██████▋   | 273/412 [22:59<22:30,  9.72s/it]"
     ]
    },
    {
     "name": "stdout",
     "output_type": "stream",
     "text": [
      "Processing completed.\n",
      "Pole Studio Data: 1 entries\n",
      "Starting URL reconstruction...\n"
     ]
    },
    {
     "name": "stderr",
     "output_type": "stream",
     "text": [
      "Processing URLs:  67%|██████▋   | 274/412 [23:00<16:25,  7.14s/it]"
     ]
    },
    {
     "name": "stdout",
     "output_type": "stream",
     "text": [
      "Error during HTTP request: 404 Client Error: Not Found for url: https://www.eversports.de/s/pole-fit-nes\n",
      "Converting to DataFrame...\n",
      "Validating URLs...\n",
      "Processing completed.\n",
      "Starting URL reconstruction...\n"
     ]
    },
    {
     "name": "stderr",
     "output_type": "stream",
     "text": [
      "Processing URLs:  67%|██████▋   | 275/412 [23:01<12:14,  5.36s/it]"
     ]
    },
    {
     "name": "stdout",
     "output_type": "stream",
     "text": [
      "Error during HTTP request: 404 Client Error: Not Found for url: https://www.eversports.de/s/pole-circus-a-+-k\n",
      "Converting to DataFrame...\n",
      "Validating URLs...\n",
      "Processing completed.\n",
      "Starting URL reconstruction...\n"
     ]
    },
    {
     "name": "stderr",
     "output_type": "stream",
     "text": [
      "Processing URLs:  67%|██████▋   | 276/412 [23:02<09:15,  4.09s/it]"
     ]
    },
    {
     "name": "stdout",
     "output_type": "stream",
     "text": [
      "Error during HTTP request: 404 Client Error: Not Found for url: https://www.eversports.de/s/polepoint-dance-studio\n",
      "Converting to DataFrame...\n",
      "Validating URLs...\n",
      "Processing completed.\n",
      "Starting URL reconstruction...\n"
     ]
    },
    {
     "name": "stderr",
     "output_type": "stream",
     "text": [
      "Processing URLs:  67%|██████▋   | 277/412 [23:03<07:13,  3.21s/it]"
     ]
    },
    {
     "name": "stdout",
     "output_type": "stream",
     "text": [
      "Error during HTTP request: 404 Client Error: Not Found for url: https://www.eversports.de/s/poleplace\n",
      "Converting to DataFrame...\n",
      "Validating URLs...\n",
      "Processing completed.\n",
      "Starting URL reconstruction...\n"
     ]
    },
    {
     "name": "stderr",
     "output_type": "stream",
     "text": [
      "Processing URLs:  67%|██████▋   | 278/412 [23:05<05:46,  2.59s/it]"
     ]
    },
    {
     "name": "stdout",
     "output_type": "stream",
     "text": [
      "Error during HTTP request: 404 Client Error: Not Found for url: https://www.eversports.de/s/pole-dance-mettingen\n",
      "Converting to DataFrame...\n",
      "Validating URLs...\n",
      "Processing completed.\n",
      "Starting URL reconstruction...\n"
     ]
    },
    {
     "name": "stderr",
     "output_type": "stream",
     "text": [
      "Processing URLs:  68%|██████▊   | 279/412 [23:06<04:46,  2.16s/it]"
     ]
    },
    {
     "name": "stdout",
     "output_type": "stream",
     "text": [
      "Error during HTTP request: 404 Client Error: Not Found for url: https://www.eversports.de/s/dance-%26-fitness-academy\n",
      "Converting to DataFrame...\n",
      "Validating URLs...\n",
      "Processing completed.\n",
      "Starting URL reconstruction...\n"
     ]
    },
    {
     "name": "stderr",
     "output_type": "stream",
     "text": [
      "2024-02-01 22:01:59,834 - INFO - Processing URL 1/4: https://www.eversports.de/s/move-on-dance-studio-and-polemotions\n"
     ]
    },
    {
     "name": "stdout",
     "output_type": "stream",
     "text": [
      "Error reconstructing URL for 'Kurse': Unrecognized text: 'Kurse'\n",
      "Converting to DataFrame...\n",
      "Validating URLs...\n"
     ]
    },
    {
     "name": "stderr",
     "output_type": "stream",
     "text": [
      "2024-02-01 22:02:02,581 - INFO - URL https://www.eversports.de/s/move-on-dance-studio-and-polemotions is valid.\n",
      "2024-02-01 22:02:02,582 - INFO - Processing URL 2/4: https://www.eversports.de/sw/move-on-dance-studio-and-polemotions\n",
      "2024-02-01 22:02:03,742 - INFO - URL https://www.eversports.de/sw/move-on-dance-studio-and-polemotions is valid.\n",
      "2024-02-01 22:02:03,743 - INFO - Processing URL 3/4: https://www.eversports.de/sp/move-on-dance-studio-and-polemotions\n",
      "2024-02-01 22:02:04,924 - INFO - URL https://www.eversports.de/sp/move-on-dance-studio-and-polemotions is valid.\n",
      "2024-02-01 22:02:04,925 - INFO - Processing URL 4/4: https://www.eversports.de/s/move-on-dance-studio-and-polemotions/team\n",
      "2024-02-01 22:02:06,576 - INFO - URL https://www.eversports.de/s/move-on-dance-studio-and-polemotions/team is valid.\n"
     ]
    },
    {
     "name": "stdout",
     "output_type": "stream",
     "text": [
      "Scraping Pole Studio Data from https://www.eversports.de/s/move-on-dance-studio-and-polemotions...\n",
      "Scraping Workshops Data from https://www.eversports.de/sw/move-on-dance-studio-and-polemotions...\n",
      "Scraping Workshop Details from https://www.eversports.de/e/workshop/1i9L-3q...\n"
     ]
    },
    {
     "name": "stderr",
     "output_type": "stream",
     "text": [
      "Processing URLs:  68%|██████▊   | 280/412 [23:18<11:29,  5.23s/it]"
     ]
    },
    {
     "name": "stdout",
     "output_type": "stream",
     "text": [
      "Processing completed.\n",
      "Pole Studio Data: 1 entries\n",
      "Workshops Data: 1 entries\n",
      "Workshop Details: 1 entries\n",
      "Starting URL reconstruction...\n"
     ]
    },
    {
     "name": "stderr",
     "output_type": "stream",
     "text": [
      "Processing URLs:  68%|██████▊   | 281/412 [23:19<08:44,  4.01s/it]"
     ]
    },
    {
     "name": "stdout",
     "output_type": "stream",
     "text": [
      "Error during HTTP request: 404 Client Error: Not Found for url: https://www.eversports.de/s/die-dance-academy-by-wipper\n",
      "Converting to DataFrame...\n",
      "Validating URLs...\n",
      "Processing completed.\n",
      "Starting URL reconstruction...\n"
     ]
    },
    {
     "name": "stderr",
     "output_type": "stream",
     "text": [
      "2024-02-01 22:02:12,264 - INFO - Processing URL 1/1: https://www.eversports.de/s/polesensation\n"
     ]
    },
    {
     "name": "stdout",
     "output_type": "stream",
     "text": [
      "Converting to DataFrame...\n",
      "Validating URLs...\n"
     ]
    },
    {
     "name": "stderr",
     "output_type": "stream",
     "text": [
      "2024-02-01 22:02:13,441 - INFO - URL https://www.eversports.de/s/polesensation is valid.\n"
     ]
    },
    {
     "name": "stdout",
     "output_type": "stream",
     "text": [
      "Scraping Pole Studio Data from https://www.eversports.de/s/polesensation...\n"
     ]
    },
    {
     "name": "stderr",
     "output_type": "stream",
     "text": [
      "Processing URLs:  68%|██████▊   | 282/412 [23:22<07:58,  3.68s/it]"
     ]
    },
    {
     "name": "stdout",
     "output_type": "stream",
     "text": [
      "Processing completed.\n",
      "Pole Studio Data: 1 entries\n",
      "Starting URL reconstruction...\n"
     ]
    },
    {
     "name": "stderr",
     "output_type": "stream",
     "text": [
      "Processing URLs:  69%|██████▊   | 283/412 [23:23<06:16,  2.92s/it]"
     ]
    },
    {
     "name": "stdout",
     "output_type": "stream",
     "text": [
      "Error during HTTP request: 404 Client Error: Not Found for url: https://www.eversports.de/s/polefitness-by-sophie-m.\n",
      "Converting to DataFrame...\n",
      "Validating URLs...\n",
      "Processing completed.\n",
      "Starting URL reconstruction...\n"
     ]
    },
    {
     "name": "stderr",
     "output_type": "stream",
     "text": [
      "2024-02-01 22:02:16,358 - INFO - Processing URL 1/4: https://www.eversports.de/s/schoenheitstanz-studio\n"
     ]
    },
    {
     "name": "stdout",
     "output_type": "stream",
     "text": [
      "Error reconstructing URL for 'Events': Unrecognized text: 'Events'\n",
      "Converting to DataFrame...\n",
      "Validating URLs...\n"
     ]
    },
    {
     "name": "stderr",
     "output_type": "stream",
     "text": [
      "2024-02-01 22:02:17,823 - INFO - URL https://www.eversports.de/s/schoenheitstanz-studio is valid.\n",
      "2024-02-01 22:02:17,823 - INFO - Processing URL 2/4: https://www.eversports.de/sw/schoenheitstanz-studio\n",
      "2024-02-01 22:02:21,654 - INFO - URL https://www.eversports.de/sw/schoenheitstanz-studio is valid.\n",
      "2024-02-01 22:02:21,655 - INFO - Processing URL 3/4: https://www.eversports.de/sp/schoenheitstanz-studio\n",
      "2024-02-01 22:02:22,950 - INFO - URL https://www.eversports.de/sp/schoenheitstanz-studio is valid.\n",
      "2024-02-01 22:02:22,951 - INFO - Processing URL 4/4: https://www.eversports.de/s/schoenheitstanz-studio/team\n",
      "2024-02-01 22:02:24,351 - INFO - URL https://www.eversports.de/s/schoenheitstanz-studio/team is valid.\n"
     ]
    },
    {
     "name": "stdout",
     "output_type": "stream",
     "text": [
      "Scraping Pole Studio Data from https://www.eversports.de/s/schoenheitstanz-studio...\n",
      "Scraping Workshops Data from https://www.eversports.de/sw/schoenheitstanz-studio...\n",
      "Scraping Workshop Details from https://www.eversports.de/e/workshop/U7zlEnt...\n",
      "Scraping Workshop Details from https://www.eversports.de/e/workshop/FWAxvoS...\n",
      "Scraping Workshop Details from https://www.eversports.de/e/workshop/grkxBH6...\n",
      "Scraping Workshop Details from https://www.eversports.de/e/workshop/YHVJqpe...\n",
      "Scraping Workshop Details from https://www.eversports.de/e/workshop/7TGSxs7...\n",
      "Scraping Workshop Details from https://www.eversports.de/e/workshop/PJH8px9...\n",
      "Scraping Workshop Details from https://www.eversports.de/e/workshop/TIB5eun...\n",
      "Scraping Workshop Details from https://www.eversports.de/e/workshop/AusEWhX...\n",
      "Scraping Workshop Details from https://www.eversports.de/e/workshop/EXI9bhu...\n",
      "Scraping Workshop Details from https://www.eversports.de/e/workshop/-fUr-r3...\n",
      "Scraping Workshop Details from https://www.eversports.de/e/workshop/8ZaKFif...\n",
      "Scraping Workshop Details from https://www.eversports.de/e/workshop/ENyQnil...\n",
      "Scraping Workshop Details from https://www.eversports.de/e/workshop/k-lte3C...\n",
      "Scraping Workshop Details from https://www.eversports.de/e/workshop/W4EOuNp...\n",
      "Scraping Workshop Details from https://www.eversports.de/e/workshop/6bAW9KR...\n",
      "Scraping Workshop Details from https://www.eversports.de/e/workshop/o_XLfIC...\n",
      "Scraping Workshop Details from https://www.eversports.de/e/workshop/npP7JVG...\n",
      "Scraping Workshop Details from https://www.eversports.de/e/workshop/5sKuQHR...\n",
      "Scraping Workshop Details from https://www.eversports.de/e/workshop/nY-OhUe...\n",
      "Scraping Workshop Details from https://www.eversports.de/e/workshop/e0T0khi...\n",
      "Scraping Workshop Details from https://www.eversports.de/e/workshop/LD103vJ...\n",
      "Scraping Workshop Details from https://www.eversports.de/e/workshop/xCayZIW...\n",
      "Scraping Workshop Details from https://www.eversports.de/e/workshop/nM6r0Ic...\n",
      "Scraping Workshop Details from https://www.eversports.de/e/workshop/hQ8U2tE...\n",
      "Scraping Workshop Details from https://www.eversports.de/e/workshop/CVUleH8...\n",
      "Scraping Workshop Details from https://www.eversports.de/e/workshop/ZqXA7Y8...\n",
      "Scraping Workshop Details from https://www.eversports.de/e/workshop/hgCxZm6...\n",
      "Scraping Workshop Details from https://www.eversports.de/e/workshop/VU5c6C_...\n",
      "Scraping Workshop Details from https://www.eversports.de/e/workshop/inR_xoX...\n",
      "Scraping Workshop Details from https://www.eversports.de/e/workshop/3CN7roB...\n",
      "Scraping Workshop Details from https://www.eversports.de/e/workshop/hONC_aO...\n",
      "Scraping Workshop Details from https://www.eversports.de/e/workshop/A5lJjTH...\n",
      "Scraping Workshop Details from https://www.eversports.de/e/workshop/ygw2_TL...\n",
      "Scraping Workshop Details from https://www.eversports.de/e/workshop/6p_z1vi...\n",
      "Scraping Workshop Details from https://www.eversports.de/e/workshop/hYh8ik3...\n",
      "Scraping Workshop Details from https://www.eversports.de/e/workshop/Tqtzdzb...\n",
      "Scraping Workshop Details from https://www.eversports.de/e/workshop/EBZuEA1...\n",
      "Scraping Workshop Details from https://www.eversports.de/e/workshop/bkSlugn...\n",
      "Scraping Workshop Details from https://www.eversports.de/e/workshop/Nv15_mw...\n",
      "Scraping Workshop Details from https://www.eversports.de/e/workshop/SLy-s_i...\n",
      "Scraping Workshop Details from https://www.eversports.de/e/workshop/I09unU9...\n",
      "Scraping Workshop Details from https://www.eversports.de/e/workshop/dcD4Lin...\n",
      "Scraping Workshop Details from https://www.eversports.de/e/workshop/kYpFiaE...\n",
      "Scraping Workshop Details from https://www.eversports.de/e/workshop/1GkBeDT...\n",
      "Scraping Workshop Details from https://www.eversports.de/e/workshop/wTDOHkH...\n",
      "Scraping Workshop Details from https://www.eversports.de/e/workshop/uHk1KUg...\n",
      "Scraping Workshop Details from https://www.eversports.de/e/workshop/hW3O71v...\n",
      "Scraping Workshop Details from https://www.eversports.de/e/workshop/J_WWezC...\n",
      "Scraping Workshop Details from https://www.eversports.de/e/workshop/54itEaz...\n",
      "Scraping Workshop Details from https://www.eversports.de/e/workshop/EDBeHyX...\n",
      "Scraping Workshop Details from https://www.eversports.de/e/workshop/z4rC1sa...\n",
      "Scraping Workshop Details from https://www.eversports.de/e/workshop/rvq2QWJ...\n",
      "Scraping Workshop Details from https://www.eversports.de/e/workshop/_kWyZFK...\n",
      "Scraping Workshop Details from https://www.eversports.de/e/workshop/AN_9D9F...\n",
      "Scraping Workshop Details from https://www.eversports.de/e/workshop/QPoxv4i...\n",
      "Scraping Workshop Details from https://www.eversports.de/e/workshop/3yk1t8C...\n",
      "Scraping Workshop Details from https://www.eversports.de/e/workshop/kVDtH76...\n",
      "Scraping Workshop Details from https://www.eversports.de/e/workshop/4egslRX...\n",
      "Scraping Workshop Details from https://www.eversports.de/e/workshop/UYgHVwy...\n",
      "Scraping Workshop Details from https://www.eversports.de/e/workshop/YpJqTDS...\n",
      "Scraping Workshop Details from https://www.eversports.de/e/workshop/82dGR1f...\n",
      "Scraping Workshop Details from https://www.eversports.de/e/workshop/7uJPxgC...\n",
      "Scraping Workshop Details from https://www.eversports.de/e/workshop/pDjMaOI...\n",
      "Scraping Workshop Details from https://www.eversports.de/e/workshop/xUJF8zC...\n",
      "Scraping Workshop Details from https://www.eversports.de/e/workshop/oCv_Dwa...\n",
      "Scraping Workshop Details from https://www.eversports.de/e/workshop/ot643qA...\n",
      "Scraping Workshop Details from https://www.eversports.de/e/workshop/drIG2eI...\n",
      "Scraping Workshop Details from https://www.eversports.de/e/workshop/iuE5Wsa...\n",
      "Scraping Workshop Details from https://www.eversports.de/e/workshop/nT2TC19...\n",
      "Scraping Workshop Details from https://www.eversports.de/e/workshop/n6KRMjB...\n",
      "Scraping Workshop Details from https://www.eversports.de/e/workshop/qNpxqi5...\n",
      "Scraping Workshop Details from https://www.eversports.de/e/workshop/i2UXxMl...\n",
      "Scraping Workshop Details from https://www.eversports.de/e/workshop/GaGNoGx...\n",
      "Scraping Workshop Details from https://www.eversports.de/e/workshop/gOdtqrR...\n"
     ]
    },
    {
     "name": "stderr",
     "output_type": "stream",
     "text": [
      "Processing URLs:  69%|██████▉   | 284/412 [25:20<1:18:44, 36.91s/it]"
     ]
    },
    {
     "name": "stdout",
     "output_type": "stream",
     "text": [
      "Processing completed.\n",
      "Pole Studio Data: 1 entries\n",
      "Workshops Data: 74 entries\n",
      "Workshop Details: 74 entries\n",
      "Starting URL reconstruction...\n"
     ]
    },
    {
     "name": "stderr",
     "output_type": "stream",
     "text": [
      "Processing URLs:  69%|██████▉   | 285/412 [25:21<55:23, 26.17s/it]  "
     ]
    },
    {
     "name": "stdout",
     "output_type": "stream",
     "text": [
      "Error during HTTP request: 404 Client Error: Not Found for url: https://www.eversports.de/s/airobics---pole-%26-aerial-dance-hamburg\n",
      "Converting to DataFrame...\n",
      "Validating URLs...\n",
      "Processing completed.\n",
      "Starting URL reconstruction...\n"
     ]
    },
    {
     "name": "stderr",
     "output_type": "stream",
     "text": [
      "2024-02-01 22:04:13,342 - INFO - Processing URL 1/4: https://www.eversports.de/s/polespirit\n"
     ]
    },
    {
     "name": "stdout",
     "output_type": "stream",
     "text": [
      "Converting to DataFrame...\n",
      "Validating URLs...\n"
     ]
    },
    {
     "name": "stderr",
     "output_type": "stream",
     "text": [
      "2024-02-01 22:04:14,917 - INFO - URL https://www.eversports.de/s/polespirit is valid.\n",
      "2024-02-01 22:04:14,918 - INFO - Processing URL 2/4: https://www.eversports.de/sw/polespirit\n",
      "2024-02-01 22:04:16,069 - INFO - URL https://www.eversports.de/sw/polespirit is valid.\n",
      "2024-02-01 22:04:16,070 - INFO - Processing URL 3/4: https://www.eversports.de/sp/polespirit\n",
      "2024-02-01 22:04:17,138 - INFO - URL https://www.eversports.de/sp/polespirit is valid.\n",
      "2024-02-01 22:04:17,139 - INFO - Processing URL 4/4: https://www.eversports.de/s/polespirit/team\n",
      "2024-02-01 22:04:18,267 - INFO - URL https://www.eversports.de/s/polespirit/team is valid.\n"
     ]
    },
    {
     "name": "stdout",
     "output_type": "stream",
     "text": [
      "Scraping Pole Studio Data from https://www.eversports.de/s/polespirit...\n",
      "Scraping Workshops Data from https://www.eversports.de/sw/polespirit...\n",
      "Scraping Workshop Details from https://www.eversports.de/e/workshop/c-5lTys...\n",
      "Scraping Workshop Details from https://www.eversports.de/e/workshop/xUH0CLo...\n",
      "Scraping Workshop Details from https://www.eversports.de/e/workshop/GpBpifi...\n"
     ]
    },
    {
     "name": "stderr",
     "output_type": "stream",
     "text": [
      "Processing URLs:  69%|██████▉   | 286/412 [25:32<45:52, 21.85s/it]"
     ]
    },
    {
     "name": "stdout",
     "output_type": "stream",
     "text": [
      "Processing completed.\n",
      "Pole Studio Data: 1 entries\n",
      "Workshops Data: 3 entries\n",
      "Workshop Details: 3 entries\n",
      "Starting URL reconstruction...\n"
     ]
    },
    {
     "name": "stderr",
     "output_type": "stream",
     "text": [
      "Processing URLs:  70%|██████▉   | 287/412 [25:34<32:32, 15.62s/it]"
     ]
    },
    {
     "name": "stdout",
     "output_type": "stream",
     "text": [
      "Error during HTTP request: 404 Client Error: Not Found for url: https://www.eversports.de/s/aerial-art-studio\n",
      "Converting to DataFrame...\n",
      "Validating URLs...\n",
      "Processing completed.\n",
      "Starting URL reconstruction...\n"
     ]
    },
    {
     "name": "stderr",
     "output_type": "stream",
     "text": [
      "2024-02-01 22:04:26,456 - INFO - Processing URL 1/4: https://www.eversports.de/s/poledancestar\n"
     ]
    },
    {
     "name": "stdout",
     "output_type": "stream",
     "text": [
      "Error reconstructing URL for 'Trainings': Unrecognized text: 'Trainings'\n",
      "Error reconstructing URL for 'Kurse': Unrecognized text: 'Kurse'\n",
      "Converting to DataFrame...\n",
      "Validating URLs...\n"
     ]
    },
    {
     "name": "stderr",
     "output_type": "stream",
     "text": [
      "2024-02-01 22:04:27,786 - INFO - URL https://www.eversports.de/s/poledancestar is valid.\n",
      "2024-02-01 22:04:27,788 - INFO - Processing URL 2/4: https://www.eversports.de/sw/poledancestar\n",
      "2024-02-01 22:04:29,619 - INFO - URL https://www.eversports.de/sw/poledancestar is valid.\n",
      "2024-02-01 22:04:29,620 - INFO - Processing URL 3/4: https://www.eversports.de/sp/poledancestar\n",
      "2024-02-01 22:04:30,729 - INFO - URL https://www.eversports.de/sp/poledancestar is valid.\n",
      "2024-02-01 22:04:30,730 - INFO - Processing URL 4/4: https://www.eversports.de/s/poledancestar/team\n",
      "2024-02-01 22:04:31,997 - INFO - URL https://www.eversports.de/s/poledancestar/team is valid.\n"
     ]
    },
    {
     "name": "stdout",
     "output_type": "stream",
     "text": [
      "Scraping Pole Studio Data from https://www.eversports.de/s/poledancestar...\n",
      "Scraping Workshops Data from https://www.eversports.de/sw/poledancestar...\n",
      "Scraping Workshop Details from https://www.eversports.de/e/workshop/K-hife3...\n",
      "Scraping Workshop Details from https://www.eversports.de/e/workshop/xaEtNcz...\n",
      "Scraping Workshop Details from https://www.eversports.de/e/workshop/wiYgBoM...\n",
      "Scraping Workshop Details from https://www.eversports.de/e/workshop/6-MAo7Z...\n",
      "Scraping Workshop Details from https://www.eversports.de/e/workshop/GVnc2YT...\n",
      "Scraping Workshop Details from https://www.eversports.de/e/workshop/Une0T_w...\n",
      "Scraping Workshop Details from https://www.eversports.de/e/workshop/59slMW0...\n",
      "Scraping Workshop Details from https://www.eversports.de/e/workshop/FWyv3gp...\n",
      "Scraping Workshop Details from https://www.eversports.de/e/workshop/gdRuiO9...\n",
      "Scraping Workshop Details from https://www.eversports.de/e/workshop/edFh1ih...\n",
      "Scraping Workshop Details from https://www.eversports.de/e/workshop/l467buh...\n",
      "Scraping Workshop Details from https://www.eversports.de/e/workshop/fvmjDvJ...\n",
      "Scraping Workshop Details from https://www.eversports.de/e/workshop/_YEPqgy...\n",
      "Scraping Workshop Details from https://www.eversports.de/e/workshop/J71eKxz...\n"
     ]
    },
    {
     "name": "stderr",
     "output_type": "stream",
     "text": [
      "Processing URLs:  70%|██████▉   | 288/412 [26:03<40:40, 19.68s/it]"
     ]
    },
    {
     "name": "stdout",
     "output_type": "stream",
     "text": [
      "Processing completed.\n",
      "Pole Studio Data: 1 entries\n",
      "Workshops Data: 14 entries\n",
      "Workshop Details: 14 entries\n",
      "Starting URL reconstruction...\n"
     ]
    },
    {
     "name": "stderr",
     "output_type": "stream",
     "text": [
      "Processing URLs:  70%|███████   | 289/412 [26:04<28:59, 14.14s/it]"
     ]
    },
    {
     "name": "stdout",
     "output_type": "stream",
     "text": [
      "Error during HTTP request: 404 Client Error: Not Found for url: https://www.eversports.de/s/pole-sensation\n",
      "Converting to DataFrame...\n",
      "Validating URLs...\n",
      "Processing completed.\n",
      "Starting URL reconstruction...\n"
     ]
    },
    {
     "name": "stderr",
     "output_type": "stream",
     "text": [
      "2024-02-01 22:04:56,654 - INFO - Processing URL 1/3: https://www.eversports.de/s/one8dance-studio\n"
     ]
    },
    {
     "name": "stdout",
     "output_type": "stream",
     "text": [
      "Error reconstructing URL for 'Kurse': Unrecognized text: 'Kurse'\n",
      "Converting to DataFrame...\n",
      "Validating URLs...\n"
     ]
    },
    {
     "name": "stderr",
     "output_type": "stream",
     "text": [
      "2024-02-01 22:04:57,952 - INFO - URL https://www.eversports.de/s/one8dance-studio is valid.\n",
      "2024-02-01 22:04:57,953 - INFO - Processing URL 2/3: https://www.eversports.de/sp/one8dance-studio\n",
      "2024-02-01 22:04:59,040 - INFO - URL https://www.eversports.de/sp/one8dance-studio is valid.\n",
      "2024-02-01 22:04:59,041 - INFO - Processing URL 3/3: https://www.eversports.de/s/one8dance-studio/team\n",
      "2024-02-01 22:05:00,328 - INFO - URL https://www.eversports.de/s/one8dance-studio/team is valid.\n"
     ]
    },
    {
     "name": "stdout",
     "output_type": "stream",
     "text": [
      "Scraping Pole Studio Data from https://www.eversports.de/s/one8dance-studio...\n"
     ]
    },
    {
     "name": "stderr",
     "output_type": "stream",
     "text": [
      "Processing URLs:  70%|███████   | 290/412 [26:09<23:20, 11.48s/it]"
     ]
    },
    {
     "name": "stdout",
     "output_type": "stream",
     "text": [
      "Processing completed.\n",
      "Pole Studio Data: 1 entries\n",
      "Starting URL reconstruction...\n"
     ]
    },
    {
     "name": "stderr",
     "output_type": "stream",
     "text": [
      "Processing URLs:  71%|███████   | 291/412 [26:14<19:12,  9.53s/it]"
     ]
    },
    {
     "name": "stdout",
     "output_type": "stream",
     "text": [
      "Error during HTTP request: Exceeded 30 redirects.\n",
      "Converting to DataFrame...\n",
      "Validating URLs...\n",
      "Processing completed.\n",
      "Starting URL reconstruction...\n"
     ]
    },
    {
     "name": "stderr",
     "output_type": "stream",
     "text": [
      "Processing URLs:  71%|███████   | 292/412 [26:15<13:59,  7.00s/it]"
     ]
    },
    {
     "name": "stdout",
     "output_type": "stream",
     "text": [
      "Error during HTTP request: 404 Client Error: Not Found for url: https://www.eversports.de/s/pole-fit-britt\n",
      "Converting to DataFrame...\n",
      "Validating URLs...\n",
      "Processing completed.\n",
      "Starting URL reconstruction...\n"
     ]
    },
    {
     "name": "stderr",
     "output_type": "stream",
     "text": [
      "2024-02-01 22:05:08,036 - INFO - Processing URL 1/3: https://www.eversports.de/s/feel-good-factory-pole-stretch-fly\n"
     ]
    },
    {
     "name": "stdout",
     "output_type": "stream",
     "text": [
      "Error reconstructing URL for 'Kurse': Unrecognized text: 'Kurse'\n",
      "Error reconstructing URL for 'Events': Unrecognized text: 'Events'\n",
      "Converting to DataFrame...\n",
      "Validating URLs...\n"
     ]
    },
    {
     "name": "stderr",
     "output_type": "stream",
     "text": [
      "2024-02-01 22:05:09,321 - INFO - URL https://www.eversports.de/s/feel-good-factory-pole-stretch-fly is valid.\n",
      "2024-02-01 22:05:09,321 - INFO - Processing URL 2/3: https://www.eversports.de/sp/feel-good-factory-pole-stretch-fly\n",
      "2024-02-01 22:05:10,676 - INFO - URL https://www.eversports.de/sp/feel-good-factory-pole-stretch-fly is valid.\n",
      "2024-02-01 22:05:10,677 - INFO - Processing URL 3/3: https://www.eversports.de/s/feel-good-factory-pole-stretch-fly/team\n",
      "2024-02-01 22:05:12,548 - INFO - URL https://www.eversports.de/s/feel-good-factory-pole-stretch-fly/team is valid.\n"
     ]
    },
    {
     "name": "stdout",
     "output_type": "stream",
     "text": [
      "Scraping Pole Studio Data from https://www.eversports.de/s/feel-good-factory-pole-stretch-fly...\n"
     ]
    },
    {
     "name": "stderr",
     "output_type": "stream",
     "text": [
      "Processing URLs:  71%|███████   | 293/412 [26:22<13:29,  6.80s/it]"
     ]
    },
    {
     "name": "stdout",
     "output_type": "stream",
     "text": [
      "Processing completed.\n",
      "Pole Studio Data: 1 entries\n",
      "Starting URL reconstruction...\n"
     ]
    },
    {
     "name": "stderr",
     "output_type": "stream",
     "text": [
      "Processing URLs:  71%|███████▏  | 294/412 [26:23<10:00,  5.09s/it]"
     ]
    },
    {
     "name": "stdout",
     "output_type": "stream",
     "text": [
      "Error during HTTP request: 404 Client Error: Not Found for url: https://www.eversports.de/s/saltosandra\n",
      "Converting to DataFrame...\n",
      "Validating URLs...\n",
      "Processing completed.\n",
      "Starting URL reconstruction...\n"
     ]
    },
    {
     "name": "stderr",
     "output_type": "stream",
     "text": [
      "Processing URLs:  72%|███████▏  | 295/412 [26:24<07:33,  3.88s/it]"
     ]
    },
    {
     "name": "stdout",
     "output_type": "stream",
     "text": [
      "Error during HTTP request: 404 Client Error: Not Found for url: https://www.eversports.de/s/passionate-pole-&-sports\n",
      "Converting to DataFrame...\n",
      "Validating URLs...\n",
      "Processing completed.\n",
      "Starting URL reconstruction...\n"
     ]
    },
    {
     "name": "stderr",
     "output_type": "stream",
     "text": [
      "Processing URLs:  72%|███████▏  | 296/412 [26:25<05:54,  3.06s/it]"
     ]
    },
    {
     "name": "stdout",
     "output_type": "stream",
     "text": [
      "Error during HTTP request: 404 Client Error: Not Found for url: https://www.eversports.de/s/freaky-pole-cats-cham\n",
      "Converting to DataFrame...\n",
      "Validating URLs...\n",
      "Processing completed.\n",
      "Starting URL reconstruction...\n"
     ]
    },
    {
     "name": "stderr",
     "output_type": "stream",
     "text": [
      "Processing URLs:  72%|███████▏  | 297/412 [26:26<04:43,  2.47s/it]"
     ]
    },
    {
     "name": "stdout",
     "output_type": "stream",
     "text": [
      "Error during HTTP request: 404 Client Error: Not Found for url: https://www.eversports.de/s/le-chat-noir-berlin\n",
      "Converting to DataFrame...\n",
      "Validating URLs...\n",
      "Processing completed.\n",
      "Starting URL reconstruction...\n"
     ]
    },
    {
     "name": "stderr",
     "output_type": "stream",
     "text": [
      "Processing URLs:  72%|███████▏  | 298/412 [26:27<03:54,  2.05s/it]"
     ]
    },
    {
     "name": "stdout",
     "output_type": "stream",
     "text": [
      "Error during HTTP request: 404 Client Error: Not Found for url: https://www.eversports.de/s/flyhigh\n",
      "Converting to DataFrame...\n",
      "Validating URLs...\n",
      "Processing completed.\n",
      "Starting URL reconstruction...\n"
     ]
    },
    {
     "name": "stderr",
     "output_type": "stream",
     "text": [
      "2024-02-01 22:05:19,869 - INFO - Processing URL 1/4: https://www.eversports.de/s/pole-dance-krefeld\n"
     ]
    },
    {
     "name": "stdout",
     "output_type": "stream",
     "text": [
      "Error reconstructing URL for 'Trainings': Unrecognized text: 'Trainings'\n",
      "Converting to DataFrame...\n",
      "Validating URLs...\n"
     ]
    },
    {
     "name": "stderr",
     "output_type": "stream",
     "text": [
      "2024-02-01 22:05:21,151 - INFO - URL https://www.eversports.de/s/pole-dance-krefeld is valid.\n",
      "2024-02-01 22:05:21,152 - INFO - Processing URL 2/4: https://www.eversports.de/sw/pole-dance-krefeld\n",
      "2024-02-01 22:05:22,245 - INFO - URL https://www.eversports.de/sw/pole-dance-krefeld is valid.\n",
      "2024-02-01 22:05:22,246 - INFO - Processing URL 3/4: https://www.eversports.de/sp/pole-dance-krefeld\n",
      "2024-02-01 22:05:23,388 - INFO - URL https://www.eversports.de/sp/pole-dance-krefeld is valid.\n",
      "2024-02-01 22:05:23,389 - INFO - Processing URL 4/4: https://www.eversports.de/s/pole-dance-krefeld/team\n",
      "2024-02-01 22:05:24,620 - INFO - URL https://www.eversports.de/s/pole-dance-krefeld/team is valid.\n"
     ]
    },
    {
     "name": "stdout",
     "output_type": "stream",
     "text": [
      "Scraping Pole Studio Data from https://www.eversports.de/s/pole-dance-krefeld...\n",
      "Scraping Workshops Data from https://www.eversports.de/sw/pole-dance-krefeld...\n",
      "Scraping Workshop Details from https://www.eversports.de/e/workshop/-EpTuWT...\n",
      "Scraping Workshop Details from https://www.eversports.de/e/workshop/hFi4nNH...\n",
      "Scraping Workshop Details from https://www.eversports.de/e/workshop/T5e_9Bp...\n",
      "Scraping Workshop Details from https://www.eversports.de/e/workshop/WkTS9HS...\n",
      "Scraping Workshop Details from https://www.eversports.de/e/workshop/_LQRruK...\n"
     ]
    },
    {
     "name": "stderr",
     "output_type": "stream",
     "text": [
      "Processing URLs:  73%|███████▎  | 299/412 [26:44<12:05,  6.42s/it]"
     ]
    },
    {
     "name": "stdout",
     "output_type": "stream",
     "text": [
      "Processing completed.\n",
      "Pole Studio Data: 1 entries\n",
      "Workshops Data: 5 entries\n",
      "Workshop Details: 5 entries\n",
      "Starting URL reconstruction...\n"
     ]
    },
    {
     "name": "stderr",
     "output_type": "stream",
     "text": [
      "Processing URLs:  73%|███████▎  | 300/412 [26:45<09:01,  4.83s/it]"
     ]
    },
    {
     "name": "stdout",
     "output_type": "stream",
     "text": [
      "Error during HTTP request: 404 Client Error: Not Found for url: https://www.eversports.de/s/wildheart-yoga-%26-pole-dance\n",
      "Converting to DataFrame...\n",
      "Validating URLs...\n",
      "Processing completed.\n",
      "Starting URL reconstruction...\n"
     ]
    },
    {
     "name": "stderr",
     "output_type": "stream",
     "text": [
      "Processing URLs:  73%|███████▎  | 301/412 [26:46<06:51,  3.70s/it]"
     ]
    },
    {
     "name": "stdout",
     "output_type": "stream",
     "text": [
      "Error during HTTP request: 404 Client Error: Not Found for url: https://www.eversports.de/s/fl'air-studios-berlin\n",
      "Converting to DataFrame...\n",
      "Validating URLs...\n",
      "Processing completed.\n",
      "Starting URL reconstruction...\n"
     ]
    },
    {
     "name": "stderr",
     "output_type": "stream",
     "text": [
      "Processing URLs:  73%|███████▎  | 302/412 [26:47<05:25,  2.96s/it]"
     ]
    },
    {
     "name": "stdout",
     "output_type": "stream",
     "text": [
      "Error during HTTP request: 404 Client Error: Not Found for url: https://www.eversports.de/s/pole-%26-tanzwelt\n",
      "Converting to DataFrame...\n",
      "Validating URLs...\n",
      "Processing completed.\n",
      "Starting URL reconstruction...\n"
     ]
    },
    {
     "name": "stderr",
     "output_type": "stream",
     "text": [
      "2024-02-01 22:05:40,035 - INFO - Processing URL 1/3: https://www.eversports.de/s/css-aerial-dance-studio\n"
     ]
    },
    {
     "name": "stdout",
     "output_type": "stream",
     "text": [
      "Error reconstructing URL for 'Kurse': Unrecognized text: 'Kurse'\n",
      "Converting to DataFrame...\n",
      "Validating URLs...\n"
     ]
    },
    {
     "name": "stderr",
     "output_type": "stream",
     "text": [
      "2024-02-01 22:05:42,127 - INFO - URL https://www.eversports.de/s/css-aerial-dance-studio is valid.\n",
      "2024-02-01 22:05:42,128 - INFO - Processing URL 2/3: https://www.eversports.de/sp/css-aerial-dance-studio\n",
      "2024-02-01 22:05:43,350 - INFO - URL https://www.eversports.de/sp/css-aerial-dance-studio is valid.\n",
      "2024-02-01 22:05:43,351 - INFO - Processing URL 3/3: https://www.eversports.de/s/css-aerial-dance-studio/team\n",
      "2024-02-01 22:05:45,622 - INFO - URL https://www.eversports.de/s/css-aerial-dance-studio/team is valid.\n"
     ]
    },
    {
     "name": "stdout",
     "output_type": "stream",
     "text": [
      "Scraping Pole Studio Data from https://www.eversports.de/s/css-aerial-dance-studio...\n"
     ]
    },
    {
     "name": "stderr",
     "output_type": "stream",
     "text": [
      "Processing URLs:  74%|███████▎  | 303/412 [26:55<07:53,  4.34s/it]"
     ]
    },
    {
     "name": "stdout",
     "output_type": "stream",
     "text": [
      "Processing completed.\n",
      "Pole Studio Data: 1 entries\n",
      "Starting URL reconstruction...\n"
     ]
    },
    {
     "name": "stderr",
     "output_type": "stream",
     "text": [
      "Processing URLs:  74%|███████▍  | 304/412 [26:56<06:02,  3.35s/it]"
     ]
    },
    {
     "name": "stdout",
     "output_type": "stream",
     "text": [
      "Error during HTTP request: 404 Client Error: Not Found for url: https://www.eversports.de/s/flexx-arts--aerial-dance-&-fitness\n",
      "Converting to DataFrame...\n",
      "Validating URLs...\n",
      "Processing completed.\n",
      "Starting URL reconstruction...\n"
     ]
    },
    {
     "name": "stderr",
     "output_type": "stream",
     "text": [
      "Processing URLs:  74%|███████▍  | 305/412 [26:57<04:44,  2.66s/it]"
     ]
    },
    {
     "name": "stdout",
     "output_type": "stream",
     "text": [
      "Error during HTTP request: 404 Client Error: Not Found for url: https://www.eversports.de/s/rock'n'pole-regensburg\n",
      "Converting to DataFrame...\n",
      "Validating URLs...\n",
      "Processing completed.\n",
      "Starting URL reconstruction...\n"
     ]
    },
    {
     "name": "stderr",
     "output_type": "stream",
     "text": [
      "2024-02-01 22:05:51,208 - INFO - Processing URL 1/3: https://www.eversports.de/s/polestructions\n"
     ]
    },
    {
     "name": "stdout",
     "output_type": "stream",
     "text": [
      "Converting to DataFrame...\n",
      "Validating URLs...\n"
     ]
    },
    {
     "name": "stderr",
     "output_type": "stream",
     "text": [
      "2024-02-01 22:05:52,648 - INFO - URL https://www.eversports.de/s/polestructions is valid.\n",
      "2024-02-01 22:05:52,649 - INFO - Processing URL 2/3: https://www.eversports.de/sp/polestructions\n",
      "2024-02-01 22:05:53,782 - INFO - URL https://www.eversports.de/sp/polestructions is valid.\n",
      "2024-02-01 22:05:53,784 - INFO - Processing URL 3/3: https://www.eversports.de/s/polestructions/team\n",
      "2024-02-01 22:05:55,054 - INFO - URL https://www.eversports.de/s/polestructions/team is valid.\n"
     ]
    },
    {
     "name": "stdout",
     "output_type": "stream",
     "text": [
      "Scraping Pole Studio Data from https://www.eversports.de/s/polestructions...\n"
     ]
    },
    {
     "name": "stderr",
     "output_type": "stream",
     "text": [
      "Processing URLs:  74%|███████▍  | 306/412 [27:04<07:07,  4.03s/it]"
     ]
    },
    {
     "name": "stdout",
     "output_type": "stream",
     "text": [
      "Processing completed.\n",
      "Pole Studio Data: 1 entries\n",
      "Starting URL reconstruction...\n"
     ]
    },
    {
     "name": "stderr",
     "output_type": "stream",
     "text": [
      "2024-02-01 22:05:56,730 - INFO - Processing URL 1/3: https://www.eversports.de/s/dance-and-pole-deltawerk\n"
     ]
    },
    {
     "name": "stdout",
     "output_type": "stream",
     "text": [
      "Converting to DataFrame...\n",
      "Validating URLs...\n"
     ]
    },
    {
     "name": "stderr",
     "output_type": "stream",
     "text": [
      "2024-02-01 22:05:58,014 - INFO - URL https://www.eversports.de/s/dance-and-pole-deltawerk is valid.\n",
      "2024-02-01 22:05:58,016 - INFO - Processing URL 2/3: https://www.eversports.de/sp/dance-and-pole-deltawerk\n",
      "2024-02-01 22:05:59,163 - INFO - URL https://www.eversports.de/sp/dance-and-pole-deltawerk is valid.\n",
      "2024-02-01 22:05:59,165 - INFO - Processing URL 3/3: https://www.eversports.de/s/dance-and-pole-deltawerk/team\n",
      "2024-02-01 22:06:00,597 - INFO - URL https://www.eversports.de/s/dance-and-pole-deltawerk/team is valid.\n"
     ]
    },
    {
     "name": "stdout",
     "output_type": "stream",
     "text": [
      "Scraping Pole Studio Data from https://www.eversports.de/s/dance-and-pole-deltawerk...\n"
     ]
    },
    {
     "name": "stderr",
     "output_type": "stream",
     "text": [
      "Processing URLs:  75%|███████▍  | 307/412 [27:09<07:49,  4.47s/it]"
     ]
    },
    {
     "name": "stdout",
     "output_type": "stream",
     "text": [
      "Processing completed.\n",
      "Pole Studio Data: 1 entries\n",
      "Starting URL reconstruction...\n"
     ]
    },
    {
     "name": "stderr",
     "output_type": "stream",
     "text": [
      "Processing URLs:  75%|███████▍  | 308/412 [27:13<07:16,  4.20s/it]"
     ]
    },
    {
     "name": "stdout",
     "output_type": "stream",
     "text": [
      "Error during HTTP request: Exceeded 30 redirects.\n",
      "Converting to DataFrame...\n",
      "Validating URLs...\n",
      "Processing completed.\n",
      "Starting URL reconstruction...\n"
     ]
    },
    {
     "name": "stderr",
     "output_type": "stream",
     "text": [
      "Processing URLs:  75%|███████▌  | 309/412 [27:14<05:38,  3.29s/it]"
     ]
    },
    {
     "name": "stdout",
     "output_type": "stream",
     "text": [
      "Error during HTTP request: 404 Client Error: Not Found for url: https://www.eversports.de/s/polegarage-hagen\n",
      "Converting to DataFrame...\n",
      "Validating URLs...\n",
      "Processing completed.\n",
      "Starting URL reconstruction...\n"
     ]
    },
    {
     "name": "stderr",
     "output_type": "stream",
     "text": [
      "Processing URLs:  75%|███████▌  | 310/412 [27:15<04:26,  2.61s/it]"
     ]
    },
    {
     "name": "stdout",
     "output_type": "stream",
     "text": [
      "Error during HTTP request: 404 Client Error: Not Found for url: https://www.eversports.de/s/move-on!-dance-studio-%26-polemotions\n",
      "Converting to DataFrame...\n",
      "Validating URLs...\n",
      "Processing completed.\n",
      "Starting URL reconstruction...\n"
     ]
    },
    {
     "name": "stderr",
     "output_type": "stream",
     "text": [
      "Processing URLs:  75%|███████▌  | 311/412 [27:19<05:02,  2.99s/it]"
     ]
    },
    {
     "name": "stdout",
     "output_type": "stream",
     "text": [
      "Error during HTTP request: Exceeded 30 redirects.\n",
      "Converting to DataFrame...\n",
      "Validating URLs...\n",
      "Processing completed.\n",
      "Starting URL reconstruction...\n"
     ]
    },
    {
     "name": "stderr",
     "output_type": "stream",
     "text": [
      "Processing URLs:  76%|███████▌  | 312/412 [27:23<05:12,  3.12s/it]"
     ]
    },
    {
     "name": "stdout",
     "output_type": "stream",
     "text": [
      "Error during HTTP request: Exceeded 30 redirects.\n",
      "Converting to DataFrame...\n",
      "Validating URLs...\n",
      "Processing completed.\n",
      "Starting URL reconstruction...\n"
     ]
    },
    {
     "name": "stderr",
     "output_type": "stream",
     "text": [
      "2024-02-01 22:06:15,456 - INFO - Processing URL 1/4: https://www.eversports.de/s/the-pole-lounge\n"
     ]
    },
    {
     "name": "stdout",
     "output_type": "stream",
     "text": [
      "Error reconstructing URL for 'Kurse': Unrecognized text: 'Kurse'\n",
      "Converting to DataFrame...\n",
      "Validating URLs...\n"
     ]
    },
    {
     "name": "stderr",
     "output_type": "stream",
     "text": [
      "2024-02-01 22:06:17,069 - INFO - URL https://www.eversports.de/s/the-pole-lounge is valid.\n",
      "2024-02-01 22:06:17,070 - INFO - Processing URL 2/4: https://www.eversports.de/sw/the-pole-lounge\n",
      "2024-02-01 22:06:18,218 - INFO - URL https://www.eversports.de/sw/the-pole-lounge is valid.\n",
      "2024-02-01 22:06:18,219 - INFO - Processing URL 3/4: https://www.eversports.de/sp/the-pole-lounge\n",
      "2024-02-01 22:06:19,352 - INFO - URL https://www.eversports.de/sp/the-pole-lounge is valid.\n",
      "2024-02-01 22:06:19,353 - INFO - Processing URL 4/4: https://www.eversports.de/s/the-pole-lounge/team\n",
      "2024-02-01 22:06:20,520 - INFO - URL https://www.eversports.de/s/the-pole-lounge/team is valid.\n"
     ]
    },
    {
     "name": "stdout",
     "output_type": "stream",
     "text": [
      "Scraping Pole Studio Data from https://www.eversports.de/s/the-pole-lounge...\n",
      "Scraping Workshops Data from https://www.eversports.de/sw/the-pole-lounge...\n",
      "Scraping Workshop Details from https://www.eversports.de/e/workshop/QD21QTN...\n"
     ]
    },
    {
     "name": "stderr",
     "output_type": "stream",
     "text": [
      "Processing URLs:  76%|███████▌  | 313/412 [27:32<08:18,  5.04s/it]"
     ]
    },
    {
     "name": "stdout",
     "output_type": "stream",
     "text": [
      "Processing completed.\n",
      "Pole Studio Data: 1 entries\n",
      "Workshops Data: 1 entries\n",
      "Workshop Details: 1 entries\n",
      "Starting URL reconstruction...\n"
     ]
    },
    {
     "name": "stderr",
     "output_type": "stream",
     "text": [
      "Processing URLs:  76%|███████▌  | 314/412 [27:33<06:18,  3.86s/it]"
     ]
    },
    {
     "name": "stdout",
     "output_type": "stream",
     "text": [
      "Error during HTTP request: 404 Client Error: Not Found for url: https://www.eversports.de/s/seemannsbraut-poledance-flensburg\n",
      "Converting to DataFrame...\n",
      "Validating URLs...\n",
      "Processing completed.\n",
      "Starting URL reconstruction...\n"
     ]
    },
    {
     "name": "stderr",
     "output_type": "stream",
     "text": [
      "Processing URLs:  76%|███████▋  | 315/412 [27:34<04:53,  3.03s/it]"
     ]
    },
    {
     "name": "stdout",
     "output_type": "stream",
     "text": [
      "Error during HTTP request: 404 Client Error: Not Found for url: https://www.eversports.de/s/divas-dance-studio\n",
      "Converting to DataFrame...\n",
      "Validating URLs...\n",
      "Processing completed.\n",
      "Starting URL reconstruction...\n"
     ]
    },
    {
     "name": "stderr",
     "output_type": "stream",
     "text": [
      "2024-02-01 22:06:27,373 - INFO - Processing URL 1/4: https://www.eversports.de/s/lespole\n"
     ]
    },
    {
     "name": "stdout",
     "output_type": "stream",
     "text": [
      "Converting to DataFrame...\n",
      "Validating URLs...\n"
     ]
    },
    {
     "name": "stderr",
     "output_type": "stream",
     "text": [
      "2024-02-01 22:06:28,722 - INFO - URL https://www.eversports.de/s/lespole is valid.\n",
      "2024-02-01 22:06:28,723 - INFO - Processing URL 2/4: https://www.eversports.de/sw/lespole\n",
      "2024-02-01 22:06:29,903 - INFO - URL https://www.eversports.de/sw/lespole is valid.\n",
      "2024-02-01 22:06:29,903 - INFO - Processing URL 3/4: https://www.eversports.de/sp/lespole\n",
      "2024-02-01 22:06:31,022 - INFO - URL https://www.eversports.de/sp/lespole is valid.\n",
      "2024-02-01 22:06:31,023 - INFO - Processing URL 4/4: https://www.eversports.de/s/lespole/team\n",
      "2024-02-01 22:06:32,201 - INFO - URL https://www.eversports.de/s/lespole/team is valid.\n"
     ]
    },
    {
     "name": "stdout",
     "output_type": "stream",
     "text": [
      "Scraping Pole Studio Data from https://www.eversports.de/s/lespole...\n",
      "Scraping Workshops Data from https://www.eversports.de/sw/lespole...\n",
      "Scraping Workshop Details from https://www.eversports.de/e/workshop/ph8TlfO...\n",
      "Scraping Workshop Details from https://www.eversports.de/e/workshop/4lKTG4R...\n",
      "Scraping Workshop Details from https://www.eversports.de/e/workshop/lByHwWr...\n",
      "Scraping Workshop Details from https://www.eversports.de/e/workshop/VC_twiJ...\n",
      "Scraping Workshop Details from https://www.eversports.de/e/workshop/L-VuR9j...\n"
     ]
    },
    {
     "name": "stderr",
     "output_type": "stream",
     "text": [
      "Processing URLs:  77%|███████▋  | 316/412 [28:00<15:41,  9.81s/it]"
     ]
    },
    {
     "name": "stdout",
     "output_type": "stream",
     "text": [
      "Processing completed.\n",
      "Pole Studio Data: 1 entries\n",
      "Workshops Data: 5 entries\n",
      "Workshop Details: 5 entries\n",
      "Starting URL reconstruction...\n"
     ]
    },
    {
     "name": "stderr",
     "output_type": "stream",
     "text": [
      "2024-02-01 22:06:52,622 - INFO - Processing URL 1/3: https://www.eversports.de/s/polefitness-leipzig\n"
     ]
    },
    {
     "name": "stdout",
     "output_type": "stream",
     "text": [
      "Converting to DataFrame...\n",
      "Validating URLs...\n"
     ]
    },
    {
     "name": "stderr",
     "output_type": "stream",
     "text": [
      "2024-02-01 22:06:53,914 - INFO - URL https://www.eversports.de/s/polefitness-leipzig is valid.\n",
      "2024-02-01 22:06:53,915 - INFO - Processing URL 2/3: https://www.eversports.de/sp/polefitness-leipzig\n",
      "2024-02-01 22:06:55,335 - INFO - URL https://www.eversports.de/sp/polefitness-leipzig is valid.\n",
      "2024-02-01 22:06:55,336 - INFO - Processing URL 3/3: https://www.eversports.de/s/polefitness-leipzig/team\n",
      "2024-02-01 22:06:56,613 - INFO - URL https://www.eversports.de/s/polefitness-leipzig/team is valid.\n"
     ]
    },
    {
     "name": "stdout",
     "output_type": "stream",
     "text": [
      "Scraping Pole Studio Data from https://www.eversports.de/s/polefitness-leipzig...\n"
     ]
    },
    {
     "name": "stderr",
     "output_type": "stream",
     "text": [
      "Processing URLs:  77%|███████▋  | 317/412 [28:05<13:31,  8.54s/it]"
     ]
    },
    {
     "name": "stdout",
     "output_type": "stream",
     "text": [
      "Processing completed.\n",
      "Pole Studio Data: 1 entries\n",
      "Starting URL reconstruction...\n"
     ]
    },
    {
     "name": "stderr",
     "output_type": "stream",
     "text": [
      "Processing URLs:  77%|███████▋  | 318/412 [28:07<09:54,  6.32s/it]"
     ]
    },
    {
     "name": "stdout",
     "output_type": "stream",
     "text": [
      "Error during HTTP request: 404 Client Error: Not Found for url: https://www.eversports.de/s/pole-dream\n",
      "Converting to DataFrame...\n",
      "Validating URLs...\n",
      "Processing completed.\n",
      "Starting URL reconstruction...\n"
     ]
    },
    {
     "name": "stderr",
     "output_type": "stream",
     "text": [
      "Processing URLs:  77%|███████▋  | 319/412 [28:08<07:23,  4.77s/it]"
     ]
    },
    {
     "name": "stdout",
     "output_type": "stream",
     "text": [
      "Error during HTTP request: 404 Client Error: Not Found for url: https://www.eversports.de/s/move-with-ana\n",
      "Converting to DataFrame...\n",
      "Validating URLs...\n",
      "Processing completed.\n",
      "Starting URL reconstruction...\n"
     ]
    },
    {
     "name": "stderr",
     "output_type": "stream",
     "text": [
      "Processing URLs:  78%|███████▊  | 320/412 [28:10<06:01,  3.93s/it]"
     ]
    },
    {
     "name": "stdout",
     "output_type": "stream",
     "text": [
      "Error during HTTP request: 404 Client Error: Not Found for url: https://www.eversports.de/s/mstage-tanzart-bewegung\n",
      "Converting to DataFrame...\n",
      "Validating URLs...\n",
      "Processing completed.\n",
      "Starting URL reconstruction...\n"
     ]
    },
    {
     "name": "stderr",
     "output_type": "stream",
     "text": [
      "Processing URLs:  78%|███████▊  | 321/412 [28:11<04:43,  3.12s/it]"
     ]
    },
    {
     "name": "stdout",
     "output_type": "stream",
     "text": [
      "Error during HTTP request: 404 Client Error: Not Found for url: https://www.eversports.de/s/aerial-athletix-\n",
      "Converting to DataFrame...\n",
      "Validating URLs...\n",
      "Processing completed.\n",
      "Starting URL reconstruction...\n"
     ]
    },
    {
     "name": "stderr",
     "output_type": "stream",
     "text": [
      "Processing URLs:  78%|███████▊  | 322/412 [28:12<03:47,  2.52s/it]"
     ]
    },
    {
     "name": "stdout",
     "output_type": "stream",
     "text": [
      "Error during HTTP request: 404 Client Error: Not Found for url: https://www.eversports.de/s/firstsports---polefitness\n",
      "Converting to DataFrame...\n",
      "Validating URLs...\n",
      "Processing completed.\n",
      "Starting URL reconstruction...\n"
     ]
    },
    {
     "name": "stderr",
     "output_type": "stream",
     "text": [
      "2024-02-01 22:07:04,824 - INFO - Processing URL 1/3: https://www.eversports.de/s/pole-for-soul-gbr\n"
     ]
    },
    {
     "name": "stdout",
     "output_type": "stream",
     "text": [
      "Converting to DataFrame...\n",
      "Validating URLs...\n"
     ]
    },
    {
     "name": "stderr",
     "output_type": "stream",
     "text": [
      "2024-02-01 22:07:06,125 - INFO - URL https://www.eversports.de/s/pole-for-soul-gbr is valid.\n",
      "2024-02-01 22:07:06,126 - INFO - Processing URL 2/3: https://www.eversports.de/sw/pole-for-soul-gbr\n",
      "2024-02-01 22:07:07,350 - INFO - URL https://www.eversports.de/sw/pole-for-soul-gbr is valid.\n",
      "2024-02-01 22:07:07,351 - INFO - Processing URL 3/3: https://www.eversports.de/s/pole-for-soul-gbr/team\n",
      "2024-02-01 22:07:08,515 - INFO - URL https://www.eversports.de/s/pole-for-soul-gbr/team is valid.\n"
     ]
    },
    {
     "name": "stdout",
     "output_type": "stream",
     "text": [
      "Scraping Pole Studio Data from https://www.eversports.de/s/pole-for-soul-gbr...\n",
      "Scraping Workshops Data from https://www.eversports.de/sw/pole-for-soul-gbr...\n",
      "Scraping Workshop Details from https://www.eversports.de/e/workshop/rnbGVfh...\n"
     ]
    },
    {
     "name": "stderr",
     "output_type": "stream",
     "text": [
      "Processing URLs:  78%|███████▊  | 323/412 [28:20<06:09,  4.15s/it]"
     ]
    },
    {
     "name": "stdout",
     "output_type": "stream",
     "text": [
      "Processing completed.\n",
      "Pole Studio Data: 1 entries\n",
      "Workshops Data: 1 entries\n",
      "Workshop Details: 1 entries\n",
      "Starting URL reconstruction...\n"
     ]
    },
    {
     "name": "stderr",
     "output_type": "stream",
     "text": [
      "Processing URLs:  79%|███████▊  | 324/412 [28:21<04:47,  3.27s/it]"
     ]
    },
    {
     "name": "stdout",
     "output_type": "stream",
     "text": [
      "Error during HTTP request: 404 Client Error: Not Found for url: https://www.eversports.de/s/polesports-studio-buchholz\n",
      "Converting to DataFrame...\n",
      "Validating URLs...\n",
      "Processing completed.\n",
      "Starting URL reconstruction...\n"
     ]
    },
    {
     "name": "stderr",
     "output_type": "stream",
     "text": [
      "2024-02-01 22:07:14,004 - INFO - Processing URL 1/4: https://www.eversports.de/s/luftbonbon\n"
     ]
    },
    {
     "name": "stdout",
     "output_type": "stream",
     "text": [
      "Converting to DataFrame...\n",
      "Validating URLs...\n"
     ]
    },
    {
     "name": "stderr",
     "output_type": "stream",
     "text": [
      "2024-02-01 22:07:15,583 - INFO - URL https://www.eversports.de/s/luftbonbon is valid.\n",
      "2024-02-01 22:07:15,584 - INFO - Processing URL 2/4: https://www.eversports.de/sw/luftbonbon\n",
      "2024-02-01 22:07:16,721 - INFO - URL https://www.eversports.de/sw/luftbonbon is valid.\n",
      "2024-02-01 22:07:16,723 - INFO - Processing URL 3/4: https://www.eversports.de/sp/luftbonbon\n",
      "2024-02-01 22:07:17,867 - INFO - URL https://www.eversports.de/sp/luftbonbon is valid.\n",
      "2024-02-01 22:07:17,868 - INFO - Processing URL 4/4: https://www.eversports.de/s/luftbonbon/team\n",
      "2024-02-01 22:07:19,024 - INFO - URL https://www.eversports.de/s/luftbonbon/team is valid.\n"
     ]
    },
    {
     "name": "stdout",
     "output_type": "stream",
     "text": [
      "Scraping Pole Studio Data from https://www.eversports.de/s/luftbonbon...\n",
      "Scraping Workshops Data from https://www.eversports.de/sw/luftbonbon...\n",
      "Scraping Workshop Details from https://www.eversports.de/e/workshop/60kU5cU...\n"
     ]
    },
    {
     "name": "stderr",
     "output_type": "stream",
     "text": [
      "Processing URLs:  79%|███████▉  | 325/412 [28:30<07:16,  5.02s/it]"
     ]
    },
    {
     "name": "stdout",
     "output_type": "stream",
     "text": [
      "Processing completed.\n",
      "Pole Studio Data: 1 entries\n",
      "Workshops Data: 1 entries\n",
      "Workshop Details: 1 entries\n",
      "Starting URL reconstruction...\n"
     ]
    },
    {
     "name": "stderr",
     "output_type": "stream",
     "text": [
      "Processing URLs:  79%|███████▉  | 326/412 [28:32<05:42,  3.98s/it]"
     ]
    },
    {
     "name": "stdout",
     "output_type": "stream",
     "text": [
      "Error during HTTP request: 404 Client Error: Not Found for url: https://www.eversports.de/s/vanilla-sky-pole-atelier\n",
      "Converting to DataFrame...\n",
      "Validating URLs...\n",
      "Processing completed.\n",
      "Starting URL reconstruction...\n"
     ]
    },
    {
     "name": "stderr",
     "output_type": "stream",
     "text": [
      "Processing URLs:  79%|███████▉  | 327/412 [28:33<04:24,  3.11s/it]"
     ]
    },
    {
     "name": "stdout",
     "output_type": "stream",
     "text": [
      "Error during HTTP request: 404 Client Error: Not Found for url: https://www.eversports.de/s/souldance\n",
      "Converting to DataFrame...\n",
      "Validating URLs...\n",
      "Processing completed.\n",
      "Starting URL reconstruction...\n"
     ]
    },
    {
     "name": "stderr",
     "output_type": "stream",
     "text": [
      "2024-02-01 22:07:25,780 - INFO - Processing URL 1/3: https://www.eversports.de/s/tanzstudio-michel\n"
     ]
    },
    {
     "name": "stdout",
     "output_type": "stream",
     "text": [
      "Converting to DataFrame...\n",
      "Validating URLs...\n"
     ]
    },
    {
     "name": "stderr",
     "output_type": "stream",
     "text": [
      "2024-02-01 22:07:27,147 - INFO - URL https://www.eversports.de/s/tanzstudio-michel is valid.\n",
      "2024-02-01 22:07:27,147 - INFO - Processing URL 2/3: https://www.eversports.de/sp/tanzstudio-michel\n",
      "2024-02-01 22:07:28,264 - INFO - URL https://www.eversports.de/sp/tanzstudio-michel is valid.\n",
      "2024-02-01 22:07:28,265 - INFO - Processing URL 3/3: https://www.eversports.de/s/tanzstudio-michel/team\n",
      "2024-02-01 22:07:29,408 - INFO - URL https://www.eversports.de/s/tanzstudio-michel/team is valid.\n"
     ]
    },
    {
     "name": "stdout",
     "output_type": "stream",
     "text": [
      "Scraping Pole Studio Data from https://www.eversports.de/s/tanzstudio-michel...\n"
     ]
    },
    {
     "name": "stderr",
     "output_type": "stream",
     "text": [
      "Processing URLs:  80%|███████▉  | 328/412 [28:38<05:15,  3.76s/it]"
     ]
    },
    {
     "name": "stdout",
     "output_type": "stream",
     "text": [
      "Processing completed.\n",
      "Pole Studio Data: 1 entries\n",
      "Starting URL reconstruction...\n"
     ]
    },
    {
     "name": "stderr",
     "output_type": "stream",
     "text": [
      "2024-02-01 22:07:31,027 - INFO - Processing URL 1/4: https://www.eversports.de/s/flow-fusion-pole-aerial-dance-studio\n"
     ]
    },
    {
     "name": "stdout",
     "output_type": "stream",
     "text": [
      "Converting to DataFrame...\n",
      "Validating URLs...\n"
     ]
    },
    {
     "name": "stderr",
     "output_type": "stream",
     "text": [
      "2024-02-01 22:07:32,580 - INFO - URL https://www.eversports.de/s/flow-fusion-pole-aerial-dance-studio is valid.\n",
      "2024-02-01 22:07:32,581 - INFO - Processing URL 2/4: https://www.eversports.de/sw/flow-fusion-pole-aerial-dance-studio\n",
      "2024-02-01 22:07:33,839 - INFO - URL https://www.eversports.de/sw/flow-fusion-pole-aerial-dance-studio is valid.\n",
      "2024-02-01 22:07:33,839 - INFO - Processing URL 3/4: https://www.eversports.de/sp/flow-fusion-pole-aerial-dance-studio\n",
      "2024-02-01 22:07:34,948 - INFO - URL https://www.eversports.de/sp/flow-fusion-pole-aerial-dance-studio is valid.\n",
      "2024-02-01 22:07:34,949 - INFO - Processing URL 4/4: https://www.eversports.de/s/flow-fusion-pole-aerial-dance-studio/team\n",
      "2024-02-01 22:07:36,092 - INFO - URL https://www.eversports.de/s/flow-fusion-pole-aerial-dance-studio/team is valid.\n"
     ]
    },
    {
     "name": "stdout",
     "output_type": "stream",
     "text": [
      "Scraping Pole Studio Data from https://www.eversports.de/s/flow-fusion-pole-aerial-dance-studio...\n",
      "Scraping Workshops Data from https://www.eversports.de/sw/flow-fusion-pole-aerial-dance-studio...\n",
      "Scraping Workshop Details from https://www.eversports.de/e/workshop/dv_M_IE...\n",
      "Scraping Workshop Details from https://www.eversports.de/e/workshop/pcj6I1Q...\n"
     ]
    },
    {
     "name": "stderr",
     "output_type": "stream",
     "text": [
      "Processing URLs:  80%|███████▉  | 329/412 [28:49<08:00,  5.79s/it]"
     ]
    },
    {
     "name": "stdout",
     "output_type": "stream",
     "text": [
      "Processing completed.\n",
      "Pole Studio Data: 1 entries\n",
      "Workshops Data: 2 entries\n",
      "Workshop Details: 2 entries\n",
      "Starting URL reconstruction...\n"
     ]
    },
    {
     "name": "stderr",
     "output_type": "stream",
     "text": [
      "Processing URLs:  80%|████████  | 330/412 [28:51<06:35,  4.83s/it]"
     ]
    },
    {
     "name": "stdout",
     "output_type": "stream",
     "text": [
      "Error during HTTP request: 404 Client Error: Not Found for url: https://www.eversports.de/s/les.pole\n",
      "Converting to DataFrame...\n",
      "Validating URLs...\n",
      "Processing completed.\n",
      "Starting URL reconstruction...\n"
     ]
    },
    {
     "name": "stderr",
     "output_type": "stream",
     "text": [
      "Processing URLs:  80%|████████  | 331/412 [28:53<05:02,  3.73s/it]"
     ]
    },
    {
     "name": "stdout",
     "output_type": "stream",
     "text": [
      "Error during HTTP request: 404 Client Error: Not Found for url: https://www.eversports.de/s/pole-dance-trier\n",
      "Converting to DataFrame...\n",
      "Validating URLs...\n",
      "Processing completed.\n",
      "Starting URL reconstruction...\n"
     ]
    },
    {
     "name": "stderr",
     "output_type": "stream",
     "text": [
      "2024-02-01 22:07:47,464 - INFO - Processing URL 1/4: https://www.eversports.de/s/tsg-blau-gold-giessen-ev\n"
     ]
    },
    {
     "name": "stdout",
     "output_type": "stream",
     "text": [
      "Converting to DataFrame...\n",
      "Validating URLs...\n"
     ]
    },
    {
     "name": "stderr",
     "output_type": "stream",
     "text": [
      "2024-02-01 22:07:48,877 - INFO - URL https://www.eversports.de/s/tsg-blau-gold-giessen-ev is valid.\n",
      "2024-02-01 22:07:48,879 - INFO - Processing URL 2/4: https://www.eversports.de/sw/tsg-blau-gold-giessen-ev\n",
      "2024-02-01 22:07:50,134 - INFO - URL https://www.eversports.de/sw/tsg-blau-gold-giessen-ev is valid.\n",
      "2024-02-01 22:07:50,134 - INFO - Processing URL 3/4: https://www.eversports.de/sp/tsg-blau-gold-giessen-ev\n",
      "2024-02-01 22:07:51,376 - INFO - URL https://www.eversports.de/sp/tsg-blau-gold-giessen-ev is valid.\n",
      "2024-02-01 22:07:51,377 - INFO - Processing URL 4/4: https://www.eversports.de/s/tsg-blau-gold-giessen-ev/team\n",
      "2024-02-01 22:07:52,724 - INFO - URL https://www.eversports.de/s/tsg-blau-gold-giessen-ev/team is valid.\n"
     ]
    },
    {
     "name": "stdout",
     "output_type": "stream",
     "text": [
      "Scraping Pole Studio Data from https://www.eversports.de/s/tsg-blau-gold-giessen-ev...\n",
      "Scraping Workshops Data from https://www.eversports.de/sw/tsg-blau-gold-giessen-ev...\n",
      "Scraping Workshop Details from https://www.eversports.de/e/workshop/Yv4ZcEK...\n",
      "Scraping Workshop Details from https://www.eversports.de/e/workshop/1LJamzo...\n",
      "Scraping Workshop Details from https://www.eversports.de/e/workshop/tFkZ7tt...\n",
      "Scraping Workshop Details from https://www.eversports.de/e/workshop/kTY0ERN...\n"
     ]
    },
    {
     "name": "stderr",
     "output_type": "stream",
     "text": [
      "Processing URLs:  81%|████████  | 332/412 [29:09<10:01,  7.52s/it]"
     ]
    },
    {
     "name": "stdout",
     "output_type": "stream",
     "text": [
      "Processing completed.\n",
      "Pole Studio Data: 1 entries\n",
      "Workshops Data: 4 entries\n",
      "Workshop Details: 4 entries\n",
      "Starting URL reconstruction...\n"
     ]
    },
    {
     "name": "stderr",
     "output_type": "stream",
     "text": [
      "2024-02-01 22:08:02,556 - INFO - Processing URL 1/3: https://www.eversports.de/s/aerial-studio\n"
     ]
    },
    {
     "name": "stdout",
     "output_type": "stream",
     "text": [
      "Converting to DataFrame...\n",
      "Validating URLs...\n"
     ]
    },
    {
     "name": "stderr",
     "output_type": "stream",
     "text": [
      "2024-02-01 22:08:03,938 - INFO - URL https://www.eversports.de/s/aerial-studio is valid.\n",
      "2024-02-01 22:08:03,939 - INFO - Processing URL 2/3: https://www.eversports.de/sp/aerial-studio\n",
      "2024-02-01 22:08:05,081 - INFO - URL https://www.eversports.de/sp/aerial-studio is not valid.\n",
      "2024-02-01 22:08:05,082 - INFO - Processing URL 3/3: https://www.eversports.de/s/aerial-studio/team\n",
      "2024-02-01 22:08:06,300 - INFO - URL https://www.eversports.de/s/aerial-studio/team is valid.\n"
     ]
    },
    {
     "name": "stdout",
     "output_type": "stream",
     "text": [
      "Scraping Pole Studio Data from https://www.eversports.de/s/aerial-studio...\n"
     ]
    },
    {
     "name": "stderr",
     "output_type": "stream",
     "text": [
      "Processing URLs:  81%|████████  | 333/412 [29:15<09:25,  7.16s/it]"
     ]
    },
    {
     "name": "stdout",
     "output_type": "stream",
     "text": [
      "Processing completed.\n",
      "Pole Studio Data: 1 entries\n",
      "Starting URL reconstruction...\n"
     ]
    },
    {
     "name": "stderr",
     "output_type": "stream",
     "text": [
      "2024-02-01 22:08:13,961 - INFO - Processing URL 1/3: https://www.eversports.de/s/upsidedown-studio-bad-homburg\n"
     ]
    },
    {
     "name": "stdout",
     "output_type": "stream",
     "text": [
      "Error reconstructing URL for 'Kurse': Unrecognized text: 'Kurse'\n",
      "Converting to DataFrame...\n",
      "Validating URLs...\n"
     ]
    },
    {
     "name": "stderr",
     "output_type": "stream",
     "text": [
      "2024-02-01 22:08:15,298 - INFO - URL https://www.eversports.de/s/upsidedown-studio-bad-homburg is valid.\n",
      "2024-02-01 22:08:15,299 - INFO - Processing URL 2/3: https://www.eversports.de/sp/upsidedown-studio-bad-homburg\n",
      "2024-02-01 22:08:16,500 - INFO - URL https://www.eversports.de/sp/upsidedown-studio-bad-homburg is valid.\n",
      "2024-02-01 22:08:16,501 - INFO - Processing URL 3/3: https://www.eversports.de/s/upsidedown-studio-bad-homburg/team\n",
      "2024-02-01 22:08:17,784 - INFO - URL https://www.eversports.de/s/upsidedown-studio-bad-homburg/team is valid.\n"
     ]
    },
    {
     "name": "stdout",
     "output_type": "stream",
     "text": [
      "Scraping Pole Studio Data from https://www.eversports.de/s/upsidedown-studio-bad-homburg...\n"
     ]
    },
    {
     "name": "stderr",
     "output_type": "stream",
     "text": [
      "Processing URLs:  81%|████████  | 334/412 [29:27<11:00,  8.46s/it]"
     ]
    },
    {
     "name": "stdout",
     "output_type": "stream",
     "text": [
      "Processing completed.\n",
      "Pole Studio Data: 1 entries\n",
      "Starting URL reconstruction...\n"
     ]
    },
    {
     "name": "stderr",
     "output_type": "stream",
     "text": [
      "2024-02-01 22:08:19,638 - INFO - Processing URL 1/4: https://www.eversports.de/s/pole-and-move-mannheim\n"
     ]
    },
    {
     "name": "stdout",
     "output_type": "stream",
     "text": [
      "Converting to DataFrame...\n",
      "Validating URLs...\n"
     ]
    },
    {
     "name": "stderr",
     "output_type": "stream",
     "text": [
      "2024-02-01 22:08:20,977 - INFO - URL https://www.eversports.de/s/pole-and-move-mannheim is valid.\n",
      "2024-02-01 22:08:20,978 - INFO - Processing URL 2/4: https://www.eversports.de/sw/pole-and-move-mannheim\n",
      "2024-02-01 22:08:22,470 - INFO - URL https://www.eversports.de/sw/pole-and-move-mannheim is valid.\n",
      "2024-02-01 22:08:22,471 - INFO - Processing URL 3/4: https://www.eversports.de/sp/pole-and-move-mannheim\n",
      "2024-02-01 22:08:23,578 - INFO - URL https://www.eversports.de/sp/pole-and-move-mannheim is valid.\n",
      "2024-02-01 22:08:23,579 - INFO - Processing URL 4/4: https://www.eversports.de/s/pole-and-move-mannheim/team\n",
      "2024-02-01 22:08:24,845 - INFO - URL https://www.eversports.de/s/pole-and-move-mannheim/team is valid.\n"
     ]
    },
    {
     "name": "stdout",
     "output_type": "stream",
     "text": [
      "Scraping Pole Studio Data from https://www.eversports.de/s/pole-and-move-mannheim...\n",
      "Scraping Workshops Data from https://www.eversports.de/sw/pole-and-move-mannheim...\n",
      "Scraping Workshop Details from https://www.eversports.de/e/workshop/UZAUnxM...\n",
      "Scraping Workshop Details from https://www.eversports.de/e/workshop/-IGRjIZ...\n",
      "Scraping Workshop Details from https://www.eversports.de/e/workshop/gbofUBp...\n",
      "Scraping Workshop Details from https://www.eversports.de/e/workshop/NFfn_y6...\n",
      "Scraping Workshop Details from https://www.eversports.de/e/workshop/miY7n0b...\n",
      "Scraping Workshop Details from https://www.eversports.de/e/workshop/C9b62JT...\n",
      "Scraping Workshop Details from https://www.eversports.de/e/workshop/0fonSE4...\n"
     ]
    },
    {
     "name": "stderr",
     "output_type": "stream",
     "text": [
      "Processing URLs:  81%|████████▏ | 335/412 [29:45<14:46, 11.51s/it]"
     ]
    },
    {
     "name": "stdout",
     "output_type": "stream",
     "text": [
      "Processing completed.\n",
      "Pole Studio Data: 1 entries\n",
      "Workshops Data: 7 entries\n",
      "Workshop Details: 7 entries\n",
      "Starting URL reconstruction...\n"
     ]
    },
    {
     "name": "stderr",
     "output_type": "stream",
     "text": [
      "Processing URLs:  82%|████████▏ | 336/412 [29:47<10:38,  8.40s/it]"
     ]
    },
    {
     "name": "stdout",
     "output_type": "stream",
     "text": [
      "Error during HTTP request: 404 Client Error: Not Found for url: https://www.eversports.de/s/studio-mohnblume\n",
      "Converting to DataFrame...\n",
      "Validating URLs...\n",
      "Processing completed.\n",
      "Starting URL reconstruction...\n"
     ]
    },
    {
     "name": "stderr",
     "output_type": "stream",
     "text": [
      "2024-02-01 22:08:39,368 - INFO - Processing URL 1/4: https://www.eversports.de/s/pole-heroes\n"
     ]
    },
    {
     "name": "stdout",
     "output_type": "stream",
     "text": [
      "Converting to DataFrame...\n",
      "Validating URLs...\n"
     ]
    },
    {
     "name": "stderr",
     "output_type": "stream",
     "text": [
      "2024-02-01 22:08:40,642 - INFO - URL https://www.eversports.de/s/pole-heroes is valid.\n",
      "2024-02-01 22:08:40,643 - INFO - Processing URL 2/4: https://www.eversports.de/sw/pole-heroes\n",
      "2024-02-01 22:08:41,831 - INFO - URL https://www.eversports.de/sw/pole-heroes is valid.\n",
      "2024-02-01 22:08:41,832 - INFO - Processing URL 3/4: https://www.eversports.de/sp/pole-heroes\n",
      "2024-02-01 22:08:42,949 - INFO - URL https://www.eversports.de/sp/pole-heroes is valid.\n",
      "2024-02-01 22:08:42,950 - INFO - Processing URL 4/4: https://www.eversports.de/s/pole-heroes/team\n",
      "2024-02-01 22:08:44,578 - INFO - URL https://www.eversports.de/s/pole-heroes/team is valid.\n"
     ]
    },
    {
     "name": "stdout",
     "output_type": "stream",
     "text": [
      "Scraping Pole Studio Data from https://www.eversports.de/s/pole-heroes...\n",
      "Scraping Workshops Data from https://www.eversports.de/sw/pole-heroes...\n",
      "Scraping Workshop Details from https://www.eversports.de/e/workshop/qyrtCxT...\n",
      "Scraping Workshop Details from https://www.eversports.de/e/workshop/XbedbNM...\n",
      "Scraping Workshop Details from https://www.eversports.de/e/workshop/_cVfx28...\n",
      "Scraping Workshop Details from https://www.eversports.de/e/workshop/vPqMS0U...\n"
     ]
    },
    {
     "name": "stderr",
     "output_type": "stream",
     "text": [
      "Processing URLs:  82%|████████▏ | 337/412 [30:00<12:33, 10.05s/it]"
     ]
    },
    {
     "name": "stdout",
     "output_type": "stream",
     "text": [
      "Processing completed.\n",
      "Pole Studio Data: 1 entries\n",
      "Workshops Data: 4 entries\n",
      "Workshop Details: 4 entries\n",
      "Starting URL reconstruction...\n"
     ]
    },
    {
     "name": "stderr",
     "output_type": "stream",
     "text": [
      "2024-02-01 22:08:53,202 - INFO - Processing URL 1/4: https://www.eversports.de/s/pole-oase\n"
     ]
    },
    {
     "name": "stdout",
     "output_type": "stream",
     "text": [
      "Converting to DataFrame...\n",
      "Validating URLs...\n"
     ]
    },
    {
     "name": "stderr",
     "output_type": "stream",
     "text": [
      "2024-02-01 22:08:54,636 - INFO - URL https://www.eversports.de/s/pole-oase is valid.\n",
      "2024-02-01 22:08:54,638 - INFO - Processing URL 2/4: https://www.eversports.de/sw/pole-oase\n",
      "2024-02-01 22:08:55,708 - INFO - URL https://www.eversports.de/sw/pole-oase is valid.\n",
      "2024-02-01 22:08:55,709 - INFO - Processing URL 3/4: https://www.eversports.de/sp/pole-oase\n",
      "2024-02-01 22:08:56,808 - INFO - URL https://www.eversports.de/sp/pole-oase is valid.\n",
      "2024-02-01 22:08:56,809 - INFO - Processing URL 4/4: https://www.eversports.de/s/pole-oase/team\n",
      "2024-02-01 22:08:57,933 - INFO - URL https://www.eversports.de/s/pole-oase/team is valid.\n"
     ]
    },
    {
     "name": "stdout",
     "output_type": "stream",
     "text": [
      "Scraping Pole Studio Data from https://www.eversports.de/s/pole-oase...\n",
      "Scraping Workshops Data from https://www.eversports.de/sw/pole-oase...\n",
      "Scraping Workshop Details from https://www.eversports.de/e/workshop/9cNbxVS...\n",
      "Scraping Workshop Details from https://www.eversports.de/e/workshop/FkutCDr...\n",
      "Scraping Workshop Details from https://www.eversports.de/e/workshop/qzt25WB...\n"
     ]
    },
    {
     "name": "stderr",
     "output_type": "stream",
     "text": [
      "Processing URLs:  82%|████████▏ | 338/412 [30:12<12:53, 10.46s/it]"
     ]
    },
    {
     "name": "stdout",
     "output_type": "stream",
     "text": [
      "Processing completed.\n",
      "Pole Studio Data: 1 entries\n",
      "Workshops Data: 3 entries\n",
      "Workshop Details: 3 entries\n",
      "Starting URL reconstruction...\n"
     ]
    },
    {
     "name": "stderr",
     "output_type": "stream",
     "text": [
      "2024-02-01 22:09:04,534 - INFO - Processing URL 1/1: https://www.eversports.de/s/pole-flow-berlin\n"
     ]
    },
    {
     "name": "stdout",
     "output_type": "stream",
     "text": [
      "Converting to DataFrame...\n",
      "Validating URLs...\n"
     ]
    },
    {
     "name": "stderr",
     "output_type": "stream",
     "text": [
      "2024-02-01 22:09:05,733 - INFO - URL https://www.eversports.de/s/pole-flow-berlin is valid.\n"
     ]
    },
    {
     "name": "stdout",
     "output_type": "stream",
     "text": [
      "Scraping Pole Studio Data from https://www.eversports.de/s/pole-flow-berlin...\n"
     ]
    },
    {
     "name": "stderr",
     "output_type": "stream",
     "text": [
      "Processing URLs:  82%|████████▏ | 339/412 [30:15<09:54,  8.14s/it]"
     ]
    },
    {
     "name": "stdout",
     "output_type": "stream",
     "text": [
      "Processing completed.\n",
      "Pole Studio Data: 1 entries\n",
      "Starting URL reconstruction...\n"
     ]
    },
    {
     "name": "stderr",
     "output_type": "stream",
     "text": [
      "Processing URLs:  83%|████████▎ | 340/412 [30:16<07:14,  6.03s/it]"
     ]
    },
    {
     "name": "stdout",
     "output_type": "stream",
     "text": [
      "Error during HTTP request: 404 Client Error: Not Found for url: https://www.eversports.de/s/studio-aria-arte\n",
      "Converting to DataFrame...\n",
      "Validating URLs...\n",
      "Processing completed.\n",
      "Starting URL reconstruction...\n"
     ]
    },
    {
     "name": "stderr",
     "output_type": "stream",
     "text": [
      "Processing URLs:  83%|████████▎ | 341/412 [30:17<05:22,  4.54s/it]"
     ]
    },
    {
     "name": "stdout",
     "output_type": "stream",
     "text": [
      "Error during HTTP request: 404 Client Error: Not Found for url: https://www.eversports.de/s/flexx-arts---aerial-dance-&-fitness\n",
      "Converting to DataFrame...\n",
      "Validating URLs...\n",
      "Processing completed.\n",
      "Starting URL reconstruction...\n"
     ]
    },
    {
     "name": "stderr",
     "output_type": "stream",
     "text": [
      "Processing URLs:  83%|████████▎ | 342/412 [30:18<04:06,  3.52s/it]"
     ]
    },
    {
     "name": "stdout",
     "output_type": "stream",
     "text": [
      "Error during HTTP request: 404 Client Error: Not Found for url: https://www.eversports.de/s/pole-studio-koblenz\n",
      "Converting to DataFrame...\n",
      "Validating URLs...\n",
      "Processing completed.\n",
      "Starting URL reconstruction...\n"
     ]
    },
    {
     "name": "stderr",
     "output_type": "stream",
     "text": [
      "2024-02-01 22:09:11,083 - INFO - Processing URL 1/3: https://www.eversports.de/s/polestation-academy\n"
     ]
    },
    {
     "name": "stdout",
     "output_type": "stream",
     "text": [
      "Converting to DataFrame...\n",
      "Validating URLs...\n"
     ]
    },
    {
     "name": "stderr",
     "output_type": "stream",
     "text": [
      "2024-02-01 22:09:12,370 - INFO - URL https://www.eversports.de/s/polestation-academy is valid.\n",
      "2024-02-01 22:09:12,371 - INFO - Processing URL 2/3: https://www.eversports.de/sp/polestation-academy\n",
      "2024-02-01 22:09:13,513 - INFO - URL https://www.eversports.de/sp/polestation-academy is not valid.\n",
      "2024-02-01 22:09:13,515 - INFO - Processing URL 3/3: https://www.eversports.de/s/polestation-academy/team\n",
      "2024-02-01 22:09:14,665 - INFO - URL https://www.eversports.de/s/polestation-academy/team is valid.\n"
     ]
    },
    {
     "name": "stdout",
     "output_type": "stream",
     "text": [
      "Scraping Pole Studio Data from https://www.eversports.de/s/polestation-academy...\n"
     ]
    },
    {
     "name": "stderr",
     "output_type": "stream",
     "text": [
      "Processing URLs:  83%|████████▎ | 343/412 [30:24<04:54,  4.27s/it]"
     ]
    },
    {
     "name": "stdout",
     "output_type": "stream",
     "text": [
      "Processing completed.\n",
      "Pole Studio Data: 1 entries\n",
      "Starting URL reconstruction...\n"
     ]
    },
    {
     "name": "stderr",
     "output_type": "stream",
     "text": [
      "2024-02-01 22:09:16,605 - INFO - Processing URL 1/3: https://www.eversports.de/s/pole-dance-studio-passion-hannover\n"
     ]
    },
    {
     "name": "stdout",
     "output_type": "stream",
     "text": [
      "Converting to DataFrame...\n",
      "Validating URLs...\n"
     ]
    },
    {
     "name": "stderr",
     "output_type": "stream",
     "text": [
      "2024-02-01 22:09:17,797 - INFO - URL https://www.eversports.de/s/pole-dance-studio-passion-hannover is valid.\n",
      "2024-02-01 22:09:17,798 - INFO - Processing URL 2/3: https://www.eversports.de/sp/pole-dance-studio-passion-hannover\n",
      "2024-02-01 22:09:18,905 - INFO - URL https://www.eversports.de/sp/pole-dance-studio-passion-hannover is valid.\n",
      "2024-02-01 22:09:18,907 - INFO - Processing URL 3/3: https://www.eversports.de/s/pole-dance-studio-passion-hannover/team\n",
      "2024-02-01 22:09:20,119 - INFO - URL https://www.eversports.de/s/pole-dance-studio-passion-hannover/team is valid.\n"
     ]
    },
    {
     "name": "stdout",
     "output_type": "stream",
     "text": [
      "Scraping Pole Studio Data from https://www.eversports.de/s/pole-dance-studio-passion-hannover...\n"
     ]
    },
    {
     "name": "stderr",
     "output_type": "stream",
     "text": [
      "Processing URLs:  83%|████████▎ | 344/412 [30:29<05:07,  4.52s/it]"
     ]
    },
    {
     "name": "stdout",
     "output_type": "stream",
     "text": [
      "Processing completed.\n",
      "Pole Studio Data: 1 entries\n",
      "Starting URL reconstruction...\n"
     ]
    },
    {
     "name": "stderr",
     "output_type": "stream",
     "text": [
      "2024-02-01 22:09:22,255 - INFO - Processing URL 1/3: https://www.eversports.de/s/la-belle\n"
     ]
    },
    {
     "name": "stdout",
     "output_type": "stream",
     "text": [
      "Error reconstructing URL for 'Kurse': Unrecognized text: 'Kurse'\n",
      "Converting to DataFrame...\n",
      "Validating URLs...\n"
     ]
    },
    {
     "name": "stderr",
     "output_type": "stream",
     "text": [
      "2024-02-01 22:09:23,566 - INFO - URL https://www.eversports.de/s/la-belle is valid.\n",
      "2024-02-01 22:09:23,567 - INFO - Processing URL 2/3: https://www.eversports.de/sp/la-belle\n",
      "2024-02-01 22:09:24,768 - INFO - URL https://www.eversports.de/sp/la-belle is valid.\n",
      "2024-02-01 22:09:24,769 - INFO - Processing URL 3/3: https://www.eversports.de/s/la-belle/team\n",
      "2024-02-01 22:09:26,031 - INFO - URL https://www.eversports.de/s/la-belle/team is valid.\n"
     ]
    },
    {
     "name": "stdout",
     "output_type": "stream",
     "text": [
      "Scraping Pole Studio Data from https://www.eversports.de/s/la-belle...\n"
     ]
    },
    {
     "name": "stderr",
     "output_type": "stream",
     "text": [
      "Processing URLs:  84%|████████▎ | 345/412 [30:35<05:35,  5.01s/it]"
     ]
    },
    {
     "name": "stdout",
     "output_type": "stream",
     "text": [
      "Processing completed.\n",
      "Pole Studio Data: 1 entries\n",
      "Starting URL reconstruction...\n"
     ]
    },
    {
     "name": "stderr",
     "output_type": "stream",
     "text": [
      "2024-02-01 22:09:28,055 - INFO - Processing URL 1/1: https://www.eversports.de/s/freaky-fitness\n"
     ]
    },
    {
     "name": "stdout",
     "output_type": "stream",
     "text": [
      "Converting to DataFrame...\n",
      "Validating URLs...\n"
     ]
    },
    {
     "name": "stderr",
     "output_type": "stream",
     "text": [
      "2024-02-01 22:09:29,421 - INFO - URL https://www.eversports.de/s/freaky-fitness is valid.\n"
     ]
    },
    {
     "name": "stdout",
     "output_type": "stream",
     "text": [
      "Scraping Pole Studio Data from https://www.eversports.de/s/freaky-fitness...\n"
     ]
    },
    {
     "name": "stderr",
     "output_type": "stream",
     "text": [
      "Processing URLs:  84%|████████▍ | 346/412 [30:38<04:54,  4.47s/it]"
     ]
    },
    {
     "name": "stdout",
     "output_type": "stream",
     "text": [
      "Processing completed.\n",
      "Pole Studio Data: 1 entries\n",
      "Starting URL reconstruction...\n"
     ]
    },
    {
     "name": "stderr",
     "output_type": "stream",
     "text": [
      "Processing URLs:  84%|████████▍ | 347/412 [30:40<03:50,  3.54s/it]"
     ]
    },
    {
     "name": "stdout",
     "output_type": "stream",
     "text": [
      "Error during HTTP request: 404 Client Error: Not Found for url: https://www.eversports.de/s/exquisuite\n",
      "Converting to DataFrame...\n",
      "Validating URLs...\n",
      "Processing completed.\n",
      "Starting URL reconstruction...\n"
     ]
    },
    {
     "name": "stderr",
     "output_type": "stream",
     "text": [
      "Processing URLs:  84%|████████▍ | 348/412 [30:41<03:00,  2.81s/it]"
     ]
    },
    {
     "name": "stdout",
     "output_type": "stream",
     "text": [
      "Error during HTTP request: 404 Client Error: Not Found for url: https://www.eversports.de/s/vi-dance-hamm\n",
      "Converting to DataFrame...\n",
      "Validating URLs...\n",
      "Processing completed.\n",
      "Starting URL reconstruction...\n"
     ]
    },
    {
     "name": "stderr",
     "output_type": "stream",
     "text": [
      "Processing URLs:  85%|████████▍ | 349/412 [30:45<03:16,  3.12s/it]"
     ]
    },
    {
     "name": "stdout",
     "output_type": "stream",
     "text": [
      "Error during HTTP request: Exceeded 30 redirects.\n",
      "Converting to DataFrame...\n",
      "Validating URLs...\n",
      "Processing completed.\n",
      "Starting URL reconstruction...\n"
     ]
    },
    {
     "name": "stderr",
     "output_type": "stream",
     "text": [
      "Processing URLs:  85%|████████▍ | 350/412 [30:46<02:34,  2.50s/it]"
     ]
    },
    {
     "name": "stdout",
     "output_type": "stream",
     "text": [
      "Error during HTTP request: 404 Client Error: Not Found for url: https://www.eversports.de/s/anni's-pole-dance-neum%C3%BCnster\n",
      "Converting to DataFrame...\n",
      "Validating URLs...\n",
      "Processing completed.\n",
      "Starting URL reconstruction...\n"
     ]
    },
    {
     "name": "stderr",
     "output_type": "stream",
     "text": [
      "2024-02-01 22:09:38,758 - INFO - Processing URL 1/4: https://www.eversports.de/s/schwerelos-muenster\n"
     ]
    },
    {
     "name": "stdout",
     "output_type": "stream",
     "text": [
      "Error reconstructing URL for 'Trainings': Unrecognized text: 'Trainings'\n",
      "Error reconstructing URL for 'Kurse': Unrecognized text: 'Kurse'\n",
      "Converting to DataFrame...\n",
      "Validating URLs...\n"
     ]
    },
    {
     "name": "stderr",
     "output_type": "stream",
     "text": [
      "2024-02-01 22:09:40,711 - INFO - URL https://www.eversports.de/s/schwerelos-muenster is valid.\n",
      "2024-02-01 22:09:40,713 - INFO - Processing URL 2/4: https://www.eversports.de/sw/schwerelos-muenster\n",
      "2024-02-01 22:09:43,032 - INFO - URL https://www.eversports.de/sw/schwerelos-muenster is valid.\n",
      "2024-02-01 22:09:43,033 - INFO - Processing URL 3/4: https://www.eversports.de/sp/schwerelos-muenster\n",
      "2024-02-01 22:09:44,216 - INFO - URL https://www.eversports.de/sp/schwerelos-muenster is valid.\n",
      "2024-02-01 22:09:44,217 - INFO - Processing URL 4/4: https://www.eversports.de/s/schwerelos-muenster/team\n",
      "2024-02-01 22:09:45,428 - INFO - URL https://www.eversports.de/s/schwerelos-muenster/team is valid.\n"
     ]
    },
    {
     "name": "stdout",
     "output_type": "stream",
     "text": [
      "Scraping Pole Studio Data from https://www.eversports.de/s/schwerelos-muenster...\n",
      "Scraping Workshops Data from https://www.eversports.de/sw/schwerelos-muenster...\n",
      "Scraping Workshop Details from https://www.eversports.de/e/workshop/3sYwu8j...\n",
      "Scraping Workshop Details from https://www.eversports.de/e/workshop/sJO5aQ1...\n",
      "Scraping Workshop Details from https://www.eversports.de/e/workshop/ZP_skji...\n",
      "Scraping Workshop Details from https://www.eversports.de/e/workshop/T2iJuZb...\n",
      "Scraping Workshop Details from https://www.eversports.de/e/workshop/JKD4cQ5...\n",
      "Scraping Workshop Details from https://www.eversports.de/e/workshop/fVM0ULF...\n",
      "Scraping Workshop Details from https://www.eversports.de/e/workshop/9fkoAyU...\n",
      "Scraping Workshop Details from https://www.eversports.de/e/workshop/leDNfNr...\n",
      "Scraping Workshop Details from https://www.eversports.de/e/workshop/ahCVYvh...\n",
      "Scraping Workshop Details from https://www.eversports.de/e/workshop/RjsCf5S...\n",
      "Scraping Workshop Details from https://www.eversports.de/e/workshop/ZOxKKrM...\n",
      "Scraping Workshop Details from https://www.eversports.de/e/workshop/Zq0GQNB...\n",
      "Scraping Workshop Details from https://www.eversports.de/e/workshop/xPGUjbS...\n"
     ]
    },
    {
     "name": "stderr",
     "output_type": "stream",
     "text": [
      "Processing URLs:  85%|████████▌ | 351/412 [31:25<13:50, 13.62s/it]"
     ]
    },
    {
     "name": "stdout",
     "output_type": "stream",
     "text": [
      "Processing completed.\n",
      "Pole Studio Data: 1 entries\n",
      "Workshops Data: 13 entries\n",
      "Workshop Details: 13 entries\n",
      "Starting URL reconstruction...\n"
     ]
    },
    {
     "name": "stderr",
     "output_type": "stream",
     "text": [
      "Processing URLs:  85%|████████▌ | 352/412 [31:27<10:03, 10.06s/it]"
     ]
    },
    {
     "name": "stdout",
     "output_type": "stream",
     "text": [
      "Error during HTTP request: 404 Client Error: Not Found for url: https://www.eversports.de/s/pole-heroes-pole-%26aerial-dance-studio\n",
      "Converting to DataFrame...\n",
      "Validating URLs...\n",
      "Processing completed.\n",
      "Starting URL reconstruction...\n"
     ]
    },
    {
     "name": "stderr",
     "output_type": "stream",
     "text": [
      "Processing URLs:  86%|████████▌ | 353/412 [31:28<07:16,  7.40s/it]"
     ]
    },
    {
     "name": "stdout",
     "output_type": "stream",
     "text": [
      "Error during HTTP request: 404 Client Error: Not Found for url: https://www.eversports.de/s/polea--pole-and-aerial-dance\n",
      "Converting to DataFrame...\n",
      "Validating URLs...\n",
      "Processing completed.\n",
      "Starting URL reconstruction...\n"
     ]
    },
    {
     "name": "stderr",
     "output_type": "stream",
     "text": [
      "Processing URLs:  86%|████████▌ | 354/412 [31:29<05:22,  5.56s/it]"
     ]
    },
    {
     "name": "stdout",
     "output_type": "stream",
     "text": [
      "Error during HTTP request: 404 Client Error: Not Found for url: https://www.eversports.de/s/studio-fitnessdarling\n",
      "Converting to DataFrame...\n",
      "Validating URLs...\n",
      "Processing completed.\n",
      "Starting URL reconstruction...\n"
     ]
    },
    {
     "name": "stderr",
     "output_type": "stream",
     "text": [
      "Processing URLs:  86%|████████▌ | 355/412 [31:31<04:06,  4.32s/it]"
     ]
    },
    {
     "name": "stdout",
     "output_type": "stream",
     "text": [
      "Error during HTTP request: 404 Client Error: Not Found for url: https://www.eversports.de/s/vertical-pole-aerial-dance-aschaffenburg\n",
      "Converting to DataFrame...\n",
      "Validating URLs...\n",
      "Processing completed.\n",
      "Starting URL reconstruction...\n"
     ]
    },
    {
     "name": "stderr",
     "output_type": "stream",
     "text": [
      "2024-02-01 22:10:23,790 - INFO - Processing URL 1/4: https://www.eversports.de/s/aerial-art-poledance\n"
     ]
    },
    {
     "name": "stdout",
     "output_type": "stream",
     "text": [
      "Converting to DataFrame...\n",
      "Validating URLs...\n"
     ]
    },
    {
     "name": "stderr",
     "output_type": "stream",
     "text": [
      "2024-02-01 22:10:25,665 - INFO - URL https://www.eversports.de/s/aerial-art-poledance is valid.\n",
      "2024-02-01 22:10:25,667 - INFO - Processing URL 2/4: https://www.eversports.de/sw/aerial-art-poledance\n",
      "2024-02-01 22:10:26,846 - INFO - URL https://www.eversports.de/sw/aerial-art-poledance is valid.\n",
      "2024-02-01 22:10:26,848 - INFO - Processing URL 3/4: https://www.eversports.de/sp/aerial-art-poledance\n",
      "2024-02-01 22:10:28,009 - INFO - URL https://www.eversports.de/sp/aerial-art-poledance is valid.\n",
      "2024-02-01 22:10:28,010 - INFO - Processing URL 4/4: https://www.eversports.de/s/aerial-art-poledance/team\n",
      "2024-02-01 22:10:29,245 - INFO - URL https://www.eversports.de/s/aerial-art-poledance/team is valid.\n"
     ]
    },
    {
     "name": "stdout",
     "output_type": "stream",
     "text": [
      "Scraping Pole Studio Data from https://www.eversports.de/s/aerial-art-poledance...\n",
      "Scraping Workshops Data from https://www.eversports.de/sw/aerial-art-poledance...\n",
      "Scraping Workshop Details from https://www.eversports.de/e/workshop/1pLUOJO...\n",
      "Scraping Workshop Details from https://www.eversports.de/e/workshop/HLSPtEf...\n"
     ]
    },
    {
     "name": "stderr",
     "output_type": "stream",
     "text": [
      "Processing URLs:  86%|████████▋ | 356/412 [31:42<05:59,  6.41s/it]"
     ]
    },
    {
     "name": "stdout",
     "output_type": "stream",
     "text": [
      "Processing completed.\n",
      "Pole Studio Data: 1 entries\n",
      "Workshops Data: 2 entries\n",
      "Workshop Details: 2 entries\n",
      "Starting URL reconstruction...\n"
     ]
    },
    {
     "name": "stderr",
     "output_type": "stream",
     "text": [
      "Processing URLs:  87%|████████▋ | 357/412 [31:44<04:28,  4.89s/it]"
     ]
    },
    {
     "name": "stdout",
     "output_type": "stream",
     "text": [
      "Error during HTTP request: 404 Client Error: Not Found for url: https://www.eversports.de/s/b.fitness-pole%26body\n",
      "Converting to DataFrame...\n",
      "Validating URLs...\n",
      "Processing completed.\n",
      "Starting URL reconstruction...\n"
     ]
    },
    {
     "name": "stderr",
     "output_type": "stream",
     "text": [
      "Processing URLs:  87%|████████▋ | 358/412 [31:45<03:22,  3.76s/it]"
     ]
    },
    {
     "name": "stdout",
     "output_type": "stream",
     "text": [
      "Error during HTTP request: 404 Client Error: Not Found for url: https://www.eversports.de/s/happy-pole-place\n",
      "Converting to DataFrame...\n",
      "Validating URLs...\n",
      "Processing completed.\n",
      "Starting URL reconstruction...\n"
     ]
    },
    {
     "name": "stderr",
     "output_type": "stream",
     "text": [
      "Processing URLs:  87%|████████▋ | 359/412 [31:46<02:35,  2.94s/it]"
     ]
    },
    {
     "name": "stdout",
     "output_type": "stream",
     "text": [
      "Error during HTTP request: 404 Client Error: Not Found for url: https://www.eversports.de/s/verticalarts-pole-&-aerial-fitness\n",
      "Converting to DataFrame...\n",
      "Validating URLs...\n",
      "Processing completed.\n",
      "Starting URL reconstruction...\n"
     ]
    },
    {
     "name": "stderr",
     "output_type": "stream",
     "text": [
      "Processing URLs:  87%|████████▋ | 360/412 [31:47<02:03,  2.37s/it]"
     ]
    },
    {
     "name": "stdout",
     "output_type": "stream",
     "text": [
      "Error during HTTP request: 404 Client Error: Not Found for url: https://www.eversports.de/s/dance-&-pole-langenfeld\n",
      "Converting to DataFrame...\n",
      "Validating URLs...\n",
      "Processing completed.\n",
      "Starting URL reconstruction...\n"
     ]
    },
    {
     "name": "stderr",
     "output_type": "stream",
     "text": [
      "2024-02-01 22:10:39,582 - INFO - Processing URL 1/3: https://www.eversports.de/s/polemotions-tuebingen\n"
     ]
    },
    {
     "name": "stdout",
     "output_type": "stream",
     "text": [
      "Converting to DataFrame...\n",
      "Validating URLs...\n"
     ]
    },
    {
     "name": "stderr",
     "output_type": "stream",
     "text": [
      "2024-02-01 22:10:41,003 - INFO - URL https://www.eversports.de/s/polemotions-tuebingen is valid.\n",
      "2024-02-01 22:10:41,004 - INFO - Processing URL 2/3: https://www.eversports.de/sp/polemotions-tuebingen\n",
      "2024-02-01 22:10:42,142 - INFO - URL https://www.eversports.de/sp/polemotions-tuebingen is valid.\n",
      "2024-02-01 22:10:42,143 - INFO - Processing URL 3/3: https://www.eversports.de/s/polemotions-tuebingen/team\n",
      "2024-02-01 22:10:43,390 - INFO - URL https://www.eversports.de/s/polemotions-tuebingen/team is valid.\n"
     ]
    },
    {
     "name": "stdout",
     "output_type": "stream",
     "text": [
      "Scraping Pole Studio Data from https://www.eversports.de/s/polemotions-tuebingen...\n"
     ]
    },
    {
     "name": "stderr",
     "output_type": "stream",
     "text": [
      "Processing URLs:  88%|████████▊ | 361/412 [31:52<02:50,  3.34s/it]"
     ]
    },
    {
     "name": "stdout",
     "output_type": "stream",
     "text": [
      "Processing completed.\n",
      "Pole Studio Data: 1 entries\n",
      "Starting URL reconstruction...\n"
     ]
    },
    {
     "name": "stderr",
     "output_type": "stream",
     "text": [
      "Processing URLs:  88%|████████▊ | 362/412 [31:54<02:15,  2.71s/it]"
     ]
    },
    {
     "name": "stdout",
     "output_type": "stream",
     "text": [
      "Error during HTTP request: 404 Client Error: Not Found for url: https://www.eversports.de/s/pole-for-soul\n",
      "Converting to DataFrame...\n",
      "Validating URLs...\n",
      "Processing completed.\n",
      "Starting URL reconstruction...\n"
     ]
    },
    {
     "name": "stderr",
     "output_type": "stream",
     "text": [
      "Processing URLs:  88%|████████▊ | 363/412 [31:55<01:49,  2.23s/it]"
     ]
    },
    {
     "name": "stdout",
     "output_type": "stream",
     "text": [
      "Error during HTTP request: 404 Client Error: Not Found for url: https://www.eversports.de/s/health-and-shape\n",
      "Converting to DataFrame...\n",
      "Validating URLs...\n",
      "Processing completed.\n",
      "Starting URL reconstruction...\n"
     ]
    },
    {
     "name": "stderr",
     "output_type": "stream",
     "text": [
      "Processing URLs:  88%|████████▊ | 364/412 [31:56<01:30,  1.89s/it]"
     ]
    },
    {
     "name": "stdout",
     "output_type": "stream",
     "text": [
      "Error during HTTP request: 404 Client Error: Not Found for url: https://www.eversports.de/s/-pole-aerial-dance--souldance\n",
      "Converting to DataFrame...\n",
      "Validating URLs...\n",
      "Processing completed.\n",
      "Starting URL reconstruction...\n"
     ]
    },
    {
     "name": "stderr",
     "output_type": "stream",
     "text": [
      "Processing URLs:  89%|████████▊ | 365/412 [31:57<01:17,  1.65s/it]"
     ]
    },
    {
     "name": "stdout",
     "output_type": "stream",
     "text": [
      "Error during HTTP request: 404 Client Error: Not Found for url: https://www.eversports.de/s/polemagique\n",
      "Converting to DataFrame...\n",
      "Validating URLs...\n",
      "Processing completed.\n",
      "Starting URL reconstruction...\n"
     ]
    },
    {
     "name": "stderr",
     "output_type": "stream",
     "text": [
      "Processing URLs:  89%|████████▉ | 366/412 [31:58<01:09,  1.51s/it]"
     ]
    },
    {
     "name": "stdout",
     "output_type": "stream",
     "text": [
      "Error during HTTP request: 404 Client Error: Not Found for url: https://www.eversports.de/s/pole-shape-studio\n",
      "Converting to DataFrame...\n",
      "Validating URLs...\n",
      "Processing completed.\n",
      "Starting URL reconstruction...\n"
     ]
    },
    {
     "name": "stderr",
     "output_type": "stream",
     "text": [
      "2024-02-01 22:10:50,832 - INFO - Processing URL 1/4: https://www.eversports.de/s/poleside\n"
     ]
    },
    {
     "name": "stdout",
     "output_type": "stream",
     "text": [
      "Error reconstructing URL for 'Kurse': Unrecognized text: 'Kurse'\n",
      "Converting to DataFrame...\n",
      "Validating URLs...\n"
     ]
    },
    {
     "name": "stderr",
     "output_type": "stream",
     "text": [
      "2024-02-01 22:10:52,153 - INFO - URL https://www.eversports.de/s/poleside is valid.\n",
      "2024-02-01 22:10:52,154 - INFO - Processing URL 2/4: https://www.eversports.de/sw/poleside\n",
      "2024-02-01 22:10:54,138 - INFO - URL https://www.eversports.de/sw/poleside is valid.\n",
      "2024-02-01 22:10:54,139 - INFO - Processing URL 3/4: https://www.eversports.de/sp/poleside\n",
      "2024-02-01 22:10:55,282 - INFO - URL https://www.eversports.de/sp/poleside is valid.\n",
      "2024-02-01 22:10:55,283 - INFO - Processing URL 4/4: https://www.eversports.de/s/poleside/team\n",
      "2024-02-01 22:10:56,684 - INFO - URL https://www.eversports.de/s/poleside/team is valid.\n"
     ]
    },
    {
     "name": "stdout",
     "output_type": "stream",
     "text": [
      "Scraping Pole Studio Data from https://www.eversports.de/s/poleside...\n",
      "Scraping Workshops Data from https://www.eversports.de/sw/poleside...\n",
      "Scraping Workshop Details from https://www.eversports.de/e/workshop/llCPKoMLh...\n"
     ]
    },
    {
     "name": "stderr",
     "output_type": "stream",
     "text": [
      "Processing URLs:  89%|████████▉ | 367/412 [32:08<03:02,  4.05s/it]"
     ]
    },
    {
     "name": "stdout",
     "output_type": "stream",
     "text": [
      "Processing completed.\n",
      "Pole Studio Data: 1 entries\n",
      "Workshops Data: 1 entries\n",
      "Workshop Details: 1 entries\n",
      "Starting URL reconstruction...\n"
     ]
    },
    {
     "name": "stderr",
     "output_type": "stream",
     "text": [
      "Processing URLs:  89%|████████▉ | 368/412 [32:09<02:20,  3.18s/it]"
     ]
    },
    {
     "name": "stdout",
     "output_type": "stream",
     "text": [
      "Error during HTTP request: 404 Client Error: Not Found for url: https://www.eversports.de/s/polerinas-art-pole-%26aerial-fitness\n",
      "Converting to DataFrame...\n",
      "Validating URLs...\n",
      "Processing completed.\n",
      "Starting URL reconstruction...\n"
     ]
    },
    {
     "name": "stderr",
     "output_type": "stream",
     "text": [
      "Processing URLs:  90%|████████▉ | 369/412 [32:13<02:21,  3.30s/it]"
     ]
    },
    {
     "name": "stdout",
     "output_type": "stream",
     "text": [
      "Error during HTTP request: 404 Client Error: Not Found for url: https://www.eversports.de/s/drehmoment-pole.aerial.dance\n",
      "Converting to DataFrame...\n",
      "Validating URLs...\n",
      "Processing completed.\n",
      "Starting URL reconstruction...\n"
     ]
    },
    {
     "name": "stderr",
     "output_type": "stream",
     "text": [
      "Processing URLs:  90%|████████▉ | 370/412 [32:14<01:57,  2.79s/it]"
     ]
    },
    {
     "name": "stdout",
     "output_type": "stream",
     "text": [
      "Error during HTTP request: 404 Client Error: Not Found for url: https://www.eversports.de/s/infinity-polesports-burgkirchen\n",
      "Converting to DataFrame...\n",
      "Validating URLs...\n",
      "Processing completed.\n",
      "Starting URL reconstruction...\n"
     ]
    },
    {
     "name": "stderr",
     "output_type": "stream",
     "text": [
      "2024-02-01 22:11:07,365 - INFO - Processing URL 1/3: https://www.eversports.de/s/polefly-academy\n"
     ]
    },
    {
     "name": "stdout",
     "output_type": "stream",
     "text": [
      "Converting to DataFrame...\n",
      "Validating URLs...\n"
     ]
    },
    {
     "name": "stderr",
     "output_type": "stream",
     "text": [
      "2024-02-01 22:11:08,650 - INFO - URL https://www.eversports.de/s/polefly-academy is valid.\n",
      "2024-02-01 22:11:08,652 - INFO - Processing URL 2/3: https://www.eversports.de/sp/polefly-academy\n",
      "2024-02-01 22:11:09,952 - INFO - URL https://www.eversports.de/sp/polefly-academy is valid.\n",
      "2024-02-01 22:11:09,953 - INFO - Processing URL 3/3: https://www.eversports.de/s/polefly-academy/team\n",
      "2024-02-01 22:11:11,870 - INFO - URL https://www.eversports.de/s/polefly-academy/team is valid.\n"
     ]
    },
    {
     "name": "stdout",
     "output_type": "stream",
     "text": [
      "Scraping Pole Studio Data from https://www.eversports.de/s/polefly-academy...\n"
     ]
    },
    {
     "name": "stderr",
     "output_type": "stream",
     "text": [
      "Processing URLs:  90%|█████████ | 371/412 [32:21<02:38,  3.86s/it]"
     ]
    },
    {
     "name": "stdout",
     "output_type": "stream",
     "text": [
      "Processing completed.\n",
      "Pole Studio Data: 1 entries\n",
      "Starting URL reconstruction...\n"
     ]
    },
    {
     "name": "stderr",
     "output_type": "stream",
     "text": [
      "Processing URLs:  90%|█████████ | 372/412 [32:22<02:01,  3.04s/it]"
     ]
    },
    {
     "name": "stdout",
     "output_type": "stream",
     "text": [
      "Error during HTTP request: 404 Client Error: Not Found for url: https://www.eversports.de/s/freaky-pole-cats-hengersberg\n",
      "Converting to DataFrame...\n",
      "Validating URLs...\n",
      "Processing completed.\n",
      "Starting URL reconstruction...\n"
     ]
    },
    {
     "name": "stderr",
     "output_type": "stream",
     "text": [
      "Processing URLs:  91%|█████████ | 373/412 [32:23<01:37,  2.50s/it]"
     ]
    },
    {
     "name": "stdout",
     "output_type": "stream",
     "text": [
      "Error during HTTP request: 404 Client Error: Not Found for url: https://www.eversports.de/s/dance-%26-fly-pole-studio\n",
      "Converting to DataFrame...\n",
      "Validating URLs...\n",
      "Processing completed.\n",
      "Starting URL reconstruction...\n"
     ]
    },
    {
     "name": "stderr",
     "output_type": "stream",
     "text": [
      "2024-02-01 22:11:16,094 - INFO - Processing URL 1/4: https://www.eversports.de/s/poleathletix\n"
     ]
    },
    {
     "name": "stdout",
     "output_type": "stream",
     "text": [
      "Error reconstructing URL for 'Trainings': Unrecognized text: 'Trainings'\n",
      "Converting to DataFrame...\n",
      "Validating URLs...\n"
     ]
    },
    {
     "name": "stderr",
     "output_type": "stream",
     "text": [
      "2024-02-01 22:11:47,439 - INFO - URL https://www.eversports.de/s/poleathletix is valid.\n",
      "2024-02-01 22:11:47,440 - INFO - Processing URL 2/4: https://www.eversports.de/sw/poleathletix\n",
      "2024-02-01 22:11:48,865 - INFO - URL https://www.eversports.de/sw/poleathletix is valid.\n",
      "2024-02-01 22:11:48,866 - INFO - Processing URL 3/4: https://www.eversports.de/sp/poleathletix\n",
      "2024-02-01 22:11:50,190 - INFO - URL https://www.eversports.de/sp/poleathletix is valid.\n",
      "2024-02-01 22:11:50,190 - INFO - Processing URL 4/4: https://www.eversports.de/s/poleathletix/team\n",
      "2024-02-01 22:11:51,345 - INFO - URL https://www.eversports.de/s/poleathletix/team is valid.\n"
     ]
    },
    {
     "name": "stdout",
     "output_type": "stream",
     "text": [
      "Scraping Pole Studio Data from https://www.eversports.de/s/poleathletix...\n",
      "Scraping Workshops Data from https://www.eversports.de/sw/poleathletix...\n",
      "Scraping Workshop Details from https://www.eversports.de/e/workshop/fWcLCKr...\n",
      "Scraping Workshop Details from https://www.eversports.de/e/workshop/Tb_3jSS...\n",
      "Scraping Workshop Details from https://www.eversports.de/e/workshop/BCHRRb3...\n",
      "Scraping Workshop Details from https://www.eversports.de/e/workshop/LuQ-jUD...\n",
      "Scraping Workshop Details from https://www.eversports.de/e/workshop/wpcpX0U...\n",
      "Scraping Workshop Details from https://www.eversports.de/e/workshop/csrqGyT...\n",
      "Scraping Workshop Details from https://www.eversports.de/e/workshop/rXgOpSM...\n",
      "Scraping Workshop Details from https://www.eversports.de/e/workshop/GPwT8hl...\n",
      "Scraping Workshop Details from https://www.eversports.de/e/workshop/Q4B35ej...\n"
     ]
    },
    {
     "name": "stderr",
     "output_type": "stream",
     "text": [
      "Processing URLs:  91%|█████████ | 374/412 [33:15<11:02, 17.43s/it]"
     ]
    },
    {
     "name": "stdout",
     "output_type": "stream",
     "text": [
      "Processing completed.\n",
      "Pole Studio Data: 1 entries\n",
      "Workshops Data: 9 entries\n",
      "Workshop Details: 9 entries\n",
      "Starting URL reconstruction...\n"
     ]
    },
    {
     "name": "stderr",
     "output_type": "stream",
     "text": [
      "2024-02-01 22:12:08,150 - INFO - Processing URL 1/1: https://www.eversports.de/s/poleart_inspiration\n"
     ]
    },
    {
     "name": "stdout",
     "output_type": "stream",
     "text": [
      "Converting to DataFrame...\n",
      "Validating URLs...\n"
     ]
    },
    {
     "name": "stderr",
     "output_type": "stream",
     "text": [
      "2024-02-01 22:12:09,908 - INFO - URL https://www.eversports.de/s/poleart_inspiration is valid.\n"
     ]
    },
    {
     "name": "stdout",
     "output_type": "stream",
     "text": [
      "Scraping Pole Studio Data from https://www.eversports.de/s/poleart_inspiration...\n"
     ]
    },
    {
     "name": "stderr",
     "output_type": "stream",
     "text": [
      "Processing URLs:  91%|█████████ | 375/412 [33:19<08:08, 13.20s/it]"
     ]
    },
    {
     "name": "stdout",
     "output_type": "stream",
     "text": [
      "Processing completed.\n",
      "Pole Studio Data: 1 entries\n",
      "Starting URL reconstruction...\n"
     ]
    },
    {
     "name": "stderr",
     "output_type": "stream",
     "text": [
      "Processing URLs:  91%|█████████▏| 376/412 [33:20<05:45,  9.61s/it]"
     ]
    },
    {
     "name": "stdout",
     "output_type": "stream",
     "text": [
      "Error during HTTP request: 404 Client Error: Not Found for url: https://www.eversports.de/s/verticalarts-pole-and-aerial-fitness\n",
      "Converting to DataFrame...\n",
      "Validating URLs...\n",
      "Processing completed.\n",
      "Starting URL reconstruction...\n"
     ]
    },
    {
     "name": "stderr",
     "output_type": "stream",
     "text": [
      "Processing URLs:  92%|█████████▏| 377/412 [33:21<04:06,  7.05s/it]"
     ]
    },
    {
     "name": "stdout",
     "output_type": "stream",
     "text": [
      "Error during HTTP request: 404 Client Error: Not Found for url: https://www.eversports.de/s/poledance-worms\n",
      "Converting to DataFrame...\n",
      "Validating URLs...\n",
      "Processing completed.\n",
      "Starting URL reconstruction...\n"
     ]
    },
    {
     "name": "stderr",
     "output_type": "stream",
     "text": [
      "Processing URLs:  92%|█████████▏| 378/412 [33:22<02:58,  5.26s/it]"
     ]
    },
    {
     "name": "stdout",
     "output_type": "stream",
     "text": [
      "Error during HTTP request: 404 Client Error: Not Found for url: https://www.eversports.de/s/pole-yourself\n",
      "Converting to DataFrame...\n",
      "Validating URLs...\n",
      "Processing completed.\n",
      "Starting URL reconstruction...\n"
     ]
    },
    {
     "name": "stderr",
     "output_type": "stream",
     "text": [
      "Processing URLs:  92%|█████████▏| 379/412 [33:30<03:17,  5.99s/it]"
     ]
    },
    {
     "name": "stdout",
     "output_type": "stream",
     "text": [
      "Error during HTTP request: 404 Client Error: Not Found for url: https://www.eversports.de/s/poleria\n",
      "Converting to DataFrame...\n",
      "Validating URLs...\n",
      "Processing completed.\n",
      "Starting URL reconstruction...\n"
     ]
    },
    {
     "name": "stderr",
     "output_type": "stream",
     "text": [
      "Processing URLs:  92%|█████████▏| 380/412 [33:31<02:25,  4.55s/it]"
     ]
    },
    {
     "name": "stdout",
     "output_type": "stream",
     "text": [
      "Error during HTTP request: 404 Client Error: Not Found for url: https://www.eversports.de/s/femella-studio\n",
      "Converting to DataFrame...\n",
      "Validating URLs...\n",
      "Processing completed.\n",
      "Starting URL reconstruction...\n"
     ]
    },
    {
     "name": "stderr",
     "output_type": "stream",
     "text": [
      "Processing URLs:  92%|█████████▏| 381/412 [33:32<01:51,  3.60s/it]"
     ]
    },
    {
     "name": "stdout",
     "output_type": "stream",
     "text": [
      "Error during HTTP request: 404 Client Error: Not Found for url: https://www.eversports.de/s/unique-studios\n",
      "Converting to DataFrame...\n",
      "Validating URLs...\n",
      "Processing completed.\n",
      "Starting URL reconstruction...\n"
     ]
    },
    {
     "name": "stderr",
     "output_type": "stream",
     "text": [
      "2024-02-01 22:12:25,767 - INFO - Processing URL 1/4: https://www.eversports.de/s/pole-and-move-heidelberg\n"
     ]
    },
    {
     "name": "stdout",
     "output_type": "stream",
     "text": [
      "Converting to DataFrame...\n",
      "Validating URLs...\n"
     ]
    },
    {
     "name": "stderr",
     "output_type": "stream",
     "text": [
      "2024-02-01 22:12:27,240 - INFO - URL https://www.eversports.de/s/pole-and-move-heidelberg is valid.\n",
      "2024-02-01 22:12:27,241 - INFO - Processing URL 2/4: https://www.eversports.de/sw/pole-and-move-heidelberg\n",
      "2024-02-01 22:12:29,776 - INFO - URL https://www.eversports.de/sw/pole-and-move-heidelberg is valid.\n",
      "2024-02-01 22:12:29,777 - INFO - Processing URL 3/4: https://www.eversports.de/sp/pole-and-move-heidelberg\n",
      "2024-02-01 22:12:31,038 - INFO - URL https://www.eversports.de/sp/pole-and-move-heidelberg is valid.\n",
      "2024-02-01 22:12:31,039 - INFO - Processing URL 4/4: https://www.eversports.de/s/pole-and-move-heidelberg/team\n",
      "2024-02-01 22:12:32,361 - INFO - URL https://www.eversports.de/s/pole-and-move-heidelberg/team is valid.\n"
     ]
    },
    {
     "name": "stdout",
     "output_type": "stream",
     "text": [
      "Scraping Pole Studio Data from https://www.eversports.de/s/pole-and-move-heidelberg...\n",
      "Scraping Workshops Data from https://www.eversports.de/sw/pole-and-move-heidelberg...\n",
      "Scraping Workshop Details from https://www.eversports.de/e/workshop/VYi81mK...\n",
      "Scraping Workshop Details from https://www.eversports.de/e/workshop/101RSFR...\n",
      "Scraping Workshop Details from https://www.eversports.de/e/workshop/AnumKko...\n",
      "Scraping Workshop Details from https://www.eversports.de/e/workshop/aqDwRxt...\n",
      "Scraping Workshop Details from https://www.eversports.de/e/workshop/xpUUbAx...\n",
      "Scraping Workshop Details from https://www.eversports.de/e/workshop/yXAMy8l...\n",
      "Scraping Workshop Details from https://www.eversports.de/e/workshop/mI91ydw...\n",
      "Scraping Workshop Details from https://www.eversports.de/e/workshop/Ngcpd4l...\n",
      "Scraping Workshop Details from https://www.eversports.de/e/workshop/ij8VZCH...\n"
     ]
    },
    {
     "name": "stderr",
     "output_type": "stream",
     "text": [
      "Processing URLs:  93%|█████████▎| 382/412 [33:59<05:12, 10.42s/it]"
     ]
    },
    {
     "name": "stdout",
     "output_type": "stream",
     "text": [
      "Processing completed.\n",
      "Pole Studio Data: 1 entries\n",
      "Workshops Data: 9 entries\n",
      "Workshop Details: 9 entries\n",
      "Starting URL reconstruction...\n"
     ]
    },
    {
     "name": "stderr",
     "output_type": "stream",
     "text": [
      "Processing URLs:  93%|█████████▎| 383/412 [34:03<04:07,  8.53s/it]"
     ]
    },
    {
     "name": "stdout",
     "output_type": "stream",
     "text": [
      "Error during HTTP request: Exceeded 30 redirects.\n",
      "Converting to DataFrame...\n",
      "Validating URLs...\n",
      "Processing completed.\n",
      "Starting URL reconstruction...\n"
     ]
    },
    {
     "name": "stderr",
     "output_type": "stream",
     "text": [
      "Processing URLs:  93%|█████████▎| 384/412 [34:04<02:57,  6.34s/it]"
     ]
    },
    {
     "name": "stdout",
     "output_type": "stream",
     "text": [
      "Error during HTTP request: 404 Client Error: Not Found for url: https://www.eversports.de/s/dance-%26-pole-leverkusen\n",
      "Converting to DataFrame...\n",
      "Validating URLs...\n",
      "Processing completed.\n",
      "Starting URL reconstruction...\n"
     ]
    },
    {
     "name": "stderr",
     "output_type": "stream",
     "text": [
      "Processing URLs:  93%|█████████▎| 385/412 [34:05<02:09,  4.78s/it]"
     ]
    },
    {
     "name": "stdout",
     "output_type": "stream",
     "text": [
      "Error during HTTP request: 404 Client Error: Not Found for url: https://www.eversports.de/s/pole-dance-nrw\n",
      "Converting to DataFrame...\n",
      "Validating URLs...\n",
      "Processing completed.\n",
      "Starting URL reconstruction...\n"
     ]
    },
    {
     "name": "stderr",
     "output_type": "stream",
     "text": [
      "Processing URLs:  94%|█████████▎| 386/412 [34:06<01:36,  3.70s/it]"
     ]
    },
    {
     "name": "stdout",
     "output_type": "stream",
     "text": [
      "Error during HTTP request: 404 Client Error: Not Found for url: https://www.eversports.de/s/dance-%26-pole-langenfeld\n",
      "Converting to DataFrame...\n",
      "Validating URLs...\n",
      "Processing completed.\n",
      "Starting URL reconstruction...\n"
     ]
    },
    {
     "name": "stderr",
     "output_type": "stream",
     "text": [
      "2024-02-01 22:12:59,324 - INFO - Processing URL 1/3: https://www.eversports.de/s/koerperformfabrik-gbr\n"
     ]
    },
    {
     "name": "stdout",
     "output_type": "stream",
     "text": [
      "Converting to DataFrame...\n",
      "Validating URLs...\n"
     ]
    },
    {
     "name": "stderr",
     "output_type": "stream",
     "text": [
      "2024-02-01 22:13:00,691 - INFO - URL https://www.eversports.de/s/koerperformfabrik-gbr is valid.\n",
      "2024-02-01 22:13:00,692 - INFO - Processing URL 2/3: https://www.eversports.de/sp/koerperformfabrik-gbr\n",
      "2024-02-01 22:13:02,193 - INFO - URL https://www.eversports.de/sp/koerperformfabrik-gbr is valid.\n",
      "2024-02-01 22:13:02,196 - INFO - Processing URL 3/3: https://www.eversports.de/s/koerperformfabrik-gbr/team\n",
      "2024-02-01 22:13:03,981 - INFO - URL https://www.eversports.de/s/koerperformfabrik-gbr/team is valid.\n"
     ]
    },
    {
     "name": "stdout",
     "output_type": "stream",
     "text": [
      "Scraping Pole Studio Data from https://www.eversports.de/s/koerperformfabrik-gbr...\n"
     ]
    },
    {
     "name": "stderr",
     "output_type": "stream",
     "text": [
      "Processing URLs:  94%|█████████▍| 387/412 [34:13<01:53,  4.55s/it]"
     ]
    },
    {
     "name": "stdout",
     "output_type": "stream",
     "text": [
      "Processing completed.\n",
      "Pole Studio Data: 1 entries\n",
      "Starting URL reconstruction...\n"
     ]
    },
    {
     "name": "stderr",
     "output_type": "stream",
     "text": [
      "Processing URLs:  94%|█████████▍| 388/412 [34:19<01:56,  4.87s/it]"
     ]
    },
    {
     "name": "stdout",
     "output_type": "stream",
     "text": [
      "Error during HTTP request: Exceeded 30 redirects.\n",
      "Converting to DataFrame...\n",
      "Validating URLs...\n",
      "Processing completed.\n",
      "Starting URL reconstruction...\n"
     ]
    },
    {
     "name": "stderr",
     "output_type": "stream",
     "text": [
      "Processing URLs:  94%|█████████▍| 389/412 [34:24<01:53,  4.94s/it]"
     ]
    },
    {
     "name": "stdout",
     "output_type": "stream",
     "text": [
      "Error during HTTP request: Exceeded 30 redirects.\n",
      "Converting to DataFrame...\n",
      "Validating URLs...\n",
      "Processing completed.\n",
      "Starting URL reconstruction...\n"
     ]
    },
    {
     "name": "stderr",
     "output_type": "stream",
     "text": [
      "Processing URLs:  95%|█████████▍| 390/412 [34:25<01:26,  3.94s/it]"
     ]
    },
    {
     "name": "stdout",
     "output_type": "stream",
     "text": [
      "Error during HTTP request: 404 Client Error: Not Found for url: https://www.eversports.de/s/luftfabrik-dresden\n",
      "Converting to DataFrame...\n",
      "Validating URLs...\n",
      "Processing completed.\n",
      "Starting URL reconstruction...\n"
     ]
    },
    {
     "name": "stderr",
     "output_type": "stream",
     "text": [
      "2024-02-01 22:13:18,420 - INFO - Processing URL 1/3: https://www.eversports.de/s/nordpole\n"
     ]
    },
    {
     "name": "stdout",
     "output_type": "stream",
     "text": [
      "Error reconstructing URL for 'Events': Unrecognized text: 'Events'\n",
      "Converting to DataFrame...\n",
      "Validating URLs...\n"
     ]
    },
    {
     "name": "stderr",
     "output_type": "stream",
     "text": [
      "2024-02-01 22:13:19,888 - INFO - URL https://www.eversports.de/s/nordpole is valid.\n",
      "2024-02-01 22:13:19,889 - INFO - Processing URL 2/3: https://www.eversports.de/sp/nordpole\n",
      "2024-02-01 22:13:21,059 - INFO - URL https://www.eversports.de/sp/nordpole is valid.\n",
      "2024-02-01 22:13:21,060 - INFO - Processing URL 3/3: https://www.eversports.de/s/nordpole/team\n",
      "2024-02-01 22:13:22,286 - INFO - URL https://www.eversports.de/s/nordpole/team is valid.\n"
     ]
    },
    {
     "name": "stdout",
     "output_type": "stream",
     "text": [
      "Scraping Pole Studio Data from https://www.eversports.de/s/nordpole...\n"
     ]
    },
    {
     "name": "stderr",
     "output_type": "stream",
     "text": [
      "Processing URLs:  95%|█████████▍| 391/412 [34:31<01:36,  4.57s/it]"
     ]
    },
    {
     "name": "stdout",
     "output_type": "stream",
     "text": [
      "Processing completed.\n",
      "Pole Studio Data: 1 entries\n",
      "Starting URL reconstruction...\n"
     ]
    },
    {
     "name": "stderr",
     "output_type": "stream",
     "text": [
      "2024-02-01 22:13:24,393 - INFO - Processing URL 1/4: https://www.eversports.de/s/pure-motion-kiel\n"
     ]
    },
    {
     "name": "stdout",
     "output_type": "stream",
     "text": [
      "Error reconstructing URL for 'Kurse': Unrecognized text: 'Kurse'\n",
      "Converting to DataFrame...\n",
      "Validating URLs...\n"
     ]
    },
    {
     "name": "stderr",
     "output_type": "stream",
     "text": [
      "2024-02-01 22:13:26,176 - INFO - URL https://www.eversports.de/s/pure-motion-kiel is valid.\n",
      "2024-02-01 22:13:26,177 - INFO - Processing URL 2/4: https://www.eversports.de/sw/pure-motion-kiel\n",
      "2024-02-01 22:13:27,439 - INFO - URL https://www.eversports.de/sw/pure-motion-kiel is valid.\n",
      "2024-02-01 22:13:27,440 - INFO - Processing URL 3/4: https://www.eversports.de/sp/pure-motion-kiel\n",
      "2024-02-01 22:13:28,616 - INFO - URL https://www.eversports.de/sp/pure-motion-kiel is valid.\n",
      "2024-02-01 22:13:28,617 - INFO - Processing URL 4/4: https://www.eversports.de/s/pure-motion-kiel/team\n",
      "2024-02-01 22:13:29,935 - INFO - URL https://www.eversports.de/s/pure-motion-kiel/team is valid.\n"
     ]
    },
    {
     "name": "stdout",
     "output_type": "stream",
     "text": [
      "Scraping Pole Studio Data from https://www.eversports.de/s/pure-motion-kiel...\n",
      "Scraping Workshops Data from https://www.eversports.de/sw/pure-motion-kiel...\n",
      "Scraping Workshop Details from https://www.eversports.de/e/workshop/Z1qnkVh...\n"
     ]
    },
    {
     "name": "stderr",
     "output_type": "stream",
     "text": [
      "Processing URLs:  95%|█████████▌| 392/412 [34:42<02:05,  6.27s/it]"
     ]
    },
    {
     "name": "stdout",
     "output_type": "stream",
     "text": [
      "Processing completed.\n",
      "Pole Studio Data: 1 entries\n",
      "Workshops Data: 1 entries\n",
      "Workshop Details: 1 entries\n",
      "Starting URL reconstruction...\n"
     ]
    },
    {
     "name": "stderr",
     "output_type": "stream",
     "text": [
      "Processing URLs:  95%|█████████▌| 393/412 [34:45<01:45,  5.54s/it]"
     ]
    },
    {
     "name": "stdout",
     "output_type": "stream",
     "text": [
      "Error during HTTP request: Exceeded 30 redirects.\n",
      "Converting to DataFrame...\n",
      "Validating URLs...\n",
      "Processing completed.\n",
      "Starting URL reconstruction...\n"
     ]
    },
    {
     "name": "stderr",
     "output_type": "stream",
     "text": [
      "Processing URLs:  96%|█████████▌| 394/412 [34:47<01:16,  4.25s/it]"
     ]
    },
    {
     "name": "stdout",
     "output_type": "stream",
     "text": [
      "Error during HTTP request: 404 Client Error: Not Found for url: https://www.eversports.de/s/lift-off-poledance-academy\n",
      "Converting to DataFrame...\n",
      "Validating URLs...\n",
      "Processing completed.\n",
      "Starting URL reconstruction...\n"
     ]
    },
    {
     "name": "stderr",
     "output_type": "stream",
     "text": [
      "Processing URLs:  96%|█████████▌| 395/412 [34:51<01:11,  4.19s/it]"
     ]
    },
    {
     "name": "stdout",
     "output_type": "stream",
     "text": [
      "Error during HTTP request: Exceeded 30 redirects.\n",
      "Converting to DataFrame...\n",
      "Validating URLs...\n",
      "Processing completed.\n",
      "Starting URL reconstruction...\n"
     ]
    },
    {
     "name": "stderr",
     "output_type": "stream",
     "text": [
      "Processing URLs:  96%|█████████▌| 396/412 [34:52<00:52,  3.30s/it]"
     ]
    },
    {
     "name": "stdout",
     "output_type": "stream",
     "text": [
      "Error during HTTP request: 404 Client Error: Not Found for url: https://www.eversports.de/s/pole-acrobatics-deggingen\n",
      "Converting to DataFrame...\n",
      "Validating URLs...\n",
      "Processing completed.\n",
      "Starting URL reconstruction...\n"
     ]
    },
    {
     "name": "stderr",
     "output_type": "stream",
     "text": [
      "2024-02-01 22:13:44,742 - INFO - Processing URL 1/4: https://www.eversports.de/s/vertical-pole-aerial-dance-1\n"
     ]
    },
    {
     "name": "stdout",
     "output_type": "stream",
     "text": [
      "Converting to DataFrame...\n",
      "Validating URLs...\n"
     ]
    },
    {
     "name": "stderr",
     "output_type": "stream",
     "text": [
      "2024-02-01 22:13:46,145 - INFO - URL https://www.eversports.de/s/vertical-pole-aerial-dance-1 is valid.\n",
      "2024-02-01 22:13:46,147 - INFO - Processing URL 2/4: https://www.eversports.de/sw/vertical-pole-aerial-dance-1\n",
      "2024-02-01 22:13:47,344 - INFO - URL https://www.eversports.de/sw/vertical-pole-aerial-dance-1 is valid.\n",
      "2024-02-01 22:13:47,345 - INFO - Processing URL 3/4: https://www.eversports.de/sp/vertical-pole-aerial-dance-1\n",
      "2024-02-01 22:13:49,587 - INFO - URL https://www.eversports.de/sp/vertical-pole-aerial-dance-1 is valid.\n",
      "2024-02-01 22:13:49,588 - INFO - Processing URL 4/4: https://www.eversports.de/s/vertical-pole-aerial-dance-1/team\n",
      "2024-02-01 22:13:50,784 - INFO - URL https://www.eversports.de/s/vertical-pole-aerial-dance-1/team is valid.\n"
     ]
    },
    {
     "name": "stdout",
     "output_type": "stream",
     "text": [
      "Scraping Pole Studio Data from https://www.eversports.de/s/vertical-pole-aerial-dance-1...\n",
      "Scraping Workshops Data from https://www.eversports.de/sw/vertical-pole-aerial-dance-1...\n",
      "Scraping Workshop Details from https://www.eversports.de/e/workshop/u2GaG-M...\n",
      "Scraping Workshop Details from https://www.eversports.de/e/workshop/ogqaXAU...\n",
      "Scraping Workshop Details from https://www.eversports.de/e/workshop/j_dm47B...\n",
      "Scraping Workshop Details from https://www.eversports.de/e/workshop/oZL9Vcu...\n"
     ]
    },
    {
     "name": "stderr",
     "output_type": "stream",
     "text": [
      "Processing URLs:  96%|█████████▋| 397/412 [35:07<01:41,  6.74s/it]"
     ]
    },
    {
     "name": "stdout",
     "output_type": "stream",
     "text": [
      "Processing completed.\n",
      "Pole Studio Data: 1 entries\n",
      "Workshops Data: 4 entries\n",
      "Workshop Details: 4 entries\n",
      "Starting URL reconstruction...\n"
     ]
    },
    {
     "name": "stderr",
     "output_type": "stream",
     "text": [
      "2024-02-01 22:13:59,693 - INFO - Processing URL 1/3: https://www.eversports.de/s/studio-nienke\n"
     ]
    },
    {
     "name": "stdout",
     "output_type": "stream",
     "text": [
      "Error reconstructing URL for 'Kurse': Unrecognized text: 'Kurse'\n",
      "Converting to DataFrame...\n",
      "Validating URLs...\n"
     ]
    },
    {
     "name": "stderr",
     "output_type": "stream",
     "text": [
      "2024-02-01 22:14:01,209 - INFO - URL https://www.eversports.de/s/studio-nienke is valid.\n",
      "2024-02-01 22:14:01,210 - INFO - Processing URL 2/3: https://www.eversports.de/sp/studio-nienke\n",
      "2024-02-01 22:14:02,602 - INFO - URL https://www.eversports.de/sp/studio-nienke is not valid.\n",
      "2024-02-01 22:14:02,603 - INFO - Processing URL 3/3: https://www.eversports.de/s/studio-nienke/team\n",
      "2024-02-01 22:14:04,247 - INFO - URL https://www.eversports.de/s/studio-nienke/team is valid.\n"
     ]
    },
    {
     "name": "stdout",
     "output_type": "stream",
     "text": [
      "Scraping Pole Studio Data from https://www.eversports.de/s/studio-nienke...\n"
     ]
    },
    {
     "name": "stderr",
     "output_type": "stream",
     "text": [
      "Processing URLs:  97%|█████████▋| 398/412 [35:14<01:36,  6.90s/it]"
     ]
    },
    {
     "name": "stdout",
     "output_type": "stream",
     "text": [
      "Processing completed.\n",
      "Pole Studio Data: 1 entries\n",
      "Starting URL reconstruction...\n"
     ]
    },
    {
     "name": "stderr",
     "output_type": "stream",
     "text": [
      "Processing URLs:  97%|█████████▋| 399/412 [35:18<01:18,  6.00s/it]"
     ]
    },
    {
     "name": "stdout",
     "output_type": "stream",
     "text": [
      "Error during HTTP request: Exceeded 30 redirects.\n",
      "Converting to DataFrame...\n",
      "Validating URLs...\n",
      "Processing completed.\n",
      "Starting URL reconstruction...\n"
     ]
    },
    {
     "name": "stderr",
     "output_type": "stream",
     "text": [
      "Processing URLs:  97%|█████████▋| 400/412 [35:19<00:55,  4.60s/it]"
     ]
    },
    {
     "name": "stdout",
     "output_type": "stream",
     "text": [
      "Error during HTTP request: 404 Client Error: Not Found for url: https://www.eversports.de/s/pole-circus-a-k\n",
      "Converting to DataFrame...\n",
      "Validating URLs...\n",
      "Processing completed.\n",
      "Starting URL reconstruction...\n"
     ]
    },
    {
     "name": "stderr",
     "output_type": "stream",
     "text": [
      "Processing URLs:  97%|█████████▋| 401/412 [35:23<00:49,  4.49s/it]"
     ]
    },
    {
     "name": "stdout",
     "output_type": "stream",
     "text": [
      "Error during HTTP request: Exceeded 30 redirects.\n",
      "Converting to DataFrame...\n",
      "Validating URLs...\n",
      "Processing completed.\n",
      "Starting URL reconstruction...\n"
     ]
    },
    {
     "name": "stderr",
     "output_type": "stream",
     "text": [
      "Processing URLs:  98%|█████████▊| 402/412 [35:25<00:34,  3.49s/it]"
     ]
    },
    {
     "name": "stdout",
     "output_type": "stream",
     "text": [
      "Error during HTTP request: 404 Client Error: Not Found for url: https://www.eversports.de/s/freaky-pole-cats-straubing\n",
      "Converting to DataFrame...\n",
      "Validating URLs...\n",
      "Processing completed.\n",
      "Starting URL reconstruction...\n"
     ]
    },
    {
     "name": "stderr",
     "output_type": "stream",
     "text": [
      "2024-02-01 22:14:17,252 - INFO - Processing URL 1/1: https://www.eversports.de/s/nisa-verticals\n"
     ]
    },
    {
     "name": "stdout",
     "output_type": "stream",
     "text": [
      "Converting to DataFrame...\n",
      "Validating URLs...\n"
     ]
    },
    {
     "name": "stderr",
     "output_type": "stream",
     "text": [
      "2024-02-01 22:14:18,521 - INFO - URL https://www.eversports.de/s/nisa-verticals is valid.\n"
     ]
    },
    {
     "name": "stdout",
     "output_type": "stream",
     "text": [
      "Scraping Pole Studio Data from https://www.eversports.de/s/nisa-verticals...\n"
     ]
    },
    {
     "name": "stderr",
     "output_type": "stream",
     "text": [
      "Processing URLs:  98%|█████████▊| 403/412 [35:27<00:29,  3.30s/it]"
     ]
    },
    {
     "name": "stdout",
     "output_type": "stream",
     "text": [
      "Processing completed.\n",
      "Pole Studio Data: 1 entries\n",
      "Starting URL reconstruction...\n"
     ]
    },
    {
     "name": "stderr",
     "output_type": "stream",
     "text": [
      "2024-02-01 22:14:20,267 - INFO - Processing URL 1/3: https://www.eversports.de/s/airobics\n"
     ]
    },
    {
     "name": "stdout",
     "output_type": "stream",
     "text": [
      "Error reconstructing URL for 'Kurse': Unrecognized text: 'Kurse'\n",
      "Converting to DataFrame...\n",
      "Validating URLs...\n"
     ]
    },
    {
     "name": "stderr",
     "output_type": "stream",
     "text": [
      "2024-02-01 22:14:21,685 - INFO - URL https://www.eversports.de/s/airobics is valid.\n",
      "2024-02-01 22:14:21,687 - INFO - Processing URL 2/3: https://www.eversports.de/sp/airobics\n",
      "2024-02-01 22:14:23,064 - INFO - URL https://www.eversports.de/sp/airobics is valid.\n",
      "2024-02-01 22:14:23,065 - INFO - Processing URL 3/3: https://www.eversports.de/s/airobics/team\n",
      "2024-02-01 22:14:24,310 - INFO - URL https://www.eversports.de/s/airobics/team is valid.\n"
     ]
    },
    {
     "name": "stdout",
     "output_type": "stream",
     "text": [
      "Scraping Pole Studio Data from https://www.eversports.de/s/airobics...\n"
     ]
    },
    {
     "name": "stderr",
     "output_type": "stream",
     "text": [
      "Processing URLs:  98%|█████████▊| 404/412 [35:33<00:32,  4.12s/it]"
     ]
    },
    {
     "name": "stdout",
     "output_type": "stream",
     "text": [
      "Processing completed.\n",
      "Pole Studio Data: 1 entries\n",
      "Starting URL reconstruction...\n"
     ]
    },
    {
     "name": "stderr",
     "output_type": "stream",
     "text": [
      "2024-02-01 22:14:27,558 - INFO - Processing URL 1/4: https://www.eversports.de/s/aerial-loft\n"
     ]
    },
    {
     "name": "stdout",
     "output_type": "stream",
     "text": [
      "Error reconstructing URL for 'Kurse': Unrecognized text: 'Kurse'\n",
      "Error reconstructing URL for 'Events': Unrecognized text: 'Events'\n",
      "Converting to DataFrame...\n",
      "Validating URLs...\n"
     ]
    },
    {
     "name": "stderr",
     "output_type": "stream",
     "text": [
      "2024-02-01 22:14:29,138 - INFO - URL https://www.eversports.de/s/aerial-loft is valid.\n",
      "2024-02-01 22:14:29,139 - INFO - Processing URL 2/4: https://www.eversports.de/sw/aerial-loft\n",
      "2024-02-01 22:14:30,328 - INFO - URL https://www.eversports.de/sw/aerial-loft is valid.\n",
      "2024-02-01 22:14:30,329 - INFO - Processing URL 3/4: https://www.eversports.de/sp/aerial-loft\n",
      "2024-02-01 22:14:31,494 - INFO - URL https://www.eversports.de/sp/aerial-loft is valid.\n",
      "2024-02-01 22:14:31,495 - INFO - Processing URL 4/4: https://www.eversports.de/s/aerial-loft/team\n",
      "2024-02-01 22:14:33,005 - INFO - URL https://www.eversports.de/s/aerial-loft/team is valid.\n"
     ]
    },
    {
     "name": "stdout",
     "output_type": "stream",
     "text": [
      "Scraping Pole Studio Data from https://www.eversports.de/s/aerial-loft...\n",
      "Scraping Workshops Data from https://www.eversports.de/sw/aerial-loft...\n",
      "Scraping Workshop Details from https://www.eversports.de/e/workshop/tM6w_bx...\n",
      "Scraping Workshop Details from https://www.eversports.de/e/workshop/Uf4VM65...\n",
      "Scraping Workshop Details from https://www.eversports.de/e/workshop/N4v8WV0...\n",
      "Scraping Workshop Details from https://www.eversports.de/e/workshop/onN7Doj...\n",
      "Scraping Workshop Details from https://www.eversports.de/e/workshop/arPk7c0...\n",
      "Scraping Workshop Details from https://www.eversports.de/e/workshop/r3elm4w...\n"
     ]
    },
    {
     "name": "stderr",
     "output_type": "stream",
     "text": [
      "Processing URLs:  98%|█████████▊| 405/412 [35:55<01:06,  9.47s/it]"
     ]
    },
    {
     "name": "stdout",
     "output_type": "stream",
     "text": [
      "Processing completed.\n",
      "Pole Studio Data: 1 entries\n",
      "Workshops Data: 6 entries\n",
      "Workshop Details: 6 entries\n",
      "Starting URL reconstruction...\n"
     ]
    },
    {
     "name": "stderr",
     "output_type": "stream",
     "text": [
      "2024-02-01 22:14:48,552 - INFO - Processing URL 1/2: https://www.eversports.de/s/poledance-nrw\n"
     ]
    },
    {
     "name": "stdout",
     "output_type": "stream",
     "text": [
      "Converting to DataFrame...\n",
      "Validating URLs...\n"
     ]
    },
    {
     "name": "stderr",
     "output_type": "stream",
     "text": [
      "2024-02-01 22:14:50,518 - INFO - URL https://www.eversports.de/s/poledance-nrw is valid.\n",
      "2024-02-01 22:14:50,519 - INFO - Processing URL 2/2: https://www.eversports.de/sp/poledance-nrw\n",
      "2024-02-01 22:14:52,071 - INFO - URL https://www.eversports.de/sp/poledance-nrw is valid.\n"
     ]
    },
    {
     "name": "stdout",
     "output_type": "stream",
     "text": [
      "Scraping Pole Studio Data from https://www.eversports.de/s/poledance-nrw...\n"
     ]
    },
    {
     "name": "stderr",
     "output_type": "stream",
     "text": [
      "Processing URLs:  99%|█████████▊| 406/412 [36:01<00:49,  8.33s/it]"
     ]
    },
    {
     "name": "stdout",
     "output_type": "stream",
     "text": [
      "Processing completed.\n",
      "Pole Studio Data: 1 entries\n",
      "Starting URL reconstruction...\n"
     ]
    },
    {
     "name": "stderr",
     "output_type": "stream",
     "text": [
      "2024-02-01 22:14:54,400 - INFO - Processing URL 1/4: https://www.eversports.de/s/balance-neumarkt\n"
     ]
    },
    {
     "name": "stdout",
     "output_type": "stream",
     "text": [
      "Error reconstructing URL for 'Kurse': Unrecognized text: 'Kurse'\n",
      "Converting to DataFrame...\n",
      "Validating URLs...\n"
     ]
    },
    {
     "name": "stderr",
     "output_type": "stream",
     "text": [
      "2024-02-01 22:14:55,907 - INFO - URL https://www.eversports.de/s/balance-neumarkt is valid.\n",
      "2024-02-01 22:14:55,908 - INFO - Processing URL 2/4: https://www.eversports.de/sw/balance-neumarkt\n",
      "2024-02-01 22:14:59,313 - INFO - URL https://www.eversports.de/sw/balance-neumarkt is valid.\n",
      "2024-02-01 22:14:59,315 - INFO - Processing URL 3/4: https://www.eversports.de/sp/balance-neumarkt\n",
      "2024-02-01 22:15:02,398 - INFO - URL https://www.eversports.de/sp/balance-neumarkt is valid.\n",
      "2024-02-01 22:15:02,399 - INFO - Processing URL 4/4: https://www.eversports.de/s/balance-neumarkt/team\n",
      "2024-02-01 22:15:04,084 - INFO - URL https://www.eversports.de/s/balance-neumarkt/team is valid.\n"
     ]
    },
    {
     "name": "stdout",
     "output_type": "stream",
     "text": [
      "Scraping Pole Studio Data from https://www.eversports.de/s/balance-neumarkt...\n",
      "Scraping Workshops Data from https://www.eversports.de/sw/balance-neumarkt...\n",
      "Scraping Workshop Details from https://www.eversports.de/e/workshop/9j7N418...\n",
      "Scraping Workshop Details from https://www.eversports.de/e/workshop/OWKdsKA...\n",
      "Scraping Workshop Details from https://www.eversports.de/e/workshop/qtwNW3p...\n",
      "Scraping Workshop Details from https://www.eversports.de/e/workshop/-lRCjR7...\n",
      "Scraping Workshop Details from https://www.eversports.de/e/workshop/DmdrEre...\n",
      "Scraping Workshop Details from https://www.eversports.de/e/workshop/vnjpjso...\n",
      "Scraping Workshop Details from https://www.eversports.de/e/workshop/s-CvYfY...\n",
      "Scraping Workshop Details from https://www.eversports.de/e/workshop/lIzIIH9...\n",
      "Scraping Workshop Details from https://www.eversports.de/e/workshop/1hwRppH...\n",
      "Scraping Workshop Details from https://www.eversports.de/e/workshop/FWO9nVb...\n",
      "Scraping Workshop Details from https://www.eversports.de/e/workshop/wHwtdS-...\n",
      "Scraping Workshop Details from https://www.eversports.de/e/workshop/D7_g8hU...\n",
      "Scraping Workshop Details from https://www.eversports.de/e/workshop/yXJE2Qf...\n",
      "Scraping Workshop Details from https://www.eversports.de/e/workshop/AL0d8uV...\n",
      "Scraping Workshop Details from https://www.eversports.de/e/workshop/WpCq6MN...\n",
      "Scraping Workshop Details from https://www.eversports.de/e/workshop/uE03gmT...\n",
      "Scraping Workshop Details from https://www.eversports.de/e/workshop/Nm33K4u...\n",
      "Scraping Workshop Details from https://www.eversports.de/e/workshop/U27XEmo...\n",
      "Scraping Workshop Details from https://www.eversports.de/e/workshop/DujyYDr...\n"
     ]
    },
    {
     "name": "stderr",
     "output_type": "stream",
     "text": [
      "Processing URLs:  99%|█████████▉| 407/412 [36:53<01:47, 21.54s/it]"
     ]
    },
    {
     "name": "stdout",
     "output_type": "stream",
     "text": [
      "Processing completed.\n",
      "Pole Studio Data: 1 entries\n",
      "Workshops Data: 19 entries\n",
      "Workshop Details: 19 entries\n",
      "Starting URL reconstruction...\n"
     ]
    },
    {
     "name": "stderr",
     "output_type": "stream",
     "text": [
      "2024-02-01 22:15:46,591 - INFO - Processing URL 1/3: https://www.eversports.de/s/st-polestudio\n"
     ]
    },
    {
     "name": "stdout",
     "output_type": "stream",
     "text": [
      "Converting to DataFrame...\n",
      "Validating URLs...\n"
     ]
    },
    {
     "name": "stderr",
     "output_type": "stream",
     "text": [
      "2024-02-01 22:15:47,900 - INFO - URL https://www.eversports.de/s/st-polestudio is valid.\n",
      "2024-02-01 22:15:47,901 - INFO - Processing URL 2/3: https://www.eversports.de/sp/st-polestudio\n",
      "2024-02-01 22:15:49,132 - INFO - URL https://www.eversports.de/sp/st-polestudio is valid.\n",
      "2024-02-01 22:15:49,133 - INFO - Processing URL 3/3: https://www.eversports.de/s/st-polestudio/team\n",
      "2024-02-01 22:15:50,336 - INFO - URL https://www.eversports.de/s/st-polestudio/team is valid.\n"
     ]
    },
    {
     "name": "stdout",
     "output_type": "stream",
     "text": [
      "Scraping Pole Studio Data from https://www.eversports.de/s/st-polestudio...\n"
     ]
    },
    {
     "name": "stderr",
     "output_type": "stream",
     "text": [
      "Processing URLs:  99%|█████████▉| 408/412 [36:59<01:07, 16.82s/it]"
     ]
    },
    {
     "name": "stdout",
     "output_type": "stream",
     "text": [
      "Processing completed.\n",
      "Pole Studio Data: 1 entries\n",
      "Starting URL reconstruction...\n"
     ]
    },
    {
     "name": "stderr",
     "output_type": "stream",
     "text": [
      "2024-02-01 22:15:52,037 - INFO - Processing URL 1/1: https://www.eversports.de/s/pole-passion-bielefeld\n"
     ]
    },
    {
     "name": "stdout",
     "output_type": "stream",
     "text": [
      "Converting to DataFrame...\n",
      "Validating URLs...\n"
     ]
    },
    {
     "name": "stderr",
     "output_type": "stream",
     "text": [
      "2024-02-01 22:15:53,359 - INFO - URL https://www.eversports.de/s/pole-passion-bielefeld is valid.\n"
     ]
    },
    {
     "name": "stdout",
     "output_type": "stream",
     "text": [
      "Scraping Pole Studio Data from https://www.eversports.de/s/pole-passion-bielefeld...\n"
     ]
    },
    {
     "name": "stderr",
     "output_type": "stream",
     "text": [
      "Processing URLs:  99%|█████████▉| 409/412 [37:02<00:38, 12.68s/it]"
     ]
    },
    {
     "name": "stdout",
     "output_type": "stream",
     "text": [
      "Processing completed.\n",
      "Pole Studio Data: 1 entries\n",
      "Starting URL reconstruction...\n"
     ]
    },
    {
     "name": "stderr",
     "output_type": "stream",
     "text": [
      "Processing URLs: 100%|█████████▉| 410/412 [37:03<00:18,  9.23s/it]"
     ]
    },
    {
     "name": "stdout",
     "output_type": "stream",
     "text": [
      "Error during HTTP request: 404 Client Error: Not Found for url: https://www.eversports.de/s/lift-off---poledance-academy-viersen\n",
      "Converting to DataFrame...\n",
      "Validating URLs...\n",
      "Processing completed.\n",
      "Starting URL reconstruction...\n"
     ]
    },
    {
     "name": "stderr",
     "output_type": "stream",
     "text": [
      "Processing URLs: 100%|█████████▉| 411/412 [37:05<00:06,  6.97s/it]"
     ]
    },
    {
     "name": "stdout",
     "output_type": "stream",
     "text": [
      "Error during HTTP request: 404 Client Error: Not Found for url: https://www.eversports.de/s/schwerelos\n",
      "Converting to DataFrame...\n",
      "Validating URLs...\n",
      "Processing completed.\n",
      "Starting URL reconstruction...\n"
     ]
    },
    {
     "name": "stderr",
     "output_type": "stream",
     "text": [
      "Processing URLs: 100%|██████████| 412/412 [37:06<00:00,  5.40s/it]"
     ]
    },
    {
     "name": "stdout",
     "output_type": "stream",
     "text": [
      "Error during HTTP request: 404 Client Error: Not Found for url: https://www.eversports.de/s/dance-%26-pole-solingen\n",
      "Converting to DataFrame...\n",
      "Validating URLs...\n",
      "Processing completed.\n"
     ]
    },
    {
     "name": "stderr",
     "output_type": "stream",
     "text": [
      "\n"
     ]
    }
   ],
   "source": [
    "import pandas as pd\n",
    "from PyCaller import process_urls\n",
    "from tqdm import tqdm\n",
    "\n",
    "def process_and_print_results(url):\n",
    "    data = process_urls([url])\n",
    "\n",
    "    if data:\n",
    "        for key, df in data.items():\n",
    "            if df is not None and not df.empty:\n",
    "                print(f\"{key.replace('_', ' ').title()}: {len(df)} entries\")\n",
    "\n",
    "def main():\n",
    "    # Load initial URLs\n",
    "    all_found_urls_s = pd.read_csv(\"all_found_urls_23.12.23_cleaned.csv\")\n",
    "    initial_urls = list(set(all_found_urls_s[\"0\"]))\n",
    "\n",
    "    # Initialize DataFrames\n",
    "    all_pole_studio_data = pd.DataFrame()\n",
    "    all_workshops_data = pd.DataFrame()\n",
    "    all_workshop_details_data = pd.DataFrame()\n",
    "\n",
    "    # Process each URL\n",
    "    total_urls = len(initial_urls)\n",
    "    with tqdm(total=total_urls, desc=\"Processing URLs\") as pbar:\n",
    "        for i, url in enumerate(initial_urls, start=1):\n",
    "            process_and_print_results(url)\n",
    "            pbar.update(1)\n",
    "\n",
    "if __name__ == \"__main__\":\n",
    "    main()\n"
   ]
  },
  {
   "cell_type": "markdown",
   "metadata": {},
   "source": [
    "V3"
   ]
  },
  {
   "cell_type": "code",
   "execution_count": 14,
   "metadata": {},
   "outputs": [
    {
     "name": "stderr",
     "output_type": "stream",
     "text": [
      "Processing URLs:   0%|          | 0/412 [00:00<?, ?it/s]"
     ]
    },
    {
     "name": "stdout",
     "output_type": "stream",
     "text": [
      "Starting URL reconstruction...\n"
     ]
    },
    {
     "name": "stderr",
     "output_type": "stream",
     "text": [
      "Processing URLs:   0%|          | 1/412 [00:01<13:40,  2.00s/it, Current URL: https://www.eversports.de/s/secret-moves---athletic-dance-studio]"
     ]
    },
    {
     "name": "stdout",
     "output_type": "stream",
     "text": [
      "Error during HTTP request: 404 Client Error: Not Found for url: https://www.eversports.de/s/secret-moves---athletic-dance-studio\n",
      "Converting to DataFrame...\n",
      "Validating URLs...\n",
      "Processing completed.\n",
      "Starting URL reconstruction...\n"
     ]
    },
    {
     "name": "stderr",
     "output_type": "stream",
     "text": [
      "2024-02-01 22:48:10,145 - INFO - Processing URL 1/3: https://www.eversports.de/s/yoga-vidya-burgdorf\n"
     ]
    },
    {
     "name": "stdout",
     "output_type": "stream",
     "text": [
      "Error reconstructing URL for 'Kurse': Unrecognized text: 'Kurse'\n",
      "Error reconstructing URL for 'Retreats': Unrecognized text: 'Retreats'\n",
      "Converting to DataFrame...\n",
      "Validating URLs...\n"
     ]
    },
    {
     "name": "stderr",
     "output_type": "stream",
     "text": [
      "2024-02-01 22:48:11,981 - INFO - URL https://www.eversports.de/s/yoga-vidya-burgdorf is valid.\n",
      "2024-02-01 22:48:11,982 - INFO - Processing URL 2/3: https://www.eversports.de/sp/yoga-vidya-burgdorf\n",
      "2024-02-01 22:48:13,270 - INFO - URL https://www.eversports.de/sp/yoga-vidya-burgdorf is valid.\n",
      "2024-02-01 22:48:13,271 - INFO - Processing URL 3/3: https://www.eversports.de/s/yoga-vidya-burgdorf/team\n",
      "2024-02-01 22:48:14,581 - INFO - URL https://www.eversports.de/s/yoga-vidya-burgdorf/team is valid.\n"
     ]
    },
    {
     "name": "stdout",
     "output_type": "stream",
     "text": [
      "Scraping Pole Studio Data from https://www.eversports.de/s/yoga-vidya-burgdorf...\n"
     ]
    },
    {
     "name": "stderr",
     "output_type": "stream",
     "text": [
      "Processing URLs:   0%|          | 2/412 [00:09<33:47,  4.95s/it, Current URL: https://www.eversports.de/s/yoga-vidya-burgdorf]                 "
     ]
    },
    {
     "name": "stdout",
     "output_type": "stream",
     "text": [
      "Processing completed.\n",
      "Pole Studio Data: 1 entries\n",
      "Starting URL reconstruction...\n"
     ]
    },
    {
     "name": "stderr",
     "output_type": "stream",
     "text": [
      "Processing URLs:   1%|          | 3/412 [00:10<22:38,  3.32s/it, Current URL: https://www.eversports.de/s/studio-yh-pole-(and)-sports-berlin]"
     ]
    },
    {
     "name": "stdout",
     "output_type": "stream",
     "text": [
      "Error during HTTP request: 404 Client Error: Not Found for url: https://www.eversports.de/s/studio-yh-pole-(and)-sports-berlin\n",
      "Converting to DataFrame...\n",
      "Validating URLs...\n",
      "Processing completed.\n",
      "Starting URL reconstruction...\n"
     ]
    },
    {
     "name": "stderr",
     "output_type": "stream",
     "text": [
      "Processing URLs:   1%|          | 4/412 [00:15<26:43,  3.93s/it, Current URL: https://www.eversports.de/s/dance-%26-pole-h%c3%bcckeswagen]   "
     ]
    },
    {
     "name": "stdout",
     "output_type": "stream",
     "text": [
      "Error during HTTP request: Exceeded 30 redirects.\n",
      "Converting to DataFrame...\n",
      "Validating URLs...\n",
      "Processing completed.\n",
      "Starting URL reconstruction...\n"
     ]
    },
    {
     "name": "stderr",
     "output_type": "stream",
     "text": [
      "Processing URLs:   1%|          | 5/412 [00:19<28:01,  4.13s/it, Current URL: https://www.eversports.de/s/k%c3%b6rpernah]                 "
     ]
    },
    {
     "name": "stdout",
     "output_type": "stream",
     "text": [
      "Error during HTTP request: Exceeded 30 redirects.\n",
      "Converting to DataFrame...\n",
      "Validating URLs...\n",
      "Processing completed.\n",
      "Starting URL reconstruction...\n"
     ]
    },
    {
     "name": "stderr",
     "output_type": "stream",
     "text": [
      "Processing URLs:   1%|▏         | 6/412 [00:24<28:34,  4.22s/it, Current URL: https://www.eversports.de/s/cologne-pole-fitness---pole-dance-k%c3%b6ln]"
     ]
    },
    {
     "name": "stdout",
     "output_type": "stream",
     "text": [
      "Error during HTTP request: Exceeded 30 redirects.\n",
      "Converting to DataFrame...\n",
      "Validating URLs...\n",
      "Processing completed.\n",
      "Starting URL reconstruction...\n"
     ]
    },
    {
     "name": "stderr",
     "output_type": "stream",
     "text": [
      "2024-02-01 22:48:31,515 - INFO - Processing URL 1/3: https://www.eversports.de/s/flow-academy\n"
     ]
    },
    {
     "name": "stdout",
     "output_type": "stream",
     "text": [
      "Converting to DataFrame...\n",
      "Validating URLs...\n"
     ]
    },
    {
     "name": "stderr",
     "output_type": "stream",
     "text": [
      "2024-02-01 22:48:32,878 - INFO - URL https://www.eversports.de/s/flow-academy is valid.\n",
      "2024-02-01 22:48:32,879 - INFO - Processing URL 2/3: https://www.eversports.de/sp/flow-academy\n",
      "2024-02-01 22:48:34,046 - INFO - URL https://www.eversports.de/sp/flow-academy is valid.\n",
      "2024-02-01 22:48:34,047 - INFO - Processing URL 3/3: https://www.eversports.de/s/flow-academy/team\n",
      "2024-02-01 22:48:35,227 - INFO - URL https://www.eversports.de/s/flow-academy/team is valid.\n"
     ]
    },
    {
     "name": "stdout",
     "output_type": "stream",
     "text": [
      "Scraping Pole Studio Data from https://www.eversports.de/s/flow-academy...\n"
     ]
    },
    {
     "name": "stderr",
     "output_type": "stream",
     "text": [
      "Processing URLs:   2%|▏         | 7/412 [00:29<31:01,  4.60s/it, Current URL: https://www.eversports.de/s/flow-academy]                               "
     ]
    },
    {
     "name": "stdout",
     "output_type": "stream",
     "text": [
      "Processing completed.\n",
      "Pole Studio Data: 1 entries\n",
      "Starting URL reconstruction...\n"
     ]
    },
    {
     "name": "stderr",
     "output_type": "stream",
     "text": [
      "2024-02-01 22:48:36,954 - INFO - Processing URL 1/4: https://www.eversports.de/s/t-tanzstueck-wolfsburg\n"
     ]
    },
    {
     "name": "stdout",
     "output_type": "stream",
     "text": [
      "Error reconstructing URL for 'Kurse': Unrecognized text: 'Kurse'\n",
      "Converting to DataFrame...\n",
      "Validating URLs...\n"
     ]
    },
    {
     "name": "stderr",
     "output_type": "stream",
     "text": [
      "2024-02-01 22:48:38,288 - INFO - URL https://www.eversports.de/s/t-tanzstueck-wolfsburg is valid.\n",
      "2024-02-01 22:48:38,288 - INFO - Processing URL 2/4: https://www.eversports.de/sw/t-tanzstueck-wolfsburg\n",
      "2024-02-01 22:48:39,452 - INFO - URL https://www.eversports.de/sw/t-tanzstueck-wolfsburg is valid.\n",
      "2024-02-01 22:48:39,453 - INFO - Processing URL 3/4: https://www.eversports.de/sp/t-tanzstueck-wolfsburg\n",
      "2024-02-01 22:48:40,631 - INFO - URL https://www.eversports.de/sp/t-tanzstueck-wolfsburg is valid.\n",
      "2024-02-01 22:48:40,632 - INFO - Processing URL 4/4: https://www.eversports.de/s/t-tanzstueck-wolfsburg/team\n",
      "2024-02-01 22:48:41,887 - INFO - URL https://www.eversports.de/s/t-tanzstueck-wolfsburg/team is valid.\n"
     ]
    },
    {
     "name": "stdout",
     "output_type": "stream",
     "text": [
      "Scraping Pole Studio Data from https://www.eversports.de/s/t-tanzstueck-wolfsburg...\n",
      "Scraping Workshops Data from https://www.eversports.de/sw/t-tanzstueck-wolfsburg...\n",
      "Scraping Workshop Details from https://www.eversports.de/e/workshop/jg7fLUb...\n"
     ]
    },
    {
     "name": "stderr",
     "output_type": "stream",
     "text": [
      "Processing URLs:   2%|▏         | 8/412 [00:38<40:55,  6.08s/it, Current URL: https://www.eversports.de/s/t-tanzstueck-wolfsburg]"
     ]
    },
    {
     "name": "stdout",
     "output_type": "stream",
     "text": [
      "Processing completed.\n",
      "Pole Studio Data: 1 entries\n",
      "Workshops Data: 1 entries\n",
      "Workshop Details: 1 entries\n",
      "Starting URL reconstruction...\n"
     ]
    },
    {
     "name": "stderr",
     "output_type": "stream",
     "text": [
      "2024-02-01 22:48:46,124 - INFO - Processing URL 1/1: https://www.eversports.de/s/the-basement-pole-dance-and-movement\n"
     ]
    },
    {
     "name": "stdout",
     "output_type": "stream",
     "text": [
      "Converting to DataFrame...\n",
      "Validating URLs...\n"
     ]
    },
    {
     "name": "stderr",
     "output_type": "stream",
     "text": [
      "2024-02-01 22:48:47,427 - INFO - URL https://www.eversports.de/s/the-basement-pole-dance-and-movement is valid.\n"
     ]
    },
    {
     "name": "stdout",
     "output_type": "stream",
     "text": [
      "Scraping Pole Studio Data from https://www.eversports.de/s/the-basement-pole-dance-and-movement...\n"
     ]
    },
    {
     "name": "stderr",
     "output_type": "stream",
     "text": [
      "Processing URLs:   2%|▏         | 9/412 [00:41<34:21,  5.11s/it, Current URL: https://www.eversports.de/s/the-basement-pole-dance-and-movement]"
     ]
    },
    {
     "name": "stdout",
     "output_type": "stream",
     "text": [
      "Processing completed.\n",
      "Pole Studio Data: 1 entries\n",
      "Starting URL reconstruction...\n"
     ]
    },
    {
     "name": "stderr",
     "output_type": "stream",
     "text": [
      "Processing URLs:   2%|▏         | 10/412 [00:43<26:46,  4.00s/it, Current URL: https://www.eversports.de/s/pole-position-studio]                "
     ]
    },
    {
     "name": "stdout",
     "output_type": "stream",
     "text": [
      "Error during HTTP request: 404 Client Error: Not Found for url: https://www.eversports.de/s/pole-position-studio\n",
      "Converting to DataFrame...\n",
      "Validating URLs...\n",
      "Processing completed.\n",
      "Starting URL reconstruction...\n"
     ]
    },
    {
     "name": "stderr",
     "output_type": "stream",
     "text": [
      "Processing URLs:   3%|▎         | 11/412 [00:44<20:51,  3.12s/it, Current URL: https://www.eversports.de/s/palazzo-sportivo]    "
     ]
    },
    {
     "name": "stdout",
     "output_type": "stream",
     "text": [
      "Error during HTTP request: 404 Client Error: Not Found for url: https://www.eversports.de/s/palazzo-sportivo\n",
      "Converting to DataFrame...\n",
      "Validating URLs...\n",
      "Processing completed.\n",
      "Starting URL reconstruction...\n"
     ]
    },
    {
     "name": "stderr",
     "output_type": "stream",
     "text": [
      "Processing URLs:   3%|▎         | 12/412 [00:45<17:03,  2.56s/it, Current URL: https://www.eversports.de/s/pole-fit-plauen] "
     ]
    },
    {
     "name": "stdout",
     "output_type": "stream",
     "text": [
      "Error during HTTP request: 404 Client Error: Not Found for url: https://www.eversports.de/s/pole-fit-plauen\n",
      "Converting to DataFrame...\n",
      "Validating URLs...\n",
      "Processing completed.\n",
      "Starting URL reconstruction...\n"
     ]
    },
    {
     "name": "stderr",
     "output_type": "stream",
     "text": [
      "Processing URLs:   3%|▎         | 13/412 [00:46<14:20,  2.16s/it, Current URL: https://www.eversports.de/s/studio-elodie-tanzbewegung]"
     ]
    },
    {
     "name": "stdout",
     "output_type": "stream",
     "text": [
      "Error during HTTP request: 404 Client Error: Not Found for url: https://www.eversports.de/s/studio-elodie-tanzbewegung\n",
      "Converting to DataFrame...\n",
      "Validating URLs...\n",
      "Processing completed.\n",
      "Starting URL reconstruction...\n"
     ]
    },
    {
     "name": "stderr",
     "output_type": "stream",
     "text": [
      "Processing URLs:   3%|▎         | 14/412 [00:48<12:16,  1.85s/it, Current URL: https://www.eversports.de/s/verticalarts-pole-%26-aerial-fitness]"
     ]
    },
    {
     "name": "stdout",
     "output_type": "stream",
     "text": [
      "Error during HTTP request: 404 Client Error: Not Found for url: https://www.eversports.de/s/verticalarts-pole-%26-aerial-fitness\n",
      "Converting to DataFrame...\n",
      "Validating URLs...\n",
      "Processing completed.\n",
      "Starting URL reconstruction...\n"
     ]
    },
    {
     "name": "stderr",
     "output_type": "stream",
     "text": [
      "Processing URLs:   4%|▎         | 15/412 [00:49<11:06,  1.68s/it, Current URL: https://www.eversports.de/s/unique-pole-art]                     "
     ]
    },
    {
     "name": "stdout",
     "output_type": "stream",
     "text": [
      "Error during HTTP request: 404 Client Error: Not Found for url: https://www.eversports.de/s/unique-pole-art\n",
      "Converting to DataFrame...\n",
      "Validating URLs...\n",
      "Processing completed.\n",
      "Starting URL reconstruction...\n"
     ]
    },
    {
     "name": "stderr",
     "output_type": "stream",
     "text": [
      "Processing URLs:   4%|▍         | 16/412 [00:50<09:55,  1.50s/it, Current URL: https://www.eversports.de/s/pole-faction---pole-dance-&-fitness]"
     ]
    },
    {
     "name": "stdout",
     "output_type": "stream",
     "text": [
      "Error during HTTP request: 404 Client Error: Not Found for url: https://www.eversports.de/s/pole-faction---pole-dance-&-fitness\n",
      "Converting to DataFrame...\n",
      "Validating URLs...\n",
      "Processing completed.\n",
      "Starting URL reconstruction...\n"
     ]
    },
    {
     "name": "stderr",
     "output_type": "stream",
     "text": [
      "Processing URLs:   4%|▍         | 17/412 [00:55<16:08,  2.45s/it, Current URL: https://www.eversports.de/s/unique-studios-w%c3%bcrzburg]       "
     ]
    },
    {
     "name": "stdout",
     "output_type": "stream",
     "text": [
      "Error during HTTP request: Exceeded 30 redirects.\n",
      "Converting to DataFrame...\n",
      "Validating URLs...\n",
      "Processing completed.\n",
      "Starting URL reconstruction...\n"
     ]
    },
    {
     "name": "stderr",
     "output_type": "stream",
     "text": [
      "Processing URLs:   4%|▍         | 18/412 [00:56<13:31,  2.06s/it, Current URL: https://www.eversports.de/s/orbit-studio]                "
     ]
    },
    {
     "name": "stdout",
     "output_type": "stream",
     "text": [
      "Error during HTTP request: 404 Client Error: Not Found for url: https://www.eversports.de/s/orbit-studio\n",
      "Converting to DataFrame...\n",
      "Validating URLs...\n",
      "Processing completed.\n",
      "Starting URL reconstruction...\n"
     ]
    },
    {
     "name": "stderr",
     "output_type": "stream",
     "text": [
      "2024-02-01 22:49:03,796 - INFO - Processing URL 1/4: https://www.eversports.de/s/niyaha-yoga-susann-kind\n"
     ]
    },
    {
     "name": "stdout",
     "output_type": "stream",
     "text": [
      "Error reconstructing URL for 'Events': Unrecognized text: 'Events'\n",
      "Converting to DataFrame...\n",
      "Validating URLs...\n"
     ]
    },
    {
     "name": "stderr",
     "output_type": "stream",
     "text": [
      "2024-02-01 22:49:05,419 - INFO - URL https://www.eversports.de/s/niyaha-yoga-susann-kind is valid.\n",
      "2024-02-01 22:49:05,419 - INFO - Processing URL 2/4: https://www.eversports.de/sw/niyaha-yoga-susann-kind\n",
      "2024-02-01 22:49:06,666 - INFO - URL https://www.eversports.de/sw/niyaha-yoga-susann-kind is valid.\n",
      "2024-02-01 22:49:06,667 - INFO - Processing URL 3/4: https://www.eversports.de/sp/niyaha-yoga-susann-kind\n",
      "2024-02-01 22:49:07,840 - INFO - URL https://www.eversports.de/sp/niyaha-yoga-susann-kind is valid.\n",
      "2024-02-01 22:49:07,843 - INFO - Processing URL 4/4: https://www.eversports.de/s/niyaha-yoga-susann-kind/team\n",
      "2024-02-01 22:49:09,836 - INFO - URL https://www.eversports.de/s/niyaha-yoga-susann-kind/team is valid.\n"
     ]
    },
    {
     "name": "stdout",
     "output_type": "stream",
     "text": [
      "Scraping Pole Studio Data from https://www.eversports.de/s/niyaha-yoga-susann-kind...\n",
      "Scraping Workshops Data from https://www.eversports.de/sw/niyaha-yoga-susann-kind...\n",
      "Scraping Workshop Details from https://www.eversports.de/e/workshop/u0m4PpJ...\n",
      "Scraping Workshop Details from https://www.eversports.de/e/workshop/Qph3Nhi...\n",
      "Scraping Workshop Details from https://www.eversports.de/e/workshop/cnaEonv...\n",
      "Scraping Workshop Details from https://www.eversports.de/e/workshop/VVUAlSC...\n"
     ]
    },
    {
     "name": "stderr",
     "output_type": "stream",
     "text": [
      "Processing URLs:   5%|▍         | 19/412 [01:10<38:00,  5.80s/it, Current URL: https://www.eversports.de/s/niyaha-yoga-susann-kind]"
     ]
    },
    {
     "name": "stdout",
     "output_type": "stream",
     "text": [
      "Processing completed.\n",
      "Pole Studio Data: 1 entries\n",
      "Workshops Data: 4 entries\n",
      "Workshop Details: 4 entries\n",
      "Starting URL reconstruction...\n"
     ]
    },
    {
     "name": "stderr",
     "output_type": "stream",
     "text": [
      "Processing URLs:   5%|▍         | 20/412 [01:11<28:49,  4.41s/it, Current URL: https://www.eversports.de/s/metropole-dance---now1] "
     ]
    },
    {
     "name": "stdout",
     "output_type": "stream",
     "text": [
      "Error during HTTP request: 404 Client Error: Not Found for url: https://www.eversports.de/s/metropole-dance---now1\n",
      "Converting to DataFrame...\n",
      "Validating URLs...\n",
      "Processing completed.\n",
      "Starting URL reconstruction...\n"
     ]
    },
    {
     "name": "stderr",
     "output_type": "stream",
     "text": [
      "Processing URLs:   5%|▌         | 21/412 [01:13<22:34,  3.46s/it, Current URL: https://www.eversports.de/s/polefriends]           "
     ]
    },
    {
     "name": "stdout",
     "output_type": "stream",
     "text": [
      "Error during HTTP request: 404 Client Error: Not Found for url: https://www.eversports.de/s/polefriends\n",
      "Converting to DataFrame...\n",
      "Validating URLs...\n",
      "Processing completed.\n",
      "Starting URL reconstruction...\n"
     ]
    },
    {
     "name": "stderr",
     "output_type": "stream",
     "text": [
      "2024-02-01 22:49:20,537 - INFO - Processing URL 1/3: https://www.eversports.de/s/spin-up\n"
     ]
    },
    {
     "name": "stdout",
     "output_type": "stream",
     "text": [
      "Converting to DataFrame...\n",
      "Validating URLs...\n"
     ]
    },
    {
     "name": "stderr",
     "output_type": "stream",
     "text": [
      "2024-02-01 22:49:21,862 - INFO - URL https://www.eversports.de/s/spin-up is valid.\n",
      "2024-02-01 22:49:21,863 - INFO - Processing URL 2/3: https://www.eversports.de/sp/spin-up\n",
      "2024-02-01 22:49:23,070 - INFO - URL https://www.eversports.de/sp/spin-up is not valid.\n",
      "2024-02-01 22:49:23,071 - INFO - Processing URL 3/3: https://www.eversports.de/s/spin-up/team\n",
      "2024-02-01 22:49:24,403 - INFO - URL https://www.eversports.de/s/spin-up/team is valid.\n"
     ]
    },
    {
     "name": "stdout",
     "output_type": "stream",
     "text": [
      "Scraping Pole Studio Data from https://www.eversports.de/s/spin-up...\n"
     ]
    },
    {
     "name": "stderr",
     "output_type": "stream",
     "text": [
      "Processing URLs:   5%|▌         | 22/412 [01:20<29:54,  4.60s/it, Current URL: https://www.eversports.de/s/spin-up]    "
     ]
    },
    {
     "name": "stdout",
     "output_type": "stream",
     "text": [
      "Processing completed.\n",
      "Pole Studio Data: 1 entries\n",
      "Starting URL reconstruction...\n"
     ]
    },
    {
     "name": "stderr",
     "output_type": "stream",
     "text": [
      "Processing URLs:   6%|▌         | 23/412 [01:21<23:07,  3.57s/it, Current URL: https://www.eversports.de/s/pole-box]"
     ]
    },
    {
     "name": "stdout",
     "output_type": "stream",
     "text": [
      "Error during HTTP request: 404 Client Error: Not Found for url: https://www.eversports.de/s/pole-box\n",
      "Converting to DataFrame...\n",
      "Validating URLs...\n",
      "Processing completed.\n",
      "Starting URL reconstruction...\n"
     ]
    },
    {
     "name": "stderr",
     "output_type": "stream",
     "text": [
      "Processing URLs:   6%|▌         | 24/412 [01:25<24:29,  3.79s/it, Current URL: https://www.eversports.de/s/pole-dance-studio-n%c3%bcrnberg]"
     ]
    },
    {
     "name": "stdout",
     "output_type": "stream",
     "text": [
      "Error during HTTP request: Exceeded 30 redirects.\n",
      "Converting to DataFrame...\n",
      "Validating URLs...\n",
      "Processing completed.\n",
      "Starting URL reconstruction...\n"
     ]
    },
    {
     "name": "stderr",
     "output_type": "stream",
     "text": [
      "Processing URLs:   6%|▌         | 25/412 [01:27<19:38,  3.05s/it, Current URL: https://www.eversports.de/s/flexx-arts-memmingen]           "
     ]
    },
    {
     "name": "stdout",
     "output_type": "stream",
     "text": [
      "Error during HTTP request: 404 Client Error: Not Found for url: https://www.eversports.de/s/flexx-arts-memmingen\n",
      "Converting to DataFrame...\n",
      "Validating URLs...\n",
      "Processing completed.\n",
      "Starting URL reconstruction...\n"
     ]
    },
    {
     "name": "stderr",
     "output_type": "stream",
     "text": [
      "2024-02-01 22:49:34,539 - INFO - Processing URL 1/4: https://www.eversports.de/s/body-meets-soul-leipzig\n"
     ]
    },
    {
     "name": "stdout",
     "output_type": "stream",
     "text": [
      "Converting to DataFrame...\n",
      "Validating URLs...\n"
     ]
    },
    {
     "name": "stderr",
     "output_type": "stream",
     "text": [
      "2024-02-01 22:49:35,881 - INFO - URL https://www.eversports.de/s/body-meets-soul-leipzig is valid.\n",
      "2024-02-01 22:49:35,883 - INFO - Processing URL 2/4: https://www.eversports.de/sw/body-meets-soul-leipzig\n",
      "2024-02-01 22:49:37,563 - INFO - URL https://www.eversports.de/sw/body-meets-soul-leipzig is valid.\n",
      "2024-02-01 22:49:37,564 - INFO - Processing URL 3/4: https://www.eversports.de/sp/body-meets-soul-leipzig\n",
      "2024-02-01 22:49:39,009 - INFO - URL https://www.eversports.de/sp/body-meets-soul-leipzig is valid.\n",
      "2024-02-01 22:49:39,011 - INFO - Processing URL 4/4: https://www.eversports.de/s/body-meets-soul-leipzig/team\n",
      "2024-02-01 22:49:40,248 - INFO - URL https://www.eversports.de/s/body-meets-soul-leipzig/team is valid.\n"
     ]
    },
    {
     "name": "stdout",
     "output_type": "stream",
     "text": [
      "Scraping Pole Studio Data from https://www.eversports.de/s/body-meets-soul-leipzig...\n",
      "Scraping Workshops Data from https://www.eversports.de/sw/body-meets-soul-leipzig...\n",
      "Scraping Workshop Details from https://www.eversports.de/e/workshop/uO9N1VQ...\n"
     ]
    },
    {
     "name": "stderr",
     "output_type": "stream",
     "text": [
      "Processing URLs:   6%|▋         | 26/412 [01:37<33:18,  5.18s/it, Current URL: https://www.eversports.de/s/body-meets-soul-leipzig]"
     ]
    },
    {
     "name": "stdout",
     "output_type": "stream",
     "text": [
      "Processing completed.\n",
      "Pole Studio Data: 1 entries\n",
      "Workshops Data: 1 entries\n",
      "Workshop Details: 1 entries\n",
      "Starting URL reconstruction...\n"
     ]
    },
    {
     "name": "stderr",
     "output_type": "stream",
     "text": [
      "2024-02-01 22:49:44,717 - INFO - Processing URL 1/3: https://www.eversports.de/s/ima-intentional-movement-academy\n"
     ]
    },
    {
     "name": "stdout",
     "output_type": "stream",
     "text": [
      "Error reconstructing URL for 'Retreats': Unrecognized text: 'Retreats'\n",
      "Converting to DataFrame...\n",
      "Validating URLs...\n"
     ]
    },
    {
     "name": "stderr",
     "output_type": "stream",
     "text": [
      "2024-02-01 22:49:46,479 - INFO - URL https://www.eversports.de/s/ima-intentional-movement-academy is valid.\n",
      "2024-02-01 22:49:46,480 - INFO - Processing URL 2/3: https://www.eversports.de/sp/ima-intentional-movement-academy\n",
      "2024-02-01 22:49:48,949 - INFO - URL https://www.eversports.de/sp/ima-intentional-movement-academy is valid.\n",
      "2024-02-01 22:49:48,950 - INFO - Processing URL 3/3: https://www.eversports.de/s/ima-intentional-movement-academy/team\n",
      "2024-02-01 22:49:50,180 - INFO - URL https://www.eversports.de/s/ima-intentional-movement-academy/team is valid.\n"
     ]
    },
    {
     "name": "stdout",
     "output_type": "stream",
     "text": [
      "Scraping Pole Studio Data from https://www.eversports.de/s/ima-intentional-movement-academy...\n"
     ]
    },
    {
     "name": "stderr",
     "output_type": "stream",
     "text": [
      "Processing URLs:   7%|▋         | 27/412 [01:44<37:08,  5.79s/it, Current URL: https://www.eversports.de/s/ima-intentional-movement-academy]"
     ]
    },
    {
     "name": "stdout",
     "output_type": "stream",
     "text": [
      "Processing completed.\n",
      "Pole Studio Data: 1 entries\n",
      "Starting URL reconstruction...\n"
     ]
    },
    {
     "name": "stderr",
     "output_type": "stream",
     "text": [
      "2024-02-01 22:49:51,894 - INFO - Processing URL 1/4: https://www.eversports.de/s/koerpernah\n"
     ]
    },
    {
     "name": "stdout",
     "output_type": "stream",
     "text": [
      "Converting to DataFrame...\n",
      "Validating URLs...\n"
     ]
    },
    {
     "name": "stderr",
     "output_type": "stream",
     "text": [
      "2024-02-01 22:49:53,314 - INFO - URL https://www.eversports.de/s/koerpernah is valid.\n",
      "2024-02-01 22:49:53,315 - INFO - Processing URL 2/4: https://www.eversports.de/sw/koerpernah\n",
      "2024-02-01 22:49:54,809 - INFO - URL https://www.eversports.de/sw/koerpernah is valid.\n",
      "2024-02-01 22:49:54,810 - INFO - Processing URL 3/4: https://www.eversports.de/sp/koerpernah\n",
      "2024-02-01 22:49:56,165 - INFO - URL https://www.eversports.de/sp/koerpernah is valid.\n",
      "2024-02-01 22:49:56,166 - INFO - Processing URL 4/4: https://www.eversports.de/s/koerpernah/team\n",
      "2024-02-01 22:49:57,672 - INFO - URL https://www.eversports.de/s/koerpernah/team is valid.\n"
     ]
    },
    {
     "name": "stdout",
     "output_type": "stream",
     "text": [
      "Scraping Pole Studio Data from https://www.eversports.de/s/koerpernah...\n",
      "Scraping Workshops Data from https://www.eversports.de/sw/koerpernah...\n",
      "Scraping Workshop Details from https://www.eversports.de/e/workshop/MfhCem5...\n"
     ]
    },
    {
     "name": "stderr",
     "output_type": "stream",
     "text": [
      "Processing URLs:   7%|▋         | 28/412 [01:54<45:39,  7.14s/it, Current URL: https://www.eversports.de/s/koerpernah]                      "
     ]
    },
    {
     "name": "stdout",
     "output_type": "stream",
     "text": [
      "Processing completed.\n",
      "Pole Studio Data: 1 entries\n",
      "Workshops Data: 1 entries\n",
      "Workshop Details: 1 entries\n",
      "Starting URL reconstruction...\n"
     ]
    },
    {
     "name": "stderr",
     "output_type": "stream",
     "text": [
      "Processing URLs:   7%|▋         | 29/412 [01:55<34:05,  5.34s/it, Current URL: https://www.eversports.de/s/pole2dance---vertical-fitness-and-dance-company]"
     ]
    },
    {
     "name": "stdout",
     "output_type": "stream",
     "text": [
      "Error during HTTP request: 404 Client Error: Not Found for url: https://www.eversports.de/s/pole2dance---vertical-fitness-and-dance-company\n",
      "Converting to DataFrame...\n",
      "Validating URLs...\n",
      "Processing completed.\n",
      "Starting URL reconstruction...\n"
     ]
    },
    {
     "name": "stderr",
     "output_type": "stream",
     "text": [
      "Processing URLs:   7%|▋         | 30/412 [01:57<25:58,  4.08s/it, Current URL: https://www.eversports.de/s/polegarage-iserloh]                             "
     ]
    },
    {
     "name": "stdout",
     "output_type": "stream",
     "text": [
      "Error during HTTP request: 404 Client Error: Not Found for url: https://www.eversports.de/s/polegarage-iserloh\n",
      "Converting to DataFrame...\n",
      "Validating URLs...\n",
      "Processing completed.\n",
      "Starting URL reconstruction...\n"
     ]
    },
    {
     "name": "stderr",
     "output_type": "stream",
     "text": [
      "2024-02-01 22:50:04,646 - INFO - Processing URL 1/4: https://www.eversports.de/s/dance-and-pole-leverkusen\n"
     ]
    },
    {
     "name": "stdout",
     "output_type": "stream",
     "text": [
      "Converting to DataFrame...\n",
      "Validating URLs...\n"
     ]
    },
    {
     "name": "stderr",
     "output_type": "stream",
     "text": [
      "2024-02-01 22:50:06,089 - INFO - URL https://www.eversports.de/s/dance-and-pole-leverkusen is valid.\n",
      "2024-02-01 22:50:06,090 - INFO - Processing URL 2/4: https://www.eversports.de/sw/dance-and-pole-leverkusen\n",
      "2024-02-01 22:50:07,441 - INFO - URL https://www.eversports.de/sw/dance-and-pole-leverkusen is valid.\n",
      "2024-02-01 22:50:07,443 - INFO - Processing URL 3/4: https://www.eversports.de/sp/dance-and-pole-leverkusen\n",
      "2024-02-01 22:50:08,652 - INFO - URL https://www.eversports.de/sp/dance-and-pole-leverkusen is valid.\n",
      "2024-02-01 22:50:08,653 - INFO - Processing URL 4/4: https://www.eversports.de/s/dance-and-pole-leverkusen/team\n",
      "2024-02-01 22:50:09,910 - INFO - URL https://www.eversports.de/s/dance-and-pole-leverkusen/team is valid.\n"
     ]
    },
    {
     "name": "stdout",
     "output_type": "stream",
     "text": [
      "Scraping Pole Studio Data from https://www.eversports.de/s/dance-and-pole-leverkusen...\n",
      "Scraping Workshops Data from https://www.eversports.de/sw/dance-and-pole-leverkusen...\n",
      "Scraping Workshop Details from https://www.eversports.de/e/workshop/II-gWEL...\n"
     ]
    },
    {
     "name": "stderr",
     "output_type": "stream",
     "text": [
      "Processing URLs:   8%|▊         | 31/412 [02:06<36:56,  5.82s/it, Current URL: https://www.eversports.de/s/dance-and-pole-leverkusen]"
     ]
    },
    {
     "name": "stdout",
     "output_type": "stream",
     "text": [
      "Processing completed.\n",
      "Pole Studio Data: 1 entries\n",
      "Workshops Data: 1 entries\n",
      "Workshop Details: 1 entries\n",
      "Starting URL reconstruction...\n"
     ]
    },
    {
     "name": "stderr",
     "output_type": "stream",
     "text": [
      "2024-02-01 22:50:14,602 - INFO - Processing URL 1/3: https://www.eversports.de/s/pole-arts\n"
     ]
    },
    {
     "name": "stdout",
     "output_type": "stream",
     "text": [
      "Error reconstructing URL for 'Kurse': Unrecognized text: 'Kurse'\n",
      "Converting to DataFrame...\n",
      "Validating URLs...\n"
     ]
    },
    {
     "name": "stderr",
     "output_type": "stream",
     "text": [
      "2024-02-01 22:50:15,904 - INFO - URL https://www.eversports.de/s/pole-arts is valid.\n",
      "2024-02-01 22:50:15,905 - INFO - Processing URL 2/3: https://www.eversports.de/sp/pole-arts\n",
      "2024-02-01 22:50:17,083 - INFO - URL https://www.eversports.de/sp/pole-arts is valid.\n",
      "2024-02-01 22:50:17,083 - INFO - Processing URL 3/3: https://www.eversports.de/s/pole-arts/team\n",
      "2024-02-01 22:50:18,512 - INFO - URL https://www.eversports.de/s/pole-arts/team is valid.\n"
     ]
    },
    {
     "name": "stdout",
     "output_type": "stream",
     "text": [
      "Scraping Pole Studio Data from https://www.eversports.de/s/pole-arts...\n"
     ]
    },
    {
     "name": "stderr",
     "output_type": "stream",
     "text": [
      "Processing URLs:   8%|▊         | 32/412 [02:12<37:02,  5.85s/it, Current URL: https://www.eversports.de/s/pole-arts]                "
     ]
    },
    {
     "name": "stdout",
     "output_type": "stream",
     "text": [
      "Processing completed.\n",
      "Pole Studio Data: 1 entries\n",
      "Starting URL reconstruction...\n"
     ]
    },
    {
     "name": "stderr",
     "output_type": "stream",
     "text": [
      "2024-02-01 22:50:23,524 - INFO - Processing URL 1/4: https://www.eversports.de/s/royal-pole\n"
     ]
    },
    {
     "name": "stdout",
     "output_type": "stream",
     "text": [
      "Error reconstructing URL for 'Freie Trainings': Unrecognized text: 'Freie Trainings'\n",
      "Converting to DataFrame...\n",
      "Validating URLs...\n"
     ]
    },
    {
     "name": "stderr",
     "output_type": "stream",
     "text": [
      "2024-02-01 22:50:24,918 - INFO - URL https://www.eversports.de/s/royal-pole is valid.\n",
      "2024-02-01 22:50:24,919 - INFO - Processing URL 2/4: https://www.eversports.de/sw/royal-pole\n",
      "2024-02-01 22:50:26,074 - INFO - URL https://www.eversports.de/sw/royal-pole is not valid.\n",
      "2024-02-01 22:50:26,076 - INFO - Processing URL 3/4: https://www.eversports.de/sp/royal-pole\n",
      "2024-02-01 22:50:27,915 - INFO - URL https://www.eversports.de/sp/royal-pole is not valid.\n",
      "2024-02-01 22:50:27,916 - INFO - Processing URL 4/4: https://www.eversports.de/s/royal-pole/team\n",
      "2024-02-01 22:50:29,434 - INFO - URL https://www.eversports.de/s/royal-pole/team is valid.\n"
     ]
    },
    {
     "name": "stdout",
     "output_type": "stream",
     "text": [
      "Scraping Pole Studio Data from https://www.eversports.de/s/royal-pole...\n"
     ]
    },
    {
     "name": "stderr",
     "output_type": "stream",
     "text": [
      "Processing URLs:   8%|▊         | 33/412 [02:24<46:59,  7.44s/it, Current URL: https://www.eversports.de/s/royal-pole]"
     ]
    },
    {
     "name": "stdout",
     "output_type": "stream",
     "text": [
      "Processing completed.\n",
      "Pole Studio Data: 1 entries\n",
      "Starting URL reconstruction...\n"
     ]
    },
    {
     "name": "stderr",
     "output_type": "stream",
     "text": [
      "2024-02-01 22:50:31,581 - INFO - Processing URL 1/4: https://www.eversports.de/s/stadtgazellen-bremen\n"
     ]
    },
    {
     "name": "stdout",
     "output_type": "stream",
     "text": [
      "Converting to DataFrame...\n",
      "Validating URLs...\n"
     ]
    },
    {
     "name": "stderr",
     "output_type": "stream",
     "text": [
      "2024-02-01 22:50:33,267 - INFO - URL https://www.eversports.de/s/stadtgazellen-bremen is valid.\n",
      "2024-02-01 22:50:33,268 - INFO - Processing URL 2/4: https://www.eversports.de/sw/stadtgazellen-bremen\n",
      "2024-02-01 22:50:34,413 - INFO - URL https://www.eversports.de/sw/stadtgazellen-bremen is valid.\n",
      "2024-02-01 22:50:34,414 - INFO - Processing URL 3/4: https://www.eversports.de/sp/stadtgazellen-bremen\n",
      "2024-02-01 22:50:35,846 - INFO - URL https://www.eversports.de/sp/stadtgazellen-bremen is valid.\n",
      "2024-02-01 22:50:35,847 - INFO - Processing URL 4/4: https://www.eversports.de/s/stadtgazellen-bremen/team\n",
      "2024-02-01 22:50:37,070 - INFO - URL https://www.eversports.de/s/stadtgazellen-bremen/team is valid.\n"
     ]
    },
    {
     "name": "stdout",
     "output_type": "stream",
     "text": [
      "Scraping Pole Studio Data from https://www.eversports.de/s/stadtgazellen-bremen...\n",
      "Scraping Workshops Data from https://www.eversports.de/sw/stadtgazellen-bremen...\n",
      "Scraping Workshop Details from https://www.eversports.de/e/workshop/YiU_KF8...\n",
      "Scraping Workshop Details from https://www.eversports.de/e/workshop/Vnofur2...\n",
      "Scraping Workshop Details from https://www.eversports.de/e/workshop/wFn4PaN...\n",
      "Scraping Workshop Details from https://www.eversports.de/e/workshop/6ZllXAZ...\n",
      "Scraping Workshop Details from https://www.eversports.de/e/workshop/L5UxsO9...\n",
      "Scraping Workshop Details from https://www.eversports.de/e/workshop/7blW22y...\n",
      "Scraping Workshop Details from https://www.eversports.de/e/workshop/v4tYN09...\n",
      "Scraping Workshop Details from https://www.eversports.de/e/workshop/KWx3LyO...\n",
      "Scraping Workshop Details from https://www.eversports.de/e/workshop/WRl24o5...\n",
      "Scraping Workshop Details from https://www.eversports.de/e/workshop/wrZkEQ3...\n"
     ]
    },
    {
     "name": "stderr",
     "output_type": "stream",
     "text": [
      "Processing URLs:   8%|▊         | 34/412 [02:48<1:18:33, 12.47s/it, Current URL: https://www.eversports.de/s/stadtgazellen-bremen]"
     ]
    },
    {
     "name": "stdout",
     "output_type": "stream",
     "text": [
      "Processing completed.\n",
      "Pole Studio Data: 1 entries\n",
      "Workshops Data: 10 entries\n",
      "Workshop Details: 10 entries\n",
      "Starting URL reconstruction...\n"
     ]
    },
    {
     "name": "stderr",
     "output_type": "stream",
     "text": [
      "2024-02-01 22:50:55,641 - INFO - Processing URL 1/2: https://www.eversports.de/s/annis-pole-dance-neumuenster\n"
     ]
    },
    {
     "name": "stdout",
     "output_type": "stream",
     "text": [
      "Error reconstructing URL for 'Trainings': Unrecognized text: 'Trainings'\n",
      "Error reconstructing URL for 'Kurse': Unrecognized text: 'Kurse'\n",
      "Converting to DataFrame...\n",
      "Validating URLs...\n"
     ]
    },
    {
     "name": "stderr",
     "output_type": "stream",
     "text": [
      "2024-02-01 22:50:56,949 - INFO - URL https://www.eversports.de/s/annis-pole-dance-neumuenster is valid.\n",
      "2024-02-01 22:50:56,950 - INFO - Processing URL 2/2: https://www.eversports.de/s/annis-pole-dance-neumuenster/team\n",
      "2024-02-01 22:50:58,130 - INFO - URL https://www.eversports.de/s/annis-pole-dance-neumuenster/team is valid.\n"
     ]
    },
    {
     "name": "stdout",
     "output_type": "stream",
     "text": [
      "Scraping Pole Studio Data from https://www.eversports.de/s/annis-pole-dance-neumuenster...\n"
     ]
    },
    {
     "name": "stderr",
     "output_type": "stream",
     "text": [
      "Processing URLs:   8%|▊         | 35/412 [02:52<1:02:42,  9.98s/it, Current URL: https://www.eversports.de/s/annis-pole-dance-neumuenster]"
     ]
    },
    {
     "name": "stdout",
     "output_type": "stream",
     "text": [
      "Processing completed.\n",
      "Pole Studio Data: 1 entries\n",
      "Starting URL reconstruction...\n"
     ]
    },
    {
     "name": "stderr",
     "output_type": "stream",
     "text": [
      "Processing URLs:   9%|▊         | 36/412 [02:53<45:49,  7.31s/it, Current URL: https://www.eversports.de/s/move-on!-dance-studio-&-polemotions]"
     ]
    },
    {
     "name": "stdout",
     "output_type": "stream",
     "text": [
      "Error during HTTP request: 404 Client Error: Not Found for url: https://www.eversports.de/s/move-on!-dance-studio-&-polemotions\n",
      "Converting to DataFrame...\n",
      "Validating URLs...\n",
      "Processing completed.\n",
      "Starting URL reconstruction...\n"
     ]
    },
    {
     "name": "stderr",
     "output_type": "stream",
     "text": [
      "Processing URLs:   9%|▉         | 37/412 [02:54<34:18,  5.49s/it, Current URL: https://www.eversports.de/s/poleroom]                           "
     ]
    },
    {
     "name": "stdout",
     "output_type": "stream",
     "text": [
      "Error during HTTP request: 404 Client Error: Not Found for url: https://www.eversports.de/s/poleroom\n",
      "Converting to DataFrame...\n",
      "Validating URLs...\n",
      "Processing completed.\n",
      "Starting URL reconstruction...\n"
     ]
    },
    {
     "name": "stderr",
     "output_type": "stream",
     "text": [
      "2024-02-01 22:51:02,221 - INFO - Processing URL 1/4: https://www.eversports.de/s/soultide\n"
     ]
    },
    {
     "name": "stdout",
     "output_type": "stream",
     "text": [
      "Error reconstructing URL for 'Retreats': Unrecognized text: 'Retreats'\n",
      "Converting to DataFrame...\n",
      "Validating URLs...\n"
     ]
    },
    {
     "name": "stderr",
     "output_type": "stream",
     "text": [
      "2024-02-01 22:51:03,689 - INFO - URL https://www.eversports.de/s/soultide is valid.\n",
      "2024-02-01 22:51:03,690 - INFO - Processing URL 2/4: https://www.eversports.de/sw/soultide\n",
      "2024-02-01 22:51:04,863 - INFO - URL https://www.eversports.de/sw/soultide is valid.\n",
      "2024-02-01 22:51:04,864 - INFO - Processing URL 3/4: https://www.eversports.de/sp/soultide\n",
      "2024-02-01 22:51:06,086 - INFO - URL https://www.eversports.de/sp/soultide is valid.\n",
      "2024-02-01 22:51:06,087 - INFO - Processing URL 4/4: https://www.eversports.de/s/soultide/team\n",
      "2024-02-01 22:51:07,618 - INFO - URL https://www.eversports.de/s/soultide/team is valid.\n"
     ]
    },
    {
     "name": "stdout",
     "output_type": "stream",
     "text": [
      "Scraping Pole Studio Data from https://www.eversports.de/s/soultide...\n",
      "Scraping Workshops Data from https://www.eversports.de/sw/soultide...\n",
      "Scraping Workshop Details from https://www.eversports.de/e/workshop/Q5aPZDK...\n",
      "Scraping Workshop Details from https://www.eversports.de/e/workshop/U2ElOtm...\n",
      "Scraping Workshop Details from https://www.eversports.de/e/workshop/npdGKjQ...\n"
     ]
    },
    {
     "name": "stderr",
     "output_type": "stream",
     "text": [
      "Processing URLs:   9%|▉         | 38/412 [03:07<47:11,  7.57s/it, Current URL: https://www.eversports.de/s/soultide]"
     ]
    },
    {
     "name": "stdout",
     "output_type": "stream",
     "text": [
      "Processing completed.\n",
      "Pole Studio Data: 1 entries\n",
      "Workshops Data: 3 entries\n",
      "Workshop Details: 3 entries\n",
      "Starting URL reconstruction...\n"
     ]
    },
    {
     "name": "stderr",
     "output_type": "stream",
     "text": [
      "2024-02-01 22:51:14,594 - INFO - Processing URL 1/4: https://www.eversports.de/s/pole-plus\n"
     ]
    },
    {
     "name": "stdout",
     "output_type": "stream",
     "text": [
      "Converting to DataFrame...\n",
      "Validating URLs...\n"
     ]
    },
    {
     "name": "stderr",
     "output_type": "stream",
     "text": [
      "2024-02-01 22:51:15,831 - INFO - URL https://www.eversports.de/s/pole-plus is valid.\n",
      "2024-02-01 22:51:15,832 - INFO - Processing URL 2/4: https://www.eversports.de/sw/pole-plus\n",
      "2024-02-01 22:51:17,024 - INFO - URL https://www.eversports.de/sw/pole-plus is valid.\n",
      "2024-02-01 22:51:17,026 - INFO - Processing URL 3/4: https://www.eversports.de/sp/pole-plus\n",
      "2024-02-01 22:51:18,156 - INFO - URL https://www.eversports.de/sp/pole-plus is valid.\n",
      "2024-02-01 22:51:18,157 - INFO - Processing URL 4/4: https://www.eversports.de/s/pole-plus/team\n",
      "2024-02-01 22:51:19,370 - INFO - URL https://www.eversports.de/s/pole-plus/team is valid.\n"
     ]
    },
    {
     "name": "stdout",
     "output_type": "stream",
     "text": [
      "Scraping Pole Studio Data from https://www.eversports.de/s/pole-plus...\n",
      "Scraping Workshops Data from https://www.eversports.de/sw/pole-plus...\n",
      "Scraping Workshop Details from https://www.eversports.de/e/workshop/NHtp6Mw...\n",
      "Scraping Workshop Details from https://www.eversports.de/e/workshop/upSDQIA...\n",
      "Scraping Workshop Details from https://www.eversports.de/e/workshop/lBLI7xf...\n"
     ]
    },
    {
     "name": "stderr",
     "output_type": "stream",
     "text": [
      "Processing URLs:   9%|▉         | 39/412 [03:18<54:33,  8.78s/it, Current URL: https://www.eversports.de/s/pole-plus]"
     ]
    },
    {
     "name": "stdout",
     "output_type": "stream",
     "text": [
      "Processing completed.\n",
      "Pole Studio Data: 1 entries\n",
      "Workshops Data: 3 entries\n",
      "Workshop Details: 3 entries\n",
      "Starting URL reconstruction...\n"
     ]
    },
    {
     "name": "stderr",
     "output_type": "stream",
     "text": [
      "2024-02-01 22:51:26,225 - INFO - Processing URL 1/4: https://www.eversports.de/s/pole-acrobatics\n"
     ]
    },
    {
     "name": "stdout",
     "output_type": "stream",
     "text": [
      "Error reconstructing URL for 'Trainings': Unrecognized text: 'Trainings'\n",
      "Converting to DataFrame...\n",
      "Validating URLs...\n"
     ]
    },
    {
     "name": "stderr",
     "output_type": "stream",
     "text": [
      "2024-02-01 22:51:27,639 - INFO - URL https://www.eversports.de/s/pole-acrobatics is valid.\n",
      "2024-02-01 22:51:27,640 - INFO - Processing URL 2/4: https://www.eversports.de/sw/pole-acrobatics\n",
      "2024-02-01 22:51:28,765 - INFO - URL https://www.eversports.de/sw/pole-acrobatics is valid.\n",
      "2024-02-01 22:51:28,766 - INFO - Processing URL 3/4: https://www.eversports.de/sp/pole-acrobatics\n",
      "2024-02-01 22:51:30,107 - INFO - URL https://www.eversports.de/sp/pole-acrobatics is valid.\n",
      "2024-02-01 22:51:30,108 - INFO - Processing URL 4/4: https://www.eversports.de/s/pole-acrobatics/team\n",
      "2024-02-01 22:51:31,290 - INFO - URL https://www.eversports.de/s/pole-acrobatics/team is valid.\n"
     ]
    },
    {
     "name": "stdout",
     "output_type": "stream",
     "text": [
      "Scraping Pole Studio Data from https://www.eversports.de/s/pole-acrobatics...\n",
      "Scraping Workshops Data from https://www.eversports.de/sw/pole-acrobatics...\n",
      "Scraping Workshop Details from https://www.eversports.de/e/workshop/-wGhAaJ...\n"
     ]
    },
    {
     "name": "stderr",
     "output_type": "stream",
     "text": [
      "Processing URLs:  10%|▉         | 40/412 [03:33<1:06:10, 10.67s/it, Current URL: https://www.eversports.de/s/pole-acrobatics]"
     ]
    },
    {
     "name": "stdout",
     "output_type": "stream",
     "text": [
      "Processing completed.\n",
      "Pole Studio Data: 1 entries\n",
      "Workshops Data: 1 entries\n",
      "Workshop Details: 1 entries\n",
      "Starting URL reconstruction...\n"
     ]
    },
    {
     "name": "stderr",
     "output_type": "stream",
     "text": [
      "Processing URLs:  10%|▉         | 41/412 [03:35<48:25,  7.83s/it, Current URL: https://www.eversports.de/s/lift-off---poledance-academy-frankfurt]"
     ]
    },
    {
     "name": "stdout",
     "output_type": "stream",
     "text": [
      "Error during HTTP request: 404 Client Error: Not Found for url: https://www.eversports.de/s/lift-off---poledance-academy-frankfurt\n",
      "Converting to DataFrame...\n",
      "Validating URLs...\n",
      "Processing completed.\n",
      "Starting URL reconstruction...\n"
     ]
    },
    {
     "name": "stderr",
     "output_type": "stream",
     "text": [
      "2024-02-01 22:51:43,003 - INFO - Processing URL 1/3: https://www.eversports.de/s/loft1-basel-city\n"
     ]
    },
    {
     "name": "stdout",
     "output_type": "stream",
     "text": [
      "Converting to DataFrame...\n",
      "Validating URLs...\n"
     ]
    },
    {
     "name": "stderr",
     "output_type": "stream",
     "text": [
      "2024-02-01 22:51:44,418 - INFO - URL https://www.eversports.de/s/loft1-basel-city is valid.\n",
      "2024-02-01 22:51:44,420 - INFO - Processing URL 2/3: https://www.eversports.de/sp/loft1-basel-city\n",
      "2024-02-01 22:51:45,646 - INFO - URL https://www.eversports.de/sp/loft1-basel-city is not valid.\n",
      "2024-02-01 22:51:45,647 - INFO - Processing URL 3/3: https://www.eversports.de/s/loft1-basel-city/team\n",
      "2024-02-01 22:51:46,894 - INFO - URL https://www.eversports.de/s/loft1-basel-city/team is valid.\n"
     ]
    },
    {
     "name": "stdout",
     "output_type": "stream",
     "text": [
      "Scraping Pole Studio Data from https://www.eversports.de/s/loft1-basel-city...\n"
     ]
    },
    {
     "name": "stderr",
     "output_type": "stream",
     "text": [
      "Processing URLs:  10%|█         | 42/412 [03:41<45:12,  7.33s/it, Current URL: https://www.eversports.de/s/loft1-basel-city]                      "
     ]
    },
    {
     "name": "stdout",
     "output_type": "stream",
     "text": [
      "Processing completed.\n",
      "Pole Studio Data: 1 entries\n",
      "Starting URL reconstruction...\n"
     ]
    },
    {
     "name": "stderr",
     "output_type": "stream",
     "text": [
      "2024-02-01 22:51:48,629 - INFO - Processing URL 1/4: https://www.eversports.de/s/polefit-aline-sustrath\n"
     ]
    },
    {
     "name": "stdout",
     "output_type": "stream",
     "text": [
      "Error reconstructing URL for 'Kurse': Unrecognized text: 'Kurse'\n",
      "Converting to DataFrame...\n",
      "Validating URLs...\n"
     ]
    },
    {
     "name": "stderr",
     "output_type": "stream",
     "text": [
      "2024-02-01 22:51:49,926 - INFO - URL https://www.eversports.de/s/polefit-aline-sustrath is valid.\n",
      "2024-02-01 22:51:49,928 - INFO - Processing URL 2/4: https://www.eversports.de/sw/polefit-aline-sustrath\n",
      "2024-02-01 22:51:51,141 - INFO - URL https://www.eversports.de/sw/polefit-aline-sustrath is valid.\n",
      "2024-02-01 22:51:51,143 - INFO - Processing URL 3/4: https://www.eversports.de/sp/polefit-aline-sustrath\n",
      "2024-02-01 22:51:52,672 - INFO - URL https://www.eversports.de/sp/polefit-aline-sustrath is valid.\n",
      "2024-02-01 22:51:52,673 - INFO - Processing URL 4/4: https://www.eversports.de/s/polefit-aline-sustrath/team\n",
      "2024-02-01 22:51:53,861 - INFO - URL https://www.eversports.de/s/polefit-aline-sustrath/team is valid.\n"
     ]
    },
    {
     "name": "stdout",
     "output_type": "stream",
     "text": [
      "Scraping Pole Studio Data from https://www.eversports.de/s/polefit-aline-sustrath...\n",
      "Scraping Workshops Data from https://www.eversports.de/sw/polefit-aline-sustrath...\n",
      "Scraping Workshop Details from https://www.eversports.de/e/workshop/F0nh2br...\n"
     ]
    },
    {
     "name": "stderr",
     "output_type": "stream",
     "text": [
      "Processing URLs:  10%|█         | 43/412 [03:50<49:00,  7.97s/it, Current URL: https://www.eversports.de/s/polefit-aline-sustrath]"
     ]
    },
    {
     "name": "stdout",
     "output_type": "stream",
     "text": [
      "Processing completed.\n",
      "Pole Studio Data: 1 entries\n",
      "Workshops Data: 1 entries\n",
      "Workshop Details: 1 entries\n",
      "Starting URL reconstruction...\n"
     ]
    },
    {
     "name": "stderr",
     "output_type": "stream",
     "text": [
      "Processing URLs:  11%|█         | 44/412 [03:51<36:25,  5.94s/it, Current URL: https://www.eversports.de/s/aerial-balance]        "
     ]
    },
    {
     "name": "stdout",
     "output_type": "stream",
     "text": [
      "Error during HTTP request: 404 Client Error: Not Found for url: https://www.eversports.de/s/aerial-balance\n",
      "Converting to DataFrame...\n",
      "Validating URLs...\n",
      "Processing completed.\n",
      "Starting URL reconstruction...\n"
     ]
    },
    {
     "name": "stderr",
     "output_type": "stream",
     "text": [
      "Processing URLs:  11%|█         | 45/412 [03:57<35:08,  5.75s/it, Current URL: https://www.eversports.de/s/schwerelos-m%c3%bcnster]"
     ]
    },
    {
     "name": "stdout",
     "output_type": "stream",
     "text": [
      "Error during HTTP request: Exceeded 30 redirects.\n",
      "Converting to DataFrame...\n",
      "Validating URLs...\n",
      "Processing completed.\n",
      "Starting URL reconstruction...\n"
     ]
    },
    {
     "name": "stderr",
     "output_type": "stream",
     "text": [
      "Processing URLs:  11%|█         | 46/412 [03:58<26:37,  4.37s/it, Current URL: https://www.eversports.de/s/freaky-pole-cats-schwandorf]"
     ]
    },
    {
     "name": "stdout",
     "output_type": "stream",
     "text": [
      "Error during HTTP request: 404 Client Error: Not Found for url: https://www.eversports.de/s/freaky-pole-cats-schwandorf\n",
      "Converting to DataFrame...\n",
      "Validating URLs...\n",
      "Processing completed.\n",
      "Starting URL reconstruction...\n"
     ]
    },
    {
     "name": "stderr",
     "output_type": "stream",
     "text": [
      "2024-02-01 22:52:05,616 - INFO - Processing URL 1/1: https://www.eversports.de/s/artletik-ug-laufen-und-meer\n"
     ]
    },
    {
     "name": "stdout",
     "output_type": "stream",
     "text": [
      "Converting to DataFrame...\n",
      "Validating URLs...\n"
     ]
    },
    {
     "name": "stderr",
     "output_type": "stream",
     "text": [
      "2024-02-01 22:52:06,915 - INFO - URL https://www.eversports.de/s/artletik-ug-laufen-und-meer is valid.\n"
     ]
    },
    {
     "name": "stdout",
     "output_type": "stream",
     "text": [
      "Scraping Pole Studio Data from https://www.eversports.de/s/artletik-ug-laufen-und-meer...\n"
     ]
    },
    {
     "name": "stderr",
     "output_type": "stream",
     "text": [
      "Processing URLs:  11%|█▏        | 47/412 [04:01<23:52,  3.92s/it, Current URL: https://www.eversports.de/s/artletik-ug-laufen-und-meer]"
     ]
    },
    {
     "name": "stdout",
     "output_type": "stream",
     "text": [
      "Processing completed.\n",
      "Pole Studio Data: 1 entries\n",
      "Starting URL reconstruction...\n"
     ]
    },
    {
     "name": "stderr",
     "output_type": "stream",
     "text": [
      "Processing URLs:  12%|█▏        | 48/412 [04:02<18:49,  3.10s/it, Current URL: https://www.eversports.de/s/sky-move-pole-sport]        "
     ]
    },
    {
     "name": "stdout",
     "output_type": "stream",
     "text": [
      "Error during HTTP request: 404 Client Error: Not Found for url: https://www.eversports.de/s/sky-move-pole-sport\n",
      "Converting to DataFrame...\n",
      "Validating URLs...\n",
      "Processing completed.\n",
      "Starting URL reconstruction...\n"
     ]
    },
    {
     "name": "stderr",
     "output_type": "stream",
     "text": [
      "2024-02-01 22:52:10,553 - INFO - Processing URL 1/3: https://www.eversports.de/s/secret-moves-athletic-dance-studio\n"
     ]
    },
    {
     "name": "stdout",
     "output_type": "stream",
     "text": [
      "Converting to DataFrame...\n",
      "Validating URLs...\n"
     ]
    },
    {
     "name": "stderr",
     "output_type": "stream",
     "text": [
      "2024-02-01 22:52:12,330 - INFO - URL https://www.eversports.de/s/secret-moves-athletic-dance-studio is valid.\n",
      "2024-02-01 22:52:12,331 - INFO - Processing URL 2/3: https://www.eversports.de/sp/secret-moves-athletic-dance-studio\n",
      "2024-02-01 22:52:13,486 - INFO - URL https://www.eversports.de/sp/secret-moves-athletic-dance-studio is valid.\n",
      "2024-02-01 22:52:13,488 - INFO - Processing URL 3/3: https://www.eversports.de/s/secret-moves-athletic-dance-studio/team\n",
      "2024-02-01 22:52:14,724 - INFO - URL https://www.eversports.de/s/secret-moves-athletic-dance-studio/team is valid.\n"
     ]
    },
    {
     "name": "stdout",
     "output_type": "stream",
     "text": [
      "Scraping Pole Studio Data from https://www.eversports.de/s/secret-moves-athletic-dance-studio...\n"
     ]
    },
    {
     "name": "stderr",
     "output_type": "stream",
     "text": [
      "Processing URLs:  12%|█▏        | 49/412 [04:09<25:28,  4.21s/it, Current URL: https://www.eversports.de/s/secret-moves-athletic-dance-studio]"
     ]
    },
    {
     "name": "stdout",
     "output_type": "stream",
     "text": [
      "Processing completed.\n",
      "Pole Studio Data: 1 entries\n",
      "Starting URL reconstruction...\n"
     ]
    },
    {
     "name": "stderr",
     "output_type": "stream",
     "text": [
      "Processing URLs:  12%|█▏        | 50/412 [04:13<25:58,  4.31s/it, Current URL: https://www.eversports.de/s/dance-moves-wolfenb%c3%bcttel]     "
     ]
    },
    {
     "name": "stdout",
     "output_type": "stream",
     "text": [
      "Error during HTTP request: Exceeded 30 redirects.\n",
      "Converting to DataFrame...\n",
      "Validating URLs...\n",
      "Processing completed.\n",
      "Starting URL reconstruction...\n"
     ]
    },
    {
     "name": "stderr",
     "output_type": "stream",
     "text": [
      "2024-02-01 22:52:21,200 - INFO - Processing URL 1/1: https://www.eversports.de/s/dancingstyle\n"
     ]
    },
    {
     "name": "stdout",
     "output_type": "stream",
     "text": [
      "Converting to DataFrame...\n",
      "Validating URLs...\n"
     ]
    },
    {
     "name": "stderr",
     "output_type": "stream",
     "text": [
      "2024-02-01 22:52:22,418 - INFO - URL https://www.eversports.de/s/dancingstyle is valid.\n"
     ]
    },
    {
     "name": "stdout",
     "output_type": "stream",
     "text": [
      "Scraping Pole Studio Data from https://www.eversports.de/s/dancingstyle...\n"
     ]
    },
    {
     "name": "stderr",
     "output_type": "stream",
     "text": [
      "Processing URLs:  12%|█▏        | 51/412 [04:16<23:26,  3.90s/it, Current URL: https://www.eversports.de/s/dancingstyle]                 "
     ]
    },
    {
     "name": "stdout",
     "output_type": "stream",
     "text": [
      "Processing completed.\n",
      "Pole Studio Data: 1 entries\n",
      "Starting URL reconstruction...\n"
     ]
    },
    {
     "name": "stderr",
     "output_type": "stream",
     "text": [
      "Processing URLs:  13%|█▎        | 52/412 [04:18<19:24,  3.24s/it, Current URL: https://www.eversports.de/s/annaconda-pole-%26-aerial-sports]"
     ]
    },
    {
     "name": "stdout",
     "output_type": "stream",
     "text": [
      "Error during HTTP request: 404 Client Error: Not Found for url: https://www.eversports.de/s/annaconda-pole-%26-aerial-sports\n",
      "Converting to DataFrame...\n",
      "Validating URLs...\n",
      "Processing completed.\n",
      "Starting URL reconstruction...\n"
     ]
    },
    {
     "name": "stderr",
     "output_type": "stream",
     "text": [
      "Processing URLs:  13%|█▎        | 53/412 [04:23<22:26,  3.75s/it, Current URL: https://www.eversports.de/s/feel-good-factory:-pole-•-stretch-•-fly]"
     ]
    },
    {
     "name": "stdout",
     "output_type": "stream",
     "text": [
      "Error during HTTP request: Exceeded 30 redirects.\n",
      "Converting to DataFrame...\n",
      "Validating URLs...\n",
      "Processing completed.\n",
      "Starting URL reconstruction...\n"
     ]
    },
    {
     "name": "stderr",
     "output_type": "stream",
     "text": [
      "Processing URLs:  13%|█▎        | 54/412 [04:24<17:39,  2.96s/it, Current URL: https://www.eversports.de/s/annaconda-pole-&-fitness]               "
     ]
    },
    {
     "name": "stdout",
     "output_type": "stream",
     "text": [
      "Error during HTTP request: 404 Client Error: Not Found for url: https://www.eversports.de/s/annaconda-pole-&-fitness\n",
      "Converting to DataFrame...\n",
      "Validating URLs...\n",
      "Processing completed.\n",
      "Starting URL reconstruction...\n"
     ]
    },
    {
     "name": "stderr",
     "output_type": "stream",
     "text": [
      "Processing URLs:  13%|█▎        | 55/412 [04:26<15:12,  2.56s/it, Current URL: https://www.eversports.de/s/polerina's-poledance]    "
     ]
    },
    {
     "name": "stdout",
     "output_type": "stream",
     "text": [
      "Error during HTTP request: 404 Client Error: Not Found for url: https://www.eversports.de/s/polerina's-poledance\n",
      "Converting to DataFrame...\n",
      "Validating URLs...\n",
      "Processing completed.\n",
      "Starting URL reconstruction...\n"
     ]
    },
    {
     "name": "stderr",
     "output_type": "stream",
     "text": [
      "2024-02-01 22:52:33,526 - INFO - Processing URL 1/2: https://www.eversports.de/s/dunya-pole-dance-school\n"
     ]
    },
    {
     "name": "stdout",
     "output_type": "stream",
     "text": [
      "Converting to DataFrame...\n",
      "Validating URLs...\n"
     ]
    },
    {
     "name": "stderr",
     "output_type": "stream",
     "text": [
      "2024-02-01 22:52:34,995 - INFO - URL https://www.eversports.de/s/dunya-pole-dance-school is valid.\n",
      "2024-02-01 22:52:34,996 - INFO - Processing URL 2/2: https://www.eversports.de/s/dunya-pole-dance-school/team\n",
      "2024-02-01 22:52:36,183 - INFO - URL https://www.eversports.de/s/dunya-pole-dance-school/team is valid.\n"
     ]
    },
    {
     "name": "stdout",
     "output_type": "stream",
     "text": [
      "Scraping Pole Studio Data from https://www.eversports.de/s/dunya-pole-dance-school...\n"
     ]
    },
    {
     "name": "stderr",
     "output_type": "stream",
     "text": [
      "Processing URLs:  14%|█▎        | 56/412 [04:30<19:20,  3.26s/it, Current URL: https://www.eversports.de/s/dunya-pole-dance-school]"
     ]
    },
    {
     "name": "stdout",
     "output_type": "stream",
     "text": [
      "Processing completed.\n",
      "Pole Studio Data: 1 entries\n",
      "Starting URL reconstruction...\n"
     ]
    },
    {
     "name": "stderr",
     "output_type": "stream",
     "text": [
      "Processing URLs:  14%|█▍        | 57/412 [04:32<15:29,  2.62s/it, Current URL: https://www.eversports.de/s/satori-pole-dance-potsdam]"
     ]
    },
    {
     "name": "stdout",
     "output_type": "stream",
     "text": [
      "Error during HTTP request: 404 Client Error: Not Found for url: https://www.eversports.de/s/satori-pole-dance-potsdam\n",
      "Converting to DataFrame...\n",
      "Validating URLs...\n",
      "Processing completed.\n",
      "Starting URL reconstruction...\n"
     ]
    },
    {
     "name": "stderr",
     "output_type": "stream",
     "text": [
      "Processing URLs:  14%|█▍        | 58/412 [04:33<12:53,  2.18s/it, Current URL: https://www.eversports.de/s/polesition]               "
     ]
    },
    {
     "name": "stdout",
     "output_type": "stream",
     "text": [
      "Error during HTTP request: 404 Client Error: Not Found for url: https://www.eversports.de/s/polesition\n",
      "Converting to DataFrame...\n",
      "Validating URLs...\n",
      "Processing completed.\n",
      "Starting URL reconstruction...\n"
     ]
    },
    {
     "name": "stderr",
     "output_type": "stream",
     "text": [
      "2024-02-01 22:52:41,271 - INFO - Processing URL 1/1: https://www.eversports.de/s/welovepoledance\n"
     ]
    },
    {
     "name": "stdout",
     "output_type": "stream",
     "text": [
      "Converting to DataFrame...\n",
      "Validating URLs...\n"
     ]
    },
    {
     "name": "stderr",
     "output_type": "stream",
     "text": [
      "2024-02-01 22:52:42,519 - INFO - URL https://www.eversports.de/s/welovepoledance is valid.\n"
     ]
    },
    {
     "name": "stdout",
     "output_type": "stream",
     "text": [
      "Scraping Pole Studio Data from https://www.eversports.de/s/welovepoledance...\n"
     ]
    },
    {
     "name": "stderr",
     "output_type": "stream",
     "text": [
      "Processing URLs:  14%|█▍        | 59/412 [04:37<16:06,  2.74s/it, Current URL: https://www.eversports.de/s/welovepoledance]"
     ]
    },
    {
     "name": "stdout",
     "output_type": "stream",
     "text": [
      "Processing completed.\n",
      "Pole Studio Data: 1 entries\n",
      "Starting URL reconstruction...\n"
     ]
    },
    {
     "name": "stderr",
     "output_type": "stream",
     "text": [
      "2024-02-01 22:52:44,737 - INFO - Processing URL 1/1: https://www.eversports.de/s/infinity-polesports-eggenfelden\n"
     ]
    },
    {
     "name": "stdout",
     "output_type": "stream",
     "text": [
      "Converting to DataFrame...\n",
      "Validating URLs...\n"
     ]
    },
    {
     "name": "stderr",
     "output_type": "stream",
     "text": [
      "2024-02-01 22:52:46,200 - INFO - URL https://www.eversports.de/s/infinity-polesports-eggenfelden is valid.\n"
     ]
    },
    {
     "name": "stdout",
     "output_type": "stream",
     "text": [
      "Scraping Pole Studio Data from https://www.eversports.de/s/infinity-polesports-eggenfelden...\n"
     ]
    },
    {
     "name": "stderr",
     "output_type": "stream",
     "text": [
      "Processing URLs:  15%|█▍        | 60/412 [04:40<17:21,  2.96s/it, Current URL: https://www.eversports.de/s/infinity-polesports-eggenfelden]"
     ]
    },
    {
     "name": "stdout",
     "output_type": "stream",
     "text": [
      "Processing completed.\n",
      "Pole Studio Data: 1 entries\n",
      "Starting URL reconstruction...\n"
     ]
    },
    {
     "name": "stderr",
     "output_type": "stream",
     "text": [
      "2024-02-01 22:52:48,254 - INFO - Processing URL 1/3: https://www.eversports.de/s/polemotions-filderstadt\n"
     ]
    },
    {
     "name": "stdout",
     "output_type": "stream",
     "text": [
      "Converting to DataFrame...\n",
      "Validating URLs...\n"
     ]
    },
    {
     "name": "stderr",
     "output_type": "stream",
     "text": [
      "2024-02-01 22:52:49,630 - INFO - URL https://www.eversports.de/s/polemotions-filderstadt is valid.\n",
      "2024-02-01 22:52:49,631 - INFO - Processing URL 2/3: https://www.eversports.de/sp/polemotions-filderstadt\n",
      "2024-02-01 22:52:50,893 - INFO - URL https://www.eversports.de/sp/polemotions-filderstadt is valid.\n",
      "2024-02-01 22:52:50,894 - INFO - Processing URL 3/3: https://www.eversports.de/s/polemotions-filderstadt/team\n",
      "2024-02-01 22:52:52,178 - INFO - URL https://www.eversports.de/s/polemotions-filderstadt/team is valid.\n"
     ]
    },
    {
     "name": "stdout",
     "output_type": "stream",
     "text": [
      "Scraping Pole Studio Data from https://www.eversports.de/s/polemotions-filderstadt...\n"
     ]
    },
    {
     "name": "stderr",
     "output_type": "stream",
     "text": [
      "Processing URLs:  15%|█▍        | 61/412 [04:46<22:17,  3.81s/it, Current URL: https://www.eversports.de/s/polemotions-filderstadt]        "
     ]
    },
    {
     "name": "stdout",
     "output_type": "stream",
     "text": [
      "Processing completed.\n",
      "Pole Studio Data: 1 entries\n",
      "Starting URL reconstruction...\n"
     ]
    },
    {
     "name": "stderr",
     "output_type": "stream",
     "text": [
      "Processing URLs:  15%|█▌        | 62/412 [04:47<17:34,  3.01s/it, Current URL: https://www.eversports.de/s/pole-sport-coburg---akrobatik-%26-tanz-]"
     ]
    },
    {
     "name": "stdout",
     "output_type": "stream",
     "text": [
      "Error during HTTP request: 404 Client Error: Not Found for url: https://www.eversports.de/s/pole-sport-coburg---akrobatik-%26-tanz-\n",
      "Converting to DataFrame...\n",
      "Validating URLs...\n",
      "Processing completed.\n",
      "Starting URL reconstruction...\n"
     ]
    },
    {
     "name": "stderr",
     "output_type": "stream",
     "text": [
      "2024-02-01 22:52:55,177 - INFO - Processing URL 1/3: https://www.eversports.de/s/janardana-yoga\n"
     ]
    },
    {
     "name": "stdout",
     "output_type": "stream",
     "text": [
      "Error reconstructing URL for 'Ausbildungen': Unrecognized text: 'Ausbildungen'\n",
      "Converting to DataFrame...\n",
      "Validating URLs...\n"
     ]
    },
    {
     "name": "stderr",
     "output_type": "stream",
     "text": [
      "2024-02-01 22:52:56,705 - INFO - URL https://www.eversports.de/s/janardana-yoga is valid.\n",
      "2024-02-01 22:52:56,707 - INFO - Processing URL 2/3: https://www.eversports.de/sp/janardana-yoga\n",
      "2024-02-01 22:52:58,899 - INFO - URL https://www.eversports.de/sp/janardana-yoga is valid.\n",
      "2024-02-01 22:52:58,900 - INFO - Processing URL 3/3: https://www.eversports.de/s/janardana-yoga/team\n",
      "2024-02-01 22:53:00,194 - INFO - URL https://www.eversports.de/s/janardana-yoga/team is valid.\n"
     ]
    },
    {
     "name": "stdout",
     "output_type": "stream",
     "text": [
      "Scraping Pole Studio Data from https://www.eversports.de/s/janardana-yoga...\n"
     ]
    },
    {
     "name": "stderr",
     "output_type": "stream",
     "text": [
      "Processing URLs:  15%|█▌        | 63/412 [04:55<25:28,  4.38s/it, Current URL: https://www.eversports.de/s/janardana-yoga]                         "
     ]
    },
    {
     "name": "stdout",
     "output_type": "stream",
     "text": [
      "Processing completed.\n",
      "Pole Studio Data: 1 entries\n",
      "Starting URL reconstruction...\n"
     ]
    },
    {
     "name": "stderr",
     "output_type": "stream",
     "text": [
      "Processing URLs:  16%|█▌        | 64/412 [04:56<20:07,  3.47s/it, Current URL: https://www.eversports.de/s/tanzstudio-redlightdance-berlin]"
     ]
    },
    {
     "name": "stdout",
     "output_type": "stream",
     "text": [
      "Error during HTTP request: 404 Client Error: Not Found for url: https://www.eversports.de/s/tanzstudio-redlightdance-berlin\n",
      "Converting to DataFrame...\n",
      "Validating URLs...\n",
      "Processing completed.\n",
      "Starting URL reconstruction...\n"
     ]
    },
    {
     "name": "stderr",
     "output_type": "stream",
     "text": [
      "2024-02-01 22:53:04,073 - INFO - Processing URL 1/4: https://www.eversports.de/s/polea-pole-and-aerial-dance\n"
     ]
    },
    {
     "name": "stdout",
     "output_type": "stream",
     "text": [
      "Converting to DataFrame...\n",
      "Validating URLs...\n"
     ]
    },
    {
     "name": "stderr",
     "output_type": "stream",
     "text": [
      "2024-02-01 22:53:05,523 - INFO - URL https://www.eversports.de/s/polea-pole-and-aerial-dance is valid.\n",
      "2024-02-01 22:53:05,525 - INFO - Processing URL 2/4: https://www.eversports.de/sw/polea-pole-and-aerial-dance\n",
      "2024-02-01 22:53:06,806 - INFO - URL https://www.eversports.de/sw/polea-pole-and-aerial-dance is valid.\n",
      "2024-02-01 22:53:06,807 - INFO - Processing URL 3/4: https://www.eversports.de/sp/polea-pole-and-aerial-dance\n",
      "2024-02-01 22:53:08,168 - INFO - URL https://www.eversports.de/sp/polea-pole-and-aerial-dance is valid.\n",
      "2024-02-01 22:53:08,169 - INFO - Processing URL 4/4: https://www.eversports.de/s/polea-pole-and-aerial-dance/team\n",
      "2024-02-01 22:53:09,597 - INFO - URL https://www.eversports.de/s/polea-pole-and-aerial-dance/team is valid.\n"
     ]
    },
    {
     "name": "stdout",
     "output_type": "stream",
     "text": [
      "Scraping Pole Studio Data from https://www.eversports.de/s/polea-pole-and-aerial-dance...\n",
      "Scraping Workshops Data from https://www.eversports.de/sw/polea-pole-and-aerial-dance...\n",
      "Scraping Workshop Details from https://www.eversports.de/e/workshop/-BAz15m...\n",
      "Scraping Workshop Details from https://www.eversports.de/e/workshop/u3m9tGL...\n"
     ]
    },
    {
     "name": "stderr",
     "output_type": "stream",
     "text": [
      "Processing URLs:  16%|█▌        | 65/412 [05:08<35:06,  6.07s/it, Current URL: https://www.eversports.de/s/polea-pole-and-aerial-dance]    "
     ]
    },
    {
     "name": "stdout",
     "output_type": "stream",
     "text": [
      "Processing completed.\n",
      "Pole Studio Data: 1 entries\n",
      "Workshops Data: 2 entries\n",
      "Workshop Details: 2 entries\n",
      "Starting URL reconstruction...\n"
     ]
    },
    {
     "name": "stderr",
     "output_type": "stream",
     "text": [
      "2024-02-01 22:53:16,118 - INFO - Processing URL 1/1: https://www.eversports.de/s/a-heart-for-poledance\n"
     ]
    },
    {
     "name": "stdout",
     "output_type": "stream",
     "text": [
      "Converting to DataFrame...\n",
      "Validating URLs...\n"
     ]
    },
    {
     "name": "stderr",
     "output_type": "stream",
     "text": [
      "2024-02-01 22:53:17,356 - INFO - URL https://www.eversports.de/s/a-heart-for-poledance is valid.\n"
     ]
    },
    {
     "name": "stdout",
     "output_type": "stream",
     "text": [
      "Scraping Pole Studio Data from https://www.eversports.de/s/a-heart-for-poledance...\n"
     ]
    },
    {
     "name": "stderr",
     "output_type": "stream",
     "text": [
      "Processing URLs:  16%|█▌        | 66/412 [05:11<29:26,  5.11s/it, Current URL: https://www.eversports.de/s/a-heart-for-poledance]      "
     ]
    },
    {
     "name": "stdout",
     "output_type": "stream",
     "text": [
      "Processing completed.\n",
      "Pole Studio Data: 1 entries\n",
      "Starting URL reconstruction...\n"
     ]
    },
    {
     "name": "stderr",
     "output_type": "stream",
     "text": [
      "Processing URLs:  16%|█▋        | 67/412 [05:12<22:33,  3.92s/it, Current URL: https://www.eversports.de/s/pole-dance-academy-neuburg]"
     ]
    },
    {
     "name": "stdout",
     "output_type": "stream",
     "text": [
      "Error during HTTP request: 404 Client Error: Not Found for url: https://www.eversports.de/s/pole-dance-academy-neuburg\n",
      "Converting to DataFrame...\n",
      "Validating URLs...\n",
      "Processing completed.\n",
      "Starting URL reconstruction...\n"
     ]
    },
    {
     "name": "stderr",
     "output_type": "stream",
     "text": [
      "Processing URLs:  17%|█▋        | 68/412 [05:13<17:47,  3.10s/it, Current URL: https://www.eversports.de/s/mmc-dance-studio]          "
     ]
    },
    {
     "name": "stdout",
     "output_type": "stream",
     "text": [
      "Error during HTTP request: 404 Client Error: Not Found for url: https://www.eversports.de/s/mmc-dance-studio\n",
      "Converting to DataFrame...\n",
      "Validating URLs...\n",
      "Processing completed.\n",
      "Starting URL reconstruction...\n"
     ]
    },
    {
     "name": "stderr",
     "output_type": "stream",
     "text": [
      "Processing URLs:  17%|█▋        | 69/412 [05:15<14:28,  2.53s/it, Current URL: https://www.eversports.de/s/pole-dance-studio-karlsruhe]"
     ]
    },
    {
     "name": "stdout",
     "output_type": "stream",
     "text": [
      "Error during HTTP request: 404 Client Error: Not Found for url: https://www.eversports.de/s/pole-dance-studio-karlsruhe\n",
      "Converting to DataFrame...\n",
      "Validating URLs...\n",
      "Processing completed.\n",
      "Starting URL reconstruction...\n"
     ]
    },
    {
     "name": "stderr",
     "output_type": "stream",
     "text": [
      "Processing URLs:  17%|█▋        | 70/412 [05:16<12:16,  2.15s/it, Current URL: https://www.eversports.de/s/la-familia-poleclub]        "
     ]
    },
    {
     "name": "stdout",
     "output_type": "stream",
     "text": [
      "Error during HTTP request: 404 Client Error: Not Found for url: https://www.eversports.de/s/la-familia-poleclub\n",
      "Converting to DataFrame...\n",
      "Validating URLs...\n",
      "Processing completed.\n",
      "Starting URL reconstruction...\n"
     ]
    },
    {
     "name": "stderr",
     "output_type": "stream",
     "text": [
      "Processing URLs:  17%|█▋        | 71/412 [05:20<16:14,  2.86s/it, Current URL: https://www.eversports.de/s/pole-room-%2f-poledance-%26-bodyworks]"
     ]
    },
    {
     "name": "stdout",
     "output_type": "stream",
     "text": [
      "Error during HTTP request: Exceeded 30 redirects.\n",
      "Converting to DataFrame...\n",
      "Validating URLs...\n",
      "Processing completed.\n",
      "Starting URL reconstruction...\n"
     ]
    },
    {
     "name": "stderr",
     "output_type": "stream",
     "text": [
      "2024-02-01 22:53:28,453 - INFO - Processing URL 1/3: https://www.eversports.de/s/pure-body-concepts-1\n"
     ]
    },
    {
     "name": "stdout",
     "output_type": "stream",
     "text": [
      "Converting to DataFrame...\n",
      "Validating URLs...\n"
     ]
    },
    {
     "name": "stderr",
     "output_type": "stream",
     "text": [
      "2024-02-01 22:53:30,228 - INFO - URL https://www.eversports.de/s/pure-body-concepts-1 is valid.\n",
      "2024-02-01 22:53:30,228 - INFO - Processing URL 2/3: https://www.eversports.de/sp/pure-body-concepts-1\n",
      "2024-02-01 22:53:31,356 - INFO - URL https://www.eversports.de/sp/pure-body-concepts-1 is valid.\n",
      "2024-02-01 22:53:31,356 - INFO - Processing URL 3/3: https://www.eversports.de/s/pure-body-concepts-1/team\n",
      "2024-02-01 22:53:32,631 - INFO - URL https://www.eversports.de/s/pure-body-concepts-1/team is valid.\n"
     ]
    },
    {
     "name": "stdout",
     "output_type": "stream",
     "text": [
      "Scraping Pole Studio Data from https://www.eversports.de/s/pure-body-concepts-1...\n"
     ]
    },
    {
     "name": "stderr",
     "output_type": "stream",
     "text": [
      "Processing URLs:  17%|█▋        | 72/412 [05:27<21:39,  3.82s/it, Current URL: https://www.eversports.de/s/pure-body-concepts-1]                 "
     ]
    },
    {
     "name": "stdout",
     "output_type": "stream",
     "text": [
      "Processing completed.\n",
      "Pole Studio Data: 1 entries\n",
      "Starting URL reconstruction...\n"
     ]
    },
    {
     "name": "stderr",
     "output_type": "stream",
     "text": [
      "Processing URLs:  18%|█▊        | 73/412 [05:28<17:16,  3.06s/it, Current URL: https://www.eversports.de/s/pole-dance-academy-hameln]"
     ]
    },
    {
     "name": "stdout",
     "output_type": "stream",
     "text": [
      "Error during HTTP request: 404 Client Error: Not Found for url: https://www.eversports.de/s/pole-dance-academy-hameln\n",
      "Converting to DataFrame...\n",
      "Validating URLs...\n",
      "Processing completed.\n",
      "Starting URL reconstruction...\n"
     ]
    },
    {
     "name": "stderr",
     "output_type": "stream",
     "text": [
      "2024-02-01 22:53:35,741 - INFO - Processing URL 1/1: https://www.eversports.de/s/polesition-regensburg\n"
     ]
    },
    {
     "name": "stdout",
     "output_type": "stream",
     "text": [
      "Converting to DataFrame...\n",
      "Validating URLs...\n"
     ]
    },
    {
     "name": "stderr",
     "output_type": "stream",
     "text": [
      "2024-02-01 22:53:37,122 - INFO - URL https://www.eversports.de/s/polesition-regensburg is valid.\n"
     ]
    },
    {
     "name": "stdout",
     "output_type": "stream",
     "text": [
      "Scraping Pole Studio Data from https://www.eversports.de/s/polesition-regensburg...\n"
     ]
    },
    {
     "name": "stderr",
     "output_type": "stream",
     "text": [
      "Processing URLs:  18%|█▊        | 74/412 [05:31<17:50,  3.17s/it, Current URL: https://www.eversports.de/s/polesition-regensburg]    "
     ]
    },
    {
     "name": "stdout",
     "output_type": "stream",
     "text": [
      "Processing completed.\n",
      "Pole Studio Data: 1 entries\n",
      "Starting URL reconstruction...\n"
     ]
    },
    {
     "name": "stderr",
     "output_type": "stream",
     "text": [
      "Processing URLs:  18%|█▊        | 75/412 [05:33<14:57,  2.66s/it, Current URL: https://www.eversports.de/s/polemotions-gp]       "
     ]
    },
    {
     "name": "stdout",
     "output_type": "stream",
     "text": [
      "Error during HTTP request: 404 Client Error: Not Found for url: https://www.eversports.de/s/polemotions-gp\n",
      "Converting to DataFrame...\n",
      "Validating URLs...\n",
      "Processing completed.\n",
      "Starting URL reconstruction...\n"
     ]
    },
    {
     "name": "stderr",
     "output_type": "stream",
     "text": [
      "Processing URLs:  18%|█▊        | 76/412 [05:34<13:05,  2.34s/it, Current URL: https://www.eversports.de/s/aerial-amazons]"
     ]
    },
    {
     "name": "stdout",
     "output_type": "stream",
     "text": [
      "Error during HTTP request: 404 Client Error: Not Found for url: https://www.eversports.de/s/aerial-amazons\n",
      "Converting to DataFrame...\n",
      "Validating URLs...\n",
      "Processing completed.\n",
      "Starting URL reconstruction...\n"
     ]
    },
    {
     "name": "stderr",
     "output_type": "stream",
     "text": [
      "Processing URLs:  19%|█▊        | 77/412 [05:36<11:37,  2.08s/it, Current URL: https://www.eversports.de/s/health-&-shape-münchen]"
     ]
    },
    {
     "name": "stdout",
     "output_type": "stream",
     "text": [
      "Error during HTTP request: 404 Client Error: Not Found for url: https://www.eversports.de/s/health-&-shape-m%C3%BCnchen\n",
      "Converting to DataFrame...\n",
      "Validating URLs...\n",
      "Processing completed.\n",
      "Starting URL reconstruction...\n"
     ]
    },
    {
     "name": "stderr",
     "output_type": "stream",
     "text": [
      "Processing URLs:  19%|█▉        | 78/412 [05:37<10:48,  1.94s/it, Current URL: https://www.eversports.de/s/poledreams]            "
     ]
    },
    {
     "name": "stdout",
     "output_type": "stream",
     "text": [
      "Error during HTTP request: 404 Client Error: Not Found for url: https://www.eversports.de/s/poledreams\n",
      "Converting to DataFrame...\n",
      "Validating URLs...\n",
      "Processing completed.\n",
      "Starting URL reconstruction...\n"
     ]
    },
    {
     "name": "stderr",
     "output_type": "stream",
     "text": [
      "Processing URLs:  19%|█▉        | 79/412 [05:42<15:37,  2.82s/it, Current URL: https://www.eversports.de/s/vertical-pole-aerial-dance-w%c3%bcrzburg]"
     ]
    },
    {
     "name": "stdout",
     "output_type": "stream",
     "text": [
      "Error during HTTP request: Exceeded 30 redirects.\n",
      "Converting to DataFrame...\n",
      "Validating URLs...\n",
      "Processing completed.\n",
      "Starting URL reconstruction...\n"
     ]
    },
    {
     "name": "stderr",
     "output_type": "stream",
     "text": [
      "Processing URLs:  19%|█▉        | 80/412 [05:43<12:50,  2.32s/it, Current URL: https://www.eversports.de/s/vi-dance-essen]                          "
     ]
    },
    {
     "name": "stdout",
     "output_type": "stream",
     "text": [
      "Error during HTTP request: 404 Client Error: Not Found for url: https://www.eversports.de/s/vi-dance-essen\n",
      "Converting to DataFrame...\n",
      "Validating URLs...\n",
      "Processing completed.\n",
      "Starting URL reconstruction...\n"
     ]
    },
    {
     "name": "stderr",
     "output_type": "stream",
     "text": [
      "Processing URLs:  20%|█▉        | 81/412 [05:45<10:51,  1.97s/it, Current URL: https://www.eversports.de/s/poledance-rostock]"
     ]
    },
    {
     "name": "stdout",
     "output_type": "stream",
     "text": [
      "Error during HTTP request: 404 Client Error: Not Found for url: https://www.eversports.de/s/poledance-rostock\n",
      "Converting to DataFrame...\n",
      "Validating URLs...\n",
      "Processing completed.\n",
      "Starting URL reconstruction...\n"
     ]
    },
    {
     "name": "stderr",
     "output_type": "stream",
     "text": [
      "Processing URLs:  20%|█▉        | 82/412 [05:46<09:32,  1.74s/it, Current URL: https://www.eversports.de/s/polelove-bremen]  "
     ]
    },
    {
     "name": "stdout",
     "output_type": "stream",
     "text": [
      "Error during HTTP request: 404 Client Error: Not Found for url: https://www.eversports.de/s/polelove-bremen\n",
      "Converting to DataFrame...\n",
      "Validating URLs...\n",
      "Processing completed.\n",
      "Starting URL reconstruction...\n"
     ]
    },
    {
     "name": "stderr",
     "output_type": "stream",
     "text": [
      "2024-02-01 22:53:53,835 - INFO - Processing URL 1/4: https://www.eversports.de/s/pole-paradise\n"
     ]
    },
    {
     "name": "stdout",
     "output_type": "stream",
     "text": [
      "Converting to DataFrame...\n",
      "Validating URLs...\n"
     ]
    },
    {
     "name": "stderr",
     "output_type": "stream",
     "text": [
      "2024-02-01 22:53:55,412 - INFO - URL https://www.eversports.de/s/pole-paradise is valid.\n",
      "2024-02-01 22:53:55,413 - INFO - Processing URL 2/4: https://www.eversports.de/sw/pole-paradise\n",
      "2024-02-01 22:53:56,613 - INFO - URL https://www.eversports.de/sw/pole-paradise is valid.\n",
      "2024-02-01 22:53:56,613 - INFO - Processing URL 3/4: https://www.eversports.de/sp/pole-paradise\n",
      "2024-02-01 22:53:58,142 - INFO - URL https://www.eversports.de/sp/pole-paradise is valid.\n",
      "2024-02-01 22:53:58,143 - INFO - Processing URL 4/4: https://www.eversports.de/s/pole-paradise/team\n",
      "2024-02-01 22:53:59,356 - INFO - URL https://www.eversports.de/s/pole-paradise/team is valid.\n"
     ]
    },
    {
     "name": "stdout",
     "output_type": "stream",
     "text": [
      "Scraping Pole Studio Data from https://www.eversports.de/s/pole-paradise...\n",
      "Scraping Workshops Data from https://www.eversports.de/sw/pole-paradise...\n",
      "Scraping Workshop Details from https://www.eversports.de/e/workshop/1zI8wYx...\n",
      "Scraping Workshop Details from https://www.eversports.de/e/workshop/NLk1782...\n"
     ]
    },
    {
     "name": "stderr",
     "output_type": "stream",
     "text": [
      "Processing URLs:  20%|██        | 83/412 [05:57<25:55,  4.73s/it, Current URL: https://www.eversports.de/s/pole-paradise]  "
     ]
    },
    {
     "name": "stdout",
     "output_type": "stream",
     "text": [
      "Processing completed.\n",
      "Pole Studio Data: 1 entries\n",
      "Workshops Data: 2 entries\n",
      "Workshop Details: 2 entries\n",
      "Starting URL reconstruction...\n"
     ]
    },
    {
     "name": "stderr",
     "output_type": "stream",
     "text": [
      "Processing URLs:  20%|██        | 84/412 [05:59<20:09,  3.69s/it, Current URL: https://www.eversports.de/s/pole-fun-wehr]"
     ]
    },
    {
     "name": "stdout",
     "output_type": "stream",
     "text": [
      "Error during HTTP request: 404 Client Error: Not Found for url: https://www.eversports.de/s/pole-fun-wehr\n",
      "Converting to DataFrame...\n",
      "Validating URLs...\n",
      "Processing completed.\n",
      "Starting URL reconstruction...\n"
     ]
    },
    {
     "name": "stderr",
     "output_type": "stream",
     "text": [
      "2024-02-01 22:54:06,614 - INFO - Processing URL 1/1: https://www.eversports.de/s/poleaddict\n"
     ]
    },
    {
     "name": "stdout",
     "output_type": "stream",
     "text": [
      "Converting to DataFrame...\n",
      "Validating URLs...\n"
     ]
    },
    {
     "name": "stderr",
     "output_type": "stream",
     "text": [
      "2024-02-01 22:54:08,113 - INFO - URL https://www.eversports.de/s/poleaddict is valid.\n"
     ]
    },
    {
     "name": "stdout",
     "output_type": "stream",
     "text": [
      "Scraping Pole Studio Data from https://www.eversports.de/s/poleaddict...\n"
     ]
    },
    {
     "name": "stderr",
     "output_type": "stream",
     "text": [
      "Processing URLs:  21%|██        | 85/412 [06:02<19:17,  3.54s/it, Current URL: https://www.eversports.de/s/poleaddict]   "
     ]
    },
    {
     "name": "stdout",
     "output_type": "stream",
     "text": [
      "Processing completed.\n",
      "Pole Studio Data: 1 entries\n",
      "Starting URL reconstruction...\n"
     ]
    },
    {
     "name": "stderr",
     "output_type": "stream",
     "text": [
      "2024-02-01 22:54:09,802 - INFO - Processing URL 1/4: https://www.eversports.de/s/yoga-and-pole-art-by-selina\n"
     ]
    },
    {
     "name": "stdout",
     "output_type": "stream",
     "text": [
      "Converting to DataFrame...\n",
      "Validating URLs...\n"
     ]
    },
    {
     "name": "stderr",
     "output_type": "stream",
     "text": [
      "2024-02-01 22:54:11,169 - INFO - URL https://www.eversports.de/s/yoga-and-pole-art-by-selina is valid.\n",
      "2024-02-01 22:54:11,170 - INFO - Processing URL 2/4: https://www.eversports.de/sw/yoga-and-pole-art-by-selina\n",
      "2024-02-01 22:54:12,499 - INFO - URL https://www.eversports.de/sw/yoga-and-pole-art-by-selina is valid.\n",
      "2024-02-01 22:54:12,500 - INFO - Processing URL 3/4: https://www.eversports.de/sp/yoga-and-pole-art-by-selina\n",
      "2024-02-01 22:54:13,753 - INFO - URL https://www.eversports.de/sp/yoga-and-pole-art-by-selina is valid.\n",
      "2024-02-01 22:54:13,754 - INFO - Processing URL 4/4: https://www.eversports.de/s/yoga-and-pole-art-by-selina/team\n",
      "2024-02-01 22:54:14,945 - INFO - URL https://www.eversports.de/s/yoga-and-pole-art-by-selina/team is valid.\n"
     ]
    },
    {
     "name": "stdout",
     "output_type": "stream",
     "text": [
      "Scraping Pole Studio Data from https://www.eversports.de/s/yoga-and-pole-art-by-selina...\n",
      "Scraping Workshops Data from https://www.eversports.de/sw/yoga-and-pole-art-by-selina...\n",
      "Scraping Workshop Details from https://www.eversports.de/e/workshop/dhAWne_...\n",
      "Scraping Workshop Details from https://www.eversports.de/e/workshop/p_eKWTW...\n",
      "Scraping Workshop Details from https://www.eversports.de/e/workshop/1PmB24I...\n",
      "Scraping Workshop Details from https://www.eversports.de/e/workshop/Zk4neM3...\n",
      "Scraping Workshop Details from https://www.eversports.de/e/workshop/VnmCBGD...\n",
      "Scraping Workshop Details from https://www.eversports.de/e/workshop/qdYG4WC...\n",
      "Scraping Workshop Details from https://www.eversports.de/e/workshop/M4MjCdo...\n",
      "Scraping Workshop Details from https://www.eversports.de/e/workshop/bi8m5zs...\n",
      "Scraping Workshop Details from https://www.eversports.de/e/workshop/ccLkJAE...\n"
     ]
    },
    {
     "name": "stderr",
     "output_type": "stream",
     "text": [
      "Processing URLs:  21%|██        | 86/412 [06:23<47:13,  8.69s/it, Current URL: https://www.eversports.de/s/yoga-and-pole-art-by-selina]"
     ]
    },
    {
     "name": "stdout",
     "output_type": "stream",
     "text": [
      "Processing completed.\n",
      "Pole Studio Data: 1 entries\n",
      "Workshops Data: 9 entries\n",
      "Workshop Details: 9 entries\n",
      "Starting URL reconstruction...\n"
     ]
    },
    {
     "name": "stderr",
     "output_type": "stream",
     "text": [
      "Processing URLs:  21%|██        | 87/412 [06:24<34:49,  6.43s/it, Current URL: https://www.eversports.de/s/pole-sisters]               "
     ]
    },
    {
     "name": "stdout",
     "output_type": "stream",
     "text": [
      "Error during HTTP request: 404 Client Error: Not Found for url: https://www.eversports.de/s/pole-sisters\n",
      "Converting to DataFrame...\n",
      "Validating URLs...\n",
      "Processing completed.\n",
      "Starting URL reconstruction...\n"
     ]
    },
    {
     "name": "stderr",
     "output_type": "stream",
     "text": [
      "Processing URLs:  21%|██▏       | 88/412 [06:27<29:20,  5.43s/it, Current URL: https://www.eversports.de/s/polemotions-tübingen]"
     ]
    },
    {
     "name": "stdout",
     "output_type": "stream",
     "text": [
      "Error during HTTP request: Exceeded 30 redirects.\n",
      "Converting to DataFrame...\n",
      "Validating URLs...\n",
      "Processing completed.\n",
      "Starting URL reconstruction...\n"
     ]
    },
    {
     "name": "stderr",
     "output_type": "stream",
     "text": [
      "Processing URLs:  22%|██▏       | 89/412 [06:28<22:21,  4.15s/it, Current URL: https://www.eversports.de/s/polevybe]            "
     ]
    },
    {
     "name": "stdout",
     "output_type": "stream",
     "text": [
      "Error during HTTP request: 404 Client Error: Not Found for url: https://www.eversports.de/s/polevybe\n",
      "Converting to DataFrame...\n",
      "Validating URLs...\n",
      "Processing completed.\n",
      "Starting URL reconstruction...\n"
     ]
    },
    {
     "name": "stderr",
     "output_type": "stream",
     "text": [
      "2024-02-01 22:54:36,244 - INFO - Processing URL 1/3: https://www.eversports.de/s/aerial-circus\n"
     ]
    },
    {
     "name": "stdout",
     "output_type": "stream",
     "text": [
      "Converting to DataFrame...\n",
      "Validating URLs...\n"
     ]
    },
    {
     "name": "stderr",
     "output_type": "stream",
     "text": [
      "2024-02-01 22:54:37,548 - INFO - URL https://www.eversports.de/s/aerial-circus is valid.\n",
      "2024-02-01 22:54:37,549 - INFO - Processing URL 2/3: https://www.eversports.de/sp/aerial-circus\n",
      "2024-02-01 22:54:38,713 - INFO - URL https://www.eversports.de/sp/aerial-circus is valid.\n",
      "2024-02-01 22:54:38,714 - INFO - Processing URL 3/3: https://www.eversports.de/s/aerial-circus/team\n",
      "2024-02-01 22:54:40,453 - INFO - URL https://www.eversports.de/s/aerial-circus/team is valid.\n"
     ]
    },
    {
     "name": "stdout",
     "output_type": "stream",
     "text": [
      "Scraping Pole Studio Data from https://www.eversports.de/s/aerial-circus...\n"
     ]
    },
    {
     "name": "stderr",
     "output_type": "stream",
     "text": [
      "Processing URLs:  22%|██▏       | 90/412 [06:34<25:38,  4.78s/it, Current URL: https://www.eversports.de/s/aerial-circus]"
     ]
    },
    {
     "name": "stdout",
     "output_type": "stream",
     "text": [
      "Processing completed.\n",
      "Pole Studio Data: 1 entries\n",
      "Starting URL reconstruction...\n"
     ]
    },
    {
     "name": "stderr",
     "output_type": "stream",
     "text": [
      "2024-02-01 22:54:42,250 - INFO - Processing URL 1/4: https://www.eversports.de/s/poleroom-braunschweig\n"
     ]
    },
    {
     "name": "stdout",
     "output_type": "stream",
     "text": [
      "Error reconstructing URL for 'Trainings': Unrecognized text: 'Trainings'\n",
      "Converting to DataFrame...\n",
      "Validating URLs...\n"
     ]
    },
    {
     "name": "stderr",
     "output_type": "stream",
     "text": [
      "2024-02-01 22:54:43,739 - INFO - URL https://www.eversports.de/s/poleroom-braunschweig is valid.\n",
      "2024-02-01 22:54:43,740 - INFO - Processing URL 2/4: https://www.eversports.de/sw/poleroom-braunschweig\n",
      "2024-02-01 22:54:45,000 - INFO - URL https://www.eversports.de/sw/poleroom-braunschweig is valid.\n",
      "2024-02-01 22:54:45,001 - INFO - Processing URL 3/4: https://www.eversports.de/sp/poleroom-braunschweig\n",
      "2024-02-01 22:54:46,236 - INFO - URL https://www.eversports.de/sp/poleroom-braunschweig is valid.\n",
      "2024-02-01 22:54:46,237 - INFO - Processing URL 4/4: https://www.eversports.de/s/poleroom-braunschweig/team\n",
      "2024-02-01 22:54:49,683 - INFO - URL https://www.eversports.de/s/poleroom-braunschweig/team is valid.\n"
     ]
    },
    {
     "name": "stdout",
     "output_type": "stream",
     "text": [
      "Scraping Pole Studio Data from https://www.eversports.de/s/poleroom-braunschweig...\n",
      "Scraping Workshops Data from https://www.eversports.de/sw/poleroom-braunschweig...\n",
      "Scraping Workshop Details from https://www.eversports.de/e/workshop/5FIBkpe...\n",
      "Scraping Workshop Details from https://www.eversports.de/e/workshop/GB5CNr0...\n",
      "Scraping Workshop Details from https://www.eversports.de/e/workshop/1pzXUtZ...\n",
      "Scraping Workshop Details from https://www.eversports.de/e/workshop/fx6DrZ8...\n"
     ]
    },
    {
     "name": "stderr",
     "output_type": "stream",
     "text": [
      "Processing URLs:  22%|██▏       | 91/412 [07:06<1:08:43, 12.84s/it, Current URL: https://www.eversports.de/s/poleroom-braunschweig]"
     ]
    },
    {
     "name": "stdout",
     "output_type": "stream",
     "text": [
      "Processing completed.\n",
      "Pole Studio Data: 1 entries\n",
      "Workshops Data: 4 entries\n",
      "Workshop Details: 4 entries\n",
      "Starting URL reconstruction...\n"
     ]
    },
    {
     "name": "stderr",
     "output_type": "stream",
     "text": [
      "Processing URLs:  22%|██▏       | 92/412 [07:07<49:45,  9.33s/it, Current URL: https://www.eversports.de/s/schwerelos-bochum]      "
     ]
    },
    {
     "name": "stdout",
     "output_type": "stream",
     "text": [
      "Error during HTTP request: 404 Client Error: Not Found for url: https://www.eversports.de/s/schwerelos-bochum\n",
      "Converting to DataFrame...\n",
      "Validating URLs...\n",
      "Processing completed.\n",
      "Starting URL reconstruction...\n"
     ]
    },
    {
     "name": "stderr",
     "output_type": "stream",
     "text": [
      "2024-02-01 22:55:15,057 - INFO - Processing URL 1/3: https://www.eversports.de/s/munich-poledance\n"
     ]
    },
    {
     "name": "stdout",
     "output_type": "stream",
     "text": [
      "Converting to DataFrame...\n",
      "Validating URLs...\n"
     ]
    },
    {
     "name": "stderr",
     "output_type": "stream",
     "text": [
      "2024-02-01 22:55:16,536 - INFO - URL https://www.eversports.de/s/munich-poledance is valid.\n",
      "2024-02-01 22:55:16,536 - INFO - Processing URL 2/3: https://www.eversports.de/sp/munich-poledance\n",
      "2024-02-01 22:55:17,696 - INFO - URL https://www.eversports.de/sp/munich-poledance is valid.\n",
      "2024-02-01 22:55:17,697 - INFO - Processing URL 3/3: https://www.eversports.de/s/munich-poledance/team\n",
      "2024-02-01 22:55:20,045 - INFO - URL https://www.eversports.de/s/munich-poledance/team is valid.\n"
     ]
    },
    {
     "name": "stdout",
     "output_type": "stream",
     "text": [
      "Scraping Pole Studio Data from https://www.eversports.de/s/munich-poledance...\n"
     ]
    },
    {
     "name": "stderr",
     "output_type": "stream",
     "text": [
      "Processing URLs:  23%|██▎       | 93/412 [07:14<45:43,  8.60s/it, Current URL: https://www.eversports.de/s/munich-poledance] "
     ]
    },
    {
     "name": "stdout",
     "output_type": "stream",
     "text": [
      "Processing completed.\n",
      "Pole Studio Data: 1 entries\n",
      "Starting URL reconstruction...\n"
     ]
    },
    {
     "name": "stderr",
     "output_type": "stream",
     "text": [
      "2024-02-01 22:55:21,904 - INFO - Processing URL 1/3: https://www.eversports.de/s/-pole-aerial-dance-souldance\n"
     ]
    },
    {
     "name": "stdout",
     "output_type": "stream",
     "text": [
      "Converting to DataFrame...\n",
      "Validating URLs...\n"
     ]
    },
    {
     "name": "stderr",
     "output_type": "stream",
     "text": [
      "2024-02-01 22:55:23,531 - INFO - URL https://www.eversports.de/s/-pole-aerial-dance-souldance is valid.\n",
      "2024-02-01 22:55:23,532 - INFO - Processing URL 2/3: https://www.eversports.de/sp/-pole-aerial-dance-souldance\n",
      "2024-02-01 22:55:25,003 - INFO - URL https://www.eversports.de/sp/-pole-aerial-dance-souldance is valid.\n",
      "2024-02-01 22:55:25,003 - INFO - Processing URL 3/3: https://www.eversports.de/s/-pole-aerial-dance-souldance/team\n",
      "2024-02-01 22:55:26,255 - INFO - URL https://www.eversports.de/s/-pole-aerial-dance-souldance/team is valid.\n"
     ]
    },
    {
     "name": "stdout",
     "output_type": "stream",
     "text": [
      "Scraping Pole Studio Data from https://www.eversports.de/s/-pole-aerial-dance-souldance...\n"
     ]
    },
    {
     "name": "stderr",
     "output_type": "stream",
     "text": [
      "Processing URLs:  23%|██▎       | 94/412 [07:21<42:36,  8.04s/it, Current URL: https://www.eversports.de/s/-pole-aerial-dance-souldance]"
     ]
    },
    {
     "name": "stdout",
     "output_type": "stream",
     "text": [
      "Processing completed.\n",
      "Pole Studio Data: 1 entries\n",
      "Starting URL reconstruction...\n"
     ]
    },
    {
     "name": "stderr",
     "output_type": "stream",
     "text": [
      "2024-02-01 22:55:30,630 - INFO - Processing URL 1/4: https://www.eversports.de/s/da-becca-flow-and-fit\n"
     ]
    },
    {
     "name": "stdout",
     "output_type": "stream",
     "text": [
      "Converting to DataFrame...\n",
      "Validating URLs...\n"
     ]
    },
    {
     "name": "stderr",
     "output_type": "stream",
     "text": [
      "2024-02-01 22:55:32,273 - INFO - URL https://www.eversports.de/s/da-becca-flow-and-fit is valid.\n",
      "2024-02-01 22:55:32,274 - INFO - Processing URL 2/4: https://www.eversports.de/sw/da-becca-flow-and-fit\n",
      "2024-02-01 22:55:34,086 - INFO - URL https://www.eversports.de/sw/da-becca-flow-and-fit is valid.\n",
      "2024-02-01 22:55:34,087 - INFO - Processing URL 3/4: https://www.eversports.de/sp/da-becca-flow-and-fit\n",
      "2024-02-01 22:55:35,973 - INFO - URL https://www.eversports.de/sp/da-becca-flow-and-fit is valid.\n",
      "2024-02-01 22:55:35,974 - INFO - Processing URL 4/4: https://www.eversports.de/s/da-becca-flow-and-fit/team\n",
      "2024-02-01 22:55:38,174 - INFO - URL https://www.eversports.de/s/da-becca-flow-and-fit/team is valid.\n"
     ]
    },
    {
     "name": "stdout",
     "output_type": "stream",
     "text": [
      "Scraping Pole Studio Data from https://www.eversports.de/s/da-becca-flow-and-fit...\n",
      "Scraping Workshops Data from https://www.eversports.de/sw/da-becca-flow-and-fit...\n",
      "Scraping Workshop Details from https://www.eversports.de/e/workshop/2z_srY0...\n",
      "Scraping Workshop Details from https://www.eversports.de/e/workshop/o5_MV7J...\n",
      "Scraping Workshop Details from https://www.eversports.de/e/workshop/0u01Mza...\n",
      "Scraping Workshop Details from https://www.eversports.de/e/workshop/DBxar8u...\n",
      "Scraping Workshop Details from https://www.eversports.de/e/workshop/GlPG304...\n",
      "Scraping Workshop Details from https://www.eversports.de/e/workshop/wj20M8W...\n",
      "Scraping Workshop Details from https://www.eversports.de/e/workshop/113IYbR...\n",
      "Scraping Workshop Details from https://www.eversports.de/e/workshop/vyTj8JR...\n",
      "Scraping Workshop Details from https://www.eversports.de/e/workshop/GMeuKSV...\n",
      "Scraping Workshop Details from https://www.eversports.de/e/workshop/461op6s...\n",
      "Scraping Workshop Details from https://www.eversports.de/e/workshop/NrFmto0...\n",
      "Scraping Workshop Details from https://www.eversports.de/e/workshop/km4K7Yv...\n",
      "Scraping Workshop Details from https://www.eversports.de/e/workshop/B2Sz3mv...\n",
      "Scraping Workshop Details from https://www.eversports.de/e/workshop/HhyMbSA...\n",
      "Scraping Workshop Details from https://www.eversports.de/e/workshop/WBlAegH...\n"
     ]
    },
    {
     "name": "stderr",
     "output_type": "stream",
     "text": [
      "Processing URLs:  23%|██▎       | 95/412 [07:54<1:22:36, 15.63s/it, Current URL: https://www.eversports.de/s/da-becca-flow-and-fit]       "
     ]
    },
    {
     "name": "stdout",
     "output_type": "stream",
     "text": [
      "Processing completed.\n",
      "Pole Studio Data: 1 entries\n",
      "Workshops Data: 15 entries\n",
      "Workshop Details: 15 entries\n",
      "Starting URL reconstruction...\n"
     ]
    },
    {
     "name": "stderr",
     "output_type": "stream",
     "text": [
      "Processing URLs:  23%|██▎       | 96/412 [07:55<59:33, 11.31s/it, Current URL: https://www.eversports.de/s/das-tanz-center]        "
     ]
    },
    {
     "name": "stdout",
     "output_type": "stream",
     "text": [
      "Error during HTTP request: 404 Client Error: Not Found for url: https://www.eversports.de/s/das-tanz-center\n",
      "Converting to DataFrame...\n",
      "Validating URLs...\n",
      "Processing completed.\n",
      "Starting URL reconstruction...\n"
     ]
    },
    {
     "name": "stderr",
     "output_type": "stream",
     "text": [
      "2024-02-01 22:56:03,182 - INFO - Processing URL 1/3: https://www.eversports.de/s/pole-werk-by-nelly\n"
     ]
    },
    {
     "name": "stdout",
     "output_type": "stream",
     "text": [
      "Error reconstructing URL for 'Kurse': Unrecognized text: 'Kurse'\n",
      "Converting to DataFrame...\n",
      "Validating URLs...\n"
     ]
    },
    {
     "name": "stderr",
     "output_type": "stream",
     "text": [
      "2024-02-01 22:56:04,661 - INFO - URL https://www.eversports.de/s/pole-werk-by-nelly is valid.\n",
      "2024-02-01 22:56:04,662 - INFO - Processing URL 2/3: https://www.eversports.de/sw/pole-werk-by-nelly\n",
      "2024-02-01 22:56:06,661 - INFO - URL https://www.eversports.de/sw/pole-werk-by-nelly is valid.\n",
      "2024-02-01 22:56:06,662 - INFO - Processing URL 3/3: https://www.eversports.de/s/pole-werk-by-nelly/team\n",
      "2024-02-01 22:56:07,823 - INFO - URL https://www.eversports.de/s/pole-werk-by-nelly/team is valid.\n"
     ]
    },
    {
     "name": "stdout",
     "output_type": "stream",
     "text": [
      "Scraping Pole Studio Data from https://www.eversports.de/s/pole-werk-by-nelly...\n",
      "Scraping Workshops Data from https://www.eversports.de/sw/pole-werk-by-nelly...\n",
      "Scraping Workshop Details from https://www.eversports.de/e/workshop/HlobVZo...\n"
     ]
    },
    {
     "name": "stderr",
     "output_type": "stream",
     "text": [
      "Processing URLs:  24%|██▎       | 97/412 [08:04<55:55, 10.65s/it, Current URL: https://www.eversports.de/s/pole-werk-by-nelly]"
     ]
    },
    {
     "name": "stdout",
     "output_type": "stream",
     "text": [
      "Processing completed.\n",
      "Pole Studio Data: 1 entries\n",
      "Workshops Data: 1 entries\n",
      "Workshop Details: 1 entries\n",
      "Starting URL reconstruction...\n"
     ]
    },
    {
     "name": "stderr",
     "output_type": "stream",
     "text": [
      "Processing URLs:  24%|██▍       | 98/412 [08:09<46:35,  8.90s/it, Current URL: https://www.eversports.de/s/polerina%c2%b4s-poledance-%26-aerial-fitness]"
     ]
    },
    {
     "name": "stdout",
     "output_type": "stream",
     "text": [
      "Error during HTTP request: Exceeded 30 redirects.\n",
      "Converting to DataFrame...\n",
      "Validating URLs...\n",
      "Processing completed.\n",
      "Starting URL reconstruction...\n"
     ]
    },
    {
     "name": "stderr",
     "output_type": "stream",
     "text": [
      "Processing URLs:  24%|██▍       | 99/412 [08:11<34:35,  6.63s/it, Current URL: https://www.eversports.de/s/polemotion-freiburg]                         "
     ]
    },
    {
     "name": "stdout",
     "output_type": "stream",
     "text": [
      "Error during HTTP request: 404 Client Error: Not Found for url: https://www.eversports.de/s/polemotion-freiburg\n",
      "Converting to DataFrame...\n",
      "Validating URLs...\n",
      "Processing completed.\n",
      "Starting URL reconstruction...\n"
     ]
    },
    {
     "name": "stderr",
     "output_type": "stream",
     "text": [
      "Processing URLs:  24%|██▍       | 100/412 [08:12<25:55,  4.99s/it, Current URL: https://www.eversports.de/s/vertical-moves---pole-dance-%26-sports]"
     ]
    },
    {
     "name": "stdout",
     "output_type": "stream",
     "text": [
      "Error during HTTP request: 404 Client Error: Not Found for url: https://www.eversports.de/s/vertical-moves---pole-dance-%26-sports\n",
      "Converting to DataFrame...\n",
      "Validating URLs...\n",
      "Processing completed.\n",
      "Starting URL reconstruction...\n"
     ]
    },
    {
     "name": "stderr",
     "output_type": "stream",
     "text": [
      "Processing URLs:  25%|██▍       | 101/412 [08:13<19:58,  3.85s/it, Current URL: https://www.eversports.de/s/le-serpent-rouge]                      "
     ]
    },
    {
     "name": "stdout",
     "output_type": "stream",
     "text": [
      "Error during HTTP request: 404 Client Error: Not Found for url: https://www.eversports.de/s/le-serpent-rouge\n",
      "Converting to DataFrame...\n",
      "Validating URLs...\n",
      "Processing completed.\n",
      "Starting URL reconstruction...\n"
     ]
    },
    {
     "name": "stderr",
     "output_type": "stream",
     "text": [
      "2024-02-01 22:56:20,770 - INFO - Processing URL 1/1: https://www.eversports.de/s/cindys-pole-dance\n"
     ]
    },
    {
     "name": "stdout",
     "output_type": "stream",
     "text": [
      "Converting to DataFrame...\n",
      "Validating URLs...\n"
     ]
    },
    {
     "name": "stderr",
     "output_type": "stream",
     "text": [
      "2024-02-01 22:56:22,871 - INFO - URL https://www.eversports.de/s/cindys-pole-dance is valid.\n"
     ]
    },
    {
     "name": "stdout",
     "output_type": "stream",
     "text": [
      "Scraping Pole Studio Data from https://www.eversports.de/s/cindys-pole-dance...\n"
     ]
    },
    {
     "name": "stderr",
     "output_type": "stream",
     "text": [
      "Processing URLs:  25%|██▍       | 102/412 [08:17<19:45,  3.82s/it, Current URL: https://www.eversports.de/s/cindys-pole-dance]"
     ]
    },
    {
     "name": "stdout",
     "output_type": "stream",
     "text": [
      "Processing completed.\n",
      "Pole Studio Data: 1 entries\n",
      "Starting URL reconstruction...\n"
     ]
    },
    {
     "name": "stderr",
     "output_type": "stream",
     "text": [
      "2024-02-01 22:56:24,707 - INFO - Processing URL 1/3: https://www.eversports.de/s/pole-and-move-online-studio\n"
     ]
    },
    {
     "name": "stdout",
     "output_type": "stream",
     "text": [
      "Converting to DataFrame...\n",
      "Validating URLs...\n"
     ]
    },
    {
     "name": "stderr",
     "output_type": "stream",
     "text": [
      "2024-02-01 22:56:26,171 - INFO - URL https://www.eversports.de/s/pole-and-move-online-studio is valid.\n",
      "2024-02-01 22:56:26,172 - INFO - Processing URL 2/3: https://www.eversports.de/sp/pole-and-move-online-studio\n",
      "2024-02-01 22:56:27,367 - INFO - URL https://www.eversports.de/sp/pole-and-move-online-studio is valid.\n",
      "2024-02-01 22:56:27,368 - INFO - Processing URL 3/3: https://www.eversports.de/s/pole-and-move-online-studio/team\n",
      "2024-02-01 22:56:28,614 - INFO - URL https://www.eversports.de/s/pole-and-move-online-studio/team is valid.\n"
     ]
    },
    {
     "name": "stdout",
     "output_type": "stream",
     "text": [
      "Scraping Pole Studio Data from https://www.eversports.de/s/pole-and-move-online-studio...\n"
     ]
    },
    {
     "name": "stderr",
     "output_type": "stream",
     "text": [
      "Processing URLs:  25%|██▌       | 103/412 [08:23<22:52,  4.44s/it, Current URL: https://www.eversports.de/s/pole-and-move-online-studio]"
     ]
    },
    {
     "name": "stdout",
     "output_type": "stream",
     "text": [
      "Processing completed.\n",
      "Pole Studio Data: 1 entries\n",
      "Starting URL reconstruction...\n"
     ]
    },
    {
     "name": "stderr",
     "output_type": "stream",
     "text": [
      "Processing URLs:  25%|██▌       | 104/412 [08:24<17:46,  3.46s/it, Current URL: https://www.eversports.de/s/indeed-unique---studio-wien]"
     ]
    },
    {
     "name": "stdout",
     "output_type": "stream",
     "text": [
      "Error during HTTP request: 404 Client Error: Not Found for url: https://www.eversports.de/s/indeed-unique---studio-wien\n",
      "Converting to DataFrame...\n",
      "Validating URLs...\n",
      "Processing completed.\n",
      "Starting URL reconstruction...\n"
     ]
    },
    {
     "name": "stderr",
     "output_type": "stream",
     "text": [
      "Processing URLs:  25%|██▌       | 105/412 [08:25<14:03,  2.75s/it, Current URL: https://www.eversports.de/s/anni's-pole-dance-neum%c3%bcnster]"
     ]
    },
    {
     "name": "stdout",
     "output_type": "stream",
     "text": [
      "Error during HTTP request: 404 Client Error: Not Found for url: https://www.eversports.de/s/anni's-pole-dance-neum%C3%BCnster\n",
      "Converting to DataFrame...\n",
      "Validating URLs...\n",
      "Processing completed.\n",
      "Starting URL reconstruction...\n"
     ]
    },
    {
     "name": "stderr",
     "output_type": "stream",
     "text": [
      "Processing URLs:  26%|██▌       | 106/412 [08:26<11:48,  2.32s/it, Current URL: https://www.eversports.de/s/verticalspirit-chemnitz-e.-v.]    "
     ]
    },
    {
     "name": "stdout",
     "output_type": "stream",
     "text": [
      "Error during HTTP request: 404 Client Error: Not Found for url: https://www.eversports.de/s/verticalspirit-chemnitz-e.-v.\n",
      "Converting to DataFrame...\n",
      "Validating URLs...\n",
      "Processing completed.\n",
      "Starting URL reconstruction...\n"
     ]
    },
    {
     "name": "stderr",
     "output_type": "stream",
     "text": [
      "2024-02-01 22:56:34,143 - INFO - Processing URL 1/4: https://www.eversports.de/s/a-heart-for-poledance-1\n"
     ]
    },
    {
     "name": "stdout",
     "output_type": "stream",
     "text": [
      "Error reconstructing URL for 'Trainings': Unrecognized text: 'Trainings'\n",
      "Converting to DataFrame...\n",
      "Validating URLs...\n"
     ]
    },
    {
     "name": "stderr",
     "output_type": "stream",
     "text": [
      "2024-02-01 22:56:35,530 - INFO - URL https://www.eversports.de/s/a-heart-for-poledance-1 is valid.\n",
      "2024-02-01 22:56:35,531 - INFO - Processing URL 2/4: https://www.eversports.de/sw/a-heart-for-poledance-1\n",
      "2024-02-01 22:56:37,280 - INFO - URL https://www.eversports.de/sw/a-heart-for-poledance-1 is valid.\n",
      "2024-02-01 22:56:37,281 - INFO - Processing URL 3/4: https://www.eversports.de/sp/a-heart-for-poledance-1\n",
      "2024-02-01 22:56:38,471 - INFO - URL https://www.eversports.de/sp/a-heart-for-poledance-1 is valid.\n",
      "2024-02-01 22:56:38,472 - INFO - Processing URL 4/4: https://www.eversports.de/s/a-heart-for-poledance-1/team\n",
      "2024-02-01 22:56:39,700 - INFO - URL https://www.eversports.de/s/a-heart-for-poledance-1/team is valid.\n"
     ]
    },
    {
     "name": "stdout",
     "output_type": "stream",
     "text": [
      "Scraping Pole Studio Data from https://www.eversports.de/s/a-heart-for-poledance-1...\n",
      "Scraping Workshops Data from https://www.eversports.de/sw/a-heart-for-poledance-1...\n",
      "Scraping Workshop Details from https://www.eversports.de/e/workshop/5VJvMXI...\n",
      "Scraping Workshop Details from https://www.eversports.de/e/workshop/jQOaOC3...\n",
      "Scraping Workshop Details from https://www.eversports.de/e/workshop/H4Qz_fT...\n",
      "Scraping Workshop Details from https://www.eversports.de/e/workshop/nOac6zt...\n",
      "Scraping Workshop Details from https://www.eversports.de/e/workshop/yMiXoIi...\n"
     ]
    },
    {
     "name": "stderr",
     "output_type": "stream",
     "text": [
      "Processing URLs:  26%|██▌       | 107/412 [08:44<34:50,  6.85s/it, Current URL: https://www.eversports.de/s/a-heart-for-poledance-1]      "
     ]
    },
    {
     "name": "stdout",
     "output_type": "stream",
     "text": [
      "Processing completed.\n",
      "Pole Studio Data: 1 entries\n",
      "Workshops Data: 5 entries\n",
      "Workshop Details: 5 entries\n",
      "Starting URL reconstruction...\n"
     ]
    },
    {
     "name": "stderr",
     "output_type": "stream",
     "text": [
      "2024-02-01 22:56:51,418 - INFO - Processing URL 1/3: https://www.eversports.de/s/upsidedown-studio-friedrichsdorf\n"
     ]
    },
    {
     "name": "stdout",
     "output_type": "stream",
     "text": [
      "Error reconstructing URL for 'Kurse': Unrecognized text: 'Kurse'\n",
      "Converting to DataFrame...\n",
      "Validating URLs...\n"
     ]
    },
    {
     "name": "stderr",
     "output_type": "stream",
     "text": [
      "2024-02-01 22:56:52,757 - INFO - URL https://www.eversports.de/s/upsidedown-studio-friedrichsdorf is valid.\n",
      "2024-02-01 22:56:52,758 - INFO - Processing URL 2/3: https://www.eversports.de/sp/upsidedown-studio-friedrichsdorf\n",
      "2024-02-01 22:56:54,960 - INFO - URL https://www.eversports.de/sp/upsidedown-studio-friedrichsdorf is valid.\n",
      "2024-02-01 22:56:54,961 - INFO - Processing URL 3/3: https://www.eversports.de/s/upsidedown-studio-friedrichsdorf/team\n",
      "2024-02-01 22:56:56,320 - INFO - URL https://www.eversports.de/s/upsidedown-studio-friedrichsdorf/team is valid.\n"
     ]
    },
    {
     "name": "stdout",
     "output_type": "stream",
     "text": [
      "Scraping Pole Studio Data from https://www.eversports.de/s/upsidedown-studio-friedrichsdorf...\n"
     ]
    },
    {
     "name": "stderr",
     "output_type": "stream",
     "text": [
      "Processing URLs:  26%|██▌       | 108/412 [08:50<34:23,  6.79s/it, Current URL: https://www.eversports.de/s/upsidedown-studio-friedrichsdorf]"
     ]
    },
    {
     "name": "stdout",
     "output_type": "stream",
     "text": [
      "Processing completed.\n",
      "Pole Studio Data: 1 entries\n",
      "Starting URL reconstruction...\n"
     ]
    },
    {
     "name": "stderr",
     "output_type": "stream",
     "text": [
      "Processing URLs:  26%|██▋       | 109/412 [08:52<27:22,  5.42s/it, Current URL: https://www.eversports.de/s/dance-%26-pole-deltawerk]        "
     ]
    },
    {
     "name": "stdout",
     "output_type": "stream",
     "text": [
      "Error during HTTP request: 404 Client Error: Not Found for url: https://www.eversports.de/s/dance-%26-pole-deltawerk\n",
      "Converting to DataFrame...\n",
      "Validating URLs...\n",
      "Processing completed.\n",
      "Starting URL reconstruction...\n"
     ]
    },
    {
     "name": "stderr",
     "output_type": "stream",
     "text": [
      "2024-02-01 22:57:00,470 - INFO - Processing URL 1/1: https://www.eversports.de/s/swiss-mega-park\n"
     ]
    },
    {
     "name": "stdout",
     "output_type": "stream",
     "text": [
      "Error reconstructing URL for 'Sportplätze': Unrecognized text: 'Sportplätze'\n",
      "Error reconstructing URL for 'Matches': Unrecognized text: 'Matches'\n",
      "Converting to DataFrame...\n",
      "Validating URLs...\n"
     ]
    },
    {
     "name": "stderr",
     "output_type": "stream",
     "text": [
      "2024-02-01 22:57:01,903 - INFO - URL https://www.eversports.de/s/swiss-mega-park is valid.\n"
     ]
    },
    {
     "name": "stdout",
     "output_type": "stream",
     "text": [
      "Scraping Pole Studio Data from https://www.eversports.de/s/swiss-mega-park...\n"
     ]
    },
    {
     "name": "stderr",
     "output_type": "stream",
     "text": [
      "Processing URLs:  27%|██▋       | 110/412 [08:56<24:19,  4.83s/it, Current URL: https://www.eversports.de/s/swiss-mega-park]         "
     ]
    },
    {
     "name": "stdout",
     "output_type": "stream",
     "text": [
      "Processing completed.\n",
      "Pole Studio Data: 1 entries\n",
      "Starting URL reconstruction...\n"
     ]
    },
    {
     "name": "stderr",
     "output_type": "stream",
     "text": [
      "2024-02-01 22:57:03,793 - INFO - Processing URL 1/3: https://www.eversports.de/s/tanzschule-poledance-reutlingen\n"
     ]
    },
    {
     "name": "stdout",
     "output_type": "stream",
     "text": [
      "Converting to DataFrame...\n",
      "Validating URLs...\n"
     ]
    },
    {
     "name": "stderr",
     "output_type": "stream",
     "text": [
      "2024-02-01 22:57:05,221 - INFO - URL https://www.eversports.de/s/tanzschule-poledance-reutlingen is valid.\n",
      "2024-02-01 22:57:05,222 - INFO - Processing URL 2/3: https://www.eversports.de/sp/tanzschule-poledance-reutlingen\n",
      "2024-02-01 22:57:06,409 - INFO - URL https://www.eversports.de/sp/tanzschule-poledance-reutlingen is valid.\n",
      "2024-02-01 22:57:06,411 - INFO - Processing URL 3/3: https://www.eversports.de/s/tanzschule-poledance-reutlingen/team\n",
      "2024-02-01 22:57:07,597 - INFO - URL https://www.eversports.de/s/tanzschule-poledance-reutlingen/team is valid.\n"
     ]
    },
    {
     "name": "stdout",
     "output_type": "stream",
     "text": [
      "Scraping Pole Studio Data from https://www.eversports.de/s/tanzschule-poledance-reutlingen...\n"
     ]
    },
    {
     "name": "stderr",
     "output_type": "stream",
     "text": [
      "Processing URLs:  27%|██▋       | 111/412 [09:02<25:26,  5.07s/it, Current URL: https://www.eversports.de/s/tanzschule-poledance-reutlingen]"
     ]
    },
    {
     "name": "stdout",
     "output_type": "stream",
     "text": [
      "Processing completed.\n",
      "Pole Studio Data: 1 entries\n",
      "Starting URL reconstruction...\n"
     ]
    },
    {
     "name": "stderr",
     "output_type": "stream",
     "text": [
      "2024-02-01 22:57:09,370 - INFO - Processing URL 1/1: https://www.eversports.de/s/soul-flight\n"
     ]
    },
    {
     "name": "stdout",
     "output_type": "stream",
     "text": [
      "Converting to DataFrame...\n",
      "Validating URLs...\n"
     ]
    },
    {
     "name": "stderr",
     "output_type": "stream",
     "text": [
      "2024-02-01 22:57:10,762 - INFO - URL https://www.eversports.de/s/soul-flight is valid.\n"
     ]
    },
    {
     "name": "stdout",
     "output_type": "stream",
     "text": [
      "Scraping Pole Studio Data from https://www.eversports.de/s/soul-flight...\n"
     ]
    },
    {
     "name": "stderr",
     "output_type": "stream",
     "text": [
      "Processing URLs:  27%|██▋       | 112/412 [09:05<23:22,  4.68s/it, Current URL: https://www.eversports.de/s/soul-flight]                    "
     ]
    },
    {
     "name": "stdout",
     "output_type": "stream",
     "text": [
      "Processing completed.\n",
      "Pole Studio Data: 1 entries\n",
      "Starting URL reconstruction...\n"
     ]
    },
    {
     "name": "stderr",
     "output_type": "stream",
     "text": [
      "Processing URLs:  27%|██▋       | 113/412 [09:06<18:00,  3.61s/it, Current URL: https://www.eversports.de/s/ironx-]     "
     ]
    },
    {
     "name": "stdout",
     "output_type": "stream",
     "text": [
      "Error during HTTP request: 404 Client Error: Not Found for url: https://www.eversports.de/s/ironx-\n",
      "Converting to DataFrame...\n",
      "Validating URLs...\n",
      "Processing completed.\n",
      "Starting URL reconstruction...\n"
     ]
    },
    {
     "name": "stderr",
     "output_type": "stream",
     "text": [
      "Processing URLs:  28%|██▊       | 114/412 [09:08<14:34,  2.93s/it, Current URL: https://www.eversports.de/s/exotic-academy]"
     ]
    },
    {
     "name": "stdout",
     "output_type": "stream",
     "text": [
      "Error during HTTP request: 404 Client Error: Not Found for url: https://www.eversports.de/s/exotic-academy\n",
      "Converting to DataFrame...\n",
      "Validating URLs...\n",
      "Processing completed.\n",
      "Starting URL reconstruction...\n"
     ]
    },
    {
     "name": "stderr",
     "output_type": "stream",
     "text": [
      "2024-02-01 22:57:15,907 - INFO - Processing URL 1/3: https://www.eversports.de/s/pole-dance-beauties\n"
     ]
    },
    {
     "name": "stdout",
     "output_type": "stream",
     "text": [
      "Error reconstructing URL for 'Kurse': Unrecognized text: 'Kurse'\n",
      "Converting to DataFrame...\n",
      "Validating URLs...\n"
     ]
    },
    {
     "name": "stderr",
     "output_type": "stream",
     "text": [
      "2024-02-01 22:57:17,276 - INFO - URL https://www.eversports.de/s/pole-dance-beauties is valid.\n",
      "2024-02-01 22:57:17,278 - INFO - Processing URL 2/3: https://www.eversports.de/sp/pole-dance-beauties\n",
      "2024-02-01 22:57:18,423 - INFO - URL https://www.eversports.de/sp/pole-dance-beauties is valid.\n",
      "2024-02-01 22:57:18,424 - INFO - Processing URL 3/3: https://www.eversports.de/s/pole-dance-beauties/team\n",
      "2024-02-01 22:57:19,611 - INFO - URL https://www.eversports.de/s/pole-dance-beauties/team is valid.\n"
     ]
    },
    {
     "name": "stdout",
     "output_type": "stream",
     "text": [
      "Scraping Pole Studio Data from https://www.eversports.de/s/pole-dance-beauties...\n"
     ]
    },
    {
     "name": "stderr",
     "output_type": "stream",
     "text": [
      "Processing URLs:  28%|██▊       | 115/412 [09:14<18:48,  3.80s/it, Current URL: https://www.eversports.de/s/pole-dance-beauties]"
     ]
    },
    {
     "name": "stdout",
     "output_type": "stream",
     "text": [
      "Processing completed.\n",
      "Pole Studio Data: 1 entries\n",
      "Starting URL reconstruction...\n"
     ]
    },
    {
     "name": "stderr",
     "output_type": "stream",
     "text": [
      "Processing URLs:  28%|██▊       | 116/412 [09:15<14:51,  3.01s/it, Current URL: https://www.eversports.de/s/pole-dance-power]   "
     ]
    },
    {
     "name": "stdout",
     "output_type": "stream",
     "text": [
      "Error during HTTP request: 404 Client Error: Not Found for url: https://www.eversports.de/s/pole-dance-power\n",
      "Converting to DataFrame...\n",
      "Validating URLs...\n",
      "Processing completed.\n",
      "Starting URL reconstruction...\n"
     ]
    },
    {
     "name": "stderr",
     "output_type": "stream",
     "text": [
      "2024-02-01 22:57:22,980 - INFO - Processing URL 1/3: https://www.eversports.de/s/polefamily-koblenz\n"
     ]
    },
    {
     "name": "stdout",
     "output_type": "stream",
     "text": [
      "Converting to DataFrame...\n",
      "Validating URLs...\n"
     ]
    },
    {
     "name": "stderr",
     "output_type": "stream",
     "text": [
      "2024-02-01 22:57:24,316 - INFO - URL https://www.eversports.de/s/polefamily-koblenz is valid.\n",
      "2024-02-01 22:57:24,317 - INFO - Processing URL 2/3: https://www.eversports.de/sp/polefamily-koblenz\n",
      "2024-02-01 22:57:25,540 - INFO - URL https://www.eversports.de/sp/polefamily-koblenz is valid.\n",
      "2024-02-01 22:57:25,542 - INFO - Processing URL 3/3: https://www.eversports.de/s/polefamily-koblenz/team\n",
      "2024-02-01 22:57:26,995 - INFO - URL https://www.eversports.de/s/polefamily-koblenz/team is valid.\n"
     ]
    },
    {
     "name": "stdout",
     "output_type": "stream",
     "text": [
      "Scraping Pole Studio Data from https://www.eversports.de/s/polefamily-koblenz...\n"
     ]
    },
    {
     "name": "stderr",
     "output_type": "stream",
     "text": [
      "Processing URLs:  28%|██▊       | 117/412 [09:22<20:40,  4.21s/it, Current URL: https://www.eversports.de/s/polefamily-koblenz]"
     ]
    },
    {
     "name": "stdout",
     "output_type": "stream",
     "text": [
      "Processing completed.\n",
      "Pole Studio Data: 1 entries\n",
      "Starting URL reconstruction...\n"
     ]
    },
    {
     "name": "stderr",
     "output_type": "stream",
     "text": [
      "2024-02-01 22:57:29,670 - INFO - Processing URL 1/3: https://www.eversports.de/s/mmc-dance-and-event-studio\n"
     ]
    },
    {
     "name": "stdout",
     "output_type": "stream",
     "text": [
      "Converting to DataFrame...\n",
      "Validating URLs...\n"
     ]
    },
    {
     "name": "stderr",
     "output_type": "stream",
     "text": [
      "2024-02-01 22:57:31,245 - INFO - URL https://www.eversports.de/s/mmc-dance-and-event-studio is valid.\n",
      "2024-02-01 22:57:31,246 - INFO - Processing URL 2/3: https://www.eversports.de/sp/mmc-dance-and-event-studio\n",
      "2024-02-01 22:57:32,547 - INFO - URL https://www.eversports.de/sp/mmc-dance-and-event-studio is valid.\n",
      "2024-02-01 22:57:32,548 - INFO - Processing URL 3/3: https://www.eversports.de/s/mmc-dance-and-event-studio/team\n",
      "2024-02-01 22:57:33,793 - INFO - URL https://www.eversports.de/s/mmc-dance-and-event-studio/team is valid.\n"
     ]
    },
    {
     "name": "stdout",
     "output_type": "stream",
     "text": [
      "Scraping Pole Studio Data from https://www.eversports.de/s/mmc-dance-and-event-studio...\n"
     ]
    },
    {
     "name": "stderr",
     "output_type": "stream",
     "text": [
      "Processing URLs:  29%|██▊       | 118/412 [09:28<23:05,  4.71s/it, Current URL: https://www.eversports.de/s/mmc-dance-and-event-studio]"
     ]
    },
    {
     "name": "stdout",
     "output_type": "stream",
     "text": [
      "Processing completed.\n",
      "Pole Studio Data: 1 entries\n",
      "Starting URL reconstruction...\n"
     ]
    },
    {
     "name": "stderr",
     "output_type": "stream",
     "text": [
      "Processing URLs:  29%|██▉       | 119/412 [09:29<17:48,  3.65s/it, Current URL: https://www.eversports.de/s/tanzteufel-emmendingen]    "
     ]
    },
    {
     "name": "stdout",
     "output_type": "stream",
     "text": [
      "Error during HTTP request: 404 Client Error: Not Found for url: https://www.eversports.de/s/tanzteufel-emmendingen\n",
      "Converting to DataFrame...\n",
      "Validating URLs...\n",
      "Processing completed.\n",
      "Starting URL reconstruction...\n"
     ]
    },
    {
     "name": "stderr",
     "output_type": "stream",
     "text": [
      "Processing URLs:  29%|██▉       | 120/412 [09:30<14:28,  2.97s/it, Current URL: https://www.eversports.de/s/poledance-schule-berlin]"
     ]
    },
    {
     "name": "stdout",
     "output_type": "stream",
     "text": [
      "Error during HTTP request: 404 Client Error: Not Found for url: https://www.eversports.de/s/poledance-schule-berlin\n",
      "Converting to DataFrame...\n",
      "Validating URLs...\n",
      "Processing completed.\n",
      "Starting URL reconstruction...\n"
     ]
    },
    {
     "name": "stderr",
     "output_type": "stream",
     "text": [
      "2024-02-01 22:57:38,193 - INFO - Processing URL 1/3: https://www.eversports.de/s/yh-pole-and-sports-berlin\n"
     ]
    },
    {
     "name": "stdout",
     "output_type": "stream",
     "text": [
      "Converting to DataFrame...\n",
      "Validating URLs...\n"
     ]
    },
    {
     "name": "stderr",
     "output_type": "stream",
     "text": [
      "2024-02-01 22:57:47,144 - INFO - URL https://www.eversports.de/s/yh-pole-and-sports-berlin is valid.\n",
      "2024-02-01 22:57:47,145 - INFO - Processing URL 2/3: https://www.eversports.de/sp/yh-pole-and-sports-berlin\n",
      "2024-02-01 22:57:48,328 - INFO - URL https://www.eversports.de/sp/yh-pole-and-sports-berlin is valid.\n",
      "2024-02-01 22:57:48,330 - INFO - Processing URL 3/3: https://www.eversports.de/s/yh-pole-and-sports-berlin/team\n",
      "2024-02-01 22:57:49,567 - INFO - URL https://www.eversports.de/s/yh-pole-and-sports-berlin/team is valid.\n"
     ]
    },
    {
     "name": "stdout",
     "output_type": "stream",
     "text": [
      "Scraping Pole Studio Data from https://www.eversports.de/s/yh-pole-and-sports-berlin...\n"
     ]
    },
    {
     "name": "stderr",
     "output_type": "stream",
     "text": [
      "Processing URLs:  29%|██▉       | 121/412 [09:44<29:28,  6.08s/it, Current URL: https://www.eversports.de/s/yh-pole-and-sports-berlin]"
     ]
    },
    {
     "name": "stdout",
     "output_type": "stream",
     "text": [
      "Processing completed.\n",
      "Pole Studio Data: 1 entries\n",
      "Starting URL reconstruction...\n"
     ]
    },
    {
     "name": "stderr",
     "output_type": "stream",
     "text": [
      "2024-02-01 22:57:51,356 - INFO - Processing URL 1/1: https://www.eversports.de/s/lush-motion\n"
     ]
    },
    {
     "name": "stdout",
     "output_type": "stream",
     "text": [
      "Converting to DataFrame...\n",
      "Validating URLs...\n"
     ]
    },
    {
     "name": "stderr",
     "output_type": "stream",
     "text": [
      "2024-02-01 22:57:52,788 - INFO - URL https://www.eversports.de/s/lush-motion is valid.\n"
     ]
    },
    {
     "name": "stdout",
     "output_type": "stream",
     "text": [
      "Scraping Pole Studio Data from https://www.eversports.de/s/lush-motion...\n"
     ]
    },
    {
     "name": "stderr",
     "output_type": "stream",
     "text": [
      "Processing URLs:  30%|██▉       | 122/412 [09:47<25:01,  5.18s/it, Current URL: https://www.eversports.de/s/lush-motion]              "
     ]
    },
    {
     "name": "stdout",
     "output_type": "stream",
     "text": [
      "Processing completed.\n",
      "Pole Studio Data: 1 entries\n",
      "Starting URL reconstruction...\n"
     ]
    },
    {
     "name": "stderr",
     "output_type": "stream",
     "text": [
      "Processing URLs:  30%|██▉       | 123/412 [09:48<19:21,  4.02s/it, Current URL: https://www.eversports.de/s/tanzstudio-vi-dance-dortmund]"
     ]
    },
    {
     "name": "stdout",
     "output_type": "stream",
     "text": [
      "Error during HTTP request: 404 Client Error: Not Found for url: https://www.eversports.de/s/tanzstudio-vi-dance-dortmund\n",
      "Converting to DataFrame...\n",
      "Validating URLs...\n",
      "Processing completed.\n",
      "Starting URL reconstruction...\n"
     ]
    },
    {
     "name": "stderr",
     "output_type": "stream",
     "text": [
      "2024-02-01 22:57:55,894 - INFO - Processing URL 1/3: https://www.eversports.de/s/papillon-dance-and-sport-academy\n"
     ]
    },
    {
     "name": "stdout",
     "output_type": "stream",
     "text": [
      "Converting to DataFrame...\n",
      "Validating URLs...\n"
     ]
    },
    {
     "name": "stderr",
     "output_type": "stream",
     "text": [
      "2024-02-01 22:57:57,255 - INFO - URL https://www.eversports.de/s/papillon-dance-and-sport-academy is valid.\n",
      "2024-02-01 22:57:57,256 - INFO - Processing URL 2/3: https://www.eversports.de/sp/papillon-dance-and-sport-academy\n",
      "2024-02-01 22:57:58,419 - INFO - URL https://www.eversports.de/sp/papillon-dance-and-sport-academy is valid.\n",
      "2024-02-01 22:57:58,420 - INFO - Processing URL 3/3: https://www.eversports.de/s/papillon-dance-and-sport-academy/team\n",
      "2024-02-01 22:57:59,684 - INFO - URL https://www.eversports.de/s/papillon-dance-and-sport-academy/team is valid.\n"
     ]
    },
    {
     "name": "stdout",
     "output_type": "stream",
     "text": [
      "Scraping Pole Studio Data from https://www.eversports.de/s/papillon-dance-and-sport-academy...\n"
     ]
    },
    {
     "name": "stderr",
     "output_type": "stream",
     "text": [
      "Processing URLs:  30%|███       | 124/412 [09:54<21:41,  4.52s/it, Current URL: https://www.eversports.de/s/papillon-dance-and-sport-academy]"
     ]
    },
    {
     "name": "stdout",
     "output_type": "stream",
     "text": [
      "Processing completed.\n",
      "Pole Studio Data: 1 entries\n",
      "Starting URL reconstruction...\n"
     ]
    },
    {
     "name": "stderr",
     "output_type": "stream",
     "text": [
      "2024-02-01 22:58:02,268 - INFO - Processing URL 1/3: https://www.eversports.de/s/center-of-moving-arts\n"
     ]
    },
    {
     "name": "stdout",
     "output_type": "stream",
     "text": [
      "Converting to DataFrame...\n",
      "Validating URLs...\n"
     ]
    },
    {
     "name": "stderr",
     "output_type": "stream",
     "text": [
      "2024-02-01 22:58:03,650 - INFO - URL https://www.eversports.de/s/center-of-moving-arts is valid.\n",
      "2024-02-01 22:58:03,651 - INFO - Processing URL 2/3: https://www.eversports.de/sp/center-of-moving-arts\n",
      "2024-02-01 22:58:04,938 - INFO - URL https://www.eversports.de/sp/center-of-moving-arts is valid.\n",
      "2024-02-01 22:58:04,939 - INFO - Processing URL 3/3: https://www.eversports.de/s/center-of-moving-arts/team\n",
      "2024-02-01 22:58:06,723 - INFO - URL https://www.eversports.de/s/center-of-moving-arts/team is valid.\n"
     ]
    },
    {
     "name": "stdout",
     "output_type": "stream",
     "text": [
      "Scraping Pole Studio Data from https://www.eversports.de/s/center-of-moving-arts...\n"
     ]
    },
    {
     "name": "stderr",
     "output_type": "stream",
     "text": [
      "Processing URLs:  30%|███       | 125/412 [10:01<25:18,  5.29s/it, Current URL: https://www.eversports.de/s/center-of-moving-arts]           "
     ]
    },
    {
     "name": "stdout",
     "output_type": "stream",
     "text": [
      "Processing completed.\n",
      "Pole Studio Data: 1 entries\n",
      "Starting URL reconstruction...\n"
     ]
    },
    {
     "name": "stderr",
     "output_type": "stream",
     "text": [
      "Processing URLs:  31%|███       | 126/412 [10:05<23:46,  4.99s/it, Current URL: https://www.eversports.de/s/aircrobatic-studios-m%c3%bcnchen]"
     ]
    },
    {
     "name": "stdout",
     "output_type": "stream",
     "text": [
      "Error during HTTP request: Exceeded 30 redirects.\n",
      "Converting to DataFrame...\n",
      "Validating URLs...\n",
      "Processing completed.\n",
      "Starting URL reconstruction...\n"
     ]
    },
    {
     "name": "stderr",
     "output_type": "stream",
     "text": [
      "Processing URLs:  31%|███       | 127/412 [10:10<23:12,  4.89s/it, Current URL: https://www.eversports.de/s/stadtgazellen-osnabr%c3%bcck]    "
     ]
    },
    {
     "name": "stdout",
     "output_type": "stream",
     "text": [
      "Error during HTTP request: Exceeded 30 redirects.\n",
      "Converting to DataFrame...\n",
      "Validating URLs...\n",
      "Processing completed.\n",
      "Starting URL reconstruction...\n"
     ]
    },
    {
     "name": "stderr",
     "output_type": "stream",
     "text": [
      "Processing URLs:  31%|███       | 128/412 [10:13<21:03,  4.45s/it, Current URL: https://www.eversports.de/s/bellabina-kulturell%2c-ballettschule%2c-pole-sport%2c-tanzstudio%2c-musikunterricht]"
     ]
    },
    {
     "name": "stdout",
     "output_type": "stream",
     "text": [
      "Error during HTTP request: Exceeded 30 redirects.\n",
      "Converting to DataFrame...\n",
      "Validating URLs...\n",
      "Processing completed.\n",
      "Starting URL reconstruction...\n"
     ]
    },
    {
     "name": "stderr",
     "output_type": "stream",
     "text": [
      "Processing URLs:  31%|███▏      | 129/412 [10:15<16:49,  3.57s/it, Current URL: https://www.eversports.de/s/polemotions]                                                                        "
     ]
    },
    {
     "name": "stdout",
     "output_type": "stream",
     "text": [
      "Error during HTTP request: 404 Client Error: Not Found for url: https://www.eversports.de/s/polemotions\n",
      "Converting to DataFrame...\n",
      "Validating URLs...\n",
      "Processing completed.\n",
      "Starting URL reconstruction...\n"
     ]
    },
    {
     "name": "stderr",
     "output_type": "stream",
     "text": [
      "2024-02-01 22:58:22,555 - INFO - Processing URL 1/4: https://www.eversports.de/s/t-tanzstueck-braunschweig\n"
     ]
    },
    {
     "name": "stdout",
     "output_type": "stream",
     "text": [
      "Error reconstructing URL for 'Kurse': Unrecognized text: 'Kurse'\n",
      "Converting to DataFrame...\n",
      "Validating URLs...\n"
     ]
    },
    {
     "name": "stderr",
     "output_type": "stream",
     "text": [
      "2024-02-01 22:58:23,885 - INFO - URL https://www.eversports.de/s/t-tanzstueck-braunschweig is valid.\n",
      "2024-02-01 22:58:23,886 - INFO - Processing URL 2/4: https://www.eversports.de/sw/t-tanzstueck-braunschweig\n",
      "2024-02-01 22:58:25,087 - INFO - URL https://www.eversports.de/sw/t-tanzstueck-braunschweig is valid.\n",
      "2024-02-01 22:58:25,088 - INFO - Processing URL 3/4: https://www.eversports.de/sp/t-tanzstueck-braunschweig\n",
      "2024-02-01 22:58:26,370 - INFO - URL https://www.eversports.de/sp/t-tanzstueck-braunschweig is valid.\n",
      "2024-02-01 22:58:26,371 - INFO - Processing URL 4/4: https://www.eversports.de/s/t-tanzstueck-braunschweig/team\n",
      "2024-02-01 22:58:27,645 - INFO - URL https://www.eversports.de/s/t-tanzstueck-braunschweig/team is valid.\n"
     ]
    },
    {
     "name": "stdout",
     "output_type": "stream",
     "text": [
      "Scraping Pole Studio Data from https://www.eversports.de/s/t-tanzstueck-braunschweig...\n",
      "Scraping Workshops Data from https://www.eversports.de/sw/t-tanzstueck-braunschweig...\n",
      "Scraping Workshop Details from https://www.eversports.de/e/workshop/itCOcd3...\n"
     ]
    },
    {
     "name": "stderr",
     "output_type": "stream",
     "text": [
      "Processing URLs:  32%|███▏      | 130/412 [10:24<25:10,  5.36s/it, Current URL: https://www.eversports.de/s/t-tanzstueck-braunschweig]"
     ]
    },
    {
     "name": "stdout",
     "output_type": "stream",
     "text": [
      "Processing completed.\n",
      "Pole Studio Data: 1 entries\n",
      "Workshops Data: 1 entries\n",
      "Workshop Details: 1 entries\n",
      "Starting URL reconstruction...\n"
     ]
    },
    {
     "name": "stderr",
     "output_type": "stream",
     "text": [
      "2024-02-01 22:58:31,980 - INFO - Processing URL 1/4: https://www.eversports.de/s/pole-formance\n"
     ]
    },
    {
     "name": "stdout",
     "output_type": "stream",
     "text": [
      "Error reconstructing URL for 'Kurse': Unrecognized text: 'Kurse'\n",
      "Converting to DataFrame...\n",
      "Validating URLs...\n"
     ]
    },
    {
     "name": "stderr",
     "output_type": "stream",
     "text": [
      "2024-02-01 22:58:33,905 - INFO - URL https://www.eversports.de/s/pole-formance is valid.\n",
      "2024-02-01 22:58:33,905 - INFO - Processing URL 2/4: https://www.eversports.de/sw/pole-formance\n",
      "2024-02-01 22:58:35,787 - INFO - URL https://www.eversports.de/sw/pole-formance is valid.\n",
      "2024-02-01 22:58:35,788 - INFO - Processing URL 3/4: https://www.eversports.de/sp/pole-formance\n",
      "2024-02-01 22:58:36,989 - INFO - URL https://www.eversports.de/sp/pole-formance is valid.\n",
      "2024-02-01 22:58:36,989 - INFO - Processing URL 4/4: https://www.eversports.de/s/pole-formance/team\n",
      "2024-02-01 22:58:38,462 - INFO - URL https://www.eversports.de/s/pole-formance/team is valid.\n"
     ]
    },
    {
     "name": "stdout",
     "output_type": "stream",
     "text": [
      "Scraping Pole Studio Data from https://www.eversports.de/s/pole-formance...\n",
      "Scraping Workshops Data from https://www.eversports.de/sw/pole-formance...\n",
      "Scraping Workshop Details from https://www.eversports.de/e/workshop/AieRNXP...\n",
      "Scraping Workshop Details from https://www.eversports.de/e/workshop/NA0fA-V...\n",
      "Scraping Workshop Details from https://www.eversports.de/e/workshop/KDYKHQf...\n",
      "Scraping Workshop Details from https://www.eversports.de/e/workshop/BjFbe-z...\n",
      "Scraping Workshop Details from https://www.eversports.de/e/workshop/U58r9aD...\n"
     ]
    },
    {
     "name": "stderr",
     "output_type": "stream",
     "text": [
      "Processing URLs:  32%|███▏      | 131/412 [10:40<40:15,  8.60s/it, Current URL: https://www.eversports.de/s/pole-formance]            "
     ]
    },
    {
     "name": "stdout",
     "output_type": "stream",
     "text": [
      "Processing completed.\n",
      "Pole Studio Data: 1 entries\n",
      "Workshops Data: 5 entries\n",
      "Workshop Details: 5 entries\n",
      "Starting URL reconstruction...\n"
     ]
    },
    {
     "name": "stderr",
     "output_type": "stream",
     "text": [
      "Processing URLs:  32%|███▏      | 132/412 [10:42<30:05,  6.45s/it, Current URL: https://www.eversports.de/s/open-aerial-dance]"
     ]
    },
    {
     "name": "stdout",
     "output_type": "stream",
     "text": [
      "Error during HTTP request: 404 Client Error: Not Found for url: https://www.eversports.de/s/open-aerial-dance\n",
      "Converting to DataFrame...\n",
      "Validating URLs...\n",
      "Processing completed.\n",
      "Starting URL reconstruction...\n"
     ]
    },
    {
     "name": "stderr",
     "output_type": "stream",
     "text": [
      "2024-02-01 22:58:49,651 - INFO - Processing URL 1/2: https://www.eversports.de/s/annis-pole-dance-uetersen\n"
     ]
    },
    {
     "name": "stdout",
     "output_type": "stream",
     "text": [
      "Error reconstructing URL for 'Trainings': Unrecognized text: 'Trainings'\n",
      "Error reconstructing URL for 'Kurse': Unrecognized text: 'Kurse'\n",
      "Converting to DataFrame...\n",
      "Validating URLs...\n"
     ]
    },
    {
     "name": "stderr",
     "output_type": "stream",
     "text": [
      "2024-02-01 22:58:51,028 - INFO - URL https://www.eversports.de/s/annis-pole-dance-uetersen is valid.\n",
      "2024-02-01 22:58:51,029 - INFO - Processing URL 2/2: https://www.eversports.de/s/annis-pole-dance-uetersen/team\n",
      "2024-02-01 22:58:52,228 - INFO - URL https://www.eversports.de/s/annis-pole-dance-uetersen/team is valid.\n"
     ]
    },
    {
     "name": "stdout",
     "output_type": "stream",
     "text": [
      "Scraping Pole Studio Data from https://www.eversports.de/s/annis-pole-dance-uetersen...\n"
     ]
    },
    {
     "name": "stderr",
     "output_type": "stream",
     "text": [
      "Processing URLs:  32%|███▏      | 133/412 [10:46<27:08,  5.84s/it, Current URL: https://www.eversports.de/s/annis-pole-dance-uetersen]"
     ]
    },
    {
     "name": "stdout",
     "output_type": "stream",
     "text": [
      "Processing completed.\n",
      "Pole Studio Data: 1 entries\n",
      "Starting URL reconstruction...\n"
     ]
    },
    {
     "name": "stderr",
     "output_type": "stream",
     "text": [
      "Processing URLs:  33%|███▎      | 134/412 [10:47<20:31,  4.43s/it, Current URL: https://www.eversports.de/s/wonderpole]               "
     ]
    },
    {
     "name": "stdout",
     "output_type": "stream",
     "text": [
      "Error during HTTP request: 404 Client Error: Not Found for url: https://www.eversports.de/s/wonderpole\n",
      "Converting to DataFrame...\n",
      "Validating URLs...\n",
      "Processing completed.\n",
      "Starting URL reconstruction...\n"
     ]
    },
    {
     "name": "stderr",
     "output_type": "stream",
     "text": [
      "2024-02-01 22:58:55,216 - INFO - Processing URL 1/1: https://www.eversports.de/s/pole-your-body\n"
     ]
    },
    {
     "name": "stdout",
     "output_type": "stream",
     "text": [
      "Converting to DataFrame...\n",
      "Validating URLs...\n"
     ]
    },
    {
     "name": "stderr",
     "output_type": "stream",
     "text": [
      "2024-02-01 22:58:56,523 - INFO - URL https://www.eversports.de/s/pole-your-body is valid.\n"
     ]
    },
    {
     "name": "stdout",
     "output_type": "stream",
     "text": [
      "Scraping Pole Studio Data from https://www.eversports.de/s/pole-your-body...\n"
     ]
    },
    {
     "name": "stderr",
     "output_type": "stream",
     "text": [
      "Processing URLs:  33%|███▎      | 135/412 [10:50<18:31,  4.01s/it, Current URL: https://www.eversports.de/s/pole-your-body]"
     ]
    },
    {
     "name": "stdout",
     "output_type": "stream",
     "text": [
      "Processing completed.\n",
      "Pole Studio Data: 1 entries\n",
      "Starting URL reconstruction...\n"
     ]
    },
    {
     "name": "stderr",
     "output_type": "stream",
     "text": [
      "Processing URLs:  33%|███▎      | 136/412 [10:51<14:35,  3.17s/it, Current URL: https://www.eversports.de/s/drehimpuls-aachen]"
     ]
    },
    {
     "name": "stdout",
     "output_type": "stream",
     "text": [
      "Error during HTTP request: 404 Client Error: Not Found for url: https://www.eversports.de/s/drehimpuls-aachen\n",
      "Converting to DataFrame...\n",
      "Validating URLs...\n",
      "Processing completed.\n",
      "Starting URL reconstruction...\n"
     ]
    },
    {
     "name": "stderr",
     "output_type": "stream",
     "text": [
      "Processing URLs:  33%|███▎      | 137/412 [10:53<12:06,  2.64s/it, Current URL: https://www.eversports.de/s/incredipole---pole-%26-fitness-by-carolin]"
     ]
    },
    {
     "name": "stdout",
     "output_type": "stream",
     "text": [
      "Error during HTTP request: 404 Client Error: Not Found for url: https://www.eversports.de/s/incredipole---pole-%26-fitness-by-carolin\n",
      "Converting to DataFrame...\n",
      "Validating URLs...\n",
      "Processing completed.\n",
      "Starting URL reconstruction...\n"
     ]
    },
    {
     "name": "stderr",
     "output_type": "stream",
     "text": [
      "2024-02-01 22:59:00,823 - INFO - Processing URL 1/4: https://www.eversports.de/s/seemannsbraut-poledance\n"
     ]
    },
    {
     "name": "stdout",
     "output_type": "stream",
     "text": [
      "Error reconstructing URL for 'Kurse': Unrecognized text: 'Kurse'\n",
      "Converting to DataFrame...\n",
      "Validating URLs...\n"
     ]
    },
    {
     "name": "stderr",
     "output_type": "stream",
     "text": [
      "2024-02-01 22:59:02,148 - INFO - URL https://www.eversports.de/s/seemannsbraut-poledance is valid.\n",
      "2024-02-01 22:59:02,149 - INFO - Processing URL 2/4: https://www.eversports.de/sw/seemannsbraut-poledance\n",
      "2024-02-01 22:59:03,454 - INFO - URL https://www.eversports.de/sw/seemannsbraut-poledance is valid.\n",
      "2024-02-01 22:59:03,455 - INFO - Processing URL 3/4: https://www.eversports.de/sp/seemannsbraut-poledance\n",
      "2024-02-01 22:59:05,432 - INFO - URL https://www.eversports.de/sp/seemannsbraut-poledance is valid.\n",
      "2024-02-01 22:59:05,433 - INFO - Processing URL 4/4: https://www.eversports.de/s/seemannsbraut-poledance/team\n",
      "2024-02-01 22:59:06,614 - INFO - URL https://www.eversports.de/s/seemannsbraut-poledance/team is valid.\n"
     ]
    },
    {
     "name": "stdout",
     "output_type": "stream",
     "text": [
      "Scraping Pole Studio Data from https://www.eversports.de/s/seemannsbraut-poledance...\n",
      "Scraping Workshops Data from https://www.eversports.de/sw/seemannsbraut-poledance...\n",
      "Scraping Workshop Details from https://www.eversports.de/e/workshop/tjSmCEx...\n",
      "Scraping Workshop Details from https://www.eversports.de/e/workshop/mQPzgO-...\n",
      "Scraping Workshop Details from https://www.eversports.de/e/workshop/ziaHmeW...\n",
      "Scraping Workshop Details from https://www.eversports.de/e/workshop/zBoJPTa...\n"
     ]
    },
    {
     "name": "stderr",
     "output_type": "stream",
     "text": [
      "Processing URLs:  33%|███▎      | 138/412 [11:07<28:22,  6.21s/it, Current URL: https://www.eversports.de/s/seemannsbraut-poledance]                  "
     ]
    },
    {
     "name": "stdout",
     "output_type": "stream",
     "text": [
      "Processing completed.\n",
      "Pole Studio Data: 1 entries\n",
      "Workshops Data: 4 entries\n",
      "Workshop Details: 4 entries\n",
      "Starting URL reconstruction...\n"
     ]
    },
    {
     "name": "stderr",
     "output_type": "stream",
     "text": [
      "2024-02-01 22:59:15,353 - INFO - Processing URL 1/3: https://www.eversports.de/s/pole-statement\n"
     ]
    },
    {
     "name": "stdout",
     "output_type": "stream",
     "text": [
      "Error reconstructing URL for 'Kurse': Unrecognized text: 'Kurse'\n",
      "Error reconstructing URL for 'Events': Unrecognized text: 'Events'\n",
      "Converting to DataFrame...\n",
      "Validating URLs...\n"
     ]
    },
    {
     "name": "stderr",
     "output_type": "stream",
     "text": [
      "2024-02-01 22:59:16,656 - INFO - URL https://www.eversports.de/s/pole-statement is valid.\n",
      "2024-02-01 22:59:16,657 - INFO - Processing URL 2/3: https://www.eversports.de/sp/pole-statement\n",
      "2024-02-01 22:59:17,916 - INFO - URL https://www.eversports.de/sp/pole-statement is valid.\n",
      "2024-02-01 22:59:17,917 - INFO - Processing URL 3/3: https://www.eversports.de/s/pole-statement/team\n",
      "2024-02-01 22:59:19,158 - INFO - URL https://www.eversports.de/s/pole-statement/team is valid.\n"
     ]
    },
    {
     "name": "stdout",
     "output_type": "stream",
     "text": [
      "Scraping Pole Studio Data from https://www.eversports.de/s/pole-statement...\n"
     ]
    },
    {
     "name": "stderr",
     "output_type": "stream",
     "text": [
      "Processing URLs:  34%|███▎      | 139/412 [11:13<27:27,  6.03s/it, Current URL: https://www.eversports.de/s/pole-statement]         "
     ]
    },
    {
     "name": "stdout",
     "output_type": "stream",
     "text": [
      "Processing completed.\n",
      "Pole Studio Data: 1 entries\n",
      "Starting URL reconstruction...\n"
     ]
    },
    {
     "name": "stderr",
     "output_type": "stream",
     "text": [
      "Processing URLs:  34%|███▍      | 140/412 [11:14<20:41,  4.57s/it, Current URL: https://www.eversports.de/s/monopole-dance]"
     ]
    },
    {
     "name": "stdout",
     "output_type": "stream",
     "text": [
      "Error during HTTP request: 404 Client Error: Not Found for url: https://www.eversports.de/s/monopole-dance\n",
      "Converting to DataFrame...\n",
      "Validating URLs...\n",
      "Processing completed.\n",
      "Starting URL reconstruction...\n"
     ]
    },
    {
     "name": "stderr",
     "output_type": "stream",
     "text": [
      "Processing URLs:  34%|███▍      | 141/412 [11:15<15:58,  3.54s/it, Current URL: https://www.eversports.de/s/tsg-blau-gold-ballett--und-pole-dance--studio]"
     ]
    },
    {
     "name": "stdout",
     "output_type": "stream",
     "text": [
      "Error during HTTP request: 404 Client Error: Not Found for url: https://www.eversports.de/s/tsg-blau-gold-ballett--und-pole-dance--studio\n",
      "Converting to DataFrame...\n",
      "Validating URLs...\n",
      "Processing completed.\n",
      "Starting URL reconstruction...\n"
     ]
    },
    {
     "name": "stderr",
     "output_type": "stream",
     "text": [
      "Processing URLs:  34%|███▍      | 142/412 [11:18<14:28,  3.22s/it, Current URL: https://www.eversports.de/s/stretch-%26-pole]                             "
     ]
    },
    {
     "name": "stdout",
     "output_type": "stream",
     "text": [
      "Error during HTTP request: 404 Client Error: Not Found for url: https://www.eversports.de/s/stretch-%26-pole\n",
      "Converting to DataFrame...\n",
      "Validating URLs...\n",
      "Processing completed.\n",
      "Starting URL reconstruction...\n"
     ]
    },
    {
     "name": "stderr",
     "output_type": "stream",
     "text": [
      "Processing URLs:  35%|███▍      | 143/412 [11:22<15:37,  3.49s/it, Current URL: https://www.eversports.de/s/sch%c3%b6nheitstanz-berlin]"
     ]
    },
    {
     "name": "stdout",
     "output_type": "stream",
     "text": [
      "Error during HTTP request: Exceeded 30 redirects.\n",
      "Converting to DataFrame...\n",
      "Validating URLs...\n",
      "Processing completed.\n",
      "Starting URL reconstruction...\n"
     ]
    },
    {
     "name": "stderr",
     "output_type": "stream",
     "text": [
      "Processing URLs:  35%|███▍      | 144/412 [11:26<16:24,  3.67s/it, Current URL: https://www.eversports.de/s/vertical-ballerina---poledance-studio-m%c3%bcnchen]"
     ]
    },
    {
     "name": "stdout",
     "output_type": "stream",
     "text": [
      "Error during HTTP request: Exceeded 30 redirects.\n",
      "Converting to DataFrame...\n",
      "Validating URLs...\n",
      "Processing completed.\n",
      "Starting URL reconstruction...\n"
     ]
    },
    {
     "name": "stderr",
     "output_type": "stream",
     "text": [
      "Processing URLs:  35%|███▌      | 145/412 [11:27<12:58,  2.92s/it, Current URL: https://www.eversports.de/s/crazy-up-%26-pole]                                 "
     ]
    },
    {
     "name": "stdout",
     "output_type": "stream",
     "text": [
      "Error during HTTP request: 404 Client Error: Not Found for url: https://www.eversports.de/s/crazy-up-%26-pole\n",
      "Converting to DataFrame...\n",
      "Validating URLs...\n",
      "Processing completed.\n",
      "Starting URL reconstruction...\n"
     ]
    },
    {
     "name": "stderr",
     "output_type": "stream",
     "text": [
      "2024-02-01 22:59:35,033 - INFO - Processing URL 1/4: https://www.eversports.de/s/pole-faction-darmstadt\n"
     ]
    },
    {
     "name": "stdout",
     "output_type": "stream",
     "text": [
      "Converting to DataFrame...\n",
      "Validating URLs...\n"
     ]
    },
    {
     "name": "stderr",
     "output_type": "stream",
     "text": [
      "2024-02-01 22:59:36,325 - INFO - URL https://www.eversports.de/s/pole-faction-darmstadt is valid.\n",
      "2024-02-01 22:59:36,326 - INFO - Processing URL 2/4: https://www.eversports.de/sw/pole-faction-darmstadt\n",
      "2024-02-01 22:59:37,733 - INFO - URL https://www.eversports.de/sw/pole-faction-darmstadt is valid.\n",
      "2024-02-01 22:59:37,734 - INFO - Processing URL 3/4: https://www.eversports.de/sp/pole-faction-darmstadt\n",
      "2024-02-01 22:59:38,930 - INFO - URL https://www.eversports.de/sp/pole-faction-darmstadt is valid.\n",
      "2024-02-01 22:59:38,931 - INFO - Processing URL 4/4: https://www.eversports.de/s/pole-faction-darmstadt/team\n",
      "2024-02-01 22:59:40,275 - INFO - URL https://www.eversports.de/s/pole-faction-darmstadt/team is valid.\n"
     ]
    },
    {
     "name": "stdout",
     "output_type": "stream",
     "text": [
      "Scraping Pole Studio Data from https://www.eversports.de/s/pole-faction-darmstadt...\n",
      "Scraping Workshops Data from https://www.eversports.de/sw/pole-faction-darmstadt...\n",
      "Scraping Workshop Details from https://www.eversports.de/e/workshop/FP-cEyn...\n"
     ]
    },
    {
     "name": "stderr",
     "output_type": "stream",
     "text": [
      "Processing URLs:  35%|███▌      | 146/412 [11:37<21:47,  4.92s/it, Current URL: https://www.eversports.de/s/pole-faction-darmstadt]"
     ]
    },
    {
     "name": "stdout",
     "output_type": "stream",
     "text": [
      "Processing completed.\n",
      "Pole Studio Data: 1 entries\n",
      "Workshops Data: 1 entries\n",
      "Workshop Details: 1 entries\n",
      "Starting URL reconstruction...\n"
     ]
    },
    {
     "name": "stderr",
     "output_type": "stream",
     "text": [
      "2024-02-01 22:59:44,698 - INFO - Processing URL 1/4: https://www.eversports.de/s/the-pole-jungle\n"
     ]
    },
    {
     "name": "stdout",
     "output_type": "stream",
     "text": [
      "Error reconstructing URL for 'Trainings': Unrecognized text: 'Trainings'\n",
      "Error reconstructing URL for 'Kurse': Unrecognized text: 'Kurse'\n",
      "Converting to DataFrame...\n",
      "Validating URLs...\n"
     ]
    },
    {
     "name": "stderr",
     "output_type": "stream",
     "text": [
      "2024-02-01 22:59:47,150 - INFO - URL https://www.eversports.de/s/the-pole-jungle is valid.\n",
      "2024-02-01 22:59:47,151 - INFO - Processing URL 2/4: https://www.eversports.de/sw/the-pole-jungle\n",
      "2024-02-01 22:59:48,305 - INFO - URL https://www.eversports.de/sw/the-pole-jungle is not valid.\n",
      "2024-02-01 22:59:48,306 - INFO - Processing URL 3/4: https://www.eversports.de/sp/the-pole-jungle\n",
      "2024-02-01 22:59:49,512 - INFO - URL https://www.eversports.de/sp/the-pole-jungle is not valid.\n",
      "2024-02-01 22:59:49,513 - INFO - Processing URL 4/4: https://www.eversports.de/s/the-pole-jungle/team\n",
      "2024-02-01 22:59:50,695 - INFO - URL https://www.eversports.de/s/the-pole-jungle/team is valid.\n"
     ]
    },
    {
     "name": "stdout",
     "output_type": "stream",
     "text": [
      "Scraping Pole Studio Data from https://www.eversports.de/s/the-pole-jungle...\n"
     ]
    },
    {
     "name": "stderr",
     "output_type": "stream",
     "text": [
      "Processing URLs:  36%|███▌      | 147/412 [11:45<25:30,  5.78s/it, Current URL: https://www.eversports.de/s/the-pole-jungle]       "
     ]
    },
    {
     "name": "stdout",
     "output_type": "stream",
     "text": [
      "Processing completed.\n",
      "Pole Studio Data: 1 entries\n",
      "Starting URL reconstruction...\n"
     ]
    },
    {
     "name": "stderr",
     "output_type": "stream",
     "text": [
      "Processing URLs:  36%|███▌      | 148/412 [11:46<19:19,  4.39s/it, Current URL: https://www.eversports.de/s/just-fly]       "
     ]
    },
    {
     "name": "stdout",
     "output_type": "stream",
     "text": [
      "Error during HTTP request: 404 Client Error: Not Found for url: https://www.eversports.de/s/just-fly\n",
      "Converting to DataFrame...\n",
      "Validating URLs...\n",
      "Processing completed.\n",
      "Starting URL reconstruction...\n"
     ]
    },
    {
     "name": "stderr",
     "output_type": "stream",
     "text": [
      "Processing URLs:  36%|███▌      | 149/412 [11:47<14:56,  3.41s/it, Current URL: https://www.eversports.de/s/activo-polefitness]"
     ]
    },
    {
     "name": "stdout",
     "output_type": "stream",
     "text": [
      "Error during HTTP request: 404 Client Error: Not Found for url: https://www.eversports.de/s/activo-polefitness\n",
      "Converting to DataFrame...\n",
      "Validating URLs...\n",
      "Processing completed.\n",
      "Starting URL reconstruction...\n"
     ]
    },
    {
     "name": "stderr",
     "output_type": "stream",
     "text": [
      "2024-02-01 22:59:55,700 - INFO - Processing URL 1/4: https://www.eversports.de/s/yoga-at-lobe-block\n"
     ]
    },
    {
     "name": "stdout",
     "output_type": "stream",
     "text": [
      "Converting to DataFrame...\n",
      "Validating URLs...\n"
     ]
    },
    {
     "name": "stderr",
     "output_type": "stream",
     "text": [
      "2024-02-01 22:59:57,282 - INFO - URL https://www.eversports.de/s/yoga-at-lobe-block is valid.\n",
      "2024-02-01 22:59:57,283 - INFO - Processing URL 2/4: https://www.eversports.de/sw/yoga-at-lobe-block\n",
      "2024-02-01 22:59:58,530 - INFO - URL https://www.eversports.de/sw/yoga-at-lobe-block is valid.\n",
      "2024-02-01 22:59:58,531 - INFO - Processing URL 3/4: https://www.eversports.de/sp/yoga-at-lobe-block\n",
      "2024-02-01 22:59:59,785 - INFO - URL https://www.eversports.de/sp/yoga-at-lobe-block is valid.\n",
      "2024-02-01 22:59:59,786 - INFO - Processing URL 4/4: https://www.eversports.de/s/yoga-at-lobe-block/team\n",
      "2024-02-01 23:00:01,265 - INFO - URL https://www.eversports.de/s/yoga-at-lobe-block/team is valid.\n"
     ]
    },
    {
     "name": "stdout",
     "output_type": "stream",
     "text": [
      "Scraping Pole Studio Data from https://www.eversports.de/s/yoga-at-lobe-block...\n",
      "Scraping Workshops Data from https://www.eversports.de/sw/yoga-at-lobe-block...\n",
      "Scraping Workshop Details from https://www.eversports.de/e/workshop/vmr79nD...\n",
      "Scraping Workshop Details from https://www.eversports.de/e/workshop/5WFQ4Sn...\n"
     ]
    },
    {
     "name": "stderr",
     "output_type": "stream",
     "text": [
      "Processing URLs:  36%|███▋      | 150/412 [11:59<26:51,  6.15s/it, Current URL: https://www.eversports.de/s/yoga-at-lobe-block]"
     ]
    },
    {
     "name": "stdout",
     "output_type": "stream",
     "text": [
      "Processing completed.\n",
      "Pole Studio Data: 1 entries\n",
      "Workshops Data: 2 entries\n",
      "Workshop Details: 2 entries\n",
      "Starting URL reconstruction...\n"
     ]
    },
    {
     "name": "stderr",
     "output_type": "stream",
     "text": [
      "2024-02-01 23:00:07,918 - INFO - Processing URL 1/1: https://www.eversports.de/s/polefriends-magdeburg\n"
     ]
    },
    {
     "name": "stdout",
     "output_type": "stream",
     "text": [
      "Converting to DataFrame...\n",
      "Validating URLs...\n"
     ]
    },
    {
     "name": "stderr",
     "output_type": "stream",
     "text": [
      "2024-02-01 23:00:09,100 - INFO - URL https://www.eversports.de/s/polefriends-magdeburg is valid.\n"
     ]
    },
    {
     "name": "stdout",
     "output_type": "stream",
     "text": [
      "Scraping Pole Studio Data from https://www.eversports.de/s/polefriends-magdeburg...\n"
     ]
    },
    {
     "name": "stderr",
     "output_type": "stream",
     "text": [
      "Processing URLs:  37%|███▋      | 151/412 [12:03<23:25,  5.39s/it, Current URL: https://www.eversports.de/s/polefriends-magdeburg]"
     ]
    },
    {
     "name": "stdout",
     "output_type": "stream",
     "text": [
      "Processing completed.\n",
      "Pole Studio Data: 1 entries\n",
      "Starting URL reconstruction...\n"
     ]
    },
    {
     "name": "stderr",
     "output_type": "stream",
     "text": [
      "Processing URLs:  37%|███▋      | 152/412 [12:04<18:05,  4.17s/it, Current URL: https://www.eversports.de/s/360-grad-soulsports]  "
     ]
    },
    {
     "name": "stdout",
     "output_type": "stream",
     "text": [
      "Error during HTTP request: 404 Client Error: Not Found for url: https://www.eversports.de/s/360-grad-soulsports\n",
      "Converting to DataFrame...\n",
      "Validating URLs...\n",
      "Processing completed.\n",
      "Starting URL reconstruction...\n"
     ]
    },
    {
     "name": "stderr",
     "output_type": "stream",
     "text": [
      "2024-02-01 23:00:12,295 - INFO - Processing URL 1/4: https://www.eversports.de/s/cheesy-heaven\n"
     ]
    },
    {
     "name": "stdout",
     "output_type": "stream",
     "text": [
      "Converting to DataFrame...\n",
      "Validating URLs...\n"
     ]
    },
    {
     "name": "stderr",
     "output_type": "stream",
     "text": [
      "2024-02-01 23:00:13,715 - INFO - URL https://www.eversports.de/s/cheesy-heaven is valid.\n",
      "2024-02-01 23:00:13,716 - INFO - Processing URL 2/4: https://www.eversports.de/sw/cheesy-heaven\n",
      "2024-02-01 23:00:14,992 - INFO - URL https://www.eversports.de/sw/cheesy-heaven is valid.\n",
      "2024-02-01 23:00:14,993 - INFO - Processing URL 3/4: https://www.eversports.de/sp/cheesy-heaven\n",
      "2024-02-01 23:00:16,167 - INFO - URL https://www.eversports.de/sp/cheesy-heaven is valid.\n",
      "2024-02-01 23:00:16,168 - INFO - Processing URL 4/4: https://www.eversports.de/s/cheesy-heaven/team\n",
      "2024-02-01 23:00:17,410 - INFO - URL https://www.eversports.de/s/cheesy-heaven/team is valid.\n"
     ]
    },
    {
     "name": "stdout",
     "output_type": "stream",
     "text": [
      "Scraping Pole Studio Data from https://www.eversports.de/s/cheesy-heaven...\n",
      "Scraping Workshops Data from https://www.eversports.de/sw/cheesy-heaven...\n",
      "Scraping Workshop Details from https://www.eversports.de/e/workshop/FPhYm4m...\n",
      "Scraping Workshop Details from https://www.eversports.de/e/workshop/YUDNvHE...\n",
      "Scraping Workshop Details from https://www.eversports.de/e/workshop/_TKMrS6...\n",
      "Scraping Workshop Details from https://www.eversports.de/e/workshop/wLNZTsC...\n"
     ]
    },
    {
     "name": "stderr",
     "output_type": "stream",
     "text": [
      "Processing URLs:  37%|███▋      | 153/412 [12:18<29:43,  6.89s/it, Current URL: https://www.eversports.de/s/cheesy-heaven]      "
     ]
    },
    {
     "name": "stdout",
     "output_type": "stream",
     "text": [
      "Processing completed.\n",
      "Pole Studio Data: 1 entries\n",
      "Workshops Data: 4 entries\n",
      "Workshop Details: 4 entries\n",
      "Starting URL reconstruction...\n"
     ]
    },
    {
     "name": "stderr",
     "output_type": "stream",
     "text": [
      "2024-02-01 23:00:26,371 - INFO - Processing URL 1/1: https://www.eversports.de/s/firstsports-polefitness\n"
     ]
    },
    {
     "name": "stdout",
     "output_type": "stream",
     "text": [
      "Converting to DataFrame...\n",
      "Validating URLs...\n"
     ]
    },
    {
     "name": "stderr",
     "output_type": "stream",
     "text": [
      "2024-02-01 23:00:28,640 - INFO - URL https://www.eversports.de/s/firstsports-polefitness is valid.\n"
     ]
    },
    {
     "name": "stdout",
     "output_type": "stream",
     "text": [
      "Scraping Pole Studio Data from https://www.eversports.de/s/firstsports-polefitness...\n"
     ]
    },
    {
     "name": "stderr",
     "output_type": "stream",
     "text": [
      "Processing URLs:  37%|███▋      | 154/412 [12:23<27:36,  6.42s/it, Current URL: https://www.eversports.de/s/firstsports-polefitness]"
     ]
    },
    {
     "name": "stdout",
     "output_type": "stream",
     "text": [
      "Processing completed.\n",
      "Pole Studio Data: 1 entries\n",
      "Starting URL reconstruction...\n"
     ]
    },
    {
     "name": "stderr",
     "output_type": "stream",
     "text": [
      "Processing URLs:  38%|███▊      | 155/412 [12:24<20:37,  4.81s/it, Current URL: https://www.eversports.de/s/anni's-pole-dance-uetersen]"
     ]
    },
    {
     "name": "stdout",
     "output_type": "stream",
     "text": [
      "Error during HTTP request: 404 Client Error: Not Found for url: https://www.eversports.de/s/anni's-pole-dance-uetersen\n",
      "Converting to DataFrame...\n",
      "Validating URLs...\n",
      "Processing completed.\n",
      "Starting URL reconstruction...\n"
     ]
    },
    {
     "name": "stderr",
     "output_type": "stream",
     "text": [
      "Processing URLs:  38%|███▊      | 156/412 [12:25<15:49,  3.71s/it, Current URL: https://www.eversports.de/s/zero-gravity-pole-]        "
     ]
    },
    {
     "name": "stdout",
     "output_type": "stream",
     "text": [
      "Error during HTTP request: 404 Client Error: Not Found for url: https://www.eversports.de/s/zero-gravity-pole-\n",
      "Converting to DataFrame...\n",
      "Validating URLs...\n",
      "Processing completed.\n",
      "Starting URL reconstruction...\n"
     ]
    },
    {
     "name": "stderr",
     "output_type": "stream",
     "text": [
      "2024-02-01 23:00:32,957 - INFO - Processing URL 1/2: https://www.eversports.de/s/pole-dance-balance\n"
     ]
    },
    {
     "name": "stdout",
     "output_type": "stream",
     "text": [
      "Converting to DataFrame...\n",
      "Validating URLs...\n"
     ]
    },
    {
     "name": "stderr",
     "output_type": "stream",
     "text": [
      "2024-02-01 23:00:34,296 - INFO - URL https://www.eversports.de/s/pole-dance-balance is valid.\n",
      "2024-02-01 23:00:34,297 - INFO - Processing URL 2/2: https://www.eversports.de/sp/pole-dance-balance\n",
      "2024-02-01 23:00:35,446 - INFO - URL https://www.eversports.de/sp/pole-dance-balance is valid.\n"
     ]
    },
    {
     "name": "stdout",
     "output_type": "stream",
     "text": [
      "Scraping Pole Studio Data from https://www.eversports.de/s/pole-dance-balance...\n"
     ]
    },
    {
     "name": "stderr",
     "output_type": "stream",
     "text": [
      "Processing URLs:  38%|███▊      | 157/412 [12:29<16:20,  3.84s/it, Current URL: https://www.eversports.de/s/pole-dance-balance]"
     ]
    },
    {
     "name": "stdout",
     "output_type": "stream",
     "text": [
      "Processing completed.\n",
      "Pole Studio Data: 1 entries\n",
      "Starting URL reconstruction...\n"
     ]
    },
    {
     "name": "stderr",
     "output_type": "stream",
     "text": [
      "2024-02-01 23:00:37,098 - INFO - Processing URL 1/4: https://www.eversports.de/s/polearize\n"
     ]
    },
    {
     "name": "stdout",
     "output_type": "stream",
     "text": [
      "Converting to DataFrame...\n",
      "Validating URLs...\n"
     ]
    },
    {
     "name": "stderr",
     "output_type": "stream",
     "text": [
      "2024-02-01 23:00:38,470 - INFO - URL https://www.eversports.de/s/polearize is valid.\n",
      "2024-02-01 23:00:38,471 - INFO - Processing URL 2/4: https://www.eversports.de/sw/polearize\n",
      "2024-02-01 23:00:39,629 - INFO - URL https://www.eversports.de/sw/polearize is valid.\n",
      "2024-02-01 23:00:39,630 - INFO - Processing URL 3/4: https://www.eversports.de/sp/polearize\n",
      "2024-02-01 23:00:40,766 - INFO - URL https://www.eversports.de/sp/polearize is valid.\n",
      "2024-02-01 23:00:40,767 - INFO - Processing URL 4/4: https://www.eversports.de/s/polearize/team\n",
      "2024-02-01 23:00:42,108 - INFO - URL https://www.eversports.de/s/polearize/team is valid.\n"
     ]
    },
    {
     "name": "stdout",
     "output_type": "stream",
     "text": [
      "Scraping Pole Studio Data from https://www.eversports.de/s/polearize...\n",
      "Scraping Workshops Data from https://www.eversports.de/sw/polearize...\n",
      "Scraping Workshop Details from https://www.eversports.de/e/workshop/5N9aoto...\n",
      "Scraping Workshop Details from https://www.eversports.de/e/workshop/7QwFsx3...\n",
      "Scraping Workshop Details from https://www.eversports.de/e/workshop/516yIHG...\n",
      "Scraping Workshop Details from https://www.eversports.de/e/workshop/4gGolhi...\n"
     ]
    },
    {
     "name": "stderr",
     "output_type": "stream",
     "text": [
      "Processing URLs:  38%|███▊      | 158/412 [12:43<28:54,  6.83s/it, Current URL: https://www.eversports.de/s/polearize]         "
     ]
    },
    {
     "name": "stdout",
     "output_type": "stream",
     "text": [
      "Processing completed.\n",
      "Pole Studio Data: 1 entries\n",
      "Workshops Data: 4 entries\n",
      "Workshop Details: 4 entries\n",
      "Starting URL reconstruction...\n"
     ]
    },
    {
     "name": "stderr",
     "output_type": "stream",
     "text": [
      "2024-02-01 23:00:50,912 - INFO - Processing URL 1/4: https://www.eversports.de/s/poda-studio\n"
     ]
    },
    {
     "name": "stdout",
     "output_type": "stream",
     "text": [
      "Converting to DataFrame...\n",
      "Validating URLs...\n"
     ]
    },
    {
     "name": "stderr",
     "output_type": "stream",
     "text": [
      "2024-02-01 23:00:52,526 - INFO - URL https://www.eversports.de/s/poda-studio is valid.\n",
      "2024-02-01 23:00:52,527 - INFO - Processing URL 2/4: https://www.eversports.de/sw/poda-studio\n",
      "2024-02-01 23:00:54,649 - INFO - URL https://www.eversports.de/sw/poda-studio is valid.\n",
      "2024-02-01 23:00:54,649 - INFO - Processing URL 3/4: https://www.eversports.de/sp/poda-studio\n",
      "2024-02-01 23:00:55,805 - INFO - URL https://www.eversports.de/sp/poda-studio is valid.\n",
      "2024-02-01 23:00:55,807 - INFO - Processing URL 4/4: https://www.eversports.de/s/poda-studio/team\n",
      "2024-02-01 23:00:56,990 - INFO - URL https://www.eversports.de/s/poda-studio/team is valid.\n"
     ]
    },
    {
     "name": "stdout",
     "output_type": "stream",
     "text": [
      "Scraping Pole Studio Data from https://www.eversports.de/s/poda-studio...\n",
      "Scraping Workshops Data from https://www.eversports.de/sw/poda-studio...\n",
      "Scraping Workshop Details from https://www.eversports.de/e/workshop/LAHNDF-...\n",
      "Scraping Workshop Details from https://www.eversports.de/e/workshop/JM68hgK...\n",
      "Scraping Workshop Details from https://www.eversports.de/e/workshop/2f93D4_...\n",
      "Scraping Workshop Details from https://www.eversports.de/e/workshop/9PbaXsNu8...\n"
     ]
    },
    {
     "name": "stderr",
     "output_type": "stream",
     "text": [
      "Processing URLs:  39%|███▊      | 159/412 [12:57<38:23,  9.10s/it, Current URL: https://www.eversports.de/s/poda-studio]"
     ]
    },
    {
     "name": "stdout",
     "output_type": "stream",
     "text": [
      "Processing completed.\n",
      "Pole Studio Data: 1 entries\n",
      "Workshops Data: 4 entries\n",
      "Workshop Details: 4 entries\n",
      "Starting URL reconstruction...\n"
     ]
    },
    {
     "name": "stderr",
     "output_type": "stream",
     "text": [
      "2024-02-01 23:01:05,204 - INFO - Processing URL 1/1: https://www.eversports.de/s/poledance-4-you\n"
     ]
    },
    {
     "name": "stdout",
     "output_type": "stream",
     "text": [
      "Converting to DataFrame...\n",
      "Validating URLs...\n"
     ]
    },
    {
     "name": "stderr",
     "output_type": "stream",
     "text": [
      "2024-02-01 23:01:06,392 - INFO - URL https://www.eversports.de/s/poledance-4-you is valid.\n"
     ]
    },
    {
     "name": "stdout",
     "output_type": "stream",
     "text": [
      "Scraping Pole Studio Data from https://www.eversports.de/s/poledance-4-you...\n"
     ]
    },
    {
     "name": "stderr",
     "output_type": "stream",
     "text": [
      "Processing URLs:  39%|███▉      | 160/412 [13:00<30:15,  7.20s/it, Current URL: https://www.eversports.de/s/poledance-4-you]"
     ]
    },
    {
     "name": "stdout",
     "output_type": "stream",
     "text": [
      "Processing completed.\n",
      "Pole Studio Data: 1 entries\n",
      "Starting URL reconstruction...\n"
     ]
    },
    {
     "name": "stderr",
     "output_type": "stream",
     "text": [
      "Processing URLs:  39%|███▉      | 161/412 [13:05<26:40,  6.37s/it, Current URL: https://www.eversports.de/s/schönheitstanz-studio]"
     ]
    },
    {
     "name": "stdout",
     "output_type": "stream",
     "text": [
      "Error during HTTP request: Exceeded 30 redirects.\n",
      "Converting to DataFrame...\n",
      "Validating URLs...\n",
      "Processing completed.\n",
      "Starting URL reconstruction...\n"
     ]
    },
    {
     "name": "stderr",
     "output_type": "stream",
     "text": [
      "Processing URLs:  39%|███▉      | 162/412 [13:06<20:06,  4.83s/it, Current URL: https://www.eversports.de/s/dance-in-the-city-remscheid]"
     ]
    },
    {
     "name": "stdout",
     "output_type": "stream",
     "text": [
      "Error during HTTP request: 404 Client Error: Not Found for url: https://www.eversports.de/s/dance-in-the-city-remscheid\n",
      "Converting to DataFrame...\n",
      "Validating URLs...\n",
      "Processing completed.\n",
      "Starting URL reconstruction...\n"
     ]
    },
    {
     "name": "stderr",
     "output_type": "stream",
     "text": [
      "2024-02-01 23:01:13,650 - INFO - Processing URL 1/4: https://www.eversports.de/s/flexx-arts-aerial-dance-and-fitness\n"
     ]
    },
    {
     "name": "stdout",
     "output_type": "stream",
     "text": [
      "Error reconstructing URL for 'Kurse': Unrecognized text: 'Kurse'\n",
      "Converting to DataFrame...\n",
      "Validating URLs...\n"
     ]
    },
    {
     "name": "stderr",
     "output_type": "stream",
     "text": [
      "2024-02-01 23:01:15,016 - INFO - URL https://www.eversports.de/s/flexx-arts-aerial-dance-and-fitness is valid.\n",
      "2024-02-01 23:01:15,017 - INFO - Processing URL 2/4: https://www.eversports.de/sw/flexx-arts-aerial-dance-and-fitness\n",
      "2024-02-01 23:01:16,183 - INFO - URL https://www.eversports.de/sw/flexx-arts-aerial-dance-and-fitness is valid.\n",
      "2024-02-01 23:01:16,184 - INFO - Processing URL 3/4: https://www.eversports.de/sp/flexx-arts-aerial-dance-and-fitness\n",
      "2024-02-01 23:01:17,347 - INFO - URL https://www.eversports.de/sp/flexx-arts-aerial-dance-and-fitness is valid.\n",
      "2024-02-01 23:01:17,349 - INFO - Processing URL 4/4: https://www.eversports.de/s/flexx-arts-aerial-dance-and-fitness/team\n",
      "2024-02-01 23:01:18,540 - INFO - URL https://www.eversports.de/s/flexx-arts-aerial-dance-and-fitness/team is valid.\n"
     ]
    },
    {
     "name": "stdout",
     "output_type": "stream",
     "text": [
      "Scraping Pole Studio Data from https://www.eversports.de/s/flexx-arts-aerial-dance-and-fitness...\n",
      "Scraping Workshops Data from https://www.eversports.de/sw/flexx-arts-aerial-dance-and-fitness...\n",
      "Scraping Workshop Details from https://www.eversports.de/e/workshop/nCNxtqP...\n",
      "Scraping Workshop Details from https://www.eversports.de/e/workshop/_EBraSK...\n"
     ]
    },
    {
     "name": "stderr",
     "output_type": "stream",
     "text": [
      "Processing URLs:  40%|███▉      | 163/412 [13:16<27:11,  6.55s/it, Current URL: https://www.eversports.de/s/flexx-arts-aerial-dance-and-fitness]"
     ]
    },
    {
     "name": "stdout",
     "output_type": "stream",
     "text": [
      "Processing completed.\n",
      "Pole Studio Data: 1 entries\n",
      "Workshops Data: 2 entries\n",
      "Workshop Details: 2 entries\n",
      "Starting URL reconstruction...\n"
     ]
    },
    {
     "name": "stderr",
     "output_type": "stream",
     "text": [
      "Processing URLs:  40%|███▉      | 164/412 [13:17<20:14,  4.90s/it, Current URL: https://www.eversports.de/s/poledance!-aerial-%26-fitness-kiel] "
     ]
    },
    {
     "name": "stdout",
     "output_type": "stream",
     "text": [
      "Error during HTTP request: 404 Client Error: Not Found for url: https://www.eversports.de/s/poledance!-aerial-%26-fitness-kiel\n",
      "Converting to DataFrame...\n",
      "Validating URLs...\n",
      "Processing completed.\n",
      "Starting URL reconstruction...\n"
     ]
    },
    {
     "name": "stderr",
     "output_type": "stream",
     "text": [
      "2024-02-01 23:01:25,406 - INFO - Processing URL 1/3: https://www.eversports.de/s/the-supergirl-studio\n"
     ]
    },
    {
     "name": "stdout",
     "output_type": "stream",
     "text": [
      "Converting to DataFrame...\n",
      "Validating URLs...\n"
     ]
    },
    {
     "name": "stderr",
     "output_type": "stream",
     "text": [
      "2024-02-01 23:01:26,793 - INFO - URL https://www.eversports.de/s/the-supergirl-studio is valid.\n",
      "2024-02-01 23:01:26,794 - INFO - Processing URL 2/3: https://www.eversports.de/sp/the-supergirl-studio\n",
      "2024-02-01 23:01:28,398 - INFO - URL https://www.eversports.de/sp/the-supergirl-studio is valid.\n",
      "2024-02-01 23:01:28,399 - INFO - Processing URL 3/3: https://www.eversports.de/s/the-supergirl-studio/team\n",
      "2024-02-01 23:01:29,595 - INFO - URL https://www.eversports.de/s/the-supergirl-studio/team is valid.\n"
     ]
    },
    {
     "name": "stdout",
     "output_type": "stream",
     "text": [
      "Scraping Pole Studio Data from https://www.eversports.de/s/the-supergirl-studio...\n"
     ]
    },
    {
     "name": "stderr",
     "output_type": "stream",
     "text": [
      "Processing URLs:  40%|████      | 165/412 [13:24<21:38,  5.26s/it, Current URL: https://www.eversports.de/s/the-supergirl-studio]              "
     ]
    },
    {
     "name": "stdout",
     "output_type": "stream",
     "text": [
      "Processing completed.\n",
      "Pole Studio Data: 1 entries\n",
      "Starting URL reconstruction...\n"
     ]
    },
    {
     "name": "stderr",
     "output_type": "stream",
     "text": [
      "2024-02-01 23:01:31,473 - INFO - Processing URL 1/4: https://www.eversports.de/s/ramonas-tanzschmiede\n"
     ]
    },
    {
     "name": "stdout",
     "output_type": "stream",
     "text": [
      "Converting to DataFrame...\n",
      "Validating URLs...\n"
     ]
    },
    {
     "name": "stderr",
     "output_type": "stream",
     "text": [
      "2024-02-01 23:01:32,790 - INFO - URL https://www.eversports.de/s/ramonas-tanzschmiede is valid.\n",
      "2024-02-01 23:01:32,791 - INFO - Processing URL 2/4: https://www.eversports.de/sw/ramonas-tanzschmiede\n",
      "2024-02-01 23:01:33,889 - INFO - URL https://www.eversports.de/sw/ramonas-tanzschmiede is valid.\n",
      "2024-02-01 23:01:33,890 - INFO - Processing URL 3/4: https://www.eversports.de/sp/ramonas-tanzschmiede\n",
      "2024-02-01 23:01:35,403 - INFO - URL https://www.eversports.de/sp/ramonas-tanzschmiede is valid.\n",
      "2024-02-01 23:01:35,403 - INFO - Processing URL 4/4: https://www.eversports.de/s/ramonas-tanzschmiede/team\n",
      "2024-02-01 23:01:36,909 - INFO - URL https://www.eversports.de/s/ramonas-tanzschmiede/team is valid.\n"
     ]
    },
    {
     "name": "stdout",
     "output_type": "stream",
     "text": [
      "Scraping Pole Studio Data from https://www.eversports.de/s/ramonas-tanzschmiede...\n",
      "Scraping Workshops Data from https://www.eversports.de/sw/ramonas-tanzschmiede...\n",
      "Scraping Workshop Details from https://www.eversports.de/e/workshop/qpLF3tB...\n",
      "Scraping Workshop Details from https://www.eversports.de/e/workshop/NUbP_o2...\n",
      "Scraping Workshop Details from https://www.eversports.de/e/workshop/h6T780l...\n",
      "Scraping Workshop Details from https://www.eversports.de/e/workshop/HZmJGaW...\n"
     ]
    },
    {
     "name": "stderr",
     "output_type": "stream",
     "text": [
      "Processing URLs:  40%|████      | 166/412 [13:38<32:40,  7.97s/it, Current URL: https://www.eversports.de/s/ramonas-tanzschmiede]"
     ]
    },
    {
     "name": "stdout",
     "output_type": "stream",
     "text": [
      "Processing completed.\n",
      "Pole Studio Data: 1 entries\n",
      "Workshops Data: 4 entries\n",
      "Workshop Details: 4 entries\n",
      "Starting URL reconstruction...\n"
     ]
    },
    {
     "name": "stderr",
     "output_type": "stream",
     "text": [
      "Processing URLs:  41%|████      | 167/412 [13:41<26:47,  6.56s/it, Current URL: https://www.eversports.de/s/bodysoul-studio-d%c3%bcsseldorf]"
     ]
    },
    {
     "name": "stdout",
     "output_type": "stream",
     "text": [
      "Error during HTTP request: Exceeded 30 redirects.\n",
      "Converting to DataFrame...\n",
      "Validating URLs...\n",
      "Processing completed.\n",
      "Starting URL reconstruction...\n"
     ]
    },
    {
     "name": "stderr",
     "output_type": "stream",
     "text": [
      "2024-02-01 23:01:50,338 - INFO - Processing URL 1/4: https://www.eversports.de/s/aerialflow\n"
     ]
    },
    {
     "name": "stdout",
     "output_type": "stream",
     "text": [
      "Error reconstructing URL for 'Trainings': Unrecognized text: 'Trainings'\n",
      "Error reconstructing URL for 'Kurse': Unrecognized text: 'Kurse'\n",
      "Converting to DataFrame...\n",
      "Validating URLs...\n"
     ]
    },
    {
     "name": "stderr",
     "output_type": "stream",
     "text": [
      "2024-02-01 23:01:51,930 - INFO - URL https://www.eversports.de/s/aerialflow is valid.\n",
      "2024-02-01 23:01:51,931 - INFO - Processing URL 2/4: https://www.eversports.de/sw/aerialflow\n",
      "2024-02-01 23:01:53,086 - INFO - URL https://www.eversports.de/sw/aerialflow is valid.\n",
      "2024-02-01 23:01:53,087 - INFO - Processing URL 3/4: https://www.eversports.de/sp/aerialflow\n",
      "2024-02-01 23:01:54,281 - INFO - URL https://www.eversports.de/sp/aerialflow is valid.\n",
      "2024-02-01 23:01:54,283 - INFO - Processing URL 4/4: https://www.eversports.de/s/aerialflow/team\n",
      "2024-02-01 23:01:55,575 - INFO - URL https://www.eversports.de/s/aerialflow/team is valid.\n"
     ]
    },
    {
     "name": "stdout",
     "output_type": "stream",
     "text": [
      "Scraping Pole Studio Data from https://www.eversports.de/s/aerialflow...\n",
      "Scraping Workshops Data from https://www.eversports.de/sw/aerialflow...\n",
      "Scraping Workshop Details from https://www.eversports.de/e/workshop/OQN28ZD...\n"
     ]
    },
    {
     "name": "stderr",
     "output_type": "stream",
     "text": [
      "Processing URLs:  41%|████      | 168/412 [13:53<33:15,  8.18s/it, Current URL: https://www.eversports.de/s/aerialflow]                     "
     ]
    },
    {
     "name": "stdout",
     "output_type": "stream",
     "text": [
      "Processing completed.\n",
      "Pole Studio Data: 1 entries\n",
      "Workshops Data: 1 entries\n",
      "Workshop Details: 1 entries\n",
      "Starting URL reconstruction...\n"
     ]
    },
    {
     "name": "stderr",
     "output_type": "stream",
     "text": [
      "Processing URLs:  41%|████      | 169/412 [13:54<24:36,  6.08s/it, Current URL: https://www.eversports.de/s/pole-dance-hechingen]"
     ]
    },
    {
     "name": "stdout",
     "output_type": "stream",
     "text": [
      "Error during HTTP request: 404 Client Error: Not Found for url: https://www.eversports.de/s/pole-dance-hechingen\n",
      "Converting to DataFrame...\n",
      "Validating URLs...\n",
      "Processing completed.\n",
      "Starting URL reconstruction...\n"
     ]
    },
    {
     "name": "stderr",
     "output_type": "stream",
     "text": [
      "Processing URLs:  41%|████▏     | 170/412 [13:55<18:28,  4.58s/it, Current URL: https://www.eversports.de/s/dance-&-pole-leverkusen]"
     ]
    },
    {
     "name": "stdout",
     "output_type": "stream",
     "text": [
      "Error during HTTP request: 404 Client Error: Not Found for url: https://www.eversports.de/s/dance-&-pole-leverkusen\n",
      "Converting to DataFrame...\n",
      "Validating URLs...\n",
      "Processing completed.\n",
      "Starting URL reconstruction...\n"
     ]
    },
    {
     "name": "stderr",
     "output_type": "stream",
     "text": [
      "Processing URLs:  42%|████▏     | 171/412 [14:00<18:55,  4.71s/it, Current URL: https://www.eversports.de/s/bodysoul-studio-düsseldorf]"
     ]
    },
    {
     "name": "stdout",
     "output_type": "stream",
     "text": [
      "Error during HTTP request: Exceeded 30 redirects.\n",
      "Converting to DataFrame...\n",
      "Validating URLs...\n",
      "Processing completed.\n",
      "Starting URL reconstruction...\n"
     ]
    },
    {
     "name": "stderr",
     "output_type": "stream",
     "text": [
      "Processing URLs:  42%|████▏     | 172/412 [14:02<14:33,  3.64s/it, Current URL: https://www.eversports.de/s/pole-faction--pole-dance-&-fitness]"
     ]
    },
    {
     "name": "stdout",
     "output_type": "stream",
     "text": [
      "Error during HTTP request: 404 Client Error: Not Found for url: https://www.eversports.de/s/pole-faction--pole-dance-&-fitness\n",
      "Converting to DataFrame...\n",
      "Validating URLs...\n",
      "Processing completed.\n",
      "Starting URL reconstruction...\n"
     ]
    },
    {
     "name": "stderr",
     "output_type": "stream",
     "text": [
      "2024-02-01 23:02:09,224 - INFO - Processing URL 1/1: https://www.eversports.de/s/kaifu-lodge\n"
     ]
    },
    {
     "name": "stdout",
     "output_type": "stream",
     "text": [
      "Converting to DataFrame...\n",
      "Validating URLs...\n"
     ]
    },
    {
     "name": "stderr",
     "output_type": "stream",
     "text": [
      "2024-02-01 23:02:10,401 - INFO - URL https://www.eversports.de/s/kaifu-lodge is valid.\n"
     ]
    },
    {
     "name": "stdout",
     "output_type": "stream",
     "text": [
      "Scraping Pole Studio Data from https://www.eversports.de/s/kaifu-lodge...\n"
     ]
    },
    {
     "name": "stderr",
     "output_type": "stream",
     "text": [
      "Processing URLs:  42%|████▏     | 173/412 [14:05<14:13,  3.57s/it, Current URL: https://www.eversports.de/s/kaifu-lodge]                       "
     ]
    },
    {
     "name": "stdout",
     "output_type": "stream",
     "text": [
      "Processing completed.\n",
      "Pole Studio Data: 1 entries\n",
      "Starting URL reconstruction...\n"
     ]
    },
    {
     "name": "stderr",
     "output_type": "stream",
     "text": [
      "2024-02-01 23:02:12,772 - INFO - Processing URL 1/3: https://www.eversports.de/s/infinity-polesports\n"
     ]
    },
    {
     "name": "stdout",
     "output_type": "stream",
     "text": [
      "Converting to DataFrame...\n",
      "Validating URLs...\n"
     ]
    },
    {
     "name": "stderr",
     "output_type": "stream",
     "text": [
      "2024-02-01 23:02:14,031 - INFO - URL https://www.eversports.de/s/infinity-polesports is valid.\n",
      "2024-02-01 23:02:14,032 - INFO - Processing URL 2/3: https://www.eversports.de/sp/infinity-polesports\n",
      "2024-02-01 23:02:15,217 - INFO - URL https://www.eversports.de/sp/infinity-polesports is valid.\n",
      "2024-02-01 23:02:15,218 - INFO - Processing URL 3/3: https://www.eversports.de/s/infinity-polesports/team\n",
      "2024-02-01 23:02:16,378 - INFO - URL https://www.eversports.de/s/infinity-polesports/team is valid.\n"
     ]
    },
    {
     "name": "stdout",
     "output_type": "stream",
     "text": [
      "Scraping Pole Studio Data from https://www.eversports.de/s/infinity-polesports...\n"
     ]
    },
    {
     "name": "stderr",
     "output_type": "stream",
     "text": [
      "Processing URLs:  42%|████▏     | 174/412 [14:10<16:31,  4.16s/it, Current URL: https://www.eversports.de/s/infinity-polesports]"
     ]
    },
    {
     "name": "stdout",
     "output_type": "stream",
     "text": [
      "Processing completed.\n",
      "Pole Studio Data: 1 entries\n",
      "Starting URL reconstruction...\n"
     ]
    },
    {
     "name": "stderr",
     "output_type": "stream",
     "text": [
      "Processing URLs:  42%|████▏     | 175/412 [14:12<12:57,  3.28s/it, Current URL: https://www.eversports.de/s/moving-art-studios] "
     ]
    },
    {
     "name": "stdout",
     "output_type": "stream",
     "text": [
      "Error during HTTP request: 404 Client Error: Not Found for url: https://www.eversports.de/s/moving-art-studios\n",
      "Converting to DataFrame...\n",
      "Validating URLs...\n",
      "Processing completed.\n",
      "Starting URL reconstruction...\n"
     ]
    },
    {
     "name": "stderr",
     "output_type": "stream",
     "text": [
      "Processing URLs:  43%|████▎     | 176/412 [14:13<10:22,  2.64s/it, Current URL: https://www.eversports.de/s/polesports-studio-bremen]"
     ]
    },
    {
     "name": "stdout",
     "output_type": "stream",
     "text": [
      "Error during HTTP request: 404 Client Error: Not Found for url: https://www.eversports.de/s/polesports-studio-bremen\n",
      "Converting to DataFrame...\n",
      "Validating URLs...\n",
      "Processing completed.\n",
      "Starting URL reconstruction...\n"
     ]
    },
    {
     "name": "stderr",
     "output_type": "stream",
     "text": [
      "2024-02-01 23:02:20,697 - INFO - Processing URL 1/4: https://www.eversports.de/s/studio-aeris\n"
     ]
    },
    {
     "name": "stdout",
     "output_type": "stream",
     "text": [
      "Error reconstructing URL for 'Kurse': Unrecognized text: 'Kurse'\n",
      "Converting to DataFrame...\n",
      "Validating URLs...\n"
     ]
    },
    {
     "name": "stderr",
     "output_type": "stream",
     "text": [
      "2024-02-01 23:02:22,071 - INFO - URL https://www.eversports.de/s/studio-aeris is valid.\n",
      "2024-02-01 23:02:22,072 - INFO - Processing URL 2/4: https://www.eversports.de/sw/studio-aeris\n",
      "2024-02-01 23:02:23,185 - INFO - URL https://www.eversports.de/sw/studio-aeris is not valid.\n",
      "2024-02-01 23:02:23,186 - INFO - Processing URL 3/4: https://www.eversports.de/sp/studio-aeris\n",
      "2024-02-01 23:02:24,306 - INFO - URL https://www.eversports.de/sp/studio-aeris is not valid.\n",
      "2024-02-01 23:02:24,308 - INFO - Processing URL 4/4: https://www.eversports.de/s/studio-aeris/team\n",
      "2024-02-01 23:02:25,513 - INFO - URL https://www.eversports.de/s/studio-aeris/team is valid.\n"
     ]
    },
    {
     "name": "stdout",
     "output_type": "stream",
     "text": [
      "Scraping Pole Studio Data from https://www.eversports.de/s/studio-aeris...\n"
     ]
    },
    {
     "name": "stderr",
     "output_type": "stream",
     "text": [
      "Processing URLs:  43%|████▎     | 177/412 [14:19<14:58,  3.82s/it, Current URL: https://www.eversports.de/s/studio-aeris]            "
     ]
    },
    {
     "name": "stdout",
     "output_type": "stream",
     "text": [
      "Processing completed.\n",
      "Pole Studio Data: 1 entries\n",
      "Starting URL reconstruction...\n"
     ]
    },
    {
     "name": "stderr",
     "output_type": "stream",
     "text": [
      "Processing URLs:  43%|████▎     | 178/412 [14:20<11:39,  2.99s/it, Current URL: https://www.eversports.de/s/move-lounge---pilates,-powerplate,-trx,-personaltraining]"
     ]
    },
    {
     "name": "stdout",
     "output_type": "stream",
     "text": [
      "Error during HTTP request: 404 Client Error: Not Found for url: https://www.eversports.de/s/move-lounge---pilates,-powerplate,-trx,-personaltraining\n",
      "Converting to DataFrame...\n",
      "Validating URLs...\n",
      "Processing completed.\n",
      "Starting URL reconstruction...\n"
     ]
    },
    {
     "name": "stderr",
     "output_type": "stream",
     "text": [
      "2024-02-01 23:02:28,249 - INFO - Processing URL 1/3: https://www.eversports.de/s/bodysoul-studio-duesseldorf\n"
     ]
    },
    {
     "name": "stdout",
     "output_type": "stream",
     "text": [
      "Converting to DataFrame...\n",
      "Validating URLs...\n"
     ]
    },
    {
     "name": "stderr",
     "output_type": "stream",
     "text": [
      "2024-02-01 23:02:30,263 - INFO - URL https://www.eversports.de/s/bodysoul-studio-duesseldorf is valid.\n",
      "2024-02-01 23:02:30,264 - INFO - Processing URL 2/3: https://www.eversports.de/sp/bodysoul-studio-duesseldorf\n",
      "2024-02-01 23:02:31,368 - INFO - URL https://www.eversports.de/sp/bodysoul-studio-duesseldorf is valid.\n",
      "2024-02-01 23:02:31,369 - INFO - Processing URL 3/3: https://www.eversports.de/s/bodysoul-studio-duesseldorf/team\n",
      "2024-02-01 23:02:32,628 - INFO - URL https://www.eversports.de/s/bodysoul-studio-duesseldorf/team is valid.\n"
     ]
    },
    {
     "name": "stdout",
     "output_type": "stream",
     "text": [
      "Scraping Pole Studio Data from https://www.eversports.de/s/bodysoul-studio-duesseldorf...\n"
     ]
    },
    {
     "name": "stderr",
     "output_type": "stream",
     "text": [
      "Processing URLs:  43%|████▎     | 179/412 [14:27<15:41,  4.04s/it, Current URL: https://www.eversports.de/s/bodysoul-studio-duesseldorf]                             "
     ]
    },
    {
     "name": "stdout",
     "output_type": "stream",
     "text": [
      "Processing completed.\n",
      "Pole Studio Data: 1 entries\n",
      "Starting URL reconstruction...\n"
     ]
    },
    {
     "name": "stderr",
     "output_type": "stream",
     "text": [
      "2024-02-01 23:02:34,680 - INFO - Processing URL 1/1: https://www.eversports.de/s/poledance-area\n"
     ]
    },
    {
     "name": "stdout",
     "output_type": "stream",
     "text": [
      "Converting to DataFrame...\n",
      "Validating URLs...\n"
     ]
    },
    {
     "name": "stderr",
     "output_type": "stream",
     "text": [
      "2024-02-01 23:02:35,856 - INFO - URL https://www.eversports.de/s/poledance-area is valid.\n"
     ]
    },
    {
     "name": "stdout",
     "output_type": "stream",
     "text": [
      "Scraping Pole Studio Data from https://www.eversports.de/s/poledance-area...\n"
     ]
    },
    {
     "name": "stderr",
     "output_type": "stream",
     "text": [
      "Processing URLs:  44%|████▎     | 180/412 [14:30<14:00,  3.62s/it, Current URL: https://www.eversports.de/s/poledance-area]             "
     ]
    },
    {
     "name": "stdout",
     "output_type": "stream",
     "text": [
      "Processing completed.\n",
      "Pole Studio Data: 1 entries\n",
      "Starting URL reconstruction...\n"
     ]
    },
    {
     "name": "stderr",
     "output_type": "stream",
     "text": [
      "2024-02-01 23:02:37,462 - INFO - Processing URL 1/3: https://www.eversports.de/s/calipso-studio\n"
     ]
    },
    {
     "name": "stdout",
     "output_type": "stream",
     "text": [
      "Error reconstructing URL for 'Kurse': Unrecognized text: 'Kurse'\n",
      "Converting to DataFrame...\n",
      "Validating URLs...\n"
     ]
    },
    {
     "name": "stderr",
     "output_type": "stream",
     "text": [
      "2024-02-01 23:02:38,783 - INFO - URL https://www.eversports.de/s/calipso-studio is valid.\n",
      "2024-02-01 23:02:38,784 - INFO - Processing URL 2/3: https://www.eversports.de/sp/calipso-studio\n",
      "2024-02-01 23:02:39,934 - INFO - URL https://www.eversports.de/sp/calipso-studio is not valid.\n",
      "2024-02-01 23:02:39,934 - INFO - Processing URL 3/3: https://www.eversports.de/s/calipso-studio/team\n",
      "2024-02-01 23:02:41,120 - INFO - URL https://www.eversports.de/s/calipso-studio/team is valid.\n"
     ]
    },
    {
     "name": "stdout",
     "output_type": "stream",
     "text": [
      "Scraping Pole Studio Data from https://www.eversports.de/s/calipso-studio...\n"
     ]
    },
    {
     "name": "stderr",
     "output_type": "stream",
     "text": [
      "Processing URLs:  44%|████▍     | 181/412 [14:35<16:05,  4.18s/it, Current URL: https://www.eversports.de/s/calipso-studio]"
     ]
    },
    {
     "name": "stdout",
     "output_type": "stream",
     "text": [
      "Processing completed.\n",
      "Pole Studio Data: 1 entries\n",
      "Starting URL reconstruction...\n"
     ]
    },
    {
     "name": "stderr",
     "output_type": "stream",
     "text": [
      "Processing URLs:  44%|████▍     | 182/412 [14:36<12:29,  3.26s/it, Current URL: https://www.eversports.de/s/crazysports-augsburg]"
     ]
    },
    {
     "name": "stdout",
     "output_type": "stream",
     "text": [
      "Error during HTTP request: 404 Client Error: Not Found for url: https://www.eversports.de/s/crazysports-augsburg\n",
      "Converting to DataFrame...\n",
      "Validating URLs...\n",
      "Processing completed.\n",
      "Starting URL reconstruction...\n"
     ]
    },
    {
     "name": "stderr",
     "output_type": "stream",
     "text": [
      "Processing URLs:  44%|████▍     | 183/412 [14:37<10:03,  2.63s/it, Current URL: https://www.eversports.de/s/slow-motion]         "
     ]
    },
    {
     "name": "stdout",
     "output_type": "stream",
     "text": [
      "Error during HTTP request: 404 Client Error: Not Found for url: https://www.eversports.de/s/slow-motion\n",
      "Converting to DataFrame...\n",
      "Validating URLs...\n",
      "Processing completed.\n",
      "Starting URL reconstruction...\n"
     ]
    },
    {
     "name": "stderr",
     "output_type": "stream",
     "text": [
      "Processing URLs:  45%|████▍     | 184/412 [14:38<08:10,  2.15s/it, Current URL: https://www.eversports.de/s/yh-pole-(and)-sports-berlin]"
     ]
    },
    {
     "name": "stdout",
     "output_type": "stream",
     "text": [
      "Error during HTTP request: 404 Client Error: Not Found for url: https://www.eversports.de/s/yh-pole-(and)-sports-berlin\n",
      "Converting to DataFrame...\n",
      "Validating URLs...\n",
      "Processing completed.\n",
      "Starting URL reconstruction...\n"
     ]
    },
    {
     "name": "stderr",
     "output_type": "stream",
     "text": [
      "Processing URLs:  45%|████▍     | 185/412 [14:40<07:54,  2.09s/it, Current URL: https://www.eversports.de/s/vertical--pole-aerial-dance]"
     ]
    },
    {
     "name": "stdout",
     "output_type": "stream",
     "text": [
      "Error during HTTP request: 404 Client Error: Not Found for url: https://www.eversports.de/s/vertical--pole-aerial-dance\n",
      "Converting to DataFrame...\n",
      "Validating URLs...\n",
      "Processing completed.\n",
      "Starting URL reconstruction...\n"
     ]
    },
    {
     "name": "stderr",
     "output_type": "stream",
     "text": [
      "2024-02-01 23:02:48,102 - INFO - Processing URL 1/3: https://www.eversports.de/s/dance-and-pole-langenfeld\n"
     ]
    },
    {
     "name": "stdout",
     "output_type": "stream",
     "text": [
      "Converting to DataFrame...\n",
      "Validating URLs...\n"
     ]
    },
    {
     "name": "stderr",
     "output_type": "stream",
     "text": [
      "2024-02-01 23:02:49,333 - INFO - URL https://www.eversports.de/s/dance-and-pole-langenfeld is valid.\n",
      "2024-02-01 23:02:49,334 - INFO - Processing URL 2/3: https://www.eversports.de/sp/dance-and-pole-langenfeld\n",
      "2024-02-01 23:02:50,567 - INFO - URL https://www.eversports.de/sp/dance-and-pole-langenfeld is valid.\n",
      "2024-02-01 23:02:50,568 - INFO - Processing URL 3/3: https://www.eversports.de/s/dance-and-pole-langenfeld/team\n",
      "2024-02-01 23:02:51,848 - INFO - URL https://www.eversports.de/s/dance-and-pole-langenfeld/team is valid.\n"
     ]
    },
    {
     "name": "stdout",
     "output_type": "stream",
     "text": [
      "Scraping Pole Studio Data from https://www.eversports.de/s/dance-and-pole-langenfeld...\n"
     ]
    },
    {
     "name": "stderr",
     "output_type": "stream",
     "text": [
      "Processing URLs:  45%|████▌     | 186/412 [14:46<11:31,  3.06s/it, Current URL: https://www.eversports.de/s/dance-and-pole-langenfeld]  "
     ]
    },
    {
     "name": "stdout",
     "output_type": "stream",
     "text": [
      "Processing completed.\n",
      "Pole Studio Data: 1 entries\n",
      "Starting URL reconstruction...\n"
     ]
    },
    {
     "name": "stderr",
     "output_type": "stream",
     "text": [
      "Processing URLs:  45%|████▌     | 187/412 [14:47<09:19,  2.49s/it, Current URL: https://www.eversports.de/s/crazypole-dresden]        "
     ]
    },
    {
     "name": "stdout",
     "output_type": "stream",
     "text": [
      "Error during HTTP request: 404 Client Error: Not Found for url: https://www.eversports.de/s/crazypole-dresden\n",
      "Converting to DataFrame...\n",
      "Validating URLs...\n",
      "Processing completed.\n",
      "Starting URL reconstruction...\n"
     ]
    },
    {
     "name": "stderr",
     "output_type": "stream",
     "text": [
      "2024-02-01 23:02:54,656 - INFO - Processing URL 1/4: https://www.eversports.de/s/polefriends-halle\n"
     ]
    },
    {
     "name": "stdout",
     "output_type": "stream",
     "text": [
      "Converting to DataFrame...\n",
      "Validating URLs...\n"
     ]
    },
    {
     "name": "stderr",
     "output_type": "stream",
     "text": [
      "2024-02-01 23:02:56,063 - INFO - URL https://www.eversports.de/s/polefriends-halle is valid.\n",
      "2024-02-01 23:02:56,065 - INFO - Processing URL 2/4: https://www.eversports.de/sw/polefriends-halle\n",
      "2024-02-01 23:02:57,166 - INFO - URL https://www.eversports.de/sw/polefriends-halle is valid.\n",
      "2024-02-01 23:02:57,167 - INFO - Processing URL 3/4: https://www.eversports.de/sp/polefriends-halle\n",
      "2024-02-01 23:02:58,371 - INFO - URL https://www.eversports.de/sp/polefriends-halle is valid.\n",
      "2024-02-01 23:02:58,372 - INFO - Processing URL 4/4: https://www.eversports.de/s/polefriends-halle/team\n",
      "2024-02-01 23:02:59,565 - INFO - URL https://www.eversports.de/s/polefriends-halle/team is valid.\n"
     ]
    },
    {
     "name": "stdout",
     "output_type": "stream",
     "text": [
      "Scraping Pole Studio Data from https://www.eversports.de/s/polefriends-halle...\n",
      "Scraping Workshops Data from https://www.eversports.de/sw/polefriends-halle...\n",
      "Scraping Workshop Details from https://www.eversports.de/e/workshop/NMiVGZD...\n"
     ]
    },
    {
     "name": "stderr",
     "output_type": "stream",
     "text": [
      "Processing URLs:  46%|████▌     | 188/412 [14:56<16:34,  4.44s/it, Current URL: https://www.eversports.de/s/polefriends-halle]"
     ]
    },
    {
     "name": "stdout",
     "output_type": "stream",
     "text": [
      "Processing completed.\n",
      "Pole Studio Data: 1 entries\n",
      "Workshops Data: 1 entries\n",
      "Workshop Details: 1 entries\n",
      "Starting URL reconstruction...\n"
     ]
    },
    {
     "name": "stderr",
     "output_type": "stream",
     "text": [
      "Processing URLs:  46%|████▌     | 189/412 [14:57<12:52,  3.47s/it, Current URL: https://www.eversports.de/s/vertical---pole-aerial-dance]"
     ]
    },
    {
     "name": "stdout",
     "output_type": "stream",
     "text": [
      "Error during HTTP request: 404 Client Error: Not Found for url: https://www.eversports.de/s/vertical---pole-aerial-dance\n",
      "Converting to DataFrame...\n",
      "Validating URLs...\n",
      "Processing completed.\n",
      "Starting URL reconstruction...\n"
     ]
    },
    {
     "name": "stderr",
     "output_type": "stream",
     "text": [
      "Processing URLs:  46%|████▌     | 190/412 [14:58<10:22,  2.80s/it, Current URL: https://www.eversports.de/s/pole-dance-stuttgart]        "
     ]
    },
    {
     "name": "stdout",
     "output_type": "stream",
     "text": [
      "Error during HTTP request: 404 Client Error: Not Found for url: https://www.eversports.de/s/pole-dance-stuttgart\n",
      "Converting to DataFrame...\n",
      "Validating URLs...\n",
      "Processing completed.\n",
      "Starting URL reconstruction...\n"
     ]
    },
    {
     "name": "stderr",
     "output_type": "stream",
     "text": [
      "Processing URLs:  46%|████▋     | 191/412 [15:03<12:34,  3.41s/it, Current URL: https://www.eversports.de/s/t-tanzst%c3%bcck-wolfsburg]"
     ]
    },
    {
     "name": "stdout",
     "output_type": "stream",
     "text": [
      "Error during HTTP request: Exceeded 30 redirects.\n",
      "Converting to DataFrame...\n",
      "Validating URLs...\n",
      "Processing completed.\n",
      "Starting URL reconstruction...\n"
     ]
    },
    {
     "name": "stderr",
     "output_type": "stream",
     "text": [
      "Processing URLs:  47%|████▋     | 192/412 [15:04<10:01,  2.74s/it, Current URL: https://www.eversports.de/s/polefitness-premium]       "
     ]
    },
    {
     "name": "stdout",
     "output_type": "stream",
     "text": [
      "Error during HTTP request: 404 Client Error: Not Found for url: https://www.eversports.de/s/polefitness-premium\n",
      "Converting to DataFrame...\n",
      "Validating URLs...\n",
      "Processing completed.\n",
      "Starting URL reconstruction...\n"
     ]
    },
    {
     "name": "stderr",
     "output_type": "stream",
     "text": [
      "Processing URLs:  47%|████▋     | 193/412 [15:05<08:12,  2.25s/it, Current URL: https://www.eversports.de/s/lioness-lodge]      "
     ]
    },
    {
     "name": "stdout",
     "output_type": "stream",
     "text": [
      "Error during HTTP request: 404 Client Error: Not Found for url: https://www.eversports.de/s/lioness-lodge\n",
      "Converting to DataFrame...\n",
      "Validating URLs...\n",
      "Processing completed.\n",
      "Starting URL reconstruction...\n"
     ]
    },
    {
     "name": "stderr",
     "output_type": "stream",
     "text": [
      "2024-02-01 23:03:13,102 - INFO - Processing URL 1/1: https://www.eversports.de/s/pure-body-concepts\n"
     ]
    },
    {
     "name": "stdout",
     "output_type": "stream",
     "text": [
      "Converting to DataFrame...\n",
      "Validating URLs...\n"
     ]
    },
    {
     "name": "stderr",
     "output_type": "stream",
     "text": [
      "2024-02-01 23:03:15,733 - INFO - URL https://www.eversports.de/s/pure-body-concepts is valid.\n"
     ]
    },
    {
     "name": "stdout",
     "output_type": "stream",
     "text": [
      "Scraping Pole Studio Data from https://www.eversports.de/s/pure-body-concepts...\n"
     ]
    },
    {
     "name": "stderr",
     "output_type": "stream",
     "text": [
      "Processing URLs:  47%|████▋     | 194/412 [15:10<10:18,  2.84s/it, Current URL: https://www.eversports.de/s/pure-body-concepts]"
     ]
    },
    {
     "name": "stdout",
     "output_type": "stream",
     "text": [
      "Processing completed.\n",
      "Pole Studio Data: 1 entries\n",
      "Starting URL reconstruction...\n"
     ]
    },
    {
     "name": "stderr",
     "output_type": "stream",
     "text": [
      "Processing URLs:  47%|████▋     | 195/412 [15:11<08:18,  2.30s/it, Current URL: https://www.eversports.de/s/dayuma---pole-&-acrobatics]"
     ]
    },
    {
     "name": "stdout",
     "output_type": "stream",
     "text": [
      "Error during HTTP request: 404 Client Error: Not Found for url: https://www.eversports.de/s/dayuma---pole-&-acrobatics\n",
      "Converting to DataFrame...\n",
      "Validating URLs...\n",
      "Processing completed.\n",
      "Starting URL reconstruction...\n"
     ]
    },
    {
     "name": "stderr",
     "output_type": "stream",
     "text": [
      "Processing URLs:  48%|████▊     | 196/412 [15:12<07:01,  1.95s/it, Current URL: https://www.eversports.de/s/empire-pole]               "
     ]
    },
    {
     "name": "stdout",
     "output_type": "stream",
     "text": [
      "Error during HTTP request: 404 Client Error: Not Found for url: https://www.eversports.de/s/empire-pole\n",
      "Converting to DataFrame...\n",
      "Validating URLs...\n",
      "Processing completed.\n",
      "Starting URL reconstruction...\n"
     ]
    },
    {
     "name": "stderr",
     "output_type": "stream",
     "text": [
      "2024-02-01 23:03:19,598 - INFO - Processing URL 1/4: https://www.eversports.de/s/pole-faction-rhein-neckar\n"
     ]
    },
    {
     "name": "stdout",
     "output_type": "stream",
     "text": [
      "Converting to DataFrame...\n",
      "Validating URLs...\n"
     ]
    },
    {
     "name": "stderr",
     "output_type": "stream",
     "text": [
      "2024-02-01 23:03:20,906 - INFO - URL https://www.eversports.de/s/pole-faction-rhein-neckar is valid.\n",
      "2024-02-01 23:03:20,907 - INFO - Processing URL 2/4: https://www.eversports.de/sw/pole-faction-rhein-neckar\n",
      "2024-02-01 23:03:22,115 - INFO - URL https://www.eversports.de/sw/pole-faction-rhein-neckar is valid.\n",
      "2024-02-01 23:03:22,115 - INFO - Processing URL 3/4: https://www.eversports.de/sp/pole-faction-rhein-neckar\n",
      "2024-02-01 23:03:23,217 - INFO - URL https://www.eversports.de/sp/pole-faction-rhein-neckar is valid.\n",
      "2024-02-01 23:03:23,218 - INFO - Processing URL 4/4: https://www.eversports.de/s/pole-faction-rhein-neckar/team\n",
      "2024-02-01 23:03:24,421 - INFO - URL https://www.eversports.de/s/pole-faction-rhein-neckar/team is valid.\n"
     ]
    },
    {
     "name": "stdout",
     "output_type": "stream",
     "text": [
      "Scraping Pole Studio Data from https://www.eversports.de/s/pole-faction-rhein-neckar...\n",
      "Scraping Workshops Data from https://www.eversports.de/sw/pole-faction-rhein-neckar...\n",
      "Scraping Workshop Details from https://www.eversports.de/e/workshop/ykldhbJ...\n",
      "Scraping Workshop Details from https://www.eversports.de/e/workshop/PETMN6i...\n",
      "Scraping Workshop Details from https://www.eversports.de/e/workshop/VtQCbbh...\n"
     ]
    },
    {
     "name": "stderr",
     "output_type": "stream",
     "text": [
      "Processing URLs:  48%|████▊     | 197/412 [15:23<17:18,  4.83s/it, Current URL: https://www.eversports.de/s/pole-faction-rhein-neckar]"
     ]
    },
    {
     "name": "stdout",
     "output_type": "stream",
     "text": [
      "Processing completed.\n",
      "Pole Studio Data: 1 entries\n",
      "Workshops Data: 3 entries\n",
      "Workshop Details: 3 entries\n",
      "Starting URL reconstruction...\n"
     ]
    },
    {
     "name": "stderr",
     "output_type": "stream",
     "text": [
      "2024-02-01 23:03:31,296 - INFO - Processing URL 1/4: https://www.eversports.de/s/pole-land\n"
     ]
    },
    {
     "name": "stdout",
     "output_type": "stream",
     "text": [
      "Error reconstructing URL for 'Events': Unrecognized text: 'Events'\n",
      "Converting to DataFrame...\n",
      "Validating URLs...\n"
     ]
    },
    {
     "name": "stderr",
     "output_type": "stream",
     "text": [
      "2024-02-01 23:03:33,955 - INFO - URL https://www.eversports.de/s/pole-land is valid.\n",
      "2024-02-01 23:03:33,956 - INFO - Processing URL 2/4: https://www.eversports.de/sw/pole-land\n",
      "2024-02-01 23:03:35,245 - INFO - URL https://www.eversports.de/sw/pole-land is valid.\n",
      "2024-02-01 23:03:35,246 - INFO - Processing URL 3/4: https://www.eversports.de/sp/pole-land\n",
      "2024-02-01 23:03:36,436 - INFO - URL https://www.eversports.de/sp/pole-land is valid.\n",
      "2024-02-01 23:03:36,437 - INFO - Processing URL 4/4: https://www.eversports.de/s/pole-land/team\n",
      "2024-02-01 23:03:37,650 - INFO - URL https://www.eversports.de/s/pole-land/team is valid.\n"
     ]
    },
    {
     "name": "stdout",
     "output_type": "stream",
     "text": [
      "Scraping Pole Studio Data from https://www.eversports.de/s/pole-land...\n",
      "Scraping Workshops Data from https://www.eversports.de/sw/pole-land...\n",
      "Scraping Workshop Details from https://www.eversports.de/e/workshop/ezegoNQ...\n",
      "Scraping Workshop Details from https://www.eversports.de/e/workshop/S8noX1Z...\n",
      "Scraping Workshop Details from https://www.eversports.de/e/workshop/SqEYfO3...\n",
      "Scraping Workshop Details from https://www.eversports.de/e/workshop/OGUBUS8...\n",
      "Scraping Workshop Details from https://www.eversports.de/e/workshop/VVXdiD8...\n"
     ]
    },
    {
     "name": "stderr",
     "output_type": "stream",
     "text": [
      "Processing URLs:  48%|████▊     | 198/412 [15:40<29:48,  8.36s/it, Current URL: https://www.eversports.de/s/pole-land]                "
     ]
    },
    {
     "name": "stdout",
     "output_type": "stream",
     "text": [
      "Processing completed.\n",
      "Pole Studio Data: 1 entries\n",
      "Workshops Data: 5 entries\n",
      "Workshop Details: 5 entries\n",
      "Starting URL reconstruction...\n"
     ]
    },
    {
     "name": "stderr",
     "output_type": "stream",
     "text": [
      "2024-02-01 23:03:47,679 - INFO - Processing URL 1/1: https://www.eversports.de/s/pole-heaven\n"
     ]
    },
    {
     "name": "stdout",
     "output_type": "stream",
     "text": [
      "Converting to DataFrame...\n",
      "Validating URLs...\n"
     ]
    },
    {
     "name": "stderr",
     "output_type": "stream",
     "text": [
      "2024-02-01 23:03:48,904 - INFO - URL https://www.eversports.de/s/pole-heaven is valid.\n"
     ]
    },
    {
     "name": "stdout",
     "output_type": "stream",
     "text": [
      "Scraping Pole Studio Data from https://www.eversports.de/s/pole-heaven...\n"
     ]
    },
    {
     "name": "stderr",
     "output_type": "stream",
     "text": [
      "Processing URLs:  48%|████▊     | 199/412 [15:43<23:57,  6.75s/it, Current URL: https://www.eversports.de/s/pole-heaven]"
     ]
    },
    {
     "name": "stdout",
     "output_type": "stream",
     "text": [
      "Processing completed.\n",
      "Pole Studio Data: 1 entries\n",
      "Starting URL reconstruction...\n"
     ]
    },
    {
     "name": "stderr",
     "output_type": "stream",
     "text": [
      "Processing URLs:  49%|████▊     | 200/412 [15:47<21:17,  6.03s/it, Current URL: https://www.eversports.de/s/crazypole%c2%ae]"
     ]
    },
    {
     "name": "stdout",
     "output_type": "stream",
     "text": [
      "Error during HTTP request: Exceeded 30 redirects.\n",
      "Converting to DataFrame...\n",
      "Validating URLs...\n",
      "Processing completed.\n",
      "Starting URL reconstruction...\n"
     ]
    },
    {
     "name": "stderr",
     "output_type": "stream",
     "text": [
      "2024-02-01 23:03:55,166 - INFO - Processing URL 1/4: https://www.eversports.de/s/pole-and-move-ketsch\n"
     ]
    },
    {
     "name": "stdout",
     "output_type": "stream",
     "text": [
      "Converting to DataFrame...\n",
      "Validating URLs...\n"
     ]
    },
    {
     "name": "stderr",
     "output_type": "stream",
     "text": [
      "2024-02-01 23:03:57,209 - INFO - URL https://www.eversports.de/s/pole-and-move-ketsch is valid.\n",
      "2024-02-01 23:03:57,210 - INFO - Processing URL 2/4: https://www.eversports.de/sw/pole-and-move-ketsch\n",
      "2024-02-01 23:03:58,376 - INFO - URL https://www.eversports.de/sw/pole-and-move-ketsch is valid.\n",
      "2024-02-01 23:03:58,377 - INFO - Processing URL 3/4: https://www.eversports.de/sp/pole-and-move-ketsch\n",
      "2024-02-01 23:03:59,531 - INFO - URL https://www.eversports.de/sp/pole-and-move-ketsch is valid.\n",
      "2024-02-01 23:03:59,532 - INFO - Processing URL 4/4: https://www.eversports.de/s/pole-and-move-ketsch/team\n",
      "2024-02-01 23:04:00,778 - INFO - URL https://www.eversports.de/s/pole-and-move-ketsch/team is valid.\n"
     ]
    },
    {
     "name": "stdout",
     "output_type": "stream",
     "text": [
      "Scraping Pole Studio Data from https://www.eversports.de/s/pole-and-move-ketsch...\n",
      "Scraping Workshops Data from https://www.eversports.de/sw/pole-and-move-ketsch...\n",
      "Scraping Workshop Details from https://www.eversports.de/e/workshop/nZwqDWw...\n",
      "Scraping Workshop Details from https://www.eversports.de/e/workshop/NCNYd8p...\n"
     ]
    },
    {
     "name": "stderr",
     "output_type": "stream",
     "text": [
      "Processing URLs:  49%|████▉     | 201/412 [15:59<27:03,  7.70s/it, Current URL: https://www.eversports.de/s/pole-and-move-ketsch]"
     ]
    },
    {
     "name": "stdout",
     "output_type": "stream",
     "text": [
      "Processing completed.\n",
      "Pole Studio Data: 1 entries\n",
      "Workshops Data: 2 entries\n",
      "Workshop Details: 2 entries\n",
      "Starting URL reconstruction...\n"
     ]
    },
    {
     "name": "stderr",
     "output_type": "stream",
     "text": [
      "2024-02-01 23:04:06,652 - INFO - Processing URL 1/1: https://www.eversports.de/s/pole-dance-palazzo-sportivo\n"
     ]
    },
    {
     "name": "stdout",
     "output_type": "stream",
     "text": [
      "Converting to DataFrame...\n",
      "Validating URLs...\n"
     ]
    },
    {
     "name": "stderr",
     "output_type": "stream",
     "text": [
      "2024-02-01 23:04:08,009 - INFO - URL https://www.eversports.de/s/pole-dance-palazzo-sportivo is valid.\n"
     ]
    },
    {
     "name": "stdout",
     "output_type": "stream",
     "text": [
      "Scraping Pole Studio Data from https://www.eversports.de/s/pole-dance-palazzo-sportivo...\n"
     ]
    },
    {
     "name": "stderr",
     "output_type": "stream",
     "text": [
      "Processing URLs:  49%|████▉     | 202/412 [16:02<22:01,  6.29s/it, Current URL: https://www.eversports.de/s/pole-dance-palazzo-sportivo]"
     ]
    },
    {
     "name": "stdout",
     "output_type": "stream",
     "text": [
      "Processing completed.\n",
      "Pole Studio Data: 1 entries\n",
      "Starting URL reconstruction...\n"
     ]
    },
    {
     "name": "stderr",
     "output_type": "stream",
     "text": [
      "Processing URLs:  49%|████▉     | 203/412 [16:03<16:26,  4.72s/it, Current URL: https://www.eversports.de/s/poledance!-aerial-%26-fitness-flensburg-wees]"
     ]
    },
    {
     "name": "stdout",
     "output_type": "stream",
     "text": [
      "Error during HTTP request: 404 Client Error: Not Found for url: https://www.eversports.de/s/poledance!-aerial-%26-fitness-flensburg-wees\n",
      "Converting to DataFrame...\n",
      "Validating URLs...\n",
      "Processing completed.\n",
      "Starting URL reconstruction...\n"
     ]
    },
    {
     "name": "stderr",
     "output_type": "stream",
     "text": [
      "2024-02-01 23:04:10,784 - INFO - Processing URL 1/3: https://www.eversports.de/s/pole-loft\n"
     ]
    },
    {
     "name": "stdout",
     "output_type": "stream",
     "text": [
      "Converting to DataFrame...\n",
      "Validating URLs...\n"
     ]
    },
    {
     "name": "stderr",
     "output_type": "stream",
     "text": [
      "2024-02-01 23:04:12,129 - INFO - URL https://www.eversports.de/s/pole-loft is valid.\n",
      "2024-02-01 23:04:12,130 - INFO - Processing URL 2/3: https://www.eversports.de/sp/pole-loft\n",
      "2024-02-01 23:04:13,321 - INFO - URL https://www.eversports.de/sp/pole-loft is valid.\n",
      "2024-02-01 23:04:13,322 - INFO - Processing URL 3/3: https://www.eversports.de/s/pole-loft/team\n",
      "2024-02-01 23:04:14,489 - INFO - URL https://www.eversports.de/s/pole-loft/team is valid.\n"
     ]
    },
    {
     "name": "stdout",
     "output_type": "stream",
     "text": [
      "Scraping Pole Studio Data from https://www.eversports.de/s/pole-loft...\n"
     ]
    },
    {
     "name": "stderr",
     "output_type": "stream",
     "text": [
      "Processing URLs:  50%|████▉     | 204/412 [16:08<17:06,  4.94s/it, Current URL: https://www.eversports.de/s/pole-loft]                                   "
     ]
    },
    {
     "name": "stdout",
     "output_type": "stream",
     "text": [
      "Processing completed.\n",
      "Pole Studio Data: 1 entries\n",
      "Starting URL reconstruction...\n"
     ]
    },
    {
     "name": "stderr",
     "output_type": "stream",
     "text": [
      "Processing URLs:  50%|████▉     | 205/412 [16:09<13:05,  3.80s/it, Current URL: https://www.eversports.de/s/pole-dance-studio-waiblingen]"
     ]
    },
    {
     "name": "stdout",
     "output_type": "stream",
     "text": [
      "Error during HTTP request: 404 Client Error: Not Found for url: https://www.eversports.de/s/pole-dance-studio-waiblingen\n",
      "Converting to DataFrame...\n",
      "Validating URLs...\n",
      "Processing completed.\n",
      "Starting URL reconstruction...\n"
     ]
    },
    {
     "name": "stderr",
     "output_type": "stream",
     "text": [
      "2024-02-01 23:04:17,687 - INFO - Processing URL 1/3: https://www.eversports.de/s/stadtgazellen-studio\n"
     ]
    },
    {
     "name": "stdout",
     "output_type": "stream",
     "text": [
      "Error reconstructing URL for 'Kurse': Unrecognized text: 'Kurse'\n",
      "Converting to DataFrame...\n",
      "Validating URLs...\n"
     ]
    },
    {
     "name": "stderr",
     "output_type": "stream",
     "text": [
      "2024-02-01 23:04:19,486 - INFO - URL https://www.eversports.de/s/stadtgazellen-studio is valid.\n",
      "2024-02-01 23:04:19,487 - INFO - Processing URL 2/3: https://www.eversports.de/sp/stadtgazellen-studio\n",
      "2024-02-01 23:04:20,695 - INFO - URL https://www.eversports.de/sp/stadtgazellen-studio is valid.\n",
      "2024-02-01 23:04:20,697 - INFO - Processing URL 3/3: https://www.eversports.de/s/stadtgazellen-studio/team\n",
      "2024-02-01 23:04:21,965 - INFO - URL https://www.eversports.de/s/stadtgazellen-studio/team is valid.\n"
     ]
    },
    {
     "name": "stdout",
     "output_type": "stream",
     "text": [
      "Scraping Pole Studio Data from https://www.eversports.de/s/stadtgazellen-studio...\n"
     ]
    },
    {
     "name": "stderr",
     "output_type": "stream",
     "text": [
      "Processing URLs:  50%|█████     | 206/412 [16:16<16:18,  4.75s/it, Current URL: https://www.eversports.de/s/stadtgazellen-studio]        "
     ]
    },
    {
     "name": "stdout",
     "output_type": "stream",
     "text": [
      "Processing completed.\n",
      "Pole Studio Data: 1 entries\n",
      "Starting URL reconstruction...\n"
     ]
    },
    {
     "name": "stderr",
     "output_type": "stream",
     "text": [
      "2024-02-01 23:04:24,411 - INFO - Processing URL 1/3: https://www.eversports.de/s/passionate-pole-and-sports\n"
     ]
    },
    {
     "name": "stdout",
     "output_type": "stream",
     "text": [
      "Converting to DataFrame...\n",
      "Validating URLs...\n"
     ]
    },
    {
     "name": "stderr",
     "output_type": "stream",
     "text": [
      "2024-02-01 23:04:26,233 - INFO - URL https://www.eversports.de/s/passionate-pole-and-sports is valid.\n",
      "2024-02-01 23:04:26,234 - INFO - Processing URL 2/3: https://www.eversports.de/sp/passionate-pole-and-sports\n",
      "2024-02-01 23:04:27,350 - INFO - URL https://www.eversports.de/sp/passionate-pole-and-sports is valid.\n",
      "2024-02-01 23:04:27,351 - INFO - Processing URL 3/3: https://www.eversports.de/s/passionate-pole-and-sports/team\n",
      "2024-02-01 23:04:28,660 - INFO - URL https://www.eversports.de/s/passionate-pole-and-sports/team is valid.\n"
     ]
    },
    {
     "name": "stdout",
     "output_type": "stream",
     "text": [
      "Scraping Pole Studio Data from https://www.eversports.de/s/passionate-pole-and-sports...\n"
     ]
    },
    {
     "name": "stderr",
     "output_type": "stream",
     "text": [
      "Processing URLs:  50%|█████     | 207/412 [16:22<17:34,  5.14s/it, Current URL: https://www.eversports.de/s/passionate-pole-and-sports]"
     ]
    },
    {
     "name": "stdout",
     "output_type": "stream",
     "text": [
      "Processing completed.\n",
      "Pole Studio Data: 1 entries\n",
      "Starting URL reconstruction...\n"
     ]
    },
    {
     "name": "stderr",
     "output_type": "stream",
     "text": [
      "2024-02-01 23:04:30,393 - INFO - Processing URL 1/4: https://www.eversports.de/s/pura-studio\n"
     ]
    },
    {
     "name": "stdout",
     "output_type": "stream",
     "text": [
      "Converting to DataFrame...\n",
      "Validating URLs...\n"
     ]
    },
    {
     "name": "stderr",
     "output_type": "stream",
     "text": [
      "2024-02-01 23:04:31,716 - INFO - URL https://www.eversports.de/s/pura-studio is valid.\n",
      "2024-02-01 23:04:31,717 - INFO - Processing URL 2/4: https://www.eversports.de/sw/pura-studio\n",
      "2024-02-01 23:04:32,907 - INFO - URL https://www.eversports.de/sw/pura-studio is valid.\n",
      "2024-02-01 23:04:32,909 - INFO - Processing URL 3/4: https://www.eversports.de/sp/pura-studio\n",
      "2024-02-01 23:04:34,141 - INFO - URL https://www.eversports.de/sp/pura-studio is valid.\n",
      "2024-02-01 23:04:34,143 - INFO - Processing URL 4/4: https://www.eversports.de/s/pura-studio/team\n",
      "2024-02-01 23:04:35,311 - INFO - URL https://www.eversports.de/s/pura-studio/team is valid.\n"
     ]
    },
    {
     "name": "stdout",
     "output_type": "stream",
     "text": [
      "Scraping Pole Studio Data from https://www.eversports.de/s/pura-studio...\n",
      "Scraping Workshops Data from https://www.eversports.de/sw/pura-studio...\n",
      "Scraping Workshop Details from https://www.eversports.de/e/workshop/Gc0_BuG...\n",
      "Scraping Workshop Details from https://www.eversports.de/e/workshop/BItjT7x...\n",
      "Scraping Workshop Details from https://www.eversports.de/e/workshop/7N6VOLN...\n",
      "Scraping Workshop Details from https://www.eversports.de/e/workshop/fIWcXIY...\n",
      "Scraping Workshop Details from https://www.eversports.de/e/workshop/aaXFGLh...\n"
     ]
    },
    {
     "name": "stderr",
     "output_type": "stream",
     "text": [
      "Processing URLs:  50%|█████     | 208/412 [16:37<27:08,  7.99s/it, Current URL: https://www.eversports.de/s/pura-studio]               "
     ]
    },
    {
     "name": "stdout",
     "output_type": "stream",
     "text": [
      "Processing completed.\n",
      "Pole Studio Data: 1 entries\n",
      "Workshops Data: 5 entries\n",
      "Workshop Details: 5 entries\n",
      "Starting URL reconstruction...\n"
     ]
    },
    {
     "name": "stderr",
     "output_type": "stream",
     "text": [
      "2024-02-01 23:04:45,028 - INFO - Processing URL 1/4: https://www.eversports.de/s/vertical-pole-aerial-dance\n"
     ]
    },
    {
     "name": "stdout",
     "output_type": "stream",
     "text": [
      "Converting to DataFrame...\n",
      "Validating URLs...\n"
     ]
    },
    {
     "name": "stderr",
     "output_type": "stream",
     "text": [
      "2024-02-01 23:04:46,373 - INFO - URL https://www.eversports.de/s/vertical-pole-aerial-dance is valid.\n",
      "2024-02-01 23:04:46,375 - INFO - Processing URL 2/4: https://www.eversports.de/sw/vertical-pole-aerial-dance\n",
      "2024-02-01 23:04:47,527 - INFO - URL https://www.eversports.de/sw/vertical-pole-aerial-dance is valid.\n",
      "2024-02-01 23:04:47,529 - INFO - Processing URL 3/4: https://www.eversports.de/sp/vertical-pole-aerial-dance\n",
      "2024-02-01 23:04:48,701 - INFO - URL https://www.eversports.de/sp/vertical-pole-aerial-dance is valid.\n",
      "2024-02-01 23:04:48,702 - INFO - Processing URL 4/4: https://www.eversports.de/s/vertical-pole-aerial-dance/team\n",
      "2024-02-01 23:04:49,951 - INFO - URL https://www.eversports.de/s/vertical-pole-aerial-dance/team is valid.\n"
     ]
    },
    {
     "name": "stdout",
     "output_type": "stream",
     "text": [
      "Scraping Pole Studio Data from https://www.eversports.de/s/vertical-pole-aerial-dance...\n",
      "Scraping Workshops Data from https://www.eversports.de/sw/vertical-pole-aerial-dance...\n",
      "Scraping Workshop Details from https://www.eversports.de/e/workshop/mylmioi...\n",
      "Scraping Workshop Details from https://www.eversports.de/e/workshop/Yace1e3...\n"
     ]
    },
    {
     "name": "stderr",
     "output_type": "stream",
     "text": [
      "Processing URLs:  51%|█████     | 209/412 [16:48<29:47,  8.80s/it, Current URL: https://www.eversports.de/s/vertical-pole-aerial-dance]"
     ]
    },
    {
     "name": "stdout",
     "output_type": "stream",
     "text": [
      "Processing completed.\n",
      "Pole Studio Data: 1 entries\n",
      "Workshops Data: 2 entries\n",
      "Workshop Details: 2 entries\n",
      "Starting URL reconstruction...\n"
     ]
    },
    {
     "name": "stderr",
     "output_type": "stream",
     "text": [
      "Processing URLs:  51%|█████     | 210/412 [16:49<21:55,  6.51s/it, Current URL: https://www.eversports.de/s/metropole-dance---now2]    "
     ]
    },
    {
     "name": "stdout",
     "output_type": "stream",
     "text": [
      "Error during HTTP request: 404 Client Error: Not Found for url: https://www.eversports.de/s/metropole-dance---now2\n",
      "Converting to DataFrame...\n",
      "Validating URLs...\n",
      "Processing completed.\n",
      "Starting URL reconstruction...\n"
     ]
    },
    {
     "name": "stderr",
     "output_type": "stream",
     "text": [
      "Processing URLs:  51%|█████     | 211/412 [16:53<19:46,  5.90s/it, Current URL: https://www.eversports.de/s/pole-circus-a-%2b-k]   "
     ]
    },
    {
     "name": "stdout",
     "output_type": "stream",
     "text": [
      "Error during HTTP request: Exceeded 30 redirects.\n",
      "Converting to DataFrame...\n",
      "Validating URLs...\n",
      "Processing completed.\n",
      "Starting URL reconstruction...\n"
     ]
    },
    {
     "name": "stderr",
     "output_type": "stream",
     "text": [
      "Processing URLs:  51%|█████▏    | 212/412 [16:55<15:04,  4.52s/it, Current URL: https://www.eversports.de/s/mypole]             "
     ]
    },
    {
     "name": "stdout",
     "output_type": "stream",
     "text": [
      "Error during HTTP request: 404 Client Error: Not Found for url: https://www.eversports.de/s/mypole\n",
      "Converting to DataFrame...\n",
      "Validating URLs...\n",
      "Processing completed.\n",
      "Starting URL reconstruction...\n"
     ]
    },
    {
     "name": "stderr",
     "output_type": "stream",
     "text": [
      "Processing URLs:  52%|█████▏    | 213/412 [17:00<15:51,  4.78s/it, Current URL: https://www.eversports.de/s/polestarz---the-art-of-pole%2c-dance-%26-fitness]"
     ]
    },
    {
     "name": "stdout",
     "output_type": "stream",
     "text": [
      "Error during HTTP request: Exceeded 30 redirects.\n",
      "Converting to DataFrame...\n",
      "Validating URLs...\n",
      "Processing completed.\n",
      "Starting URL reconstruction...\n"
     ]
    },
    {
     "name": "stderr",
     "output_type": "stream",
     "text": [
      "2024-02-01 23:05:08,023 - INFO - Processing URL 1/4: https://www.eversports.de/s/glow-sports-club\n"
     ]
    },
    {
     "name": "stdout",
     "output_type": "stream",
     "text": [
      "Error reconstructing URL for 'Trainings': Unrecognized text: 'Trainings'\n",
      "Error reconstructing URL for 'Kurse': Unrecognized text: 'Kurse'\n",
      "Converting to DataFrame...\n",
      "Validating URLs...\n"
     ]
    },
    {
     "name": "stderr",
     "output_type": "stream",
     "text": [
      "2024-02-01 23:05:09,356 - INFO - URL https://www.eversports.de/s/glow-sports-club is valid.\n",
      "2024-02-01 23:05:09,357 - INFO - Processing URL 2/4: https://www.eversports.de/sw/glow-sports-club\n",
      "2024-02-01 23:05:10,602 - INFO - URL https://www.eversports.de/sw/glow-sports-club is valid.\n",
      "2024-02-01 23:05:10,603 - INFO - Processing URL 3/4: https://www.eversports.de/sp/glow-sports-club\n",
      "2024-02-01 23:05:11,794 - INFO - URL https://www.eversports.de/sp/glow-sports-club is valid.\n",
      "2024-02-01 23:05:11,795 - INFO - Processing URL 4/4: https://www.eversports.de/s/glow-sports-club/team\n",
      "2024-02-01 23:05:13,015 - INFO - URL https://www.eversports.de/s/glow-sports-club/team is valid.\n"
     ]
    },
    {
     "name": "stdout",
     "output_type": "stream",
     "text": [
      "Scraping Pole Studio Data from https://www.eversports.de/s/glow-sports-club...\n",
      "Scraping Workshops Data from https://www.eversports.de/sw/glow-sports-club...\n",
      "Scraping Workshop Details from https://www.eversports.de/e/workshop/n1eG1oH...\n"
     ]
    },
    {
     "name": "stderr",
     "output_type": "stream",
     "text": [
      "Processing URLs:  52%|█████▏    | 214/412 [17:10<20:21,  6.17s/it, Current URL: https://www.eversports.de/s/glow-sports-club]                                "
     ]
    },
    {
     "name": "stdout",
     "output_type": "stream",
     "text": [
      "Processing completed.\n",
      "Pole Studio Data: 1 entries\n",
      "Workshops Data: 1 entries\n",
      "Workshop Details: 1 entries\n",
      "Starting URL reconstruction...\n"
     ]
    },
    {
     "name": "stderr",
     "output_type": "stream",
     "text": [
      "2024-02-01 23:05:17,521 - INFO - Processing URL 1/4: https://www.eversports.de/s/pole-and-move-ludwigshafen\n"
     ]
    },
    {
     "name": "stdout",
     "output_type": "stream",
     "text": [
      "Converting to DataFrame...\n",
      "Validating URLs...\n"
     ]
    },
    {
     "name": "stderr",
     "output_type": "stream",
     "text": [
      "2024-02-01 23:05:19,135 - INFO - URL https://www.eversports.de/s/pole-and-move-ludwigshafen is valid.\n",
      "2024-02-01 23:05:19,136 - INFO - Processing URL 2/4: https://www.eversports.de/sw/pole-and-move-ludwigshafen\n",
      "2024-02-01 23:05:22,050 - INFO - URL https://www.eversports.de/sw/pole-and-move-ludwigshafen is valid.\n",
      "2024-02-01 23:05:22,051 - INFO - Processing URL 3/4: https://www.eversports.de/sp/pole-and-move-ludwigshafen\n",
      "2024-02-01 23:05:23,178 - INFO - URL https://www.eversports.de/sp/pole-and-move-ludwigshafen is valid.\n",
      "2024-02-01 23:05:23,179 - INFO - Processing URL 4/4: https://www.eversports.de/s/pole-and-move-ludwigshafen/team\n",
      "2024-02-01 23:05:24,442 - INFO - URL https://www.eversports.de/s/pole-and-move-ludwigshafen/team is valid.\n"
     ]
    },
    {
     "name": "stdout",
     "output_type": "stream",
     "text": [
      "Scraping Pole Studio Data from https://www.eversports.de/s/pole-and-move-ludwigshafen...\n",
      "Scraping Workshops Data from https://www.eversports.de/sw/pole-and-move-ludwigshafen...\n",
      "Scraping Workshop Details from https://www.eversports.de/e/workshop/aldL57L...\n",
      "Scraping Workshop Details from https://www.eversports.de/e/workshop/hz_ZPLE...\n",
      "Scraping Workshop Details from https://www.eversports.de/e/workshop/M1wKpZR...\n",
      "Scraping Workshop Details from https://www.eversports.de/e/workshop/xAIHC25...\n",
      "Scraping Workshop Details from https://www.eversports.de/e/workshop/QSBryP0...\n",
      "Scraping Workshop Details from https://www.eversports.de/e/workshop/VBYd7ZF...\n",
      "Scraping Workshop Details from https://www.eversports.de/e/workshop/zTbGfLi...\n",
      "Scraping Workshop Details from https://www.eversports.de/e/workshop/fUoSQuY...\n"
     ]
    },
    {
     "name": "stderr",
     "output_type": "stream",
     "text": [
      "Processing URLs:  52%|█████▏    | 215/412 [17:36<39:56, 12.16s/it, Current URL: https://www.eversports.de/s/pole-and-move-ludwigshafen]"
     ]
    },
    {
     "name": "stdout",
     "output_type": "stream",
     "text": [
      "Processing completed.\n",
      "Pole Studio Data: 1 entries\n",
      "Workshops Data: 8 entries\n",
      "Workshop Details: 8 entries\n",
      "Starting URL reconstruction...\n"
     ]
    },
    {
     "name": "stderr",
     "output_type": "stream",
     "text": [
      "Processing URLs:  52%|█████▏    | 216/412 [17:37<29:02,  8.89s/it, Current URL: https://www.eversports.de/s/pole-dance-%26-fitness]    "
     ]
    },
    {
     "name": "stdout",
     "output_type": "stream",
     "text": [
      "Error during HTTP request: 404 Client Error: Not Found for url: https://www.eversports.de/s/pole-dance-%26-fitness\n",
      "Converting to DataFrame...\n",
      "Validating URLs...\n",
      "Processing completed.\n",
      "Starting URL reconstruction...\n"
     ]
    },
    {
     "name": "stderr",
     "output_type": "stream",
     "text": [
      "2024-02-01 23:05:44,879 - INFO - Processing URL 1/1: https://www.eversports.de/s/poleworkx\n"
     ]
    },
    {
     "name": "stdout",
     "output_type": "stream",
     "text": [
      "Converting to DataFrame...\n",
      "Validating URLs...\n"
     ]
    },
    {
     "name": "stderr",
     "output_type": "stream",
     "text": [
      "2024-02-01 23:05:46,520 - INFO - URL https://www.eversports.de/s/poleworkx is valid.\n"
     ]
    },
    {
     "name": "stdout",
     "output_type": "stream",
     "text": [
      "Scraping Pole Studio Data from https://www.eversports.de/s/poleworkx...\n"
     ]
    },
    {
     "name": "stderr",
     "output_type": "stream",
     "text": [
      "Processing URLs:  53%|█████▎    | 217/412 [17:41<23:47,  7.32s/it, Current URL: https://www.eversports.de/s/poleworkx]             "
     ]
    },
    {
     "name": "stdout",
     "output_type": "stream",
     "text": [
      "Processing completed.\n",
      "Pole Studio Data: 1 entries\n",
      "Starting URL reconstruction...\n"
     ]
    },
    {
     "name": "stderr",
     "output_type": "stream",
     "text": [
      "Processing URLs:  53%|█████▎    | 218/412 [17:42<17:44,  5.49s/it, Current URL: https://www.eversports.de/s/open-aerial-dance-wiesbaden]"
     ]
    },
    {
     "name": "stdout",
     "output_type": "stream",
     "text": [
      "Error during HTTP request: 404 Client Error: Not Found for url: https://www.eversports.de/s/open-aerial-dance-wiesbaden\n",
      "Converting to DataFrame...\n",
      "Validating URLs...\n",
      "Processing completed.\n",
      "Starting URL reconstruction...\n"
     ]
    },
    {
     "name": "stderr",
     "output_type": "stream",
     "text": [
      "Processing URLs:  53%|█████▎    | 219/412 [17:43<13:34,  4.22s/it, Current URL: https://www.eversports.de/s/pole-%40-bremerhaven]       "
     ]
    },
    {
     "name": "stdout",
     "output_type": "stream",
     "text": [
      "Error during HTTP request: 404 Client Error: Not Found for url: https://www.eversports.de/s/pole-%40-bremerhaven\n",
      "Converting to DataFrame...\n",
      "Validating URLs...\n",
      "Processing completed.\n",
      "Starting URL reconstruction...\n"
     ]
    },
    {
     "name": "stderr",
     "output_type": "stream",
     "text": [
      "Processing URLs:  53%|█████▎    | 220/412 [17:44<10:32,  3.30s/it, Current URL: https://www.eversports.de/s/tanzteufel-denzlingen]"
     ]
    },
    {
     "name": "stdout",
     "output_type": "stream",
     "text": [
      "Error during HTTP request: 404 Client Error: Not Found for url: https://www.eversports.de/s/tanzteufel-denzlingen\n",
      "Converting to DataFrame...\n",
      "Validating URLs...\n",
      "Processing completed.\n",
      "Starting URL reconstruction...\n"
     ]
    },
    {
     "name": "stderr",
     "output_type": "stream",
     "text": [
      "Processing URLs:  54%|█████▎    | 221/412 [17:46<08:41,  2.73s/it, Current URL: https://www.eversports.de/s/pole-emotion-bremerhaven]"
     ]
    },
    {
     "name": "stdout",
     "output_type": "stream",
     "text": [
      "Error during HTTP request: 404 Client Error: Not Found for url: https://www.eversports.de/s/pole-emotion-bremerhaven\n",
      "Converting to DataFrame...\n",
      "Validating URLs...\n",
      "Processing completed.\n",
      "Starting URL reconstruction...\n"
     ]
    },
    {
     "name": "stderr",
     "output_type": "stream",
     "text": [
      "Processing URLs:  54%|█████▍    | 222/412 [17:47<07:16,  2.30s/it, Current URL: https://www.eversports.de/s/pole.physio-eppelheim]   "
     ]
    },
    {
     "name": "stdout",
     "output_type": "stream",
     "text": [
      "Error during HTTP request: 404 Client Error: Not Found for url: https://www.eversports.de/s/pole.physio-eppelheim\n",
      "Converting to DataFrame...\n",
      "Validating URLs...\n",
      "Processing completed.\n",
      "Starting URL reconstruction...\n"
     ]
    },
    {
     "name": "stderr",
     "output_type": "stream",
     "text": [
      "Processing URLs:  54%|█████▍    | 223/412 [17:48<06:09,  1.95s/it, Current URL: https://www.eversports.de/s/tanzschule-step-up]   "
     ]
    },
    {
     "name": "stdout",
     "output_type": "stream",
     "text": [
      "Error during HTTP request: 404 Client Error: Not Found for url: https://www.eversports.de/s/tanzschule-step-up\n",
      "Converting to DataFrame...\n",
      "Validating URLs...\n",
      "Processing completed.\n",
      "Starting URL reconstruction...\n"
     ]
    },
    {
     "name": "stderr",
     "output_type": "stream",
     "text": [
      "Processing URLs:  54%|█████▍    | 224/412 [17:49<05:20,  1.71s/it, Current URL: https://www.eversports.de/s/pole-faction-pole-dance-and-fitness]"
     ]
    },
    {
     "name": "stdout",
     "output_type": "stream",
     "text": [
      "Error during HTTP request: 404 Client Error: Not Found for url: https://www.eversports.de/s/pole-faction-pole-dance-and-fitness\n",
      "Converting to DataFrame...\n",
      "Validating URLs...\n",
      "Processing completed.\n",
      "Starting URL reconstruction...\n"
     ]
    },
    {
     "name": "stderr",
     "output_type": "stream",
     "text": [
      "Processing URLs:  55%|█████▍    | 225/412 [17:51<05:02,  1.62s/it, Current URL: https://www.eversports.de/s/dancexotic]                         "
     ]
    },
    {
     "name": "stdout",
     "output_type": "stream",
     "text": [
      "Error during HTTP request: 404 Client Error: Not Found for url: https://www.eversports.de/s/dancexotic\n",
      "Converting to DataFrame...\n",
      "Validating URLs...\n",
      "Processing completed.\n",
      "Starting URL reconstruction...\n"
     ]
    },
    {
     "name": "stderr",
     "output_type": "stream",
     "text": [
      "Processing URLs:  55%|█████▍    | 226/412 [17:52<04:33,  1.47s/it, Current URL: https://www.eversports.de/s/vertical-kay-poledance-%26-aerialarts-education]"
     ]
    },
    {
     "name": "stdout",
     "output_type": "stream",
     "text": [
      "Error during HTTP request: 404 Client Error: Not Found for url: https://www.eversports.de/s/vertical-kay-poledance-%26-aerialarts-education\n",
      "Converting to DataFrame...\n",
      "Validating URLs...\n",
      "Processing completed.\n",
      "Starting URL reconstruction...\n"
     ]
    },
    {
     "name": "stderr",
     "output_type": "stream",
     "text": [
      "Processing URLs:  55%|█████▌    | 227/412 [17:53<04:14,  1.37s/it, Current URL: https://www.eversports.de/s/polestudio-neuss]                               "
     ]
    },
    {
     "name": "stdout",
     "output_type": "stream",
     "text": [
      "Error during HTTP request: 404 Client Error: Not Found for url: https://www.eversports.de/s/polestudio-neuss\n",
      "Converting to DataFrame...\n",
      "Validating URLs...\n",
      "Processing completed.\n",
      "Starting URL reconstruction...\n"
     ]
    },
    {
     "name": "stderr",
     "output_type": "stream",
     "text": [
      "Processing URLs:  55%|█████▌    | 228/412 [17:54<03:59,  1.30s/it, Current URL: https://www.eversports.de/s/aerial-art-poledance-country-base]"
     ]
    },
    {
     "name": "stdout",
     "output_type": "stream",
     "text": [
      "Error during HTTP request: 404 Client Error: Not Found for url: https://www.eversports.de/s/aerial-art-poledance-country-base\n",
      "Converting to DataFrame...\n",
      "Validating URLs...\n",
      "Processing completed.\n",
      "Starting URL reconstruction...\n"
     ]
    },
    {
     "name": "stderr",
     "output_type": "stream",
     "text": [
      "2024-02-01 23:06:01,793 - INFO - Processing URL 1/1: https://www.eversports.de/s/pole-circus\n"
     ]
    },
    {
     "name": "stdout",
     "output_type": "stream",
     "text": [
      "Converting to DataFrame...\n",
      "Validating URLs...\n"
     ]
    },
    {
     "name": "stderr",
     "output_type": "stream",
     "text": [
      "2024-02-01 23:06:03,111 - INFO - URL https://www.eversports.de/s/pole-circus is valid.\n"
     ]
    },
    {
     "name": "stdout",
     "output_type": "stream",
     "text": [
      "Scraping Pole Studio Data from https://www.eversports.de/s/pole-circus...\n"
     ]
    },
    {
     "name": "stderr",
     "output_type": "stream",
     "text": [
      "Processing URLs:  56%|█████▌    | 229/412 [17:57<05:21,  1.76s/it, Current URL: https://www.eversports.de/s/pole-circus]                      "
     ]
    },
    {
     "name": "stdout",
     "output_type": "stream",
     "text": [
      "Processing completed.\n",
      "Pole Studio Data: 1 entries\n",
      "Starting URL reconstruction...\n"
     ]
    },
    {
     "name": "stderr",
     "output_type": "stream",
     "text": [
      "Processing URLs:  56%|█████▌    | 230/412 [17:58<04:45,  1.57s/it, Current URL: https://www.eversports.de/s/poledancestar-leipzig]"
     ]
    },
    {
     "name": "stdout",
     "output_type": "stream",
     "text": [
      "Error during HTTP request: 404 Client Error: Not Found for url: https://www.eversports.de/s/poledancestar-leipzig\n",
      "Converting to DataFrame...\n",
      "Validating URLs...\n",
      "Processing completed.\n",
      "Starting URL reconstruction...\n"
     ]
    },
    {
     "name": "stderr",
     "output_type": "stream",
     "text": [
      "Processing URLs:  56%|█████▌    | 231/412 [17:59<04:21,  1.44s/it, Current URL: https://www.eversports.de/s/papillon-pole-dance-studio]"
     ]
    },
    {
     "name": "stdout",
     "output_type": "stream",
     "text": [
      "Error during HTTP request: 404 Client Error: Not Found for url: https://www.eversports.de/s/papillon-pole-dance-studio\n",
      "Converting to DataFrame...\n",
      "Validating URLs...\n",
      "Processing completed.\n",
      "Starting URL reconstruction...\n"
     ]
    },
    {
     "name": "stderr",
     "output_type": "stream",
     "text": [
      "Processing URLs:  56%|█████▋    | 232/412 [18:00<04:04,  1.36s/it, Current URL: https://www.eversports.de/s/lea-aqua]                  "
     ]
    },
    {
     "name": "stdout",
     "output_type": "stream",
     "text": [
      "Error during HTTP request: 404 Client Error: Not Found for url: https://www.eversports.de/s/lea-aqua\n",
      "Converting to DataFrame...\n",
      "Validating URLs...\n",
      "Processing completed.\n",
      "Starting URL reconstruction...\n"
     ]
    },
    {
     "name": "stderr",
     "output_type": "stream",
     "text": [
      "Processing URLs:  57%|█████▋    | 233/412 [18:01<03:52,  1.30s/it, Current URL: https://www.eversports.de/s/aerial-%26-vertikal-floor-of-art]"
     ]
    },
    {
     "name": "stdout",
     "output_type": "stream",
     "text": [
      "Error during HTTP request: 404 Client Error: Not Found for url: https://www.eversports.de/s/aerial-%26-vertikal-floor-of-art\n",
      "Converting to DataFrame...\n",
      "Validating URLs...\n",
      "Processing completed.\n",
      "Starting URL reconstruction...\n"
     ]
    },
    {
     "name": "stderr",
     "output_type": "stream",
     "text": [
      "2024-02-01 23:06:09,588 - INFO - Processing URL 1/1: https://www.eversports.de/s/aerial-sportstudio\n"
     ]
    },
    {
     "name": "stdout",
     "output_type": "stream",
     "text": [
      "Converting to DataFrame...\n",
      "Validating URLs...\n"
     ]
    },
    {
     "name": "stderr",
     "output_type": "stream",
     "text": [
      "2024-02-01 23:06:10,826 - INFO - URL https://www.eversports.de/s/aerial-sportstudio is valid.\n"
     ]
    },
    {
     "name": "stdout",
     "output_type": "stream",
     "text": [
      "Scraping Pole Studio Data from https://www.eversports.de/s/aerial-sportstudio...\n"
     ]
    },
    {
     "name": "stderr",
     "output_type": "stream",
     "text": [
      "Processing URLs:  57%|█████▋    | 234/412 [18:05<05:29,  1.85s/it, Current URL: https://www.eversports.de/s/aerial-sportstudio]              "
     ]
    },
    {
     "name": "stdout",
     "output_type": "stream",
     "text": [
      "Processing completed.\n",
      "Pole Studio Data: 1 entries\n",
      "Starting URL reconstruction...\n"
     ]
    },
    {
     "name": "stderr",
     "output_type": "stream",
     "text": [
      "Processing URLs:  57%|█████▋    | 235/412 [18:06<04:50,  1.64s/it, Current URL: https://www.eversports.de/s/poledance!-aerial-%26-fitness-schleswig]"
     ]
    },
    {
     "name": "stdout",
     "output_type": "stream",
     "text": [
      "Error during HTTP request: 404 Client Error: Not Found for url: https://www.eversports.de/s/poledance!-aerial-%26-fitness-schleswig\n",
      "Converting to DataFrame...\n",
      "Validating URLs...\n",
      "Processing completed.\n",
      "Starting URL reconstruction...\n"
     ]
    },
    {
     "name": "stderr",
     "output_type": "stream",
     "text": [
      "Processing URLs:  57%|█████▋    | 236/412 [18:07<04:19,  1.48s/it, Current URL: https://www.eversports.de/s/polefitness-tituba-m%c3%b6nchengladbach!]"
     ]
    },
    {
     "name": "stdout",
     "output_type": "stream",
     "text": [
      "Error during HTTP request: 404 Client Error: Not Found for url: https://www.eversports.de/s/polefitness-tituba-m%C3%B6nchengladbach!\n",
      "Converting to DataFrame...\n",
      "Validating URLs...\n",
      "Processing completed.\n",
      "Starting URL reconstruction...\n"
     ]
    },
    {
     "name": "stderr",
     "output_type": "stream",
     "text": [
      "Processing URLs:  58%|█████▊    | 237/412 [18:11<06:42,  2.30s/it, Current URL: https://www.eversports.de/s/pole-stars-osnabr%c3%bcck]               "
     ]
    },
    {
     "name": "stdout",
     "output_type": "stream",
     "text": [
      "Error during HTTP request: Exceeded 30 redirects.\n",
      "Converting to DataFrame...\n",
      "Validating URLs...\n",
      "Processing completed.\n",
      "Starting URL reconstruction...\n"
     ]
    },
    {
     "name": "stderr",
     "output_type": "stream",
     "text": [
      "Processing URLs:  58%|█████▊    | 238/412 [18:12<05:44,  1.98s/it, Current URL: https://www.eversports.de/s/lustforlife.studio]       "
     ]
    },
    {
     "name": "stdout",
     "output_type": "stream",
     "text": [
      "Error during HTTP request: 404 Client Error: Not Found for url: https://www.eversports.de/s/lustforlife.studio\n",
      "Converting to DataFrame...\n",
      "Validating URLs...\n",
      "Processing completed.\n",
      "Starting URL reconstruction...\n"
     ]
    },
    {
     "name": "stderr",
     "output_type": "stream",
     "text": [
      "Processing URLs:  58%|█████▊    | 239/412 [18:13<04:55,  1.71s/it, Current URL: https://www.eversports.de/s/mmc-dance-&-event-studio]"
     ]
    },
    {
     "name": "stdout",
     "output_type": "stream",
     "text": [
      "Error during HTTP request: 404 Client Error: Not Found for url: https://www.eversports.de/s/mmc-dance-&-event-studio\n",
      "Converting to DataFrame...\n",
      "Validating URLs...\n",
      "Processing completed.\n",
      "Starting URL reconstruction...\n"
     ]
    },
    {
     "name": "stderr",
     "output_type": "stream",
     "text": [
      "Processing URLs:  58%|█████▊    | 240/412 [18:14<04:24,  1.54s/it, Current URL: https://www.eversports.de/s/nordpole-studio]         "
     ]
    },
    {
     "name": "stdout",
     "output_type": "stream",
     "text": [
      "Error during HTTP request: 404 Client Error: Not Found for url: https://www.eversports.de/s/nordpole-studio\n",
      "Converting to DataFrame...\n",
      "Validating URLs...\n",
      "Processing completed.\n",
      "Starting URL reconstruction...\n"
     ]
    },
    {
     "name": "stderr",
     "output_type": "stream",
     "text": [
      "2024-02-01 23:06:22,367 - INFO - Processing URL 1/4: https://www.eversports.de/s/dayuma-pole-and-acrobatics\n"
     ]
    },
    {
     "name": "stdout",
     "output_type": "stream",
     "text": [
      "Converting to DataFrame...\n",
      "Validating URLs...\n"
     ]
    },
    {
     "name": "stderr",
     "output_type": "stream",
     "text": [
      "2024-02-01 23:06:23,826 - INFO - URL https://www.eversports.de/s/dayuma-pole-and-acrobatics is valid.\n",
      "2024-02-01 23:06:23,828 - INFO - Processing URL 2/4: https://www.eversports.de/sw/dayuma-pole-and-acrobatics\n",
      "2024-02-01 23:06:24,921 - INFO - URL https://www.eversports.de/sw/dayuma-pole-and-acrobatics is not valid.\n",
      "2024-02-01 23:06:24,921 - INFO - Processing URL 3/4: https://www.eversports.de/sp/dayuma-pole-and-acrobatics\n",
      "2024-02-01 23:06:26,084 - INFO - URL https://www.eversports.de/sp/dayuma-pole-and-acrobatics is not valid.\n",
      "2024-02-01 23:06:26,084 - INFO - Processing URL 4/4: https://www.eversports.de/s/dayuma-pole-and-acrobatics/team\n",
      "2024-02-01 23:06:27,586 - INFO - URL https://www.eversports.de/s/dayuma-pole-and-acrobatics/team is valid.\n"
     ]
    },
    {
     "name": "stdout",
     "output_type": "stream",
     "text": [
      "Scraping Pole Studio Data from https://www.eversports.de/s/dayuma-pole-and-acrobatics...\n"
     ]
    },
    {
     "name": "stderr",
     "output_type": "stream",
     "text": [
      "Processing URLs:  58%|█████▊    | 241/412 [18:21<09:01,  3.17s/it, Current URL: https://www.eversports.de/s/dayuma-pole-and-acrobatics]"
     ]
    },
    {
     "name": "stdout",
     "output_type": "stream",
     "text": [
      "Processing completed.\n",
      "Pole Studio Data: 1 entries\n",
      "Starting URL reconstruction...\n"
     ]
    },
    {
     "name": "stderr",
     "output_type": "stream",
     "text": [
      "Processing URLs:  59%|█████▊    | 242/412 [18:23<07:16,  2.57s/it, Current URL: https://www.eversports.de/s/dalibravita]               "
     ]
    },
    {
     "name": "stdout",
     "output_type": "stream",
     "text": [
      "Error during HTTP request: 404 Client Error: Not Found for url: https://www.eversports.de/s/dalibravita\n",
      "Converting to DataFrame...\n",
      "Validating URLs...\n",
      "Processing completed.\n",
      "Starting URL reconstruction...\n"
     ]
    },
    {
     "name": "stderr",
     "output_type": "stream",
     "text": [
      "2024-02-01 23:06:30,486 - INFO - Processing URL 1/3: https://www.eversports.de/s/sportheim-abensberg\n"
     ]
    },
    {
     "name": "stdout",
     "output_type": "stream",
     "text": [
      "Converting to DataFrame...\n",
      "Validating URLs...\n"
     ]
    },
    {
     "name": "stderr",
     "output_type": "stream",
     "text": [
      "2024-02-01 23:06:31,815 - INFO - URL https://www.eversports.de/s/sportheim-abensberg is valid.\n",
      "2024-02-01 23:06:31,816 - INFO - Processing URL 2/3: https://www.eversports.de/sp/sportheim-abensberg\n",
      "2024-02-01 23:06:33,343 - INFO - URL https://www.eversports.de/sp/sportheim-abensberg is valid.\n",
      "2024-02-01 23:06:33,344 - INFO - Processing URL 3/3: https://www.eversports.de/s/sportheim-abensberg/team\n",
      "2024-02-01 23:06:34,606 - INFO - URL https://www.eversports.de/s/sportheim-abensberg/team is valid.\n"
     ]
    },
    {
     "name": "stdout",
     "output_type": "stream",
     "text": [
      "Scraping Pole Studio Data from https://www.eversports.de/s/sportheim-abensberg...\n"
     ]
    },
    {
     "name": "stderr",
     "output_type": "stream",
     "text": [
      "Processing URLs:  59%|█████▉    | 243/412 [18:29<10:12,  3.63s/it, Current URL: https://www.eversports.de/s/sportheim-abensberg]"
     ]
    },
    {
     "name": "stdout",
     "output_type": "stream",
     "text": [
      "Processing completed.\n",
      "Pole Studio Data: 1 entries\n",
      "Starting URL reconstruction...\n"
     ]
    },
    {
     "name": "stderr",
     "output_type": "stream",
     "text": [
      "Processing URLs:  59%|█████▉    | 244/412 [18:33<10:47,  3.85s/it, Current URL: https://www.eversports.de/s/t-tanzstück-braunschweig]"
     ]
    },
    {
     "name": "stdout",
     "output_type": "stream",
     "text": [
      "Error during HTTP request: Exceeded 30 redirects.\n",
      "Converting to DataFrame...\n",
      "Validating URLs...\n",
      "Processing completed.\n",
      "Starting URL reconstruction...\n"
     ]
    },
    {
     "name": "stderr",
     "output_type": "stream",
     "text": [
      "Processing URLs:  59%|█████▉    | 245/412 [18:34<08:27,  3.04s/it, Current URL: https://www.eversports.de/s/aerial-art-poledance-city-base]"
     ]
    },
    {
     "name": "stdout",
     "output_type": "stream",
     "text": [
      "Error during HTTP request: 404 Client Error: Not Found for url: https://www.eversports.de/s/aerial-art-poledance-city-base\n",
      "Converting to DataFrame...\n",
      "Validating URLs...\n",
      "Processing completed.\n",
      "Starting URL reconstruction...\n"
     ]
    },
    {
     "name": "stderr",
     "output_type": "stream",
     "text": [
      "Processing URLs:  60%|█████▉    | 246/412 [18:35<06:46,  2.45s/it, Current URL: https://www.eversports.de/s/dance-&-pole-deltawerk]        "
     ]
    },
    {
     "name": "stdout",
     "output_type": "stream",
     "text": [
      "Error during HTTP request: 404 Client Error: Not Found for url: https://www.eversports.de/s/dance-&-pole-deltawerk\n",
      "Converting to DataFrame...\n",
      "Validating URLs...\n",
      "Processing completed.\n",
      "Starting URL reconstruction...\n"
     ]
    },
    {
     "name": "stderr",
     "output_type": "stream",
     "text": [
      "2024-02-01 23:06:43,170 - INFO - Processing URL 1/1: https://www.eversports.de/s/x-step-berlin\n"
     ]
    },
    {
     "name": "stdout",
     "output_type": "stream",
     "text": [
      "Converting to DataFrame...\n",
      "Validating URLs...\n"
     ]
    },
    {
     "name": "stderr",
     "output_type": "stream",
     "text": [
      "2024-02-01 23:06:44,480 - INFO - URL https://www.eversports.de/s/x-step-berlin is valid.\n"
     ]
    },
    {
     "name": "stdout",
     "output_type": "stream",
     "text": [
      "Scraping Pole Studio Data from https://www.eversports.de/s/x-step-berlin...\n"
     ]
    },
    {
     "name": "stderr",
     "output_type": "stream",
     "text": [
      "Processing URLs:  60%|█████▉    | 247/412 [18:38<07:12,  2.62s/it, Current URL: https://www.eversports.de/s/x-step-berlin]         "
     ]
    },
    {
     "name": "stdout",
     "output_type": "stream",
     "text": [
      "Processing completed.\n",
      "Pole Studio Data: 1 entries\n",
      "Starting URL reconstruction...\n"
     ]
    },
    {
     "name": "stderr",
     "output_type": "stream",
     "text": [
      "2024-02-01 23:06:46,477 - INFO - Processing URL 1/1: https://www.eversports.de/s/sweatndance\n"
     ]
    },
    {
     "name": "stdout",
     "output_type": "stream",
     "text": [
      "Converting to DataFrame...\n",
      "Validating URLs...\n"
     ]
    },
    {
     "name": "stderr",
     "output_type": "stream",
     "text": [
      "2024-02-01 23:06:47,694 - INFO - URL https://www.eversports.de/s/sweatndance is valid.\n"
     ]
    },
    {
     "name": "stdout",
     "output_type": "stream",
     "text": [
      "Scraping Pole Studio Data from https://www.eversports.de/s/sweatndance...\n"
     ]
    },
    {
     "name": "stderr",
     "output_type": "stream",
     "text": [
      "Processing URLs:  60%|██████    | 248/412 [18:42<07:50,  2.87s/it, Current URL: https://www.eversports.de/s/sweatndance]  "
     ]
    },
    {
     "name": "stdout",
     "output_type": "stream",
     "text": [
      "Processing completed.\n",
      "Pole Studio Data: 1 entries\n",
      "Starting URL reconstruction...\n"
     ]
    },
    {
     "name": "stderr",
     "output_type": "stream",
     "text": [
      "Processing URLs:  60%|██████    | 249/412 [18:46<08:52,  3.26s/it, Current URL: https://www.eversports.de/s/t-tanzst%c3%bcck-tanzstudio]"
     ]
    },
    {
     "name": "stdout",
     "output_type": "stream",
     "text": [
      "Error during HTTP request: Exceeded 30 redirects.\n",
      "Converting to DataFrame...\n",
      "Validating URLs...\n",
      "Processing completed.\n",
      "Starting URL reconstruction...\n"
     ]
    },
    {
     "name": "stderr",
     "output_type": "stream",
     "text": [
      "2024-02-01 23:06:53,899 - INFO - Processing URL 1/3: https://www.eversports.de/s/health-and-shape-muenchen\n"
     ]
    },
    {
     "name": "stdout",
     "output_type": "stream",
     "text": [
      "Converting to DataFrame...\n",
      "Validating URLs...\n"
     ]
    },
    {
     "name": "stderr",
     "output_type": "stream",
     "text": [
      "2024-02-01 23:06:55,399 - INFO - URL https://www.eversports.de/s/health-and-shape-muenchen is valid.\n",
      "2024-02-01 23:06:55,400 - INFO - Processing URL 2/3: https://www.eversports.de/sp/health-and-shape-muenchen\n",
      "2024-02-01 23:06:56,528 - INFO - URL https://www.eversports.de/sp/health-and-shape-muenchen is valid.\n",
      "2024-02-01 23:06:56,529 - INFO - Processing URL 3/3: https://www.eversports.de/s/health-and-shape-muenchen/team\n",
      "2024-02-01 23:06:58,059 - INFO - URL https://www.eversports.de/s/health-and-shape-muenchen/team is valid.\n"
     ]
    },
    {
     "name": "stdout",
     "output_type": "stream",
     "text": [
      "Scraping Pole Studio Data from https://www.eversports.de/s/health-and-shape-muenchen...\n"
     ]
    },
    {
     "name": "stderr",
     "output_type": "stream",
     "text": [
      "Processing URLs:  61%|██████    | 250/412 [18:52<11:06,  4.11s/it, Current URL: https://www.eversports.de/s/health-and-shape-muenchen]  "
     ]
    },
    {
     "name": "stdout",
     "output_type": "stream",
     "text": [
      "Processing completed.\n",
      "Pole Studio Data: 1 entries\n",
      "Starting URL reconstruction...\n"
     ]
    },
    {
     "name": "stderr",
     "output_type": "stream",
     "text": [
      "Processing URLs:  61%|██████    | 251/412 [18:56<10:59,  4.09s/it, Current URL: https://www.eversports.de/s/t-tanzstück-wolfsburg]    "
     ]
    },
    {
     "name": "stdout",
     "output_type": "stream",
     "text": [
      "Error during HTTP request: Exceeded 30 redirects.\n",
      "Converting to DataFrame...\n",
      "Validating URLs...\n",
      "Processing completed.\n",
      "Starting URL reconstruction...\n"
     ]
    },
    {
     "name": "stderr",
     "output_type": "stream",
     "text": [
      "Processing URLs:  61%|██████    | 252/412 [19:00<11:00,  4.13s/it, Current URL: https://www.eversports.de/s/körpernah]            "
     ]
    },
    {
     "name": "stdout",
     "output_type": "stream",
     "text": [
      "Error during HTTP request: Exceeded 30 redirects.\n",
      "Converting to DataFrame...\n",
      "Validating URLs...\n",
      "Processing completed.\n",
      "Starting URL reconstruction...\n"
     ]
    },
    {
     "name": "stderr",
     "output_type": "stream",
     "text": [
      "Processing URLs:  61%|██████▏   | 253/412 [19:02<08:35,  3.24s/it, Current URL: https://www.eversports.de/s/polea---pole-and-aerial-dance]"
     ]
    },
    {
     "name": "stdout",
     "output_type": "stream",
     "text": [
      "Error during HTTP request: 404 Client Error: Not Found for url: https://www.eversports.de/s/polea---pole-and-aerial-dance\n",
      "Converting to DataFrame...\n",
      "Validating URLs...\n",
      "Processing completed.\n",
      "Starting URL reconstruction...\n"
     ]
    },
    {
     "name": "stderr",
     "output_type": "stream",
     "text": [
      "Processing URLs:  62%|██████▏   | 254/412 [19:06<09:23,  3.57s/it, Current URL: https://www.eversports.de/s/pole-dance-academy-n%c3%bcrnberg]"
     ]
    },
    {
     "name": "stdout",
     "output_type": "stream",
     "text": [
      "Error during HTTP request: Exceeded 30 redirects.\n",
      "Converting to DataFrame...\n",
      "Validating URLs...\n",
      "Processing completed.\n",
      "Starting URL reconstruction...\n"
     ]
    },
    {
     "name": "stderr",
     "output_type": "stream",
     "text": [
      "Processing URLs:  62%|██████▏   | 255/412 [19:07<07:31,  2.87s/it, Current URL: https://www.eversports.de/s/poledance-leipzig]               "
     ]
    },
    {
     "name": "stdout",
     "output_type": "stream",
     "text": [
      "Error during HTTP request: 404 Client Error: Not Found for url: https://www.eversports.de/s/poledance-leipzig\n",
      "Converting to DataFrame...\n",
      "Validating URLs...\n",
      "Processing completed.\n",
      "Starting URL reconstruction...\n"
     ]
    },
    {
     "name": "stderr",
     "output_type": "stream",
     "text": [
      "Processing URLs:  62%|██████▏   | 256/412 [19:11<08:33,  3.29s/it, Current URL: https://www.eversports.de/s/poledance-m%c3%b6nchengladbach]"
     ]
    },
    {
     "name": "stdout",
     "output_type": "stream",
     "text": [
      "Error during HTTP request: Exceeded 30 redirects.\n",
      "Converting to DataFrame...\n",
      "Validating URLs...\n",
      "Processing completed.\n",
      "Starting URL reconstruction...\n"
     ]
    },
    {
     "name": "stderr",
     "output_type": "stream",
     "text": [
      "Processing URLs:  62%|██████▏   | 257/412 [19:13<06:51,  2.65s/it, Current URL: https://www.eversports.de/s/poledance-zwickau-e.-v.]       "
     ]
    },
    {
     "name": "stdout",
     "output_type": "stream",
     "text": [
      "Error during HTTP request: 404 Client Error: Not Found for url: https://www.eversports.de/s/poledance-zwickau-e.-v.\n",
      "Converting to DataFrame...\n",
      "Validating URLs...\n",
      "Processing completed.\n",
      "Starting URL reconstruction...\n"
     ]
    },
    {
     "name": "stderr",
     "output_type": "stream",
     "text": [
      "2024-02-01 23:07:20,327 - INFO - Processing URL 1/3: https://www.eversports.de/s/janine-hollung\n"
     ]
    },
    {
     "name": "stdout",
     "output_type": "stream",
     "text": [
      "Converting to DataFrame...\n",
      "Validating URLs...\n"
     ]
    },
    {
     "name": "stderr",
     "output_type": "stream",
     "text": [
      "2024-02-01 23:07:21,683 - INFO - URL https://www.eversports.de/s/janine-hollung is valid.\n",
      "2024-02-01 23:07:21,684 - INFO - Processing URL 2/3: https://www.eversports.de/sp/janine-hollung\n",
      "2024-02-01 23:07:22,827 - INFO - URL https://www.eversports.de/sp/janine-hollung is valid.\n",
      "2024-02-01 23:07:22,828 - INFO - Processing URL 3/3: https://www.eversports.de/s/janine-hollung/team\n",
      "2024-02-01 23:07:23,936 - INFO - URL https://www.eversports.de/s/janine-hollung/team is valid.\n"
     ]
    },
    {
     "name": "stdout",
     "output_type": "stream",
     "text": [
      "Scraping Pole Studio Data from https://www.eversports.de/s/janine-hollung...\n"
     ]
    },
    {
     "name": "stderr",
     "output_type": "stream",
     "text": [
      "Processing URLs:  63%|██████▎   | 258/412 [19:18<09:02,  3.52s/it, Current URL: https://www.eversports.de/s/janine-hollung]         "
     ]
    },
    {
     "name": "stdout",
     "output_type": "stream",
     "text": [
      "Processing completed.\n",
      "Pole Studio Data: 1 entries\n",
      "Starting URL reconstruction...\n"
     ]
    },
    {
     "name": "stderr",
     "output_type": "stream",
     "text": [
      "Processing URLs:  63%|██████▎   | 259/412 [19:19<07:09,  2.81s/it, Current URL: https://www.eversports.de/s/unique-studios-schweinfurt]"
     ]
    },
    {
     "name": "stdout",
     "output_type": "stream",
     "text": [
      "Error during HTTP request: 404 Client Error: Not Found for url: https://www.eversports.de/s/unique-studios-schweinfurt\n",
      "Converting to DataFrame...\n",
      "Validating URLs...\n",
      "Processing completed.\n",
      "Starting URL reconstruction...\n"
     ]
    },
    {
     "name": "stderr",
     "output_type": "stream",
     "text": [
      "Processing URLs:  63%|██████▎   | 260/412 [19:21<06:04,  2.40s/it, Current URL: https://www.eversports.de/s/vertical-kay-poledance-%26-aerialarts-studio]"
     ]
    },
    {
     "name": "stdout",
     "output_type": "stream",
     "text": [
      "Error during HTTP request: 404 Client Error: Not Found for url: https://www.eversports.de/s/vertical-kay-poledance-%26-aerialarts-studio\n",
      "Converting to DataFrame...\n",
      "Validating URLs...\n",
      "Processing completed.\n",
      "Starting URL reconstruction...\n"
     ]
    },
    {
     "name": "stderr",
     "output_type": "stream",
     "text": [
      "Processing URLs:  63%|██████▎   | 261/412 [19:22<05:12,  2.07s/it, Current URL: https://www.eversports.de/s/home-of-pole]                                "
     ]
    },
    {
     "name": "stdout",
     "output_type": "stream",
     "text": [
      "Error during HTTP request: 404 Client Error: Not Found for url: https://www.eversports.de/s/home-of-pole\n",
      "Converting to DataFrame...\n",
      "Validating URLs...\n",
      "Processing completed.\n",
      "Starting URL reconstruction...\n"
     ]
    },
    {
     "name": "stderr",
     "output_type": "stream",
     "text": [
      "Processing URLs:  64%|██████▎   | 262/412 [19:23<04:31,  1.81s/it, Current URL: https://www.eversports.de/s/passionate-pole-%26-sports]"
     ]
    },
    {
     "name": "stdout",
     "output_type": "stream",
     "text": [
      "Error during HTTP request: 404 Client Error: Not Found for url: https://www.eversports.de/s/passionate-pole-%26-sports\n",
      "Converting to DataFrame...\n",
      "Validating URLs...\n",
      "Processing completed.\n",
      "Starting URL reconstruction...\n"
     ]
    },
    {
     "name": "stderr",
     "output_type": "stream",
     "text": [
      "Processing URLs:  64%|██████▍   | 263/412 [19:25<04:08,  1.67s/it, Current URL: https://www.eversports.de/s/tanzvisionen]              "
     ]
    },
    {
     "name": "stdout",
     "output_type": "stream",
     "text": [
      "Error during HTTP request: 404 Client Error: Not Found for url: https://www.eversports.de/s/tanzvisionen\n",
      "Converting to DataFrame...\n",
      "Validating URLs...\n",
      "Processing completed.\n",
      "Starting URL reconstruction...\n"
     ]
    },
    {
     "name": "stderr",
     "output_type": "stream",
     "text": [
      "2024-02-01 23:07:32,530 - INFO - Processing URL 1/3: https://www.eversports.de/s/tanzteufel\n"
     ]
    },
    {
     "name": "stdout",
     "output_type": "stream",
     "text": [
      "Converting to DataFrame...\n",
      "Validating URLs...\n"
     ]
    },
    {
     "name": "stderr",
     "output_type": "stream",
     "text": [
      "2024-02-01 23:07:33,812 - INFO - URL https://www.eversports.de/s/tanzteufel is valid.\n",
      "2024-02-01 23:07:33,813 - INFO - Processing URL 2/3: https://www.eversports.de/sp/tanzteufel\n",
      "2024-02-01 23:07:34,988 - INFO - URL https://www.eversports.de/sp/tanzteufel is valid.\n",
      "2024-02-01 23:07:34,989 - INFO - Processing URL 3/3: https://www.eversports.de/s/tanzteufel/team\n",
      "2024-02-01 23:07:36,350 - INFO - URL https://www.eversports.de/s/tanzteufel/team is valid.\n"
     ]
    },
    {
     "name": "stdout",
     "output_type": "stream",
     "text": [
      "Scraping Pole Studio Data from https://www.eversports.de/s/tanzteufel...\n"
     ]
    },
    {
     "name": "stderr",
     "output_type": "stream",
     "text": [
      "Processing URLs:  64%|██████▍   | 264/412 [19:30<07:08,  2.90s/it, Current URL: https://www.eversports.de/s/tanzteufel]  "
     ]
    },
    {
     "name": "stdout",
     "output_type": "stream",
     "text": [
      "Processing completed.\n",
      "Pole Studio Data: 1 entries\n",
      "Starting URL reconstruction...\n"
     ]
    },
    {
     "name": "stderr",
     "output_type": "stream",
     "text": [
      "2024-02-01 23:07:38,455 - INFO - Processing URL 1/3: https://www.eversports.de/s/divapole\n"
     ]
    },
    {
     "name": "stdout",
     "output_type": "stream",
     "text": [
      "Error reconstructing URL for 'Trainings': Unrecognized text: 'Trainings'\n",
      "Converting to DataFrame...\n",
      "Validating URLs...\n"
     ]
    },
    {
     "name": "stderr",
     "output_type": "stream",
     "text": [
      "2024-02-01 23:07:39,780 - INFO - URL https://www.eversports.de/s/divapole is valid.\n",
      "2024-02-01 23:07:39,782 - INFO - Processing URL 2/3: https://www.eversports.de/sp/divapole\n",
      "2024-02-01 23:07:41,311 - INFO - URL https://www.eversports.de/sp/divapole is valid.\n",
      "2024-02-01 23:07:41,312 - INFO - Processing URL 3/3: https://www.eversports.de/s/divapole/team\n",
      "2024-02-01 23:07:42,536 - INFO - URL https://www.eversports.de/s/divapole/team is valid.\n"
     ]
    },
    {
     "name": "stdout",
     "output_type": "stream",
     "text": [
      "Scraping Pole Studio Data from https://www.eversports.de/s/divapole...\n"
     ]
    },
    {
     "name": "stderr",
     "output_type": "stream",
     "text": [
      "Processing URLs:  64%|██████▍   | 265/412 [19:38<10:54,  4.45s/it, Current URL: https://www.eversports.de/s/divapole]  "
     ]
    },
    {
     "name": "stdout",
     "output_type": "stream",
     "text": [
      "Processing completed.\n",
      "Pole Studio Data: 1 entries\n",
      "Starting URL reconstruction...\n"
     ]
    },
    {
     "name": "stderr",
     "output_type": "stream",
     "text": [
      "Processing URLs:  65%|██████▍   | 266/412 [19:42<10:17,  4.23s/it, Current URL: https://www.eversports.de/s/polemotions-g%c3%b6ppingen]"
     ]
    },
    {
     "name": "stdout",
     "output_type": "stream",
     "text": [
      "Error during HTTP request: Exceeded 30 redirects.\n",
      "Converting to DataFrame...\n",
      "Validating URLs...\n",
      "Processing completed.\n",
      "Starting URL reconstruction...\n"
     ]
    },
    {
     "name": "stderr",
     "output_type": "stream",
     "text": [
      "2024-02-01 23:07:49,871 - INFO - Processing URL 1/1: https://www.eversports.de/s/muse-pole-dance\n"
     ]
    },
    {
     "name": "stdout",
     "output_type": "stream",
     "text": [
      "Converting to DataFrame...\n",
      "Validating URLs...\n"
     ]
    },
    {
     "name": "stderr",
     "output_type": "stream",
     "text": [
      "2024-02-01 23:07:51,506 - INFO - URL https://www.eversports.de/s/muse-pole-dance is valid.\n"
     ]
    },
    {
     "name": "stdout",
     "output_type": "stream",
     "text": [
      "Scraping Pole Studio Data from https://www.eversports.de/s/muse-pole-dance...\n"
     ]
    },
    {
     "name": "stderr",
     "output_type": "stream",
     "text": [
      "Processing URLs:  65%|██████▍   | 267/412 [19:45<09:32,  3.95s/it, Current URL: https://www.eversports.de/s/muse-pole-dance]           "
     ]
    },
    {
     "name": "stdout",
     "output_type": "stream",
     "text": [
      "Processing completed.\n",
      "Pole Studio Data: 1 entries\n",
      "Starting URL reconstruction...\n"
     ]
    },
    {
     "name": "stderr",
     "output_type": "stream",
     "text": [
      "Processing URLs:  65%|██████▌   | 268/412 [19:47<07:28,  3.11s/it, Current URL: https://www.eversports.de/s/pole-arts-saarland-]"
     ]
    },
    {
     "name": "stdout",
     "output_type": "stream",
     "text": [
      "Error during HTTP request: 404 Client Error: Not Found for url: https://www.eversports.de/s/pole-arts-saarland-\n",
      "Converting to DataFrame...\n",
      "Validating URLs...\n",
      "Processing completed.\n",
      "Starting URL reconstruction...\n"
     ]
    },
    {
     "name": "stderr",
     "output_type": "stream",
     "text": [
      "Processing URLs:  65%|██████▌   | 269/412 [19:48<06:00,  2.52s/it, Current URL: https://www.eversports.de/s/dance-department]   "
     ]
    },
    {
     "name": "stdout",
     "output_type": "stream",
     "text": [
      "Error during HTTP request: 404 Client Error: Not Found for url: https://www.eversports.de/s/dance-department\n",
      "Converting to DataFrame...\n",
      "Validating URLs...\n",
      "Processing completed.\n",
      "Starting URL reconstruction...\n"
     ]
    },
    {
     "name": "stderr",
     "output_type": "stream",
     "text": [
      "Processing URLs:  66%|██████▌   | 270/412 [19:51<06:41,  2.83s/it, Current URL: https://www.eversports.de/s/sweatndance-k%c3%b6ln]"
     ]
    },
    {
     "name": "stdout",
     "output_type": "stream",
     "text": [
      "Error during HTTP request: Exceeded 30 redirects.\n",
      "Converting to DataFrame...\n",
      "Validating URLs...\n",
      "Processing completed.\n",
      "Starting URL reconstruction...\n"
     ]
    },
    {
     "name": "stderr",
     "output_type": "stream",
     "text": [
      "2024-02-01 23:07:59,134 - INFO - Processing URL 1/4: https://www.eversports.de/s/polecreation\n"
     ]
    },
    {
     "name": "stdout",
     "output_type": "stream",
     "text": [
      "Converting to DataFrame...\n",
      "Validating URLs...\n"
     ]
    },
    {
     "name": "stderr",
     "output_type": "stream",
     "text": [
      "2024-02-01 23:08:00,480 - INFO - URL https://www.eversports.de/s/polecreation is valid.\n",
      "2024-02-01 23:08:00,481 - INFO - Processing URL 2/4: https://www.eversports.de/sw/polecreation\n",
      "2024-02-01 23:08:01,614 - INFO - URL https://www.eversports.de/sw/polecreation is valid.\n",
      "2024-02-01 23:08:01,615 - INFO - Processing URL 3/4: https://www.eversports.de/sp/polecreation\n",
      "2024-02-01 23:08:02,710 - INFO - URL https://www.eversports.de/sp/polecreation is valid.\n",
      "2024-02-01 23:08:02,710 - INFO - Processing URL 4/4: https://www.eversports.de/s/polecreation/team\n",
      "2024-02-01 23:08:03,937 - INFO - URL https://www.eversports.de/s/polecreation/team is valid.\n"
     ]
    },
    {
     "name": "stdout",
     "output_type": "stream",
     "text": [
      "Scraping Pole Studio Data from https://www.eversports.de/s/polecreation...\n",
      "Scraping Workshops Data from https://www.eversports.de/sw/polecreation...\n",
      "Scraping Workshop Details from https://www.eversports.de/e/workshop/bmZxua4...\n",
      "Scraping Workshop Details from https://www.eversports.de/e/workshop/qcRMhzd...\n",
      "Scraping Workshop Details from https://www.eversports.de/e/workshop/Zj0NETg...\n"
     ]
    },
    {
     "name": "stderr",
     "output_type": "stream",
     "text": [
      "Processing URLs:  66%|██████▌   | 271/412 [20:03<12:57,  5.51s/it, Current URL: https://www.eversports.de/s/polecreation]         "
     ]
    },
    {
     "name": "stdout",
     "output_type": "stream",
     "text": [
      "Processing completed.\n",
      "Pole Studio Data: 1 entries\n",
      "Workshops Data: 3 entries\n",
      "Workshop Details: 3 entries\n",
      "Starting URL reconstruction...\n"
     ]
    },
    {
     "name": "stderr",
     "output_type": "stream",
     "text": [
      "2024-02-01 23:08:11,873 - INFO - Processing URL 1/4: https://www.eversports.de/s/star-poledance\n"
     ]
    },
    {
     "name": "stdout",
     "output_type": "stream",
     "text": [
      "Converting to DataFrame...\n",
      "Validating URLs...\n"
     ]
    },
    {
     "name": "stderr",
     "output_type": "stream",
     "text": [
      "2024-02-01 23:08:13,129 - INFO - URL https://www.eversports.de/s/star-poledance is valid.\n",
      "2024-02-01 23:08:13,130 - INFO - Processing URL 2/4: https://www.eversports.de/sw/star-poledance\n",
      "2024-02-01 23:08:14,364 - INFO - URL https://www.eversports.de/sw/star-poledance is valid.\n",
      "2024-02-01 23:08:14,366 - INFO - Processing URL 3/4: https://www.eversports.de/sp/star-poledance\n",
      "2024-02-01 23:08:15,529 - INFO - URL https://www.eversports.de/sp/star-poledance is valid.\n",
      "2024-02-01 23:08:15,529 - INFO - Processing URL 4/4: https://www.eversports.de/s/star-poledance/team\n",
      "2024-02-01 23:08:16,698 - INFO - URL https://www.eversports.de/s/star-poledance/team is valid.\n"
     ]
    },
    {
     "name": "stdout",
     "output_type": "stream",
     "text": [
      "Scraping Pole Studio Data from https://www.eversports.de/s/star-poledance...\n",
      "Scraping Workshops Data from https://www.eversports.de/sw/star-poledance...\n",
      "Scraping Workshop Details from https://www.eversports.de/e/workshop/jZ6LjEO...\n"
     ]
    },
    {
     "name": "stderr",
     "output_type": "stream",
     "text": [
      "Processing URLs:  66%|██████▌   | 272/412 [20:13<15:58,  6.84s/it, Current URL: https://www.eversports.de/s/star-poledance]"
     ]
    },
    {
     "name": "stdout",
     "output_type": "stream",
     "text": [
      "Processing completed.\n",
      "Pole Studio Data: 1 entries\n",
      "Workshops Data: 1 entries\n",
      "Workshop Details: 1 entries\n",
      "Starting URL reconstruction...\n"
     ]
    },
    {
     "name": "stderr",
     "output_type": "stream",
     "text": [
      "2024-02-01 23:08:20,811 - INFO - Processing URL 1/3: https://www.eversports.de/s/polewirbel\n"
     ]
    },
    {
     "name": "stdout",
     "output_type": "stream",
     "text": [
      "Converting to DataFrame...\n",
      "Validating URLs...\n"
     ]
    },
    {
     "name": "stderr",
     "output_type": "stream",
     "text": [
      "2024-02-01 23:08:22,054 - INFO - URL https://www.eversports.de/s/polewirbel is valid.\n",
      "2024-02-01 23:08:22,055 - INFO - Processing URL 2/3: https://www.eversports.de/sp/polewirbel\n",
      "2024-02-01 23:08:23,338 - INFO - URL https://www.eversports.de/sp/polewirbel is valid.\n",
      "2024-02-01 23:08:23,338 - INFO - Processing URL 3/3: https://www.eversports.de/s/polewirbel/team\n",
      "2024-02-01 23:08:24,529 - INFO - URL https://www.eversports.de/s/polewirbel/team is valid.\n"
     ]
    },
    {
     "name": "stdout",
     "output_type": "stream",
     "text": [
      "Scraping Pole Studio Data from https://www.eversports.de/s/polewirbel...\n"
     ]
    },
    {
     "name": "stderr",
     "output_type": "stream",
     "text": [
      "Processing URLs:  66%|██████▋   | 273/412 [20:18<14:50,  6.40s/it, Current URL: https://www.eversports.de/s/polewirbel]    "
     ]
    },
    {
     "name": "stdout",
     "output_type": "stream",
     "text": [
      "Processing completed.\n",
      "Pole Studio Data: 1 entries\n",
      "Starting URL reconstruction...\n"
     ]
    },
    {
     "name": "stderr",
     "output_type": "stream",
     "text": [
      "Processing URLs:  67%|██████▋   | 274/412 [20:20<11:20,  4.93s/it, Current URL: https://www.eversports.de/s/pole-fit-nes]"
     ]
    },
    {
     "name": "stdout",
     "output_type": "stream",
     "text": [
      "Error during HTTP request: 404 Client Error: Not Found for url: https://www.eversports.de/s/pole-fit-nes\n",
      "Converting to DataFrame...\n",
      "Validating URLs...\n",
      "Processing completed.\n",
      "Starting URL reconstruction...\n"
     ]
    },
    {
     "name": "stderr",
     "output_type": "stream",
     "text": [
      "Processing URLs:  67%|██████▋   | 275/412 [20:21<08:41,  3.81s/it, Current URL: https://www.eversports.de/s/pole-circus-a-+-k]"
     ]
    },
    {
     "name": "stdout",
     "output_type": "stream",
     "text": [
      "Error during HTTP request: 404 Client Error: Not Found for url: https://www.eversports.de/s/pole-circus-a-+-k\n",
      "Converting to DataFrame...\n",
      "Validating URLs...\n",
      "Processing completed.\n",
      "Starting URL reconstruction...\n"
     ]
    },
    {
     "name": "stderr",
     "output_type": "stream",
     "text": [
      "Processing URLs:  67%|██████▋   | 276/412 [20:23<07:08,  3.15s/it, Current URL: https://www.eversports.de/s/polepoint-dance-studio]"
     ]
    },
    {
     "name": "stdout",
     "output_type": "stream",
     "text": [
      "Error during HTTP request: 404 Client Error: Not Found for url: https://www.eversports.de/s/polepoint-dance-studio\n",
      "Converting to DataFrame...\n",
      "Validating URLs...\n",
      "Processing completed.\n",
      "Starting URL reconstruction...\n"
     ]
    },
    {
     "name": "stderr",
     "output_type": "stream",
     "text": [
      "Processing URLs:  67%|██████▋   | 277/412 [20:24<05:43,  2.54s/it, Current URL: https://www.eversports.de/s/poleplace]             "
     ]
    },
    {
     "name": "stdout",
     "output_type": "stream",
     "text": [
      "Error during HTTP request: 404 Client Error: Not Found for url: https://www.eversports.de/s/poleplace\n",
      "Converting to DataFrame...\n",
      "Validating URLs...\n",
      "Processing completed.\n",
      "Starting URL reconstruction...\n"
     ]
    },
    {
     "name": "stderr",
     "output_type": "stream",
     "text": [
      "Processing URLs:  67%|██████▋   | 278/412 [20:25<04:57,  2.22s/it, Current URL: https://www.eversports.de/s/pole-dance-mettingen]"
     ]
    },
    {
     "name": "stdout",
     "output_type": "stream",
     "text": [
      "Error during HTTP request: 404 Client Error: Not Found for url: https://www.eversports.de/s/pole-dance-mettingen\n",
      "Converting to DataFrame...\n",
      "Validating URLs...\n",
      "Processing completed.\n",
      "Starting URL reconstruction...\n"
     ]
    },
    {
     "name": "stderr",
     "output_type": "stream",
     "text": [
      "Processing URLs:  68%|██████▊   | 279/412 [20:26<04:12,  1.90s/it, Current URL: https://www.eversports.de/s/dance-%26-fitness-academy]"
     ]
    },
    {
     "name": "stdout",
     "output_type": "stream",
     "text": [
      "Error during HTTP request: 404 Client Error: Not Found for url: https://www.eversports.de/s/dance-%26-fitness-academy\n",
      "Converting to DataFrame...\n",
      "Validating URLs...\n",
      "Processing completed.\n",
      "Starting URL reconstruction...\n"
     ]
    },
    {
     "name": "stderr",
     "output_type": "stream",
     "text": [
      "2024-02-01 23:08:34,885 - INFO - Processing URL 1/4: https://www.eversports.de/s/move-on-dance-studio-and-polemotions\n"
     ]
    },
    {
     "name": "stdout",
     "output_type": "stream",
     "text": [
      "Error reconstructing URL for 'Kurse': Unrecognized text: 'Kurse'\n",
      "Converting to DataFrame...\n",
      "Validating URLs...\n"
     ]
    },
    {
     "name": "stderr",
     "output_type": "stream",
     "text": [
      "2024-02-01 23:08:36,275 - INFO - URL https://www.eversports.de/s/move-on-dance-studio-and-polemotions is valid.\n",
      "2024-02-01 23:08:36,276 - INFO - Processing URL 2/4: https://www.eversports.de/sw/move-on-dance-studio-and-polemotions\n",
      "2024-02-01 23:08:37,415 - INFO - URL https://www.eversports.de/sw/move-on-dance-studio-and-polemotions is valid.\n",
      "2024-02-01 23:08:37,416 - INFO - Processing URL 3/4: https://www.eversports.de/sp/move-on-dance-studio-and-polemotions\n",
      "2024-02-01 23:08:38,753 - INFO - URL https://www.eversports.de/sp/move-on-dance-studio-and-polemotions is valid.\n",
      "2024-02-01 23:08:38,754 - INFO - Processing URL 4/4: https://www.eversports.de/s/move-on-dance-studio-and-polemotions/team\n",
      "2024-02-01 23:08:40,010 - INFO - URL https://www.eversports.de/s/move-on-dance-studio-and-polemotions/team is valid.\n"
     ]
    },
    {
     "name": "stdout",
     "output_type": "stream",
     "text": [
      "Scraping Pole Studio Data from https://www.eversports.de/s/move-on-dance-studio-and-polemotions...\n",
      "Scraping Workshops Data from https://www.eversports.de/sw/move-on-dance-studio-and-polemotions...\n",
      "Scraping Workshop Details from https://www.eversports.de/e/workshop/1i9L-3q...\n"
     ]
    },
    {
     "name": "stderr",
     "output_type": "stream",
     "text": [
      "Processing URLs:  68%|██████▊   | 280/412 [20:37<09:44,  4.42s/it, Current URL: https://www.eversports.de/s/move-on-dance-studio-and-polemotions]"
     ]
    },
    {
     "name": "stdout",
     "output_type": "stream",
     "text": [
      "Processing completed.\n",
      "Pole Studio Data: 1 entries\n",
      "Workshops Data: 1 entries\n",
      "Workshop Details: 1 entries\n",
      "Starting URL reconstruction...\n"
     ]
    },
    {
     "name": "stderr",
     "output_type": "stream",
     "text": [
      "Processing URLs:  68%|██████▊   | 281/412 [20:38<07:37,  3.49s/it, Current URL: https://www.eversports.de/s/die-dance-academy-by-wipper]         "
     ]
    },
    {
     "name": "stdout",
     "output_type": "stream",
     "text": [
      "Error during HTTP request: 404 Client Error: Not Found for url: https://www.eversports.de/s/die-dance-academy-by-wipper\n",
      "Converting to DataFrame...\n",
      "Validating URLs...\n",
      "Processing completed.\n",
      "Starting URL reconstruction...\n"
     ]
    },
    {
     "name": "stderr",
     "output_type": "stream",
     "text": [
      "2024-02-01 23:08:46,660 - INFO - Processing URL 1/1: https://www.eversports.de/s/polesensation\n"
     ]
    },
    {
     "name": "stdout",
     "output_type": "stream",
     "text": [
      "Converting to DataFrame...\n",
      "Validating URLs...\n"
     ]
    },
    {
     "name": "stderr",
     "output_type": "stream",
     "text": [
      "2024-02-01 23:08:48,358 - INFO - URL https://www.eversports.de/s/polesensation is valid.\n"
     ]
    },
    {
     "name": "stdout",
     "output_type": "stream",
     "text": [
      "Scraping Pole Studio Data from https://www.eversports.de/s/polesensation...\n"
     ]
    },
    {
     "name": "stderr",
     "output_type": "stream",
     "text": [
      "Processing URLs:  68%|██████▊   | 282/412 [20:42<08:01,  3.70s/it, Current URL: https://www.eversports.de/s/polesensation]              "
     ]
    },
    {
     "name": "stdout",
     "output_type": "stream",
     "text": [
      "Processing completed.\n",
      "Pole Studio Data: 1 entries\n",
      "Starting URL reconstruction...\n"
     ]
    },
    {
     "name": "stderr",
     "output_type": "stream",
     "text": [
      "Processing URLs:  69%|██████▊   | 283/412 [20:44<06:45,  3.14s/it, Current URL: https://www.eversports.de/s/polefitness-by-sophie-m.]"
     ]
    },
    {
     "name": "stdout",
     "output_type": "stream",
     "text": [
      "Error during HTTP request: 404 Client Error: Not Found for url: https://www.eversports.de/s/polefitness-by-sophie-m.\n",
      "Converting to DataFrame...\n",
      "Validating URLs...\n",
      "Processing completed.\n",
      "Starting URL reconstruction...\n"
     ]
    },
    {
     "name": "stderr",
     "output_type": "stream",
     "text": [
      "2024-02-01 23:08:52,967 - INFO - Processing URL 1/4: https://www.eversports.de/s/schoenheitstanz-studio\n"
     ]
    },
    {
     "name": "stdout",
     "output_type": "stream",
     "text": [
      "Error reconstructing URL for 'Events': Unrecognized text: 'Events'\n",
      "Converting to DataFrame...\n",
      "Validating URLs...\n"
     ]
    },
    {
     "name": "stderr",
     "output_type": "stream",
     "text": [
      "2024-02-01 23:08:54,988 - INFO - URL https://www.eversports.de/s/schoenheitstanz-studio is valid.\n",
      "2024-02-01 23:08:54,990 - INFO - Processing URL 2/4: https://www.eversports.de/sw/schoenheitstanz-studio\n",
      "2024-02-01 23:08:59,857 - INFO - URL https://www.eversports.de/sw/schoenheitstanz-studio is valid.\n",
      "2024-02-01 23:08:59,859 - INFO - Processing URL 3/4: https://www.eversports.de/sp/schoenheitstanz-studio\n",
      "2024-02-01 23:09:01,194 - INFO - URL https://www.eversports.de/sp/schoenheitstanz-studio is valid.\n",
      "2024-02-01 23:09:01,196 - INFO - Processing URL 4/4: https://www.eversports.de/s/schoenheitstanz-studio/team\n",
      "2024-02-01 23:09:02,682 - INFO - URL https://www.eversports.de/s/schoenheitstanz-studio/team is valid.\n"
     ]
    },
    {
     "name": "stdout",
     "output_type": "stream",
     "text": [
      "Scraping Pole Studio Data from https://www.eversports.de/s/schoenheitstanz-studio...\n",
      "Scraping Workshops Data from https://www.eversports.de/sw/schoenheitstanz-studio...\n",
      "Scraping Workshop Details from https://www.eversports.de/e/workshop/U7zlEnt...\n",
      "Scraping Workshop Details from https://www.eversports.de/e/workshop/FWAxvoS...\n",
      "Scraping Workshop Details from https://www.eversports.de/e/workshop/grkxBH6...\n",
      "Scraping Workshop Details from https://www.eversports.de/e/workshop/YHVJqpe...\n",
      "Scraping Workshop Details from https://www.eversports.de/e/workshop/7TGSxs7...\n",
      "Scraping Workshop Details from https://www.eversports.de/e/workshop/PJH8px9...\n",
      "Scraping Workshop Details from https://www.eversports.de/e/workshop/TIB5eun...\n",
      "Scraping Workshop Details from https://www.eversports.de/e/workshop/AusEWhX...\n",
      "Scraping Workshop Details from https://www.eversports.de/e/workshop/EXI9bhu...\n",
      "Scraping Workshop Details from https://www.eversports.de/e/workshop/-fUr-r3...\n",
      "Scraping Workshop Details from https://www.eversports.de/e/workshop/8ZaKFif...\n",
      "Scraping Workshop Details from https://www.eversports.de/e/workshop/ENyQnil...\n",
      "Scraping Workshop Details from https://www.eversports.de/e/workshop/k-lte3C...\n",
      "Scraping Workshop Details from https://www.eversports.de/e/workshop/W4EOuNp...\n",
      "Scraping Workshop Details from https://www.eversports.de/e/workshop/6bAW9KR...\n",
      "Scraping Workshop Details from https://www.eversports.de/e/workshop/o_XLfIC...\n",
      "Scraping Workshop Details from https://www.eversports.de/e/workshop/npP7JVG...\n",
      "Scraping Workshop Details from https://www.eversports.de/e/workshop/5sKuQHR...\n",
      "Scraping Workshop Details from https://www.eversports.de/e/workshop/nY-OhUe...\n",
      "Scraping Workshop Details from https://www.eversports.de/e/workshop/e0T0khi...\n",
      "Scraping Workshop Details from https://www.eversports.de/e/workshop/LD103vJ...\n",
      "Scraping Workshop Details from https://www.eversports.de/e/workshop/xCayZIW...\n",
      "Scraping Workshop Details from https://www.eversports.de/e/workshop/nM6r0Ic...\n",
      "Scraping Workshop Details from https://www.eversports.de/e/workshop/hQ8U2tE...\n",
      "Scraping Workshop Details from https://www.eversports.de/e/workshop/CVUleH8...\n",
      "Scraping Workshop Details from https://www.eversports.de/e/workshop/ZqXA7Y8...\n",
      "Scraping Workshop Details from https://www.eversports.de/e/workshop/hgCxZm6...\n",
      "Scraping Workshop Details from https://www.eversports.de/e/workshop/VU5c6C_...\n",
      "Scraping Workshop Details from https://www.eversports.de/e/workshop/inR_xoX...\n",
      "Scraping Workshop Details from https://www.eversports.de/e/workshop/3CN7roB...\n",
      "Scraping Workshop Details from https://www.eversports.de/e/workshop/hONC_aO...\n",
      "Scraping Workshop Details from https://www.eversports.de/e/workshop/A5lJjTH...\n",
      "Scraping Workshop Details from https://www.eversports.de/e/workshop/ygw2_TL...\n",
      "Scraping Workshop Details from https://www.eversports.de/e/workshop/6p_z1vi...\n",
      "Scraping Workshop Details from https://www.eversports.de/e/workshop/hYh8ik3...\n",
      "Scraping Workshop Details from https://www.eversports.de/e/workshop/Tqtzdzb...\n",
      "Scraping Workshop Details from https://www.eversports.de/e/workshop/EBZuEA1...\n",
      "Scraping Workshop Details from https://www.eversports.de/e/workshop/bkSlugn...\n",
      "Scraping Workshop Details from https://www.eversports.de/e/workshop/Nv15_mw...\n",
      "Scraping Workshop Details from https://www.eversports.de/e/workshop/SLy-s_i...\n",
      "Scraping Workshop Details from https://www.eversports.de/e/workshop/I09unU9...\n",
      "Scraping Workshop Details from https://www.eversports.de/e/workshop/dcD4Lin...\n",
      "Scraping Workshop Details from https://www.eversports.de/e/workshop/kYpFiaE...\n",
      "Scraping Workshop Details from https://www.eversports.de/e/workshop/1GkBeDT...\n",
      "Scraping Workshop Details from https://www.eversports.de/e/workshop/wTDOHkH...\n",
      "Scraping Workshop Details from https://www.eversports.de/e/workshop/uHk1KUg...\n",
      "Scraping Workshop Details from https://www.eversports.de/e/workshop/hW3O71v...\n",
      "Scraping Workshop Details from https://www.eversports.de/e/workshop/J_WWezC...\n",
      "Scraping Workshop Details from https://www.eversports.de/e/workshop/54itEaz...\n",
      "Scraping Workshop Details from https://www.eversports.de/e/workshop/EDBeHyX...\n",
      "Scraping Workshop Details from https://www.eversports.de/e/workshop/z4rC1sa...\n",
      "Scraping Workshop Details from https://www.eversports.de/e/workshop/rvq2QWJ...\n",
      "Scraping Workshop Details from https://www.eversports.de/e/workshop/_kWyZFK...\n",
      "Scraping Workshop Details from https://www.eversports.de/e/workshop/AN_9D9F...\n",
      "Scraping Workshop Details from https://www.eversports.de/e/workshop/QPoxv4i...\n",
      "Scraping Workshop Details from https://www.eversports.de/e/workshop/3yk1t8C...\n",
      "Scraping Workshop Details from https://www.eversports.de/e/workshop/kVDtH76...\n",
      "Scraping Workshop Details from https://www.eversports.de/e/workshop/4egslRX...\n",
      "Scraping Workshop Details from https://www.eversports.de/e/workshop/UYgHVwy...\n",
      "Scraping Workshop Details from https://www.eversports.de/e/workshop/YpJqTDS...\n",
      "Scraping Workshop Details from https://www.eversports.de/e/workshop/82dGR1f...\n",
      "Scraping Workshop Details from https://www.eversports.de/e/workshop/7uJPxgC...\n",
      "Scraping Workshop Details from https://www.eversports.de/e/workshop/pDjMaOI...\n",
      "Scraping Workshop Details from https://www.eversports.de/e/workshop/xUJF8zC...\n",
      "Scraping Workshop Details from https://www.eversports.de/e/workshop/oCv_Dwa...\n",
      "Scraping Workshop Details from https://www.eversports.de/e/workshop/ot643qA...\n",
      "Scraping Workshop Details from https://www.eversports.de/e/workshop/drIG2eI...\n",
      "Scraping Workshop Details from https://www.eversports.de/e/workshop/iuE5Wsa...\n",
      "Scraping Workshop Details from https://www.eversports.de/e/workshop/nT2TC19...\n",
      "Scraping Workshop Details from https://www.eversports.de/e/workshop/n6KRMjB...\n",
      "Scraping Workshop Details from https://www.eversports.de/e/workshop/qNpxqi5...\n",
      "Scraping Workshop Details from https://www.eversports.de/e/workshop/i2UXxMl...\n",
      "Scraping Workshop Details from https://www.eversports.de/e/workshop/GaGNoGx...\n",
      "Scraping Workshop Details from https://www.eversports.de/e/workshop/gOdtqrR...\n"
     ]
    },
    {
     "name": "stderr",
     "output_type": "stream",
     "text": [
      "Processing URLs:  69%|██████▉   | 284/412 [23:06<1:35:47, 44.90s/it, Current URL: https://www.eversports.de/s/schoenheitstanz-studio]  "
     ]
    },
    {
     "name": "stdout",
     "output_type": "stream",
     "text": [
      "Processing completed.\n",
      "Pole Studio Data: 1 entries\n",
      "Workshops Data: 74 entries\n",
      "Workshop Details: 74 entries\n",
      "Starting URL reconstruction...\n"
     ]
    },
    {
     "name": "stderr",
     "output_type": "stream",
     "text": [
      "Processing URLs:  69%|██████▉   | 285/412 [23:08<1:07:35, 31.93s/it, Current URL: https://www.eversports.de/s/airobics---pole-%26-aerial-dance-hamburg]"
     ]
    },
    {
     "name": "stdout",
     "output_type": "stream",
     "text": [
      "Error during HTTP request: 404 Client Error: Not Found for url: https://www.eversports.de/s/airobics---pole-%26-aerial-dance-hamburg\n",
      "Converting to DataFrame...\n",
      "Validating URLs...\n",
      "Processing completed.\n",
      "Starting URL reconstruction...\n"
     ]
    },
    {
     "name": "stderr",
     "output_type": "stream",
     "text": [
      "2024-02-01 23:11:16,338 - INFO - Processing URL 1/4: https://www.eversports.de/s/polespirit\n"
     ]
    },
    {
     "name": "stdout",
     "output_type": "stream",
     "text": [
      "Converting to DataFrame...\n",
      "Validating URLs...\n"
     ]
    },
    {
     "name": "stderr",
     "output_type": "stream",
     "text": [
      "2024-02-01 23:11:17,746 - INFO - URL https://www.eversports.de/s/polespirit is valid.\n",
      "2024-02-01 23:11:17,747 - INFO - Processing URL 2/4: https://www.eversports.de/sw/polespirit\n",
      "2024-02-01 23:11:19,091 - INFO - URL https://www.eversports.de/sw/polespirit is valid.\n",
      "2024-02-01 23:11:19,092 - INFO - Processing URL 3/4: https://www.eversports.de/sp/polespirit\n",
      "2024-02-01 23:11:20,300 - INFO - URL https://www.eversports.de/sp/polespirit is valid.\n",
      "2024-02-01 23:11:20,301 - INFO - Processing URL 4/4: https://www.eversports.de/s/polespirit/team\n",
      "2024-02-01 23:11:21,633 - INFO - URL https://www.eversports.de/s/polespirit/team is valid.\n"
     ]
    },
    {
     "name": "stdout",
     "output_type": "stream",
     "text": [
      "Scraping Pole Studio Data from https://www.eversports.de/s/polespirit...\n",
      "Scraping Workshops Data from https://www.eversports.de/sw/polespirit...\n",
      "Scraping Workshop Details from https://www.eversports.de/e/workshop/c-5lTys...\n",
      "Scraping Workshop Details from https://www.eversports.de/e/workshop/xUH0CLo...\n",
      "Scraping Workshop Details from https://www.eversports.de/e/workshop/GpBpifi...\n"
     ]
    },
    {
     "name": "stderr",
     "output_type": "stream",
     "text": [
      "Processing URLs:  69%|██████▉   | 286/412 [23:22<55:57, 26.65s/it, Current URL: https://www.eversports.de/s/polespirit]                                "
     ]
    },
    {
     "name": "stdout",
     "output_type": "stream",
     "text": [
      "Processing completed.\n",
      "Pole Studio Data: 1 entries\n",
      "Workshops Data: 3 entries\n",
      "Workshop Details: 3 entries\n",
      "Starting URL reconstruction...\n"
     ]
    },
    {
     "name": "stderr",
     "output_type": "stream",
     "text": [
      "Processing URLs:  70%|██████▉   | 287/412 [23:24<39:40, 19.05s/it, Current URL: https://www.eversports.de/s/aerial-art-studio]"
     ]
    },
    {
     "name": "stdout",
     "output_type": "stream",
     "text": [
      "Error during HTTP request: 404 Client Error: Not Found for url: https://www.eversports.de/s/aerial-art-studio\n",
      "Converting to DataFrame...\n",
      "Validating URLs...\n",
      "Processing completed.\n",
      "Starting URL reconstruction...\n"
     ]
    },
    {
     "name": "stderr",
     "output_type": "stream",
     "text": [
      "2024-02-01 23:11:31,802 - INFO - Processing URL 1/4: https://www.eversports.de/s/poledancestar\n"
     ]
    },
    {
     "name": "stdout",
     "output_type": "stream",
     "text": [
      "Error reconstructing URL for 'Trainings': Unrecognized text: 'Trainings'\n",
      "Error reconstructing URL for 'Kurse': Unrecognized text: 'Kurse'\n",
      "Converting to DataFrame...\n",
      "Validating URLs...\n"
     ]
    },
    {
     "name": "stderr",
     "output_type": "stream",
     "text": [
      "2024-02-01 23:11:34,520 - INFO - URL https://www.eversports.de/s/poledancestar is valid.\n",
      "2024-02-01 23:11:34,521 - INFO - Processing URL 2/4: https://www.eversports.de/sw/poledancestar\n",
      "2024-02-01 23:11:36,255 - INFO - URL https://www.eversports.de/sw/poledancestar is valid.\n",
      "2024-02-01 23:11:36,256 - INFO - Processing URL 3/4: https://www.eversports.de/sp/poledancestar\n",
      "2024-02-01 23:11:37,482 - INFO - URL https://www.eversports.de/sp/poledancestar is valid.\n",
      "2024-02-01 23:11:37,483 - INFO - Processing URL 4/4: https://www.eversports.de/s/poledancestar/team\n",
      "2024-02-01 23:11:39,744 - INFO - URL https://www.eversports.de/s/poledancestar/team is valid.\n"
     ]
    },
    {
     "name": "stdout",
     "output_type": "stream",
     "text": [
      "Scraping Pole Studio Data from https://www.eversports.de/s/poledancestar...\n",
      "Scraping Workshops Data from https://www.eversports.de/sw/poledancestar...\n",
      "Scraping Workshop Details from https://www.eversports.de/e/workshop/K-hife3...\n",
      "Scraping Workshop Details from https://www.eversports.de/e/workshop/xaEtNcz...\n",
      "Scraping Workshop Details from https://www.eversports.de/e/workshop/wiYgBoM...\n",
      "Scraping Workshop Details from https://www.eversports.de/e/workshop/6-MAo7Z...\n",
      "Scraping Workshop Details from https://www.eversports.de/e/workshop/GVnc2YT...\n",
      "Scraping Workshop Details from https://www.eversports.de/e/workshop/Une0T_w...\n",
      "Scraping Workshop Details from https://www.eversports.de/e/workshop/59slMW0...\n",
      "Scraping Workshop Details from https://www.eversports.de/e/workshop/FWyv3gp...\n",
      "Scraping Workshop Details from https://www.eversports.de/e/workshop/gdRuiO9...\n",
      "Scraping Workshop Details from https://www.eversports.de/e/workshop/edFh1ih...\n",
      "Scraping Workshop Details from https://www.eversports.de/e/workshop/l467buh...\n",
      "Scraping Workshop Details from https://www.eversports.de/e/workshop/fvmjDvJ...\n",
      "Scraping Workshop Details from https://www.eversports.de/e/workshop/_YEPqgy...\n",
      "Scraping Workshop Details from https://www.eversports.de/e/workshop/J71eKxz...\n"
     ]
    },
    {
     "name": "stderr",
     "output_type": "stream",
     "text": [
      "Processing URLs:  70%|██████▉   | 288/412 [23:57<48:23, 23.42s/it, Current URL: https://www.eversports.de/s/poledancestar]    "
     ]
    },
    {
     "name": "stdout",
     "output_type": "stream",
     "text": [
      "Processing completed.\n",
      "Pole Studio Data: 1 entries\n",
      "Workshops Data: 14 entries\n",
      "Workshop Details: 14 entries\n",
      "Starting URL reconstruction...\n"
     ]
    },
    {
     "name": "stderr",
     "output_type": "stream",
     "text": [
      "Processing URLs:  70%|███████   | 289/412 [23:59<34:45, 16.96s/it, Current URL: https://www.eversports.de/s/pole-sensation]"
     ]
    },
    {
     "name": "stdout",
     "output_type": "stream",
     "text": [
      "Error during HTTP request: 404 Client Error: Not Found for url: https://www.eversports.de/s/pole-sensation\n",
      "Converting to DataFrame...\n",
      "Validating URLs...\n",
      "Processing completed.\n",
      "Starting URL reconstruction...\n"
     ]
    },
    {
     "name": "stderr",
     "output_type": "stream",
     "text": [
      "2024-02-01 23:12:07,110 - INFO - Processing URL 1/3: https://www.eversports.de/s/one8dance-studio\n"
     ]
    },
    {
     "name": "stdout",
     "output_type": "stream",
     "text": [
      "Error reconstructing URL for 'Kurse': Unrecognized text: 'Kurse'\n",
      "Converting to DataFrame...\n",
      "Validating URLs...\n"
     ]
    },
    {
     "name": "stderr",
     "output_type": "stream",
     "text": [
      "2024-02-01 23:12:08,515 - INFO - URL https://www.eversports.de/s/one8dance-studio is valid.\n",
      "2024-02-01 23:12:08,516 - INFO - Processing URL 2/3: https://www.eversports.de/sp/one8dance-studio\n",
      "2024-02-01 23:12:09,830 - INFO - URL https://www.eversports.de/sp/one8dance-studio is valid.\n",
      "2024-02-01 23:12:09,831 - INFO - Processing URL 3/3: https://www.eversports.de/s/one8dance-studio/team\n",
      "2024-02-01 23:12:11,194 - INFO - URL https://www.eversports.de/s/one8dance-studio/team is valid.\n"
     ]
    },
    {
     "name": "stdout",
     "output_type": "stream",
     "text": [
      "Scraping Pole Studio Data from https://www.eversports.de/s/one8dance-studio...\n"
     ]
    },
    {
     "name": "stderr",
     "output_type": "stream",
     "text": [
      "Processing URLs:  70%|███████   | 290/412 [24:05<27:45, 13.66s/it, Current URL: https://www.eversports.de/s/one8dance-studio]"
     ]
    },
    {
     "name": "stdout",
     "output_type": "stream",
     "text": [
      "Processing completed.\n",
      "Pole Studio Data: 1 entries\n",
      "Starting URL reconstruction...\n"
     ]
    },
    {
     "name": "stderr",
     "output_type": "stream",
     "text": [
      "Processing URLs:  71%|███████   | 291/412 [24:10<22:22, 11.09s/it, Current URL: https://www.eversports.de/s/pole-%26-aerial-dance-g%c3%b6ttingen]"
     ]
    },
    {
     "name": "stdout",
     "output_type": "stream",
     "text": [
      "Error during HTTP request: Exceeded 30 redirects.\n",
      "Converting to DataFrame...\n",
      "Validating URLs...\n",
      "Processing completed.\n",
      "Starting URL reconstruction...\n"
     ]
    },
    {
     "name": "stderr",
     "output_type": "stream",
     "text": [
      "Processing URLs:  71%|███████   | 292/412 [24:12<16:24,  8.20s/it, Current URL: https://www.eversports.de/s/pole-fit-britt]                      "
     ]
    },
    {
     "name": "stdout",
     "output_type": "stream",
     "text": [
      "Error during HTTP request: 404 Client Error: Not Found for url: https://www.eversports.de/s/pole-fit-britt\n",
      "Converting to DataFrame...\n",
      "Validating URLs...\n",
      "Processing completed.\n",
      "Starting URL reconstruction...\n"
     ]
    },
    {
     "name": "stderr",
     "output_type": "stream",
     "text": [
      "2024-02-01 23:12:19,712 - INFO - Processing URL 1/3: https://www.eversports.de/s/feel-good-factory-pole-stretch-fly\n"
     ]
    },
    {
     "name": "stdout",
     "output_type": "stream",
     "text": [
      "Error reconstructing URL for 'Kurse': Unrecognized text: 'Kurse'\n",
      "Error reconstructing URL for 'Events': Unrecognized text: 'Events'\n",
      "Converting to DataFrame...\n",
      "Validating URLs...\n"
     ]
    },
    {
     "name": "stderr",
     "output_type": "stream",
     "text": [
      "2024-02-01 23:12:21,211 - INFO - URL https://www.eversports.de/s/feel-good-factory-pole-stretch-fly is valid.\n",
      "2024-02-01 23:12:21,212 - INFO - Processing URL 2/3: https://www.eversports.de/sp/feel-good-factory-pole-stretch-fly\n",
      "2024-02-01 23:12:22,593 - INFO - URL https://www.eversports.de/sp/feel-good-factory-pole-stretch-fly is valid.\n",
      "2024-02-01 23:12:22,594 - INFO - Processing URL 3/3: https://www.eversports.de/s/feel-good-factory-pole-stretch-fly/team\n",
      "2024-02-01 23:12:24,157 - INFO - URL https://www.eversports.de/s/feel-good-factory-pole-stretch-fly/team is valid.\n"
     ]
    },
    {
     "name": "stdout",
     "output_type": "stream",
     "text": [
      "Scraping Pole Studio Data from https://www.eversports.de/s/feel-good-factory-pole-stretch-fly...\n"
     ]
    },
    {
     "name": "stderr",
     "output_type": "stream",
     "text": [
      "Processing URLs:  71%|███████   | 293/412 [24:18<15:12,  7.67s/it, Current URL: https://www.eversports.de/s/feel-good-factory-pole-stretch-fly]"
     ]
    },
    {
     "name": "stdout",
     "output_type": "stream",
     "text": [
      "Processing completed.\n",
      "Pole Studio Data: 1 entries\n",
      "Starting URL reconstruction...\n"
     ]
    },
    {
     "name": "stderr",
     "output_type": "stream",
     "text": [
      "Processing URLs:  71%|███████▏  | 294/412 [24:20<11:23,  5.80s/it, Current URL: https://www.eversports.de/s/saltosandra]                       "
     ]
    },
    {
     "name": "stdout",
     "output_type": "stream",
     "text": [
      "Error during HTTP request: 404 Client Error: Not Found for url: https://www.eversports.de/s/saltosandra\n",
      "Converting to DataFrame...\n",
      "Validating URLs...\n",
      "Processing completed.\n",
      "Starting URL reconstruction...\n"
     ]
    },
    {
     "name": "stderr",
     "output_type": "stream",
     "text": [
      "Processing URLs:  72%|███████▏  | 295/412 [24:21<08:41,  4.46s/it, Current URL: https://www.eversports.de/s/passionate-pole-&-sports]"
     ]
    },
    {
     "name": "stdout",
     "output_type": "stream",
     "text": [
      "Error during HTTP request: 404 Client Error: Not Found for url: https://www.eversports.de/s/passionate-pole-&-sports\n",
      "Converting to DataFrame...\n",
      "Validating URLs...\n",
      "Processing completed.\n",
      "Starting URL reconstruction...\n"
     ]
    },
    {
     "name": "stderr",
     "output_type": "stream",
     "text": [
      "Processing URLs:  72%|███████▏  | 296/412 [24:23<07:18,  3.78s/it, Current URL: https://www.eversports.de/s/freaky-pole-cats-cham]   "
     ]
    },
    {
     "name": "stdout",
     "output_type": "stream",
     "text": [
      "Error during HTTP request: 404 Client Error: Not Found for url: https://www.eversports.de/s/freaky-pole-cats-cham\n",
      "Converting to DataFrame...\n",
      "Validating URLs...\n",
      "Processing completed.\n",
      "Starting URL reconstruction...\n"
     ]
    },
    {
     "name": "stderr",
     "output_type": "stream",
     "text": [
      "Processing URLs:  72%|███████▏  | 297/412 [24:24<05:50,  3.04s/it, Current URL: https://www.eversports.de/s/le-chat-noir-berlin]  "
     ]
    },
    {
     "name": "stdout",
     "output_type": "stream",
     "text": [
      "Error during HTTP request: 404 Client Error: Not Found for url: https://www.eversports.de/s/le-chat-noir-berlin\n",
      "Converting to DataFrame...\n",
      "Validating URLs...\n",
      "Processing completed.\n",
      "Starting URL reconstruction...\n"
     ]
    },
    {
     "name": "stderr",
     "output_type": "stream",
     "text": [
      "Processing URLs:  72%|███████▏  | 298/412 [24:26<04:46,  2.51s/it, Current URL: https://www.eversports.de/s/flyhigh]            "
     ]
    },
    {
     "name": "stdout",
     "output_type": "stream",
     "text": [
      "Error during HTTP request: 404 Client Error: Not Found for url: https://www.eversports.de/s/flyhigh\n",
      "Converting to DataFrame...\n",
      "Validating URLs...\n",
      "Processing completed.\n",
      "Starting URL reconstruction...\n"
     ]
    },
    {
     "name": "stderr",
     "output_type": "stream",
     "text": [
      "2024-02-01 23:12:33,733 - INFO - Processing URL 1/4: https://www.eversports.de/s/pole-dance-krefeld\n"
     ]
    },
    {
     "name": "stdout",
     "output_type": "stream",
     "text": [
      "Error reconstructing URL for 'Trainings': Unrecognized text: 'Trainings'\n",
      "Converting to DataFrame...\n",
      "Validating URLs...\n"
     ]
    },
    {
     "name": "stderr",
     "output_type": "stream",
     "text": [
      "2024-02-01 23:12:35,344 - INFO - URL https://www.eversports.de/s/pole-dance-krefeld is valid.\n",
      "2024-02-01 23:12:35,345 - INFO - Processing URL 2/4: https://www.eversports.de/sw/pole-dance-krefeld\n",
      "2024-02-01 23:12:36,634 - INFO - URL https://www.eversports.de/sw/pole-dance-krefeld is valid.\n",
      "2024-02-01 23:12:36,635 - INFO - Processing URL 3/4: https://www.eversports.de/sp/pole-dance-krefeld\n",
      "2024-02-01 23:12:37,914 - INFO - URL https://www.eversports.de/sp/pole-dance-krefeld is valid.\n",
      "2024-02-01 23:12:37,915 - INFO - Processing URL 4/4: https://www.eversports.de/s/pole-dance-krefeld/team\n",
      "2024-02-01 23:12:39,275 - INFO - URL https://www.eversports.de/s/pole-dance-krefeld/team is valid.\n"
     ]
    },
    {
     "name": "stdout",
     "output_type": "stream",
     "text": [
      "Scraping Pole Studio Data from https://www.eversports.de/s/pole-dance-krefeld...\n",
      "Scraping Workshops Data from https://www.eversports.de/sw/pole-dance-krefeld...\n",
      "Scraping Workshop Details from https://www.eversports.de/e/workshop/-EpTuWT...\n",
      "Scraping Workshop Details from https://www.eversports.de/e/workshop/hFi4nNH...\n",
      "Scraping Workshop Details from https://www.eversports.de/e/workshop/T5e_9Bp...\n",
      "Scraping Workshop Details from https://www.eversports.de/e/workshop/WkTS9HS...\n",
      "Scraping Workshop Details from https://www.eversports.de/e/workshop/_LQRruK...\n"
     ]
    },
    {
     "name": "stderr",
     "output_type": "stream",
     "text": [
      "Processing URLs:  73%|███████▎  | 299/412 [24:42<12:36,  6.69s/it, Current URL: https://www.eversports.de/s/pole-dance-krefeld]"
     ]
    },
    {
     "name": "stdout",
     "output_type": "stream",
     "text": [
      "Processing completed.\n",
      "Pole Studio Data: 1 entries\n",
      "Workshops Data: 5 entries\n",
      "Workshop Details: 5 entries\n",
      "Starting URL reconstruction...\n"
     ]
    },
    {
     "name": "stderr",
     "output_type": "stream",
     "text": [
      "Processing URLs:  73%|███████▎  | 300/412 [24:44<09:35,  5.14s/it, Current URL: https://www.eversports.de/s/wildheart-yoga-%26-pole-dance]"
     ]
    },
    {
     "name": "stdout",
     "output_type": "stream",
     "text": [
      "Error during HTTP request: 404 Client Error: Not Found for url: https://www.eversports.de/s/wildheart-yoga-%26-pole-dance\n",
      "Converting to DataFrame...\n",
      "Validating URLs...\n",
      "Processing completed.\n",
      "Starting URL reconstruction...\n"
     ]
    },
    {
     "name": "stderr",
     "output_type": "stream",
     "text": [
      "Processing URLs:  73%|███████▎  | 301/412 [24:45<07:21,  3.98s/it, Current URL: https://www.eversports.de/s/fl'air-studios-berlin]        "
     ]
    },
    {
     "name": "stdout",
     "output_type": "stream",
     "text": [
      "Error during HTTP request: 404 Client Error: Not Found for url: https://www.eversports.de/s/fl'air-studios-berlin\n",
      "Converting to DataFrame...\n",
      "Validating URLs...\n",
      "Processing completed.\n",
      "Starting URL reconstruction...\n"
     ]
    },
    {
     "name": "stderr",
     "output_type": "stream",
     "text": [
      "Processing URLs:  73%|███████▎  | 302/412 [24:46<05:51,  3.19s/it, Current URL: https://www.eversports.de/s/pole-%26-tanzwelt]    "
     ]
    },
    {
     "name": "stdout",
     "output_type": "stream",
     "text": [
      "Error during HTTP request: 404 Client Error: Not Found for url: https://www.eversports.de/s/pole-%26-tanzwelt\n",
      "Converting to DataFrame...\n",
      "Validating URLs...\n",
      "Processing completed.\n",
      "Starting URL reconstruction...\n"
     ]
    },
    {
     "name": "stderr",
     "output_type": "stream",
     "text": [
      "2024-02-01 23:12:54,399 - INFO - Processing URL 1/3: https://www.eversports.de/s/css-aerial-dance-studio\n"
     ]
    },
    {
     "name": "stdout",
     "output_type": "stream",
     "text": [
      "Error reconstructing URL for 'Kurse': Unrecognized text: 'Kurse'\n",
      "Converting to DataFrame...\n",
      "Validating URLs...\n"
     ]
    },
    {
     "name": "stderr",
     "output_type": "stream",
     "text": [
      "2024-02-01 23:12:55,931 - INFO - URL https://www.eversports.de/s/css-aerial-dance-studio is valid.\n",
      "2024-02-01 23:12:55,933 - INFO - Processing URL 2/3: https://www.eversports.de/sp/css-aerial-dance-studio\n",
      "2024-02-01 23:12:57,398 - INFO - URL https://www.eversports.de/sp/css-aerial-dance-studio is valid.\n",
      "2024-02-01 23:12:57,400 - INFO - Processing URL 3/3: https://www.eversports.de/s/css-aerial-dance-studio/team\n",
      "2024-02-01 23:12:58,817 - INFO - URL https://www.eversports.de/s/css-aerial-dance-studio/team is valid.\n"
     ]
    },
    {
     "name": "stdout",
     "output_type": "stream",
     "text": [
      "Scraping Pole Studio Data from https://www.eversports.de/s/css-aerial-dance-studio...\n"
     ]
    },
    {
     "name": "stderr",
     "output_type": "stream",
     "text": [
      "Processing URLs:  74%|███████▎  | 303/412 [24:53<07:37,  4.19s/it, Current URL: https://www.eversports.de/s/css-aerial-dance-studio]"
     ]
    },
    {
     "name": "stdout",
     "output_type": "stream",
     "text": [
      "Processing completed.\n",
      "Pole Studio Data: 1 entries\n",
      "Starting URL reconstruction...\n"
     ]
    },
    {
     "name": "stderr",
     "output_type": "stream",
     "text": [
      "Processing URLs:  74%|███████▍  | 304/412 [24:54<05:56,  3.30s/it, Current URL: https://www.eversports.de/s/flexx-arts--aerial-dance-&-fitness]"
     ]
    },
    {
     "name": "stdout",
     "output_type": "stream",
     "text": [
      "Error during HTTP request: 404 Client Error: Not Found for url: https://www.eversports.de/s/flexx-arts--aerial-dance-&-fitness\n",
      "Converting to DataFrame...\n",
      "Validating URLs...\n",
      "Processing completed.\n",
      "Starting URL reconstruction...\n"
     ]
    },
    {
     "name": "stderr",
     "output_type": "stream",
     "text": [
      "Processing URLs:  74%|███████▍  | 305/412 [24:55<04:48,  2.70s/it, Current URL: https://www.eversports.de/s/rock'n'pole-regensburg]            "
     ]
    },
    {
     "name": "stdout",
     "output_type": "stream",
     "text": [
      "Error during HTTP request: 404 Client Error: Not Found for url: https://www.eversports.de/s/rock'n'pole-regensburg\n",
      "Converting to DataFrame...\n",
      "Validating URLs...\n",
      "Processing completed.\n",
      "Starting URL reconstruction...\n"
     ]
    },
    {
     "name": "stderr",
     "output_type": "stream",
     "text": [
      "2024-02-01 23:13:03,420 - INFO - Processing URL 1/3: https://www.eversports.de/s/polestructions\n"
     ]
    },
    {
     "name": "stdout",
     "output_type": "stream",
     "text": [
      "Converting to DataFrame...\n",
      "Validating URLs...\n"
     ]
    },
    {
     "name": "stderr",
     "output_type": "stream",
     "text": [
      "2024-02-01 23:13:05,736 - INFO - URL https://www.eversports.de/s/polestructions is valid.\n",
      "2024-02-01 23:13:05,738 - INFO - Processing URL 2/3: https://www.eversports.de/sp/polestructions\n",
      "2024-02-01 23:13:07,234 - INFO - URL https://www.eversports.de/sp/polestructions is valid.\n",
      "2024-02-01 23:13:07,236 - INFO - Processing URL 3/3: https://www.eversports.de/s/polestructions/team\n",
      "2024-02-01 23:13:09,518 - INFO - URL https://www.eversports.de/s/polestructions/team is valid.\n"
     ]
    },
    {
     "name": "stdout",
     "output_type": "stream",
     "text": [
      "Scraping Pole Studio Data from https://www.eversports.de/s/polestructions...\n"
     ]
    },
    {
     "name": "stderr",
     "output_type": "stream",
     "text": [
      "Processing URLs:  74%|███████▍  | 306/412 [25:04<07:44,  4.38s/it, Current URL: https://www.eversports.de/s/polestructions]        "
     ]
    },
    {
     "name": "stdout",
     "output_type": "stream",
     "text": [
      "Processing completed.\n",
      "Pole Studio Data: 1 entries\n",
      "Starting URL reconstruction...\n"
     ]
    },
    {
     "name": "stderr",
     "output_type": "stream",
     "text": [
      "2024-02-01 23:13:11,594 - INFO - Processing URL 1/3: https://www.eversports.de/s/dance-and-pole-deltawerk\n"
     ]
    },
    {
     "name": "stdout",
     "output_type": "stream",
     "text": [
      "Converting to DataFrame...\n",
      "Validating URLs...\n"
     ]
    },
    {
     "name": "stderr",
     "output_type": "stream",
     "text": [
      "2024-02-01 23:13:13,267 - INFO - URL https://www.eversports.de/s/dance-and-pole-deltawerk is valid.\n",
      "2024-02-01 23:13:13,268 - INFO - Processing URL 2/3: https://www.eversports.de/sp/dance-and-pole-deltawerk\n",
      "2024-02-01 23:13:14,544 - INFO - URL https://www.eversports.de/sp/dance-and-pole-deltawerk is valid.\n",
      "2024-02-01 23:13:14,545 - INFO - Processing URL 3/3: https://www.eversports.de/s/dance-and-pole-deltawerk/team\n",
      "2024-02-01 23:13:15,968 - INFO - URL https://www.eversports.de/s/dance-and-pole-deltawerk/team is valid.\n"
     ]
    },
    {
     "name": "stdout",
     "output_type": "stream",
     "text": [
      "Scraping Pole Studio Data from https://www.eversports.de/s/dance-and-pole-deltawerk...\n"
     ]
    },
    {
     "name": "stderr",
     "output_type": "stream",
     "text": [
      "Processing URLs:  75%|███████▍  | 307/412 [25:10<08:40,  4.95s/it, Current URL: https://www.eversports.de/s/dance-and-pole-deltawerk]"
     ]
    },
    {
     "name": "stdout",
     "output_type": "stream",
     "text": [
      "Processing completed.\n",
      "Pole Studio Data: 1 entries\n",
      "Starting URL reconstruction...\n"
     ]
    },
    {
     "name": "stderr",
     "output_type": "stream",
     "text": [
      "Processing URLs:  75%|███████▍  | 308/412 [25:14<08:20,  4.81s/it, Current URL: https://www.eversports.de/s/polemotions-t%c3%bcbingen]"
     ]
    },
    {
     "name": "stdout",
     "output_type": "stream",
     "text": [
      "Error during HTTP request: Exceeded 30 redirects.\n",
      "Converting to DataFrame...\n",
      "Validating URLs...\n",
      "Processing completed.\n",
      "Starting URL reconstruction...\n"
     ]
    },
    {
     "name": "stderr",
     "output_type": "stream",
     "text": [
      "Processing URLs:  75%|███████▌  | 309/412 [25:16<06:25,  3.74s/it, Current URL: https://www.eversports.de/s/polegarage-hagen]         "
     ]
    },
    {
     "name": "stdout",
     "output_type": "stream",
     "text": [
      "Error during HTTP request: 404 Client Error: Not Found for url: https://www.eversports.de/s/polegarage-hagen\n",
      "Converting to DataFrame...\n",
      "Validating URLs...\n",
      "Processing completed.\n",
      "Starting URL reconstruction...\n"
     ]
    },
    {
     "name": "stderr",
     "output_type": "stream",
     "text": [
      "Processing URLs:  75%|███████▌  | 310/412 [25:17<05:07,  3.02s/it, Current URL: https://www.eversports.de/s/move-on!-dance-studio-%26-polemotions]"
     ]
    },
    {
     "name": "stdout",
     "output_type": "stream",
     "text": [
      "Error during HTTP request: 404 Client Error: Not Found for url: https://www.eversports.de/s/move-on!-dance-studio-%26-polemotions\n",
      "Converting to DataFrame...\n",
      "Validating URLs...\n",
      "Processing completed.\n",
      "Starting URL reconstruction...\n"
     ]
    },
    {
     "name": "stderr",
     "output_type": "stream",
     "text": [
      "Processing URLs:  75%|███████▌  | 311/412 [25:20<05:07,  3.04s/it, Current URL: https://www.eversports.de/s/tsg-blau-gold-gießen-e.v.]            "
     ]
    },
    {
     "name": "stdout",
     "output_type": "stream",
     "text": [
      "Error during HTTP request: Exceeded 30 redirects.\n",
      "Converting to DataFrame...\n",
      "Validating URLs...\n",
      "Processing completed.\n",
      "Starting URL reconstruction...\n"
     ]
    },
    {
     "name": "stderr",
     "output_type": "stream",
     "text": [
      "Processing URLs:  76%|███████▌  | 312/412 [25:24<05:30,  3.31s/it, Current URL: https://www.eversports.de/s/schwerelos-münster]       "
     ]
    },
    {
     "name": "stdout",
     "output_type": "stream",
     "text": [
      "Error during HTTP request: Exceeded 30 redirects.\n",
      "Converting to DataFrame...\n",
      "Validating URLs...\n",
      "Processing completed.\n",
      "Starting URL reconstruction...\n"
     ]
    },
    {
     "name": "stderr",
     "output_type": "stream",
     "text": [
      "2024-02-01 23:13:32,218 - INFO - Processing URL 1/4: https://www.eversports.de/s/the-pole-lounge\n"
     ]
    },
    {
     "name": "stdout",
     "output_type": "stream",
     "text": [
      "Error reconstructing URL for 'Kurse': Unrecognized text: 'Kurse'\n",
      "Converting to DataFrame...\n",
      "Validating URLs...\n"
     ]
    },
    {
     "name": "stderr",
     "output_type": "stream",
     "text": [
      "2024-02-01 23:13:33,830 - INFO - URL https://www.eversports.de/s/the-pole-lounge is valid.\n",
      "2024-02-01 23:13:33,831 - INFO - Processing URL 2/4: https://www.eversports.de/sw/the-pole-lounge\n",
      "2024-02-01 23:13:35,214 - INFO - URL https://www.eversports.de/sw/the-pole-lounge is valid.\n",
      "2024-02-01 23:13:35,215 - INFO - Processing URL 3/4: https://www.eversports.de/sp/the-pole-lounge\n",
      "2024-02-01 23:13:36,439 - INFO - URL https://www.eversports.de/sp/the-pole-lounge is valid.\n",
      "2024-02-01 23:13:36,441 - INFO - Processing URL 4/4: https://www.eversports.de/s/the-pole-lounge/team\n",
      "2024-02-01 23:13:37,961 - INFO - URL https://www.eversports.de/s/the-pole-lounge/team is valid.\n"
     ]
    },
    {
     "name": "stdout",
     "output_type": "stream",
     "text": [
      "Scraping Pole Studio Data from https://www.eversports.de/s/the-pole-lounge...\n",
      "Scraping Workshops Data from https://www.eversports.de/sw/the-pole-lounge...\n",
      "Scraping Workshop Details from https://www.eversports.de/e/workshop/QD21QTN...\n"
     ]
    },
    {
     "name": "stderr",
     "output_type": "stream",
     "text": [
      "Processing URLs:  76%|███████▌  | 313/412 [25:35<09:18,  5.64s/it, Current URL: https://www.eversports.de/s/the-pole-lounge]   "
     ]
    },
    {
     "name": "stdout",
     "output_type": "stream",
     "text": [
      "Processing completed.\n",
      "Pole Studio Data: 1 entries\n",
      "Workshops Data: 1 entries\n",
      "Workshop Details: 1 entries\n",
      "Starting URL reconstruction...\n"
     ]
    },
    {
     "name": "stderr",
     "output_type": "stream",
     "text": [
      "Processing URLs:  76%|███████▌  | 314/412 [25:36<07:07,  4.36s/it, Current URL: https://www.eversports.de/s/seemannsbraut-poledance-flensburg]"
     ]
    },
    {
     "name": "stdout",
     "output_type": "stream",
     "text": [
      "Error during HTTP request: 404 Client Error: Not Found for url: https://www.eversports.de/s/seemannsbraut-poledance-flensburg\n",
      "Converting to DataFrame...\n",
      "Validating URLs...\n",
      "Processing completed.\n",
      "Starting URL reconstruction...\n"
     ]
    },
    {
     "name": "stderr",
     "output_type": "stream",
     "text": [
      "Processing URLs:  76%|███████▋  | 315/412 [25:38<05:40,  3.51s/it, Current URL: https://www.eversports.de/s/divas-dance-studio]               "
     ]
    },
    {
     "name": "stdout",
     "output_type": "stream",
     "text": [
      "Error during HTTP request: 404 Client Error: Not Found for url: https://www.eversports.de/s/divas-dance-studio\n",
      "Converting to DataFrame...\n",
      "Validating URLs...\n",
      "Processing completed.\n",
      "Starting URL reconstruction...\n"
     ]
    },
    {
     "name": "stderr",
     "output_type": "stream",
     "text": [
      "2024-02-01 23:13:46,000 - INFO - Processing URL 1/4: https://www.eversports.de/s/lespole\n"
     ]
    },
    {
     "name": "stdout",
     "output_type": "stream",
     "text": [
      "Converting to DataFrame...\n",
      "Validating URLs...\n"
     ]
    },
    {
     "name": "stderr",
     "output_type": "stream",
     "text": [
      "2024-02-01 23:13:47,469 - INFO - URL https://www.eversports.de/s/lespole is valid.\n",
      "2024-02-01 23:13:47,471 - INFO - Processing URL 2/4: https://www.eversports.de/sw/lespole\n",
      "2024-02-01 23:13:48,903 - INFO - URL https://www.eversports.de/sw/lespole is valid.\n",
      "2024-02-01 23:13:48,904 - INFO - Processing URL 3/4: https://www.eversports.de/sp/lespole\n",
      "2024-02-01 23:13:50,211 - INFO - URL https://www.eversports.de/sp/lespole is valid.\n",
      "2024-02-01 23:13:50,213 - INFO - Processing URL 4/4: https://www.eversports.de/s/lespole/team\n",
      "2024-02-01 23:13:51,500 - INFO - URL https://www.eversports.de/s/lespole/team is valid.\n"
     ]
    },
    {
     "name": "stdout",
     "output_type": "stream",
     "text": [
      "Scraping Pole Studio Data from https://www.eversports.de/s/lespole...\n",
      "Scraping Workshops Data from https://www.eversports.de/sw/lespole...\n",
      "Scraping Workshop Details from https://www.eversports.de/e/workshop/ph8TlfO...\n",
      "Scraping Workshop Details from https://www.eversports.de/e/workshop/4lKTG4R...\n",
      "Scraping Workshop Details from https://www.eversports.de/e/workshop/lByHwWr...\n",
      "Scraping Workshop Details from https://www.eversports.de/e/workshop/VC_twiJ...\n",
      "Scraping Workshop Details from https://www.eversports.de/e/workshop/L-VuR9j...\n"
     ]
    },
    {
     "name": "stderr",
     "output_type": "stream",
     "text": [
      "Processing URLs:  77%|███████▋  | 316/412 [25:55<11:56,  7.47s/it, Current URL: https://www.eversports.de/s/lespole]           "
     ]
    },
    {
     "name": "stdout",
     "output_type": "stream",
     "text": [
      "Processing completed.\n",
      "Pole Studio Data: 1 entries\n",
      "Workshops Data: 5 entries\n",
      "Workshop Details: 5 entries\n",
      "Starting URL reconstruction...\n"
     ]
    },
    {
     "name": "stderr",
     "output_type": "stream",
     "text": [
      "2024-02-01 23:14:02,582 - INFO - Processing URL 1/3: https://www.eversports.de/s/polefitness-leipzig\n"
     ]
    },
    {
     "name": "stdout",
     "output_type": "stream",
     "text": [
      "Converting to DataFrame...\n",
      "Validating URLs...\n"
     ]
    },
    {
     "name": "stderr",
     "output_type": "stream",
     "text": [
      "2024-02-01 23:14:04,127 - INFO - URL https://www.eversports.de/s/polefitness-leipzig is valid.\n",
      "2024-02-01 23:14:04,128 - INFO - Processing URL 2/3: https://www.eversports.de/sp/polefitness-leipzig\n",
      "2024-02-01 23:14:05,393 - INFO - URL https://www.eversports.de/sp/polefitness-leipzig is valid.\n",
      "2024-02-01 23:14:05,395 - INFO - Processing URL 3/3: https://www.eversports.de/s/polefitness-leipzig/team\n",
      "2024-02-01 23:14:06,750 - INFO - URL https://www.eversports.de/s/polefitness-leipzig/team is valid.\n"
     ]
    },
    {
     "name": "stdout",
     "output_type": "stream",
     "text": [
      "Scraping Pole Studio Data from https://www.eversports.de/s/polefitness-leipzig...\n"
     ]
    },
    {
     "name": "stderr",
     "output_type": "stream",
     "text": [
      "Processing URLs:  77%|███████▋  | 317/412 [26:01<11:04,  7.00s/it, Current URL: https://www.eversports.de/s/polefitness-leipzig]"
     ]
    },
    {
     "name": "stdout",
     "output_type": "stream",
     "text": [
      "Processing completed.\n",
      "Pole Studio Data: 1 entries\n",
      "Starting URL reconstruction...\n"
     ]
    },
    {
     "name": "stderr",
     "output_type": "stream",
     "text": [
      "Processing URLs:  77%|███████▋  | 318/412 [26:02<08:17,  5.29s/it, Current URL: https://www.eversports.de/s/pole-dream]         "
     ]
    },
    {
     "name": "stdout",
     "output_type": "stream",
     "text": [
      "Error during HTTP request: 404 Client Error: Not Found for url: https://www.eversports.de/s/pole-dream\n",
      "Converting to DataFrame...\n",
      "Validating URLs...\n",
      "Processing completed.\n",
      "Starting URL reconstruction...\n"
     ]
    },
    {
     "name": "stderr",
     "output_type": "stream",
     "text": [
      "Processing URLs:  77%|███████▋  | 319/412 [26:03<06:19,  4.08s/it, Current URL: https://www.eversports.de/s/move-with-ana]"
     ]
    },
    {
     "name": "stdout",
     "output_type": "stream",
     "text": [
      "Error during HTTP request: 404 Client Error: Not Found for url: https://www.eversports.de/s/move-with-ana\n",
      "Converting to DataFrame...\n",
      "Validating URLs...\n",
      "Processing completed.\n",
      "Starting URL reconstruction...\n"
     ]
    },
    {
     "name": "stderr",
     "output_type": "stream",
     "text": [
      "Processing URLs:  78%|███████▊  | 320/412 [26:05<05:05,  3.32s/it, Current URL: https://www.eversports.de/s/mstage-tanzart-bewegung]"
     ]
    },
    {
     "name": "stdout",
     "output_type": "stream",
     "text": [
      "Error during HTTP request: 404 Client Error: Not Found for url: https://www.eversports.de/s/mstage-tanzart-bewegung\n",
      "Converting to DataFrame...\n",
      "Validating URLs...\n",
      "Processing completed.\n",
      "Starting URL reconstruction...\n"
     ]
    },
    {
     "name": "stderr",
     "output_type": "stream",
     "text": [
      "Processing URLs:  78%|███████▊  | 321/412 [26:06<04:13,  2.79s/it, Current URL: https://www.eversports.de/s/aerial-athletix-]       "
     ]
    },
    {
     "name": "stdout",
     "output_type": "stream",
     "text": [
      "Error during HTTP request: 404 Client Error: Not Found for url: https://www.eversports.de/s/aerial-athletix-\n",
      "Converting to DataFrame...\n",
      "Validating URLs...\n",
      "Processing completed.\n",
      "Starting URL reconstruction...\n"
     ]
    },
    {
     "name": "stderr",
     "output_type": "stream",
     "text": [
      "Processing URLs:  78%|███████▊  | 322/412 [26:08<03:46,  2.51s/it, Current URL: https://www.eversports.de/s/firstsports---polefitness]"
     ]
    },
    {
     "name": "stdout",
     "output_type": "stream",
     "text": [
      "Error during HTTP request: 404 Client Error: Not Found for url: https://www.eversports.de/s/firstsports---polefitness\n",
      "Converting to DataFrame...\n",
      "Validating URLs...\n",
      "Processing completed.\n",
      "Starting URL reconstruction...\n"
     ]
    },
    {
     "name": "stderr",
     "output_type": "stream",
     "text": [
      "2024-02-01 23:14:16,288 - INFO - Processing URL 1/3: https://www.eversports.de/s/pole-for-soul-gbr\n"
     ]
    },
    {
     "name": "stdout",
     "output_type": "stream",
     "text": [
      "Converting to DataFrame...\n",
      "Validating URLs...\n"
     ]
    },
    {
     "name": "stderr",
     "output_type": "stream",
     "text": [
      "2024-02-01 23:14:17,769 - INFO - URL https://www.eversports.de/s/pole-for-soul-gbr is valid.\n",
      "2024-02-01 23:14:17,771 - INFO - Processing URL 2/3: https://www.eversports.de/sw/pole-for-soul-gbr\n",
      "2024-02-01 23:14:19,157 - INFO - URL https://www.eversports.de/sw/pole-for-soul-gbr is valid.\n",
      "2024-02-01 23:14:19,158 - INFO - Processing URL 3/3: https://www.eversports.de/s/pole-for-soul-gbr/team\n",
      "2024-02-01 23:14:20,627 - INFO - URL https://www.eversports.de/s/pole-for-soul-gbr/team is valid.\n"
     ]
    },
    {
     "name": "stdout",
     "output_type": "stream",
     "text": [
      "Scraping Pole Studio Data from https://www.eversports.de/s/pole-for-soul-gbr...\n",
      "Scraping Workshops Data from https://www.eversports.de/sw/pole-for-soul-gbr...\n",
      "Scraping Workshop Details from https://www.eversports.de/e/workshop/rnbGVfh...\n"
     ]
    },
    {
     "name": "stderr",
     "output_type": "stream",
     "text": [
      "Processing URLs:  78%|███████▊  | 323/412 [26:17<06:46,  4.57s/it, Current URL: https://www.eversports.de/s/pole-for-soul-gbr]        "
     ]
    },
    {
     "name": "stdout",
     "output_type": "stream",
     "text": [
      "Processing completed.\n",
      "Pole Studio Data: 1 entries\n",
      "Workshops Data: 1 entries\n",
      "Workshop Details: 1 entries\n",
      "Starting URL reconstruction...\n"
     ]
    },
    {
     "name": "stderr",
     "output_type": "stream",
     "text": [
      "Processing URLs:  79%|███████▊  | 324/412 [26:19<05:13,  3.57s/it, Current URL: https://www.eversports.de/s/polesports-studio-buchholz]"
     ]
    },
    {
     "name": "stdout",
     "output_type": "stream",
     "text": [
      "Error during HTTP request: 404 Client Error: Not Found for url: https://www.eversports.de/s/polesports-studio-buchholz\n",
      "Converting to DataFrame...\n",
      "Validating URLs...\n",
      "Processing completed.\n",
      "Starting URL reconstruction...\n"
     ]
    },
    {
     "name": "stderr",
     "output_type": "stream",
     "text": [
      "2024-02-01 23:14:26,963 - INFO - Processing URL 1/4: https://www.eversports.de/s/luftbonbon\n"
     ]
    },
    {
     "name": "stdout",
     "output_type": "stream",
     "text": [
      "Converting to DataFrame...\n",
      "Validating URLs...\n"
     ]
    },
    {
     "name": "stderr",
     "output_type": "stream",
     "text": [
      "2024-02-01 23:14:28,596 - INFO - URL https://www.eversports.de/s/luftbonbon is valid.\n",
      "2024-02-01 23:14:28,597 - INFO - Processing URL 2/4: https://www.eversports.de/sw/luftbonbon\n",
      "2024-02-01 23:14:29,871 - INFO - URL https://www.eversports.de/sw/luftbonbon is valid.\n",
      "2024-02-01 23:14:29,872 - INFO - Processing URL 3/4: https://www.eversports.de/sp/luftbonbon\n",
      "2024-02-01 23:14:31,151 - INFO - URL https://www.eversports.de/sp/luftbonbon is valid.\n",
      "2024-02-01 23:14:31,152 - INFO - Processing URL 4/4: https://www.eversports.de/s/luftbonbon/team\n",
      "2024-02-01 23:14:32,518 - INFO - URL https://www.eversports.de/s/luftbonbon/team is valid.\n"
     ]
    },
    {
     "name": "stdout",
     "output_type": "stream",
     "text": [
      "Scraping Pole Studio Data from https://www.eversports.de/s/luftbonbon...\n",
      "Scraping Workshops Data from https://www.eversports.de/sw/luftbonbon...\n",
      "Scraping Workshop Details from https://www.eversports.de/e/workshop/60kU5cU...\n"
     ]
    },
    {
     "name": "stderr",
     "output_type": "stream",
     "text": [
      "Processing URLs:  79%|███████▉  | 325/412 [26:29<08:17,  5.71s/it, Current URL: https://www.eversports.de/s/luftbonbon]                "
     ]
    },
    {
     "name": "stdout",
     "output_type": "stream",
     "text": [
      "Processing completed.\n",
      "Pole Studio Data: 1 entries\n",
      "Workshops Data: 1 entries\n",
      "Workshop Details: 1 entries\n",
      "Starting URL reconstruction...\n"
     ]
    },
    {
     "name": "stderr",
     "output_type": "stream",
     "text": [
      "Processing URLs:  79%|███████▉  | 326/412 [26:31<06:23,  4.45s/it, Current URL: https://www.eversports.de/s/vanilla-sky-pole-atelier]"
     ]
    },
    {
     "name": "stdout",
     "output_type": "stream",
     "text": [
      "Error during HTTP request: 404 Client Error: Not Found for url: https://www.eversports.de/s/vanilla-sky-pole-atelier\n",
      "Converting to DataFrame...\n",
      "Validating URLs...\n",
      "Processing completed.\n",
      "Starting URL reconstruction...\n"
     ]
    },
    {
     "name": "stderr",
     "output_type": "stream",
     "text": [
      "Processing URLs:  79%|███████▉  | 327/412 [26:32<05:00,  3.54s/it, Current URL: https://www.eversports.de/s/souldance]               "
     ]
    },
    {
     "name": "stdout",
     "output_type": "stream",
     "text": [
      "Error during HTTP request: 404 Client Error: Not Found for url: https://www.eversports.de/s/souldance\n",
      "Converting to DataFrame...\n",
      "Validating URLs...\n",
      "Processing completed.\n",
      "Starting URL reconstruction...\n"
     ]
    },
    {
     "name": "stderr",
     "output_type": "stream",
     "text": [
      "2024-02-01 23:14:40,238 - INFO - Processing URL 1/3: https://www.eversports.de/s/tanzstudio-michel\n"
     ]
    },
    {
     "name": "stdout",
     "output_type": "stream",
     "text": [
      "Converting to DataFrame...\n",
      "Validating URLs...\n"
     ]
    },
    {
     "name": "stderr",
     "output_type": "stream",
     "text": [
      "2024-02-01 23:14:41,663 - INFO - URL https://www.eversports.de/s/tanzstudio-michel is valid.\n",
      "2024-02-01 23:14:41,665 - INFO - Processing URL 2/3: https://www.eversports.de/sp/tanzstudio-michel\n",
      "2024-02-01 23:14:43,031 - INFO - URL https://www.eversports.de/sp/tanzstudio-michel is valid.\n",
      "2024-02-01 23:14:43,032 - INFO - Processing URL 3/3: https://www.eversports.de/s/tanzstudio-michel/team\n",
      "2024-02-01 23:14:44,928 - INFO - URL https://www.eversports.de/s/tanzstudio-michel/team is valid.\n"
     ]
    },
    {
     "name": "stdout",
     "output_type": "stream",
     "text": [
      "Scraping Pole Studio Data from https://www.eversports.de/s/tanzstudio-michel...\n"
     ]
    },
    {
     "name": "stderr",
     "output_type": "stream",
     "text": [
      "Processing URLs:  80%|███████▉  | 328/412 [26:39<06:11,  4.42s/it, Current URL: https://www.eversports.de/s/tanzstudio-michel]"
     ]
    },
    {
     "name": "stdout",
     "output_type": "stream",
     "text": [
      "Processing completed.\n",
      "Pole Studio Data: 1 entries\n",
      "Starting URL reconstruction...\n"
     ]
    },
    {
     "name": "stderr",
     "output_type": "stream",
     "text": [
      "2024-02-01 23:14:46,841 - INFO - Processing URL 1/4: https://www.eversports.de/s/flow-fusion-pole-aerial-dance-studio\n"
     ]
    },
    {
     "name": "stdout",
     "output_type": "stream",
     "text": [
      "Converting to DataFrame...\n",
      "Validating URLs...\n"
     ]
    },
    {
     "name": "stderr",
     "output_type": "stream",
     "text": [
      "2024-02-01 23:14:50,210 - INFO - URL https://www.eversports.de/s/flow-fusion-pole-aerial-dance-studio is valid.\n",
      "2024-02-01 23:14:50,211 - INFO - Processing URL 2/4: https://www.eversports.de/sw/flow-fusion-pole-aerial-dance-studio\n",
      "2024-02-01 23:14:51,606 - INFO - URL https://www.eversports.de/sw/flow-fusion-pole-aerial-dance-studio is valid.\n",
      "2024-02-01 23:14:51,608 - INFO - Processing URL 3/4: https://www.eversports.de/sp/flow-fusion-pole-aerial-dance-studio\n",
      "2024-02-01 23:14:52,882 - INFO - URL https://www.eversports.de/sp/flow-fusion-pole-aerial-dance-studio is valid.\n",
      "2024-02-01 23:14:52,883 - INFO - Processing URL 4/4: https://www.eversports.de/s/flow-fusion-pole-aerial-dance-studio/team\n",
      "2024-02-01 23:14:54,312 - INFO - URL https://www.eversports.de/s/flow-fusion-pole-aerial-dance-studio/team is valid.\n"
     ]
    },
    {
     "name": "stdout",
     "output_type": "stream",
     "text": [
      "Scraping Pole Studio Data from https://www.eversports.de/s/flow-fusion-pole-aerial-dance-studio...\n",
      "Scraping Workshops Data from https://www.eversports.de/sw/flow-fusion-pole-aerial-dance-studio...\n",
      "Scraping Workshop Details from https://www.eversports.de/e/workshop/dv_M_IE...\n",
      "Scraping Workshop Details from https://www.eversports.de/e/workshop/pcj6I1Q...\n"
     ]
    },
    {
     "name": "stderr",
     "output_type": "stream",
     "text": [
      "Processing URLs:  80%|███████▉  | 329/412 [26:54<10:24,  7.53s/it, Current URL: https://www.eversports.de/s/flow-fusion-pole-aerial-dance-studio]"
     ]
    },
    {
     "name": "stdout",
     "output_type": "stream",
     "text": [
      "Processing completed.\n",
      "Pole Studio Data: 1 entries\n",
      "Workshops Data: 2 entries\n",
      "Workshop Details: 2 entries\n",
      "Starting URL reconstruction...\n"
     ]
    },
    {
     "name": "stderr",
     "output_type": "stream",
     "text": [
      "Processing URLs:  80%|████████  | 330/412 [26:55<07:43,  5.65s/it, Current URL: https://www.eversports.de/s/les.pole]                            "
     ]
    },
    {
     "name": "stdout",
     "output_type": "stream",
     "text": [
      "Error during HTTP request: 404 Client Error: Not Found for url: https://www.eversports.de/s/les.pole\n",
      "Converting to DataFrame...\n",
      "Validating URLs...\n",
      "Processing completed.\n",
      "Starting URL reconstruction...\n"
     ]
    },
    {
     "name": "stderr",
     "output_type": "stream",
     "text": [
      "Processing URLs:  80%|████████  | 331/412 [26:56<05:54,  4.38s/it, Current URL: https://www.eversports.de/s/pole-dance-trier]"
     ]
    },
    {
     "name": "stdout",
     "output_type": "stream",
     "text": [
      "Error during HTTP request: 404 Client Error: Not Found for url: https://www.eversports.de/s/pole-dance-trier\n",
      "Converting to DataFrame...\n",
      "Validating URLs...\n",
      "Processing completed.\n",
      "Starting URL reconstruction...\n"
     ]
    },
    {
     "name": "stderr",
     "output_type": "stream",
     "text": [
      "2024-02-01 23:15:04,672 - INFO - Processing URL 1/4: https://www.eversports.de/s/tsg-blau-gold-giessen-ev\n"
     ]
    },
    {
     "name": "stdout",
     "output_type": "stream",
     "text": [
      "Converting to DataFrame...\n",
      "Validating URLs...\n"
     ]
    },
    {
     "name": "stderr",
     "output_type": "stream",
     "text": [
      "2024-02-01 23:15:06,293 - INFO - URL https://www.eversports.de/s/tsg-blau-gold-giessen-ev is valid.\n",
      "2024-02-01 23:15:06,295 - INFO - Processing URL 2/4: https://www.eversports.de/sw/tsg-blau-gold-giessen-ev\n",
      "2024-02-01 23:15:07,708 - INFO - URL https://www.eversports.de/sw/tsg-blau-gold-giessen-ev is valid.\n",
      "2024-02-01 23:15:07,709 - INFO - Processing URL 3/4: https://www.eversports.de/sp/tsg-blau-gold-giessen-ev\n",
      "2024-02-01 23:15:09,026 - INFO - URL https://www.eversports.de/sp/tsg-blau-gold-giessen-ev is valid.\n",
      "2024-02-01 23:15:09,028 - INFO - Processing URL 4/4: https://www.eversports.de/s/tsg-blau-gold-giessen-ev/team\n",
      "2024-02-01 23:15:10,593 - INFO - URL https://www.eversports.de/s/tsg-blau-gold-giessen-ev/team is valid.\n"
     ]
    },
    {
     "name": "stdout",
     "output_type": "stream",
     "text": [
      "Scraping Pole Studio Data from https://www.eversports.de/s/tsg-blau-gold-giessen-ev...\n",
      "Scraping Workshops Data from https://www.eversports.de/sw/tsg-blau-gold-giessen-ev...\n",
      "Scraping Workshop Details from https://www.eversports.de/e/workshop/Yv4ZcEK...\n",
      "Scraping Workshop Details from https://www.eversports.de/e/workshop/1LJamzo...\n",
      "Scraping Workshop Details from https://www.eversports.de/e/workshop/tFkZ7tt...\n",
      "Scraping Workshop Details from https://www.eversports.de/e/workshop/kTY0ERN...\n"
     ]
    },
    {
     "name": "stderr",
     "output_type": "stream",
     "text": [
      "Processing URLs:  81%|████████  | 332/412 [27:14<11:09,  8.37s/it, Current URL: https://www.eversports.de/s/tsg-blau-gold-giessen-ev]"
     ]
    },
    {
     "name": "stdout",
     "output_type": "stream",
     "text": [
      "Processing completed.\n",
      "Pole Studio Data: 1 entries\n",
      "Workshops Data: 4 entries\n",
      "Workshop Details: 4 entries\n",
      "Starting URL reconstruction...\n"
     ]
    },
    {
     "name": "stderr",
     "output_type": "stream",
     "text": [
      "2024-02-01 23:15:22,061 - INFO - Processing URL 1/3: https://www.eversports.de/s/aerial-studio\n"
     ]
    },
    {
     "name": "stdout",
     "output_type": "stream",
     "text": [
      "Converting to DataFrame...\n",
      "Validating URLs...\n"
     ]
    },
    {
     "name": "stderr",
     "output_type": "stream",
     "text": [
      "2024-02-01 23:15:23,747 - INFO - URL https://www.eversports.de/s/aerial-studio is valid.\n",
      "2024-02-01 23:15:23,748 - INFO - Processing URL 2/3: https://www.eversports.de/sp/aerial-studio\n",
      "2024-02-01 23:15:25,139 - INFO - URL https://www.eversports.de/sp/aerial-studio is not valid.\n",
      "2024-02-01 23:15:25,142 - INFO - Processing URL 3/3: https://www.eversports.de/s/aerial-studio/team\n",
      "2024-02-01 23:15:28,911 - INFO - URL https://www.eversports.de/s/aerial-studio/team is valid.\n"
     ]
    },
    {
     "name": "stdout",
     "output_type": "stream",
     "text": [
      "Scraping Pole Studio Data from https://www.eversports.de/s/aerial-studio...\n"
     ]
    },
    {
     "name": "stderr",
     "output_type": "stream",
     "text": [
      "Processing URLs:  81%|████████  | 333/412 [27:23<11:12,  8.51s/it, Current URL: https://www.eversports.de/s/aerial-studio]           "
     ]
    },
    {
     "name": "stdout",
     "output_type": "stream",
     "text": [
      "Processing completed.\n",
      "Pole Studio Data: 1 entries\n",
      "Starting URL reconstruction...\n"
     ]
    },
    {
     "name": "stderr",
     "output_type": "stream",
     "text": [
      "2024-02-01 23:15:30,955 - INFO - Processing URL 1/3: https://www.eversports.de/s/upsidedown-studio-bad-homburg\n"
     ]
    },
    {
     "name": "stdout",
     "output_type": "stream",
     "text": [
      "Error reconstructing URL for 'Kurse': Unrecognized text: 'Kurse'\n",
      "Converting to DataFrame...\n",
      "Validating URLs...\n"
     ]
    },
    {
     "name": "stderr",
     "output_type": "stream",
     "text": [
      "2024-02-01 23:15:32,633 - INFO - URL https://www.eversports.de/s/upsidedown-studio-bad-homburg is valid.\n",
      "2024-02-01 23:15:32,633 - INFO - Processing URL 2/3: https://www.eversports.de/sp/upsidedown-studio-bad-homburg\n",
      "2024-02-01 23:15:33,976 - INFO - URL https://www.eversports.de/sp/upsidedown-studio-bad-homburg is valid.\n",
      "2024-02-01 23:15:33,978 - INFO - Processing URL 3/3: https://www.eversports.de/s/upsidedown-studio-bad-homburg/team\n",
      "2024-02-01 23:15:35,333 - INFO - URL https://www.eversports.de/s/upsidedown-studio-bad-homburg/team is valid.\n"
     ]
    },
    {
     "name": "stdout",
     "output_type": "stream",
     "text": [
      "Scraping Pole Studio Data from https://www.eversports.de/s/upsidedown-studio-bad-homburg...\n"
     ]
    },
    {
     "name": "stderr",
     "output_type": "stream",
     "text": [
      "Processing URLs:  81%|████████  | 334/412 [27:29<10:15,  7.88s/it, Current URL: https://www.eversports.de/s/upsidedown-studio-bad-homburg]"
     ]
    },
    {
     "name": "stdout",
     "output_type": "stream",
     "text": [
      "Processing completed.\n",
      "Pole Studio Data: 1 entries\n",
      "Starting URL reconstruction...\n"
     ]
    },
    {
     "name": "stderr",
     "output_type": "stream",
     "text": [
      "2024-02-01 23:15:37,917 - INFO - Processing URL 1/4: https://www.eversports.de/s/pole-and-move-mannheim\n"
     ]
    },
    {
     "name": "stdout",
     "output_type": "stream",
     "text": [
      "Converting to DataFrame...\n",
      "Validating URLs...\n"
     ]
    },
    {
     "name": "stderr",
     "output_type": "stream",
     "text": [
      "2024-02-01 23:15:39,814 - INFO - URL https://www.eversports.de/s/pole-and-move-mannheim is valid.\n",
      "2024-02-01 23:15:39,815 - INFO - Processing URL 2/4: https://www.eversports.de/sw/pole-and-move-mannheim\n",
      "2024-02-01 23:15:41,364 - INFO - URL https://www.eversports.de/sw/pole-and-move-mannheim is valid.\n",
      "2024-02-01 23:15:41,366 - INFO - Processing URL 3/4: https://www.eversports.de/sp/pole-and-move-mannheim\n",
      "2024-02-01 23:15:42,690 - INFO - URL https://www.eversports.de/sp/pole-and-move-mannheim is valid.\n",
      "2024-02-01 23:15:42,691 - INFO - Processing URL 4/4: https://www.eversports.de/s/pole-and-move-mannheim/team\n",
      "2024-02-01 23:15:44,165 - INFO - URL https://www.eversports.de/s/pole-and-move-mannheim/team is valid.\n"
     ]
    },
    {
     "name": "stdout",
     "output_type": "stream",
     "text": [
      "Scraping Pole Studio Data from https://www.eversports.de/s/pole-and-move-mannheim...\n",
      "Scraping Workshops Data from https://www.eversports.de/sw/pole-and-move-mannheim...\n",
      "Scraping Workshop Details from https://www.eversports.de/e/workshop/UZAUnxM...\n",
      "Scraping Workshop Details from https://www.eversports.de/e/workshop/-IGRjIZ...\n",
      "Scraping Workshop Details from https://www.eversports.de/e/workshop/gbofUBp...\n",
      "Scraping Workshop Details from https://www.eversports.de/e/workshop/NFfn_y6...\n",
      "Scraping Workshop Details from https://www.eversports.de/e/workshop/miY7n0b...\n",
      "Scraping Workshop Details from https://www.eversports.de/e/workshop/C9b62JT...\n",
      "Scraping Workshop Details from https://www.eversports.de/e/workshop/0fonSE4...\n"
     ]
    },
    {
     "name": "stderr",
     "output_type": "stream",
     "text": [
      "Processing URLs:  81%|████████▏ | 335/412 [27:51<15:27, 12.05s/it, Current URL: https://www.eversports.de/s/pole-and-move-mannheim]       "
     ]
    },
    {
     "name": "stdout",
     "output_type": "stream",
     "text": [
      "Processing completed.\n",
      "Pole Studio Data: 1 entries\n",
      "Workshops Data: 7 entries\n",
      "Workshop Details: 7 entries\n",
      "Starting URL reconstruction...\n"
     ]
    },
    {
     "name": "stderr",
     "output_type": "stream",
     "text": [
      "Processing URLs:  82%|████████▏ | 336/412 [27:52<11:10,  8.82s/it, Current URL: https://www.eversports.de/s/studio-mohnblume]      "
     ]
    },
    {
     "name": "stdout",
     "output_type": "stream",
     "text": [
      "Error during HTTP request: 404 Client Error: Not Found for url: https://www.eversports.de/s/studio-mohnblume\n",
      "Converting to DataFrame...\n",
      "Validating URLs...\n",
      "Processing completed.\n",
      "Starting URL reconstruction...\n"
     ]
    },
    {
     "name": "stderr",
     "output_type": "stream",
     "text": [
      "2024-02-01 23:16:00,286 - INFO - Processing URL 1/4: https://www.eversports.de/s/pole-heroes\n"
     ]
    },
    {
     "name": "stdout",
     "output_type": "stream",
     "text": [
      "Converting to DataFrame...\n",
      "Validating URLs...\n"
     ]
    },
    {
     "name": "stderr",
     "output_type": "stream",
     "text": [
      "2024-02-01 23:16:01,759 - INFO - URL https://www.eversports.de/s/pole-heroes is valid.\n",
      "2024-02-01 23:16:01,761 - INFO - Processing URL 2/4: https://www.eversports.de/sw/pole-heroes\n",
      "2024-02-01 23:16:03,201 - INFO - URL https://www.eversports.de/sw/pole-heroes is valid.\n",
      "2024-02-01 23:16:03,202 - INFO - Processing URL 3/4: https://www.eversports.de/sp/pole-heroes\n",
      "2024-02-01 23:16:04,531 - INFO - URL https://www.eversports.de/sp/pole-heroes is valid.\n",
      "2024-02-01 23:16:04,532 - INFO - Processing URL 4/4: https://www.eversports.de/s/pole-heroes/team\n",
      "2024-02-01 23:16:05,884 - INFO - URL https://www.eversports.de/s/pole-heroes/team is valid.\n"
     ]
    },
    {
     "name": "stdout",
     "output_type": "stream",
     "text": [
      "Scraping Pole Studio Data from https://www.eversports.de/s/pole-heroes...\n",
      "Scraping Workshops Data from https://www.eversports.de/sw/pole-heroes...\n",
      "Scraping Workshop Details from https://www.eversports.de/e/workshop/qyrtCxT...\n",
      "Scraping Workshop Details from https://www.eversports.de/e/workshop/XbedbNM...\n",
      "Scraping Workshop Details from https://www.eversports.de/e/workshop/_cVfx28...\n",
      "Scraping Workshop Details from https://www.eversports.de/e/workshop/vPqMS0U...\n"
     ]
    },
    {
     "name": "stderr",
     "output_type": "stream",
     "text": [
      "Processing URLs:  82%|████████▏ | 337/412 [28:07<13:18, 10.64s/it, Current URL: https://www.eversports.de/s/pole-heroes]     "
     ]
    },
    {
     "name": "stdout",
     "output_type": "stream",
     "text": [
      "Processing completed.\n",
      "Pole Studio Data: 1 entries\n",
      "Workshops Data: 4 entries\n",
      "Workshop Details: 4 entries\n",
      "Starting URL reconstruction...\n"
     ]
    },
    {
     "name": "stderr",
     "output_type": "stream",
     "text": [
      "2024-02-01 23:16:15,397 - INFO - Processing URL 1/4: https://www.eversports.de/s/pole-oase\n"
     ]
    },
    {
     "name": "stdout",
     "output_type": "stream",
     "text": [
      "Converting to DataFrame...\n",
      "Validating URLs...\n"
     ]
    },
    {
     "name": "stderr",
     "output_type": "stream",
     "text": [
      "2024-02-01 23:16:16,900 - INFO - URL https://www.eversports.de/s/pole-oase is valid.\n",
      "2024-02-01 23:16:16,901 - INFO - Processing URL 2/4: https://www.eversports.de/sw/pole-oase\n",
      "2024-02-01 23:16:18,242 - INFO - URL https://www.eversports.de/sw/pole-oase is valid.\n",
      "2024-02-01 23:16:18,243 - INFO - Processing URL 3/4: https://www.eversports.de/sp/pole-oase\n",
      "2024-02-01 23:16:19,577 - INFO - URL https://www.eversports.de/sp/pole-oase is valid.\n",
      "2024-02-01 23:16:19,577 - INFO - Processing URL 4/4: https://www.eversports.de/s/pole-oase/team\n",
      "2024-02-01 23:16:21,119 - INFO - URL https://www.eversports.de/s/pole-oase/team is valid.\n"
     ]
    },
    {
     "name": "stdout",
     "output_type": "stream",
     "text": [
      "Scraping Pole Studio Data from https://www.eversports.de/s/pole-oase...\n",
      "Scraping Workshops Data from https://www.eversports.de/sw/pole-oase...\n",
      "Scraping Workshop Details from https://www.eversports.de/e/workshop/9cNbxVS...\n",
      "Scraping Workshop Details from https://www.eversports.de/e/workshop/FkutCDr...\n",
      "Scraping Workshop Details from https://www.eversports.de/e/workshop/qzt25WB...\n"
     ]
    },
    {
     "name": "stderr",
     "output_type": "stream",
     "text": [
      "Processing URLs:  82%|████████▏ | 338/412 [28:21<14:07, 11.46s/it, Current URL: https://www.eversports.de/s/pole-oase]  "
     ]
    },
    {
     "name": "stdout",
     "output_type": "stream",
     "text": [
      "Processing completed.\n",
      "Pole Studio Data: 1 entries\n",
      "Workshops Data: 3 entries\n",
      "Workshop Details: 3 entries\n",
      "Starting URL reconstruction...\n"
     ]
    },
    {
     "name": "stderr",
     "output_type": "stream",
     "text": [
      "2024-02-01 23:16:28,401 - INFO - Processing URL 1/1: https://www.eversports.de/s/pole-flow-berlin\n"
     ]
    },
    {
     "name": "stdout",
     "output_type": "stream",
     "text": [
      "Converting to DataFrame...\n",
      "Validating URLs...\n"
     ]
    },
    {
     "name": "stderr",
     "output_type": "stream",
     "text": [
      "2024-02-01 23:16:29,717 - INFO - URL https://www.eversports.de/s/pole-flow-berlin is valid.\n"
     ]
    },
    {
     "name": "stdout",
     "output_type": "stream",
     "text": [
      "Scraping Pole Studio Data from https://www.eversports.de/s/pole-flow-berlin...\n"
     ]
    },
    {
     "name": "stderr",
     "output_type": "stream",
     "text": [
      "Processing URLs:  82%|████████▏ | 339/412 [28:23<10:50,  8.91s/it, Current URL: https://www.eversports.de/s/pole-flow-berlin]"
     ]
    },
    {
     "name": "stdout",
     "output_type": "stream",
     "text": [
      "Processing completed.\n",
      "Pole Studio Data: 1 entries\n",
      "Starting URL reconstruction...\n"
     ]
    },
    {
     "name": "stderr",
     "output_type": "stream",
     "text": [
      "Processing URLs:  83%|████████▎ | 340/412 [28:25<07:55,  6.61s/it, Current URL: https://www.eversports.de/s/studio-aria-arte]"
     ]
    },
    {
     "name": "stdout",
     "output_type": "stream",
     "text": [
      "Error during HTTP request: 404 Client Error: Not Found for url: https://www.eversports.de/s/studio-aria-arte\n",
      "Converting to DataFrame...\n",
      "Validating URLs...\n",
      "Processing completed.\n",
      "Starting URL reconstruction...\n"
     ]
    },
    {
     "name": "stderr",
     "output_type": "stream",
     "text": [
      "Processing URLs:  83%|████████▎ | 341/412 [28:26<05:56,  5.02s/it, Current URL: https://www.eversports.de/s/flexx-arts---aerial-dance-&-fitness]"
     ]
    },
    {
     "name": "stdout",
     "output_type": "stream",
     "text": [
      "Error during HTTP request: 404 Client Error: Not Found for url: https://www.eversports.de/s/flexx-arts---aerial-dance-&-fitness\n",
      "Converting to DataFrame...\n",
      "Validating URLs...\n",
      "Processing completed.\n",
      "Starting URL reconstruction...\n"
     ]
    },
    {
     "name": "stderr",
     "output_type": "stream",
     "text": [
      "Processing URLs:  83%|████████▎ | 342/412 [28:27<04:33,  3.90s/it, Current URL: https://www.eversports.de/s/pole-studio-koblenz]                "
     ]
    },
    {
     "name": "stdout",
     "output_type": "stream",
     "text": [
      "Error during HTTP request: 404 Client Error: Not Found for url: https://www.eversports.de/s/pole-studio-koblenz\n",
      "Converting to DataFrame...\n",
      "Validating URLs...\n",
      "Processing completed.\n",
      "Starting URL reconstruction...\n"
     ]
    },
    {
     "name": "stderr",
     "output_type": "stream",
     "text": [
      "2024-02-01 23:16:35,773 - INFO - Processing URL 1/3: https://www.eversports.de/s/polestation-academy\n"
     ]
    },
    {
     "name": "stdout",
     "output_type": "stream",
     "text": [
      "Converting to DataFrame...\n",
      "Validating URLs...\n"
     ]
    },
    {
     "name": "stderr",
     "output_type": "stream",
     "text": [
      "2024-02-01 23:16:37,226 - INFO - URL https://www.eversports.de/s/polestation-academy is valid.\n",
      "2024-02-01 23:16:37,227 - INFO - Processing URL 2/3: https://www.eversports.de/sp/polestation-academy\n",
      "2024-02-01 23:16:38,501 - INFO - URL https://www.eversports.de/sp/polestation-academy is not valid.\n",
      "2024-02-01 23:16:38,502 - INFO - Processing URL 3/3: https://www.eversports.de/s/polestation-academy/team\n",
      "2024-02-01 23:16:39,907 - INFO - URL https://www.eversports.de/s/polestation-academy/team is valid.\n"
     ]
    },
    {
     "name": "stdout",
     "output_type": "stream",
     "text": [
      "Scraping Pole Studio Data from https://www.eversports.de/s/polestation-academy...\n"
     ]
    },
    {
     "name": "stderr",
     "output_type": "stream",
     "text": [
      "Processing URLs:  83%|████████▎ | 343/412 [28:34<05:21,  4.66s/it, Current URL: https://www.eversports.de/s/polestation-academy]"
     ]
    },
    {
     "name": "stdout",
     "output_type": "stream",
     "text": [
      "Processing completed.\n",
      "Pole Studio Data: 1 entries\n",
      "Starting URL reconstruction...\n"
     ]
    },
    {
     "name": "stderr",
     "output_type": "stream",
     "text": [
      "2024-02-01 23:16:41,715 - INFO - Processing URL 1/3: https://www.eversports.de/s/pole-dance-studio-passion-hannover\n"
     ]
    },
    {
     "name": "stdout",
     "output_type": "stream",
     "text": [
      "Converting to DataFrame...\n",
      "Validating URLs...\n"
     ]
    },
    {
     "name": "stderr",
     "output_type": "stream",
     "text": [
      "2024-02-01 23:16:43,277 - INFO - URL https://www.eversports.de/s/pole-dance-studio-passion-hannover is valid.\n",
      "2024-02-01 23:16:43,278 - INFO - Processing URL 2/3: https://www.eversports.de/sp/pole-dance-studio-passion-hannover\n",
      "2024-02-01 23:16:44,481 - INFO - URL https://www.eversports.de/sp/pole-dance-studio-passion-hannover is valid.\n",
      "2024-02-01 23:16:44,482 - INFO - Processing URL 3/3: https://www.eversports.de/s/pole-dance-studio-passion-hannover/team\n",
      "2024-02-01 23:16:45,704 - INFO - URL https://www.eversports.de/s/pole-dance-studio-passion-hannover/team is valid.\n"
     ]
    },
    {
     "name": "stdout",
     "output_type": "stream",
     "text": [
      "Scraping Pole Studio Data from https://www.eversports.de/s/pole-dance-studio-passion-hannover...\n"
     ]
    },
    {
     "name": "stderr",
     "output_type": "stream",
     "text": [
      "Processing URLs:  83%|████████▎ | 344/412 [28:41<06:14,  5.50s/it, Current URL: https://www.eversports.de/s/pole-dance-studio-passion-hannover]"
     ]
    },
    {
     "name": "stdout",
     "output_type": "stream",
     "text": [
      "Processing completed.\n",
      "Pole Studio Data: 1 entries\n",
      "Starting URL reconstruction...\n"
     ]
    },
    {
     "name": "stderr",
     "output_type": "stream",
     "text": [
      "2024-02-01 23:16:51,068 - INFO - Processing URL 1/3: https://www.eversports.de/s/la-belle\n"
     ]
    },
    {
     "name": "stdout",
     "output_type": "stream",
     "text": [
      "Error reconstructing URL for 'Kurse': Unrecognized text: 'Kurse'\n",
      "Converting to DataFrame...\n",
      "Validating URLs...\n"
     ]
    },
    {
     "name": "stderr",
     "output_type": "stream",
     "text": [
      "2024-02-01 23:16:52,519 - INFO - URL https://www.eversports.de/s/la-belle is valid.\n",
      "2024-02-01 23:16:52,520 - INFO - Processing URL 2/3: https://www.eversports.de/sp/la-belle\n",
      "2024-02-01 23:16:53,755 - INFO - URL https://www.eversports.de/sp/la-belle is valid.\n",
      "2024-02-01 23:16:53,756 - INFO - Processing URL 3/3: https://www.eversports.de/s/la-belle/team\n",
      "2024-02-01 23:16:55,102 - INFO - URL https://www.eversports.de/s/la-belle/team is valid.\n"
     ]
    },
    {
     "name": "stdout",
     "output_type": "stream",
     "text": [
      "Scraping Pole Studio Data from https://www.eversports.de/s/la-belle...\n"
     ]
    },
    {
     "name": "stderr",
     "output_type": "stream",
     "text": [
      "Processing URLs:  84%|████████▎ | 345/412 [28:49<06:55,  6.20s/it, Current URL: https://www.eversports.de/s/la-belle]                          "
     ]
    },
    {
     "name": "stdout",
     "output_type": "stream",
     "text": [
      "Processing completed.\n",
      "Pole Studio Data: 1 entries\n",
      "Starting URL reconstruction...\n"
     ]
    },
    {
     "name": "stderr",
     "output_type": "stream",
     "text": [
      "2024-02-01 23:16:58,117 - INFO - Processing URL 1/1: https://www.eversports.de/s/freaky-fitness\n"
     ]
    },
    {
     "name": "stdout",
     "output_type": "stream",
     "text": [
      "Converting to DataFrame...\n",
      "Validating URLs...\n"
     ]
    },
    {
     "name": "stderr",
     "output_type": "stream",
     "text": [
      "2024-02-01 23:16:59,541 - INFO - URL https://www.eversports.de/s/freaky-fitness is valid.\n"
     ]
    },
    {
     "name": "stdout",
     "output_type": "stream",
     "text": [
      "Scraping Pole Studio Data from https://www.eversports.de/s/freaky-fitness...\n"
     ]
    },
    {
     "name": "stderr",
     "output_type": "stream",
     "text": [
      "Processing URLs:  84%|████████▍ | 346/412 [28:54<06:17,  5.72s/it, Current URL: https://www.eversports.de/s/freaky-fitness]"
     ]
    },
    {
     "name": "stdout",
     "output_type": "stream",
     "text": [
      "Processing completed.\n",
      "Pole Studio Data: 1 entries\n",
      "Starting URL reconstruction...\n"
     ]
    },
    {
     "name": "stderr",
     "output_type": "stream",
     "text": [
      "Processing URLs:  84%|████████▍ | 347/412 [28:55<04:45,  4.39s/it, Current URL: https://www.eversports.de/s/exquisuite]    "
     ]
    },
    {
     "name": "stdout",
     "output_type": "stream",
     "text": [
      "Error during HTTP request: 404 Client Error: Not Found for url: https://www.eversports.de/s/exquisuite\n",
      "Converting to DataFrame...\n",
      "Validating URLs...\n",
      "Processing completed.\n",
      "Starting URL reconstruction...\n"
     ]
    },
    {
     "name": "stderr",
     "output_type": "stream",
     "text": [
      "Processing URLs:  84%|████████▍ | 348/412 [28:56<03:41,  3.46s/it, Current URL: https://www.eversports.de/s/vi-dance-hamm]"
     ]
    },
    {
     "name": "stdout",
     "output_type": "stream",
     "text": [
      "Error during HTTP request: 404 Client Error: Not Found for url: https://www.eversports.de/s/vi-dance-hamm\n",
      "Converting to DataFrame...\n",
      "Validating URLs...\n",
      "Processing completed.\n",
      "Starting URL reconstruction...\n"
     ]
    },
    {
     "name": "stderr",
     "output_type": "stream",
     "text": [
      "Processing URLs:  85%|████████▍ | 349/412 [29:01<03:59,  3.80s/it, Current URL: https://www.eversports.de/s/k%c3%b6rperformfabrik-gbr]"
     ]
    },
    {
     "name": "stdout",
     "output_type": "stream",
     "text": [
      "Error during HTTP request: Exceeded 30 redirects.\n",
      "Converting to DataFrame...\n",
      "Validating URLs...\n",
      "Processing completed.\n",
      "Starting URL reconstruction...\n"
     ]
    },
    {
     "name": "stderr",
     "output_type": "stream",
     "text": [
      "Processing URLs:  85%|████████▍ | 350/412 [29:02<03:06,  3.00s/it, Current URL: https://www.eversports.de/s/anni's-pole-dance-neumünster]"
     ]
    },
    {
     "name": "stdout",
     "output_type": "stream",
     "text": [
      "Error during HTTP request: 404 Client Error: Not Found for url: https://www.eversports.de/s/anni's-pole-dance-neum%C3%BCnster\n",
      "Converting to DataFrame...\n",
      "Validating URLs...\n",
      "Processing completed.\n",
      "Starting URL reconstruction...\n"
     ]
    },
    {
     "name": "stderr",
     "output_type": "stream",
     "text": [
      "2024-02-01 23:17:11,059 - INFO - Processing URL 1/4: https://www.eversports.de/s/schwerelos-muenster\n"
     ]
    },
    {
     "name": "stdout",
     "output_type": "stream",
     "text": [
      "Error reconstructing URL for 'Trainings': Unrecognized text: 'Trainings'\n",
      "Error reconstructing URL for 'Kurse': Unrecognized text: 'Kurse'\n",
      "Converting to DataFrame...\n",
      "Validating URLs...\n"
     ]
    },
    {
     "name": "stderr",
     "output_type": "stream",
     "text": [
      "2024-02-01 23:17:12,557 - INFO - URL https://www.eversports.de/s/schwerelos-muenster is valid.\n",
      "2024-02-01 23:17:12,557 - INFO - Processing URL 2/4: https://www.eversports.de/sw/schwerelos-muenster\n",
      "2024-02-01 23:17:14,037 - INFO - URL https://www.eversports.de/sw/schwerelos-muenster is valid.\n",
      "2024-02-01 23:17:14,038 - INFO - Processing URL 3/4: https://www.eversports.de/sp/schwerelos-muenster\n",
      "2024-02-01 23:17:15,308 - INFO - URL https://www.eversports.de/sp/schwerelos-muenster is valid.\n",
      "2024-02-01 23:17:15,308 - INFO - Processing URL 4/4: https://www.eversports.de/s/schwerelos-muenster/team\n",
      "2024-02-01 23:17:16,814 - INFO - URL https://www.eversports.de/s/schwerelos-muenster/team is valid.\n"
     ]
    },
    {
     "name": "stdout",
     "output_type": "stream",
     "text": [
      "Scraping Pole Studio Data from https://www.eversports.de/s/schwerelos-muenster...\n",
      "Scraping Workshops Data from https://www.eversports.de/sw/schwerelos-muenster...\n",
      "Scraping Workshop Details from https://www.eversports.de/e/workshop/3sYwu8j...\n",
      "Scraping Workshop Details from https://www.eversports.de/e/workshop/sJO5aQ1...\n",
      "Scraping Workshop Details from https://www.eversports.de/e/workshop/ZP_skji...\n",
      "Scraping Workshop Details from https://www.eversports.de/e/workshop/T2iJuZb...\n",
      "Scraping Workshop Details from https://www.eversports.de/e/workshop/JKD4cQ5...\n",
      "Scraping Workshop Details from https://www.eversports.de/e/workshop/fVM0ULF...\n",
      "Scraping Workshop Details from https://www.eversports.de/e/workshop/9fkoAyU...\n",
      "Scraping Workshop Details from https://www.eversports.de/e/workshop/leDNfNr...\n",
      "Scraping Workshop Details from https://www.eversports.de/e/workshop/ahCVYvh...\n",
      "Scraping Workshop Details from https://www.eversports.de/e/workshop/RjsCf5S...\n",
      "Scraping Workshop Details from https://www.eversports.de/e/workshop/ZOxKKrM...\n",
      "Scraping Workshop Details from https://www.eversports.de/e/workshop/Zq0GQNB...\n",
      "Scraping Workshop Details from https://www.eversports.de/e/workshop/xPGUjbS...\n"
     ]
    },
    {
     "name": "stderr",
     "output_type": "stream",
     "text": [
      "Processing URLs:  85%|████████▌ | 351/412 [29:32<11:16, 11.10s/it, Current URL: https://www.eversports.de/s/schwerelos-muenster]         "
     ]
    },
    {
     "name": "stdout",
     "output_type": "stream",
     "text": [
      "Processing completed.\n",
      "Pole Studio Data: 1 entries\n",
      "Workshops Data: 13 entries\n",
      "Workshop Details: 13 entries\n",
      "Starting URL reconstruction...\n"
     ]
    },
    {
     "name": "stderr",
     "output_type": "stream",
     "text": [
      "Processing URLs:  85%|████████▌ | 352/412 [29:33<08:08,  8.14s/it, Current URL: https://www.eversports.de/s/pole-heroes-pole-%26aerial-dance-studio]"
     ]
    },
    {
     "name": "stdout",
     "output_type": "stream",
     "text": [
      "Error during HTTP request: 404 Client Error: Not Found for url: https://www.eversports.de/s/pole-heroes-pole-%26aerial-dance-studio\n",
      "Converting to DataFrame...\n",
      "Validating URLs...\n",
      "Processing completed.\n",
      "Starting URL reconstruction...\n"
     ]
    },
    {
     "name": "stderr",
     "output_type": "stream",
     "text": [
      "Processing URLs:  86%|████████▌ | 353/412 [29:34<05:57,  6.06s/it, Current URL: https://www.eversports.de/s/polea--pole-and-aerial-dance]           "
     ]
    },
    {
     "name": "stdout",
     "output_type": "stream",
     "text": [
      "Error during HTTP request: 404 Client Error: Not Found for url: https://www.eversports.de/s/polea--pole-and-aerial-dance\n",
      "Converting to DataFrame...\n",
      "Validating URLs...\n",
      "Processing completed.\n",
      "Starting URL reconstruction...\n"
     ]
    },
    {
     "name": "stderr",
     "output_type": "stream",
     "text": [
      "Processing URLs:  86%|████████▌ | 354/412 [29:36<04:28,  4.62s/it, Current URL: https://www.eversports.de/s/studio-fitnessdarling]       "
     ]
    },
    {
     "name": "stdout",
     "output_type": "stream",
     "text": [
      "Error during HTTP request: 404 Client Error: Not Found for url: https://www.eversports.de/s/studio-fitnessdarling\n",
      "Converting to DataFrame...\n",
      "Validating URLs...\n",
      "Processing completed.\n",
      "Starting URL reconstruction...\n"
     ]
    },
    {
     "name": "stderr",
     "output_type": "stream",
     "text": [
      "Processing URLs:  86%|████████▌ | 355/412 [29:37<03:27,  3.64s/it, Current URL: https://www.eversports.de/s/vertical-pole-aerial-dance-aschaffenburg]"
     ]
    },
    {
     "name": "stdout",
     "output_type": "stream",
     "text": [
      "Error during HTTP request: 404 Client Error: Not Found for url: https://www.eversports.de/s/vertical-pole-aerial-dance-aschaffenburg\n",
      "Converting to DataFrame...\n",
      "Validating URLs...\n",
      "Processing completed.\n",
      "Starting URL reconstruction...\n"
     ]
    },
    {
     "name": "stderr",
     "output_type": "stream",
     "text": [
      "2024-02-01 23:17:45,658 - INFO - Processing URL 1/4: https://www.eversports.de/s/aerial-art-poledance\n"
     ]
    },
    {
     "name": "stdout",
     "output_type": "stream",
     "text": [
      "Converting to DataFrame...\n",
      "Validating URLs...\n"
     ]
    },
    {
     "name": "stderr",
     "output_type": "stream",
     "text": [
      "2024-02-01 23:17:47,126 - INFO - URL https://www.eversports.de/s/aerial-art-poledance is valid.\n",
      "2024-02-01 23:17:47,127 - INFO - Processing URL 2/4: https://www.eversports.de/sw/aerial-art-poledance\n",
      "2024-02-01 23:17:48,487 - INFO - URL https://www.eversports.de/sw/aerial-art-poledance is valid.\n",
      "2024-02-01 23:17:48,487 - INFO - Processing URL 3/4: https://www.eversports.de/sp/aerial-art-poledance\n",
      "2024-02-01 23:17:49,712 - INFO - URL https://www.eversports.de/sp/aerial-art-poledance is valid.\n",
      "2024-02-01 23:17:49,714 - INFO - Processing URL 4/4: https://www.eversports.de/s/aerial-art-poledance/team\n",
      "2024-02-01 23:17:51,595 - INFO - URL https://www.eversports.de/s/aerial-art-poledance/team is valid.\n"
     ]
    },
    {
     "name": "stdout",
     "output_type": "stream",
     "text": [
      "Scraping Pole Studio Data from https://www.eversports.de/s/aerial-art-poledance...\n",
      "Scraping Workshops Data from https://www.eversports.de/sw/aerial-art-poledance...\n",
      "Scraping Workshop Details from https://www.eversports.de/e/workshop/1pLUOJO...\n",
      "Scraping Workshop Details from https://www.eversports.de/e/workshop/HLSPtEf...\n"
     ]
    },
    {
     "name": "stderr",
     "output_type": "stream",
     "text": [
      "Processing URLs:  86%|████████▋ | 356/412 [29:50<05:56,  6.37s/it, Current URL: https://www.eversports.de/s/aerial-art-poledance]                    "
     ]
    },
    {
     "name": "stdout",
     "output_type": "stream",
     "text": [
      "Processing completed.\n",
      "Pole Studio Data: 1 entries\n",
      "Workshops Data: 2 entries\n",
      "Workshop Details: 2 entries\n",
      "Starting URL reconstruction...\n"
     ]
    },
    {
     "name": "stderr",
     "output_type": "stream",
     "text": [
      "Processing URLs:  87%|████████▋ | 357/412 [29:51<04:29,  4.90s/it, Current URL: https://www.eversports.de/s/b.fitness-pole%26body]"
     ]
    },
    {
     "name": "stdout",
     "output_type": "stream",
     "text": [
      "Error during HTTP request: 404 Client Error: Not Found for url: https://www.eversports.de/s/b.fitness-pole%26body\n",
      "Converting to DataFrame...\n",
      "Validating URLs...\n",
      "Processing completed.\n",
      "Starting URL reconstruction...\n"
     ]
    },
    {
     "name": "stderr",
     "output_type": "stream",
     "text": [
      "Processing URLs:  87%|████████▋ | 358/412 [29:53<03:30,  3.90s/it, Current URL: https://www.eversports.de/s/happy-pole-place]     "
     ]
    },
    {
     "name": "stdout",
     "output_type": "stream",
     "text": [
      "Error during HTTP request: 404 Client Error: Not Found for url: https://www.eversports.de/s/happy-pole-place\n",
      "Converting to DataFrame...\n",
      "Validating URLs...\n",
      "Processing completed.\n",
      "Starting URL reconstruction...\n"
     ]
    },
    {
     "name": "stderr",
     "output_type": "stream",
     "text": [
      "Processing URLs:  87%|████████▋ | 359/412 [29:54<02:44,  3.10s/it, Current URL: https://www.eversports.de/s/verticalarts-pole-&-aerial-fitness]"
     ]
    },
    {
     "name": "stdout",
     "output_type": "stream",
     "text": [
      "Error during HTTP request: 404 Client Error: Not Found for url: https://www.eversports.de/s/verticalarts-pole-&-aerial-fitness\n",
      "Converting to DataFrame...\n",
      "Validating URLs...\n",
      "Processing completed.\n",
      "Starting URL reconstruction...\n"
     ]
    },
    {
     "name": "stderr",
     "output_type": "stream",
     "text": [
      "Processing URLs:  87%|████████▋ | 360/412 [29:55<02:13,  2.56s/it, Current URL: https://www.eversports.de/s/dance-&-pole-langenfeld]           "
     ]
    },
    {
     "name": "stdout",
     "output_type": "stream",
     "text": [
      "Error during HTTP request: 404 Client Error: Not Found for url: https://www.eversports.de/s/dance-&-pole-langenfeld\n",
      "Converting to DataFrame...\n",
      "Validating URLs...\n",
      "Processing completed.\n",
      "Starting URL reconstruction...\n"
     ]
    },
    {
     "name": "stderr",
     "output_type": "stream",
     "text": [
      "2024-02-01 23:18:03,529 - INFO - Processing URL 1/3: https://www.eversports.de/s/polemotions-tuebingen\n"
     ]
    },
    {
     "name": "stdout",
     "output_type": "stream",
     "text": [
      "Converting to DataFrame...\n",
      "Validating URLs...\n"
     ]
    },
    {
     "name": "stderr",
     "output_type": "stream",
     "text": [
      "2024-02-01 23:18:05,034 - INFO - URL https://www.eversports.de/s/polemotions-tuebingen is valid.\n",
      "2024-02-01 23:18:05,035 - INFO - Processing URL 2/3: https://www.eversports.de/sp/polemotions-tuebingen\n",
      "2024-02-01 23:18:06,395 - INFO - URL https://www.eversports.de/sp/polemotions-tuebingen is valid.\n",
      "2024-02-01 23:18:06,397 - INFO - Processing URL 3/3: https://www.eversports.de/s/polemotions-tuebingen/team\n",
      "2024-02-01 23:18:08,186 - INFO - URL https://www.eversports.de/s/polemotions-tuebingen/team is valid.\n"
     ]
    },
    {
     "name": "stdout",
     "output_type": "stream",
     "text": [
      "Scraping Pole Studio Data from https://www.eversports.de/s/polemotions-tuebingen...\n"
     ]
    },
    {
     "name": "stderr",
     "output_type": "stream",
     "text": [
      "Processing URLs:  88%|████████▊ | 361/412 [30:02<03:16,  3.84s/it, Current URL: https://www.eversports.de/s/polemotions-tuebingen]  "
     ]
    },
    {
     "name": "stdout",
     "output_type": "stream",
     "text": [
      "Processing completed.\n",
      "Pole Studio Data: 1 entries\n",
      "Starting URL reconstruction...\n"
     ]
    },
    {
     "name": "stderr",
     "output_type": "stream",
     "text": [
      "Processing URLs:  88%|████████▊ | 362/412 [30:03<02:34,  3.09s/it, Current URL: https://www.eversports.de/s/pole-for-soul]        "
     ]
    },
    {
     "name": "stdout",
     "output_type": "stream",
     "text": [
      "Error during HTTP request: 404 Client Error: Not Found for url: https://www.eversports.de/s/pole-for-soul\n",
      "Converting to DataFrame...\n",
      "Validating URLs...\n",
      "Processing completed.\n",
      "Starting URL reconstruction...\n"
     ]
    },
    {
     "name": "stderr",
     "output_type": "stream",
     "text": [
      "Processing URLs:  88%|████████▊ | 363/412 [30:05<02:05,  2.56s/it, Current URL: https://www.eversports.de/s/health-and-shape]"
     ]
    },
    {
     "name": "stdout",
     "output_type": "stream",
     "text": [
      "Error during HTTP request: 404 Client Error: Not Found for url: https://www.eversports.de/s/health-and-shape\n",
      "Converting to DataFrame...\n",
      "Validating URLs...\n",
      "Processing completed.\n",
      "Starting URL reconstruction...\n"
     ]
    },
    {
     "name": "stderr",
     "output_type": "stream",
     "text": [
      "Processing URLs:  88%|████████▊ | 364/412 [30:06<01:44,  2.18s/it, Current URL: https://www.eversports.de/s/-pole-aerial-dance--souldance]"
     ]
    },
    {
     "name": "stdout",
     "output_type": "stream",
     "text": [
      "Error during HTTP request: 404 Client Error: Not Found for url: https://www.eversports.de/s/-pole-aerial-dance--souldance\n",
      "Converting to DataFrame...\n",
      "Validating URLs...\n",
      "Processing completed.\n",
      "Starting URL reconstruction...\n"
     ]
    },
    {
     "name": "stderr",
     "output_type": "stream",
     "text": [
      "Processing URLs:  89%|████████▊ | 365/412 [30:07<01:30,  1.92s/it, Current URL: https://www.eversports.de/s/polemagique]                  "
     ]
    },
    {
     "name": "stdout",
     "output_type": "stream",
     "text": [
      "Error during HTTP request: 404 Client Error: Not Found for url: https://www.eversports.de/s/polemagique\n",
      "Converting to DataFrame...\n",
      "Validating URLs...\n",
      "Processing completed.\n",
      "Starting URL reconstruction...\n"
     ]
    },
    {
     "name": "stderr",
     "output_type": "stream",
     "text": [
      "Processing URLs:  89%|████████▉ | 366/412 [30:09<01:20,  1.74s/it, Current URL: https://www.eversports.de/s/pole-shape-studio]"
     ]
    },
    {
     "name": "stdout",
     "output_type": "stream",
     "text": [
      "Error during HTTP request: 404 Client Error: Not Found for url: https://www.eversports.de/s/pole-shape-studio\n",
      "Converting to DataFrame...\n",
      "Validating URLs...\n",
      "Processing completed.\n",
      "Starting URL reconstruction...\n"
     ]
    },
    {
     "name": "stderr",
     "output_type": "stream",
     "text": [
      "2024-02-01 23:18:16,778 - INFO - Processing URL 1/4: https://www.eversports.de/s/poleside\n"
     ]
    },
    {
     "name": "stdout",
     "output_type": "stream",
     "text": [
      "Error reconstructing URL for 'Kurse': Unrecognized text: 'Kurse'\n",
      "Converting to DataFrame...\n",
      "Validating URLs...\n"
     ]
    },
    {
     "name": "stderr",
     "output_type": "stream",
     "text": [
      "2024-02-01 23:18:18,433 - INFO - URL https://www.eversports.de/s/poleside is valid.\n",
      "2024-02-01 23:18:18,434 - INFO - Processing URL 2/4: https://www.eversports.de/sw/poleside\n",
      "2024-02-01 23:18:19,752 - INFO - URL https://www.eversports.de/sw/poleside is valid.\n",
      "2024-02-01 23:18:19,753 - INFO - Processing URL 3/4: https://www.eversports.de/sp/poleside\n",
      "2024-02-01 23:18:21,398 - INFO - URL https://www.eversports.de/sp/poleside is valid.\n",
      "2024-02-01 23:18:21,399 - INFO - Processing URL 4/4: https://www.eversports.de/s/poleside/team\n",
      "2024-02-01 23:18:22,661 - INFO - URL https://www.eversports.de/s/poleside/team is valid.\n"
     ]
    },
    {
     "name": "stdout",
     "output_type": "stream",
     "text": [
      "Scraping Pole Studio Data from https://www.eversports.de/s/poleside...\n",
      "Scraping Workshops Data from https://www.eversports.de/sw/poleside...\n",
      "Scraping Workshop Details from https://www.eversports.de/e/workshop/llCPKoMLh...\n"
     ]
    },
    {
     "name": "stderr",
     "output_type": "stream",
     "text": [
      "Processing URLs:  89%|████████▉ | 367/412 [30:20<03:20,  4.46s/it, Current URL: https://www.eversports.de/s/poleside]         "
     ]
    },
    {
     "name": "stdout",
     "output_type": "stream",
     "text": [
      "Processing completed.\n",
      "Pole Studio Data: 1 entries\n",
      "Workshops Data: 1 entries\n",
      "Workshop Details: 1 entries\n",
      "Starting URL reconstruction...\n"
     ]
    },
    {
     "name": "stderr",
     "output_type": "stream",
     "text": [
      "Processing URLs:  89%|████████▉ | 368/412 [30:21<02:34,  3.51s/it, Current URL: https://www.eversports.de/s/polerinas-art-pole-%26aerial-fitness]"
     ]
    },
    {
     "name": "stdout",
     "output_type": "stream",
     "text": [
      "Error during HTTP request: 404 Client Error: Not Found for url: https://www.eversports.de/s/polerinas-art-pole-%26aerial-fitness\n",
      "Converting to DataFrame...\n",
      "Validating URLs...\n",
      "Processing completed.\n",
      "Starting URL reconstruction...\n"
     ]
    },
    {
     "name": "stderr",
     "output_type": "stream",
     "text": [
      "Processing URLs:  90%|████████▉ | 369/412 [30:22<02:01,  2.82s/it, Current URL: https://www.eversports.de/s/drehmoment-pole.aerial.dance]        "
     ]
    },
    {
     "name": "stdout",
     "output_type": "stream",
     "text": [
      "Error during HTTP request: 404 Client Error: Not Found for url: https://www.eversports.de/s/drehmoment-pole.aerial.dance\n",
      "Converting to DataFrame...\n",
      "Validating URLs...\n",
      "Processing completed.\n",
      "Starting URL reconstruction...\n"
     ]
    },
    {
     "name": "stderr",
     "output_type": "stream",
     "text": [
      "Processing URLs:  90%|████████▉ | 370/412 [30:23<01:40,  2.39s/it, Current URL: https://www.eversports.de/s/infinity-polesports-burgkirchen]"
     ]
    },
    {
     "name": "stdout",
     "output_type": "stream",
     "text": [
      "Error during HTTP request: 404 Client Error: Not Found for url: https://www.eversports.de/s/infinity-polesports-burgkirchen\n",
      "Converting to DataFrame...\n",
      "Validating URLs...\n",
      "Processing completed.\n",
      "Starting URL reconstruction...\n"
     ]
    },
    {
     "name": "stderr",
     "output_type": "stream",
     "text": [
      "2024-02-01 23:18:31,340 - INFO - Processing URL 1/3: https://www.eversports.de/s/polefly-academy\n"
     ]
    },
    {
     "name": "stdout",
     "output_type": "stream",
     "text": [
      "Converting to DataFrame...\n",
      "Validating URLs...\n"
     ]
    },
    {
     "name": "stderr",
     "output_type": "stream",
     "text": [
      "2024-02-01 23:18:32,799 - INFO - URL https://www.eversports.de/s/polefly-academy is valid.\n",
      "2024-02-01 23:18:32,800 - INFO - Processing URL 2/3: https://www.eversports.de/sp/polefly-academy\n",
      "2024-02-01 23:18:34,094 - INFO - URL https://www.eversports.de/sp/polefly-academy is valid.\n",
      "2024-02-01 23:18:34,095 - INFO - Processing URL 3/3: https://www.eversports.de/s/polefly-academy/team\n",
      "2024-02-01 23:18:35,375 - INFO - URL https://www.eversports.de/s/polefly-academy/team is valid.\n"
     ]
    },
    {
     "name": "stdout",
     "output_type": "stream",
     "text": [
      "Scraping Pole Studio Data from https://www.eversports.de/s/polefly-academy...\n"
     ]
    },
    {
     "name": "stderr",
     "output_type": "stream",
     "text": [
      "Processing URLs:  90%|█████████ | 371/412 [30:29<02:19,  3.41s/it, Current URL: https://www.eversports.de/s/polefly-academy]                "
     ]
    },
    {
     "name": "stdout",
     "output_type": "stream",
     "text": [
      "Processing completed.\n",
      "Pole Studio Data: 1 entries\n",
      "Starting URL reconstruction...\n"
     ]
    },
    {
     "name": "stderr",
     "output_type": "stream",
     "text": [
      "Processing URLs:  90%|█████████ | 372/412 [30:30<01:50,  2.76s/it, Current URL: https://www.eversports.de/s/freaky-pole-cats-hengersberg]"
     ]
    },
    {
     "name": "stdout",
     "output_type": "stream",
     "text": [
      "Error during HTTP request: 404 Client Error: Not Found for url: https://www.eversports.de/s/freaky-pole-cats-hengersberg\n",
      "Converting to DataFrame...\n",
      "Validating URLs...\n",
      "Processing completed.\n",
      "Starting URL reconstruction...\n"
     ]
    },
    {
     "name": "stderr",
     "output_type": "stream",
     "text": [
      "Processing URLs:  91%|█████████ | 373/412 [30:32<01:30,  2.31s/it, Current URL: https://www.eversports.de/s/dance-%26-fly-pole-studio]   "
     ]
    },
    {
     "name": "stdout",
     "output_type": "stream",
     "text": [
      "Error during HTTP request: 404 Client Error: Not Found for url: https://www.eversports.de/s/dance-%26-fly-pole-studio\n",
      "Converting to DataFrame...\n",
      "Validating URLs...\n",
      "Processing completed.\n",
      "Starting URL reconstruction...\n"
     ]
    },
    {
     "name": "stderr",
     "output_type": "stream",
     "text": [
      "2024-02-01 23:18:39,698 - INFO - Processing URL 1/4: https://www.eversports.de/s/poleathletix\n"
     ]
    },
    {
     "name": "stdout",
     "output_type": "stream",
     "text": [
      "Error reconstructing URL for 'Trainings': Unrecognized text: 'Trainings'\n",
      "Converting to DataFrame...\n",
      "Validating URLs...\n"
     ]
    },
    {
     "name": "stderr",
     "output_type": "stream",
     "text": [
      "2024-02-01 23:18:41,248 - INFO - URL https://www.eversports.de/s/poleathletix is valid.\n",
      "2024-02-01 23:18:41,249 - INFO - Processing URL 2/4: https://www.eversports.de/sw/poleathletix\n",
      "2024-02-01 23:18:43,300 - INFO - URL https://www.eversports.de/sw/poleathletix is valid.\n",
      "2024-02-01 23:18:43,300 - INFO - Processing URL 3/4: https://www.eversports.de/sp/poleathletix\n",
      "2024-02-01 23:18:44,484 - INFO - URL https://www.eversports.de/sp/poleathletix is valid.\n",
      "2024-02-01 23:18:44,485 - INFO - Processing URL 4/4: https://www.eversports.de/s/poleathletix/team\n",
      "2024-02-01 23:18:47,133 - INFO - URL https://www.eversports.de/s/poleathletix/team is valid.\n"
     ]
    },
    {
     "name": "stdout",
     "output_type": "stream",
     "text": [
      "Scraping Pole Studio Data from https://www.eversports.de/s/poleathletix...\n",
      "Scraping Workshops Data from https://www.eversports.de/sw/poleathletix...\n",
      "Scraping Workshop Details from https://www.eversports.de/e/workshop/fWcLCKr...\n",
      "Scraping Workshop Details from https://www.eversports.de/e/workshop/Tb_3jSS...\n",
      "Scraping Workshop Details from https://www.eversports.de/e/workshop/BCHRRb3...\n",
      "Scraping Workshop Details from https://www.eversports.de/e/workshop/LuQ-jUD...\n",
      "Scraping Workshop Details from https://www.eversports.de/e/workshop/wpcpX0U...\n",
      "Scraping Workshop Details from https://www.eversports.de/e/workshop/csrqGyT...\n",
      "Scraping Workshop Details from https://www.eversports.de/e/workshop/rXgOpSM...\n",
      "Scraping Workshop Details from https://www.eversports.de/e/workshop/GPwT8hl...\n",
      "Scraping Workshop Details from https://www.eversports.de/e/workshop/Q4B35ej...\n"
     ]
    },
    {
     "name": "stderr",
     "output_type": "stream",
     "text": [
      "Processing URLs:  91%|█████████ | 374/412 [30:56<05:34,  8.81s/it, Current URL: https://www.eversports.de/s/poleathletix]             "
     ]
    },
    {
     "name": "stdout",
     "output_type": "stream",
     "text": [
      "Processing completed.\n",
      "Pole Studio Data: 1 entries\n",
      "Workshops Data: 9 entries\n",
      "Workshop Details: 9 entries\n",
      "Starting URL reconstruction...\n"
     ]
    },
    {
     "name": "stderr",
     "output_type": "stream",
     "text": [
      "2024-02-01 23:19:03,585 - INFO - Processing URL 1/1: https://www.eversports.de/s/poleart_inspiration\n"
     ]
    },
    {
     "name": "stdout",
     "output_type": "stream",
     "text": [
      "Converting to DataFrame...\n",
      "Validating URLs...\n"
     ]
    },
    {
     "name": "stderr",
     "output_type": "stream",
     "text": [
      "2024-02-01 23:19:04,982 - INFO - URL https://www.eversports.de/s/poleart_inspiration is valid.\n"
     ]
    },
    {
     "name": "stdout",
     "output_type": "stream",
     "text": [
      "Scraping Pole Studio Data from https://www.eversports.de/s/poleart_inspiration...\n"
     ]
    },
    {
     "name": "stderr",
     "output_type": "stream",
     "text": [
      "Processing URLs:  91%|█████████ | 375/412 [30:59<04:21,  7.08s/it, Current URL: https://www.eversports.de/s/poleart_inspiration]"
     ]
    },
    {
     "name": "stdout",
     "output_type": "stream",
     "text": [
      "Processing completed.\n",
      "Pole Studio Data: 1 entries\n",
      "Starting URL reconstruction...\n"
     ]
    },
    {
     "name": "stderr",
     "output_type": "stream",
     "text": [
      "Processing URLs:  91%|█████████▏| 376/412 [31:00<03:12,  5.35s/it, Current URL: https://www.eversports.de/s/verticalarts-pole-and-aerial-fitness]"
     ]
    },
    {
     "name": "stdout",
     "output_type": "stream",
     "text": [
      "Error during HTTP request: 404 Client Error: Not Found for url: https://www.eversports.de/s/verticalarts-pole-and-aerial-fitness\n",
      "Converting to DataFrame...\n",
      "Validating URLs...\n",
      "Processing completed.\n",
      "Starting URL reconstruction...\n"
     ]
    },
    {
     "name": "stderr",
     "output_type": "stream",
     "text": [
      "Processing URLs:  92%|█████████▏| 377/412 [31:01<02:24,  4.13s/it, Current URL: https://www.eversports.de/s/poledance-worms]                     "
     ]
    },
    {
     "name": "stdout",
     "output_type": "stream",
     "text": [
      "Error during HTTP request: 404 Client Error: Not Found for url: https://www.eversports.de/s/poledance-worms\n",
      "Converting to DataFrame...\n",
      "Validating URLs...\n",
      "Processing completed.\n",
      "Starting URL reconstruction...\n"
     ]
    },
    {
     "name": "stderr",
     "output_type": "stream",
     "text": [
      "Processing URLs:  92%|█████████▏| 378/412 [31:03<01:51,  3.28s/it, Current URL: https://www.eversports.de/s/pole-yourself]  "
     ]
    },
    {
     "name": "stdout",
     "output_type": "stream",
     "text": [
      "Error during HTTP request: 404 Client Error: Not Found for url: https://www.eversports.de/s/pole-yourself\n",
      "Converting to DataFrame...\n",
      "Validating URLs...\n",
      "Processing completed.\n",
      "Starting URL reconstruction...\n"
     ]
    },
    {
     "name": "stderr",
     "output_type": "stream",
     "text": [
      "Processing URLs:  92%|█████████▏| 379/412 [31:04<01:28,  2.67s/it, Current URL: https://www.eversports.de/s/poleria]      "
     ]
    },
    {
     "name": "stdout",
     "output_type": "stream",
     "text": [
      "Error during HTTP request: 404 Client Error: Not Found for url: https://www.eversports.de/s/poleria\n",
      "Converting to DataFrame...\n",
      "Validating URLs...\n",
      "Processing completed.\n",
      "Starting URL reconstruction...\n"
     ]
    },
    {
     "name": "stderr",
     "output_type": "stream",
     "text": [
      "Processing URLs:  92%|█████████▏| 380/412 [31:05<01:13,  2.29s/it, Current URL: https://www.eversports.de/s/femella-studio]"
     ]
    },
    {
     "name": "stdout",
     "output_type": "stream",
     "text": [
      "Error during HTTP request: 404 Client Error: Not Found for url: https://www.eversports.de/s/femella-studio\n",
      "Converting to DataFrame...\n",
      "Validating URLs...\n",
      "Processing completed.\n",
      "Starting URL reconstruction...\n"
     ]
    },
    {
     "name": "stderr",
     "output_type": "stream",
     "text": [
      "Processing URLs:  92%|█████████▏| 381/412 [31:07<01:01,  1.99s/it, Current URL: https://www.eversports.de/s/unique-studios]"
     ]
    },
    {
     "name": "stdout",
     "output_type": "stream",
     "text": [
      "Error during HTTP request: 404 Client Error: Not Found for url: https://www.eversports.de/s/unique-studios\n",
      "Converting to DataFrame...\n",
      "Validating URLs...\n",
      "Processing completed.\n",
      "Starting URL reconstruction...\n"
     ]
    },
    {
     "name": "stderr",
     "output_type": "stream",
     "text": [
      "2024-02-01 23:19:15,653 - INFO - Processing URL 1/4: https://www.eversports.de/s/pole-and-move-heidelberg\n"
     ]
    },
    {
     "name": "stdout",
     "output_type": "stream",
     "text": [
      "Converting to DataFrame...\n",
      "Validating URLs...\n"
     ]
    },
    {
     "name": "stderr",
     "output_type": "stream",
     "text": [
      "2024-02-01 23:19:18,937 - INFO - URL https://www.eversports.de/s/pole-and-move-heidelberg is valid.\n",
      "2024-02-01 23:19:18,938 - INFO - Processing URL 2/4: https://www.eversports.de/sw/pole-and-move-heidelberg\n",
      "2024-02-01 23:19:20,711 - INFO - URL https://www.eversports.de/sw/pole-and-move-heidelberg is valid.\n",
      "2024-02-01 23:19:20,712 - INFO - Processing URL 3/4: https://www.eversports.de/sp/pole-and-move-heidelberg\n",
      "2024-02-01 23:19:22,026 - INFO - URL https://www.eversports.de/sp/pole-and-move-heidelberg is valid.\n",
      "2024-02-01 23:19:22,027 - INFO - Processing URL 4/4: https://www.eversports.de/s/pole-and-move-heidelberg/team\n",
      "2024-02-01 23:19:24,002 - INFO - URL https://www.eversports.de/s/pole-and-move-heidelberg/team is valid.\n"
     ]
    },
    {
     "name": "stdout",
     "output_type": "stream",
     "text": [
      "Scraping Pole Studio Data from https://www.eversports.de/s/pole-and-move-heidelberg...\n",
      "Scraping Workshops Data from https://www.eversports.de/sw/pole-and-move-heidelberg...\n",
      "Scraping Workshop Details from https://www.eversports.de/e/workshop/VYi81mK...\n",
      "Scraping Workshop Details from https://www.eversports.de/e/workshop/101RSFR...\n",
      "Scraping Workshop Details from https://www.eversports.de/e/workshop/AnumKko...\n",
      "Scraping Workshop Details from https://www.eversports.de/e/workshop/aqDwRxt...\n",
      "Scraping Workshop Details from https://www.eversports.de/e/workshop/xpUUbAx...\n",
      "Scraping Workshop Details from https://www.eversports.de/e/workshop/yXAMy8l...\n",
      "Scraping Workshop Details from https://www.eversports.de/e/workshop/mI91ydw...\n",
      "Scraping Workshop Details from https://www.eversports.de/e/workshop/Ngcpd4l...\n",
      "Scraping Workshop Details from https://www.eversports.de/e/workshop/ij8VZCH...\n"
     ]
    },
    {
     "name": "stderr",
     "output_type": "stream",
     "text": [
      "Processing URLs:  93%|█████████▎| 382/412 [31:33<04:36,  9.23s/it, Current URL: https://www.eversports.de/s/pole-and-move-heidelberg]"
     ]
    },
    {
     "name": "stdout",
     "output_type": "stream",
     "text": [
      "Processing completed.\n",
      "Pole Studio Data: 1 entries\n",
      "Workshops Data: 9 entries\n",
      "Workshop Details: 9 entries\n",
      "Starting URL reconstruction...\n"
     ]
    },
    {
     "name": "stderr",
     "output_type": "stream",
     "text": [
      "Processing URLs:  93%|█████████▎| 383/412 [31:37<03:42,  7.67s/it, Current URL: https://www.eversports.de/s/lift-off-–-poledance-academy]"
     ]
    },
    {
     "name": "stdout",
     "output_type": "stream",
     "text": [
      "Error during HTTP request: Exceeded 30 redirects.\n",
      "Converting to DataFrame...\n",
      "Validating URLs...\n",
      "Processing completed.\n",
      "Starting URL reconstruction...\n"
     ]
    },
    {
     "name": "stderr",
     "output_type": "stream",
     "text": [
      "Processing URLs:  93%|█████████▎| 384/412 [31:38<02:42,  5.80s/it, Current URL: https://www.eversports.de/s/dance-%26-pole-leverkusen]   "
     ]
    },
    {
     "name": "stdout",
     "output_type": "stream",
     "text": [
      "Error during HTTP request: 404 Client Error: Not Found for url: https://www.eversports.de/s/dance-%26-pole-leverkusen\n",
      "Converting to DataFrame...\n",
      "Validating URLs...\n",
      "Processing completed.\n",
      "Starting URL reconstruction...\n"
     ]
    },
    {
     "name": "stderr",
     "output_type": "stream",
     "text": [
      "Processing URLs:  93%|█████████▎| 385/412 [31:40<02:00,  4.45s/it, Current URL: https://www.eversports.de/s/pole-dance-nrw]           "
     ]
    },
    {
     "name": "stdout",
     "output_type": "stream",
     "text": [
      "Error during HTTP request: 404 Client Error: Not Found for url: https://www.eversports.de/s/pole-dance-nrw\n",
      "Converting to DataFrame...\n",
      "Validating URLs...\n",
      "Processing completed.\n",
      "Starting URL reconstruction...\n"
     ]
    },
    {
     "name": "stderr",
     "output_type": "stream",
     "text": [
      "Processing URLs:  94%|█████████▎| 386/412 [31:41<01:31,  3.50s/it, Current URL: https://www.eversports.de/s/dance-%26-pole-langenfeld]"
     ]
    },
    {
     "name": "stdout",
     "output_type": "stream",
     "text": [
      "Error during HTTP request: 404 Client Error: Not Found for url: https://www.eversports.de/s/dance-%26-pole-langenfeld\n",
      "Converting to DataFrame...\n",
      "Validating URLs...\n",
      "Processing completed.\n",
      "Starting URL reconstruction...\n"
     ]
    },
    {
     "name": "stderr",
     "output_type": "stream",
     "text": [
      "2024-02-01 23:19:49,585 - INFO - Processing URL 1/3: https://www.eversports.de/s/koerperformfabrik-gbr\n"
     ]
    },
    {
     "name": "stdout",
     "output_type": "stream",
     "text": [
      "Converting to DataFrame...\n",
      "Validating URLs...\n"
     ]
    },
    {
     "name": "stderr",
     "output_type": "stream",
     "text": [
      "2024-02-01 23:19:51,016 - INFO - URL https://www.eversports.de/s/koerperformfabrik-gbr is valid.\n",
      "2024-02-01 23:19:51,017 - INFO - Processing URL 2/3: https://www.eversports.de/sp/koerperformfabrik-gbr\n",
      "2024-02-01 23:19:52,245 - INFO - URL https://www.eversports.de/sp/koerperformfabrik-gbr is valid.\n",
      "2024-02-01 23:19:52,246 - INFO - Processing URL 3/3: https://www.eversports.de/s/koerperformfabrik-gbr/team\n",
      "2024-02-01 23:19:53,473 - INFO - URL https://www.eversports.de/s/koerperformfabrik-gbr/team is valid.\n"
     ]
    },
    {
     "name": "stdout",
     "output_type": "stream",
     "text": [
      "Scraping Pole Studio Data from https://www.eversports.de/s/koerperformfabrik-gbr...\n"
     ]
    },
    {
     "name": "stderr",
     "output_type": "stream",
     "text": [
      "Processing URLs:  94%|█████████▍| 387/412 [31:48<01:53,  4.54s/it, Current URL: https://www.eversports.de/s/koerperformfabrik-gbr]    "
     ]
    },
    {
     "name": "stdout",
     "output_type": "stream",
     "text": [
      "Processing completed.\n",
      "Pole Studio Data: 1 entries\n",
      "Starting URL reconstruction...\n"
     ]
    },
    {
     "name": "stderr",
     "output_type": "stream",
     "text": [
      "Processing URLs:  94%|█████████▍| 388/412 [31:52<01:44,  4.37s/it, Current URL: https://www.eversports.de/s/polesports-studio-l%c3%bcneburg]"
     ]
    },
    {
     "name": "stdout",
     "output_type": "stream",
     "text": [
      "Error during HTTP request: Exceeded 30 redirects.\n",
      "Converting to DataFrame...\n",
      "Validating URLs...\n",
      "Processing completed.\n",
      "Starting URL reconstruction...\n"
     ]
    },
    {
     "name": "stderr",
     "output_type": "stream",
     "text": [
      "Processing URLs:  94%|█████████▍| 389/412 [31:56<01:37,  4.25s/it, Current URL: https://www.eversports.de/s/feel-good-factory%3a-pole-%e2%80%a2-stretch-%e2%80%a2-fly]"
     ]
    },
    {
     "name": "stdout",
     "output_type": "stream",
     "text": [
      "Error during HTTP request: Exceeded 30 redirects.\n",
      "Converting to DataFrame...\n",
      "Validating URLs...\n",
      "Processing completed.\n",
      "Starting URL reconstruction...\n"
     ]
    },
    {
     "name": "stderr",
     "output_type": "stream",
     "text": [
      "Processing URLs:  95%|█████████▍| 390/412 [31:57<01:14,  3.39s/it, Current URL: https://www.eversports.de/s/luftfabrik-dresden]                                       "
     ]
    },
    {
     "name": "stdout",
     "output_type": "stream",
     "text": [
      "Error during HTTP request: 404 Client Error: Not Found for url: https://www.eversports.de/s/luftfabrik-dresden\n",
      "Converting to DataFrame...\n",
      "Validating URLs...\n",
      "Processing completed.\n",
      "Starting URL reconstruction...\n"
     ]
    },
    {
     "name": "stderr",
     "output_type": "stream",
     "text": [
      "2024-02-01 23:20:05,144 - INFO - Processing URL 1/3: https://www.eversports.de/s/nordpole\n"
     ]
    },
    {
     "name": "stdout",
     "output_type": "stream",
     "text": [
      "Error reconstructing URL for 'Events': Unrecognized text: 'Events'\n",
      "Converting to DataFrame...\n",
      "Validating URLs...\n"
     ]
    },
    {
     "name": "stderr",
     "output_type": "stream",
     "text": [
      "2024-02-01 23:20:06,626 - INFO - URL https://www.eversports.de/s/nordpole is valid.\n",
      "2024-02-01 23:20:06,628 - INFO - Processing URL 2/3: https://www.eversports.de/sp/nordpole\n",
      "2024-02-01 23:20:08,000 - INFO - URL https://www.eversports.de/sp/nordpole is valid.\n",
      "2024-02-01 23:20:08,002 - INFO - Processing URL 3/3: https://www.eversports.de/s/nordpole/team\n",
      "2024-02-01 23:20:09,380 - INFO - URL https://www.eversports.de/s/nordpole/team is valid.\n"
     ]
    },
    {
     "name": "stdout",
     "output_type": "stream",
     "text": [
      "Scraping Pole Studio Data from https://www.eversports.de/s/nordpole...\n"
     ]
    },
    {
     "name": "stderr",
     "output_type": "stream",
     "text": [
      "Processing URLs:  95%|█████████▍| 391/412 [32:04<01:32,  4.41s/it, Current URL: https://www.eversports.de/s/nordpole]          "
     ]
    },
    {
     "name": "stdout",
     "output_type": "stream",
     "text": [
      "Processing completed.\n",
      "Pole Studio Data: 1 entries\n",
      "Starting URL reconstruction...\n"
     ]
    },
    {
     "name": "stderr",
     "output_type": "stream",
     "text": [
      "2024-02-01 23:20:11,959 - INFO - Processing URL 1/4: https://www.eversports.de/s/pure-motion-kiel\n"
     ]
    },
    {
     "name": "stdout",
     "output_type": "stream",
     "text": [
      "Error reconstructing URL for 'Kurse': Unrecognized text: 'Kurse'\n",
      "Converting to DataFrame...\n",
      "Validating URLs...\n"
     ]
    },
    {
     "name": "stderr",
     "output_type": "stream",
     "text": [
      "2024-02-01 23:20:13,485 - INFO - URL https://www.eversports.de/s/pure-motion-kiel is valid.\n",
      "2024-02-01 23:20:13,486 - INFO - Processing URL 2/4: https://www.eversports.de/sw/pure-motion-kiel\n",
      "2024-02-01 23:20:14,816 - INFO - URL https://www.eversports.de/sw/pure-motion-kiel is valid.\n",
      "2024-02-01 23:20:14,817 - INFO - Processing URL 3/4: https://www.eversports.de/sp/pure-motion-kiel\n",
      "2024-02-01 23:20:16,066 - INFO - URL https://www.eversports.de/sp/pure-motion-kiel is valid.\n",
      "2024-02-01 23:20:16,067 - INFO - Processing URL 4/4: https://www.eversports.de/s/pure-motion-kiel/team\n",
      "2024-02-01 23:20:17,495 - INFO - URL https://www.eversports.de/s/pure-motion-kiel/team is valid.\n"
     ]
    },
    {
     "name": "stdout",
     "output_type": "stream",
     "text": [
      "Scraping Pole Studio Data from https://www.eversports.de/s/pure-motion-kiel...\n",
      "Scraping Workshops Data from https://www.eversports.de/sw/pure-motion-kiel...\n",
      "Scraping Workshop Details from https://www.eversports.de/e/workshop/Z1qnkVh...\n"
     ]
    },
    {
     "name": "stderr",
     "output_type": "stream",
     "text": [
      "Processing URLs:  95%|█████████▌| 392/412 [32:14<02:04,  6.22s/it, Current URL: https://www.eversports.de/s/pure-motion-kiel]"
     ]
    },
    {
     "name": "stdout",
     "output_type": "stream",
     "text": [
      "Processing completed.\n",
      "Pole Studio Data: 1 entries\n",
      "Workshops Data: 1 entries\n",
      "Workshop Details: 1 entries\n",
      "Starting URL reconstruction...\n"
     ]
    },
    {
     "name": "stderr",
     "output_type": "stream",
     "text": [
      "Processing URLs:  95%|█████████▌| 393/412 [32:17<01:36,  5.10s/it, Current URL: https://www.eversports.de/s/poletastix-d%c3%bcsseldorf]"
     ]
    },
    {
     "name": "stdout",
     "output_type": "stream",
     "text": [
      "Error during HTTP request: 502 Server Error: Bad Gateway for url: https://www.eversports.de/s/poletastix-d%c3%bcsseldorf\n",
      "Converting to DataFrame...\n",
      "Validating URLs...\n",
      "Processing completed.\n",
      "Starting URL reconstruction...\n"
     ]
    },
    {
     "name": "stderr",
     "output_type": "stream",
     "text": [
      "Processing URLs:  96%|█████████▌| 394/412 [32:18<01:10,  3.94s/it, Current URL: https://www.eversports.de/s/lift-off-poledance-academy]"
     ]
    },
    {
     "name": "stdout",
     "output_type": "stream",
     "text": [
      "Error during HTTP request: 404 Client Error: Not Found for url: https://www.eversports.de/s/lift-off-poledance-academy\n",
      "Converting to DataFrame...\n",
      "Validating URLs...\n",
      "Processing completed.\n",
      "Starting URL reconstruction...\n"
     ]
    },
    {
     "name": "stderr",
     "output_type": "stream",
     "text": [
      "Processing URLs:  96%|█████████▌| 395/412 [32:22<01:05,  3.86s/it, Current URL: https://www.eversports.de/s/körperformfabrik-gbr]      "
     ]
    },
    {
     "name": "stdout",
     "output_type": "stream",
     "text": [
      "Error during HTTP request: Exceeded 30 redirects.\n",
      "Converting to DataFrame...\n",
      "Validating URLs...\n",
      "Processing completed.\n",
      "Starting URL reconstruction...\n"
     ]
    },
    {
     "name": "stderr",
     "output_type": "stream",
     "text": [
      "Processing URLs:  96%|█████████▌| 396/412 [32:23<00:49,  3.12s/it, Current URL: https://www.eversports.de/s/pole-acrobatics-deggingen]"
     ]
    },
    {
     "name": "stdout",
     "output_type": "stream",
     "text": [
      "Error during HTTP request: 404 Client Error: Not Found for url: https://www.eversports.de/s/pole-acrobatics-deggingen\n",
      "Converting to DataFrame...\n",
      "Validating URLs...\n",
      "Processing completed.\n",
      "Starting URL reconstruction...\n"
     ]
    },
    {
     "name": "stderr",
     "output_type": "stream",
     "text": [
      "2024-02-01 23:20:31,183 - INFO - Processing URL 1/4: https://www.eversports.de/s/vertical-pole-aerial-dance-1\n"
     ]
    },
    {
     "name": "stdout",
     "output_type": "stream",
     "text": [
      "Converting to DataFrame...\n",
      "Validating URLs...\n"
     ]
    },
    {
     "name": "stderr",
     "output_type": "stream",
     "text": [
      "2024-02-01 23:20:32,631 - INFO - URL https://www.eversports.de/s/vertical-pole-aerial-dance-1 is valid.\n",
      "2024-02-01 23:20:32,632 - INFO - Processing URL 2/4: https://www.eversports.de/sw/vertical-pole-aerial-dance-1\n",
      "2024-02-01 23:20:33,856 - INFO - URL https://www.eversports.de/sw/vertical-pole-aerial-dance-1 is valid.\n",
      "2024-02-01 23:20:33,858 - INFO - Processing URL 3/4: https://www.eversports.de/sp/vertical-pole-aerial-dance-1\n",
      "2024-02-01 23:20:35,087 - INFO - URL https://www.eversports.de/sp/vertical-pole-aerial-dance-1 is valid.\n",
      "2024-02-01 23:20:35,088 - INFO - Processing URL 4/4: https://www.eversports.de/s/vertical-pole-aerial-dance-1/team\n",
      "2024-02-01 23:20:36,329 - INFO - URL https://www.eversports.de/s/vertical-pole-aerial-dance-1/team is valid.\n"
     ]
    },
    {
     "name": "stdout",
     "output_type": "stream",
     "text": [
      "Scraping Pole Studio Data from https://www.eversports.de/s/vertical-pole-aerial-dance-1...\n",
      "Scraping Workshops Data from https://www.eversports.de/sw/vertical-pole-aerial-dance-1...\n",
      "Scraping Workshop Details from https://www.eversports.de/e/workshop/u2GaG-M...\n",
      "Scraping Workshop Details from https://www.eversports.de/e/workshop/ogqaXAU...\n",
      "Scraping Workshop Details from https://www.eversports.de/e/workshop/j_dm47B...\n",
      "Scraping Workshop Details from https://www.eversports.de/e/workshop/oZL9Vcu...\n"
     ]
    },
    {
     "name": "stderr",
     "output_type": "stream",
     "text": [
      "Processing URLs:  96%|█████████▋| 397/412 [32:37<01:35,  6.39s/it, Current URL: https://www.eversports.de/s/vertical-pole-aerial-dance-1]"
     ]
    },
    {
     "name": "stdout",
     "output_type": "stream",
     "text": [
      "Processing completed.\n",
      "Pole Studio Data: 1 entries\n",
      "Workshops Data: 4 entries\n",
      "Workshop Details: 4 entries\n",
      "Starting URL reconstruction...\n"
     ]
    },
    {
     "name": "stderr",
     "output_type": "stream",
     "text": [
      "2024-02-01 23:20:45,260 - INFO - Processing URL 1/3: https://www.eversports.de/s/studio-nienke\n"
     ]
    },
    {
     "name": "stdout",
     "output_type": "stream",
     "text": [
      "Error reconstructing URL for 'Kurse': Unrecognized text: 'Kurse'\n",
      "Converting to DataFrame...\n",
      "Validating URLs...\n"
     ]
    },
    {
     "name": "stderr",
     "output_type": "stream",
     "text": [
      "2024-02-01 23:20:46,687 - INFO - URL https://www.eversports.de/s/studio-nienke is valid.\n",
      "2024-02-01 23:20:46,688 - INFO - Processing URL 2/3: https://www.eversports.de/sp/studio-nienke\n",
      "2024-02-01 23:20:47,917 - INFO - URL https://www.eversports.de/sp/studio-nienke is not valid.\n",
      "2024-02-01 23:20:47,917 - INFO - Processing URL 3/3: https://www.eversports.de/s/studio-nienke/team\n",
      "2024-02-01 23:20:49,208 - INFO - URL https://www.eversports.de/s/studio-nienke/team is valid.\n"
     ]
    },
    {
     "name": "stdout",
     "output_type": "stream",
     "text": [
      "Scraping Pole Studio Data from https://www.eversports.de/s/studio-nienke...\n"
     ]
    },
    {
     "name": "stderr",
     "output_type": "stream",
     "text": [
      "Processing URLs:  97%|█████████▋| 398/412 [32:43<01:27,  6.27s/it, Current URL: https://www.eversports.de/s/studio-nienke]               "
     ]
    },
    {
     "name": "stdout",
     "output_type": "stream",
     "text": [
      "Processing completed.\n",
      "Pole Studio Data: 1 entries\n",
      "Starting URL reconstruction...\n"
     ]
    },
    {
     "name": "stderr",
     "output_type": "stream",
     "text": [
      "Processing URLs:  97%|█████████▋| 399/412 [32:49<01:21,  6.25s/it, Current URL: https://www.eversports.de/s/vi-dance-m%c3%bcnster]"
     ]
    },
    {
     "name": "stdout",
     "output_type": "stream",
     "text": [
      "Error during HTTP request: Exceeded 30 redirects.\n",
      "Converting to DataFrame...\n",
      "Validating URLs...\n",
      "Processing completed.\n",
      "Starting URL reconstruction...\n"
     ]
    },
    {
     "name": "stderr",
     "output_type": "stream",
     "text": [
      "Processing URLs:  97%|█████████▋| 400/412 [32:51<00:56,  4.74s/it, Current URL: https://www.eversports.de/s/pole-circus-a-k]      "
     ]
    },
    {
     "name": "stdout",
     "output_type": "stream",
     "text": [
      "Error during HTTP request: 404 Client Error: Not Found for url: https://www.eversports.de/s/pole-circus-a-k\n",
      "Converting to DataFrame...\n",
      "Validating URLs...\n",
      "Processing completed.\n",
      "Starting URL reconstruction...\n"
     ]
    },
    {
     "name": "stderr",
     "output_type": "stream",
     "text": [
      "Processing URLs:  97%|█████████▋| 401/412 [32:54<00:48,  4.44s/it, Current URL: https://www.eversports.de/s/del%c3%ada-pole-dance]"
     ]
    },
    {
     "name": "stdout",
     "output_type": "stream",
     "text": [
      "Error during HTTP request: Exceeded 30 redirects.\n",
      "Converting to DataFrame...\n",
      "Validating URLs...\n",
      "Processing completed.\n",
      "Starting URL reconstruction...\n"
     ]
    },
    {
     "name": "stderr",
     "output_type": "stream",
     "text": [
      "Processing URLs:  98%|█████████▊| 402/412 [32:56<00:37,  3.78s/it, Current URL: https://www.eversports.de/s/freaky-pole-cats-straubing]"
     ]
    },
    {
     "name": "stdout",
     "output_type": "stream",
     "text": [
      "Error during HTTP request: 404 Client Error: Not Found for url: https://www.eversports.de/s/freaky-pole-cats-straubing\n",
      "Converting to DataFrame...\n",
      "Validating URLs...\n",
      "Processing completed.\n",
      "Starting URL reconstruction...\n"
     ]
    },
    {
     "name": "stderr",
     "output_type": "stream",
     "text": [
      "2024-02-01 23:21:04,496 - INFO - Processing URL 1/1: https://www.eversports.de/s/nisa-verticals\n"
     ]
    },
    {
     "name": "stdout",
     "output_type": "stream",
     "text": [
      "Converting to DataFrame...\n",
      "Validating URLs...\n"
     ]
    },
    {
     "name": "stderr",
     "output_type": "stream",
     "text": [
      "2024-02-01 23:21:06,382 - INFO - URL https://www.eversports.de/s/nisa-verticals is valid.\n"
     ]
    },
    {
     "name": "stdout",
     "output_type": "stream",
     "text": [
      "Scraping Pole Studio Data from https://www.eversports.de/s/nisa-verticals...\n"
     ]
    },
    {
     "name": "stderr",
     "output_type": "stream",
     "text": [
      "Processing URLs:  98%|█████████▊| 403/412 [33:00<00:33,  3.76s/it, Current URL: https://www.eversports.de/s/nisa-verticals]            "
     ]
    },
    {
     "name": "stdout",
     "output_type": "stream",
     "text": [
      "Processing completed.\n",
      "Pole Studio Data: 1 entries\n",
      "Starting URL reconstruction...\n"
     ]
    },
    {
     "name": "stderr",
     "output_type": "stream",
     "text": [
      "2024-02-01 23:21:09,105 - INFO - Processing URL 1/3: https://www.eversports.de/s/airobics\n"
     ]
    },
    {
     "name": "stdout",
     "output_type": "stream",
     "text": [
      "Error reconstructing URL for 'Kurse': Unrecognized text: 'Kurse'\n",
      "Converting to DataFrame...\n",
      "Validating URLs...\n"
     ]
    },
    {
     "name": "stderr",
     "output_type": "stream",
     "text": [
      "2024-02-01 23:21:11,033 - INFO - URL https://www.eversports.de/s/airobics is valid.\n",
      "2024-02-01 23:21:11,034 - INFO - Processing URL 2/3: https://www.eversports.de/sp/airobics\n",
      "2024-02-01 23:21:12,366 - INFO - URL https://www.eversports.de/sp/airobics is valid.\n",
      "2024-02-01 23:21:12,367 - INFO - Processing URL 3/3: https://www.eversports.de/s/airobics/team\n",
      "2024-02-01 23:21:13,792 - INFO - URL https://www.eversports.de/s/airobics/team is valid.\n"
     ]
    },
    {
     "name": "stdout",
     "output_type": "stream",
     "text": [
      "Scraping Pole Studio Data from https://www.eversports.de/s/airobics...\n"
     ]
    },
    {
     "name": "stderr",
     "output_type": "stream",
     "text": [
      "Processing URLs:  98%|█████████▊| 404/412 [33:08<00:39,  4.91s/it, Current URL: https://www.eversports.de/s/airobics]      "
     ]
    },
    {
     "name": "stdout",
     "output_type": "stream",
     "text": [
      "Processing completed.\n",
      "Pole Studio Data: 1 entries\n",
      "Starting URL reconstruction...\n"
     ]
    },
    {
     "name": "stderr",
     "output_type": "stream",
     "text": [
      "2024-02-01 23:21:16,196 - INFO - Processing URL 1/4: https://www.eversports.de/s/aerial-loft\n"
     ]
    },
    {
     "name": "stdout",
     "output_type": "stream",
     "text": [
      "Error reconstructing URL for 'Kurse': Unrecognized text: 'Kurse'\n",
      "Error reconstructing URL for 'Events': Unrecognized text: 'Events'\n",
      "Converting to DataFrame...\n",
      "Validating URLs...\n"
     ]
    },
    {
     "name": "stderr",
     "output_type": "stream",
     "text": [
      "2024-02-01 23:21:17,849 - INFO - URL https://www.eversports.de/s/aerial-loft is valid.\n",
      "2024-02-01 23:21:17,850 - INFO - Processing URL 2/4: https://www.eversports.de/sw/aerial-loft\n",
      "2024-02-01 23:21:19,203 - INFO - URL https://www.eversports.de/sw/aerial-loft is valid.\n",
      "2024-02-01 23:21:19,204 - INFO - Processing URL 3/4: https://www.eversports.de/sp/aerial-loft\n",
      "2024-02-01 23:21:20,458 - INFO - URL https://www.eversports.de/sp/aerial-loft is valid.\n",
      "2024-02-01 23:21:20,459 - INFO - Processing URL 4/4: https://www.eversports.de/s/aerial-loft/team\n",
      "2024-02-01 23:21:21,813 - INFO - URL https://www.eversports.de/s/aerial-loft/team is valid.\n"
     ]
    },
    {
     "name": "stdout",
     "output_type": "stream",
     "text": [
      "Scraping Pole Studio Data from https://www.eversports.de/s/aerial-loft...\n",
      "Scraping Workshops Data from https://www.eversports.de/sw/aerial-loft...\n",
      "Scraping Workshop Details from https://www.eversports.de/e/workshop/tM6w_bx...\n",
      "Scraping Workshop Details from https://www.eversports.de/e/workshop/Uf4VM65...\n",
      "Scraping Workshop Details from https://www.eversports.de/e/workshop/N4v8WV0...\n",
      "Scraping Workshop Details from https://www.eversports.de/e/workshop/onN7Doj...\n",
      "Scraping Workshop Details from https://www.eversports.de/e/workshop/arPk7c0...\n",
      "Scraping Workshop Details from https://www.eversports.de/e/workshop/r3elm4w...\n"
     ]
    },
    {
     "name": "stderr",
     "output_type": "stream",
     "text": [
      "Processing URLs:  98%|█████████▊| 405/412 [33:28<01:05,  9.38s/it, Current URL: https://www.eversports.de/s/aerial-loft]"
     ]
    },
    {
     "name": "stdout",
     "output_type": "stream",
     "text": [
      "Processing completed.\n",
      "Pole Studio Data: 1 entries\n",
      "Workshops Data: 6 entries\n",
      "Workshop Details: 6 entries\n",
      "Starting URL reconstruction...\n"
     ]
    },
    {
     "name": "stderr",
     "output_type": "stream",
     "text": [
      "2024-02-01 23:21:35,592 - INFO - Processing URL 1/2: https://www.eversports.de/s/poledance-nrw\n"
     ]
    },
    {
     "name": "stdout",
     "output_type": "stream",
     "text": [
      "Converting to DataFrame...\n",
      "Validating URLs...\n"
     ]
    },
    {
     "name": "stderr",
     "output_type": "stream",
     "text": [
      "2024-02-01 23:21:37,052 - INFO - URL https://www.eversports.de/s/poledance-nrw is valid.\n",
      "2024-02-01 23:21:37,053 - INFO - Processing URL 2/2: https://www.eversports.de/sp/poledance-nrw\n",
      "2024-02-01 23:21:38,349 - INFO - URL https://www.eversports.de/sp/poledance-nrw is valid.\n"
     ]
    },
    {
     "name": "stdout",
     "output_type": "stream",
     "text": [
      "Scraping Pole Studio Data from https://www.eversports.de/s/poledance-nrw...\n"
     ]
    },
    {
     "name": "stderr",
     "output_type": "stream",
     "text": [
      "Processing URLs:  99%|█████████▊| 406/412 [33:32<00:47,  7.96s/it, Current URL: https://www.eversports.de/s/poledance-nrw]"
     ]
    },
    {
     "name": "stdout",
     "output_type": "stream",
     "text": [
      "Processing completed.\n",
      "Pole Studio Data: 1 entries\n",
      "Starting URL reconstruction...\n"
     ]
    },
    {
     "name": "stderr",
     "output_type": "stream",
     "text": [
      "2024-02-01 23:21:40,333 - INFO - Processing URL 1/4: https://www.eversports.de/s/balance-neumarkt\n"
     ]
    },
    {
     "name": "stdout",
     "output_type": "stream",
     "text": [
      "Error reconstructing URL for 'Kurse': Unrecognized text: 'Kurse'\n",
      "Converting to DataFrame...\n",
      "Validating URLs...\n"
     ]
    },
    {
     "name": "stderr",
     "output_type": "stream",
     "text": [
      "2024-02-01 23:21:41,903 - INFO - URL https://www.eversports.de/s/balance-neumarkt is valid.\n",
      "2024-02-01 23:21:41,905 - INFO - Processing URL 2/4: https://www.eversports.de/sw/balance-neumarkt\n",
      "2024-02-01 23:21:43,612 - INFO - URL https://www.eversports.de/sw/balance-neumarkt is valid.\n",
      "2024-02-01 23:21:43,613 - INFO - Processing URL 3/4: https://www.eversports.de/sp/balance-neumarkt\n",
      "2024-02-01 23:21:44,929 - INFO - URL https://www.eversports.de/sp/balance-neumarkt is valid.\n",
      "2024-02-01 23:21:44,930 - INFO - Processing URL 4/4: https://www.eversports.de/s/balance-neumarkt/team\n",
      "2024-02-01 23:21:46,285 - INFO - URL https://www.eversports.de/s/balance-neumarkt/team is valid.\n"
     ]
    },
    {
     "name": "stdout",
     "output_type": "stream",
     "text": [
      "Scraping Pole Studio Data from https://www.eversports.de/s/balance-neumarkt...\n",
      "Scraping Workshops Data from https://www.eversports.de/sw/balance-neumarkt...\n",
      "Scraping Workshop Details from https://www.eversports.de/e/workshop/9j7N418...\n",
      "Scraping Workshop Details from https://www.eversports.de/e/workshop/OWKdsKA...\n",
      "Scraping Workshop Details from https://www.eversports.de/e/workshop/qtwNW3p...\n",
      "Scraping Workshop Details from https://www.eversports.de/e/workshop/-lRCjR7...\n",
      "Scraping Workshop Details from https://www.eversports.de/e/workshop/DmdrEre...\n",
      "Scraping Workshop Details from https://www.eversports.de/e/workshop/vnjpjso...\n",
      "Scraping Workshop Details from https://www.eversports.de/e/workshop/s-CvYfY...\n",
      "Scraping Workshop Details from https://www.eversports.de/e/workshop/lIzIIH9...\n",
      "Scraping Workshop Details from https://www.eversports.de/e/workshop/1hwRppH...\n",
      "Scraping Workshop Details from https://www.eversports.de/e/workshop/FWO9nVb...\n",
      "Scraping Workshop Details from https://www.eversports.de/e/workshop/wHwtdS-...\n",
      "Scraping Workshop Details from https://www.eversports.de/e/workshop/D7_g8hU...\n",
      "Scraping Workshop Details from https://www.eversports.de/e/workshop/yXJE2Qf...\n",
      "Scraping Workshop Details from https://www.eversports.de/e/workshop/AL0d8uV...\n",
      "Scraping Workshop Details from https://www.eversports.de/e/workshop/WpCq6MN...\n",
      "Scraping Workshop Details from https://www.eversports.de/e/workshop/uE03gmT...\n",
      "Scraping Workshop Details from https://www.eversports.de/e/workshop/Nm33K4u...\n",
      "Scraping Workshop Details from https://www.eversports.de/e/workshop/U27XEmo...\n",
      "Scraping Workshop Details from https://www.eversports.de/e/workshop/DujyYDr...\n"
     ]
    },
    {
     "name": "stderr",
     "output_type": "stream",
     "text": [
      "Processing URLs:  99%|█████████▉| 407/412 [34:13<01:28, 17.74s/it, Current URL: https://www.eversports.de/s/balance-neumarkt]"
     ]
    },
    {
     "name": "stdout",
     "output_type": "stream",
     "text": [
      "Processing completed.\n",
      "Pole Studio Data: 1 entries\n",
      "Workshops Data: 19 entries\n",
      "Workshop Details: 19 entries\n",
      "Starting URL reconstruction...\n"
     ]
    },
    {
     "name": "stderr",
     "output_type": "stream",
     "text": [
      "2024-02-01 23:22:20,877 - INFO - Processing URL 1/3: https://www.eversports.de/s/st-polestudio\n"
     ]
    },
    {
     "name": "stdout",
     "output_type": "stream",
     "text": [
      "Converting to DataFrame...\n",
      "Validating URLs...\n"
     ]
    },
    {
     "name": "stderr",
     "output_type": "stream",
     "text": [
      "2024-02-01 23:22:22,370 - INFO - URL https://www.eversports.de/s/st-polestudio is valid.\n",
      "2024-02-01 23:22:22,372 - INFO - Processing URL 2/3: https://www.eversports.de/sp/st-polestudio\n",
      "2024-02-01 23:22:23,640 - INFO - URL https://www.eversports.de/sp/st-polestudio is valid.\n",
      "2024-02-01 23:22:23,642 - INFO - Processing URL 3/3: https://www.eversports.de/s/st-polestudio/team\n",
      "2024-02-01 23:22:24,974 - INFO - URL https://www.eversports.de/s/st-polestudio/team is valid.\n"
     ]
    },
    {
     "name": "stdout",
     "output_type": "stream",
     "text": [
      "Scraping Pole Studio Data from https://www.eversports.de/s/st-polestudio...\n"
     ]
    },
    {
     "name": "stderr",
     "output_type": "stream",
     "text": [
      "Processing URLs:  99%|█████████▉| 408/412 [34:19<00:56, 14.22s/it, Current URL: https://www.eversports.de/s/st-polestudio]   "
     ]
    },
    {
     "name": "stdout",
     "output_type": "stream",
     "text": [
      "Processing completed.\n",
      "Pole Studio Data: 1 entries\n",
      "Starting URL reconstruction...\n"
     ]
    },
    {
     "name": "stderr",
     "output_type": "stream",
     "text": [
      "2024-02-01 23:22:26,732 - INFO - Processing URL 1/1: https://www.eversports.de/s/pole-passion-bielefeld\n"
     ]
    },
    {
     "name": "stdout",
     "output_type": "stream",
     "text": [
      "Converting to DataFrame...\n",
      "Validating URLs...\n"
     ]
    },
    {
     "name": "stderr",
     "output_type": "stream",
     "text": [
      "2024-02-01 23:22:28,218 - INFO - URL https://www.eversports.de/s/pole-passion-bielefeld is valid.\n"
     ]
    },
    {
     "name": "stdout",
     "output_type": "stream",
     "text": [
      "Scraping Pole Studio Data from https://www.eversports.de/s/pole-passion-bielefeld...\n"
     ]
    },
    {
     "name": "stderr",
     "output_type": "stream",
     "text": [
      "Processing URLs:  99%|█████████▉| 409/412 [34:22<00:32, 10.91s/it, Current URL: https://www.eversports.de/s/pole-passion-bielefeld]"
     ]
    },
    {
     "name": "stdout",
     "output_type": "stream",
     "text": [
      "Processing completed.\n",
      "Pole Studio Data: 1 entries\n",
      "Starting URL reconstruction...\n"
     ]
    },
    {
     "name": "stderr",
     "output_type": "stream",
     "text": [
      "Processing URLs: 100%|█████████▉| 410/412 [34:23<00:16,  8.02s/it, Current URL: https://www.eversports.de/s/lift-off---poledance-academy-viersen]"
     ]
    },
    {
     "name": "stdout",
     "output_type": "stream",
     "text": [
      "Error during HTTP request: 404 Client Error: Not Found for url: https://www.eversports.de/s/lift-off---poledance-academy-viersen\n",
      "Converting to DataFrame...\n",
      "Validating URLs...\n",
      "Processing completed.\n",
      "Starting URL reconstruction...\n"
     ]
    },
    {
     "name": "stderr",
     "output_type": "stream",
     "text": [
      "Processing URLs: 100%|█████████▉| 411/412 [34:25<00:06,  6.03s/it, Current URL: https://www.eversports.de/s/schwerelos]                          "
     ]
    },
    {
     "name": "stdout",
     "output_type": "stream",
     "text": [
      "Error during HTTP request: 404 Client Error: Not Found for url: https://www.eversports.de/s/schwerelos\n",
      "Converting to DataFrame...\n",
      "Validating URLs...\n",
      "Processing completed.\n",
      "Starting URL reconstruction...\n"
     ]
    },
    {
     "name": "stderr",
     "output_type": "stream",
     "text": [
      "Processing URLs: 100%|██████████| 412/412 [34:26<00:00,  5.02s/it, Current URL: https://www.eversports.de/s/dance-%26-pole-solingen]"
     ]
    },
    {
     "name": "stdout",
     "output_type": "stream",
     "text": [
      "Error during HTTP request: 404 Client Error: Not Found for url: https://www.eversports.de/s/dance-%26-pole-solingen\n",
      "Converting to DataFrame...\n",
      "Validating URLs...\n",
      "Processing completed.\n"
     ]
    },
    {
     "name": "stderr",
     "output_type": "stream",
     "text": [
      "\n"
     ]
    }
   ],
   "source": [
    "import pandas as pd\n",
    "from PyCaller import process_urls\n",
    "from tqdm import tqdm\n",
    "\n",
    "def process_and_print_results(url, all_pole_studio_data, all_workshops_data, all_workshop_details_data):\n",
    "    data = process_urls([url])\n",
    "\n",
    "    if data:\n",
    "        for key, df in data.items():\n",
    "            if df is not None and not df.empty:\n",
    "                print(f\"{key.replace('_', ' ').title()}: {len(df)} entries\")\n",
    "\n",
    "                # Update the appropriate DataFrame\n",
    "                if key == 'pole_studio_data':\n",
    "                    all_pole_studio_data = pd.concat([all_pole_studio_data, df], ignore_index=True)\n",
    "                elif key == 'workshops_data':\n",
    "                    all_workshops_data = pd.concat([all_workshops_data, df], ignore_index=True)\n",
    "                elif key == 'workshop_details':\n",
    "                    all_workshop_details_data = pd.concat([all_workshop_details_data, df], ignore_index=True)\n",
    "\n",
    "    return all_pole_studio_data, all_workshops_data, all_workshop_details_data\n",
    "\n",
    "def main():\n",
    "    # Load initial URLs\n",
    "    all_found_urls_s = pd.read_csv(\"all_found_urls_23.12.23_cleaned.csv\")\n",
    "    initial_urls = list(set(all_found_urls_s[\"0\"]))\n",
    "\n",
    "    # Initialize DataFrames\n",
    "    all_pole_studio_data = pd.DataFrame()\n",
    "    all_workshops_data = pd.DataFrame()\n",
    "    all_workshop_details_data = pd.DataFrame()\n",
    "\n",
    "    # Process each URL with tqdm\n",
    "    with tqdm(total=len(initial_urls), desc=\"Processing URLs\", dynamic_ncols=True) as pbar:\n",
    "        for url in initial_urls:\n",
    "            all_pole_studio_data, all_workshops_data, all_workshop_details_data = process_and_print_results(\n",
    "                url, all_pole_studio_data, all_workshops_data, all_workshop_details_data\n",
    "            )\n",
    "            pbar.update(1)\n",
    "            pbar.set_postfix_str(f\"Current URL: {url}\", refresh=True)\n",
    "\n",
    "    # Export DataFrames to CSV files\n",
    "    all_pole_studio_data.to_csv(\"Pole_Studio_Übersicht_S.csv\", index=False)\n",
    "    all_workshops_data.to_csv(\"Workshop_Liste_SW.csv\", index=False)\n",
    "    all_workshop_details_data.to_csv(\"Workshop_Übersicht_E.csv\", index=False)\n",
    "\n",
    "    # Return the final DataFrames\n",
    "    return all_pole_studio_data, all_workshops_data, all_workshop_details_data\n",
    "\n",
    "# Run the main function and get the final DataFrames\n",
    "result_pole_studio, result_workshops, result_workshop_details = main()\n",
    "\n",
    "# Now you can access result_pole_studio, result_workshops, and result_workshop_details outside the function\n",
    "# print(result_pole_studio)\n",
    "# print(result_workshops)\n",
    "# print(result_workshop_details)\n"
   ]
  },
  {
   "cell_type": "code",
   "execution_count": 15,
   "metadata": {},
   "outputs": [
    {
     "data": {
      "text/html": [
       "<div>\n",
       "<style scoped>\n",
       "    .dataframe tbody tr th:only-of-type {\n",
       "        vertical-align: middle;\n",
       "    }\n",
       "\n",
       "    .dataframe tbody tr th {\n",
       "        vertical-align: top;\n",
       "    }\n",
       "\n",
       "    .dataframe thead th {\n",
       "        text-align: right;\n",
       "    }\n",
       "</style>\n",
       "<table border=\"1\" class=\"dataframe\">\n",
       "  <thead>\n",
       "    <tr style=\"text-align: right;\">\n",
       "      <th></th>\n",
       "      <th>PoleStudio_Name</th>\n",
       "      <th>Adresse</th>\n",
       "      <th>PLZ</th>\n",
       "      <th>Stadt</th>\n",
       "      <th>Straße</th>\n",
       "      <th>Buttons</th>\n",
       "      <th>Pole Studio Beschreibung</th>\n",
       "      <th>Rating Faktoren</th>\n",
       "      <th>E-Mail</th>\n",
       "      <th>Homepage</th>\n",
       "      <th>Telefon</th>\n",
       "      <th>URL_S</th>\n",
       "      <th>Art</th>\n",
       "      <th>Angebot</th>\n",
       "      <th>Bildergalerie</th>\n",
       "      <th>Created Date</th>\n",
       "      <th>Updated Date</th>\n",
       "    </tr>\n",
       "  </thead>\n",
       "  <tbody>\n",
       "    <tr>\n",
       "      <th>0</th>\n",
       "      <td>Yoga Vidya Burgdorf</td>\n",
       "      <td>[Marktstraße 65 ,  31303 Burgdorf]</td>\n",
       "      <td>31303</td>\n",
       "      <td>Burgdorf</td>\n",
       "      <td>Marktstraße 65</td>\n",
       "      <td>[Übersicht, Klassen, Kurse, Retreats, Preise, ...</td>\n",
       "      <td>Yoga in Burgdorf in seiner ganzen Vielfalt ent...</td>\n",
       "      <td>[Raumqualität: 4.5, Freundlichkeit &amp; Service: ...</td>\n",
       "      <td>burgdorf@yoga-vidya.de</td>\n",
       "      <td>https://www.yoga-vidya.de/center/burgdorf/</td>\n",
       "      <td>+49 01777555379</td>\n",
       "      <td>https://www.eversports.de/s/yoga-vidya-burgdorf</td>\n",
       "      <td>[Theorieraum, Yoga, Yoga, Theorieraum, Yoga, T...</td>\n",
       "      <td>Kostenlos Schnuppern</td>\n",
       "      <td>[https://files.eversports.com/2b06cb7a-a627-4d...</td>\n",
       "      <td>2024-02-01 22:48:15</td>\n",
       "      <td>2024-02-01 22:48:15</td>\n",
       "    </tr>\n",
       "    <tr>\n",
       "      <th>1</th>\n",
       "      <td>Flow Academy</td>\n",
       "      <td>[Pfarrer-Weiß-Weg 16,  89077 Ulm]</td>\n",
       "      <td>89077</td>\n",
       "      <td>Ulm</td>\n",
       "      <td>Pfarrer-Weiß-Weg 16</td>\n",
       "      <td>[Übersicht, Klassen, Preise, Team]</td>\n",
       "      <td>Dein Studio für Poledance und Flexibility.</td>\n",
       "      <td>[Raumqualität: 5.0, Freundlichkeit &amp; Service: ...</td>\n",
       "      <td>info@flowacademy-ulm.de</td>\n",
       "      <td>None</td>\n",
       "      <td>+49 15165181566</td>\n",
       "      <td>https://www.eversports.de/s/flow-academy</td>\n",
       "      <td>[Poledance, 2 Rezensionen, Poledance]</td>\n",
       "      <td>1 Angebot für Neukund:innen</td>\n",
       "      <td>[https://files.eversports.com/f78b646b-9eda-41...</td>\n",
       "      <td>2024-02-01 22:48:35</td>\n",
       "      <td>2024-02-01 22:48:35</td>\n",
       "    </tr>\n",
       "    <tr>\n",
       "      <th>2</th>\n",
       "      <td>T-Tanzstück Wolfsburg</td>\n",
       "      <td>[Borsigstraße 41,  38446 Wolfsburg]</td>\n",
       "      <td>38446</td>\n",
       "      <td>Wolfsburg</td>\n",
       "      <td>Borsigstraße 41</td>\n",
       "      <td>[Übersicht, Klassen, Kurse, Workshops, Preise,...</td>\n",
       "      <td>Das T-Tanzstück Wolfsburg im Gewerbegebiet Ost...</td>\n",
       "      <td>[Raumqualität: 4.8, Freundlichkeit &amp; Service: ...</td>\n",
       "      <td>ttanzstueck@gmail.com</td>\n",
       "      <td>https://t-tanzstueck.de/</td>\n",
       "      <td>+491781697900</td>\n",
       "      <td>https://www.eversports.de/s/t-tanzstueck-wolfs...</td>\n",
       "      <td>[Poledance, Personal Training, Aerial Silk, Ae...</td>\n",
       "      <td>4 Angebote für Neukund:innen</td>\n",
       "      <td>[https://files.eversports.com/972afed9-2380-48...</td>\n",
       "      <td>2024-02-01 22:48:42</td>\n",
       "      <td>2024-02-01 22:48:42</td>\n",
       "    </tr>\n",
       "    <tr>\n",
       "      <th>3</th>\n",
       "      <td>The Basement - Pole Dance and Movement</td>\n",
       "      <td>[Christian-Pleß-Straße 11-13,  63069 Offenbach]</td>\n",
       "      <td>63069</td>\n",
       "      <td>Offenbach</td>\n",
       "      <td>Christian-Pleß-Straße 11-13</td>\n",
       "      <td>[Übersicht]</td>\n",
       "      <td>Das Studio The Basement - Pole Dance and Movem...</td>\n",
       "      <td>[Raumqualität: 5.0, Freundlichkeit &amp; Service: ...</td>\n",
       "      <td>info@the-basement.eu</td>\n",
       "      <td>http://the-basement.eu/</td>\n",
       "      <td>None</td>\n",
       "      <td>https://www.eversports.de/s/the-basement-pole-...</td>\n",
       "      <td>[36 Rezensionen, Tanzen, Poledance, Online Kla...</td>\n",
       "      <td>1 Angebot für Neukund:innen</td>\n",
       "      <td>[https://files.eversports.com/2832b021-ac3d-4e...</td>\n",
       "      <td>2024-02-01 22:48:47</td>\n",
       "      <td>2024-02-01 22:48:47</td>\n",
       "    </tr>\n",
       "    <tr>\n",
       "      <th>4</th>\n",
       "      <td>Niyaha Yoga Susann Kind</td>\n",
       "      <td>[Nachtigallenstraße 13,  98617 Meiningen]</td>\n",
       "      <td>98617</td>\n",
       "      <td>Meiningen</td>\n",
       "      <td>Nachtigallenstraße 13</td>\n",
       "      <td>[Übersicht, Klassen, Workshops, Events, Videos...</td>\n",
       "      <td>Namasté - Welcome Yogi, herzlich willkommen im...</td>\n",
       "      <td>[Raumqualität: 4.9, Freundlichkeit &amp; Service: ...</td>\n",
       "      <td>info@niyaha-yoga.de</td>\n",
       "      <td>https://www.niyaha-yoga.de</td>\n",
       "      <td>015115100895</td>\n",
       "      <td>https://www.eversports.de/s/niyaha-yoga-susann...</td>\n",
       "      <td>[Yoga, Personal Training, Yoga, Yoga, Achtsamk...</td>\n",
       "      <td>Zum Stundenplan</td>\n",
       "      <td>[]</td>\n",
       "      <td>2024-02-01 22:49:10</td>\n",
       "      <td>2024-02-01 22:49:10</td>\n",
       "    </tr>\n",
       "    <tr>\n",
       "      <th>...</th>\n",
       "      <td>...</td>\n",
       "      <td>...</td>\n",
       "      <td>...</td>\n",
       "      <td>...</td>\n",
       "      <td>...</td>\n",
       "      <td>...</td>\n",
       "      <td>...</td>\n",
       "      <td>...</td>\n",
       "      <td>...</td>\n",
       "      <td>...</td>\n",
       "      <td>...</td>\n",
       "      <td>...</td>\n",
       "      <td>...</td>\n",
       "      <td>...</td>\n",
       "      <td>...</td>\n",
       "      <td>...</td>\n",
       "      <td>...</td>\n",
       "    </tr>\n",
       "    <tr>\n",
       "      <th>154</th>\n",
       "      <td>Aerial Loft</td>\n",
       "      <td>[Solitudestraße 48 ,  71638 Ludwigsburg]</td>\n",
       "      <td>71638</td>\n",
       "      <td>Ludwigsburg</td>\n",
       "      <td>Solitudestraße 48</td>\n",
       "      <td>[Übersicht, Klassen, Kurse, Workshops, Events,...</td>\n",
       "      <td>Du interessierst dich für Aerial Fitness wie P...</td>\n",
       "      <td>[Raumqualität: 4.9, Freundlichkeit &amp; Service: ...</td>\n",
       "      <td>info@aerial-loft.de</td>\n",
       "      <td>http://www.aerial-loft.de</td>\n",
       "      <td>01733429658</td>\n",
       "      <td>https://www.eversports.de/s/aerial-loft</td>\n",
       "      <td>[Poledance, Aerial Yoga, Personal Training, Po...</td>\n",
       "      <td>1 Angebot für Neukund:innen</td>\n",
       "      <td>[https://files.eversports.com/ad3c1e6e-a9e2-43...</td>\n",
       "      <td>2024-02-01 23:21:23</td>\n",
       "      <td>2024-02-01 23:21:23</td>\n",
       "    </tr>\n",
       "    <tr>\n",
       "      <th>155</th>\n",
       "      <td>POLEDANCE NRW</td>\n",
       "      <td>[Rethelstraße 28 Hof,  40237 Düsseldorf]</td>\n",
       "      <td>40237</td>\n",
       "      <td>Düsseldorf</td>\n",
       "      <td>Rethelstraße 28 Hof</td>\n",
       "      <td>[Übersicht, Videos, Preise]</td>\n",
       "      <td>Unser über 500 Quadratmeter großes Studio mit ...</td>\n",
       "      <td>[Raumqualität: 5.0, Freundlichkeit &amp; Service: ...</td>\n",
       "      <td>office@poledance.nrw</td>\n",
       "      <td>https://www.poledance.nrw</td>\n",
       "      <td>+49 1721010400</td>\n",
       "      <td>https://www.eversports.de/s/poledance-nrw</td>\n",
       "      <td>[43 Rezensionen, Tanzen, Hip Hop, Poledance, A...</td>\n",
       "      <td>None</td>\n",
       "      <td>[https://files.eversports.com/b0bce89e-0a39-42...</td>\n",
       "      <td>2024-02-01 23:21:38</td>\n",
       "      <td>2024-02-01 23:21:38</td>\n",
       "    </tr>\n",
       "    <tr>\n",
       "      <th>156</th>\n",
       "      <td>BALANCE Neumarkt</td>\n",
       "      <td>[Deininger Weg 94 ,  92318 Neumarkt in der Obe...</td>\n",
       "      <td>92318</td>\n",
       "      <td>Neumarkt</td>\n",
       "      <td>Deininger Weg 94</td>\n",
       "      <td>[Übersicht, Klassen, Kurse, Workshops, Videos,...</td>\n",
       "      <td>BALANCE Neumarkt ist ein Kursstudio mit einem ...</td>\n",
       "      <td>[Raumqualität: 4.9, Freundlichkeit &amp; Service: ...</td>\n",
       "      <td>studio@balance-neumarkt.de</td>\n",
       "      <td>http://www.balance-neumarkt.de</td>\n",
       "      <td>+49 160 80 20 246</td>\n",
       "      <td>https://www.eversports.de/s/balance-neumarkt</td>\n",
       "      <td>[Pilates, Tanzen, Pilates, Yoga, Poledance, Ta...</td>\n",
       "      <td>Kostenlos Schnuppern</td>\n",
       "      <td>[https://files.eversports.com/2493ff0c-9257-4c...</td>\n",
       "      <td>2024-02-01 23:21:46</td>\n",
       "      <td>2024-02-01 23:21:46</td>\n",
       "    </tr>\n",
       "    <tr>\n",
       "      <th>157</th>\n",
       "      <td>ST Polestudio</td>\n",
       "      <td>[Walkmühleweg 47,  75365 Calw]</td>\n",
       "      <td>75365</td>\n",
       "      <td>Calw</td>\n",
       "      <td>Walkmühleweg 47</td>\n",
       "      <td>[Übersicht, Klassen, Preise, Team]</td>\n",
       "      <td>Diese Sportanlage bietet eine Vielzahl an Spor...</td>\n",
       "      <td>[Raumqualität: 4.8, Freundlichkeit &amp; Service: ...</td>\n",
       "      <td>st_polestudio@yahoo.de</td>\n",
       "      <td>https://www.st-polestudio.de/</td>\n",
       "      <td>+49 1733746944</td>\n",
       "      <td>https://www.eversports.de/s/st-polestudio</td>\n",
       "      <td>[Poledance, Poledance, Poledance, Poledance, 1...</td>\n",
       "      <td>Zum Stundenplan</td>\n",
       "      <td>[]</td>\n",
       "      <td>2024-02-01 23:22:25</td>\n",
       "      <td>2024-02-01 23:22:25</td>\n",
       "    </tr>\n",
       "    <tr>\n",
       "      <th>158</th>\n",
       "      <td>Pole Passion Bielefeld</td>\n",
       "      <td>[Apfelstraße 75A,  33613 Bielefeld]</td>\n",
       "      <td>33613</td>\n",
       "      <td>Bielefeld</td>\n",
       "      <td>Apfelstraße 75A</td>\n",
       "      <td>[Übersicht]</td>\n",
       "      <td>\"Come in and dance\" heißt es bei Pole Passion ...</td>\n",
       "      <td>[Raumqualität: 0.0, Freundlichkeit &amp; Service: ...</td>\n",
       "      <td>info@polepassion.de</td>\n",
       "      <td>http://www.polepassion.de/</td>\n",
       "      <td>+49 017663169504</td>\n",
       "      <td>https://www.eversports.de/s/pole-passion-biele...</td>\n",
       "      <td>[(Noch keine Bewertungen), Poledance, Hip Hop,...</td>\n",
       "      <td>Kostenlos Schnuppern</td>\n",
       "      <td>[https://files.eversports.com/dd80bfe9-32e2-4a...</td>\n",
       "      <td>2024-02-01 23:22:28</td>\n",
       "      <td>2024-02-01 23:22:28</td>\n",
       "    </tr>\n",
       "  </tbody>\n",
       "</table>\n",
       "<p>159 rows × 17 columns</p>\n",
       "</div>"
      ],
      "text/plain": [
       "                            PoleStudio_Name  \\\n",
       "0                       Yoga Vidya Burgdorf   \n",
       "1                              Flow Academy   \n",
       "2                     T-Tanzstück Wolfsburg   \n",
       "3    The Basement - Pole Dance and Movement   \n",
       "4                   Niyaha Yoga Susann Kind   \n",
       "..                                      ...   \n",
       "154                             Aerial Loft   \n",
       "155                           POLEDANCE NRW   \n",
       "156                        BALANCE Neumarkt   \n",
       "157                           ST Polestudio   \n",
       "158                  Pole Passion Bielefeld   \n",
       "\n",
       "                                               Adresse    PLZ        Stadt  \\\n",
       "0                   [Marktstraße 65 ,  31303 Burgdorf]  31303     Burgdorf   \n",
       "1                    [Pfarrer-Weiß-Weg 16,  89077 Ulm]  89077          Ulm   \n",
       "2                  [Borsigstraße 41,  38446 Wolfsburg]  38446    Wolfsburg   \n",
       "3      [Christian-Pleß-Straße 11-13,  63069 Offenbach]  63069    Offenbach   \n",
       "4            [Nachtigallenstraße 13,  98617 Meiningen]  98617    Meiningen   \n",
       "..                                                 ...    ...          ...   \n",
       "154           [Solitudestraße 48 ,  71638 Ludwigsburg]  71638  Ludwigsburg   \n",
       "155           [Rethelstraße 28 Hof,  40237 Düsseldorf]  40237   Düsseldorf   \n",
       "156  [Deininger Weg 94 ,  92318 Neumarkt in der Obe...  92318     Neumarkt   \n",
       "157                     [Walkmühleweg 47,  75365 Calw]  75365         Calw   \n",
       "158                [Apfelstraße 75A,  33613 Bielefeld]  33613    Bielefeld   \n",
       "\n",
       "                          Straße  \\\n",
       "0                Marktstraße 65    \n",
       "1            Pfarrer-Weiß-Weg 16   \n",
       "2                Borsigstraße 41   \n",
       "3    Christian-Pleß-Straße 11-13   \n",
       "4          Nachtigallenstraße 13   \n",
       "..                           ...   \n",
       "154           Solitudestraße 48    \n",
       "155          Rethelstraße 28 Hof   \n",
       "156            Deininger Weg 94    \n",
       "157              Walkmühleweg 47   \n",
       "158              Apfelstraße 75A   \n",
       "\n",
       "                                               Buttons  \\\n",
       "0    [Übersicht, Klassen, Kurse, Retreats, Preise, ...   \n",
       "1                   [Übersicht, Klassen, Preise, Team]   \n",
       "2    [Übersicht, Klassen, Kurse, Workshops, Preise,...   \n",
       "3                                          [Übersicht]   \n",
       "4    [Übersicht, Klassen, Workshops, Events, Videos...   \n",
       "..                                                 ...   \n",
       "154  [Übersicht, Klassen, Kurse, Workshops, Events,...   \n",
       "155                        [Übersicht, Videos, Preise]   \n",
       "156  [Übersicht, Klassen, Kurse, Workshops, Videos,...   \n",
       "157                 [Übersicht, Klassen, Preise, Team]   \n",
       "158                                        [Übersicht]   \n",
       "\n",
       "                              Pole Studio Beschreibung  \\\n",
       "0    Yoga in Burgdorf in seiner ganzen Vielfalt ent...   \n",
       "1           Dein Studio für Poledance und Flexibility.   \n",
       "2    Das T-Tanzstück Wolfsburg im Gewerbegebiet Ost...   \n",
       "3    Das Studio The Basement - Pole Dance and Movem...   \n",
       "4    Namasté - Welcome Yogi, herzlich willkommen im...   \n",
       "..                                                 ...   \n",
       "154  Du interessierst dich für Aerial Fitness wie P...   \n",
       "155  Unser über 500 Quadratmeter großes Studio mit ...   \n",
       "156  BALANCE Neumarkt ist ein Kursstudio mit einem ...   \n",
       "157  Diese Sportanlage bietet eine Vielzahl an Spor...   \n",
       "158  \"Come in and dance\" heißt es bei Pole Passion ...   \n",
       "\n",
       "                                       Rating Faktoren  \\\n",
       "0    [Raumqualität: 4.5, Freundlichkeit & Service: ...   \n",
       "1    [Raumqualität: 5.0, Freundlichkeit & Service: ...   \n",
       "2    [Raumqualität: 4.8, Freundlichkeit & Service: ...   \n",
       "3    [Raumqualität: 5.0, Freundlichkeit & Service: ...   \n",
       "4    [Raumqualität: 4.9, Freundlichkeit & Service: ...   \n",
       "..                                                 ...   \n",
       "154  [Raumqualität: 4.9, Freundlichkeit & Service: ...   \n",
       "155  [Raumqualität: 5.0, Freundlichkeit & Service: ...   \n",
       "156  [Raumqualität: 4.9, Freundlichkeit & Service: ...   \n",
       "157  [Raumqualität: 4.8, Freundlichkeit & Service: ...   \n",
       "158  [Raumqualität: 0.0, Freundlichkeit & Service: ...   \n",
       "\n",
       "                          E-Mail                                    Homepage  \\\n",
       "0         burgdorf@yoga-vidya.de  https://www.yoga-vidya.de/center/burgdorf/   \n",
       "1        info@flowacademy-ulm.de                                        None   \n",
       "2          ttanzstueck@gmail.com                    https://t-tanzstueck.de/   \n",
       "3           info@the-basement.eu                     http://the-basement.eu/   \n",
       "4            info@niyaha-yoga.de                  https://www.niyaha-yoga.de   \n",
       "..                           ...                                         ...   \n",
       "154          info@aerial-loft.de                   http://www.aerial-loft.de   \n",
       "155         office@poledance.nrw                   https://www.poledance.nrw   \n",
       "156   studio@balance-neumarkt.de              http://www.balance-neumarkt.de   \n",
       "157       st_polestudio@yahoo.de               https://www.st-polestudio.de/   \n",
       "158          info@polepassion.de                  http://www.polepassion.de/   \n",
       "\n",
       "               Telefon                                              URL_S  \\\n",
       "0      +49 01777555379    https://www.eversports.de/s/yoga-vidya-burgdorf   \n",
       "1      +49 15165181566           https://www.eversports.de/s/flow-academy   \n",
       "2        +491781697900  https://www.eversports.de/s/t-tanzstueck-wolfs...   \n",
       "3                 None  https://www.eversports.de/s/the-basement-pole-...   \n",
       "4         015115100895  https://www.eversports.de/s/niyaha-yoga-susann...   \n",
       "..                 ...                                                ...   \n",
       "154        01733429658            https://www.eversports.de/s/aerial-loft   \n",
       "155     +49 1721010400          https://www.eversports.de/s/poledance-nrw   \n",
       "156  +49 160 80 20 246       https://www.eversports.de/s/balance-neumarkt   \n",
       "157     +49 1733746944          https://www.eversports.de/s/st-polestudio   \n",
       "158   +49 017663169504  https://www.eversports.de/s/pole-passion-biele...   \n",
       "\n",
       "                                                   Art  \\\n",
       "0    [Theorieraum, Yoga, Yoga, Theorieraum, Yoga, T...   \n",
       "1                [Poledance, 2 Rezensionen, Poledance]   \n",
       "2    [Poledance, Personal Training, Aerial Silk, Ae...   \n",
       "3    [36 Rezensionen, Tanzen, Poledance, Online Kla...   \n",
       "4    [Yoga, Personal Training, Yoga, Yoga, Achtsamk...   \n",
       "..                                                 ...   \n",
       "154  [Poledance, Aerial Yoga, Personal Training, Po...   \n",
       "155  [43 Rezensionen, Tanzen, Hip Hop, Poledance, A...   \n",
       "156  [Pilates, Tanzen, Pilates, Yoga, Poledance, Ta...   \n",
       "157  [Poledance, Poledance, Poledance, Poledance, 1...   \n",
       "158  [(Noch keine Bewertungen), Poledance, Hip Hop,...   \n",
       "\n",
       "                          Angebot  \\\n",
       "0            Kostenlos Schnuppern   \n",
       "1     1 Angebot für Neukund:innen   \n",
       "2    4 Angebote für Neukund:innen   \n",
       "3     1 Angebot für Neukund:innen   \n",
       "4                 Zum Stundenplan   \n",
       "..                            ...   \n",
       "154   1 Angebot für Neukund:innen   \n",
       "155                          None   \n",
       "156          Kostenlos Schnuppern   \n",
       "157               Zum Stundenplan   \n",
       "158          Kostenlos Schnuppern   \n",
       "\n",
       "                                         Bildergalerie         Created Date  \\\n",
       "0    [https://files.eversports.com/2b06cb7a-a627-4d...  2024-02-01 22:48:15   \n",
       "1    [https://files.eversports.com/f78b646b-9eda-41...  2024-02-01 22:48:35   \n",
       "2    [https://files.eversports.com/972afed9-2380-48...  2024-02-01 22:48:42   \n",
       "3    [https://files.eversports.com/2832b021-ac3d-4e...  2024-02-01 22:48:47   \n",
       "4                                                   []  2024-02-01 22:49:10   \n",
       "..                                                 ...                  ...   \n",
       "154  [https://files.eversports.com/ad3c1e6e-a9e2-43...  2024-02-01 23:21:23   \n",
       "155  [https://files.eversports.com/b0bce89e-0a39-42...  2024-02-01 23:21:38   \n",
       "156  [https://files.eversports.com/2493ff0c-9257-4c...  2024-02-01 23:21:46   \n",
       "157                                                 []  2024-02-01 23:22:25   \n",
       "158  [https://files.eversports.com/dd80bfe9-32e2-4a...  2024-02-01 23:22:28   \n",
       "\n",
       "            Updated Date  \n",
       "0    2024-02-01 22:48:15  \n",
       "1    2024-02-01 22:48:35  \n",
       "2    2024-02-01 22:48:42  \n",
       "3    2024-02-01 22:48:47  \n",
       "4    2024-02-01 22:49:10  \n",
       "..                   ...  \n",
       "154  2024-02-01 23:21:23  \n",
       "155  2024-02-01 23:21:38  \n",
       "156  2024-02-01 23:21:46  \n",
       "157  2024-02-01 23:22:25  \n",
       "158  2024-02-01 23:22:28  \n",
       "\n",
       "[159 rows x 17 columns]"
      ]
     },
     "execution_count": 15,
     "metadata": {},
     "output_type": "execute_result"
    }
   ],
   "source": [
    "result_pole_studio"
   ]
  },
  {
   "cell_type": "code",
   "execution_count": 16,
   "metadata": {},
   "outputs": [
    {
     "data": {
      "text/html": [
       "<div>\n",
       "<style scoped>\n",
       "    .dataframe tbody tr th:only-of-type {\n",
       "        vertical-align: middle;\n",
       "    }\n",
       "\n",
       "    .dataframe tbody tr th {\n",
       "        vertical-align: top;\n",
       "    }\n",
       "\n",
       "    .dataframe thead th {\n",
       "        text-align: right;\n",
       "    }\n",
       "</style>\n",
       "<table border=\"1\" class=\"dataframe\">\n",
       "  <thead>\n",
       "    <tr style=\"text-align: right;\">\n",
       "      <th></th>\n",
       "      <th>Workshop Name</th>\n",
       "      <th>Description</th>\n",
       "      <th>Studio Name</th>\n",
       "      <th>Location</th>\n",
       "      <th>Level</th>\n",
       "      <th>Date</th>\n",
       "      <th>URL_E</th>\n",
       "      <th>Time</th>\n",
       "    </tr>\n",
       "  </thead>\n",
       "  <tbody>\n",
       "    <tr>\n",
       "      <th>0</th>\n",
       "      <td>Aerial Circus Kids/Teens Kennenlern-Workshop</td>\n",
       "      <td>Jetzt sind die KLEINEN dran!Luftakrobatik ist ...</td>\n",
       "      <td>T-Tanzstück Wolfsburg</td>\n",
       "      <td>Gesamtticket</td>\n",
       "      <td>Aerial Akrobatik</td>\n",
       "      <td>Sonntag, 11. Februar 2024</td>\n",
       "      <td>https://www.eversports.de/e/workshop/jg7fLUb</td>\n",
       "      <td>12:30 - 14:00</td>\n",
       "    </tr>\n",
       "    <tr>\n",
       "      <th>1</th>\n",
       "      <td>Grundkurs Yoga</td>\n",
       "      <td>7x90 Min. Dieser „geschlossene“ Grundkurs ist ...</td>\n",
       "      <td>Niyaha Yoga Susann Kind</td>\n",
       "      <td>16:30 - 18:00</td>\n",
       "      <td>Yoga</td>\n",
       "      <td>Begann am Montag, 29. Januar 2024</td>\n",
       "      <td>https://www.eversports.de/e/workshop/u0m4PpJ</td>\n",
       "      <td>Nachtigallenstraße 13, 98617 Meiningen</td>\n",
       "    </tr>\n",
       "    <tr>\n",
       "      <th>2</th>\n",
       "      <td>HIER-SEIN</td>\n",
       "      <td>Die kraftvolle Ruhe entwickeln, dich an dich s...</td>\n",
       "      <td>Niyaha Yoga Susann Kind</td>\n",
       "      <td>15:30 - 16:30</td>\n",
       "      <td>Stress Release Yoga</td>\n",
       "      <td>Begann am Dienstag, 30. Januar 2024</td>\n",
       "      <td>https://www.eversports.de/e/workshop/Qph3Nhi</td>\n",
       "      <td>Nachtigallenstraße 13, 98617 Meiningen</td>\n",
       "    </tr>\n",
       "    <tr>\n",
       "      <th>3</th>\n",
       "      <td>Beyond Boundaries – Sei du selbst</td>\n",
       "      <td>Von Zeit zu Zeit lohnt sich eine Innenschau um...</td>\n",
       "      <td>Niyaha Yoga Susann Kind</td>\n",
       "      <td>Beyond Boundaries</td>\n",
       "      <td>Yoga</td>\n",
       "      <td>Samstag, 17. Februar 2024</td>\n",
       "      <td>https://www.eversports.de/e/workshop/cnaEonv</td>\n",
       "      <td>16:00 - 18:00</td>\n",
       "    </tr>\n",
       "    <tr>\n",
       "      <th>4</th>\n",
       "      <td>KLANGBAD &amp; GESANG - \"geerdetes Fliegen\"</td>\n",
       "      <td>Thema: 'geerdetes Fliegen' Alles in unserem Un...</td>\n",
       "      <td>Niyaha Yoga Susann Kind</td>\n",
       "      <td>Klangbad mit sanftem Gesang (inkl.MwSt)</td>\n",
       "      <td>Meditation</td>\n",
       "      <td>Sonntag, 18. Februar 2024</td>\n",
       "      <td>https://www.eversports.de/e/workshop/VVUAlSC</td>\n",
       "      <td>16:00 - 17:30</td>\n",
       "    </tr>\n",
       "    <tr>\n",
       "      <th>...</th>\n",
       "      <td>...</td>\n",
       "      <td>...</td>\n",
       "      <td>...</td>\n",
       "      <td>...</td>\n",
       "      <td>...</td>\n",
       "      <td>...</td>\n",
       "      <td>...</td>\n",
       "      <td>...</td>\n",
       "    </tr>\n",
       "    <tr>\n",
       "      <th>311</th>\n",
       "      <td>AERIAL FUN I 8-12 Jahre</td>\n",
       "      <td>Dieser Kurs verbindet Tanz und Akrobatik, so d...</td>\n",
       "      <td>BALANCE Neumarkt</td>\n",
       "      <td>Deininger Weg 94, 92318 Neumarkt in der Oberpfalz</td>\n",
       "      <td>Aerial Yoga</td>\n",
       "      <td>Donnerstag, 28. März 2024</td>\n",
       "      <td>https://www.eversports.de/e/workshop/WpCq6MN</td>\n",
       "      <td>16:00 - 17:00</td>\n",
       "    </tr>\n",
       "    <tr>\n",
       "      <th>312</th>\n",
       "      <td>DANCE Kids I 4-5 Jahre</td>\n",
       "      <td>45 Minuten Tanz, Rhythmische Spiele und viel S...</td>\n",
       "      <td>BALANCE Neumarkt</td>\n",
       "      <td>Deininger Weg 94, 92318 Neumarkt in der Oberpfalz</td>\n",
       "      <td>Tanzen</td>\n",
       "      <td>Mittwoch, 3. April 2024</td>\n",
       "      <td>https://www.eversports.de/e/workshop/uE03gmT</td>\n",
       "      <td>15:00 - 15:45</td>\n",
       "    </tr>\n",
       "    <tr>\n",
       "      <th>313</th>\n",
       "      <td>DANCE FUN I 6-8 Jahre</td>\n",
       "      <td>60 Minuten Tanz, Rhythmische Spiele und viel S...</td>\n",
       "      <td>BALANCE Neumarkt</td>\n",
       "      <td>Deininger Weg 94, 92318 Neumarkt in der Oberpfalz</td>\n",
       "      <td>Tanzen</td>\n",
       "      <td>Mittwoch, 3. April 2024</td>\n",
       "      <td>https://www.eversports.de/e/workshop/Nm33K4u</td>\n",
       "      <td>16:00 - 17:00</td>\n",
       "    </tr>\n",
       "    <tr>\n",
       "      <th>314</th>\n",
       "      <td>THAI YOGA MASSAGE</td>\n",
       "      <td>Dieses Mal, findet die Massage in Bauchlage st...</td>\n",
       "      <td>BALANCE Neumarkt</td>\n",
       "      <td>Deininger Weg 94, 92318 Neumarkt in der Oberpfalz</td>\n",
       "      <td>Yoga</td>\n",
       "      <td>Sonntag, 14. April 2024</td>\n",
       "      <td>https://www.eversports.de/e/workshop/U27XEmo</td>\n",
       "      <td>14:00 - 16:00</td>\n",
       "    </tr>\n",
       "    <tr>\n",
       "      <th>315</th>\n",
       "      <td>AERIAL HOOP I Probestunde</td>\n",
       "      <td>Luftakrobatik im Ring. Hier wird Kraft, Bewegl...</td>\n",
       "      <td>BALANCE Neumarkt</td>\n",
       "      <td>Deininger Weg 94, 92318 Neumarkt in der Oberpfalz</td>\n",
       "      <td>Akrobatik</td>\n",
       "      <td>Sonntag, 14. April 2024</td>\n",
       "      <td>https://www.eversports.de/e/workshop/DujyYDr</td>\n",
       "      <td>16:30 - 17:30</td>\n",
       "    </tr>\n",
       "  </tbody>\n",
       "</table>\n",
       "<p>316 rows × 8 columns</p>\n",
       "</div>"
      ],
      "text/plain": [
       "                                    Workshop Name  \\\n",
       "0    Aerial Circus Kids/Teens Kennenlern-Workshop   \n",
       "1                                  Grundkurs Yoga   \n",
       "2                                       HIER-SEIN   \n",
       "3               Beyond Boundaries – Sei du selbst   \n",
       "4         KLANGBAD & GESANG - \"geerdetes Fliegen\"   \n",
       "..                                            ...   \n",
       "311                       AERIAL FUN I 8-12 Jahre   \n",
       "312                        DANCE Kids I 4-5 Jahre   \n",
       "313                         DANCE FUN I 6-8 Jahre   \n",
       "314                             THAI YOGA MASSAGE   \n",
       "315                     AERIAL HOOP I Probestunde   \n",
       "\n",
       "                                           Description  \\\n",
       "0    Jetzt sind die KLEINEN dran!Luftakrobatik ist ...   \n",
       "1    7x90 Min. Dieser „geschlossene“ Grundkurs ist ...   \n",
       "2    Die kraftvolle Ruhe entwickeln, dich an dich s...   \n",
       "3    Von Zeit zu Zeit lohnt sich eine Innenschau um...   \n",
       "4    Thema: 'geerdetes Fliegen' Alles in unserem Un...   \n",
       "..                                                 ...   \n",
       "311  Dieser Kurs verbindet Tanz und Akrobatik, so d...   \n",
       "312  45 Minuten Tanz, Rhythmische Spiele und viel S...   \n",
       "313  60 Minuten Tanz, Rhythmische Spiele und viel S...   \n",
       "314  Dieses Mal, findet die Massage in Bauchlage st...   \n",
       "315  Luftakrobatik im Ring. Hier wird Kraft, Bewegl...   \n",
       "\n",
       "                 Studio Name  \\\n",
       "0      T-Tanzstück Wolfsburg   \n",
       "1    Niyaha Yoga Susann Kind   \n",
       "2    Niyaha Yoga Susann Kind   \n",
       "3    Niyaha Yoga Susann Kind   \n",
       "4    Niyaha Yoga Susann Kind   \n",
       "..                       ...   \n",
       "311         BALANCE Neumarkt   \n",
       "312         BALANCE Neumarkt   \n",
       "313         BALANCE Neumarkt   \n",
       "314         BALANCE Neumarkt   \n",
       "315         BALANCE Neumarkt   \n",
       "\n",
       "                                              Location                Level  \\\n",
       "0                                         Gesamtticket     Aerial Akrobatik   \n",
       "1                                        16:30 - 18:00                 Yoga   \n",
       "2                                        15:30 - 16:30  Stress Release Yoga   \n",
       "3                                    Beyond Boundaries                 Yoga   \n",
       "4              Klangbad mit sanftem Gesang (inkl.MwSt)           Meditation   \n",
       "..                                                 ...                  ...   \n",
       "311  Deininger Weg 94, 92318 Neumarkt in der Oberpfalz          Aerial Yoga   \n",
       "312  Deininger Weg 94, 92318 Neumarkt in der Oberpfalz               Tanzen   \n",
       "313  Deininger Weg 94, 92318 Neumarkt in der Oberpfalz               Tanzen   \n",
       "314  Deininger Weg 94, 92318 Neumarkt in der Oberpfalz                 Yoga   \n",
       "315  Deininger Weg 94, 92318 Neumarkt in der Oberpfalz            Akrobatik   \n",
       "\n",
       "                                    Date  \\\n",
       "0              Sonntag, 11. Februar 2024   \n",
       "1      Begann am Montag, 29. Januar 2024   \n",
       "2    Begann am Dienstag, 30. Januar 2024   \n",
       "3              Samstag, 17. Februar 2024   \n",
       "4              Sonntag, 18. Februar 2024   \n",
       "..                                   ...   \n",
       "311            Donnerstag, 28. März 2024   \n",
       "312              Mittwoch, 3. April 2024   \n",
       "313              Mittwoch, 3. April 2024   \n",
       "314              Sonntag, 14. April 2024   \n",
       "315              Sonntag, 14. April 2024   \n",
       "\n",
       "                                            URL_E  \\\n",
       "0    https://www.eversports.de/e/workshop/jg7fLUb   \n",
       "1    https://www.eversports.de/e/workshop/u0m4PpJ   \n",
       "2    https://www.eversports.de/e/workshop/Qph3Nhi   \n",
       "3    https://www.eversports.de/e/workshop/cnaEonv   \n",
       "4    https://www.eversports.de/e/workshop/VVUAlSC   \n",
       "..                                            ...   \n",
       "311  https://www.eversports.de/e/workshop/WpCq6MN   \n",
       "312  https://www.eversports.de/e/workshop/uE03gmT   \n",
       "313  https://www.eversports.de/e/workshop/Nm33K4u   \n",
       "314  https://www.eversports.de/e/workshop/U27XEmo   \n",
       "315  https://www.eversports.de/e/workshop/DujyYDr   \n",
       "\n",
       "                                       Time  \n",
       "0                             12:30 - 14:00  \n",
       "1    Nachtigallenstraße 13, 98617 Meiningen  \n",
       "2    Nachtigallenstraße 13, 98617 Meiningen  \n",
       "3                             16:00 - 18:00  \n",
       "4                             16:00 - 17:30  \n",
       "..                                      ...  \n",
       "311                           16:00 - 17:00  \n",
       "312                           15:00 - 15:45  \n",
       "313                           16:00 - 17:00  \n",
       "314                           14:00 - 16:00  \n",
       "315                           16:30 - 17:30  \n",
       "\n",
       "[316 rows x 8 columns]"
      ]
     },
     "execution_count": 16,
     "metadata": {},
     "output_type": "execute_result"
    }
   ],
   "source": [
    "result_workshop_details"
   ]
  }
 ],
 "metadata": {
  "kernelspec": {
   "display_name": "Python 3",
   "language": "python",
   "name": "python3"
  },
  "language_info": {
   "codemirror_mode": {
    "name": "ipython",
    "version": 3
   },
   "file_extension": ".py",
   "mimetype": "text/x-python",
   "name": "python",
   "nbconvert_exporter": "python",
   "pygments_lexer": "ipython3",
   "version": "3.12.1"
  }
 },
 "nbformat": 4,
 "nbformat_minor": 2
}
