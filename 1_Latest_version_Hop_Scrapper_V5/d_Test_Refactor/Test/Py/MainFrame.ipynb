{
 "cells": [
  {
   "cell_type": "markdown",
   "metadata": {},
   "source": [
    "V1"
   ]
  },
  {
   "cell_type": "code",
   "execution_count": null,
   "metadata": {},
   "outputs": [],
   "source": [
    "import pandas as pd\n",
    "from PyCaller import process_urls\n",
    "from tqdm import tqdm\n",
    "\n",
    "def process_and_print_results(url):\n",
    "    print(f\"Processing URL: {url}\")\n",
    "    data = process_urls([url])\n",
    "\n",
    "    if data:\n",
    "        print(f\"\\nResults for URL: {url}\")\n",
    "        for key, df in data.items():\n",
    "            if df is not None and not df.empty:\n",
    "                print(f\"{key.replace('_', ' ').title()}:\")\n",
    "                print(\"\\n\")\n",
    "        return data\n",
    "    else:\n",
    "        print(f\"No data found for URL: {url}\")\n",
    "        return None\n",
    "\n",
    "def main():\n",
    "    # Load initial URLs\n",
    "    all_found_urls_s = pd.read_csv(\"all_found_urls_23.12.23_cleaned.csv\")\n",
    "    initial_urls = list(set(all_found_urls_s[\"0\"]))[:10]\n",
    "\n",
    "    # Initialize DataFrames\n",
    "    all_pole_studio_data = pd.DataFrame()\n",
    "    all_workshops_data = pd.DataFrame()\n",
    "    all_workshop_details_data = pd.DataFrame()\n",
    "\n",
    "    # Process each URL\n",
    "    total_urls = len(initial_urls)\n",
    "    for i, url in tqdm(enumerate(initial_urls, start=1), total=total_urls, desc=\"Processing URLs\"):\n",
    "        print(f\"Processing URL {i}/{total_urls}: {url}\")\n",
    "        data = process_and_print_results(url)\n",
    "        if data:\n",
    "            # Add data to corresponding DataFrames\n",
    "            if 'pole_studio_data' in data and not data['pole_studio_data'].empty:\n",
    "                all_pole_studio_data = pd.concat([all_pole_studio_data, data['pole_studio_data']], ignore_index=True)\n",
    "            \n",
    "            if 'workshops_data' in data and not data['workshops_data'].empty:\n",
    "                all_workshops_data = pd.concat([all_workshops_data, data['workshops_data']], ignore_index=True)\n",
    "            \n",
    "            if 'workshop_details' in data and not data['workshop_details'].empty:\n",
    "                all_workshop_details_data = pd.concat([all_workshop_details_data, data['workshop_details']], ignore_index=True)\n",
    "\n",
    "        # Display progress\n",
    "        progress_percent = (i / total_urls) * 100\n",
    "        print(f\"Progress: {progress_percent:.2f}%\\n\")\n",
    "\n",
    "    # # Export DataFrames to CSV files\n",
    "    # all_pole_studio_data.to_csv(\"Pole_Studio_Übersicht_S.csv\", index=False)\n",
    "    # all_workshops_data.to_csv(\"Workshop_Liste_SW.csv\", index=False)\n",
    "    # all_workshop_details_data.to_csv(\"Workshop_Übersicht_E.csv\", index=False)\n",
    "\n",
    "if __name__ == \"__main__\":\n",
    "    main()\n"
   ]
  },
  {
   "cell_type": "markdown",
   "metadata": {},
   "source": [
    "URLS Cleaner"
   ]
  },
  {
   "cell_type": "code",
   "execution_count": null,
   "metadata": {},
   "outputs": [],
   "source": [
    "import pandas as pd\n",
    "\n",
    "def clean_and_unique_urls(file_path):\n",
    "    # Read the CSV file\n",
    "    all_found_urls_s = pd.read_csv(file_path, header=None, names=['index', 'url'])\n",
    "\n",
    "    # Ensure all URLs are in lowercase\n",
    "    all_found_urls_s['url'] = all_found_urls_s['url'].str.lower()\n",
    "\n",
    "    # Remove duplicate URLs\n",
    "    all_found_urls_s = all_found_urls_s.drop_duplicates(subset=['url'])\n",
    "\n",
    "    # Save the cleaned and unique URLs to a new CSV file\n",
    "    cleaned_file_path = file_path.replace('.csv', '_cleaned.csv')\n",
    "    all_found_urls_s.to_csv(cleaned_file_path, index=False, header=False)\n",
    "\n",
    "    return cleaned_file_path\n",
    "\n",
    "if __name__ == \"__main__\":\n",
    "    # Example usage\n",
    "    input_file_path = \"all_found_urls_23.12.23.csv\"\n",
    "    cleaned_file_path = clean_and_unique_urls(input_file_path)\n",
    "    print(f\"Cleaned and unique URLs saved to: {cleaned_file_path}\")\n"
   ]
  },
  {
   "cell_type": "markdown",
   "metadata": {},
   "source": [
    "V2"
   ]
  },
  {
   "cell_type": "code",
   "execution_count": null,
   "metadata": {},
   "outputs": [],
   "source": [
    "import pandas as pd\n",
    "from PyCaller import process_urls\n",
    "from tqdm import tqdm\n",
    "\n",
    "def process_and_print_results(url):\n",
    "    data = process_urls([url])\n",
    "\n",
    "    if data:\n",
    "        for key, df in data.items():\n",
    "            if df is not None and not df.empty:\n",
    "                print(f\"{key.replace('_', ' ').title()}: {len(df)} entries\")\n",
    "\n",
    "def main():\n",
    "    # Load initial URLs\n",
    "    all_found_urls_s = pd.read_csv(\"all_found_urls_23.12.23_cleaned.csv\")\n",
    "    initial_urls = list(set(all_found_urls_s[\"0\"]))[:100]\n",
    "\n",
    "    # Initialize DataFrames\n",
    "    all_pole_studio_data = pd.DataFrame()\n",
    "    all_workshops_data = pd.DataFrame()\n",
    "    all_workshop_details_data = pd.DataFrame()\n",
    "\n",
    "    # Process each URL\n",
    "    total_urls = len(initial_urls)\n",
    "    with tqdm(total=total_urls, desc=\"Processing URLs\") as pbar:\n",
    "        for i, url in enumerate(initial_urls, start=1):\n",
    "            process_and_print_results(url)\n",
    "            pbar.update(1)\n",
    "\n",
    "if __name__ == \"__main__\":\n",
    "    main()\n"
   ]
  },
  {
   "cell_type": "markdown",
   "metadata": {},
   "source": [
    "V3"
   ]
  },
  {
   "cell_type": "code",
   "execution_count": 7,
   "metadata": {},
   "outputs": [
    {
     "name": "stderr",
     "output_type": "stream",
     "text": [
      "Processing URLs:   0%|          | 0/403 [00:00<?, ?it/s]"
     ]
    },
    {
     "name": "stdout",
     "output_type": "stream",
     "text": [
      "Starting URL reconstruction...\n"
     ]
    },
    {
     "name": "stderr",
     "output_type": "stream",
     "text": [
      "2024-02-03 11:29:58,069 - INFO - Processing URL 1/1: https://www.eversports.de/s/swiss-mega-park\n"
     ]
    },
    {
     "name": "stdout",
     "output_type": "stream",
     "text": [
      "Error reconstructing URL for 'Sportplätze': Unrecognized text: 'Sportplätze'\n",
      "Error reconstructing URL for 'Matches': Unrecognized text: 'Matches'\n",
      "Converting to DataFrame...\n",
      "Validating URLs...\n"
     ]
    },
    {
     "name": "stderr",
     "output_type": "stream",
     "text": [
      "2024-02-03 11:29:59,808 - INFO - URL https://www.eversports.de/s/swiss-mega-park is valid.\n"
     ]
    },
    {
     "name": "stdout",
     "output_type": "stream",
     "text": [
      "Scraping Pole Studio Data from https://www.eversports.de/s/swiss-mega-park...\n"
     ]
    },
    {
     "name": "stderr",
     "output_type": "stream",
     "text": [
      "Processing URLs:   0%|          | 1/403 [00:03<26:45,  3.99s/it, Current URL: https://www.eversports.de/s/swiss-mega-park]"
     ]
    },
    {
     "name": "stdout",
     "output_type": "stream",
     "text": [
      "Processing completed.\n",
      "Pole Studio Data: 1 entries\n",
      "Starting URL reconstruction...\n"
     ]
    },
    {
     "name": "stderr",
     "output_type": "stream",
     "text": [
      "2024-02-03 11:30:01,822 - INFO - Processing URL 1/4: https://www.eversports.de/s/poleside\n"
     ]
    },
    {
     "name": "stdout",
     "output_type": "stream",
     "text": [
      "Error reconstructing URL for 'Kurse': Unrecognized text: 'Kurse'\n",
      "Converting to DataFrame...\n",
      "Validating URLs...\n"
     ]
    },
    {
     "name": "stderr",
     "output_type": "stream",
     "text": [
      "2024-02-03 11:30:03,700 - INFO - URL https://www.eversports.de/s/poleside is valid.\n",
      "2024-02-03 11:30:03,701 - INFO - Processing URL 2/4: https://www.eversports.de/sw/poleside\n",
      "2024-02-03 11:30:04,828 - INFO - URL https://www.eversports.de/sw/poleside is valid.\n",
      "2024-02-03 11:30:04,829 - INFO - Processing URL 3/4: https://www.eversports.de/sp/poleside\n",
      "2024-02-03 11:30:05,931 - INFO - URL https://www.eversports.de/sp/poleside is valid.\n",
      "2024-02-03 11:30:05,933 - INFO - Processing URL 4/4: https://www.eversports.de/s/poleside/team\n",
      "2024-02-03 11:30:07,939 - INFO - URL https://www.eversports.de/s/poleside/team is valid.\n"
     ]
    },
    {
     "name": "stdout",
     "output_type": "stream",
     "text": [
      "Scraping Pole Studio Data from https://www.eversports.de/s/poleside...\n",
      "Scraping Workshops Data from https://www.eversports.de/sw/poleside...\n",
      "Scraping Workshop Details from https://www.eversports.de/e/workshop/llCPKoMLh...\n"
     ]
    },
    {
     "name": "stderr",
     "output_type": "stream",
     "text": [
      "Processing URLs:   0%|          | 2/403 [00:14<51:41,  7.73s/it, Current URL: https://www.eversports.de/s/poleside]       "
     ]
    },
    {
     "name": "stdout",
     "output_type": "stream",
     "text": [
      "Processing completed.\n",
      "Pole Studio Data: 1 entries\n",
      "Workshops Data: 1 entries\n",
      "Workshop Details: 1 entries\n",
      "Starting URL reconstruction...\n"
     ]
    },
    {
     "name": "stderr",
     "output_type": "stream",
     "text": [
      "Processing URLs:   1%|          | 3/403 [00:16<33:37,  5.04s/it, Current URL: https://www.eversports.de/s/passionate-pole-&-sports]"
     ]
    },
    {
     "name": "stdout",
     "output_type": "stream",
     "text": [
      "Error during HTTP request: 404 Client Error: Not Found for url: https://www.eversports.de/s/passionate-pole-&-sports\n",
      "Converting to DataFrame...\n",
      "Validating URLs...\n",
      "Processing completed.\n",
      "Starting URL reconstruction...\n"
     ]
    },
    {
     "name": "stderr",
     "output_type": "stream",
     "text": [
      "Processing URLs:   1%|          | 4/403 [00:17<23:22,  3.51s/it, Current URL: https://www.eversports.de/s/papillon-pole-dance-studio]"
     ]
    },
    {
     "name": "stdout",
     "output_type": "stream",
     "text": [
      "Error during HTTP request: 404 Client Error: Not Found for url: https://www.eversports.de/s/papillon-pole-dance-studio\n",
      "Converting to DataFrame...\n",
      "Validating URLs...\n",
      "Processing completed.\n",
      "Starting URL reconstruction...\n"
     ]
    },
    {
     "name": "stderr",
     "output_type": "stream",
     "text": [
      "Processing URLs:   1%|          | 5/403 [00:19<19:01,  2.87s/it, Current URL: https://www.eversports.de/s/infinity-polesports-burgkirchen]"
     ]
    },
    {
     "name": "stdout",
     "output_type": "stream",
     "text": [
      "Error during HTTP request: 404 Client Error: Not Found for url: https://www.eversports.de/s/infinity-polesports-burgkirchen\n",
      "Converting to DataFrame...\n",
      "Validating URLs...\n",
      "Processing completed.\n",
      "Starting URL reconstruction...\n"
     ]
    },
    {
     "name": "stderr",
     "output_type": "stream",
     "text": [
      "Processing URLs:   1%|▏         | 6/403 [00:20<14:56,  2.26s/it, Current URL: https://www.eversports.de/s/poleplace]                      "
     ]
    },
    {
     "name": "stdout",
     "output_type": "stream",
     "text": [
      "Error during HTTP request: 404 Client Error: Not Found for url: https://www.eversports.de/s/poleplace\n",
      "Converting to DataFrame...\n",
      "Validating URLs...\n",
      "Processing completed.\n",
      "Starting URL reconstruction...\n"
     ]
    },
    {
     "name": "stderr",
     "output_type": "stream",
     "text": [
      "Processing URLs:   2%|▏         | 7/403 [00:21<12:22,  1.88s/it, Current URL: https://www.eversports.de/s/dance-%26-fitness-academy]"
     ]
    },
    {
     "name": "stdout",
     "output_type": "stream",
     "text": [
      "Error during HTTP request: 404 Client Error: Not Found for url: https://www.eversports.de/s/dance-%26-fitness-academy\n",
      "Converting to DataFrame...\n",
      "Validating URLs...\n",
      "Processing completed.\n",
      "Starting URL reconstruction...\n"
     ]
    },
    {
     "name": "stderr",
     "output_type": "stream",
     "text": [
      "2024-02-03 11:30:19,202 - INFO - Processing URL 1/3: https://www.eversports.de/s/css-aerial-dance-studio\n"
     ]
    },
    {
     "name": "stdout",
     "output_type": "stream",
     "text": [
      "Error reconstructing URL for 'Kurse': Unrecognized text: 'Kurse'\n",
      "Converting to DataFrame...\n",
      "Validating URLs...\n"
     ]
    },
    {
     "name": "stderr",
     "output_type": "stream",
     "text": [
      "2024-02-03 11:30:20,617 - INFO - URL https://www.eversports.de/s/css-aerial-dance-studio is valid.\n",
      "2024-02-03 11:30:20,618 - INFO - Processing URL 2/3: https://www.eversports.de/sp/css-aerial-dance-studio\n",
      "2024-02-03 11:30:21,797 - INFO - URL https://www.eversports.de/sp/css-aerial-dance-studio is valid.\n",
      "2024-02-03 11:30:21,798 - INFO - Processing URL 3/3: https://www.eversports.de/s/css-aerial-dance-studio/team\n",
      "2024-02-03 11:30:24,478 - INFO - URL https://www.eversports.de/s/css-aerial-dance-studio/team is valid.\n"
     ]
    },
    {
     "name": "stdout",
     "output_type": "stream",
     "text": [
      "Scraping Pole Studio Data from https://www.eversports.de/s/css-aerial-dance-studio...\n"
     ]
    },
    {
     "name": "stderr",
     "output_type": "stream",
     "text": [
      "Processing URLs:   2%|▏         | 8/403 [00:28<23:16,  3.54s/it, Current URL: https://www.eversports.de/s/css-aerial-dance-studio]  "
     ]
    },
    {
     "name": "stdout",
     "output_type": "stream",
     "text": [
      "Processing completed.\n",
      "Pole Studio Data: 1 entries\n",
      "Starting URL reconstruction...\n"
     ]
    },
    {
     "name": "stderr",
     "output_type": "stream",
     "text": [
      "Processing URLs:   2%|▏         | 9/403 [00:29<18:16,  2.78s/it, Current URL: https://www.eversports.de/s/schwerelos]             "
     ]
    },
    {
     "name": "stdout",
     "output_type": "stream",
     "text": [
      "Error during HTTP request: 404 Client Error: Not Found for url: https://www.eversports.de/s/schwerelos\n",
      "Converting to DataFrame...\n",
      "Validating URLs...\n",
      "Processing completed.\n",
      "Starting URL reconstruction...\n"
     ]
    },
    {
     "name": "stderr",
     "output_type": "stream",
     "text": [
      "Processing URLs:   2%|▏         | 10/403 [00:30<14:52,  2.27s/it, Current URL: https://www.eversports.de/s/happy-pole-place]"
     ]
    },
    {
     "name": "stdout",
     "output_type": "stream",
     "text": [
      "Error during HTTP request: 404 Client Error: Not Found for url: https://www.eversports.de/s/happy-pole-place\n",
      "Converting to DataFrame...\n",
      "Validating URLs...\n",
      "Processing completed.\n",
      "Starting URL reconstruction...\n"
     ]
    },
    {
     "name": "stderr",
     "output_type": "stream",
     "text": [
      "2024-02-03 11:30:28,609 - INFO - Processing URL 1/3: https://www.eversports.de/s/tanzteufel\n"
     ]
    },
    {
     "name": "stdout",
     "output_type": "stream",
     "text": [
      "Converting to DataFrame...\n",
      "Validating URLs...\n"
     ]
    },
    {
     "name": "stderr",
     "output_type": "stream",
     "text": [
      "2024-02-03 11:30:30,051 - INFO - URL https://www.eversports.de/s/tanzteufel is valid.\n",
      "2024-02-03 11:30:30,051 - INFO - Processing URL 2/3: https://www.eversports.de/sp/tanzteufel\n",
      "2024-02-03 11:30:31,224 - INFO - URL https://www.eversports.de/sp/tanzteufel is valid.\n",
      "2024-02-03 11:30:31,225 - INFO - Processing URL 3/3: https://www.eversports.de/s/tanzteufel/team\n",
      "2024-02-03 11:30:32,512 - INFO - URL https://www.eversports.de/s/tanzteufel/team is valid.\n"
     ]
    },
    {
     "name": "stdout",
     "output_type": "stream",
     "text": [
      "Scraping Pole Studio Data from https://www.eversports.de/s/tanzteufel...\n"
     ]
    },
    {
     "name": "stderr",
     "output_type": "stream",
     "text": [
      "Processing URLs:   3%|▎         | 11/403 [00:36<21:44,  3.33s/it, Current URL: https://www.eversports.de/s/tanzteufel]      "
     ]
    },
    {
     "name": "stdout",
     "output_type": "stream",
     "text": [
      "Processing completed.\n",
      "Pole Studio Data: 1 entries\n",
      "Starting URL reconstruction...\n"
     ]
    },
    {
     "name": "stderr",
     "output_type": "stream",
     "text": [
      "2024-02-03 11:30:34,227 - INFO - Processing URL 1/4: https://www.eversports.de/s/the-pole-jungle\n"
     ]
    },
    {
     "name": "stdout",
     "output_type": "stream",
     "text": [
      "Error reconstructing URL for 'Trainings': Unrecognized text: 'Trainings'\n",
      "Error reconstructing URL for 'Kurse': Unrecognized text: 'Kurse'\n",
      "Converting to DataFrame...\n",
      "Validating URLs...\n"
     ]
    },
    {
     "name": "stderr",
     "output_type": "stream",
     "text": [
      "2024-02-03 11:30:36,112 - INFO - URL https://www.eversports.de/s/the-pole-jungle is valid.\n",
      "2024-02-03 11:30:36,113 - INFO - Processing URL 2/4: https://www.eversports.de/sw/the-pole-jungle\n",
      "2024-02-03 11:30:37,198 - INFO - URL https://www.eversports.de/sw/the-pole-jungle is not valid.\n",
      "2024-02-03 11:30:37,199 - INFO - Processing URL 3/4: https://www.eversports.de/sp/the-pole-jungle\n",
      "2024-02-03 11:30:38,316 - INFO - URL https://www.eversports.de/sp/the-pole-jungle is not valid.\n",
      "2024-02-03 11:30:38,316 - INFO - Processing URL 4/4: https://www.eversports.de/s/the-pole-jungle/team\n",
      "2024-02-03 11:30:39,647 - INFO - URL https://www.eversports.de/s/the-pole-jungle/team is valid.\n"
     ]
    },
    {
     "name": "stdout",
     "output_type": "stream",
     "text": [
      "Scraping Pole Studio Data from https://www.eversports.de/s/the-pole-jungle...\n"
     ]
    },
    {
     "name": "stderr",
     "output_type": "stream",
     "text": [
      "Processing URLs:   3%|▎         | 12/403 [00:43<29:09,  4.47s/it, Current URL: https://www.eversports.de/s/the-pole-jungle]"
     ]
    },
    {
     "name": "stdout",
     "output_type": "stream",
     "text": [
      "Processing completed.\n",
      "Pole Studio Data: 1 entries\n",
      "Starting URL reconstruction...\n"
     ]
    },
    {
     "name": "stderr",
     "output_type": "stream",
     "text": [
      "Processing URLs:   3%|▎         | 13/403 [00:47<29:10,  4.49s/it, Current URL: https://www.eversports.de/s/bodysoul-studio-düsseldorf]"
     ]
    },
    {
     "name": "stdout",
     "output_type": "stream",
     "text": [
      "Error during HTTP request: Exceeded 30 redirects.\n",
      "Converting to DataFrame...\n",
      "Validating URLs...\n",
      "Processing completed.\n",
      "Starting URL reconstruction...\n"
     ]
    },
    {
     "name": "stderr",
     "output_type": "stream",
     "text": [
      "Processing URLs:   3%|▎         | 14/403 [00:49<22:38,  3.49s/it, Current URL: https://www.eversports.de/s/pole-shape-studio]         "
     ]
    },
    {
     "name": "stdout",
     "output_type": "stream",
     "text": [
      "Error during HTTP request: 404 Client Error: Not Found for url: https://www.eversports.de/s/pole-shape-studio\n",
      "Converting to DataFrame...\n",
      "Validating URLs...\n",
      "Processing completed.\n",
      "Starting URL reconstruction...\n"
     ]
    },
    {
     "name": "stderr",
     "output_type": "stream",
     "text": [
      "Processing URLs:   4%|▎         | 15/403 [00:50<18:05,  2.80s/it, Current URL: https://www.eversports.de/s/flexx-arts-memmingen]"
     ]
    },
    {
     "name": "stdout",
     "output_type": "stream",
     "text": [
      "Error during HTTP request: 404 Client Error: Not Found for url: https://www.eversports.de/s/flexx-arts-memmingen\n",
      "Converting to DataFrame...\n",
      "Validating URLs...\n",
      "Processing completed.\n",
      "Starting URL reconstruction...\n"
     ]
    },
    {
     "name": "stderr",
     "output_type": "stream",
     "text": [
      "Processing URLs:   4%|▍         | 16/403 [00:52<17:10,  2.66s/it, Current URL: https://www.eversports.de/s/poledancestar-leipzig]"
     ]
    },
    {
     "name": "stdout",
     "output_type": "stream",
     "text": [
      "Error during HTTP request: 404 Client Error: Not Found for url: https://www.eversports.de/s/poledancestar-leipzig\n",
      "Converting to DataFrame...\n",
      "Validating URLs...\n",
      "Processing completed.\n",
      "Starting URL reconstruction...\n"
     ]
    },
    {
     "name": "stderr",
     "output_type": "stream",
     "text": [
      "Processing URLs:   4%|▍         | 17/403 [00:53<14:12,  2.21s/it, Current URL: https://www.eversports.de/s/pole-dance-academy-hameln]"
     ]
    },
    {
     "name": "stdout",
     "output_type": "stream",
     "text": [
      "Error during HTTP request: 404 Client Error: Not Found for url: https://www.eversports.de/s/pole-dance-academy-hameln\n",
      "Converting to DataFrame...\n",
      "Validating URLs...\n",
      "Processing completed.\n",
      "Starting URL reconstruction...\n"
     ]
    },
    {
     "name": "stderr",
     "output_type": "stream",
     "text": [
      "Processing URLs:   4%|▍         | 18/403 [00:54<12:10,  1.90s/it, Current URL: https://www.eversports.de/s/polesition]               "
     ]
    },
    {
     "name": "stdout",
     "output_type": "stream",
     "text": [
      "Error during HTTP request: 404 Client Error: Not Found for url: https://www.eversports.de/s/polesition\n",
      "Converting to DataFrame...\n",
      "Validating URLs...\n",
      "Processing completed.\n",
      "Starting URL reconstruction...\n"
     ]
    },
    {
     "name": "stderr",
     "output_type": "stream",
     "text": [
      "Processing URLs:   5%|▍         | 19/403 [00:56<10:41,  1.67s/it, Current URL: https://www.eversports.de/s/pole-arts-saarland]"
     ]
    },
    {
     "name": "stdout",
     "output_type": "stream",
     "text": [
      "Error during HTTP request: 404 Client Error: Not Found for url: https://www.eversports.de/s/pole-arts-saarland\n",
      "Converting to DataFrame...\n",
      "Validating URLs...\n",
      "Processing completed.\n",
      "Starting URL reconstruction...\n"
     ]
    },
    {
     "name": "stderr",
     "output_type": "stream",
     "text": [
      "Processing URLs:   5%|▍         | 20/403 [01:00<16:21,  2.56s/it, Current URL: https://www.eversports.de/s/t-tanzstück-wolfsburg]"
     ]
    },
    {
     "name": "stdout",
     "output_type": "stream",
     "text": [
      "Error during HTTP request: Exceeded 30 redirects.\n",
      "Converting to DataFrame...\n",
      "Validating URLs...\n",
      "Processing completed.\n",
      "Starting URL reconstruction...\n"
     ]
    },
    {
     "name": "stderr",
     "output_type": "stream",
     "text": [
      "2024-02-03 11:30:58,816 - INFO - Processing URL 1/3: https://www.eversports.de/s/spin-up\n"
     ]
    },
    {
     "name": "stdout",
     "output_type": "stream",
     "text": [
      "Converting to DataFrame...\n",
      "Validating URLs...\n"
     ]
    },
    {
     "name": "stderr",
     "output_type": "stream",
     "text": [
      "2024-02-03 11:31:00,091 - INFO - URL https://www.eversports.de/s/spin-up is valid.\n",
      "2024-02-03 11:31:00,092 - INFO - Processing URL 2/3: https://www.eversports.de/sp/spin-up\n",
      "2024-02-03 11:31:01,373 - INFO - URL https://www.eversports.de/sp/spin-up is not valid.\n",
      "2024-02-03 11:31:01,374 - INFO - Processing URL 3/3: https://www.eversports.de/s/spin-up/team\n",
      "2024-02-03 11:31:02,784 - INFO - URL https://www.eversports.de/s/spin-up/team is valid.\n"
     ]
    },
    {
     "name": "stdout",
     "output_type": "stream",
     "text": [
      "Scraping Pole Studio Data from https://www.eversports.de/s/spin-up...\n"
     ]
    },
    {
     "name": "stderr",
     "output_type": "stream",
     "text": [
      "Processing URLs:   5%|▌         | 21/403 [01:06<22:36,  3.55s/it, Current URL: https://www.eversports.de/s/spin-up]              "
     ]
    },
    {
     "name": "stdout",
     "output_type": "stream",
     "text": [
      "Processing completed.\n",
      "Pole Studio Data: 1 entries\n",
      "Starting URL reconstruction...\n"
     ]
    },
    {
     "name": "stderr",
     "output_type": "stream",
     "text": [
      "2024-02-03 11:31:04,831 - INFO - Processing URL 1/3: https://www.eversports.de/s/studio-nienke\n"
     ]
    },
    {
     "name": "stdout",
     "output_type": "stream",
     "text": [
      "Error reconstructing URL for 'Kurse': Unrecognized text: 'Kurse'\n",
      "Converting to DataFrame...\n",
      "Validating URLs...\n"
     ]
    },
    {
     "name": "stderr",
     "output_type": "stream",
     "text": [
      "2024-02-03 11:31:06,339 - INFO - URL https://www.eversports.de/s/studio-nienke is valid.\n",
      "2024-02-03 11:31:06,340 - INFO - Processing URL 2/3: https://www.eversports.de/sp/studio-nienke\n",
      "2024-02-03 11:31:07,489 - INFO - URL https://www.eversports.de/sp/studio-nienke is not valid.\n",
      "2024-02-03 11:31:07,490 - INFO - Processing URL 3/3: https://www.eversports.de/s/studio-nienke/team\n",
      "2024-02-03 11:31:08,841 - INFO - URL https://www.eversports.de/s/studio-nienke/team is valid.\n"
     ]
    },
    {
     "name": "stdout",
     "output_type": "stream",
     "text": [
      "Scraping Pole Studio Data from https://www.eversports.de/s/studio-nienke...\n"
     ]
    },
    {
     "name": "stderr",
     "output_type": "stream",
     "text": [
      "Processing URLs:   5%|▌         | 22/403 [01:13<28:02,  4.42s/it, Current URL: https://www.eversports.de/s/studio-nienke]"
     ]
    },
    {
     "name": "stdout",
     "output_type": "stream",
     "text": [
      "Processing completed.\n",
      "Pole Studio Data: 1 entries\n",
      "Starting URL reconstruction...\n"
     ]
    },
    {
     "name": "stderr",
     "output_type": "stream",
     "text": [
      "Processing URLs:   6%|▌         | 23/403 [01:16<26:01,  4.11s/it, Current URL: https://www.eversports.de/s/aircrobatic-studios-m%c3%bcnchen]"
     ]
    },
    {
     "name": "stdout",
     "output_type": "stream",
     "text": [
      "Error during HTTP request: Exceeded 30 redirects.\n",
      "Converting to DataFrame...\n",
      "Validating URLs...\n",
      "Processing completed.\n",
      "Starting URL reconstruction...\n"
     ]
    },
    {
     "name": "stderr",
     "output_type": "stream",
     "text": [
      "Processing URLs:   6%|▌         | 24/403 [01:17<20:25,  3.23s/it, Current URL: https://www.eversports.de/s/pole-fun-wehr]                   "
     ]
    },
    {
     "name": "stdout",
     "output_type": "stream",
     "text": [
      "Error during HTTP request: 404 Client Error: Not Found for url: https://www.eversports.de/s/pole-fun-wehr\n",
      "Converting to DataFrame...\n",
      "Validating URLs...\n",
      "Processing completed.\n",
      "Starting URL reconstruction...\n"
     ]
    },
    {
     "name": "stderr",
     "output_type": "stream",
     "text": [
      "Processing URLs:   6%|▌         | 25/403 [01:18<16:24,  2.60s/it, Current URL: https://www.eversports.de/s/pole-sport-coburg-akrobatik-%26-tanz]"
     ]
    },
    {
     "name": "stdout",
     "output_type": "stream",
     "text": [
      "Error during HTTP request: 404 Client Error: Not Found for url: https://www.eversports.de/s/pole-sport-coburg-akrobatik-%26-tanz\n",
      "Converting to DataFrame...\n",
      "Validating URLs...\n",
      "Processing completed.\n",
      "Starting URL reconstruction...\n"
     ]
    },
    {
     "name": "stderr",
     "output_type": "stream",
     "text": [
      "2024-02-03 11:31:16,584 - INFO - Processing URL 1/1: https://www.eversports.de/s/cindys-pole-dance\n"
     ]
    },
    {
     "name": "stdout",
     "output_type": "stream",
     "text": [
      "Converting to DataFrame...\n",
      "Validating URLs...\n"
     ]
    },
    {
     "name": "stderr",
     "output_type": "stream",
     "text": [
      "2024-02-03 11:31:17,860 - INFO - URL https://www.eversports.de/s/cindys-pole-dance is valid.\n"
     ]
    },
    {
     "name": "stdout",
     "output_type": "stream",
     "text": [
      "Scraping Pole Studio Data from https://www.eversports.de/s/cindys-pole-dance...\n"
     ]
    },
    {
     "name": "stderr",
     "output_type": "stream",
     "text": [
      "Processing URLs:   6%|▋         | 26/403 [01:21<16:54,  2.69s/it, Current URL: https://www.eversports.de/s/cindys-pole-dance]                   "
     ]
    },
    {
     "name": "stdout",
     "output_type": "stream",
     "text": [
      "Processing completed.\n",
      "Pole Studio Data: 1 entries\n",
      "Starting URL reconstruction...\n"
     ]
    },
    {
     "name": "stderr",
     "output_type": "stream",
     "text": [
      "Processing URLs:   7%|▋         | 27/403 [01:22<13:56,  2.22s/it, Current URL: https://www.eversports.de/s/pole-sensation]   "
     ]
    },
    {
     "name": "stdout",
     "output_type": "stream",
     "text": [
      "Error during HTTP request: 404 Client Error: Not Found for url: https://www.eversports.de/s/pole-sensation\n",
      "Converting to DataFrame...\n",
      "Validating URLs...\n",
      "Processing completed.\n",
      "Starting URL reconstruction...\n"
     ]
    },
    {
     "name": "stderr",
     "output_type": "stream",
     "text": [
      "2024-02-03 11:31:20,973 - INFO - Processing URL 1/2: https://www.eversports.de/s/pole-dance-balance\n"
     ]
    },
    {
     "name": "stdout",
     "output_type": "stream",
     "text": [
      "Converting to DataFrame...\n",
      "Validating URLs...\n"
     ]
    },
    {
     "name": "stderr",
     "output_type": "stream",
     "text": [
      "2024-02-03 11:31:22,762 - INFO - URL https://www.eversports.de/s/pole-dance-balance is valid.\n",
      "2024-02-03 11:31:22,763 - INFO - Processing URL 2/2: https://www.eversports.de/sp/pole-dance-balance\n",
      "2024-02-03 11:31:24,035 - INFO - URL https://www.eversports.de/sp/pole-dance-balance is valid.\n"
     ]
    },
    {
     "name": "stdout",
     "output_type": "stream",
     "text": [
      "Scraping Pole Studio Data from https://www.eversports.de/s/pole-dance-balance...\n"
     ]
    },
    {
     "name": "stderr",
     "output_type": "stream",
     "text": [
      "Processing URLs:   7%|▋         | 28/403 [01:27<19:04,  3.05s/it, Current URL: https://www.eversports.de/s/pole-dance-balance]"
     ]
    },
    {
     "name": "stdout",
     "output_type": "stream",
     "text": [
      "Processing completed.\n",
      "Pole Studio Data: 1 entries\n",
      "Starting URL reconstruction...\n"
     ]
    },
    {
     "name": "stderr",
     "output_type": "stream",
     "text": [
      "2024-02-03 11:31:25,693 - INFO - Processing URL 1/4: https://www.eversports.de/s/star-poledance\n"
     ]
    },
    {
     "name": "stdout",
     "output_type": "stream",
     "text": [
      "Converting to DataFrame...\n",
      "Validating URLs...\n"
     ]
    },
    {
     "name": "stderr",
     "output_type": "stream",
     "text": [
      "2024-02-03 11:31:27,079 - INFO - URL https://www.eversports.de/s/star-poledance is valid.\n",
      "2024-02-03 11:31:27,081 - INFO - Processing URL 2/4: https://www.eversports.de/sw/star-poledance\n",
      "2024-02-03 11:31:28,436 - INFO - URL https://www.eversports.de/sw/star-poledance is valid.\n",
      "2024-02-03 11:31:28,437 - INFO - Processing URL 3/4: https://www.eversports.de/sp/star-poledance\n",
      "2024-02-03 11:31:29,630 - INFO - URL https://www.eversports.de/sp/star-poledance is valid.\n",
      "2024-02-03 11:31:29,630 - INFO - Processing URL 4/4: https://www.eversports.de/s/star-poledance/team\n",
      "2024-02-03 11:31:30,816 - INFO - URL https://www.eversports.de/s/star-poledance/team is valid.\n"
     ]
    },
    {
     "name": "stdout",
     "output_type": "stream",
     "text": [
      "Scraping Pole Studio Data from https://www.eversports.de/s/star-poledance...\n",
      "Scraping Workshops Data from https://www.eversports.de/sw/star-poledance...\n",
      "Scraping Workshop Details from https://www.eversports.de/e/workshop/jZ6LjEO...\n"
     ]
    },
    {
     "name": "stderr",
     "output_type": "stream",
     "text": [
      "Processing URLs:   7%|▋         | 29/403 [01:37<30:36,  4.91s/it, Current URL: https://www.eversports.de/s/star-poledance]    "
     ]
    },
    {
     "name": "stdout",
     "output_type": "stream",
     "text": [
      "Processing completed.\n",
      "Pole Studio Data: 1 entries\n",
      "Workshops Data: 1 entries\n",
      "Workshop Details: 1 entries\n",
      "Starting URL reconstruction...\n"
     ]
    },
    {
     "name": "stderr",
     "output_type": "stream",
     "text": [
      "2024-02-03 11:31:34,869 - INFO - Processing URL 1/1: https://www.eversports.de/s/artletik-ug-laufen-und-meer\n"
     ]
    },
    {
     "name": "stdout",
     "output_type": "stream",
     "text": [
      "Converting to DataFrame...\n",
      "Validating URLs...\n"
     ]
    },
    {
     "name": "stderr",
     "output_type": "stream",
     "text": [
      "2024-02-03 11:31:36,068 - INFO - URL https://www.eversports.de/s/artletik-ug-laufen-und-meer is valid.\n"
     ]
    },
    {
     "name": "stdout",
     "output_type": "stream",
     "text": [
      "Scraping Pole Studio Data from https://www.eversports.de/s/artletik-ug-laufen-und-meer...\n"
     ]
    },
    {
     "name": "stderr",
     "output_type": "stream",
     "text": [
      "Processing URLs:   7%|▋         | 30/403 [01:39<26:34,  4.27s/it, Current URL: https://www.eversports.de/s/artletik-ug-laufen-und-meer]"
     ]
    },
    {
     "name": "stdout",
     "output_type": "stream",
     "text": [
      "Processing completed.\n",
      "Pole Studio Data: 1 entries\n",
      "Starting URL reconstruction...\n"
     ]
    },
    {
     "name": "stderr",
     "output_type": "stream",
     "text": [
      "2024-02-03 11:31:37,932 - INFO - Processing URL 1/4: https://www.eversports.de/s/da-becca-flow-and-fit\n"
     ]
    },
    {
     "name": "stdout",
     "output_type": "stream",
     "text": [
      "Converting to DataFrame...\n",
      "Validating URLs...\n"
     ]
    },
    {
     "name": "stderr",
     "output_type": "stream",
     "text": [
      "2024-02-03 11:31:39,324 - INFO - URL https://www.eversports.de/s/da-becca-flow-and-fit is valid.\n",
      "2024-02-03 11:31:39,325 - INFO - Processing URL 2/4: https://www.eversports.de/sw/da-becca-flow-and-fit\n",
      "2024-02-03 11:31:41,034 - INFO - URL https://www.eversports.de/sw/da-becca-flow-and-fit is valid.\n",
      "2024-02-03 11:31:41,035 - INFO - Processing URL 3/4: https://www.eversports.de/sp/da-becca-flow-and-fit\n",
      "2024-02-03 11:31:42,222 - INFO - URL https://www.eversports.de/sp/da-becca-flow-and-fit is valid.\n",
      "2024-02-03 11:31:42,223 - INFO - Processing URL 4/4: https://www.eversports.de/s/da-becca-flow-and-fit/team\n",
      "2024-02-03 11:31:43,523 - INFO - URL https://www.eversports.de/s/da-becca-flow-and-fit/team is valid.\n"
     ]
    },
    {
     "name": "stdout",
     "output_type": "stream",
     "text": [
      "Scraping Pole Studio Data from https://www.eversports.de/s/da-becca-flow-and-fit...\n",
      "Scraping Workshops Data from https://www.eversports.de/sw/da-becca-flow-and-fit...\n",
      "Scraping Workshop Details from https://www.eversports.de/e/workshop/2z_srY0...\n",
      "Scraping Workshop Details from https://www.eversports.de/e/workshop/o5_MV7J...\n",
      "Scraping Workshop Details from https://www.eversports.de/e/workshop/0u01Mza...\n",
      "Scraping Workshop Details from https://www.eversports.de/e/workshop/DBxar8u...\n",
      "Scraping Workshop Details from https://www.eversports.de/e/workshop/GlPG304...\n",
      "Scraping Workshop Details from https://www.eversports.de/e/workshop/wj20M8W...\n",
      "Scraping Workshop Details from https://www.eversports.de/e/workshop/113IYbR...\n",
      "Scraping Workshop Details from https://www.eversports.de/e/workshop/vyTj8JR...\n",
      "Scraping Workshop Details from https://www.eversports.de/e/workshop/GMeuKSV...\n",
      "Scraping Workshop Details from https://www.eversports.de/e/workshop/461op6s...\n",
      "Scraping Workshop Details from https://www.eversports.de/e/workshop/NrFmto0...\n",
      "Scraping Workshop Details from https://www.eversports.de/e/workshop/km4K7Yv...\n",
      "Scraping Workshop Details from https://www.eversports.de/e/workshop/B2Sz3mv...\n",
      "Scraping Workshop Details from https://www.eversports.de/e/workshop/HhyMbSA...\n",
      "Scraping Workshop Details from https://www.eversports.de/e/workshop/WBlAegH...\n"
     ]
    },
    {
     "name": "stderr",
     "output_type": "stream",
     "text": [
      "Processing URLs:   8%|▊         | 31/403 [02:09<1:14:30, 12.02s/it, Current URL: https://www.eversports.de/s/da-becca-flow-and-fit]      "
     ]
    },
    {
     "name": "stdout",
     "output_type": "stream",
     "text": [
      "Processing completed.\n",
      "Pole Studio Data: 1 entries\n",
      "Workshops Data: 15 entries\n",
      "Workshop Details: 15 entries\n",
      "Starting URL reconstruction...\n"
     ]
    },
    {
     "name": "stderr",
     "output_type": "stream",
     "text": [
      "Processing URLs:   8%|▊         | 32/403 [02:13<58:10,  9.41s/it, Current URL: https://www.eversports.de/s/k%c3%b6rperformfabrik-gbr]"
     ]
    },
    {
     "name": "stdout",
     "output_type": "stream",
     "text": [
      "Error during HTTP request: Exceeded 30 redirects.\n",
      "Converting to DataFrame...\n",
      "Validating URLs...\n",
      "Processing completed.\n",
      "Starting URL reconstruction...\n"
     ]
    },
    {
     "name": "stderr",
     "output_type": "stream",
     "text": [
      "2024-02-03 11:32:11,100 - INFO - Processing URL 1/4: https://www.eversports.de/s/polefit-aline-sustrath\n"
     ]
    },
    {
     "name": "stdout",
     "output_type": "stream",
     "text": [
      "Error reconstructing URL for 'Kurse': Unrecognized text: 'Kurse'\n",
      "Converting to DataFrame...\n",
      "Validating URLs...\n"
     ]
    },
    {
     "name": "stderr",
     "output_type": "stream",
     "text": [
      "2024-02-03 11:32:12,347 - INFO - URL https://www.eversports.de/s/polefit-aline-sustrath is valid.\n",
      "2024-02-03 11:32:12,348 - INFO - Processing URL 2/4: https://www.eversports.de/sw/polefit-aline-sustrath\n",
      "2024-02-03 11:32:13,450 - INFO - URL https://www.eversports.de/sw/polefit-aline-sustrath is valid.\n",
      "2024-02-03 11:32:13,451 - INFO - Processing URL 3/4: https://www.eversports.de/sp/polefit-aline-sustrath\n",
      "2024-02-03 11:32:14,663 - INFO - URL https://www.eversports.de/sp/polefit-aline-sustrath is valid.\n",
      "2024-02-03 11:32:14,664 - INFO - Processing URL 4/4: https://www.eversports.de/s/polefit-aline-sustrath/team\n",
      "2024-02-03 11:32:15,802 - INFO - URL https://www.eversports.de/s/polefit-aline-sustrath/team is valid.\n"
     ]
    },
    {
     "name": "stdout",
     "output_type": "stream",
     "text": [
      "Scraping Pole Studio Data from https://www.eversports.de/s/polefit-aline-sustrath...\n",
      "Scraping Workshops Data from https://www.eversports.de/sw/polefit-aline-sustrath...\n",
      "Scraping Workshop Details from https://www.eversports.de/e/workshop/F0nh2br...\n"
     ]
    },
    {
     "name": "stderr",
     "output_type": "stream",
     "text": [
      "Processing URLs:   8%|▊         | 33/403 [02:22<57:11,  9.28s/it, Current URL: https://www.eversports.de/s/polefit-aline-sustrath]   "
     ]
    },
    {
     "name": "stdout",
     "output_type": "stream",
     "text": [
      "Processing completed.\n",
      "Pole Studio Data: 1 entries\n",
      "Workshops Data: 1 entries\n",
      "Workshop Details: 1 entries\n",
      "Starting URL reconstruction...\n"
     ]
    },
    {
     "name": "stderr",
     "output_type": "stream",
     "text": [
      "Processing URLs:   8%|▊         | 34/403 [02:23<42:30,  6.91s/it, Current URL: https://www.eversports.de/s/monopole-dance]        "
     ]
    },
    {
     "name": "stdout",
     "output_type": "stream",
     "text": [
      "Error during HTTP request: 404 Client Error: Not Found for url: https://www.eversports.de/s/monopole-dance\n",
      "Converting to DataFrame...\n",
      "Validating URLs...\n",
      "Processing completed.\n",
      "Starting URL reconstruction...\n"
     ]
    },
    {
     "name": "stderr",
     "output_type": "stream",
     "text": [
      "Processing URLs:   9%|▊         | 35/403 [02:24<31:48,  5.19s/it, Current URL: https://www.eversports.de/s/pole-dance-trier]"
     ]
    },
    {
     "name": "stdout",
     "output_type": "stream",
     "text": [
      "Error during HTTP request: 404 Client Error: Not Found for url: https://www.eversports.de/s/pole-dance-trier\n",
      "Converting to DataFrame...\n",
      "Validating URLs...\n",
      "Processing completed.\n",
      "Starting URL reconstruction...\n"
     ]
    },
    {
     "name": "stderr",
     "output_type": "stream",
     "text": [
      "Processing URLs:   9%|▉         | 36/403 [02:25<24:21,  3.98s/it, Current URL: https://www.eversports.de/s/pole-studio-koblenz]"
     ]
    },
    {
     "name": "stdout",
     "output_type": "stream",
     "text": [
      "Error during HTTP request: 404 Client Error: Not Found for url: https://www.eversports.de/s/pole-studio-koblenz\n",
      "Converting to DataFrame...\n",
      "Validating URLs...\n",
      "Processing completed.\n",
      "Starting URL reconstruction...\n"
     ]
    },
    {
     "name": "stderr",
     "output_type": "stream",
     "text": [
      "Processing URLs:   9%|▉         | 37/403 [02:27<19:11,  3.15s/it, Current URL: https://www.eversports.de/s/zero-gravity-pole]  "
     ]
    },
    {
     "name": "stdout",
     "output_type": "stream",
     "text": [
      "Error during HTTP request: 404 Client Error: Not Found for url: https://www.eversports.de/s/zero-gravity-pole\n",
      "Converting to DataFrame...\n",
      "Validating URLs...\n",
      "Processing completed.\n",
      "Starting URL reconstruction...\n"
     ]
    },
    {
     "name": "stderr",
     "output_type": "stream",
     "text": [
      "Processing URLs:   9%|▉         | 38/403 [02:30<20:01,  3.29s/it, Current URL: https://www.eversports.de/s/lift-off-–-poledance-academy]"
     ]
    },
    {
     "name": "stdout",
     "output_type": "stream",
     "text": [
      "Error during HTTP request: Exceeded 30 redirects.\n",
      "Converting to DataFrame...\n",
      "Validating URLs...\n",
      "Processing completed.\n",
      "Starting URL reconstruction...\n"
     ]
    },
    {
     "name": "stderr",
     "output_type": "stream",
     "text": [
      "2024-02-03 11:32:28,736 - INFO - Processing URL 1/4: https://www.eversports.de/s/niyaha-yoga-susann-kind\n"
     ]
    },
    {
     "name": "stdout",
     "output_type": "stream",
     "text": [
      "Error reconstructing URL for 'Events': Unrecognized text: 'Events'\n",
      "Converting to DataFrame...\n",
      "Validating URLs...\n"
     ]
    },
    {
     "name": "stderr",
     "output_type": "stream",
     "text": [
      "2024-02-03 11:32:30,054 - INFO - URL https://www.eversports.de/s/niyaha-yoga-susann-kind is valid.\n",
      "2024-02-03 11:32:30,056 - INFO - Processing URL 2/4: https://www.eversports.de/sw/niyaha-yoga-susann-kind\n",
      "2024-02-03 11:32:31,884 - INFO - URL https://www.eversports.de/sw/niyaha-yoga-susann-kind is valid.\n",
      "2024-02-03 11:32:31,885 - INFO - Processing URL 3/4: https://www.eversports.de/sp/niyaha-yoga-susann-kind\n",
      "2024-02-03 11:32:33,016 - INFO - URL https://www.eversports.de/sp/niyaha-yoga-susann-kind is valid.\n",
      "2024-02-03 11:32:33,017 - INFO - Processing URL 4/4: https://www.eversports.de/s/niyaha-yoga-susann-kind/team\n",
      "2024-02-03 11:32:34,241 - INFO - URL https://www.eversports.de/s/niyaha-yoga-susann-kind/team is valid.\n"
     ]
    },
    {
     "name": "stdout",
     "output_type": "stream",
     "text": [
      "Scraping Pole Studio Data from https://www.eversports.de/s/niyaha-yoga-susann-kind...\n",
      "Scraping Workshops Data from https://www.eversports.de/sw/niyaha-yoga-susann-kind...\n",
      "Scraping Workshop Details from https://www.eversports.de/e/workshop/u0m4PpJ...\n",
      "Scraping Workshop Details from https://www.eversports.de/e/workshop/Qph3Nhi...\n",
      "Scraping Workshop Details from https://www.eversports.de/e/workshop/cnaEonv...\n",
      "Scraping Workshop Details from https://www.eversports.de/e/workshop/VVUAlSC...\n"
     ]
    },
    {
     "name": "stderr",
     "output_type": "stream",
     "text": [
      "Processing URLs:  10%|▉         | 39/403 [02:44<38:21,  6.32s/it, Current URL: https://www.eversports.de/s/niyaha-yoga-susann-kind]     "
     ]
    },
    {
     "name": "stdout",
     "output_type": "stream",
     "text": [
      "Processing completed.\n",
      "Pole Studio Data: 1 entries\n",
      "Workshops Data: 4 entries\n",
      "Workshop Details: 4 entries\n",
      "Starting URL reconstruction...\n"
     ]
    },
    {
     "name": "stderr",
     "output_type": "stream",
     "text": [
      "2024-02-03 11:32:42,073 - INFO - Processing URL 1/3: https://www.eversports.de/s/pole-for-soul-gbr\n"
     ]
    },
    {
     "name": "stdout",
     "output_type": "stream",
     "text": [
      "Converting to DataFrame...\n",
      "Validating URLs...\n"
     ]
    },
    {
     "name": "stderr",
     "output_type": "stream",
     "text": [
      "2024-02-03 11:32:43,438 - INFO - URL https://www.eversports.de/s/pole-for-soul-gbr is valid.\n",
      "2024-02-03 11:32:43,439 - INFO - Processing URL 2/3: https://www.eversports.de/sw/pole-for-soul-gbr\n",
      "2024-02-03 11:32:44,558 - INFO - URL https://www.eversports.de/sw/pole-for-soul-gbr is valid.\n",
      "2024-02-03 11:32:44,559 - INFO - Processing URL 3/3: https://www.eversports.de/s/pole-for-soul-gbr/team\n",
      "2024-02-03 11:32:45,773 - INFO - URL https://www.eversports.de/s/pole-for-soul-gbr/team is valid.\n"
     ]
    },
    {
     "name": "stdout",
     "output_type": "stream",
     "text": [
      "Scraping Pole Studio Data from https://www.eversports.de/s/pole-for-soul-gbr...\n",
      "Scraping Workshops Data from https://www.eversports.de/sw/pole-for-soul-gbr...\n",
      "Scraping Workshop Details from https://www.eversports.de/e/workshop/rnbGVfh...\n"
     ]
    },
    {
     "name": "stderr",
     "output_type": "stream",
     "text": [
      "Processing URLs:  10%|▉         | 40/403 [02:52<41:03,  6.79s/it, Current URL: https://www.eversports.de/s/pole-for-soul-gbr]      "
     ]
    },
    {
     "name": "stdout",
     "output_type": "stream",
     "text": [
      "Processing completed.\n",
      "Pole Studio Data: 1 entries\n",
      "Workshops Data: 1 entries\n",
      "Workshop Details: 1 entries\n",
      "Starting URL reconstruction...\n"
     ]
    },
    {
     "name": "stderr",
     "output_type": "stream",
     "text": [
      "2024-02-03 11:32:49,999 - INFO - Processing URL 1/4: https://www.eversports.de/s/pole-paradise\n"
     ]
    },
    {
     "name": "stdout",
     "output_type": "stream",
     "text": [
      "Converting to DataFrame...\n",
      "Validating URLs...\n"
     ]
    },
    {
     "name": "stderr",
     "output_type": "stream",
     "text": [
      "2024-02-03 11:32:51,340 - INFO - URL https://www.eversports.de/s/pole-paradise is valid.\n",
      "2024-02-03 11:32:51,341 - INFO - Processing URL 2/4: https://www.eversports.de/sw/pole-paradise\n",
      "2024-02-03 11:32:52,524 - INFO - URL https://www.eversports.de/sw/pole-paradise is valid.\n",
      "2024-02-03 11:32:52,525 - INFO - Processing URL 3/4: https://www.eversports.de/sp/pole-paradise\n",
      "2024-02-03 11:32:53,677 - INFO - URL https://www.eversports.de/sp/pole-paradise is valid.\n",
      "2024-02-03 11:32:53,678 - INFO - Processing URL 4/4: https://www.eversports.de/s/pole-paradise/team\n",
      "2024-02-03 11:32:54,902 - INFO - URL https://www.eversports.de/s/pole-paradise/team is valid.\n"
     ]
    },
    {
     "name": "stdout",
     "output_type": "stream",
     "text": [
      "Scraping Pole Studio Data from https://www.eversports.de/s/pole-paradise...\n",
      "Scraping Workshops Data from https://www.eversports.de/sw/pole-paradise...\n",
      "Scraping Workshop Details from https://www.eversports.de/e/workshop/1zI8wYx...\n",
      "Scraping Workshop Details from https://www.eversports.de/e/workshop/NLk1782...\n"
     ]
    },
    {
     "name": "stderr",
     "output_type": "stream",
     "text": [
      "Processing URLs:  10%|█         | 41/403 [03:02<47:43,  7.91s/it, Current URL: https://www.eversports.de/s/pole-paradise]    "
     ]
    },
    {
     "name": "stdout",
     "output_type": "stream",
     "text": [
      "Processing completed.\n",
      "Pole Studio Data: 1 entries\n",
      "Workshops Data: 2 entries\n",
      "Workshop Details: 2 entries\n",
      "Starting URL reconstruction...\n"
     ]
    },
    {
     "name": "stderr",
     "output_type": "stream",
     "text": [
      "Processing URLs:  10%|█         | 42/403 [03:04<36:07,  6.01s/it, Current URL: https://www.eversports.de/s/dance-department]"
     ]
    },
    {
     "name": "stdout",
     "output_type": "stream",
     "text": [
      "Error during HTTP request: 404 Client Error: Not Found for url: https://www.eversports.de/s/dance-department\n",
      "Converting to DataFrame...\n",
      "Validating URLs...\n",
      "Processing completed.\n",
      "Starting URL reconstruction...\n"
     ]
    },
    {
     "name": "stderr",
     "output_type": "stream",
     "text": [
      "2024-02-03 11:33:01,945 - INFO - Processing URL 1/1: https://www.eversports.de/s/poledance-area\n"
     ]
    },
    {
     "name": "stdout",
     "output_type": "stream",
     "text": [
      "Converting to DataFrame...\n",
      "Validating URLs...\n"
     ]
    },
    {
     "name": "stderr",
     "output_type": "stream",
     "text": [
      "2024-02-03 11:33:03,194 - INFO - URL https://www.eversports.de/s/poledance-area is valid.\n"
     ]
    },
    {
     "name": "stdout",
     "output_type": "stream",
     "text": [
      "Scraping Pole Studio Data from https://www.eversports.de/s/poledance-area...\n"
     ]
    },
    {
     "name": "stderr",
     "output_type": "stream",
     "text": [
      "Processing URLs:  11%|█         | 43/403 [03:06<30:13,  5.04s/it, Current URL: https://www.eversports.de/s/poledance-area]  "
     ]
    },
    {
     "name": "stdout",
     "output_type": "stream",
     "text": [
      "Processing completed.\n",
      "Pole Studio Data: 1 entries\n",
      "Starting URL reconstruction...\n"
     ]
    },
    {
     "name": "stderr",
     "output_type": "stream",
     "text": [
      "2024-02-03 11:33:04,773 - INFO - Processing URL 1/1: https://www.eversports.de/s/lush-motion\n"
     ]
    },
    {
     "name": "stdout",
     "output_type": "stream",
     "text": [
      "Converting to DataFrame...\n",
      "Validating URLs...\n"
     ]
    },
    {
     "name": "stderr",
     "output_type": "stream",
     "text": [
      "2024-02-03 11:33:05,988 - INFO - URL https://www.eversports.de/s/lush-motion is valid.\n"
     ]
    },
    {
     "name": "stdout",
     "output_type": "stream",
     "text": [
      "Scraping Pole Studio Data from https://www.eversports.de/s/lush-motion...\n"
     ]
    },
    {
     "name": "stderr",
     "output_type": "stream",
     "text": [
      "Processing URLs:  11%|█         | 44/403 [03:09<26:09,  4.37s/it, Current URL: https://www.eversports.de/s/lush-motion]   "
     ]
    },
    {
     "name": "stdout",
     "output_type": "stream",
     "text": [
      "Processing completed.\n",
      "Pole Studio Data: 1 entries\n",
      "Starting URL reconstruction...\n"
     ]
    },
    {
     "name": "stderr",
     "output_type": "stream",
     "text": [
      "2024-02-03 11:33:07,682 - INFO - Processing URL 1/4: https://www.eversports.de/s/royal-pole\n"
     ]
    },
    {
     "name": "stdout",
     "output_type": "stream",
     "text": [
      "Error reconstructing URL for 'Freie Trainings': Unrecognized text: 'Freie Trainings'\n",
      "Converting to DataFrame...\n",
      "Validating URLs...\n"
     ]
    },
    {
     "name": "stderr",
     "output_type": "stream",
     "text": [
      "2024-02-03 11:33:09,575 - INFO - URL https://www.eversports.de/s/royal-pole is valid.\n",
      "2024-02-03 11:33:09,576 - INFO - Processing URL 2/4: https://www.eversports.de/sw/royal-pole\n",
      "2024-02-03 11:33:10,718 - INFO - URL https://www.eversports.de/sw/royal-pole is not valid.\n",
      "2024-02-03 11:33:10,719 - INFO - Processing URL 3/4: https://www.eversports.de/sp/royal-pole\n",
      "2024-02-03 11:33:11,846 - INFO - URL https://www.eversports.de/sp/royal-pole is not valid.\n",
      "2024-02-03 11:33:11,847 - INFO - Processing URL 4/4: https://www.eversports.de/s/royal-pole/team\n",
      "2024-02-03 11:33:13,467 - INFO - URL https://www.eversports.de/s/royal-pole/team is valid.\n"
     ]
    },
    {
     "name": "stdout",
     "output_type": "stream",
     "text": [
      "Scraping Pole Studio Data from https://www.eversports.de/s/royal-pole...\n"
     ]
    },
    {
     "name": "stderr",
     "output_type": "stream",
     "text": [
      "Processing URLs:  11%|█         | 45/403 [03:17<31:58,  5.36s/it, Current URL: https://www.eversports.de/s/royal-pole] "
     ]
    },
    {
     "name": "stdout",
     "output_type": "stream",
     "text": [
      "Processing completed.\n",
      "Pole Studio Data: 1 entries\n",
      "Starting URL reconstruction...\n"
     ]
    },
    {
     "name": "stderr",
     "output_type": "stream",
     "text": [
      "2024-02-03 11:33:15,216 - INFO - Processing URL 1/1: https://www.eversports.de/s/a-heart-for-poledance\n"
     ]
    },
    {
     "name": "stdout",
     "output_type": "stream",
     "text": [
      "Converting to DataFrame...\n",
      "Validating URLs...\n"
     ]
    },
    {
     "name": "stderr",
     "output_type": "stream",
     "text": [
      "2024-02-03 11:33:17,111 - INFO - URL https://www.eversports.de/s/a-heart-for-poledance is valid.\n"
     ]
    },
    {
     "name": "stdout",
     "output_type": "stream",
     "text": [
      "Scraping Pole Studio Data from https://www.eversports.de/s/a-heart-for-poledance...\n"
     ]
    },
    {
     "name": "stderr",
     "output_type": "stream",
     "text": [
      "Processing URLs:  11%|█▏        | 46/403 [03:20<28:30,  4.79s/it, Current URL: https://www.eversports.de/s/a-heart-for-poledance]"
     ]
    },
    {
     "name": "stdout",
     "output_type": "stream",
     "text": [
      "Processing completed.\n",
      "Pole Studio Data: 1 entries\n",
      "Starting URL reconstruction...\n"
     ]
    },
    {
     "name": "stderr",
     "output_type": "stream",
     "text": [
      "Processing URLs:  12%|█▏        | 47/403 [03:21<21:50,  3.68s/it, Current URL: https://www.eversports.de/s/poledance-zwickau-e.-v.]"
     ]
    },
    {
     "name": "stdout",
     "output_type": "stream",
     "text": [
      "Error during HTTP request: 404 Client Error: Not Found for url: https://www.eversports.de/s/poledance-zwickau-e.-v.\n",
      "Converting to DataFrame...\n",
      "Validating URLs...\n",
      "Processing completed.\n",
      "Starting URL reconstruction...\n"
     ]
    },
    {
     "name": "stderr",
     "output_type": "stream",
     "text": [
      "2024-02-03 11:33:19,886 - INFO - Processing URL 1/4: https://www.eversports.de/s/dayuma-pole-and-acrobatics\n"
     ]
    },
    {
     "name": "stdout",
     "output_type": "stream",
     "text": [
      "Converting to DataFrame...\n",
      "Validating URLs...\n"
     ]
    },
    {
     "name": "stderr",
     "output_type": "stream",
     "text": [
      "2024-02-03 11:33:21,182 - INFO - URL https://www.eversports.de/s/dayuma-pole-and-acrobatics is valid.\n",
      "2024-02-03 11:33:21,184 - INFO - Processing URL 2/4: https://www.eversports.de/sw/dayuma-pole-and-acrobatics\n",
      "2024-02-03 11:33:22,302 - INFO - URL https://www.eversports.de/sw/dayuma-pole-and-acrobatics is not valid.\n",
      "2024-02-03 11:33:22,304 - INFO - Processing URL 3/4: https://www.eversports.de/sp/dayuma-pole-and-acrobatics\n",
      "2024-02-03 11:33:23,522 - INFO - URL https://www.eversports.de/sp/dayuma-pole-and-acrobatics is not valid.\n",
      "2024-02-03 11:33:23,523 - INFO - Processing URL 4/4: https://www.eversports.de/s/dayuma-pole-and-acrobatics/team\n",
      "2024-02-03 11:33:24,682 - INFO - URL https://www.eversports.de/s/dayuma-pole-and-acrobatics/team is valid.\n"
     ]
    },
    {
     "name": "stdout",
     "output_type": "stream",
     "text": [
      "Scraping Pole Studio Data from https://www.eversports.de/s/dayuma-pole-and-acrobatics...\n"
     ]
    },
    {
     "name": "stderr",
     "output_type": "stream",
     "text": [
      "Processing URLs:  12%|█▏        | 48/403 [03:28<27:04,  4.58s/it, Current URL: https://www.eversports.de/s/dayuma-pole-and-acrobatics]"
     ]
    },
    {
     "name": "stdout",
     "output_type": "stream",
     "text": [
      "Processing completed.\n",
      "Pole Studio Data: 1 entries\n",
      "Starting URL reconstruction...\n"
     ]
    },
    {
     "name": "stderr",
     "output_type": "stream",
     "text": [
      "2024-02-03 11:33:26,633 - INFO - Processing URL 1/1: https://www.eversports.de/s/pole-circus\n"
     ]
    },
    {
     "name": "stdout",
     "output_type": "stream",
     "text": [
      "Converting to DataFrame...\n",
      "Validating URLs...\n"
     ]
    },
    {
     "name": "stderr",
     "output_type": "stream",
     "text": [
      "2024-02-03 11:33:27,899 - INFO - URL https://www.eversports.de/s/pole-circus is valid.\n"
     ]
    },
    {
     "name": "stdout",
     "output_type": "stream",
     "text": [
      "Scraping Pole Studio Data from https://www.eversports.de/s/pole-circus...\n"
     ]
    },
    {
     "name": "stderr",
     "output_type": "stream",
     "text": [
      "Processing URLs:  12%|█▏        | 49/403 [03:32<25:16,  4.28s/it, Current URL: https://www.eversports.de/s/pole-circus]               "
     ]
    },
    {
     "name": "stdout",
     "output_type": "stream",
     "text": [
      "Processing completed.\n",
      "Pole Studio Data: 1 entries\n",
      "Starting URL reconstruction...\n"
     ]
    },
    {
     "name": "stderr",
     "output_type": "stream",
     "text": [
      "2024-02-03 11:33:30,149 - INFO - Processing URL 1/3: https://www.eversports.de/s/aerial-circus\n"
     ]
    },
    {
     "name": "stdout",
     "output_type": "stream",
     "text": [
      "Converting to DataFrame...\n",
      "Validating URLs...\n"
     ]
    },
    {
     "name": "stderr",
     "output_type": "stream",
     "text": [
      "2024-02-03 11:33:33,758 - INFO - URL https://www.eversports.de/s/aerial-circus is valid.\n",
      "2024-02-03 11:33:33,759 - INFO - Processing URL 2/3: https://www.eversports.de/sp/aerial-circus\n",
      "2024-02-03 11:33:35,075 - INFO - URL https://www.eversports.de/sp/aerial-circus is valid.\n",
      "2024-02-03 11:33:35,076 - INFO - Processing URL 3/3: https://www.eversports.de/s/aerial-circus/team\n",
      "2024-02-03 11:33:36,453 - INFO - URL https://www.eversports.de/s/aerial-circus/team is valid.\n"
     ]
    },
    {
     "name": "stdout",
     "output_type": "stream",
     "text": [
      "Scraping Pole Studio Data from https://www.eversports.de/s/aerial-circus...\n"
     ]
    },
    {
     "name": "stderr",
     "output_type": "stream",
     "text": [
      "Processing URLs:  12%|█▏        | 50/403 [03:40<32:00,  5.44s/it, Current URL: https://www.eversports.de/s/aerial-circus]"
     ]
    },
    {
     "name": "stdout",
     "output_type": "stream",
     "text": [
      "Processing completed.\n",
      "Pole Studio Data: 1 entries\n",
      "Starting URL reconstruction...\n"
     ]
    },
    {
     "name": "stderr",
     "output_type": "stream",
     "text": [
      "Processing URLs:  13%|█▎        | 51/403 [03:41<24:32,  4.18s/it, Current URL: https://www.eversports.de/s/move-with-ana]"
     ]
    },
    {
     "name": "stdout",
     "output_type": "stream",
     "text": [
      "Error during HTTP request: 404 Client Error: Not Found for url: https://www.eversports.de/s/move-with-ana\n",
      "Converting to DataFrame...\n",
      "Validating URLs...\n",
      "Processing completed.\n",
      "Starting URL reconstruction...\n"
     ]
    },
    {
     "name": "stderr",
     "output_type": "stream",
     "text": [
      "Processing URLs:  13%|█▎        | 52/403 [03:42<18:58,  3.24s/it, Current URL: https://www.eversports.de/s/annaconda-pole-&-fitness]"
     ]
    },
    {
     "name": "stdout",
     "output_type": "stream",
     "text": [
      "Error during HTTP request: 404 Client Error: Not Found for url: https://www.eversports.de/s/annaconda-pole-&-fitness\n",
      "Converting to DataFrame...\n",
      "Validating URLs...\n",
      "Processing completed.\n",
      "Starting URL reconstruction...\n"
     ]
    },
    {
     "name": "stderr",
     "output_type": "stream",
     "text": [
      "Processing URLs:  13%|█▎        | 53/403 [03:43<15:11,  2.61s/it, Current URL: https://www.eversports.de/s/poleroom]                "
     ]
    },
    {
     "name": "stdout",
     "output_type": "stream",
     "text": [
      "Error during HTTP request: 404 Client Error: Not Found for url: https://www.eversports.de/s/poleroom\n",
      "Converting to DataFrame...\n",
      "Validating URLs...\n",
      "Processing completed.\n",
      "Starting URL reconstruction...\n"
     ]
    },
    {
     "name": "stderr",
     "output_type": "stream",
     "text": [
      "2024-02-03 11:33:42,098 - INFO - Processing URL 1/4: https://www.eversports.de/s/tsg-blau-gold-giessen-ev\n"
     ]
    },
    {
     "name": "stdout",
     "output_type": "stream",
     "text": [
      "Converting to DataFrame...\n",
      "Validating URLs...\n"
     ]
    },
    {
     "name": "stderr",
     "output_type": "stream",
     "text": [
      "2024-02-03 11:33:46,829 - INFO - URL https://www.eversports.de/s/tsg-blau-gold-giessen-ev is valid.\n",
      "2024-02-03 11:33:46,829 - INFO - Processing URL 2/4: https://www.eversports.de/sw/tsg-blau-gold-giessen-ev\n",
      "2024-02-03 11:33:48,115 - INFO - URL https://www.eversports.de/sw/tsg-blau-gold-giessen-ev is valid.\n",
      "2024-02-03 11:33:48,116 - INFO - Processing URL 3/4: https://www.eversports.de/sp/tsg-blau-gold-giessen-ev\n",
      "2024-02-03 11:33:49,393 - INFO - URL https://www.eversports.de/sp/tsg-blau-gold-giessen-ev is valid.\n",
      "2024-02-03 11:33:49,394 - INFO - Processing URL 4/4: https://www.eversports.de/s/tsg-blau-gold-giessen-ev/team\n",
      "2024-02-03 11:33:51,380 - INFO - URL https://www.eversports.de/s/tsg-blau-gold-giessen-ev/team is valid.\n"
     ]
    },
    {
     "name": "stdout",
     "output_type": "stream",
     "text": [
      "Scraping Pole Studio Data from https://www.eversports.de/s/tsg-blau-gold-giessen-ev...\n",
      "Scraping Workshops Data from https://www.eversports.de/sw/tsg-blau-gold-giessen-ev...\n",
      "Scraping Workshop Details from https://www.eversports.de/e/workshop/Yv4ZcEK...\n",
      "Scraping Workshop Details from https://www.eversports.de/e/workshop/1LJamzo...\n",
      "Scraping Workshop Details from https://www.eversports.de/e/workshop/tFkZ7tt...\n",
      "Scraping Workshop Details from https://www.eversports.de/e/workshop/kTY0ERN...\n"
     ]
    },
    {
     "name": "stderr",
     "output_type": "stream",
     "text": [
      "Processing URLs:  13%|█▎        | 54/403 [04:02<44:09,  7.59s/it, Current URL: https://www.eversports.de/s/tsg-blau-gold-giessen-ev]"
     ]
    },
    {
     "name": "stdout",
     "output_type": "stream",
     "text": [
      "Processing completed.\n",
      "Pole Studio Data: 1 entries\n",
      "Workshops Data: 4 entries\n",
      "Workshop Details: 4 entries\n",
      "Starting URL reconstruction...\n"
     ]
    },
    {
     "name": "stderr",
     "output_type": "stream",
     "text": [
      "Processing URLs:  14%|█▎        | 55/403 [04:04<32:55,  5.68s/it, Current URL: https://www.eversports.de/s/sky-move-pole-sport]     "
     ]
    },
    {
     "name": "stdout",
     "output_type": "stream",
     "text": [
      "Error during HTTP request: 404 Client Error: Not Found for url: https://www.eversports.de/s/sky-move-pole-sport\n",
      "Converting to DataFrame...\n",
      "Validating URLs...\n",
      "Processing completed.\n",
      "Starting URL reconstruction...\n"
     ]
    },
    {
     "name": "stderr",
     "output_type": "stream",
     "text": [
      "Processing URLs:  14%|█▍        | 56/403 [04:05<25:03,  4.33s/it, Current URL: https://www.eversports.de/s/tsg-blau-gold-ballett-und-pole-dance-studio]"
     ]
    },
    {
     "name": "stdout",
     "output_type": "stream",
     "text": [
      "Error during HTTP request: 404 Client Error: Not Found for url: https://www.eversports.de/s/tsg-blau-gold-ballett-und-pole-dance-studio\n",
      "Converting to DataFrame...\n",
      "Validating URLs...\n",
      "Processing completed.\n",
      "Starting URL reconstruction...\n"
     ]
    },
    {
     "name": "stderr",
     "output_type": "stream",
     "text": [
      "2024-02-03 11:34:03,336 - INFO - Processing URL 1/3: https://www.eversports.de/s/pole-statement\n"
     ]
    },
    {
     "name": "stdout",
     "output_type": "stream",
     "text": [
      "Error reconstructing URL for 'Kurse': Unrecognized text: 'Kurse'\n",
      "Error reconstructing URL for 'Events': Unrecognized text: 'Events'\n",
      "Converting to DataFrame...\n",
      "Validating URLs...\n"
     ]
    },
    {
     "name": "stderr",
     "output_type": "stream",
     "text": [
      "2024-02-03 11:34:05,797 - INFO - URL https://www.eversports.de/s/pole-statement is valid.\n",
      "2024-02-03 11:34:05,798 - INFO - Processing URL 2/3: https://www.eversports.de/sp/pole-statement\n",
      "2024-02-03 11:34:07,024 - INFO - URL https://www.eversports.de/sp/pole-statement is valid.\n",
      "2024-02-03 11:34:07,026 - INFO - Processing URL 3/3: https://www.eversports.de/s/pole-statement/team\n",
      "2024-02-03 11:34:08,230 - INFO - URL https://www.eversports.de/s/pole-statement/team is valid.\n"
     ]
    },
    {
     "name": "stdout",
     "output_type": "stream",
     "text": [
      "Scraping Pole Studio Data from https://www.eversports.de/s/pole-statement...\n"
     ]
    },
    {
     "name": "stderr",
     "output_type": "stream",
     "text": [
      "Processing URLs:  14%|█▍        | 57/403 [04:12<29:01,  5.03s/it, Current URL: https://www.eversports.de/s/pole-statement]                             "
     ]
    },
    {
     "name": "stdout",
     "output_type": "stream",
     "text": [
      "Processing completed.\n",
      "Pole Studio Data: 1 entries\n",
      "Starting URL reconstruction...\n"
     ]
    },
    {
     "name": "stderr",
     "output_type": "stream",
     "text": [
      "Processing URLs:  14%|█▍        | 58/403 [04:13<22:20,  3.89s/it, Current URL: https://www.eversports.de/s/divas-dance-studio]"
     ]
    },
    {
     "name": "stdout",
     "output_type": "stream",
     "text": [
      "Error during HTTP request: 404 Client Error: Not Found for url: https://www.eversports.de/s/divas-dance-studio\n",
      "Converting to DataFrame...\n",
      "Validating URLs...\n",
      "Processing completed.\n",
      "Starting URL reconstruction...\n"
     ]
    },
    {
     "name": "stderr",
     "output_type": "stream",
     "text": [
      "Processing URLs:  15%|█▍        | 59/403 [04:14<17:40,  3.08s/it, Current URL: https://www.eversports.de/s/pole.physio-eppelheim]"
     ]
    },
    {
     "name": "stdout",
     "output_type": "stream",
     "text": [
      "Error during HTTP request: 404 Client Error: Not Found for url: https://www.eversports.de/s/pole.physio-eppelheim\n",
      "Converting to DataFrame...\n",
      "Validating URLs...\n",
      "Processing completed.\n",
      "Starting URL reconstruction...\n"
     ]
    },
    {
     "name": "stderr",
     "output_type": "stream",
     "text": [
      "Processing URLs:  15%|█▍        | 60/403 [04:15<14:18,  2.50s/it, Current URL: https://www.eversports.de/s/unique-studios-schweinfurt]"
     ]
    },
    {
     "name": "stdout",
     "output_type": "stream",
     "text": [
      "Error during HTTP request: 404 Client Error: Not Found for url: https://www.eversports.de/s/unique-studios-schweinfurt\n",
      "Converting to DataFrame...\n",
      "Validating URLs...\n",
      "Processing completed.\n",
      "Starting URL reconstruction...\n"
     ]
    },
    {
     "name": "stderr",
     "output_type": "stream",
     "text": [
      "2024-02-03 11:34:13,528 - INFO - Processing URL 1/4: https://www.eversports.de/s/flexx-arts-aerial-dance-and-fitness\n"
     ]
    },
    {
     "name": "stdout",
     "output_type": "stream",
     "text": [
      "Error reconstructing URL for 'Kurse': Unrecognized text: 'Kurse'\n",
      "Converting to DataFrame...\n",
      "Validating URLs...\n"
     ]
    },
    {
     "name": "stderr",
     "output_type": "stream",
     "text": [
      "2024-02-03 11:34:15,100 - INFO - URL https://www.eversports.de/s/flexx-arts-aerial-dance-and-fitness is valid.\n",
      "2024-02-03 11:34:15,100 - INFO - Processing URL 2/4: https://www.eversports.de/sw/flexx-arts-aerial-dance-and-fitness\n",
      "2024-02-03 11:34:16,279 - INFO - URL https://www.eversports.de/sw/flexx-arts-aerial-dance-and-fitness is valid.\n",
      "2024-02-03 11:34:16,280 - INFO - Processing URL 3/4: https://www.eversports.de/sp/flexx-arts-aerial-dance-and-fitness\n",
      "2024-02-03 11:34:17,592 - INFO - URL https://www.eversports.de/sp/flexx-arts-aerial-dance-and-fitness is valid.\n",
      "2024-02-03 11:34:17,593 - INFO - Processing URL 4/4: https://www.eversports.de/s/flexx-arts-aerial-dance-and-fitness/team\n",
      "2024-02-03 11:34:18,779 - INFO - URL https://www.eversports.de/s/flexx-arts-aerial-dance-and-fitness/team is valid.\n"
     ]
    },
    {
     "name": "stdout",
     "output_type": "stream",
     "text": [
      "Scraping Pole Studio Data from https://www.eversports.de/s/flexx-arts-aerial-dance-and-fitness...\n",
      "Scraping Workshops Data from https://www.eversports.de/sw/flexx-arts-aerial-dance-and-fitness...\n",
      "Scraping Workshop Details from https://www.eversports.de/e/workshop/_EBraSK...\n"
     ]
    },
    {
     "name": "stderr",
     "output_type": "stream",
     "text": [
      "Processing URLs:  15%|█▌        | 61/403 [04:25<26:01,  4.56s/it, Current URL: https://www.eversports.de/s/flexx-arts-aerial-dance-and-fitness]"
     ]
    },
    {
     "name": "stdout",
     "output_type": "stream",
     "text": [
      "Processing completed.\n",
      "Pole Studio Data: 1 entries\n",
      "Workshops Data: 1 entries\n",
      "Workshop Details: 1 entries\n",
      "Starting URL reconstruction...\n"
     ]
    },
    {
     "name": "stderr",
     "output_type": "stream",
     "text": [
      "Processing URLs:  15%|█▌        | 62/403 [04:27<21:47,  3.83s/it, Current URL: https://www.eversports.de/s/pole2dance-vertical-fitness-and-dance-company]"
     ]
    },
    {
     "name": "stdout",
     "output_type": "stream",
     "text": [
      "Error during HTTP request: 404 Client Error: Not Found for url: https://www.eversports.de/s/pole2dance-vertical-fitness-and-dance-company\n",
      "Converting to DataFrame...\n",
      "Validating URLs...\n",
      "Processing completed.\n",
      "Starting URL reconstruction...\n"
     ]
    },
    {
     "name": "stderr",
     "output_type": "stream",
     "text": [
      "2024-02-03 11:34:25,115 - INFO - Processing URL 1/3: https://www.eversports.de/s/pole-loft\n"
     ]
    },
    {
     "name": "stdout",
     "output_type": "stream",
     "text": [
      "Converting to DataFrame...\n",
      "Validating URLs...\n"
     ]
    },
    {
     "name": "stderr",
     "output_type": "stream",
     "text": [
      "2024-02-03 11:34:26,407 - INFO - URL https://www.eversports.de/s/pole-loft is valid.\n",
      "2024-02-03 11:34:26,408 - INFO - Processing URL 2/3: https://www.eversports.de/sp/pole-loft\n",
      "2024-02-03 11:34:27,708 - INFO - URL https://www.eversports.de/sp/pole-loft is valid.\n",
      "2024-02-03 11:34:27,709 - INFO - Processing URL 3/3: https://www.eversports.de/s/pole-loft/team\n",
      "2024-02-03 11:34:28,900 - INFO - URL https://www.eversports.de/s/pole-loft/team is valid.\n"
     ]
    },
    {
     "name": "stdout",
     "output_type": "stream",
     "text": [
      "Scraping Pole Studio Data from https://www.eversports.de/s/pole-loft...\n"
     ]
    },
    {
     "name": "stderr",
     "output_type": "stream",
     "text": [
      "Processing URLs:  16%|█▌        | 63/403 [04:32<24:42,  4.36s/it, Current URL: https://www.eversports.de/s/pole-loft]                                    "
     ]
    },
    {
     "name": "stdout",
     "output_type": "stream",
     "text": [
      "Processing completed.\n",
      "Pole Studio Data: 1 entries\n",
      "Starting URL reconstruction...\n"
     ]
    },
    {
     "name": "stderr",
     "output_type": "stream",
     "text": [
      "2024-02-03 11:34:30,597 - INFO - Processing URL 1/4: https://www.eversports.de/s/ramonas-tanzschmiede\n"
     ]
    },
    {
     "name": "stdout",
     "output_type": "stream",
     "text": [
      "Converting to DataFrame...\n",
      "Validating URLs...\n"
     ]
    },
    {
     "name": "stderr",
     "output_type": "stream",
     "text": [
      "2024-02-03 11:34:31,897 - INFO - URL https://www.eversports.de/s/ramonas-tanzschmiede is valid.\n",
      "2024-02-03 11:34:31,898 - INFO - Processing URL 2/4: https://www.eversports.de/sw/ramonas-tanzschmiede\n",
      "2024-02-03 11:34:33,112 - INFO - URL https://www.eversports.de/sw/ramonas-tanzschmiede is valid.\n",
      "2024-02-03 11:34:33,112 - INFO - Processing URL 3/4: https://www.eversports.de/sp/ramonas-tanzschmiede\n",
      "2024-02-03 11:34:34,266 - INFO - URL https://www.eversports.de/sp/ramonas-tanzschmiede is valid.\n",
      "2024-02-03 11:34:34,267 - INFO - Processing URL 4/4: https://www.eversports.de/s/ramonas-tanzschmiede/team\n",
      "2024-02-03 11:34:35,472 - INFO - URL https://www.eversports.de/s/ramonas-tanzschmiede/team is valid.\n"
     ]
    },
    {
     "name": "stdout",
     "output_type": "stream",
     "text": [
      "Scraping Pole Studio Data from https://www.eversports.de/s/ramonas-tanzschmiede...\n",
      "Scraping Workshops Data from https://www.eversports.de/sw/ramonas-tanzschmiede...\n",
      "Scraping Workshop Details from https://www.eversports.de/e/workshop/qpLF3tB...\n",
      "Scraping Workshop Details from https://www.eversports.de/e/workshop/NUbP_o2...\n",
      "Scraping Workshop Details from https://www.eversports.de/e/workshop/h6T780l...\n",
      "Scraping Workshop Details from https://www.eversports.de/e/workshop/HZmJGaW...\n"
     ]
    },
    {
     "name": "stderr",
     "output_type": "stream",
     "text": [
      "Processing URLs:  16%|█▌        | 64/403 [04:52<50:03,  8.86s/it, Current URL: https://www.eversports.de/s/ramonas-tanzschmiede]"
     ]
    },
    {
     "name": "stdout",
     "output_type": "stream",
     "text": [
      "Processing completed.\n",
      "Pole Studio Data: 1 entries\n",
      "Workshops Data: 4 entries\n",
      "Workshop Details: 4 entries\n",
      "Starting URL reconstruction...\n"
     ]
    },
    {
     "name": "stderr",
     "output_type": "stream",
     "text": [
      "2024-02-03 11:34:49,952 - INFO - Processing URL 1/4: https://www.eversports.de/s/t-tanzstueck-wolfsburg\n"
     ]
    },
    {
     "name": "stdout",
     "output_type": "stream",
     "text": [
      "Error reconstructing URL for 'Kurse': Unrecognized text: 'Kurse'\n",
      "Converting to DataFrame...\n",
      "Validating URLs...\n"
     ]
    },
    {
     "name": "stderr",
     "output_type": "stream",
     "text": [
      "2024-02-03 11:34:52,027 - INFO - URL https://www.eversports.de/s/t-tanzstueck-wolfsburg is valid.\n",
      "2024-02-03 11:34:52,028 - INFO - Processing URL 2/4: https://www.eversports.de/sw/t-tanzstueck-wolfsburg\n",
      "2024-02-03 11:34:53,241 - INFO - URL https://www.eversports.de/sw/t-tanzstueck-wolfsburg is valid.\n",
      "2024-02-03 11:34:53,242 - INFO - Processing URL 3/4: https://www.eversports.de/sp/t-tanzstueck-wolfsburg\n",
      "2024-02-03 11:34:54,427 - INFO - URL https://www.eversports.de/sp/t-tanzstueck-wolfsburg is valid.\n",
      "2024-02-03 11:34:54,428 - INFO - Processing URL 4/4: https://www.eversports.de/s/t-tanzstueck-wolfsburg/team\n",
      "2024-02-03 11:34:55,675 - INFO - URL https://www.eversports.de/s/t-tanzstueck-wolfsburg/team is valid.\n"
     ]
    },
    {
     "name": "stdout",
     "output_type": "stream",
     "text": [
      "Scraping Pole Studio Data from https://www.eversports.de/s/t-tanzstueck-wolfsburg...\n",
      "Scraping Workshops Data from https://www.eversports.de/sw/t-tanzstueck-wolfsburg...\n",
      "Scraping Workshop Details from https://www.eversports.de/e/workshop/jg7fLUb...\n"
     ]
    },
    {
     "name": "stderr",
     "output_type": "stream",
     "text": [
      "Processing URLs:  16%|█▌        | 65/403 [05:01<51:32,  9.15s/it, Current URL: https://www.eversports.de/s/t-tanzstueck-wolfsburg]"
     ]
    },
    {
     "name": "stdout",
     "output_type": "stream",
     "text": [
      "Processing completed.\n",
      "Pole Studio Data: 1 entries\n",
      "Workshops Data: 1 entries\n",
      "Workshop Details: 1 entries\n",
      "Starting URL reconstruction...\n"
     ]
    },
    {
     "name": "stderr",
     "output_type": "stream",
     "text": [
      "Processing URLs:  16%|█▋        | 66/403 [05:03<37:57,  6.76s/it, Current URL: https://www.eversports.de/s/passionate-pole-%26-sports]"
     ]
    },
    {
     "name": "stdout",
     "output_type": "stream",
     "text": [
      "Error during HTTP request: 404 Client Error: Not Found for url: https://www.eversports.de/s/passionate-pole-%26-sports\n",
      "Converting to DataFrame...\n",
      "Validating URLs...\n",
      "Processing completed.\n",
      "Starting URL reconstruction...\n"
     ]
    },
    {
     "name": "stderr",
     "output_type": "stream",
     "text": [
      "2024-02-03 11:35:01,420 - INFO - Processing URL 1/1: https://www.eversports.de/s/freaky-fitness\n"
     ]
    },
    {
     "name": "stdout",
     "output_type": "stream",
     "text": [
      "Converting to DataFrame...\n",
      "Validating URLs...\n"
     ]
    },
    {
     "name": "stderr",
     "output_type": "stream",
     "text": [
      "2024-02-03 11:35:02,826 - INFO - URL https://www.eversports.de/s/freaky-fitness is valid.\n"
     ]
    },
    {
     "name": "stdout",
     "output_type": "stream",
     "text": [
      "Scraping Pole Studio Data from https://www.eversports.de/s/freaky-fitness...\n"
     ]
    },
    {
     "name": "stderr",
     "output_type": "stream",
     "text": [
      "Processing URLs:  17%|█▋        | 67/403 [05:07<33:38,  6.01s/it, Current URL: https://www.eversports.de/s/freaky-fitness]            "
     ]
    },
    {
     "name": "stdout",
     "output_type": "stream",
     "text": [
      "Processing completed.\n",
      "Pole Studio Data: 1 entries\n",
      "Starting URL reconstruction...\n"
     ]
    },
    {
     "name": "stderr",
     "output_type": "stream",
     "text": [
      "2024-02-03 11:35:05,083 - INFO - Processing URL 1/1: https://www.eversports.de/s/sweatndance\n"
     ]
    },
    {
     "name": "stdout",
     "output_type": "stream",
     "text": [
      "Converting to DataFrame...\n",
      "Validating URLs...\n"
     ]
    },
    {
     "name": "stderr",
     "output_type": "stream",
     "text": [
      "2024-02-03 11:35:06,348 - INFO - URL https://www.eversports.de/s/sweatndance is valid.\n"
     ]
    },
    {
     "name": "stdout",
     "output_type": "stream",
     "text": [
      "Scraping Pole Studio Data from https://www.eversports.de/s/sweatndance...\n"
     ]
    },
    {
     "name": "stderr",
     "output_type": "stream",
     "text": [
      "Processing URLs:  17%|█▋        | 68/403 [05:10<28:29,  5.10s/it, Current URL: https://www.eversports.de/s/sweatndance]   "
     ]
    },
    {
     "name": "stdout",
     "output_type": "stream",
     "text": [
      "Processing completed.\n",
      "Pole Studio Data: 1 entries\n",
      "Starting URL reconstruction...\n"
     ]
    },
    {
     "name": "stderr",
     "output_type": "stream",
     "text": [
      "2024-02-03 11:35:08,340 - INFO - Processing URL 1/3: https://www.eversports.de/s/secret-moves-athletic-dance-studio\n"
     ]
    },
    {
     "name": "stdout",
     "output_type": "stream",
     "text": [
      "Converting to DataFrame...\n",
      "Validating URLs...\n"
     ]
    },
    {
     "name": "stderr",
     "output_type": "stream",
     "text": [
      "2024-02-03 11:35:09,730 - INFO - URL https://www.eversports.de/s/secret-moves-athletic-dance-studio is valid.\n",
      "2024-02-03 11:35:09,731 - INFO - Processing URL 2/3: https://www.eversports.de/sp/secret-moves-athletic-dance-studio\n",
      "2024-02-03 11:35:10,910 - INFO - URL https://www.eversports.de/sp/secret-moves-athletic-dance-studio is valid.\n",
      "2024-02-03 11:35:10,911 - INFO - Processing URL 3/3: https://www.eversports.de/s/secret-moves-athletic-dance-studio/team\n",
      "2024-02-03 11:35:12,286 - INFO - URL https://www.eversports.de/s/secret-moves-athletic-dance-studio/team is valid.\n"
     ]
    },
    {
     "name": "stdout",
     "output_type": "stream",
     "text": [
      "Scraping Pole Studio Data from https://www.eversports.de/s/secret-moves-athletic-dance-studio...\n"
     ]
    },
    {
     "name": "stderr",
     "output_type": "stream",
     "text": [
      "Processing URLs:  17%|█▋        | 69/403 [05:16<29:30,  5.30s/it, Current URL: https://www.eversports.de/s/secret-moves-athletic-dance-studio]"
     ]
    },
    {
     "name": "stdout",
     "output_type": "stream",
     "text": [
      "Processing completed.\n",
      "Pole Studio Data: 1 entries\n",
      "Starting URL reconstruction...\n"
     ]
    },
    {
     "name": "stderr",
     "output_type": "stream",
     "text": [
      "2024-02-03 11:35:13,893 - INFO - Processing URL 1/3: https://www.eversports.de/s/janine-hollung\n"
     ]
    },
    {
     "name": "stdout",
     "output_type": "stream",
     "text": [
      "Converting to DataFrame...\n",
      "Validating URLs...\n"
     ]
    },
    {
     "name": "stderr",
     "output_type": "stream",
     "text": [
      "2024-02-03 11:35:15,393 - INFO - URL https://www.eversports.de/s/janine-hollung is valid.\n",
      "2024-02-03 11:35:15,394 - INFO - Processing URL 2/3: https://www.eversports.de/sp/janine-hollung\n",
      "2024-02-03 11:35:16,675 - INFO - URL https://www.eversports.de/sp/janine-hollung is valid.\n",
      "2024-02-03 11:35:16,676 - INFO - Processing URL 3/3: https://www.eversports.de/s/janine-hollung/team\n",
      "2024-02-03 11:35:17,819 - INFO - URL https://www.eversports.de/s/janine-hollung/team is valid.\n"
     ]
    },
    {
     "name": "stdout",
     "output_type": "stream",
     "text": [
      "Scraping Pole Studio Data from https://www.eversports.de/s/janine-hollung...\n"
     ]
    },
    {
     "name": "stderr",
     "output_type": "stream",
     "text": [
      "Processing URLs:  17%|█▋        | 70/403 [05:21<29:43,  5.36s/it, Current URL: https://www.eversports.de/s/janine-hollung]                    "
     ]
    },
    {
     "name": "stdout",
     "output_type": "stream",
     "text": [
      "Processing completed.\n",
      "Pole Studio Data: 1 entries\n",
      "Starting URL reconstruction...\n"
     ]
    },
    {
     "name": "stderr",
     "output_type": "stream",
     "text": [
      "Processing URLs:  18%|█▊        | 71/403 [05:22<22:37,  4.09s/it, Current URL: https://www.eversports.de/s/mmc-dance-studio]"
     ]
    },
    {
     "name": "stdout",
     "output_type": "stream",
     "text": [
      "Error during HTTP request: 404 Client Error: Not Found for url: https://www.eversports.de/s/mmc-dance-studio\n",
      "Converting to DataFrame...\n",
      "Validating URLs...\n",
      "Processing completed.\n",
      "Starting URL reconstruction...\n"
     ]
    },
    {
     "name": "stderr",
     "output_type": "stream",
     "text": [
      "2024-02-03 11:35:25,240 - INFO - Processing URL 1/1: https://www.eversports.de/s/aerial-sportstudio\n"
     ]
    },
    {
     "name": "stdout",
     "output_type": "stream",
     "text": [
      "Converting to DataFrame...\n",
      "Validating URLs...\n"
     ]
    },
    {
     "name": "stderr",
     "output_type": "stream",
     "text": [
      "2024-02-03 11:35:26,498 - INFO - URL https://www.eversports.de/s/aerial-sportstudio is valid.\n"
     ]
    },
    {
     "name": "stdout",
     "output_type": "stream",
     "text": [
      "Scraping Pole Studio Data from https://www.eversports.de/s/aerial-sportstudio...\n"
     ]
    },
    {
     "name": "stderr",
     "output_type": "stream",
     "text": [
      "Processing URLs:  18%|█▊        | 72/403 [05:30<28:09,  5.10s/it, Current URL: https://www.eversports.de/s/aerial-sportstudio]"
     ]
    },
    {
     "name": "stdout",
     "output_type": "stream",
     "text": [
      "Processing completed.\n",
      "Pole Studio Data: 1 entries\n",
      "Starting URL reconstruction...\n"
     ]
    },
    {
     "name": "stderr",
     "output_type": "stream",
     "text": [
      "2024-02-03 11:35:28,125 - INFO - Processing URL 1/4: https://www.eversports.de/s/stadtgazellen-bremen\n"
     ]
    },
    {
     "name": "stdout",
     "output_type": "stream",
     "text": [
      "Converting to DataFrame...\n",
      "Validating URLs...\n"
     ]
    },
    {
     "name": "stderr",
     "output_type": "stream",
     "text": [
      "2024-02-03 11:35:29,492 - INFO - URL https://www.eversports.de/s/stadtgazellen-bremen is valid.\n",
      "2024-02-03 11:35:29,493 - INFO - Processing URL 2/4: https://www.eversports.de/sw/stadtgazellen-bremen\n",
      "2024-02-03 11:35:31,025 - INFO - URL https://www.eversports.de/sw/stadtgazellen-bremen is valid.\n",
      "2024-02-03 11:35:31,026 - INFO - Processing URL 3/4: https://www.eversports.de/sp/stadtgazellen-bremen\n",
      "2024-02-03 11:35:32,170 - INFO - URL https://www.eversports.de/sp/stadtgazellen-bremen is valid.\n",
      "2024-02-03 11:35:32,171 - INFO - Processing URL 4/4: https://www.eversports.de/s/stadtgazellen-bremen/team\n",
      "2024-02-03 11:35:33,727 - INFO - URL https://www.eversports.de/s/stadtgazellen-bremen/team is valid.\n"
     ]
    },
    {
     "name": "stdout",
     "output_type": "stream",
     "text": [
      "Scraping Pole Studio Data from https://www.eversports.de/s/stadtgazellen-bremen...\n",
      "Scraping Workshops Data from https://www.eversports.de/sw/stadtgazellen-bremen...\n",
      "Scraping Workshop Details from https://www.eversports.de/e/workshop/YiU_KF8...\n",
      "Scraping Workshop Details from https://www.eversports.de/e/workshop/Vnofur2...\n",
      "Scraping Workshop Details from https://www.eversports.de/e/workshop/wFn4PaN...\n",
      "Scraping Workshop Details from https://www.eversports.de/e/workshop/6ZllXAZ...\n",
      "Scraping Workshop Details from https://www.eversports.de/e/workshop/L5UxsO9...\n",
      "Scraping Workshop Details from https://www.eversports.de/e/workshop/7blW22y...\n",
      "Scraping Workshop Details from https://www.eversports.de/e/workshop/v4tYN09...\n",
      "Scraping Workshop Details from https://www.eversports.de/e/workshop/KWx3LyO...\n",
      "Scraping Workshop Details from https://www.eversports.de/e/workshop/WRl24o5...\n",
      "Scraping Workshop Details from https://www.eversports.de/e/workshop/wrZkEQ3...\n"
     ]
    },
    {
     "name": "stderr",
     "output_type": "stream",
     "text": [
      "Processing URLs:  18%|█▊        | 73/403 [05:53<57:31, 10.46s/it, Current URL: https://www.eversports.de/s/stadtgazellen-bremen]"
     ]
    },
    {
     "name": "stdout",
     "output_type": "stream",
     "text": [
      "Processing completed.\n",
      "Pole Studio Data: 1 entries\n",
      "Workshops Data: 10 entries\n",
      "Workshop Details: 10 entries\n",
      "Starting URL reconstruction...\n"
     ]
    },
    {
     "name": "stderr",
     "output_type": "stream",
     "text": [
      "2024-02-03 11:35:51,216 - INFO - Processing URL 1/4: https://www.eversports.de/s/pole-dance-krefeld\n"
     ]
    },
    {
     "name": "stdout",
     "output_type": "stream",
     "text": [
      "Error reconstructing URL for 'Trainings': Unrecognized text: 'Trainings'\n",
      "Converting to DataFrame...\n",
      "Validating URLs...\n"
     ]
    },
    {
     "name": "stderr",
     "output_type": "stream",
     "text": [
      "2024-02-03 11:35:52,580 - INFO - URL https://www.eversports.de/s/pole-dance-krefeld is valid.\n",
      "2024-02-03 11:35:52,581 - INFO - Processing URL 2/4: https://www.eversports.de/sw/pole-dance-krefeld\n",
      "2024-02-03 11:35:53,701 - INFO - URL https://www.eversports.de/sw/pole-dance-krefeld is valid.\n",
      "2024-02-03 11:35:53,702 - INFO - Processing URL 3/4: https://www.eversports.de/sp/pole-dance-krefeld\n",
      "2024-02-03 11:35:54,830 - INFO - URL https://www.eversports.de/sp/pole-dance-krefeld is valid.\n",
      "2024-02-03 11:35:54,831 - INFO - Processing URL 4/4: https://www.eversports.de/s/pole-dance-krefeld/team\n",
      "2024-02-03 11:35:56,000 - INFO - URL https://www.eversports.de/s/pole-dance-krefeld/team is valid.\n"
     ]
    },
    {
     "name": "stdout",
     "output_type": "stream",
     "text": [
      "Scraping Pole Studio Data from https://www.eversports.de/s/pole-dance-krefeld...\n",
      "Scraping Workshops Data from https://www.eversports.de/sw/pole-dance-krefeld...\n",
      "Scraping Workshop Details from https://www.eversports.de/e/workshop/-EpTuWT...\n",
      "Scraping Workshop Details from https://www.eversports.de/e/workshop/hFi4nNH...\n",
      "Scraping Workshop Details from https://www.eversports.de/e/workshop/T5e_9Bp...\n",
      "Scraping Workshop Details from https://www.eversports.de/e/workshop/WkTS9HS...\n",
      "Scraping Workshop Details from https://www.eversports.de/e/workshop/_LQRruK...\n"
     ]
    },
    {
     "name": "stderr",
     "output_type": "stream",
     "text": [
      "Processing URLs:  18%|█▊        | 74/403 [06:07<1:04:12, 11.71s/it, Current URL: https://www.eversports.de/s/pole-dance-krefeld]  "
     ]
    },
    {
     "name": "stdout",
     "output_type": "stream",
     "text": [
      "Processing completed.\n",
      "Pole Studio Data: 1 entries\n",
      "Workshops Data: 5 entries\n",
      "Workshop Details: 5 entries\n",
      "Starting URL reconstruction...\n"
     ]
    },
    {
     "name": "stderr",
     "output_type": "stream",
     "text": [
      "2024-02-03 11:36:05,679 - INFO - Processing URL 1/4: https://www.eversports.de/s/koerpernah\n"
     ]
    },
    {
     "name": "stdout",
     "output_type": "stream",
     "text": [
      "Converting to DataFrame...\n",
      "Validating URLs...\n"
     ]
    },
    {
     "name": "stderr",
     "output_type": "stream",
     "text": [
      "2024-02-03 11:36:07,045 - INFO - URL https://www.eversports.de/s/koerpernah is valid.\n",
      "2024-02-03 11:36:07,046 - INFO - Processing URL 2/4: https://www.eversports.de/sw/koerpernah\n",
      "2024-02-03 11:36:08,295 - INFO - URL https://www.eversports.de/sw/koerpernah is valid.\n",
      "2024-02-03 11:36:08,296 - INFO - Processing URL 3/4: https://www.eversports.de/sp/koerpernah\n",
      "2024-02-03 11:36:09,433 - INFO - URL https://www.eversports.de/sp/koerpernah is valid.\n",
      "2024-02-03 11:36:09,433 - INFO - Processing URL 4/4: https://www.eversports.de/s/koerpernah/team\n",
      "2024-02-03 11:36:10,697 - INFO - URL https://www.eversports.de/s/koerpernah/team is valid.\n"
     ]
    },
    {
     "name": "stdout",
     "output_type": "stream",
     "text": [
      "Scraping Pole Studio Data from https://www.eversports.de/s/koerpernah...\n",
      "Scraping Workshops Data from https://www.eversports.de/sw/koerpernah...\n",
      "Scraping Workshop Details from https://www.eversports.de/e/workshop/MfhCem5...\n"
     ]
    },
    {
     "name": "stderr",
     "output_type": "stream",
     "text": [
      "Processing URLs:  19%|█▊        | 75/403 [06:17<1:00:08, 11.00s/it, Current URL: https://www.eversports.de/s/koerpernah]        "
     ]
    },
    {
     "name": "stdout",
     "output_type": "stream",
     "text": [
      "Processing completed.\n",
      "Pole Studio Data: 1 entries\n",
      "Workshops Data: 1 entries\n",
      "Workshop Details: 1 entries\n",
      "Starting URL reconstruction...\n"
     ]
    },
    {
     "name": "stderr",
     "output_type": "stream",
     "text": [
      "Processing URLs:  19%|█▉        | 76/403 [06:18<43:52,  8.05s/it, Current URL: https://www.eversports.de/s/la-familia-poleclub]"
     ]
    },
    {
     "name": "stdout",
     "output_type": "stream",
     "text": [
      "Error during HTTP request: 404 Client Error: Not Found for url: https://www.eversports.de/s/la-familia-poleclub\n",
      "Converting to DataFrame...\n",
      "Validating URLs...\n",
      "Processing completed.\n",
      "Starting URL reconstruction...\n"
     ]
    },
    {
     "name": "stderr",
     "output_type": "stream",
     "text": [
      "Processing URLs:  19%|█▉        | 77/403 [06:19<32:27,  5.97s/it, Current URL: https://www.eversports.de/s/stretch-%26-pole]   "
     ]
    },
    {
     "name": "stdout",
     "output_type": "stream",
     "text": [
      "Error during HTTP request: 404 Client Error: Not Found for url: https://www.eversports.de/s/stretch-%26-pole\n",
      "Converting to DataFrame...\n",
      "Validating URLs...\n",
      "Processing completed.\n",
      "Starting URL reconstruction...\n"
     ]
    },
    {
     "name": "stderr",
     "output_type": "stream",
     "text": [
      "Processing URLs:  19%|█▉        | 78/403 [06:23<29:04,  5.37s/it, Current URL: https://www.eversports.de/s/pole-stars-osnabr%c3%bcck]"
     ]
    },
    {
     "name": "stdout",
     "output_type": "stream",
     "text": [
      "Error during HTTP request: Exceeded 30 redirects.\n",
      "Converting to DataFrame...\n",
      "Validating URLs...\n",
      "Processing completed.\n",
      "Starting URL reconstruction...\n"
     ]
    },
    {
     "name": "stderr",
     "output_type": "stream",
     "text": [
      "Processing URLs:  20%|█▉        | 79/403 [06:24<22:36,  4.19s/it, Current URL: https://www.eversports.de/s/pole-%26-tanzwelt]        "
     ]
    },
    {
     "name": "stdout",
     "output_type": "stream",
     "text": [
      "Error during HTTP request: 404 Client Error: Not Found for url: https://www.eversports.de/s/pole-%26-tanzwelt\n",
      "Converting to DataFrame...\n",
      "Validating URLs...\n",
      "Processing completed.\n",
      "Starting URL reconstruction...\n"
     ]
    },
    {
     "name": "stderr",
     "output_type": "stream",
     "text": [
      "Processing URLs:  20%|█▉        | 80/403 [06:26<18:11,  3.38s/it, Current URL: https://www.eversports.de/s/pole-dream]       "
     ]
    },
    {
     "name": "stdout",
     "output_type": "stream",
     "text": [
      "Error during HTTP request: 404 Client Error: Not Found for url: https://www.eversports.de/s/pole-dream\n",
      "Converting to DataFrame...\n",
      "Validating URLs...\n",
      "Processing completed.\n",
      "Starting URL reconstruction...\n"
     ]
    },
    {
     "name": "stderr",
     "output_type": "stream",
     "text": [
      "2024-02-03 11:36:24,210 - INFO - Processing URL 1/3: https://www.eversports.de/s/flow-academy\n"
     ]
    },
    {
     "name": "stdout",
     "output_type": "stream",
     "text": [
      "Converting to DataFrame...\n",
      "Validating URLs...\n"
     ]
    },
    {
     "name": "stderr",
     "output_type": "stream",
     "text": [
      "2024-02-03 11:36:25,433 - INFO - URL https://www.eversports.de/s/flow-academy is valid.\n",
      "2024-02-03 11:36:25,434 - INFO - Processing URL 2/3: https://www.eversports.de/sp/flow-academy\n",
      "2024-02-03 11:36:26,656 - INFO - URL https://www.eversports.de/sp/flow-academy is valid.\n",
      "2024-02-03 11:36:26,657 - INFO - Processing URL 3/3: https://www.eversports.de/s/flow-academy/team\n",
      "2024-02-03 11:36:27,825 - INFO - URL https://www.eversports.de/s/flow-academy/team is valid.\n"
     ]
    },
    {
     "name": "stdout",
     "output_type": "stream",
     "text": [
      "Scraping Pole Studio Data from https://www.eversports.de/s/flow-academy...\n"
     ]
    },
    {
     "name": "stderr",
     "output_type": "stream",
     "text": [
      "Processing URLs:  20%|██        | 81/403 [06:31<21:19,  3.97s/it, Current URL: https://www.eversports.de/s/flow-academy]"
     ]
    },
    {
     "name": "stdout",
     "output_type": "stream",
     "text": [
      "Processing completed.\n",
      "Pole Studio Data: 1 entries\n",
      "Starting URL reconstruction...\n"
     ]
    },
    {
     "name": "stderr",
     "output_type": "stream",
     "text": [
      "2024-02-03 11:36:29,417 - INFO - Processing URL 1/1: https://www.eversports.de/s/pole-heaven\n"
     ]
    },
    {
     "name": "stdout",
     "output_type": "stream",
     "text": [
      "Converting to DataFrame...\n",
      "Validating URLs...\n"
     ]
    },
    {
     "name": "stderr",
     "output_type": "stream",
     "text": [
      "2024-02-03 11:36:31,669 - INFO - URL https://www.eversports.de/s/pole-heaven is valid.\n",
      "Processing URLs:  20%|██        | 82/403 [06:35<20:48,  3.89s/it, Current URL: https://www.eversports.de/s/flow-academy]"
     ]
    },
    {
     "name": "stdout",
     "output_type": "stream",
     "text": [
      "Scraping Pole Studio Data from https://www.eversports.de/s/pole-heaven...\n",
      "Processing completed.\n",
      "Pole Studio Data: 1 entries\n"
     ]
    },
    {
     "name": "stderr",
     "output_type": "stream",
     "text": [
      "Processing URLs:  20%|██        | 82/403 [06:35<20:48,  3.89s/it, Current URL: https://www.eversports.de/s/pole-heaven] "
     ]
    },
    {
     "name": "stdout",
     "output_type": "stream",
     "text": [
      "Starting URL reconstruction...\n"
     ]
    },
    {
     "name": "stderr",
     "output_type": "stream",
     "text": [
      "Processing URLs:  21%|██        | 83/403 [06:37<17:25,  3.27s/it, Current URL: https://www.eversports.de/s/360-grad-soulsports]"
     ]
    },
    {
     "name": "stdout",
     "output_type": "stream",
     "text": [
      "Error during HTTP request: 404 Client Error: Not Found for url: https://www.eversports.de/s/360-grad-soulsports\n",
      "Converting to DataFrame...\n",
      "Validating URLs...\n",
      "Processing completed.\n",
      "Starting URL reconstruction...\n"
     ]
    },
    {
     "name": "stderr",
     "output_type": "stream",
     "text": [
      "2024-02-03 11:36:35,076 - INFO - Processing URL 1/3: https://www.eversports.de/s/ima-intentional-movement-academy\n"
     ]
    },
    {
     "name": "stdout",
     "output_type": "stream",
     "text": [
      "Error reconstructing URL for 'Retreats': Unrecognized text: 'Retreats'\n",
      "Converting to DataFrame...\n",
      "Validating URLs...\n"
     ]
    },
    {
     "name": "stderr",
     "output_type": "stream",
     "text": [
      "2024-02-03 11:36:37,783 - INFO - URL https://www.eversports.de/s/ima-intentional-movement-academy is valid.\n",
      "2024-02-03 11:36:37,784 - INFO - Processing URL 2/3: https://www.eversports.de/sp/ima-intentional-movement-academy\n",
      "2024-02-03 11:36:39,081 - INFO - URL https://www.eversports.de/sp/ima-intentional-movement-academy is valid.\n",
      "2024-02-03 11:36:39,082 - INFO - Processing URL 3/3: https://www.eversports.de/s/ima-intentional-movement-academy/team\n",
      "2024-02-03 11:36:40,331 - INFO - URL https://www.eversports.de/s/ima-intentional-movement-academy/team is valid.\n"
     ]
    },
    {
     "name": "stdout",
     "output_type": "stream",
     "text": [
      "Scraping Pole Studio Data from https://www.eversports.de/s/ima-intentional-movement-academy...\n"
     ]
    },
    {
     "name": "stderr",
     "output_type": "stream",
     "text": [
      "Processing URLs:  21%|██        | 84/403 [06:44<23:18,  4.38s/it, Current URL: https://www.eversports.de/s/ima-intentional-movement-academy]"
     ]
    },
    {
     "name": "stdout",
     "output_type": "stream",
     "text": [
      "Processing completed.\n",
      "Pole Studio Data: 1 entries\n",
      "Starting URL reconstruction...\n"
     ]
    },
    {
     "name": "stderr",
     "output_type": "stream",
     "text": [
      "Processing URLs:  21%|██        | 85/403 [06:45<18:08,  3.42s/it, Current URL: https://www.eversports.de/s/les.pole]                        "
     ]
    },
    {
     "name": "stdout",
     "output_type": "stream",
     "text": [
      "Error during HTTP request: 404 Client Error: Not Found for url: https://www.eversports.de/s/les.pole\n",
      "Converting to DataFrame...\n",
      "Validating URLs...\n",
      "Processing completed.\n",
      "Starting URL reconstruction...\n"
     ]
    },
    {
     "name": "stderr",
     "output_type": "stream",
     "text": [
      "Processing URLs:  21%|██▏       | 86/403 [06:49<19:21,  3.66s/it, Current URL: https://www.eversports.de/s/polemotions-tübingen]"
     ]
    },
    {
     "name": "stdout",
     "output_type": "stream",
     "text": [
      "Error during HTTP request: Exceeded 30 redirects.\n",
      "Converting to DataFrame...\n",
      "Validating URLs...\n",
      "Processing completed.\n",
      "Starting URL reconstruction...\n"
     ]
    },
    {
     "name": "stderr",
     "output_type": "stream",
     "text": [
      "2024-02-03 11:36:47,908 - INFO - Processing URL 1/4: https://www.eversports.de/s/pole-and-move-ketsch\n"
     ]
    },
    {
     "name": "stdout",
     "output_type": "stream",
     "text": [
      "Converting to DataFrame...\n",
      "Validating URLs...\n"
     ]
    },
    {
     "name": "stderr",
     "output_type": "stream",
     "text": [
      "2024-02-03 11:36:49,290 - INFO - URL https://www.eversports.de/s/pole-and-move-ketsch is valid.\n",
      "2024-02-03 11:36:49,292 - INFO - Processing URL 2/4: https://www.eversports.de/sw/pole-and-move-ketsch\n",
      "2024-02-03 11:36:50,618 - INFO - URL https://www.eversports.de/sw/pole-and-move-ketsch is valid.\n",
      "2024-02-03 11:36:50,619 - INFO - Processing URL 3/4: https://www.eversports.de/sp/pole-and-move-ketsch\n",
      "2024-02-03 11:36:51,816 - INFO - URL https://www.eversports.de/sp/pole-and-move-ketsch is valid.\n",
      "2024-02-03 11:36:51,817 - INFO - Processing URL 4/4: https://www.eversports.de/s/pole-and-move-ketsch/team\n",
      "2024-02-03 11:36:53,238 - INFO - URL https://www.eversports.de/s/pole-and-move-ketsch/team is valid.\n"
     ]
    },
    {
     "name": "stdout",
     "output_type": "stream",
     "text": [
      "Scraping Pole Studio Data from https://www.eversports.de/s/pole-and-move-ketsch...\n",
      "Scraping Workshops Data from https://www.eversports.de/sw/pole-and-move-ketsch...\n",
      "Scraping Workshop Details from https://www.eversports.de/e/workshop/nZwqDWw...\n",
      "Scraping Workshop Details from https://www.eversports.de/e/workshop/NCNYd8p...\n"
     ]
    },
    {
     "name": "stderr",
     "output_type": "stream",
     "text": [
      "Processing URLs:  22%|██▏       | 87/403 [07:01<31:46,  6.03s/it, Current URL: https://www.eversports.de/s/pole-and-move-ketsch]"
     ]
    },
    {
     "name": "stdout",
     "output_type": "stream",
     "text": [
      "Processing completed.\n",
      "Pole Studio Data: 1 entries\n",
      "Workshops Data: 2 entries\n",
      "Workshop Details: 2 entries\n",
      "Starting URL reconstruction...\n"
     ]
    },
    {
     "name": "stderr",
     "output_type": "stream",
     "text": [
      "Processing URLs:  22%|██▏       | 88/403 [07:02<24:01,  4.58s/it, Current URL: https://www.eversports.de/s/pole-dance-%26-fitness]"
     ]
    },
    {
     "name": "stdout",
     "output_type": "stream",
     "text": [
      "Error during HTTP request: 404 Client Error: Not Found for url: https://www.eversports.de/s/pole-dance-%26-fitness\n",
      "Converting to DataFrame...\n",
      "Validating URLs...\n",
      "Processing completed.\n",
      "Starting URL reconstruction...\n"
     ]
    },
    {
     "name": "stderr",
     "output_type": "stream",
     "text": [
      "2024-02-03 11:37:00,217 - INFO - Processing URL 1/1: https://www.eversports.de/s/soul-flight\n"
     ]
    },
    {
     "name": "stdout",
     "output_type": "stream",
     "text": [
      "Converting to DataFrame...\n",
      "Validating URLs...\n"
     ]
    },
    {
     "name": "stderr",
     "output_type": "stream",
     "text": [
      "2024-02-03 11:37:01,529 - INFO - URL https://www.eversports.de/s/soul-flight is valid.\n"
     ]
    },
    {
     "name": "stdout",
     "output_type": "stream",
     "text": [
      "Scraping Pole Studio Data from https://www.eversports.de/s/soul-flight...\n"
     ]
    },
    {
     "name": "stderr",
     "output_type": "stream",
     "text": [
      "Processing URLs:  22%|██▏       | 89/403 [07:05<21:34,  4.12s/it, Current URL: https://www.eversports.de/s/soul-flight]           "
     ]
    },
    {
     "name": "stdout",
     "output_type": "stream",
     "text": [
      "Processing completed.\n",
      "Pole Studio Data: 1 entries\n",
      "Starting URL reconstruction...\n"
     ]
    },
    {
     "name": "stderr",
     "output_type": "stream",
     "text": [
      "Processing URLs:  22%|██▏       | 90/403 [07:06<16:50,  3.23s/it, Current URL: https://www.eversports.de/s/nordpole-studio]"
     ]
    },
    {
     "name": "stdout",
     "output_type": "stream",
     "text": [
      "Error during HTTP request: 404 Client Error: Not Found for url: https://www.eversports.de/s/nordpole-studio\n",
      "Converting to DataFrame...\n",
      "Validating URLs...\n",
      "Processing completed.\n",
      "Starting URL reconstruction...\n"
     ]
    },
    {
     "name": "stderr",
     "output_type": "stream",
     "text": [
      "2024-02-03 11:37:04,429 - INFO - Processing URL 1/4: https://www.eversports.de/s/studio-aeris\n"
     ]
    },
    {
     "name": "stdout",
     "output_type": "stream",
     "text": [
      "Error reconstructing URL for 'Kurse': Unrecognized text: 'Kurse'\n",
      "Converting to DataFrame...\n",
      "Validating URLs...\n"
     ]
    },
    {
     "name": "stderr",
     "output_type": "stream",
     "text": [
      "2024-02-03 11:37:06,311 - INFO - URL https://www.eversports.de/s/studio-aeris is valid.\n",
      "2024-02-03 11:37:06,312 - INFO - Processing URL 2/4: https://www.eversports.de/sw/studio-aeris\n",
      "2024-02-03 11:37:07,440 - INFO - URL https://www.eversports.de/sw/studio-aeris is not valid.\n",
      "2024-02-03 11:37:07,440 - INFO - Processing URL 3/4: https://www.eversports.de/sp/studio-aeris\n",
      "2024-02-03 11:37:08,584 - INFO - URL https://www.eversports.de/sp/studio-aeris is not valid.\n",
      "2024-02-03 11:37:08,584 - INFO - Processing URL 4/4: https://www.eversports.de/s/studio-aeris/team\n",
      "2024-02-03 11:37:09,828 - INFO - URL https://www.eversports.de/s/studio-aeris/team is valid.\n"
     ]
    },
    {
     "name": "stdout",
     "output_type": "stream",
     "text": [
      "Scraping Pole Studio Data from https://www.eversports.de/s/studio-aeris...\n"
     ]
    },
    {
     "name": "stderr",
     "output_type": "stream",
     "text": [
      "Processing URLs:  23%|██▎       | 91/403 [07:13<23:00,  4.43s/it, Current URL: https://www.eversports.de/s/studio-aeris]   "
     ]
    },
    {
     "name": "stdout",
     "output_type": "stream",
     "text": [
      "Processing completed.\n",
      "Pole Studio Data: 1 entries\n",
      "Starting URL reconstruction...\n"
     ]
    },
    {
     "name": "stderr",
     "output_type": "stream",
     "text": [
      "2024-02-03 11:37:11,592 - INFO - Processing URL 1/3: https://www.eversports.de/s/polefitness-leipzig\n"
     ]
    },
    {
     "name": "stdout",
     "output_type": "stream",
     "text": [
      "Converting to DataFrame...\n",
      "Validating URLs...\n"
     ]
    },
    {
     "name": "stderr",
     "output_type": "stream",
     "text": [
      "2024-02-03 11:37:12,939 - INFO - URL https://www.eversports.de/s/polefitness-leipzig is valid.\n",
      "2024-02-03 11:37:12,940 - INFO - Processing URL 2/3: https://www.eversports.de/sp/polefitness-leipzig\n",
      "2024-02-03 11:37:14,060 - INFO - URL https://www.eversports.de/sp/polefitness-leipzig is valid.\n",
      "2024-02-03 11:37:14,061 - INFO - Processing URL 3/3: https://www.eversports.de/s/polefitness-leipzig/team\n",
      "2024-02-03 11:37:15,293 - INFO - URL https://www.eversports.de/s/polefitness-leipzig/team is valid.\n"
     ]
    },
    {
     "name": "stdout",
     "output_type": "stream",
     "text": [
      "Scraping Pole Studio Data from https://www.eversports.de/s/polefitness-leipzig...\n"
     ]
    },
    {
     "name": "stderr",
     "output_type": "stream",
     "text": [
      "Processing URLs:  23%|██▎       | 92/403 [07:19<24:31,  4.73s/it, Current URL: https://www.eversports.de/s/polefitness-leipzig]"
     ]
    },
    {
     "name": "stdout",
     "output_type": "stream",
     "text": [
      "Processing completed.\n",
      "Pole Studio Data: 1 entries\n",
      "Starting URL reconstruction...\n"
     ]
    },
    {
     "name": "stderr",
     "output_type": "stream",
     "text": [
      "Processing URLs:  23%|██▎       | 93/403 [07:23<23:40,  4.58s/it, Current URL: https://www.eversports.de/s/sweatndance-k%c3%b6ln]"
     ]
    },
    {
     "name": "stdout",
     "output_type": "stream",
     "text": [
      "Error during HTTP request: Exceeded 30 redirects.\n",
      "Converting to DataFrame...\n",
      "Validating URLs...\n",
      "Processing completed.\n",
      "Starting URL reconstruction...\n"
     ]
    },
    {
     "name": "stderr",
     "output_type": "stream",
     "text": [
      "2024-02-03 11:37:21,308 - INFO - Processing URL 1/3: https://www.eversports.de/s/papillon-dance-and-sport-academy\n"
     ]
    },
    {
     "name": "stdout",
     "output_type": "stream",
     "text": [
      "Converting to DataFrame...\n",
      "Validating URLs...\n"
     ]
    },
    {
     "name": "stderr",
     "output_type": "stream",
     "text": [
      "2024-02-03 11:37:23,125 - INFO - URL https://www.eversports.de/s/papillon-dance-and-sport-academy is valid.\n",
      "2024-02-03 11:37:23,126 - INFO - Processing URL 2/3: https://www.eversports.de/sp/papillon-dance-and-sport-academy\n",
      "2024-02-03 11:37:24,532 - INFO - URL https://www.eversports.de/sp/papillon-dance-and-sport-academy is valid.\n",
      "2024-02-03 11:37:24,533 - INFO - Processing URL 3/3: https://www.eversports.de/s/papillon-dance-and-sport-academy/team\n",
      "2024-02-03 11:37:26,074 - INFO - URL https://www.eversports.de/s/papillon-dance-and-sport-academy/team is valid.\n"
     ]
    },
    {
     "name": "stdout",
     "output_type": "stream",
     "text": [
      "Scraping Pole Studio Data from https://www.eversports.de/s/papillon-dance-and-sport-academy...\n"
     ]
    },
    {
     "name": "stderr",
     "output_type": "stream",
     "text": [
      "Processing URLs:  23%|██▎       | 94/403 [07:29<26:29,  5.14s/it, Current URL: https://www.eversports.de/s/papillon-dance-and-sport-academy]"
     ]
    },
    {
     "name": "stdout",
     "output_type": "stream",
     "text": [
      "Processing completed.\n",
      "Pole Studio Data: 1 entries\n",
      "Starting URL reconstruction...\n"
     ]
    },
    {
     "name": "stderr",
     "output_type": "stream",
     "text": [
      "Processing URLs:  24%|██▎       | 95/403 [07:34<25:28,  4.96s/it, Current URL: https://www.eversports.de/s/polemotions-g%c3%b6ppingen]      "
     ]
    },
    {
     "name": "stdout",
     "output_type": "stream",
     "text": [
      "Error during HTTP request: Exceeded 30 redirects.\n",
      "Converting to DataFrame...\n",
      "Validating URLs...\n",
      "Processing completed.\n",
      "Starting URL reconstruction...\n"
     ]
    },
    {
     "name": "stderr",
     "output_type": "stream",
     "text": [
      "Processing URLs:  24%|██▍       | 96/403 [07:35<19:34,  3.83s/it, Current URL: https://www.eversports.de/s/pole-circus-a-k]           "
     ]
    },
    {
     "name": "stdout",
     "output_type": "stream",
     "text": [
      "Error during HTTP request: 404 Client Error: Not Found for url: https://www.eversports.de/s/pole-circus-a-k\n",
      "Converting to DataFrame...\n",
      "Validating URLs...\n",
      "Processing completed.\n",
      "Starting URL reconstruction...\n"
     ]
    },
    {
     "name": "stderr",
     "output_type": "stream",
     "text": [
      "Processing URLs:  24%|██▍       | 97/403 [07:36<15:26,  3.03s/it, Current URL: https://www.eversports.de/s/polesports-studio-buchholz]"
     ]
    },
    {
     "name": "stdout",
     "output_type": "stream",
     "text": [
      "Error during HTTP request: 404 Client Error: Not Found for url: https://www.eversports.de/s/polesports-studio-buchholz\n",
      "Converting to DataFrame...\n",
      "Validating URLs...\n",
      "Processing completed.\n",
      "Starting URL reconstruction...\n"
     ]
    },
    {
     "name": "stderr",
     "output_type": "stream",
     "text": [
      "Processing URLs:  24%|██▍       | 98/403 [07:38<12:51,  2.53s/it, Current URL: https://www.eversports.de/s/dance-%26-pole-solingen]   "
     ]
    },
    {
     "name": "stdout",
     "output_type": "stream",
     "text": [
      "Error during HTTP request: 404 Client Error: Not Found for url: https://www.eversports.de/s/dance-%26-pole-solingen\n",
      "Converting to DataFrame...\n",
      "Validating URLs...\n",
      "Processing completed.\n",
      "Starting URL reconstruction...\n"
     ]
    },
    {
     "name": "stderr",
     "output_type": "stream",
     "text": [
      "Processing URLs:  25%|██▍       | 99/403 [07:39<10:46,  2.13s/it, Current URL: https://www.eversports.de/s/move-on!-dance-studio-&-polemotions]"
     ]
    },
    {
     "name": "stdout",
     "output_type": "stream",
     "text": [
      "Error during HTTP request: 404 Client Error: Not Found for url: https://www.eversports.de/s/move-on!-dance-studio-&-polemotions\n",
      "Converting to DataFrame...\n",
      "Validating URLs...\n",
      "Processing completed.\n",
      "Starting URL reconstruction...\n"
     ]
    },
    {
     "name": "stderr",
     "output_type": "stream",
     "text": [
      "Processing URLs:  25%|██▍       | 100/403 [07:43<14:19,  2.84s/it, Current URL: https://www.eversports.de/s/pole-dance-academy-n%c3%bcrnberg]   "
     ]
    },
    {
     "name": "stdout",
     "output_type": "stream",
     "text": [
      "Error during HTTP request: Exceeded 30 redirects.\n",
      "Converting to DataFrame...\n",
      "Validating URLs...\n",
      "Processing completed.\n",
      "Starting URL reconstruction...\n"
     ]
    },
    {
     "name": "stderr",
     "output_type": "stream",
     "text": [
      "Processing URLs:  25%|██▌       | 101/403 [07:44<11:48,  2.35s/it, Current URL: https://www.eversports.de/s/pole-box]                        "
     ]
    },
    {
     "name": "stdout",
     "output_type": "stream",
     "text": [
      "Error during HTTP request: 404 Client Error: Not Found for url: https://www.eversports.de/s/pole-box\n",
      "Converting to DataFrame...\n",
      "Validating URLs...\n",
      "Processing completed.\n",
      "Starting URL reconstruction...\n"
     ]
    },
    {
     "name": "stderr",
     "output_type": "stream",
     "text": [
      "Processing URLs:  25%|██▌       | 102/403 [07:46<09:58,  1.99s/it, Current URL: https://www.eversports.de/s/drehmoment-pole.aerial.dance]"
     ]
    },
    {
     "name": "stdout",
     "output_type": "stream",
     "text": [
      "Error during HTTP request: 404 Client Error: Not Found for url: https://www.eversports.de/s/drehmoment-pole.aerial.dance\n",
      "Converting to DataFrame...\n",
      "Validating URLs...\n",
      "Processing completed.\n",
      "Starting URL reconstruction...\n"
     ]
    },
    {
     "name": "stderr",
     "output_type": "stream",
     "text": [
      "Processing URLs:  26%|██▌       | 103/403 [07:47<08:47,  1.76s/it, Current URL: https://www.eversports.de/s/dayuma-pole-&-acrobatics]    "
     ]
    },
    {
     "name": "stdout",
     "output_type": "stream",
     "text": [
      "Error during HTTP request: 404 Client Error: Not Found for url: https://www.eversports.de/s/dayuma-pole-&-acrobatics\n",
      "Converting to DataFrame...\n",
      "Validating URLs...\n",
      "Processing completed.\n",
      "Starting URL reconstruction...\n"
     ]
    },
    {
     "name": "stderr",
     "output_type": "stream",
     "text": [
      "2024-02-03 11:37:45,256 - INFO - Processing URL 1/3: https://www.eversports.de/s/upsidedown-studio-bad-homburg\n"
     ]
    },
    {
     "name": "stdout",
     "output_type": "stream",
     "text": [
      "Error reconstructing URL for 'Kurse': Unrecognized text: 'Kurse'\n",
      "Converting to DataFrame...\n",
      "Validating URLs...\n"
     ]
    },
    {
     "name": "stderr",
     "output_type": "stream",
     "text": [
      "2024-02-03 11:37:46,729 - INFO - URL https://www.eversports.de/s/upsidedown-studio-bad-homburg is valid.\n",
      "2024-02-03 11:37:46,731 - INFO - Processing URL 2/3: https://www.eversports.de/sp/upsidedown-studio-bad-homburg\n",
      "2024-02-03 11:37:48,049 - INFO - URL https://www.eversports.de/sp/upsidedown-studio-bad-homburg is valid.\n",
      "2024-02-03 11:37:48,051 - INFO - Processing URL 3/3: https://www.eversports.de/s/upsidedown-studio-bad-homburg/team\n",
      "2024-02-03 11:37:49,354 - INFO - URL https://www.eversports.de/s/upsidedown-studio-bad-homburg/team is valid.\n"
     ]
    },
    {
     "name": "stdout",
     "output_type": "stream",
     "text": [
      "Scraping Pole Studio Data from https://www.eversports.de/s/upsidedown-studio-bad-homburg...\n"
     ]
    },
    {
     "name": "stderr",
     "output_type": "stream",
     "text": [
      "Processing URLs:  26%|██▌       | 104/403 [07:53<14:53,  2.99s/it, Current URL: https://www.eversports.de/s/upsidedown-studio-bad-homburg]"
     ]
    },
    {
     "name": "stdout",
     "output_type": "stream",
     "text": [
      "Processing completed.\n",
      "Pole Studio Data: 1 entries\n",
      "Starting URL reconstruction...\n"
     ]
    },
    {
     "name": "stderr",
     "output_type": "stream",
     "text": [
      "2024-02-03 11:37:51,280 - INFO - Processing URL 1/4: https://www.eversports.de/s/seemannsbraut-poledance\n"
     ]
    },
    {
     "name": "stdout",
     "output_type": "stream",
     "text": [
      "Error reconstructing URL for 'Kurse': Unrecognized text: 'Kurse'\n",
      "Converting to DataFrame...\n",
      "Validating URLs...\n"
     ]
    },
    {
     "name": "stderr",
     "output_type": "stream",
     "text": [
      "2024-02-03 11:37:52,825 - INFO - URL https://www.eversports.de/s/seemannsbraut-poledance is valid.\n",
      "2024-02-03 11:37:52,826 - INFO - Processing URL 2/4: https://www.eversports.de/sw/seemannsbraut-poledance\n",
      "2024-02-03 11:37:54,067 - INFO - URL https://www.eversports.de/sw/seemannsbraut-poledance is valid.\n",
      "2024-02-03 11:37:54,067 - INFO - Processing URL 3/4: https://www.eversports.de/sp/seemannsbraut-poledance\n",
      "2024-02-03 11:37:55,354 - INFO - URL https://www.eversports.de/sp/seemannsbraut-poledance is valid.\n",
      "2024-02-03 11:37:55,355 - INFO - Processing URL 4/4: https://www.eversports.de/s/seemannsbraut-poledance/team\n",
      "2024-02-03 11:37:56,698 - INFO - URL https://www.eversports.de/s/seemannsbraut-poledance/team is valid.\n"
     ]
    },
    {
     "name": "stdout",
     "output_type": "stream",
     "text": [
      "Scraping Pole Studio Data from https://www.eversports.de/s/seemannsbraut-poledance...\n",
      "Scraping Workshops Data from https://www.eversports.de/sw/seemannsbraut-poledance...\n",
      "Scraping Workshop Details from https://www.eversports.de/e/workshop/tjSmCEx...\n",
      "Scraping Workshop Details from https://www.eversports.de/e/workshop/mQPzgO-...\n",
      "Scraping Workshop Details from https://www.eversports.de/e/workshop/ziaHmeW...\n",
      "Scraping Workshop Details from https://www.eversports.de/e/workshop/zBoJPTa...\n"
     ]
    },
    {
     "name": "stderr",
     "output_type": "stream",
     "text": [
      "Processing URLs:  26%|██▌       | 105/403 [08:08<33:46,  6.80s/it, Current URL: https://www.eversports.de/s/seemannsbraut-poledance]      "
     ]
    },
    {
     "name": "stdout",
     "output_type": "stream",
     "text": [
      "Processing completed.\n",
      "Pole Studio Data: 1 entries\n",
      "Workshops Data: 4 entries\n",
      "Workshop Details: 4 entries\n",
      "Starting URL reconstruction...\n"
     ]
    },
    {
     "name": "stderr",
     "output_type": "stream",
     "text": [
      "Processing URLs:  26%|██▋       | 106/403 [08:09<25:07,  5.08s/it, Current URL: https://www.eversports.de/s/move-on!-dance-studio-%26-polemotions]"
     ]
    },
    {
     "name": "stdout",
     "output_type": "stream",
     "text": [
      "Error during HTTP request: 404 Client Error: Not Found for url: https://www.eversports.de/s/move-on!-dance-studio-%26-polemotions\n",
      "Converting to DataFrame...\n",
      "Validating URLs...\n",
      "Processing completed.\n",
      "Starting URL reconstruction...\n"
     ]
    },
    {
     "name": "stderr",
     "output_type": "stream",
     "text": [
      "Processing URLs:  27%|██▋       | 107/403 [08:13<22:38,  4.59s/it, Current URL: https://www.eversports.de/s/t-tanzst%c3%bcck-wolfsburg]           "
     ]
    },
    {
     "name": "stdout",
     "output_type": "stream",
     "text": [
      "Error during HTTP request: Exceeded 30 redirects.\n",
      "Converting to DataFrame...\n",
      "Validating URLs...\n",
      "Processing completed.\n",
      "Starting URL reconstruction...\n"
     ]
    },
    {
     "name": "stderr",
     "output_type": "stream",
     "text": [
      "Processing URLs:  27%|██▋       | 108/403 [08:14<17:26,  3.55s/it, Current URL: https://www.eversports.de/s/freaky-pole-cats-straubing]"
     ]
    },
    {
     "name": "stdout",
     "output_type": "stream",
     "text": [
      "Error during HTTP request: 404 Client Error: Not Found for url: https://www.eversports.de/s/freaky-pole-cats-straubing\n",
      "Converting to DataFrame...\n",
      "Validating URLs...\n",
      "Processing completed.\n",
      "Starting URL reconstruction...\n"
     ]
    },
    {
     "name": "stderr",
     "output_type": "stream",
     "text": [
      "Processing URLs:  27%|██▋       | 109/403 [08:15<13:47,  2.81s/it, Current URL: https://www.eversports.de/s/orbit-studio]              "
     ]
    },
    {
     "name": "stdout",
     "output_type": "stream",
     "text": [
      "Error during HTTP request: 404 Client Error: Not Found for url: https://www.eversports.de/s/orbit-studio\n",
      "Converting to DataFrame...\n",
      "Validating URLs...\n",
      "Processing completed.\n",
      "Starting URL reconstruction...\n"
     ]
    },
    {
     "name": "stderr",
     "output_type": "stream",
     "text": [
      "Processing URLs:  27%|██▋       | 110/403 [08:17<11:53,  2.43s/it, Current URL: https://www.eversports.de/s/dance-%26-pole-leverkusen]"
     ]
    },
    {
     "name": "stdout",
     "output_type": "stream",
     "text": [
      "Error during HTTP request: 404 Client Error: Not Found for url: https://www.eversports.de/s/dance-%26-pole-leverkusen\n",
      "Converting to DataFrame...\n",
      "Validating URLs...\n",
      "Processing completed.\n",
      "Starting URL reconstruction...\n"
     ]
    },
    {
     "name": "stderr",
     "output_type": "stream",
     "text": [
      "Processing URLs:  28%|██▊       | 111/403 [08:21<14:10,  2.91s/it, Current URL: https://www.eversports.de/s/polestarz-the-art-of-pole%2c-dance-%26-fitness]"
     ]
    },
    {
     "name": "stdout",
     "output_type": "stream",
     "text": [
      "Error during HTTP request: Exceeded 30 redirects.\n",
      "Converting to DataFrame...\n",
      "Validating URLs...\n",
      "Processing completed.\n",
      "Starting URL reconstruction...\n"
     ]
    },
    {
     "name": "stderr",
     "output_type": "stream",
     "text": [
      "Processing URLs:  28%|██▊       | 112/403 [08:22<11:57,  2.47s/it, Current URL: https://www.eversports.de/s/freaky-pole-cats-schwandorf]                   "
     ]
    },
    {
     "name": "stdout",
     "output_type": "stream",
     "text": [
      "Error during HTTP request: 404 Client Error: Not Found for url: https://www.eversports.de/s/freaky-pole-cats-schwandorf\n",
      "Converting to DataFrame...\n",
      "Validating URLs...\n",
      "Processing completed.\n",
      "Starting URL reconstruction...\n"
     ]
    },
    {
     "name": "stderr",
     "output_type": "stream",
     "text": [
      "Processing URLs:  28%|██▊       | 113/403 [08:23<10:13,  2.11s/it, Current URL: https://www.eversports.de/s/aerial-balance]             "
     ]
    },
    {
     "name": "stdout",
     "output_type": "stream",
     "text": [
      "Error during HTTP request: 404 Client Error: Not Found for url: https://www.eversports.de/s/aerial-balance\n",
      "Converting to DataFrame...\n",
      "Validating URLs...\n",
      "Processing completed.\n",
      "Starting URL reconstruction...\n"
     ]
    },
    {
     "name": "stderr",
     "output_type": "stream",
     "text": [
      "2024-02-03 11:38:21,867 - INFO - Processing URL 1/3: https://www.eversports.de/s/polefly-academy\n"
     ]
    },
    {
     "name": "stdout",
     "output_type": "stream",
     "text": [
      "Converting to DataFrame...\n",
      "Validating URLs...\n"
     ]
    },
    {
     "name": "stderr",
     "output_type": "stream",
     "text": [
      "2024-02-03 11:38:23,221 - INFO - URL https://www.eversports.de/s/polefly-academy is valid.\n",
      "2024-02-03 11:38:23,222 - INFO - Processing URL 2/3: https://www.eversports.de/sp/polefly-academy\n",
      "2024-02-03 11:38:24,431 - INFO - URL https://www.eversports.de/sp/polefly-academy is valid.\n",
      "2024-02-03 11:38:24,432 - INFO - Processing URL 3/3: https://www.eversports.de/s/polefly-academy/team\n",
      "2024-02-03 11:38:25,713 - INFO - URL https://www.eversports.de/s/polefly-academy/team is valid.\n"
     ]
    },
    {
     "name": "stdout",
     "output_type": "stream",
     "text": [
      "Scraping Pole Studio Data from https://www.eversports.de/s/polefly-academy...\n"
     ]
    },
    {
     "name": "stderr",
     "output_type": "stream",
     "text": [
      "Processing URLs:  28%|██▊       | 114/403 [08:29<15:09,  3.15s/it, Current URL: https://www.eversports.de/s/polefly-academy]"
     ]
    },
    {
     "name": "stdout",
     "output_type": "stream",
     "text": [
      "Processing completed.\n",
      "Pole Studio Data: 1 entries\n",
      "Starting URL reconstruction...\n"
     ]
    },
    {
     "name": "stderr",
     "output_type": "stream",
     "text": [
      "Processing URLs:  29%|██▊       | 115/403 [08:32<15:31,  3.24s/it, Current URL: https://www.eversports.de/s/vanilla-sky-pole-atelier]"
     ]
    },
    {
     "name": "stdout",
     "output_type": "stream",
     "text": [
      "Error during HTTP request: 404 Client Error: Not Found for url: https://www.eversports.de/s/vanilla-sky-pole-atelier\n",
      "Converting to DataFrame...\n",
      "Validating URLs...\n",
      "Processing completed.\n",
      "Starting URL reconstruction...\n"
     ]
    },
    {
     "name": "stderr",
     "output_type": "stream",
     "text": [
      "Processing URLs:  29%|██▉       | 116/403 [08:33<12:22,  2.59s/it, Current URL: https://www.eversports.de/s/unique-pole-art]         "
     ]
    },
    {
     "name": "stdout",
     "output_type": "stream",
     "text": [
      "Error during HTTP request: 404 Client Error: Not Found for url: https://www.eversports.de/s/unique-pole-art\n",
      "Converting to DataFrame...\n",
      "Validating URLs...\n",
      "Processing completed.\n",
      "Starting URL reconstruction...\n"
     ]
    },
    {
     "name": "stderr",
     "output_type": "stream",
     "text": [
      "Processing URLs:  29%|██▉       | 117/403 [08:37<14:03,  2.95s/it, Current URL: https://www.eversports.de/s/feel-good-factory:-pole-•-stretch-•-fly]"
     ]
    },
    {
     "name": "stdout",
     "output_type": "stream",
     "text": [
      "Error during HTTP request: Exceeded 30 redirects.\n",
      "Converting to DataFrame...\n",
      "Validating URLs...\n",
      "Processing completed.\n",
      "Starting URL reconstruction...\n"
     ]
    },
    {
     "name": "stderr",
     "output_type": "stream",
     "text": [
      "2024-02-03 11:38:36,529 - INFO - Processing URL 1/3: https://www.eversports.de/s/aerial-studio\n"
     ]
    },
    {
     "name": "stdout",
     "output_type": "stream",
     "text": [
      "Converting to DataFrame...\n",
      "Validating URLs...\n"
     ]
    },
    {
     "name": "stderr",
     "output_type": "stream",
     "text": [
      "2024-02-03 11:38:37,857 - INFO - URL https://www.eversports.de/s/aerial-studio is valid.\n",
      "2024-02-03 11:38:37,857 - INFO - Processing URL 2/3: https://www.eversports.de/sp/aerial-studio\n",
      "2024-02-03 11:38:38,955 - INFO - URL https://www.eversports.de/sp/aerial-studio is not valid.\n",
      "2024-02-03 11:38:38,956 - INFO - Processing URL 3/3: https://www.eversports.de/s/aerial-studio/team\n",
      "2024-02-03 11:38:40,589 - INFO - URL https://www.eversports.de/s/aerial-studio/team is valid.\n"
     ]
    },
    {
     "name": "stdout",
     "output_type": "stream",
     "text": [
      "Scraping Pole Studio Data from https://www.eversports.de/s/aerial-studio...\n"
     ]
    },
    {
     "name": "stderr",
     "output_type": "stream",
     "text": [
      "Processing URLs:  29%|██▉       | 118/403 [08:44<19:10,  4.04s/it, Current URL: https://www.eversports.de/s/aerial-studio]                          "
     ]
    },
    {
     "name": "stdout",
     "output_type": "stream",
     "text": [
      "Processing completed.\n",
      "Pole Studio Data: 1 entries\n",
      "Starting URL reconstruction...\n"
     ]
    },
    {
     "name": "stderr",
     "output_type": "stream",
     "text": [
      "Processing URLs:  30%|██▉       | 119/403 [08:47<18:01,  3.81s/it, Current URL: https://www.eversports.de/s/k%c3%b6rpernah]"
     ]
    },
    {
     "name": "stdout",
     "output_type": "stream",
     "text": [
      "Error during HTTP request: Exceeded 30 redirects.\n",
      "Converting to DataFrame...\n",
      "Validating URLs...\n",
      "Processing completed.\n",
      "Starting URL reconstruction...\n"
     ]
    },
    {
     "name": "stderr",
     "output_type": "stream",
     "text": [
      "Processing URLs:  30%|██▉       | 120/403 [08:50<17:14,  3.66s/it, Current URL: https://www.eversports.de/s/pole-circus-a-%2b-k]"
     ]
    },
    {
     "name": "stdout",
     "output_type": "stream",
     "text": [
      "Error during HTTP request: Exceeded 30 redirects.\n",
      "Converting to DataFrame...\n",
      "Validating URLs...\n",
      "Processing completed.\n",
      "Starting URL reconstruction...\n"
     ]
    },
    {
     "name": "stderr",
     "output_type": "stream",
     "text": [
      "2024-02-03 11:38:49,314 - INFO - Processing URL 1/4: https://www.eversports.de/s/luftbonbon\n"
     ]
    },
    {
     "name": "stdout",
     "output_type": "stream",
     "text": [
      "Converting to DataFrame...\n",
      "Validating URLs...\n"
     ]
    },
    {
     "name": "stderr",
     "output_type": "stream",
     "text": [
      "2024-02-03 11:38:50,678 - INFO - URL https://www.eversports.de/s/luftbonbon is valid.\n",
      "2024-02-03 11:38:50,679 - INFO - Processing URL 2/4: https://www.eversports.de/sw/luftbonbon\n",
      "2024-02-03 11:38:51,968 - INFO - URL https://www.eversports.de/sw/luftbonbon is valid.\n",
      "2024-02-03 11:38:51,970 - INFO - Processing URL 3/4: https://www.eversports.de/sp/luftbonbon\n",
      "2024-02-03 11:38:53,275 - INFO - URL https://www.eversports.de/sp/luftbonbon is valid.\n",
      "2024-02-03 11:38:53,276 - INFO - Processing URL 4/4: https://www.eversports.de/s/luftbonbon/team\n",
      "2024-02-03 11:38:54,593 - INFO - URL https://www.eversports.de/s/luftbonbon/team is valid.\n"
     ]
    },
    {
     "name": "stdout",
     "output_type": "stream",
     "text": [
      "Scraping Pole Studio Data from https://www.eversports.de/s/luftbonbon...\n",
      "Scraping Workshops Data from https://www.eversports.de/sw/luftbonbon...\n",
      "Scraping Workshop Details from https://www.eversports.de/e/workshop/60kU5cU...\n"
     ]
    },
    {
     "name": "stderr",
     "output_type": "stream",
     "text": [
      "Processing URLs:  30%|███       | 121/403 [09:00<26:00,  5.53s/it, Current URL: https://www.eversports.de/s/luftbonbon]         "
     ]
    },
    {
     "name": "stdout",
     "output_type": "stream",
     "text": [
      "Processing completed.\n",
      "Pole Studio Data: 1 entries\n",
      "Workshops Data: 1 entries\n",
      "Workshop Details: 1 entries\n",
      "Starting URL reconstruction...\n"
     ]
    },
    {
     "name": "stderr",
     "output_type": "stream",
     "text": [
      "2024-02-03 11:38:58,817 - INFO - Processing URL 1/3: https://www.eversports.de/s/polefamily-koblenz\n"
     ]
    },
    {
     "name": "stdout",
     "output_type": "stream",
     "text": [
      "Converting to DataFrame...\n",
      "Validating URLs...\n"
     ]
    },
    {
     "name": "stderr",
     "output_type": "stream",
     "text": [
      "2024-02-03 11:39:00,196 - INFO - URL https://www.eversports.de/s/polefamily-koblenz is valid.\n",
      "2024-02-03 11:39:00,197 - INFO - Processing URL 2/3: https://www.eversports.de/sp/polefamily-koblenz\n",
      "2024-02-03 11:39:01,359 - INFO - URL https://www.eversports.de/sp/polefamily-koblenz is valid.\n",
      "2024-02-03 11:39:01,361 - INFO - Processing URL 3/3: https://www.eversports.de/s/polefamily-koblenz/team\n",
      "2024-02-03 11:39:02,690 - INFO - URL https://www.eversports.de/s/polefamily-koblenz/team is valid.\n"
     ]
    },
    {
     "name": "stdout",
     "output_type": "stream",
     "text": [
      "Scraping Pole Studio Data from https://www.eversports.de/s/polefamily-koblenz...\n"
     ]
    },
    {
     "name": "stderr",
     "output_type": "stream",
     "text": [
      "Processing URLs:  30%|███       | 122/403 [09:06<26:15,  5.61s/it, Current URL: https://www.eversports.de/s/polefamily-koblenz]"
     ]
    },
    {
     "name": "stdout",
     "output_type": "stream",
     "text": [
      "Processing completed.\n",
      "Pole Studio Data: 1 entries\n",
      "Starting URL reconstruction...\n"
     ]
    },
    {
     "name": "stderr",
     "output_type": "stream",
     "text": [
      "Processing URLs:  31%|███       | 123/403 [09:08<20:20,  4.36s/it, Current URL: https://www.eversports.de/s/tanzstudio-vi-dance-dortmund]"
     ]
    },
    {
     "name": "stdout",
     "output_type": "stream",
     "text": [
      "Error during HTTP request: 404 Client Error: Not Found for url: https://www.eversports.de/s/tanzstudio-vi-dance-dortmund\n",
      "Converting to DataFrame...\n",
      "Validating URLs...\n",
      "Processing completed.\n",
      "Starting URL reconstruction...\n"
     ]
    },
    {
     "name": "stderr",
     "output_type": "stream",
     "text": [
      "Processing URLs:  31%|███       | 124/403 [09:09<16:02,  3.45s/it, Current URL: https://www.eversports.de/s/verticalspirit-chemnitz-e.-v.]"
     ]
    },
    {
     "name": "stdout",
     "output_type": "stream",
     "text": [
      "Error during HTTP request: 404 Client Error: Not Found for url: https://www.eversports.de/s/verticalspirit-chemnitz-e.-v.\n",
      "Converting to DataFrame...\n",
      "Validating URLs...\n",
      "Processing completed.\n",
      "Starting URL reconstruction...\n"
     ]
    },
    {
     "name": "stderr",
     "output_type": "stream",
     "text": [
      "Processing URLs:  31%|███       | 125/403 [09:10<12:49,  2.77s/it, Current URL: https://www.eversports.de/s/freaky-pole-cats-cham]        "
     ]
    },
    {
     "name": "stdout",
     "output_type": "stream",
     "text": [
      "Error during HTTP request: 404 Client Error: Not Found for url: https://www.eversports.de/s/freaky-pole-cats-cham\n",
      "Converting to DataFrame...\n",
      "Validating URLs...\n",
      "Processing completed.\n",
      "Starting URL reconstruction...\n"
     ]
    },
    {
     "name": "stderr",
     "output_type": "stream",
     "text": [
      "Processing URLs:  31%|███▏      | 126/403 [09:11<10:48,  2.34s/it, Current URL: https://www.eversports.de/s/b.fitness-pole%26body]"
     ]
    },
    {
     "name": "stdout",
     "output_type": "stream",
     "text": [
      "Error during HTTP request: 404 Client Error: Not Found for url: https://www.eversports.de/s/b.fitness-pole%26body\n",
      "Converting to DataFrame...\n",
      "Validating URLs...\n",
      "Processing completed.\n",
      "Starting URL reconstruction...\n"
     ]
    },
    {
     "name": "stderr",
     "output_type": "stream",
     "text": [
      "2024-02-03 11:39:09,965 - INFO - Processing URL 1/3: https://www.eversports.de/s/upsidedown-studio-friedrichsdorf\n"
     ]
    },
    {
     "name": "stdout",
     "output_type": "stream",
     "text": [
      "Error reconstructing URL for 'Kurse': Unrecognized text: 'Kurse'\n",
      "Converting to DataFrame...\n",
      "Validating URLs...\n"
     ]
    },
    {
     "name": "stderr",
     "output_type": "stream",
     "text": [
      "2024-02-03 11:39:11,341 - INFO - URL https://www.eversports.de/s/upsidedown-studio-friedrichsdorf is valid.\n",
      "2024-02-03 11:39:11,343 - INFO - Processing URL 2/3: https://www.eversports.de/sp/upsidedown-studio-friedrichsdorf\n",
      "2024-02-03 11:39:12,579 - INFO - URL https://www.eversports.de/sp/upsidedown-studio-friedrichsdorf is valid.\n",
      "2024-02-03 11:39:12,580 - INFO - Processing URL 3/3: https://www.eversports.de/s/upsidedown-studio-friedrichsdorf/team\n",
      "2024-02-03 11:39:15,316 - INFO - URL https://www.eversports.de/s/upsidedown-studio-friedrichsdorf/team is valid.\n"
     ]
    },
    {
     "name": "stdout",
     "output_type": "stream",
     "text": [
      "Scraping Pole Studio Data from https://www.eversports.de/s/upsidedown-studio-friedrichsdorf...\n"
     ]
    },
    {
     "name": "stderr",
     "output_type": "stream",
     "text": [
      "Processing URLs:  32%|███▏      | 127/403 [09:19<17:24,  3.79s/it, Current URL: https://www.eversports.de/s/upsidedown-studio-friedrichsdorf]"
     ]
    },
    {
     "name": "stdout",
     "output_type": "stream",
     "text": [
      "Processing completed.\n",
      "Pole Studio Data: 1 entries\n",
      "Starting URL reconstruction...\n"
     ]
    },
    {
     "name": "stderr",
     "output_type": "stream",
     "text": [
      "2024-02-03 11:39:17,455 - INFO - Processing URL 1/4: https://www.eversports.de/s/a-heart-for-poledance-1\n"
     ]
    },
    {
     "name": "stdout",
     "output_type": "stream",
     "text": [
      "Error reconstructing URL for 'Trainings': Unrecognized text: 'Trainings'\n",
      "Converting to DataFrame...\n",
      "Validating URLs...\n"
     ]
    },
    {
     "name": "stderr",
     "output_type": "stream",
     "text": [
      "2024-02-03 11:39:18,850 - INFO - URL https://www.eversports.de/s/a-heart-for-poledance-1 is valid.\n",
      "2024-02-03 11:39:18,851 - INFO - Processing URL 2/4: https://www.eversports.de/sw/a-heart-for-poledance-1\n",
      "2024-02-03 11:39:21,253 - INFO - URL https://www.eversports.de/sw/a-heart-for-poledance-1 is valid.\n",
      "2024-02-03 11:39:21,254 - INFO - Processing URL 3/4: https://www.eversports.de/sp/a-heart-for-poledance-1\n",
      "2024-02-03 11:39:22,387 - INFO - URL https://www.eversports.de/sp/a-heart-for-poledance-1 is valid.\n",
      "2024-02-03 11:39:22,388 - INFO - Processing URL 4/4: https://www.eversports.de/s/a-heart-for-poledance-1/team\n",
      "2024-02-03 11:39:23,600 - INFO - URL https://www.eversports.de/s/a-heart-for-poledance-1/team is valid.\n"
     ]
    },
    {
     "name": "stdout",
     "output_type": "stream",
     "text": [
      "Scraping Pole Studio Data from https://www.eversports.de/s/a-heart-for-poledance-1...\n",
      "Scraping Workshops Data from https://www.eversports.de/sw/a-heart-for-poledance-1...\n",
      "Scraping Workshop Details from https://www.eversports.de/e/workshop/5VJvMXI...\n",
      "Scraping Workshop Details from https://www.eversports.de/e/workshop/jQOaOC3...\n",
      "Scraping Workshop Details from https://www.eversports.de/e/workshop/H4Qz_fT...\n",
      "Scraping Workshop Details from https://www.eversports.de/e/workshop/nOac6zt...\n",
      "Scraping Workshop Details from https://www.eversports.de/e/workshop/yMiXoIi...\n"
     ]
    },
    {
     "name": "stderr",
     "output_type": "stream",
     "text": [
      "Processing URLs:  32%|███▏      | 128/403 [09:36<35:32,  7.75s/it, Current URL: https://www.eversports.de/s/a-heart-for-poledance-1]         "
     ]
    },
    {
     "name": "stdout",
     "output_type": "stream",
     "text": [
      "Processing completed.\n",
      "Pole Studio Data: 1 entries\n",
      "Workshops Data: 5 entries\n",
      "Workshop Details: 5 entries\n",
      "Starting URL reconstruction...\n"
     ]
    },
    {
     "name": "stderr",
     "output_type": "stream",
     "text": [
      "Processing URLs:  32%|███▏      | 129/403 [09:39<29:34,  6.48s/it, Current URL: https://www.eversports.de/s/schwerelos-münster]     "
     ]
    },
    {
     "name": "stdout",
     "output_type": "stream",
     "text": [
      "Error during HTTP request: Exceeded 30 redirects.\n",
      "Converting to DataFrame...\n",
      "Validating URLs...\n",
      "Processing completed.\n",
      "Starting URL reconstruction...\n"
     ]
    },
    {
     "name": "stderr",
     "output_type": "stream",
     "text": [
      "Processing URLs:  32%|███▏      | 130/403 [09:40<22:04,  4.85s/it, Current URL: https://www.eversports.de/s/move-lounge-pilates,-powerplate,-trx,-personaltraining]"
     ]
    },
    {
     "name": "stdout",
     "output_type": "stream",
     "text": [
      "Error during HTTP request: 404 Client Error: Not Found for url: https://www.eversports.de/s/move-lounge-pilates,-powerplate,-trx,-personaltraining\n",
      "Converting to DataFrame...\n",
      "Validating URLs...\n",
      "Processing completed.\n",
      "Starting URL reconstruction...\n"
     ]
    },
    {
     "name": "stderr",
     "output_type": "stream",
     "text": [
      "Processing URLs:  33%|███▎      | 131/403 [09:44<20:02,  4.42s/it, Current URL: https://www.eversports.de/s/dance-moves-wolfenb%c3%bcttel]                         "
     ]
    },
    {
     "name": "stdout",
     "output_type": "stream",
     "text": [
      "Error during HTTP request: Exceeded 30 redirects.\n",
      "Converting to DataFrame...\n",
      "Validating URLs...\n",
      "Processing completed.\n",
      "Starting URL reconstruction...\n"
     ]
    },
    {
     "name": "stderr",
     "output_type": "stream",
     "text": [
      "2024-02-03 11:39:41,918 - INFO - Processing URL 1/1: https://www.eversports.de/s/poleworkx\n"
     ]
    },
    {
     "name": "stdout",
     "output_type": "stream",
     "text": [
      "Converting to DataFrame...\n",
      "Validating URLs...\n"
     ]
    },
    {
     "name": "stderr",
     "output_type": "stream",
     "text": [
      "2024-02-03 11:39:43,173 - INFO - URL https://www.eversports.de/s/poleworkx is valid.\n"
     ]
    },
    {
     "name": "stdout",
     "output_type": "stream",
     "text": [
      "Scraping Pole Studio Data from https://www.eversports.de/s/poleworkx...\n"
     ]
    },
    {
     "name": "stderr",
     "output_type": "stream",
     "text": [
      "Processing URLs:  33%|███▎      | 132/403 [09:46<17:44,  3.93s/it, Current URL: https://www.eversports.de/s/poleworkx]                    "
     ]
    },
    {
     "name": "stdout",
     "output_type": "stream",
     "text": [
      "Processing completed.\n",
      "Pole Studio Data: 1 entries\n",
      "Starting URL reconstruction...\n"
     ]
    },
    {
     "name": "stderr",
     "output_type": "stream",
     "text": [
      "Processing URLs:  33%|███▎      | 133/403 [09:47<13:55,  3.09s/it, Current URL: https://www.eversports.de/s/polemotions]"
     ]
    },
    {
     "name": "stdout",
     "output_type": "stream",
     "text": [
      "Error during HTTP request: 404 Client Error: Not Found for url: https://www.eversports.de/s/polemotions\n",
      "Converting to DataFrame...\n",
      "Validating URLs...\n",
      "Processing completed.\n",
      "Starting URL reconstruction...\n"
     ]
    },
    {
     "name": "stderr",
     "output_type": "stream",
     "text": [
      "Processing URLs:  33%|███▎      | 134/403 [09:49<11:12,  2.50s/it, Current URL: https://www.eversports.de/s/seemannsbraut-poledance-flensburg]"
     ]
    },
    {
     "name": "stdout",
     "output_type": "stream",
     "text": [
      "Error during HTTP request: 404 Client Error: Not Found for url: https://www.eversports.de/s/seemannsbraut-poledance-flensburg\n",
      "Converting to DataFrame...\n",
      "Validating URLs...\n",
      "Processing completed.\n",
      "Starting URL reconstruction...\n"
     ]
    },
    {
     "name": "stderr",
     "output_type": "stream",
     "text": [
      "2024-02-03 11:39:48,231 - INFO - Processing URL 1/3: https://www.eversports.de/s/infinity-polesports\n"
     ]
    },
    {
     "name": "stdout",
     "output_type": "stream",
     "text": [
      "Converting to DataFrame...\n",
      "Validating URLs...\n"
     ]
    },
    {
     "name": "stderr",
     "output_type": "stream",
     "text": [
      "2024-02-03 11:39:49,529 - INFO - URL https://www.eversports.de/s/infinity-polesports is valid.\n",
      "2024-02-03 11:39:49,530 - INFO - Processing URL 2/3: https://www.eversports.de/sp/infinity-polesports\n",
      "2024-02-03 11:39:50,642 - INFO - URL https://www.eversports.de/sp/infinity-polesports is valid.\n",
      "2024-02-03 11:39:50,643 - INFO - Processing URL 3/3: https://www.eversports.de/s/infinity-polesports/team\n",
      "2024-02-03 11:39:51,800 - INFO - URL https://www.eversports.de/s/infinity-polesports/team is valid.\n"
     ]
    },
    {
     "name": "stdout",
     "output_type": "stream",
     "text": [
      "Scraping Pole Studio Data from https://www.eversports.de/s/infinity-polesports...\n"
     ]
    },
    {
     "name": "stderr",
     "output_type": "stream",
     "text": [
      "Processing URLs:  33%|███▎      | 135/403 [09:57<19:23,  4.34s/it, Current URL: https://www.eversports.de/s/infinity-polesports]              "
     ]
    },
    {
     "name": "stdout",
     "output_type": "stream",
     "text": [
      "Processing completed.\n",
      "Pole Studio Data: 1 entries\n",
      "Starting URL reconstruction...\n"
     ]
    },
    {
     "name": "stderr",
     "output_type": "stream",
     "text": [
      "Processing URLs:  34%|███▎      | 136/403 [09:58<15:03,  3.38s/it, Current URL: https://www.eversports.de/s/studio-elodie-tanzbewegung]"
     ]
    },
    {
     "name": "stdout",
     "output_type": "stream",
     "text": [
      "Error during HTTP request: 404 Client Error: Not Found for url: https://www.eversports.de/s/studio-elodie-tanzbewegung\n",
      "Converting to DataFrame...\n",
      "Validating URLs...\n",
      "Processing completed.\n",
      "Starting URL reconstruction...\n"
     ]
    },
    {
     "name": "stderr",
     "output_type": "stream",
     "text": [
      "Processing URLs:  34%|███▍      | 137/403 [09:59<11:57,  2.70s/it, Current URL: https://www.eversports.de/s/exotic-academy]            "
     ]
    },
    {
     "name": "stdout",
     "output_type": "stream",
     "text": [
      "Error during HTTP request: 404 Client Error: Not Found for url: https://www.eversports.de/s/exotic-academy\n",
      "Converting to DataFrame...\n",
      "Validating URLs...\n",
      "Processing completed.\n",
      "Starting URL reconstruction...\n"
     ]
    },
    {
     "name": "stderr",
     "output_type": "stream",
     "text": [
      "Processing URLs:  34%|███▍      | 138/403 [10:01<10:15,  2.32s/it, Current URL: https://www.eversports.de/s/crazysports-augsburg]"
     ]
    },
    {
     "name": "stdout",
     "output_type": "stream",
     "text": [
      "Error during HTTP request: 404 Client Error: Not Found for url: https://www.eversports.de/s/crazysports-augsburg\n",
      "Converting to DataFrame...\n",
      "Validating URLs...\n",
      "Processing completed.\n",
      "Starting URL reconstruction...\n"
     ]
    },
    {
     "name": "stderr",
     "output_type": "stream",
     "text": [
      "Processing URLs:  34%|███▍      | 139/403 [10:02<08:34,  1.95s/it, Current URL: https://www.eversports.de/s/polefitness-tituba-m%c3%b6nchengladbach!]"
     ]
    },
    {
     "name": "stdout",
     "output_type": "stream",
     "text": [
      "Error during HTTP request: 404 Client Error: Not Found for url: https://www.eversports.de/s/polefitness-tituba-m%C3%B6nchengladbach!\n",
      "Converting to DataFrame...\n",
      "Validating URLs...\n",
      "Processing completed.\n",
      "Starting URL reconstruction...\n"
     ]
    },
    {
     "name": "stderr",
     "output_type": "stream",
     "text": [
      "2024-02-03 11:40:00,537 - INFO - Processing URL 1/4: https://www.eversports.de/s/schwerelos-muenster\n"
     ]
    },
    {
     "name": "stdout",
     "output_type": "stream",
     "text": [
      "Error reconstructing URL for 'Trainings': Unrecognized text: 'Trainings'\n",
      "Error reconstructing URL for 'Kurse': Unrecognized text: 'Kurse'\n",
      "Converting to DataFrame...\n",
      "Validating URLs...\n"
     ]
    },
    {
     "name": "stderr",
     "output_type": "stream",
     "text": [
      "2024-02-03 11:40:03,434 - INFO - URL https://www.eversports.de/s/schwerelos-muenster is valid.\n",
      "2024-02-03 11:40:03,435 - INFO - Processing URL 2/4: https://www.eversports.de/sw/schwerelos-muenster\n",
      "2024-02-03 11:40:04,895 - INFO - URL https://www.eversports.de/sw/schwerelos-muenster is valid.\n",
      "2024-02-03 11:40:04,895 - INFO - Processing URL 3/4: https://www.eversports.de/sp/schwerelos-muenster\n",
      "2024-02-03 11:40:05,997 - INFO - URL https://www.eversports.de/sp/schwerelos-muenster is valid.\n",
      "2024-02-03 11:40:05,998 - INFO - Processing URL 4/4: https://www.eversports.de/s/schwerelos-muenster/team\n",
      "2024-02-03 11:40:07,164 - INFO - URL https://www.eversports.de/s/schwerelos-muenster/team is valid.\n"
     ]
    },
    {
     "name": "stdout",
     "output_type": "stream",
     "text": [
      "Scraping Pole Studio Data from https://www.eversports.de/s/schwerelos-muenster...\n",
      "Scraping Workshops Data from https://www.eversports.de/sw/schwerelos-muenster...\n",
      "Scraping Workshop Details from https://www.eversports.de/e/workshop/3sYwu8j...\n",
      "Scraping Workshop Details from https://www.eversports.de/e/workshop/sJO5aQ1...\n",
      "Scraping Workshop Details from https://www.eversports.de/e/workshop/ZP_skji...\n",
      "Scraping Workshop Details from https://www.eversports.de/e/workshop/T2iJuZb...\n",
      "Scraping Workshop Details from https://www.eversports.de/e/workshop/JKD4cQ5...\n",
      "Scraping Workshop Details from https://www.eversports.de/e/workshop/fVM0ULF...\n",
      "Scraping Workshop Details from https://www.eversports.de/e/workshop/9fkoAyU...\n",
      "Scraping Workshop Details from https://www.eversports.de/e/workshop/leDNfNr...\n",
      "Scraping Workshop Details from https://www.eversports.de/e/workshop/ahCVYvh...\n",
      "Scraping Workshop Details from https://www.eversports.de/e/workshop/RjsCf5S...\n",
      "Scraping Workshop Details from https://www.eversports.de/e/workshop/ZOxKKrM...\n",
      "Scraping Workshop Details from https://www.eversports.de/e/workshop/Zq0GQNB...\n",
      "Scraping Workshop Details from https://www.eversports.de/e/workshop/xPGUjbS...\n"
     ]
    },
    {
     "name": "stderr",
     "output_type": "stream",
     "text": [
      "Processing URLs:  35%|███▍      | 140/403 [10:31<44:27, 10.14s/it, Current URL: https://www.eversports.de/s/schwerelos-muenster]                     "
     ]
    },
    {
     "name": "stdout",
     "output_type": "stream",
     "text": [
      "Processing completed.\n",
      "Pole Studio Data: 1 entries\n",
      "Workshops Data: 13 entries\n",
      "Workshop Details: 13 entries\n",
      "Starting URL reconstruction...\n"
     ]
    },
    {
     "name": "stderr",
     "output_type": "stream",
     "text": [
      "2024-02-03 11:40:29,777 - INFO - Processing URL 1/4: https://www.eversports.de/s/t-tanzstueck-braunschweig\n"
     ]
    },
    {
     "name": "stdout",
     "output_type": "stream",
     "text": [
      "Error reconstructing URL for 'Kurse': Unrecognized text: 'Kurse'\n",
      "Converting to DataFrame...\n",
      "Validating URLs...\n"
     ]
    },
    {
     "name": "stderr",
     "output_type": "stream",
     "text": [
      "2024-02-03 11:40:31,067 - INFO - URL https://www.eversports.de/s/t-tanzstueck-braunschweig is valid.\n",
      "2024-02-03 11:40:31,068 - INFO - Processing URL 2/4: https://www.eversports.de/sw/t-tanzstueck-braunschweig\n",
      "2024-02-03 11:40:32,255 - INFO - URL https://www.eversports.de/sw/t-tanzstueck-braunschweig is valid.\n",
      "2024-02-03 11:40:32,256 - INFO - Processing URL 3/4: https://www.eversports.de/sp/t-tanzstueck-braunschweig\n",
      "2024-02-03 11:40:33,329 - INFO - URL https://www.eversports.de/sp/t-tanzstueck-braunschweig is valid.\n",
      "2024-02-03 11:40:33,330 - INFO - Processing URL 4/4: https://www.eversports.de/s/t-tanzstueck-braunschweig/team\n",
      "2024-02-03 11:40:34,554 - INFO - URL https://www.eversports.de/s/t-tanzstueck-braunschweig/team is valid.\n"
     ]
    },
    {
     "name": "stdout",
     "output_type": "stream",
     "text": [
      "Scraping Pole Studio Data from https://www.eversports.de/s/t-tanzstueck-braunschweig...\n",
      "Scraping Workshops Data from https://www.eversports.de/sw/t-tanzstueck-braunschweig...\n",
      "Scraping Workshop Details from https://www.eversports.de/e/workshop/itCOcd3...\n"
     ]
    },
    {
     "name": "stderr",
     "output_type": "stream",
     "text": [
      "Processing URLs:  35%|███▍      | 141/403 [10:41<43:41, 10.00s/it, Current URL: https://www.eversports.de/s/t-tanzstueck-braunschweig]"
     ]
    },
    {
     "name": "stdout",
     "output_type": "stream",
     "text": [
      "Processing completed.\n",
      "Pole Studio Data: 1 entries\n",
      "Workshops Data: 1 entries\n",
      "Workshop Details: 1 entries\n",
      "Starting URL reconstruction...\n"
     ]
    },
    {
     "name": "stderr",
     "output_type": "stream",
     "text": [
      "Processing URLs:  35%|███▌      | 142/403 [10:42<31:58,  7.35s/it, Current URL: https://www.eversports.de/s/empire-pole]              "
     ]
    },
    {
     "name": "stdout",
     "output_type": "stream",
     "text": [
      "Error during HTTP request: 404 Client Error: Not Found for url: https://www.eversports.de/s/empire-pole\n",
      "Converting to DataFrame...\n",
      "Validating URLs...\n",
      "Processing completed.\n",
      "Starting URL reconstruction...\n"
     ]
    },
    {
     "name": "stderr",
     "output_type": "stream",
     "text": [
      "Processing URLs:  35%|███▌      | 143/403 [10:43<23:35,  5.45s/it, Current URL: https://www.eversports.de/s/dance-&-pole-leverkusen]"
     ]
    },
    {
     "name": "stdout",
     "output_type": "stream",
     "text": [
      "Error during HTTP request: 404 Client Error: Not Found for url: https://www.eversports.de/s/dance-&-pole-leverkusen\n",
      "Converting to DataFrame...\n",
      "Validating URLs...\n",
      "Processing completed.\n",
      "Starting URL reconstruction...\n"
     ]
    },
    {
     "name": "stderr",
     "output_type": "stream",
     "text": [
      "2024-02-03 11:40:41,593 - INFO - Processing URL 1/3: https://www.eversports.de/s/yoga-vidya-burgdorf\n"
     ]
    },
    {
     "name": "stdout",
     "output_type": "stream",
     "text": [
      "Error reconstructing URL for 'Kurse': Unrecognized text: 'Kurse'\n",
      "Error reconstructing URL for 'Retreats': Unrecognized text: 'Retreats'\n",
      "Converting to DataFrame...\n",
      "Validating URLs...\n"
     ]
    },
    {
     "name": "stderr",
     "output_type": "stream",
     "text": [
      "2024-02-03 11:40:42,923 - INFO - URL https://www.eversports.de/s/yoga-vidya-burgdorf is valid.\n",
      "2024-02-03 11:40:42,924 - INFO - Processing URL 2/3: https://www.eversports.de/sp/yoga-vidya-burgdorf\n",
      "2024-02-03 11:40:44,040 - INFO - URL https://www.eversports.de/sp/yoga-vidya-burgdorf is valid.\n",
      "2024-02-03 11:40:44,042 - INFO - Processing URL 3/3: https://www.eversports.de/s/yoga-vidya-burgdorf/team\n",
      "2024-02-03 11:40:45,315 - INFO - URL https://www.eversports.de/s/yoga-vidya-burgdorf/team is valid.\n"
     ]
    },
    {
     "name": "stdout",
     "output_type": "stream",
     "text": [
      "Scraping Pole Studio Data from https://www.eversports.de/s/yoga-vidya-burgdorf...\n"
     ]
    },
    {
     "name": "stderr",
     "output_type": "stream",
     "text": [
      "Processing URLs:  36%|███▌      | 144/403 [10:49<23:40,  5.49s/it, Current URL: https://www.eversports.de/s/yoga-vidya-burgdorf]    "
     ]
    },
    {
     "name": "stdout",
     "output_type": "stream",
     "text": [
      "Processing completed.\n",
      "Pole Studio Data: 1 entries\n",
      "Starting URL reconstruction...\n"
     ]
    },
    {
     "name": "stderr",
     "output_type": "stream",
     "text": [
      "Processing URLs:  36%|███▌      | 145/403 [10:50<18:11,  4.23s/it, Current URL: https://www.eversports.de/s/lioness-lodge]      "
     ]
    },
    {
     "name": "stdout",
     "output_type": "stream",
     "text": [
      "Error during HTTP request: 404 Client Error: Not Found for url: https://www.eversports.de/s/lioness-lodge\n",
      "Converting to DataFrame...\n",
      "Validating URLs...\n",
      "Processing completed.\n",
      "Starting URL reconstruction...\n"
     ]
    },
    {
     "name": "stderr",
     "output_type": "stream",
     "text": [
      "2024-02-03 11:40:48,907 - INFO - Processing URL 1/3: https://www.eversports.de/s/airobics\n"
     ]
    },
    {
     "name": "stdout",
     "output_type": "stream",
     "text": [
      "Error reconstructing URL for 'Kurse': Unrecognized text: 'Kurse'\n",
      "Converting to DataFrame...\n",
      "Validating URLs...\n"
     ]
    },
    {
     "name": "stderr",
     "output_type": "stream",
     "text": [
      "2024-02-03 11:40:50,380 - INFO - URL https://www.eversports.de/s/airobics is valid.\n",
      "2024-02-03 11:40:50,381 - INFO - Processing URL 2/3: https://www.eversports.de/sp/airobics\n",
      "2024-02-03 11:40:51,895 - INFO - URL https://www.eversports.de/sp/airobics is valid.\n",
      "2024-02-03 11:40:51,896 - INFO - Processing URL 3/3: https://www.eversports.de/s/airobics/team\n",
      "2024-02-03 11:40:53,127 - INFO - URL https://www.eversports.de/s/airobics/team is valid.\n"
     ]
    },
    {
     "name": "stdout",
     "output_type": "stream",
     "text": [
      "Scraping Pole Studio Data from https://www.eversports.de/s/airobics...\n"
     ]
    },
    {
     "name": "stderr",
     "output_type": "stream",
     "text": [
      "Processing URLs:  36%|███▌      | 146/403 [10:56<20:59,  4.90s/it, Current URL: https://www.eversports.de/s/airobics]     "
     ]
    },
    {
     "name": "stdout",
     "output_type": "stream",
     "text": [
      "Processing completed.\n",
      "Pole Studio Data: 1 entries\n",
      "Starting URL reconstruction...\n"
     ]
    },
    {
     "name": "stderr",
     "output_type": "stream",
     "text": [
      "Processing URLs:  36%|███▋      | 147/403 [10:58<17:00,  3.99s/it, Current URL: https://www.eversports.de/s/exquisuite]"
     ]
    },
    {
     "name": "stdout",
     "output_type": "stream",
     "text": [
      "Error during HTTP request: 404 Client Error: Not Found for url: https://www.eversports.de/s/exquisuite\n",
      "Converting to DataFrame...\n",
      "Validating URLs...\n",
      "Processing completed.\n",
      "Starting URL reconstruction...\n"
     ]
    },
    {
     "name": "stderr",
     "output_type": "stream",
     "text": [
      "Processing URLs:  37%|███▋      | 148/403 [11:00<13:22,  3.15s/it, Current URL: https://www.eversports.de/s/lea-aqua]  "
     ]
    },
    {
     "name": "stdout",
     "output_type": "stream",
     "text": [
      "Error during HTTP request: 404 Client Error: Not Found for url: https://www.eversports.de/s/lea-aqua\n",
      "Converting to DataFrame...\n",
      "Validating URLs...\n",
      "Processing completed.\n",
      "Starting URL reconstruction...\n"
     ]
    },
    {
     "name": "stderr",
     "output_type": "stream",
     "text": [
      "Processing URLs:  37%|███▋      | 149/403 [11:01<10:45,  2.54s/it, Current URL: https://www.eversports.de/s/polevybe]"
     ]
    },
    {
     "name": "stdout",
     "output_type": "stream",
     "text": [
      "Error during HTTP request: 404 Client Error: Not Found for url: https://www.eversports.de/s/polevybe\n",
      "Converting to DataFrame...\n",
      "Validating URLs...\n",
      "Processing completed.\n",
      "Starting URL reconstruction...\n"
     ]
    },
    {
     "name": "stderr",
     "output_type": "stream",
     "text": [
      "Processing URLs:  37%|███▋      | 150/403 [11:06<14:15,  3.38s/it, Current URL: https://www.eversports.de/s/crazypole%c2%ae]"
     ]
    },
    {
     "name": "stdout",
     "output_type": "stream",
     "text": [
      "Error during HTTP request: Exceeded 30 redirects.\n",
      "Converting to DataFrame...\n",
      "Validating URLs...\n",
      "Processing completed.\n",
      "Starting URL reconstruction...\n"
     ]
    },
    {
     "name": "stderr",
     "output_type": "stream",
     "text": [
      "Processing URLs:  37%|███▋      | 151/403 [11:07<11:22,  2.71s/it, Current URL: https://www.eversports.de/s/pole-fit-nes]   "
     ]
    },
    {
     "name": "stdout",
     "output_type": "stream",
     "text": [
      "Error during HTTP request: 404 Client Error: Not Found for url: https://www.eversports.de/s/pole-fit-nes\n",
      "Converting to DataFrame...\n",
      "Validating URLs...\n",
      "Processing completed.\n",
      "Starting URL reconstruction...\n"
     ]
    },
    {
     "name": "stderr",
     "output_type": "stream",
     "text": [
      "2024-02-03 11:41:05,491 - INFO - Processing URL 1/4: https://www.eversports.de/s/pole-and-move-heidelberg\n"
     ]
    },
    {
     "name": "stdout",
     "output_type": "stream",
     "text": [
      "Converting to DataFrame...\n",
      "Validating URLs...\n"
     ]
    },
    {
     "name": "stderr",
     "output_type": "stream",
     "text": [
      "2024-02-03 11:41:06,933 - INFO - URL https://www.eversports.de/s/pole-and-move-heidelberg is valid.\n",
      "2024-02-03 11:41:06,934 - INFO - Processing URL 2/4: https://www.eversports.de/sw/pole-and-move-heidelberg\n",
      "2024-02-03 11:41:08,470 - INFO - URL https://www.eversports.de/sw/pole-and-move-heidelberg is valid.\n",
      "2024-02-03 11:41:08,471 - INFO - Processing URL 3/4: https://www.eversports.de/sp/pole-and-move-heidelberg\n",
      "2024-02-03 11:41:09,564 - INFO - URL https://www.eversports.de/sp/pole-and-move-heidelberg is valid.\n",
      "2024-02-03 11:41:09,565 - INFO - Processing URL 4/4: https://www.eversports.de/s/pole-and-move-heidelberg/team\n",
      "2024-02-03 11:41:10,845 - INFO - URL https://www.eversports.de/s/pole-and-move-heidelberg/team is valid.\n"
     ]
    },
    {
     "name": "stdout",
     "output_type": "stream",
     "text": [
      "Scraping Pole Studio Data from https://www.eversports.de/s/pole-and-move-heidelberg...\n",
      "Scraping Workshops Data from https://www.eversports.de/sw/pole-and-move-heidelberg...\n",
      "Scraping Workshop Details from https://www.eversports.de/e/workshop/VYi81mK...\n",
      "Scraping Workshop Details from https://www.eversports.de/e/workshop/101RSFR...\n",
      "Scraping Workshop Details from https://www.eversports.de/e/workshop/AnumKko...\n",
      "Scraping Workshop Details from https://www.eversports.de/e/workshop/aqDwRxt...\n",
      "Scraping Workshop Details from https://www.eversports.de/e/workshop/xpUUbAx...\n",
      "Scraping Workshop Details from https://www.eversports.de/e/workshop/yXAMy8l...\n",
      "Scraping Workshop Details from https://www.eversports.de/e/workshop/mI91ydw...\n",
      "Scraping Workshop Details from https://www.eversports.de/e/workshop/Ngcpd4l...\n",
      "Scraping Workshop Details from https://www.eversports.de/e/workshop/ij8VZCH...\n"
     ]
    },
    {
     "name": "stderr",
     "output_type": "stream",
     "text": [
      "Processing URLs:  38%|███▊      | 152/403 [11:29<35:39,  8.53s/it, Current URL: https://www.eversports.de/s/pole-and-move-heidelberg]"
     ]
    },
    {
     "name": "stdout",
     "output_type": "stream",
     "text": [
      "Processing completed.\n",
      "Pole Studio Data: 1 entries\n",
      "Workshops Data: 9 entries\n",
      "Workshop Details: 9 entries\n",
      "Starting URL reconstruction...\n"
     ]
    },
    {
     "name": "stderr",
     "output_type": "stream",
     "text": [
      "2024-02-03 11:41:28,289 - INFO - Processing URL 1/1: https://www.eversports.de/s/muse-pole-dance\n"
     ]
    },
    {
     "name": "stdout",
     "output_type": "stream",
     "text": [
      "Converting to DataFrame...\n",
      "Validating URLs...\n"
     ]
    },
    {
     "name": "stderr",
     "output_type": "stream",
     "text": [
      "2024-02-03 11:41:29,490 - INFO - URL https://www.eversports.de/s/muse-pole-dance is valid.\n"
     ]
    },
    {
     "name": "stdout",
     "output_type": "stream",
     "text": [
      "Scraping Pole Studio Data from https://www.eversports.de/s/muse-pole-dance...\n"
     ]
    },
    {
     "name": "stderr",
     "output_type": "stream",
     "text": [
      "Processing URLs:  38%|███▊      | 153/403 [11:33<29:13,  7.01s/it, Current URL: https://www.eversports.de/s/muse-pole-dance]         "
     ]
    },
    {
     "name": "stdout",
     "output_type": "stream",
     "text": [
      "Processing completed.\n",
      "Pole Studio Data: 1 entries\n",
      "Starting URL reconstruction...\n"
     ]
    },
    {
     "name": "stderr",
     "output_type": "stream",
     "text": [
      "2024-02-03 11:41:31,358 - INFO - Processing URL 1/3: https://www.eversports.de/s/passionate-pole-and-sports\n"
     ]
    },
    {
     "name": "stdout",
     "output_type": "stream",
     "text": [
      "Converting to DataFrame...\n",
      "Validating URLs...\n"
     ]
    },
    {
     "name": "stderr",
     "output_type": "stream",
     "text": [
      "2024-02-03 11:41:32,812 - INFO - URL https://www.eversports.de/s/passionate-pole-and-sports is valid.\n",
      "2024-02-03 11:41:32,813 - INFO - Processing URL 2/3: https://www.eversports.de/sp/passionate-pole-and-sports\n",
      "2024-02-03 11:41:33,931 - INFO - URL https://www.eversports.de/sp/passionate-pole-and-sports is valid.\n",
      "2024-02-03 11:41:33,932 - INFO - Processing URL 3/3: https://www.eversports.de/s/passionate-pole-and-sports/team\n",
      "2024-02-03 11:41:35,112 - INFO - URL https://www.eversports.de/s/passionate-pole-and-sports/team is valid.\n"
     ]
    },
    {
     "name": "stdout",
     "output_type": "stream",
     "text": [
      "Scraping Pole Studio Data from https://www.eversports.de/s/passionate-pole-and-sports...\n"
     ]
    },
    {
     "name": "stderr",
     "output_type": "stream",
     "text": [
      "Processing URLs:  38%|███▊      | 154/403 [11:39<28:13,  6.80s/it, Current URL: https://www.eversports.de/s/passionate-pole-and-sports]"
     ]
    },
    {
     "name": "stdout",
     "output_type": "stream",
     "text": [
      "Processing completed.\n",
      "Pole Studio Data: 1 entries\n",
      "Starting URL reconstruction...\n"
     ]
    },
    {
     "name": "stderr",
     "output_type": "stream",
     "text": [
      "Processing URLs:  38%|███▊      | 155/403 [11:40<21:02,  5.09s/it, Current URL: https://www.eversports.de/s/le-chat-noir-berlin]       "
     ]
    },
    {
     "name": "stdout",
     "output_type": "stream",
     "text": [
      "Error during HTTP request: 404 Client Error: Not Found for url: https://www.eversports.de/s/le-chat-noir-berlin\n",
      "Converting to DataFrame...\n",
      "Validating URLs...\n",
      "Processing completed.\n",
      "Starting URL reconstruction...\n"
     ]
    },
    {
     "name": "stderr",
     "output_type": "stream",
     "text": [
      "Processing URLs:  39%|███▊      | 156/403 [11:41<16:02,  3.90s/it, Current URL: https://www.eversports.de/s/verticalarts-pole-%26-aerial-fitness]"
     ]
    },
    {
     "name": "stdout",
     "output_type": "stream",
     "text": [
      "Error during HTTP request: 404 Client Error: Not Found for url: https://www.eversports.de/s/verticalarts-pole-%26-aerial-fitness\n",
      "Converting to DataFrame...\n",
      "Validating URLs...\n",
      "Processing completed.\n",
      "Starting URL reconstruction...\n"
     ]
    },
    {
     "name": "stderr",
     "output_type": "stream",
     "text": [
      "Processing URLs:  39%|███▉      | 157/403 [11:42<12:30,  3.05s/it, Current URL: https://www.eversports.de/s/studio-aria-arte]                    "
     ]
    },
    {
     "name": "stdout",
     "output_type": "stream",
     "text": [
      "Error during HTTP request: 404 Client Error: Not Found for url: https://www.eversports.de/s/studio-aria-arte\n",
      "Converting to DataFrame...\n",
      "Validating URLs...\n",
      "Processing completed.\n",
      "Starting URL reconstruction...\n"
     ]
    },
    {
     "name": "stderr",
     "output_type": "stream",
     "text": [
      "2024-02-03 11:41:40,685 - INFO - Processing URL 1/3: https://www.eversports.de/s/st-polestudio\n"
     ]
    },
    {
     "name": "stdout",
     "output_type": "stream",
     "text": [
      "Converting to DataFrame...\n",
      "Validating URLs...\n"
     ]
    },
    {
     "name": "stderr",
     "output_type": "stream",
     "text": [
      "2024-02-03 11:41:41,895 - INFO - URL https://www.eversports.de/s/st-polestudio is valid.\n",
      "2024-02-03 11:41:41,896 - INFO - Processing URL 2/3: https://www.eversports.de/sp/st-polestudio\n",
      "2024-02-03 11:41:42,971 - INFO - URL https://www.eversports.de/sp/st-polestudio is valid.\n",
      "2024-02-03 11:41:42,971 - INFO - Processing URL 3/3: https://www.eversports.de/s/st-polestudio/team\n",
      "2024-02-03 11:41:44,110 - INFO - URL https://www.eversports.de/s/st-polestudio/team is valid.\n"
     ]
    },
    {
     "name": "stdout",
     "output_type": "stream",
     "text": [
      "Scraping Pole Studio Data from https://www.eversports.de/s/st-polestudio...\n"
     ]
    },
    {
     "name": "stderr",
     "output_type": "stream",
     "text": [
      "Processing URLs:  39%|███▉      | 158/403 [11:47<15:04,  3.69s/it, Current URL: https://www.eversports.de/s/st-polestudio]   "
     ]
    },
    {
     "name": "stdout",
     "output_type": "stream",
     "text": [
      "Processing completed.\n",
      "Pole Studio Data: 1 entries\n",
      "Starting URL reconstruction...\n"
     ]
    },
    {
     "name": "stderr",
     "output_type": "stream",
     "text": [
      "Processing URLs:  39%|███▉      | 159/403 [11:49<11:51,  2.92s/it, Current URL: https://www.eversports.de/s/polefitness-by-sophie-m.]"
     ]
    },
    {
     "name": "stdout",
     "output_type": "stream",
     "text": [
      "Error during HTTP request: 404 Client Error: Not Found for url: https://www.eversports.de/s/polefitness-by-sophie-m.\n",
      "Converting to DataFrame...\n",
      "Validating URLs...\n",
      "Processing completed.\n",
      "Starting URL reconstruction...\n"
     ]
    },
    {
     "name": "stderr",
     "output_type": "stream",
     "text": [
      "Processing URLs:  40%|███▉      | 160/403 [11:50<09:39,  2.39s/it, Current URL: https://www.eversports.de/s/pole-dance-studio-karlsruhe]"
     ]
    },
    {
     "name": "stdout",
     "output_type": "stream",
     "text": [
      "Error during HTTP request: 404 Client Error: Not Found for url: https://www.eversports.de/s/pole-dance-studio-karlsruhe\n",
      "Converting to DataFrame...\n",
      "Validating URLs...\n",
      "Processing completed.\n",
      "Starting URL reconstruction...\n"
     ]
    },
    {
     "name": "stderr",
     "output_type": "stream",
     "text": [
      "Processing URLs:  40%|███▉      | 161/403 [11:51<08:33,  2.12s/it, Current URL: https://www.eversports.de/s/pole-%40-bremerhaven]       "
     ]
    },
    {
     "name": "stdout",
     "output_type": "stream",
     "text": [
      "Error during HTTP request: 404 Client Error: Not Found for url: https://www.eversports.de/s/pole-%40-bremerhaven\n",
      "Converting to DataFrame...\n",
      "Validating URLs...\n",
      "Processing completed.\n",
      "Starting URL reconstruction...\n"
     ]
    },
    {
     "name": "stderr",
     "output_type": "stream",
     "text": [
      "Processing URLs:  40%|████      | 162/403 [11:56<11:21,  2.83s/it, Current URL: https://www.eversports.de/s/pole-room-%2f-poledance-%26-bodyworks]"
     ]
    },
    {
     "name": "stdout",
     "output_type": "stream",
     "text": [
      "Error during HTTP request: Exceeded 30 redirects.\n",
      "Converting to DataFrame...\n",
      "Validating URLs...\n",
      "Processing completed.\n",
      "Starting URL reconstruction...\n"
     ]
    },
    {
     "name": "stderr",
     "output_type": "stream",
     "text": [
      "Processing URLs:  40%|████      | 163/403 [11:57<09:19,  2.33s/it, Current URL: https://www.eversports.de/s/annaconda-pole-%26-aerial-sports]     "
     ]
    },
    {
     "name": "stdout",
     "output_type": "stream",
     "text": [
      "Error during HTTP request: 404 Client Error: Not Found for url: https://www.eversports.de/s/annaconda-pole-%26-aerial-sports\n",
      "Converting to DataFrame...\n",
      "Validating URLs...\n",
      "Processing completed.\n",
      "Starting URL reconstruction...\n"
     ]
    },
    {
     "name": "stderr",
     "output_type": "stream",
     "text": [
      "2024-02-03 11:41:55,330 - INFO - Processing URL 1/1: https://www.eversports.de/s/infinity-polesports-eggenfelden\n"
     ]
    },
    {
     "name": "stdout",
     "output_type": "stream",
     "text": [
      "Converting to DataFrame...\n",
      "Validating URLs...\n"
     ]
    },
    {
     "name": "stderr",
     "output_type": "stream",
     "text": [
      "2024-02-03 11:41:56,495 - INFO - URL https://www.eversports.de/s/infinity-polesports-eggenfelden is valid.\n"
     ]
    },
    {
     "name": "stdout",
     "output_type": "stream",
     "text": [
      "Scraping Pole Studio Data from https://www.eversports.de/s/infinity-polesports-eggenfelden...\n"
     ]
    },
    {
     "name": "stderr",
     "output_type": "stream",
     "text": [
      "Processing URLs:  41%|████      | 164/403 [12:00<09:52,  2.48s/it, Current URL: https://www.eversports.de/s/infinity-polesports-eggenfelden] "
     ]
    },
    {
     "name": "stdout",
     "output_type": "stream",
     "text": [
      "Processing completed.\n",
      "Pole Studio Data: 1 entries\n",
      "Starting URL reconstruction...\n"
     ]
    },
    {
     "name": "stderr",
     "output_type": "stream",
     "text": [
      "2024-02-03 11:41:59,132 - INFO - Processing URL 1/3: https://www.eversports.de/s/sportheim-abensberg\n"
     ]
    },
    {
     "name": "stdout",
     "output_type": "stream",
     "text": [
      "Converting to DataFrame...\n",
      "Validating URLs...\n"
     ]
    },
    {
     "name": "stderr",
     "output_type": "stream",
     "text": [
      "2024-02-03 11:42:00,638 - INFO - URL https://www.eversports.de/s/sportheim-abensberg is valid.\n",
      "2024-02-03 11:42:00,639 - INFO - Processing URL 2/3: https://www.eversports.de/sp/sportheim-abensberg\n",
      "2024-02-03 11:42:01,756 - INFO - URL https://www.eversports.de/sp/sportheim-abensberg is valid.\n",
      "2024-02-03 11:42:01,757 - INFO - Processing URL 3/3: https://www.eversports.de/s/sportheim-abensberg/team\n",
      "2024-02-03 11:42:03,499 - INFO - URL https://www.eversports.de/s/sportheim-abensberg/team is valid.\n"
     ]
    },
    {
     "name": "stdout",
     "output_type": "stream",
     "text": [
      "Scraping Pole Studio Data from https://www.eversports.de/s/sportheim-abensberg...\n"
     ]
    },
    {
     "name": "stderr",
     "output_type": "stream",
     "text": [
      "Processing URLs:  41%|████      | 165/403 [12:08<17:14,  4.35s/it, Current URL: https://www.eversports.de/s/sportheim-abensberg]            "
     ]
    },
    {
     "name": "stdout",
     "output_type": "stream",
     "text": [
      "Processing completed.\n",
      "Pole Studio Data: 1 entries\n",
      "Starting URL reconstruction...\n"
     ]
    },
    {
     "name": "stderr",
     "output_type": "stream",
     "text": [
      "Processing URLs:  41%|████      | 166/403 [12:09<13:17,  3.36s/it, Current URL: https://www.eversports.de/s/freaky-pole-cats-hengersberg]"
     ]
    },
    {
     "name": "stdout",
     "output_type": "stream",
     "text": [
      "Error during HTTP request: 404 Client Error: Not Found for url: https://www.eversports.de/s/freaky-pole-cats-hengersberg\n",
      "Converting to DataFrame...\n",
      "Validating URLs...\n",
      "Processing completed.\n",
      "Starting URL reconstruction...\n"
     ]
    },
    {
     "name": "stderr",
     "output_type": "stream",
     "text": [
      "Processing URLs:  41%|████▏     | 167/403 [12:11<10:31,  2.68s/it, Current URL: https://www.eversports.de/s/studio-yh-pole-(and)-sports-berlin]"
     ]
    },
    {
     "name": "stdout",
     "output_type": "stream",
     "text": [
      "Error during HTTP request: 404 Client Error: Not Found for url: https://www.eversports.de/s/studio-yh-pole-(and)-sports-berlin\n",
      "Converting to DataFrame...\n",
      "Validating URLs...\n",
      "Processing completed.\n",
      "Starting URL reconstruction...\n"
     ]
    },
    {
     "name": "stderr",
     "output_type": "stream",
     "text": [
      "2024-02-03 11:42:08,923 - INFO - Processing URL 1/4: https://www.eversports.de/s/pura-studio\n"
     ]
    },
    {
     "name": "stdout",
     "output_type": "stream",
     "text": [
      "Converting to DataFrame...\n",
      "Validating URLs...\n"
     ]
    },
    {
     "name": "stderr",
     "output_type": "stream",
     "text": [
      "2024-02-03 11:42:10,782 - INFO - URL https://www.eversports.de/s/pura-studio is valid.\n",
      "2024-02-03 11:42:10,783 - INFO - Processing URL 2/4: https://www.eversports.de/sw/pura-studio\n",
      "2024-02-03 11:42:11,939 - INFO - URL https://www.eversports.de/sw/pura-studio is valid.\n",
      "2024-02-03 11:42:11,939 - INFO - Processing URL 3/4: https://www.eversports.de/sp/pura-studio\n",
      "2024-02-03 11:42:13,021 - INFO - URL https://www.eversports.de/sp/pura-studio is valid.\n",
      "2024-02-03 11:42:13,022 - INFO - Processing URL 4/4: https://www.eversports.de/s/pura-studio/team\n",
      "2024-02-03 11:42:15,897 - INFO - URL https://www.eversports.de/s/pura-studio/team is valid.\n"
     ]
    },
    {
     "name": "stdout",
     "output_type": "stream",
     "text": [
      "Scraping Pole Studio Data from https://www.eversports.de/s/pura-studio...\n",
      "Scraping Workshops Data from https://www.eversports.de/sw/pura-studio...\n",
      "Scraping Workshop Details from https://www.eversports.de/e/workshop/Gc0_BuG...\n",
      "Scraping Workshop Details from https://www.eversports.de/e/workshop/BItjT7x...\n",
      "Scraping Workshop Details from https://www.eversports.de/e/workshop/7N6VOLN...\n",
      "Scraping Workshop Details from https://www.eversports.de/e/workshop/fIWcXIY...\n",
      "Scraping Workshop Details from https://www.eversports.de/e/workshop/aaXFGLh...\n"
     ]
    },
    {
     "name": "stderr",
     "output_type": "stream",
     "text": [
      "Processing URLs:  42%|████▏     | 168/403 [12:29<29:15,  7.47s/it, Current URL: https://www.eversports.de/s/pura-studio]                       "
     ]
    },
    {
     "name": "stdout",
     "output_type": "stream",
     "text": [
      "Processing completed.\n",
      "Pole Studio Data: 1 entries\n",
      "Workshops Data: 5 entries\n",
      "Workshop Details: 5 entries\n",
      "Starting URL reconstruction...\n"
     ]
    },
    {
     "name": "stderr",
     "output_type": "stream",
     "text": [
      "Processing URLs:  42%|████▏     | 169/403 [12:30<21:37,  5.55s/it, Current URL: https://www.eversports.de/s/poledance!-aerial-%26-fitness-kiel]"
     ]
    },
    {
     "name": "stdout",
     "output_type": "stream",
     "text": [
      "Error during HTTP request: 404 Client Error: Not Found for url: https://www.eversports.de/s/poledance!-aerial-%26-fitness-kiel\n",
      "Converting to DataFrame...\n",
      "Validating URLs...\n",
      "Processing completed.\n",
      "Starting URL reconstruction...\n"
     ]
    },
    {
     "name": "stderr",
     "output_type": "stream",
     "text": [
      "Processing URLs:  42%|████▏     | 170/403 [12:34<19:00,  4.90s/it, Current URL: https://www.eversports.de/s/schwerelos-m%c3%bcnster]           "
     ]
    },
    {
     "name": "stdout",
     "output_type": "stream",
     "text": [
      "Error during HTTP request: Exceeded 30 redirects.\n",
      "Converting to DataFrame...\n",
      "Validating URLs...\n",
      "Processing completed.\n",
      "Starting URL reconstruction...\n"
     ]
    },
    {
     "name": "stderr",
     "output_type": "stream",
     "text": [
      "Processing URLs:  42%|████▏     | 171/403 [12:37<17:23,  4.50s/it, Current URL: https://www.eversports.de/s/pole-dance-studio-n%c3%bcrnberg]"
     ]
    },
    {
     "name": "stdout",
     "output_type": "stream",
     "text": [
      "Error during HTTP request: Exceeded 30 redirects.\n",
      "Converting to DataFrame...\n",
      "Validating URLs...\n",
      "Processing completed.\n",
      "Starting URL reconstruction...\n"
     ]
    },
    {
     "name": "stderr",
     "output_type": "stream",
     "text": [
      "Processing URLs:  43%|████▎     | 172/403 [12:42<18:12,  4.73s/it, Current URL: https://www.eversports.de/s/stadtgazellen-osnabr%c3%bcck]   "
     ]
    },
    {
     "name": "stdout",
     "output_type": "stream",
     "text": [
      "Error during HTTP request: Exceeded 30 redirects.\n",
      "Converting to DataFrame...\n",
      "Validating URLs...\n",
      "Processing completed.\n",
      "Starting URL reconstruction...\n"
     ]
    },
    {
     "name": "stderr",
     "output_type": "stream",
     "text": [
      "2024-02-03 11:42:40,971 - INFO - Processing URL 1/4: https://www.eversports.de/s/poleathletix\n"
     ]
    },
    {
     "name": "stdout",
     "output_type": "stream",
     "text": [
      "Error reconstructing URL for 'Trainings': Unrecognized text: 'Trainings'\n",
      "Converting to DataFrame...\n",
      "Validating URLs...\n"
     ]
    },
    {
     "name": "stderr",
     "output_type": "stream",
     "text": [
      "2024-02-03 11:42:42,309 - INFO - URL https://www.eversports.de/s/poleathletix is valid.\n",
      "2024-02-03 11:42:42,310 - INFO - Processing URL 2/4: https://www.eversports.de/sw/poleathletix\n",
      "2024-02-03 11:42:43,659 - INFO - URL https://www.eversports.de/sw/poleathletix is valid.\n",
      "2024-02-03 11:42:43,660 - INFO - Processing URL 3/4: https://www.eversports.de/sp/poleathletix\n",
      "2024-02-03 11:42:44,802 - INFO - URL https://www.eversports.de/sp/poleathletix is valid.\n",
      "2024-02-03 11:42:44,803 - INFO - Processing URL 4/4: https://www.eversports.de/s/poleathletix/team\n",
      "2024-02-03 11:42:46,276 - INFO - URL https://www.eversports.de/s/poleathletix/team is valid.\n"
     ]
    },
    {
     "name": "stdout",
     "output_type": "stream",
     "text": [
      "Scraping Pole Studio Data from https://www.eversports.de/s/poleathletix...\n",
      "Scraping Workshops Data from https://www.eversports.de/sw/poleathletix...\n",
      "Scraping Workshop Details from https://www.eversports.de/e/workshop/fWcLCKr...\n",
      "Scraping Workshop Details from https://www.eversports.de/e/workshop/BCHRRb3...\n",
      "Scraping Workshop Details from https://www.eversports.de/e/workshop/LuQ-jUD...\n",
      "Scraping Workshop Details from https://www.eversports.de/e/workshop/wpcpX0U...\n",
      "Scraping Workshop Details from https://www.eversports.de/e/workshop/csrqGyT...\n",
      "Scraping Workshop Details from https://www.eversports.de/e/workshop/rXgOpSM...\n",
      "Scraping Workshop Details from https://www.eversports.de/e/workshop/GPwT8hl...\n",
      "Scraping Workshop Details from https://www.eversports.de/e/workshop/Q4B35ej...\n"
     ]
    },
    {
     "name": "stderr",
     "output_type": "stream",
     "text": [
      "Processing URLs:  43%|████▎     | 173/403 [13:04<37:11,  9.70s/it, Current URL: https://www.eversports.de/s/poleathletix]                "
     ]
    },
    {
     "name": "stdout",
     "output_type": "stream",
     "text": [
      "Processing completed.\n",
      "Pole Studio Data: 1 entries\n",
      "Workshops Data: 8 entries\n",
      "Workshop Details: 8 entries\n",
      "Starting URL reconstruction...\n"
     ]
    },
    {
     "name": "stderr",
     "output_type": "stream",
     "text": [
      "2024-02-03 11:43:02,148 - INFO - Processing URL 1/3: https://www.eversports.de/s/dance-and-pole-deltawerk\n"
     ]
    },
    {
     "name": "stdout",
     "output_type": "stream",
     "text": [
      "Converting to DataFrame...\n",
      "Validating URLs...\n"
     ]
    },
    {
     "name": "stderr",
     "output_type": "stream",
     "text": [
      "2024-02-03 11:43:03,438 - INFO - URL https://www.eversports.de/s/dance-and-pole-deltawerk is valid.\n",
      "2024-02-03 11:43:03,439 - INFO - Processing URL 2/3: https://www.eversports.de/sp/dance-and-pole-deltawerk\n",
      "2024-02-03 11:43:04,538 - INFO - URL https://www.eversports.de/sp/dance-and-pole-deltawerk is valid.\n",
      "2024-02-03 11:43:04,539 - INFO - Processing URL 3/3: https://www.eversports.de/s/dance-and-pole-deltawerk/team\n",
      "2024-02-03 11:43:05,718 - INFO - URL https://www.eversports.de/s/dance-and-pole-deltawerk/team is valid.\n"
     ]
    },
    {
     "name": "stdout",
     "output_type": "stream",
     "text": [
      "Scraping Pole Studio Data from https://www.eversports.de/s/dance-and-pole-deltawerk...\n"
     ]
    },
    {
     "name": "stderr",
     "output_type": "stream",
     "text": [
      "Processing URLs:  43%|████▎     | 174/403 [13:09<31:54,  8.36s/it, Current URL: https://www.eversports.de/s/dance-and-pole-deltawerk]"
     ]
    },
    {
     "name": "stdout",
     "output_type": "stream",
     "text": [
      "Processing completed.\n",
      "Pole Studio Data: 1 entries\n",
      "Starting URL reconstruction...\n"
     ]
    },
    {
     "name": "stderr",
     "output_type": "stream",
     "text": [
      "Processing URLs:  43%|████▎     | 175/403 [13:10<23:28,  6.18s/it, Current URL: https://www.eversports.de/s/pole-acrobatics-deggingen]"
     ]
    },
    {
     "name": "stdout",
     "output_type": "stream",
     "text": [
      "Error during HTTP request: 404 Client Error: Not Found for url: https://www.eversports.de/s/pole-acrobatics-deggingen\n",
      "Converting to DataFrame...\n",
      "Validating URLs...\n",
      "Processing completed.\n",
      "Starting URL reconstruction...\n"
     ]
    },
    {
     "name": "stderr",
     "output_type": "stream",
     "text": [
      "2024-02-03 11:43:08,611 - INFO - Processing URL 1/4: https://www.eversports.de/s/poleroom-braunschweig\n"
     ]
    },
    {
     "name": "stdout",
     "output_type": "stream",
     "text": [
      "Error reconstructing URL for 'Trainings': Unrecognized text: 'Trainings'\n",
      "Converting to DataFrame...\n",
      "Validating URLs...\n"
     ]
    },
    {
     "name": "stderr",
     "output_type": "stream",
     "text": [
      "2024-02-03 11:43:09,982 - INFO - URL https://www.eversports.de/s/poleroom-braunschweig is valid.\n",
      "2024-02-03 11:43:09,982 - INFO - Processing URL 2/4: https://www.eversports.de/sw/poleroom-braunschweig\n",
      "2024-02-03 11:43:11,228 - INFO - URL https://www.eversports.de/sw/poleroom-braunschweig is valid.\n",
      "2024-02-03 11:43:11,229 - INFO - Processing URL 3/4: https://www.eversports.de/sp/poleroom-braunschweig\n",
      "2024-02-03 11:43:12,382 - INFO - URL https://www.eversports.de/sp/poleroom-braunschweig is valid.\n",
      "2024-02-03 11:43:12,383 - INFO - Processing URL 4/4: https://www.eversports.de/s/poleroom-braunschweig/team\n",
      "2024-02-03 11:43:13,624 - INFO - URL https://www.eversports.de/s/poleroom-braunschweig/team is valid.\n"
     ]
    },
    {
     "name": "stdout",
     "output_type": "stream",
     "text": [
      "Scraping Pole Studio Data from https://www.eversports.de/s/poleroom-braunschweig...\n",
      "Scraping Workshops Data from https://www.eversports.de/sw/poleroom-braunschweig...\n",
      "Scraping Workshop Details from https://www.eversports.de/e/workshop/5FIBkpe...\n",
      "Scraping Workshop Details from https://www.eversports.de/e/workshop/GB5CNr0...\n",
      "Scraping Workshop Details from https://www.eversports.de/e/workshop/gvgi_OF...\n",
      "Scraping Workshop Details from https://www.eversports.de/e/workshop/1pzXUtZ...\n",
      "Scraping Workshop Details from https://www.eversports.de/e/workshop/fx6DrZ8...\n"
     ]
    },
    {
     "name": "stderr",
     "output_type": "stream",
     "text": [
      "Processing URLs:  44%|████▎     | 176/403 [13:26<33:52,  8.95s/it, Current URL: https://www.eversports.de/s/poleroom-braunschweig]    "
     ]
    },
    {
     "name": "stdout",
     "output_type": "stream",
     "text": [
      "Processing completed.\n",
      "Pole Studio Data: 1 entries\n",
      "Workshops Data: 5 entries\n",
      "Workshop Details: 5 entries\n",
      "Starting URL reconstruction...\n"
     ]
    },
    {
     "name": "stderr",
     "output_type": "stream",
     "text": [
      "2024-02-03 11:43:24,567 - INFO - Processing URL 1/4: https://www.eversports.de/s/pole-oase\n"
     ]
    },
    {
     "name": "stdout",
     "output_type": "stream",
     "text": [
      "Converting to DataFrame...\n",
      "Validating URLs...\n"
     ]
    },
    {
     "name": "stderr",
     "output_type": "stream",
     "text": [
      "2024-02-03 11:43:25,834 - INFO - URL https://www.eversports.de/s/pole-oase is valid.\n",
      "2024-02-03 11:43:25,836 - INFO - Processing URL 2/4: https://www.eversports.de/sw/pole-oase\n",
      "2024-02-03 11:43:26,950 - INFO - URL https://www.eversports.de/sw/pole-oase is valid.\n",
      "2024-02-03 11:43:26,950 - INFO - Processing URL 3/4: https://www.eversports.de/sp/pole-oase\n",
      "2024-02-03 11:43:28,072 - INFO - URL https://www.eversports.de/sp/pole-oase is valid.\n",
      "2024-02-03 11:43:28,074 - INFO - Processing URL 4/4: https://www.eversports.de/s/pole-oase/team\n",
      "2024-02-03 11:43:29,233 - INFO - URL https://www.eversports.de/s/pole-oase/team is valid.\n"
     ]
    },
    {
     "name": "stdout",
     "output_type": "stream",
     "text": [
      "Scraping Pole Studio Data from https://www.eversports.de/s/pole-oase...\n",
      "Scraping Workshops Data from https://www.eversports.de/sw/pole-oase...\n",
      "Scraping Workshop Details from https://www.eversports.de/e/workshop/9cNbxVS...\n",
      "Scraping Workshop Details from https://www.eversports.de/e/workshop/FkutCDr...\n",
      "Scraping Workshop Details from https://www.eversports.de/e/workshop/qzt25WB...\n"
     ]
    },
    {
     "name": "stderr",
     "output_type": "stream",
     "text": [
      "Processing URLs:  44%|████▍     | 177/403 [13:37<37:07,  9.86s/it, Current URL: https://www.eversports.de/s/pole-oase]            "
     ]
    },
    {
     "name": "stdout",
     "output_type": "stream",
     "text": [
      "Processing completed.\n",
      "Pole Studio Data: 1 entries\n",
      "Workshops Data: 3 entries\n",
      "Workshop Details: 3 entries\n",
      "Starting URL reconstruction...\n"
     ]
    },
    {
     "name": "stderr",
     "output_type": "stream",
     "text": [
      "Processing URLs:  44%|████▍     | 178/403 [13:43<32:24,  8.64s/it, Current URL: https://www.eversports.de/s/t-tanzstück-braunschweig]"
     ]
    },
    {
     "name": "stdout",
     "output_type": "stream",
     "text": [
      "Error during HTTP request: Exceeded 30 redirects.\n",
      "Converting to DataFrame...\n",
      "Validating URLs...\n",
      "Processing completed.\n",
      "Starting URL reconstruction...\n"
     ]
    },
    {
     "name": "stderr",
     "output_type": "stream",
     "text": [
      "Processing URLs:  44%|████▍     | 179/403 [13:44<23:48,  6.38s/it, Current URL: https://www.eversports.de/s/satori-pole-dance-potsdam]"
     ]
    },
    {
     "name": "stdout",
     "output_type": "stream",
     "text": [
      "Error during HTTP request: 404 Client Error: Not Found for url: https://www.eversports.de/s/satori-pole-dance-potsdam\n",
      "Converting to DataFrame...\n",
      "Validating URLs...\n",
      "Processing completed.\n",
      "Starting URL reconstruction...\n"
     ]
    },
    {
     "name": "stderr",
     "output_type": "stream",
     "text": [
      "Processing URLs:  45%|████▍     | 180/403 [13:46<17:49,  4.80s/it, Current URL: https://www.eversports.de/s/pole-dance-nrw]           "
     ]
    },
    {
     "name": "stdout",
     "output_type": "stream",
     "text": [
      "Error during HTTP request: 404 Client Error: Not Found for url: https://www.eversports.de/s/pole-dance-nrw\n",
      "Converting to DataFrame...\n",
      "Validating URLs...\n",
      "Processing completed.\n",
      "Starting URL reconstruction...\n"
     ]
    },
    {
     "name": "stderr",
     "output_type": "stream",
     "text": [
      "2024-02-03 11:43:43,893 - INFO - Processing URL 1/4: https://www.eversports.de/s/pole-faction-rhein-neckar\n"
     ]
    },
    {
     "name": "stdout",
     "output_type": "stream",
     "text": [
      "Converting to DataFrame...\n",
      "Validating URLs...\n"
     ]
    },
    {
     "name": "stderr",
     "output_type": "stream",
     "text": [
      "2024-02-03 11:43:45,123 - INFO - URL https://www.eversports.de/s/pole-faction-rhein-neckar is valid.\n",
      "2024-02-03 11:43:45,124 - INFO - Processing URL 2/4: https://www.eversports.de/sw/pole-faction-rhein-neckar\n",
      "2024-02-03 11:43:46,391 - INFO - URL https://www.eversports.de/sw/pole-faction-rhein-neckar is valid.\n",
      "2024-02-03 11:43:46,392 - INFO - Processing URL 3/4: https://www.eversports.de/sp/pole-faction-rhein-neckar\n",
      "2024-02-03 11:43:47,584 - INFO - URL https://www.eversports.de/sp/pole-faction-rhein-neckar is valid.\n",
      "2024-02-03 11:43:47,586 - INFO - Processing URL 4/4: https://www.eversports.de/s/pole-faction-rhein-neckar/team\n",
      "2024-02-03 11:43:48,709 - INFO - URL https://www.eversports.de/s/pole-faction-rhein-neckar/team is valid.\n"
     ]
    },
    {
     "name": "stdout",
     "output_type": "stream",
     "text": [
      "Scraping Pole Studio Data from https://www.eversports.de/s/pole-faction-rhein-neckar...\n",
      "Scraping Workshops Data from https://www.eversports.de/sw/pole-faction-rhein-neckar...\n",
      "Scraping Workshop Details from https://www.eversports.de/e/workshop/ykldhbJ...\n",
      "Scraping Workshop Details from https://www.eversports.de/e/workshop/PETMN6i...\n",
      "Scraping Workshop Details from https://www.eversports.de/e/workshop/VtQCbbh...\n"
     ]
    },
    {
     "name": "stderr",
     "output_type": "stream",
     "text": [
      "Processing URLs:  45%|████▍     | 181/403 [13:57<25:10,  6.81s/it, Current URL: https://www.eversports.de/s/pole-faction-rhein-neckar]"
     ]
    },
    {
     "name": "stdout",
     "output_type": "stream",
     "text": [
      "Processing completed.\n",
      "Pole Studio Data: 1 entries\n",
      "Workshops Data: 3 entries\n",
      "Workshop Details: 3 entries\n",
      "Starting URL reconstruction...\n"
     ]
    },
    {
     "name": "stderr",
     "output_type": "stream",
     "text": [
      "Processing URLs:  45%|████▌     | 182/403 [13:58<18:40,  5.07s/it, Current URL: https://www.eversports.de/s/flexx-arts-aerial-dance-&-fitness]"
     ]
    },
    {
     "name": "stdout",
     "output_type": "stream",
     "text": [
      "Error during HTTP request: 404 Client Error: Not Found for url: https://www.eversports.de/s/flexx-arts-aerial-dance-&-fitness\n",
      "Converting to DataFrame...\n",
      "Validating URLs...\n",
      "Processing completed.\n",
      "Starting URL reconstruction...\n"
     ]
    },
    {
     "name": "stderr",
     "output_type": "stream",
     "text": [
      "Processing URLs:  45%|████▌     | 183/403 [13:59<14:12,  3.87s/it, Current URL: https://www.eversports.de/s/yh-pole-(and)-sports-berlin]      "
     ]
    },
    {
     "name": "stdout",
     "output_type": "stream",
     "text": [
      "Error during HTTP request: 404 Client Error: Not Found for url: https://www.eversports.de/s/yh-pole-(and)-sports-berlin\n",
      "Converting to DataFrame...\n",
      "Validating URLs...\n",
      "Processing completed.\n",
      "Starting URL reconstruction...\n"
     ]
    },
    {
     "name": "stderr",
     "output_type": "stream",
     "text": [
      "Processing URLs:  46%|████▌     | 184/403 [14:00<11:14,  3.08s/it, Current URL: https://www.eversports.de/s/vertical-kay-poledance-%26-aerialarts-studio]"
     ]
    },
    {
     "name": "stdout",
     "output_type": "stream",
     "text": [
      "Error during HTTP request: 404 Client Error: Not Found for url: https://www.eversports.de/s/vertical-kay-poledance-%26-aerialarts-studio\n",
      "Converting to DataFrame...\n",
      "Validating URLs...\n",
      "Processing completed.\n",
      "Starting URL reconstruction...\n"
     ]
    },
    {
     "name": "stderr",
     "output_type": "stream",
     "text": [
      "2024-02-03 11:43:59,197 - INFO - Processing URL 1/4: https://www.eversports.de/s/pole-land\n"
     ]
    },
    {
     "name": "stdout",
     "output_type": "stream",
     "text": [
      "Error reconstructing URL for 'Events': Unrecognized text: 'Events'\n",
      "Converting to DataFrame...\n",
      "Validating URLs...\n"
     ]
    },
    {
     "name": "stderr",
     "output_type": "stream",
     "text": [
      "2024-02-03 11:44:00,504 - INFO - URL https://www.eversports.de/s/pole-land is valid.\n",
      "2024-02-03 11:44:00,506 - INFO - Processing URL 2/4: https://www.eversports.de/sw/pole-land\n",
      "2024-02-03 11:44:02,124 - INFO - URL https://www.eversports.de/sw/pole-land is valid.\n",
      "2024-02-03 11:44:02,125 - INFO - Processing URL 3/4: https://www.eversports.de/sp/pole-land\n",
      "2024-02-03 11:44:03,273 - INFO - URL https://www.eversports.de/sp/pole-land is valid.\n",
      "2024-02-03 11:44:03,274 - INFO - Processing URL 4/4: https://www.eversports.de/s/pole-land/team\n",
      "2024-02-03 11:44:04,429 - INFO - URL https://www.eversports.de/s/pole-land/team is valid.\n"
     ]
    },
    {
     "name": "stdout",
     "output_type": "stream",
     "text": [
      "Scraping Pole Studio Data from https://www.eversports.de/s/pole-land...\n",
      "Scraping Workshops Data from https://www.eversports.de/sw/pole-land...\n",
      "Scraping Workshop Details from https://www.eversports.de/e/workshop/ezegoNQ...\n",
      "Scraping Workshop Details from https://www.eversports.de/e/workshop/S8noX1Z...\n",
      "Scraping Workshop Details from https://www.eversports.de/e/workshop/SqEYfO3...\n",
      "Scraping Workshop Details from https://www.eversports.de/e/workshop/OGUBUS8...\n",
      "Scraping Workshop Details from https://www.eversports.de/e/workshop/VVXdiD8...\n"
     ]
    },
    {
     "name": "stderr",
     "output_type": "stream",
     "text": [
      "Processing URLs:  46%|████▌     | 185/403 [14:16<25:02,  6.89s/it, Current URL: https://www.eversports.de/s/pole-land]                                   "
     ]
    },
    {
     "name": "stdout",
     "output_type": "stream",
     "text": [
      "Processing completed.\n",
      "Pole Studio Data: 1 entries\n",
      "Workshops Data: 5 entries\n",
      "Workshop Details: 5 entries\n",
      "Starting URL reconstruction...\n"
     ]
    },
    {
     "name": "stderr",
     "output_type": "stream",
     "text": [
      "2024-02-03 11:44:14,438 - INFO - Processing URL 1/1: https://www.eversports.de/s/poleaddict\n"
     ]
    },
    {
     "name": "stdout",
     "output_type": "stream",
     "text": [
      "Converting to DataFrame...\n",
      "Validating URLs...\n"
     ]
    },
    {
     "name": "stderr",
     "output_type": "stream",
     "text": [
      "2024-02-03 11:44:15,665 - INFO - URL https://www.eversports.de/s/poleaddict is valid.\n"
     ]
    },
    {
     "name": "stdout",
     "output_type": "stream",
     "text": [
      "Scraping Pole Studio Data from https://www.eversports.de/s/poleaddict...\n"
     ]
    },
    {
     "name": "stderr",
     "output_type": "stream",
     "text": [
      "Processing URLs:  46%|████▌     | 186/403 [14:19<20:26,  5.65s/it, Current URL: https://www.eversports.de/s/poleaddict]"
     ]
    },
    {
     "name": "stdout",
     "output_type": "stream",
     "text": [
      "Processing completed.\n",
      "Pole Studio Data: 1 entries\n",
      "Starting URL reconstruction...\n"
     ]
    },
    {
     "name": "stderr",
     "output_type": "stream",
     "text": [
      "Processing URLs:  46%|████▋     | 187/403 [14:20<15:30,  4.31s/it, Current URL: https://www.eversports.de/s/polerinas-art-pole-%26aerial-fitness]"
     ]
    },
    {
     "name": "stdout",
     "output_type": "stream",
     "text": [
      "Error during HTTP request: 404 Client Error: Not Found for url: https://www.eversports.de/s/polerinas-art-pole-%26aerial-fitness\n",
      "Converting to DataFrame...\n",
      "Validating URLs...\n",
      "Processing completed.\n",
      "Starting URL reconstruction...\n"
     ]
    },
    {
     "name": "stderr",
     "output_type": "stream",
     "text": [
      "Processing URLs:  47%|████▋     | 188/403 [14:21<11:58,  3.34s/it, Current URL: https://www.eversports.de/s/mstage-tanzart-bewegung]             "
     ]
    },
    {
     "name": "stdout",
     "output_type": "stream",
     "text": [
      "Error during HTTP request: 404 Client Error: Not Found for url: https://www.eversports.de/s/mstage-tanzart-bewegung\n",
      "Converting to DataFrame...\n",
      "Validating URLs...\n",
      "Processing completed.\n",
      "Starting URL reconstruction...\n"
     ]
    },
    {
     "name": "stderr",
     "output_type": "stream",
     "text": [
      "Processing URLs:  47%|████▋     | 189/403 [14:25<12:28,  3.50s/it, Current URL: https://www.eversports.de/s/körperformfabrik-gbr]   "
     ]
    },
    {
     "name": "stdout",
     "output_type": "stream",
     "text": [
      "Error during HTTP request: Exceeded 30 redirects.\n",
      "Converting to DataFrame...\n",
      "Validating URLs...\n",
      "Processing completed.\n",
      "Starting URL reconstruction...\n"
     ]
    },
    {
     "name": "stderr",
     "output_type": "stream",
     "text": [
      "2024-02-03 11:44:23,431 - INFO - Processing URL 1/3: https://www.eversports.de/s/loft1-basel-city\n"
     ]
    },
    {
     "name": "stdout",
     "output_type": "stream",
     "text": [
      "Converting to DataFrame...\n",
      "Validating URLs...\n"
     ]
    },
    {
     "name": "stderr",
     "output_type": "stream",
     "text": [
      "2024-02-03 11:44:24,727 - INFO - URL https://www.eversports.de/s/loft1-basel-city is valid.\n",
      "2024-02-03 11:44:24,728 - INFO - Processing URL 2/3: https://www.eversports.de/sp/loft1-basel-city\n",
      "2024-02-03 11:44:27,253 - INFO - URL https://www.eversports.de/sp/loft1-basel-city is not valid.\n",
      "2024-02-03 11:44:27,255 - INFO - Processing URL 3/3: https://www.eversports.de/s/loft1-basel-city/team\n",
      "2024-02-03 11:44:28,458 - INFO - URL https://www.eversports.de/s/loft1-basel-city/team is valid.\n"
     ]
    },
    {
     "name": "stdout",
     "output_type": "stream",
     "text": [
      "Scraping Pole Studio Data from https://www.eversports.de/s/loft1-basel-city...\n"
     ]
    },
    {
     "name": "stderr",
     "output_type": "stream",
     "text": [
      "Processing URLs:  47%|████▋     | 190/403 [14:32<15:55,  4.49s/it, Current URL: https://www.eversports.de/s/loft1-basel-city]    "
     ]
    },
    {
     "name": "stdout",
     "output_type": "stream",
     "text": [
      "Processing completed.\n",
      "Pole Studio Data: 1 entries\n",
      "Starting URL reconstruction...\n"
     ]
    },
    {
     "name": "stderr",
     "output_type": "stream",
     "text": [
      "2024-02-03 11:44:30,956 - INFO - Processing URL 1/3: https://www.eversports.de/s/pole-dance-beauties\n"
     ]
    },
    {
     "name": "stdout",
     "output_type": "stream",
     "text": [
      "Error reconstructing URL for 'Kurse': Unrecognized text: 'Kurse'\n",
      "Converting to DataFrame...\n",
      "Validating URLs...\n"
     ]
    },
    {
     "name": "stderr",
     "output_type": "stream",
     "text": [
      "2024-02-03 11:44:32,205 - INFO - URL https://www.eversports.de/s/pole-dance-beauties is valid.\n",
      "2024-02-03 11:44:32,206 - INFO - Processing URL 2/3: https://www.eversports.de/sp/pole-dance-beauties\n",
      "2024-02-03 11:44:33,315 - INFO - URL https://www.eversports.de/sp/pole-dance-beauties is valid.\n",
      "2024-02-03 11:44:33,316 - INFO - Processing URL 3/3: https://www.eversports.de/s/pole-dance-beauties/team\n",
      "2024-02-03 11:44:34,473 - INFO - URL https://www.eversports.de/s/pole-dance-beauties/team is valid.\n"
     ]
    },
    {
     "name": "stdout",
     "output_type": "stream",
     "text": [
      "Scraping Pole Studio Data from https://www.eversports.de/s/pole-dance-beauties...\n"
     ]
    },
    {
     "name": "stderr",
     "output_type": "stream",
     "text": [
      "Processing URLs:  47%|████▋     | 191/403 [14:38<17:27,  4.94s/it, Current URL: https://www.eversports.de/s/pole-dance-beauties]"
     ]
    },
    {
     "name": "stdout",
     "output_type": "stream",
     "text": [
      "Processing completed.\n",
      "Pole Studio Data: 1 entries\n",
      "Starting URL reconstruction...\n"
     ]
    },
    {
     "name": "stderr",
     "output_type": "stream",
     "text": [
      "Processing URLs:  48%|████▊     | 192/403 [14:42<16:37,  4.73s/it, Current URL: https://www.eversports.de/s/poledance-m%c3%b6nchengladbach]"
     ]
    },
    {
     "name": "stdout",
     "output_type": "stream",
     "text": [
      "Error during HTTP request: Exceeded 30 redirects.\n",
      "Converting to DataFrame...\n",
      "Validating URLs...\n",
      "Processing completed.\n",
      "Starting URL reconstruction...\n"
     ]
    },
    {
     "name": "stderr",
     "output_type": "stream",
     "text": [
      "2024-02-03 11:44:40,782 - INFO - Processing URL 1/1: https://www.eversports.de/s/pole-dance-palazzo-sportivo\n"
     ]
    },
    {
     "name": "stdout",
     "output_type": "stream",
     "text": [
      "Converting to DataFrame...\n",
      "Validating URLs...\n"
     ]
    },
    {
     "name": "stderr",
     "output_type": "stream",
     "text": [
      "2024-02-03 11:44:42,056 - INFO - URL https://www.eversports.de/s/pole-dance-palazzo-sportivo is valid.\n"
     ]
    },
    {
     "name": "stdout",
     "output_type": "stream",
     "text": [
      "Scraping Pole Studio Data from https://www.eversports.de/s/pole-dance-palazzo-sportivo...\n"
     ]
    },
    {
     "name": "stderr",
     "output_type": "stream",
     "text": [
      "Processing URLs:  48%|████▊     | 193/403 [14:46<15:22,  4.39s/it, Current URL: https://www.eversports.de/s/pole-dance-palazzo-sportivo]   "
     ]
    },
    {
     "name": "stdout",
     "output_type": "stream",
     "text": [
      "Processing completed.\n",
      "Pole Studio Data: 1 entries\n",
      "Starting URL reconstruction...\n"
     ]
    },
    {
     "name": "stderr",
     "output_type": "stream",
     "text": [
      "2024-02-03 11:44:44,105 - INFO - Processing URL 1/4: https://www.eversports.de/s/the-pole-lounge\n"
     ]
    },
    {
     "name": "stdout",
     "output_type": "stream",
     "text": [
      "Error reconstructing URL for 'Kurse': Unrecognized text: 'Kurse'\n",
      "Converting to DataFrame...\n",
      "Validating URLs...\n"
     ]
    },
    {
     "name": "stderr",
     "output_type": "stream",
     "text": [
      "2024-02-03 11:44:45,388 - INFO - URL https://www.eversports.de/s/the-pole-lounge is valid.\n",
      "2024-02-03 11:44:45,389 - INFO - Processing URL 2/4: https://www.eversports.de/sw/the-pole-lounge\n",
      "2024-02-03 11:44:46,808 - INFO - URL https://www.eversports.de/sw/the-pole-lounge is valid.\n",
      "2024-02-03 11:44:46,809 - INFO - Processing URL 3/4: https://www.eversports.de/sp/the-pole-lounge\n",
      "2024-02-03 11:44:47,981 - INFO - URL https://www.eversports.de/sp/the-pole-lounge is valid.\n",
      "2024-02-03 11:44:47,981 - INFO - Processing URL 4/4: https://www.eversports.de/s/the-pole-lounge/team\n",
      "2024-02-03 11:44:49,888 - INFO - URL https://www.eversports.de/s/the-pole-lounge/team is valid.\n"
     ]
    },
    {
     "name": "stdout",
     "output_type": "stream",
     "text": [
      "Scraping Pole Studio Data from https://www.eversports.de/s/the-pole-lounge...\n",
      "Scraping Workshops Data from https://www.eversports.de/sw/the-pole-lounge...\n",
      "Scraping Workshop Details from https://www.eversports.de/e/workshop/QD21QTN...\n"
     ]
    },
    {
     "name": "stderr",
     "output_type": "stream",
     "text": [
      "Processing URLs:  48%|████▊     | 194/403 [14:56<21:13,  6.09s/it, Current URL: https://www.eversports.de/s/the-pole-lounge]            "
     ]
    },
    {
     "name": "stdout",
     "output_type": "stream",
     "text": [
      "Processing completed.\n",
      "Pole Studio Data: 1 entries\n",
      "Workshops Data: 1 entries\n",
      "Workshop Details: 1 entries\n",
      "Starting URL reconstruction...\n"
     ]
    },
    {
     "name": "stderr",
     "output_type": "stream",
     "text": [
      "Processing URLs:  48%|████▊     | 195/403 [14:57<15:59,  4.61s/it, Current URL: https://www.eversports.de/s/femella-studio] "
     ]
    },
    {
     "name": "stdout",
     "output_type": "stream",
     "text": [
      "Error during HTTP request: 404 Client Error: Not Found for url: https://www.eversports.de/s/femella-studio\n",
      "Converting to DataFrame...\n",
      "Validating URLs...\n",
      "Processing completed.\n",
      "Starting URL reconstruction...\n"
     ]
    },
    {
     "name": "stderr",
     "output_type": "stream",
     "text": [
      "2024-02-03 11:44:55,122 - INFO - Processing URL 1/1: https://www.eversports.de/s/kaifu-lodge\n"
     ]
    },
    {
     "name": "stdout",
     "output_type": "stream",
     "text": [
      "Converting to DataFrame...\n",
      "Validating URLs...\n"
     ]
    },
    {
     "name": "stderr",
     "output_type": "stream",
     "text": [
      "2024-02-03 11:44:56,255 - INFO - URL https://www.eversports.de/s/kaifu-lodge is valid.\n"
     ]
    },
    {
     "name": "stdout",
     "output_type": "stream",
     "text": [
      "Scraping Pole Studio Data from https://www.eversports.de/s/kaifu-lodge...\n"
     ]
    },
    {
     "name": "stderr",
     "output_type": "stream",
     "text": [
      "Processing URLs:  49%|████▊     | 196/403 [15:00<13:52,  4.02s/it, Current URL: https://www.eversports.de/s/kaifu-lodge]   "
     ]
    },
    {
     "name": "stdout",
     "output_type": "stream",
     "text": [
      "Processing completed.\n",
      "Pole Studio Data: 1 entries\n",
      "Starting URL reconstruction...\n"
     ]
    },
    {
     "name": "stderr",
     "output_type": "stream",
     "text": [
      "2024-02-03 11:44:57,911 - INFO - Processing URL 1/1: https://www.eversports.de/s/polesensation\n"
     ]
    },
    {
     "name": "stdout",
     "output_type": "stream",
     "text": [
      "Converting to DataFrame...\n",
      "Validating URLs...\n"
     ]
    },
    {
     "name": "stderr",
     "output_type": "stream",
     "text": [
      "2024-02-03 11:44:59,375 - INFO - URL https://www.eversports.de/s/polesensation is valid.\n"
     ]
    },
    {
     "name": "stdout",
     "output_type": "stream",
     "text": [
      "Scraping Pole Studio Data from https://www.eversports.de/s/polesensation...\n"
     ]
    },
    {
     "name": "stderr",
     "output_type": "stream",
     "text": [
      "Processing URLs:  49%|████▉     | 197/403 [15:03<12:48,  3.73s/it, Current URL: https://www.eversports.de/s/polesensation]"
     ]
    },
    {
     "name": "stdout",
     "output_type": "stream",
     "text": [
      "Processing completed.\n",
      "Pole Studio Data: 1 entries\n",
      "Starting URL reconstruction...\n"
     ]
    },
    {
     "name": "stderr",
     "output_type": "stream",
     "text": [
      "2024-02-03 11:45:00,946 - INFO - Processing URL 1/4: https://www.eversports.de/s/cheesy-heaven\n"
     ]
    },
    {
     "name": "stdout",
     "output_type": "stream",
     "text": [
      "Converting to DataFrame...\n",
      "Validating URLs...\n"
     ]
    },
    {
     "name": "stderr",
     "output_type": "stream",
     "text": [
      "2024-02-03 11:45:52,545 - INFO - URL https://www.eversports.de/s/cheesy-heaven is valid.\n",
      "2024-02-03 11:45:52,546 - INFO - Processing URL 2/4: https://www.eversports.de/sw/cheesy-heaven\n",
      "2024-02-03 11:45:53,677 - INFO - URL https://www.eversports.de/sw/cheesy-heaven is valid.\n",
      "2024-02-03 11:45:53,678 - INFO - Processing URL 3/4: https://www.eversports.de/sp/cheesy-heaven\n",
      "2024-02-03 11:45:54,842 - INFO - URL https://www.eversports.de/sp/cheesy-heaven is valid.\n",
      "2024-02-03 11:45:54,844 - INFO - Processing URL 4/4: https://www.eversports.de/s/cheesy-heaven/team\n",
      "2024-02-03 11:45:55,981 - INFO - URL https://www.eversports.de/s/cheesy-heaven/team is valid.\n"
     ]
    },
    {
     "name": "stdout",
     "output_type": "stream",
     "text": [
      "Scraping Pole Studio Data from https://www.eversports.de/s/cheesy-heaven...\n",
      "Scraping Workshops Data from https://www.eversports.de/sw/cheesy-heaven...\n",
      "Scraping Workshop Details from https://www.eversports.de/e/workshop/FPhYm4m...\n",
      "Scraping Workshop Details from https://www.eversports.de/e/workshop/YUDNvHE...\n",
      "Scraping Workshop Details from https://www.eversports.de/e/workshop/_TKMrS6...\n",
      "Scraping Workshop Details from https://www.eversports.de/e/workshop/wLNZTsC...\n"
     ]
    },
    {
     "name": "stderr",
     "output_type": "stream",
     "text": [
      "Processing URLs:  49%|████▉     | 198/403 [16:06<1:14:05, 21.68s/it, Current URL: https://www.eversports.de/s/cheesy-heaven]"
     ]
    },
    {
     "name": "stdout",
     "output_type": "stream",
     "text": [
      "Processing completed.\n",
      "Pole Studio Data: 1 entries\n",
      "Workshops Data: 4 entries\n",
      "Workshop Details: 4 entries\n",
      "Starting URL reconstruction...\n"
     ]
    },
    {
     "name": "stderr",
     "output_type": "stream",
     "text": [
      "Processing URLs:  49%|████▉     | 199/403 [16:07<52:42, 15.50s/it, Current URL: https://www.eversports.de/s/aerial-art-poledance-country-base]"
     ]
    },
    {
     "name": "stdout",
     "output_type": "stream",
     "text": [
      "Error during HTTP request: 404 Client Error: Not Found for url: https://www.eversports.de/s/aerial-art-poledance-country-base\n",
      "Converting to DataFrame...\n",
      "Validating URLs...\n",
      "Processing completed.\n",
      "Starting URL reconstruction...\n"
     ]
    },
    {
     "name": "stderr",
     "output_type": "stream",
     "text": [
      "Processing URLs:  50%|████▉     | 200/403 [16:11<40:16, 11.90s/it, Current URL: https://www.eversports.de/s/feel-good-factory%3a-pole-%e2%80%a2-stretch-%e2%80%a2-fly]"
     ]
    },
    {
     "name": "stdout",
     "output_type": "stream",
     "text": [
      "Error during HTTP request: Exceeded 30 redirects.\n",
      "Converting to DataFrame...\n",
      "Validating URLs...\n",
      "Processing completed.\n",
      "Starting URL reconstruction...\n"
     ]
    },
    {
     "name": "stderr",
     "output_type": "stream",
     "text": [
      "Processing URLs:  50%|████▉     | 201/403 [16:12<29:08,  8.66s/it, Current URL: https://www.eversports.de/s/airobics-pole-%26-aerial-dance-hamburg]                   "
     ]
    },
    {
     "name": "stdout",
     "output_type": "stream",
     "text": [
      "Error during HTTP request: 404 Client Error: Not Found for url: https://www.eversports.de/s/airobics-pole-%26-aerial-dance-hamburg\n",
      "Converting to DataFrame...\n",
      "Validating URLs...\n",
      "Processing completed.\n",
      "Starting URL reconstruction...\n"
     ]
    },
    {
     "name": "stderr",
     "output_type": "stream",
     "text": [
      "Processing URLs:  50%|█████     | 202/403 [16:13<21:21,  6.37s/it, Current URL: https://www.eversports.de/s/dance-&-pole-deltawerk]                "
     ]
    },
    {
     "name": "stdout",
     "output_type": "stream",
     "text": [
      "Error during HTTP request: 404 Client Error: Not Found for url: https://www.eversports.de/s/dance-&-pole-deltawerk\n",
      "Converting to DataFrame...\n",
      "Validating URLs...\n",
      "Processing completed.\n",
      "Starting URL reconstruction...\n"
     ]
    },
    {
     "name": "stderr",
     "output_type": "stream",
     "text": [
      "Processing URLs:  50%|█████     | 203/403 [16:14<16:12,  4.86s/it, Current URL: https://www.eversports.de/s/pole-yourself]         "
     ]
    },
    {
     "name": "stdout",
     "output_type": "stream",
     "text": [
      "Error during HTTP request: 404 Client Error: Not Found for url: https://www.eversports.de/s/pole-yourself\n",
      "Converting to DataFrame...\n",
      "Validating URLs...\n",
      "Processing completed.\n",
      "Starting URL reconstruction...\n"
     ]
    },
    {
     "name": "stderr",
     "output_type": "stream",
     "text": [
      "2024-02-03 11:46:12,660 - INFO - Processing URL 1/3: https://www.eversports.de/s/polestructions\n"
     ]
    },
    {
     "name": "stdout",
     "output_type": "stream",
     "text": [
      "Converting to DataFrame...\n",
      "Validating URLs...\n"
     ]
    },
    {
     "name": "stderr",
     "output_type": "stream",
     "text": [
      "2024-02-03 11:46:14,049 - INFO - URL https://www.eversports.de/s/polestructions is valid.\n",
      "2024-02-03 11:46:14,050 - INFO - Processing URL 2/3: https://www.eversports.de/sp/polestructions\n",
      "2024-02-03 11:46:15,206 - INFO - URL https://www.eversports.de/sp/polestructions is valid.\n",
      "2024-02-03 11:46:15,207 - INFO - Processing URL 3/3: https://www.eversports.de/s/polestructions/team\n",
      "2024-02-03 11:46:17,546 - INFO - URL https://www.eversports.de/s/polestructions/team is valid.\n"
     ]
    },
    {
     "name": "stdout",
     "output_type": "stream",
     "text": [
      "Scraping Pole Studio Data from https://www.eversports.de/s/polestructions...\n"
     ]
    },
    {
     "name": "stderr",
     "output_type": "stream",
     "text": [
      "Processing URLs:  51%|█████     | 204/403 [16:21<18:05,  5.46s/it, Current URL: https://www.eversports.de/s/polestructions]"
     ]
    },
    {
     "name": "stdout",
     "output_type": "stream",
     "text": [
      "Processing completed.\n",
      "Pole Studio Data: 1 entries\n",
      "Starting URL reconstruction...\n"
     ]
    },
    {
     "name": "stderr",
     "output_type": "stream",
     "text": [
      "Processing URLs:  51%|█████     | 205/403 [16:22<13:48,  4.18s/it, Current URL: https://www.eversports.de/s/aerial-amazons]"
     ]
    },
    {
     "name": "stdout",
     "output_type": "stream",
     "text": [
      "Error during HTTP request: 404 Client Error: Not Found for url: https://www.eversports.de/s/aerial-amazons\n",
      "Converting to DataFrame...\n",
      "Validating URLs...\n",
      "Processing completed.\n",
      "Starting URL reconstruction...\n"
     ]
    },
    {
     "name": "stderr",
     "output_type": "stream",
     "text": [
      "Processing URLs:  51%|█████     | 206/403 [16:26<13:13,  4.03s/it, Current URL: https://www.eversports.de/s/sch%c3%b6nheitstanz-berlin]"
     ]
    },
    {
     "name": "stdout",
     "output_type": "stream",
     "text": [
      "Error during HTTP request: Exceeded 30 redirects.\n",
      "Converting to DataFrame...\n",
      "Validating URLs...\n",
      "Processing completed.\n",
      "Starting URL reconstruction...\n"
     ]
    },
    {
     "name": "stderr",
     "output_type": "stream",
     "text": [
      "2024-02-03 11:46:24,156 - INFO - Processing URL 1/1: https://www.eversports.de/s/poledance-4-you\n"
     ]
    },
    {
     "name": "stdout",
     "output_type": "stream",
     "text": [
      "Converting to DataFrame...\n",
      "Validating URLs...\n"
     ]
    },
    {
     "name": "stderr",
     "output_type": "stream",
     "text": [
      "2024-02-03 11:46:25,329 - INFO - URL https://www.eversports.de/s/poledance-4-you is valid.\n"
     ]
    },
    {
     "name": "stdout",
     "output_type": "stream",
     "text": [
      "Scraping Pole Studio Data from https://www.eversports.de/s/poledance-4-you...\n"
     ]
    },
    {
     "name": "stderr",
     "output_type": "stream",
     "text": [
      "Processing URLs:  51%|█████▏    | 207/403 [16:29<11:46,  3.60s/it, Current URL: https://www.eversports.de/s/poledance-4-you]           "
     ]
    },
    {
     "name": "stdout",
     "output_type": "stream",
     "text": [
      "Processing completed.\n",
      "Pole Studio Data: 1 entries\n",
      "Starting URL reconstruction...\n"
     ]
    },
    {
     "name": "stderr",
     "output_type": "stream",
     "text": [
      "2024-02-03 11:46:26,917 - INFO - Processing URL 1/1: https://www.eversports.de/s/nisa-verticals\n"
     ]
    },
    {
     "name": "stdout",
     "output_type": "stream",
     "text": [
      "Converting to DataFrame...\n",
      "Validating URLs...\n"
     ]
    },
    {
     "name": "stderr",
     "output_type": "stream",
     "text": [
      "2024-02-03 11:46:28,133 - INFO - URL https://www.eversports.de/s/nisa-verticals is valid.\n"
     ]
    },
    {
     "name": "stdout",
     "output_type": "stream",
     "text": [
      "Scraping Pole Studio Data from https://www.eversports.de/s/nisa-verticals...\n"
     ]
    },
    {
     "name": "stderr",
     "output_type": "stream",
     "text": [
      "Processing URLs:  52%|█████▏    | 208/403 [16:31<10:59,  3.38s/it, Current URL: https://www.eversports.de/s/nisa-verticals] "
     ]
    },
    {
     "name": "stdout",
     "output_type": "stream",
     "text": [
      "Processing completed.\n",
      "Pole Studio Data: 1 entries\n",
      "Starting URL reconstruction...\n"
     ]
    },
    {
     "name": "stderr",
     "output_type": "stream",
     "text": [
      "2024-02-03 11:46:29,814 - INFO - Processing URL 1/3: https://www.eversports.de/s/-pole-aerial-dance-souldance\n"
     ]
    },
    {
     "name": "stdout",
     "output_type": "stream",
     "text": [
      "Converting to DataFrame...\n",
      "Validating URLs...\n"
     ]
    },
    {
     "name": "stderr",
     "output_type": "stream",
     "text": [
      "2024-02-03 11:46:31,129 - INFO - URL https://www.eversports.de/s/-pole-aerial-dance-souldance is valid.\n",
      "2024-02-03 11:46:31,131 - INFO - Processing URL 2/3: https://www.eversports.de/sp/-pole-aerial-dance-souldance\n",
      "2024-02-03 11:46:32,296 - INFO - URL https://www.eversports.de/sp/-pole-aerial-dance-souldance is valid.\n",
      "2024-02-03 11:46:32,297 - INFO - Processing URL 3/3: https://www.eversports.de/s/-pole-aerial-dance-souldance/team\n",
      "2024-02-03 11:46:33,549 - INFO - URL https://www.eversports.de/s/-pole-aerial-dance-souldance/team is valid.\n"
     ]
    },
    {
     "name": "stdout",
     "output_type": "stream",
     "text": [
      "Scraping Pole Studio Data from https://www.eversports.de/s/-pole-aerial-dance-souldance...\n"
     ]
    },
    {
     "name": "stderr",
     "output_type": "stream",
     "text": [
      "Processing URLs:  52%|█████▏    | 209/403 [16:37<13:00,  4.03s/it, Current URL: https://www.eversports.de/s/-pole-aerial-dance-souldance]"
     ]
    },
    {
     "name": "stdout",
     "output_type": "stream",
     "text": [
      "Processing completed.\n",
      "Pole Studio Data: 1 entries\n",
      "Starting URL reconstruction...\n"
     ]
    },
    {
     "name": "stderr",
     "output_type": "stream",
     "text": [
      "Processing URLs:  52%|█████▏    | 210/403 [16:38<10:05,  3.14s/it, Current URL: https://www.eversports.de/s/aerial-art-poledance-city-base]"
     ]
    },
    {
     "name": "stdout",
     "output_type": "stream",
     "text": [
      "Error during HTTP request: 404 Client Error: Not Found for url: https://www.eversports.de/s/aerial-art-poledance-city-base\n",
      "Converting to DataFrame...\n",
      "Validating URLs...\n",
      "Processing completed.\n",
      "Starting URL reconstruction...\n"
     ]
    },
    {
     "name": "stderr",
     "output_type": "stream",
     "text": [
      "Processing URLs:  52%|█████▏    | 211/403 [16:43<11:45,  3.68s/it, Current URL: https://www.eversports.de/s/pole-%26-aerial-dance-g%c3%b6ttingen]"
     ]
    },
    {
     "name": "stdout",
     "output_type": "stream",
     "text": [
      "Error during HTTP request: Exceeded 30 redirects.\n",
      "Converting to DataFrame...\n",
      "Validating URLs...\n",
      "Processing completed.\n",
      "Starting URL reconstruction...\n"
     ]
    },
    {
     "name": "stderr",
     "output_type": "stream",
     "text": [
      "Processing URLs:  53%|█████▎    | 212/403 [16:44<09:14,  2.90s/it, Current URL: https://www.eversports.de/s/studio-mohnblume]                    "
     ]
    },
    {
     "name": "stdout",
     "output_type": "stream",
     "text": [
      "Error during HTTP request: 404 Client Error: Not Found for url: https://www.eversports.de/s/studio-mohnblume\n",
      "Converting to DataFrame...\n",
      "Validating URLs...\n",
      "Processing completed.\n",
      "Starting URL reconstruction...\n"
     ]
    },
    {
     "name": "stderr",
     "output_type": "stream",
     "text": [
      "Processing URLs:  53%|█████▎    | 213/403 [16:45<07:31,  2.38s/it, Current URL: https://www.eversports.de/s/polefriends]     "
     ]
    },
    {
     "name": "stdout",
     "output_type": "stream",
     "text": [
      "Error during HTTP request: 404 Client Error: Not Found for url: https://www.eversports.de/s/polefriends\n",
      "Converting to DataFrame...\n",
      "Validating URLs...\n",
      "Processing completed.\n",
      "Starting URL reconstruction...\n"
     ]
    },
    {
     "name": "stderr",
     "output_type": "stream",
     "text": [
      "Processing URLs:  53%|█████▎    | 214/403 [16:46<06:17,  2.00s/it, Current URL: https://www.eversports.de/s/dancexotic] "
     ]
    },
    {
     "name": "stdout",
     "output_type": "stream",
     "text": [
      "Error during HTTP request: 404 Client Error: Not Found for url: https://www.eversports.de/s/dancexotic\n",
      "Converting to DataFrame...\n",
      "Validating URLs...\n",
      "Processing completed.\n",
      "Starting URL reconstruction...\n"
     ]
    },
    {
     "name": "stderr",
     "output_type": "stream",
     "text": [
      "2024-02-03 11:46:44,697 - INFO - Processing URL 1/3: https://www.eversports.de/s/bodysoul-studio-duesseldorf\n"
     ]
    },
    {
     "name": "stdout",
     "output_type": "stream",
     "text": [
      "Converting to DataFrame...\n",
      "Validating URLs...\n"
     ]
    },
    {
     "name": "stderr",
     "output_type": "stream",
     "text": [
      "2024-02-03 11:46:45,915 - INFO - URL https://www.eversports.de/s/bodysoul-studio-duesseldorf is valid.\n",
      "2024-02-03 11:46:45,916 - INFO - Processing URL 2/3: https://www.eversports.de/sp/bodysoul-studio-duesseldorf\n",
      "2024-02-03 11:46:47,057 - INFO - URL https://www.eversports.de/sp/bodysoul-studio-duesseldorf is valid.\n",
      "2024-02-03 11:46:47,059 - INFO - Processing URL 3/3: https://www.eversports.de/s/bodysoul-studio-duesseldorf/team\n",
      "2024-02-03 11:46:48,261 - INFO - URL https://www.eversports.de/s/bodysoul-studio-duesseldorf/team is valid.\n"
     ]
    },
    {
     "name": "stdout",
     "output_type": "stream",
     "text": [
      "Scraping Pole Studio Data from https://www.eversports.de/s/bodysoul-studio-duesseldorf...\n"
     ]
    },
    {
     "name": "stderr",
     "output_type": "stream",
     "text": [
      "Processing URLs:  53%|█████▎    | 215/403 [16:52<09:18,  2.97s/it, Current URL: https://www.eversports.de/s/bodysoul-studio-duesseldorf]"
     ]
    },
    {
     "name": "stdout",
     "output_type": "stream",
     "text": [
      "Processing completed.\n",
      "Pole Studio Data: 1 entries\n",
      "Starting URL reconstruction...\n"
     ]
    },
    {
     "name": "stderr",
     "output_type": "stream",
     "text": [
      "Processing URLs:  54%|█████▎    | 216/403 [16:53<07:32,  2.42s/it, Current URL: https://www.eversports.de/s/studio-fitnessdarling]      "
     ]
    },
    {
     "name": "stdout",
     "output_type": "stream",
     "text": [
      "Error during HTTP request: 404 Client Error: Not Found for url: https://www.eversports.de/s/studio-fitnessdarling\n",
      "Converting to DataFrame...\n",
      "Validating URLs...\n",
      "Processing completed.\n",
      "Starting URL reconstruction...\n"
     ]
    },
    {
     "name": "stderr",
     "output_type": "stream",
     "text": [
      "2024-02-03 11:46:51,021 - INFO - Processing URL 1/3: https://www.eversports.de/s/indeed-unique-studio-wien\n"
     ]
    },
    {
     "name": "stdout",
     "output_type": "stream",
     "text": [
      "Error reconstructing URL for 'Kurse': Unrecognized text: 'Kurse'\n",
      "Converting to DataFrame...\n",
      "Validating URLs...\n"
     ]
    },
    {
     "name": "stderr",
     "output_type": "stream",
     "text": [
      "2024-02-03 11:46:52,495 - INFO - URL https://www.eversports.de/s/indeed-unique-studio-wien is valid.\n",
      "2024-02-03 11:46:52,496 - INFO - Processing URL 2/3: https://www.eversports.de/sp/indeed-unique-studio-wien\n",
      "2024-02-03 11:46:54,481 - INFO - URL https://www.eversports.de/sp/indeed-unique-studio-wien is not valid.\n",
      "2024-02-03 11:46:54,482 - INFO - Processing URL 3/3: https://www.eversports.de/s/indeed-unique-studio-wien/team\n",
      "2024-02-03 11:46:55,742 - INFO - URL https://www.eversports.de/s/indeed-unique-studio-wien/team is valid.\n"
     ]
    },
    {
     "name": "stdout",
     "output_type": "stream",
     "text": [
      "Scraping Pole Studio Data from https://www.eversports.de/s/indeed-unique-studio-wien...\n"
     ]
    },
    {
     "name": "stderr",
     "output_type": "stream",
     "text": [
      "Processing URLs:  54%|█████▍    | 217/403 [16:59<11:10,  3.60s/it, Current URL: https://www.eversports.de/s/indeed-unique-studio-wien]"
     ]
    },
    {
     "name": "stdout",
     "output_type": "stream",
     "text": [
      "Processing completed.\n",
      "Pole Studio Data: 1 entries\n",
      "Starting URL reconstruction...\n"
     ]
    },
    {
     "name": "stderr",
     "output_type": "stream",
     "text": [
      "Processing URLs:  54%|█████▍    | 218/403 [17:00<08:51,  2.87s/it, Current URL: https://www.eversports.de/s/poledance!-aerial-%26-fitness-schleswig]"
     ]
    },
    {
     "name": "stdout",
     "output_type": "stream",
     "text": [
      "Error during HTTP request: 404 Client Error: Not Found for url: https://www.eversports.de/s/poledance!-aerial-%26-fitness-schleswig\n",
      "Converting to DataFrame...\n",
      "Validating URLs...\n",
      "Processing completed.\n",
      "Starting URL reconstruction...\n"
     ]
    },
    {
     "name": "stderr",
     "output_type": "stream",
     "text": [
      "2024-02-03 11:46:59,813 - INFO - Processing URL 1/4: https://www.eversports.de/s/move-on-dance-studio-and-polemotions\n"
     ]
    },
    {
     "name": "stdout",
     "output_type": "stream",
     "text": [
      "Error reconstructing URL for 'Kurse': Unrecognized text: 'Kurse'\n",
      "Converting to DataFrame...\n",
      "Validating URLs...\n"
     ]
    },
    {
     "name": "stderr",
     "output_type": "stream",
     "text": [
      "2024-02-03 11:47:01,258 - INFO - URL https://www.eversports.de/s/move-on-dance-studio-and-polemotions is valid.\n",
      "2024-02-03 11:47:01,259 - INFO - Processing URL 2/4: https://www.eversports.de/sw/move-on-dance-studio-and-polemotions\n",
      "2024-02-03 11:47:02,601 - INFO - URL https://www.eversports.de/sw/move-on-dance-studio-and-polemotions is valid.\n",
      "2024-02-03 11:47:02,602 - INFO - Processing URL 3/4: https://www.eversports.de/sp/move-on-dance-studio-and-polemotions\n",
      "2024-02-03 11:47:03,928 - INFO - URL https://www.eversports.de/sp/move-on-dance-studio-and-polemotions is valid.\n",
      "2024-02-03 11:47:03,929 - INFO - Processing URL 4/4: https://www.eversports.de/s/move-on-dance-studio-and-polemotions/team\n",
      "2024-02-03 11:47:05,170 - INFO - URL https://www.eversports.de/s/move-on-dance-studio-and-polemotions/team is valid.\n"
     ]
    },
    {
     "name": "stdout",
     "output_type": "stream",
     "text": [
      "Scraping Pole Studio Data from https://www.eversports.de/s/move-on-dance-studio-and-polemotions...\n",
      "Scraping Workshops Data from https://www.eversports.de/sw/move-on-dance-studio-and-polemotions...\n",
      "Scraping Workshop Details from https://www.eversports.de/e/workshop/1i9L-3q...\n"
     ]
    },
    {
     "name": "stderr",
     "output_type": "stream",
     "text": [
      "Processing URLs:  54%|█████▍    | 219/403 [17:12<16:53,  5.51s/it, Current URL: https://www.eversports.de/s/move-on-dance-studio-and-polemotions]   "
     ]
    },
    {
     "name": "stdout",
     "output_type": "stream",
     "text": [
      "Processing completed.\n",
      "Pole Studio Data: 1 entries\n",
      "Workshops Data: 1 entries\n",
      "Workshop Details: 1 entries\n",
      "Starting URL reconstruction...\n"
     ]
    },
    {
     "name": "stderr",
     "output_type": "stream",
     "text": [
      "2024-02-03 11:47:10,706 - INFO - Processing URL 1/4: https://www.eversports.de/s/poledancestar\n"
     ]
    },
    {
     "name": "stdout",
     "output_type": "stream",
     "text": [
      "Error reconstructing URL for 'Trainings': Unrecognized text: 'Trainings'\n",
      "Error reconstructing URL for 'Kurse': Unrecognized text: 'Kurse'\n",
      "Converting to DataFrame...\n",
      "Validating URLs...\n"
     ]
    },
    {
     "name": "stderr",
     "output_type": "stream",
     "text": [
      "2024-02-03 11:47:12,213 - INFO - URL https://www.eversports.de/s/poledancestar is valid.\n",
      "2024-02-03 11:47:12,215 - INFO - Processing URL 2/4: https://www.eversports.de/sw/poledancestar\n",
      "2024-02-03 11:47:14,197 - INFO - URL https://www.eversports.de/sw/poledancestar is valid.\n",
      "2024-02-03 11:47:14,199 - INFO - Processing URL 3/4: https://www.eversports.de/sp/poledancestar\n",
      "2024-02-03 11:47:15,708 - INFO - URL https://www.eversports.de/sp/poledancestar is valid.\n",
      "2024-02-03 11:47:15,710 - INFO - Processing URL 4/4: https://www.eversports.de/s/poledancestar/team\n",
      "2024-02-03 11:47:17,280 - INFO - URL https://www.eversports.de/s/poledancestar/team is valid.\n"
     ]
    },
    {
     "name": "stdout",
     "output_type": "stream",
     "text": [
      "Scraping Pole Studio Data from https://www.eversports.de/s/poledancestar...\n",
      "Scraping Workshops Data from https://www.eversports.de/sw/poledancestar...\n",
      "Scraping Workshop Details from https://www.eversports.de/e/workshop/wiYgBoM...\n",
      "Scraping Workshop Details from https://www.eversports.de/e/workshop/6-MAo7Z...\n",
      "Scraping Workshop Details from https://www.eversports.de/e/workshop/GVnc2YT...\n",
      "Scraping Workshop Details from https://www.eversports.de/e/workshop/Une0T_w...\n",
      "Scraping Workshop Details from https://www.eversports.de/e/workshop/59slMW0...\n",
      "Scraping Workshop Details from https://www.eversports.de/e/workshop/FWyv3gp...\n",
      "Scraping Workshop Details from https://www.eversports.de/e/workshop/gdRuiO9...\n",
      "Scraping Workshop Details from https://www.eversports.de/e/workshop/edFh1ih...\n",
      "Scraping Workshop Details from https://www.eversports.de/e/workshop/l467buh...\n",
      "Scraping Workshop Details from https://www.eversports.de/e/workshop/fvmjDvJ...\n",
      "Scraping Workshop Details from https://www.eversports.de/e/workshop/_YEPqgy...\n",
      "Scraping Workshop Details from https://www.eversports.de/e/workshop/J71eKxz...\n"
     ]
    },
    {
     "name": "stderr",
     "output_type": "stream",
     "text": [
      "Processing URLs:  55%|█████▍    | 220/403 [18:01<57:06, 18.72s/it, Current URL: https://www.eversports.de/s/poledancestar]                       "
     ]
    },
    {
     "name": "stdout",
     "output_type": "stream",
     "text": [
      "Processing completed.\n",
      "Pole Studio Data: 1 entries\n",
      "Workshops Data: 12 entries\n",
      "Workshop Details: 12 entries\n",
      "Starting URL reconstruction...\n"
     ]
    },
    {
     "name": "stderr",
     "output_type": "stream",
     "text": [
      "2024-02-03 11:48:00,100 - INFO - Processing URL 1/3: https://www.eversports.de/s/tanzschule-poledance-reutlingen\n"
     ]
    },
    {
     "name": "stdout",
     "output_type": "stream",
     "text": [
      "Converting to DataFrame...\n",
      "Validating URLs...\n"
     ]
    },
    {
     "name": "stderr",
     "output_type": "stream",
     "text": [
      "2024-02-03 11:48:01,778 - INFO - URL https://www.eversports.de/s/tanzschule-poledance-reutlingen is valid.\n",
      "2024-02-03 11:48:01,779 - INFO - Processing URL 2/3: https://www.eversports.de/sp/tanzschule-poledance-reutlingen\n",
      "2024-02-03 11:48:02,851 - INFO - URL https://www.eversports.de/sp/tanzschule-poledance-reutlingen is valid.\n",
      "2024-02-03 11:48:02,852 - INFO - Processing URL 3/3: https://www.eversports.de/s/tanzschule-poledance-reutlingen/team\n",
      "2024-02-03 11:48:05,125 - INFO - URL https://www.eversports.de/s/tanzschule-poledance-reutlingen/team is valid.\n"
     ]
    },
    {
     "name": "stdout",
     "output_type": "stream",
     "text": [
      "Scraping Pole Studio Data from https://www.eversports.de/s/tanzschule-poledance-reutlingen...\n"
     ]
    },
    {
     "name": "stderr",
     "output_type": "stream",
     "text": [
      "Processing URLs:  55%|█████▍    | 221/403 [18:08<46:10, 15.22s/it, Current URL: https://www.eversports.de/s/tanzschule-poledance-reutlingen]"
     ]
    },
    {
     "name": "stdout",
     "output_type": "stream",
     "text": [
      "Processing completed.\n",
      "Pole Studio Data: 1 entries\n",
      "Starting URL reconstruction...\n"
     ]
    },
    {
     "name": "stderr",
     "output_type": "stream",
     "text": [
      "Processing URLs:  55%|█████▌    | 222/403 [18:09<33:04, 10.97s/it, Current URL: https://www.eversports.de/s/anni's-pole-dance-neumünster]   "
     ]
    },
    {
     "name": "stdout",
     "output_type": "stream",
     "text": [
      "Error during HTTP request: 404 Client Error: Not Found for url: https://www.eversports.de/s/anni's-pole-dance-neum%C3%BCnster\n",
      "Converting to DataFrame...\n",
      "Validating URLs...\n",
      "Processing completed.\n",
      "Starting URL reconstruction...\n"
     ]
    },
    {
     "name": "stderr",
     "output_type": "stream",
     "text": [
      "Processing URLs:  55%|█████▌    | 223/403 [18:11<24:00,  8.00s/it, Current URL: https://www.eversports.de/s/lift-off-poledance-academy-viersen]"
     ]
    },
    {
     "name": "stdout",
     "output_type": "stream",
     "text": [
      "Error during HTTP request: 404 Client Error: Not Found for url: https://www.eversports.de/s/lift-off-poledance-academy-viersen\n",
      "Converting to DataFrame...\n",
      "Validating URLs...\n",
      "Processing completed.\n",
      "Starting URL reconstruction...\n"
     ]
    },
    {
     "name": "stderr",
     "output_type": "stream",
     "text": [
      "Processing URLs:  56%|█████▌    | 224/403 [18:12<17:42,  5.94s/it, Current URL: https://www.eversports.de/s/open-aerial-dance]                 "
     ]
    },
    {
     "name": "stdout",
     "output_type": "stream",
     "text": [
      "Error during HTTP request: 404 Client Error: Not Found for url: https://www.eversports.de/s/open-aerial-dance\n",
      "Converting to DataFrame...\n",
      "Validating URLs...\n",
      "Processing completed.\n",
      "Starting URL reconstruction...\n"
     ]
    },
    {
     "name": "stderr",
     "output_type": "stream",
     "text": [
      "2024-02-03 11:48:10,120 - INFO - Processing URL 1/3: https://www.eversports.de/s/polemotions-tuebingen\n"
     ]
    },
    {
     "name": "stdout",
     "output_type": "stream",
     "text": [
      "Converting to DataFrame...\n",
      "Validating URLs...\n"
     ]
    },
    {
     "name": "stderr",
     "output_type": "stream",
     "text": [
      "2024-02-03 11:48:11,516 - INFO - URL https://www.eversports.de/s/polemotions-tuebingen is valid.\n",
      "2024-02-03 11:48:11,518 - INFO - Processing URL 2/3: https://www.eversports.de/sp/polemotions-tuebingen\n",
      "2024-02-03 11:48:14,162 - INFO - URL https://www.eversports.de/sp/polemotions-tuebingen is valid.\n",
      "2024-02-03 11:48:14,163 - INFO - Processing URL 3/3: https://www.eversports.de/s/polemotions-tuebingen/team\n",
      "2024-02-03 11:48:15,337 - INFO - URL https://www.eversports.de/s/polemotions-tuebingen/team is valid.\n"
     ]
    },
    {
     "name": "stdout",
     "output_type": "stream",
     "text": [
      "Scraping Pole Studio Data from https://www.eversports.de/s/polemotions-tuebingen...\n"
     ]
    },
    {
     "name": "stderr",
     "output_type": "stream",
     "text": [
      "Processing URLs:  56%|█████▌    | 225/403 [18:19<18:33,  6.26s/it, Current URL: https://www.eversports.de/s/polemotions-tuebingen]"
     ]
    },
    {
     "name": "stdout",
     "output_type": "stream",
     "text": [
      "Processing completed.\n",
      "Pole Studio Data: 1 entries\n",
      "Starting URL reconstruction...\n"
     ]
    },
    {
     "name": "stderr",
     "output_type": "stream",
     "text": [
      "Processing URLs:  56%|█████▌    | 226/403 [18:20<13:52,  4.70s/it, Current URL: https://www.eversports.de/s/lift-off-poledance-academy-frankfurt]"
     ]
    },
    {
     "name": "stdout",
     "output_type": "stream",
     "text": [
      "Error during HTTP request: 404 Client Error: Not Found for url: https://www.eversports.de/s/lift-off-poledance-academy-frankfurt\n",
      "Converting to DataFrame...\n",
      "Validating URLs...\n",
      "Processing completed.\n",
      "Starting URL reconstruction...\n"
     ]
    },
    {
     "name": "stderr",
     "output_type": "stream",
     "text": [
      "Processing URLs:  56%|█████▋    | 227/403 [18:21<10:35,  3.61s/it, Current URL: https://www.eversports.de/s/fl'air-studios-berlin]               "
     ]
    },
    {
     "name": "stdout",
     "output_type": "stream",
     "text": [
      "Error during HTTP request: 404 Client Error: Not Found for url: https://www.eversports.de/s/fl'air-studios-berlin\n",
      "Converting to DataFrame...\n",
      "Validating URLs...\n",
      "Processing completed.\n",
      "Starting URL reconstruction...\n"
     ]
    },
    {
     "name": "stderr",
     "output_type": "stream",
     "text": [
      "2024-02-03 11:48:19,306 - INFO - Processing URL 1/4: https://www.eversports.de/s/vertical-pole-aerial-dance\n"
     ]
    },
    {
     "name": "stdout",
     "output_type": "stream",
     "text": [
      "Converting to DataFrame...\n",
      "Validating URLs...\n"
     ]
    },
    {
     "name": "stderr",
     "output_type": "stream",
     "text": [
      "2024-02-03 11:48:20,633 - INFO - URL https://www.eversports.de/s/vertical-pole-aerial-dance is valid.\n",
      "2024-02-03 11:48:20,635 - INFO - Processing URL 2/4: https://www.eversports.de/sw/vertical-pole-aerial-dance\n",
      "2024-02-03 11:48:21,836 - INFO - URL https://www.eversports.de/sw/vertical-pole-aerial-dance is valid.\n",
      "2024-02-03 11:48:21,837 - INFO - Processing URL 3/4: https://www.eversports.de/sp/vertical-pole-aerial-dance\n",
      "2024-02-03 11:48:22,978 - INFO - URL https://www.eversports.de/sp/vertical-pole-aerial-dance is valid.\n",
      "2024-02-03 11:48:22,979 - INFO - Processing URL 4/4: https://www.eversports.de/s/vertical-pole-aerial-dance/team\n",
      "2024-02-03 11:48:24,111 - INFO - URL https://www.eversports.de/s/vertical-pole-aerial-dance/team is valid.\n"
     ]
    },
    {
     "name": "stdout",
     "output_type": "stream",
     "text": [
      "Scraping Pole Studio Data from https://www.eversports.de/s/vertical-pole-aerial-dance...\n",
      "Scraping Workshops Data from https://www.eversports.de/sw/vertical-pole-aerial-dance...\n",
      "Scraping Workshop Details from https://www.eversports.de/e/workshop/mylmioi...\n",
      "Scraping Workshop Details from https://www.eversports.de/e/workshop/Yace1e3...\n"
     ]
    },
    {
     "name": "stderr",
     "output_type": "stream",
     "text": [
      "Processing URLs:  57%|█████▋    | 228/403 [18:31<16:14,  5.57s/it, Current URL: https://www.eversports.de/s/vertical-pole-aerial-dance]"
     ]
    },
    {
     "name": "stdout",
     "output_type": "stream",
     "text": [
      "Processing completed.\n",
      "Pole Studio Data: 1 entries\n",
      "Workshops Data: 2 entries\n",
      "Workshop Details: 2 entries\n",
      "Starting URL reconstruction...\n"
     ]
    },
    {
     "name": "stderr",
     "output_type": "stream",
     "text": [
      "Processing URLs:  57%|█████▋    | 229/403 [18:32<12:14,  4.22s/it, Current URL: https://www.eversports.de/s/dance-in-the-city-remscheid]"
     ]
    },
    {
     "name": "stdout",
     "output_type": "stream",
     "text": [
      "Error during HTTP request: 404 Client Error: Not Found for url: https://www.eversports.de/s/dance-in-the-city-remscheid\n",
      "Converting to DataFrame...\n",
      "Validating URLs...\n",
      "Processing completed.\n",
      "Starting URL reconstruction...\n"
     ]
    },
    {
     "name": "stderr",
     "output_type": "stream",
     "text": [
      "Processing URLs:  57%|█████▋    | 230/403 [18:36<11:42,  4.06s/it, Current URL: https://www.eversports.de/s/vertical-ballerina-poledance-studio-m%c3%bcnchen]"
     ]
    },
    {
     "name": "stdout",
     "output_type": "stream",
     "text": [
      "Error during HTTP request: Exceeded 30 redirects.\n",
      "Converting to DataFrame...\n",
      "Validating URLs...\n",
      "Processing completed.\n",
      "Starting URL reconstruction...\n"
     ]
    },
    {
     "name": "stderr",
     "output_type": "stream",
     "text": [
      "2024-02-03 11:48:34,200 - INFO - Processing URL 1/3: https://www.eversports.de/s/center-of-moving-arts\n"
     ]
    },
    {
     "name": "stdout",
     "output_type": "stream",
     "text": [
      "Converting to DataFrame...\n",
      "Validating URLs...\n"
     ]
    },
    {
     "name": "stderr",
     "output_type": "stream",
     "text": [
      "2024-02-03 11:48:35,509 - INFO - URL https://www.eversports.de/s/center-of-moving-arts is valid.\n",
      "2024-02-03 11:48:35,510 - INFO - Processing URL 2/3: https://www.eversports.de/sp/center-of-moving-arts\n",
      "2024-02-03 11:48:36,659 - INFO - URL https://www.eversports.de/sp/center-of-moving-arts is valid.\n",
      "2024-02-03 11:48:36,660 - INFO - Processing URL 3/3: https://www.eversports.de/s/center-of-moving-arts/team\n",
      "2024-02-03 11:48:37,855 - INFO - URL https://www.eversports.de/s/center-of-moving-arts/team is valid.\n"
     ]
    },
    {
     "name": "stdout",
     "output_type": "stream",
     "text": [
      "Scraping Pole Studio Data from https://www.eversports.de/s/center-of-moving-arts...\n"
     ]
    },
    {
     "name": "stderr",
     "output_type": "stream",
     "text": [
      "Processing URLs:  57%|█████▋    | 231/403 [18:41<12:52,  4.49s/it, Current URL: https://www.eversports.de/s/center-of-moving-arts]                           "
     ]
    },
    {
     "name": "stdout",
     "output_type": "stream",
     "text": [
      "Processing completed.\n",
      "Pole Studio Data: 1 entries\n",
      "Starting URL reconstruction...\n"
     ]
    },
    {
     "name": "stderr",
     "output_type": "stream",
     "text": [
      "2024-02-03 11:48:39,509 - INFO - Processing URL 1/3: https://www.eversports.de/s/divapole\n"
     ]
    },
    {
     "name": "stdout",
     "output_type": "stream",
     "text": [
      "Error reconstructing URL for 'Trainings': Unrecognized text: 'Trainings'\n",
      "Converting to DataFrame...\n",
      "Validating URLs...\n"
     ]
    },
    {
     "name": "stderr",
     "output_type": "stream",
     "text": [
      "2024-02-03 11:48:40,718 - INFO - URL https://www.eversports.de/s/divapole is valid.\n",
      "2024-02-03 11:48:40,719 - INFO - Processing URL 2/3: https://www.eversports.de/sp/divapole\n",
      "2024-02-03 11:48:41,832 - INFO - URL https://www.eversports.de/sp/divapole is valid.\n",
      "2024-02-03 11:48:41,833 - INFO - Processing URL 3/3: https://www.eversports.de/s/divapole/team\n",
      "2024-02-03 11:48:42,929 - INFO - URL https://www.eversports.de/s/divapole/team is valid.\n"
     ]
    },
    {
     "name": "stdout",
     "output_type": "stream",
     "text": [
      "Scraping Pole Studio Data from https://www.eversports.de/s/divapole...\n"
     ]
    },
    {
     "name": "stderr",
     "output_type": "stream",
     "text": [
      "Processing URLs:  58%|█████▊    | 232/403 [18:46<13:22,  4.69s/it, Current URL: https://www.eversports.de/s/divapole]             "
     ]
    },
    {
     "name": "stdout",
     "output_type": "stream",
     "text": [
      "Processing completed.\n",
      "Pole Studio Data: 1 entries\n",
      "Starting URL reconstruction...\n"
     ]
    },
    {
     "name": "stderr",
     "output_type": "stream",
     "text": [
      "Processing URLs:  58%|█████▊    | 233/403 [18:48<10:16,  3.62s/it, Current URL: https://www.eversports.de/s/flyhigh] "
     ]
    },
    {
     "name": "stdout",
     "output_type": "stream",
     "text": [
      "Error during HTTP request: 404 Client Error: Not Found for url: https://www.eversports.de/s/flyhigh\n",
      "Converting to DataFrame...\n",
      "Validating URLs...\n",
      "Processing completed.\n",
      "Starting URL reconstruction...\n"
     ]
    },
    {
     "name": "stderr",
     "output_type": "stream",
     "text": [
      "Processing URLs:  58%|█████▊    | 234/403 [18:49<08:04,  2.87s/it, Current URL: https://www.eversports.de/s/mmc-dance-&-event-studio]"
     ]
    },
    {
     "name": "stdout",
     "output_type": "stream",
     "text": [
      "Error during HTTP request: 404 Client Error: Not Found for url: https://www.eversports.de/s/mmc-dance-&-event-studio\n",
      "Converting to DataFrame...\n",
      "Validating URLs...\n",
      "Processing completed.\n",
      "Starting URL reconstruction...\n"
     ]
    },
    {
     "name": "stderr",
     "output_type": "stream",
     "text": [
      "Processing URLs:  58%|█████▊    | 235/403 [18:50<06:32,  2.34s/it, Current URL: https://www.eversports.de/s/vi-dance-hamm]           "
     ]
    },
    {
     "name": "stdout",
     "output_type": "stream",
     "text": [
      "Error during HTTP request: 404 Client Error: Not Found for url: https://www.eversports.de/s/vi-dance-hamm\n",
      "Converting to DataFrame...\n",
      "Validating URLs...\n",
      "Processing completed.\n",
      "Starting URL reconstruction...\n"
     ]
    },
    {
     "name": "stderr",
     "output_type": "stream",
     "text": [
      "Processing URLs:  59%|█████▊    | 236/403 [18:51<05:26,  1.96s/it, Current URL: https://www.eversports.de/s/le-serpent-rouge]"
     ]
    },
    {
     "name": "stdout",
     "output_type": "stream",
     "text": [
      "Error during HTTP request: 404 Client Error: Not Found for url: https://www.eversports.de/s/le-serpent-rouge\n",
      "Converting to DataFrame...\n",
      "Validating URLs...\n",
      "Processing completed.\n",
      "Starting URL reconstruction...\n"
     ]
    },
    {
     "name": "stderr",
     "output_type": "stream",
     "text": [
      "Processing URLs:  59%|█████▉    | 237/403 [18:52<04:38,  1.68s/it, Current URL: https://www.eversports.de/s/health-&-shape-münchen]"
     ]
    },
    {
     "name": "stdout",
     "output_type": "stream",
     "text": [
      "Error during HTTP request: 404 Client Error: Not Found for url: https://www.eversports.de/s/health-&-shape-m%C3%BCnchen\n",
      "Converting to DataFrame...\n",
      "Validating URLs...\n",
      "Processing completed.\n",
      "Starting URL reconstruction...\n"
     ]
    },
    {
     "name": "stderr",
     "output_type": "stream",
     "text": [
      "2024-02-03 11:48:50,436 - INFO - Processing URL 1/4: https://www.eversports.de/s/yoga-at-lobe-block\n"
     ]
    },
    {
     "name": "stdout",
     "output_type": "stream",
     "text": [
      "Converting to DataFrame...\n",
      "Validating URLs...\n"
     ]
    },
    {
     "name": "stderr",
     "output_type": "stream",
     "text": [
      "2024-02-03 11:48:51,949 - INFO - URL https://www.eversports.de/s/yoga-at-lobe-block is valid.\n",
      "2024-02-03 11:48:51,949 - INFO - Processing URL 2/4: https://www.eversports.de/sw/yoga-at-lobe-block\n",
      "2024-02-03 11:48:53,939 - INFO - URL https://www.eversports.de/sw/yoga-at-lobe-block is valid.\n",
      "2024-02-03 11:48:53,940 - INFO - Processing URL 3/4: https://www.eversports.de/sp/yoga-at-lobe-block\n",
      "2024-02-03 11:48:55,305 - INFO - URL https://www.eversports.de/sp/yoga-at-lobe-block is valid.\n",
      "2024-02-03 11:48:55,306 - INFO - Processing URL 4/4: https://www.eversports.de/s/yoga-at-lobe-block/team\n",
      "2024-02-03 11:48:56,636 - INFO - URL https://www.eversports.de/s/yoga-at-lobe-block/team is valid.\n"
     ]
    },
    {
     "name": "stdout",
     "output_type": "stream",
     "text": [
      "Scraping Pole Studio Data from https://www.eversports.de/s/yoga-at-lobe-block...\n",
      "Scraping Workshops Data from https://www.eversports.de/sw/yoga-at-lobe-block...\n",
      "Scraping Workshop Details from https://www.eversports.de/e/workshop/vmr79nD...\n",
      "Scraping Workshop Details from https://www.eversports.de/e/workshop/5WFQ4Sn...\n"
     ]
    },
    {
     "name": "stderr",
     "output_type": "stream",
     "text": [
      "Processing URLs:  59%|█████▉    | 238/403 [19:04<13:08,  4.78s/it, Current URL: https://www.eversports.de/s/yoga-at-lobe-block]    "
     ]
    },
    {
     "name": "stdout",
     "output_type": "stream",
     "text": [
      "Processing completed.\n",
      "Pole Studio Data: 1 entries\n",
      "Workshops Data: 2 entries\n",
      "Workshop Details: 2 entries\n",
      "Starting URL reconstruction...\n"
     ]
    },
    {
     "name": "stderr",
     "output_type": "stream",
     "text": [
      "Processing URLs:  59%|█████▉    | 239/403 [19:08<12:23,  4.53s/it, Current URL: https://www.eversports.de/s/tsg-blau-gold-gießen-e.v.]"
     ]
    },
    {
     "name": "stdout",
     "output_type": "stream",
     "text": [
      "Error during HTTP request: Exceeded 30 redirects.\n",
      "Converting to DataFrame...\n",
      "Validating URLs...\n",
      "Processing completed.\n",
      "Starting URL reconstruction...\n"
     ]
    },
    {
     "name": "stderr",
     "output_type": "stream",
     "text": [
      "2024-02-03 11:49:06,044 - INFO - Processing URL 1/4: https://www.eversports.de/s/body-meets-soul-leipzig\n"
     ]
    },
    {
     "name": "stdout",
     "output_type": "stream",
     "text": [
      "Converting to DataFrame...\n",
      "Validating URLs...\n"
     ]
    },
    {
     "name": "stderr",
     "output_type": "stream",
     "text": [
      "2024-02-03 11:49:07,243 - INFO - URL https://www.eversports.de/s/body-meets-soul-leipzig is valid.\n",
      "2024-02-03 11:49:07,244 - INFO - Processing URL 2/4: https://www.eversports.de/sw/body-meets-soul-leipzig\n",
      "2024-02-03 11:49:08,294 - INFO - URL https://www.eversports.de/sw/body-meets-soul-leipzig is valid.\n",
      "2024-02-03 11:49:08,295 - INFO - Processing URL 3/4: https://www.eversports.de/sp/body-meets-soul-leipzig\n",
      "2024-02-03 11:49:09,432 - INFO - URL https://www.eversports.de/sp/body-meets-soul-leipzig is valid.\n",
      "2024-02-03 11:49:09,433 - INFO - Processing URL 4/4: https://www.eversports.de/s/body-meets-soul-leipzig/team\n",
      "2024-02-03 11:49:12,151 - INFO - URL https://www.eversports.de/s/body-meets-soul-leipzig/team is valid.\n"
     ]
    },
    {
     "name": "stdout",
     "output_type": "stream",
     "text": [
      "Scraping Pole Studio Data from https://www.eversports.de/s/body-meets-soul-leipzig...\n",
      "Scraping Workshops Data from https://www.eversports.de/sw/body-meets-soul-leipzig...\n",
      "Scraping Workshop Details from https://www.eversports.de/e/workshop/uO9N1VQ...\n"
     ]
    },
    {
     "name": "stderr",
     "output_type": "stream",
     "text": [
      "Processing URLs:  60%|█████▉    | 240/403 [19:20<18:46,  6.91s/it, Current URL: https://www.eversports.de/s/body-meets-soul-leipzig]  "
     ]
    },
    {
     "name": "stdout",
     "output_type": "stream",
     "text": [
      "Processing completed.\n",
      "Pole Studio Data: 1 entries\n",
      "Workshops Data: 1 entries\n",
      "Workshop Details: 1 entries\n",
      "Starting URL reconstruction...\n"
     ]
    },
    {
     "name": "stderr",
     "output_type": "stream",
     "text": [
      "2024-02-03 11:49:18,781 - INFO - Processing URL 1/3: https://www.eversports.de/s/health-and-shape-muenchen\n"
     ]
    },
    {
     "name": "stdout",
     "output_type": "stream",
     "text": [
      "Converting to DataFrame...\n",
      "Validating URLs...\n"
     ]
    },
    {
     "name": "stderr",
     "output_type": "stream",
     "text": [
      "2024-02-03 11:49:20,045 - INFO - URL https://www.eversports.de/s/health-and-shape-muenchen is valid.\n",
      "2024-02-03 11:49:20,046 - INFO - Processing URL 2/3: https://www.eversports.de/sp/health-and-shape-muenchen\n",
      "2024-02-03 11:49:21,141 - INFO - URL https://www.eversports.de/sp/health-and-shape-muenchen is valid.\n",
      "2024-02-03 11:49:21,142 - INFO - Processing URL 3/3: https://www.eversports.de/s/health-and-shape-muenchen/team\n",
      "2024-02-03 11:49:22,281 - INFO - URL https://www.eversports.de/s/health-and-shape-muenchen/team is valid.\n"
     ]
    },
    {
     "name": "stdout",
     "output_type": "stream",
     "text": [
      "Scraping Pole Studio Data from https://www.eversports.de/s/health-and-shape-muenchen...\n"
     ]
    },
    {
     "name": "stderr",
     "output_type": "stream",
     "text": [
      "Processing URLs:  60%|█████▉    | 241/403 [19:26<17:39,  6.54s/it, Current URL: https://www.eversports.de/s/health-and-shape-muenchen]"
     ]
    },
    {
     "name": "stdout",
     "output_type": "stream",
     "text": [
      "Processing completed.\n",
      "Pole Studio Data: 1 entries\n",
      "Starting URL reconstruction...\n"
     ]
    },
    {
     "name": "stderr",
     "output_type": "stream",
     "text": [
      "Processing URLs:  60%|██████    | 242/403 [19:27<13:13,  4.93s/it, Current URL: https://www.eversports.de/s/ironx]                    "
     ]
    },
    {
     "name": "stdout",
     "output_type": "stream",
     "text": [
      "Error during HTTP request: 404 Client Error: Not Found for url: https://www.eversports.de/s/ironx\n",
      "Converting to DataFrame...\n",
      "Validating URLs...\n",
      "Processing completed.\n",
      "Starting URL reconstruction...\n"
     ]
    },
    {
     "name": "stderr",
     "output_type": "stream",
     "text": [
      "Processing URLs:  60%|██████    | 243/403 [19:28<10:03,  3.77s/it, Current URL: https://www.eversports.de/s/dalibravita]"
     ]
    },
    {
     "name": "stdout",
     "output_type": "stream",
     "text": [
      "Error during HTTP request: 404 Client Error: Not Found for url: https://www.eversports.de/s/dalibravita\n",
      "Converting to DataFrame...\n",
      "Validating URLs...\n",
      "Processing completed.\n",
      "Starting URL reconstruction...\n"
     ]
    },
    {
     "name": "stderr",
     "output_type": "stream",
     "text": [
      "2024-02-03 11:49:26,451 - INFO - Processing URL 1/3: https://www.eversports.de/s/polewirbel\n"
     ]
    },
    {
     "name": "stdout",
     "output_type": "stream",
     "text": [
      "Converting to DataFrame...\n",
      "Validating URLs...\n"
     ]
    },
    {
     "name": "stderr",
     "output_type": "stream",
     "text": [
      "2024-02-03 11:49:27,623 - INFO - URL https://www.eversports.de/s/polewirbel is valid.\n",
      "2024-02-03 11:49:27,624 - INFO - Processing URL 2/3: https://www.eversports.de/sp/polewirbel\n",
      "2024-02-03 11:49:28,709 - INFO - URL https://www.eversports.de/sp/polewirbel is valid.\n",
      "2024-02-03 11:49:28,710 - INFO - Processing URL 3/3: https://www.eversports.de/s/polewirbel/team\n",
      "2024-02-03 11:49:29,792 - INFO - URL https://www.eversports.de/s/polewirbel/team is valid.\n"
     ]
    },
    {
     "name": "stdout",
     "output_type": "stream",
     "text": [
      "Scraping Pole Studio Data from https://www.eversports.de/s/polewirbel...\n"
     ]
    },
    {
     "name": "stderr",
     "output_type": "stream",
     "text": [
      "Processing URLs:  61%|██████    | 244/403 [19:33<10:51,  4.10s/it, Current URL: https://www.eversports.de/s/polewirbel] "
     ]
    },
    {
     "name": "stdout",
     "output_type": "stream",
     "text": [
      "Processing completed.\n",
      "Pole Studio Data: 1 entries\n",
      "Starting URL reconstruction...\n"
     ]
    },
    {
     "name": "stderr",
     "output_type": "stream",
     "text": [
      "2024-02-03 11:49:32,055 - INFO - Processing URL 1/3: https://www.eversports.de/s/pole-werk-by-nelly\n"
     ]
    },
    {
     "name": "stdout",
     "output_type": "stream",
     "text": [
      "Error reconstructing URL for 'Kurse': Unrecognized text: 'Kurse'\n",
      "Converting to DataFrame...\n",
      "Validating URLs...\n"
     ]
    },
    {
     "name": "stderr",
     "output_type": "stream",
     "text": [
      "2024-02-03 11:49:33,261 - INFO - URL https://www.eversports.de/s/pole-werk-by-nelly is valid.\n",
      "2024-02-03 11:49:33,262 - INFO - Processing URL 2/3: https://www.eversports.de/sw/pole-werk-by-nelly\n",
      "2024-02-03 11:49:34,365 - INFO - URL https://www.eversports.de/sw/pole-werk-by-nelly is valid.\n",
      "2024-02-03 11:49:34,366 - INFO - Processing URL 3/3: https://www.eversports.de/s/pole-werk-by-nelly/team\n",
      "2024-02-03 11:49:35,461 - INFO - URL https://www.eversports.de/s/pole-werk-by-nelly/team is valid.\n"
     ]
    },
    {
     "name": "stdout",
     "output_type": "stream",
     "text": [
      "Scraping Pole Studio Data from https://www.eversports.de/s/pole-werk-by-nelly...\n",
      "Scraping Workshops Data from https://www.eversports.de/sw/pole-werk-by-nelly...\n",
      "Scraping Workshop Details from https://www.eversports.de/e/workshop/HlobVZo...\n"
     ]
    },
    {
     "name": "stderr",
     "output_type": "stream",
     "text": [
      "Processing URLs:  61%|██████    | 245/403 [19:41<13:49,  5.25s/it, Current URL: https://www.eversports.de/s/pole-werk-by-nelly]"
     ]
    },
    {
     "name": "stdout",
     "output_type": "stream",
     "text": [
      "Processing completed.\n",
      "Pole Studio Data: 1 entries\n",
      "Workshops Data: 1 entries\n",
      "Workshop Details: 1 entries\n",
      "Starting URL reconstruction...\n"
     ]
    },
    {
     "name": "stderr",
     "output_type": "stream",
     "text": [
      "2024-02-03 11:49:39,626 - INFO - Processing URL 1/1: https://www.eversports.de/s/firstsports-polefitness\n"
     ]
    },
    {
     "name": "stdout",
     "output_type": "stream",
     "text": [
      "Converting to DataFrame...\n",
      "Validating URLs...\n"
     ]
    },
    {
     "name": "stderr",
     "output_type": "stream",
     "text": [
      "2024-02-03 11:49:40,905 - INFO - URL https://www.eversports.de/s/firstsports-polefitness is valid.\n"
     ]
    },
    {
     "name": "stdout",
     "output_type": "stream",
     "text": [
      "Scraping Pole Studio Data from https://www.eversports.de/s/firstsports-polefitness...\n"
     ]
    },
    {
     "name": "stderr",
     "output_type": "stream",
     "text": [
      "Processing URLs:  61%|██████    | 246/403 [19:44<12:09,  4.65s/it, Current URL: https://www.eversports.de/s/firstsports-polefitness]"
     ]
    },
    {
     "name": "stdout",
     "output_type": "stream",
     "text": [
      "Processing completed.\n",
      "Pole Studio Data: 1 entries\n",
      "Starting URL reconstruction...\n"
     ]
    },
    {
     "name": "stderr",
     "output_type": "stream",
     "text": [
      "2024-02-03 11:49:42,550 - INFO - Processing URL 1/4: https://www.eversports.de/s/pole-acrobatics\n"
     ]
    },
    {
     "name": "stdout",
     "output_type": "stream",
     "text": [
      "Error reconstructing URL for 'Trainings': Unrecognized text: 'Trainings'\n",
      "Converting to DataFrame...\n",
      "Validating URLs...\n"
     ]
    },
    {
     "name": "stderr",
     "output_type": "stream",
     "text": [
      "2024-02-03 11:49:43,788 - INFO - URL https://www.eversports.de/s/pole-acrobatics is valid.\n",
      "2024-02-03 11:49:43,789 - INFO - Processing URL 2/4: https://www.eversports.de/sw/pole-acrobatics\n",
      "2024-02-03 11:49:45,861 - INFO - URL https://www.eversports.de/sw/pole-acrobatics is valid.\n",
      "2024-02-03 11:49:45,862 - INFO - Processing URL 3/4: https://www.eversports.de/sp/pole-acrobatics\n",
      "2024-02-03 11:49:47,111 - INFO - URL https://www.eversports.de/sp/pole-acrobatics is valid.\n",
      "2024-02-03 11:49:47,111 - INFO - Processing URL 4/4: https://www.eversports.de/s/pole-acrobatics/team\n",
      "2024-02-03 11:49:48,288 - INFO - URL https://www.eversports.de/s/pole-acrobatics/team is valid.\n"
     ]
    },
    {
     "name": "stdout",
     "output_type": "stream",
     "text": [
      "Scraping Pole Studio Data from https://www.eversports.de/s/pole-acrobatics...\n",
      "Scraping Workshops Data from https://www.eversports.de/sw/pole-acrobatics...\n",
      "Scraping Workshop Details from https://www.eversports.de/e/workshop/-wGhAaJ...\n"
     ]
    },
    {
     "name": "stderr",
     "output_type": "stream",
     "text": [
      "Processing URLs:  61%|██████▏   | 247/403 [19:54<15:58,  6.14s/it, Current URL: https://www.eversports.de/s/pole-acrobatics]        "
     ]
    },
    {
     "name": "stdout",
     "output_type": "stream",
     "text": [
      "Processing completed.\n",
      "Pole Studio Data: 1 entries\n",
      "Workshops Data: 1 entries\n",
      "Workshop Details: 1 entries\n",
      "Starting URL reconstruction...\n"
     ]
    },
    {
     "name": "stderr",
     "output_type": "stream",
     "text": [
      "Processing URLs:  62%|██████▏   | 248/403 [19:55<11:55,  4.62s/it, Current URL: https://www.eversports.de/s/pole-dance-academy-neuburg]"
     ]
    },
    {
     "name": "stdout",
     "output_type": "stream",
     "text": [
      "Error during HTTP request: 404 Client Error: Not Found for url: https://www.eversports.de/s/pole-dance-academy-neuburg\n",
      "Converting to DataFrame...\n",
      "Validating URLs...\n",
      "Processing completed.\n",
      "Starting URL reconstruction...\n"
     ]
    },
    {
     "name": "stderr",
     "output_type": "stream",
     "text": [
      "Processing URLs:  62%|██████▏   | 249/403 [19:56<09:06,  3.55s/it, Current URL: https://www.eversports.de/s/tanzteufel-denzlingen]     "
     ]
    },
    {
     "name": "stdout",
     "output_type": "stream",
     "text": [
      "Error during HTTP request: 404 Client Error: Not Found for url: https://www.eversports.de/s/tanzteufel-denzlingen\n",
      "Converting to DataFrame...\n",
      "Validating URLs...\n",
      "Processing completed.\n",
      "Starting URL reconstruction...\n"
     ]
    },
    {
     "name": "stderr",
     "output_type": "stream",
     "text": [
      "Processing URLs:  62%|██████▏   | 250/403 [19:57<07:10,  2.81s/it, Current URL: https://www.eversports.de/s/pole-for-soul]        "
     ]
    },
    {
     "name": "stdout",
     "output_type": "stream",
     "text": [
      "Error during HTTP request: 404 Client Error: Not Found for url: https://www.eversports.de/s/pole-for-soul\n",
      "Converting to DataFrame...\n",
      "Validating URLs...\n",
      "Processing completed.\n",
      "Starting URL reconstruction...\n"
     ]
    },
    {
     "name": "stderr",
     "output_type": "stream",
     "text": [
      "2024-02-03 11:49:55,432 - INFO - Processing URL 1/3: https://www.eversports.de/s/pole-dance-studio-passion-hannover\n"
     ]
    },
    {
     "name": "stdout",
     "output_type": "stream",
     "text": [
      "Converting to DataFrame...\n",
      "Validating URLs...\n"
     ]
    },
    {
     "name": "stderr",
     "output_type": "stream",
     "text": [
      "2024-02-03 11:49:56,653 - INFO - URL https://www.eversports.de/s/pole-dance-studio-passion-hannover is valid.\n",
      "2024-02-03 11:49:56,654 - INFO - Processing URL 2/3: https://www.eversports.de/sp/pole-dance-studio-passion-hannover\n",
      "2024-02-03 11:49:57,756 - INFO - URL https://www.eversports.de/sp/pole-dance-studio-passion-hannover is valid.\n",
      "2024-02-03 11:49:57,757 - INFO - Processing URL 3/3: https://www.eversports.de/s/pole-dance-studio-passion-hannover/team\n",
      "2024-02-03 11:49:58,926 - INFO - URL https://www.eversports.de/s/pole-dance-studio-passion-hannover/team is valid.\n"
     ]
    },
    {
     "name": "stdout",
     "output_type": "stream",
     "text": [
      "Scraping Pole Studio Data from https://www.eversports.de/s/pole-dance-studio-passion-hannover...\n"
     ]
    },
    {
     "name": "stderr",
     "output_type": "stream",
     "text": [
      "Processing URLs:  62%|██████▏   | 251/403 [20:02<08:53,  3.51s/it, Current URL: https://www.eversports.de/s/pole-dance-studio-passion-hannover]"
     ]
    },
    {
     "name": "stdout",
     "output_type": "stream",
     "text": [
      "Processing completed.\n",
      "Pole Studio Data: 1 entries\n",
      "Starting URL reconstruction...\n"
     ]
    },
    {
     "name": "stderr",
     "output_type": "stream",
     "text": [
      "2024-02-03 11:50:00,514 - INFO - Processing URL 1/3: https://www.eversports.de/s/mmc-dance-and-event-studio\n"
     ]
    },
    {
     "name": "stdout",
     "output_type": "stream",
     "text": [
      "Converting to DataFrame...\n",
      "Validating URLs...\n"
     ]
    },
    {
     "name": "stderr",
     "output_type": "stream",
     "text": [
      "2024-02-03 11:50:01,787 - INFO - URL https://www.eversports.de/s/mmc-dance-and-event-studio is valid.\n",
      "2024-02-03 11:50:01,788 - INFO - Processing URL 2/3: https://www.eversports.de/sp/mmc-dance-and-event-studio\n",
      "2024-02-03 11:50:02,875 - INFO - URL https://www.eversports.de/sp/mmc-dance-and-event-studio is valid.\n",
      "2024-02-03 11:50:02,876 - INFO - Processing URL 3/3: https://www.eversports.de/s/mmc-dance-and-event-studio/team\n",
      "2024-02-03 11:50:04,062 - INFO - URL https://www.eversports.de/s/mmc-dance-and-event-studio/team is valid.\n"
     ]
    },
    {
     "name": "stdout",
     "output_type": "stream",
     "text": [
      "Scraping Pole Studio Data from https://www.eversports.de/s/mmc-dance-and-event-studio...\n"
     ]
    },
    {
     "name": "stderr",
     "output_type": "stream",
     "text": [
      "Processing URLs:  63%|██████▎   | 252/403 [20:07<10:04,  4.01s/it, Current URL: https://www.eversports.de/s/mmc-dance-and-event-studio]        "
     ]
    },
    {
     "name": "stdout",
     "output_type": "stream",
     "text": [
      "Processing completed.\n",
      "Pole Studio Data: 1 entries\n",
      "Starting URL reconstruction...\n"
     ]
    },
    {
     "name": "stderr",
     "output_type": "stream",
     "text": [
      "Processing URLs:  63%|██████▎   | 253/403 [20:09<08:07,  3.25s/it, Current URL: https://www.eversports.de/s/verticalarts-pole-and-aerial-fitness]"
     ]
    },
    {
     "name": "stdout",
     "output_type": "stream",
     "text": [
      "Error during HTTP request: 404 Client Error: Not Found for url: https://www.eversports.de/s/verticalarts-pole-and-aerial-fitness\n",
      "Converting to DataFrame...\n",
      "Validating URLs...\n",
      "Processing completed.\n",
      "Starting URL reconstruction...\n"
     ]
    },
    {
     "name": "stderr",
     "output_type": "stream",
     "text": [
      "Processing URLs:  63%|██████▎   | 254/403 [20:10<06:27,  2.60s/it, Current URL: https://www.eversports.de/s/activo-polefitness]                  "
     ]
    },
    {
     "name": "stdout",
     "output_type": "stream",
     "text": [
      "Error during HTTP request: 404 Client Error: Not Found for url: https://www.eversports.de/s/activo-polefitness\n",
      "Converting to DataFrame...\n",
      "Validating URLs...\n",
      "Processing completed.\n",
      "Starting URL reconstruction...\n"
     ]
    },
    {
     "name": "stderr",
     "output_type": "stream",
     "text": [
      "Processing URLs:  63%|██████▎   | 255/403 [20:11<05:19,  2.16s/it, Current URL: https://www.eversports.de/s/pole-dance-power]  "
     ]
    },
    {
     "name": "stdout",
     "output_type": "stream",
     "text": [
      "Error during HTTP request: 404 Client Error: Not Found for url: https://www.eversports.de/s/pole-dance-power\n",
      "Converting to DataFrame...\n",
      "Validating URLs...\n",
      "Processing completed.\n",
      "Starting URL reconstruction...\n"
     ]
    },
    {
     "name": "stderr",
     "output_type": "stream",
     "text": [
      "Processing URLs:  64%|██████▎   | 256/403 [20:14<06:11,  2.53s/it, Current URL: https://www.eversports.de/s/bodysoul-studio-d%c3%bcsseldorf]"
     ]
    },
    {
     "name": "stdout",
     "output_type": "stream",
     "text": [
      "Error during HTTP request: Exceeded 30 redirects.\n",
      "Converting to DataFrame...\n",
      "Validating URLs...\n",
      "Processing completed.\n",
      "Starting URL reconstruction...\n"
     ]
    },
    {
     "name": "stderr",
     "output_type": "stream",
     "text": [
      "Processing URLs:  64%|██████▍   | 257/403 [20:18<06:41,  2.75s/it, Current URL: https://www.eversports.de/s/unique-studios-w%c3%bcrzburg]   "
     ]
    },
    {
     "name": "stdout",
     "output_type": "stream",
     "text": [
      "Error during HTTP request: Exceeded 30 redirects.\n",
      "Converting to DataFrame...\n",
      "Validating URLs...\n",
      "Processing completed.\n",
      "Starting URL reconstruction...\n"
     ]
    },
    {
     "name": "stderr",
     "output_type": "stream",
     "text": [
      "Processing URLs:  64%|██████▍   | 258/403 [20:20<06:06,  2.53s/it, Current URL: https://www.eversports.de/s/pole-dance-studio-waiblingen]"
     ]
    },
    {
     "name": "stdout",
     "output_type": "stream",
     "text": [
      "Error during HTTP request: 404 Client Error: Not Found for url: https://www.eversports.de/s/pole-dance-studio-waiblingen\n",
      "Converting to DataFrame...\n",
      "Validating URLs...\n",
      "Processing completed.\n",
      "Starting URL reconstruction...\n"
     ]
    },
    {
     "name": "stderr",
     "output_type": "stream",
     "text": [
      "Processing URLs:  64%|██████▍   | 259/403 [20:23<06:42,  2.79s/it, Current URL: https://www.eversports.de/s/polesports-studio-l%c3%bcneburg]"
     ]
    },
    {
     "name": "stdout",
     "output_type": "stream",
     "text": [
      "Error during HTTP request: Exceeded 30 redirects.\n",
      "Converting to DataFrame...\n",
      "Validating URLs...\n",
      "Processing completed.\n",
      "Starting URL reconstruction...\n"
     ]
    },
    {
     "name": "stderr",
     "output_type": "stream",
     "text": [
      "2024-02-03 11:50:21,419 - INFO - Processing URL 1/4: https://www.eversports.de/s/flow-fusion-pole-aerial-dance-studio\n"
     ]
    },
    {
     "name": "stdout",
     "output_type": "stream",
     "text": [
      "Converting to DataFrame...\n",
      "Validating URLs...\n"
     ]
    },
    {
     "name": "stderr",
     "output_type": "stream",
     "text": [
      "2024-02-03 11:50:22,994 - INFO - URL https://www.eversports.de/s/flow-fusion-pole-aerial-dance-studio is valid.\n",
      "2024-02-03 11:50:22,995 - INFO - Processing URL 2/4: https://www.eversports.de/sw/flow-fusion-pole-aerial-dance-studio\n",
      "2024-02-03 11:50:24,053 - INFO - URL https://www.eversports.de/sw/flow-fusion-pole-aerial-dance-studio is valid.\n",
      "2024-02-03 11:50:24,054 - INFO - Processing URL 3/4: https://www.eversports.de/sp/flow-fusion-pole-aerial-dance-studio\n",
      "2024-02-03 11:50:25,112 - INFO - URL https://www.eversports.de/sp/flow-fusion-pole-aerial-dance-studio is valid.\n",
      "2024-02-03 11:50:25,113 - INFO - Processing URL 4/4: https://www.eversports.de/s/flow-fusion-pole-aerial-dance-studio/team\n",
      "2024-02-03 11:50:26,247 - INFO - URL https://www.eversports.de/s/flow-fusion-pole-aerial-dance-studio/team is valid.\n"
     ]
    },
    {
     "name": "stdout",
     "output_type": "stream",
     "text": [
      "Scraping Pole Studio Data from https://www.eversports.de/s/flow-fusion-pole-aerial-dance-studio...\n",
      "Scraping Workshops Data from https://www.eversports.de/sw/flow-fusion-pole-aerial-dance-studio...\n",
      "Scraping Workshop Details from https://www.eversports.de/e/workshop/dv_M_IE...\n"
     ]
    },
    {
     "name": "stderr",
     "output_type": "stream",
     "text": [
      "Processing URLs:  65%|██████▍   | 260/403 [20:32<11:02,  4.63s/it, Current URL: https://www.eversports.de/s/flow-fusion-pole-aerial-dance-studio]"
     ]
    },
    {
     "name": "stdout",
     "output_type": "stream",
     "text": [
      "Processing completed.\n",
      "Pole Studio Data: 1 entries\n",
      "Workshops Data: 1 entries\n",
      "Workshop Details: 1 entries\n",
      "Starting URL reconstruction...\n"
     ]
    },
    {
     "name": "stderr",
     "output_type": "stream",
     "text": [
      "Processing URLs:  65%|██████▍   | 261/403 [20:33<08:25,  3.56s/it, Current URL: https://www.eversports.de/s/vi-dance-essen]                      "
     ]
    },
    {
     "name": "stdout",
     "output_type": "stream",
     "text": [
      "Error during HTTP request: 404 Client Error: Not Found for url: https://www.eversports.de/s/vi-dance-essen\n",
      "Converting to DataFrame...\n",
      "Validating URLs...\n",
      "Processing completed.\n",
      "Starting URL reconstruction...\n"
     ]
    },
    {
     "name": "stderr",
     "output_type": "stream",
     "text": [
      "2024-02-03 11:50:31,449 - INFO - Processing URL 1/4: https://www.eversports.de/s/pole-formance\n"
     ]
    },
    {
     "name": "stdout",
     "output_type": "stream",
     "text": [
      "Error reconstructing URL for 'Kurse': Unrecognized text: 'Kurse'\n",
      "Converting to DataFrame...\n",
      "Validating URLs...\n"
     ]
    },
    {
     "name": "stderr",
     "output_type": "stream",
     "text": [
      "2024-02-03 11:50:32,731 - INFO - URL https://www.eversports.de/s/pole-formance is valid.\n",
      "2024-02-03 11:50:32,732 - INFO - Processing URL 2/4: https://www.eversports.de/sw/pole-formance\n",
      "2024-02-03 11:50:33,829 - INFO - URL https://www.eversports.de/sw/pole-formance is valid.\n",
      "2024-02-03 11:50:33,830 - INFO - Processing URL 3/4: https://www.eversports.de/sp/pole-formance\n",
      "2024-02-03 11:50:34,930 - INFO - URL https://www.eversports.de/sp/pole-formance is valid.\n",
      "2024-02-03 11:50:34,931 - INFO - Processing URL 4/4: https://www.eversports.de/s/pole-formance/team\n",
      "2024-02-03 11:50:36,038 - INFO - URL https://www.eversports.de/s/pole-formance/team is valid.\n"
     ]
    },
    {
     "name": "stdout",
     "output_type": "stream",
     "text": [
      "Scraping Pole Studio Data from https://www.eversports.de/s/pole-formance...\n",
      "Scraping Workshops Data from https://www.eversports.de/sw/pole-formance...\n",
      "Scraping Workshop Details from https://www.eversports.de/e/workshop/AieRNXP...\n",
      "Scraping Workshop Details from https://www.eversports.de/e/workshop/NA0fA-V...\n",
      "Scraping Workshop Details from https://www.eversports.de/e/workshop/KDYKHQf...\n",
      "Scraping Workshop Details from https://www.eversports.de/e/workshop/BjFbe-z...\n",
      "Scraping Workshop Details from https://www.eversports.de/e/workshop/U58r9aD...\n"
     ]
    },
    {
     "name": "stderr",
     "output_type": "stream",
     "text": [
      "Processing URLs:  65%|██████▌   | 262/403 [20:48<16:11,  6.89s/it, Current URL: https://www.eversports.de/s/pole-formance] "
     ]
    },
    {
     "name": "stdout",
     "output_type": "stream",
     "text": [
      "Processing completed.\n",
      "Pole Studio Data: 1 entries\n",
      "Workshops Data: 5 entries\n",
      "Workshop Details: 5 entries\n",
      "Starting URL reconstruction...\n"
     ]
    },
    {
     "name": "stderr",
     "output_type": "stream",
     "text": [
      "2024-02-03 11:50:46,278 - INFO - Processing URL 1/4: https://www.eversports.de/s/aerialflow\n"
     ]
    },
    {
     "name": "stdout",
     "output_type": "stream",
     "text": [
      "Error reconstructing URL for 'Trainings': Unrecognized text: 'Trainings'\n",
      "Error reconstructing URL for 'Kurse': Unrecognized text: 'Kurse'\n",
      "Converting to DataFrame...\n",
      "Validating URLs...\n"
     ]
    },
    {
     "name": "stderr",
     "output_type": "stream",
     "text": [
      "2024-02-03 11:50:47,683 - INFO - URL https://www.eversports.de/s/aerialflow is valid.\n",
      "2024-02-03 11:50:47,684 - INFO - Processing URL 2/4: https://www.eversports.de/sw/aerialflow\n",
      "2024-02-03 11:50:48,799 - INFO - URL https://www.eversports.de/sw/aerialflow is valid.\n",
      "2024-02-03 11:50:48,802 - INFO - Processing URL 3/4: https://www.eversports.de/sp/aerialflow\n",
      "2024-02-03 11:50:51,407 - INFO - URL https://www.eversports.de/sp/aerialflow is valid.\n",
      "2024-02-03 11:50:51,408 - INFO - Processing URL 4/4: https://www.eversports.de/s/aerialflow/team\n",
      "2024-02-03 11:50:52,630 - INFO - URL https://www.eversports.de/s/aerialflow/team is valid.\n"
     ]
    },
    {
     "name": "stdout",
     "output_type": "stream",
     "text": [
      "Scraping Pole Studio Data from https://www.eversports.de/s/aerialflow...\n",
      "Scraping Workshops Data from https://www.eversports.de/sw/aerialflow...\n",
      "Scraping Workshop Details from https://www.eversports.de/e/workshop/OQN28ZD...\n"
     ]
    },
    {
     "name": "stderr",
     "output_type": "stream",
     "text": [
      "Processing URLs:  65%|██████▌   | 263/403 [20:58<18:45,  8.04s/it, Current URL: https://www.eversports.de/s/aerialflow]   "
     ]
    },
    {
     "name": "stdout",
     "output_type": "stream",
     "text": [
      "Processing completed.\n",
      "Pole Studio Data: 1 entries\n",
      "Workshops Data: 1 entries\n",
      "Workshop Details: 1 entries\n",
      "Starting URL reconstruction...\n"
     ]
    },
    {
     "name": "stderr",
     "output_type": "stream",
     "text": [
      "Processing URLs:  66%|██████▌   | 264/403 [21:00<13:48,  5.96s/it, Current URL: https://www.eversports.de/s/crazypole-dresden]"
     ]
    },
    {
     "name": "stdout",
     "output_type": "stream",
     "text": [
      "Error during HTTP request: 404 Client Error: Not Found for url: https://www.eversports.de/s/crazypole-dresden\n",
      "Converting to DataFrame...\n",
      "Validating URLs...\n",
      "Processing completed.\n",
      "Starting URL reconstruction...\n"
     ]
    },
    {
     "name": "stderr",
     "output_type": "stream",
     "text": [
      "2024-02-03 11:50:58,738 - INFO - Processing URL 1/4: https://www.eversports.de/s/lespole\n"
     ]
    },
    {
     "name": "stdout",
     "output_type": "stream",
     "text": [
      "Converting to DataFrame...\n",
      "Validating URLs...\n"
     ]
    },
    {
     "name": "stderr",
     "output_type": "stream",
     "text": [
      "2024-02-03 11:51:00,427 - INFO - URL https://www.eversports.de/s/lespole is valid.\n",
      "2024-02-03 11:51:00,428 - INFO - Processing URL 2/4: https://www.eversports.de/sw/lespole\n",
      "2024-02-03 11:51:01,669 - INFO - URL https://www.eversports.de/sw/lespole is valid.\n",
      "2024-02-03 11:51:01,671 - INFO - Processing URL 3/4: https://www.eversports.de/sp/lespole\n",
      "2024-02-03 11:51:02,794 - INFO - URL https://www.eversports.de/sp/lespole is valid.\n",
      "2024-02-03 11:51:02,795 - INFO - Processing URL 4/4: https://www.eversports.de/s/lespole/team\n",
      "2024-02-03 11:51:05,981 - INFO - URL https://www.eversports.de/s/lespole/team is valid.\n"
     ]
    },
    {
     "name": "stdout",
     "output_type": "stream",
     "text": [
      "Scraping Pole Studio Data from https://www.eversports.de/s/lespole...\n",
      "Scraping Workshops Data from https://www.eversports.de/sw/lespole...\n",
      "Scraping Workshop Details from https://www.eversports.de/e/workshop/ph8TlfO...\n",
      "Scraping Workshop Details from https://www.eversports.de/e/workshop/4lKTG4R...\n",
      "Scraping Workshop Details from https://www.eversports.de/e/workshop/lByHwWr...\n",
      "Scraping Workshop Details from https://www.eversports.de/e/workshop/VC_twiJ...\n",
      "Scraping Workshop Details from https://www.eversports.de/e/workshop/L-VuR9j...\n"
     ]
    },
    {
     "name": "stderr",
     "output_type": "stream",
     "text": [
      "Processing URLs:  66%|██████▌   | 265/403 [21:17<21:20,  9.28s/it, Current URL: https://www.eversports.de/s/lespole]          "
     ]
    },
    {
     "name": "stdout",
     "output_type": "stream",
     "text": [
      "Processing completed.\n",
      "Pole Studio Data: 1 entries\n",
      "Workshops Data: 5 entries\n",
      "Workshop Details: 5 entries\n",
      "Starting URL reconstruction...\n"
     ]
    },
    {
     "name": "stderr",
     "output_type": "stream",
     "text": [
      "Processing URLs:  66%|██████▌   | 266/403 [21:18<15:33,  6.81s/it, Current URL: https://www.eversports.de/s/poledance!-aerial-%26-fitness-flensburg-wees]"
     ]
    },
    {
     "name": "stdout",
     "output_type": "stream",
     "text": [
      "Error during HTTP request: 404 Client Error: Not Found for url: https://www.eversports.de/s/poledance!-aerial-%26-fitness-flensburg-wees\n",
      "Converting to DataFrame...\n",
      "Validating URLs...\n",
      "Processing completed.\n",
      "Starting URL reconstruction...\n"
     ]
    },
    {
     "name": "stderr",
     "output_type": "stream",
     "text": [
      "2024-02-03 11:51:16,010 - INFO - Processing URL 1/3: https://www.eversports.de/s/la-belle\n"
     ]
    },
    {
     "name": "stdout",
     "output_type": "stream",
     "text": [
      "Error reconstructing URL for 'Kurse': Unrecognized text: 'Kurse'\n",
      "Converting to DataFrame...\n",
      "Validating URLs...\n"
     ]
    },
    {
     "name": "stderr",
     "output_type": "stream",
     "text": [
      "2024-02-03 11:51:17,261 - INFO - URL https://www.eversports.de/s/la-belle is valid.\n",
      "2024-02-03 11:51:17,262 - INFO - Processing URL 2/3: https://www.eversports.de/sp/la-belle\n",
      "2024-02-03 11:51:18,328 - INFO - URL https://www.eversports.de/sp/la-belle is valid.\n",
      "2024-02-03 11:51:18,329 - INFO - Processing URL 3/3: https://www.eversports.de/s/la-belle/team\n",
      "2024-02-03 11:51:19,474 - INFO - URL https://www.eversports.de/s/la-belle/team is valid.\n"
     ]
    },
    {
     "name": "stdout",
     "output_type": "stream",
     "text": [
      "Scraping Pole Studio Data from https://www.eversports.de/s/la-belle...\n"
     ]
    },
    {
     "name": "stderr",
     "output_type": "stream",
     "text": [
      "Processing URLs:  66%|██████▋   | 267/403 [21:23<14:15,  6.29s/it, Current URL: https://www.eversports.de/s/la-belle]                                    "
     ]
    },
    {
     "name": "stdout",
     "output_type": "stream",
     "text": [
      "Processing completed.\n",
      "Pole Studio Data: 1 entries\n",
      "Starting URL reconstruction...\n"
     ]
    },
    {
     "name": "stderr",
     "output_type": "stream",
     "text": [
      "2024-02-03 11:51:21,306 - INFO - Processing URL 1/4: https://www.eversports.de/s/polefriends-halle\n"
     ]
    },
    {
     "name": "stdout",
     "output_type": "stream",
     "text": [
      "Converting to DataFrame...\n",
      "Validating URLs...\n"
     ]
    },
    {
     "name": "stderr",
     "output_type": "stream",
     "text": [
      "2024-02-03 11:51:22,556 - INFO - URL https://www.eversports.de/s/polefriends-halle is valid.\n",
      "2024-02-03 11:51:22,557 - INFO - Processing URL 2/4: https://www.eversports.de/sw/polefriends-halle\n",
      "2024-02-03 11:51:23,656 - INFO - URL https://www.eversports.de/sw/polefriends-halle is valid.\n",
      "2024-02-03 11:51:23,656 - INFO - Processing URL 3/4: https://www.eversports.de/sp/polefriends-halle\n",
      "2024-02-03 11:51:24,837 - INFO - URL https://www.eversports.de/sp/polefriends-halle is valid.\n",
      "2024-02-03 11:51:24,838 - INFO - Processing URL 4/4: https://www.eversports.de/s/polefriends-halle/team\n",
      "2024-02-03 11:51:25,952 - INFO - URL https://www.eversports.de/s/polefriends-halle/team is valid.\n"
     ]
    },
    {
     "name": "stdout",
     "output_type": "stream",
     "text": [
      "Scraping Pole Studio Data from https://www.eversports.de/s/polefriends-halle...\n",
      "Scraping Workshops Data from https://www.eversports.de/sw/polefriends-halle...\n",
      "Scraping Workshop Details from https://www.eversports.de/e/workshop/NMiVGZD...\n"
     ]
    },
    {
     "name": "stderr",
     "output_type": "stream",
     "text": [
      "Processing URLs:  67%|██████▋   | 268/403 [21:32<15:51,  7.05s/it, Current URL: https://www.eversports.de/s/polefriends-halle]"
     ]
    },
    {
     "name": "stdout",
     "output_type": "stream",
     "text": [
      "Processing completed.\n",
      "Pole Studio Data: 1 entries\n",
      "Workshops Data: 1 entries\n",
      "Workshop Details: 1 entries\n",
      "Starting URL reconstruction...\n"
     ]
    },
    {
     "name": "stderr",
     "output_type": "stream",
     "text": [
      "2024-02-03 11:51:30,937 - INFO - Processing URL 1/4: https://www.eversports.de/s/aerial-art-poledance\n"
     ]
    },
    {
     "name": "stdout",
     "output_type": "stream",
     "text": [
      "Converting to DataFrame...\n",
      "Validating URLs...\n"
     ]
    },
    {
     "name": "stderr",
     "output_type": "stream",
     "text": [
      "2024-02-03 11:51:32,244 - INFO - URL https://www.eversports.de/s/aerial-art-poledance is valid.\n",
      "2024-02-03 11:51:32,245 - INFO - Processing URL 2/4: https://www.eversports.de/sw/aerial-art-poledance\n",
      "2024-02-03 11:51:33,361 - INFO - URL https://www.eversports.de/sw/aerial-art-poledance is valid.\n",
      "2024-02-03 11:51:33,361 - INFO - Processing URL 3/4: https://www.eversports.de/sp/aerial-art-poledance\n",
      "2024-02-03 11:51:34,523 - INFO - URL https://www.eversports.de/sp/aerial-art-poledance is valid.\n",
      "2024-02-03 11:51:34,524 - INFO - Processing URL 4/4: https://www.eversports.de/s/aerial-art-poledance/team\n",
      "2024-02-03 11:51:35,672 - INFO - URL https://www.eversports.de/s/aerial-art-poledance/team is valid.\n"
     ]
    },
    {
     "name": "stdout",
     "output_type": "stream",
     "text": [
      "Scraping Pole Studio Data from https://www.eversports.de/s/aerial-art-poledance...\n",
      "Scraping Workshops Data from https://www.eversports.de/sw/aerial-art-poledance...\n",
      "Scraping Workshop Details from https://www.eversports.de/e/workshop/1pLUOJO...\n",
      "Scraping Workshop Details from https://www.eversports.de/e/workshop/HLSPtEf...\n"
     ]
    },
    {
     "name": "stderr",
     "output_type": "stream",
     "text": [
      "Processing URLs:  67%|██████▋   | 269/403 [21:44<19:39,  8.80s/it, Current URL: https://www.eversports.de/s/aerial-art-poledance]"
     ]
    },
    {
     "name": "stdout",
     "output_type": "stream",
     "text": [
      "Processing completed.\n",
      "Pole Studio Data: 1 entries\n",
      "Workshops Data: 2 entries\n",
      "Workshop Details: 2 entries\n",
      "Starting URL reconstruction...\n"
     ]
    },
    {
     "name": "stderr",
     "output_type": "stream",
     "text": [
      "Processing URLs:  67%|██████▋   | 270/403 [21:48<15:57,  7.20s/it, Current URL: https://www.eversports.de/s/polerina%c2%b4s-poledance-%26-aerial-fitness]"
     ]
    },
    {
     "name": "stdout",
     "output_type": "stream",
     "text": [
      "Error during HTTP request: Exceeded 30 redirects.\n",
      "Converting to DataFrame...\n",
      "Validating URLs...\n",
      "Processing completed.\n",
      "Starting URL reconstruction...\n"
     ]
    },
    {
     "name": "stderr",
     "output_type": "stream",
     "text": [
      "Processing URLs:  67%|██████▋   | 271/403 [21:51<13:26,  6.11s/it, Current URL: https://www.eversports.de/s/dance-%26-pole-h%c3%bcckeswagen]             "
     ]
    },
    {
     "name": "stdout",
     "output_type": "stream",
     "text": [
      "Error during HTTP request: Exceeded 30 redirects.\n",
      "Converting to DataFrame...\n",
      "Validating URLs...\n",
      "Processing completed.\n",
      "Starting URL reconstruction...\n"
     ]
    },
    {
     "name": "stderr",
     "output_type": "stream",
     "text": [
      "2024-02-03 11:51:49,861 - INFO - Processing URL 1/4: https://www.eversports.de/s/poda-studio\n"
     ]
    },
    {
     "name": "stdout",
     "output_type": "stream",
     "text": [
      "Converting to DataFrame...\n",
      "Validating URLs...\n"
     ]
    },
    {
     "name": "stderr",
     "output_type": "stream",
     "text": [
      "2024-02-03 11:51:51,160 - INFO - URL https://www.eversports.de/s/poda-studio is valid.\n",
      "2024-02-03 11:51:51,160 - INFO - Processing URL 2/4: https://www.eversports.de/sw/poda-studio\n",
      "2024-02-03 11:51:52,400 - INFO - URL https://www.eversports.de/sw/poda-studio is valid.\n",
      "2024-02-03 11:51:52,401 - INFO - Processing URL 3/4: https://www.eversports.de/sp/poda-studio\n",
      "2024-02-03 11:51:53,523 - INFO - URL https://www.eversports.de/sp/poda-studio is valid.\n",
      "2024-02-03 11:51:53,524 - INFO - Processing URL 4/4: https://www.eversports.de/s/poda-studio/team\n",
      "2024-02-03 11:51:54,677 - INFO - URL https://www.eversports.de/s/poda-studio/team is valid.\n"
     ]
    },
    {
     "name": "stdout",
     "output_type": "stream",
     "text": [
      "Scraping Pole Studio Data from https://www.eversports.de/s/poda-studio...\n",
      "Scraping Workshops Data from https://www.eversports.de/sw/poda-studio...\n",
      "Scraping Workshop Details from https://www.eversports.de/e/workshop/LAHNDF-...\n",
      "Scraping Workshop Details from https://www.eversports.de/e/workshop/JM68hgK...\n",
      "Scraping Workshop Details from https://www.eversports.de/e/workshop/2f93D4_...\n",
      "Scraping Workshop Details from https://www.eversports.de/e/workshop/9PbaXsNu8...\n"
     ]
    },
    {
     "name": "stderr",
     "output_type": "stream",
     "text": [
      "Processing URLs:  67%|██████▋   | 272/403 [22:05<18:09,  8.31s/it, Current URL: https://www.eversports.de/s/poda-studio]                    "
     ]
    },
    {
     "name": "stdout",
     "output_type": "stream",
     "text": [
      "Processing completed.\n",
      "Pole Studio Data: 1 entries\n",
      "Workshops Data: 4 entries\n",
      "Workshop Details: 4 entries\n",
      "Starting URL reconstruction...\n"
     ]
    },
    {
     "name": "stderr",
     "output_type": "stream",
     "text": [
      "Processing URLs:  68%|██████▊   | 273/403 [22:06<13:19,  6.15s/it, Current URL: https://www.eversports.de/s/polemotions-gp]"
     ]
    },
    {
     "name": "stdout",
     "output_type": "stream",
     "text": [
      "Error during HTTP request: 404 Client Error: Not Found for url: https://www.eversports.de/s/polemotions-gp\n",
      "Converting to DataFrame...\n",
      "Validating URLs...\n",
      "Processing completed.\n",
      "Starting URL reconstruction...\n"
     ]
    },
    {
     "name": "stderr",
     "output_type": "stream",
     "text": [
      "Processing URLs:  68%|██████▊   | 274/403 [22:07<10:01,  4.66s/it, Current URL: https://www.eversports.de/s/metropole-dance-now2]"
     ]
    },
    {
     "name": "stdout",
     "output_type": "stream",
     "text": [
      "Error during HTTP request: 404 Client Error: Not Found for url: https://www.eversports.de/s/metropole-dance-now2\n",
      "Converting to DataFrame...\n",
      "Validating URLs...\n",
      "Processing completed.\n",
      "Starting URL reconstruction...\n"
     ]
    },
    {
     "name": "stderr",
     "output_type": "stream",
     "text": [
      "Processing URLs:  68%|██████▊   | 275/403 [22:08<07:39,  3.59s/it, Current URL: https://www.eversports.de/s/poledreams]          "
     ]
    },
    {
     "name": "stdout",
     "output_type": "stream",
     "text": [
      "Error during HTTP request: 404 Client Error: Not Found for url: https://www.eversports.de/s/poledreams\n",
      "Converting to DataFrame...\n",
      "Validating URLs...\n",
      "Processing completed.\n",
      "Starting URL reconstruction...\n"
     ]
    },
    {
     "name": "stderr",
     "output_type": "stream",
     "text": [
      "Processing URLs:  68%|██████▊   | 276/403 [22:09<05:59,  2.83s/it, Current URL: https://www.eversports.de/s/slow-motion]"
     ]
    },
    {
     "name": "stdout",
     "output_type": "stream",
     "text": [
      "Error during HTTP request: 404 Client Error: Not Found for url: https://www.eversports.de/s/slow-motion\n",
      "Converting to DataFrame...\n",
      "Validating URLs...\n",
      "Processing completed.\n",
      "Starting URL reconstruction...\n"
     ]
    },
    {
     "name": "stderr",
     "output_type": "stream",
     "text": [
      "2024-02-03 11:52:07,994 - INFO - Processing URL 1/2: https://www.eversports.de/s/dunya-pole-dance-school\n"
     ]
    },
    {
     "name": "stdout",
     "output_type": "stream",
     "text": [
      "Converting to DataFrame...\n",
      "Validating URLs...\n"
     ]
    },
    {
     "name": "stderr",
     "output_type": "stream",
     "text": [
      "2024-02-03 11:52:09,374 - INFO - URL https://www.eversports.de/s/dunya-pole-dance-school is valid.\n",
      "2024-02-03 11:52:09,375 - INFO - Processing URL 2/2: https://www.eversports.de/s/dunya-pole-dance-school/team\n",
      "2024-02-03 11:52:10,503 - INFO - URL https://www.eversports.de/s/dunya-pole-dance-school/team is valid.\n"
     ]
    },
    {
     "name": "stdout",
     "output_type": "stream",
     "text": [
      "Scraping Pole Studio Data from https://www.eversports.de/s/dunya-pole-dance-school...\n"
     ]
    },
    {
     "name": "stderr",
     "output_type": "stream",
     "text": [
      "Processing URLs:  69%|██████▊   | 277/403 [22:14<06:55,  3.30s/it, Current URL: https://www.eversports.de/s/dunya-pole-dance-school]"
     ]
    },
    {
     "name": "stdout",
     "output_type": "stream",
     "text": [
      "Processing completed.\n",
      "Pole Studio Data: 1 entries\n",
      "Starting URL reconstruction...\n"
     ]
    },
    {
     "name": "stderr",
     "output_type": "stream",
     "text": [
      "Processing URLs:  69%|██████▉   | 278/403 [22:15<05:29,  2.63s/it, Current URL: https://www.eversports.de/s/pole-faction-pole-dance-and-fitness]"
     ]
    },
    {
     "name": "stdout",
     "output_type": "stream",
     "text": [
      "Error during HTTP request: 404 Client Error: Not Found for url: https://www.eversports.de/s/pole-faction-pole-dance-and-fitness\n",
      "Converting to DataFrame...\n",
      "Validating URLs...\n",
      "Processing completed.\n",
      "Starting URL reconstruction...\n"
     ]
    },
    {
     "name": "stderr",
     "output_type": "stream",
     "text": [
      "Processing URLs:  69%|██████▉   | 279/403 [22:16<04:29,  2.17s/it, Current URL: https://www.eversports.de/s/pole-dance-stuttgart]               "
     ]
    },
    {
     "name": "stdout",
     "output_type": "stream",
     "text": [
      "Error during HTTP request: 404 Client Error: Not Found for url: https://www.eversports.de/s/pole-dance-stuttgart\n",
      "Converting to DataFrame...\n",
      "Validating URLs...\n",
      "Processing completed.\n",
      "Starting URL reconstruction...\n"
     ]
    },
    {
     "name": "stderr",
     "output_type": "stream",
     "text": [
      "Processing URLs:  69%|██████▉   | 280/403 [22:17<03:48,  1.86s/it, Current URL: https://www.eversports.de/s/unique-studios]      "
     ]
    },
    {
     "name": "stdout",
     "output_type": "stream",
     "text": [
      "Error during HTTP request: 404 Client Error: Not Found for url: https://www.eversports.de/s/unique-studios\n",
      "Converting to DataFrame...\n",
      "Validating URLs...\n",
      "Processing completed.\n",
      "Starting URL reconstruction...\n"
     ]
    },
    {
     "name": "stderr",
     "output_type": "stream",
     "text": [
      "Processing URLs:  70%|██████▉   | 281/403 [22:18<03:17,  1.62s/it, Current URL: https://www.eversports.de/s/polestudio-neuss]"
     ]
    },
    {
     "name": "stdout",
     "output_type": "stream",
     "text": [
      "Error during HTTP request: 404 Client Error: Not Found for url: https://www.eversports.de/s/polestudio-neuss\n",
      "Converting to DataFrame...\n",
      "Validating URLs...\n",
      "Processing completed.\n",
      "Starting URL reconstruction...\n"
     ]
    },
    {
     "name": "stderr",
     "output_type": "stream",
     "text": [
      "Processing URLs:  70%|██████▉   | 282/403 [22:19<02:56,  1.46s/it, Current URL: https://www.eversports.de/s/pole-fit-britt]  "
     ]
    },
    {
     "name": "stdout",
     "output_type": "stream",
     "text": [
      "Error during HTTP request: 404 Client Error: Not Found for url: https://www.eversports.de/s/pole-fit-britt\n",
      "Converting to DataFrame...\n",
      "Validating URLs...\n",
      "Processing completed.\n",
      "Starting URL reconstruction...\n"
     ]
    },
    {
     "name": "stderr",
     "output_type": "stream",
     "text": [
      "Processing URLs:  70%|███████   | 283/403 [22:21<02:56,  1.47s/it, Current URL: https://www.eversports.de/s/palazzo-sportivo]"
     ]
    },
    {
     "name": "stdout",
     "output_type": "stream",
     "text": [
      "Error during HTTP request: 404 Client Error: Not Found for url: https://www.eversports.de/s/palazzo-sportivo\n",
      "Converting to DataFrame...\n",
      "Validating URLs...\n",
      "Processing completed.\n",
      "Starting URL reconstruction...\n"
     ]
    },
    {
     "name": "stderr",
     "output_type": "stream",
     "text": [
      "2024-02-03 11:52:19,120 - INFO - Processing URL 1/4: https://www.eversports.de/s/polearize\n"
     ]
    },
    {
     "name": "stdout",
     "output_type": "stream",
     "text": [
      "Converting to DataFrame...\n",
      "Validating URLs...\n"
     ]
    },
    {
     "name": "stderr",
     "output_type": "stream",
     "text": [
      "2024-02-03 11:52:20,639 - INFO - URL https://www.eversports.de/s/polearize is valid.\n",
      "2024-02-03 11:52:20,640 - INFO - Processing URL 2/4: https://www.eversports.de/sw/polearize\n",
      "2024-02-03 11:52:21,952 - INFO - URL https://www.eversports.de/sw/polearize is valid.\n",
      "2024-02-03 11:52:21,953 - INFO - Processing URL 3/4: https://www.eversports.de/sp/polearize\n",
      "2024-02-03 11:52:23,123 - INFO - URL https://www.eversports.de/sp/polearize is valid.\n",
      "2024-02-03 11:52:23,125 - INFO - Processing URL 4/4: https://www.eversports.de/s/polearize/team\n",
      "2024-02-03 11:52:24,343 - INFO - URL https://www.eversports.de/s/polearize/team is valid.\n"
     ]
    },
    {
     "name": "stdout",
     "output_type": "stream",
     "text": [
      "Scraping Pole Studio Data from https://www.eversports.de/s/polearize...\n",
      "Scraping Workshops Data from https://www.eversports.de/sw/polearize...\n",
      "Scraping Workshop Details from https://www.eversports.de/e/workshop/5N9aoto...\n",
      "Scraping Workshop Details from https://www.eversports.de/e/workshop/7QwFsx3...\n",
      "Scraping Workshop Details from https://www.eversports.de/e/workshop/516yIHG...\n",
      "Scraping Workshop Details from https://www.eversports.de/e/workshop/vmkQFeK...\n",
      "Scraping Workshop Details from https://www.eversports.de/e/workshop/4gGolhi...\n"
     ]
    },
    {
     "name": "stderr",
     "output_type": "stream",
     "text": [
      "Processing URLs:  70%|███████   | 284/403 [22:36<10:52,  5.49s/it, Current URL: https://www.eversports.de/s/polearize]       "
     ]
    },
    {
     "name": "stdout",
     "output_type": "stream",
     "text": [
      "Processing completed.\n",
      "Pole Studio Data: 1 entries\n",
      "Workshops Data: 5 entries\n",
      "Workshop Details: 5 entries\n",
      "Starting URL reconstruction...\n"
     ]
    },
    {
     "name": "stderr",
     "output_type": "stream",
     "text": [
      "Processing URLs:  71%|███████   | 285/403 [22:37<08:14,  4.19s/it, Current URL: https://www.eversports.de/s/tanzvisionen]"
     ]
    },
    {
     "name": "stdout",
     "output_type": "stream",
     "text": [
      "Error during HTTP request: 404 Client Error: Not Found for url: https://www.eversports.de/s/tanzvisionen\n",
      "Converting to DataFrame...\n",
      "Validating URLs...\n",
      "Processing completed.\n",
      "Starting URL reconstruction...\n"
     ]
    },
    {
     "name": "stderr",
     "output_type": "stream",
     "text": [
      "Processing URLs:  71%|███████   | 286/403 [22:40<07:37,  3.91s/it, Current URL: https://www.eversports.de/s/polemotions-t%c3%bcbingen]"
     ]
    },
    {
     "name": "stdout",
     "output_type": "stream",
     "text": [
      "Error during HTTP request: Exceeded 30 redirects.\n",
      "Converting to DataFrame...\n",
      "Validating URLs...\n",
      "Processing completed.\n",
      "Starting URL reconstruction...\n"
     ]
    },
    {
     "name": "stderr",
     "output_type": "stream",
     "text": [
      "2024-02-03 11:52:38,382 - INFO - Processing URL 1/2: https://www.eversports.de/s/poledance-nrw\n"
     ]
    },
    {
     "name": "stdout",
     "output_type": "stream",
     "text": [
      "Converting to DataFrame...\n",
      "Validating URLs...\n"
     ]
    },
    {
     "name": "stderr",
     "output_type": "stream",
     "text": [
      "2024-02-03 11:52:40,199 - INFO - URL https://www.eversports.de/s/poledance-nrw is valid.\n",
      "2024-02-03 11:52:40,200 - INFO - Processing URL 2/2: https://www.eversports.de/sp/poledance-nrw\n",
      "2024-02-03 11:52:41,276 - INFO - URL https://www.eversports.de/sp/poledance-nrw is valid.\n"
     ]
    },
    {
     "name": "stdout",
     "output_type": "stream",
     "text": [
      "Scraping Pole Studio Data from https://www.eversports.de/s/poledance-nrw...\n"
     ]
    },
    {
     "name": "stderr",
     "output_type": "stream",
     "text": [
      "Processing URLs:  71%|███████   | 287/403 [22:45<07:56,  4.11s/it, Current URL: https://www.eversports.de/s/poledance-nrw]            "
     ]
    },
    {
     "name": "stdout",
     "output_type": "stream",
     "text": [
      "Processing completed.\n",
      "Pole Studio Data: 1 entries\n",
      "Starting URL reconstruction...\n"
     ]
    },
    {
     "name": "stderr",
     "output_type": "stream",
     "text": [
      "Processing URLs:  71%|███████▏  | 288/403 [22:46<06:13,  3.25s/it, Current URL: https://www.eversports.de/s/aerial-art-studio]"
     ]
    },
    {
     "name": "stdout",
     "output_type": "stream",
     "text": [
      "Error during HTTP request: 404 Client Error: Not Found for url: https://www.eversports.de/s/aerial-art-studio\n",
      "Converting to DataFrame...\n",
      "Validating URLs...\n",
      "Processing completed.\n",
      "Starting URL reconstruction...\n"
     ]
    },
    {
     "name": "stderr",
     "output_type": "stream",
     "text": [
      "Processing URLs:  72%|███████▏  | 289/403 [22:47<04:56,  2.60s/it, Current URL: https://www.eversports.de/s/mypole]           "
     ]
    },
    {
     "name": "stdout",
     "output_type": "stream",
     "text": [
      "Error during HTTP request: 404 Client Error: Not Found for url: https://www.eversports.de/s/mypole\n",
      "Converting to DataFrame...\n",
      "Validating URLs...\n",
      "Processing completed.\n",
      "Starting URL reconstruction...\n"
     ]
    },
    {
     "name": "stderr",
     "output_type": "stream",
     "text": [
      "Processing URLs:  72%|███████▏  | 290/403 [22:48<04:02,  2.15s/it, Current URL: https://www.eversports.de/s/poledance-schule-berlin]"
     ]
    },
    {
     "name": "stdout",
     "output_type": "stream",
     "text": [
      "Error during HTTP request: 404 Client Error: Not Found for url: https://www.eversports.de/s/poledance-schule-berlin\n",
      "Converting to DataFrame...\n",
      "Validating URLs...\n",
      "Processing completed.\n",
      "Starting URL reconstruction...\n"
     ]
    },
    {
     "name": "stderr",
     "output_type": "stream",
     "text": [
      "2024-02-03 11:52:46,348 - INFO - Processing URL 1/3: https://www.eversports.de/s/yh-pole-and-sports-berlin\n"
     ]
    },
    {
     "name": "stdout",
     "output_type": "stream",
     "text": [
      "Converting to DataFrame...\n",
      "Validating URLs...\n"
     ]
    },
    {
     "name": "stderr",
     "output_type": "stream",
     "text": [
      "2024-02-03 11:52:47,626 - INFO - URL https://www.eversports.de/s/yh-pole-and-sports-berlin is valid.\n",
      "2024-02-03 11:52:47,627 - INFO - Processing URL 2/3: https://www.eversports.de/sp/yh-pole-and-sports-berlin\n",
      "2024-02-03 11:52:48,733 - INFO - URL https://www.eversports.de/sp/yh-pole-and-sports-berlin is valid.\n",
      "2024-02-03 11:52:48,734 - INFO - Processing URL 3/3: https://www.eversports.de/s/yh-pole-and-sports-berlin/team\n",
      "2024-02-03 11:52:50,552 - INFO - URL https://www.eversports.de/s/yh-pole-and-sports-berlin/team is valid.\n"
     ]
    },
    {
     "name": "stdout",
     "output_type": "stream",
     "text": [
      "Scraping Pole Studio Data from https://www.eversports.de/s/yh-pole-and-sports-berlin...\n"
     ]
    },
    {
     "name": "stderr",
     "output_type": "stream",
     "text": [
      "Processing URLs:  72%|███████▏  | 291/403 [22:54<06:05,  3.26s/it, Current URL: https://www.eversports.de/s/yh-pole-and-sports-berlin]"
     ]
    },
    {
     "name": "stdout",
     "output_type": "stream",
     "text": [
      "Processing completed.\n",
      "Pole Studio Data: 1 entries\n",
      "Starting URL reconstruction...\n"
     ]
    },
    {
     "name": "stderr",
     "output_type": "stream",
     "text": [
      "2024-02-03 11:52:52,685 - INFO - Processing URL 1/4: https://www.eversports.de/s/yoga-and-pole-art-by-selina\n"
     ]
    },
    {
     "name": "stdout",
     "output_type": "stream",
     "text": [
      "Converting to DataFrame...\n",
      "Validating URLs...\n"
     ]
    },
    {
     "name": "stderr",
     "output_type": "stream",
     "text": [
      "2024-02-03 11:52:54,489 - INFO - URL https://www.eversports.de/s/yoga-and-pole-art-by-selina is valid.\n",
      "2024-02-03 11:52:54,490 - INFO - Processing URL 2/4: https://www.eversports.de/sw/yoga-and-pole-art-by-selina\n",
      "2024-02-03 11:52:55,973 - INFO - URL https://www.eversports.de/sw/yoga-and-pole-art-by-selina is valid.\n",
      "2024-02-03 11:52:55,974 - INFO - Processing URL 3/4: https://www.eversports.de/sp/yoga-and-pole-art-by-selina\n",
      "2024-02-03 11:52:57,190 - INFO - URL https://www.eversports.de/sp/yoga-and-pole-art-by-selina is valid.\n",
      "2024-02-03 11:52:57,191 - INFO - Processing URL 4/4: https://www.eversports.de/s/yoga-and-pole-art-by-selina/team\n",
      "2024-02-03 11:52:58,376 - INFO - URL https://www.eversports.de/s/yoga-and-pole-art-by-selina/team is valid.\n"
     ]
    },
    {
     "name": "stdout",
     "output_type": "stream",
     "text": [
      "Scraping Pole Studio Data from https://www.eversports.de/s/yoga-and-pole-art-by-selina...\n",
      "Scraping Workshops Data from https://www.eversports.de/sw/yoga-and-pole-art-by-selina...\n",
      "Scraping Workshop Details from https://www.eversports.de/e/workshop/dhAWne_...\n",
      "Scraping Workshop Details from https://www.eversports.de/e/workshop/p_eKWTW...\n",
      "Scraping Workshop Details from https://www.eversports.de/e/workshop/1PmB24I...\n",
      "Scraping Workshop Details from https://www.eversports.de/e/workshop/Zk4neM3...\n",
      "Scraping Workshop Details from https://www.eversports.de/e/workshop/VnmCBGD...\n",
      "Scraping Workshop Details from https://www.eversports.de/e/workshop/qdYG4WC...\n",
      "Scraping Workshop Details from https://www.eversports.de/e/workshop/M4MjCdo...\n",
      "Scraping Workshop Details from https://www.eversports.de/e/workshop/bi8m5zs...\n",
      "Scraping Workshop Details from https://www.eversports.de/e/workshop/ccLkJAE...\n"
     ]
    },
    {
     "name": "stderr",
     "output_type": "stream",
     "text": [
      "Processing URLs:  72%|███████▏  | 292/403 [23:16<16:35,  8.97s/it, Current URL: https://www.eversports.de/s/yoga-and-pole-art-by-selina]"
     ]
    },
    {
     "name": "stdout",
     "output_type": "stream",
     "text": [
      "Processing completed.\n",
      "Pole Studio Data: 1 entries\n",
      "Workshops Data: 9 entries\n",
      "Workshop Details: 9 entries\n",
      "Starting URL reconstruction...\n"
     ]
    },
    {
     "name": "stderr",
     "output_type": "stream",
     "text": [
      "2024-02-03 11:53:14,503 - INFO - Processing URL 1/3: https://www.eversports.de/s/polestation-academy\n"
     ]
    },
    {
     "name": "stdout",
     "output_type": "stream",
     "text": [
      "Converting to DataFrame...\n",
      "Validating URLs...\n"
     ]
    },
    {
     "name": "stderr",
     "output_type": "stream",
     "text": [
      "2024-02-03 11:53:15,813 - INFO - URL https://www.eversports.de/s/polestation-academy is valid.\n",
      "2024-02-03 11:53:15,814 - INFO - Processing URL 2/3: https://www.eversports.de/sp/polestation-academy\n",
      "2024-02-03 11:53:17,072 - INFO - URL https://www.eversports.de/sp/polestation-academy is not valid.\n",
      "2024-02-03 11:53:17,073 - INFO - Processing URL 3/3: https://www.eversports.de/s/polestation-academy/team\n",
      "2024-02-03 11:53:18,342 - INFO - URL https://www.eversports.de/s/polestation-academy/team is valid.\n"
     ]
    },
    {
     "name": "stdout",
     "output_type": "stream",
     "text": [
      "Scraping Pole Studio Data from https://www.eversports.de/s/polestation-academy...\n"
     ]
    },
    {
     "name": "stderr",
     "output_type": "stream",
     "text": [
      "Processing URLs:  73%|███████▎  | 293/403 [23:22<14:31,  7.92s/it, Current URL: https://www.eversports.de/s/polestation-academy]        "
     ]
    },
    {
     "name": "stdout",
     "output_type": "stream",
     "text": [
      "Processing completed.\n",
      "Pole Studio Data: 1 entries\n",
      "Starting URL reconstruction...\n"
     ]
    },
    {
     "name": "stderr",
     "output_type": "stream",
     "text": [
      "Processing URLs:  73%|███████▎  | 294/403 [23:25<11:55,  6.56s/it, Current URL: https://www.eversports.de/s/schönheitstanz-studio]"
     ]
    },
    {
     "name": "stdout",
     "output_type": "stream",
     "text": [
      "Error during HTTP request: Exceeded 30 redirects.\n",
      "Converting to DataFrame...\n",
      "Validating URLs...\n",
      "Processing completed.\n",
      "Starting URL reconstruction...\n"
     ]
    },
    {
     "name": "stderr",
     "output_type": "stream",
     "text": [
      "Processing URLs:  73%|███████▎  | 295/403 [23:27<09:07,  5.07s/it, Current URL: https://www.eversports.de/s/tanzschule-step-up]   "
     ]
    },
    {
     "name": "stdout",
     "output_type": "stream",
     "text": [
      "Error during HTTP request: 404 Client Error: Not Found for url: https://www.eversports.de/s/tanzschule-step-up\n",
      "Converting to DataFrame...\n",
      "Validating URLs...\n",
      "Processing completed.\n",
      "Starting URL reconstruction...\n"
     ]
    },
    {
     "name": "stderr",
     "output_type": "stream",
     "text": [
      "2024-02-03 11:53:24,863 - INFO - Processing URL 1/1: https://www.eversports.de/s/dancingstyle\n"
     ]
    },
    {
     "name": "stdout",
     "output_type": "stream",
     "text": [
      "Converting to DataFrame...\n",
      "Validating URLs...\n"
     ]
    },
    {
     "name": "stderr",
     "output_type": "stream",
     "text": [
      "2024-02-03 11:53:26,403 - INFO - URL https://www.eversports.de/s/dancingstyle is valid.\n"
     ]
    },
    {
     "name": "stdout",
     "output_type": "stream",
     "text": [
      "Scraping Pole Studio Data from https://www.eversports.de/s/dancingstyle...\n"
     ]
    },
    {
     "name": "stderr",
     "output_type": "stream",
     "text": [
      "Processing URLs:  73%|███████▎  | 296/403 [23:30<07:55,  4.45s/it, Current URL: https://www.eversports.de/s/dancingstyle]      "
     ]
    },
    {
     "name": "stdout",
     "output_type": "stream",
     "text": [
      "Processing completed.\n",
      "Pole Studio Data: 1 entries\n",
      "Starting URL reconstruction...\n"
     ]
    },
    {
     "name": "stderr",
     "output_type": "stream",
     "text": [
      "2024-02-03 11:53:27,962 - INFO - Processing URL 1/3: https://www.eversports.de/s/dance-and-pole-langenfeld\n"
     ]
    },
    {
     "name": "stdout",
     "output_type": "stream",
     "text": [
      "Converting to DataFrame...\n",
      "Validating URLs...\n"
     ]
    },
    {
     "name": "stderr",
     "output_type": "stream",
     "text": [
      "2024-02-03 11:53:29,204 - INFO - URL https://www.eversports.de/s/dance-and-pole-langenfeld is valid.\n",
      "2024-02-03 11:53:29,205 - INFO - Processing URL 2/3: https://www.eversports.de/sp/dance-and-pole-langenfeld\n",
      "2024-02-03 11:53:30,408 - INFO - URL https://www.eversports.de/sp/dance-and-pole-langenfeld is valid.\n",
      "2024-02-03 11:53:30,409 - INFO - Processing URL 3/3: https://www.eversports.de/s/dance-and-pole-langenfeld/team\n",
      "2024-02-03 11:53:31,626 - INFO - URL https://www.eversports.de/s/dance-and-pole-langenfeld/team is valid.\n"
     ]
    },
    {
     "name": "stdout",
     "output_type": "stream",
     "text": [
      "Scraping Pole Studio Data from https://www.eversports.de/s/dance-and-pole-langenfeld...\n"
     ]
    },
    {
     "name": "stderr",
     "output_type": "stream",
     "text": [
      "Processing URLs:  74%|███████▎  | 297/403 [23:35<08:19,  4.71s/it, Current URL: https://www.eversports.de/s/dance-and-pole-langenfeld]"
     ]
    },
    {
     "name": "stdout",
     "output_type": "stream",
     "text": [
      "Processing completed.\n",
      "Pole Studio Data: 1 entries\n",
      "Starting URL reconstruction...\n"
     ]
    },
    {
     "name": "stderr",
     "output_type": "stream",
     "text": [
      "Processing URLs:  74%|███████▍  | 298/403 [23:36<06:22,  3.64s/it, Current URL: https://www.eversports.de/s/die-dance-academy-by-wipper]"
     ]
    },
    {
     "name": "stdout",
     "output_type": "stream",
     "text": [
      "Error during HTTP request: 404 Client Error: Not Found for url: https://www.eversports.de/s/die-dance-academy-by-wipper\n",
      "Converting to DataFrame...\n",
      "Validating URLs...\n",
      "Processing completed.\n",
      "Starting URL reconstruction...\n"
     ]
    },
    {
     "name": "stderr",
     "output_type": "stream",
     "text": [
      "Processing URLs:  74%|███████▍  | 299/403 [23:41<06:49,  3.93s/it, Current URL: https://www.eversports.de/s/t-tanzst%c3%bcck-tanzstudio]"
     ]
    },
    {
     "name": "stdout",
     "output_type": "stream",
     "text": [
      "Error during HTTP request: Exceeded 30 redirects.\n",
      "Converting to DataFrame...\n",
      "Validating URLs...\n",
      "Processing completed.\n",
      "Starting URL reconstruction...\n"
     ]
    },
    {
     "name": "stderr",
     "output_type": "stream",
     "text": [
      "Processing URLs:  74%|███████▍  | 300/403 [23:43<05:45,  3.35s/it, Current URL: https://www.eversports.de/s/vertical-pole-aerial-dance-aschaffenburg]"
     ]
    },
    {
     "name": "stdout",
     "output_type": "stream",
     "text": [
      "Error during HTTP request: 404 Client Error: Not Found for url: https://www.eversports.de/s/vertical-pole-aerial-dance-aschaffenburg\n",
      "Converting to DataFrame...\n",
      "Validating URLs...\n",
      "Processing completed.\n",
      "Starting URL reconstruction...\n"
     ]
    },
    {
     "name": "stderr",
     "output_type": "stream",
     "text": [
      "Processing URLs:  75%|███████▍  | 301/403 [23:44<04:42,  2.77s/it, Current URL: https://www.eversports.de/s/aerial-%26-vertikal-floor-of-art]        "
     ]
    },
    {
     "name": "stdout",
     "output_type": "stream",
     "text": [
      "Error during HTTP request: 404 Client Error: Not Found for url: https://www.eversports.de/s/aerial-%26-vertikal-floor-of-art\n",
      "Converting to DataFrame...\n",
      "Validating URLs...\n",
      "Processing completed.\n",
      "Starting URL reconstruction...\n"
     ]
    },
    {
     "name": "stderr",
     "output_type": "stream",
     "text": [
      "2024-02-03 11:53:42,878 - INFO - Processing URL 1/1: https://www.eversports.de/s/pole-your-body\n"
     ]
    },
    {
     "name": "stdout",
     "output_type": "stream",
     "text": [
      "Converting to DataFrame...\n",
      "Validating URLs...\n"
     ]
    },
    {
     "name": "stderr",
     "output_type": "stream",
     "text": [
      "2024-02-03 11:53:44,120 - INFO - URL https://www.eversports.de/s/pole-your-body is valid.\n"
     ]
    },
    {
     "name": "stdout",
     "output_type": "stream",
     "text": [
      "Scraping Pole Studio Data from https://www.eversports.de/s/pole-your-body...\n"
     ]
    },
    {
     "name": "stderr",
     "output_type": "stream",
     "text": [
      "Processing URLs:  75%|███████▍  | 302/403 [23:48<05:13,  3.11s/it, Current URL: https://www.eversports.de/s/pole-your-body]                  "
     ]
    },
    {
     "name": "stdout",
     "output_type": "stream",
     "text": [
      "Processing completed.\n",
      "Pole Studio Data: 1 entries\n",
      "Starting URL reconstruction...\n"
     ]
    },
    {
     "name": "stderr",
     "output_type": "stream",
     "text": [
      "Processing URLs:  75%|███████▌  | 303/403 [23:49<04:21,  2.61s/it, Current URL: https://www.eversports.de/s/pole-position-studio]"
     ]
    },
    {
     "name": "stdout",
     "output_type": "stream",
     "text": [
      "Error during HTTP request: 404 Client Error: Not Found for url: https://www.eversports.de/s/pole-position-studio\n",
      "Converting to DataFrame...\n",
      "Validating URLs...\n",
      "Processing completed.\n",
      "Starting URL reconstruction...\n"
     ]
    },
    {
     "name": "stderr",
     "output_type": "stream",
     "text": [
      "2024-02-03 11:53:47,833 - INFO - Processing URL 1/1: https://www.eversports.de/s/pole-flow-berlin\n"
     ]
    },
    {
     "name": "stdout",
     "output_type": "stream",
     "text": [
      "Converting to DataFrame...\n",
      "Validating URLs...\n"
     ]
    },
    {
     "name": "stderr",
     "output_type": "stream",
     "text": [
      "2024-02-03 11:53:49,022 - INFO - URL https://www.eversports.de/s/pole-flow-berlin is valid.\n"
     ]
    },
    {
     "name": "stdout",
     "output_type": "stream",
     "text": [
      "Scraping Pole Studio Data from https://www.eversports.de/s/pole-flow-berlin...\n"
     ]
    },
    {
     "name": "stderr",
     "output_type": "stream",
     "text": [
      "Processing URLs:  75%|███████▌  | 304/403 [23:52<04:26,  2.69s/it, Current URL: https://www.eversports.de/s/pole-flow-berlin]    "
     ]
    },
    {
     "name": "stdout",
     "output_type": "stream",
     "text": [
      "Processing completed.\n",
      "Pole Studio Data: 1 entries\n",
      "Starting URL reconstruction...\n"
     ]
    },
    {
     "name": "stderr",
     "output_type": "stream",
     "text": [
      "2024-02-03 11:53:50,642 - INFO - Processing URL 1/1: https://www.eversports.de/s/poleart_inspiration\n"
     ]
    },
    {
     "name": "stdout",
     "output_type": "stream",
     "text": [
      "Converting to DataFrame...\n",
      "Validating URLs...\n"
     ]
    },
    {
     "name": "stderr",
     "output_type": "stream",
     "text": [
      "2024-02-03 11:53:51,806 - INFO - URL https://www.eversports.de/s/poleart_inspiration is valid.\n"
     ]
    },
    {
     "name": "stdout",
     "output_type": "stream",
     "text": [
      "Scraping Pole Studio Data from https://www.eversports.de/s/poleart_inspiration...\n"
     ]
    },
    {
     "name": "stderr",
     "output_type": "stream",
     "text": [
      "Processing URLs:  76%|███████▌  | 305/403 [23:55<04:22,  2.68s/it, Current URL: https://www.eversports.de/s/poleart_inspiration]"
     ]
    },
    {
     "name": "stdout",
     "output_type": "stream",
     "text": [
      "Processing completed.\n",
      "Pole Studio Data: 1 entries\n",
      "Starting URL reconstruction...\n"
     ]
    },
    {
     "name": "stderr",
     "output_type": "stream",
     "text": [
      "Processing URLs:  76%|███████▌  | 306/403 [23:56<03:36,  2.23s/it, Current URL: https://www.eversports.de/s/pole-sisters]       "
     ]
    },
    {
     "name": "stdout",
     "output_type": "stream",
     "text": [
      "Error during HTTP request: 404 Client Error: Not Found for url: https://www.eversports.de/s/pole-sisters\n",
      "Converting to DataFrame...\n",
      "Validating URLs...\n",
      "Processing completed.\n",
      "Starting URL reconstruction...\n"
     ]
    },
    {
     "name": "stderr",
     "output_type": "stream",
     "text": [
      "Processing URLs:  76%|███████▌  | 307/403 [23:57<03:01,  1.89s/it, Current URL: https://www.eversports.de/s/polemagique] "
     ]
    },
    {
     "name": "stdout",
     "output_type": "stream",
     "text": [
      "Error during HTTP request: 404 Client Error: Not Found for url: https://www.eversports.de/s/polemagique\n",
      "Converting to DataFrame...\n",
      "Validating URLs...\n",
      "Processing completed.\n",
      "Starting URL reconstruction...\n"
     ]
    },
    {
     "name": "stderr",
     "output_type": "stream",
     "text": [
      "Processing URLs:  76%|███████▋  | 308/403 [23:58<02:36,  1.65s/it, Current URL: https://www.eversports.de/s/tanzteufel-emmendingen]"
     ]
    },
    {
     "name": "stdout",
     "output_type": "stream",
     "text": [
      "Error during HTTP request: 404 Client Error: Not Found for url: https://www.eversports.de/s/tanzteufel-emmendingen\n",
      "Converting to DataFrame...\n",
      "Validating URLs...\n",
      "Processing completed.\n",
      "Starting URL reconstruction...\n"
     ]
    },
    {
     "name": "stderr",
     "output_type": "stream",
     "text": [
      "Processing URLs:  77%|███████▋  | 309/403 [24:00<02:22,  1.52s/it, Current URL: https://www.eversports.de/s/polegarage-iserloh]    "
     ]
    },
    {
     "name": "stdout",
     "output_type": "stream",
     "text": [
      "Error during HTTP request: 404 Client Error: Not Found for url: https://www.eversports.de/s/polegarage-iserloh\n",
      "Converting to DataFrame...\n",
      "Validating URLs...\n",
      "Processing completed.\n",
      "Starting URL reconstruction...\n"
     ]
    },
    {
     "name": "stderr",
     "output_type": "stream",
     "text": [
      "Processing URLs:  77%|███████▋  | 310/403 [24:01<02:07,  1.37s/it, Current URL: https://www.eversports.de/s/dance-&-pole-langenfeld]"
     ]
    },
    {
     "name": "stdout",
     "output_type": "stream",
     "text": [
      "Error during HTTP request: 404 Client Error: Not Found for url: https://www.eversports.de/s/dance-&-pole-langenfeld\n",
      "Converting to DataFrame...\n",
      "Validating URLs...\n",
      "Processing completed.\n",
      "Starting URL reconstruction...\n"
     ]
    },
    {
     "name": "stderr",
     "output_type": "stream",
     "text": [
      "Processing URLs:  77%|███████▋  | 311/403 [24:02<01:58,  1.29s/it, Current URL: https://www.eversports.de/s/wonderpole]             "
     ]
    },
    {
     "name": "stdout",
     "output_type": "stream",
     "text": [
      "Error during HTTP request: 404 Client Error: Not Found for url: https://www.eversports.de/s/wonderpole\n",
      "Converting to DataFrame...\n",
      "Validating URLs...\n",
      "Processing completed.\n",
      "Starting URL reconstruction...\n"
     ]
    },
    {
     "name": "stderr",
     "output_type": "stream",
     "text": [
      "Processing URLs:  77%|███████▋  | 312/403 [24:03<01:59,  1.31s/it, Current URL: https://www.eversports.de/s/incredipole-pole-%26-fitness-by-carolin]"
     ]
    },
    {
     "name": "stdout",
     "output_type": "stream",
     "text": [
      "Error during HTTP request: 404 Client Error: Not Found for url: https://www.eversports.de/s/incredipole-pole-%26-fitness-by-carolin\n",
      "Converting to DataFrame...\n",
      "Validating URLs...\n",
      "Processing completed.\n",
      "Starting URL reconstruction...\n"
     ]
    },
    {
     "name": "stderr",
     "output_type": "stream",
     "text": [
      "2024-02-03 11:54:01,457 - INFO - Processing URL 1/4: https://www.eversports.de/s/dance-and-pole-leverkusen\n"
     ]
    },
    {
     "name": "stdout",
     "output_type": "stream",
     "text": [
      "Converting to DataFrame...\n",
      "Validating URLs...\n"
     ]
    },
    {
     "name": "stderr",
     "output_type": "stream",
     "text": [
      "2024-02-03 11:54:02,736 - INFO - URL https://www.eversports.de/s/dance-and-pole-leverkusen is valid.\n",
      "2024-02-03 11:54:02,737 - INFO - Processing URL 2/4: https://www.eversports.de/sw/dance-and-pole-leverkusen\n",
      "2024-02-03 11:54:03,866 - INFO - URL https://www.eversports.de/sw/dance-and-pole-leverkusen is valid.\n",
      "2024-02-03 11:54:03,866 - INFO - Processing URL 3/4: https://www.eversports.de/sp/dance-and-pole-leverkusen\n",
      "2024-02-03 11:54:04,953 - INFO - URL https://www.eversports.de/sp/dance-and-pole-leverkusen is valid.\n",
      "2024-02-03 11:54:04,954 - INFO - Processing URL 4/4: https://www.eversports.de/s/dance-and-pole-leverkusen/team\n",
      "2024-02-03 11:54:06,126 - INFO - URL https://www.eversports.de/s/dance-and-pole-leverkusen/team is valid.\n"
     ]
    },
    {
     "name": "stdout",
     "output_type": "stream",
     "text": [
      "Scraping Pole Studio Data from https://www.eversports.de/s/dance-and-pole-leverkusen...\n",
      "Scraping Workshops Data from https://www.eversports.de/sw/dance-and-pole-leverkusen...\n",
      "Scraping Workshop Details from https://www.eversports.de/e/workshop/II-gWEL...\n"
     ]
    },
    {
     "name": "stderr",
     "output_type": "stream",
     "text": [
      "Processing URLs:  78%|███████▊  | 313/403 [24:12<05:22,  3.58s/it, Current URL: https://www.eversports.de/s/dance-and-pole-leverkusen]              "
     ]
    },
    {
     "name": "stdout",
     "output_type": "stream",
     "text": [
      "Processing completed.\n",
      "Pole Studio Data: 1 entries\n",
      "Workshops Data: 1 entries\n",
      "Workshop Details: 1 entries\n",
      "Starting URL reconstruction...\n"
     ]
    },
    {
     "name": "stderr",
     "output_type": "stream",
     "text": [
      "Processing URLs:  78%|███████▊  | 314/403 [24:13<04:12,  2.83s/it, Current URL: https://www.eversports.de/s/polemotion-freiburg]      "
     ]
    },
    {
     "name": "stdout",
     "output_type": "stream",
     "text": [
      "Error during HTTP request: 404 Client Error: Not Found for url: https://www.eversports.de/s/polemotion-freiburg\n",
      "Converting to DataFrame...\n",
      "Validating URLs...\n",
      "Processing completed.\n",
      "Starting URL reconstruction...\n"
     ]
    },
    {
     "name": "stderr",
     "output_type": "stream",
     "text": [
      "2024-02-03 11:54:11,359 - INFO - Processing URL 1/3: https://www.eversports.de/s/polemotions-filderstadt\n"
     ]
    },
    {
     "name": "stdout",
     "output_type": "stream",
     "text": [
      "Converting to DataFrame...\n",
      "Validating URLs...\n"
     ]
    },
    {
     "name": "stderr",
     "output_type": "stream",
     "text": [
      "2024-02-03 11:54:12,625 - INFO - URL https://www.eversports.de/s/polemotions-filderstadt is valid.\n",
      "2024-02-03 11:54:12,626 - INFO - Processing URL 2/3: https://www.eversports.de/sp/polemotions-filderstadt\n",
      "2024-02-03 11:54:13,716 - INFO - URL https://www.eversports.de/sp/polemotions-filderstadt is valid.\n",
      "2024-02-03 11:54:13,718 - INFO - Processing URL 3/3: https://www.eversports.de/s/polemotions-filderstadt/team\n",
      "2024-02-03 11:54:14,942 - INFO - URL https://www.eversports.de/s/polemotions-filderstadt/team is valid.\n"
     ]
    },
    {
     "name": "stdout",
     "output_type": "stream",
     "text": [
      "Scraping Pole Studio Data from https://www.eversports.de/s/polemotions-filderstadt...\n"
     ]
    },
    {
     "name": "stderr",
     "output_type": "stream",
     "text": [
      "Processing URLs:  78%|███████▊  | 315/403 [24:18<05:17,  3.61s/it, Current URL: https://www.eversports.de/s/polemotions-filderstadt]"
     ]
    },
    {
     "name": "stdout",
     "output_type": "stream",
     "text": [
      "Processing completed.\n",
      "Pole Studio Data: 1 entries\n",
      "Starting URL reconstruction...\n"
     ]
    },
    {
     "name": "stderr",
     "output_type": "stream",
     "text": [
      "Processing URLs:  78%|███████▊  | 316/403 [24:20<04:08,  2.86s/it, Current URL: https://www.eversports.de/s/lift-off-poledance-academy]"
     ]
    },
    {
     "name": "stdout",
     "output_type": "stream",
     "text": [
      "Error during HTTP request: 404 Client Error: Not Found for url: https://www.eversports.de/s/lift-off-poledance-academy\n",
      "Converting to DataFrame...\n",
      "Validating URLs...\n",
      "Processing completed.\n",
      "Starting URL reconstruction...\n"
     ]
    },
    {
     "name": "stderr",
     "output_type": "stream",
     "text": [
      "2024-02-03 11:54:18,694 - INFO - Processing URL 1/3: https://www.eversports.de/s/pure-body-concepts-1\n"
     ]
    },
    {
     "name": "stdout",
     "output_type": "stream",
     "text": [
      "Converting to DataFrame...\n",
      "Validating URLs...\n"
     ]
    },
    {
     "name": "stderr",
     "output_type": "stream",
     "text": [
      "2024-02-03 11:54:19,980 - INFO - URL https://www.eversports.de/s/pure-body-concepts-1 is valid.\n",
      "2024-02-03 11:54:19,981 - INFO - Processing URL 2/3: https://www.eversports.de/sp/pure-body-concepts-1\n",
      "2024-02-03 11:54:21,111 - INFO - URL https://www.eversports.de/sp/pure-body-concepts-1 is valid.\n",
      "2024-02-03 11:54:21,112 - INFO - Processing URL 3/3: https://www.eversports.de/s/pure-body-concepts-1/team\n",
      "2024-02-03 11:54:22,509 - INFO - URL https://www.eversports.de/s/pure-body-concepts-1/team is valid.\n"
     ]
    },
    {
     "name": "stdout",
     "output_type": "stream",
     "text": [
      "Scraping Pole Studio Data from https://www.eversports.de/s/pure-body-concepts-1...\n"
     ]
    },
    {
     "name": "stderr",
     "output_type": "stream",
     "text": [
      "Processing URLs:  79%|███████▊  | 317/403 [24:26<05:41,  3.97s/it, Current URL: https://www.eversports.de/s/pure-body-concepts-1]      "
     ]
    },
    {
     "name": "stdout",
     "output_type": "stream",
     "text": [
      "Processing completed.\n",
      "Pole Studio Data: 1 entries\n",
      "Starting URL reconstruction...\n"
     ]
    },
    {
     "name": "stderr",
     "output_type": "stream",
     "text": [
      "Processing URLs:  79%|███████▉  | 318/403 [24:27<04:23,  3.10s/it, Current URL: https://www.eversports.de/s/lustforlife.studio]  "
     ]
    },
    {
     "name": "stdout",
     "output_type": "stream",
     "text": [
      "Error during HTTP request: 404 Client Error: Not Found for url: https://www.eversports.de/s/lustforlife.studio\n",
      "Converting to DataFrame...\n",
      "Validating URLs...\n",
      "Processing completed.\n",
      "Starting URL reconstruction...\n"
     ]
    },
    {
     "name": "stderr",
     "output_type": "stream",
     "text": [
      "Processing URLs:  79%|███████▉  | 319/403 [24:28<03:30,  2.50s/it, Current URL: https://www.eversports.de/s/pole-dance-hechingen]"
     ]
    },
    {
     "name": "stdout",
     "output_type": "stream",
     "text": [
      "Error during HTTP request: 404 Client Error: Not Found for url: https://www.eversports.de/s/pole-dance-hechingen\n",
      "Converting to DataFrame...\n",
      "Validating URLs...\n",
      "Processing completed.\n",
      "Starting URL reconstruction...\n"
     ]
    },
    {
     "name": "stderr",
     "output_type": "stream",
     "text": [
      "2024-02-03 11:54:26,575 - INFO - Processing URL 1/2: https://www.eversports.de/s/annis-pole-dance-uetersen\n"
     ]
    },
    {
     "name": "stdout",
     "output_type": "stream",
     "text": [
      "Error reconstructing URL for 'Trainings': Unrecognized text: 'Trainings'\n",
      "Error reconstructing URL for 'Kurse': Unrecognized text: 'Kurse'\n",
      "Converting to DataFrame...\n",
      "Validating URLs...\n"
     ]
    },
    {
     "name": "stderr",
     "output_type": "stream",
     "text": [
      "2024-02-03 11:54:27,819 - INFO - URL https://www.eversports.de/s/annis-pole-dance-uetersen is valid.\n",
      "2024-02-03 11:54:27,820 - INFO - Processing URL 2/2: https://www.eversports.de/s/annis-pole-dance-uetersen/team\n",
      "2024-02-03 11:54:28,964 - INFO - URL https://www.eversports.de/s/annis-pole-dance-uetersen/team is valid.\n"
     ]
    },
    {
     "name": "stdout",
     "output_type": "stream",
     "text": [
      "Scraping Pole Studio Data from https://www.eversports.de/s/annis-pole-dance-uetersen...\n"
     ]
    },
    {
     "name": "stderr",
     "output_type": "stream",
     "text": [
      "Processing URLs:  79%|███████▉  | 320/403 [24:32<04:05,  2.96s/it, Current URL: https://www.eversports.de/s/annis-pole-dance-uetersen]"
     ]
    },
    {
     "name": "stdout",
     "output_type": "stream",
     "text": [
      "Processing completed.\n",
      "Pole Studio Data: 1 entries\n",
      "Starting URL reconstruction...\n"
     ]
    },
    {
     "name": "stderr",
     "output_type": "stream",
     "text": [
      "2024-02-03 11:54:30,813 - INFO - Processing URL 1/1: https://www.eversports.de/s/pure-body-concepts\n"
     ]
    },
    {
     "name": "stdout",
     "output_type": "stream",
     "text": [
      "Converting to DataFrame...\n",
      "Validating URLs...\n"
     ]
    },
    {
     "name": "stderr",
     "output_type": "stream",
     "text": [
      "2024-02-03 11:54:33,344 - INFO - URL https://www.eversports.de/s/pure-body-concepts is valid.\n"
     ]
    },
    {
     "name": "stdout",
     "output_type": "stream",
     "text": [
      "Scraping Pole Studio Data from https://www.eversports.de/s/pure-body-concepts...\n"
     ]
    },
    {
     "name": "stderr",
     "output_type": "stream",
     "text": [
      "Processing URLs:  80%|███████▉  | 321/403 [24:37<04:33,  3.34s/it, Current URL: https://www.eversports.de/s/pure-body-concepts]       "
     ]
    },
    {
     "name": "stdout",
     "output_type": "stream",
     "text": [
      "Processing completed.\n",
      "Pole Studio Data: 1 entries\n",
      "Starting URL reconstruction...\n"
     ]
    },
    {
     "name": "stderr",
     "output_type": "stream",
     "text": [
      "2024-02-03 11:54:34,955 - INFO - Processing URL 1/1: https://www.eversports.de/s/x-step-berlin\n"
     ]
    },
    {
     "name": "stdout",
     "output_type": "stream",
     "text": [
      "Converting to DataFrame...\n",
      "Validating URLs...\n"
     ]
    },
    {
     "name": "stderr",
     "output_type": "stream",
     "text": [
      "2024-02-03 11:54:37,866 - INFO - URL https://www.eversports.de/s/x-step-berlin is valid.\n"
     ]
    },
    {
     "name": "stdout",
     "output_type": "stream",
     "text": [
      "Scraping Pole Studio Data from https://www.eversports.de/s/x-step-berlin...\n"
     ]
    },
    {
     "name": "stderr",
     "output_type": "stream",
     "text": [
      "Processing URLs:  80%|███████▉  | 322/403 [24:41<05:02,  3.73s/it, Current URL: https://www.eversports.de/s/x-step-berlin]     "
     ]
    },
    {
     "name": "stdout",
     "output_type": "stream",
     "text": [
      "Processing completed.\n",
      "Pole Studio Data: 1 entries\n",
      "Starting URL reconstruction...\n"
     ]
    },
    {
     "name": "stderr",
     "output_type": "stream",
     "text": [
      "Processing URLs:  80%|████████  | 323/403 [24:43<04:06,  3.08s/it, Current URL: https://www.eversports.de/s/vertical-moves-pole-dance-%26-sports]"
     ]
    },
    {
     "name": "stdout",
     "output_type": "stream",
     "text": [
      "Error during HTTP request: 404 Client Error: Not Found for url: https://www.eversports.de/s/vertical-moves-pole-dance-%26-sports\n",
      "Converting to DataFrame...\n",
      "Validating URLs...\n",
      "Processing completed.\n",
      "Starting URL reconstruction...\n"
     ]
    },
    {
     "name": "stderr",
     "output_type": "stream",
     "text": [
      "Processing URLs:  80%|████████  | 324/403 [24:44<03:15,  2.48s/it, Current URL: https://www.eversports.de/s/wildheart-yoga-%26-pole-dance]       "
     ]
    },
    {
     "name": "stdout",
     "output_type": "stream",
     "text": [
      "Error during HTTP request: 404 Client Error: Not Found for url: https://www.eversports.de/s/wildheart-yoga-%26-pole-dance\n",
      "Converting to DataFrame...\n",
      "Validating URLs...\n",
      "Processing completed.\n",
      "Starting URL reconstruction...\n"
     ]
    },
    {
     "name": "stderr",
     "output_type": "stream",
     "text": [
      "Processing URLs:  81%|████████  | 325/403 [24:45<02:40,  2.05s/it, Current URL: https://www.eversports.de/s/pole-heroes-pole-%26aerial-dance-studio]"
     ]
    },
    {
     "name": "stdout",
     "output_type": "stream",
     "text": [
      "Error during HTTP request: 404 Client Error: Not Found for url: https://www.eversports.de/s/pole-heroes-pole-%26aerial-dance-studio\n",
      "Converting to DataFrame...\n",
      "Validating URLs...\n",
      "Processing completed.\n",
      "Starting URL reconstruction...\n"
     ]
    },
    {
     "name": "stderr",
     "output_type": "stream",
     "text": [
      "2024-02-03 11:54:43,978 - INFO - Processing URL 1/3: https://www.eversports.de/s/munich-poledance\n"
     ]
    },
    {
     "name": "stdout",
     "output_type": "stream",
     "text": [
      "Converting to DataFrame...\n",
      "Validating URLs...\n"
     ]
    },
    {
     "name": "stderr",
     "output_type": "stream",
     "text": [
      "2024-02-03 11:54:45,342 - INFO - URL https://www.eversports.de/s/munich-poledance is valid.\n",
      "2024-02-03 11:54:45,343 - INFO - Processing URL 2/3: https://www.eversports.de/sp/munich-poledance\n",
      "2024-02-03 11:54:46,559 - INFO - URL https://www.eversports.de/sp/munich-poledance is valid.\n",
      "2024-02-03 11:54:46,560 - INFO - Processing URL 3/3: https://www.eversports.de/s/munich-poledance/team\n",
      "2024-02-03 11:54:47,801 - INFO - URL https://www.eversports.de/s/munich-poledance/team is valid.\n"
     ]
    },
    {
     "name": "stdout",
     "output_type": "stream",
     "text": [
      "Scraping Pole Studio Data from https://www.eversports.de/s/munich-poledance...\n"
     ]
    },
    {
     "name": "stderr",
     "output_type": "stream",
     "text": [
      "Processing URLs:  81%|████████  | 326/403 [24:53<04:49,  3.76s/it, Current URL: https://www.eversports.de/s/munich-poledance]                       "
     ]
    },
    {
     "name": "stdout",
     "output_type": "stream",
     "text": [
      "Processing completed.\n",
      "Pole Studio Data: 1 entries\n",
      "Starting URL reconstruction...\n"
     ]
    },
    {
     "name": "stderr",
     "output_type": "stream",
     "text": [
      "Processing URLs:  81%|████████  | 327/403 [24:54<03:45,  2.97s/it, Current URL: https://www.eversports.de/s/tanzstudio-redlightdance-berlin]"
     ]
    },
    {
     "name": "stdout",
     "output_type": "stream",
     "text": [
      "Error during HTTP request: 404 Client Error: Not Found for url: https://www.eversports.de/s/tanzstudio-redlightdance-berlin\n",
      "Converting to DataFrame...\n",
      "Validating URLs...\n",
      "Processing completed.\n",
      "Starting URL reconstruction...\n"
     ]
    },
    {
     "name": "stderr",
     "output_type": "stream",
     "text": [
      "Processing URLs:  81%|████████▏ | 328/403 [24:58<04:07,  3.29s/it, Current URL: https://www.eversports.de/s/cologne-pole-fitness-pole-dance-k%c3%b6ln]"
     ]
    },
    {
     "name": "stdout",
     "output_type": "stream",
     "text": [
      "Error during HTTP request: Exceeded 30 redirects.\n",
      "Converting to DataFrame...\n",
      "Validating URLs...\n",
      "Processing completed.\n",
      "Starting URL reconstruction...\n"
     ]
    },
    {
     "name": "stderr",
     "output_type": "stream",
     "text": [
      "Processing URLs:  82%|████████▏ | 329/403 [24:59<03:14,  2.63s/it, Current URL: https://www.eversports.de/s/just-fly]                                 "
     ]
    },
    {
     "name": "stdout",
     "output_type": "stream",
     "text": [
      "Error during HTTP request: 404 Client Error: Not Found for url: https://www.eversports.de/s/just-fly\n",
      "Converting to DataFrame...\n",
      "Validating URLs...\n",
      "Processing completed.\n",
      "Starting URL reconstruction...\n"
     ]
    },
    {
     "name": "stderr",
     "output_type": "stream",
     "text": [
      "Processing URLs:  82%|████████▏ | 330/403 [25:00<02:41,  2.21s/it, Current URL: https://www.eversports.de/s/drehimpuls-aachen]"
     ]
    },
    {
     "name": "stdout",
     "output_type": "stream",
     "text": [
      "Error during HTTP request: 404 Client Error: Not Found for url: https://www.eversports.de/s/drehimpuls-aachen\n",
      "Converting to DataFrame...\n",
      "Validating URLs...\n",
      "Processing completed.\n",
      "Starting URL reconstruction...\n"
     ]
    },
    {
     "name": "stderr",
     "output_type": "stream",
     "text": [
      "Processing URLs:  82%|████████▏ | 331/403 [25:03<03:02,  2.54s/it, Current URL: https://www.eversports.de/s/bellabina-kulturell%2c-ballettschule%2c-pole-sport%2c-tanzstudio%2c-musikunterricht]"
     ]
    },
    {
     "name": "stdout",
     "output_type": "stream",
     "text": [
      "Error during HTTP request: Exceeded 30 redirects.\n",
      "Converting to DataFrame...\n",
      "Validating URLs...\n",
      "Processing completed.\n",
      "Starting URL reconstruction...\n"
     ]
    },
    {
     "name": "stderr",
     "output_type": "stream",
     "text": [
      "2024-02-03 11:55:01,839 - INFO - Processing URL 1/4: https://www.eversports.de/s/polespirit\n"
     ]
    },
    {
     "name": "stdout",
     "output_type": "stream",
     "text": [
      "Converting to DataFrame...\n",
      "Validating URLs...\n"
     ]
    },
    {
     "name": "stderr",
     "output_type": "stream",
     "text": [
      "2024-02-03 11:55:03,018 - INFO - URL https://www.eversports.de/s/polespirit is valid.\n",
      "2024-02-03 11:55:03,020 - INFO - Processing URL 2/4: https://www.eversports.de/sw/polespirit\n",
      "2024-02-03 11:55:04,106 - INFO - URL https://www.eversports.de/sw/polespirit is valid.\n",
      "2024-02-03 11:55:04,106 - INFO - Processing URL 3/4: https://www.eversports.de/sp/polespirit\n",
      "2024-02-03 11:55:05,197 - INFO - URL https://www.eversports.de/sp/polespirit is valid.\n",
      "2024-02-03 11:55:05,198 - INFO - Processing URL 4/4: https://www.eversports.de/s/polespirit/team\n",
      "2024-02-03 11:55:06,293 - INFO - URL https://www.eversports.de/s/polespirit/team is valid.\n"
     ]
    },
    {
     "name": "stdout",
     "output_type": "stream",
     "text": [
      "Scraping Pole Studio Data from https://www.eversports.de/s/polespirit...\n",
      "Scraping Workshops Data from https://www.eversports.de/sw/polespirit...\n",
      "Scraping Workshop Details from https://www.eversports.de/e/workshop/xUH0CLo...\n",
      "Scraping Workshop Details from https://www.eversports.de/e/workshop/GpBpifi...\n"
     ]
    },
    {
     "name": "stderr",
     "output_type": "stream",
     "text": [
      "Processing URLs:  82%|████████▏ | 332/403 [25:14<05:45,  4.86s/it, Current URL: https://www.eversports.de/s/polespirit]                                                                         "
     ]
    },
    {
     "name": "stdout",
     "output_type": "stream",
     "text": [
      "Processing completed.\n",
      "Pole Studio Data: 1 entries\n",
      "Workshops Data: 2 entries\n",
      "Workshop Details: 2 entries\n",
      "Starting URL reconstruction...\n"
     ]
    },
    {
     "name": "stderr",
     "output_type": "stream",
     "text": [
      "Processing URLs:  83%|████████▎ | 333/403 [25:15<04:21,  3.73s/it, Current URL: https://www.eversports.de/s/aerial-athletix]"
     ]
    },
    {
     "name": "stdout",
     "output_type": "stream",
     "text": [
      "Error during HTTP request: 404 Client Error: Not Found for url: https://www.eversports.de/s/aerial-athletix\n",
      "Converting to DataFrame...\n",
      "Validating URLs...\n",
      "Processing completed.\n",
      "Starting URL reconstruction...\n"
     ]
    },
    {
     "name": "stderr",
     "output_type": "stream",
     "text": [
      "2024-02-03 11:55:13,128 - INFO - Processing URL 1/4: https://www.eversports.de/s/pole-and-move-ludwigshafen\n"
     ]
    },
    {
     "name": "stdout",
     "output_type": "stream",
     "text": [
      "Converting to DataFrame...\n",
      "Validating URLs...\n"
     ]
    },
    {
     "name": "stderr",
     "output_type": "stream",
     "text": [
      "2024-02-03 11:55:14,474 - INFO - URL https://www.eversports.de/s/pole-and-move-ludwigshafen is valid.\n",
      "2024-02-03 11:55:14,475 - INFO - Processing URL 2/4: https://www.eversports.de/sw/pole-and-move-ludwigshafen\n",
      "2024-02-03 11:55:15,795 - INFO - URL https://www.eversports.de/sw/pole-and-move-ludwigshafen is valid.\n",
      "2024-02-03 11:55:15,796 - INFO - Processing URL 3/4: https://www.eversports.de/sp/pole-and-move-ludwigshafen\n",
      "2024-02-03 11:55:16,881 - INFO - URL https://www.eversports.de/sp/pole-and-move-ludwigshafen is valid.\n",
      "2024-02-03 11:55:16,883 - INFO - Processing URL 4/4: https://www.eversports.de/s/pole-and-move-ludwigshafen/team\n",
      "2024-02-03 11:55:18,050 - INFO - URL https://www.eversports.de/s/pole-and-move-ludwigshafen/team is valid.\n"
     ]
    },
    {
     "name": "stdout",
     "output_type": "stream",
     "text": [
      "Scraping Pole Studio Data from https://www.eversports.de/s/pole-and-move-ludwigshafen...\n",
      "Scraping Workshops Data from https://www.eversports.de/sw/pole-and-move-ludwigshafen...\n",
      "Scraping Workshop Details from https://www.eversports.de/e/workshop/M1wKpZR...\n",
      "Scraping Workshop Details from https://www.eversports.de/e/workshop/xAIHC25...\n",
      "Scraping Workshop Details from https://www.eversports.de/e/workshop/QSBryP0...\n",
      "Scraping Workshop Details from https://www.eversports.de/e/workshop/VBYd7ZF...\n",
      "Scraping Workshop Details from https://www.eversports.de/e/workshop/zTbGfLi...\n",
      "Scraping Workshop Details from https://www.eversports.de/e/workshop/fUoSQuY...\n"
     ]
    },
    {
     "name": "stderr",
     "output_type": "stream",
     "text": [
      "Processing URLs:  83%|████████▎ | 334/403 [25:30<08:18,  7.22s/it, Current URL: https://www.eversports.de/s/pole-and-move-ludwigshafen]"
     ]
    },
    {
     "name": "stdout",
     "output_type": "stream",
     "text": [
      "Processing completed.\n",
      "Pole Studio Data: 1 entries\n",
      "Workshops Data: 6 entries\n",
      "Workshop Details: 6 entries\n",
      "Starting URL reconstruction...\n"
     ]
    },
    {
     "name": "stderr",
     "output_type": "stream",
     "text": [
      "Processing URLs:  83%|████████▎ | 335/403 [25:31<06:05,  5.38s/it, Current URL: https://www.eversports.de/s/pole-dance-mettingen]      "
     ]
    },
    {
     "name": "stdout",
     "output_type": "stream",
     "text": [
      "Error during HTTP request: 404 Client Error: Not Found for url: https://www.eversports.de/s/pole-dance-mettingen\n",
      "Converting to DataFrame...\n",
      "Validating URLs...\n",
      "Processing completed.\n",
      "Starting URL reconstruction...\n"
     ]
    },
    {
     "name": "stderr",
     "output_type": "stream",
     "text": [
      "Processing URLs:  83%|████████▎ | 336/403 [25:32<04:33,  4.09s/it, Current URL: https://www.eversports.de/s/pole-emotion-bremerhaven]"
     ]
    },
    {
     "name": "stdout",
     "output_type": "stream",
     "text": [
      "Error during HTTP request: 404 Client Error: Not Found for url: https://www.eversports.de/s/pole-emotion-bremerhaven\n",
      "Converting to DataFrame...\n",
      "Validating URLs...\n",
      "Processing completed.\n",
      "Starting URL reconstruction...\n"
     ]
    },
    {
     "name": "stderr",
     "output_type": "stream",
     "text": [
      "2024-02-03 11:55:30,815 - INFO - Processing URL 1/3: https://www.eversports.de/s/tanzstudio-michel\n"
     ]
    },
    {
     "name": "stdout",
     "output_type": "stream",
     "text": [
      "Converting to DataFrame...\n",
      "Validating URLs...\n"
     ]
    },
    {
     "name": "stderr",
     "output_type": "stream",
     "text": [
      "2024-02-03 11:55:32,003 - INFO - URL https://www.eversports.de/s/tanzstudio-michel is valid.\n",
      "2024-02-03 11:55:32,004 - INFO - Processing URL 2/3: https://www.eversports.de/sp/tanzstudio-michel\n",
      "2024-02-03 11:55:33,060 - INFO - URL https://www.eversports.de/sp/tanzstudio-michel is valid.\n",
      "2024-02-03 11:55:33,061 - INFO - Processing URL 3/3: https://www.eversports.de/s/tanzstudio-michel/team\n",
      "2024-02-03 11:55:34,494 - INFO - URL https://www.eversports.de/s/tanzstudio-michel/team is valid.\n"
     ]
    },
    {
     "name": "stdout",
     "output_type": "stream",
     "text": [
      "Scraping Pole Studio Data from https://www.eversports.de/s/tanzstudio-michel...\n"
     ]
    },
    {
     "name": "stderr",
     "output_type": "stream",
     "text": [
      "Processing URLs:  84%|████████▎ | 337/403 [25:39<05:19,  4.84s/it, Current URL: https://www.eversports.de/s/tanzstudio-michel]       "
     ]
    },
    {
     "name": "stdout",
     "output_type": "stream",
     "text": [
      "Processing completed.\n",
      "Pole Studio Data: 1 entries\n",
      "Starting URL reconstruction...\n"
     ]
    },
    {
     "name": "stderr",
     "output_type": "stream",
     "text": [
      "Processing URLs:  84%|████████▍ | 338/403 [25:40<04:01,  3.71s/it, Current URL: https://www.eversports.de/s/poleria]          "
     ]
    },
    {
     "name": "stdout",
     "output_type": "stream",
     "text": [
      "Error during HTTP request: 404 Client Error: Not Found for url: https://www.eversports.de/s/poleria\n",
      "Converting to DataFrame...\n",
      "Validating URLs...\n",
      "Processing completed.\n",
      "Starting URL reconstruction...\n"
     ]
    },
    {
     "name": "stderr",
     "output_type": "stream",
     "text": [
      "Processing URLs:  84%|████████▍ | 339/403 [25:41<03:07,  2.93s/it, Current URL: https://www.eversports.de/s/polefitness-premium]"
     ]
    },
    {
     "name": "stdout",
     "output_type": "stream",
     "text": [
      "Error during HTTP request: 404 Client Error: Not Found for url: https://www.eversports.de/s/polefitness-premium\n",
      "Converting to DataFrame...\n",
      "Validating URLs...\n",
      "Processing completed.\n",
      "Starting URL reconstruction...\n"
     ]
    },
    {
     "name": "stderr",
     "output_type": "stream",
     "text": [
      "Processing URLs:  84%|████████▍ | 340/403 [25:43<02:45,  2.63s/it, Current URL: https://www.eversports.de/s/crazy-up-%26-pole]  "
     ]
    },
    {
     "name": "stdout",
     "output_type": "stream",
     "text": [
      "Error during HTTP request: 404 Client Error: Not Found for url: https://www.eversports.de/s/crazy-up-%26-pole\n",
      "Converting to DataFrame...\n",
      "Validating URLs...\n",
      "Processing completed.\n",
      "Starting URL reconstruction...\n"
     ]
    },
    {
     "name": "stderr",
     "output_type": "stream",
     "text": [
      "Processing URLs:  85%|████████▍ | 341/403 [25:44<02:13,  2.16s/it, Current URL: https://www.eversports.de/s/polesports-studio-bremen]"
     ]
    },
    {
     "name": "stdout",
     "output_type": "stream",
     "text": [
      "Error during HTTP request: 404 Client Error: Not Found for url: https://www.eversports.de/s/polesports-studio-bremen\n",
      "Converting to DataFrame...\n",
      "Validating URLs...\n",
      "Processing completed.\n",
      "Starting URL reconstruction...\n"
     ]
    },
    {
     "name": "stderr",
     "output_type": "stream",
     "text": [
      "Processing URLs:  85%|████████▍ | 342/403 [25:45<01:50,  1.81s/it, Current URL: https://www.eversports.de/s/rock'n'pole-regensburg]  "
     ]
    },
    {
     "name": "stdout",
     "output_type": "stream",
     "text": [
      "Error during HTTP request: 404 Client Error: Not Found for url: https://www.eversports.de/s/rock'n'pole-regensburg\n",
      "Converting to DataFrame...\n",
      "Validating URLs...\n",
      "Processing completed.\n",
      "Starting URL reconstruction...\n"
     ]
    },
    {
     "name": "stderr",
     "output_type": "stream",
     "text": [
      "Processing URLs:  85%|████████▌ | 343/403 [25:47<01:54,  1.91s/it, Current URL: https://www.eversports.de/s/poledance-leipzig]     "
     ]
    },
    {
     "name": "stdout",
     "output_type": "stream",
     "text": [
      "Error during HTTP request: 404 Client Error: Not Found for url: https://www.eversports.de/s/poledance-leipzig\n",
      "Converting to DataFrame...\n",
      "Validating URLs...\n",
      "Processing completed.\n",
      "Starting URL reconstruction...\n"
     ]
    },
    {
     "name": "stderr",
     "output_type": "stream",
     "text": [
      "2024-02-03 11:55:45,526 - INFO - Processing URL 1/1: https://www.eversports.de/s/the-basement-pole-dance-and-movement\n"
     ]
    },
    {
     "name": "stdout",
     "output_type": "stream",
     "text": [
      "Converting to DataFrame...\n",
      "Validating URLs...\n"
     ]
    },
    {
     "name": "stderr",
     "output_type": "stream",
     "text": [
      "2024-02-03 11:55:46,762 - INFO - URL https://www.eversports.de/s/the-basement-pole-dance-and-movement is valid.\n"
     ]
    },
    {
     "name": "stdout",
     "output_type": "stream",
     "text": [
      "Scraping Pole Studio Data from https://www.eversports.de/s/the-basement-pole-dance-and-movement...\n"
     ]
    },
    {
     "name": "stderr",
     "output_type": "stream",
     "text": [
      "Processing URLs:  85%|████████▌ | 344/403 [25:50<02:08,  2.18s/it, Current URL: https://www.eversports.de/s/the-basement-pole-dance-and-movement]"
     ]
    },
    {
     "name": "stdout",
     "output_type": "stream",
     "text": [
      "Processing completed.\n",
      "Pole Studio Data: 1 entries\n",
      "Starting URL reconstruction...\n"
     ]
    },
    {
     "name": "stderr",
     "output_type": "stream",
     "text": [
      "Processing URLs:  86%|████████▌ | 345/403 [25:51<01:47,  1.86s/it, Current URL: https://www.eversports.de/s/das-tanz-center]                     "
     ]
    },
    {
     "name": "stdout",
     "output_type": "stream",
     "text": [
      "Error during HTTP request: 404 Client Error: Not Found for url: https://www.eversports.de/s/das-tanz-center\n",
      "Converting to DataFrame...\n",
      "Validating URLs...\n",
      "Processing completed.\n",
      "Starting URL reconstruction...\n"
     ]
    },
    {
     "name": "stderr",
     "output_type": "stream",
     "text": [
      "2024-02-03 11:55:49,415 - INFO - Processing URL 1/4: https://www.eversports.de/s/pole-plus\n"
     ]
    },
    {
     "name": "stdout",
     "output_type": "stream",
     "text": [
      "Converting to DataFrame...\n",
      "Validating URLs...\n"
     ]
    },
    {
     "name": "stderr",
     "output_type": "stream",
     "text": [
      "2024-02-03 11:55:50,580 - INFO - URL https://www.eversports.de/s/pole-plus is valid.\n",
      "2024-02-03 11:55:50,581 - INFO - Processing URL 2/4: https://www.eversports.de/sw/pole-plus\n",
      "2024-02-03 11:55:51,695 - INFO - URL https://www.eversports.de/sw/pole-plus is valid.\n",
      "2024-02-03 11:55:51,696 - INFO - Processing URL 3/4: https://www.eversports.de/sp/pole-plus\n",
      "2024-02-03 11:55:52,786 - INFO - URL https://www.eversports.de/sp/pole-plus is valid.\n",
      "2024-02-03 11:55:52,787 - INFO - Processing URL 4/4: https://www.eversports.de/s/pole-plus/team\n",
      "2024-02-03 11:55:53,873 - INFO - URL https://www.eversports.de/s/pole-plus/team is valid.\n"
     ]
    },
    {
     "name": "stdout",
     "output_type": "stream",
     "text": [
      "Scraping Pole Studio Data from https://www.eversports.de/s/pole-plus...\n",
      "Scraping Workshops Data from https://www.eversports.de/sw/pole-plus...\n",
      "Scraping Workshop Details from https://www.eversports.de/e/workshop/upSDQIA...\n",
      "Scraping Workshop Details from https://www.eversports.de/e/workshop/lBLI7xf...\n"
     ]
    },
    {
     "name": "stderr",
     "output_type": "stream",
     "text": [
      "Processing URLs:  86%|████████▌ | 346/403 [26:01<04:07,  4.34s/it, Current URL: https://www.eversports.de/s/pole-plus]      "
     ]
    },
    {
     "name": "stdout",
     "output_type": "stream",
     "text": [
      "Processing completed.\n",
      "Pole Studio Data: 1 entries\n",
      "Workshops Data: 2 entries\n",
      "Workshop Details: 2 entries\n",
      "Starting URL reconstruction...\n"
     ]
    },
    {
     "name": "stderr",
     "output_type": "stream",
     "text": [
      "2024-02-03 11:56:00,193 - INFO - Processing URL 1/3: https://www.eversports.de/s/stadtgazellen-studio\n"
     ]
    },
    {
     "name": "stdout",
     "output_type": "stream",
     "text": [
      "Error reconstructing URL for 'Kurse': Unrecognized text: 'Kurse'\n",
      "Converting to DataFrame...\n",
      "Validating URLs...\n"
     ]
    },
    {
     "name": "stderr",
     "output_type": "stream",
     "text": [
      "2024-02-03 11:56:01,871 - INFO - URL https://www.eversports.de/s/stadtgazellen-studio is valid.\n",
      "2024-02-03 11:56:01,873 - INFO - Processing URL 2/3: https://www.eversports.de/sp/stadtgazellen-studio\n",
      "2024-02-03 11:56:03,055 - INFO - URL https://www.eversports.de/sp/stadtgazellen-studio is valid.\n",
      "2024-02-03 11:56:03,056 - INFO - Processing URL 3/3: https://www.eversports.de/s/stadtgazellen-studio/team\n",
      "2024-02-03 11:56:04,816 - INFO - URL https://www.eversports.de/s/stadtgazellen-studio/team is valid.\n"
     ]
    },
    {
     "name": "stdout",
     "output_type": "stream",
     "text": [
      "Scraping Pole Studio Data from https://www.eversports.de/s/stadtgazellen-studio...\n"
     ]
    },
    {
     "name": "stderr",
     "output_type": "stream",
     "text": [
      "Processing URLs:  86%|████████▌ | 347/403 [26:08<04:47,  5.13s/it, Current URL: https://www.eversports.de/s/stadtgazellen-studio]"
     ]
    },
    {
     "name": "stdout",
     "output_type": "stream",
     "text": [
      "Processing completed.\n",
      "Pole Studio Data: 1 entries\n",
      "Starting URL reconstruction...\n"
     ]
    },
    {
     "name": "stderr",
     "output_type": "stream",
     "text": [
      "Processing URLs:  86%|████████▋ | 348/403 [26:11<04:01,  4.39s/it, Current URL: https://www.eversports.de/s/moving-art-studios]  "
     ]
    },
    {
     "name": "stdout",
     "output_type": "stream",
     "text": [
      "Error during HTTP request: 404 Client Error: Not Found for url: https://www.eversports.de/s/moving-art-studios\n",
      "Converting to DataFrame...\n",
      "Validating URLs...\n",
      "Processing completed.\n",
      "Starting URL reconstruction...\n"
     ]
    },
    {
     "name": "stderr",
     "output_type": "stream",
     "text": [
      "2024-02-03 11:56:09,113 - INFO - Processing URL 1/1: https://www.eversports.de/s/polefriends-magdeburg\n"
     ]
    },
    {
     "name": "stdout",
     "output_type": "stream",
     "text": [
      "Converting to DataFrame...\n",
      "Validating URLs...\n"
     ]
    },
    {
     "name": "stderr",
     "output_type": "stream",
     "text": [
      "2024-02-03 11:56:10,262 - INFO - URL https://www.eversports.de/s/polefriends-magdeburg is valid.\n"
     ]
    },
    {
     "name": "stdout",
     "output_type": "stream",
     "text": [
      "Scraping Pole Studio Data from https://www.eversports.de/s/polefriends-magdeburg...\n"
     ]
    },
    {
     "name": "stderr",
     "output_type": "stream",
     "text": [
      "Processing URLs:  87%|████████▋ | 349/403 [26:14<03:31,  3.93s/it, Current URL: https://www.eversports.de/s/polefriends-magdeburg]"
     ]
    },
    {
     "name": "stdout",
     "output_type": "stream",
     "text": [
      "Processing completed.\n",
      "Pole Studio Data: 1 entries\n",
      "Starting URL reconstruction...\n"
     ]
    },
    {
     "name": "stderr",
     "output_type": "stream",
     "text": [
      "Processing URLs:  87%|████████▋ | 350/403 [26:16<02:57,  3.34s/it, Current URL: https://www.eversports.de/s/home-of-pole]         "
     ]
    },
    {
     "name": "stdout",
     "output_type": "stream",
     "text": [
      "Error during HTTP request: 404 Client Error: Not Found for url: https://www.eversports.de/s/home-of-pole\n",
      "Converting to DataFrame...\n",
      "Validating URLs...\n",
      "Processing completed.\n",
      "Starting URL reconstruction...\n"
     ]
    },
    {
     "name": "stderr",
     "output_type": "stream",
     "text": [
      "2024-02-03 11:56:14,426 - INFO - Processing URL 1/4: https://www.eversports.de/s/schoenheitstanz-studio\n"
     ]
    },
    {
     "name": "stdout",
     "output_type": "stream",
     "text": [
      "Error reconstructing URL for 'Events': Unrecognized text: 'Events'\n",
      "Converting to DataFrame...\n",
      "Validating URLs...\n"
     ]
    },
    {
     "name": "stderr",
     "output_type": "stream",
     "text": [
      "2024-02-03 11:56:15,808 - INFO - URL https://www.eversports.de/s/schoenheitstanz-studio is valid.\n",
      "2024-02-03 11:56:15,809 - INFO - Processing URL 2/4: https://www.eversports.de/sw/schoenheitstanz-studio\n",
      "2024-02-03 11:56:18,544 - INFO - URL https://www.eversports.de/sw/schoenheitstanz-studio is valid.\n",
      "2024-02-03 11:56:18,545 - INFO - Processing URL 3/4: https://www.eversports.de/sp/schoenheitstanz-studio\n",
      "2024-02-03 11:56:19,706 - INFO - URL https://www.eversports.de/sp/schoenheitstanz-studio is valid.\n",
      "2024-02-03 11:56:19,707 - INFO - Processing URL 4/4: https://www.eversports.de/s/schoenheitstanz-studio/team\n",
      "2024-02-03 11:56:21,107 - INFO - URL https://www.eversports.de/s/schoenheitstanz-studio/team is valid.\n"
     ]
    },
    {
     "name": "stdout",
     "output_type": "stream",
     "text": [
      "Scraping Pole Studio Data from https://www.eversports.de/s/schoenheitstanz-studio...\n",
      "Scraping Workshops Data from https://www.eversports.de/sw/schoenheitstanz-studio...\n",
      "Scraping Workshop Details from https://www.eversports.de/e/workshop/U7zlEnt...\n",
      "Scraping Workshop Details from https://www.eversports.de/e/workshop/FWAxvoS...\n",
      "Scraping Workshop Details from https://www.eversports.de/e/workshop/grkxBH6...\n",
      "Scraping Workshop Details from https://www.eversports.de/e/workshop/YHVJqpe...\n",
      "Scraping Workshop Details from https://www.eversports.de/e/workshop/7TGSxs7...\n",
      "Scraping Workshop Details from https://www.eversports.de/e/workshop/PJH8px9...\n",
      "Scraping Workshop Details from https://www.eversports.de/e/workshop/TIB5eun...\n",
      "Scraping Workshop Details from https://www.eversports.de/e/workshop/AusEWhX...\n",
      "Scraping Workshop Details from https://www.eversports.de/e/workshop/EXI9bhu...\n",
      "Scraping Workshop Details from https://www.eversports.de/e/workshop/-fUr-r3...\n",
      "Scraping Workshop Details from https://www.eversports.de/e/workshop/8ZaKFif...\n",
      "Scraping Workshop Details from https://www.eversports.de/e/workshop/ENyQnil...\n",
      "Scraping Workshop Details from https://www.eversports.de/e/workshop/k-lte3C...\n",
      "Scraping Workshop Details from https://www.eversports.de/e/workshop/W4EOuNp...\n",
      "Scraping Workshop Details from https://www.eversports.de/e/workshop/6bAW9KR...\n",
      "Scraping Workshop Details from https://www.eversports.de/e/workshop/o_XLfIC...\n",
      "Scraping Workshop Details from https://www.eversports.de/e/workshop/npP7JVG...\n",
      "Scraping Workshop Details from https://www.eversports.de/e/workshop/5sKuQHR...\n",
      "Scraping Workshop Details from https://www.eversports.de/e/workshop/nY-OhUe...\n",
      "Scraping Workshop Details from https://www.eversports.de/e/workshop/e0T0khi...\n",
      "Scraping Workshop Details from https://www.eversports.de/e/workshop/LD103vJ...\n",
      "Scraping Workshop Details from https://www.eversports.de/e/workshop/xCayZIW...\n",
      "Scraping Workshop Details from https://www.eversports.de/e/workshop/nM6r0Ic...\n",
      "Scraping Workshop Details from https://www.eversports.de/e/workshop/hQ8U2tE...\n",
      "Scraping Workshop Details from https://www.eversports.de/e/workshop/CVUleH8...\n",
      "Scraping Workshop Details from https://www.eversports.de/e/workshop/ZqXA7Y8...\n",
      "Scraping Workshop Details from https://www.eversports.de/e/workshop/hgCxZm6...\n",
      "Scraping Workshop Details from https://www.eversports.de/e/workshop/VU5c6C_...\n",
      "Scraping Workshop Details from https://www.eversports.de/e/workshop/inR_xoX...\n",
      "Scraping Workshop Details from https://www.eversports.de/e/workshop/3CN7roB...\n",
      "Scraping Workshop Details from https://www.eversports.de/e/workshop/hONC_aO...\n",
      "Scraping Workshop Details from https://www.eversports.de/e/workshop/A5lJjTH...\n",
      "Scraping Workshop Details from https://www.eversports.de/e/workshop/ygw2_TL...\n",
      "Scraping Workshop Details from https://www.eversports.de/e/workshop/6p_z1vi...\n",
      "Scraping Workshop Details from https://www.eversports.de/e/workshop/hYh8ik3...\n",
      "Scraping Workshop Details from https://www.eversports.de/e/workshop/Tqtzdzb...\n",
      "Scraping Workshop Details from https://www.eversports.de/e/workshop/EBZuEA1...\n",
      "Scraping Workshop Details from https://www.eversports.de/e/workshop/bkSlugn...\n",
      "Scraping Workshop Details from https://www.eversports.de/e/workshop/Nv15_mw...\n",
      "Scraping Workshop Details from https://www.eversports.de/e/workshop/SLy-s_i...\n",
      "Scraping Workshop Details from https://www.eversports.de/e/workshop/I09unU9...\n",
      "Scraping Workshop Details from https://www.eversports.de/e/workshop/dcD4Lin...\n",
      "Scraping Workshop Details from https://www.eversports.de/e/workshop/kYpFiaE...\n",
      "Scraping Workshop Details from https://www.eversports.de/e/workshop/1GkBeDT...\n",
      "Scraping Workshop Details from https://www.eversports.de/e/workshop/wTDOHkH...\n",
      "Scraping Workshop Details from https://www.eversports.de/e/workshop/uHk1KUg...\n",
      "Scraping Workshop Details from https://www.eversports.de/e/workshop/hW3O71v...\n",
      "Scraping Workshop Details from https://www.eversports.de/e/workshop/J_WWezC...\n",
      "Scraping Workshop Details from https://www.eversports.de/e/workshop/54itEaz...\n",
      "Scraping Workshop Details from https://www.eversports.de/e/workshop/EDBeHyX...\n",
      "Scraping Workshop Details from https://www.eversports.de/e/workshop/z4rC1sa...\n",
      "Scraping Workshop Details from https://www.eversports.de/e/workshop/rvq2QWJ...\n",
      "Scraping Workshop Details from https://www.eversports.de/e/workshop/_kWyZFK...\n",
      "Scraping Workshop Details from https://www.eversports.de/e/workshop/AN_9D9F...\n",
      "Scraping Workshop Details from https://www.eversports.de/e/workshop/QPoxv4i...\n",
      "Scraping Workshop Details from https://www.eversports.de/e/workshop/3yk1t8C...\n",
      "Scraping Workshop Details from https://www.eversports.de/e/workshop/kVDtH76...\n",
      "Scraping Workshop Details from https://www.eversports.de/e/workshop/4egslRX...\n",
      "Scraping Workshop Details from https://www.eversports.de/e/workshop/UYgHVwy...\n",
      "Scraping Workshop Details from https://www.eversports.de/e/workshop/YpJqTDS...\n",
      "Scraping Workshop Details from https://www.eversports.de/e/workshop/82dGR1f...\n",
      "Scraping Workshop Details from https://www.eversports.de/e/workshop/7uJPxgC...\n",
      "Scraping Workshop Details from https://www.eversports.de/e/workshop/pDjMaOI...\n",
      "Scraping Workshop Details from https://www.eversports.de/e/workshop/xUJF8zC...\n",
      "Scraping Workshop Details from https://www.eversports.de/e/workshop/oCv_Dwa...\n",
      "Scraping Workshop Details from https://www.eversports.de/e/workshop/ot643qA...\n",
      "Scraping Workshop Details from https://www.eversports.de/e/workshop/drIG2eI...\n",
      "Scraping Workshop Details from https://www.eversports.de/e/workshop/iuE5Wsa...\n",
      "Scraping Workshop Details from https://www.eversports.de/e/workshop/nT2TC19...\n",
      "Scraping Workshop Details from https://www.eversports.de/e/workshop/n6KRMjB...\n",
      "Scraping Workshop Details from https://www.eversports.de/e/workshop/qNpxqi5...\n",
      "Scraping Workshop Details from https://www.eversports.de/e/workshop/i2UXxMl...\n",
      "Scraping Workshop Details from https://www.eversports.de/e/workshop/GaGNoGx...\n",
      "Scraping Workshop Details from https://www.eversports.de/e/workshop/gOdtqrR...\n"
     ]
    },
    {
     "name": "stderr",
     "output_type": "stream",
     "text": [
      "Processing URLs:  87%|████████▋ | 351/403 [28:18<33:52, 39.08s/it, Current URL: https://www.eversports.de/s/schoenheitstanz-studio]"
     ]
    },
    {
     "name": "stdout",
     "output_type": "stream",
     "text": [
      "Processing completed.\n",
      "Pole Studio Data: 1 entries\n",
      "Workshops Data: 74 entries\n",
      "Workshop Details: 74 entries\n",
      "Starting URL reconstruction...\n"
     ]
    },
    {
     "name": "stderr",
     "output_type": "stream",
     "text": [
      "Processing URLs:  87%|████████▋ | 352/403 [28:21<24:04, 28.32s/it, Current URL: https://www.eversports.de/s/vi-dance-m%c3%bcnster] "
     ]
    },
    {
     "name": "stdout",
     "output_type": "stream",
     "text": [
      "Error during HTTP request: Exceeded 30 redirects.\n",
      "Converting to DataFrame...\n",
      "Validating URLs...\n",
      "Processing completed.\n",
      "Starting URL reconstruction...\n"
     ]
    },
    {
     "name": "stderr",
     "output_type": "stream",
     "text": [
      "2024-02-03 11:58:19,869 - INFO - Processing URL 1/4: https://www.eversports.de/s/pure-motion-kiel\n"
     ]
    },
    {
     "name": "stdout",
     "output_type": "stream",
     "text": [
      "Error reconstructing URL for 'Kurse': Unrecognized text: 'Kurse'\n",
      "Converting to DataFrame...\n",
      "Validating URLs...\n"
     ]
    },
    {
     "name": "stderr",
     "output_type": "stream",
     "text": [
      "2024-02-03 11:58:21,206 - INFO - URL https://www.eversports.de/s/pure-motion-kiel is valid.\n",
      "2024-02-03 11:58:21,207 - INFO - Processing URL 2/4: https://www.eversports.de/sw/pure-motion-kiel\n",
      "2024-02-03 11:58:22,337 - INFO - URL https://www.eversports.de/sw/pure-motion-kiel is valid.\n",
      "2024-02-03 11:58:22,338 - INFO - Processing URL 3/4: https://www.eversports.de/sp/pure-motion-kiel\n",
      "2024-02-03 11:58:23,445 - INFO - URL https://www.eversports.de/sp/pure-motion-kiel is valid.\n",
      "2024-02-03 11:58:23,446 - INFO - Processing URL 4/4: https://www.eversports.de/s/pure-motion-kiel/team\n",
      "2024-02-03 11:58:24,653 - INFO - URL https://www.eversports.de/s/pure-motion-kiel/team is valid.\n"
     ]
    },
    {
     "name": "stdout",
     "output_type": "stream",
     "text": [
      "Scraping Pole Studio Data from https://www.eversports.de/s/pure-motion-kiel...\n",
      "Scraping Workshops Data from https://www.eversports.de/sw/pure-motion-kiel...\n",
      "Scraping Workshop Details from https://www.eversports.de/e/workshop/Z1qnkVh...\n"
     ]
    },
    {
     "name": "stderr",
     "output_type": "stream",
     "text": [
      "Processing URLs:  88%|████████▊ | 353/403 [28:31<18:51, 22.64s/it, Current URL: https://www.eversports.de/s/pure-motion-kiel]     "
     ]
    },
    {
     "name": "stdout",
     "output_type": "stream",
     "text": [
      "Processing completed.\n",
      "Pole Studio Data: 1 entries\n",
      "Workshops Data: 1 entries\n",
      "Workshop Details: 1 entries\n",
      "Starting URL reconstruction...\n"
     ]
    },
    {
     "name": "stderr",
     "output_type": "stream",
     "text": [
      "Processing URLs:  88%|████████▊ | 354/403 [28:32<13:12, 16.17s/it, Current URL: https://www.eversports.de/s/polelove-bremen] "
     ]
    },
    {
     "name": "stdout",
     "output_type": "stream",
     "text": [
      "Error during HTTP request: 404 Client Error: Not Found for url: https://www.eversports.de/s/polelove-bremen\n",
      "Converting to DataFrame...\n",
      "Validating URLs...\n",
      "Processing completed.\n",
      "Starting URL reconstruction...\n"
     ]
    },
    {
     "name": "stderr",
     "output_type": "stream",
     "text": [
      "Processing URLs:  88%|████████▊ | 355/403 [28:33<09:17, 11.62s/it, Current URL: https://www.eversports.de/s/polerina's-poledance]"
     ]
    },
    {
     "name": "stdout",
     "output_type": "stream",
     "text": [
      "Error during HTTP request: 404 Client Error: Not Found for url: https://www.eversports.de/s/polerina's-poledance\n",
      "Converting to DataFrame...\n",
      "Validating URLs...\n",
      "Processing completed.\n",
      "Starting URL reconstruction...\n"
     ]
    },
    {
     "name": "stderr",
     "output_type": "stream",
     "text": [
      "Processing URLs:  88%|████████▊ | 356/403 [28:34<06:41,  8.55s/it, Current URL: https://www.eversports.de/s/open-aerial-dance-wiesbaden]"
     ]
    },
    {
     "name": "stdout",
     "output_type": "stream",
     "text": [
      "Error during HTTP request: 404 Client Error: Not Found for url: https://www.eversports.de/s/open-aerial-dance-wiesbaden\n",
      "Converting to DataFrame...\n",
      "Validating URLs...\n",
      "Processing completed.\n",
      "Starting URL reconstruction...\n"
     ]
    },
    {
     "name": "stderr",
     "output_type": "stream",
     "text": [
      "2024-02-03 11:58:32,602 - INFO - Processing URL 1/1: https://www.eversports.de/s/polesition-regensburg\n"
     ]
    },
    {
     "name": "stdout",
     "output_type": "stream",
     "text": [
      "Converting to DataFrame...\n",
      "Validating URLs...\n"
     ]
    },
    {
     "name": "stderr",
     "output_type": "stream",
     "text": [
      "2024-02-03 11:58:33,851 - INFO - URL https://www.eversports.de/s/polesition-regensburg is valid.\n"
     ]
    },
    {
     "name": "stdout",
     "output_type": "stream",
     "text": [
      "Scraping Pole Studio Data from https://www.eversports.de/s/polesition-regensburg...\n"
     ]
    },
    {
     "name": "stderr",
     "output_type": "stream",
     "text": [
      "Processing URLs:  89%|████████▊ | 357/403 [28:37<05:16,  6.88s/it, Current URL: https://www.eversports.de/s/polesition-regensburg]      "
     ]
    },
    {
     "name": "stdout",
     "output_type": "stream",
     "text": [
      "Processing completed.\n",
      "Pole Studio Data: 1 entries\n",
      "Starting URL reconstruction...\n"
     ]
    },
    {
     "name": "stderr",
     "output_type": "stream",
     "text": [
      "Processing URLs:  89%|████████▉ | 358/403 [28:38<03:51,  5.14s/it, Current URL: https://www.eversports.de/s/luftfabrik-dresden]   "
     ]
    },
    {
     "name": "stdout",
     "output_type": "stream",
     "text": [
      "Error during HTTP request: 404 Client Error: Not Found for url: https://www.eversports.de/s/luftfabrik-dresden\n",
      "Converting to DataFrame...\n",
      "Validating URLs...\n",
      "Processing completed.\n",
      "Starting URL reconstruction...\n"
     ]
    },
    {
     "name": "stderr",
     "output_type": "stream",
     "text": [
      "2024-02-03 11:58:36,684 - INFO - Processing URL 1/3: https://www.eversports.de/s/pole-arts\n"
     ]
    },
    {
     "name": "stdout",
     "output_type": "stream",
     "text": [
      "Error reconstructing URL for 'Kurse': Unrecognized text: 'Kurse'\n",
      "Converting to DataFrame...\n",
      "Validating URLs...\n"
     ]
    },
    {
     "name": "stderr",
     "output_type": "stream",
     "text": [
      "2024-02-03 11:58:38,425 - INFO - URL https://www.eversports.de/s/pole-arts is valid.\n",
      "2024-02-03 11:58:38,426 - INFO - Processing URL 2/3: https://www.eversports.de/sp/pole-arts\n",
      "2024-02-03 11:58:39,768 - INFO - URL https://www.eversports.de/sp/pole-arts is valid.\n",
      "2024-02-03 11:58:39,769 - INFO - Processing URL 3/3: https://www.eversports.de/s/pole-arts/team\n",
      "2024-02-03 11:58:40,879 - INFO - URL https://www.eversports.de/s/pole-arts/team is valid.\n"
     ]
    },
    {
     "name": "stdout",
     "output_type": "stream",
     "text": [
      "Scraping Pole Studio Data from https://www.eversports.de/s/pole-arts...\n"
     ]
    },
    {
     "name": "stderr",
     "output_type": "stream",
     "text": [
      "Processing URLs:  89%|████████▉ | 359/403 [28:45<04:01,  5.49s/it, Current URL: https://www.eversports.de/s/pole-arts]         "
     ]
    },
    {
     "name": "stdout",
     "output_type": "stream",
     "text": [
      "Processing completed.\n",
      "Pole Studio Data: 1 entries\n",
      "Starting URL reconstruction...\n"
     ]
    },
    {
     "name": "stderr",
     "output_type": "stream",
     "text": [
      "2024-02-03 11:58:43,343 - INFO - Processing URL 1/4: https://www.eversports.de/s/soultide\n"
     ]
    },
    {
     "name": "stdout",
     "output_type": "stream",
     "text": [
      "Error reconstructing URL for 'Retreats': Unrecognized text: 'Retreats'\n",
      "Converting to DataFrame...\n",
      "Validating URLs...\n"
     ]
    },
    {
     "name": "stderr",
     "output_type": "stream",
     "text": [
      "2024-02-03 11:58:45,015 - INFO - URL https://www.eversports.de/s/soultide is valid.\n",
      "2024-02-03 11:58:45,016 - INFO - Processing URL 2/4: https://www.eversports.de/sw/soultide\n",
      "2024-02-03 11:58:46,738 - INFO - URL https://www.eversports.de/sw/soultide is valid.\n",
      "2024-02-03 11:58:46,739 - INFO - Processing URL 3/4: https://www.eversports.de/sp/soultide\n",
      "2024-02-03 11:58:47,895 - INFO - URL https://www.eversports.de/sp/soultide is valid.\n",
      "2024-02-03 11:58:47,896 - INFO - Processing URL 4/4: https://www.eversports.de/s/soultide/team\n",
      "2024-02-03 11:58:49,096 - INFO - URL https://www.eversports.de/s/soultide/team is valid.\n"
     ]
    },
    {
     "name": "stdout",
     "output_type": "stream",
     "text": [
      "Scraping Pole Studio Data from https://www.eversports.de/s/soultide...\n",
      "Scraping Workshops Data from https://www.eversports.de/sw/soultide...\n",
      "Scraping Workshop Details from https://www.eversports.de/e/workshop/Q5aPZDK...\n",
      "Scraping Workshop Details from https://www.eversports.de/e/workshop/U2ElOtm...\n",
      "Scraping Workshop Details from https://www.eversports.de/e/workshop/npdGKjQ...\n"
     ]
    },
    {
     "name": "stderr",
     "output_type": "stream",
     "text": [
      "Processing URLs:  89%|████████▉ | 360/403 [28:57<05:29,  7.66s/it, Current URL: https://www.eversports.de/s/soultide] "
     ]
    },
    {
     "name": "stdout",
     "output_type": "stream",
     "text": [
      "Processing completed.\n",
      "Pole Studio Data: 1 entries\n",
      "Workshops Data: 3 entries\n",
      "Workshop Details: 3 entries\n",
      "Starting URL reconstruction...\n"
     ]
    },
    {
     "name": "stderr",
     "output_type": "stream",
     "text": [
      "Processing URLs:  90%|████████▉ | 361/403 [29:01<04:32,  6.50s/it, Current URL: https://www.eversports.de/s/körpernah]"
     ]
    },
    {
     "name": "stdout",
     "output_type": "stream",
     "text": [
      "Error during HTTP request: Exceeded 30 redirects.\n",
      "Converting to DataFrame...\n",
      "Validating URLs...\n",
      "Processing completed.\n",
      "Starting URL reconstruction...\n"
     ]
    },
    {
     "name": "stderr",
     "output_type": "stream",
     "text": [
      "2024-02-03 11:58:59,477 - INFO - Processing URL 1/3: https://www.eversports.de/s/one8dance-studio\n"
     ]
    },
    {
     "name": "stdout",
     "output_type": "stream",
     "text": [
      "Error reconstructing URL for 'Kurse': Unrecognized text: 'Kurse'\n",
      "Converting to DataFrame...\n",
      "Validating URLs...\n"
     ]
    },
    {
     "name": "stderr",
     "output_type": "stream",
     "text": [
      "2024-02-03 11:59:00,708 - INFO - URL https://www.eversports.de/s/one8dance-studio is valid.\n",
      "2024-02-03 11:59:00,709 - INFO - Processing URL 2/3: https://www.eversports.de/sp/one8dance-studio\n",
      "2024-02-03 11:59:01,756 - INFO - URL https://www.eversports.de/sp/one8dance-studio is valid.\n",
      "2024-02-03 11:59:01,757 - INFO - Processing URL 3/3: https://www.eversports.de/s/one8dance-studio/team\n",
      "2024-02-03 11:59:02,869 - INFO - URL https://www.eversports.de/s/one8dance-studio/team is valid.\n"
     ]
    },
    {
     "name": "stdout",
     "output_type": "stream",
     "text": [
      "Scraping Pole Studio Data from https://www.eversports.de/s/one8dance-studio...\n"
     ]
    },
    {
     "name": "stderr",
     "output_type": "stream",
     "text": [
      "Processing URLs:  90%|████████▉ | 362/403 [29:06<04:07,  6.04s/it, Current URL: https://www.eversports.de/s/one8dance-studio]"
     ]
    },
    {
     "name": "stdout",
     "output_type": "stream",
     "text": [
      "Processing completed.\n",
      "Pole Studio Data: 1 entries\n",
      "Starting URL reconstruction...\n"
     ]
    },
    {
     "name": "stderr",
     "output_type": "stream",
     "text": [
      "Processing URLs:  90%|█████████ | 363/403 [29:07<03:02,  4.56s/it, Current URL: https://www.eversports.de/s/pole-fit-plauen] "
     ]
    },
    {
     "name": "stdout",
     "output_type": "stream",
     "text": [
      "Error during HTTP request: 404 Client Error: Not Found for url: https://www.eversports.de/s/pole-fit-plauen\n",
      "Converting to DataFrame...\n",
      "Validating URLs...\n",
      "Processing completed.\n",
      "Starting URL reconstruction...\n"
     ]
    },
    {
     "name": "stderr",
     "output_type": "stream",
     "text": [
      "Processing URLs:  90%|█████████ | 364/403 [29:08<02:16,  3.51s/it, Current URL: https://www.eversports.de/s/saltosandra]    "
     ]
    },
    {
     "name": "stdout",
     "output_type": "stream",
     "text": [
      "Error during HTTP request: 404 Client Error: Not Found for url: https://www.eversports.de/s/saltosandra\n",
      "Converting to DataFrame...\n",
      "Validating URLs...\n",
      "Processing completed.\n",
      "Starting URL reconstruction...\n"
     ]
    },
    {
     "name": "stderr",
     "output_type": "stream",
     "text": [
      "Processing URLs:  91%|█████████ | 365/403 [29:09<01:45,  2.77s/it, Current URL: https://www.eversports.de/s/verticalarts-pole-&-aerial-fitness]"
     ]
    },
    {
     "name": "stdout",
     "output_type": "stream",
     "text": [
      "Error during HTTP request: 404 Client Error: Not Found for url: https://www.eversports.de/s/verticalarts-pole-&-aerial-fitness\n",
      "Converting to DataFrame...\n",
      "Validating URLs...\n",
      "Processing completed.\n",
      "Starting URL reconstruction...\n"
     ]
    },
    {
     "name": "stderr",
     "output_type": "stream",
     "text": [
      "2024-02-03 11:59:08,307 - INFO - Processing URL 1/4: https://www.eversports.de/s/balance-neumarkt\n"
     ]
    },
    {
     "name": "stdout",
     "output_type": "stream",
     "text": [
      "Error reconstructing URL for 'Kurse': Unrecognized text: 'Kurse'\n",
      "Converting to DataFrame...\n",
      "Validating URLs...\n"
     ]
    },
    {
     "name": "stderr",
     "output_type": "stream",
     "text": [
      "2024-02-03 11:59:09,732 - INFO - URL https://www.eversports.de/s/balance-neumarkt is valid.\n",
      "2024-02-03 11:59:09,733 - INFO - Processing URL 2/4: https://www.eversports.de/sw/balance-neumarkt\n",
      "2024-02-03 11:59:11,192 - INFO - URL https://www.eversports.de/sw/balance-neumarkt is valid.\n",
      "2024-02-03 11:59:11,192 - INFO - Processing URL 3/4: https://www.eversports.de/sp/balance-neumarkt\n",
      "2024-02-03 11:59:12,288 - INFO - URL https://www.eversports.de/sp/balance-neumarkt is valid.\n",
      "2024-02-03 11:59:12,288 - INFO - Processing URL 4/4: https://www.eversports.de/s/balance-neumarkt/team\n",
      "2024-02-03 11:59:13,456 - INFO - URL https://www.eversports.de/s/balance-neumarkt/team is valid.\n"
     ]
    },
    {
     "name": "stdout",
     "output_type": "stream",
     "text": [
      "Scraping Pole Studio Data from https://www.eversports.de/s/balance-neumarkt...\n",
      "Scraping Workshops Data from https://www.eversports.de/sw/balance-neumarkt...\n",
      "Scraping Workshop Details from https://www.eversports.de/e/workshop/9j7N418...\n",
      "Scraping Workshop Details from https://www.eversports.de/e/workshop/OWKdsKA...\n",
      "Scraping Workshop Details from https://www.eversports.de/e/workshop/qtwNW3p...\n",
      "Scraping Workshop Details from https://www.eversports.de/e/workshop/-lRCjR7...\n",
      "Scraping Workshop Details from https://www.eversports.de/e/workshop/DmdrEre...\n",
      "Scraping Workshop Details from https://www.eversports.de/e/workshop/vnjpjso...\n",
      "Scraping Workshop Details from https://www.eversports.de/e/workshop/s-CvYfY...\n",
      "Scraping Workshop Details from https://www.eversports.de/e/workshop/lIzIIH9...\n",
      "Scraping Workshop Details from https://www.eversports.de/e/workshop/1hwRppH...\n",
      "Scraping Workshop Details from https://www.eversports.de/e/workshop/FWO9nVb...\n",
      "Scraping Workshop Details from https://www.eversports.de/e/workshop/wHwtdS-...\n",
      "Scraping Workshop Details from https://www.eversports.de/e/workshop/D7_g8hU...\n",
      "Scraping Workshop Details from https://www.eversports.de/e/workshop/yXJE2Qf...\n",
      "Scraping Workshop Details from https://www.eversports.de/e/workshop/AL0d8uV...\n",
      "Scraping Workshop Details from https://www.eversports.de/e/workshop/WpCq6MN...\n",
      "Scraping Workshop Details from https://www.eversports.de/e/workshop/uE03gmT...\n",
      "Scraping Workshop Details from https://www.eversports.de/e/workshop/Nm33K4u...\n",
      "Scraping Workshop Details from https://www.eversports.de/e/workshop/U27XEmo...\n",
      "Scraping Workshop Details from https://www.eversports.de/e/workshop/DujyYDr...\n"
     ]
    },
    {
     "name": "stderr",
     "output_type": "stream",
     "text": [
      "Processing URLs:  91%|█████████ | 366/403 [29:43<07:21, 11.93s/it, Current URL: https://www.eversports.de/s/balance-neumarkt]                  "
     ]
    },
    {
     "name": "stdout",
     "output_type": "stream",
     "text": [
      "Processing completed.\n",
      "Pole Studio Data: 1 entries\n",
      "Workshops Data: 19 entries\n",
      "Workshop Details: 19 entries\n",
      "Starting URL reconstruction...\n"
     ]
    },
    {
     "name": "stderr",
     "output_type": "stream",
     "text": [
      "2024-02-03 11:59:40,923 - INFO - Processing URL 1/3: https://www.eversports.de/s/koerperformfabrik-gbr\n"
     ]
    },
    {
     "name": "stdout",
     "output_type": "stream",
     "text": [
      "Converting to DataFrame...\n",
      "Validating URLs...\n"
     ]
    },
    {
     "name": "stderr",
     "output_type": "stream",
     "text": [
      "2024-02-03 11:59:42,141 - INFO - URL https://www.eversports.de/s/koerperformfabrik-gbr is valid.\n",
      "2024-02-03 11:59:42,141 - INFO - Processing URL 2/3: https://www.eversports.de/sp/koerperformfabrik-gbr\n",
      "2024-02-03 11:59:43,262 - INFO - URL https://www.eversports.de/sp/koerperformfabrik-gbr is valid.\n",
      "2024-02-03 11:59:43,263 - INFO - Processing URL 3/3: https://www.eversports.de/s/koerperformfabrik-gbr/team\n",
      "2024-02-03 11:59:44,361 - INFO - URL https://www.eversports.de/s/koerperformfabrik-gbr/team is valid.\n"
     ]
    },
    {
     "name": "stdout",
     "output_type": "stream",
     "text": [
      "Scraping Pole Studio Data from https://www.eversports.de/s/koerperformfabrik-gbr...\n"
     ]
    },
    {
     "name": "stderr",
     "output_type": "stream",
     "text": [
      "Processing URLs:  91%|█████████ | 367/403 [29:48<05:54,  9.84s/it, Current URL: https://www.eversports.de/s/koerperformfabrik-gbr]"
     ]
    },
    {
     "name": "stdout",
     "output_type": "stream",
     "text": [
      "Processing completed.\n",
      "Pole Studio Data: 1 entries\n",
      "Starting URL reconstruction...\n"
     ]
    },
    {
     "name": "stderr",
     "output_type": "stream",
     "text": [
      "Processing URLs:  91%|█████████▏| 368/403 [29:49<04:12,  7.21s/it, Current URL: https://www.eversports.de/s/poledance-worms]      "
     ]
    },
    {
     "name": "stdout",
     "output_type": "stream",
     "text": [
      "Error during HTTP request: 404 Client Error: Not Found for url: https://www.eversports.de/s/poledance-worms\n",
      "Converting to DataFrame...\n",
      "Validating URLs...\n",
      "Processing completed.\n",
      "Starting URL reconstruction...\n"
     ]
    },
    {
     "name": "stderr",
     "output_type": "stream",
     "text": [
      "Processing URLs:  92%|█████████▏| 369/403 [29:52<03:25,  6.05s/it, Current URL: https://www.eversports.de/s/vertical-pole-aerial-dance-w%c3%bcrzburg]"
     ]
    },
    {
     "name": "stdout",
     "output_type": "stream",
     "text": [
      "Error during HTTP request: Exceeded 30 redirects.\n",
      "Converting to DataFrame...\n",
      "Validating URLs...\n",
      "Processing completed.\n",
      "Starting URL reconstruction...\n"
     ]
    },
    {
     "name": "stderr",
     "output_type": "stream",
     "text": [
      "2024-02-03 11:59:50,215 - INFO - Processing URL 1/1: https://www.eversports.de/s/welovepoledance\n"
     ]
    },
    {
     "name": "stdout",
     "output_type": "stream",
     "text": [
      "Converting to DataFrame...\n",
      "Validating URLs...\n"
     ]
    },
    {
     "name": "stderr",
     "output_type": "stream",
     "text": [
      "2024-02-03 11:59:51,352 - INFO - URL https://www.eversports.de/s/welovepoledance is valid.\n"
     ]
    },
    {
     "name": "stdout",
     "output_type": "stream",
     "text": [
      "Scraping Pole Studio Data from https://www.eversports.de/s/welovepoledance...\n"
     ]
    },
    {
     "name": "stderr",
     "output_type": "stream",
     "text": [
      "Processing URLs:  92%|█████████▏| 370/403 [29:55<02:44,  5.00s/it, Current URL: https://www.eversports.de/s/welovepoledance]                         "
     ]
    },
    {
     "name": "stdout",
     "output_type": "stream",
     "text": [
      "Processing completed.\n",
      "Pole Studio Data: 1 entries\n",
      "Starting URL reconstruction...\n"
     ]
    },
    {
     "name": "stderr",
     "output_type": "stream",
     "text": [
      "2024-02-03 11:59:52,833 - INFO - Processing URL 1/2: https://www.eversports.de/s/annis-pole-dance-neumuenster\n"
     ]
    },
    {
     "name": "stdout",
     "output_type": "stream",
     "text": [
      "Error reconstructing URL for 'Trainings': Unrecognized text: 'Trainings'\n",
      "Error reconstructing URL for 'Kurse': Unrecognized text: 'Kurse'\n",
      "Converting to DataFrame...\n",
      "Validating URLs...\n"
     ]
    },
    {
     "name": "stderr",
     "output_type": "stream",
     "text": [
      "2024-02-03 11:59:54,031 - INFO - URL https://www.eversports.de/s/annis-pole-dance-neumuenster is valid.\n",
      "2024-02-03 11:59:54,032 - INFO - Processing URL 2/2: https://www.eversports.de/s/annis-pole-dance-neumuenster/team\n",
      "2024-02-03 11:59:55,193 - INFO - URL https://www.eversports.de/s/annis-pole-dance-neumuenster/team is valid.\n"
     ]
    },
    {
     "name": "stdout",
     "output_type": "stream",
     "text": [
      "Scraping Pole Studio Data from https://www.eversports.de/s/annis-pole-dance-neumuenster...\n"
     ]
    },
    {
     "name": "stderr",
     "output_type": "stream",
     "text": [
      "Processing URLs:  92%|█████████▏| 371/403 [29:58<02:29,  4.67s/it, Current URL: https://www.eversports.de/s/annis-pole-dance-neumuenster]"
     ]
    },
    {
     "name": "stdout",
     "output_type": "stream",
     "text": [
      "Processing completed.\n",
      "Pole Studio Data: 1 entries\n",
      "Starting URL reconstruction...\n"
     ]
    },
    {
     "name": "stderr",
     "output_type": "stream",
     "text": [
      "Processing URLs:  92%|█████████▏| 372/403 [30:00<01:51,  3.59s/it, Current URL: https://www.eversports.de/s/pole-circus-a-+-k]           "
     ]
    },
    {
     "name": "stdout",
     "output_type": "stream",
     "text": [
      "Error during HTTP request: 404 Client Error: Not Found for url: https://www.eversports.de/s/pole-circus-a-+-k\n",
      "Converting to DataFrame...\n",
      "Validating URLs...\n",
      "Processing completed.\n",
      "Starting URL reconstruction...\n"
     ]
    },
    {
     "name": "stderr",
     "output_type": "stream",
     "text": [
      "Processing URLs:  93%|█████████▎| 373/403 [30:01<01:28,  2.95s/it, Current URL: https://www.eversports.de/s/metropole-dance-now1]"
     ]
    },
    {
     "name": "stdout",
     "output_type": "stream",
     "text": [
      "Error during HTTP request: 404 Client Error: Not Found for url: https://www.eversports.de/s/metropole-dance-now1\n",
      "Converting to DataFrame...\n",
      "Validating URLs...\n",
      "Processing completed.\n",
      "Starting URL reconstruction...\n"
     ]
    },
    {
     "name": "stderr",
     "output_type": "stream",
     "text": [
      "2024-02-03 12:00:00,782 - INFO - Processing URL 1/4: https://www.eversports.de/s/aerial-loft\n"
     ]
    },
    {
     "name": "stdout",
     "output_type": "stream",
     "text": [
      "Error reconstructing URL for 'Kurse': Unrecognized text: 'Kurse'\n",
      "Error reconstructing URL for 'Events': Unrecognized text: 'Events'\n",
      "Converting to DataFrame...\n",
      "Validating URLs...\n"
     ]
    },
    {
     "name": "stderr",
     "output_type": "stream",
     "text": [
      "2024-02-03 12:00:02,297 - INFO - URL https://www.eversports.de/s/aerial-loft is valid.\n",
      "2024-02-03 12:00:02,298 - INFO - Processing URL 2/4: https://www.eversports.de/sw/aerial-loft\n",
      "2024-02-03 12:00:03,454 - INFO - URL https://www.eversports.de/sw/aerial-loft is valid.\n",
      "2024-02-03 12:00:03,455 - INFO - Processing URL 3/4: https://www.eversports.de/sp/aerial-loft\n",
      "2024-02-03 12:00:04,506 - INFO - URL https://www.eversports.de/sp/aerial-loft is valid.\n",
      "2024-02-03 12:00:04,507 - INFO - Processing URL 4/4: https://www.eversports.de/s/aerial-loft/team\n",
      "2024-02-03 12:00:05,632 - INFO - URL https://www.eversports.de/s/aerial-loft/team is valid.\n"
     ]
    },
    {
     "name": "stdout",
     "output_type": "stream",
     "text": [
      "Scraping Pole Studio Data from https://www.eversports.de/s/aerial-loft...\n",
      "Scraping Workshops Data from https://www.eversports.de/sw/aerial-loft...\n",
      "Scraping Workshop Details from https://www.eversports.de/e/workshop/tM6w_bx...\n",
      "Scraping Workshop Details from https://www.eversports.de/e/workshop/Uf4VM65...\n",
      "Scraping Workshop Details from https://www.eversports.de/e/workshop/N4v8WV0...\n",
      "Scraping Workshop Details from https://www.eversports.de/e/workshop/onN7Doj...\n",
      "Scraping Workshop Details from https://www.eversports.de/e/workshop/arPk7c0...\n",
      "Scraping Workshop Details from https://www.eversports.de/e/workshop/r3elm4w...\n"
     ]
    },
    {
     "name": "stderr",
     "output_type": "stream",
     "text": [
      "Processing URLs:  93%|█████████▎| 374/403 [30:18<03:30,  7.25s/it, Current URL: https://www.eversports.de/s/aerial-loft]         "
     ]
    },
    {
     "name": "stdout",
     "output_type": "stream",
     "text": [
      "Processing completed.\n",
      "Pole Studio Data: 1 entries\n",
      "Workshops Data: 6 entries\n",
      "Workshop Details: 6 entries\n",
      "Starting URL reconstruction...\n"
     ]
    },
    {
     "name": "stderr",
     "output_type": "stream",
     "text": [
      "2024-02-03 12:00:16,705 - INFO - Processing URL 1/4: https://www.eversports.de/s/vertical-pole-aerial-dance-1\n"
     ]
    },
    {
     "name": "stdout",
     "output_type": "stream",
     "text": [
      "Converting to DataFrame...\n",
      "Validating URLs...\n"
     ]
    },
    {
     "name": "stderr",
     "output_type": "stream",
     "text": [
      "2024-02-03 12:00:18,167 - INFO - URL https://www.eversports.de/s/vertical-pole-aerial-dance-1 is valid.\n",
      "2024-02-03 12:00:18,168 - INFO - Processing URL 2/4: https://www.eversports.de/sw/vertical-pole-aerial-dance-1\n",
      "2024-02-03 12:00:19,220 - INFO - URL https://www.eversports.de/sw/vertical-pole-aerial-dance-1 is valid.\n",
      "2024-02-03 12:00:19,221 - INFO - Processing URL 3/4: https://www.eversports.de/sp/vertical-pole-aerial-dance-1\n",
      "2024-02-03 12:00:20,349 - INFO - URL https://www.eversports.de/sp/vertical-pole-aerial-dance-1 is valid.\n",
      "2024-02-03 12:00:20,349 - INFO - Processing URL 4/4: https://www.eversports.de/s/vertical-pole-aerial-dance-1/team\n",
      "2024-02-03 12:00:28,434 - INFO - URL https://www.eversports.de/s/vertical-pole-aerial-dance-1/team is valid.\n"
     ]
    },
    {
     "name": "stdout",
     "output_type": "stream",
     "text": [
      "Scraping Pole Studio Data from https://www.eversports.de/s/vertical-pole-aerial-dance-1...\n",
      "Scraping Workshops Data from https://www.eversports.de/sw/vertical-pole-aerial-dance-1...\n",
      "Scraping Workshop Details from https://www.eversports.de/e/workshop/u2GaG-M...\n",
      "Scraping Workshop Details from https://www.eversports.de/e/workshop/ogqaXAU...\n",
      "Scraping Workshop Details from https://www.eversports.de/e/workshop/j_dm47B...\n",
      "Scraping Workshop Details from https://www.eversports.de/e/workshop/oZL9Vcu...\n"
     ]
    },
    {
     "name": "stderr",
     "output_type": "stream",
     "text": [
      "Processing URLs:  93%|█████████▎| 375/403 [30:39<05:20, 11.43s/it, Current URL: https://www.eversports.de/s/vertical-pole-aerial-dance-1]"
     ]
    },
    {
     "name": "stdout",
     "output_type": "stream",
     "text": [
      "Processing completed.\n",
      "Pole Studio Data: 1 entries\n",
      "Workshops Data: 4 entries\n",
      "Workshop Details: 4 entries\n",
      "Starting URL reconstruction...\n"
     ]
    },
    {
     "name": "stderr",
     "output_type": "stream",
     "text": [
      "Processing URLs:  93%|█████████▎| 376/403 [30:43<04:08,  9.20s/it, Current URL: https://www.eversports.de/s/del%c3%ada-pole-dance]       "
     ]
    },
    {
     "name": "stdout",
     "output_type": "stream",
     "text": [
      "Error during HTTP request: Exceeded 30 redirects.\n",
      "Converting to DataFrame...\n",
      "Validating URLs...\n",
      "Processing completed.\n",
      "Starting URL reconstruction...\n"
     ]
    },
    {
     "name": "stderr",
     "output_type": "stream",
     "text": [
      "2024-02-03 12:00:41,844 - INFO - Processing URL 1/4: https://www.eversports.de/s/pole-heroes\n"
     ]
    },
    {
     "name": "stdout",
     "output_type": "stream",
     "text": [
      "Converting to DataFrame...\n",
      "Validating URLs...\n"
     ]
    },
    {
     "name": "stderr",
     "output_type": "stream",
     "text": [
      "2024-02-03 12:00:43,059 - INFO - URL https://www.eversports.de/s/pole-heroes is valid.\n",
      "2024-02-03 12:00:43,060 - INFO - Processing URL 2/4: https://www.eversports.de/sw/pole-heroes\n",
      "2024-02-03 12:00:44,236 - INFO - URL https://www.eversports.de/sw/pole-heroes is valid.\n",
      "2024-02-03 12:00:44,237 - INFO - Processing URL 3/4: https://www.eversports.de/sp/pole-heroes\n",
      "2024-02-03 12:00:45,322 - INFO - URL https://www.eversports.de/sp/pole-heroes is valid.\n",
      "2024-02-03 12:00:45,323 - INFO - Processing URL 4/4: https://www.eversports.de/s/pole-heroes/team\n",
      "2024-02-03 12:00:47,047 - INFO - URL https://www.eversports.de/s/pole-heroes/team is valid.\n"
     ]
    },
    {
     "name": "stdout",
     "output_type": "stream",
     "text": [
      "Scraping Pole Studio Data from https://www.eversports.de/s/pole-heroes...\n",
      "Scraping Workshops Data from https://www.eversports.de/sw/pole-heroes...\n",
      "Scraping Workshop Details from https://www.eversports.de/e/workshop/qyrtCxT...\n",
      "Scraping Workshop Details from https://www.eversports.de/e/workshop/XbedbNM...\n",
      "Scraping Workshop Details from https://www.eversports.de/e/workshop/_cVfx28...\n",
      "Scraping Workshop Details from https://www.eversports.de/e/workshop/vPqMS0U...\n"
     ]
    },
    {
     "name": "stderr",
     "output_type": "stream",
     "text": [
      "Processing URLs:  94%|█████████▎| 377/403 [30:57<04:35, 10.61s/it, Current URL: https://www.eversports.de/s/pole-heroes]          "
     ]
    },
    {
     "name": "stdout",
     "output_type": "stream",
     "text": [
      "Processing completed.\n",
      "Pole Studio Data: 1 entries\n",
      "Workshops Data: 4 entries\n",
      "Workshop Details: 4 entries\n",
      "Starting URL reconstruction...\n"
     ]
    },
    {
     "name": "stderr",
     "output_type": "stream",
     "text": [
      "2024-02-03 12:00:56,100 - INFO - Processing URL 1/3: https://www.eversports.de/s/nordpole\n"
     ]
    },
    {
     "name": "stdout",
     "output_type": "stream",
     "text": [
      "Error reconstructing URL for 'Events': Unrecognized text: 'Events'\n",
      "Converting to DataFrame...\n",
      "Validating URLs...\n"
     ]
    },
    {
     "name": "stderr",
     "output_type": "stream",
     "text": [
      "2024-02-03 12:00:57,359 - INFO - URL https://www.eversports.de/s/nordpole is valid.\n",
      "2024-02-03 12:00:57,360 - INFO - Processing URL 2/3: https://www.eversports.de/sp/nordpole\n",
      "2024-02-03 12:00:58,876 - INFO - URL https://www.eversports.de/sp/nordpole is valid.\n",
      "2024-02-03 12:00:58,877 - INFO - Processing URL 3/3: https://www.eversports.de/s/nordpole/team\n",
      "2024-02-03 12:01:00,070 - INFO - URL https://www.eversports.de/s/nordpole/team is valid.\n"
     ]
    },
    {
     "name": "stdout",
     "output_type": "stream",
     "text": [
      "Scraping Pole Studio Data from https://www.eversports.de/s/nordpole...\n"
     ]
    },
    {
     "name": "stderr",
     "output_type": "stream",
     "text": [
      "Processing URLs:  94%|█████████▍| 378/403 [31:03<03:51,  9.26s/it, Current URL: https://www.eversports.de/s/nordpole]   "
     ]
    },
    {
     "name": "stdout",
     "output_type": "stream",
     "text": [
      "Processing completed.\n",
      "Pole Studio Data: 1 entries\n",
      "Starting URL reconstruction...\n"
     ]
    },
    {
     "name": "stderr",
     "output_type": "stream",
     "text": [
      "Processing URLs:  94%|█████████▍| 379/403 [31:07<03:00,  7.53s/it, Current URL: https://www.eversports.de/s/poletastix-d%c3%bcsseldorf]"
     ]
    },
    {
     "name": "stdout",
     "output_type": "stream",
     "text": [
      "Error during HTTP request: Exceeded 30 redirects.\n",
      "Converting to DataFrame...\n",
      "Validating URLs...\n",
      "Processing completed.\n",
      "Starting URL reconstruction...\n"
     ]
    },
    {
     "name": "stderr",
     "output_type": "stream",
     "text": [
      "Processing URLs:  94%|█████████▍| 380/403 [31:08<02:09,  5.61s/it, Current URL: https://www.eversports.de/s/pole-faction-pole-dance-&-fitness]"
     ]
    },
    {
     "name": "stdout",
     "output_type": "stream",
     "text": [
      "Error during HTTP request: 404 Client Error: Not Found for url: https://www.eversports.de/s/pole-faction-pole-dance-&-fitness\n",
      "Converting to DataFrame...\n",
      "Validating URLs...\n",
      "Processing completed.\n",
      "Starting URL reconstruction...\n"
     ]
    },
    {
     "name": "stderr",
     "output_type": "stream",
     "text": [
      "Processing URLs:  95%|█████████▍| 381/403 [31:09<01:34,  4.28s/it, Current URL: https://www.eversports.de/s/schwerelos-bochum]                "
     ]
    },
    {
     "name": "stdout",
     "output_type": "stream",
     "text": [
      "Error during HTTP request: 404 Client Error: Not Found for url: https://www.eversports.de/s/schwerelos-bochum\n",
      "Converting to DataFrame...\n",
      "Validating URLs...\n",
      "Processing completed.\n",
      "Starting URL reconstruction...\n"
     ]
    },
    {
     "name": "stderr",
     "output_type": "stream",
     "text": [
      "2024-02-03 12:01:07,647 - INFO - Processing URL 1/3: https://www.eversports.de/s/glow-sports-club\n"
     ]
    },
    {
     "name": "stdout",
     "output_type": "stream",
     "text": [
      "Error reconstructing URL for 'Trainings': Unrecognized text: 'Trainings'\n",
      "Error reconstructing URL for 'Kurse': Unrecognized text: 'Kurse'\n",
      "Converting to DataFrame...\n",
      "Validating URLs...\n"
     ]
    },
    {
     "name": "stderr",
     "output_type": "stream",
     "text": [
      "2024-02-03 12:01:09,454 - INFO - URL https://www.eversports.de/s/glow-sports-club is valid.\n",
      "2024-02-03 12:01:09,454 - INFO - Processing URL 2/3: https://www.eversports.de/sp/glow-sports-club\n",
      "2024-02-03 12:01:10,610 - INFO - URL https://www.eversports.de/sp/glow-sports-club is valid.\n",
      "2024-02-03 12:01:10,611 - INFO - Processing URL 3/3: https://www.eversports.de/s/glow-sports-club/team\n",
      "2024-02-03 12:01:11,853 - INFO - URL https://www.eversports.de/s/glow-sports-club/team is valid.\n"
     ]
    },
    {
     "name": "stdout",
     "output_type": "stream",
     "text": [
      "Scraping Pole Studio Data from https://www.eversports.de/s/glow-sports-club...\n"
     ]
    },
    {
     "name": "stderr",
     "output_type": "stream",
     "text": [
      "Processing URLs:  95%|█████████▍| 382/403 [31:15<01:39,  4.76s/it, Current URL: https://www.eversports.de/s/glow-sports-club] "
     ]
    },
    {
     "name": "stdout",
     "output_type": "stream",
     "text": [
      "Processing completed.\n",
      "Pole Studio Data: 1 entries\n",
      "Starting URL reconstruction...\n"
     ]
    },
    {
     "name": "stderr",
     "output_type": "stream",
     "text": [
      "2024-02-03 12:01:13,558 - INFO - Processing URL 1/3: https://www.eversports.de/s/calipso-studio\n"
     ]
    },
    {
     "name": "stdout",
     "output_type": "stream",
     "text": [
      "Error reconstructing URL for 'Kurse': Unrecognized text: 'Kurse'\n",
      "Converting to DataFrame...\n",
      "Validating URLs...\n"
     ]
    },
    {
     "name": "stderr",
     "output_type": "stream",
     "text": [
      "2024-02-03 12:01:14,964 - INFO - URL https://www.eversports.de/s/calipso-studio is valid.\n",
      "2024-02-03 12:01:14,965 - INFO - Processing URL 2/3: https://www.eversports.de/sp/calipso-studio\n",
      "2024-02-03 12:01:16,074 - INFO - URL https://www.eversports.de/sp/calipso-studio is not valid.\n",
      "2024-02-03 12:01:16,075 - INFO - Processing URL 3/3: https://www.eversports.de/s/calipso-studio/team\n",
      "2024-02-03 12:01:17,244 - INFO - URL https://www.eversports.de/s/calipso-studio/team is valid.\n"
     ]
    },
    {
     "name": "stdout",
     "output_type": "stream",
     "text": [
      "Scraping Pole Studio Data from https://www.eversports.de/s/calipso-studio...\n"
     ]
    },
    {
     "name": "stderr",
     "output_type": "stream",
     "text": [
      "Processing URLs:  95%|█████████▌| 383/403 [31:21<01:39,  4.96s/it, Current URL: https://www.eversports.de/s/calipso-studio]  "
     ]
    },
    {
     "name": "stdout",
     "output_type": "stream",
     "text": [
      "Processing completed.\n",
      "Pole Studio Data: 1 entries\n",
      "Starting URL reconstruction...\n"
     ]
    },
    {
     "name": "stderr",
     "output_type": "stream",
     "text": [
      "Processing URLs:  95%|█████████▌| 384/403 [31:22<01:12,  3.80s/it, Current URL: https://www.eversports.de/s/poledance-rostock]"
     ]
    },
    {
     "name": "stdout",
     "output_type": "stream",
     "text": [
      "Error during HTTP request: 404 Client Error: Not Found for url: https://www.eversports.de/s/poledance-rostock\n",
      "Converting to DataFrame...\n",
      "Validating URLs...\n",
      "Processing completed.\n",
      "Starting URL reconstruction...\n"
     ]
    },
    {
     "name": "stderr",
     "output_type": "stream",
     "text": [
      "Processing URLs:  96%|█████████▌| 385/403 [31:23<00:53,  2.99s/it, Current URL: https://www.eversports.de/s/dance-%26-pole-deltawerk]"
     ]
    },
    {
     "name": "stdout",
     "output_type": "stream",
     "text": [
      "Error during HTTP request: 404 Client Error: Not Found for url: https://www.eversports.de/s/dance-%26-pole-deltawerk\n",
      "Converting to DataFrame...\n",
      "Validating URLs...\n",
      "Processing completed.\n",
      "Starting URL reconstruction...\n"
     ]
    },
    {
     "name": "stderr",
     "output_type": "stream",
     "text": [
      "2024-02-03 12:01:22,076 - INFO - Processing URL 1/4: https://www.eversports.de/s/polecreation\n"
     ]
    },
    {
     "name": "stdout",
     "output_type": "stream",
     "text": [
      "Converting to DataFrame...\n",
      "Validating URLs...\n"
     ]
    },
    {
     "name": "stderr",
     "output_type": "stream",
     "text": [
      "2024-02-03 12:01:23,372 - INFO - URL https://www.eversports.de/s/polecreation is valid.\n",
      "2024-02-03 12:01:23,373 - INFO - Processing URL 2/4: https://www.eversports.de/sw/polecreation\n",
      "2024-02-03 12:01:24,444 - INFO - URL https://www.eversports.de/sw/polecreation is valid.\n",
      "2024-02-03 12:01:24,445 - INFO - Processing URL 3/4: https://www.eversports.de/sp/polecreation\n",
      "2024-02-03 12:01:25,497 - INFO - URL https://www.eversports.de/sp/polecreation is valid.\n",
      "2024-02-03 12:01:25,498 - INFO - Processing URL 4/4: https://www.eversports.de/s/polecreation/team\n",
      "2024-02-03 12:01:26,628 - INFO - URL https://www.eversports.de/s/polecreation/team is valid.\n"
     ]
    },
    {
     "name": "stdout",
     "output_type": "stream",
     "text": [
      "Scraping Pole Studio Data from https://www.eversports.de/s/polecreation...\n",
      "Scraping Workshops Data from https://www.eversports.de/sw/polecreation...\n",
      "Scraping Workshop Details from https://www.eversports.de/e/workshop/bmZxua4...\n",
      "Scraping Workshop Details from https://www.eversports.de/e/workshop/qcRMhzd...\n",
      "Scraping Workshop Details from https://www.eversports.de/e/workshop/Zj0NETg...\n"
     ]
    },
    {
     "name": "stderr",
     "output_type": "stream",
     "text": [
      "Processing URLs:  96%|█████████▌| 386/403 [31:35<01:36,  5.70s/it, Current URL: https://www.eversports.de/s/polecreation]            "
     ]
    },
    {
     "name": "stdout",
     "output_type": "stream",
     "text": [
      "Processing completed.\n",
      "Pole Studio Data: 1 entries\n",
      "Workshops Data: 3 entries\n",
      "Workshop Details: 3 entries\n",
      "Starting URL reconstruction...\n"
     ]
    },
    {
     "name": "stderr",
     "output_type": "stream",
     "text": [
      "Processing URLs:  96%|█████████▌| 387/403 [31:36<01:09,  4.32s/it, Current URL: https://www.eversports.de/s/polegarage-hagen]"
     ]
    },
    {
     "name": "stdout",
     "output_type": "stream",
     "text": [
      "Error during HTTP request: 404 Client Error: Not Found for url: https://www.eversports.de/s/polegarage-hagen\n",
      "Converting to DataFrame...\n",
      "Validating URLs...\n",
      "Processing completed.\n",
      "Starting URL reconstruction...\n"
     ]
    },
    {
     "name": "stderr",
     "output_type": "stream",
     "text": [
      "2024-02-03 12:01:34,315 - INFO - Processing URL 1/3: https://www.eversports.de/s/pole-and-move-online-studio\n"
     ]
    },
    {
     "name": "stdout",
     "output_type": "stream",
     "text": [
      "Converting to DataFrame...\n",
      "Validating URLs...\n"
     ]
    },
    {
     "name": "stderr",
     "output_type": "stream",
     "text": [
      "2024-02-03 12:01:35,654 - INFO - URL https://www.eversports.de/s/pole-and-move-online-studio is valid.\n",
      "2024-02-03 12:01:35,655 - INFO - Processing URL 2/3: https://www.eversports.de/sp/pole-and-move-online-studio\n",
      "2024-02-03 12:01:36,770 - INFO - URL https://www.eversports.de/sp/pole-and-move-online-studio is valid.\n",
      "2024-02-03 12:01:36,771 - INFO - Processing URL 3/3: https://www.eversports.de/s/pole-and-move-online-studio/team\n",
      "2024-02-03 12:01:37,942 - INFO - URL https://www.eversports.de/s/pole-and-move-online-studio/team is valid.\n"
     ]
    },
    {
     "name": "stdout",
     "output_type": "stream",
     "text": [
      "Scraping Pole Studio Data from https://www.eversports.de/s/pole-and-move-online-studio...\n"
     ]
    },
    {
     "name": "stderr",
     "output_type": "stream",
     "text": [
      "Processing URLs:  96%|█████████▋| 388/403 [31:41<01:09,  4.64s/it, Current URL: https://www.eversports.de/s/pole-and-move-online-studio]"
     ]
    },
    {
     "name": "stdout",
     "output_type": "stream",
     "text": [
      "Processing completed.\n",
      "Pole Studio Data: 1 entries\n",
      "Starting URL reconstruction...\n"
     ]
    },
    {
     "name": "stderr",
     "output_type": "stream",
     "text": [
      "2024-02-03 12:01:39,612 - INFO - Processing URL 1/4: https://www.eversports.de/s/pole-faction-darmstadt\n"
     ]
    },
    {
     "name": "stdout",
     "output_type": "stream",
     "text": [
      "Converting to DataFrame...\n",
      "Validating URLs...\n"
     ]
    },
    {
     "name": "stderr",
     "output_type": "stream",
     "text": [
      "2024-02-03 12:01:40,939 - INFO - URL https://www.eversports.de/s/pole-faction-darmstadt is valid.\n",
      "2024-02-03 12:01:40,941 - INFO - Processing URL 2/4: https://www.eversports.de/sw/pole-faction-darmstadt\n",
      "2024-02-03 12:01:42,070 - INFO - URL https://www.eversports.de/sw/pole-faction-darmstadt is valid.\n",
      "2024-02-03 12:01:42,071 - INFO - Processing URL 3/4: https://www.eversports.de/sp/pole-faction-darmstadt\n",
      "2024-02-03 12:01:43,264 - INFO - URL https://www.eversports.de/sp/pole-faction-darmstadt is valid.\n",
      "2024-02-03 12:01:43,265 - INFO - Processing URL 4/4: https://www.eversports.de/s/pole-faction-darmstadt/team\n",
      "2024-02-03 12:01:44,391 - INFO - URL https://www.eversports.de/s/pole-faction-darmstadt/team is valid.\n"
     ]
    },
    {
     "name": "stdout",
     "output_type": "stream",
     "text": [
      "Scraping Pole Studio Data from https://www.eversports.de/s/pole-faction-darmstadt...\n",
      "Scraping Workshops Data from https://www.eversports.de/sw/pole-faction-darmstadt...\n",
      "Scraping Workshop Details from https://www.eversports.de/e/workshop/FP-cEyn...\n"
     ]
    },
    {
     "name": "stderr",
     "output_type": "stream",
     "text": [
      "Processing URLs:  97%|█████████▋| 389/403 [31:50<01:22,  5.91s/it, Current URL: https://www.eversports.de/s/pole-faction-darmstadt]     "
     ]
    },
    {
     "name": "stdout",
     "output_type": "stream",
     "text": [
      "Processing completed.\n",
      "Pole Studio Data: 1 entries\n",
      "Workshops Data: 1 entries\n",
      "Workshop Details: 1 entries\n",
      "Starting URL reconstruction...\n"
     ]
    },
    {
     "name": "stderr",
     "output_type": "stream",
     "text": [
      "Processing URLs:  97%|█████████▋| 390/403 [31:51<00:58,  4.46s/it, Current URL: https://www.eversports.de/s/dance-%26-pole-langenfeld]"
     ]
    },
    {
     "name": "stdout",
     "output_type": "stream",
     "text": [
      "Error during HTTP request: 404 Client Error: Not Found for url: https://www.eversports.de/s/dance-%26-pole-langenfeld\n",
      "Converting to DataFrame...\n",
      "Validating URLs...\n",
      "Processing completed.\n",
      "Starting URL reconstruction...\n"
     ]
    },
    {
     "name": "stderr",
     "output_type": "stream",
     "text": [
      "Processing URLs:  97%|█████████▋| 391/403 [31:52<00:41,  3.44s/it, Current URL: https://www.eversports.de/s/anni's-pole-dance-uetersen]"
     ]
    },
    {
     "name": "stdout",
     "output_type": "stream",
     "text": [
      "Error during HTTP request: 404 Client Error: Not Found for url: https://www.eversports.de/s/anni's-pole-dance-uetersen\n",
      "Converting to DataFrame...\n",
      "Validating URLs...\n",
      "Processing completed.\n",
      "Starting URL reconstruction...\n"
     ]
    },
    {
     "name": "stderr",
     "output_type": "stream",
     "text": [
      "2024-02-03 12:01:51,069 - INFO - Processing URL 1/3: https://www.eversports.de/s/janardana-yoga\n"
     ]
    },
    {
     "name": "stdout",
     "output_type": "stream",
     "text": [
      "Error reconstructing URL for 'Ausbildungen': Unrecognized text: 'Ausbildungen'\n",
      "Converting to DataFrame...\n",
      "Validating URLs...\n"
     ]
    },
    {
     "name": "stderr",
     "output_type": "stream",
     "text": [
      "2024-02-03 12:01:52,427 - INFO - URL https://www.eversports.de/s/janardana-yoga is valid.\n",
      "2024-02-03 12:01:52,428 - INFO - Processing URL 2/3: https://www.eversports.de/sp/janardana-yoga\n",
      "2024-02-03 12:01:53,597 - INFO - URL https://www.eversports.de/sp/janardana-yoga is valid.\n",
      "2024-02-03 12:01:53,598 - INFO - Processing URL 3/3: https://www.eversports.de/s/janardana-yoga/team\n",
      "2024-02-03 12:01:54,733 - INFO - URL https://www.eversports.de/s/janardana-yoga/team is valid.\n"
     ]
    },
    {
     "name": "stdout",
     "output_type": "stream",
     "text": [
      "Scraping Pole Studio Data from https://www.eversports.de/s/janardana-yoga...\n"
     ]
    },
    {
     "name": "stderr",
     "output_type": "stream",
     "text": [
      "Processing URLs:  97%|█████████▋| 392/403 [31:58<00:45,  4.14s/it, Current URL: https://www.eversports.de/s/janardana-yoga]            "
     ]
    },
    {
     "name": "stdout",
     "output_type": "stream",
     "text": [
      "Processing completed.\n",
      "Pole Studio Data: 1 entries\n",
      "Starting URL reconstruction...\n"
     ]
    },
    {
     "name": "stderr",
     "output_type": "stream",
     "text": [
      "Processing URLs:  98%|█████████▊| 393/403 [31:59<00:32,  3.22s/it, Current URL: https://www.eversports.de/s/polepoint-dance-studio]"
     ]
    },
    {
     "name": "stdout",
     "output_type": "stream",
     "text": [
      "Error during HTTP request: 404 Client Error: Not Found for url: https://www.eversports.de/s/polepoint-dance-studio\n",
      "Converting to DataFrame...\n",
      "Validating URLs...\n",
      "Processing completed.\n",
      "Starting URL reconstruction...\n"
     ]
    },
    {
     "name": "stderr",
     "output_type": "stream",
     "text": [
      "2024-02-03 12:01:57,469 - INFO - Processing URL 1/1: https://www.eversports.de/s/pole-passion-bielefeld\n"
     ]
    },
    {
     "name": "stdout",
     "output_type": "stream",
     "text": [
      "Converting to DataFrame...\n",
      "Validating URLs...\n"
     ]
    },
    {
     "name": "stderr",
     "output_type": "stream",
     "text": [
      "2024-02-03 12:01:58,632 - INFO - URL https://www.eversports.de/s/pole-passion-bielefeld is valid.\n"
     ]
    },
    {
     "name": "stdout",
     "output_type": "stream",
     "text": [
      "Scraping Pole Studio Data from https://www.eversports.de/s/pole-passion-bielefeld...\n"
     ]
    },
    {
     "name": "stderr",
     "output_type": "stream",
     "text": [
      "Processing URLs:  98%|█████████▊| 394/403 [32:02<00:27,  3.07s/it, Current URL: https://www.eversports.de/s/pole-passion-bielefeld]"
     ]
    },
    {
     "name": "stdout",
     "output_type": "stream",
     "text": [
      "Processing completed.\n",
      "Pole Studio Data: 1 entries\n",
      "Starting URL reconstruction...\n"
     ]
    },
    {
     "name": "stderr",
     "output_type": "stream",
     "text": [
      "2024-02-03 12:02:00,196 - INFO - Processing URL 1/4: https://www.eversports.de/s/polea-pole-and-aerial-dance\n"
     ]
    },
    {
     "name": "stdout",
     "output_type": "stream",
     "text": [
      "Converting to DataFrame...\n",
      "Validating URLs...\n"
     ]
    },
    {
     "name": "stderr",
     "output_type": "stream",
     "text": [
      "2024-02-03 12:02:01,480 - INFO - URL https://www.eversports.de/s/polea-pole-and-aerial-dance is valid.\n",
      "2024-02-03 12:02:01,481 - INFO - Processing URL 2/4: https://www.eversports.de/sw/polea-pole-and-aerial-dance\n",
      "2024-02-03 12:02:02,601 - INFO - URL https://www.eversports.de/sw/polea-pole-and-aerial-dance is valid.\n",
      "2024-02-03 12:02:02,602 - INFO - Processing URL 3/4: https://www.eversports.de/sp/polea-pole-and-aerial-dance\n",
      "2024-02-03 12:02:03,690 - INFO - URL https://www.eversports.de/sp/polea-pole-and-aerial-dance is valid.\n",
      "2024-02-03 12:02:03,691 - INFO - Processing URL 4/4: https://www.eversports.de/s/polea-pole-and-aerial-dance/team\n",
      "2024-02-03 12:02:04,832 - INFO - URL https://www.eversports.de/s/polea-pole-and-aerial-dance/team is valid.\n"
     ]
    },
    {
     "name": "stdout",
     "output_type": "stream",
     "text": [
      "Scraping Pole Studio Data from https://www.eversports.de/s/polea-pole-and-aerial-dance...\n",
      "Scraping Workshops Data from https://www.eversports.de/sw/polea-pole-and-aerial-dance...\n",
      "Scraping Workshop Details from https://www.eversports.de/e/workshop/-BAz15m...\n",
      "Scraping Workshop Details from https://www.eversports.de/e/workshop/u3m9tGL...\n"
     ]
    },
    {
     "name": "stderr",
     "output_type": "stream",
     "text": [
      "Processing URLs:  98%|█████████▊| 395/403 [32:12<00:42,  5.35s/it, Current URL: https://www.eversports.de/s/polea-pole-and-aerial-dance]"
     ]
    },
    {
     "name": "stdout",
     "output_type": "stream",
     "text": [
      "Processing completed.\n",
      "Pole Studio Data: 1 entries\n",
      "Workshops Data: 2 entries\n",
      "Workshop Details: 2 entries\n",
      "Starting URL reconstruction...\n"
     ]
    },
    {
     "name": "stderr",
     "output_type": "stream",
     "text": [
      "Processing URLs:  98%|█████████▊| 396/403 [32:14<00:28,  4.07s/it, Current URL: https://www.eversports.de/s/health-and-shape]           "
     ]
    },
    {
     "name": "stdout",
     "output_type": "stream",
     "text": [
      "Error during HTTP request: 404 Client Error: Not Found for url: https://www.eversports.de/s/health-and-shape\n",
      "Converting to DataFrame...\n",
      "Validating URLs...\n",
      "Processing completed.\n",
      "Starting URL reconstruction...\n"
     ]
    },
    {
     "name": "stderr",
     "output_type": "stream",
     "text": [
      "Processing URLs:  99%|█████████▊| 397/403 [32:15<00:19,  3.20s/it, Current URL: https://www.eversports.de/s/dance-%26-fly-pole-studio]"
     ]
    },
    {
     "name": "stdout",
     "output_type": "stream",
     "text": [
      "Error during HTTP request: 404 Client Error: Not Found for url: https://www.eversports.de/s/dance-%26-fly-pole-studio\n",
      "Converting to DataFrame...\n",
      "Validating URLs...\n",
      "Processing completed.\n",
      "Starting URL reconstruction...\n"
     ]
    },
    {
     "name": "stderr",
     "output_type": "stream",
     "text": [
      "2024-02-03 12:02:13,182 - INFO - Processing URL 1/4: https://www.eversports.de/s/pole-and-move-mannheim\n"
     ]
    },
    {
     "name": "stdout",
     "output_type": "stream",
     "text": [
      "Converting to DataFrame...\n",
      "Validating URLs...\n"
     ]
    },
    {
     "name": "stderr",
     "output_type": "stream",
     "text": [
      "2024-02-03 12:02:14,690 - INFO - URL https://www.eversports.de/s/pole-and-move-mannheim is valid.\n",
      "2024-02-03 12:02:14,691 - INFO - Processing URL 2/4: https://www.eversports.de/sw/pole-and-move-mannheim\n",
      "2024-02-03 12:02:16,198 - INFO - URL https://www.eversports.de/sw/pole-and-move-mannheim is valid.\n",
      "2024-02-03 12:02:16,199 - INFO - Processing URL 3/4: https://www.eversports.de/sp/pole-and-move-mannheim\n",
      "2024-02-03 12:02:17,277 - INFO - URL https://www.eversports.de/sp/pole-and-move-mannheim is valid.\n",
      "2024-02-03 12:02:17,278 - INFO - Processing URL 4/4: https://www.eversports.de/s/pole-and-move-mannheim/team\n",
      "2024-02-03 12:02:18,481 - INFO - URL https://www.eversports.de/s/pole-and-move-mannheim/team is valid.\n"
     ]
    },
    {
     "name": "stdout",
     "output_type": "stream",
     "text": [
      "Scraping Pole Studio Data from https://www.eversports.de/s/pole-and-move-mannheim...\n",
      "Scraping Workshops Data from https://www.eversports.de/sw/pole-and-move-mannheim...\n",
      "Scraping Workshop Details from https://www.eversports.de/e/workshop/-IGRjIZ...\n",
      "Scraping Workshop Details from https://www.eversports.de/e/workshop/gbofUBp...\n",
      "Scraping Workshop Details from https://www.eversports.de/e/workshop/NFfn_y6...\n",
      "Scraping Workshop Details from https://www.eversports.de/e/workshop/miY7n0b...\n",
      "Scraping Workshop Details from https://www.eversports.de/e/workshop/C9b62JT...\n",
      "Scraping Workshop Details from https://www.eversports.de/e/workshop/0fonSE4...\n"
     ]
    },
    {
     "name": "stderr",
     "output_type": "stream",
     "text": [
      "Processing URLs:  99%|█████████▉| 398/403 [32:32<00:36,  7.28s/it, Current URL: https://www.eversports.de/s/pole-and-move-mannheim]   "
     ]
    },
    {
     "name": "stdout",
     "output_type": "stream",
     "text": [
      "Processing completed.\n",
      "Pole Studio Data: 1 entries\n",
      "Workshops Data: 6 entries\n",
      "Workshop Details: 6 entries\n",
      "Starting URL reconstruction...\n"
     ]
    },
    {
     "name": "stderr",
     "output_type": "stream",
     "text": [
      "2024-02-03 12:02:30,422 - INFO - Processing URL 1/3: https://www.eversports.de/s/the-supergirl-studio\n"
     ]
    },
    {
     "name": "stdout",
     "output_type": "stream",
     "text": [
      "Converting to DataFrame...\n",
      "Validating URLs...\n"
     ]
    },
    {
     "name": "stderr",
     "output_type": "stream",
     "text": [
      "2024-02-03 12:02:35,872 - INFO - URL https://www.eversports.de/s/the-supergirl-studio is valid.\n",
      "2024-02-03 12:02:35,874 - INFO - Processing URL 2/3: https://www.eversports.de/sp/the-supergirl-studio\n",
      "2024-02-03 12:02:37,516 - INFO - URL https://www.eversports.de/sp/the-supergirl-studio is valid.\n",
      "2024-02-03 12:02:37,517 - INFO - Processing URL 3/3: https://www.eversports.de/s/the-supergirl-studio/team\n",
      "2024-02-03 12:02:38,674 - INFO - URL https://www.eversports.de/s/the-supergirl-studio/team is valid.\n"
     ]
    },
    {
     "name": "stdout",
     "output_type": "stream",
     "text": [
      "Scraping Pole Studio Data from https://www.eversports.de/s/the-supergirl-studio...\n"
     ]
    },
    {
     "name": "stderr",
     "output_type": "stream",
     "text": [
      "Processing URLs:  99%|█████████▉| 399/403 [32:42<00:32,  8.24s/it, Current URL: https://www.eversports.de/s/the-supergirl-studio]  "
     ]
    },
    {
     "name": "stdout",
     "output_type": "stream",
     "text": [
      "Processing completed.\n",
      "Pole Studio Data: 1 entries\n",
      "Starting URL reconstruction...\n"
     ]
    },
    {
     "name": "stderr",
     "output_type": "stream",
     "text": [
      "2024-02-03 12:02:40,336 - INFO - Processing URL 1/3: https://www.eversports.de/s/feel-good-factory-pole-stretch-fly\n"
     ]
    },
    {
     "name": "stdout",
     "output_type": "stream",
     "text": [
      "Error reconstructing URL for 'Kurse': Unrecognized text: 'Kurse'\n",
      "Error reconstructing URL for 'Events': Unrecognized text: 'Events'\n",
      "Converting to DataFrame...\n",
      "Validating URLs...\n"
     ]
    },
    {
     "name": "stderr",
     "output_type": "stream",
     "text": [
      "2024-02-03 12:02:41,756 - INFO - URL https://www.eversports.de/s/feel-good-factory-pole-stretch-fly is valid.\n",
      "2024-02-03 12:02:41,758 - INFO - Processing URL 2/3: https://www.eversports.de/sp/feel-good-factory-pole-stretch-fly\n",
      "2024-02-03 12:02:42,994 - INFO - URL https://www.eversports.de/sp/feel-good-factory-pole-stretch-fly is valid.\n",
      "2024-02-03 12:02:42,995 - INFO - Processing URL 3/3: https://www.eversports.de/s/feel-good-factory-pole-stretch-fly/team\n",
      "2024-02-03 12:02:44,188 - INFO - URL https://www.eversports.de/s/feel-good-factory-pole-stretch-fly/team is valid.\n"
     ]
    },
    {
     "name": "stdout",
     "output_type": "stream",
     "text": [
      "Scraping Pole Studio Data from https://www.eversports.de/s/feel-good-factory-pole-stretch-fly...\n"
     ]
    },
    {
     "name": "stderr",
     "output_type": "stream",
     "text": [
      "Processing URLs:  99%|█████████▉| 400/403 [32:47<00:22,  7.40s/it, Current URL: https://www.eversports.de/s/feel-good-factory-pole-stretch-fly]"
     ]
    },
    {
     "name": "stdout",
     "output_type": "stream",
     "text": [
      "Processing completed.\n",
      "Pole Studio Data: 1 entries\n",
      "Starting URL reconstruction...\n"
     ]
    },
    {
     "name": "stderr",
     "output_type": "stream",
     "text": [
      "Processing URLs: 100%|█████████▉| 401/403 [32:49<00:11,  5.50s/it, Current URL: https://www.eversports.de/s/vertical-kay-poledance-%26-aerialarts-education]"
     ]
    },
    {
     "name": "stdout",
     "output_type": "stream",
     "text": [
      "Error during HTTP request: 404 Client Error: Not Found for url: https://www.eversports.de/s/vertical-kay-poledance-%26-aerialarts-education\n",
      "Converting to DataFrame...\n",
      "Validating URLs...\n",
      "Processing completed.\n",
      "Starting URL reconstruction...\n"
     ]
    },
    {
     "name": "stderr",
     "output_type": "stream",
     "text": [
      "Processing URLs: 100%|█████████▉| 402/403 [32:50<00:04,  4.17s/it, Current URL: https://www.eversports.de/s/anni's-pole-dance-neum%c3%bcnster]              "
     ]
    },
    {
     "name": "stdout",
     "output_type": "stream",
     "text": [
      "Error during HTTP request: 404 Client Error: Not Found for url: https://www.eversports.de/s/anni's-pole-dance-neum%C3%BCnster\n",
      "Converting to DataFrame...\n",
      "Validating URLs...\n",
      "Processing completed.\n",
      "Starting URL reconstruction...\n"
     ]
    },
    {
     "name": "stderr",
     "output_type": "stream",
     "text": [
      "Processing URLs: 100%|██████████| 403/403 [32:51<00:00,  4.89s/it, Current URL: https://www.eversports.de/s/souldance]                        "
     ]
    },
    {
     "name": "stdout",
     "output_type": "stream",
     "text": [
      "Error during HTTP request: 404 Client Error: Not Found for url: https://www.eversports.de/s/souldance\n",
      "Converting to DataFrame...\n",
      "Validating URLs...\n",
      "Processing completed.\n"
     ]
    },
    {
     "name": "stderr",
     "output_type": "stream",
     "text": [
      "\n"
     ]
    }
   ],
   "source": [
    "import pandas as pd\n",
    "from PyCaller import process_urls\n",
    "from tqdm import tqdm\n",
    "\n",
    "def process_and_print_results(url, all_pole_studio_data, all_workshops_data, all_workshop_details_data):\n",
    "    data = process_urls([url])\n",
    "\n",
    "    if data:\n",
    "        for key, df in data.items():\n",
    "            if df is not None and not df.empty:\n",
    "                print(f\"{key.replace('_', ' ').title()}: {len(df)} entries\")\n",
    "\n",
    "                # Update the appropriate DataFrame\n",
    "                if key == 'pole_studio_data':\n",
    "                    all_pole_studio_data = pd.concat([all_pole_studio_data, df], ignore_index=True)\n",
    "                elif key == 'workshops_data':\n",
    "                    all_workshops_data = pd.concat([all_workshops_data, df], ignore_index=True)\n",
    "                elif key == 'workshop_details':\n",
    "                    all_workshop_details_data = pd.concat([all_workshop_details_data, df], ignore_index=True)\n",
    "\n",
    "    return all_pole_studio_data, all_workshops_data, all_workshop_details_data\n",
    "\n",
    "def main():\n",
    "    # Load initial URLs\n",
    "    all_found_urls_s = pd.read_csv(\"your_output_file.csv\")\n",
    "    initial_urls = list(set(all_found_urls_s[\"0\"]))\n",
    "\n",
    "    # Initialize DataFrames\n",
    "    all_pole_studio_data = pd.DataFrame()\n",
    "    all_workshops_data = pd.DataFrame()\n",
    "    all_workshop_details_data = pd.DataFrame()\n",
    "\n",
    "    # Process each URL with tqdm\n",
    "    with tqdm(total=len(initial_urls), desc=\"Processing URLs\", dynamic_ncols=True) as pbar:\n",
    "        for url in initial_urls:\n",
    "            all_pole_studio_data, all_workshops_data, all_workshop_details_data = process_and_print_results(\n",
    "                url, all_pole_studio_data, all_workshops_data, all_workshop_details_data\n",
    "            )\n",
    "            pbar.update(1)\n",
    "            pbar.set_postfix_str(f\"Current URL: {url}\", refresh=True)\n",
    "\n",
    "    # # Export DataFrames to CSV files\n",
    "    all_pole_studio_data.to_csv(\"Pole_Studio_Übersicht_S.csv\", index=False)\n",
    "    all_workshops_data.to_csv(\"Workshop_Liste_SW.csv\", index=False)\n",
    "    all_workshop_details_data.to_csv(\"Workshop_Übersicht_E.csv\", index=False)\n",
    "\n",
    "    # Return the final DataFrames\n",
    "    return all_pole_studio_data, all_workshops_data, all_workshop_details_data\n",
    "\n",
    "# Run the main function and get the final DataFrames\n",
    "result_pole_studio, result_workshops, result_workshop_details = main()\n",
    "\n",
    "# Now you can access result_pole_studio, result_workshops, and result_workshop_details outside the function\n",
    "# print(result_pole_studio)\n",
    "# print(result_workshops)\n",
    "# print(result_workshop_details)\n"
   ]
  },
  {
   "cell_type": "code",
   "execution_count": 8,
   "metadata": {},
   "outputs": [
    {
     "data": {
      "text/html": [
       "<div>\n",
       "<style scoped>\n",
       "    .dataframe tbody tr th:only-of-type {\n",
       "        vertical-align: middle;\n",
       "    }\n",
       "\n",
       "    .dataframe tbody tr th {\n",
       "        vertical-align: top;\n",
       "    }\n",
       "\n",
       "    .dataframe thead th {\n",
       "        text-align: right;\n",
       "    }\n",
       "</style>\n",
       "<table border=\"1\" class=\"dataframe\">\n",
       "  <thead>\n",
       "    <tr style=\"text-align: right;\">\n",
       "      <th></th>\n",
       "      <th>PoleStudio_Name</th>\n",
       "      <th>Adresse</th>\n",
       "      <th>PLZ</th>\n",
       "      <th>Stadt</th>\n",
       "      <th>Straße</th>\n",
       "      <th>Buttons</th>\n",
       "      <th>Pole Studio Beschreibung</th>\n",
       "      <th>E-Mail</th>\n",
       "      <th>Homepage</th>\n",
       "      <th>Telefon</th>\n",
       "      <th>URL_S</th>\n",
       "      <th>Art</th>\n",
       "      <th>Angebot</th>\n",
       "      <th>Created Date</th>\n",
       "      <th>Updated Date</th>\n",
       "    </tr>\n",
       "  </thead>\n",
       "  <tbody>\n",
       "    <tr>\n",
       "      <th>0</th>\n",
       "      <td>SWISS MEGA PARK</td>\n",
       "      <td>[Schützenstrasse 2,  4402 Frenkendorf]</td>\n",
       "      <td>4402</td>\n",
       "      <td>Frenkendorf</td>\n",
       "      <td>Schützenstrasse 2</td>\n",
       "      <td>[Übersicht, Sportplätze, Matches]</td>\n",
       "      <td>Der SWISS MEGA PARK in Frenkendorf ist nicht n...</td>\n",
       "      <td>kontakt@swissmegapark.ch</td>\n",
       "      <td>http://www.swissmegapark.ch/</td>\n",
       "      <td>+41 61 901 76 64</td>\n",
       "      <td>https://www.eversports.de/s/swiss-mega-park</td>\n",
       "      <td>[12 Rezensionen, Tennis, Badminton, Basketball...</td>\n",
       "      <td>None</td>\n",
       "      <td>2024-02-03 11:30:00</td>\n",
       "      <td>2024-02-03 11:30:00</td>\n",
       "    </tr>\n",
       "    <tr>\n",
       "      <th>1</th>\n",
       "      <td>POLEside</td>\n",
       "      <td>[Saline 5 ,  74177 Bad Friedrichshall]</td>\n",
       "      <td>74177</td>\n",
       "      <td>Bad</td>\n",
       "      <td>Saline 5</td>\n",
       "      <td>[Übersicht, Klassen, Kurse, Workshops, Videos,...</td>\n",
       "      <td>Willkommen bei POLEside!Lass Dich von uns mitr...</td>\n",
       "      <td>info@poleside.de</td>\n",
       "      <td>http://poleside.de/</td>\n",
       "      <td>0176 870 191 81</td>\n",
       "      <td>https://www.eversports.de/s/poleside</td>\n",
       "      <td>[Poledance, Fitness, Aerial Yoga, Polesport, P...</td>\n",
       "      <td>Zum Stundenplan</td>\n",
       "      <td>2024-02-03 11:30:08</td>\n",
       "      <td>2024-02-03 11:30:08</td>\n",
       "    </tr>\n",
       "    <tr>\n",
       "      <th>2</th>\n",
       "      <td>CSS AERIAL DANCE STUDIO</td>\n",
       "      <td>[Hummelsbütteler Steindamm ,  22851 Hamburg]</td>\n",
       "      <td>22851</td>\n",
       "      <td>Hamburg</td>\n",
       "      <td>Hummelsbütteler Steindamm</td>\n",
       "      <td>[Übersicht, Klassen, Kurse, Preise, Team]</td>\n",
       "      <td>🌟 Herzlich willkommen im CSS AERIAL DANCE STUD...</td>\n",
       "      <td>CorinnaSchatz@gmx.de</td>\n",
       "      <td>http://www.cssaerialdancestudio.com</td>\n",
       "      <td>+4915224340258</td>\n",
       "      <td>https://www.eversports.de/s/css-aerial-dance-s...</td>\n",
       "      <td>[Flexibles Training, Poledance, Poledance, Pol...</td>\n",
       "      <td>Zum Stundenplan</td>\n",
       "      <td>2024-02-03 11:30:24</td>\n",
       "      <td>2024-02-03 11:30:24</td>\n",
       "    </tr>\n",
       "    <tr>\n",
       "      <th>3</th>\n",
       "      <td>Tanzteufel</td>\n",
       "      <td>[Karl-Friedrich-Straße 76 ,  79312 Emmendingen]</td>\n",
       "      <td>79312</td>\n",
       "      <td>Emmendingen</td>\n",
       "      <td>Karl-Friedrich-Straße 76</td>\n",
       "      <td>[Übersicht, Klassen, Videos, Preise, Team]</td>\n",
       "      <td>In den beiden großen und offenen Studios in Em...</td>\n",
       "      <td>info@tanzteufel-poledance.com</td>\n",
       "      <td>http://www.tanzteufel-poledance.com</td>\n",
       "      <td>+49 162 7817549</td>\n",
       "      <td>https://www.eversports.de/s/tanzteufel</td>\n",
       "      <td>[Poledance, Power Pole, Poledance, Poledance, ...</td>\n",
       "      <td>1 Angebot für Neukund:innen</td>\n",
       "      <td>2024-02-03 11:30:32</td>\n",
       "      <td>2024-02-03 11:30:32</td>\n",
       "    </tr>\n",
       "    <tr>\n",
       "      <th>4</th>\n",
       "      <td>The Pole Jungle</td>\n",
       "      <td>[Volksgartenstraße 19,  4020 Linz]</td>\n",
       "      <td>4020</td>\n",
       "      <td>Linz</td>\n",
       "      <td>Volksgartenstraße 19</td>\n",
       "      <td>[Übersicht, Klassen, Trainings, Kurse, Worksho...</td>\n",
       "      <td>Wie der Name bereits sagt erwartet euch ein gr...</td>\n",
       "      <td>hello@thepolejungle.com</td>\n",
       "      <td>http://www.thepolejungle.com</td>\n",
       "      <td>+43 677 647 33 8 00</td>\n",
       "      <td>https://www.eversports.de/s/the-pole-jungle</td>\n",
       "      <td>[Poledance, Poledance, Poledance, Poledance, P...</td>\n",
       "      <td>Zum Stundenplan</td>\n",
       "      <td>2024-02-03 11:30:39</td>\n",
       "      <td>2024-02-03 11:30:39</td>\n",
       "    </tr>\n",
       "    <tr>\n",
       "      <th>...</th>\n",
       "      <td>...</td>\n",
       "      <td>...</td>\n",
       "      <td>...</td>\n",
       "      <td>...</td>\n",
       "      <td>...</td>\n",
       "      <td>...</td>\n",
       "      <td>...</td>\n",
       "      <td>...</td>\n",
       "      <td>...</td>\n",
       "      <td>...</td>\n",
       "      <td>...</td>\n",
       "      <td>...</td>\n",
       "      <td>...</td>\n",
       "      <td>...</td>\n",
       "      <td>...</td>\n",
       "    </tr>\n",
       "    <tr>\n",
       "      <th>155</th>\n",
       "      <td>Pole Passion Bielefeld</td>\n",
       "      <td>[Apfelstraße 75A,  33613 Bielefeld]</td>\n",
       "      <td>33613</td>\n",
       "      <td>Bielefeld</td>\n",
       "      <td>Apfelstraße 75A</td>\n",
       "      <td>[Übersicht]</td>\n",
       "      <td>\"Come in and dance\" heißt es bei Pole Passion ...</td>\n",
       "      <td>info@polepassion.de</td>\n",
       "      <td>http://www.polepassion.de/</td>\n",
       "      <td>+49 017663169504</td>\n",
       "      <td>https://www.eversports.de/s/pole-passion-biele...</td>\n",
       "      <td>[(Noch keine Bewertungen), Poledance, Hip Hop,...</td>\n",
       "      <td>Kostenlos Schnuppern</td>\n",
       "      <td>2024-02-03 12:01:58</td>\n",
       "      <td>2024-02-03 12:01:58</td>\n",
       "    </tr>\n",
       "    <tr>\n",
       "      <th>156</th>\n",
       "      <td>Polea - Pole and Aerial Dance</td>\n",
       "      <td>[Budenheimer Parkallee 5 ,  55257 Budenheim]</td>\n",
       "      <td>55257</td>\n",
       "      <td>Budenheim</td>\n",
       "      <td>Budenheimer Parkallee 5</td>\n",
       "      <td>[Übersicht, Klassen, Workshops, Videos, Preise...</td>\n",
       "      <td>Das Polea - Pole and Aerial Dance ist dein Stu...</td>\n",
       "      <td>info.polea@googlemail.com</td>\n",
       "      <td>None</td>\n",
       "      <td>+49 17645911101</td>\n",
       "      <td>https://www.eversports.de/s/polea-pole-and-aer...</td>\n",
       "      <td>[Poledance, Aerial Yoga, Aerial Akrobatik, Tan...</td>\n",
       "      <td>Zum Stundenplan</td>\n",
       "      <td>2024-02-03 12:02:05</td>\n",
       "      <td>2024-02-03 12:02:05</td>\n",
       "    </tr>\n",
       "    <tr>\n",
       "      <th>157</th>\n",
       "      <td>Pole and Move Mannheim</td>\n",
       "      <td>[Edisonstraße 20 ,  68309 Mannheim]</td>\n",
       "      <td>68309</td>\n",
       "      <td>Mannheim</td>\n",
       "      <td>Edisonstraße 20</td>\n",
       "      <td>[Übersicht, Klassen, Workshops, Preise, Team]</td>\n",
       "      <td>Willkommen bei Pole and Move. Unsere Studios b...</td>\n",
       "      <td>team@poleandmove.de</td>\n",
       "      <td>https://poleandmove.de/</td>\n",
       "      <td>+49176 61653663</td>\n",
       "      <td>https://www.eversports.de/s/pole-and-move-mann...</td>\n",
       "      <td>[Fitness, Tanzen, Poledance, Poledance, Power ...</td>\n",
       "      <td>2 Angebote für Neukund:innen</td>\n",
       "      <td>2024-02-03 12:02:18</td>\n",
       "      <td>2024-02-03 12:02:18</td>\n",
       "    </tr>\n",
       "    <tr>\n",
       "      <th>158</th>\n",
       "      <td>The Supergirl Studio</td>\n",
       "      <td>[Brunngartenstraße 5a,  85221 Dachau]</td>\n",
       "      <td>85221</td>\n",
       "      <td>Dachau</td>\n",
       "      <td>Brunngartenstraße 5a</td>\n",
       "      <td>[Übersicht, Klassen, Preise, Team]</td>\n",
       "      <td>Trainiere mit uns im “THE SUPERGIRL STUDIO” in...</td>\n",
       "      <td>supergirl@poledance-dachau.de</td>\n",
       "      <td>http://www.poledance-dachau.de</td>\n",
       "      <td>+4915758721177</td>\n",
       "      <td>https://www.eversports.de/s/the-supergirl-studio</td>\n",
       "      <td>[Power Pole, Polesport, Poledance, Online Klas...</td>\n",
       "      <td>2 Angebote für Neukund:innen</td>\n",
       "      <td>2024-02-03 12:02:39</td>\n",
       "      <td>2024-02-03 12:02:39</td>\n",
       "    </tr>\n",
       "    <tr>\n",
       "      <th>159</th>\n",
       "      <td>FEEL GOOD FACTORY: Pole • Stretch • Fly</td>\n",
       "      <td>[Holsteinischer Kamp 37 ,  22081 Hamburg]</td>\n",
       "      <td>22081</td>\n",
       "      <td>Hamburg</td>\n",
       "      <td>Holsteinischer Kamp 37</td>\n",
       "      <td>[Übersicht, Klassen, Kurse, Events, Videos, Pr...</td>\n",
       "      <td>Die FEEL GOOD FACTORY ist ein Tanzstudio mit d...</td>\n",
       "      <td>team@feelgoodfactory-hamburg.de</td>\n",
       "      <td>http://www.feelgoodfactory-hamburg.de</td>\n",
       "      <td>None</td>\n",
       "      <td>https://www.eversports.de/s/feel-good-factory-...</td>\n",
       "      <td>[Poledance, Aerial Dance, Poledance, Aerial Da...</td>\n",
       "      <td>Zum Stundenplan</td>\n",
       "      <td>2024-02-03 12:02:44</td>\n",
       "      <td>2024-02-03 12:02:44</td>\n",
       "    </tr>\n",
       "  </tbody>\n",
       "</table>\n",
       "<p>160 rows × 15 columns</p>\n",
       "</div>"
      ],
      "text/plain": [
       "                             PoleStudio_Name  \\\n",
       "0                            SWISS MEGA PARK   \n",
       "1                                   POLEside   \n",
       "2                    CSS AERIAL DANCE STUDIO   \n",
       "3                                 Tanzteufel   \n",
       "4                            The Pole Jungle   \n",
       "..                                       ...   \n",
       "155                   Pole Passion Bielefeld   \n",
       "156            Polea - Pole and Aerial Dance   \n",
       "157                   Pole and Move Mannheim   \n",
       "158                     The Supergirl Studio   \n",
       "159  FEEL GOOD FACTORY: Pole • Stretch • Fly   \n",
       "\n",
       "                                             Adresse    PLZ        Stadt  \\\n",
       "0             [Schützenstrasse 2,  4402 Frenkendorf]   4402  Frenkendorf   \n",
       "1             [Saline 5 ,  74177 Bad Friedrichshall]  74177          Bad   \n",
       "2       [Hummelsbütteler Steindamm ,  22851 Hamburg]  22851      Hamburg   \n",
       "3    [Karl-Friedrich-Straße 76 ,  79312 Emmendingen]  79312  Emmendingen   \n",
       "4                 [Volksgartenstraße 19,  4020 Linz]   4020         Linz   \n",
       "..                                               ...    ...          ...   \n",
       "155              [Apfelstraße 75A,  33613 Bielefeld]  33613    Bielefeld   \n",
       "156     [Budenheimer Parkallee 5 ,  55257 Budenheim]  55257    Budenheim   \n",
       "157              [Edisonstraße 20 ,  68309 Mannheim]  68309     Mannheim   \n",
       "158            [Brunngartenstraße 5a,  85221 Dachau]  85221       Dachau   \n",
       "159        [Holsteinischer Kamp 37 ,  22081 Hamburg]  22081      Hamburg   \n",
       "\n",
       "                         Straße  \\\n",
       "0             Schützenstrasse 2   \n",
       "1                     Saline 5    \n",
       "2    Hummelsbütteler Steindamm    \n",
       "3     Karl-Friedrich-Straße 76    \n",
       "4          Volksgartenstraße 19   \n",
       "..                          ...   \n",
       "155             Apfelstraße 75A   \n",
       "156    Budenheimer Parkallee 5    \n",
       "157            Edisonstraße 20    \n",
       "158        Brunngartenstraße 5a   \n",
       "159     Holsteinischer Kamp 37    \n",
       "\n",
       "                                               Buttons  \\\n",
       "0                    [Übersicht, Sportplätze, Matches]   \n",
       "1    [Übersicht, Klassen, Kurse, Workshops, Videos,...   \n",
       "2            [Übersicht, Klassen, Kurse, Preise, Team]   \n",
       "3           [Übersicht, Klassen, Videos, Preise, Team]   \n",
       "4    [Übersicht, Klassen, Trainings, Kurse, Worksho...   \n",
       "..                                                 ...   \n",
       "155                                        [Übersicht]   \n",
       "156  [Übersicht, Klassen, Workshops, Videos, Preise...   \n",
       "157      [Übersicht, Klassen, Workshops, Preise, Team]   \n",
       "158                 [Übersicht, Klassen, Preise, Team]   \n",
       "159  [Übersicht, Klassen, Kurse, Events, Videos, Pr...   \n",
       "\n",
       "                              Pole Studio Beschreibung  \\\n",
       "0    Der SWISS MEGA PARK in Frenkendorf ist nicht n...   \n",
       "1    Willkommen bei POLEside!Lass Dich von uns mitr...   \n",
       "2    🌟 Herzlich willkommen im CSS AERIAL DANCE STUD...   \n",
       "3    In den beiden großen und offenen Studios in Em...   \n",
       "4    Wie der Name bereits sagt erwartet euch ein gr...   \n",
       "..                                                 ...   \n",
       "155  \"Come in and dance\" heißt es bei Pole Passion ...   \n",
       "156  Das Polea - Pole and Aerial Dance ist dein Stu...   \n",
       "157  Willkommen bei Pole and Move. Unsere Studios b...   \n",
       "158  Trainiere mit uns im “THE SUPERGIRL STUDIO” in...   \n",
       "159  Die FEEL GOOD FACTORY ist ein Tanzstudio mit d...   \n",
       "\n",
       "                               E-Mail                               Homepage  \\\n",
       "0            kontakt@swissmegapark.ch           http://www.swissmegapark.ch/   \n",
       "1                    info@poleside.de                    http://poleside.de/   \n",
       "2                CorinnaSchatz@gmx.de    http://www.cssaerialdancestudio.com   \n",
       "3       info@tanzteufel-poledance.com    http://www.tanzteufel-poledance.com   \n",
       "4             hello@thepolejungle.com           http://www.thepolejungle.com   \n",
       "..                                ...                                    ...   \n",
       "155               info@polepassion.de             http://www.polepassion.de/   \n",
       "156         info.polea@googlemail.com                                   None   \n",
       "157               team@poleandmove.de                https://poleandmove.de/   \n",
       "158     supergirl@poledance-dachau.de         http://www.poledance-dachau.de   \n",
       "159   team@feelgoodfactory-hamburg.de  http://www.feelgoodfactory-hamburg.de   \n",
       "\n",
       "                 Telefon                                              URL_S  \\\n",
       "0       +41 61 901 76 64        https://www.eversports.de/s/swiss-mega-park   \n",
       "1        0176 870 191 81               https://www.eversports.de/s/poleside   \n",
       "2         +4915224340258  https://www.eversports.de/s/css-aerial-dance-s...   \n",
       "3        +49 162 7817549             https://www.eversports.de/s/tanzteufel   \n",
       "4    +43 677 647 33 8 00        https://www.eversports.de/s/the-pole-jungle   \n",
       "..                   ...                                                ...   \n",
       "155     +49 017663169504  https://www.eversports.de/s/pole-passion-biele...   \n",
       "156      +49 17645911101  https://www.eversports.de/s/polea-pole-and-aer...   \n",
       "157      +49176 61653663  https://www.eversports.de/s/pole-and-move-mann...   \n",
       "158       +4915758721177   https://www.eversports.de/s/the-supergirl-studio   \n",
       "159                 None  https://www.eversports.de/s/feel-good-factory-...   \n",
       "\n",
       "                                                   Art  \\\n",
       "0    [12 Rezensionen, Tennis, Badminton, Basketball...   \n",
       "1    [Poledance, Fitness, Aerial Yoga, Polesport, P...   \n",
       "2    [Flexibles Training, Poledance, Poledance, Pol...   \n",
       "3    [Poledance, Power Pole, Poledance, Poledance, ...   \n",
       "4    [Poledance, Poledance, Poledance, Poledance, P...   \n",
       "..                                                 ...   \n",
       "155  [(Noch keine Bewertungen), Poledance, Hip Hop,...   \n",
       "156  [Poledance, Aerial Yoga, Aerial Akrobatik, Tan...   \n",
       "157  [Fitness, Tanzen, Poledance, Poledance, Power ...   \n",
       "158  [Power Pole, Polesport, Poledance, Online Klas...   \n",
       "159  [Poledance, Aerial Dance, Poledance, Aerial Da...   \n",
       "\n",
       "                          Angebot         Created Date         Updated Date  \n",
       "0                            None  2024-02-03 11:30:00  2024-02-03 11:30:00  \n",
       "1                 Zum Stundenplan  2024-02-03 11:30:08  2024-02-03 11:30:08  \n",
       "2                 Zum Stundenplan  2024-02-03 11:30:24  2024-02-03 11:30:24  \n",
       "3     1 Angebot für Neukund:innen  2024-02-03 11:30:32  2024-02-03 11:30:32  \n",
       "4                 Zum Stundenplan  2024-02-03 11:30:39  2024-02-03 11:30:39  \n",
       "..                            ...                  ...                  ...  \n",
       "155          Kostenlos Schnuppern  2024-02-03 12:01:58  2024-02-03 12:01:58  \n",
       "156               Zum Stundenplan  2024-02-03 12:02:05  2024-02-03 12:02:05  \n",
       "157  2 Angebote für Neukund:innen  2024-02-03 12:02:18  2024-02-03 12:02:18  \n",
       "158  2 Angebote für Neukund:innen  2024-02-03 12:02:39  2024-02-03 12:02:39  \n",
       "159               Zum Stundenplan  2024-02-03 12:02:44  2024-02-03 12:02:44  \n",
       "\n",
       "[160 rows x 15 columns]"
      ]
     },
     "execution_count": 8,
     "metadata": {},
     "output_type": "execute_result"
    }
   ],
   "source": [
    "result_pole_studio"
   ]
  },
  {
   "cell_type": "code",
   "execution_count": 9,
   "metadata": {},
   "outputs": [
    {
     "data": {
      "text/html": [
       "<div>\n",
       "<style scoped>\n",
       "    .dataframe tbody tr th:only-of-type {\n",
       "        vertical-align: middle;\n",
       "    }\n",
       "\n",
       "    .dataframe tbody tr th {\n",
       "        vertical-align: top;\n",
       "    }\n",
       "\n",
       "    .dataframe thead th {\n",
       "        text-align: right;\n",
       "    }\n",
       "</style>\n",
       "<table border=\"1\" class=\"dataframe\">\n",
       "  <thead>\n",
       "    <tr style=\"text-align: right;\">\n",
       "      <th></th>\n",
       "      <th>Workshop Name</th>\n",
       "      <th>Description</th>\n",
       "      <th>Studio Name</th>\n",
       "      <th>Location</th>\n",
       "      <th>Level</th>\n",
       "      <th>Date</th>\n",
       "      <th>URL_E</th>\n",
       "      <th>Time</th>\n",
       "    </tr>\n",
       "  </thead>\n",
       "  <tbody>\n",
       "    <tr>\n",
       "      <th>0</th>\n",
       "      <td>Workshop mit @bou_boulette (Janine Hollung)</td>\n",
       "      <td>Am Samstag den 02.03.2024 dürfen wir Janine al...</td>\n",
       "      <td>POLEside</td>\n",
       "      <td>Ticket für Sa. 02.03.2024, 16:00 - 17:30</td>\n",
       "      <td>Poledance</td>\n",
       "      <td>Beginnt am Samstag, 2. März 2024</td>\n",
       "      <td>https://www.eversports.de/e/workshop/llCPKoMLh</td>\n",
       "      <td>Weststraße 1, 74193 Schwaigern</td>\n",
       "    </tr>\n",
       "    <tr>\n",
       "      <th>1</th>\n",
       "      <td>Einsteiger-Workshop</td>\n",
       "      <td>Nach einem gemütlichen Kennenlernen beginnen w...</td>\n",
       "      <td>Star Poledance</td>\n",
       "      <td>Einsteiger-Workshop</td>\n",
       "      <td>Poledance</td>\n",
       "      <td>Samstag, 10. Februar 2024</td>\n",
       "      <td>https://www.eversports.de/e/workshop/jZ6LjEO</td>\n",
       "      <td>18:00 - 20:00</td>\n",
       "    </tr>\n",
       "    <tr>\n",
       "      <th>2</th>\n",
       "      <td>Seductive Sunday  - Floorwork</td>\n",
       "      <td>Teasen, Fühlen , stark und weiblich sein . Anm...</td>\n",
       "      <td>Da Becca Flow and Fit</td>\n",
       "      <td>Einzelticket</td>\n",
       "      <td>Floorwork</td>\n",
       "      <td>Sonntag, 25. Februar 2024</td>\n",
       "      <td>https://www.eversports.de/e/workshop/2z_srY0</td>\n",
       "      <td>15:00 - 16:30</td>\n",
       "    </tr>\n",
       "    <tr>\n",
       "      <th>3</th>\n",
       "      <td>Seductive Sunday  - Pole</td>\n",
       "      <td>Teasen, Fühlen , stark und weiblich sein . Anm...</td>\n",
       "      <td>Da Becca Flow and Fit</td>\n",
       "      <td>Einzelticket</td>\n",
       "      <td>Poledance</td>\n",
       "      <td>Sonntag, 25. Februar 2024</td>\n",
       "      <td>https://www.eversports.de/e/workshop/o5_MV7J</td>\n",
       "      <td>17:00 - 18:30</td>\n",
       "    </tr>\n",
       "    <tr>\n",
       "      <th>4</th>\n",
       "      <td>Rock the Pole. A Trilogie.</td>\n",
       "      <td>Ihr zahlt einmalig für alle drei stunden zusam...</td>\n",
       "      <td>Da Becca Flow and Fit</td>\n",
       "      <td>5er Karte (Neukunden bitte vorher eine email a...</td>\n",
       "      <td>Poledance</td>\n",
       "      <td>Beginnt am Samstag, 9. März 2024</td>\n",
       "      <td>https://www.eversports.de/e/workshop/0u01Mza</td>\n",
       "      <td>Eickeler Markt 3A, 44651 Herne</td>\n",
       "    </tr>\n",
       "    <tr>\n",
       "      <th>...</th>\n",
       "      <td>...</td>\n",
       "      <td>...</td>\n",
       "      <td>...</td>\n",
       "      <td>...</td>\n",
       "      <td>...</td>\n",
       "      <td>...</td>\n",
       "      <td>...</td>\n",
       "      <td>...</td>\n",
       "    </tr>\n",
       "    <tr>\n",
       "      <th>302</th>\n",
       "      <td>Handstand Workshop</td>\n",
       "      <td>Du möchtest gerne den Handstand lernen und dir...</td>\n",
       "      <td>Pole and Move Mannheim</td>\n",
       "      <td>Edisonstraße 20, 68309 Mannheim</td>\n",
       "      <td>Poledance</td>\n",
       "      <td>Samstag, 9. März 2024</td>\n",
       "      <td>https://www.eversports.de/e/workshop/gbofUBp</td>\n",
       "      <td>12:30 - 13:40</td>\n",
       "    </tr>\n",
       "    <tr>\n",
       "      <th>303</th>\n",
       "      <td>Aerial Hoop Choreo Workshop</td>\n",
       "      <td>Aerial Hoop, auch Luftring oder Lyra genannt, ...</td>\n",
       "      <td>Pole and Move Mannheim</td>\n",
       "      <td>Edisonstraße 20, 68309 Mannheim</td>\n",
       "      <td>Aerial Hoop</td>\n",
       "      <td>Samstag, 9. März 2024</td>\n",
       "      <td>https://www.eversports.de/e/workshop/NFfn_y6</td>\n",
       "      <td>13:45 - 14:55</td>\n",
       "    </tr>\n",
       "    <tr>\n",
       "      <th>304</th>\n",
       "      <td>We love Pancakes - mit Caroline Lange</td>\n",
       "      <td>Dieser Workshop beginnt mit intensiven Stretch...</td>\n",
       "      <td>Pole and Move Mannheim</td>\n",
       "      <td>Edisonstraße 20, 68309 Mannheim</td>\n",
       "      <td>Poledance</td>\n",
       "      <td>Freitag, 22. März 2024</td>\n",
       "      <td>https://www.eversports.de/e/workshop/miY7n0b</td>\n",
       "      <td>19:10 - 20:40</td>\n",
       "    </tr>\n",
       "    <tr>\n",
       "      <th>305</th>\n",
       "      <td>Aerial Hoop Choreo Workshop</td>\n",
       "      <td>Aerial Hoop, auch Luftring oder Lyra genannt, ...</td>\n",
       "      <td>Pole and Move Mannheim</td>\n",
       "      <td>Edisonstraße 20, 68309 Mannheim</td>\n",
       "      <td>Aerial Hoop</td>\n",
       "      <td>Samstag, 13. April 2024</td>\n",
       "      <td>https://www.eversports.de/e/workshop/C9b62JT</td>\n",
       "      <td>12:30 - 13:40</td>\n",
       "    </tr>\n",
       "    <tr>\n",
       "      <th>306</th>\n",
       "      <td>Handstand Workshop</td>\n",
       "      <td>Du möchtest gerne den Handstand lernen und dir...</td>\n",
       "      <td>Pole and Move Mannheim</td>\n",
       "      <td>Edisonstraße 20, 68309 Mannheim</td>\n",
       "      <td>Poledance</td>\n",
       "      <td>Samstag, 13. April 2024</td>\n",
       "      <td>https://www.eversports.de/e/workshop/0fonSE4</td>\n",
       "      <td>13:45 - 14:55</td>\n",
       "    </tr>\n",
       "  </tbody>\n",
       "</table>\n",
       "<p>307 rows × 8 columns</p>\n",
       "</div>"
      ],
      "text/plain": [
       "                                   Workshop Name  \\\n",
       "0    Workshop mit @bou_boulette (Janine Hollung)   \n",
       "1                            Einsteiger-Workshop   \n",
       "2                  Seductive Sunday  - Floorwork   \n",
       "3                       Seductive Sunday  - Pole   \n",
       "4                     Rock the Pole. A Trilogie.   \n",
       "..                                           ...   \n",
       "302                           Handstand Workshop   \n",
       "303                  Aerial Hoop Choreo Workshop   \n",
       "304        We love Pancakes - mit Caroline Lange   \n",
       "305                  Aerial Hoop Choreo Workshop   \n",
       "306                           Handstand Workshop   \n",
       "\n",
       "                                           Description  \\\n",
       "0    Am Samstag den 02.03.2024 dürfen wir Janine al...   \n",
       "1    Nach einem gemütlichen Kennenlernen beginnen w...   \n",
       "2    Teasen, Fühlen , stark und weiblich sein . Anm...   \n",
       "3    Teasen, Fühlen , stark und weiblich sein . Anm...   \n",
       "4    Ihr zahlt einmalig für alle drei stunden zusam...   \n",
       "..                                                 ...   \n",
       "302  Du möchtest gerne den Handstand lernen und dir...   \n",
       "303  Aerial Hoop, auch Luftring oder Lyra genannt, ...   \n",
       "304  Dieser Workshop beginnt mit intensiven Stretch...   \n",
       "305  Aerial Hoop, auch Luftring oder Lyra genannt, ...   \n",
       "306  Du möchtest gerne den Handstand lernen und dir...   \n",
       "\n",
       "                Studio Name  \\\n",
       "0                  POLEside   \n",
       "1            Star Poledance   \n",
       "2     Da Becca Flow and Fit   \n",
       "3     Da Becca Flow and Fit   \n",
       "4     Da Becca Flow and Fit   \n",
       "..                      ...   \n",
       "302  Pole and Move Mannheim   \n",
       "303  Pole and Move Mannheim   \n",
       "304  Pole and Move Mannheim   \n",
       "305  Pole and Move Mannheim   \n",
       "306  Pole and Move Mannheim   \n",
       "\n",
       "                                              Location        Level  \\\n",
       "0             Ticket für Sa. 02.03.2024, 16:00 - 17:30    Poledance   \n",
       "1                                  Einsteiger-Workshop    Poledance   \n",
       "2                                         Einzelticket    Floorwork   \n",
       "3                                         Einzelticket    Poledance   \n",
       "4    5er Karte (Neukunden bitte vorher eine email a...    Poledance   \n",
       "..                                                 ...          ...   \n",
       "302                    Edisonstraße 20, 68309 Mannheim    Poledance   \n",
       "303                    Edisonstraße 20, 68309 Mannheim  Aerial Hoop   \n",
       "304                    Edisonstraße 20, 68309 Mannheim    Poledance   \n",
       "305                    Edisonstraße 20, 68309 Mannheim  Aerial Hoop   \n",
       "306                    Edisonstraße 20, 68309 Mannheim    Poledance   \n",
       "\n",
       "                                 Date  \\\n",
       "0    Beginnt am Samstag, 2. März 2024   \n",
       "1           Samstag, 10. Februar 2024   \n",
       "2           Sonntag, 25. Februar 2024   \n",
       "3           Sonntag, 25. Februar 2024   \n",
       "4    Beginnt am Samstag, 9. März 2024   \n",
       "..                                ...   \n",
       "302             Samstag, 9. März 2024   \n",
       "303             Samstag, 9. März 2024   \n",
       "304            Freitag, 22. März 2024   \n",
       "305           Samstag, 13. April 2024   \n",
       "306           Samstag, 13. April 2024   \n",
       "\n",
       "                                              URL_E  \\\n",
       "0    https://www.eversports.de/e/workshop/llCPKoMLh   \n",
       "1      https://www.eversports.de/e/workshop/jZ6LjEO   \n",
       "2      https://www.eversports.de/e/workshop/2z_srY0   \n",
       "3      https://www.eversports.de/e/workshop/o5_MV7J   \n",
       "4      https://www.eversports.de/e/workshop/0u01Mza   \n",
       "..                                              ...   \n",
       "302    https://www.eversports.de/e/workshop/gbofUBp   \n",
       "303    https://www.eversports.de/e/workshop/NFfn_y6   \n",
       "304    https://www.eversports.de/e/workshop/miY7n0b   \n",
       "305    https://www.eversports.de/e/workshop/C9b62JT   \n",
       "306    https://www.eversports.de/e/workshop/0fonSE4   \n",
       "\n",
       "                               Time  \n",
       "0    Weststraße 1, 74193 Schwaigern  \n",
       "1                     18:00 - 20:00  \n",
       "2                     15:00 - 16:30  \n",
       "3                     17:00 - 18:30  \n",
       "4    Eickeler Markt 3A, 44651 Herne  \n",
       "..                              ...  \n",
       "302                   12:30 - 13:40  \n",
       "303                   13:45 - 14:55  \n",
       "304                   19:10 - 20:40  \n",
       "305                   12:30 - 13:40  \n",
       "306                   13:45 - 14:55  \n",
       "\n",
       "[307 rows x 8 columns]"
      ]
     },
     "execution_count": 9,
     "metadata": {},
     "output_type": "execute_result"
    }
   ],
   "source": [
    "result_workshop_details"
   ]
  },
  {
   "cell_type": "markdown",
   "metadata": {},
   "source": [
    "Tools"
   ]
  },
  {
   "cell_type": "code",
   "execution_count": 6,
   "metadata": {},
   "outputs": [],
   "source": [
    "import pandas as pd\n",
    "\n",
    "def clean_and_unique_urls(input_csv, output_csv):\n",
    "    # Read the CSV file\n",
    "    df = pd.read_csv(input_csv, sep=',', header=None, names=[\"Index\", \"URL\"])\n",
    "\n",
    "    # Clean the URLs\n",
    "    df['Cleaned_URL'] = df['URL'].apply(lambda url: '-'.join(filter(None, url.split('-'))))\n",
    "\n",
    "    # Remove duplicate URLs\n",
    "    df = df.drop_duplicates(subset=['Cleaned_URL'])\n",
    "\n",
    "    # Save the cleaned and unique URLs to a new CSV file\n",
    "    df[['Index', 'Cleaned_URL']].to_csv(output_csv, index=False, header=None)\n",
    "\n",
    "# Example usage\n",
    "input_csv = \"all_found_urls_23.12.23_cleaned_cleaned.csv\"  # Replace with the actual path to your CSV file\n",
    "output_csv = \"your_output_file.csv\"  # Replace with the desired output path\n",
    "\n",
    "clean_and_unique_urls(input_csv, output_csv)\n"
   ]
  }
 ],
 "metadata": {
  "kernelspec": {
   "display_name": "Python 3",
   "language": "python",
   "name": "python3"
  },
  "language_info": {
   "codemirror_mode": {
    "name": "ipython",
    "version": 3
   },
   "file_extension": ".py",
   "mimetype": "text/x-python",
   "name": "python",
   "nbconvert_exporter": "python",
   "pygments_lexer": "ipython3",
   "version": "3.12.1"
  }
 },
 "nbformat": 4,
 "nbformat_minor": 2
}
