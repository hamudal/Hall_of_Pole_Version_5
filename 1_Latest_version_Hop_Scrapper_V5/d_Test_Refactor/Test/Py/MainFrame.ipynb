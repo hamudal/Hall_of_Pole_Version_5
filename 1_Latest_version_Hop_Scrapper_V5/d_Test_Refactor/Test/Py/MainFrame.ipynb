{
 "cells": [
  {
   "cell_type": "code",
   "execution_count": 2,
   "metadata": {},
   "outputs": [
    {
     "name": "stderr",
     "output_type": "stream",
     "text": [
      "Processing URLs:   0%|          | 0/10 [00:00<?, ?it/s]"
     ]
    },
    {
     "name": "stdout",
     "output_type": "stream",
     "text": [
      "Processing URL 1/10: https://www.eversports.de/s/secret-moves---athletic-dance-studio\n",
      "Processing URL: https://www.eversports.de/s/secret-moves---athletic-dance-studio\n",
      "Starting URL reconstruction...\n"
     ]
    },
    {
     "name": "stderr",
     "output_type": "stream",
     "text": [
      "Processing URLs:  10%|█         | 1/10 [00:01<00:11,  1.23s/it]"
     ]
    },
    {
     "name": "stdout",
     "output_type": "stream",
     "text": [
      "Error during HTTP request: 404 Client Error: Not Found for url: https://www.eversports.de/s/secret-moves---athletic-dance-studio\n",
      "Converting to DataFrame...\n",
      "Validating URLs...\n",
      "Processing completed.\n",
      "\n",
      "Results for URL: https://www.eversports.de/s/secret-moves---athletic-dance-studio\n",
      "Progress: 10.00%\n",
      "\n",
      "Processing URL 2/10: https://www.eversports.de/s/CSS-AERIAL-DANCE-STUDIO\n",
      "Processing URL: https://www.eversports.de/s/CSS-AERIAL-DANCE-STUDIO\n",
      "Starting URL reconstruction...\n"
     ]
    },
    {
     "name": "stderr",
     "output_type": "stream",
     "text": [
      "2024-02-01 21:31:53,011 - INFO - Processing URL 1/3: https://www.eversports.de/s/CSS-AERIAL-DANCE-STUDIO\n"
     ]
    },
    {
     "name": "stdout",
     "output_type": "stream",
     "text": [
      "Error reconstructing URL for 'Kurse': Unrecognized text: 'Kurse'\n",
      "Converting to DataFrame...\n",
      "Validating URLs...\n"
     ]
    },
    {
     "name": "stderr",
     "output_type": "stream",
     "text": [
      "2024-02-01 21:31:54,472 - INFO - URL https://www.eversports.de/s/CSS-AERIAL-DANCE-STUDIO is valid.\n",
      "2024-02-01 21:31:54,473 - INFO - Processing URL 2/3: https://www.eversports.de/sp/CSS-AERIAL-DANCE-STUDIO\n",
      "2024-02-01 21:31:55,622 - INFO - URL https://www.eversports.de/sp/CSS-AERIAL-DANCE-STUDIO is valid.\n",
      "2024-02-01 21:31:55,623 - INFO - Processing URL 3/3: https://www.eversports.de/s/CSS-AERIAL-DANCE-STUDIO/team\n",
      "2024-02-01 21:31:56,886 - INFO - URL https://www.eversports.de/s/CSS-AERIAL-DANCE-STUDIO/team is valid.\n"
     ]
    },
    {
     "name": "stdout",
     "output_type": "stream",
     "text": [
      "Scraping Pole Studio Data from https://www.eversports.de/s/CSS-AERIAL-DANCE-STUDIO...\n"
     ]
    },
    {
     "name": "stderr",
     "output_type": "stream",
     "text": [
      "Processing URLs:  20%|██        | 2/10 [00:08<00:36,  4.60s/it]"
     ]
    },
    {
     "name": "stdout",
     "output_type": "stream",
     "text": [
      "Processing completed.\n",
      "\n",
      "Results for URL: https://www.eversports.de/s/CSS-AERIAL-DANCE-STUDIO\n",
      "Pole Studio Data:\n",
      "\n",
      "\n",
      "Progress: 20.00%\n",
      "\n",
      "Processing URL 3/10: https://www.eversports.de/s/yoga-vidya-burgdorf\n",
      "Processing URL: https://www.eversports.de/s/yoga-vidya-burgdorf\n",
      "Starting URL reconstruction...\n"
     ]
    },
    {
     "name": "stderr",
     "output_type": "stream",
     "text": [
      "2024-02-01 21:31:59,952 - INFO - Processing URL 1/3: https://www.eversports.de/s/yoga-vidya-burgdorf\n"
     ]
    },
    {
     "name": "stdout",
     "output_type": "stream",
     "text": [
      "Error reconstructing URL for 'Kurse': Unrecognized text: 'Kurse'\n",
      "Error reconstructing URL for 'Retreats': Unrecognized text: 'Retreats'\n",
      "Converting to DataFrame...\n",
      "Validating URLs...\n"
     ]
    },
    {
     "name": "stderr",
     "output_type": "stream",
     "text": [
      "2024-02-01 21:32:01,552 - INFO - URL https://www.eversports.de/s/yoga-vidya-burgdorf is valid.\n",
      "2024-02-01 21:32:01,553 - INFO - Processing URL 2/3: https://www.eversports.de/sp/yoga-vidya-burgdorf\n",
      "2024-02-01 21:32:03,418 - INFO - URL https://www.eversports.de/sp/yoga-vidya-burgdorf is valid.\n",
      "2024-02-01 21:32:03,419 - INFO - Processing URL 3/3: https://www.eversports.de/s/yoga-vidya-burgdorf/team\n",
      "2024-02-01 21:32:04,746 - INFO - URL https://www.eversports.de/s/yoga-vidya-burgdorf/team is valid.\n"
     ]
    },
    {
     "name": "stdout",
     "output_type": "stream",
     "text": [
      "Scraping Pole Studio Data from https://www.eversports.de/s/yoga-vidya-burgdorf...\n"
     ]
    },
    {
     "name": "stderr",
     "output_type": "stream",
     "text": [
      "Processing URLs:  30%|███       | 3/10 [00:15<00:40,  5.74s/it]"
     ]
    },
    {
     "name": "stdout",
     "output_type": "stream",
     "text": [
      "Processing completed.\n",
      "\n",
      "Results for URL: https://www.eversports.de/s/yoga-vidya-burgdorf\n",
      "Pole Studio Data:\n",
      "\n",
      "\n",
      "Progress: 30.00%\n",
      "\n",
      "Processing URL 4/10: https://www.eversports.de/s/Pole-Statement\n",
      "Processing URL: https://www.eversports.de/s/Pole-Statement\n",
      "Starting URL reconstruction...\n"
     ]
    },
    {
     "name": "stderr",
     "output_type": "stream",
     "text": [
      "2024-02-01 21:32:07,511 - INFO - Processing URL 1/3: https://www.eversports.de/s/Pole-Statement\n"
     ]
    },
    {
     "name": "stdout",
     "output_type": "stream",
     "text": [
      "Error reconstructing URL for 'Kurse': Unrecognized text: 'Kurse'\n",
      "Error reconstructing URL for 'Events': Unrecognized text: 'Events'\n",
      "Converting to DataFrame...\n",
      "Validating URLs...\n"
     ]
    },
    {
     "name": "stderr",
     "output_type": "stream",
     "text": [
      "2024-02-01 21:32:09,547 - INFO - URL https://www.eversports.de/s/Pole-Statement is valid.\n",
      "2024-02-01 21:32:09,548 - INFO - Processing URL 2/3: https://www.eversports.de/sp/Pole-Statement\n",
      "2024-02-01 21:32:10,674 - INFO - URL https://www.eversports.de/sp/Pole-Statement is valid.\n",
      "2024-02-01 21:32:10,676 - INFO - Processing URL 3/3: https://www.eversports.de/s/Pole-Statement/team\n",
      "2024-02-01 21:32:11,916 - INFO - URL https://www.eversports.de/s/Pole-Statement/team is valid.\n"
     ]
    },
    {
     "name": "stdout",
     "output_type": "stream",
     "text": [
      "Scraping Pole Studio Data from https://www.eversports.de/s/Pole-Statement...\n"
     ]
    },
    {
     "name": "stderr",
     "output_type": "stream",
     "text": [
      "Processing URLs:  40%|████      | 4/10 [00:22<00:37,  6.19s/it]"
     ]
    },
    {
     "name": "stdout",
     "output_type": "stream",
     "text": [
      "Processing completed.\n",
      "\n",
      "Results for URL: https://www.eversports.de/s/Pole-Statement\n",
      "Pole Studio Data:\n",
      "\n",
      "\n",
      "Progress: 40.00%\n",
      "\n",
      "Processing URL 5/10: https://www.eversports.de/s/studio-yh-pole-(and)-sports-berlin\n",
      "Processing URL: https://www.eversports.de/s/studio-yh-pole-(and)-sports-berlin\n",
      "Starting URL reconstruction...\n"
     ]
    },
    {
     "name": "stderr",
     "output_type": "stream",
     "text": [
      "Processing URLs:  50%|█████     | 5/10 [00:23<00:21,  4.35s/it]"
     ]
    },
    {
     "name": "stdout",
     "output_type": "stream",
     "text": [
      "Error during HTTP request: 404 Client Error: Not Found for url: https://www.eversports.de/s/studio-yh-pole-(and)-sports-berlin\n",
      "Converting to DataFrame...\n",
      "Validating URLs...\n",
      "Processing completed.\n",
      "\n",
      "Results for URL: https://www.eversports.de/s/studio-yh-pole-(and)-sports-berlin\n",
      "Progress: 50.00%\n",
      "\n",
      "Processing URL 6/10: https://www.eversports.de/s/Pole-and-Move-Heidelberg\n",
      "Processing URL: https://www.eversports.de/s/Pole-and-Move-Heidelberg\n",
      "Starting URL reconstruction...\n"
     ]
    },
    {
     "name": "stderr",
     "output_type": "stream",
     "text": [
      "2024-02-01 21:32:14,949 - INFO - Processing URL 1/4: https://www.eversports.de/s/Pole-and-Move-Heidelberg\n"
     ]
    },
    {
     "name": "stdout",
     "output_type": "stream",
     "text": [
      "Converting to DataFrame...\n",
      "Validating URLs...\n"
     ]
    },
    {
     "name": "stderr",
     "output_type": "stream",
     "text": [
      "2024-02-01 21:32:16,393 - INFO - URL https://www.eversports.de/s/Pole-and-Move-Heidelberg is valid.\n",
      "2024-02-01 21:32:16,394 - INFO - Processing URL 2/4: https://www.eversports.de/sw/Pole-and-Move-Heidelberg\n",
      "2024-02-01 21:32:17,841 - INFO - URL https://www.eversports.de/sw/Pole-and-Move-Heidelberg is valid.\n",
      "2024-02-01 21:32:17,842 - INFO - Processing URL 3/4: https://www.eversports.de/sp/Pole-and-Move-Heidelberg\n",
      "2024-02-01 21:32:19,008 - INFO - URL https://www.eversports.de/sp/Pole-and-Move-Heidelberg is valid.\n",
      "2024-02-01 21:32:19,008 - INFO - Processing URL 4/4: https://www.eversports.de/s/Pole-and-Move-Heidelberg/team\n",
      "2024-02-01 21:32:20,962 - INFO - URL https://www.eversports.de/s/Pole-and-Move-Heidelberg/team is valid.\n"
     ]
    },
    {
     "name": "stdout",
     "output_type": "stream",
     "text": [
      "Scraping Pole Studio Data from https://www.eversports.de/s/Pole-and-Move-Heidelberg...\n",
      "Scraping Workshops Data from https://www.eversports.de/sw/Pole-and-Move-Heidelberg...\n",
      "Scraping Workshop Details from https://www.eversports.de/e/workshop/VYi81mK...\n",
      "Scraping Workshop Details from https://www.eversports.de/e/workshop/101RSFR...\n",
      "Scraping Workshop Details from https://www.eversports.de/e/workshop/AnumKko...\n",
      "Scraping Workshop Details from https://www.eversports.de/e/workshop/aqDwRxt...\n",
      "Scraping Workshop Details from https://www.eversports.de/e/workshop/xpUUbAx...\n",
      "Scraping Workshop Details from https://www.eversports.de/e/workshop/yXAMy8l...\n",
      "Scraping Workshop Details from https://www.eversports.de/e/workshop/mI91ydw...\n",
      "Scraping Workshop Details from https://www.eversports.de/e/workshop/Ngcpd4l...\n",
      "Scraping Workshop Details from https://www.eversports.de/e/workshop/ij8VZCH...\n"
     ]
    },
    {
     "name": "stderr",
     "output_type": "stream",
     "text": [
      "Processing URLs:  60%|██████    | 6/10 [00:45<00:41, 10.32s/it]"
     ]
    },
    {
     "name": "stdout",
     "output_type": "stream",
     "text": [
      "Processing completed.\n",
      "\n",
      "Results for URL: https://www.eversports.de/s/Pole-and-Move-Heidelberg\n",
      "Pole Studio Data:\n",
      "\n",
      "\n",
      "Workshops Data:\n",
      "\n",
      "\n",
      "Workshop Details:\n",
      "\n",
      "\n",
      "Progress: 60.00%\n",
      "\n",
      "Processing URL 7/10: https://www.eversports.de/s/BALANCE-Neumarkt\n",
      "Processing URL: https://www.eversports.de/s/BALANCE-Neumarkt\n",
      "Starting URL reconstruction...\n"
     ]
    },
    {
     "name": "stderr",
     "output_type": "stream",
     "text": [
      "2024-02-01 21:32:36,925 - INFO - Processing URL 1/4: https://www.eversports.de/s/BALANCE-Neumarkt\n"
     ]
    },
    {
     "name": "stdout",
     "output_type": "stream",
     "text": [
      "Error reconstructing URL for 'Kurse': Unrecognized text: 'Kurse'\n",
      "Converting to DataFrame...\n",
      "Validating URLs...\n"
     ]
    },
    {
     "name": "stderr",
     "output_type": "stream",
     "text": [
      "2024-02-01 21:32:38,612 - INFO - URL https://www.eversports.de/s/BALANCE-Neumarkt is valid.\n",
      "2024-02-01 21:32:38,613 - INFO - Processing URL 2/4: https://www.eversports.de/sw/BALANCE-Neumarkt\n",
      "2024-02-01 21:32:40,069 - INFO - URL https://www.eversports.de/sw/BALANCE-Neumarkt is valid.\n",
      "2024-02-01 21:32:40,071 - INFO - Processing URL 3/4: https://www.eversports.de/sp/BALANCE-Neumarkt\n",
      "Processing URLs:  60%|██████    | 6/10 [00:50<00:33,  8.48s/it]\n"
     ]
    },
    {
     "ename": "KeyboardInterrupt",
     "evalue": "",
     "output_type": "error",
     "traceback": [
      "\u001b[1;31m---------------------------------------------------------------------------\u001b[0m",
      "\u001b[1;31mKeyboardInterrupt\u001b[0m                         Traceback (most recent call last)",
      "Cell \u001b[1;32mIn[2], line 56\u001b[0m\n\u001b[0;32m     50\u001b[0m     \u001b[38;5;66;03m# # Export DataFrames to CSV files\u001b[39;00m\n\u001b[0;32m     51\u001b[0m     \u001b[38;5;66;03m# all_pole_studio_data.to_csv(\"Pole_Studio_Übersicht_S.csv\", index=False)\u001b[39;00m\n\u001b[0;32m     52\u001b[0m     \u001b[38;5;66;03m# all_workshops_data.to_csv(\"Workshop_Liste_SW.csv\", index=False)\u001b[39;00m\n\u001b[0;32m     53\u001b[0m     \u001b[38;5;66;03m# all_workshop_details_data.to_csv(\"Workshop_Übersicht_E.csv\", index=False)\u001b[39;00m\n\u001b[0;32m     55\u001b[0m \u001b[38;5;28;01mif\u001b[39;00m \u001b[38;5;18m__name__\u001b[39m \u001b[38;5;241m==\u001b[39m \u001b[38;5;124m\"\u001b[39m\u001b[38;5;124m__main__\u001b[39m\u001b[38;5;124m\"\u001b[39m:\n\u001b[1;32m---> 56\u001b[0m     \u001b[43mmain\u001b[49m\u001b[43m(\u001b[49m\u001b[43m)\u001b[49m\n",
      "Cell \u001b[1;32mIn[2], line 34\u001b[0m, in \u001b[0;36mmain\u001b[1;34m()\u001b[0m\n\u001b[0;32m     32\u001b[0m \u001b[38;5;28;01mfor\u001b[39;00m i, url \u001b[38;5;129;01min\u001b[39;00m tqdm(\u001b[38;5;28menumerate\u001b[39m(initial_urls, start\u001b[38;5;241m=\u001b[39m\u001b[38;5;241m1\u001b[39m), total\u001b[38;5;241m=\u001b[39mtotal_urls, desc\u001b[38;5;241m=\u001b[39m\u001b[38;5;124m\"\u001b[39m\u001b[38;5;124mProcessing URLs\u001b[39m\u001b[38;5;124m\"\u001b[39m):\n\u001b[0;32m     33\u001b[0m     \u001b[38;5;28mprint\u001b[39m(\u001b[38;5;124mf\u001b[39m\u001b[38;5;124m\"\u001b[39m\u001b[38;5;124mProcessing URL \u001b[39m\u001b[38;5;132;01m{\u001b[39;00mi\u001b[38;5;132;01m}\u001b[39;00m\u001b[38;5;124m/\u001b[39m\u001b[38;5;132;01m{\u001b[39;00mtotal_urls\u001b[38;5;132;01m}\u001b[39;00m\u001b[38;5;124m: \u001b[39m\u001b[38;5;132;01m{\u001b[39;00murl\u001b[38;5;132;01m}\u001b[39;00m\u001b[38;5;124m\"\u001b[39m)\n\u001b[1;32m---> 34\u001b[0m     data \u001b[38;5;241m=\u001b[39m \u001b[43mprocess_and_print_results\u001b[49m\u001b[43m(\u001b[49m\u001b[43murl\u001b[49m\u001b[43m)\u001b[49m\n\u001b[0;32m     35\u001b[0m     \u001b[38;5;28;01mif\u001b[39;00m data:\n\u001b[0;32m     36\u001b[0m         \u001b[38;5;66;03m# Add data to corresponding DataFrames\u001b[39;00m\n\u001b[0;32m     37\u001b[0m         \u001b[38;5;28;01mif\u001b[39;00m \u001b[38;5;124m'\u001b[39m\u001b[38;5;124mpole_studio_data\u001b[39m\u001b[38;5;124m'\u001b[39m \u001b[38;5;129;01min\u001b[39;00m data \u001b[38;5;129;01mand\u001b[39;00m \u001b[38;5;129;01mnot\u001b[39;00m data[\u001b[38;5;124m'\u001b[39m\u001b[38;5;124mpole_studio_data\u001b[39m\u001b[38;5;124m'\u001b[39m]\u001b[38;5;241m.\u001b[39mempty:\n",
      "Cell \u001b[1;32mIn[2], line 7\u001b[0m, in \u001b[0;36mprocess_and_print_results\u001b[1;34m(url)\u001b[0m\n\u001b[0;32m      5\u001b[0m \u001b[38;5;28;01mdef\u001b[39;00m \u001b[38;5;21mprocess_and_print_results\u001b[39m(url):\n\u001b[0;32m      6\u001b[0m     \u001b[38;5;28mprint\u001b[39m(\u001b[38;5;124mf\u001b[39m\u001b[38;5;124m\"\u001b[39m\u001b[38;5;124mProcessing URL: \u001b[39m\u001b[38;5;132;01m{\u001b[39;00murl\u001b[38;5;132;01m}\u001b[39;00m\u001b[38;5;124m\"\u001b[39m)\n\u001b[1;32m----> 7\u001b[0m     data \u001b[38;5;241m=\u001b[39m \u001b[43mprocess_urls\u001b[49m\u001b[43m(\u001b[49m\u001b[43m[\u001b[49m\u001b[43murl\u001b[49m\u001b[43m]\u001b[49m\u001b[43m)\u001b[49m\n\u001b[0;32m      9\u001b[0m     \u001b[38;5;28;01mif\u001b[39;00m data:\n\u001b[0;32m     10\u001b[0m         \u001b[38;5;28mprint\u001b[39m(\u001b[38;5;124mf\u001b[39m\u001b[38;5;124m\"\u001b[39m\u001b[38;5;130;01m\\n\u001b[39;00m\u001b[38;5;124mResults for URL: \u001b[39m\u001b[38;5;132;01m{\u001b[39;00murl\u001b[38;5;132;01m}\u001b[39;00m\u001b[38;5;124m\"\u001b[39m)\n",
      "File \u001b[1;32mc:\\Users\\hamud\\Documents\\GitHub\\1_Latest_version_Hop_Scrapper_V5\\d_Test_Refactor\\Test\\Py\\PyCaller.py:27\u001b[0m, in \u001b[0;36mprocess_urls\u001b[1;34m(urls)\u001b[0m\n\u001b[0;32m     24\u001b[0m reconstructed_urls_df \u001b[38;5;241m=\u001b[39m pd\u001b[38;5;241m.\u001b[39mDataFrame(\u001b[38;5;28mlist\u001b[39m(reconstructed_urls\u001b[38;5;241m.\u001b[39mitems()), columns\u001b[38;5;241m=\u001b[39m[\u001b[38;5;124m'\u001b[39m\u001b[38;5;124mCategory\u001b[39m\u001b[38;5;124m'\u001b[39m, \u001b[38;5;124m'\u001b[39m\u001b[38;5;124mURL\u001b[39m\u001b[38;5;124m'\u001b[39m])\n\u001b[0;32m     26\u001b[0m \u001b[38;5;28mprint\u001b[39m(\u001b[38;5;124m\"\u001b[39m\u001b[38;5;124mValidating URLs...\u001b[39m\u001b[38;5;124m\"\u001b[39m)\n\u001b[1;32m---> 27\u001b[0m validated_urls_df \u001b[38;5;241m=\u001b[39m \u001b[43mvalidate_urls\u001b[49m\u001b[43m(\u001b[49m\u001b[43mreconstructed_urls_df\u001b[49m\u001b[43m[\u001b[49m\u001b[38;5;124;43m\"\u001b[39;49m\u001b[38;5;124;43mURL\u001b[39;49m\u001b[38;5;124;43m\"\u001b[39;49m\u001b[43m]\u001b[49m\u001b[38;5;241;43m.\u001b[39;49m\u001b[43mto_list\u001b[49m\u001b[43m(\u001b[49m\u001b[43m)\u001b[49m\u001b[43m)\u001b[49m\n\u001b[0;32m     28\u001b[0m validated_urls \u001b[38;5;241m=\u001b[39m validated_urls_df[\u001b[38;5;124m\"\u001b[39m\u001b[38;5;124mValid_URL\u001b[39m\u001b[38;5;124m\"\u001b[39m]\u001b[38;5;241m.\u001b[39mtolist()\n\u001b[0;32m     30\u001b[0m \u001b[38;5;66;03m# Processing URLs\u001b[39;00m\n",
      "File \u001b[1;32mc:\\Users\\hamud\\Documents\\GitHub\\1_Latest_version_Hop_Scrapper_V5\\d_Test_Refactor\\Test\\Py\\b_URLS_Validation.py:39\u001b[0m, in \u001b[0;36mvalidate_urls\u001b[1;34m(url_list)\u001b[0m\n\u001b[0;32m     37\u001b[0m \u001b[38;5;28;01mfor\u001b[39;00m index, url \u001b[38;5;129;01min\u001b[39;00m \u001b[38;5;28menumerate\u001b[39m(url_list):\n\u001b[0;32m     38\u001b[0m     logging\u001b[38;5;241m.\u001b[39minfo(\u001b[38;5;124mf\u001b[39m\u001b[38;5;124m\"\u001b[39m\u001b[38;5;124mProcessing URL \u001b[39m\u001b[38;5;132;01m{\u001b[39;00mindex\u001b[38;5;250m \u001b[39m\u001b[38;5;241m+\u001b[39m\u001b[38;5;250m \u001b[39m\u001b[38;5;241m1\u001b[39m\u001b[38;5;132;01m}\u001b[39;00m\u001b[38;5;124m/\u001b[39m\u001b[38;5;132;01m{\u001b[39;00m\u001b[38;5;28mlen\u001b[39m(url_list)\u001b[38;5;132;01m}\u001b[39;00m\u001b[38;5;124m: \u001b[39m\u001b[38;5;132;01m{\u001b[39;00murl\u001b[38;5;132;01m}\u001b[39;00m\u001b[38;5;124m\"\u001b[39m)\n\u001b[1;32m---> 39\u001b[0m     \u001b[38;5;28;01mif\u001b[39;00m \u001b[43mis_url_valid\u001b[49m\u001b[43m(\u001b[49m\u001b[43murl\u001b[49m\u001b[43m)\u001b[49m:\n\u001b[0;32m     40\u001b[0m         valid_urls\u001b[38;5;241m.\u001b[39mappend(url)\n\u001b[0;32m     41\u001b[0m         logging\u001b[38;5;241m.\u001b[39minfo(\u001b[38;5;124mf\u001b[39m\u001b[38;5;124m\"\u001b[39m\u001b[38;5;124mURL \u001b[39m\u001b[38;5;132;01m{\u001b[39;00murl\u001b[38;5;132;01m}\u001b[39;00m\u001b[38;5;124m is valid.\u001b[39m\u001b[38;5;124m\"\u001b[39m)\n",
      "File \u001b[1;32mc:\\Users\\hamud\\Documents\\GitHub\\1_Latest_version_Hop_Scrapper_V5\\d_Test_Refactor\\Test\\Py\\b_URLS_Validation.py:19\u001b[0m, in \u001b[0;36mis_url_valid\u001b[1;34m(url)\u001b[0m\n\u001b[0;32m      9\u001b[0m \u001b[38;5;250m\u001b[39m\u001b[38;5;124;03m\"\"\"\u001b[39;00m\n\u001b[0;32m     10\u001b[0m \u001b[38;5;124;03mChecks if a URL is valid.\u001b[39;00m\n\u001b[0;32m     11\u001b[0m \n\u001b[1;32m   (...)\u001b[0m\n\u001b[0;32m     16\u001b[0m \u001b[38;5;124;03m    bool: True if the URL is valid, False otherwise.\u001b[39;00m\n\u001b[0;32m     17\u001b[0m \u001b[38;5;124;03m\"\"\"\u001b[39;00m\n\u001b[0;32m     18\u001b[0m \u001b[38;5;28;01mtry\u001b[39;00m:\n\u001b[1;32m---> 19\u001b[0m     response \u001b[38;5;241m=\u001b[39m \u001b[43mrequests\u001b[49m\u001b[38;5;241;43m.\u001b[39;49m\u001b[43mget\u001b[49m\u001b[43m(\u001b[49m\u001b[43murl\u001b[49m\u001b[43m)\u001b[49m\n\u001b[0;32m     20\u001b[0m     \u001b[38;5;28;01mreturn\u001b[39;00m response\u001b[38;5;241m.\u001b[39mstatus_code \u001b[38;5;241m==\u001b[39m \u001b[38;5;241m200\u001b[39m\n\u001b[0;32m     21\u001b[0m \u001b[38;5;28;01mexcept\u001b[39;00m requests\u001b[38;5;241m.\u001b[39mRequestException \u001b[38;5;28;01mas\u001b[39;00m e:\n",
      "File \u001b[1;32m~\\AppData\\Roaming\\Python\\Python312\\site-packages\\requests\\api.py:73\u001b[0m, in \u001b[0;36mget\u001b[1;34m(url, params, **kwargs)\u001b[0m\n\u001b[0;32m     62\u001b[0m \u001b[38;5;28;01mdef\u001b[39;00m \u001b[38;5;21mget\u001b[39m(url, params\u001b[38;5;241m=\u001b[39m\u001b[38;5;28;01mNone\u001b[39;00m, \u001b[38;5;241m*\u001b[39m\u001b[38;5;241m*\u001b[39mkwargs):\n\u001b[0;32m     63\u001b[0m \u001b[38;5;250m    \u001b[39m\u001b[38;5;124mr\u001b[39m\u001b[38;5;124;03m\"\"\"Sends a GET request.\u001b[39;00m\n\u001b[0;32m     64\u001b[0m \n\u001b[0;32m     65\u001b[0m \u001b[38;5;124;03m    :param url: URL for the new :class:`Request` object.\u001b[39;00m\n\u001b[1;32m   (...)\u001b[0m\n\u001b[0;32m     70\u001b[0m \u001b[38;5;124;03m    :rtype: requests.Response\u001b[39;00m\n\u001b[0;32m     71\u001b[0m \u001b[38;5;124;03m    \"\"\"\u001b[39;00m\n\u001b[1;32m---> 73\u001b[0m     \u001b[38;5;28;01mreturn\u001b[39;00m \u001b[43mrequest\u001b[49m\u001b[43m(\u001b[49m\u001b[38;5;124;43m\"\u001b[39;49m\u001b[38;5;124;43mget\u001b[39;49m\u001b[38;5;124;43m\"\u001b[39;49m\u001b[43m,\u001b[49m\u001b[43m \u001b[49m\u001b[43murl\u001b[49m\u001b[43m,\u001b[49m\u001b[43m \u001b[49m\u001b[43mparams\u001b[49m\u001b[38;5;241;43m=\u001b[39;49m\u001b[43mparams\u001b[49m\u001b[43m,\u001b[49m\u001b[43m \u001b[49m\u001b[38;5;241;43m*\u001b[39;49m\u001b[38;5;241;43m*\u001b[39;49m\u001b[43mkwargs\u001b[49m\u001b[43m)\u001b[49m\n",
      "File \u001b[1;32m~\\AppData\\Roaming\\Python\\Python312\\site-packages\\requests\\api.py:59\u001b[0m, in \u001b[0;36mrequest\u001b[1;34m(method, url, **kwargs)\u001b[0m\n\u001b[0;32m     55\u001b[0m \u001b[38;5;66;03m# By using the 'with' statement we are sure the session is closed, thus we\u001b[39;00m\n\u001b[0;32m     56\u001b[0m \u001b[38;5;66;03m# avoid leaving sockets open which can trigger a ResourceWarning in some\u001b[39;00m\n\u001b[0;32m     57\u001b[0m \u001b[38;5;66;03m# cases, and look like a memory leak in others.\u001b[39;00m\n\u001b[0;32m     58\u001b[0m \u001b[38;5;28;01mwith\u001b[39;00m sessions\u001b[38;5;241m.\u001b[39mSession() \u001b[38;5;28;01mas\u001b[39;00m session:\n\u001b[1;32m---> 59\u001b[0m     \u001b[38;5;28;01mreturn\u001b[39;00m \u001b[43msession\u001b[49m\u001b[38;5;241;43m.\u001b[39;49m\u001b[43mrequest\u001b[49m\u001b[43m(\u001b[49m\u001b[43mmethod\u001b[49m\u001b[38;5;241;43m=\u001b[39;49m\u001b[43mmethod\u001b[49m\u001b[43m,\u001b[49m\u001b[43m \u001b[49m\u001b[43murl\u001b[49m\u001b[38;5;241;43m=\u001b[39;49m\u001b[43murl\u001b[49m\u001b[43m,\u001b[49m\u001b[43m \u001b[49m\u001b[38;5;241;43m*\u001b[39;49m\u001b[38;5;241;43m*\u001b[39;49m\u001b[43mkwargs\u001b[49m\u001b[43m)\u001b[49m\n",
      "File \u001b[1;32m~\\AppData\\Roaming\\Python\\Python312\\site-packages\\requests\\sessions.py:589\u001b[0m, in \u001b[0;36mSession.request\u001b[1;34m(self, method, url, params, data, headers, cookies, files, auth, timeout, allow_redirects, proxies, hooks, stream, verify, cert, json)\u001b[0m\n\u001b[0;32m    584\u001b[0m send_kwargs \u001b[38;5;241m=\u001b[39m {\n\u001b[0;32m    585\u001b[0m     \u001b[38;5;124m\"\u001b[39m\u001b[38;5;124mtimeout\u001b[39m\u001b[38;5;124m\"\u001b[39m: timeout,\n\u001b[0;32m    586\u001b[0m     \u001b[38;5;124m\"\u001b[39m\u001b[38;5;124mallow_redirects\u001b[39m\u001b[38;5;124m\"\u001b[39m: allow_redirects,\n\u001b[0;32m    587\u001b[0m }\n\u001b[0;32m    588\u001b[0m send_kwargs\u001b[38;5;241m.\u001b[39mupdate(settings)\n\u001b[1;32m--> 589\u001b[0m resp \u001b[38;5;241m=\u001b[39m \u001b[38;5;28;43mself\u001b[39;49m\u001b[38;5;241;43m.\u001b[39;49m\u001b[43msend\u001b[49m\u001b[43m(\u001b[49m\u001b[43mprep\u001b[49m\u001b[43m,\u001b[49m\u001b[43m \u001b[49m\u001b[38;5;241;43m*\u001b[39;49m\u001b[38;5;241;43m*\u001b[39;49m\u001b[43msend_kwargs\u001b[49m\u001b[43m)\u001b[49m\n\u001b[0;32m    591\u001b[0m \u001b[38;5;28;01mreturn\u001b[39;00m resp\n",
      "File \u001b[1;32m~\\AppData\\Roaming\\Python\\Python312\\site-packages\\requests\\sessions.py:703\u001b[0m, in \u001b[0;36mSession.send\u001b[1;34m(self, request, **kwargs)\u001b[0m\n\u001b[0;32m    700\u001b[0m start \u001b[38;5;241m=\u001b[39m preferred_clock()\n\u001b[0;32m    702\u001b[0m \u001b[38;5;66;03m# Send the request\u001b[39;00m\n\u001b[1;32m--> 703\u001b[0m r \u001b[38;5;241m=\u001b[39m \u001b[43madapter\u001b[49m\u001b[38;5;241;43m.\u001b[39;49m\u001b[43msend\u001b[49m\u001b[43m(\u001b[49m\u001b[43mrequest\u001b[49m\u001b[43m,\u001b[49m\u001b[43m \u001b[49m\u001b[38;5;241;43m*\u001b[39;49m\u001b[38;5;241;43m*\u001b[39;49m\u001b[43mkwargs\u001b[49m\u001b[43m)\u001b[49m\n\u001b[0;32m    705\u001b[0m \u001b[38;5;66;03m# Total elapsed time of the request (approximately)\u001b[39;00m\n\u001b[0;32m    706\u001b[0m elapsed \u001b[38;5;241m=\u001b[39m preferred_clock() \u001b[38;5;241m-\u001b[39m start\n",
      "File \u001b[1;32m~\\AppData\\Roaming\\Python\\Python312\\site-packages\\requests\\adapters.py:486\u001b[0m, in \u001b[0;36mHTTPAdapter.send\u001b[1;34m(self, request, stream, timeout, verify, cert, proxies)\u001b[0m\n\u001b[0;32m    483\u001b[0m     timeout \u001b[38;5;241m=\u001b[39m TimeoutSauce(connect\u001b[38;5;241m=\u001b[39mtimeout, read\u001b[38;5;241m=\u001b[39mtimeout)\n\u001b[0;32m    485\u001b[0m \u001b[38;5;28;01mtry\u001b[39;00m:\n\u001b[1;32m--> 486\u001b[0m     resp \u001b[38;5;241m=\u001b[39m \u001b[43mconn\u001b[49m\u001b[38;5;241;43m.\u001b[39;49m\u001b[43murlopen\u001b[49m\u001b[43m(\u001b[49m\n\u001b[0;32m    487\u001b[0m \u001b[43m        \u001b[49m\u001b[43mmethod\u001b[49m\u001b[38;5;241;43m=\u001b[39;49m\u001b[43mrequest\u001b[49m\u001b[38;5;241;43m.\u001b[39;49m\u001b[43mmethod\u001b[49m\u001b[43m,\u001b[49m\n\u001b[0;32m    488\u001b[0m \u001b[43m        \u001b[49m\u001b[43murl\u001b[49m\u001b[38;5;241;43m=\u001b[39;49m\u001b[43murl\u001b[49m\u001b[43m,\u001b[49m\n\u001b[0;32m    489\u001b[0m \u001b[43m        \u001b[49m\u001b[43mbody\u001b[49m\u001b[38;5;241;43m=\u001b[39;49m\u001b[43mrequest\u001b[49m\u001b[38;5;241;43m.\u001b[39;49m\u001b[43mbody\u001b[49m\u001b[43m,\u001b[49m\n\u001b[0;32m    490\u001b[0m \u001b[43m        \u001b[49m\u001b[43mheaders\u001b[49m\u001b[38;5;241;43m=\u001b[39;49m\u001b[43mrequest\u001b[49m\u001b[38;5;241;43m.\u001b[39;49m\u001b[43mheaders\u001b[49m\u001b[43m,\u001b[49m\n\u001b[0;32m    491\u001b[0m \u001b[43m        \u001b[49m\u001b[43mredirect\u001b[49m\u001b[38;5;241;43m=\u001b[39;49m\u001b[38;5;28;43;01mFalse\u001b[39;49;00m\u001b[43m,\u001b[49m\n\u001b[0;32m    492\u001b[0m \u001b[43m        \u001b[49m\u001b[43massert_same_host\u001b[49m\u001b[38;5;241;43m=\u001b[39;49m\u001b[38;5;28;43;01mFalse\u001b[39;49;00m\u001b[43m,\u001b[49m\n\u001b[0;32m    493\u001b[0m \u001b[43m        \u001b[49m\u001b[43mpreload_content\u001b[49m\u001b[38;5;241;43m=\u001b[39;49m\u001b[38;5;28;43;01mFalse\u001b[39;49;00m\u001b[43m,\u001b[49m\n\u001b[0;32m    494\u001b[0m \u001b[43m        \u001b[49m\u001b[43mdecode_content\u001b[49m\u001b[38;5;241;43m=\u001b[39;49m\u001b[38;5;28;43;01mFalse\u001b[39;49;00m\u001b[43m,\u001b[49m\n\u001b[0;32m    495\u001b[0m \u001b[43m        \u001b[49m\u001b[43mretries\u001b[49m\u001b[38;5;241;43m=\u001b[39;49m\u001b[38;5;28;43mself\u001b[39;49m\u001b[38;5;241;43m.\u001b[39;49m\u001b[43mmax_retries\u001b[49m\u001b[43m,\u001b[49m\n\u001b[0;32m    496\u001b[0m \u001b[43m        \u001b[49m\u001b[43mtimeout\u001b[49m\u001b[38;5;241;43m=\u001b[39;49m\u001b[43mtimeout\u001b[49m\u001b[43m,\u001b[49m\n\u001b[0;32m    497\u001b[0m \u001b[43m        \u001b[49m\u001b[43mchunked\u001b[49m\u001b[38;5;241;43m=\u001b[39;49m\u001b[43mchunked\u001b[49m\u001b[43m,\u001b[49m\n\u001b[0;32m    498\u001b[0m \u001b[43m    \u001b[49m\u001b[43m)\u001b[49m\n\u001b[0;32m    500\u001b[0m \u001b[38;5;28;01mexcept\u001b[39;00m (ProtocolError, \u001b[38;5;167;01mOSError\u001b[39;00m) \u001b[38;5;28;01mas\u001b[39;00m err:\n\u001b[0;32m    501\u001b[0m     \u001b[38;5;28;01mraise\u001b[39;00m \u001b[38;5;167;01mConnectionError\u001b[39;00m(err, request\u001b[38;5;241m=\u001b[39mrequest)\n",
      "File \u001b[1;32m~\\AppData\\Roaming\\Python\\Python312\\site-packages\\urllib3\\connectionpool.py:790\u001b[0m, in \u001b[0;36mHTTPConnectionPool.urlopen\u001b[1;34m(self, method, url, body, headers, retries, redirect, assert_same_host, timeout, pool_timeout, release_conn, chunked, body_pos, preload_content, decode_content, **response_kw)\u001b[0m\n\u001b[0;32m    787\u001b[0m response_conn \u001b[38;5;241m=\u001b[39m conn \u001b[38;5;28;01mif\u001b[39;00m \u001b[38;5;129;01mnot\u001b[39;00m release_conn \u001b[38;5;28;01melse\u001b[39;00m \u001b[38;5;28;01mNone\u001b[39;00m\n\u001b[0;32m    789\u001b[0m \u001b[38;5;66;03m# Make the request on the HTTPConnection object\u001b[39;00m\n\u001b[1;32m--> 790\u001b[0m response \u001b[38;5;241m=\u001b[39m \u001b[38;5;28;43mself\u001b[39;49m\u001b[38;5;241;43m.\u001b[39;49m\u001b[43m_make_request\u001b[49m\u001b[43m(\u001b[49m\n\u001b[0;32m    791\u001b[0m \u001b[43m    \u001b[49m\u001b[43mconn\u001b[49m\u001b[43m,\u001b[49m\n\u001b[0;32m    792\u001b[0m \u001b[43m    \u001b[49m\u001b[43mmethod\u001b[49m\u001b[43m,\u001b[49m\n\u001b[0;32m    793\u001b[0m \u001b[43m    \u001b[49m\u001b[43murl\u001b[49m\u001b[43m,\u001b[49m\n\u001b[0;32m    794\u001b[0m \u001b[43m    \u001b[49m\u001b[43mtimeout\u001b[49m\u001b[38;5;241;43m=\u001b[39;49m\u001b[43mtimeout_obj\u001b[49m\u001b[43m,\u001b[49m\n\u001b[0;32m    795\u001b[0m \u001b[43m    \u001b[49m\u001b[43mbody\u001b[49m\u001b[38;5;241;43m=\u001b[39;49m\u001b[43mbody\u001b[49m\u001b[43m,\u001b[49m\n\u001b[0;32m    796\u001b[0m \u001b[43m    \u001b[49m\u001b[43mheaders\u001b[49m\u001b[38;5;241;43m=\u001b[39;49m\u001b[43mheaders\u001b[49m\u001b[43m,\u001b[49m\n\u001b[0;32m    797\u001b[0m \u001b[43m    \u001b[49m\u001b[43mchunked\u001b[49m\u001b[38;5;241;43m=\u001b[39;49m\u001b[43mchunked\u001b[49m\u001b[43m,\u001b[49m\n\u001b[0;32m    798\u001b[0m \u001b[43m    \u001b[49m\u001b[43mretries\u001b[49m\u001b[38;5;241;43m=\u001b[39;49m\u001b[43mretries\u001b[49m\u001b[43m,\u001b[49m\n\u001b[0;32m    799\u001b[0m \u001b[43m    \u001b[49m\u001b[43mresponse_conn\u001b[49m\u001b[38;5;241;43m=\u001b[39;49m\u001b[43mresponse_conn\u001b[49m\u001b[43m,\u001b[49m\n\u001b[0;32m    800\u001b[0m \u001b[43m    \u001b[49m\u001b[43mpreload_content\u001b[49m\u001b[38;5;241;43m=\u001b[39;49m\u001b[43mpreload_content\u001b[49m\u001b[43m,\u001b[49m\n\u001b[0;32m    801\u001b[0m \u001b[43m    \u001b[49m\u001b[43mdecode_content\u001b[49m\u001b[38;5;241;43m=\u001b[39;49m\u001b[43mdecode_content\u001b[49m\u001b[43m,\u001b[49m\n\u001b[0;32m    802\u001b[0m \u001b[43m    \u001b[49m\u001b[38;5;241;43m*\u001b[39;49m\u001b[38;5;241;43m*\u001b[39;49m\u001b[43mresponse_kw\u001b[49m\u001b[43m,\u001b[49m\n\u001b[0;32m    803\u001b[0m \u001b[43m\u001b[49m\u001b[43m)\u001b[49m\n\u001b[0;32m    805\u001b[0m \u001b[38;5;66;03m# Everything went great!\u001b[39;00m\n\u001b[0;32m    806\u001b[0m clean_exit \u001b[38;5;241m=\u001b[39m \u001b[38;5;28;01mTrue\u001b[39;00m\n",
      "File \u001b[1;32m~\\AppData\\Roaming\\Python\\Python312\\site-packages\\urllib3\\connectionpool.py:467\u001b[0m, in \u001b[0;36mHTTPConnectionPool._make_request\u001b[1;34m(self, conn, method, url, body, headers, retries, timeout, chunked, response_conn, preload_content, decode_content, enforce_content_length)\u001b[0m\n\u001b[0;32m    464\u001b[0m \u001b[38;5;28;01mtry\u001b[39;00m:\n\u001b[0;32m    465\u001b[0m     \u001b[38;5;66;03m# Trigger any extra validation we need to do.\u001b[39;00m\n\u001b[0;32m    466\u001b[0m     \u001b[38;5;28;01mtry\u001b[39;00m:\n\u001b[1;32m--> 467\u001b[0m         \u001b[38;5;28;43mself\u001b[39;49m\u001b[38;5;241;43m.\u001b[39;49m\u001b[43m_validate_conn\u001b[49m\u001b[43m(\u001b[49m\u001b[43mconn\u001b[49m\u001b[43m)\u001b[49m\n\u001b[0;32m    468\u001b[0m     \u001b[38;5;28;01mexcept\u001b[39;00m (SocketTimeout, BaseSSLError) \u001b[38;5;28;01mas\u001b[39;00m e:\n\u001b[0;32m    469\u001b[0m         \u001b[38;5;28mself\u001b[39m\u001b[38;5;241m.\u001b[39m_raise_timeout(err\u001b[38;5;241m=\u001b[39me, url\u001b[38;5;241m=\u001b[39murl, timeout_value\u001b[38;5;241m=\u001b[39mconn\u001b[38;5;241m.\u001b[39mtimeout)\n",
      "File \u001b[1;32m~\\AppData\\Roaming\\Python\\Python312\\site-packages\\urllib3\\connectionpool.py:1096\u001b[0m, in \u001b[0;36mHTTPSConnectionPool._validate_conn\u001b[1;34m(self, conn)\u001b[0m\n\u001b[0;32m   1094\u001b[0m \u001b[38;5;66;03m# Force connect early to allow us to validate the connection.\u001b[39;00m\n\u001b[0;32m   1095\u001b[0m \u001b[38;5;28;01mif\u001b[39;00m conn\u001b[38;5;241m.\u001b[39mis_closed:\n\u001b[1;32m-> 1096\u001b[0m     \u001b[43mconn\u001b[49m\u001b[38;5;241;43m.\u001b[39;49m\u001b[43mconnect\u001b[49m\u001b[43m(\u001b[49m\u001b[43m)\u001b[49m\n\u001b[0;32m   1098\u001b[0m \u001b[38;5;28;01mif\u001b[39;00m \u001b[38;5;129;01mnot\u001b[39;00m conn\u001b[38;5;241m.\u001b[39mis_verified:\n\u001b[0;32m   1099\u001b[0m     warnings\u001b[38;5;241m.\u001b[39mwarn(\n\u001b[0;32m   1100\u001b[0m         (\n\u001b[0;32m   1101\u001b[0m             \u001b[38;5;124mf\u001b[39m\u001b[38;5;124m\"\u001b[39m\u001b[38;5;124mUnverified HTTPS request is being made to host \u001b[39m\u001b[38;5;124m'\u001b[39m\u001b[38;5;132;01m{\u001b[39;00mconn\u001b[38;5;241m.\u001b[39mhost\u001b[38;5;132;01m}\u001b[39;00m\u001b[38;5;124m'\u001b[39m\u001b[38;5;124m. \u001b[39m\u001b[38;5;124m\"\u001b[39m\n\u001b[1;32m   (...)\u001b[0m\n\u001b[0;32m   1106\u001b[0m         InsecureRequestWarning,\n\u001b[0;32m   1107\u001b[0m     )\n",
      "File \u001b[1;32m~\\AppData\\Roaming\\Python\\Python312\\site-packages\\urllib3\\connection.py:642\u001b[0m, in \u001b[0;36mHTTPSConnection.connect\u001b[1;34m(self)\u001b[0m\n\u001b[0;32m    633\u001b[0m \u001b[38;5;28;01mif\u001b[39;00m is_time_off:\n\u001b[0;32m    634\u001b[0m     warnings\u001b[38;5;241m.\u001b[39mwarn(\n\u001b[0;32m    635\u001b[0m         (\n\u001b[0;32m    636\u001b[0m             \u001b[38;5;124mf\u001b[39m\u001b[38;5;124m\"\u001b[39m\u001b[38;5;124mSystem time is way off (before \u001b[39m\u001b[38;5;132;01m{\u001b[39;00mRECENT_DATE\u001b[38;5;132;01m}\u001b[39;00m\u001b[38;5;124m). This will probably \u001b[39m\u001b[38;5;124m\"\u001b[39m\n\u001b[1;32m   (...)\u001b[0m\n\u001b[0;32m    639\u001b[0m         SystemTimeWarning,\n\u001b[0;32m    640\u001b[0m     )\n\u001b[1;32m--> 642\u001b[0m sock_and_verified \u001b[38;5;241m=\u001b[39m \u001b[43m_ssl_wrap_socket_and_match_hostname\u001b[49m\u001b[43m(\u001b[49m\n\u001b[0;32m    643\u001b[0m \u001b[43m    \u001b[49m\u001b[43msock\u001b[49m\u001b[38;5;241;43m=\u001b[39;49m\u001b[43msock\u001b[49m\u001b[43m,\u001b[49m\n\u001b[0;32m    644\u001b[0m \u001b[43m    \u001b[49m\u001b[43mcert_reqs\u001b[49m\u001b[38;5;241;43m=\u001b[39;49m\u001b[38;5;28;43mself\u001b[39;49m\u001b[38;5;241;43m.\u001b[39;49m\u001b[43mcert_reqs\u001b[49m\u001b[43m,\u001b[49m\n\u001b[0;32m    645\u001b[0m \u001b[43m    \u001b[49m\u001b[43mssl_version\u001b[49m\u001b[38;5;241;43m=\u001b[39;49m\u001b[38;5;28;43mself\u001b[39;49m\u001b[38;5;241;43m.\u001b[39;49m\u001b[43mssl_version\u001b[49m\u001b[43m,\u001b[49m\n\u001b[0;32m    646\u001b[0m \u001b[43m    \u001b[49m\u001b[43mssl_minimum_version\u001b[49m\u001b[38;5;241;43m=\u001b[39;49m\u001b[38;5;28;43mself\u001b[39;49m\u001b[38;5;241;43m.\u001b[39;49m\u001b[43mssl_minimum_version\u001b[49m\u001b[43m,\u001b[49m\n\u001b[0;32m    647\u001b[0m \u001b[43m    \u001b[49m\u001b[43mssl_maximum_version\u001b[49m\u001b[38;5;241;43m=\u001b[39;49m\u001b[38;5;28;43mself\u001b[39;49m\u001b[38;5;241;43m.\u001b[39;49m\u001b[43mssl_maximum_version\u001b[49m\u001b[43m,\u001b[49m\n\u001b[0;32m    648\u001b[0m \u001b[43m    \u001b[49m\u001b[43mca_certs\u001b[49m\u001b[38;5;241;43m=\u001b[39;49m\u001b[38;5;28;43mself\u001b[39;49m\u001b[38;5;241;43m.\u001b[39;49m\u001b[43mca_certs\u001b[49m\u001b[43m,\u001b[49m\n\u001b[0;32m    649\u001b[0m \u001b[43m    \u001b[49m\u001b[43mca_cert_dir\u001b[49m\u001b[38;5;241;43m=\u001b[39;49m\u001b[38;5;28;43mself\u001b[39;49m\u001b[38;5;241;43m.\u001b[39;49m\u001b[43mca_cert_dir\u001b[49m\u001b[43m,\u001b[49m\n\u001b[0;32m    650\u001b[0m \u001b[43m    \u001b[49m\u001b[43mca_cert_data\u001b[49m\u001b[38;5;241;43m=\u001b[39;49m\u001b[38;5;28;43mself\u001b[39;49m\u001b[38;5;241;43m.\u001b[39;49m\u001b[43mca_cert_data\u001b[49m\u001b[43m,\u001b[49m\n\u001b[0;32m    651\u001b[0m \u001b[43m    \u001b[49m\u001b[43mcert_file\u001b[49m\u001b[38;5;241;43m=\u001b[39;49m\u001b[38;5;28;43mself\u001b[39;49m\u001b[38;5;241;43m.\u001b[39;49m\u001b[43mcert_file\u001b[49m\u001b[43m,\u001b[49m\n\u001b[0;32m    652\u001b[0m \u001b[43m    \u001b[49m\u001b[43mkey_file\u001b[49m\u001b[38;5;241;43m=\u001b[39;49m\u001b[38;5;28;43mself\u001b[39;49m\u001b[38;5;241;43m.\u001b[39;49m\u001b[43mkey_file\u001b[49m\u001b[43m,\u001b[49m\n\u001b[0;32m    653\u001b[0m \u001b[43m    \u001b[49m\u001b[43mkey_password\u001b[49m\u001b[38;5;241;43m=\u001b[39;49m\u001b[38;5;28;43mself\u001b[39;49m\u001b[38;5;241;43m.\u001b[39;49m\u001b[43mkey_password\u001b[49m\u001b[43m,\u001b[49m\n\u001b[0;32m    654\u001b[0m \u001b[43m    \u001b[49m\u001b[43mserver_hostname\u001b[49m\u001b[38;5;241;43m=\u001b[39;49m\u001b[43mserver_hostname\u001b[49m\u001b[43m,\u001b[49m\n\u001b[0;32m    655\u001b[0m \u001b[43m    \u001b[49m\u001b[43mssl_context\u001b[49m\u001b[38;5;241;43m=\u001b[39;49m\u001b[38;5;28;43mself\u001b[39;49m\u001b[38;5;241;43m.\u001b[39;49m\u001b[43mssl_context\u001b[49m\u001b[43m,\u001b[49m\n\u001b[0;32m    656\u001b[0m \u001b[43m    \u001b[49m\u001b[43mtls_in_tls\u001b[49m\u001b[38;5;241;43m=\u001b[39;49m\u001b[43mtls_in_tls\u001b[49m\u001b[43m,\u001b[49m\n\u001b[0;32m    657\u001b[0m \u001b[43m    \u001b[49m\u001b[43massert_hostname\u001b[49m\u001b[38;5;241;43m=\u001b[39;49m\u001b[38;5;28;43mself\u001b[39;49m\u001b[38;5;241;43m.\u001b[39;49m\u001b[43massert_hostname\u001b[49m\u001b[43m,\u001b[49m\n\u001b[0;32m    658\u001b[0m \u001b[43m    \u001b[49m\u001b[43massert_fingerprint\u001b[49m\u001b[38;5;241;43m=\u001b[39;49m\u001b[38;5;28;43mself\u001b[39;49m\u001b[38;5;241;43m.\u001b[39;49m\u001b[43massert_fingerprint\u001b[49m\u001b[43m,\u001b[49m\n\u001b[0;32m    659\u001b[0m \u001b[43m\u001b[49m\u001b[43m)\u001b[49m\n\u001b[0;32m    660\u001b[0m \u001b[38;5;28mself\u001b[39m\u001b[38;5;241m.\u001b[39msock \u001b[38;5;241m=\u001b[39m sock_and_verified\u001b[38;5;241m.\u001b[39msocket\n\u001b[0;32m    661\u001b[0m \u001b[38;5;28mself\u001b[39m\u001b[38;5;241m.\u001b[39mis_verified \u001b[38;5;241m=\u001b[39m sock_and_verified\u001b[38;5;241m.\u001b[39mis_verified\n",
      "File \u001b[1;32m~\\AppData\\Roaming\\Python\\Python312\\site-packages\\urllib3\\connection.py:782\u001b[0m, in \u001b[0;36m_ssl_wrap_socket_and_match_hostname\u001b[1;34m(sock, cert_reqs, ssl_version, ssl_minimum_version, ssl_maximum_version, cert_file, key_file, key_password, ca_certs, ca_cert_dir, ca_cert_data, assert_hostname, assert_fingerprint, server_hostname, ssl_context, tls_in_tls)\u001b[0m\n\u001b[0;32m    779\u001b[0m     \u001b[38;5;28;01mif\u001b[39;00m is_ipaddress(normalized):\n\u001b[0;32m    780\u001b[0m         server_hostname \u001b[38;5;241m=\u001b[39m normalized\n\u001b[1;32m--> 782\u001b[0m ssl_sock \u001b[38;5;241m=\u001b[39m \u001b[43mssl_wrap_socket\u001b[49m\u001b[43m(\u001b[49m\n\u001b[0;32m    783\u001b[0m \u001b[43m    \u001b[49m\u001b[43msock\u001b[49m\u001b[38;5;241;43m=\u001b[39;49m\u001b[43msock\u001b[49m\u001b[43m,\u001b[49m\n\u001b[0;32m    784\u001b[0m \u001b[43m    \u001b[49m\u001b[43mkeyfile\u001b[49m\u001b[38;5;241;43m=\u001b[39;49m\u001b[43mkey_file\u001b[49m\u001b[43m,\u001b[49m\n\u001b[0;32m    785\u001b[0m \u001b[43m    \u001b[49m\u001b[43mcertfile\u001b[49m\u001b[38;5;241;43m=\u001b[39;49m\u001b[43mcert_file\u001b[49m\u001b[43m,\u001b[49m\n\u001b[0;32m    786\u001b[0m \u001b[43m    \u001b[49m\u001b[43mkey_password\u001b[49m\u001b[38;5;241;43m=\u001b[39;49m\u001b[43mkey_password\u001b[49m\u001b[43m,\u001b[49m\n\u001b[0;32m    787\u001b[0m \u001b[43m    \u001b[49m\u001b[43mca_certs\u001b[49m\u001b[38;5;241;43m=\u001b[39;49m\u001b[43mca_certs\u001b[49m\u001b[43m,\u001b[49m\n\u001b[0;32m    788\u001b[0m \u001b[43m    \u001b[49m\u001b[43mca_cert_dir\u001b[49m\u001b[38;5;241;43m=\u001b[39;49m\u001b[43mca_cert_dir\u001b[49m\u001b[43m,\u001b[49m\n\u001b[0;32m    789\u001b[0m \u001b[43m    \u001b[49m\u001b[43mca_cert_data\u001b[49m\u001b[38;5;241;43m=\u001b[39;49m\u001b[43mca_cert_data\u001b[49m\u001b[43m,\u001b[49m\n\u001b[0;32m    790\u001b[0m \u001b[43m    \u001b[49m\u001b[43mserver_hostname\u001b[49m\u001b[38;5;241;43m=\u001b[39;49m\u001b[43mserver_hostname\u001b[49m\u001b[43m,\u001b[49m\n\u001b[0;32m    791\u001b[0m \u001b[43m    \u001b[49m\u001b[43mssl_context\u001b[49m\u001b[38;5;241;43m=\u001b[39;49m\u001b[43mcontext\u001b[49m\u001b[43m,\u001b[49m\n\u001b[0;32m    792\u001b[0m \u001b[43m    \u001b[49m\u001b[43mtls_in_tls\u001b[49m\u001b[38;5;241;43m=\u001b[39;49m\u001b[43mtls_in_tls\u001b[49m\u001b[43m,\u001b[49m\n\u001b[0;32m    793\u001b[0m \u001b[43m\u001b[49m\u001b[43m)\u001b[49m\n\u001b[0;32m    795\u001b[0m \u001b[38;5;28;01mtry\u001b[39;00m:\n\u001b[0;32m    796\u001b[0m     \u001b[38;5;28;01mif\u001b[39;00m assert_fingerprint:\n",
      "File \u001b[1;32m~\\AppData\\Roaming\\Python\\Python312\\site-packages\\urllib3\\util\\ssl_.py:445\u001b[0m, in \u001b[0;36mssl_wrap_socket\u001b[1;34m(sock, keyfile, certfile, cert_reqs, ca_certs, server_hostname, ssl_version, ciphers, ssl_context, ca_cert_dir, key_password, ca_cert_data, tls_in_tls)\u001b[0m\n\u001b[0;32m    443\u001b[0m \u001b[38;5;28;01mif\u001b[39;00m ca_certs \u001b[38;5;129;01mor\u001b[39;00m ca_cert_dir \u001b[38;5;129;01mor\u001b[39;00m ca_cert_data:\n\u001b[0;32m    444\u001b[0m     \u001b[38;5;28;01mtry\u001b[39;00m:\n\u001b[1;32m--> 445\u001b[0m         \u001b[43mcontext\u001b[49m\u001b[38;5;241;43m.\u001b[39;49m\u001b[43mload_verify_locations\u001b[49m\u001b[43m(\u001b[49m\u001b[43mca_certs\u001b[49m\u001b[43m,\u001b[49m\u001b[43m \u001b[49m\u001b[43mca_cert_dir\u001b[49m\u001b[43m,\u001b[49m\u001b[43m \u001b[49m\u001b[43mca_cert_data\u001b[49m\u001b[43m)\u001b[49m\n\u001b[0;32m    446\u001b[0m     \u001b[38;5;28;01mexcept\u001b[39;00m \u001b[38;5;167;01mOSError\u001b[39;00m \u001b[38;5;28;01mas\u001b[39;00m e:\n\u001b[0;32m    447\u001b[0m         \u001b[38;5;28;01mraise\u001b[39;00m SSLError(e) \u001b[38;5;28;01mfrom\u001b[39;00m \u001b[38;5;21;01me\u001b[39;00m\n",
      "\u001b[1;31mKeyboardInterrupt\u001b[0m: "
     ]
    }
   ],
   "source": [
    "import pandas as pd\n",
    "from PyCaller import process_urls\n",
    "from tqdm import tqdm\n",
    "\n",
    "def process_and_print_results(url):\n",
    "    print(f\"Processing URL: {url}\")\n",
    "    data = process_urls([url])\n",
    "\n",
    "    if data:\n",
    "        print(f\"\\nResults for URL: {url}\")\n",
    "        for key, df in data.items():\n",
    "            if df is not None and not df.empty:\n",
    "                print(f\"{key.replace('_', ' ').title()}:\")\n",
    "                print(\"\\n\")\n",
    "        return data\n",
    "    else:\n",
    "        print(f\"No data found for URL: {url}\")\n",
    "        return None\n",
    "\n",
    "def main():\n",
    "    # Load initial URLs\n",
    "    all_found_urls_s = pd.read_csv(\"all_found_urls_23.12.23_cleaned.csv\")\n",
    "    initial_urls = list(set(all_found_urls_s[\"0\"]))[:10]\n",
    "\n",
    "    # Initialize DataFrames\n",
    "    all_pole_studio_data = pd.DataFrame()\n",
    "    all_workshops_data = pd.DataFrame()\n",
    "    all_workshop_details_data = pd.DataFrame()\n",
    "\n",
    "    # Process each URL\n",
    "    total_urls = len(initial_urls)\n",
    "    for i, url in tqdm(enumerate(initial_urls, start=1), total=total_urls, desc=\"Processing URLs\"):\n",
    "        print(f\"Processing URL {i}/{total_urls}: {url}\")\n",
    "        data = process_and_print_results(url)\n",
    "        if data:\n",
    "            # Add data to corresponding DataFrames\n",
    "            if 'pole_studio_data' in data and not data['pole_studio_data'].empty:\n",
    "                all_pole_studio_data = pd.concat([all_pole_studio_data, data['pole_studio_data']], ignore_index=True)\n",
    "            \n",
    "            if 'workshops_data' in data and not data['workshops_data'].empty:\n",
    "                all_workshops_data = pd.concat([all_workshops_data, data['workshops_data']], ignore_index=True)\n",
    "            \n",
    "            if 'workshop_details' in data and not data['workshop_details'].empty:\n",
    "                all_workshop_details_data = pd.concat([all_workshop_details_data, data['workshop_details']], ignore_index=True)\n",
    "\n",
    "        # Display progress\n",
    "        progress_percent = (i / total_urls) * 100\n",
    "        print(f\"Progress: {progress_percent:.2f}%\\n\")\n",
    "\n",
    "    # # Export DataFrames to CSV files\n",
    "    # all_pole_studio_data.to_csv(\"Pole_Studio_Übersicht_S.csv\", index=False)\n",
    "    # all_workshops_data.to_csv(\"Workshop_Liste_SW.csv\", index=False)\n",
    "    # all_workshop_details_data.to_csv(\"Workshop_Übersicht_E.csv\", index=False)\n",
    "\n",
    "if __name__ == \"__main__\":\n",
    "    main()\n"
   ]
  },
  {
   "cell_type": "code",
   "execution_count": 3,
   "metadata": {},
   "outputs": [
    {
     "name": "stdout",
     "output_type": "stream",
     "text": [
      "Cleaned and unique URLs saved to: all_found_urls_23.12.23_cleaned.csv\n"
     ]
    }
   ],
   "source": [
    "import pandas as pd\n",
    "\n",
    "def clean_and_unique_urls(file_path):\n",
    "    # Read the CSV file\n",
    "    all_found_urls_s = pd.read_csv(file_path, header=None, names=['index', 'url'])\n",
    "\n",
    "    # Ensure all URLs are in lowercase\n",
    "    all_found_urls_s['url'] = all_found_urls_s['url'].str.lower()\n",
    "\n",
    "    # Remove duplicate URLs\n",
    "    all_found_urls_s = all_found_urls_s.drop_duplicates(subset=['url'])\n",
    "\n",
    "    # Save the cleaned and unique URLs to a new CSV file\n",
    "    cleaned_file_path = file_path.replace('.csv', '_cleaned.csv')\n",
    "    all_found_urls_s.to_csv(cleaned_file_path, index=False, header=False)\n",
    "\n",
    "    return cleaned_file_path\n",
    "\n",
    "if __name__ == \"__main__\":\n",
    "    # Example usage\n",
    "    input_file_path = \"all_found_urls_23.12.23.csv\"\n",
    "    cleaned_file_path = clean_and_unique_urls(input_file_path)\n",
    "    print(f\"Cleaned and unique URLs saved to: {cleaned_file_path}\")\n"
   ]
  },
  {
   "cell_type": "code",
   "execution_count": 5,
   "metadata": {},
   "outputs": [
    {
     "name": "stderr",
     "output_type": "stream",
     "text": [
      "Processing URLs:   0%|          | 0/412 [00:00<?, ?it/s]"
     ]
    },
    {
     "name": "stdout",
     "output_type": "stream",
     "text": [
      "Starting URL reconstruction...\n"
     ]
    },
    {
     "name": "stderr",
     "output_type": "stream",
     "text": [
      "Processing URLs:   0%|          | 1/412 [00:01<08:23,  1.23s/it]"
     ]
    },
    {
     "name": "stdout",
     "output_type": "stream",
     "text": [
      "Error during HTTP request: 404 Client Error: Not Found for url: https://www.eversports.de/s/secret-moves---athletic-dance-studio\n",
      "Converting to DataFrame...\n",
      "Validating URLs...\n",
      "Processing completed.\n",
      "Starting URL reconstruction...\n"
     ]
    },
    {
     "name": "stderr",
     "output_type": "stream",
     "text": [
      "2024-02-01 21:38:54,096 - INFO - Processing URL 1/3: https://www.eversports.de/s/yoga-vidya-burgdorf\n"
     ]
    },
    {
     "name": "stdout",
     "output_type": "stream",
     "text": [
      "Error reconstructing URL for 'Kurse': Unrecognized text: 'Kurse'\n",
      "Error reconstructing URL for 'Retreats': Unrecognized text: 'Retreats'\n",
      "Converting to DataFrame...\n",
      "Validating URLs...\n"
     ]
    },
    {
     "name": "stderr",
     "output_type": "stream",
     "text": [
      "2024-02-01 21:38:55,420 - INFO - URL https://www.eversports.de/s/yoga-vidya-burgdorf is valid.\n",
      "2024-02-01 21:38:55,421 - INFO - Processing URL 2/3: https://www.eversports.de/sp/yoga-vidya-burgdorf\n",
      "2024-02-01 21:38:56,569 - INFO - URL https://www.eversports.de/sp/yoga-vidya-burgdorf is valid.\n",
      "2024-02-01 21:38:56,570 - INFO - Processing URL 3/3: https://www.eversports.de/s/yoga-vidya-burgdorf/team\n",
      "2024-02-01 21:38:57,942 - INFO - URL https://www.eversports.de/s/yoga-vidya-burgdorf/team is valid.\n"
     ]
    },
    {
     "name": "stdout",
     "output_type": "stream",
     "text": [
      "Scraping Pole Studio Data from https://www.eversports.de/s/yoga-vidya-burgdorf...\n"
     ]
    },
    {
     "name": "stderr",
     "output_type": "stream",
     "text": [
      "Processing URLs:   0%|          | 2/412 [00:07<28:22,  4.15s/it]"
     ]
    },
    {
     "name": "stdout",
     "output_type": "stream",
     "text": [
      "Processing completed.\n",
      "Pole Studio Data: 1 entries\n",
      "Starting URL reconstruction...\n"
     ]
    },
    {
     "name": "stderr",
     "output_type": "stream",
     "text": [
      "Processing URLs:   1%|          | 3/412 [00:08<19:01,  2.79s/it]"
     ]
    },
    {
     "name": "stdout",
     "output_type": "stream",
     "text": [
      "Error during HTTP request: 404 Client Error: Not Found for url: https://www.eversports.de/s/studio-yh-pole-(and)-sports-berlin\n",
      "Converting to DataFrame...\n",
      "Validating URLs...\n",
      "Processing completed.\n",
      "Starting URL reconstruction...\n"
     ]
    },
    {
     "name": "stderr",
     "output_type": "stream",
     "text": [
      "Processing URLs:   1%|          | 4/412 [00:13<23:37,  3.47s/it]"
     ]
    },
    {
     "name": "stdout",
     "output_type": "stream",
     "text": [
      "Error during HTTP request: Exceeded 30 redirects.\n",
      "Converting to DataFrame...\n",
      "Validating URLs...\n",
      "Processing completed.\n",
      "Starting URL reconstruction...\n"
     ]
    },
    {
     "name": "stderr",
     "output_type": "stream",
     "text": [
      "Processing URLs:   1%|          | 5/412 [00:16<23:52,  3.52s/it]"
     ]
    },
    {
     "name": "stdout",
     "output_type": "stream",
     "text": [
      "Error during HTTP request: Exceeded 30 redirects.\n",
      "Converting to DataFrame...\n",
      "Validating URLs...\n",
      "Processing completed.\n",
      "Starting URL reconstruction...\n"
     ]
    },
    {
     "name": "stderr",
     "output_type": "stream",
     "text": [
      "Processing URLs:   1%|▏         | 6/412 [00:20<24:05,  3.56s/it]"
     ]
    },
    {
     "name": "stdout",
     "output_type": "stream",
     "text": [
      "Error during HTTP request: Exceeded 30 redirects.\n",
      "Converting to DataFrame...\n",
      "Validating URLs...\n",
      "Processing completed.\n",
      "Starting URL reconstruction...\n"
     ]
    },
    {
     "name": "stderr",
     "output_type": "stream",
     "text": [
      "2024-02-01 21:39:12,601 - INFO - Processing URL 1/3: https://www.eversports.de/s/flow-academy\n"
     ]
    },
    {
     "name": "stdout",
     "output_type": "stream",
     "text": [
      "Converting to DataFrame...\n",
      "Validating URLs...\n"
     ]
    },
    {
     "name": "stderr",
     "output_type": "stream",
     "text": [
      "2024-02-01 21:39:13,781 - INFO - URL https://www.eversports.de/s/flow-academy is valid.\n",
      "2024-02-01 21:39:13,782 - INFO - Processing URL 2/3: https://www.eversports.de/sp/flow-academy\n",
      "2024-02-01 21:39:14,912 - INFO - URL https://www.eversports.de/sp/flow-academy is valid.\n",
      "2024-02-01 21:39:14,913 - INFO - Processing URL 3/3: https://www.eversports.de/s/flow-academy/team\n",
      "2024-02-01 21:39:16,129 - INFO - URL https://www.eversports.de/s/flow-academy/team is valid.\n"
     ]
    },
    {
     "name": "stdout",
     "output_type": "stream",
     "text": [
      "Scraping Pole Studio Data from https://www.eversports.de/s/flow-academy...\n"
     ]
    },
    {
     "name": "stderr",
     "output_type": "stream",
     "text": [
      "Processing URLs:   2%|▏         | 7/412 [00:26<29:52,  4.43s/it]"
     ]
    },
    {
     "name": "stdout",
     "output_type": "stream",
     "text": [
      "Processing completed.\n",
      "Pole Studio Data: 1 entries\n",
      "Starting URL reconstruction...\n"
     ]
    },
    {
     "name": "stderr",
     "output_type": "stream",
     "text": [
      "2024-02-01 21:39:18,838 - INFO - Processing URL 1/4: https://www.eversports.de/s/t-tanzstueck-wolfsburg\n"
     ]
    },
    {
     "name": "stdout",
     "output_type": "stream",
     "text": [
      "Error reconstructing URL for 'Kurse': Unrecognized text: 'Kurse'\n",
      "Converting to DataFrame...\n",
      "Validating URLs...\n"
     ]
    },
    {
     "name": "stderr",
     "output_type": "stream",
     "text": [
      "2024-02-01 21:39:25,053 - INFO - URL https://www.eversports.de/s/t-tanzstueck-wolfsburg is valid.\n",
      "2024-02-01 21:39:25,054 - INFO - Processing URL 2/4: https://www.eversports.de/sw/t-tanzstueck-wolfsburg\n",
      "2024-02-01 21:39:26,264 - INFO - URL https://www.eversports.de/sw/t-tanzstueck-wolfsburg is valid.\n",
      "2024-02-01 21:39:26,265 - INFO - Processing URL 3/4: https://www.eversports.de/sp/t-tanzstueck-wolfsburg\n",
      "2024-02-01 21:39:28,533 - INFO - URL https://www.eversports.de/sp/t-tanzstueck-wolfsburg is valid.\n",
      "2024-02-01 21:39:28,535 - INFO - Processing URL 4/4: https://www.eversports.de/s/t-tanzstueck-wolfsburg/team\n",
      "2024-02-01 21:39:30,610 - INFO - URL https://www.eversports.de/s/t-tanzstueck-wolfsburg/team is valid.\n"
     ]
    },
    {
     "name": "stdout",
     "output_type": "stream",
     "text": [
      "Scraping Pole Studio Data from https://www.eversports.de/s/t-tanzstueck-wolfsburg...\n",
      "Scraping Workshops Data from https://www.eversports.de/sw/t-tanzstueck-wolfsburg...\n",
      "Scraping Workshop Details from https://www.eversports.de/e/workshop/jg7fLUb...\n"
     ]
    },
    {
     "name": "stderr",
     "output_type": "stream",
     "text": [
      "Processing URLs:   2%|▏         | 8/412 [00:44<57:48,  8.58s/it]"
     ]
    },
    {
     "name": "stdout",
     "output_type": "stream",
     "text": [
      "Processing completed.\n",
      "Pole Studio Data: 1 entries\n",
      "Workshops Data: 1 entries\n",
      "Workshop Details: 1 entries\n",
      "Starting URL reconstruction...\n"
     ]
    },
    {
     "name": "stderr",
     "output_type": "stream",
     "text": [
      "2024-02-01 21:39:36,679 - INFO - Processing URL 1/1: https://www.eversports.de/s/the-basement-pole-dance-and-movement\n"
     ]
    },
    {
     "name": "stdout",
     "output_type": "stream",
     "text": [
      "Converting to DataFrame...\n",
      "Validating URLs...\n"
     ]
    },
    {
     "name": "stderr",
     "output_type": "stream",
     "text": [
      "2024-02-01 21:39:37,987 - INFO - URL https://www.eversports.de/s/the-basement-pole-dance-and-movement is valid.\n"
     ]
    },
    {
     "name": "stdout",
     "output_type": "stream",
     "text": [
      "Scraping Pole Studio Data from https://www.eversports.de/s/the-basement-pole-dance-and-movement...\n"
     ]
    },
    {
     "name": "stderr",
     "output_type": "stream",
     "text": [
      "Processing URLs:   2%|▏         | 9/412 [00:47<46:37,  6.94s/it]"
     ]
    },
    {
     "name": "stdout",
     "output_type": "stream",
     "text": [
      "Processing completed.\n",
      "Pole Studio Data: 1 entries\n",
      "Starting URL reconstruction...\n"
     ]
    },
    {
     "name": "stderr",
     "output_type": "stream",
     "text": [
      "Processing URLs:   2%|▏         | 10/412 [00:49<36:02,  5.38s/it]"
     ]
    },
    {
     "name": "stdout",
     "output_type": "stream",
     "text": [
      "Error during HTTP request: 404 Client Error: Not Found for url: https://www.eversports.de/s/pole-position-studio\n",
      "Converting to DataFrame...\n",
      "Validating URLs...\n",
      "Processing completed.\n",
      "Starting URL reconstruction...\n"
     ]
    },
    {
     "name": "stderr",
     "output_type": "stream",
     "text": [
      "Processing URLs:   3%|▎         | 11/412 [00:50<28:14,  4.23s/it]"
     ]
    },
    {
     "name": "stdout",
     "output_type": "stream",
     "text": [
      "Error during HTTP request: 404 Client Error: Not Found for url: https://www.eversports.de/s/palazzo-sportivo\n",
      "Converting to DataFrame...\n",
      "Validating URLs...\n",
      "Processing completed.\n",
      "Starting URL reconstruction...\n"
     ]
    },
    {
     "name": "stderr",
     "output_type": "stream",
     "text": [
      "Processing URLs:   3%|▎         | 12/412 [00:52<21:55,  3.29s/it]"
     ]
    },
    {
     "name": "stdout",
     "output_type": "stream",
     "text": [
      "Error during HTTP request: 404 Client Error: Not Found for url: https://www.eversports.de/s/pole-fit-plauen\n",
      "Converting to DataFrame...\n",
      "Validating URLs...\n",
      "Processing completed.\n",
      "Starting URL reconstruction...\n"
     ]
    },
    {
     "name": "stderr",
     "output_type": "stream",
     "text": [
      "Processing URLs:   3%|▎         | 13/412 [00:53<18:23,  2.77s/it]"
     ]
    },
    {
     "name": "stdout",
     "output_type": "stream",
     "text": [
      "Error during HTTP request: 404 Client Error: Not Found for url: https://www.eversports.de/s/studio-elodie-tanzbewegung\n",
      "Converting to DataFrame...\n",
      "Validating URLs...\n",
      "Processing completed.\n",
      "Starting URL reconstruction...\n"
     ]
    },
    {
     "name": "stderr",
     "output_type": "stream",
     "text": [
      "Processing URLs:   3%|▎         | 14/412 [00:54<15:06,  2.28s/it]"
     ]
    },
    {
     "name": "stdout",
     "output_type": "stream",
     "text": [
      "Error during HTTP request: 404 Client Error: Not Found for url: https://www.eversports.de/s/verticalarts-pole-%26-aerial-fitness\n",
      "Converting to DataFrame...\n",
      "Validating URLs...\n",
      "Processing completed.\n",
      "Starting URL reconstruction...\n"
     ]
    },
    {
     "name": "stderr",
     "output_type": "stream",
     "text": [
      "Processing URLs:   4%|▎         | 15/412 [00:55<12:42,  1.92s/it]"
     ]
    },
    {
     "name": "stdout",
     "output_type": "stream",
     "text": [
      "Error during HTTP request: 404 Client Error: Not Found for url: https://www.eversports.de/s/unique-pole-art\n",
      "Converting to DataFrame...\n",
      "Validating URLs...\n",
      "Processing completed.\n",
      "Starting URL reconstruction...\n"
     ]
    },
    {
     "name": "stderr",
     "output_type": "stream",
     "text": [
      "Processing URLs:   4%|▍         | 16/412 [00:56<10:51,  1.65s/it]"
     ]
    },
    {
     "name": "stdout",
     "output_type": "stream",
     "text": [
      "Error during HTTP request: 404 Client Error: Not Found for url: https://www.eversports.de/s/pole-faction---pole-dance-&-fitness\n",
      "Converting to DataFrame...\n",
      "Validating URLs...\n",
      "Processing completed.\n",
      "Starting URL reconstruction...\n"
     ]
    },
    {
     "name": "stderr",
     "output_type": "stream",
     "text": [
      "Processing URLs:   4%|▍         | 17/412 [01:00<14:27,  2.20s/it]"
     ]
    },
    {
     "name": "stdout",
     "output_type": "stream",
     "text": [
      "Error during HTTP request: Exceeded 30 redirects.\n",
      "Converting to DataFrame...\n",
      "Validating URLs...\n",
      "Processing completed.\n",
      "Starting URL reconstruction...\n"
     ]
    },
    {
     "name": "stderr",
     "output_type": "stream",
     "text": [
      "Processing URLs:   4%|▍         | 18/412 [01:01<12:16,  1.87s/it]"
     ]
    },
    {
     "name": "stdout",
     "output_type": "stream",
     "text": [
      "Error during HTTP request: 404 Client Error: Not Found for url: https://www.eversports.de/s/orbit-studio\n",
      "Converting to DataFrame...\n",
      "Validating URLs...\n",
      "Processing completed.\n",
      "Starting URL reconstruction...\n"
     ]
    },
    {
     "name": "stderr",
     "output_type": "stream",
     "text": [
      "2024-02-01 21:39:53,708 - INFO - Processing URL 1/4: https://www.eversports.de/s/niyaha-yoga-susann-kind\n"
     ]
    },
    {
     "name": "stdout",
     "output_type": "stream",
     "text": [
      "Error reconstructing URL for 'Events': Unrecognized text: 'Events'\n",
      "Converting to DataFrame...\n",
      "Validating URLs...\n"
     ]
    },
    {
     "name": "stderr",
     "output_type": "stream",
     "text": [
      "2024-02-01 21:39:54,946 - INFO - URL https://www.eversports.de/s/niyaha-yoga-susann-kind is valid.\n",
      "2024-02-01 21:39:54,947 - INFO - Processing URL 2/4: https://www.eversports.de/sw/niyaha-yoga-susann-kind\n",
      "2024-02-01 21:39:56,083 - INFO - URL https://www.eversports.de/sw/niyaha-yoga-susann-kind is valid.\n",
      "2024-02-01 21:39:56,084 - INFO - Processing URL 3/4: https://www.eversports.de/sp/niyaha-yoga-susann-kind\n",
      "2024-02-01 21:39:57,148 - INFO - URL https://www.eversports.de/sp/niyaha-yoga-susann-kind is valid.\n",
      "2024-02-01 21:39:57,149 - INFO - Processing URL 4/4: https://www.eversports.de/s/niyaha-yoga-susann-kind/team\n",
      "2024-02-01 21:39:58,266 - INFO - URL https://www.eversports.de/s/niyaha-yoga-susann-kind/team is valid.\n"
     ]
    },
    {
     "name": "stdout",
     "output_type": "stream",
     "text": [
      "Scraping Pole Studio Data from https://www.eversports.de/s/niyaha-yoga-susann-kind...\n",
      "Scraping Workshops Data from https://www.eversports.de/sw/niyaha-yoga-susann-kind...\n",
      "Scraping Workshop Details from https://www.eversports.de/e/workshop/u0m4PpJ...\n",
      "Scraping Workshop Details from https://www.eversports.de/e/workshop/Qph3Nhi...\n",
      "Scraping Workshop Details from https://www.eversports.de/e/workshop/cnaEonv...\n",
      "Scraping Workshop Details from https://www.eversports.de/e/workshop/VVUAlSC...\n"
     ]
    },
    {
     "name": "stderr",
     "output_type": "stream",
     "text": [
      "Processing URLs:   5%|▍         | 19/412 [01:13<33:14,  5.08s/it]"
     ]
    },
    {
     "name": "stdout",
     "output_type": "stream",
     "text": [
      "Processing completed.\n",
      "Pole Studio Data: 1 entries\n",
      "Workshops Data: 4 entries\n",
      "Workshop Details: 4 entries\n",
      "Starting URL reconstruction...\n"
     ]
    },
    {
     "name": "stderr",
     "output_type": "stream",
     "text": [
      "Processing URLs:   5%|▍         | 20/412 [01:15<25:43,  3.94s/it]"
     ]
    },
    {
     "name": "stdout",
     "output_type": "stream",
     "text": [
      "Error during HTTP request: 404 Client Error: Not Found for url: https://www.eversports.de/s/metropole-dance---now1\n",
      "Converting to DataFrame...\n",
      "Validating URLs...\n",
      "Processing completed.\n",
      "Starting URL reconstruction...\n"
     ]
    },
    {
     "name": "stderr",
     "output_type": "stream",
     "text": [
      "Processing URLs:   5%|▌         | 21/412 [01:16<20:39,  3.17s/it]"
     ]
    },
    {
     "name": "stdout",
     "output_type": "stream",
     "text": [
      "Error during HTTP request: 404 Client Error: Not Found for url: https://www.eversports.de/s/polefriends\n",
      "Converting to DataFrame...\n",
      "Validating URLs...\n",
      "Processing completed.\n",
      "Starting URL reconstruction...\n"
     ]
    },
    {
     "name": "stderr",
     "output_type": "stream",
     "text": [
      "2024-02-01 21:40:09,659 - INFO - Processing URL 1/3: https://www.eversports.de/s/spin-up\n"
     ]
    },
    {
     "name": "stdout",
     "output_type": "stream",
     "text": [
      "Converting to DataFrame...\n",
      "Validating URLs...\n"
     ]
    },
    {
     "name": "stderr",
     "output_type": "stream",
     "text": [
      "2024-02-01 21:40:11,436 - INFO - URL https://www.eversports.de/s/spin-up is valid.\n",
      "2024-02-01 21:40:11,437 - INFO - Processing URL 2/3: https://www.eversports.de/sp/spin-up\n",
      "2024-02-01 21:40:12,587 - INFO - URL https://www.eversports.de/sp/spin-up is not valid.\n",
      "2024-02-01 21:40:12,588 - INFO - Processing URL 3/3: https://www.eversports.de/s/spin-up/team\n",
      "2024-02-01 21:40:13,893 - INFO - URL https://www.eversports.de/s/spin-up/team is valid.\n"
     ]
    },
    {
     "name": "stdout",
     "output_type": "stream",
     "text": [
      "Scraping Pole Studio Data from https://www.eversports.de/s/spin-up...\n"
     ]
    },
    {
     "name": "stderr",
     "output_type": "stream",
     "text": [
      "Processing URLs:   5%|▌         | 22/412 [01:23<27:28,  4.23s/it]"
     ]
    },
    {
     "name": "stdout",
     "output_type": "stream",
     "text": [
      "Processing completed.\n",
      "Pole Studio Data: 1 entries\n",
      "Starting URL reconstruction...\n"
     ]
    },
    {
     "name": "stderr",
     "output_type": "stream",
     "text": [
      "Processing URLs:   6%|▌         | 23/412 [01:24<21:22,  3.30s/it]"
     ]
    },
    {
     "name": "stdout",
     "output_type": "stream",
     "text": [
      "Error during HTTP request: 404 Client Error: Not Found for url: https://www.eversports.de/s/pole-box\n",
      "Converting to DataFrame...\n",
      "Validating URLs...\n",
      "Processing completed.\n",
      "Starting URL reconstruction...\n"
     ]
    },
    {
     "name": "stderr",
     "output_type": "stream",
     "text": [
      "Processing URLs:   6%|▌         | 24/412 [01:27<21:33,  3.33s/it]"
     ]
    },
    {
     "name": "stdout",
     "output_type": "stream",
     "text": [
      "Error during HTTP request: Exceeded 30 redirects.\n",
      "Converting to DataFrame...\n",
      "Validating URLs...\n",
      "Processing completed.\n",
      "Starting URL reconstruction...\n"
     ]
    },
    {
     "name": "stderr",
     "output_type": "stream",
     "text": [
      "Processing URLs:   6%|▌         | 25/412 [01:28<17:13,  2.67s/it]"
     ]
    },
    {
     "name": "stdout",
     "output_type": "stream",
     "text": [
      "Error during HTTP request: 404 Client Error: Not Found for url: https://www.eversports.de/s/flexx-arts-memmingen\n",
      "Converting to DataFrame...\n",
      "Validating URLs...\n",
      "Processing completed.\n",
      "Starting URL reconstruction...\n"
     ]
    },
    {
     "name": "stderr",
     "output_type": "stream",
     "text": [
      "2024-02-01 21:40:21,191 - INFO - Processing URL 1/4: https://www.eversports.de/s/body-meets-soul-leipzig\n"
     ]
    },
    {
     "name": "stdout",
     "output_type": "stream",
     "text": [
      "Converting to DataFrame...\n",
      "Validating URLs...\n"
     ]
    },
    {
     "name": "stderr",
     "output_type": "stream",
     "text": [
      "2024-02-01 21:40:22,419 - INFO - URL https://www.eversports.de/s/body-meets-soul-leipzig is valid.\n",
      "2024-02-01 21:40:22,420 - INFO - Processing URL 2/4: https://www.eversports.de/sw/body-meets-soul-leipzig\n",
      "2024-02-01 21:40:23,563 - INFO - URL https://www.eversports.de/sw/body-meets-soul-leipzig is valid.\n",
      "2024-02-01 21:40:23,564 - INFO - Processing URL 3/4: https://www.eversports.de/sp/body-meets-soul-leipzig\n",
      "2024-02-01 21:40:24,784 - INFO - URL https://www.eversports.de/sp/body-meets-soul-leipzig is valid.\n",
      "2024-02-01 21:40:24,785 - INFO - Processing URL 4/4: https://www.eversports.de/s/body-meets-soul-leipzig/team\n",
      "2024-02-01 21:40:26,126 - INFO - URL https://www.eversports.de/s/body-meets-soul-leipzig/team is valid.\n"
     ]
    },
    {
     "name": "stdout",
     "output_type": "stream",
     "text": [
      "Scraping Pole Studio Data from https://www.eversports.de/s/body-meets-soul-leipzig...\n",
      "Scraping Workshops Data from https://www.eversports.de/sw/body-meets-soul-leipzig...\n",
      "Scraping Workshop Details from https://www.eversports.de/e/workshop/uO9N1VQ...\n"
     ]
    },
    {
     "name": "stderr",
     "output_type": "stream",
     "text": [
      "Processing URLs:   6%|▋         | 26/412 [01:38<29:27,  4.58s/it]"
     ]
    },
    {
     "name": "stdout",
     "output_type": "stream",
     "text": [
      "Processing completed.\n",
      "Pole Studio Data: 1 entries\n",
      "Workshops Data: 1 entries\n",
      "Workshop Details: 1 entries\n",
      "Starting URL reconstruction...\n"
     ]
    },
    {
     "name": "stderr",
     "output_type": "stream",
     "text": [
      "2024-02-01 21:40:30,375 - INFO - Processing URL 1/3: https://www.eversports.de/s/ima-intentional-movement-academy\n"
     ]
    },
    {
     "name": "stdout",
     "output_type": "stream",
     "text": [
      "Error reconstructing URL for 'Retreats': Unrecognized text: 'Retreats'\n",
      "Converting to DataFrame...\n",
      "Validating URLs...\n"
     ]
    },
    {
     "name": "stderr",
     "output_type": "stream",
     "text": [
      "2024-02-01 21:40:31,751 - INFO - URL https://www.eversports.de/s/ima-intentional-movement-academy is valid.\n",
      "2024-02-01 21:40:31,752 - INFO - Processing URL 2/3: https://www.eversports.de/sp/ima-intentional-movement-academy\n",
      "2024-02-01 21:40:32,926 - INFO - URL https://www.eversports.de/sp/ima-intentional-movement-academy is valid.\n",
      "2024-02-01 21:40:32,927 - INFO - Processing URL 3/3: https://www.eversports.de/s/ima-intentional-movement-academy/team\n",
      "2024-02-01 21:40:34,183 - INFO - URL https://www.eversports.de/s/ima-intentional-movement-academy/team is valid.\n"
     ]
    },
    {
     "name": "stdout",
     "output_type": "stream",
     "text": [
      "Scraping Pole Studio Data from https://www.eversports.de/s/ima-intentional-movement-academy...\n"
     ]
    },
    {
     "name": "stderr",
     "output_type": "stream",
     "text": [
      "Processing URLs:   7%|▋         | 27/412 [01:43<31:15,  4.87s/it]"
     ]
    },
    {
     "name": "stdout",
     "output_type": "stream",
     "text": [
      "Processing completed.\n",
      "Pole Studio Data: 1 entries\n",
      "Starting URL reconstruction...\n"
     ]
    },
    {
     "name": "stderr",
     "output_type": "stream",
     "text": [
      "2024-02-01 21:40:36,280 - INFO - Processing URL 1/4: https://www.eversports.de/s/koerpernah\n"
     ]
    },
    {
     "name": "stdout",
     "output_type": "stream",
     "text": [
      "Converting to DataFrame...\n",
      "Validating URLs...\n"
     ]
    },
    {
     "name": "stderr",
     "output_type": "stream",
     "text": [
      "2024-02-01 21:40:37,867 - INFO - URL https://www.eversports.de/s/koerpernah is valid.\n",
      "2024-02-01 21:40:37,868 - INFO - Processing URL 2/4: https://www.eversports.de/sw/koerpernah\n",
      "2024-02-01 21:40:38,985 - INFO - URL https://www.eversports.de/sw/koerpernah is valid.\n",
      "2024-02-01 21:40:38,986 - INFO - Processing URL 3/4: https://www.eversports.de/sp/koerpernah\n",
      "2024-02-01 21:40:40,265 - INFO - URL https://www.eversports.de/sp/koerpernah is valid.\n",
      "2024-02-01 21:40:40,267 - INFO - Processing URL 4/4: https://www.eversports.de/s/koerpernah/team\n",
      "2024-02-01 21:40:41,484 - INFO - URL https://www.eversports.de/s/koerpernah/team is valid.\n"
     ]
    },
    {
     "name": "stdout",
     "output_type": "stream",
     "text": [
      "Scraping Pole Studio Data from https://www.eversports.de/s/koerpernah...\n",
      "Scraping Workshops Data from https://www.eversports.de/sw/koerpernah...\n",
      "Scraping Workshop Details from https://www.eversports.de/e/workshop/MfhCem5...\n"
     ]
    },
    {
     "name": "stderr",
     "output_type": "stream",
     "text": [
      "Processing URLs:   7%|▋         | 28/412 [01:53<41:13,  6.44s/it]"
     ]
    },
    {
     "name": "stdout",
     "output_type": "stream",
     "text": [
      "Processing completed.\n",
      "Pole Studio Data: 1 entries\n",
      "Workshops Data: 1 entries\n",
      "Workshop Details: 1 entries\n",
      "Starting URL reconstruction...\n"
     ]
    },
    {
     "name": "stderr",
     "output_type": "stream",
     "text": [
      "Processing URLs:   7%|▋         | 29/412 [01:54<31:17,  4.90s/it]"
     ]
    },
    {
     "name": "stdout",
     "output_type": "stream",
     "text": [
      "Error during HTTP request: 404 Client Error: Not Found for url: https://www.eversports.de/s/pole2dance---vertical-fitness-and-dance-company\n",
      "Converting to DataFrame...\n",
      "Validating URLs...\n",
      "Processing completed.\n",
      "Starting URL reconstruction...\n"
     ]
    },
    {
     "name": "stderr",
     "output_type": "stream",
     "text": [
      "Processing URLs:   7%|▋         | 30/412 [01:56<24:04,  3.78s/it]"
     ]
    },
    {
     "name": "stdout",
     "output_type": "stream",
     "text": [
      "Error during HTTP request: 404 Client Error: Not Found for url: https://www.eversports.de/s/polegarage-iserloh\n",
      "Converting to DataFrame...\n",
      "Validating URLs...\n",
      "Processing completed.\n",
      "Starting URL reconstruction...\n"
     ]
    },
    {
     "name": "stderr",
     "output_type": "stream",
     "text": [
      "2024-02-01 21:40:48,549 - INFO - Processing URL 1/4: https://www.eversports.de/s/dance-and-pole-leverkusen\n"
     ]
    },
    {
     "name": "stdout",
     "output_type": "stream",
     "text": [
      "Converting to DataFrame...\n",
      "Validating URLs...\n"
     ]
    },
    {
     "name": "stderr",
     "output_type": "stream",
     "text": [
      "2024-02-01 21:40:50,848 - INFO - URL https://www.eversports.de/s/dance-and-pole-leverkusen is valid.\n",
      "2024-02-01 21:40:50,849 - INFO - Processing URL 2/4: https://www.eversports.de/sw/dance-and-pole-leverkusen\n",
      "2024-02-01 21:40:52,022 - INFO - URL https://www.eversports.de/sw/dance-and-pole-leverkusen is valid.\n",
      "2024-02-01 21:40:52,023 - INFO - Processing URL 3/4: https://www.eversports.de/sp/dance-and-pole-leverkusen\n",
      "2024-02-01 21:40:53,238 - INFO - URL https://www.eversports.de/sp/dance-and-pole-leverkusen is valid.\n",
      "2024-02-01 21:40:53,239 - INFO - Processing URL 4/4: https://www.eversports.de/s/dance-and-pole-leverkusen/team\n",
      "2024-02-01 21:40:54,508 - INFO - URL https://www.eversports.de/s/dance-and-pole-leverkusen/team is valid.\n"
     ]
    },
    {
     "name": "stdout",
     "output_type": "stream",
     "text": [
      "Scraping Pole Studio Data from https://www.eversports.de/s/dance-and-pole-leverkusen...\n",
      "Scraping Workshops Data from https://www.eversports.de/sw/dance-and-pole-leverkusen...\n",
      "Scraping Workshop Details from https://www.eversports.de/e/workshop/II-gWEL...\n"
     ]
    },
    {
     "name": "stderr",
     "output_type": "stream",
     "text": [
      "Processing URLs:   8%|▊         | 31/412 [02:06<36:51,  5.81s/it]"
     ]
    },
    {
     "name": "stdout",
     "output_type": "stream",
     "text": [
      "Processing completed.\n",
      "Pole Studio Data: 1 entries\n",
      "Workshops Data: 1 entries\n",
      "Workshop Details: 1 entries\n",
      "Starting URL reconstruction...\n"
     ]
    },
    {
     "name": "stderr",
     "output_type": "stream",
     "text": [
      "2024-02-01 21:41:00,646 - INFO - Processing URL 1/3: https://www.eversports.de/s/pole-arts\n"
     ]
    },
    {
     "name": "stdout",
     "output_type": "stream",
     "text": [
      "Error reconstructing URL for 'Kurse': Unrecognized text: 'Kurse'\n",
      "Converting to DataFrame...\n",
      "Validating URLs...\n"
     ]
    },
    {
     "name": "stderr",
     "output_type": "stream",
     "text": [
      "2024-02-01 21:41:02,110 - INFO - URL https://www.eversports.de/s/pole-arts is valid.\n",
      "2024-02-01 21:41:02,112 - INFO - Processing URL 2/3: https://www.eversports.de/sp/pole-arts\n",
      "2024-02-01 21:41:03,328 - INFO - URL https://www.eversports.de/sp/pole-arts is valid.\n",
      "2024-02-01 21:41:03,328 - INFO - Processing URL 3/3: https://www.eversports.de/s/pole-arts/team\n",
      "2024-02-01 21:41:04,617 - INFO - URL https://www.eversports.de/s/pole-arts/team is valid.\n"
     ]
    },
    {
     "name": "stdout",
     "output_type": "stream",
     "text": [
      "Scraping Pole Studio Data from https://www.eversports.de/s/pole-arts...\n"
     ]
    },
    {
     "name": "stderr",
     "output_type": "stream",
     "text": [
      "Processing URLs:   8%|▊         | 32/412 [02:14<39:53,  6.30s/it]"
     ]
    },
    {
     "name": "stdout",
     "output_type": "stream",
     "text": [
      "Processing completed.\n",
      "Pole Studio Data: 1 entries\n",
      "Starting URL reconstruction...\n"
     ]
    },
    {
     "name": "stderr",
     "output_type": "stream",
     "text": [
      "2024-02-01 21:41:06,749 - INFO - Processing URL 1/4: https://www.eversports.de/s/royal-pole\n"
     ]
    },
    {
     "name": "stdout",
     "output_type": "stream",
     "text": [
      "Error reconstructing URL for 'Freie Trainings': Unrecognized text: 'Freie Trainings'\n",
      "Converting to DataFrame...\n",
      "Validating URLs...\n"
     ]
    },
    {
     "name": "stderr",
     "output_type": "stream",
     "text": [
      "2024-02-01 21:41:08,950 - INFO - URL https://www.eversports.de/s/royal-pole is valid.\n",
      "2024-02-01 21:41:08,951 - INFO - Processing URL 2/4: https://www.eversports.de/sw/royal-pole\n",
      "2024-02-01 21:41:10,141 - INFO - URL https://www.eversports.de/sw/royal-pole is not valid.\n",
      "2024-02-01 21:41:10,142 - INFO - Processing URL 3/4: https://www.eversports.de/sp/royal-pole\n",
      "2024-02-01 21:41:11,816 - INFO - URL https://www.eversports.de/sp/royal-pole is not valid.\n",
      "2024-02-01 21:41:11,818 - INFO - Processing URL 4/4: https://www.eversports.de/s/royal-pole/team\n",
      "2024-02-01 21:41:13,037 - INFO - URL https://www.eversports.de/s/royal-pole/team is valid.\n"
     ]
    },
    {
     "name": "stdout",
     "output_type": "stream",
     "text": [
      "Scraping Pole Studio Data from https://www.eversports.de/s/royal-pole...\n"
     ]
    },
    {
     "name": "stderr",
     "output_type": "stream",
     "text": [
      "Processing URLs:   8%|▊         | 33/412 [02:22<43:43,  6.92s/it]"
     ]
    },
    {
     "name": "stdout",
     "output_type": "stream",
     "text": [
      "Processing completed.\n",
      "Pole Studio Data: 1 entries\n",
      "Starting URL reconstruction...\n"
     ]
    },
    {
     "name": "stderr",
     "output_type": "stream",
     "text": [
      "2024-02-01 21:41:14,853 - INFO - Processing URL 1/4: https://www.eversports.de/s/stadtgazellen-bremen\n"
     ]
    },
    {
     "name": "stdout",
     "output_type": "stream",
     "text": [
      "Converting to DataFrame...\n",
      "Validating URLs...\n"
     ]
    },
    {
     "name": "stderr",
     "output_type": "stream",
     "text": [
      "2024-02-01 21:41:16,272 - INFO - URL https://www.eversports.de/s/stadtgazellen-bremen is valid.\n",
      "2024-02-01 21:41:16,273 - INFO - Processing URL 2/4: https://www.eversports.de/sw/stadtgazellen-bremen\n",
      "2024-02-01 21:41:17,414 - INFO - URL https://www.eversports.de/sw/stadtgazellen-bremen is valid.\n",
      "2024-02-01 21:41:17,415 - INFO - Processing URL 3/4: https://www.eversports.de/sp/stadtgazellen-bremen\n",
      "2024-02-01 21:41:18,569 - INFO - URL https://www.eversports.de/sp/stadtgazellen-bremen is valid.\n",
      "2024-02-01 21:41:18,570 - INFO - Processing URL 4/4: https://www.eversports.de/s/stadtgazellen-bremen/team\n",
      "2024-02-01 21:41:19,771 - INFO - URL https://www.eversports.de/s/stadtgazellen-bremen/team is valid.\n"
     ]
    },
    {
     "name": "stdout",
     "output_type": "stream",
     "text": [
      "Scraping Pole Studio Data from https://www.eversports.de/s/stadtgazellen-bremen...\n",
      "Scraping Workshops Data from https://www.eversports.de/sw/stadtgazellen-bremen...\n",
      "Scraping Workshop Details from https://www.eversports.de/e/workshop/YiU_KF8...\n",
      "Scraping Workshop Details from https://www.eversports.de/e/workshop/Vnofur2...\n",
      "Scraping Workshop Details from https://www.eversports.de/e/workshop/wFn4PaN...\n",
      "Scraping Workshop Details from https://www.eversports.de/e/workshop/6ZllXAZ...\n",
      "Scraping Workshop Details from https://www.eversports.de/e/workshop/L5UxsO9...\n",
      "Scraping Workshop Details from https://www.eversports.de/e/workshop/7blW22y...\n",
      "Scraping Workshop Details from https://www.eversports.de/e/workshop/v4tYN09...\n",
      "Scraping Workshop Details from https://www.eversports.de/e/workshop/KWx3LyO...\n",
      "Scraping Workshop Details from https://www.eversports.de/e/workshop/WRl24o5...\n",
      "Scraping Workshop Details from https://www.eversports.de/e/workshop/wrZkEQ3...\n"
     ]
    },
    {
     "name": "stderr",
     "output_type": "stream",
     "text": [
      "Processing URLs:   8%|▊         | 34/412 [02:44<1:11:45, 11.39s/it]"
     ]
    },
    {
     "name": "stdout",
     "output_type": "stream",
     "text": [
      "Processing completed.\n",
      "Pole Studio Data: 1 entries\n",
      "Workshops Data: 10 entries\n",
      "Workshop Details: 10 entries\n",
      "Starting URL reconstruction...\n"
     ]
    },
    {
     "name": "stderr",
     "output_type": "stream",
     "text": [
      "2024-02-01 21:41:36,617 - INFO - Processing URL 1/2: https://www.eversports.de/s/annis-pole-dance-neumuenster\n"
     ]
    },
    {
     "name": "stdout",
     "output_type": "stream",
     "text": [
      "Error reconstructing URL for 'Trainings': Unrecognized text: 'Trainings'\n",
      "Error reconstructing URL for 'Kurse': Unrecognized text: 'Kurse'\n",
      "Converting to DataFrame...\n",
      "Validating URLs...\n"
     ]
    },
    {
     "name": "stderr",
     "output_type": "stream",
     "text": [
      "2024-02-01 21:41:37,860 - INFO - URL https://www.eversports.de/s/annis-pole-dance-neumuenster is valid.\n",
      "2024-02-01 21:41:37,861 - INFO - Processing URL 2/2: https://www.eversports.de/s/annis-pole-dance-neumuenster/team\n",
      "2024-02-01 21:41:39,132 - INFO - URL https://www.eversports.de/s/annis-pole-dance-neumuenster/team is valid.\n"
     ]
    },
    {
     "name": "stdout",
     "output_type": "stream",
     "text": [
      "Scraping Pole Studio Data from https://www.eversports.de/s/annis-pole-dance-neumuenster...\n"
     ]
    },
    {
     "name": "stderr",
     "output_type": "stream",
     "text": [
      "Processing URLs:   8%|▊         | 35/412 [02:49<1:00:28,  9.63s/it]"
     ]
    },
    {
     "name": "stdout",
     "output_type": "stream",
     "text": [
      "Processing completed.\n",
      "Pole Studio Data: 1 entries\n",
      "Starting URL reconstruction...\n"
     ]
    },
    {
     "name": "stderr",
     "output_type": "stream",
     "text": [
      "Processing URLs:   9%|▊         | 36/412 [02:50<44:10,  7.05s/it]  "
     ]
    },
    {
     "name": "stdout",
     "output_type": "stream",
     "text": [
      "Error during HTTP request: 404 Client Error: Not Found for url: https://www.eversports.de/s/move-on!-dance-studio-&-polemotions\n",
      "Converting to DataFrame...\n",
      "Validating URLs...\n",
      "Processing completed.\n",
      "Starting URL reconstruction...\n"
     ]
    },
    {
     "name": "stderr",
     "output_type": "stream",
     "text": [
      "Processing URLs:   9%|▉         | 37/412 [02:52<33:30,  5.36s/it]"
     ]
    },
    {
     "name": "stdout",
     "output_type": "stream",
     "text": [
      "Error during HTTP request: 404 Client Error: Not Found for url: https://www.eversports.de/s/poleroom\n",
      "Converting to DataFrame...\n",
      "Validating URLs...\n",
      "Processing completed.\n",
      "Starting URL reconstruction...\n"
     ]
    },
    {
     "name": "stderr",
     "output_type": "stream",
     "text": [
      "2024-02-01 21:41:45,334 - INFO - Processing URL 1/4: https://www.eversports.de/s/soultide\n"
     ]
    },
    {
     "name": "stdout",
     "output_type": "stream",
     "text": [
      "Error reconstructing URL for 'Retreats': Unrecognized text: 'Retreats'\n",
      "Converting to DataFrame...\n",
      "Validating URLs...\n"
     ]
    },
    {
     "name": "stderr",
     "output_type": "stream",
     "text": [
      "2024-02-01 21:41:46,671 - INFO - URL https://www.eversports.de/s/soultide is valid.\n",
      "2024-02-01 21:41:46,672 - INFO - Processing URL 2/4: https://www.eversports.de/sw/soultide\n",
      "2024-02-01 21:41:48,069 - INFO - URL https://www.eversports.de/sw/soultide is valid.\n",
      "2024-02-01 21:41:48,071 - INFO - Processing URL 3/4: https://www.eversports.de/sp/soultide\n",
      "2024-02-01 21:41:49,285 - INFO - URL https://www.eversports.de/sp/soultide is valid.\n",
      "2024-02-01 21:41:49,286 - INFO - Processing URL 4/4: https://www.eversports.de/s/soultide/team\n",
      "2024-02-01 21:41:50,494 - INFO - URL https://www.eversports.de/s/soultide/team is valid.\n"
     ]
    },
    {
     "name": "stdout",
     "output_type": "stream",
     "text": [
      "Scraping Pole Studio Data from https://www.eversports.de/s/soultide...\n",
      "Scraping Workshops Data from https://www.eversports.de/sw/soultide...\n",
      "Scraping Workshop Details from https://www.eversports.de/e/workshop/Q5aPZDK...\n",
      "Scraping Workshop Details from https://www.eversports.de/e/workshop/U2ElOtm...\n",
      "Scraping Workshop Details from https://www.eversports.de/e/workshop/npdGKjQ...\n"
     ]
    },
    {
     "name": "stderr",
     "output_type": "stream",
     "text": [
      "Processing URLs:   9%|▉         | 38/412 [03:06<49:05,  7.88s/it]"
     ]
    },
    {
     "name": "stdout",
     "output_type": "stream",
     "text": [
      "Processing completed.\n",
      "Pole Studio Data: 1 entries\n",
      "Workshops Data: 3 entries\n",
      "Workshop Details: 3 entries\n",
      "Starting URL reconstruction...\n"
     ]
    },
    {
     "name": "stderr",
     "output_type": "stream",
     "text": [
      "2024-02-01 21:41:58,252 - INFO - Processing URL 1/4: https://www.eversports.de/s/pole-plus\n"
     ]
    },
    {
     "name": "stdout",
     "output_type": "stream",
     "text": [
      "Converting to DataFrame...\n",
      "Validating URLs...\n"
     ]
    },
    {
     "name": "stderr",
     "output_type": "stream",
     "text": [
      "2024-02-01 21:41:59,538 - INFO - URL https://www.eversports.de/s/pole-plus is valid.\n",
      "2024-02-01 21:41:59,539 - INFO - Processing URL 2/4: https://www.eversports.de/sw/pole-plus\n",
      "2024-02-01 21:42:00,885 - INFO - URL https://www.eversports.de/sw/pole-plus is valid.\n",
      "2024-02-01 21:42:00,887 - INFO - Processing URL 3/4: https://www.eversports.de/sp/pole-plus\n",
      "2024-02-01 21:42:02,024 - INFO - URL https://www.eversports.de/sp/pole-plus is valid.\n",
      "2024-02-01 21:42:02,025 - INFO - Processing URL 4/4: https://www.eversports.de/s/pole-plus/team\n",
      "2024-02-01 21:42:03,228 - INFO - URL https://www.eversports.de/s/pole-plus/team is valid.\n"
     ]
    },
    {
     "name": "stdout",
     "output_type": "stream",
     "text": [
      "Scraping Pole Studio Data from https://www.eversports.de/s/pole-plus...\n",
      "Scraping Workshops Data from https://www.eversports.de/sw/pole-plus...\n",
      "Scraping Workshop Details from https://www.eversports.de/e/workshop/NHtp6Mw...\n",
      "Scraping Workshop Details from https://www.eversports.de/e/workshop/upSDQIA...\n",
      "Scraping Workshop Details from https://www.eversports.de/e/workshop/lBLI7xf...\n"
     ]
    },
    {
     "name": "stderr",
     "output_type": "stream",
     "text": [
      "Processing URLs:   9%|▉         | 39/412 [03:21<1:03:17, 10.18s/it]"
     ]
    },
    {
     "name": "stdout",
     "output_type": "stream",
     "text": [
      "Processing completed.\n",
      "Pole Studio Data: 1 entries\n",
      "Workshops Data: 3 entries\n",
      "Workshop Details: 3 entries\n",
      "Starting URL reconstruction...\n"
     ]
    },
    {
     "name": "stderr",
     "output_type": "stream",
     "text": [
      "2024-02-01 21:42:13,889 - INFO - Processing URL 1/4: https://www.eversports.de/s/pole-acrobatics\n"
     ]
    },
    {
     "name": "stdout",
     "output_type": "stream",
     "text": [
      "Error reconstructing URL for 'Trainings': Unrecognized text: 'Trainings'\n",
      "Converting to DataFrame...\n",
      "Validating URLs...\n"
     ]
    },
    {
     "name": "stderr",
     "output_type": "stream",
     "text": [
      "2024-02-01 21:42:15,201 - INFO - URL https://www.eversports.de/s/pole-acrobatics is valid.\n",
      "2024-02-01 21:42:15,202 - INFO - Processing URL 2/4: https://www.eversports.de/sw/pole-acrobatics\n",
      "2024-02-01 21:42:16,350 - INFO - URL https://www.eversports.de/sw/pole-acrobatics is valid.\n",
      "2024-02-01 21:42:16,351 - INFO - Processing URL 3/4: https://www.eversports.de/sp/pole-acrobatics\n",
      "2024-02-01 21:42:17,541 - INFO - URL https://www.eversports.de/sp/pole-acrobatics is valid.\n",
      "2024-02-01 21:42:17,542 - INFO - Processing URL 4/4: https://www.eversports.de/s/pole-acrobatics/team\n",
      "2024-02-01 21:42:18,761 - INFO - URL https://www.eversports.de/s/pole-acrobatics/team is valid.\n"
     ]
    },
    {
     "name": "stdout",
     "output_type": "stream",
     "text": [
      "Scraping Pole Studio Data from https://www.eversports.de/s/pole-acrobatics...\n",
      "Scraping Workshops Data from https://www.eversports.de/sw/pole-acrobatics...\n",
      "Scraping Workshop Details from https://www.eversports.de/e/workshop/-wGhAaJ...\n"
     ]
    },
    {
     "name": "stderr",
     "output_type": "stream",
     "text": [
      "Processing URLs:  10%|▉         | 40/412 [03:30<1:01:06,  9.86s/it]"
     ]
    },
    {
     "name": "stdout",
     "output_type": "stream",
     "text": [
      "Processing completed.\n",
      "Pole Studio Data: 1 entries\n",
      "Workshops Data: 1 entries\n",
      "Workshop Details: 1 entries\n",
      "Starting URL reconstruction...\n"
     ]
    },
    {
     "name": "stderr",
     "output_type": "stream",
     "text": [
      "Processing URLs:  10%|▉         | 41/412 [03:31<45:02,  7.28s/it]  "
     ]
    },
    {
     "name": "stdout",
     "output_type": "stream",
     "text": [
      "Error during HTTP request: 404 Client Error: Not Found for url: https://www.eversports.de/s/lift-off---poledance-academy-frankfurt\n",
      "Converting to DataFrame...\n",
      "Validating URLs...\n",
      "Processing completed.\n",
      "Starting URL reconstruction...\n"
     ]
    },
    {
     "name": "stderr",
     "output_type": "stream",
     "text": [
      "2024-02-01 21:42:26,535 - INFO - Processing URL 1/3: https://www.eversports.de/s/loft1-basel-city\n"
     ]
    },
    {
     "name": "stdout",
     "output_type": "stream",
     "text": [
      "Converting to DataFrame...\n",
      "Validating URLs...\n"
     ]
    },
    {
     "name": "stderr",
     "output_type": "stream",
     "text": [
      "2024-02-01 21:42:27,923 - INFO - URL https://www.eversports.de/s/loft1-basel-city is valid.\n",
      "2024-02-01 21:42:27,925 - INFO - Processing URL 2/3: https://www.eversports.de/sp/loft1-basel-city\n",
      "2024-02-01 21:42:29,037 - INFO - URL https://www.eversports.de/sp/loft1-basel-city is not valid.\n",
      "2024-02-01 21:42:29,037 - INFO - Processing URL 3/3: https://www.eversports.de/s/loft1-basel-city/team\n",
      "2024-02-01 21:42:30,290 - INFO - URL https://www.eversports.de/s/loft1-basel-city/team is valid.\n"
     ]
    },
    {
     "name": "stdout",
     "output_type": "stream",
     "text": [
      "Scraping Pole Studio Data from https://www.eversports.de/s/loft1-basel-city...\n"
     ]
    },
    {
     "name": "stderr",
     "output_type": "stream",
     "text": [
      "Processing URLs:  10%|█         | 42/412 [03:39<46:09,  7.49s/it]"
     ]
    },
    {
     "name": "stdout",
     "output_type": "stream",
     "text": [
      "Processing completed.\n",
      "Pole Studio Data: 1 entries\n",
      "Starting URL reconstruction...\n"
     ]
    },
    {
     "name": "stderr",
     "output_type": "stream",
     "text": [
      "2024-02-01 21:42:32,224 - INFO - Processing URL 1/4: https://www.eversports.de/s/polefit-aline-sustrath\n"
     ]
    },
    {
     "name": "stdout",
     "output_type": "stream",
     "text": [
      "Error reconstructing URL for 'Kurse': Unrecognized text: 'Kurse'\n",
      "Converting to DataFrame...\n",
      "Validating URLs...\n"
     ]
    },
    {
     "name": "stderr",
     "output_type": "stream",
     "text": [
      "2024-02-01 21:42:33,542 - INFO - URL https://www.eversports.de/s/polefit-aline-sustrath is valid.\n",
      "2024-02-01 21:42:33,542 - INFO - Processing URL 2/4: https://www.eversports.de/sw/polefit-aline-sustrath\n",
      "2024-02-01 21:42:34,650 - INFO - URL https://www.eversports.de/sw/polefit-aline-sustrath is valid.\n",
      "2024-02-01 21:42:34,651 - INFO - Processing URL 3/4: https://www.eversports.de/sp/polefit-aline-sustrath\n",
      "2024-02-01 21:42:35,736 - INFO - URL https://www.eversports.de/sp/polefit-aline-sustrath is valid.\n",
      "2024-02-01 21:42:35,737 - INFO - Processing URL 4/4: https://www.eversports.de/s/polefit-aline-sustrath/team\n",
      "2024-02-01 21:42:36,891 - INFO - URL https://www.eversports.de/s/polefit-aline-sustrath/team is valid.\n"
     ]
    },
    {
     "name": "stdout",
     "output_type": "stream",
     "text": [
      "Scraping Pole Studio Data from https://www.eversports.de/s/polefit-aline-sustrath...\n",
      "Scraping Workshops Data from https://www.eversports.de/sw/polefit-aline-sustrath...\n",
      "Scraping Workshop Details from https://www.eversports.de/e/workshop/F0nh2br...\n"
     ]
    },
    {
     "name": "stderr",
     "output_type": "stream",
     "text": [
      "Processing URLs:  10%|█         | 43/412 [03:48<48:28,  7.88s/it]"
     ]
    },
    {
     "name": "stdout",
     "output_type": "stream",
     "text": [
      "Processing completed.\n",
      "Pole Studio Data: 1 entries\n",
      "Workshops Data: 1 entries\n",
      "Workshop Details: 1 entries\n",
      "Starting URL reconstruction...\n"
     ]
    },
    {
     "name": "stderr",
     "output_type": "stream",
     "text": [
      "Processing URLs:  11%|█         | 44/412 [03:50<36:16,  5.91s/it]"
     ]
    },
    {
     "name": "stdout",
     "output_type": "stream",
     "text": [
      "Error during HTTP request: 404 Client Error: Not Found for url: https://www.eversports.de/s/aerial-balance\n",
      "Converting to DataFrame...\n",
      "Validating URLs...\n",
      "Processing completed.\n",
      "Starting URL reconstruction...\n"
     ]
    },
    {
     "name": "stderr",
     "output_type": "stream",
     "text": [
      "Processing URLs:  11%|█         | 45/412 [03:53<32:28,  5.31s/it]"
     ]
    },
    {
     "name": "stdout",
     "output_type": "stream",
     "text": [
      "Error during HTTP request: Exceeded 30 redirects.\n",
      "Converting to DataFrame...\n",
      "Validating URLs...\n",
      "Processing completed.\n",
      "Starting URL reconstruction...\n"
     ]
    },
    {
     "name": "stderr",
     "output_type": "stream",
     "text": [
      "Processing URLs:  11%|█         | 46/412 [03:55<24:50,  4.07s/it]"
     ]
    },
    {
     "name": "stdout",
     "output_type": "stream",
     "text": [
      "Error during HTTP request: 404 Client Error: Not Found for url: https://www.eversports.de/s/freaky-pole-cats-schwandorf\n",
      "Converting to DataFrame...\n",
      "Validating URLs...\n",
      "Processing completed.\n",
      "Starting URL reconstruction...\n"
     ]
    },
    {
     "name": "stderr",
     "output_type": "stream",
     "text": [
      "2024-02-01 21:42:47,520 - INFO - Processing URL 1/1: https://www.eversports.de/s/artletik-ug-laufen-und-meer\n"
     ]
    },
    {
     "name": "stdout",
     "output_type": "stream",
     "text": [
      "Converting to DataFrame...\n",
      "Validating URLs...\n"
     ]
    },
    {
     "name": "stderr",
     "output_type": "stream",
     "text": [
      "2024-02-01 21:42:49,115 - INFO - URL https://www.eversports.de/s/artletik-ug-laufen-und-meer is valid.\n"
     ]
    },
    {
     "name": "stdout",
     "output_type": "stream",
     "text": [
      "Scraping Pole Studio Data from https://www.eversports.de/s/artletik-ug-laufen-und-meer...\n"
     ]
    },
    {
     "name": "stderr",
     "output_type": "stream",
     "text": [
      "Processing URLs:  11%|█▏        | 47/412 [03:59<24:24,  4.01s/it]"
     ]
    },
    {
     "name": "stdout",
     "output_type": "stream",
     "text": [
      "Processing completed.\n",
      "Pole Studio Data: 1 entries\n",
      "Starting URL reconstruction...\n"
     ]
    },
    {
     "name": "stderr",
     "output_type": "stream",
     "text": [
      "Processing URLs:  12%|█▏        | 48/412 [04:00<19:13,  3.17s/it]"
     ]
    },
    {
     "name": "stdout",
     "output_type": "stream",
     "text": [
      "Error during HTTP request: 404 Client Error: Not Found for url: https://www.eversports.de/s/sky-move-pole-sport\n",
      "Converting to DataFrame...\n",
      "Validating URLs...\n",
      "Processing completed.\n",
      "Starting URL reconstruction...\n"
     ]
    },
    {
     "name": "stderr",
     "output_type": "stream",
     "text": [
      "2024-02-01 21:42:53,181 - INFO - Processing URL 1/3: https://www.eversports.de/s/secret-moves-athletic-dance-studio\n"
     ]
    },
    {
     "name": "stdout",
     "output_type": "stream",
     "text": [
      "Converting to DataFrame...\n",
      "Validating URLs...\n"
     ]
    },
    {
     "name": "stderr",
     "output_type": "stream",
     "text": [
      "2024-02-01 21:42:54,819 - INFO - URL https://www.eversports.de/s/secret-moves-athletic-dance-studio is valid.\n",
      "2024-02-01 21:42:54,820 - INFO - Processing URL 2/3: https://www.eversports.de/sp/secret-moves-athletic-dance-studio\n",
      "2024-02-01 21:42:56,037 - INFO - URL https://www.eversports.de/sp/secret-moves-athletic-dance-studio is valid.\n",
      "2024-02-01 21:42:56,038 - INFO - Processing URL 3/3: https://www.eversports.de/s/secret-moves-athletic-dance-studio/team\n",
      "2024-02-01 21:42:57,551 - INFO - URL https://www.eversports.de/s/secret-moves-athletic-dance-studio/team is valid.\n"
     ]
    },
    {
     "name": "stdout",
     "output_type": "stream",
     "text": [
      "Scraping Pole Studio Data from https://www.eversports.de/s/secret-moves-athletic-dance-studio...\n"
     ]
    },
    {
     "name": "stderr",
     "output_type": "stream",
     "text": [
      "Processing URLs:  12%|█▏        | 49/412 [04:07<25:46,  4.26s/it]"
     ]
    },
    {
     "name": "stdout",
     "output_type": "stream",
     "text": [
      "Processing completed.\n",
      "Pole Studio Data: 1 entries\n",
      "Starting URL reconstruction...\n"
     ]
    },
    {
     "name": "stderr",
     "output_type": "stream",
     "text": [
      "Processing URLs:  12%|█▏        | 50/412 [04:10<24:52,  4.12s/it]"
     ]
    },
    {
     "name": "stdout",
     "output_type": "stream",
     "text": [
      "Error during HTTP request: Exceeded 30 redirects.\n",
      "Converting to DataFrame...\n",
      "Validating URLs...\n",
      "Processing completed.\n",
      "Starting URL reconstruction...\n"
     ]
    },
    {
     "name": "stderr",
     "output_type": "stream",
     "text": [
      "2024-02-01 21:43:03,110 - INFO - Processing URL 1/1: https://www.eversports.de/s/dancingstyle\n"
     ]
    },
    {
     "name": "stdout",
     "output_type": "stream",
     "text": [
      "Converting to DataFrame...\n",
      "Validating URLs...\n"
     ]
    },
    {
     "name": "stderr",
     "output_type": "stream",
     "text": [
      "2024-02-01 21:43:04,415 - INFO - URL https://www.eversports.de/s/dancingstyle is valid.\n"
     ]
    },
    {
     "name": "stdout",
     "output_type": "stream",
     "text": [
      "Scraping Pole Studio Data from https://www.eversports.de/s/dancingstyle...\n"
     ]
    },
    {
     "name": "stderr",
     "output_type": "stream",
     "text": [
      "Processing URLs:  12%|█▏        | 51/412 [04:13<22:35,  3.76s/it]"
     ]
    },
    {
     "name": "stdout",
     "output_type": "stream",
     "text": [
      "Processing completed.\n",
      "Pole Studio Data: 1 entries\n",
      "Starting URL reconstruction...\n"
     ]
    },
    {
     "name": "stderr",
     "output_type": "stream",
     "text": [
      "Processing URLs:  13%|█▎        | 52/412 [04:14<17:58,  3.00s/it]"
     ]
    },
    {
     "name": "stdout",
     "output_type": "stream",
     "text": [
      "Error during HTTP request: 404 Client Error: Not Found for url: https://www.eversports.de/s/annaconda-pole-%26-aerial-sports\n",
      "Converting to DataFrame...\n",
      "Validating URLs...\n",
      "Processing completed.\n",
      "Starting URL reconstruction...\n"
     ]
    },
    {
     "name": "stderr",
     "output_type": "stream",
     "text": [
      "Processing URLs:  13%|█▎        | 53/412 [04:20<21:58,  3.67s/it]"
     ]
    },
    {
     "name": "stdout",
     "output_type": "stream",
     "text": [
      "Error during HTTP request: Exceeded 30 redirects.\n",
      "Converting to DataFrame...\n",
      "Validating URLs...\n",
      "Processing completed.\n",
      "Starting URL reconstruction...\n"
     ]
    },
    {
     "name": "stderr",
     "output_type": "stream",
     "text": [
      "Processing URLs:  13%|█▎        | 54/412 [04:21<17:47,  2.98s/it]"
     ]
    },
    {
     "name": "stdout",
     "output_type": "stream",
     "text": [
      "Error during HTTP request: 404 Client Error: Not Found for url: https://www.eversports.de/s/annaconda-pole-&-fitness\n",
      "Converting to DataFrame...\n",
      "Validating URLs...\n",
      "Processing completed.\n",
      "Starting URL reconstruction...\n"
     ]
    },
    {
     "name": "stderr",
     "output_type": "stream",
     "text": [
      "Processing URLs:  13%|█▎        | 55/412 [04:22<14:22,  2.42s/it]"
     ]
    },
    {
     "name": "stdout",
     "output_type": "stream",
     "text": [
      "Error during HTTP request: 404 Client Error: Not Found for url: https://www.eversports.de/s/polerina's-poledance\n",
      "Converting to DataFrame...\n",
      "Validating URLs...\n",
      "Processing completed.\n",
      "Starting URL reconstruction...\n"
     ]
    },
    {
     "name": "stderr",
     "output_type": "stream",
     "text": [
      "2024-02-01 21:43:19,701 - INFO - Processing URL 1/2: https://www.eversports.de/s/dunya-pole-dance-school\n"
     ]
    },
    {
     "name": "stdout",
     "output_type": "stream",
     "text": [
      "Converting to DataFrame...\n",
      "Validating URLs...\n"
     ]
    },
    {
     "name": "stderr",
     "output_type": "stream",
     "text": [
      "2024-02-01 21:43:21,756 - INFO - URL https://www.eversports.de/s/dunya-pole-dance-school is valid.\n",
      "2024-02-01 21:43:21,757 - INFO - Processing URL 2/2: https://www.eversports.de/s/dunya-pole-dance-school/team\n",
      "2024-02-01 21:43:23,006 - INFO - URL https://www.eversports.de/s/dunya-pole-dance-school/team is valid.\n"
     ]
    },
    {
     "name": "stdout",
     "output_type": "stream",
     "text": [
      "Scraping Pole Studio Data from https://www.eversports.de/s/dunya-pole-dance-school...\n"
     ]
    },
    {
     "name": "stderr",
     "output_type": "stream",
     "text": [
      "Processing URLs:  14%|█▎        | 56/412 [04:32<27:16,  4.60s/it]"
     ]
    },
    {
     "name": "stdout",
     "output_type": "stream",
     "text": [
      "Processing completed.\n",
      "Pole Studio Data: 1 entries\n",
      "Starting URL reconstruction...\n"
     ]
    },
    {
     "name": "stderr",
     "output_type": "stream",
     "text": [
      "Processing URLs:  14%|█▍        | 57/412 [04:33<21:03,  3.56s/it]"
     ]
    },
    {
     "name": "stdout",
     "output_type": "stream",
     "text": [
      "Error during HTTP request: 404 Client Error: Not Found for url: https://www.eversports.de/s/satori-pole-dance-potsdam\n",
      "Converting to DataFrame...\n",
      "Validating URLs...\n",
      "Processing completed.\n",
      "Starting URL reconstruction...\n"
     ]
    },
    {
     "name": "stderr",
     "output_type": "stream",
     "text": [
      "Processing URLs:  14%|█▍        | 58/412 [04:34<17:15,  2.92s/it]"
     ]
    },
    {
     "name": "stdout",
     "output_type": "stream",
     "text": [
      "Error during HTTP request: 404 Client Error: Not Found for url: https://www.eversports.de/s/polesition\n",
      "Converting to DataFrame...\n",
      "Validating URLs...\n",
      "Processing completed.\n",
      "Starting URL reconstruction...\n"
     ]
    },
    {
     "name": "stderr",
     "output_type": "stream",
     "text": [
      "2024-02-01 21:43:27,119 - INFO - Processing URL 1/1: https://www.eversports.de/s/welovepoledance\n"
     ]
    },
    {
     "name": "stdout",
     "output_type": "stream",
     "text": [
      "Converting to DataFrame...\n",
      "Validating URLs...\n"
     ]
    },
    {
     "name": "stderr",
     "output_type": "stream",
     "text": [
      "2024-02-01 21:43:28,429 - INFO - URL https://www.eversports.de/s/welovepoledance is valid.\n"
     ]
    },
    {
     "name": "stdout",
     "output_type": "stream",
     "text": [
      "Scraping Pole Studio Data from https://www.eversports.de/s/welovepoledance...\n"
     ]
    },
    {
     "name": "stderr",
     "output_type": "stream",
     "text": [
      "Processing URLs:  14%|█▍        | 59/412 [04:37<17:01,  2.89s/it]"
     ]
    },
    {
     "name": "stdout",
     "output_type": "stream",
     "text": [
      "Processing completed.\n",
      "Pole Studio Data: 1 entries\n",
      "Starting URL reconstruction...\n"
     ]
    },
    {
     "name": "stderr",
     "output_type": "stream",
     "text": [
      "2024-02-01 21:43:30,267 - INFO - Processing URL 1/1: https://www.eversports.de/s/infinity-polesports-eggenfelden\n"
     ]
    },
    {
     "name": "stdout",
     "output_type": "stream",
     "text": [
      "Converting to DataFrame...\n",
      "Validating URLs...\n"
     ]
    },
    {
     "name": "stderr",
     "output_type": "stream",
     "text": [
      "2024-02-01 21:43:31,715 - INFO - URL https://www.eversports.de/s/infinity-polesports-eggenfelden is valid.\n"
     ]
    },
    {
     "name": "stdout",
     "output_type": "stream",
     "text": [
      "Scraping Pole Studio Data from https://www.eversports.de/s/infinity-polesports-eggenfelden...\n"
     ]
    },
    {
     "name": "stderr",
     "output_type": "stream",
     "text": [
      "Processing URLs:  15%|█▍        | 60/412 [04:41<17:38,  3.01s/it]"
     ]
    },
    {
     "name": "stdout",
     "output_type": "stream",
     "text": [
      "Processing completed.\n",
      "Pole Studio Data: 1 entries\n",
      "Starting URL reconstruction...\n"
     ]
    },
    {
     "name": "stderr",
     "output_type": "stream",
     "text": [
      "2024-02-01 21:43:33,393 - INFO - Processing URL 1/3: https://www.eversports.de/s/polemotions-filderstadt\n"
     ]
    },
    {
     "name": "stdout",
     "output_type": "stream",
     "text": [
      "Converting to DataFrame...\n",
      "Validating URLs...\n"
     ]
    },
    {
     "name": "stderr",
     "output_type": "stream",
     "text": [
      "2024-02-01 21:43:35,152 - INFO - URL https://www.eversports.de/s/polemotions-filderstadt is valid.\n",
      "2024-02-01 21:43:35,153 - INFO - Processing URL 2/3: https://www.eversports.de/sp/polemotions-filderstadt\n",
      "2024-02-01 21:43:36,405 - INFO - URL https://www.eversports.de/sp/polemotions-filderstadt is valid.\n",
      "2024-02-01 21:43:36,406 - INFO - Processing URL 3/3: https://www.eversports.de/s/polemotions-filderstadt/team\n",
      "2024-02-01 21:43:37,651 - INFO - URL https://www.eversports.de/s/polemotions-filderstadt/team is valid.\n"
     ]
    },
    {
     "name": "stdout",
     "output_type": "stream",
     "text": [
      "Scraping Pole Studio Data from https://www.eversports.de/s/polemotions-filderstadt...\n"
     ]
    },
    {
     "name": "stderr",
     "output_type": "stream",
     "text": [
      "Processing URLs:  15%|█▍        | 61/412 [04:47<22:55,  3.92s/it]"
     ]
    },
    {
     "name": "stdout",
     "output_type": "stream",
     "text": [
      "Processing completed.\n",
      "Pole Studio Data: 1 entries\n",
      "Starting URL reconstruction...\n"
     ]
    },
    {
     "name": "stderr",
     "output_type": "stream",
     "text": [
      "Processing URLs:  15%|█▌        | 62/412 [04:48<18:06,  3.11s/it]"
     ]
    },
    {
     "name": "stdout",
     "output_type": "stream",
     "text": [
      "Error during HTTP request: 404 Client Error: Not Found for url: https://www.eversports.de/s/pole-sport-coburg---akrobatik-%26-tanz-\n",
      "Converting to DataFrame...\n",
      "Validating URLs...\n",
      "Processing completed.\n",
      "Starting URL reconstruction...\n"
     ]
    },
    {
     "name": "stderr",
     "output_type": "stream",
     "text": [
      "2024-02-01 21:43:40,651 - INFO - Processing URL 1/3: https://www.eversports.de/s/janardana-yoga\n"
     ]
    },
    {
     "name": "stdout",
     "output_type": "stream",
     "text": [
      "Error reconstructing URL for 'Ausbildungen': Unrecognized text: 'Ausbildungen'\n",
      "Converting to DataFrame...\n",
      "Validating URLs...\n"
     ]
    },
    {
     "name": "stderr",
     "output_type": "stream",
     "text": [
      "2024-02-01 21:43:42,042 - INFO - URL https://www.eversports.de/s/janardana-yoga is valid.\n",
      "2024-02-01 21:43:42,043 - INFO - Processing URL 2/3: https://www.eversports.de/sp/janardana-yoga\n",
      "2024-02-01 21:43:43,216 - INFO - URL https://www.eversports.de/sp/janardana-yoga is valid.\n",
      "2024-02-01 21:43:43,217 - INFO - Processing URL 3/3: https://www.eversports.de/s/janardana-yoga/team\n",
      "2024-02-01 21:43:44,501 - INFO - URL https://www.eversports.de/s/janardana-yoga/team is valid.\n"
     ]
    },
    {
     "name": "stdout",
     "output_type": "stream",
     "text": [
      "Scraping Pole Studio Data from https://www.eversports.de/s/janardana-yoga...\n"
     ]
    },
    {
     "name": "stderr",
     "output_type": "stream",
     "text": [
      "Processing URLs:  15%|█▌        | 63/412 [04:53<22:31,  3.87s/it]"
     ]
    },
    {
     "name": "stdout",
     "output_type": "stream",
     "text": [
      "Processing completed.\n",
      "Pole Studio Data: 1 entries\n",
      "Starting URL reconstruction...\n"
     ]
    },
    {
     "name": "stderr",
     "output_type": "stream",
     "text": [
      "Processing URLs:  16%|█▌        | 64/412 [04:55<17:43,  3.06s/it]"
     ]
    },
    {
     "name": "stdout",
     "output_type": "stream",
     "text": [
      "Error during HTTP request: 404 Client Error: Not Found for url: https://www.eversports.de/s/tanzstudio-redlightdance-berlin\n",
      "Converting to DataFrame...\n",
      "Validating URLs...\n",
      "Processing completed.\n",
      "Starting URL reconstruction...\n"
     ]
    },
    {
     "name": "stderr",
     "output_type": "stream",
     "text": [
      "2024-02-01 21:43:47,520 - INFO - Processing URL 1/4: https://www.eversports.de/s/polea-pole-and-aerial-dance\n"
     ]
    },
    {
     "name": "stdout",
     "output_type": "stream",
     "text": [
      "Converting to DataFrame...\n",
      "Validating URLs...\n"
     ]
    },
    {
     "name": "stderr",
     "output_type": "stream",
     "text": [
      "2024-02-01 21:43:48,912 - INFO - URL https://www.eversports.de/s/polea-pole-and-aerial-dance is valid.\n",
      "2024-02-01 21:43:48,913 - INFO - Processing URL 2/4: https://www.eversports.de/sw/polea-pole-and-aerial-dance\n",
      "2024-02-01 21:43:50,209 - INFO - URL https://www.eversports.de/sw/polea-pole-and-aerial-dance is valid.\n",
      "2024-02-01 21:43:50,209 - INFO - Processing URL 3/4: https://www.eversports.de/sp/polea-pole-and-aerial-dance\n",
      "2024-02-01 21:43:51,361 - INFO - URL https://www.eversports.de/sp/polea-pole-and-aerial-dance is valid.\n",
      "2024-02-01 21:43:51,362 - INFO - Processing URL 4/4: https://www.eversports.de/s/polea-pole-and-aerial-dance/team\n",
      "2024-02-01 21:43:52,642 - INFO - URL https://www.eversports.de/s/polea-pole-and-aerial-dance/team is valid.\n"
     ]
    },
    {
     "name": "stdout",
     "output_type": "stream",
     "text": [
      "Scraping Pole Studio Data from https://www.eversports.de/s/polea-pole-and-aerial-dance...\n",
      "Scraping Workshops Data from https://www.eversports.de/sw/polea-pole-and-aerial-dance...\n",
      "Scraping Workshop Details from https://www.eversports.de/e/workshop/-BAz15m...\n",
      "Scraping Workshop Details from https://www.eversports.de/e/workshop/u3m9tGL...\n"
     ]
    },
    {
     "name": "stderr",
     "output_type": "stream",
     "text": [
      "Processing URLs:  16%|█▌        | 65/412 [05:07<33:15,  5.75s/it]"
     ]
    },
    {
     "name": "stdout",
     "output_type": "stream",
     "text": [
      "Processing completed.\n",
      "Pole Studio Data: 1 entries\n",
      "Workshops Data: 2 entries\n",
      "Workshop Details: 2 entries\n",
      "Starting URL reconstruction...\n"
     ]
    },
    {
     "name": "stderr",
     "output_type": "stream",
     "text": [
      "2024-02-01 21:43:59,489 - INFO - Processing URL 1/1: https://www.eversports.de/s/a-heart-for-poledance\n"
     ]
    },
    {
     "name": "stdout",
     "output_type": "stream",
     "text": [
      "Converting to DataFrame...\n",
      "Validating URLs...\n"
     ]
    },
    {
     "name": "stderr",
     "output_type": "stream",
     "text": [
      "2024-02-01 21:44:01,236 - INFO - URL https://www.eversports.de/s/a-heart-for-poledance is valid.\n"
     ]
    },
    {
     "name": "stdout",
     "output_type": "stream",
     "text": [
      "Scraping Pole Studio Data from https://www.eversports.de/s/a-heart-for-poledance...\n"
     ]
    },
    {
     "name": "stderr",
     "output_type": "stream",
     "text": [
      "Processing URLs:  16%|█▌        | 66/412 [05:10<29:09,  5.06s/it]"
     ]
    },
    {
     "name": "stdout",
     "output_type": "stream",
     "text": [
      "Processing completed.\n",
      "Pole Studio Data: 1 entries\n",
      "Starting URL reconstruction...\n"
     ]
    },
    {
     "name": "stderr",
     "output_type": "stream",
     "text": [
      "Processing URLs:  16%|█▋        | 67/412 [05:11<22:43,  3.95s/it]"
     ]
    },
    {
     "name": "stdout",
     "output_type": "stream",
     "text": [
      "Error during HTTP request: 404 Client Error: Not Found for url: https://www.eversports.de/s/pole-dance-academy-neuburg\n",
      "Converting to DataFrame...\n",
      "Validating URLs...\n",
      "Processing completed.\n",
      "Starting URL reconstruction...\n"
     ]
    },
    {
     "name": "stderr",
     "output_type": "stream",
     "text": [
      "Processing URLs:  17%|█▋        | 68/412 [05:13<19:04,  3.33s/it]"
     ]
    },
    {
     "name": "stdout",
     "output_type": "stream",
     "text": [
      "Error during HTTP request: 404 Client Error: Not Found for url: https://www.eversports.de/s/mmc-dance-studio\n",
      "Converting to DataFrame...\n",
      "Validating URLs...\n",
      "Processing completed.\n",
      "Starting URL reconstruction...\n"
     ]
    },
    {
     "name": "stderr",
     "output_type": "stream",
     "text": [
      "Processing URLs:  17%|█▋        | 69/412 [05:15<15:33,  2.72s/it]"
     ]
    },
    {
     "name": "stdout",
     "output_type": "stream",
     "text": [
      "Error during HTTP request: 404 Client Error: Not Found for url: https://www.eversports.de/s/pole-dance-studio-karlsruhe\n",
      "Converting to DataFrame...\n",
      "Validating URLs...\n",
      "Processing completed.\n",
      "Starting URL reconstruction...\n"
     ]
    },
    {
     "name": "stderr",
     "output_type": "stream",
     "text": [
      "Processing URLs:  17%|█▋        | 70/412 [05:16<12:56,  2.27s/it]"
     ]
    },
    {
     "name": "stdout",
     "output_type": "stream",
     "text": [
      "Error during HTTP request: 404 Client Error: Not Found for url: https://www.eversports.de/s/la-familia-poleclub\n",
      "Converting to DataFrame...\n",
      "Validating URLs...\n",
      "Processing completed.\n",
      "Starting URL reconstruction...\n"
     ]
    },
    {
     "name": "stderr",
     "output_type": "stream",
     "text": [
      "Processing URLs:  17%|█▋        | 71/412 [05:20<16:12,  2.85s/it]"
     ]
    },
    {
     "name": "stdout",
     "output_type": "stream",
     "text": [
      "Error during HTTP request: Exceeded 30 redirects.\n",
      "Converting to DataFrame...\n",
      "Validating URLs...\n",
      "Processing completed.\n",
      "Starting URL reconstruction...\n"
     ]
    },
    {
     "name": "stderr",
     "output_type": "stream",
     "text": [
      "2024-02-01 21:44:12,958 - INFO - Processing URL 1/3: https://www.eversports.de/s/pure-body-concepts-1\n"
     ]
    },
    {
     "name": "stdout",
     "output_type": "stream",
     "text": [
      "Converting to DataFrame...\n",
      "Validating URLs...\n"
     ]
    },
    {
     "name": "stderr",
     "output_type": "stream",
     "text": [
      "2024-02-01 21:44:14,289 - INFO - URL https://www.eversports.de/s/pure-body-concepts-1 is valid.\n",
      "2024-02-01 21:44:14,290 - INFO - Processing URL 2/3: https://www.eversports.de/sp/pure-body-concepts-1\n",
      "2024-02-01 21:44:15,581 - INFO - URL https://www.eversports.de/sp/pure-body-concepts-1 is valid.\n",
      "2024-02-01 21:44:15,582 - INFO - Processing URL 3/3: https://www.eversports.de/s/pure-body-concepts-1/team\n",
      "2024-02-01 21:44:16,888 - INFO - URL https://www.eversports.de/s/pure-body-concepts-1/team is valid.\n"
     ]
    },
    {
     "name": "stdout",
     "output_type": "stream",
     "text": [
      "Scraping Pole Studio Data from https://www.eversports.de/s/pure-body-concepts-1...\n"
     ]
    },
    {
     "name": "stderr",
     "output_type": "stream",
     "text": [
      "Processing URLs:  17%|█▋        | 72/412 [05:26<21:05,  3.72s/it]"
     ]
    },
    {
     "name": "stdout",
     "output_type": "stream",
     "text": [
      "Processing completed.\n",
      "Pole Studio Data: 1 entries\n",
      "Starting URL reconstruction...\n"
     ]
    },
    {
     "name": "stderr",
     "output_type": "stream",
     "text": [
      "Processing URLs:  18%|█▊        | 73/412 [05:27<16:45,  2.96s/it]"
     ]
    },
    {
     "name": "stdout",
     "output_type": "stream",
     "text": [
      "Error during HTTP request: 404 Client Error: Not Found for url: https://www.eversports.de/s/pole-dance-academy-hameln\n",
      "Converting to DataFrame...\n",
      "Validating URLs...\n",
      "Processing completed.\n",
      "Starting URL reconstruction...\n"
     ]
    },
    {
     "name": "stderr",
     "output_type": "stream",
     "text": [
      "2024-02-01 21:44:19,923 - INFO - Processing URL 1/1: https://www.eversports.de/s/polesition-regensburg\n"
     ]
    },
    {
     "name": "stdout",
     "output_type": "stream",
     "text": [
      "Converting to DataFrame...\n",
      "Validating URLs...\n"
     ]
    },
    {
     "name": "stderr",
     "output_type": "stream",
     "text": [
      "2024-02-01 21:44:21,591 - INFO - URL https://www.eversports.de/s/polesition-regensburg is valid.\n"
     ]
    },
    {
     "name": "stdout",
     "output_type": "stream",
     "text": [
      "Scraping Pole Studio Data from https://www.eversports.de/s/polesition-regensburg...\n"
     ]
    },
    {
     "name": "stderr",
     "output_type": "stream",
     "text": [
      "Processing URLs:  18%|█▊        | 74/412 [05:30<17:34,  3.12s/it]"
     ]
    },
    {
     "name": "stdout",
     "output_type": "stream",
     "text": [
      "Processing completed.\n",
      "Pole Studio Data: 1 entries\n",
      "Starting URL reconstruction...\n"
     ]
    },
    {
     "name": "stderr",
     "output_type": "stream",
     "text": [
      "Processing URLs:  18%|█▊        | 75/412 [05:32<14:13,  2.53s/it]"
     ]
    },
    {
     "name": "stdout",
     "output_type": "stream",
     "text": [
      "Error during HTTP request: 404 Client Error: Not Found for url: https://www.eversports.de/s/polemotions-gp\n",
      "Converting to DataFrame...\n",
      "Validating URLs...\n",
      "Processing completed.\n",
      "Starting URL reconstruction...\n"
     ]
    },
    {
     "name": "stderr",
     "output_type": "stream",
     "text": [
      "Processing URLs:  18%|█▊        | 76/412 [05:33<11:47,  2.11s/it]"
     ]
    },
    {
     "name": "stdout",
     "output_type": "stream",
     "text": [
      "Error during HTTP request: 404 Client Error: Not Found for url: https://www.eversports.de/s/aerial-amazons\n",
      "Converting to DataFrame...\n",
      "Validating URLs...\n",
      "Processing completed.\n",
      "Starting URL reconstruction...\n"
     ]
    },
    {
     "name": "stderr",
     "output_type": "stream",
     "text": [
      "Processing URLs:  19%|█▊        | 77/412 [05:34<10:05,  1.81s/it]"
     ]
    },
    {
     "name": "stdout",
     "output_type": "stream",
     "text": [
      "Error during HTTP request: 404 Client Error: Not Found for url: https://www.eversports.de/s/health-&-shape-m%C3%BCnchen\n",
      "Converting to DataFrame...\n",
      "Validating URLs...\n",
      "Processing completed.\n",
      "Starting URL reconstruction...\n"
     ]
    },
    {
     "name": "stderr",
     "output_type": "stream",
     "text": [
      "Processing URLs:  19%|█▉        | 78/412 [05:35<09:02,  1.63s/it]"
     ]
    },
    {
     "name": "stdout",
     "output_type": "stream",
     "text": [
      "Error during HTTP request: 404 Client Error: Not Found for url: https://www.eversports.de/s/poledreams\n",
      "Converting to DataFrame...\n",
      "Validating URLs...\n",
      "Processing completed.\n",
      "Starting URL reconstruction...\n"
     ]
    },
    {
     "name": "stderr",
     "output_type": "stream",
     "text": [
      "Processing URLs:  19%|█▉        | 79/412 [05:39<12:06,  2.18s/it]"
     ]
    },
    {
     "name": "stdout",
     "output_type": "stream",
     "text": [
      "Error during HTTP request: Exceeded 30 redirects.\n",
      "Converting to DataFrame...\n",
      "Validating URLs...\n",
      "Processing completed.\n",
      "Starting URL reconstruction...\n"
     ]
    },
    {
     "name": "stderr",
     "output_type": "stream",
     "text": [
      "Processing URLs:  19%|█▉        | 80/412 [05:40<10:38,  1.92s/it]"
     ]
    },
    {
     "name": "stdout",
     "output_type": "stream",
     "text": [
      "Error during HTTP request: 404 Client Error: Not Found for url: https://www.eversports.de/s/vi-dance-essen\n",
      "Converting to DataFrame...\n",
      "Validating URLs...\n",
      "Processing completed.\n",
      "Starting URL reconstruction...\n"
     ]
    },
    {
     "name": "stderr",
     "output_type": "stream",
     "text": [
      "Processing URLs:  20%|█▉        | 81/412 [05:41<09:42,  1.76s/it]"
     ]
    },
    {
     "name": "stdout",
     "output_type": "stream",
     "text": [
      "Error during HTTP request: 404 Client Error: Not Found for url: https://www.eversports.de/s/poledance-rostock\n",
      "Converting to DataFrame...\n",
      "Validating URLs...\n",
      "Processing completed.\n",
      "Starting URL reconstruction...\n"
     ]
    },
    {
     "name": "stderr",
     "output_type": "stream",
     "text": [
      "Processing URLs:  20%|█▉        | 82/412 [05:43<08:58,  1.63s/it]"
     ]
    },
    {
     "name": "stdout",
     "output_type": "stream",
     "text": [
      "Error during HTTP request: 404 Client Error: Not Found for url: https://www.eversports.de/s/polelove-bremen\n",
      "Converting to DataFrame...\n",
      "Validating URLs...\n",
      "Processing completed.\n",
      "Starting URL reconstruction...\n"
     ]
    },
    {
     "name": "stderr",
     "output_type": "stream",
     "text": [
      "2024-02-01 21:44:36,920 - INFO - Processing URL 1/4: https://www.eversports.de/s/pole-paradise\n"
     ]
    },
    {
     "name": "stdout",
     "output_type": "stream",
     "text": [
      "Converting to DataFrame...\n",
      "Validating URLs...\n"
     ]
    },
    {
     "name": "stderr",
     "output_type": "stream",
     "text": [
      "2024-02-01 21:44:38,679 - INFO - URL https://www.eversports.de/s/pole-paradise is valid.\n",
      "2024-02-01 21:44:38,681 - INFO - Processing URL 2/4: https://www.eversports.de/sw/pole-paradise\n",
      "2024-02-01 21:44:40,309 - INFO - URL https://www.eversports.de/sw/pole-paradise is valid.\n",
      "2024-02-01 21:44:40,311 - INFO - Processing URL 3/4: https://www.eversports.de/sp/pole-paradise\n",
      "2024-02-01 21:44:41,474 - INFO - URL https://www.eversports.de/sp/pole-paradise is valid.\n",
      "2024-02-01 21:44:41,475 - INFO - Processing URL 4/4: https://www.eversports.de/s/pole-paradise/team\n",
      "2024-02-01 21:44:42,752 - INFO - URL https://www.eversports.de/s/pole-paradise/team is valid.\n"
     ]
    },
    {
     "name": "stdout",
     "output_type": "stream",
     "text": [
      "Scraping Pole Studio Data from https://www.eversports.de/s/pole-paradise...\n",
      "Scraping Workshops Data from https://www.eversports.de/sw/pole-paradise...\n",
      "Scraping Workshop Details from https://www.eversports.de/e/workshop/1zI8wYx...\n",
      "Scraping Workshop Details from https://www.eversports.de/e/workshop/NLk1782...\n"
     ]
    },
    {
     "name": "stderr",
     "output_type": "stream",
     "text": [
      "Processing URLs:  20%|██        | 83/412 [05:56<28:09,  5.14s/it]"
     ]
    },
    {
     "name": "stdout",
     "output_type": "stream",
     "text": [
      "Processing completed.\n",
      "Pole Studio Data: 1 entries\n",
      "Workshops Data: 2 entries\n",
      "Workshop Details: 2 entries\n",
      "Starting URL reconstruction...\n"
     ]
    },
    {
     "name": "stderr",
     "output_type": "stream",
     "text": [
      "Processing URLs:  20%|██        | 84/412 [05:57<21:35,  3.95s/it]"
     ]
    },
    {
     "name": "stdout",
     "output_type": "stream",
     "text": [
      "Error during HTTP request: 404 Client Error: Not Found for url: https://www.eversports.de/s/pole-fun-wehr\n",
      "Converting to DataFrame...\n",
      "Validating URLs...\n",
      "Processing completed.\n",
      "Starting URL reconstruction...\n"
     ]
    },
    {
     "name": "stderr",
     "output_type": "stream",
     "text": [
      "2024-02-01 21:44:49,973 - INFO - Processing URL 1/1: https://www.eversports.de/s/poleaddict\n"
     ]
    },
    {
     "name": "stdout",
     "output_type": "stream",
     "text": [
      "Converting to DataFrame...\n",
      "Validating URLs...\n"
     ]
    },
    {
     "name": "stderr",
     "output_type": "stream",
     "text": [
      "2024-02-01 21:44:51,214 - INFO - URL https://www.eversports.de/s/poleaddict is valid.\n"
     ]
    },
    {
     "name": "stdout",
     "output_type": "stream",
     "text": [
      "Scraping Pole Studio Data from https://www.eversports.de/s/poleaddict...\n"
     ]
    },
    {
     "name": "stderr",
     "output_type": "stream",
     "text": [
      "Processing URLs:  21%|██        | 85/412 [06:00<20:00,  3.67s/it]"
     ]
    },
    {
     "name": "stdout",
     "output_type": "stream",
     "text": [
      "Processing completed.\n",
      "Pole Studio Data: 1 entries\n",
      "Starting URL reconstruction...\n"
     ]
    },
    {
     "name": "stderr",
     "output_type": "stream",
     "text": [
      "2024-02-01 21:45:02,888 - INFO - Processing URL 1/4: https://www.eversports.de/s/yoga-and-pole-art-by-selina\n"
     ]
    },
    {
     "name": "stdout",
     "output_type": "stream",
     "text": [
      "Converting to DataFrame...\n",
      "Validating URLs...\n"
     ]
    },
    {
     "name": "stderr",
     "output_type": "stream",
     "text": [
      "2024-02-01 21:45:04,691 - INFO - URL https://www.eversports.de/s/yoga-and-pole-art-by-selina is valid.\n",
      "2024-02-01 21:45:04,691 - INFO - Processing URL 2/4: https://www.eversports.de/sw/yoga-and-pole-art-by-selina\n",
      "2024-02-01 21:45:06,262 - INFO - URL https://www.eversports.de/sw/yoga-and-pole-art-by-selina is valid.\n",
      "2024-02-01 21:45:06,263 - INFO - Processing URL 3/4: https://www.eversports.de/sp/yoga-and-pole-art-by-selina\n",
      "2024-02-01 21:45:07,418 - INFO - URL https://www.eversports.de/sp/yoga-and-pole-art-by-selina is valid.\n",
      "2024-02-01 21:45:07,419 - INFO - Processing URL 4/4: https://www.eversports.de/s/yoga-and-pole-art-by-selina/team\n",
      "2024-02-01 21:45:08,567 - INFO - URL https://www.eversports.de/s/yoga-and-pole-art-by-selina/team is valid.\n"
     ]
    },
    {
     "name": "stdout",
     "output_type": "stream",
     "text": [
      "Scraping Pole Studio Data from https://www.eversports.de/s/yoga-and-pole-art-by-selina...\n",
      "Scraping Workshops Data from https://www.eversports.de/sw/yoga-and-pole-art-by-selina...\n",
      "Scraping Workshop Details from https://www.eversports.de/e/workshop/dhAWne_...\n",
      "Scraping Workshop Details from https://www.eversports.de/e/workshop/p_eKWTW...\n",
      "Scraping Workshop Details from https://www.eversports.de/e/workshop/1PmB24I...\n",
      "Scraping Workshop Details from https://www.eversports.de/e/workshop/Zk4neM3...\n",
      "Scraping Workshop Details from https://www.eversports.de/e/workshop/VnmCBGD...\n",
      "Scraping Workshop Details from https://www.eversports.de/e/workshop/qdYG4WC...\n",
      "Scraping Workshop Details from https://www.eversports.de/e/workshop/M4MjCdo...\n",
      "Scraping Workshop Details from https://www.eversports.de/e/workshop/bi8m5zs...\n",
      "Scraping Workshop Details from https://www.eversports.de/e/workshop/ccLkJAE...\n"
     ]
    },
    {
     "name": "stderr",
     "output_type": "stream",
     "text": [
      "Processing URLs:  21%|██        | 86/412 [06:32<1:05:23, 12.03s/it]"
     ]
    },
    {
     "name": "stdout",
     "output_type": "stream",
     "text": [
      "Processing completed.\n",
      "Pole Studio Data: 1 entries\n",
      "Workshops Data: 9 entries\n",
      "Workshop Details: 9 entries\n",
      "Starting URL reconstruction...\n"
     ]
    },
    {
     "name": "stderr",
     "output_type": "stream",
     "text": [
      "Processing URLs:  21%|██        | 87/412 [06:33<47:35,  8.78s/it]  "
     ]
    },
    {
     "name": "stdout",
     "output_type": "stream",
     "text": [
      "Error during HTTP request: 404 Client Error: Not Found for url: https://www.eversports.de/s/pole-sisters\n",
      "Converting to DataFrame...\n",
      "Validating URLs...\n",
      "Processing completed.\n",
      "Starting URL reconstruction...\n"
     ]
    },
    {
     "name": "stderr",
     "output_type": "stream",
     "text": [
      "Processing URLs:  21%|██▏       | 88/412 [06:38<40:46,  7.55s/it]"
     ]
    },
    {
     "name": "stdout",
     "output_type": "stream",
     "text": [
      "Error during HTTP request: Exceeded 30 redirects.\n",
      "Converting to DataFrame...\n",
      "Validating URLs...\n",
      "Processing completed.\n",
      "Starting URL reconstruction...\n"
     ]
    },
    {
     "name": "stderr",
     "output_type": "stream",
     "text": [
      "Processing URLs:  22%|██▏       | 89/412 [06:39<30:20,  5.64s/it]"
     ]
    },
    {
     "name": "stdout",
     "output_type": "stream",
     "text": [
      "Error during HTTP request: 404 Client Error: Not Found for url: https://www.eversports.de/s/polevybe\n",
      "Converting to DataFrame...\n",
      "Validating URLs...\n",
      "Processing completed.\n",
      "Starting URL reconstruction...\n"
     ]
    },
    {
     "name": "stderr",
     "output_type": "stream",
     "text": [
      "2024-02-01 21:45:31,638 - INFO - Processing URL 1/3: https://www.eversports.de/s/aerial-circus\n"
     ]
    },
    {
     "name": "stdout",
     "output_type": "stream",
     "text": [
      "Converting to DataFrame...\n",
      "Validating URLs...\n"
     ]
    },
    {
     "name": "stderr",
     "output_type": "stream",
     "text": [
      "2024-02-01 21:45:32,955 - INFO - URL https://www.eversports.de/s/aerial-circus is valid.\n",
      "2024-02-01 21:45:32,956 - INFO - Processing URL 2/3: https://www.eversports.de/sp/aerial-circus\n",
      "2024-02-01 21:45:34,086 - INFO - URL https://www.eversports.de/sp/aerial-circus is valid.\n",
      "2024-02-01 21:45:34,086 - INFO - Processing URL 3/3: https://www.eversports.de/s/aerial-circus/team\n",
      "2024-02-01 21:45:35,296 - INFO - URL https://www.eversports.de/s/aerial-circus/team is valid.\n"
     ]
    },
    {
     "name": "stdout",
     "output_type": "stream",
     "text": [
      "Scraping Pole Studio Data from https://www.eversports.de/s/aerial-circus...\n"
     ]
    },
    {
     "name": "stderr",
     "output_type": "stream",
     "text": [
      "Processing URLs:  22%|██▏       | 90/412 [06:44<30:04,  5.60s/it]"
     ]
    },
    {
     "name": "stdout",
     "output_type": "stream",
     "text": [
      "Processing completed.\n",
      "Pole Studio Data: 1 entries\n",
      "Starting URL reconstruction...\n"
     ]
    },
    {
     "name": "stderr",
     "output_type": "stream",
     "text": [
      "2024-02-01 21:45:37,739 - INFO - Processing URL 1/4: https://www.eversports.de/s/poleroom-braunschweig\n"
     ]
    },
    {
     "name": "stdout",
     "output_type": "stream",
     "text": [
      "Error reconstructing URL for 'Trainings': Unrecognized text: 'Trainings'\n",
      "Converting to DataFrame...\n",
      "Validating URLs...\n"
     ]
    },
    {
     "name": "stderr",
     "output_type": "stream",
     "text": [
      "2024-02-01 21:45:39,170 - INFO - URL https://www.eversports.de/s/poleroom-braunschweig is valid.\n",
      "2024-02-01 21:45:39,171 - INFO - Processing URL 2/4: https://www.eversports.de/sw/poleroom-braunschweig\n",
      "2024-02-01 21:45:40,487 - INFO - URL https://www.eversports.de/sw/poleroom-braunschweig is valid.\n",
      "2024-02-01 21:45:40,488 - INFO - Processing URL 3/4: https://www.eversports.de/sp/poleroom-braunschweig\n",
      "2024-02-01 21:45:41,684 - INFO - URL https://www.eversports.de/sp/poleroom-braunschweig is valid.\n",
      "2024-02-01 21:45:41,685 - INFO - Processing URL 4/4: https://www.eversports.de/s/poleroom-braunschweig/team\n",
      "2024-02-01 21:45:42,995 - INFO - URL https://www.eversports.de/s/poleroom-braunschweig/team is valid.\n"
     ]
    },
    {
     "name": "stdout",
     "output_type": "stream",
     "text": [
      "Scraping Pole Studio Data from https://www.eversports.de/s/poleroom-braunschweig...\n",
      "Scraping Workshops Data from https://www.eversports.de/sw/poleroom-braunschweig...\n",
      "Scraping Workshop Details from https://www.eversports.de/e/workshop/5FIBkpe...\n",
      "Scraping Workshop Details from https://www.eversports.de/e/workshop/GB5CNr0...\n",
      "Scraping Workshop Details from https://www.eversports.de/e/workshop/1pzXUtZ...\n",
      "Scraping Workshop Details from https://www.eversports.de/e/workshop/fx6DrZ8...\n"
     ]
    },
    {
     "name": "stderr",
     "output_type": "stream",
     "text": [
      "Processing URLs:  22%|██▏       | 91/412 [06:59<44:56,  8.40s/it]"
     ]
    },
    {
     "name": "stdout",
     "output_type": "stream",
     "text": [
      "Processing completed.\n",
      "Pole Studio Data: 1 entries\n",
      "Workshops Data: 4 entries\n",
      "Workshop Details: 4 entries\n",
      "Starting URL reconstruction...\n"
     ]
    },
    {
     "name": "stderr",
     "output_type": "stream",
     "text": [
      "Processing URLs:  22%|██▏       | 92/412 [07:01<34:06,  6.40s/it]"
     ]
    },
    {
     "name": "stdout",
     "output_type": "stream",
     "text": [
      "Error during HTTP request: 404 Client Error: Not Found for url: https://www.eversports.de/s/schwerelos-bochum\n",
      "Converting to DataFrame...\n",
      "Validating URLs...\n",
      "Processing completed.\n",
      "Starting URL reconstruction...\n"
     ]
    },
    {
     "name": "stderr",
     "output_type": "stream",
     "text": [
      "2024-02-01 21:45:53,742 - INFO - Processing URL 1/3: https://www.eversports.de/s/munich-poledance\n"
     ]
    },
    {
     "name": "stdout",
     "output_type": "stream",
     "text": [
      "Converting to DataFrame...\n",
      "Validating URLs...\n"
     ]
    },
    {
     "name": "stderr",
     "output_type": "stream",
     "text": [
      "2024-02-01 21:45:55,141 - INFO - URL https://www.eversports.de/s/munich-poledance is valid.\n",
      "2024-02-01 21:45:55,142 - INFO - Processing URL 2/3: https://www.eversports.de/sp/munich-poledance\n",
      "2024-02-01 21:45:56,301 - INFO - URL https://www.eversports.de/sp/munich-poledance is valid.\n",
      "2024-02-01 21:45:56,302 - INFO - Processing URL 3/3: https://www.eversports.de/s/munich-poledance/team\n",
      "2024-02-01 21:45:57,652 - INFO - URL https://www.eversports.de/s/munich-poledance/team is valid.\n"
     ]
    },
    {
     "name": "stdout",
     "output_type": "stream",
     "text": [
      "Scraping Pole Studio Data from https://www.eversports.de/s/munich-poledance...\n"
     ]
    },
    {
     "name": "stderr",
     "output_type": "stream",
     "text": [
      "Processing URLs:  23%|██▎       | 93/412 [07:07<33:00,  6.21s/it]"
     ]
    },
    {
     "name": "stdout",
     "output_type": "stream",
     "text": [
      "Processing completed.\n",
      "Pole Studio Data: 1 entries\n",
      "Starting URL reconstruction...\n"
     ]
    },
    {
     "name": "stderr",
     "output_type": "stream",
     "text": [
      "2024-02-01 21:45:59,466 - INFO - Processing URL 1/3: https://www.eversports.de/s/-pole-aerial-dance-souldance\n"
     ]
    },
    {
     "name": "stdout",
     "output_type": "stream",
     "text": [
      "Converting to DataFrame...\n",
      "Validating URLs...\n"
     ]
    },
    {
     "name": "stderr",
     "output_type": "stream",
     "text": [
      "2024-02-01 21:46:00,999 - INFO - URL https://www.eversports.de/s/-pole-aerial-dance-souldance is valid.\n",
      "2024-02-01 21:46:01,000 - INFO - Processing URL 2/3: https://www.eversports.de/sp/-pole-aerial-dance-souldance\n",
      "2024-02-01 21:46:02,178 - INFO - URL https://www.eversports.de/sp/-pole-aerial-dance-souldance is valid.\n",
      "2024-02-01 21:46:02,179 - INFO - Processing URL 3/3: https://www.eversports.de/s/-pole-aerial-dance-souldance/team\n",
      "2024-02-01 21:46:03,430 - INFO - URL https://www.eversports.de/s/-pole-aerial-dance-souldance/team is valid.\n"
     ]
    },
    {
     "name": "stdout",
     "output_type": "stream",
     "text": [
      "Scraping Pole Studio Data from https://www.eversports.de/s/-pole-aerial-dance-souldance...\n"
     ]
    },
    {
     "name": "stderr",
     "output_type": "stream",
     "text": [
      "Processing URLs:  23%|██▎       | 94/412 [07:12<32:15,  6.09s/it]"
     ]
    },
    {
     "name": "stdout",
     "output_type": "stream",
     "text": [
      "Processing completed.\n",
      "Pole Studio Data: 1 entries\n",
      "Starting URL reconstruction...\n"
     ]
    },
    {
     "name": "stderr",
     "output_type": "stream",
     "text": [
      "2024-02-01 21:46:05,493 - INFO - Processing URL 1/4: https://www.eversports.de/s/da-becca-flow-and-fit\n"
     ]
    },
    {
     "name": "stdout",
     "output_type": "stream",
     "text": [
      "Converting to DataFrame...\n",
      "Validating URLs...\n"
     ]
    },
    {
     "name": "stderr",
     "output_type": "stream",
     "text": [
      "2024-02-01 21:46:06,846 - INFO - URL https://www.eversports.de/s/da-becca-flow-and-fit is valid.\n",
      "2024-02-01 21:46:06,848 - INFO - Processing URL 2/4: https://www.eversports.de/sw/da-becca-flow-and-fit\n",
      "2024-02-01 21:46:08,257 - INFO - URL https://www.eversports.de/sw/da-becca-flow-and-fit is valid.\n",
      "2024-02-01 21:46:08,258 - INFO - Processing URL 3/4: https://www.eversports.de/sp/da-becca-flow-and-fit\n",
      "2024-02-01 21:46:10,101 - INFO - URL https://www.eversports.de/sp/da-becca-flow-and-fit is valid.\n",
      "2024-02-01 21:46:10,102 - INFO - Processing URL 4/4: https://www.eversports.de/s/da-becca-flow-and-fit/team\n",
      "2024-02-01 21:46:11,446 - INFO - URL https://www.eversports.de/s/da-becca-flow-and-fit/team is valid.\n"
     ]
    },
    {
     "name": "stdout",
     "output_type": "stream",
     "text": [
      "Scraping Pole Studio Data from https://www.eversports.de/s/da-becca-flow-and-fit...\n",
      "Scraping Workshops Data from https://www.eversports.de/sw/da-becca-flow-and-fit...\n",
      "Scraping Workshop Details from https://www.eversports.de/e/workshop/2z_srY0...\n",
      "Scraping Workshop Details from https://www.eversports.de/e/workshop/o5_MV7J...\n",
      "Scraping Workshop Details from https://www.eversports.de/e/workshop/0u01Mza...\n",
      "Scraping Workshop Details from https://www.eversports.de/e/workshop/DBxar8u...\n",
      "Scraping Workshop Details from https://www.eversports.de/e/workshop/GlPG304...\n",
      "Scraping Workshop Details from https://www.eversports.de/e/workshop/wj20M8W...\n",
      "Scraping Workshop Details from https://www.eversports.de/e/workshop/113IYbR...\n",
      "Scraping Workshop Details from https://www.eversports.de/e/workshop/vyTj8JR...\n",
      "Scraping Workshop Details from https://www.eversports.de/e/workshop/GMeuKSV...\n",
      "Scraping Workshop Details from https://www.eversports.de/e/workshop/461op6s...\n",
      "Scraping Workshop Details from https://www.eversports.de/e/workshop/NrFmto0...\n",
      "Scraping Workshop Details from https://www.eversports.de/e/workshop/km4K7Yv...\n",
      "Scraping Workshop Details from https://www.eversports.de/e/workshop/B2Sz3mv...\n",
      "Scraping Workshop Details from https://www.eversports.de/e/workshop/HhyMbSA...\n",
      "Scraping Workshop Details from https://www.eversports.de/e/workshop/WBlAegH...\n"
     ]
    },
    {
     "name": "stderr",
     "output_type": "stream",
     "text": [
      "Processing URLs:  23%|██▎       | 95/412 [07:43<1:11:03, 13.45s/it]"
     ]
    },
    {
     "name": "stdout",
     "output_type": "stream",
     "text": [
      "Processing completed.\n",
      "Pole Studio Data: 1 entries\n",
      "Workshops Data: 15 entries\n",
      "Workshop Details: 15 entries\n",
      "Starting URL reconstruction...\n"
     ]
    },
    {
     "name": "stderr",
     "output_type": "stream",
     "text": [
      "Processing URLs:  23%|██▎       | 96/412 [07:44<51:27,  9.77s/it]  "
     ]
    },
    {
     "name": "stdout",
     "output_type": "stream",
     "text": [
      "Error during HTTP request: 404 Client Error: Not Found for url: https://www.eversports.de/s/das-tanz-center\n",
      "Converting to DataFrame...\n",
      "Validating URLs...\n",
      "Processing completed.\n",
      "Starting URL reconstruction...\n"
     ]
    },
    {
     "name": "stderr",
     "output_type": "stream",
     "text": [
      "2024-02-01 21:46:37,027 - INFO - Processing URL 1/3: https://www.eversports.de/s/pole-werk-by-nelly\n"
     ]
    },
    {
     "name": "stdout",
     "output_type": "stream",
     "text": [
      "Error reconstructing URL for 'Kurse': Unrecognized text: 'Kurse'\n",
      "Converting to DataFrame...\n",
      "Validating URLs...\n"
     ]
    },
    {
     "name": "stderr",
     "output_type": "stream",
     "text": [
      "2024-02-01 21:46:38,412 - INFO - URL https://www.eversports.de/s/pole-werk-by-nelly is valid.\n",
      "2024-02-01 21:46:38,413 - INFO - Processing URL 2/3: https://www.eversports.de/sw/pole-werk-by-nelly\n",
      "2024-02-01 21:46:39,574 - INFO - URL https://www.eversports.de/sw/pole-werk-by-nelly is valid.\n",
      "2024-02-01 21:46:39,575 - INFO - Processing URL 3/3: https://www.eversports.de/s/pole-werk-by-nelly/team\n",
      "2024-02-01 21:46:40,748 - INFO - URL https://www.eversports.de/s/pole-werk-by-nelly/team is valid.\n"
     ]
    },
    {
     "name": "stdout",
     "output_type": "stream",
     "text": [
      "Scraping Pole Studio Data from https://www.eversports.de/s/pole-werk-by-nelly...\n",
      "Scraping Workshops Data from https://www.eversports.de/sw/pole-werk-by-nelly...\n",
      "Scraping Workshop Details from https://www.eversports.de/e/workshop/HlobVZo...\n"
     ]
    },
    {
     "name": "stderr",
     "output_type": "stream",
     "text": [
      "Processing URLs:  24%|██▎       | 97/412 [07:52<48:19,  9.21s/it]"
     ]
    },
    {
     "name": "stdout",
     "output_type": "stream",
     "text": [
      "Processing completed.\n",
      "Pole Studio Data: 1 entries\n",
      "Workshops Data: 1 entries\n",
      "Workshop Details: 1 entries\n",
      "Starting URL reconstruction...\n"
     ]
    },
    {
     "name": "stderr",
     "output_type": "stream",
     "text": [
      "Processing URLs:  24%|██▍       | 98/412 [08:00<45:36,  8.72s/it]"
     ]
    },
    {
     "name": "stdout",
     "output_type": "stream",
     "text": [
      "Error during HTTP request: Exceeded 30 redirects.\n",
      "Converting to DataFrame...\n",
      "Validating URLs...\n",
      "Processing completed.\n",
      "Starting URL reconstruction...\n"
     ]
    },
    {
     "name": "stderr",
     "output_type": "stream",
     "text": [
      "Processing URLs:  24%|██▍       | 99/412 [08:01<33:37,  6.45s/it]"
     ]
    },
    {
     "name": "stdout",
     "output_type": "stream",
     "text": [
      "Error during HTTP request: 404 Client Error: Not Found for url: https://www.eversports.de/s/polemotion-freiburg\n",
      "Converting to DataFrame...\n",
      "Validating URLs...\n",
      "Processing completed.\n",
      "Starting URL reconstruction...\n"
     ]
    },
    {
     "name": "stderr",
     "output_type": "stream",
     "text": [
      "Processing URLs:  24%|██▍       | 100/412 [08:02<25:13,  4.85s/it]"
     ]
    },
    {
     "name": "stdout",
     "output_type": "stream",
     "text": [
      "Error during HTTP request: 404 Client Error: Not Found for url: https://www.eversports.de/s/vertical-moves---pole-dance-%26-sports\n",
      "Converting to DataFrame...\n",
      "Validating URLs...\n",
      "Processing completed.\n",
      "Starting URL reconstruction...\n"
     ]
    },
    {
     "name": "stderr",
     "output_type": "stream",
     "text": [
      "Processing URLs:  25%|██▍       | 101/412 [08:03<19:24,  3.74s/it]"
     ]
    },
    {
     "name": "stdout",
     "output_type": "stream",
     "text": [
      "Error during HTTP request: 404 Client Error: Not Found for url: https://www.eversports.de/s/le-serpent-rouge\n",
      "Converting to DataFrame...\n",
      "Validating URLs...\n",
      "Processing completed.\n",
      "Starting URL reconstruction...\n"
     ]
    },
    {
     "name": "stderr",
     "output_type": "stream",
     "text": [
      "2024-02-01 21:46:55,869 - INFO - Processing URL 1/1: https://www.eversports.de/s/cindys-pole-dance\n"
     ]
    },
    {
     "name": "stdout",
     "output_type": "stream",
     "text": [
      "Converting to DataFrame...\n",
      "Validating URLs...\n"
     ]
    },
    {
     "name": "stderr",
     "output_type": "stream",
     "text": [
      "2024-02-01 21:46:57,151 - INFO - URL https://www.eversports.de/s/cindys-pole-dance is valid.\n"
     ]
    },
    {
     "name": "stdout",
     "output_type": "stream",
     "text": [
      "Scraping Pole Studio Data from https://www.eversports.de/s/cindys-pole-dance...\n"
     ]
    },
    {
     "name": "stderr",
     "output_type": "stream",
     "text": [
      "Processing URLs:  25%|██▍       | 102/412 [08:06<17:58,  3.48s/it]"
     ]
    },
    {
     "name": "stdout",
     "output_type": "stream",
     "text": [
      "Processing completed.\n",
      "Pole Studio Data: 1 entries\n",
      "Starting URL reconstruction...\n"
     ]
    },
    {
     "name": "stderr",
     "output_type": "stream",
     "text": [
      "2024-02-01 21:46:59,855 - INFO - Processing URL 1/3: https://www.eversports.de/s/pole-and-move-online-studio\n"
     ]
    },
    {
     "name": "stdout",
     "output_type": "stream",
     "text": [
      "Converting to DataFrame...\n",
      "Validating URLs...\n"
     ]
    },
    {
     "name": "stderr",
     "output_type": "stream",
     "text": [
      "2024-02-01 21:47:01,232 - INFO - URL https://www.eversports.de/s/pole-and-move-online-studio is valid.\n",
      "2024-02-01 21:47:01,233 - INFO - Processing URL 2/3: https://www.eversports.de/sp/pole-and-move-online-studio\n",
      "2024-02-01 21:47:02,451 - INFO - URL https://www.eversports.de/sp/pole-and-move-online-studio is valid.\n",
      "2024-02-01 21:47:02,452 - INFO - Processing URL 3/3: https://www.eversports.de/s/pole-and-move-online-studio/team\n",
      "2024-02-01 21:47:03,888 - INFO - URL https://www.eversports.de/s/pole-and-move-online-studio/team is valid.\n"
     ]
    },
    {
     "name": "stdout",
     "output_type": "stream",
     "text": [
      "Scraping Pole Studio Data from https://www.eversports.de/s/pole-and-move-online-studio...\n"
     ]
    },
    {
     "name": "stderr",
     "output_type": "stream",
     "text": [
      "Processing URLs:  25%|██▌       | 103/412 [08:13<23:12,  4.51s/it]"
     ]
    },
    {
     "name": "stdout",
     "output_type": "stream",
     "text": [
      "Processing completed.\n",
      "Pole Studio Data: 1 entries\n",
      "Starting URL reconstruction...\n"
     ]
    },
    {
     "name": "stderr",
     "output_type": "stream",
     "text": [
      "Processing URLs:  25%|██▌       | 104/412 [08:14<18:08,  3.53s/it]"
     ]
    },
    {
     "name": "stdout",
     "output_type": "stream",
     "text": [
      "Error during HTTP request: 404 Client Error: Not Found for url: https://www.eversports.de/s/indeed-unique---studio-wien\n",
      "Converting to DataFrame...\n",
      "Validating URLs...\n",
      "Processing completed.\n",
      "Starting URL reconstruction...\n"
     ]
    },
    {
     "name": "stderr",
     "output_type": "stream",
     "text": [
      "Processing URLs:  25%|██▌       | 105/412 [08:15<14:37,  2.86s/it]"
     ]
    },
    {
     "name": "stdout",
     "output_type": "stream",
     "text": [
      "Error during HTTP request: 404 Client Error: Not Found for url: https://www.eversports.de/s/anni's-pole-dance-neum%C3%BCnster\n",
      "Converting to DataFrame...\n",
      "Validating URLs...\n",
      "Processing completed.\n",
      "Starting URL reconstruction...\n"
     ]
    },
    {
     "name": "stderr",
     "output_type": "stream",
     "text": [
      "Processing URLs:  26%|██▌       | 106/412 [08:17<12:07,  2.38s/it]"
     ]
    },
    {
     "name": "stdout",
     "output_type": "stream",
     "text": [
      "Error during HTTP request: 404 Client Error: Not Found for url: https://www.eversports.de/s/verticalspirit-chemnitz-e.-v.\n",
      "Converting to DataFrame...\n",
      "Validating URLs...\n",
      "Processing completed.\n",
      "Starting URL reconstruction...\n"
     ]
    },
    {
     "name": "stderr",
     "output_type": "stream",
     "text": [
      "2024-02-01 21:47:09,519 - INFO - Processing URL 1/4: https://www.eversports.de/s/a-heart-for-poledance-1\n"
     ]
    },
    {
     "name": "stdout",
     "output_type": "stream",
     "text": [
      "Error reconstructing URL for 'Trainings': Unrecognized text: 'Trainings'\n",
      "Converting to DataFrame...\n",
      "Validating URLs...\n"
     ]
    },
    {
     "name": "stderr",
     "output_type": "stream",
     "text": [
      "2024-02-01 21:47:10,826 - INFO - URL https://www.eversports.de/s/a-heart-for-poledance-1 is valid.\n",
      "2024-02-01 21:47:10,827 - INFO - Processing URL 2/4: https://www.eversports.de/sw/a-heart-for-poledance-1\n",
      "2024-02-01 21:47:12,056 - INFO - URL https://www.eversports.de/sw/a-heart-for-poledance-1 is valid.\n",
      "2024-02-01 21:47:12,057 - INFO - Processing URL 3/4: https://www.eversports.de/sp/a-heart-for-poledance-1\n",
      "2024-02-01 21:47:13,225 - INFO - URL https://www.eversports.de/sp/a-heart-for-poledance-1 is valid.\n",
      "2024-02-01 21:47:13,227 - INFO - Processing URL 4/4: https://www.eversports.de/s/a-heart-for-poledance-1/team\n",
      "2024-02-01 21:47:14,427 - INFO - URL https://www.eversports.de/s/a-heart-for-poledance-1/team is valid.\n"
     ]
    },
    {
     "name": "stdout",
     "output_type": "stream",
     "text": [
      "Scraping Pole Studio Data from https://www.eversports.de/s/a-heart-for-poledance-1...\n",
      "Scraping Workshops Data from https://www.eversports.de/sw/a-heart-for-poledance-1...\n",
      "Scraping Workshop Details from https://www.eversports.de/e/workshop/5VJvMXI...\n",
      "Scraping Workshop Details from https://www.eversports.de/e/workshop/jQOaOC3...\n",
      "Scraping Workshop Details from https://www.eversports.de/e/workshop/H4Qz_fT...\n",
      "Scraping Workshop Details from https://www.eversports.de/e/workshop/nOac6zt...\n",
      "Scraping Workshop Details from https://www.eversports.de/e/workshop/yMiXoIi...\n"
     ]
    },
    {
     "name": "stderr",
     "output_type": "stream",
     "text": [
      "Processing URLs:  26%|██▌       | 107/412 [08:34<35:14,  6.93s/it]"
     ]
    },
    {
     "name": "stdout",
     "output_type": "stream",
     "text": [
      "Processing completed.\n",
      "Pole Studio Data: 1 entries\n",
      "Workshops Data: 5 entries\n",
      "Workshop Details: 5 entries\n",
      "Starting URL reconstruction...\n"
     ]
    },
    {
     "name": "stderr",
     "output_type": "stream",
     "text": [
      "2024-02-01 21:47:27,045 - INFO - Processing URL 1/3: https://www.eversports.de/s/upsidedown-studio-friedrichsdorf\n"
     ]
    },
    {
     "name": "stdout",
     "output_type": "stream",
     "text": [
      "Error reconstructing URL for 'Kurse': Unrecognized text: 'Kurse'\n",
      "Converting to DataFrame...\n",
      "Validating URLs...\n"
     ]
    },
    {
     "name": "stderr",
     "output_type": "stream",
     "text": [
      "2024-02-01 21:47:29,174 - INFO - URL https://www.eversports.de/s/upsidedown-studio-friedrichsdorf is valid.\n",
      "2024-02-01 21:47:29,176 - INFO - Processing URL 2/3: https://www.eversports.de/sp/upsidedown-studio-friedrichsdorf\n",
      "2024-02-01 21:47:30,428 - INFO - URL https://www.eversports.de/sp/upsidedown-studio-friedrichsdorf is valid.\n",
      "2024-02-01 21:47:30,429 - INFO - Processing URL 3/3: https://www.eversports.de/s/upsidedown-studio-friedrichsdorf/team\n",
      "2024-02-01 21:47:31,626 - INFO - URL https://www.eversports.de/s/upsidedown-studio-friedrichsdorf/team is valid.\n"
     ]
    },
    {
     "name": "stdout",
     "output_type": "stream",
     "text": [
      "Scraping Pole Studio Data from https://www.eversports.de/s/upsidedown-studio-friedrichsdorf...\n"
     ]
    },
    {
     "name": "stderr",
     "output_type": "stream",
     "text": [
      "Processing URLs:  26%|██▌       | 108/412 [08:41<34:04,  6.72s/it]"
     ]
    },
    {
     "name": "stdout",
     "output_type": "stream",
     "text": [
      "Processing completed.\n",
      "Pole Studio Data: 1 entries\n",
      "Starting URL reconstruction...\n"
     ]
    },
    {
     "name": "stderr",
     "output_type": "stream",
     "text": [
      "Processing URLs:  26%|██▋       | 109/412 [08:42<25:48,  5.11s/it]"
     ]
    },
    {
     "name": "stdout",
     "output_type": "stream",
     "text": [
      "Error during HTTP request: 404 Client Error: Not Found for url: https://www.eversports.de/s/dance-%26-pole-deltawerk\n",
      "Converting to DataFrame...\n",
      "Validating URLs...\n",
      "Processing completed.\n",
      "Starting URL reconstruction...\n"
     ]
    },
    {
     "name": "stderr",
     "output_type": "stream",
     "text": [
      "2024-02-01 21:47:34,667 - INFO - Processing URL 1/1: https://www.eversports.de/s/swiss-mega-park\n"
     ]
    },
    {
     "name": "stdout",
     "output_type": "stream",
     "text": [
      "Error reconstructing URL for 'Sportplätze': Unrecognized text: 'Sportplätze'\n",
      "Error reconstructing URL for 'Matches': Unrecognized text: 'Matches'\n",
      "Converting to DataFrame...\n",
      "Validating URLs...\n"
     ]
    },
    {
     "name": "stderr",
     "output_type": "stream",
     "text": [
      "2024-02-01 21:47:36,966 - INFO - URL https://www.eversports.de/s/swiss-mega-park is valid.\n"
     ]
    },
    {
     "name": "stdout",
     "output_type": "stream",
     "text": [
      "Scraping Pole Studio Data from https://www.eversports.de/s/swiss-mega-park...\n"
     ]
    },
    {
     "name": "stderr",
     "output_type": "stream",
     "text": [
      "Processing URLs:  27%|██▋       | 110/412 [08:46<24:05,  4.79s/it]"
     ]
    },
    {
     "name": "stdout",
     "output_type": "stream",
     "text": [
      "Processing completed.\n",
      "Pole Studio Data: 1 entries\n",
      "Starting URL reconstruction...\n"
     ]
    },
    {
     "name": "stderr",
     "output_type": "stream",
     "text": [
      "2024-02-01 21:47:38,783 - INFO - Processing URL 1/3: https://www.eversports.de/s/tanzschule-poledance-reutlingen\n"
     ]
    },
    {
     "name": "stdout",
     "output_type": "stream",
     "text": [
      "Converting to DataFrame...\n",
      "Validating URLs...\n"
     ]
    },
    {
     "name": "stderr",
     "output_type": "stream",
     "text": [
      "2024-02-01 21:47:40,817 - INFO - URL https://www.eversports.de/s/tanzschule-poledance-reutlingen is valid.\n",
      "2024-02-01 21:47:40,818 - INFO - Processing URL 2/3: https://www.eversports.de/sp/tanzschule-poledance-reutlingen\n",
      "2024-02-01 21:47:41,942 - INFO - URL https://www.eversports.de/sp/tanzschule-poledance-reutlingen is valid.\n",
      "2024-02-01 21:47:41,943 - INFO - Processing URL 3/3: https://www.eversports.de/s/tanzschule-poledance-reutlingen/team\n",
      "2024-02-01 21:47:43,233 - INFO - URL https://www.eversports.de/s/tanzschule-poledance-reutlingen/team is valid.\n"
     ]
    },
    {
     "name": "stdout",
     "output_type": "stream",
     "text": [
      "Scraping Pole Studio Data from https://www.eversports.de/s/tanzschule-poledance-reutlingen...\n"
     ]
    },
    {
     "name": "stderr",
     "output_type": "stream",
     "text": [
      "Processing URLs:  27%|██▋       | 111/412 [08:53<27:09,  5.41s/it]"
     ]
    },
    {
     "name": "stdout",
     "output_type": "stream",
     "text": [
      "Processing completed.\n",
      "Pole Studio Data: 1 entries\n",
      "Starting URL reconstruction...\n"
     ]
    },
    {
     "name": "stderr",
     "output_type": "stream",
     "text": [
      "2024-02-01 21:47:45,535 - INFO - Processing URL 1/1: https://www.eversports.de/s/soul-flight\n"
     ]
    },
    {
     "name": "stdout",
     "output_type": "stream",
     "text": [
      "Converting to DataFrame...\n",
      "Validating URLs...\n"
     ]
    },
    {
     "name": "stderr",
     "output_type": "stream",
     "text": [
      "2024-02-01 21:47:46,791 - INFO - URL https://www.eversports.de/s/soul-flight is valid.\n"
     ]
    },
    {
     "name": "stdout",
     "output_type": "stream",
     "text": [
      "Scraping Pole Studio Data from https://www.eversports.de/s/soul-flight...\n"
     ]
    },
    {
     "name": "stderr",
     "output_type": "stream",
     "text": [
      "Processing URLs:  27%|██▋       | 112/412 [08:56<23:17,  4.66s/it]"
     ]
    },
    {
     "name": "stdout",
     "output_type": "stream",
     "text": [
      "Processing completed.\n",
      "Pole Studio Data: 1 entries\n",
      "Starting URL reconstruction...\n"
     ]
    },
    {
     "name": "stderr",
     "output_type": "stream",
     "text": [
      "Processing URLs:  27%|██▋       | 113/412 [08:57<17:54,  3.60s/it]"
     ]
    },
    {
     "name": "stdout",
     "output_type": "stream",
     "text": [
      "Error during HTTP request: 404 Client Error: Not Found for url: https://www.eversports.de/s/ironx-\n",
      "Converting to DataFrame...\n",
      "Validating URLs...\n",
      "Processing completed.\n",
      "Starting URL reconstruction...\n"
     ]
    },
    {
     "name": "stderr",
     "output_type": "stream",
     "text": [
      "Processing URLs:  28%|██▊       | 114/412 [08:58<14:08,  2.85s/it]"
     ]
    },
    {
     "name": "stdout",
     "output_type": "stream",
     "text": [
      "Error during HTTP request: 404 Client Error: Not Found for url: https://www.eversports.de/s/exotic-academy\n",
      "Converting to DataFrame...\n",
      "Validating URLs...\n",
      "Processing completed.\n",
      "Starting URL reconstruction...\n"
     ]
    },
    {
     "name": "stderr",
     "output_type": "stream",
     "text": [
      "2024-02-01 21:47:50,724 - INFO - Processing URL 1/3: https://www.eversports.de/s/pole-dance-beauties\n"
     ]
    },
    {
     "name": "stdout",
     "output_type": "stream",
     "text": [
      "Error reconstructing URL for 'Kurse': Unrecognized text: 'Kurse'\n",
      "Converting to DataFrame...\n",
      "Validating URLs...\n"
     ]
    },
    {
     "name": "stderr",
     "output_type": "stream",
     "text": [
      "2024-02-01 21:47:52,289 - INFO - URL https://www.eversports.de/s/pole-dance-beauties is valid.\n",
      "2024-02-01 21:47:52,290 - INFO - Processing URL 2/3: https://www.eversports.de/sp/pole-dance-beauties\n",
      "2024-02-01 21:47:53,412 - INFO - URL https://www.eversports.de/sp/pole-dance-beauties is valid.\n",
      "2024-02-01 21:47:53,414 - INFO - Processing URL 3/3: https://www.eversports.de/s/pole-dance-beauties/team\n",
      "2024-02-01 21:47:55,383 - INFO - URL https://www.eversports.de/s/pole-dance-beauties/team is valid.\n"
     ]
    },
    {
     "name": "stdout",
     "output_type": "stream",
     "text": [
      "Scraping Pole Studio Data from https://www.eversports.de/s/pole-dance-beauties...\n"
     ]
    },
    {
     "name": "stderr",
     "output_type": "stream",
     "text": [
      "Processing URLs:  28%|██▊       | 115/412 [09:04<19:22,  3.92s/it]"
     ]
    },
    {
     "name": "stdout",
     "output_type": "stream",
     "text": [
      "Processing completed.\n",
      "Pole Studio Data: 1 entries\n",
      "Starting URL reconstruction...\n"
     ]
    },
    {
     "name": "stderr",
     "output_type": "stream",
     "text": [
      "Processing URLs:  28%|██▊       | 116/412 [09:05<15:10,  3.08s/it]"
     ]
    },
    {
     "name": "stdout",
     "output_type": "stream",
     "text": [
      "Error during HTTP request: 404 Client Error: Not Found for url: https://www.eversports.de/s/pole-dance-power\n",
      "Converting to DataFrame...\n",
      "Validating URLs...\n",
      "Processing completed.\n",
      "Starting URL reconstruction...\n"
     ]
    },
    {
     "name": "stderr",
     "output_type": "stream",
     "text": [
      "2024-02-01 21:47:58,163 - INFO - Processing URL 1/3: https://www.eversports.de/s/polefamily-koblenz\n"
     ]
    },
    {
     "name": "stdout",
     "output_type": "stream",
     "text": [
      "Converting to DataFrame...\n",
      "Validating URLs...\n"
     ]
    },
    {
     "name": "stderr",
     "output_type": "stream",
     "text": [
      "2024-02-01 21:47:59,454 - INFO - URL https://www.eversports.de/s/polefamily-koblenz is valid.\n",
      "2024-02-01 21:47:59,455 - INFO - Processing URL 2/3: https://www.eversports.de/sp/polefamily-koblenz\n",
      "2024-02-01 21:48:00,624 - INFO - URL https://www.eversports.de/sp/polefamily-koblenz is valid.\n",
      "2024-02-01 21:48:00,625 - INFO - Processing URL 3/3: https://www.eversports.de/s/polefamily-koblenz/team\n",
      "2024-02-01 21:48:01,774 - INFO - URL https://www.eversports.de/s/polefamily-koblenz/team is valid.\n"
     ]
    },
    {
     "name": "stdout",
     "output_type": "stream",
     "text": [
      "Scraping Pole Studio Data from https://www.eversports.de/s/polefamily-koblenz...\n"
     ]
    },
    {
     "name": "stderr",
     "output_type": "stream",
     "text": [
      "Processing URLs:  28%|██▊       | 117/412 [09:11<18:18,  3.72s/it]"
     ]
    },
    {
     "name": "stdout",
     "output_type": "stream",
     "text": [
      "Processing completed.\n",
      "Pole Studio Data: 1 entries\n",
      "Starting URL reconstruction...\n"
     ]
    },
    {
     "name": "stderr",
     "output_type": "stream",
     "text": [
      "2024-02-01 21:48:03,408 - INFO - Processing URL 1/3: https://www.eversports.de/s/mmc-dance-and-event-studio\n"
     ]
    },
    {
     "name": "stdout",
     "output_type": "stream",
     "text": [
      "Converting to DataFrame...\n",
      "Validating URLs...\n"
     ]
    },
    {
     "name": "stderr",
     "output_type": "stream",
     "text": [
      "2024-02-01 21:48:05,188 - INFO - URL https://www.eversports.de/s/mmc-dance-and-event-studio is valid.\n",
      "2024-02-01 21:48:05,189 - INFO - Processing URL 2/3: https://www.eversports.de/sp/mmc-dance-and-event-studio\n",
      "2024-02-01 21:48:06,316 - INFO - URL https://www.eversports.de/sp/mmc-dance-and-event-studio is valid.\n",
      "2024-02-01 21:48:06,317 - INFO - Processing URL 3/3: https://www.eversports.de/s/mmc-dance-and-event-studio/team\n",
      "2024-02-01 21:48:07,877 - INFO - URL https://www.eversports.de/s/mmc-dance-and-event-studio/team is valid.\n"
     ]
    },
    {
     "name": "stdout",
     "output_type": "stream",
     "text": [
      "Scraping Pole Studio Data from https://www.eversports.de/s/mmc-dance-and-event-studio...\n"
     ]
    },
    {
     "name": "stderr",
     "output_type": "stream",
     "text": [
      "Processing URLs:  29%|██▊       | 118/412 [09:17<21:45,  4.44s/it]"
     ]
    },
    {
     "name": "stdout",
     "output_type": "stream",
     "text": [
      "Processing completed.\n",
      "Pole Studio Data: 1 entries\n",
      "Starting URL reconstruction...\n"
     ]
    },
    {
     "name": "stderr",
     "output_type": "stream",
     "text": [
      "Processing URLs:  29%|██▉       | 119/412 [09:18<16:46,  3.44s/it]"
     ]
    },
    {
     "name": "stdout",
     "output_type": "stream",
     "text": [
      "Error during HTTP request: 404 Client Error: Not Found for url: https://www.eversports.de/s/tanzteufel-emmendingen\n",
      "Converting to DataFrame...\n",
      "Validating URLs...\n",
      "Processing completed.\n",
      "Starting URL reconstruction...\n"
     ]
    },
    {
     "name": "stderr",
     "output_type": "stream",
     "text": [
      "Processing URLs:  29%|██▉       | 120/412 [09:19<13:47,  2.83s/it]"
     ]
    },
    {
     "name": "stdout",
     "output_type": "stream",
     "text": [
      "Error during HTTP request: 404 Client Error: Not Found for url: https://www.eversports.de/s/poledance-schule-berlin\n",
      "Converting to DataFrame...\n",
      "Validating URLs...\n",
      "Processing completed.\n",
      "Starting URL reconstruction...\n"
     ]
    },
    {
     "name": "stderr",
     "output_type": "stream",
     "text": [
      "2024-02-01 21:48:12,105 - INFO - Processing URL 1/3: https://www.eversports.de/s/yh-pole-and-sports-berlin\n"
     ]
    },
    {
     "name": "stdout",
     "output_type": "stream",
     "text": [
      "Converting to DataFrame...\n",
      "Validating URLs...\n"
     ]
    },
    {
     "name": "stderr",
     "output_type": "stream",
     "text": [
      "2024-02-01 21:48:13,910 - INFO - URL https://www.eversports.de/s/yh-pole-and-sports-berlin is valid.\n",
      "2024-02-01 21:48:13,912 - INFO - Processing URL 2/3: https://www.eversports.de/sp/yh-pole-and-sports-berlin\n",
      "2024-02-01 21:48:15,070 - INFO - URL https://www.eversports.de/sp/yh-pole-and-sports-berlin is valid.\n",
      "2024-02-01 21:48:15,071 - INFO - Processing URL 3/3: https://www.eversports.de/s/yh-pole-and-sports-berlin/team\n",
      "2024-02-01 21:48:16,235 - INFO - URL https://www.eversports.de/s/yh-pole-and-sports-berlin/team is valid.\n"
     ]
    },
    {
     "name": "stdout",
     "output_type": "stream",
     "text": [
      "Scraping Pole Studio Data from https://www.eversports.de/s/yh-pole-and-sports-berlin...\n"
     ]
    },
    {
     "name": "stderr",
     "output_type": "stream",
     "text": [
      "Processing URLs:  29%|██▉       | 121/412 [09:25<18:15,  3.77s/it]"
     ]
    },
    {
     "name": "stdout",
     "output_type": "stream",
     "text": [
      "Processing completed.\n",
      "Pole Studio Data: 1 entries\n",
      "Starting URL reconstruction...\n"
     ]
    },
    {
     "name": "stderr",
     "output_type": "stream",
     "text": [
      "2024-02-01 21:48:17,927 - INFO - Processing URL 1/1: https://www.eversports.de/s/lush-motion\n"
     ]
    },
    {
     "name": "stdout",
     "output_type": "stream",
     "text": [
      "Converting to DataFrame...\n",
      "Validating URLs...\n"
     ]
    },
    {
     "name": "stderr",
     "output_type": "stream",
     "text": [
      "2024-02-01 21:48:19,584 - INFO - URL https://www.eversports.de/s/lush-motion is valid.\n"
     ]
    },
    {
     "name": "stdout",
     "output_type": "stream",
     "text": [
      "Scraping Pole Studio Data from https://www.eversports.de/s/lush-motion...\n"
     ]
    },
    {
     "name": "stderr",
     "output_type": "stream",
     "text": [
      "Processing URLs:  30%|██▉       | 122/412 [09:28<17:23,  3.60s/it]"
     ]
    },
    {
     "name": "stdout",
     "output_type": "stream",
     "text": [
      "Processing completed.\n",
      "Pole Studio Data: 1 entries\n",
      "Starting URL reconstruction...\n"
     ]
    },
    {
     "name": "stderr",
     "output_type": "stream",
     "text": [
      "Processing URLs:  30%|██▉       | 123/412 [09:30<13:50,  2.87s/it]"
     ]
    },
    {
     "name": "stdout",
     "output_type": "stream",
     "text": [
      "Error during HTTP request: 404 Client Error: Not Found for url: https://www.eversports.de/s/tanzstudio-vi-dance-dortmund\n",
      "Converting to DataFrame...\n",
      "Validating URLs...\n",
      "Processing completed.\n",
      "Starting URL reconstruction...\n"
     ]
    },
    {
     "name": "stderr",
     "output_type": "stream",
     "text": [
      "2024-02-01 21:48:22,521 - INFO - Processing URL 1/3: https://www.eversports.de/s/papillon-dance-and-sport-academy\n"
     ]
    },
    {
     "name": "stdout",
     "output_type": "stream",
     "text": [
      "Converting to DataFrame...\n",
      "Validating URLs...\n"
     ]
    },
    {
     "name": "stderr",
     "output_type": "stream",
     "text": [
      "2024-02-01 21:48:23,791 - INFO - URL https://www.eversports.de/s/papillon-dance-and-sport-academy is valid.\n",
      "2024-02-01 21:48:23,791 - INFO - Processing URL 2/3: https://www.eversports.de/sp/papillon-dance-and-sport-academy\n",
      "2024-02-01 21:48:24,951 - INFO - URL https://www.eversports.de/sp/papillon-dance-and-sport-academy is valid.\n",
      "2024-02-01 21:48:24,952 - INFO - Processing URL 3/3: https://www.eversports.de/s/papillon-dance-and-sport-academy/team\n",
      "2024-02-01 21:48:26,118 - INFO - URL https://www.eversports.de/s/papillon-dance-and-sport-academy/team is valid.\n"
     ]
    },
    {
     "name": "stdout",
     "output_type": "stream",
     "text": [
      "Scraping Pole Studio Data from https://www.eversports.de/s/papillon-dance-and-sport-academy...\n"
     ]
    },
    {
     "name": "stderr",
     "output_type": "stream",
     "text": [
      "Processing URLs:  30%|███       | 124/412 [09:35<17:28,  3.64s/it]"
     ]
    },
    {
     "name": "stdout",
     "output_type": "stream",
     "text": [
      "Processing completed.\n",
      "Pole Studio Data: 1 entries\n",
      "Starting URL reconstruction...\n"
     ]
    },
    {
     "name": "stderr",
     "output_type": "stream",
     "text": [
      "2024-02-01 21:48:27,881 - INFO - Processing URL 1/3: https://www.eversports.de/s/center-of-moving-arts\n"
     ]
    },
    {
     "name": "stdout",
     "output_type": "stream",
     "text": [
      "Converting to DataFrame...\n",
      "Validating URLs...\n"
     ]
    },
    {
     "name": "stderr",
     "output_type": "stream",
     "text": [
      "2024-02-01 21:48:29,333 - INFO - URL https://www.eversports.de/s/center-of-moving-arts is valid.\n",
      "2024-02-01 21:48:29,334 - INFO - Processing URL 2/3: https://www.eversports.de/sp/center-of-moving-arts\n",
      "2024-02-01 21:48:30,514 - INFO - URL https://www.eversports.de/sp/center-of-moving-arts is valid.\n",
      "2024-02-01 21:48:30,516 - INFO - Processing URL 3/3: https://www.eversports.de/s/center-of-moving-arts/team\n",
      "2024-02-01 21:48:31,811 - INFO - URL https://www.eversports.de/s/center-of-moving-arts/team is valid.\n"
     ]
    },
    {
     "name": "stdout",
     "output_type": "stream",
     "text": [
      "Scraping Pole Studio Data from https://www.eversports.de/s/center-of-moving-arts...\n"
     ]
    },
    {
     "name": "stderr",
     "output_type": "stream",
     "text": [
      "Processing URLs:  30%|███       | 125/412 [09:41<21:06,  4.41s/it]"
     ]
    },
    {
     "name": "stdout",
     "output_type": "stream",
     "text": [
      "Processing completed.\n",
      "Pole Studio Data: 1 entries\n",
      "Starting URL reconstruction...\n"
     ]
    },
    {
     "name": "stderr",
     "output_type": "stream",
     "text": [
      "Processing URLs:  31%|███       | 126/412 [09:45<19:29,  4.09s/it]"
     ]
    },
    {
     "name": "stdout",
     "output_type": "stream",
     "text": [
      "Error during HTTP request: Exceeded 30 redirects.\n",
      "Converting to DataFrame...\n",
      "Validating URLs...\n",
      "Processing completed.\n",
      "Starting URL reconstruction...\n"
     ]
    },
    {
     "name": "stderr",
     "output_type": "stream",
     "text": [
      "Processing URLs:  31%|███       | 127/412 [09:50<20:36,  4.34s/it]"
     ]
    },
    {
     "name": "stdout",
     "output_type": "stream",
     "text": [
      "Error during HTTP request: Exceeded 30 redirects.\n",
      "Converting to DataFrame...\n",
      "Validating URLs...\n",
      "Processing completed.\n",
      "Starting URL reconstruction...\n"
     ]
    },
    {
     "name": "stderr",
     "output_type": "stream",
     "text": [
      "Processing URLs:  31%|███       | 128/412 [09:53<19:16,  4.07s/it]"
     ]
    },
    {
     "name": "stdout",
     "output_type": "stream",
     "text": [
      "Error during HTTP request: Exceeded 30 redirects.\n",
      "Converting to DataFrame...\n",
      "Validating URLs...\n",
      "Processing completed.\n",
      "Starting URL reconstruction...\n"
     ]
    },
    {
     "name": "stderr",
     "output_type": "stream",
     "text": [
      "Processing URLs:  31%|███▏      | 129/412 [09:55<15:39,  3.32s/it]"
     ]
    },
    {
     "name": "stdout",
     "output_type": "stream",
     "text": [
      "Error during HTTP request: 404 Client Error: Not Found for url: https://www.eversports.de/s/polemotions\n",
      "Converting to DataFrame...\n",
      "Validating URLs...\n",
      "Processing completed.\n",
      "Starting URL reconstruction...\n"
     ]
    },
    {
     "name": "stderr",
     "output_type": "stream",
     "text": [
      "2024-02-01 21:48:48,089 - INFO - Processing URL 1/4: https://www.eversports.de/s/t-tanzstueck-braunschweig\n"
     ]
    },
    {
     "name": "stdout",
     "output_type": "stream",
     "text": [
      "Error reconstructing URL for 'Kurse': Unrecognized text: 'Kurse'\n",
      "Converting to DataFrame...\n",
      "Validating URLs...\n"
     ]
    },
    {
     "name": "stderr",
     "output_type": "stream",
     "text": [
      "2024-02-01 21:48:49,944 - INFO - URL https://www.eversports.de/s/t-tanzstueck-braunschweig is valid.\n",
      "2024-02-01 21:48:49,945 - INFO - Processing URL 2/4: https://www.eversports.de/sw/t-tanzstueck-braunschweig\n",
      "2024-02-01 21:48:51,108 - INFO - URL https://www.eversports.de/sw/t-tanzstueck-braunschweig is valid.\n",
      "2024-02-01 21:48:51,109 - INFO - Processing URL 3/4: https://www.eversports.de/sp/t-tanzstueck-braunschweig\n",
      "2024-02-01 21:48:53,799 - INFO - URL https://www.eversports.de/sp/t-tanzstueck-braunschweig is valid.\n",
      "2024-02-01 21:48:53,800 - INFO - Processing URL 4/4: https://www.eversports.de/s/t-tanzstueck-braunschweig/team\n",
      "2024-02-01 21:48:55,005 - INFO - URL https://www.eversports.de/s/t-tanzstueck-braunschweig/team is valid.\n"
     ]
    },
    {
     "name": "stdout",
     "output_type": "stream",
     "text": [
      "Scraping Pole Studio Data from https://www.eversports.de/s/t-tanzstueck-braunschweig...\n",
      "Scraping Workshops Data from https://www.eversports.de/sw/t-tanzstueck-braunschweig...\n",
      "Scraping Workshop Details from https://www.eversports.de/e/workshop/itCOcd3...\n"
     ]
    },
    {
     "name": "stderr",
     "output_type": "stream",
     "text": [
      "Processing URLs:  32%|███▏      | 130/412 [10:06<27:35,  5.87s/it]"
     ]
    },
    {
     "name": "stdout",
     "output_type": "stream",
     "text": [
      "Processing completed.\n",
      "Pole Studio Data: 1 entries\n",
      "Workshops Data: 1 entries\n",
      "Workshop Details: 1 entries\n",
      "Starting URL reconstruction...\n"
     ]
    },
    {
     "name": "stderr",
     "output_type": "stream",
     "text": [
      "2024-02-01 21:48:59,170 - INFO - Processing URL 1/4: https://www.eversports.de/s/pole-formance\n"
     ]
    },
    {
     "name": "stdout",
     "output_type": "stream",
     "text": [
      "Error reconstructing URL for 'Kurse': Unrecognized text: 'Kurse'\n",
      "Converting to DataFrame...\n",
      "Validating URLs...\n"
     ]
    },
    {
     "name": "stderr",
     "output_type": "stream",
     "text": [
      "2024-02-01 21:49:00,416 - INFO - URL https://www.eversports.de/s/pole-formance is valid.\n",
      "2024-02-01 21:49:00,417 - INFO - Processing URL 2/4: https://www.eversports.de/sw/pole-formance\n",
      "2024-02-01 21:49:04,182 - INFO - URL https://www.eversports.de/sw/pole-formance is valid.\n",
      "2024-02-01 21:49:04,183 - INFO - Processing URL 3/4: https://www.eversports.de/sp/pole-formance\n",
      "2024-02-01 21:49:05,267 - INFO - URL https://www.eversports.de/sp/pole-formance is valid.\n",
      "2024-02-01 21:49:05,267 - INFO - Processing URL 4/4: https://www.eversports.de/s/pole-formance/team\n",
      "2024-02-01 21:49:06,464 - INFO - URL https://www.eversports.de/s/pole-formance/team is valid.\n"
     ]
    },
    {
     "name": "stdout",
     "output_type": "stream",
     "text": [
      "Scraping Pole Studio Data from https://www.eversports.de/s/pole-formance...\n",
      "Scraping Workshops Data from https://www.eversports.de/sw/pole-formance...\n",
      "Scraping Workshop Details from https://www.eversports.de/e/workshop/AieRNXP...\n",
      "Scraping Workshop Details from https://www.eversports.de/e/workshop/NA0fA-V...\n",
      "Scraping Workshop Details from https://www.eversports.de/e/workshop/KDYKHQf...\n",
      "Scraping Workshop Details from https://www.eversports.de/e/workshop/BjFbe-z...\n",
      "Scraping Workshop Details from https://www.eversports.de/e/workshop/U58r9aD...\n"
     ]
    },
    {
     "name": "stderr",
     "output_type": "stream",
     "text": [
      "Processing URLs:  32%|███▏      | 131/412 [10:24<44:30,  9.50s/it]"
     ]
    },
    {
     "name": "stdout",
     "output_type": "stream",
     "text": [
      "Processing completed.\n",
      "Pole Studio Data: 1 entries\n",
      "Workshops Data: 5 entries\n",
      "Workshop Details: 5 entries\n",
      "Starting URL reconstruction...\n"
     ]
    },
    {
     "name": "stderr",
     "output_type": "stream",
     "text": [
      "Processing URLs:  32%|███▏      | 132/412 [10:25<32:40,  7.00s/it]"
     ]
    },
    {
     "name": "stdout",
     "output_type": "stream",
     "text": [
      "Error during HTTP request: 404 Client Error: Not Found for url: https://www.eversports.de/s/open-aerial-dance\n",
      "Converting to DataFrame...\n",
      "Validating URLs...\n",
      "Processing completed.\n",
      "Starting URL reconstruction...\n"
     ]
    },
    {
     "name": "stderr",
     "output_type": "stream",
     "text": [
      "2024-02-01 21:49:18,255 - INFO - Processing URL 1/2: https://www.eversports.de/s/annis-pole-dance-uetersen\n"
     ]
    },
    {
     "name": "stdout",
     "output_type": "stream",
     "text": [
      "Error reconstructing URL for 'Trainings': Unrecognized text: 'Trainings'\n",
      "Error reconstructing URL for 'Kurse': Unrecognized text: 'Kurse'\n",
      "Converting to DataFrame...\n",
      "Validating URLs...\n"
     ]
    },
    {
     "name": "stderr",
     "output_type": "stream",
     "text": [
      "2024-02-01 21:49:19,570 - INFO - URL https://www.eversports.de/s/annis-pole-dance-uetersen is valid.\n",
      "2024-02-01 21:49:19,572 - INFO - Processing URL 2/2: https://www.eversports.de/s/annis-pole-dance-uetersen/team\n",
      "2024-02-01 21:49:20,767 - INFO - URL https://www.eversports.de/s/annis-pole-dance-uetersen/team is valid.\n"
     ]
    },
    {
     "name": "stdout",
     "output_type": "stream",
     "text": [
      "Scraping Pole Studio Data from https://www.eversports.de/s/annis-pole-dance-uetersen...\n"
     ]
    },
    {
     "name": "stderr",
     "output_type": "stream",
     "text": [
      "Processing URLs:  32%|███▏      | 133/412 [10:30<29:05,  6.26s/it]"
     ]
    },
    {
     "name": "stdout",
     "output_type": "stream",
     "text": [
      "Processing completed.\n",
      "Pole Studio Data: 1 entries\n",
      "Starting URL reconstruction...\n"
     ]
    },
    {
     "name": "stderr",
     "output_type": "stream",
     "text": [
      "Processing URLs:  33%|███▎      | 134/412 [10:31<21:50,  4.71s/it]"
     ]
    },
    {
     "name": "stdout",
     "output_type": "stream",
     "text": [
      "Error during HTTP request: 404 Client Error: Not Found for url: https://www.eversports.de/s/wonderpole\n",
      "Converting to DataFrame...\n",
      "Validating URLs...\n",
      "Processing completed.\n",
      "Starting URL reconstruction...\n"
     ]
    },
    {
     "name": "stderr",
     "output_type": "stream",
     "text": [
      "2024-02-01 21:49:23,827 - INFO - Processing URL 1/1: https://www.eversports.de/s/pole-your-body\n"
     ]
    },
    {
     "name": "stdout",
     "output_type": "stream",
     "text": [
      "Converting to DataFrame...\n",
      "Validating URLs...\n"
     ]
    },
    {
     "name": "stderr",
     "output_type": "stream",
     "text": [
      "2024-02-01 21:49:25,078 - INFO - URL https://www.eversports.de/s/pole-your-body is valid.\n"
     ]
    },
    {
     "name": "stdout",
     "output_type": "stream",
     "text": [
      "Scraping Pole Studio Data from https://www.eversports.de/s/pole-your-body...\n"
     ]
    },
    {
     "name": "stderr",
     "output_type": "stream",
     "text": [
      "Processing URLs:  33%|███▎      | 135/412 [10:34<19:04,  4.13s/it]"
     ]
    },
    {
     "name": "stdout",
     "output_type": "stream",
     "text": [
      "Processing completed.\n",
      "Pole Studio Data: 1 entries\n",
      "Starting URL reconstruction...\n"
     ]
    },
    {
     "name": "stderr",
     "output_type": "stream",
     "text": [
      "Processing URLs:  33%|███▎      | 136/412 [10:35<14:54,  3.24s/it]"
     ]
    },
    {
     "name": "stdout",
     "output_type": "stream",
     "text": [
      "Error during HTTP request: 404 Client Error: Not Found for url: https://www.eversports.de/s/drehimpuls-aachen\n",
      "Converting to DataFrame...\n",
      "Validating URLs...\n",
      "Processing completed.\n",
      "Starting URL reconstruction...\n"
     ]
    },
    {
     "name": "stderr",
     "output_type": "stream",
     "text": [
      "Processing URLs:  33%|███▎      | 137/412 [10:47<27:01,  5.90s/it]"
     ]
    },
    {
     "name": "stdout",
     "output_type": "stream",
     "text": [
      "Error during HTTP request: 404 Client Error: Not Found for url: https://www.eversports.de/s/incredipole---pole-%26-fitness-by-carolin\n",
      "Converting to DataFrame...\n",
      "Validating URLs...\n",
      "Processing completed.\n",
      "Starting URL reconstruction...\n"
     ]
    },
    {
     "name": "stderr",
     "output_type": "stream",
     "text": [
      "2024-02-01 21:50:06,662 - INFO - Processing URL 1/4: https://www.eversports.de/s/seemannsbraut-poledance\n"
     ]
    },
    {
     "name": "stdout",
     "output_type": "stream",
     "text": [
      "Error reconstructing URL for 'Kurse': Unrecognized text: 'Kurse'\n",
      "Converting to DataFrame...\n",
      "Validating URLs...\n"
     ]
    },
    {
     "name": "stderr",
     "output_type": "stream",
     "text": [
      "2024-02-01 21:50:07,982 - INFO - URL https://www.eversports.de/s/seemannsbraut-poledance is valid.\n",
      "2024-02-01 21:50:07,983 - INFO - Processing URL 2/4: https://www.eversports.de/sw/seemannsbraut-poledance\n",
      "2024-02-01 21:50:09,345 - INFO - URL https://www.eversports.de/sw/seemannsbraut-poledance is valid.\n",
      "2024-02-01 21:50:09,345 - INFO - Processing URL 3/4: https://www.eversports.de/sp/seemannsbraut-poledance\n",
      "2024-02-01 21:50:10,489 - INFO - URL https://www.eversports.de/sp/seemannsbraut-poledance is valid.\n",
      "2024-02-01 21:50:10,490 - INFO - Processing URL 4/4: https://www.eversports.de/s/seemannsbraut-poledance/team\n",
      "2024-02-01 21:50:11,766 - INFO - URL https://www.eversports.de/s/seemannsbraut-poledance/team is valid.\n"
     ]
    },
    {
     "name": "stdout",
     "output_type": "stream",
     "text": [
      "Scraping Pole Studio Data from https://www.eversports.de/s/seemannsbraut-poledance...\n",
      "Scraping Workshops Data from https://www.eversports.de/sw/seemannsbraut-poledance...\n",
      "Scraping Workshop Details from https://www.eversports.de/e/workshop/tjSmCEx...\n",
      "Scraping Workshop Details from https://www.eversports.de/e/workshop/mQPzgO-...\n",
      "Scraping Workshop Details from https://www.eversports.de/e/workshop/ziaHmeW...\n",
      "Scraping Workshop Details from https://www.eversports.de/e/workshop/zBoJPTa...\n"
     ]
    },
    {
     "name": "stderr",
     "output_type": "stream",
     "text": [
      "Processing URLs:  33%|███▎      | 138/412 [11:28<1:14:09, 16.24s/it]"
     ]
    },
    {
     "name": "stdout",
     "output_type": "stream",
     "text": [
      "Processing completed.\n",
      "Pole Studio Data: 1 entries\n",
      "Workshops Data: 4 entries\n",
      "Workshop Details: 4 entries\n",
      "Starting URL reconstruction...\n"
     ]
    },
    {
     "name": "stderr",
     "output_type": "stream",
     "text": [
      "2024-02-01 21:50:20,324 - INFO - Processing URL 1/3: https://www.eversports.de/s/pole-statement\n"
     ]
    },
    {
     "name": "stdout",
     "output_type": "stream",
     "text": [
      "Error reconstructing URL for 'Kurse': Unrecognized text: 'Kurse'\n",
      "Error reconstructing URL for 'Events': Unrecognized text: 'Events'\n",
      "Converting to DataFrame...\n",
      "Validating URLs...\n"
     ]
    },
    {
     "name": "stderr",
     "output_type": "stream",
     "text": [
      "2024-02-01 21:50:22,022 - INFO - URL https://www.eversports.de/s/pole-statement is valid.\n",
      "2024-02-01 21:50:22,022 - INFO - Processing URL 2/3: https://www.eversports.de/sp/pole-statement\n",
      "2024-02-01 21:50:23,165 - INFO - URL https://www.eversports.de/sp/pole-statement is valid.\n",
      "2024-02-01 21:50:23,166 - INFO - Processing URL 3/3: https://www.eversports.de/s/pole-statement/team\n",
      "2024-02-01 21:50:24,688 - INFO - URL https://www.eversports.de/s/pole-statement/team is valid.\n"
     ]
    },
    {
     "name": "stdout",
     "output_type": "stream",
     "text": [
      "Scraping Pole Studio Data from https://www.eversports.de/s/pole-statement...\n"
     ]
    },
    {
     "name": "stderr",
     "output_type": "stream",
     "text": [
      "Processing URLs:  34%|███▎      | 139/412 [11:34<1:00:34, 13.31s/it]"
     ]
    },
    {
     "name": "stdout",
     "output_type": "stream",
     "text": [
      "Processing completed.\n",
      "Pole Studio Data: 1 entries\n",
      "Starting URL reconstruction...\n"
     ]
    },
    {
     "name": "stderr",
     "output_type": "stream",
     "text": [
      "Processing URLs:  34%|███▍      | 140/412 [13:15<2:59:38, 39.63s/it]"
     ]
    },
    {
     "name": "stdout",
     "output_type": "stream",
     "text": [
      "Error during HTTP request: 524 Server Error:  for url: https://www.eversports.de/s/monopole-dance\n",
      "Converting to DataFrame...\n",
      "Validating URLs...\n",
      "Processing completed.\n",
      "Starting URL reconstruction...\n"
     ]
    },
    {
     "name": "stderr",
     "output_type": "stream",
     "text": [
      "Processing URLs:  34%|███▍      | 141/412 [13:16<2:06:56, 28.11s/it]"
     ]
    },
    {
     "name": "stdout",
     "output_type": "stream",
     "text": [
      "Error during HTTP request: 404 Client Error: Not Found for url: https://www.eversports.de/s/tsg-blau-gold-ballett--und-pole-dance--studio\n",
      "Converting to DataFrame...\n",
      "Validating URLs...\n",
      "Processing completed.\n",
      "Starting URL reconstruction...\n"
     ]
    },
    {
     "name": "stderr",
     "output_type": "stream",
     "text": [
      "Processing URLs:  34%|███▍      | 142/412 [13:17<1:30:04, 20.02s/it]"
     ]
    },
    {
     "name": "stdout",
     "output_type": "stream",
     "text": [
      "Error during HTTP request: 404 Client Error: Not Found for url: https://www.eversports.de/s/stretch-%26-pole\n",
      "Converting to DataFrame...\n",
      "Validating URLs...\n",
      "Processing completed.\n",
      "Starting URL reconstruction...\n"
     ]
    },
    {
     "name": "stderr",
     "output_type": "stream",
     "text": [
      "Processing URLs:  35%|███▍      | 143/412 [13:22<1:08:40, 15.32s/it]"
     ]
    },
    {
     "name": "stdout",
     "output_type": "stream",
     "text": [
      "Error during HTTP request: Exceeded 30 redirects.\n",
      "Converting to DataFrame...\n",
      "Validating URLs...\n",
      "Processing completed.\n",
      "Starting URL reconstruction...\n"
     ]
    },
    {
     "name": "stderr",
     "output_type": "stream",
     "text": [
      "Processing URLs:  35%|███▍      | 144/412 [13:26<53:34, 11.99s/it]  "
     ]
    },
    {
     "name": "stdout",
     "output_type": "stream",
     "text": [
      "Error during HTTP request: Exceeded 30 redirects.\n",
      "Converting to DataFrame...\n",
      "Validating URLs...\n",
      "Processing completed.\n",
      "Starting URL reconstruction...\n"
     ]
    },
    {
     "name": "stderr",
     "output_type": "stream",
     "text": [
      "Processing URLs:  35%|███▌      | 145/412 [13:27<39:07,  8.79s/it]"
     ]
    },
    {
     "name": "stdout",
     "output_type": "stream",
     "text": [
      "Error during HTTP request: 404 Client Error: Not Found for url: https://www.eversports.de/s/crazy-up-%26-pole\n",
      "Converting to DataFrame...\n",
      "Validating URLs...\n",
      "Processing completed.\n",
      "Starting URL reconstruction...\n"
     ]
    },
    {
     "name": "stderr",
     "output_type": "stream",
     "text": [
      "2024-02-01 21:52:20,591 - INFO - Processing URL 1/4: https://www.eversports.de/s/pole-faction-darmstadt\n"
     ]
    },
    {
     "name": "stdout",
     "output_type": "stream",
     "text": [
      "Converting to DataFrame...\n",
      "Validating URLs...\n"
     ]
    },
    {
     "name": "stderr",
     "output_type": "stream",
     "text": [
      "2024-02-01 21:52:22,125 - INFO - URL https://www.eversports.de/s/pole-faction-darmstadt is valid.\n",
      "2024-02-01 21:52:22,125 - INFO - Processing URL 2/4: https://www.eversports.de/sw/pole-faction-darmstadt\n",
      "2024-02-01 21:52:23,682 - INFO - URL https://www.eversports.de/sw/pole-faction-darmstadt is valid.\n",
      "2024-02-01 21:52:23,684 - INFO - Processing URL 3/4: https://www.eversports.de/sp/pole-faction-darmstadt\n",
      "2024-02-01 21:52:25,588 - INFO - URL https://www.eversports.de/sp/pole-faction-darmstadt is valid.\n",
      "2024-02-01 21:52:25,589 - INFO - Processing URL 4/4: https://www.eversports.de/s/pole-faction-darmstadt/team\n",
      "2024-02-01 21:52:27,491 - INFO - URL https://www.eversports.de/s/pole-faction-darmstadt/team is valid.\n"
     ]
    },
    {
     "name": "stdout",
     "output_type": "stream",
     "text": [
      "Scraping Pole Studio Data from https://www.eversports.de/s/pole-faction-darmstadt...\n",
      "Scraping Workshops Data from https://www.eversports.de/sw/pole-faction-darmstadt...\n",
      "Scraping Workshop Details from https://www.eversports.de/e/workshop/FP-cEyn...\n"
     ]
    },
    {
     "name": "stderr",
     "output_type": "stream",
     "text": [
      "Processing URLs:  35%|███▌      | 146/412 [13:39<42:56,  9.69s/it]"
     ]
    },
    {
     "name": "stdout",
     "output_type": "stream",
     "text": [
      "Processing completed.\n",
      "Pole Studio Data: 1 entries\n",
      "Workshops Data: 1 entries\n",
      "Workshop Details: 1 entries\n",
      "Starting URL reconstruction...\n"
     ]
    },
    {
     "name": "stderr",
     "output_type": "stream",
     "text": [
      "2024-02-01 21:52:33,139 - INFO - Processing URL 1/4: https://www.eversports.de/s/the-pole-jungle\n"
     ]
    },
    {
     "name": "stdout",
     "output_type": "stream",
     "text": [
      "Error reconstructing URL for 'Trainings': Unrecognized text: 'Trainings'\n",
      "Error reconstructing URL for 'Kurse': Unrecognized text: 'Kurse'\n",
      "Converting to DataFrame...\n",
      "Validating URLs...\n"
     ]
    },
    {
     "name": "stderr",
     "output_type": "stream",
     "text": [
      "2024-02-01 21:52:34,599 - INFO - URL https://www.eversports.de/s/the-pole-jungle is valid.\n",
      "2024-02-01 21:52:34,600 - INFO - Processing URL 2/4: https://www.eversports.de/sw/the-pole-jungle\n",
      "2024-02-01 21:52:35,674 - INFO - URL https://www.eversports.de/sw/the-pole-jungle is not valid.\n",
      "2024-02-01 21:52:35,674 - INFO - Processing URL 3/4: https://www.eversports.de/sp/the-pole-jungle\n",
      "2024-02-01 21:52:36,767 - INFO - URL https://www.eversports.de/sp/the-pole-jungle is not valid.\n",
      "2024-02-01 21:52:36,767 - INFO - Processing URL 4/4: https://www.eversports.de/s/the-pole-jungle/team\n",
      "2024-02-01 21:52:38,434 - INFO - URL https://www.eversports.de/s/the-pole-jungle/team is valid.\n"
     ]
    },
    {
     "name": "stdout",
     "output_type": "stream",
     "text": [
      "Scraping Pole Studio Data from https://www.eversports.de/s/the-pole-jungle...\n"
     ]
    },
    {
     "name": "stderr",
     "output_type": "stream",
     "text": [
      "Processing URLs:  36%|███▌      | 147/412 [13:47<40:55,  9.27s/it]"
     ]
    },
    {
     "name": "stdout",
     "output_type": "stream",
     "text": [
      "Processing completed.\n",
      "Pole Studio Data: 1 entries\n",
      "Starting URL reconstruction...\n"
     ]
    },
    {
     "name": "stderr",
     "output_type": "stream",
     "text": [
      "Processing URLs:  36%|███▌      | 148/412 [13:49<30:10,  6.86s/it]"
     ]
    },
    {
     "name": "stdout",
     "output_type": "stream",
     "text": [
      "Error during HTTP request: 404 Client Error: Not Found for url: https://www.eversports.de/s/just-fly\n",
      "Converting to DataFrame...\n",
      "Validating URLs...\n",
      "Processing completed.\n",
      "Starting URL reconstruction...\n"
     ]
    },
    {
     "name": "stderr",
     "output_type": "stream",
     "text": [
      "Processing URLs:  36%|███▌      | 149/412 [13:50<22:35,  5.15s/it]"
     ]
    },
    {
     "name": "stdout",
     "output_type": "stream",
     "text": [
      "Error during HTTP request: 404 Client Error: Not Found for url: https://www.eversports.de/s/activo-polefitness\n",
      "Converting to DataFrame...\n",
      "Validating URLs...\n",
      "Processing completed.\n",
      "Starting URL reconstruction...\n"
     ]
    },
    {
     "name": "stderr",
     "output_type": "stream",
     "text": [
      "2024-02-01 21:52:44,456 - INFO - Processing URL 1/4: https://www.eversports.de/s/yoga-at-lobe-block\n"
     ]
    },
    {
     "name": "stdout",
     "output_type": "stream",
     "text": [
      "Converting to DataFrame...\n",
      "Validating URLs...\n"
     ]
    },
    {
     "name": "stderr",
     "output_type": "stream",
     "text": [
      "2024-02-01 21:52:46,031 - INFO - URL https://www.eversports.de/s/yoga-at-lobe-block is valid.\n",
      "2024-02-01 21:52:46,032 - INFO - Processing URL 2/4: https://www.eversports.de/sw/yoga-at-lobe-block\n",
      "2024-02-01 21:52:47,355 - INFO - URL https://www.eversports.de/sw/yoga-at-lobe-block is valid.\n",
      "2024-02-01 21:52:47,356 - INFO - Processing URL 3/4: https://www.eversports.de/sp/yoga-at-lobe-block\n",
      "2024-02-01 21:52:48,684 - INFO - URL https://www.eversports.de/sp/yoga-at-lobe-block is valid.\n",
      "2024-02-01 21:52:48,684 - INFO - Processing URL 4/4: https://www.eversports.de/s/yoga-at-lobe-block/team\n",
      "2024-02-01 21:52:50,024 - INFO - URL https://www.eversports.de/s/yoga-at-lobe-block/team is valid.\n"
     ]
    },
    {
     "name": "stdout",
     "output_type": "stream",
     "text": [
      "Scraping Pole Studio Data from https://www.eversports.de/s/yoga-at-lobe-block...\n",
      "Scraping Workshops Data from https://www.eversports.de/sw/yoga-at-lobe-block...\n",
      "Scraping Workshop Details from https://www.eversports.de/e/workshop/vmr79nD...\n",
      "Scraping Workshop Details from https://www.eversports.de/e/workshop/5WFQ4Sn...\n"
     ]
    },
    {
     "name": "stderr",
     "output_type": "stream",
     "text": [
      "Processing URLs:  36%|███▋      | 150/412 [14:05<35:40,  8.17s/it]"
     ]
    },
    {
     "name": "stdout",
     "output_type": "stream",
     "text": [
      "Processing completed.\n",
      "Pole Studio Data: 1 entries\n",
      "Workshops Data: 2 entries\n",
      "Workshop Details: 2 entries\n",
      "Starting URL reconstruction...\n"
     ]
    },
    {
     "name": "stderr",
     "output_type": "stream",
     "text": [
      "2024-02-01 21:52:57,728 - INFO - Processing URL 1/1: https://www.eversports.de/s/polefriends-magdeburg\n"
     ]
    },
    {
     "name": "stdout",
     "output_type": "stream",
     "text": [
      "Converting to DataFrame...\n",
      "Validating URLs...\n"
     ]
    },
    {
     "name": "stderr",
     "output_type": "stream",
     "text": [
      "2024-02-01 21:52:58,925 - INFO - URL https://www.eversports.de/s/polefriends-magdeburg is valid.\n"
     ]
    },
    {
     "name": "stdout",
     "output_type": "stream",
     "text": [
      "Scraping Pole Studio Data from https://www.eversports.de/s/polefriends-magdeburg...\n"
     ]
    },
    {
     "name": "stderr",
     "output_type": "stream",
     "text": [
      "Processing URLs:  37%|███▋      | 151/412 [14:08<28:30,  6.56s/it]"
     ]
    },
    {
     "name": "stdout",
     "output_type": "stream",
     "text": [
      "Processing completed.\n",
      "Pole Studio Data: 1 entries\n",
      "Starting URL reconstruction...\n"
     ]
    },
    {
     "name": "stderr",
     "output_type": "stream",
     "text": [
      "Processing URLs:  37%|███▋      | 152/412 [14:09<21:32,  4.97s/it]"
     ]
    },
    {
     "name": "stdout",
     "output_type": "stream",
     "text": [
      "Error during HTTP request: 404 Client Error: Not Found for url: https://www.eversports.de/s/360-grad-soulsports\n",
      "Converting to DataFrame...\n",
      "Validating URLs...\n",
      "Processing completed.\n",
      "Starting URL reconstruction...\n"
     ]
    },
    {
     "name": "stderr",
     "output_type": "stream",
     "text": [
      "2024-02-01 21:53:05,517 - INFO - Processing URL 1/4: https://www.eversports.de/s/cheesy-heaven\n"
     ]
    },
    {
     "name": "stdout",
     "output_type": "stream",
     "text": [
      "Converting to DataFrame...\n",
      "Validating URLs...\n"
     ]
    },
    {
     "name": "stderr",
     "output_type": "stream",
     "text": [
      "2024-02-01 21:53:06,821 - INFO - URL https://www.eversports.de/s/cheesy-heaven is valid.\n",
      "2024-02-01 21:53:06,821 - INFO - Processing URL 2/4: https://www.eversports.de/sw/cheesy-heaven\n",
      "2024-02-01 21:53:08,049 - INFO - URL https://www.eversports.de/sw/cheesy-heaven is valid.\n",
      "2024-02-01 21:53:08,050 - INFO - Processing URL 3/4: https://www.eversports.de/sp/cheesy-heaven\n",
      "2024-02-01 21:53:09,237 - INFO - URL https://www.eversports.de/sp/cheesy-heaven is valid.\n",
      "2024-02-01 21:53:09,238 - INFO - Processing URL 4/4: https://www.eversports.de/s/cheesy-heaven/team\n",
      "2024-02-01 21:53:10,469 - INFO - URL https://www.eversports.de/s/cheesy-heaven/team is valid.\n"
     ]
    },
    {
     "name": "stdout",
     "output_type": "stream",
     "text": [
      "Scraping Pole Studio Data from https://www.eversports.de/s/cheesy-heaven...\n",
      "Scraping Workshops Data from https://www.eversports.de/sw/cheesy-heaven...\n",
      "Scraping Workshop Details from https://www.eversports.de/e/workshop/FPhYm4m...\n",
      "Scraping Workshop Details from https://www.eversports.de/e/workshop/YUDNvHE...\n",
      "Scraping Workshop Details from https://www.eversports.de/e/workshop/_TKMrS6...\n",
      "Scraping Workshop Details from https://www.eversports.de/e/workshop/wLNZTsC...\n"
     ]
    },
    {
     "name": "stderr",
     "output_type": "stream",
     "text": [
      "Processing URLs:  37%|███▋      | 153/412 [14:27<37:51,  8.77s/it]"
     ]
    },
    {
     "name": "stdout",
     "output_type": "stream",
     "text": [
      "Processing completed.\n",
      "Pole Studio Data: 1 entries\n",
      "Workshops Data: 4 entries\n",
      "Workshop Details: 4 entries\n",
      "Starting URL reconstruction...\n"
     ]
    },
    {
     "name": "stderr",
     "output_type": "stream",
     "text": [
      "2024-02-01 21:53:19,503 - INFO - Processing URL 1/1: https://www.eversports.de/s/firstsports-polefitness\n"
     ]
    },
    {
     "name": "stdout",
     "output_type": "stream",
     "text": [
      "Converting to DataFrame...\n",
      "Validating URLs...\n"
     ]
    },
    {
     "name": "stderr",
     "output_type": "stream",
     "text": [
      "2024-02-01 21:53:20,972 - INFO - URL https://www.eversports.de/s/firstsports-polefitness is valid.\n"
     ]
    },
    {
     "name": "stdout",
     "output_type": "stream",
     "text": [
      "Scraping Pole Studio Data from https://www.eversports.de/s/firstsports-polefitness...\n"
     ]
    },
    {
     "name": "stderr",
     "output_type": "stream",
     "text": [
      "Processing URLs:  37%|███▋      | 154/412 [14:30<30:53,  7.19s/it]"
     ]
    },
    {
     "name": "stdout",
     "output_type": "stream",
     "text": [
      "Processing completed.\n",
      "Pole Studio Data: 1 entries\n",
      "Starting URL reconstruction...\n"
     ]
    },
    {
     "name": "stderr",
     "output_type": "stream",
     "text": [
      "Processing URLs:  38%|███▊      | 155/412 [14:31<23:02,  5.38s/it]"
     ]
    },
    {
     "name": "stdout",
     "output_type": "stream",
     "text": [
      "Error during HTTP request: 404 Client Error: Not Found for url: https://www.eversports.de/s/anni's-pole-dance-uetersen\n",
      "Converting to DataFrame...\n",
      "Validating URLs...\n",
      "Processing completed.\n",
      "Starting URL reconstruction...\n"
     ]
    },
    {
     "name": "stderr",
     "output_type": "stream",
     "text": [
      "Processing URLs:  38%|███▊      | 156/412 [14:33<17:35,  4.12s/it]"
     ]
    },
    {
     "name": "stdout",
     "output_type": "stream",
     "text": [
      "Error during HTTP request: 404 Client Error: Not Found for url: https://www.eversports.de/s/zero-gravity-pole-\n",
      "Converting to DataFrame...\n",
      "Validating URLs...\n",
      "Processing completed.\n",
      "Starting URL reconstruction...\n"
     ]
    },
    {
     "name": "stderr",
     "output_type": "stream",
     "text": [
      "2024-02-01 21:53:25,298 - INFO - Processing URL 1/2: https://www.eversports.de/s/pole-dance-balance\n"
     ]
    },
    {
     "name": "stdout",
     "output_type": "stream",
     "text": [
      "Converting to DataFrame...\n",
      "Validating URLs...\n"
     ]
    },
    {
     "name": "stderr",
     "output_type": "stream",
     "text": [
      "2024-02-01 21:53:26,664 - INFO - URL https://www.eversports.de/s/pole-dance-balance is valid.\n",
      "2024-02-01 21:53:26,666 - INFO - Processing URL 2/2: https://www.eversports.de/sp/pole-dance-balance\n",
      "2024-02-01 21:53:27,998 - INFO - URL https://www.eversports.de/sp/pole-dance-balance is valid.\n"
     ]
    },
    {
     "name": "stdout",
     "output_type": "stream",
     "text": [
      "Scraping Pole Studio Data from https://www.eversports.de/s/pole-dance-balance...\n"
     ]
    },
    {
     "name": "stderr",
     "output_type": "stream",
     "text": [
      "Processing URLs:  38%|███▊      | 157/412 [14:37<17:43,  4.17s/it]"
     ]
    },
    {
     "name": "stdout",
     "output_type": "stream",
     "text": [
      "Processing completed.\n",
      "Pole Studio Data: 1 entries\n",
      "Starting URL reconstruction...\n"
     ]
    },
    {
     "name": "stderr",
     "output_type": "stream",
     "text": [
      "2024-02-01 21:53:30,224 - INFO - Processing URL 1/4: https://www.eversports.de/s/polearize\n"
     ]
    },
    {
     "name": "stdout",
     "output_type": "stream",
     "text": [
      "Converting to DataFrame...\n",
      "Validating URLs...\n"
     ]
    },
    {
     "name": "stderr",
     "output_type": "stream",
     "text": [
      "2024-02-01 21:53:32,155 - INFO - URL https://www.eversports.de/s/polearize is valid.\n",
      "2024-02-01 21:53:32,156 - INFO - Processing URL 2/4: https://www.eversports.de/sw/polearize\n",
      "2024-02-01 21:53:33,504 - INFO - URL https://www.eversports.de/sw/polearize is valid.\n",
      "2024-02-01 21:53:33,505 - INFO - Processing URL 3/4: https://www.eversports.de/sp/polearize\n",
      "2024-02-01 21:53:34,670 - INFO - URL https://www.eversports.de/sp/polearize is valid.\n",
      "2024-02-01 21:53:34,671 - INFO - Processing URL 4/4: https://www.eversports.de/s/polearize/team\n",
      "2024-02-01 21:53:36,495 - INFO - URL https://www.eversports.de/s/polearize/team is valid.\n"
     ]
    },
    {
     "name": "stdout",
     "output_type": "stream",
     "text": [
      "Scraping Pole Studio Data from https://www.eversports.de/s/polearize...\n",
      "Scraping Workshops Data from https://www.eversports.de/sw/polearize...\n",
      "Scraping Workshop Details from https://www.eversports.de/e/workshop/5N9aoto...\n",
      "Scraping Workshop Details from https://www.eversports.de/e/workshop/7QwFsx3...\n",
      "Scraping Workshop Details from https://www.eversports.de/e/workshop/516yIHG...\n",
      "Scraping Workshop Details from https://www.eversports.de/e/workshop/4gGolhi...\n"
     ]
    },
    {
     "name": "stderr",
     "output_type": "stream",
     "text": [
      "Processing URLs:  38%|███▊      | 158/412 [14:52<32:09,  7.59s/it]"
     ]
    },
    {
     "name": "stdout",
     "output_type": "stream",
     "text": [
      "Processing completed.\n",
      "Pole Studio Data: 1 entries\n",
      "Workshops Data: 4 entries\n",
      "Workshop Details: 4 entries\n",
      "Starting URL reconstruction...\n"
     ]
    },
    {
     "name": "stderr",
     "output_type": "stream",
     "text": [
      "2024-02-01 21:53:45,755 - INFO - Processing URL 1/4: https://www.eversports.de/s/poda-studio\n"
     ]
    },
    {
     "name": "stdout",
     "output_type": "stream",
     "text": [
      "Converting to DataFrame...\n",
      "Validating URLs...\n"
     ]
    },
    {
     "name": "stderr",
     "output_type": "stream",
     "text": [
      "2024-02-01 21:53:47,044 - INFO - URL https://www.eversports.de/s/poda-studio is valid.\n",
      "2024-02-01 21:53:47,046 - INFO - Processing URL 2/4: https://www.eversports.de/sw/poda-studio\n",
      "2024-02-01 21:53:48,239 - INFO - URL https://www.eversports.de/sw/poda-studio is valid.\n",
      "2024-02-01 21:53:48,240 - INFO - Processing URL 3/4: https://www.eversports.de/sp/poda-studio\n",
      "2024-02-01 21:53:49,382 - INFO - URL https://www.eversports.de/sp/poda-studio is valid.\n",
      "2024-02-01 21:53:49,383 - INFO - Processing URL 4/4: https://www.eversports.de/s/poda-studio/team\n",
      "2024-02-01 21:53:50,592 - INFO - URL https://www.eversports.de/s/poda-studio/team is valid.\n"
     ]
    },
    {
     "name": "stdout",
     "output_type": "stream",
     "text": [
      "Scraping Pole Studio Data from https://www.eversports.de/s/poda-studio...\n",
      "Scraping Workshops Data from https://www.eversports.de/sw/poda-studio...\n",
      "Scraping Workshop Details from https://www.eversports.de/e/workshop/LAHNDF-...\n"
     ]
    }
   ],
   "source": [
    "import pandas as pd\n",
    "from PyCaller import process_urls\n",
    "from tqdm import tqdm\n",
    "\n",
    "def process_and_print_results(url):\n",
    "    data = process_urls([url])\n",
    "\n",
    "    if data:\n",
    "        for key, df in data.items():\n",
    "            if df is not None and not df.empty:\n",
    "                print(f\"{key.replace('_', ' ').title()}: {len(df)} entries\")\n",
    "\n",
    "def main():\n",
    "    # Load initial URLs\n",
    "    all_found_urls_s = pd.read_csv(\"all_found_urls_23.12.23_cleaned.csv\")\n",
    "    initial_urls = list(set(all_found_urls_s[\"0\"]))\n",
    "\n",
    "    # Initialize DataFrames\n",
    "    all_pole_studio_data = pd.DataFrame()\n",
    "    all_workshops_data = pd.DataFrame()\n",
    "    all_workshop_details_data = pd.DataFrame()\n",
    "\n",
    "    # Process each URL\n",
    "    total_urls = len(initial_urls)\n",
    "    with tqdm(total=total_urls, desc=\"Processing URLs\") as pbar:\n",
    "        for i, url in enumerate(initial_urls, start=1):\n",
    "            process_and_print_results(url)\n",
    "            pbar.update(1)\n",
    "\n",
    "if __name__ == \"__main__\":\n",
    "    main()\n"
   ]
  },
  {
   "cell_type": "code",
   "execution_count": null,
   "metadata": {},
   "outputs": [],
   "source": []
  }
 ],
 "metadata": {
  "kernelspec": {
   "display_name": "Python 3",
   "language": "python",
   "name": "python3"
  },
  "language_info": {
   "codemirror_mode": {
    "name": "ipython",
    "version": 3
   },
   "file_extension": ".py",
   "mimetype": "text/x-python",
   "name": "python",
   "nbconvert_exporter": "python",
   "pygments_lexer": "ipython3",
   "version": "3.12.1"
  }
 },
 "nbformat": 4,
 "nbformat_minor": 2
}
