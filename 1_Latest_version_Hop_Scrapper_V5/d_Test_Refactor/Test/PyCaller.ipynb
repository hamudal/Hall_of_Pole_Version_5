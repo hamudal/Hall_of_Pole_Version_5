{
 "cells": [
  {
   "cell_type": "code",
   "execution_count": 1,
   "metadata": {},
   "outputs": [
    {
     "ename": "ModuleNotFoundError",
     "evalue": "No module named 'a_URLS_Reconstruction'",
     "output_type": "error",
     "traceback": [
      "\u001b[1;31m---------------------------------------------------------------------------\u001b[0m",
      "\u001b[1;31mModuleNotFoundError\u001b[0m                       Traceback (most recent call last)",
      "Cell \u001b[1;32mIn[1], line 1\u001b[0m\n\u001b[1;32m----> 1\u001b[0m \u001b[38;5;28;01mfrom\u001b[39;00m \u001b[38;5;21;01ma_URLS_Reconstruction\u001b[39;00m \u001b[38;5;28;01mimport\u001b[39;00m reconstruct_urls_and_extract_buttons\n\u001b[0;32m      2\u001b[0m \u001b[38;5;28;01mfrom\u001b[39;00m \u001b[38;5;21;01mb_URLS_Validation\u001b[39;00m \u001b[38;5;28;01mimport\u001b[39;00m validate_urls\n\u001b[0;32m      3\u001b[0m \u001b[38;5;28;01mfrom\u001b[39;00m \u001b[38;5;21;01mc_PoleStudio_Overview_S\u001b[39;00m \u001b[38;5;28;01mimport\u001b[39;00m scrape_pole_studio\n",
      "\u001b[1;31mModuleNotFoundError\u001b[0m: No module named 'a_URLS_Reconstruction'"
     ]
    }
   ],
   "source": [
    "from a_URLS_Reconstruction import reconstruct_urls_and_extract_buttons\n",
    "from b_URLS_Validation import validate_urls\n",
    "from c_PoleStudio_Overview_S import scrape_pole_studio\n",
    "from d_Workshop_List_SW import scrape_workshops\n",
    "from e_Workshop_Overview_E import scrape_workshop_details\n",
    "from g_Klassen_Overview_E_SCL import scrape_class_details\n",
    "import pandas as pd\n",
    "\n",
    "def process_urls(urls):\n",
    "    \"\"\"\n",
    "    Processes a list of URLs through various scraping functions.\n",
    "\n",
    "    Args:\n",
    "        urls (list): A list of URLs to be processed.\n",
    "\n",
    "    Returns:\n",
    "        dict: A dictionary containing DataFrames for different categories.\n",
    "    \"\"\"\n",
    "    try:\n",
    "        print(\"Starting URL reconstruction...\")\n",
    "        reconstructed_urls_list = [reconstruct_urls_and_extract_buttons(url)[1] for url in urls]\n",
    "        reconstructed_urls = {k: v for d in reconstructed_urls_list for k, v in d.items()}\n",
    "\n",
    "        print(\"Converting to DataFrame...\")\n",
    "        reconstructed_urls_df = pd.DataFrame(list(reconstructed_urls.items()), columns=['Category', 'URL'])\n",
    "        \n",
    "        print(\"Validating URLs...\")\n",
    "        validated_urls_df = validate_urls(reconstructed_urls_df[\"URL\"].to_list())\n",
    "        validated_urls = validated_urls_df[\"Valid_URL\"].tolist()\n",
    "\n",
    "        # Processing URLs\n",
    "        results = {'pole_studio_data': pd.DataFrame(), 'workshops_data': pd.DataFrame(), \n",
    "                   'workshop_details': pd.DataFrame(), 'classes_details': pd.DataFrame()}\n",
    "\n",
    "        for url in validated_urls:\n",
    "            if \"/s/\" in url and \"/team\" not in url and \"/videos\" not in url:\n",
    "                print(f\"Scraping Pole Studio Data from {url}...\")\n",
    "                pole_studio_data = scrape_pole_studio(url)\n",
    "                results['pole_studio_data'] = pd.concat([results['pole_studio_data'], pole_studio_data], ignore_index=True)\n",
    "            elif \"/sw/\" in url:\n",
    "                print(f\"Scraping Workshops Data from {url}...\")\n",
    "                workshop_data = scrape_workshops(url)\n",
    "                results['workshops_data'] = pd.concat([results['workshops_data'], workshop_data], ignore_index=True)\n",
    "                for workshop_url in workshop_data['URL_E']:\n",
    "                    print(f\"Scraping Workshop Details from {workshop_url}...\")\n",
    "                    workshop_detail = scrape_workshop_details(workshop_url)\n",
    "                    if not workshop_detail.empty:\n",
    "                        results['workshop_details'] = pd.concat([results['workshop_details'], workshop_detail], ignore_index=True)\n",
    "            elif \"/scl/\" in url:\n",
    "                print(f\"Scraping Classes Details from {url}...\")\n",
    "                classes_details = scrape_class_details(url)\n",
    "                results['classes_details'] = pd.concat([results['classes_details'], classes_details], ignore_index=True)\n",
    "\n",
    "        print(\"Processing completed.\")\n",
    "        return results\n",
    "    except Exception as e:\n",
    "        print(f\"An error occurred during processing: {e}\")\n",
    "        return None\n",
    "\n",
    "# Test code (if needed)\n",
    "# test_urls = [\"https://www.eversports.de/s/poda-studio\"]  # Example URL\n",
    "# test_results = process_urls(test_urls)\n",
    "# for category, df in test_results.items():\n",
    "#     print(f\"Category: {category}\")\n",
    "#     print(df)\n",
    "#     print(\"\\n\")\n"
   ]
  },
  {
   "cell_type": "code",
   "execution_count": null,
   "metadata": {},
   "outputs": [],
   "source": []
  }
 ],
 "metadata": {
  "kernelspec": {
   "display_name": "Python 3",
   "language": "python",
   "name": "python3"
  },
  "language_info": {
   "codemirror_mode": {
    "name": "ipython",
    "version": 3
   },
   "file_extension": ".py",
   "mimetype": "text/x-python",
   "name": "python",
   "nbconvert_exporter": "python",
   "pygments_lexer": "ipython3",
   "version": "3.12.1"
  }
 },
 "nbformat": 4,
 "nbformat_minor": 2
}
