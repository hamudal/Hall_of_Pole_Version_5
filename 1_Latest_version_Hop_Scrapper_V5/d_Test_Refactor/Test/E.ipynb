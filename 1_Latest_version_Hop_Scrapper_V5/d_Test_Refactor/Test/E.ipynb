{
 "cells": [
  {
   "cell_type": "code",
   "execution_count": 1,
   "metadata": {},
   "outputs": [
    {
     "name": "stdout",
     "output_type": "stream",
     "text": [
      "                             Workshop Name  \\\n",
      "0  Strip that down!  Workshop *girls only*   \n",
      "\n",
      "                                         Description  Studio Name  \\\n",
      "0  Strip that down! Lerne in einer smoothen Chore...  poda Studio   \n",
      "\n",
      "                                    Location   Level  \\\n",
      "0  10-12 Martinstraße Innenhof, 52062 Aachen  Tanzen   \n",
      "\n",
      "                        Date                                         URL_E  \\\n",
      "0  Sonntag, 29. Oktober 2023  https://www.eversports.de/e/workshop/mT-MZa2   \n",
      "\n",
      "            Time  \n",
      "0  20:15 - 21:45  \n"
     ]
    }
   ],
   "source": [
    "import requests\n",
    "from bs4 import BeautifulSoup\n",
    "import pandas as pd\n",
    "\n",
    "def scrape_workshop_details(url):\n",
    "    \"\"\"\n",
    "    Scrapes detailed information of a workshop from a given URL.\n",
    "\n",
    "    Args:\n",
    "        url (str): The URL of the workshop detail page.\n",
    "\n",
    "    Returns:\n",
    "        DataFrame: A DataFrame with detailed information about the workshop.\n",
    "    \"\"\"\n",
    "    try:\n",
    "        response = requests.get(url)\n",
    "        response.raise_for_status()\n",
    "    except requests.RequestException as e:\n",
    "        print(f\"Error retrieving the webpage: {e}\")\n",
    "        return pd.DataFrame()\n",
    "\n",
    "    soup = BeautifulSoup(response.content, 'html.parser')\n",
    "\n",
    "    def get_text_or_none(element):\n",
    "        return element.text.strip() if element else None\n",
    "\n",
    "    # Extraction of various data points\n",
    "    workshop_name = get_text_or_none(soup.find('h1', class_='MuiTypography-root MuiTypography-h1 css-gdjtsh'))\n",
    "    description_div = soup.find('div', class_='css-3awvdx')\n",
    "    description = ' '.join([p.text for p in description_div.find_all('p')]) if description_div else None\n",
    "    studio_name = get_text_or_none(soup.find('p', class_='MuiTypography-root MuiTypography-body1 css-z923os'))\n",
    "    location = get_text_or_none(soup.find_all('p', class_='MuiTypography-root MuiTypography-body1 css-bjhn26')[2])\n",
    "    level = get_text_or_none(soup.find('p', class_='MuiTypography-root MuiTypography-body1 css-ilcg2f'))\n",
    "    date = get_text_or_none(soup.find('p', class_='MuiTypography-root MuiTypography-body1 css-16ai5j1'))\n",
    "    time = get_text_or_none(soup.find('p', class_='MuiTypography-root MuiTypography-body1 css-bjhn26'))\n",
    "\n",
    "    # Creating the DataFrame\n",
    "    workshop_df = pd.DataFrame({\n",
    "        'Workshop Name': [workshop_name],\n",
    "        'Description': [description],\n",
    "        'Studio Name': [studio_name],\n",
    "        'Location': [location],\n",
    "        'Level': [level],\n",
    "        'Date': [date],\n",
    "        'URL_E': [url],\n",
    "        'Time': [time]\n",
    "    })\n",
    "\n",
    "    return workshop_df\n",
    "\n",
    "# Test the function\n",
    "url = \"https://www.eversports.de/e/workshop/mT-MZa2\"\n",
    "workshop_df = scrape_workshop_details(url)\n",
    "print(workshop_df)\n"
   ]
  },
  {
   "cell_type": "code",
   "execution_count": 2,
   "metadata": {},
   "outputs": [
    {
     "data": {
      "text/html": [
       "<div>\n",
       "<style scoped>\n",
       "    .dataframe tbody tr th:only-of-type {\n",
       "        vertical-align: middle;\n",
       "    }\n",
       "\n",
       "    .dataframe tbody tr th {\n",
       "        vertical-align: top;\n",
       "    }\n",
       "\n",
       "    .dataframe thead th {\n",
       "        text-align: right;\n",
       "    }\n",
       "</style>\n",
       "<table border=\"1\" class=\"dataframe\">\n",
       "  <thead>\n",
       "    <tr style=\"text-align: right;\">\n",
       "      <th></th>\n",
       "      <th>Workshop Name</th>\n",
       "      <th>Description</th>\n",
       "      <th>Studio Name</th>\n",
       "      <th>Location</th>\n",
       "      <th>Level</th>\n",
       "      <th>Date</th>\n",
       "      <th>URL_E</th>\n",
       "      <th>Time</th>\n",
       "    </tr>\n",
       "  </thead>\n",
       "  <tbody>\n",
       "    <tr>\n",
       "      <th>0</th>\n",
       "      <td>Strip that down!  Workshop *girls only*</td>\n",
       "      <td>Strip that down! Lerne in einer smoothen Chore...</td>\n",
       "      <td>poda Studio</td>\n",
       "      <td>10-12 Martinstraße Innenhof, 52062 Aachen</td>\n",
       "      <td>Tanzen</td>\n",
       "      <td>Sonntag, 29. Oktober 2023</td>\n",
       "      <td>https://www.eversports.de/e/workshop/mT-MZa2</td>\n",
       "      <td>20:15 - 21:45</td>\n",
       "    </tr>\n",
       "  </tbody>\n",
       "</table>\n",
       "</div>"
      ],
      "text/plain": [
       "                             Workshop Name  \\\n",
       "0  Strip that down!  Workshop *girls only*   \n",
       "\n",
       "                                         Description  Studio Name  \\\n",
       "0  Strip that down! Lerne in einer smoothen Chore...  poda Studio   \n",
       "\n",
       "                                    Location   Level  \\\n",
       "0  10-12 Martinstraße Innenhof, 52062 Aachen  Tanzen   \n",
       "\n",
       "                        Date                                         URL_E  \\\n",
       "0  Sonntag, 29. Oktober 2023  https://www.eversports.de/e/workshop/mT-MZa2   \n",
       "\n",
       "            Time  \n",
       "0  20:15 - 21:45  "
      ]
     },
     "execution_count": 2,
     "metadata": {},
     "output_type": "execute_result"
    }
   ],
   "source": [
    "workshop_df"
   ]
  }
 ],
 "metadata": {
  "kernelspec": {
   "display_name": "Python 3",
   "language": "python",
   "name": "python3"
  },
  "language_info": {
   "codemirror_mode": {
    "name": "ipython",
    "version": 3
   },
   "file_extension": ".py",
   "mimetype": "text/x-python",
   "name": "python",
   "nbconvert_exporter": "python",
   "pygments_lexer": "ipython3",
   "version": "3.12.1"
  }
 },
 "nbformat": 4,
 "nbformat_minor": 2
}
