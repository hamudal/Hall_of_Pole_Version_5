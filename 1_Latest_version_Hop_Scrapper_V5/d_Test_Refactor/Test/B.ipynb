{
 "cells": [
  {
   "cell_type": "code",
   "execution_count": 1,
   "metadata": {},
   "outputs": [
    {
     "name": "stderr",
     "output_type": "stream",
     "text": [
      "2024-02-01 20:37:50,105 - INFO - Processing URL 1/1: https://www.eversports.de/s/poda-studio\n",
      "2024-02-01 20:37:51,774 - INFO - URL https://www.eversports.de/s/poda-studio is valid.\n"
     ]
    },
    {
     "name": "stdout",
     "output_type": "stream",
     "text": [
      "                                 Valid_URL\n",
      "0  https://www.eversports.de/s/poda-studio\n"
     ]
    }
   ],
   "source": [
    "import requests\n",
    "import pandas as pd\n",
    "import logging\n",
    "\n",
    "# Set up logging\n",
    "logging.basicConfig(level=logging.INFO, format='%(asctime)s - %(levelname)s - %(message)s')\n",
    "\n",
    "def is_url_valid(url):\n",
    "    \"\"\"\n",
    "    Checks if a URL is valid.\n",
    "\n",
    "    Args:\n",
    "        url (str): The URL to be checked.\n",
    "\n",
    "    Returns:\n",
    "        bool: True if the URL is valid, False otherwise.\n",
    "    \"\"\"\n",
    "    try:\n",
    "        response = requests.get(url)\n",
    "        return response.status_code == 200\n",
    "    except requests.RequestException as e:\n",
    "        logging.error(f\"Error while checking URL: {url}\\nError: {e}\")\n",
    "        return False\n",
    "\n",
    "def validate_urls(url_list):\n",
    "    \"\"\"\n",
    "    Validates a list of URLs.\n",
    "\n",
    "    Args:\n",
    "        url_list (list): A list of URLs to be validated.\n",
    "\n",
    "    Returns:\n",
    "        DataFrame: A Pandas DataFrame with valid URLs.\n",
    "    \"\"\"\n",
    "    valid_urls = []\n",
    "\n",
    "    for index, url in enumerate(url_list):\n",
    "        logging.info(f\"Processing URL {index + 1}/{len(url_list)}: {url}\")\n",
    "        if is_url_valid(url):\n",
    "            valid_urls.append(url)\n",
    "            logging.info(f\"URL {url} is valid.\")\n",
    "        else:\n",
    "            logging.info(f\"URL {url} is not valid.\")\n",
    "\n",
    "    valid_urls_df = pd.DataFrame(valid_urls, columns=[\"Valid_URL\"]).drop_duplicates(subset=['Valid_URL'])\n",
    "    return valid_urls_df\n",
    "\n",
    "# Example call of the function\n",
    "url_list = [\"https://www.eversports.de/s/poda-studio\"]\n",
    "valid_urls_df = validate_urls(url_list)\n",
    "print(valid_urls_df)\n"
   ]
  }
 ],
 "metadata": {
  "kernelspec": {
   "display_name": "Python 3",
   "language": "python",
   "name": "python3"
  },
  "language_info": {
   "codemirror_mode": {
    "name": "ipython",
    "version": 3
   },
   "file_extension": ".py",
   "mimetype": "text/x-python",
   "name": "python",
   "nbconvert_exporter": "python",
   "pygments_lexer": "ipython3",
   "version": "3.12.1"
  }
 },
 "nbformat": 4,
 "nbformat_minor": 2
}
