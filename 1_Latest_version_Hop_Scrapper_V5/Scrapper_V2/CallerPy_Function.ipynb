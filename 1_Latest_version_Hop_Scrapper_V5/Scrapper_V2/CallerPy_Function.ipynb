{
 "cells": [
  {
   "cell_type": "code",
   "execution_count": 2,
   "metadata": {},
   "outputs": [],
   "source": [
    "from a_URL_Reconstructor import reconstruct_urls_and_extract_buttons\n",
    "from aa_URL_Validation import validate_urls\n",
    "from aaa_PoleStudio_URL_S_Function import scrape_pole_studio\n",
    "from b_Workshopslist_URL_SW_Function import scrape_workshops\n",
    "from c_Workshop_URL_E_Function import scrape_workshop_details\n",
    "from d_Klassenlist_SCL_Function import scrape_classes\n",
    "import pandas as pd"
   ]
  },
  {
   "cell_type": "code",
   "execution_count": 3,
   "metadata": {},
   "outputs": [],
   "source": [
    "def process_urls(urls):\n",
    "    all_results = {}  # Dictionary zum Speichern der Ergebnisse für jede URL\n",
    "\n",
    "    for url in urls:\n",
    "        print(f\"Verarbeite URL: {url}\")\n",
    "\n",
    "        # URL-Rekonstruktion\n",
    "        reconstructed_urls = reconstruct_urls_and_extract_buttons(url)[1]\n",
    "        \n",
    "        # Konvertierung in ein DataFrame\n",
    "        reconstructed_urls_df = pd.DataFrame(list(reconstructed_urls.items()), columns=['Kategorie', 'URL'])\n",
    "        \n",
    "        # URL-Validierung\n",
    "        validated_urls_df = validate_urls(reconstructed_urls_df[\"URL\"].to_list())\n",
    "        validated_urls = validated_urls_df[\"Valid_URL\"].tolist()\n",
    "\n",
    "        # Verarbeitung der URLs\n",
    "        results = {}  # Dictionary zum Speichern der Ergebnisse für die aktuelle URL\n",
    "        for v_url in validated_urls:\n",
    "            if \"/s/\" in v_url:\n",
    "                results['pole_studio_data'] = scrape_pole_studio(v_url)\n",
    "            elif \"/sw/\" in v_url:\n",
    "                results['workshops_data'] = scrape_workshops(v_url)\n",
    "            elif \"/e/workshop/\" in v_url:\n",
    "                results['workshop_details'] = scrape_workshop_details(v_url)\n",
    "            elif \"/scl/\" in v_url:\n",
    "                classes_data = scrape_classes([v_url])\n",
    "                results['classes_data'] = classes_data\n",
    "                if 'URL_SCL_E' in classes_data.columns:\n",
    "                    classes_details_list = []\n",
    "                    for scl_e_url in classes_data['URL_SCL_E']:\n",
    "                        classes_detail = scrape_workshop_details(scl_e_url)\n",
    "                        classes_details_list.append(classes_detail)\n",
    "                    results['classes_details'] = pd.concat(classes_details_list, ignore_index=True)\n",
    "        \n",
    "        all_results[url] = results\n",
    "    \n",
    "    return all_results\n"
   ]
  },
  {
   "cell_type": "code",
   "execution_count": 6,
   "metadata": {},
   "outputs": [
    {
     "ename": "NameError",
     "evalue": "name 'all_results' is not defined",
     "output_type": "error",
     "traceback": [
      "\u001b[1;31m---------------------------------------------------------------------------\u001b[0m",
      "\u001b[1;31mNameError\u001b[0m                                 Traceback (most recent call last)",
      "Cell \u001b[1;32mIn[6], line 1\u001b[0m\n\u001b[1;32m----> 1\u001b[0m \u001b[43mall_results\u001b[49m\n",
      "\u001b[1;31mNameError\u001b[0m: name 'all_results' is not defined"
     ]
    }
   ],
   "source": []
  },
  {
   "cell_type": "code",
   "execution_count": 4,
   "metadata": {},
   "outputs": [],
   "source": [
    "# def process_urls(urls):\n",
    "#     \"\"\"\n",
    "#     Prozessiert eine Liste von URLs durch verschiedene Scraping-Funktionen.\n",
    "#     \"\"\"\n",
    "#     print(\"Starte URL-Rekonstruktion...\")\n",
    "#     reconstructed_urls_list = [reconstruct_urls_and_extract_buttons(url)[1] for url in urls]\n",
    "#     reconstructed_urls = {k: v for d in reconstructed_urls_list for k, v in d.items()}\n",
    "    \n",
    "#     print(\"Konvertiere in DataFrame...\")\n",
    "#     reconstructed_urls_df = pd.DataFrame(list(reconstructed_urls.items()), columns=['Kategorie', 'URL'])\n",
    "    \n",
    "#     print(\"Validiere URLs...\")\n",
    "#     validated_urls_df = validate_urls(reconstructed_urls_df[\"URL\"].to_list())\n",
    "#     validated_urls = validated_urls_df[\"Valid_URL\"].tolist()\n",
    "\n",
    "#     # Aufteilung und Verarbeitung der URLs\n",
    "#     results = {}\n",
    "#     for url in validated_urls:\n",
    "#         if \"/s/\" in url:\n",
    "#             print(f\"Scrape Pole Studio Daten von {url}...\")\n",
    "#             results['pole_studio_data'] = scrape_pole_studio(url)\n",
    "#         elif \"/sw/\" in url:\n",
    "#             print(f\"Scrape Workshops Daten von {url}...\")\n",
    "#             results['workshops_data'] = scrape_workshops(url)\n",
    "#         elif \"/e/workshop/\" in url:\n",
    "#             print(f\"Scrape Workshop Details von {url}...\")\n",
    "#             results['workshop_details'] = scrape_workshop_details(url)\n",
    "#         elif \"/scl/\" in url:\n",
    "#             print(f\"Scrape Klassen Daten von {url}...\")\n",
    "#             classes_data = scrape_classes([url])\n",
    "#             results['classes_data'] = classes_data\n",
    "#             if 'URL_SCL_E' in classes_data.columns:\n",
    "#                 url_scl_e = classes_data['URL_SCL_E'].tolist()[0]\n",
    "#                 print(f\"Scrape Klassen Details von {url_scl_e}...\")\n",
    "#                 classes_details = scrape_workshop_details(url_scl_e)\n",
    "#                 results['classes_details'] = classes_details\n",
    "    \n",
    "#     print(\"Verarbeitung abgeschlossen.\")\n",
    "#     return results\n",
    "\n",
    "# # Beispielaufruf\n",
    "# initial_urls = [\"https://www.eversports.de/s/poda-studio\"]\n",
    "# data = process_urls(initial_urls)\n"
   ]
  },
  {
   "cell_type": "code",
   "execution_count": 5,
   "metadata": {},
   "outputs": [
    {
     "ename": "NameError",
     "evalue": "name 'data' is not defined",
     "output_type": "error",
     "traceback": [
      "\u001b[1;31m---------------------------------------------------------------------------\u001b[0m",
      "\u001b[1;31mNameError\u001b[0m                                 Traceback (most recent call last)",
      "Cell \u001b[1;32mIn[5], line 1\u001b[0m\n\u001b[1;32m----> 1\u001b[0m \u001b[43mdata\u001b[49m\n",
      "\u001b[1;31mNameError\u001b[0m: name 'data' is not defined"
     ]
    }
   ],
   "source": [
    "data"
   ]
  }
 ],
 "metadata": {
  "kernelspec": {
   "display_name": "Python 3",
   "language": "python",
   "name": "python3"
  },
  "language_info": {
   "codemirror_mode": {
    "name": "ipython",
    "version": 3
   },
   "file_extension": ".py",
   "mimetype": "text/x-python",
   "name": "python",
   "nbconvert_exporter": "python",
   "pygments_lexer": "ipython3",
   "version": "3.12.1"
  }
 },
 "nbformat": 4,
 "nbformat_minor": 2
}
