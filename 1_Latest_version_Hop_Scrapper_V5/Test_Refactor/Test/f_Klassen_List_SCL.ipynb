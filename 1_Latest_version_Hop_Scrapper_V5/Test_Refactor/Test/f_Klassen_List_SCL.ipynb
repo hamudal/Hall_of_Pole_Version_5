{
 "cells": [
  {
   "cell_type": "code",
   "execution_count": 1,
   "metadata": {},
   "outputs": [
    {
     "name": "stdout",
     "output_type": "stream",
     "text": [
      "                                   URL_SCL_E   Time Duration  \\\n",
      "0  https://www.eversports.de/e/class/Otaqqee  18:45   60 Min   \n",
      "1  https://www.eversports.de/e/class/pci9U3w  20:00   60 Min   \n",
      "2  https://www.eversports.de/e/class/IMt1Fo6  18:45   60 Min   \n",
      "3  https://www.eversports.de/e/class/Otaqqee  18:45   60 Min   \n",
      "4  https://www.eversports.de/e/class/pci9U3w  20:00   60 Min   \n",
      "5  https://www.eversports.de/e/class/IMt1Fo6  18:45   60 Min   \n",
      "\n",
      "                                                Name         Available Slots  \\\n",
      "0  Do they know it's Fitnesstime - Pole Fitness *...  6/24 Plätzen verfügbar   \n",
      "1  Ho ho hold your split - stretch for splits Xma...  8/24 Plätzen verfügbar   \n",
      "2                Burlesque Chairdance *Xmas Special*  4/24 Plätzen verfügbar   \n",
      "3  Do they know it's Fitnesstime - Pole Fitness *...  6/24 Plätzen verfügbar   \n",
      "4  Ho ho hold your split - stretch for splits Xma...  8/24 Plätzen verfügbar   \n",
      "5                Burlesque Chairdance *Xmas Special*  4/24 Plätzen verfügbar   \n",
      "\n",
      "  Trainer         Room  \n",
      "0    Anna  Poda Studio  \n",
      "1    Anna  Poda Studio  \n",
      "2   Joana  Poda Studio  \n",
      "3    Anna  Poda Studio  \n",
      "4    Anna  Poda Studio  \n",
      "5   Joana  Poda Studio  \n"
     ]
    }
   ],
   "source": [
    "import requests\n",
    "from bs4 import BeautifulSoup\n",
    "import pandas as pd\n",
    "from urllib.parse import urljoin\n",
    "\n",
    "def scrape_classes(urls):\n",
    "    \"\"\"\n",
    "    Scraped Informationen zu Klassen von einer Liste von URLs.\n",
    "\n",
    "    Args:\n",
    "        urls (list): Eine Liste von URLs, von denen Klasseninformationen gescraped werden sollen.\n",
    "\n",
    "    Returns:\n",
    "        DataFrame: Ein DataFrame mit Informationen zu den Klassen.\n",
    "    \"\"\"\n",
    "    base_url = \"https://www.eversports.de/e/class/\"\n",
    "    sessions = []\n",
    "\n",
    "    session = requests.Session()  # Verwendung einer Session für effizientere Requests\n",
    "\n",
    "    for url in urls:\n",
    "        response = session.get(url)\n",
    "        soup = BeautifulSoup(response.content, 'html.parser')\n",
    "\n",
    "        workshop_elements = soup.find_all('li', class_='calendar__slot-bookable')\n",
    "        for workshop_element in workshop_elements:\n",
    "            session_short_id = workshop_element.get('data-session-short-id')\n",
    "            session_time = workshop_element.find('div', class_='session-time').text.strip()\n",
    "            session_name = workshop_element.find('div', class_='session-name').text.strip()\n",
    "            available_slots = workshop_element.find('div', class_='ellipsis').text.strip()\n",
    "            \n",
    "            trainer_elements = workshop_element.find_all('div', class_='ellipsis')\n",
    "            trainer = trainer_elements[1].text.strip() if len(trainer_elements) > 1 else \"Unbekannt\"\n",
    "            room = trainer_elements[2].text.strip() if len(trainer_elements) > 2 else \"Unbekannt\"\n",
    "\n",
    "            workshop_info = {\n",
    "                'URL_SCL_E': urljoin(base_url, session_short_id),\n",
    "                'Time': session_time.split(\" ● \")[0],\n",
    "                'Duration': session_time.split(\" ● \")[1],\n",
    "                'Name': session_name,\n",
    "                'Available Slots': available_slots,\n",
    "                'Trainer': trainer,\n",
    "                'Room': room\n",
    "            }\n",
    "            sessions.append(workshop_info)\n",
    "\n",
    "    klassenlist_df = pd.DataFrame(sessions)\n",
    "    return klassenlist_df\n",
    "\n",
    "# Beispielaufruf der Funktion\n",
    "urls = [\"https://www.eversports.de/scl/poda-studio\"]\n",
    "klassenlist_df = scrape_classes(urls)\n",
    "print(klassenlist_df)\n"
   ]
  }
 ],
 "metadata": {
  "kernelspec": {
   "display_name": "Python 3",
   "language": "python",
   "name": "python3"
  },
  "language_info": {
   "codemirror_mode": {
    "name": "ipython",
    "version": 3
   },
   "file_extension": ".py",
   "mimetype": "text/x-python",
   "name": "python",
   "nbconvert_exporter": "python",
   "pygments_lexer": "ipython3",
   "version": "3.12.1"
  }
 },
 "nbformat": 4,
 "nbformat_minor": 2
}
