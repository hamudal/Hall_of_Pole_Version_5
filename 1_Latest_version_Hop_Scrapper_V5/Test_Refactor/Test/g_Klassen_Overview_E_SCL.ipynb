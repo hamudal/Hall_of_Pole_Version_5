{
 "cells": [
  {
   "cell_type": "code",
   "execution_count": 1,
   "metadata": {},
   "outputs": [
    {
     "name": "stdout",
     "output_type": "stream",
     "text": [
      "Fehler beim Abrufen der Webseite\n",
      "None\n"
     ]
    }
   ],
   "source": [
    "import requests\n",
    "from bs4 import BeautifulSoup\n",
    "import pandas as pd\n",
    "from datetime import datetime\n",
    "\n",
    "def scrape_class_details(url):\n",
    "    \"\"\"\n",
    "    Scraped detaillierte Informationen einer Klasse von einer gegebenen URL.\n",
    "\n",
    "    Args:\n",
    "        url (str): Die URL der Klassen-Detailseite.\n",
    "\n",
    "    Returns:\n",
    "        DataFrame: Ein DataFrame mit detaillierten Informationen zur Klasse.\n",
    "    \"\"\"\n",
    "    response = requests.get(url)\n",
    "    if response.status_code != 200:\n",
    "        print(\"Fehler beim Abrufen der Webseite\")\n",
    "        return None\n",
    "\n",
    "    soup = BeautifulSoup(response.content, 'html.parser')\n",
    "\n",
    "    def get_text_or_none(element):\n",
    "        return element.text if element else None\n",
    "\n",
    "    # Extraktion der verschiedenen Datenpunkte\n",
    "    class_name = get_text_or_none(soup.find('h1', class_='MuiTypography-root MuiTypography-h1 css-1bvkaia'))\n",
    "    description_div = soup.find('div', class_='css-3awvdx')\n",
    "    description = ' '.join([p.text for p in description_div.find_all('p')]) if description_div else None\n",
    "    studio_name = get_text_or_none(soup.find('p', class_='MuiTypography-root MuiTypography-body1 css-z923os'))\n",
    "    location = get_text_or_none(soup.find_all('p', class_='MuiTypography-root MuiTypography-body1 css-bjhn26')[2])\n",
    "    level = get_text_or_none(soup.find('p', class_='MuiTypography-root MuiTypography-body1 css-ilcg2f'))\n",
    "    date = get_text_or_none(soup.find('p', class_='MuiTypography-root MuiTypography-body1 css-16ai5j1'))\n",
    "    time = get_text_or_none(soup.find('p', class_='MuiTypography-root MuiTypography-body1 css-bjhn26'))\n",
    "\n",
    "    # Weitere Extraktionen (Dauer, Trainer-Infos, Preis, etc.)\n",
    "    # ...\n",
    "\n",
    "    # Erstellen des DataFrame\n",
    "    class_df = pd.DataFrame({\n",
    "        'Klassenname': [class_name],\n",
    "        'Beschreibung': [description],\n",
    "        'Studio Name': [studio_name],\n",
    "        'Standort': [location],\n",
    "        'Kategorie': [level],\n",
    "        'Datum': [date],\n",
    "        'URL_E': [url],\n",
    "        'Zeit': [time]\n",
    "    })\n",
    "\n",
    "    return class_df\n",
    "\n",
    "# Beispielaufruf der Funktion\n",
    "url = \"https://www.eversports.de/e/class/mT-MZa2\"\n",
    "class_df = scrape_class_details(url)\n",
    "print(class_df)\n"
   ]
  }
 ],
 "metadata": {
  "kernelspec": {
   "display_name": "Python 3",
   "language": "python",
   "name": "python3"
  },
  "language_info": {
   "codemirror_mode": {
    "name": "ipython",
    "version": 3
   },
   "file_extension": ".py",
   "mimetype": "text/x-python",
   "name": "python",
   "nbconvert_exporter": "python",
   "pygments_lexer": "ipython3",
   "version": "3.12.1"
  }
 },
 "nbformat": 4,
 "nbformat_minor": 2
}
