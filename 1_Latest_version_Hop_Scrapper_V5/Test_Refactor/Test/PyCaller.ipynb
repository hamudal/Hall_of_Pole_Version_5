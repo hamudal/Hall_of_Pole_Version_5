{
 "cells": [
  {
   "cell_type": "code",
   "execution_count": 1,
   "metadata": {},
   "outputs": [
    {
     "ename": "ModuleNotFoundError",
     "evalue": "No module named 'a_URLS_Reconstruction'",
     "output_type": "error",
     "traceback": [
      "\u001b[1;31m---------------------------------------------------------------------------\u001b[0m",
      "\u001b[1;31mModuleNotFoundError\u001b[0m                       Traceback (most recent call last)",
      "Cell \u001b[1;32mIn[1], line 1\u001b[0m\n\u001b[1;32m----> 1\u001b[0m \u001b[38;5;28;01mfrom\u001b[39;00m \u001b[38;5;21;01ma_URLS_Reconstruction\u001b[39;00m \u001b[38;5;28;01mimport\u001b[39;00m reconstruct_urls_and_extract_buttons\n\u001b[0;32m      2\u001b[0m \u001b[38;5;28;01mfrom\u001b[39;00m \u001b[38;5;21;01mb_URLS_Validation\u001b[39;00m \u001b[38;5;28;01mimport\u001b[39;00m validate_urls\n\u001b[0;32m      3\u001b[0m \u001b[38;5;28;01mfrom\u001b[39;00m \u001b[38;5;21;01mc_PoleStudio_Overview_S\u001b[39;00m \u001b[38;5;28;01mimport\u001b[39;00m scrape_pole_studio\n",
      "\u001b[1;31mModuleNotFoundError\u001b[0m: No module named 'a_URLS_Reconstruction'"
     ]
    }
   ],
   "source": [
    "from a_URLS_Reconstruction import reconstruct_urls_and_extract_buttons\n",
    "from b_URLS_Validation import validate_urls\n",
    "from c_PoleStudio_Overview_S import scrape_pole_studio\n",
    "from d_Workshop_List_SW import scrape_workshops\n",
    "from e_Workshop_Overview_E import scrape_workshop_details\n",
    "from f_Klassen_List_SCL import scrape_classes\n",
    "from f_Klassen_E_Class import scrape_classes\n",
    "import pandas as pd\n",
    "\n",
    "def process_urls(urls):\n",
    "    \"\"\"\n",
    "    Prozessiert eine Liste von URLs durch verschiedene Scraping-Funktionen.\n",
    "    \"\"\"\n",
    "    print(\"Starte URL-Rekonstruktion...\")\n",
    "    reconstructed_urls_list = [reconstruct_urls_and_extract_buttons(url)[1] for url in urls]\n",
    "    reconstructed_urls = {k: v for d in reconstructed_urls_list for k, v in d.items()}\n",
    "\n",
    "    print(\"Konvertiere in DataFrame...\")\n",
    "    reconstructed_urls_df = pd.DataFrame(list(reconstructed_urls.items()), columns=['Kategorie', 'URL'])\n",
    "    \n",
    "    print(\"Validiere URLs...\")\n",
    "    validated_urls_df = validate_urls(reconstructed_urls_df[\"URL\"].to_list())\n",
    "    validated_urls = validated_urls_df[\"Valid_URL\"].tolist()\n",
    "\n",
    "    # Aufteilung und Verarbeitung der URLs\n",
    "    results = {}\n",
    "    for url in validated_urls:\n",
    "        if \"/s/\" in url:\n",
    "            print(f\"Scrape Pole Studio Daten von {url}...\")\n",
    "            results['pole_studio_data'] = scrape_pole_studio(url)\n",
    "        elif \"/sw/\" in url:\n",
    "            print(f\"Scrape Workshops Daten von {url}...\")\n",
    "            results['workshops_data'] = scrape_workshops(url)\n",
    "        elif \"/e/workshop/\" in url:\n",
    "            print(f\"Scrape Workshop Details von {url}...\")\n",
    "            results['workshop_details'] = scrape_workshop_details(url)\n",
    "        elif \"/scl/\" in url:\n",
    "            print(f\"Scrape Klassen Daten von {url}...\")\n",
    "            classes_data = scrape_classes([url])\n",
    "            results['classes_data'] = classes_data\n",
    "\n",
    "            # Prüfen, ob die Spalte 'URL_SCL_E' vorhanden ist\n",
    "            if 'URL_SCL_E' in classes_data.columns:\n",
    "                print(f\"Scrape Klassen Details von URLs in 'URL_SCL_E'...\")\n",
    "                classes_details_list = []\n",
    "                for url_scl_e in classes_data['URL_SCL_E'].tolist():\n",
    "                    class_detail = scrape_class_details(url_scl_e)\n",
    "                    if class_detail is not None:\n",
    "                        classes_details_list.append(class_detail)\n",
    "                if classes_details_list:\n",
    "                    results['classes_details'] = pd.concat(classes_details_list, ignore_index=True)\n",
    "    \n",
    "    print(\"Verarbeitung abgeschlossen.\")\n",
    "    return results\n"
   ]
  }
 ],
 "metadata": {
  "kernelspec": {
   "display_name": "Python 3",
   "language": "python",
   "name": "python3"
  },
  "language_info": {
   "codemirror_mode": {
    "name": "ipython",
    "version": 3
   },
   "file_extension": ".py",
   "mimetype": "text/x-python",
   "name": "python",
   "nbconvert_exporter": "python",
   "pygments_lexer": "ipython3",
   "version": "3.12.1"
  }
 },
 "nbformat": 4,
 "nbformat_minor": 2
}
