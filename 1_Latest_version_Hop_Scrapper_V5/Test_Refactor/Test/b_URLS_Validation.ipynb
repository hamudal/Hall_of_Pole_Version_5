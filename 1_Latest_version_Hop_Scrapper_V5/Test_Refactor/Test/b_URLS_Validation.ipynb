{
 "cells": [
  {
   "cell_type": "code",
   "execution_count": 1,
   "metadata": {},
   "outputs": [
    {
     "name": "stderr",
     "output_type": "stream",
     "text": [
      "2023-12-21 22:32:02,509 - INFO - Processing URL 1/1: https://www.eversports.de/s/poda-studio\n",
      "2023-12-21 22:32:04,180 - INFO - URL https://www.eversports.de/s/poda-studio is valid.\n"
     ]
    },
    {
     "name": "stdout",
     "output_type": "stream",
     "text": [
      "                                 Valid_URL\n",
      "0  https://www.eversports.de/s/poda-studio\n"
     ]
    }
   ],
   "source": [
    "import requests\n",
    "import pandas as pd\n",
    "import logging\n",
    "\n",
    "# Einrichten des Loggings\n",
    "logging.basicConfig(level=logging.INFO, format='%(asctime)s - %(levelname)s - %(message)s')\n",
    "\n",
    "def is_url_valid(url):\n",
    "    \"\"\"\n",
    "    Überprüft, ob eine URL gültig ist.\n",
    "\n",
    "    Args:\n",
    "        url (str): Die zu überprüfende URL.\n",
    "\n",
    "    Returns:\n",
    "        bool: True, wenn die URL gültig ist, sonst False.\n",
    "    \"\"\"\n",
    "    try:\n",
    "        response = requests.get(url)\n",
    "        return response.status_code == 200\n",
    "    except requests.exceptions.RequestException as e:\n",
    "        logging.error(f\"Error while checking URL: {url}\\nError: {e}\")\n",
    "        return False\n",
    "\n",
    "def validate_urls(url_list):\n",
    "    \"\"\"\n",
    "    Überprüft eine Liste von URLs auf Gültigkeit.\n",
    "\n",
    "    Args:\n",
    "        url_list (list): Eine Liste von URLs zur Überprüfung.\n",
    "\n",
    "    Returns:\n",
    "        DataFrame: Ein Pandas DataFrame mit gültigen URLs.\n",
    "    \"\"\"\n",
    "    valid_urls = []\n",
    "    for index, url in enumerate(url_list):\n",
    "        logging.info(f\"Processing URL {index + 1}/{len(url_list)}: {url}\")\n",
    "        if is_url_valid(url):\n",
    "            valid_urls.append(url)\n",
    "            logging.info(f\"URL {url} is valid.\")\n",
    "        else:\n",
    "            logging.info(f\"URL {url} is not valid.\")\n",
    "\n",
    "    valid_urls_df = pd.DataFrame(valid_urls, columns=[\"Valid_URL\"])\n",
    "    valid_urls_df = valid_urls_df.drop_duplicates(subset=['Valid_URL'])\n",
    "    return valid_urls_df\n",
    "\n",
    "# Beispielaufruf der Funktion\n",
    "url_list = [\"https://www.eversports.de/s/poda-studio\"]\n",
    "valid_urls_df = validate_urls(url_list)\n",
    "print(valid_urls_df)\n"
   ]
  }
 ],
 "metadata": {
  "kernelspec": {
   "display_name": "Python 3",
   "language": "python",
   "name": "python3"
  },
  "language_info": {
   "codemirror_mode": {
    "name": "ipython",
    "version": 3
   },
   "file_extension": ".py",
   "mimetype": "text/x-python",
   "name": "python",
   "nbconvert_exporter": "python",
   "pygments_lexer": "ipython3",
   "version": "3.12.1"
  }
 },
 "nbformat": 4,
 "nbformat_minor": 2
}
