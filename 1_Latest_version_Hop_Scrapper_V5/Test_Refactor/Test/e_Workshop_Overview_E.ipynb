{
 "cells": [
  {
   "cell_type": "code",
   "execution_count": 1,
   "metadata": {},
   "outputs": [
    {
     "name": "stdout",
     "output_type": "stream",
     "text": [
      "                             Workshop Name  \\\n",
      "0  Strip that down!  Workshop *girls only*   \n",
      "\n",
      "                                        Beschreibung  Studio Name  \\\n",
      "0  Strip that down! Lerne in einer smoothen Chore...  poda Studio   \n",
      "\n",
      "                                     Location Category  \\\n",
      "0   10-12 Martinstraße Innenhof, 52062 Aachen   Tanzen   \n",
      "\n",
      "                        Date                                         URL_E  \\\n",
      "0  Sonntag, 29. Oktober 2023  https://www.eversports.de/e/workshop/mT-MZa2   \n",
      "\n",
      "            Time  \n",
      "0  20:15 - 21:45  \n"
     ]
    }
   ],
   "source": [
    "import requests\n",
    "from bs4 import BeautifulSoup\n",
    "import pandas as pd\n",
    "from datetime import datetime\n",
    "\n",
    "def scrape_workshop_details(url):\n",
    "    \"\"\"\n",
    "    Scraped detaillierte Informationen eines Workshops von einer gegebenen URL.\n",
    "\n",
    "    Args:\n",
    "        url (str): Die URL der Workshop-Detailseite.\n",
    "\n",
    "    Returns:\n",
    "        DataFrame: Ein DataFrame mit detaillierten Informationen zum Workshop.\n",
    "    \"\"\"\n",
    "    response = requests.get(url)\n",
    "    if response.status_code != 200:\n",
    "        print(\"Fehler beim Abrufen der Webseite\")\n",
    "        return None\n",
    "\n",
    "    soup = BeautifulSoup(response.content, 'html.parser')\n",
    "\n",
    "    def get_text_or_none(element):\n",
    "        return element.text if element else None\n",
    "\n",
    "    # Extraktion der verschiedenen Datenpunkte\n",
    "    workshop_name = get_text_or_none(soup.find('h1', class_='MuiTypography-root MuiTypography-h1 css-1bvkaia'))\n",
    "    description_div = soup.find('div', class_='css-3awvdx')\n",
    "    description = ' '.join([p.text for p in description_div.find_all('p')]) if description_div else None\n",
    "    studio_name = get_text_or_none(soup.find('p', class_='MuiTypography-root MuiTypography-body1 css-z923os'))\n",
    "    location = get_text_or_none(soup.find_all('p', class_='MuiTypography-root MuiTypography-body1 css-bjhn26')[2])\n",
    "    level = get_text_or_none(soup.find('p', class_='MuiTypography-root MuiTypography-body1 css-ilcg2f'))\n",
    "    date = get_text_or_none(soup.find('p', class_='MuiTypography-root MuiTypography-body1 css-16ai5j1'))\n",
    "    time = get_text_or_none(soup.find('p', class_='MuiTypography-root MuiTypography-body1 css-bjhn26'))\n",
    "\n",
    "    # Weitere Extraktionen (Dauer, Trainer-Infos, Preis, etc.)\n",
    "    # ...\n",
    "\n",
    "    # Erstellen des DataFrame\n",
    "    workshop_df = pd.DataFrame({\n",
    "        'Workshop Name': [workshop_name],\n",
    "        'Beschreibung': [description],\n",
    "        'Studio Name': [studio_name],\n",
    "        'Location': [location],\n",
    "        'Category': [level],\n",
    "        'Date': [date],\n",
    "        'URL_E': [url],\n",
    "        'Time': [time]\n",
    "    })\n",
    "\n",
    "    return workshop_df\n",
    "\n",
    "# Beispielaufruf der Funktion\n",
    "url = \"https://www.eversports.de/e/workshop/mT-MZa2\"\n",
    "workshop_df = scrape_workshop_details(url)\n",
    "print(workshop_df)\n"
   ]
  }
 ],
 "metadata": {
  "kernelspec": {
   "display_name": "Python 3",
   "language": "python",
   "name": "python3"
  },
  "language_info": {
   "codemirror_mode": {
    "name": "ipython",
    "version": 3
   },
   "file_extension": ".py",
   "mimetype": "text/x-python",
   "name": "python",
   "nbconvert_exporter": "python",
   "pygments_lexer": "ipython3",
   "version": "3.12.1"
  }
 },
 "nbformat": 4,
 "nbformat_minor": 2
}
