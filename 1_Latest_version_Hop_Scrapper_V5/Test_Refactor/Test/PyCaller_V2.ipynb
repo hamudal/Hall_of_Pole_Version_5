{
 "cells": [
  {
   "cell_type": "code",
   "execution_count": 1,
   "metadata": {},
   "outputs": [
    {
     "name": "stdout",
     "output_type": "stream",
     "text": [
      "['Übersicht', 'Klassen', 'Workshops', 'Videos', 'Preise', 'Team'] {'Übersicht': 'https://www.eversports.de/s/poda-studio', 'Klassen': 'https://www.eversports.de/scl/poda-studio', 'Workshops': 'https://www.eversports.de/sw/poda-studio', 'Videos': 'https://www.eversports.de/s/videos/poda-studio', 'Preise': 'https://www.eversports.de/sp/poda-studio', 'Team': 'https://www.eversports.de/s/team/poda-studio'}\n"
     ]
    }
   ],
   "source": [
    "from a_URLS_Reconstruction import reconstruct_urls_and_extract_buttons\n",
    "from b_URLS_Validation import validate_urls\n",
    "from c_PoleStudio_Overview_S import scrape_pole_studio\n",
    "from d_Workshop_List_SW import scrape_workshops\n",
    "from e_Workshop_Overview_E import scrape_workshop_details\n",
    "from f_Klassen_List_SCL import scrape_classes\n",
    "from g_Klassen_Overview_E_SCL import scrape_class_details\n",
    "import pandas as pd"
   ]
  },
  {
   "cell_type": "code",
   "execution_count": null,
   "metadata": {},
   "outputs": [],
   "source": []
  },
  {
   "cell_type": "markdown",
   "metadata": {},
   "source": [
    "Need to append URLS!"
   ]
  },
  {
   "cell_type": "code",
   "execution_count": 46,
   "metadata": {},
   "outputs": [],
   "source": [
    "url_s = [\"https://www.eversports.de/s/poda-studio\", \"https://www.eversports.de/s/schoenheitstanz-studio\"]"
   ]
  },
  {
   "cell_type": "code",
   "execution_count": 47,
   "metadata": {},
   "outputs": [
    {
     "data": {
      "text/html": [
       "<div>\n",
       "<style scoped>\n",
       "    .dataframe tbody tr th:only-of-type {\n",
       "        vertical-align: middle;\n",
       "    }\n",
       "\n",
       "    .dataframe tbody tr th {\n",
       "        vertical-align: top;\n",
       "    }\n",
       "\n",
       "    .dataframe thead th {\n",
       "        text-align: right;\n",
       "    }\n",
       "</style>\n",
       "<table border=\"1\" class=\"dataframe\">\n",
       "  <thead>\n",
       "    <tr style=\"text-align: right;\">\n",
       "      <th></th>\n",
       "      <th>PoleStudio_Name</th>\n",
       "      <th>Adresse</th>\n",
       "      <th>PLZ</th>\n",
       "      <th>Stadt</th>\n",
       "      <th>Straße</th>\n",
       "      <th>Buttons</th>\n",
       "      <th>Pole Studio Beschreibung</th>\n",
       "      <th>Ratingscore</th>\n",
       "      <th>Reviewanzahl</th>\n",
       "      <th>Rating Faktoren</th>\n",
       "      <th>E-Mail</th>\n",
       "      <th>Homepage</th>\n",
       "      <th>Telefon</th>\n",
       "      <th>URL_S</th>\n",
       "      <th>Art</th>\n",
       "      <th>Angebot</th>\n",
       "      <th>Bildergalerie</th>\n",
       "      <th>Created Date</th>\n",
       "      <th>Updated Date</th>\n",
       "    </tr>\n",
       "  </thead>\n",
       "  <tbody>\n",
       "    <tr>\n",
       "      <th>0</th>\n",
       "      <td>Schönheitstanz Studio</td>\n",
       "      <td>[Charitestraße 4,  10117 Berlin]</td>\n",
       "      <td>10117</td>\n",
       "      <td>Berlin</td>\n",
       "      <td>Charitestraße 4</td>\n",
       "      <td>[Übersicht, Klassen, Workshops, Events, Videos...</td>\n",
       "      <td>Das Schönheitstanzstudio bringt allen Teilnehm...</td>\n",
       "      <td>5</td>\n",
       "      <td>42 Rezensionen</td>\n",
       "      <td>[Raumqualität: 5.0, Freundlichkeit &amp; Service: ...</td>\n",
       "      <td>studio@schoenheitstanz.de</td>\n",
       "      <td>https://schoenheitstanz.de</td>\n",
       "      <td>+49 016099746437</td>\n",
       "      <td>https://www.eversports.de/s/schoenheitstanz-st...</td>\n",
       "      <td>[Fitness, Tanzen, Fitness, Tanzen, Poledance, ...</td>\n",
       "      <td>1 Angebot für Neukund:innen</td>\n",
       "      <td>[https://files.eversports.com/a006ebd7-6e7c-48...</td>\n",
       "      <td>2023-12-23 13:43:23</td>\n",
       "      <td>2023-12-23 13:43:23</td>\n",
       "    </tr>\n",
       "  </tbody>\n",
       "</table>\n",
       "</div>"
      ],
      "text/plain": [
       "         PoleStudio_Name                           Adresse    PLZ   Stadt  \\\n",
       "0  Schönheitstanz Studio  [Charitestraße 4,  10117 Berlin]  10117  Berlin   \n",
       "\n",
       "            Straße                                            Buttons  \\\n",
       "0  Charitestraße 4  [Übersicht, Klassen, Workshops, Events, Videos...   \n",
       "\n",
       "                            Pole Studio Beschreibung Ratingscore  \\\n",
       "0  Das Schönheitstanzstudio bringt allen Teilnehm...           5   \n",
       "\n",
       "     Reviewanzahl                                    Rating Faktoren  \\\n",
       "0  42 Rezensionen  [Raumqualität: 5.0, Freundlichkeit & Service: ...   \n",
       "\n",
       "                       E-Mail                    Homepage           Telefon  \\\n",
       "0   studio@schoenheitstanz.de  https://schoenheitstanz.de  +49 016099746437   \n",
       "\n",
       "                                               URL_S  \\\n",
       "0  https://www.eversports.de/s/schoenheitstanz-st...   \n",
       "\n",
       "                                                 Art  \\\n",
       "0  [Fitness, Tanzen, Fitness, Tanzen, Poledance, ...   \n",
       "\n",
       "                       Angebot  \\\n",
       "0  1 Angebot für Neukund:innen   \n",
       "\n",
       "                                       Bildergalerie         Created Date  \\\n",
       "0  [https://files.eversports.com/a006ebd7-6e7c-48...  2023-12-23 13:43:23   \n",
       "\n",
       "          Updated Date  \n",
       "0  2023-12-23 13:43:23  "
      ]
     },
     "execution_count": 47,
     "metadata": {},
     "output_type": "execute_result"
    }
   ],
   "source": [
    "polestudio_s_df = []\n",
    "\n",
    "for url in url_s:\n",
    "    polestudio_s_df = scrape_pole_studio(url)\n",
    "\n",
    "polestudio_s_df    "
   ]
  },
  {
   "cell_type": "markdown",
   "metadata": {},
   "source": [
    "Need to append URLS!"
   ]
  },
  {
   "cell_type": "code",
   "execution_count": 17,
   "metadata": {},
   "outputs": [],
   "source": [
    "url_sw = [\"https://www.eversports.de/sw/poda-studio\", \"https://www.eversports.de/sw/schoenheitstanz-studio\" ]"
   ]
  },
  {
   "cell_type": "code",
   "execution_count": 21,
   "metadata": {},
   "outputs": [
    {
     "data": {
      "text/html": [
       "<div>\n",
       "<style scoped>\n",
       "    .dataframe tbody tr th:only-of-type {\n",
       "        vertical-align: middle;\n",
       "    }\n",
       "\n",
       "    .dataframe tbody tr th {\n",
       "        vertical-align: top;\n",
       "    }\n",
       "\n",
       "    .dataframe thead th {\n",
       "        text-align: right;\n",
       "    }\n",
       "</style>\n",
       "<table border=\"1\" class=\"dataframe\">\n",
       "  <thead>\n",
       "    <tr style=\"text-align: right;\">\n",
       "      <th></th>\n",
       "      <th>Workshop Name</th>\n",
       "      <th>Workshop Date</th>\n",
       "      <th>Workshop Price</th>\n",
       "      <th>Workshop Units</th>\n",
       "      <th>Workshop Studio</th>\n",
       "      <th>Workshop Address</th>\n",
       "      <th>URL_SW</th>\n",
       "    </tr>\n",
       "  </thead>\n",
       "  <tbody>\n",
       "    <tr>\n",
       "      <th>0</th>\n",
       "      <td>Pole Dance Anfänger 2 Kurs</td>\n",
       "      <td>Jan06bis Jan 07</td>\n",
       "      <td>ab 85,00 €</td>\n",
       "      <td>2 Einheiten</td>\n",
       "      <td>Schönheitstanz Studio</td>\n",
       "      <td>Charitestraße 4, 10117 Berlin</td>\n",
       "      <td>https://www.eversports.de/e/workshop/aoGlI5F</td>\n",
       "    </tr>\n",
       "    <tr>\n",
       "      <th>1</th>\n",
       "      <td>Burlesque Anfängerworkshop</td>\n",
       "      <td>Jan06bis Jan 07</td>\n",
       "      <td>ab 85,00 €</td>\n",
       "      <td>2 Einheiten</td>\n",
       "      <td>Schönheitstanz Studio</td>\n",
       "      <td>Charitestraße 4, 10117 Berlin</td>\n",
       "      <td>https://www.eversports.de/e/workshop/a5FO1V5</td>\n",
       "    </tr>\n",
       "  </tbody>\n",
       "</table>\n",
       "</div>"
      ],
      "text/plain": [
       "                   Workshop Name    Workshop Date Workshop Price  \\\n",
       "0    Pole Dance Anfänger 2 Kurs   Jan06bis Jan 07     ab 85,00 €   \n",
       "1     Burlesque Anfängerworkshop  Jan06bis Jan 07     ab 85,00 €   \n",
       "\n",
       "  Workshop Units        Workshop Studio               Workshop Address  \\\n",
       "0    2 Einheiten  Schönheitstanz Studio  Charitestraße 4, 10117 Berlin   \n",
       "1    2 Einheiten  Schönheitstanz Studio  Charitestraße 4, 10117 Berlin   \n",
       "\n",
       "                                         URL_SW  \n",
       "0  https://www.eversports.de/e/workshop/aoGlI5F  \n",
       "1  https://www.eversports.de/e/workshop/a5FO1V5  "
      ]
     },
     "execution_count": 21,
     "metadata": {},
     "output_type": "execute_result"
    }
   ],
   "source": [
    "workshop_list_sw_df = []\n",
    "\n",
    "for url1 in url_sw:\n",
    "    workshop_list_sw_df = scrape_workshops(url1)\n",
    "\n",
    "workshop_list_sw_df[:2]"
   ]
  },
  {
   "cell_type": "code",
   "execution_count": 25,
   "metadata": {},
   "outputs": [
    {
     "data": {
      "text/plain": [
       "['https://www.eversports.de/e/workshop/aoGlI5F',\n",
       " 'https://www.eversports.de/e/workshop/a5FO1V5',\n",
       " 'https://www.eversports.de/e/workshop/b-VEJXN']"
      ]
     },
     "execution_count": 25,
     "metadata": {},
     "output_type": "execute_result"
    }
   ],
   "source": [
    "url_e = workshop_list_sw_df[\"URL_SW\"].to_list()\n",
    "url_e[:3]"
   ]
  },
  {
   "cell_type": "markdown",
   "metadata": {},
   "source": [
    "Need to append URLS!"
   ]
  },
  {
   "cell_type": "code",
   "execution_count": null,
   "metadata": {},
   "outputs": [],
   "source": [
    "# url_e = [\"https://www.eversports.de/e/workshop/5Qka0Ok\", \"https://www.eversports.de/e/workshop/mmIS0hG\" ]"
   ]
  },
  {
   "cell_type": "code",
   "execution_count": 23,
   "metadata": {},
   "outputs": [],
   "source": [
    "workshop_e_df = []\n",
    "\n",
    "for url2 in url_e:\n",
    "    workshop_e_df = scrape_workshop_details(url2)\n",
    "    workshop_e_df.append()\n",
    "workshop_e_df"
   ]
  },
  {
   "cell_type": "code",
   "execution_count": 24,
   "metadata": {},
   "outputs": [
    {
     "data": {
      "text/html": [
       "<div>\n",
       "<style scoped>\n",
       "    .dataframe tbody tr th:only-of-type {\n",
       "        vertical-align: middle;\n",
       "    }\n",
       "\n",
       "    .dataframe tbody tr th {\n",
       "        vertical-align: top;\n",
       "    }\n",
       "\n",
       "    .dataframe thead th {\n",
       "        text-align: right;\n",
       "    }\n",
       "</style>\n",
       "<table border=\"1\" class=\"dataframe\">\n",
       "  <thead>\n",
       "    <tr style=\"text-align: right;\">\n",
       "      <th></th>\n",
       "      <th>Workshop Name</th>\n",
       "      <th>Beschreibung</th>\n",
       "      <th>Studio Name</th>\n",
       "      <th>Location</th>\n",
       "      <th>Category</th>\n",
       "      <th>Date</th>\n",
       "      <th>URL_E</th>\n",
       "      <th>Time</th>\n",
       "    </tr>\n",
       "  </thead>\n",
       "  <tbody>\n",
       "    <tr>\n",
       "      <th>0</th>\n",
       "      <td>Burlesque Anfängerworkshop mit Lady Lou</td>\n",
       "      <td>Burlesque ist eine klassische Form des erotisc...</td>\n",
       "      <td>Schönheitstanz Studio</td>\n",
       "      <td>Einzelticket</td>\n",
       "      <td>Burlesque</td>\n",
       "      <td>Beginnt am Samstag, 1. Juni 2024</td>\n",
       "      <td>https://www.eversports.de/e/workshop/gOdtqrR</td>\n",
       "      <td>Charitestraße 4, 10117 Berlin</td>\n",
       "    </tr>\n",
       "  </tbody>\n",
       "</table>\n",
       "</div>"
      ],
      "text/plain": [
       "                              Workshop Name  \\\n",
       "0   Burlesque Anfängerworkshop mit Lady Lou   \n",
       "\n",
       "                                        Beschreibung            Studio Name  \\\n",
       "0  Burlesque ist eine klassische Form des erotisc...  Schönheitstanz Studio   \n",
       "\n",
       "       Location   Category                              Date  \\\n",
       "0  Einzelticket  Burlesque  Beginnt am Samstag, 1. Juni 2024   \n",
       "\n",
       "                                          URL_E                           Time  \n",
       "0  https://www.eversports.de/e/workshop/gOdtqrR  Charitestraße 4, 10117 Berlin  "
      ]
     },
     "execution_count": 24,
     "metadata": {},
     "output_type": "execute_result"
    }
   ],
   "source": [
    "workshop_e_df"
   ]
  },
  {
   "cell_type": "code",
   "execution_count": 37,
   "metadata": {},
   "outputs": [],
   "source": [
    "url_scl = [\"https://www.eversports.de/scl/poda-studio\", \"https://www.eversports.de/scl/schoenheitstanz-studio\"]"
   ]
  },
  {
   "cell_type": "code",
   "execution_count": 40,
   "metadata": {},
   "outputs": [
    {
     "data": {
      "text/html": [
       "<div>\n",
       "<style scoped>\n",
       "    .dataframe tbody tr th:only-of-type {\n",
       "        vertical-align: middle;\n",
       "    }\n",
       "\n",
       "    .dataframe tbody tr th {\n",
       "        vertical-align: top;\n",
       "    }\n",
       "\n",
       "    .dataframe thead th {\n",
       "        text-align: right;\n",
       "    }\n",
       "</style>\n",
       "<table border=\"1\" class=\"dataframe\">\n",
       "  <thead>\n",
       "    <tr style=\"text-align: right;\">\n",
       "      <th></th>\n",
       "      <th>URL_SCL_E</th>\n",
       "      <th>Time</th>\n",
       "      <th>Duration</th>\n",
       "      <th>Name</th>\n",
       "      <th>Available Slots</th>\n",
       "      <th>Trainer</th>\n",
       "      <th>Room</th>\n",
       "    </tr>\n",
       "  </thead>\n",
       "  <tbody>\n",
       "    <tr>\n",
       "      <th>0</th>\n",
       "      <td>https://www.eversports.de/e/class/Otaqqee</td>\n",
       "      <td>18:45</td>\n",
       "      <td>60 Min</td>\n",
       "      <td>Do they know it's Fitnesstime - Pole Fitness *...</td>\n",
       "      <td>6/24 Plätzen verfügbar</td>\n",
       "      <td>Anna</td>\n",
       "      <td>Poda Studio</td>\n",
       "    </tr>\n",
       "    <tr>\n",
       "      <th>1</th>\n",
       "      <td>https://www.eversports.de/e/class/pci9U3w</td>\n",
       "      <td>20:00</td>\n",
       "      <td>60 Min</td>\n",
       "      <td>Ho ho hold your split - stretch for splits Xma...</td>\n",
       "      <td>8/24 Plätzen verfügbar</td>\n",
       "      <td>Anna</td>\n",
       "      <td>Poda Studio</td>\n",
       "    </tr>\n",
       "    <tr>\n",
       "      <th>2</th>\n",
       "      <td>https://www.eversports.de/e/class/IMt1Fo6</td>\n",
       "      <td>18:45</td>\n",
       "      <td>60 Min</td>\n",
       "      <td>Burlesque Chairdance *Xmas Special*</td>\n",
       "      <td>4/24 Plätzen verfügbar</td>\n",
       "      <td>Joana</td>\n",
       "      <td>Poda Studio</td>\n",
       "    </tr>\n",
       "  </tbody>\n",
       "</table>\n",
       "</div>"
      ],
      "text/plain": [
       "                                   URL_SCL_E   Time Duration  \\\n",
       "0  https://www.eversports.de/e/class/Otaqqee  18:45   60 Min   \n",
       "1  https://www.eversports.de/e/class/pci9U3w  20:00   60 Min   \n",
       "2  https://www.eversports.de/e/class/IMt1Fo6  18:45   60 Min   \n",
       "\n",
       "                                                Name         Available Slots  \\\n",
       "0  Do they know it's Fitnesstime - Pole Fitness *...  6/24 Plätzen verfügbar   \n",
       "1  Ho ho hold your split - stretch for splits Xma...  8/24 Plätzen verfügbar   \n",
       "2                Burlesque Chairdance *Xmas Special*  4/24 Plätzen verfügbar   \n",
       "\n",
       "  Trainer         Room  \n",
       "0    Anna  Poda Studio  \n",
       "1    Anna  Poda Studio  \n",
       "2   Joana  Poda Studio  "
      ]
     },
     "execution_count": 40,
     "metadata": {},
     "output_type": "execute_result"
    }
   ],
   "source": [
    "klasses_list_scl_df = []\n",
    "\n",
    "\n",
    "klasses_list_scl_df = scrape_classes(url_scl)\n",
    "\n",
    "klasses_list_scl_df[:3]"
   ]
  },
  {
   "cell_type": "code",
   "execution_count": 42,
   "metadata": {},
   "outputs": [
    {
     "data": {
      "text/plain": [
       "['https://www.eversports.de/e/class/Otaqqee',\n",
       " 'https://www.eversports.de/e/class/pci9U3w',\n",
       " 'https://www.eversports.de/e/class/IMt1Fo6']"
      ]
     },
     "execution_count": 42,
     "metadata": {},
     "output_type": "execute_result"
    }
   ],
   "source": [
    "url_e_class = klasses_list_scl_df[\"URL_SCL_E\"].to_list()\n",
    "url_e_class[:3]"
   ]
  },
  {
   "cell_type": "markdown",
   "metadata": {},
   "source": [
    "need to append every url"
   ]
  },
  {
   "cell_type": "code",
   "execution_count": 45,
   "metadata": {},
   "outputs": [
    {
     "data": {
      "text/html": [
       "<div>\n",
       "<style scoped>\n",
       "    .dataframe tbody tr th:only-of-type {\n",
       "        vertical-align: middle;\n",
       "    }\n",
       "\n",
       "    .dataframe tbody tr th {\n",
       "        vertical-align: top;\n",
       "    }\n",
       "\n",
       "    .dataframe thead th {\n",
       "        text-align: right;\n",
       "    }\n",
       "</style>\n",
       "<table border=\"1\" class=\"dataframe\">\n",
       "  <thead>\n",
       "    <tr style=\"text-align: right;\">\n",
       "      <th></th>\n",
       "      <th>Klassenname</th>\n",
       "      <th>Beschreibung</th>\n",
       "      <th>Studio Name</th>\n",
       "      <th>Standort</th>\n",
       "      <th>Kategorie</th>\n",
       "      <th>Datum</th>\n",
       "      <th>URL_E</th>\n",
       "      <th>Zeit</th>\n",
       "    </tr>\n",
       "  </thead>\n",
       "  <tbody>\n",
       "    <tr>\n",
       "      <th>0</th>\n",
       "      <td>Chair Dance Kurs ONLINE</td>\n",
       "      <td>Chairdance ist die perfekte Symbiose aus verfü...</td>\n",
       "      <td>Schönheitstanz Studio</td>\n",
       "      <td>Online</td>\n",
       "      <td>Chairdance</td>\n",
       "      <td>Samstag, 23. Dezember 2023</td>\n",
       "      <td>https://www.eversports.de/e/class/SqTM_-l</td>\n",
       "      <td>12:30 - 13:30</td>\n",
       "    </tr>\n",
       "  </tbody>\n",
       "</table>\n",
       "</div>"
      ],
      "text/plain": [
       "               Klassenname                                       Beschreibung  \\\n",
       "0  Chair Dance Kurs ONLINE  Chairdance ist die perfekte Symbiose aus verfü...   \n",
       "\n",
       "             Studio Name Standort   Kategorie                       Datum  \\\n",
       "0  Schönheitstanz Studio   Online  Chairdance  Samstag, 23. Dezember 2023   \n",
       "\n",
       "                                       URL_E           Zeit  \n",
       "0  https://www.eversports.de/e/class/SqTM_-l  12:30 - 13:30  "
      ]
     },
     "execution_count": 45,
     "metadata": {},
     "output_type": "execute_result"
    }
   ],
   "source": [
    "classes_e_class_df = []\n",
    "\n",
    "for url4 in url_e_class:\n",
    "    classes_e_class_df = scrape_class_details(url4)\n",
    "\n",
    "classes_e_class_df[:3]"
   ]
  },
  {
   "cell_type": "code",
   "execution_count": null,
   "metadata": {},
   "outputs": [],
   "source": []
  },
  {
   "cell_type": "code",
   "execution_count": null,
   "metadata": {},
   "outputs": [],
   "source": []
  },
  {
   "cell_type": "code",
   "execution_count": 1,
   "metadata": {},
   "outputs": [],
   "source": [
    "urls = [\"https://www.eversports.de/s/poda-studio\", \"https://www.eversports.de/s/schoenheitstanz-studio\"]"
   ]
  },
  {
   "cell_type": "markdown",
   "metadata": {},
   "source": [
    "Test OG File\n"
   ]
  },
  {
   "cell_type": "code",
   "execution_count": 2,
   "metadata": {},
   "outputs": [
    {
     "name": "stdout",
     "output_type": "stream",
     "text": [
      "['Übersicht', 'Klassen', 'Workshops', 'Videos', 'Preise', 'Team'] {'Übersicht': 'https://www.eversports.de/s/poda-studio', 'Klassen': 'https://www.eversports.de/scl/poda-studio', 'Workshops': 'https://www.eversports.de/sw/poda-studio', 'Videos': 'https://www.eversports.de/s/videos/poda-studio', 'Preise': 'https://www.eversports.de/sp/poda-studio', 'Team': 'https://www.eversports.de/s/team/poda-studio'}\n"
     ]
    }
   ],
   "source": [
    "from a_URLS_Reconstruction import reconstruct_urls_and_extract_buttons\n",
    "from b_URLS_Validation import validate_urls\n",
    "from c_PoleStudio_Overview_S import scrape_pole_studio\n",
    "from d_Workshop_List_SW import scrape_workshops\n",
    "from e_Workshop_Overview_E import scrape_workshop_details\n",
    "from f_Klassen_List_SCL import scrape_classes\n",
    "from g_Klassen_Overview_E_SCL import scrape_class_details\n",
    "import pandas as pd\n",
    "\n",
    "\n",
    "def process_urls(urls):\n",
    "    \"\"\"\n",
    "    Prozessiert eine Liste von URLs durch verschiedene Scraping-Funktionen.\n",
    "    \"\"\"\n",
    "    print(\"Starte URL-Rekonstruktion...\")\n",
    "    reconstructed_urls_list = [reconstruct_urls_and_extract_buttons(url)[1] for url in urls]\n",
    "    reconstructed_urls = {k: v for d in reconstructed_urls_list for k, v in d.items()}\n",
    "\n",
    "    print(\"Konvertiere in DataFrame...\")\n",
    "    reconstructed_urls_df = pd.DataFrame(list(reconstructed_urls.items()), columns=['Kategorie', 'URL'])\n",
    "    \n",
    "    print(\"Validiere URLs...\")\n",
    "    validated_urls_df = validate_urls(reconstructed_urls_df[\"URL\"].to_list())\n",
    "    validated_urls = validated_urls_df[\"Valid_URL\"].tolist()\n",
    "\n",
    "    # Aufteilung und Verarbeitung der URLs\n",
    "    results = {}\n",
    "    for url in validated_urls:\n",
    "        if \"/s/\" in url:\n",
    "            print(f\"Scrape Pole Studio Daten von {url}...\")\n",
    "            results['pole_studio_data'] = scrape_pole_studio(url)\n",
    "        elif \"/sw/\" in url:\n",
    "            print(f\"Scrape Workshops Daten von {url}...\")\n",
    "            results['workshops_data'] = scrape_workshops(url)\n",
    "        elif \"/e/workshop/\" in url:\n",
    "            print(f\"Scrape Workshop Details von {url}...\")\n",
    "            results['workshop_details'] = scrape_workshop_details(url)\n",
    "        elif \"/scl/\" in url:\n",
    "            print(f\"Scrape Klassen Daten von {url}...\")\n",
    "            classes_data = scrape_classes([url])\n",
    "            results['classes_data'] = classes_data\n",
    "\n",
    "            # Prüfen, ob die Spalte 'URL_SCL_E' vorhanden ist\n",
    "            if 'URL_SCL_E' in classes_data.columns:\n",
    "                print(f\"Scrape Klassen Details von URLs in 'URL_SCL_E'...\")\n",
    "                classes_details_list = []\n",
    "                for url_scl_e in classes_data['URL_SCL_E'].tolist():\n",
    "                    class_detail = scrape_class_details(url_scl_e)\n",
    "                    if class_detail is not None:\n",
    "                        classes_details_list.append(class_detail)\n",
    "                if classes_details_list:\n",
    "                    results['classes_details'] = pd.concat(classes_details_list, ignore_index=True)\n",
    "    \n",
    "    print(\"Verarbeitung abgeschlossen.\")\n",
    "    return results\n"
   ]
  },
  {
   "cell_type": "code",
   "execution_count": 4,
   "metadata": {},
   "outputs": [
    {
     "ename": "NameError",
     "evalue": "name 'results' is not defined",
     "output_type": "error",
     "traceback": [
      "\u001b[1;31m---------------------------------------------------------------------------\u001b[0m",
      "\u001b[1;31mNameError\u001b[0m                                 Traceback (most recent call last)",
      "Cell \u001b[1;32mIn[4], line 1\u001b[0m\n\u001b[1;32m----> 1\u001b[0m \u001b[43mresults\u001b[49m\n",
      "\u001b[1;31mNameError\u001b[0m: name 'results' is not defined"
     ]
    }
   ],
   "source": [
    "results"
   ]
  },
  {
   "cell_type": "code",
   "execution_count": null,
   "metadata": {},
   "outputs": [],
   "source": []
  }
 ],
 "metadata": {
  "kernelspec": {
   "display_name": "Python 3",
   "language": "python",
   "name": "python3"
  },
  "language_info": {
   "codemirror_mode": {
    "name": "ipython",
    "version": 3
   },
   "file_extension": ".py",
   "mimetype": "text/x-python",
   "name": "python",
   "nbconvert_exporter": "python",
   "pygments_lexer": "ipython3",
   "version": "3.12.1"
  }
 },
 "nbformat": 4,
 "nbformat_minor": 2
}
