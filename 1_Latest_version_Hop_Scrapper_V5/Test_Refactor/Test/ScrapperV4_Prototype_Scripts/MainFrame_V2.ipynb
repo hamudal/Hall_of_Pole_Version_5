{
 "cells": [
  {
   "cell_type": "code",
   "execution_count": 4,
   "metadata": {},
   "outputs": [
    {
     "name": "stderr",
     "output_type": "stream",
     "text": [
      "2023-12-23 16:09:35,848 - INFO - Starte Datenverarbeitung...\n",
      "2023-12-23 16:09:35,850 - INFO - Speichere und verarbeite gesammelte Daten...\n",
      "2023-12-23 16:09:35,852 - INFO - Verarbeitung abgeschlossen.\n",
      "C:\\Users\\hamud\\AppData\\Local\\Temp\\ipykernel_2904\\3262025704.py:49: RuntimeWarning: coroutine 'process_urls' was never awaited\n",
      "  main()\n",
      "RuntimeWarning: Enable tracemalloc to get the object allocation traceback\n"
     ]
    }
   ],
   "source": [
    "import pandas as pd\n",
    "import logging\n",
    "from PyCaller_V2 import process_urls\n",
    "\n",
    "# Konfiguration des Logging-Systems\n",
    "logging.basicConfig(level=logging.INFO, format='%(asctime)s - %(levelname)s - %(message)s')\n",
    "\n",
    "def load_initial_urls():\n",
    "    \"\"\"\n",
    "    Lädt die initialen URLs aus einer CSV-Datei oder einer anderen Quelle.\n",
    "    \"\"\"\n",
    "    try:\n",
    "        polestudios = pd.read_csv(\"validated_polestudios_V2.csv\")\n",
    "        initial_urls = polestudios[\"Eversports Pole Studio Seite\"].tolist()\n",
    "        return initial_urls\n",
    "    except Exception as e:\n",
    "        logging.error(f\"Fehler beim Laden der URLs: {e}\")\n",
    "        return []\n",
    "\n",
    "def process_and_store_data(data):\n",
    "    \"\"\"\n",
    "    Verarbeitet und speichert die gesammelten Daten in DataFrames.\n",
    "    \"\"\"\n",
    "    try:\n",
    "        # Ihre Logik zur Verarbeitung und Speicherung der Daten\n",
    "        # Zum Beispiel: Kombinieren und Speichern von Daten in einer Datenbank oder einer Datei\n",
    "        pass  # Ersetzen Sie dies durch Ihren aktuellen Code\n",
    "    except Exception as e:\n",
    "        logging.error(f\"Fehler bei der Datenverarbeitung: {e}\")\n",
    "\n",
    "def main():\n",
    "    try:\n",
    "        initial_urls = load_initial_urls()\n",
    "        if not initial_urls:\n",
    "            logging.error(\"Keine URLs zum Verarbeiten.\")\n",
    "            return\n",
    "\n",
    "        logging.info(\"Starte Datenverarbeitung...\")\n",
    "        data = process_urls(initial_urls)\n",
    "\n",
    "        logging.info(\"Speichere und verarbeite gesammelte Daten...\")\n",
    "        process_and_store_data(data)\n",
    "\n",
    "        logging.info(\"Verarbeitung abgeschlossen.\")\n",
    "    except Exception as e:\n",
    "        logging.error(f\"Ein Fehler ist im Hauptprogramm aufgetreten: {e}\")\n",
    "\n",
    "if __name__ == \"__main__\":\n",
    "    main()\n"
   ]
  },
  {
   "cell_type": "code",
   "execution_count": 5,
   "metadata": {},
   "outputs": [
    {
     "ename": "NameError",
     "evalue": "name 'initial_urls' is not defined",
     "output_type": "error",
     "traceback": [
      "\u001b[1;31m---------------------------------------------------------------------------\u001b[0m",
      "\u001b[1;31mNameError\u001b[0m                                 Traceback (most recent call last)",
      "Cell \u001b[1;32mIn[5], line 1\u001b[0m\n\u001b[1;32m----> 1\u001b[0m \u001b[43minitial_urls\u001b[49m\n",
      "\u001b[1;31mNameError\u001b[0m: name 'initial_urls' is not defined"
     ]
    }
   ],
   "source": [
    "initial_urls"
   ]
  }
 ],
 "metadata": {
  "kernelspec": {
   "display_name": "Python 3",
   "language": "python",
   "name": "python3"
  },
  "language_info": {
   "codemirror_mode": {
    "name": "ipython",
    "version": 3
   },
   "file_extension": ".py",
   "mimetype": "text/x-python",
   "name": "python",
   "nbconvert_exporter": "python",
   "pygments_lexer": "ipython3",
   "version": "3.12.1"
  }
 },
 "nbformat": 4,
 "nbformat_minor": 2
}
