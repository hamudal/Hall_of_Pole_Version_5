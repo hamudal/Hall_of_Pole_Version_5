{
 "cells": [
  {
   "cell_type": "code",
   "execution_count": 1,
   "metadata": {},
   "outputs": [
    {
     "name": "stderr",
     "output_type": "stream",
     "text": [
      "2023-12-23 15:34:05,531 - INFO - Gültige URLs: \n",
      "                                 Valid_URL\n",
      "0  https://www.eversports.de/s/poda-studio\n"
     ]
    }
   ],
   "source": [
    "import requests\n",
    "import pandas as pd\n",
    "import logging\n",
    "from concurrent.futures import ThreadPoolExecutor\n",
    "\n",
    "# Konfiguration des Logging-Systems\n",
    "logging.basicConfig(level=logging.INFO, format='%(asctime)s - %(levelname)s - %(message)s')\n",
    "\n",
    "def is_url_valid(url):\n",
    "    \"\"\"\n",
    "    Überprüft, ob eine URL gültig ist.\n",
    "\n",
    "    Args:\n",
    "        url (str): Die zu überprüfende URL.\n",
    "\n",
    "    Returns:\n",
    "        bool: True, wenn die URL gültig ist, sonst False.\n",
    "    \"\"\"\n",
    "    try:\n",
    "        response = requests.head(url, allow_redirects=True)\n",
    "        return response.status_code == 200\n",
    "    except requests.exceptions.RequestException as e:\n",
    "        logging.error(f\"Fehler beim Überprüfen der URL {url}: {e}\")\n",
    "        return False\n",
    "\n",
    "def validate_urls(url_list):\n",
    "    \"\"\"\n",
    "    Überprüft eine Liste von URLs auf Gültigkeit.\n",
    "\n",
    "    Args:\n",
    "        url_list (list): Eine Liste von URLs zur Überprüfung.\n",
    "\n",
    "    Returns:\n",
    "        DataFrame: Ein Pandas DataFrame mit gültigen URLs.\n",
    "    \"\"\"\n",
    "    with ThreadPoolExecutor(max_workers=10) as executor:\n",
    "        results = list(executor.map(is_url_valid, url_list))\n",
    "\n",
    "    valid_urls = [url for url, is_valid in zip(url_list, results) if is_valid]\n",
    "    valid_urls_df = pd.DataFrame(valid_urls, columns=[\"Valid_URL\"])\n",
    "    return valid_urls_df\n",
    "\n",
    "# Beispielaufruf der Funktion\n",
    "if __name__ == \"__main__\":\n",
    "    test_url_list = [\"https://www.eversports.de/s/poda-studio\", \"https://invalid-url.com\"]\n",
    "    valid_urls_df = validate_urls(test_url_list)\n",
    "    logging.info(f\"Gültige URLs: \\n{valid_urls_df}\")\n"
   ]
  }
 ],
 "metadata": {
  "kernelspec": {
   "display_name": "Python 3",
   "language": "python",
   "name": "python3"
  },
  "language_info": {
   "codemirror_mode": {
    "name": "ipython",
    "version": 3
   },
   "file_extension": ".py",
   "mimetype": "text/x-python",
   "name": "python",
   "nbconvert_exporter": "python",
   "pygments_lexer": "ipython3",
   "version": "3.12.1"
  }
 },
 "nbformat": 4,
 "nbformat_minor": 2
}
