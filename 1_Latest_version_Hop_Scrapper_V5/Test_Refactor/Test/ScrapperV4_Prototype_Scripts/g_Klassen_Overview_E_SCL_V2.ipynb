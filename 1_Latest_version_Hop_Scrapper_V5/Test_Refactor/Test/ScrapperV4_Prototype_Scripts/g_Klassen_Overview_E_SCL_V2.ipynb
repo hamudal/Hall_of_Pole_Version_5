{
 "cells": [
  {
   "cell_type": "code",
   "execution_count": 1,
   "metadata": {},
   "outputs": [
    {
     "name": "stderr",
     "output_type": "stream",
     "text": [
      "2023-12-23 15:54:46,752 - ERROR - Fehler beim Abrufen der Webseite https://www.eversports.de/e/class/mT-MZa2: 404 Client Error: Not Found for url: https://www.eversports.de/e/class/mT-MZa2\n",
      "2023-12-23 15:54:46,756 - INFO - Keine Klassen-Details gescraped.\n"
     ]
    }
   ],
   "source": [
    "import requests\n",
    "from bs4 import BeautifulSoup\n",
    "import pandas as pd\n",
    "import logging\n",
    "from datetime import datetime\n",
    "\n",
    "# Konfiguration des Logging-Systems\n",
    "logging.basicConfig(level=logging.INFO, format='%(asctime)s - %(levelname)s - %(message)s')\n",
    "\n",
    "def get_text_or_none(element):\n",
    "    \"\"\"Hilfsfunktion zum sicheren Abrufen des Textes aus einem BeautifulSoup-Element.\"\"\"\n",
    "    return element.text if element else None\n",
    "\n",
    "def scrape_class_details(url):\n",
    "    \"\"\"\n",
    "    Scraped detaillierte Informationen einer Klasse von einer gegebenen URL.\n",
    "    \"\"\"\n",
    "    try:\n",
    "        response = requests.get(url)\n",
    "        response.raise_for_status()\n",
    "    except requests.RequestException as e:\n",
    "        logging.error(f\"Fehler beim Abrufen der Webseite {url}: {e}\")\n",
    "        return None\n",
    "\n",
    "    soup = BeautifulSoup(response.content, 'html.parser')\n",
    "\n",
    "    # Extraktion der verschiedenen Datenpunkte\n",
    "    class_name = get_text_or_none(soup.find('h1', class_='MuiTypography-root MuiTypography-h1 css-1bvkaia'))\n",
    "    description_div = soup.find('div', class_='css-3awvdx')\n",
    "    description = ' '.join([p.text for p in description_div.find_all('p')]) if description_div else None\n",
    "    studio_name = get_text_or_none(soup.find('p', class_='MuiTypography-root MuiTypography-body1 css-z923os'))\n",
    "    location = get_text_or_none(soup.find_all('p', class_='MuiTypography-root MuiTypography-body1 css-bjhn26')[2])\n",
    "    level = get_text_or_none(soup.find('p', class_='MuiTypography-root MuiTypography-body1 css-ilcg2f'))\n",
    "    date = get_text_or_none(soup.find('p', class_='MuiTypography-root MuiTypography-body1 css-16ai5j1'))\n",
    "    time = get_text_or_none(soup.find('p', class_='MuiTypography-root MuiTypography-body1 css-bjhn26'))\n",
    "\n",
    "    class_df = pd.DataFrame({\n",
    "        'Klassenname': [class_name],\n",
    "        'Beschreibung': [description],\n",
    "        'Studio Name': [studio_name],\n",
    "        'Standort': [location],\n",
    "        'Kategorie': [level],\n",
    "        'Datum': [date],\n",
    "        'URL_E': [url],\n",
    "        'Zeit': [time]\n",
    "    })\n",
    "\n",
    "    return class_df\n",
    "\n",
    "if __name__ == \"__main__\":\n",
    "    test_url = \"https://www.eversports.de/e/class/mT-MZa2\"\n",
    "    class_df = scrape_class_details(test_url)\n",
    "    if class_df is not None:\n",
    "        logging.info(f\"Gescrapte Klassen-Details:\\n{class_df}\")\n",
    "    else:\n",
    "        logging.info(\"Keine Klassen-Details gescraped.\")\n"
   ]
  },
  {
   "cell_type": "code",
   "execution_count": null,
   "metadata": {},
   "outputs": [],
   "source": []
  }
 ],
 "metadata": {
  "kernelspec": {
   "display_name": "Python 3",
   "language": "python",
   "name": "python3"
  },
  "language_info": {
   "codemirror_mode": {
    "name": "ipython",
    "version": 3
   },
   "file_extension": ".py",
   "mimetype": "text/x-python",
   "name": "python",
   "nbconvert_exporter": "python",
   "pygments_lexer": "ipython3",
   "version": "3.12.1"
  }
 },
 "nbformat": 4,
 "nbformat_minor": 2
}
