{
 "cells": [
  {
   "cell_type": "code",
   "execution_count": 2,
   "metadata": {},
   "outputs": [
    {
     "name": "stderr",
     "output_type": "stream",
     "text": [
      "2023-12-23 15:49:22,766 - INFO - Gescrapte Workshop-Daten:\n",
      "                              Workshop Name  Workshop Date Workshop Price  \\\n",
      "0                     Aerial Loops Workshop   Jan13Samstag     ab 35,00 €   \n",
      "1               Handstands on Pole Workshop   Jan20Samstag     ab 35,00 €   \n",
      "2                    How to invert Workshop   Jan20Samstag     ab 35,00 €   \n",
      "3  Rock Hard Style High Heels Pole Workshop   Feb04Sonntag     ab 35,00 €   \n",
      "4              Hip Hop Pole Choreo Workshop  März16Samstag     ab 35,00 €   \n",
      "\n",
      "  Workshop Units Workshop Studio                           Workshop Address  \n",
      "0      1 Einheit     poda Studio  10-12 Martinstraße Innenhof, 52062 Aachen  \n",
      "1      1 Einheit     poda Studio  10-12 Martinstraße Innenhof, 52062 Aachen  \n",
      "2      1 Einheit     poda Studio  10-12 Martinstraße Innenhof, 52062 Aachen  \n",
      "3      1 Einheit     poda Studio  10-12 Martinstraße Innenhof, 52062 Aachen  \n",
      "4      1 Einheit     poda Studio  10-12 Martinstraße Innenhof, 52062 Aachen  \n"
     ]
    }
   ],
   "source": [
    "import requests\n",
    "from bs4 import BeautifulSoup\n",
    "import pandas as pd\n",
    "import logging\n",
    "\n",
    "# Konfiguration des Logging-Systems\n",
    "logging.basicConfig(level=logging.INFO, format='%(asctime)s - %(levelname)s - %(message)s')\n",
    "\n",
    "BASE_URL = \"https://www.eversports.de\"\n",
    "\n",
    "def scrape_workshops(url):\n",
    "    \"\"\"\n",
    "    Scraped Workshop-Informationen von einer gegebenen URL.\n",
    "    \"\"\"\n",
    "    try:\n",
    "        response = requests.get(url)\n",
    "        response.raise_for_status()\n",
    "    except requests.RequestException as e:\n",
    "        logging.error(f\"Fehler beim Abrufen der Webseite {url}: {e}\")\n",
    "        return None\n",
    "\n",
    "    soup = BeautifulSoup(response.content, 'html.parser')\n",
    "    workshop_data = {\n",
    "        'Workshop Name': [],\n",
    "        'Workshop Date': [],\n",
    "        'Workshop Price': [],\n",
    "        'Workshop Units': [],\n",
    "        'Workshop Studio': [],\n",
    "        'Workshop Address': [],\n",
    "        'Workshop Href': []\n",
    "    }\n",
    "\n",
    "    workshop_elements = soup.find_all('a', class_='marketplace-tile js_marketplace-tile')\n",
    "    for workshop in workshop_elements:\n",
    "        workshop_data['Workshop Name'].append(workshop.find('h4').text)\n",
    "        workshop_data['Workshop Date'].append(workshop.find('div', class_='marketplace-tile__date').text)\n",
    "        workshop_data['Workshop Price'].append(workshop.find('div', class_='marketplace-tile__price').text)\n",
    "        workshop_data['Workshop Units'].append(workshop.find('small', class_='u-text-bold').text)\n",
    "        \n",
    "        workshop_content = workshop.find('div', class_='marketplace-tile__content__bottom').find_all('small')\n",
    "        workshop_data['Workshop Studio'].append(workshop_content[0].text)\n",
    "        workshop_data['Workshop Address'].append(workshop_content[1].text)\n",
    "        \n",
    "        workshop_data['Workshop Href'].append(BASE_URL + workshop['href'])\n",
    "\n",
    "    workshoplist_df = pd.DataFrame(workshop_data)\n",
    "    workshoplist_df.drop(columns=['Workshop Href'], inplace=True)\n",
    "\n",
    "    return workshoplist_df\n",
    "\n",
    "if __name__ == \"__main__\":\n",
    "    test_url = \"https://www.eversports.de/sw/poda-studio\"\n",
    "    df = scrape_workshops(test_url)\n",
    "    if df is not None:\n",
    "        logging.info(f\"Gescrapte Workshop-Daten:\\n{df}\")\n",
    "    else:\n",
    "        logging.info(\"Keine Daten gescraped.\")\n"
   ]
  },
  {
   "cell_type": "code",
   "execution_count": null,
   "metadata": {},
   "outputs": [],
   "source": []
  }
 ],
 "metadata": {
  "kernelspec": {
   "display_name": "Python 3",
   "language": "python",
   "name": "python3"
  },
  "language_info": {
   "codemirror_mode": {
    "name": "ipython",
    "version": 3
   },
   "file_extension": ".py",
   "mimetype": "text/x-python",
   "name": "python",
   "nbconvert_exporter": "python",
   "pygments_lexer": "ipython3",
   "version": "3.12.1"
  }
 },
 "nbformat": 4,
 "nbformat_minor": 2
}
