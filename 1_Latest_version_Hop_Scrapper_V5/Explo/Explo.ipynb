{
 "cells": [
  {
   "cell_type": "code",
   "execution_count": 1,
   "metadata": {},
   "outputs": [],
   "source": [
    "import pandas as pd"
   ]
  },
  {
   "cell_type": "code",
   "execution_count": 2,
   "metadata": {},
   "outputs": [],
   "source": [
    "events_1 = pd.read_csv(\"Events (1).csv\")\n",
    "events_2 = pd.read_csv(\"Events.csv\")\n",
    "polestudios_1 = pd.read_csv(\"Pole Studios.csv\")\n",
    "polestudios_2 = pd.read_csv(\"Pole Studios (1).csv\")"
   ]
  },
  {
   "cell_type": "code",
   "execution_count": 3,
   "metadata": {},
   "outputs": [
    {
     "data": {
      "text/html": [
       "<div>\n",
       "<style scoped>\n",
       "    .dataframe tbody tr th:only-of-type {\n",
       "        vertical-align: middle;\n",
       "    }\n",
       "\n",
       "    .dataframe tbody tr th {\n",
       "        vertical-align: top;\n",
       "    }\n",
       "\n",
       "    .dataframe thead th {\n",
       "        text-align: right;\n",
       "    }\n",
       "</style>\n",
       "<table border=\"1\" class=\"dataframe\">\n",
       "  <thead>\n",
       "    <tr style=\"text-align: right;\">\n",
       "      <th></th>\n",
       "      <th>Pole Studio</th>\n",
       "      <th>Stadt</th>\n",
       "      <th>Land</th>\n",
       "      <th>Adresse</th>\n",
       "      <th>PLZ</th>\n",
       "      <th>Telefonnummer</th>\n",
       "      <th>E-Mail-Adresse</th>\n",
       "      <th>Webseite</th>\n",
       "      <th>Facebook</th>\n",
       "      <th>Instagram</th>\n",
       "      <th>...</th>\n",
       "      <th>Beschreibung</th>\n",
       "      <th>Aktualisiert am</th>\n",
       "      <th>Eigentümer</th>\n",
       "      <th>Erstellt am</th>\n",
       "      <th>Bildergalerie</th>\n",
       "      <th>Richtigkeit der Angaben</th>\n",
       "      <th>Pole Studios (Pole Studio)</th>\n",
       "      <th>Online Studios (Pole Studio)</th>\n",
       "      <th>Inaktiv</th>\n",
       "      <th>Löschvermerk</th>\n",
       "    </tr>\n",
       "  </thead>\n",
       "  <tbody>\n",
       "  </tbody>\n",
       "</table>\n",
       "<p>0 rows × 23 columns</p>\n",
       "</div>"
      ],
      "text/plain": [
       "Empty DataFrame\n",
       "Columns: [Pole Studio, Stadt, Land, Adresse, PLZ, Telefonnummer, E-Mail-Adresse, Webseite, Facebook, Instagram, Art, ID, Angebot, Beschreibung, Aktualisiert am, Eigentümer, Erstellt am, Bildergalerie, Richtigkeit der Angaben, Pole Studios (Pole Studio), Online Studios (Pole Studio), Inaktiv, Löschvermerk]\n",
       "Index: []\n",
       "\n",
       "[0 rows x 23 columns]"
      ]
     },
     "execution_count": 3,
     "metadata": {},
     "output_type": "execute_result"
    }
   ],
   "source": [
    "polestudios_1"
   ]
  },
  {
   "cell_type": "code",
   "execution_count": 4,
   "metadata": {},
   "outputs": [
    {
     "data": {
      "text/plain": [
       "Index(['Pole Studio', 'Stadt', 'Land', 'Adresse', 'PLZ', 'Telefonnummer',\n",
       "       'E-Mail-Adresse', 'Webseite', 'Facebook', 'Instagram', 'Art', 'ID',\n",
       "       'Angebot', 'Beschreibung', 'Aktualisiert am', 'Eigentümer',\n",
       "       'Erstellt am', 'Bildergalerie', 'Richtigkeit der Angaben',\n",
       "       'Pole Studios (Pole Studio)', 'Online Studios (Pole Studio)', 'Inaktiv',\n",
       "       'Löschvermerk'],\n",
       "      dtype='object')"
      ]
     },
     "execution_count": 4,
     "metadata": {},
     "output_type": "execute_result"
    }
   ],
   "source": [
    "polestudios_1.columns"
   ]
  },
  {
   "cell_type": "code",
   "execution_count": 12,
   "metadata": {},
   "outputs": [
    {
     "data": {
      "text/plain": [
       "0          /polestudio/seemannsbraut-poledance-flensburg\n",
       "1      /polestudio/tsg-blau-gold-ballett--und-pole-da...\n",
       "2                  /polestudio/pole-stars-osnabr%C3%BCck\n",
       "3                          /polestudio/aerial-art-studio\n",
       "4                             /polestudio/k%C3%B6rpernah\n",
       "                             ...                        \n",
       "306                           /polestudio/monopole-dance\n",
       "307                      /polestudio/polefitness-leipzig\n",
       "308                                /polestudio/souldance\n",
       "309    /polestudio/pole-heroes-pole-%26aerial-dance-s...\n",
       "310                         /polestudio/one8dance-studio\n",
       "Name: Pole Studios (Pole Studio), Length: 311, dtype: object"
      ]
     },
     "execution_count": 12,
     "metadata": {},
     "output_type": "execute_result"
    }
   ],
   "source": [
    "url_part_ = polestudios_2[\"Pole Studios (Pole Studio)\"]\n",
    "url_part_"
   ]
  },
  {
   "cell_type": "code",
   "execution_count": 13,
   "metadata": {},
   "outputs": [
    {
     "name": "stdout",
     "output_type": "stream",
     "text": [
      "                            Pole Studios (Pole Studio)  \\\n",
      "0        /polestudio/seemannsbraut-poledance-flensburg   \n",
      "1    /polestudio/tsg-blau-gold-ballett--und-pole-da...   \n",
      "2                /polestudio/pole-stars-osnabr%C3%BCck   \n",
      "3                        /polestudio/aerial-art-studio   \n",
      "4                           /polestudio/k%C3%B6rpernah   \n",
      "..                                                 ...   \n",
      "306                         /polestudio/monopole-dance   \n",
      "307                    /polestudio/polefitness-leipzig   \n",
      "308                              /polestudio/souldance   \n",
      "309  /polestudio/pole-heroes-pole-%26aerial-dance-s...   \n",
      "310                       /polestudio/one8dance-studio   \n",
      "\n",
      "                                              Full URL  \n",
      "0    https://www.eversports.de/s/seemannsbraut-pole...  \n",
      "1    https://www.eversports.de/s/tsg-blau-gold-ball...  \n",
      "2    https://www.eversports.de/s/pole-stars-osnabr%...  \n",
      "3        https://www.eversports.de/s/aerial-art-studio  \n",
      "4           https://www.eversports.de/s/k%C3%B6rpernah  \n",
      "..                                                 ...  \n",
      "306         https://www.eversports.de/s/monopole-dance  \n",
      "307    https://www.eversports.de/s/polefitness-leipzig  \n",
      "308              https://www.eversports.de/s/souldance  \n",
      "309  https://www.eversports.de/s/pole-heroes-pole-%...  \n",
      "310       https://www.eversports.de/s/one8dance-studio  \n",
      "\n",
      "[311 rows x 2 columns]\n"
     ]
    }
   ],
   "source": [
    "# Basis-URL definieren\n",
    "base_url = \"https://www.eversports.de/s/\"\n",
    "\n",
    "# Entfernen des \"/polestudio/\"-Teils und Zusammenfügen mit der Basis-URL\n",
    "polestudios_2[\"Full URL\"] = polestudios_2[\"Pole Studios (Pole Studio)\"].apply(lambda x: base_url + x.split(\"/polestudio/\")[-1])\n",
    "\n",
    "# Anzeigen der Ergebnisse\n",
    "print(polestudios_2[[\"Pole Studios (Pole Studio)\", \"Full URL\"]])"
   ]
  },
  {
   "cell_type": "code",
   "execution_count": 16,
   "metadata": {},
   "outputs": [],
   "source": [
    "urls_didi = polestudios_2[\"Full URL\"]\n",
    "urls_didi\n",
    "\n",
    "urls_didi.to_csv(\"didi_url_s_23.12.23.csv\")"
   ]
  },
  {
   "cell_type": "code",
   "execution_count": 6,
   "metadata": {},
   "outputs": [
    {
     "data": {
      "text/plain": [
       "Index(['Pole Studio', 'Stadt', 'Land', 'Adresse', 'PLZ', 'Telefonnummer',\n",
       "       'E-Mail-Adresse', 'Webseite', 'Facebook', 'Instagram', 'Art', 'ID',\n",
       "       'Angebot', 'Beschreibung', 'Updated Date', 'Owner', 'Created Date',\n",
       "       'Bildergalerie', 'Richtigkeit der Angaben',\n",
       "       'Pole Studios (Pole Studio)', 'Online Studios (Pole Studio)', 'Inaktiv',\n",
       "       'Löschvermerk'],\n",
       "      dtype='object')"
      ]
     },
     "execution_count": 6,
     "metadata": {},
     "output_type": "execute_result"
    }
   ],
   "source": [
    "polestudios_2.columns"
   ]
  },
  {
   "cell_type": "code",
   "execution_count": 7,
   "metadata": {},
   "outputs": [
    {
     "data": {
      "text/html": [
       "<div>\n",
       "<style scoped>\n",
       "    .dataframe tbody tr th:only-of-type {\n",
       "        vertical-align: middle;\n",
       "    }\n",
       "\n",
       "    .dataframe tbody tr th {\n",
       "        vertical-align: top;\n",
       "    }\n",
       "\n",
       "    .dataframe thead th {\n",
       "        text-align: right;\n",
       "    }\n",
       "</style>\n",
       "<table border=\"1\" class=\"dataframe\">\n",
       "  <thead>\n",
       "    <tr style=\"text-align: right;\">\n",
       "      <th></th>\n",
       "      <th>Name</th>\n",
       "      <th>Art</th>\n",
       "      <th>Inaktiv</th>\n",
       "      <th>Datum</th>\n",
       "      <th>Eigentümer</th>\n",
       "      <th>Webseite</th>\n",
       "      <th>Uhrzeit</th>\n",
       "      <th>Enddatum</th>\n",
       "      <th>Level</th>\n",
       "      <th>Preis</th>\n",
       "      <th>...</th>\n",
       "      <th>Löschvermerk</th>\n",
       "      <th>ID</th>\n",
       "      <th>Aktualisiert am</th>\n",
       "      <th>Trainerbeschreibung</th>\n",
       "      <th>Trainerbild</th>\n",
       "      <th>Richtigkeit der Angaben</th>\n",
       "      <th>Bilder inkludiert</th>\n",
       "      <th>Kosten pro Bild</th>\n",
       "      <th>Events (All)</th>\n",
       "      <th>Events (Name)</th>\n",
       "    </tr>\n",
       "  </thead>\n",
       "  <tbody>\n",
       "  </tbody>\n",
       "</table>\n",
       "<p>0 rows × 34 columns</p>\n",
       "</div>"
      ],
      "text/plain": [
       "Empty DataFrame\n",
       "Columns: [Name, Art, Inaktiv, Datum, Eigentümer, Webseite, Uhrzeit, Enddatum, Level, Preis, Dauer, Kategorie, Beschreibung, Trainer, Anbieter, Pole Studio, Stadt, Land, Kurzbeschreibung, Schwerpunkte, Titelbild, Portfolio, Favoriten, Erstellt am, Löschvermerk, ID, Aktualisiert am, Trainerbeschreibung, Trainerbild, Richtigkeit der Angaben, Bilder inkludiert, Kosten pro Bild, Events (All), Events (Name)]\n",
       "Index: []\n",
       "\n",
       "[0 rows x 34 columns]"
      ]
     },
     "execution_count": 7,
     "metadata": {},
     "output_type": "execute_result"
    }
   ],
   "source": [
    "events_1[:4]"
   ]
  },
  {
   "cell_type": "code",
   "execution_count": 8,
   "metadata": {},
   "outputs": [
    {
     "data": {
      "text/plain": [
       "Index(['Name', 'Art', 'Inaktiv', 'Datum', 'Eigentümer', 'Webseite', 'Uhrzeit',\n",
       "       'Enddatum', 'Level', 'Preis', 'Dauer', 'Kategorie', 'Beschreibung',\n",
       "       'Trainer', 'Anbieter', 'Pole Studio', 'Stadt', 'Land',\n",
       "       'Kurzbeschreibung', 'Schwerpunkte', 'Titelbild', 'Portfolio',\n",
       "       'Favoriten', 'Erstellt am', 'Löschvermerk', 'ID', 'Aktualisiert am',\n",
       "       'Trainerbeschreibung', 'Trainerbild', 'Richtigkeit der Angaben',\n",
       "       'Bilder inkludiert', 'Kosten pro Bild', 'Events (All)',\n",
       "       'Events (Name)'],\n",
       "      dtype='object')"
      ]
     },
     "execution_count": 8,
     "metadata": {},
     "output_type": "execute_result"
    }
   ],
   "source": [
    "events_1.columns"
   ]
  },
  {
   "cell_type": "code",
   "execution_count": 9,
   "metadata": {},
   "outputs": [
    {
     "data": {
      "text/html": [
       "<div>\n",
       "<style scoped>\n",
       "    .dataframe tbody tr th:only-of-type {\n",
       "        vertical-align: middle;\n",
       "    }\n",
       "\n",
       "    .dataframe tbody tr th {\n",
       "        vertical-align: top;\n",
       "    }\n",
       "\n",
       "    .dataframe thead th {\n",
       "        text-align: right;\n",
       "    }\n",
       "</style>\n",
       "<table border=\"1\" class=\"dataframe\">\n",
       "  <thead>\n",
       "    <tr style=\"text-align: right;\">\n",
       "      <th></th>\n",
       "      <th>Name</th>\n",
       "      <th>Art</th>\n",
       "      <th>Inaktiv</th>\n",
       "      <th>Datum</th>\n",
       "      <th>Owner</th>\n",
       "      <th>Webseite</th>\n",
       "      <th>Uhrzeit</th>\n",
       "      <th>Enddatum</th>\n",
       "      <th>Level</th>\n",
       "      <th>Preis</th>\n",
       "      <th>...</th>\n",
       "      <th>Löschvermerk</th>\n",
       "      <th>ID</th>\n",
       "      <th>Updated Date</th>\n",
       "      <th>Trainerbeschreibung</th>\n",
       "      <th>Trainerbild</th>\n",
       "      <th>Richtigkeit der Angaben</th>\n",
       "      <th>Bilder inkludiert</th>\n",
       "      <th>Kosten pro Bild</th>\n",
       "      <th>Events (All)</th>\n",
       "      <th>Events (Name)</th>\n",
       "    </tr>\n",
       "  </thead>\n",
       "  <tbody>\n",
       "    <tr>\n",
       "      <th>0</th>\n",
       "      <td>pulse pole dance camp</td>\n",
       "      <td>Pole Camp</td>\n",
       "      <td>True</td>\n",
       "      <td>2023-12-16</td>\n",
       "      <td>284241e1-0e53-4183-b67f-34edcfb7c8b1</td>\n",
       "      <td>https://pulse-champ.ru/</td>\n",
       "      <td>NaN</td>\n",
       "      <td>NaN</td>\n",
       "      <td>Alle Level</td>\n",
       "      <td>NaN</td>\n",
       "      <td>...</td>\n",
       "      <td>NaN</td>\n",
       "      <td>000e3c0f-5c12-49dc-a94e-c2134f82d52f</td>\n",
       "      <td>2023-09-22T08:48:49Z</td>\n",
       "      <td>NaN</td>\n",
       "      <td>NaN</td>\n",
       "      <td>NaN</td>\n",
       "      <td>NaN</td>\n",
       "      <td>NaN</td>\n",
       "      <td>/workshop/</td>\n",
       "      <td>/event/pulse-pole-dance-camp</td>\n",
       "    </tr>\n",
       "    <tr>\n",
       "      <th>1</th>\n",
       "      <td>Floorwork Stripperstyle (all level)</td>\n",
       "      <td>Workshop</td>\n",
       "      <td>NaN</td>\n",
       "      <td>2024-01-27</td>\n",
       "      <td>284241e1-0e53-4183-b67f-34edcfb7c8b1</td>\n",
       "      <td>https://www.eversports.de/e/workshop/kP5QagX</td>\n",
       "      <td>16:30 - 17:45 Uhr</td>\n",
       "      <td>NaN</td>\n",
       "      <td>Alle Level</td>\n",
       "      <td>ab 55,00 €</td>\n",
       "      <td>...</td>\n",
       "      <td>NaN</td>\n",
       "      <td>0121b4d1-cda0-4a1e-9124-dc98e5ca73f7</td>\n",
       "      <td>2023-11-01T14:02:04Z</td>\n",
       "      <td>NaN</td>\n",
       "      <td>NaN</td>\n",
       "      <td>NaN</td>\n",
       "      <td>NaN</td>\n",
       "      <td>NaN</td>\n",
       "      <td>/workshop/</td>\n",
       "      <td>/event/floorwork-stripperstyle-(all-level)</td>\n",
       "    </tr>\n",
       "    <tr>\n",
       "      <th>2</th>\n",
       "      <td>Pole Dance Camp - Tenerife January</td>\n",
       "      <td>Pole Camp</td>\n",
       "      <td>NaN</td>\n",
       "      <td>2024-01-21</td>\n",
       "      <td>284241e1-0e53-4183-b67f-34edcfb7c8b1</td>\n",
       "      <td>https://www.facebook.com/events/941235323981022/</td>\n",
       "      <td>NaN</td>\n",
       "      <td>2024-01-28</td>\n",
       "      <td>NaN</td>\n",
       "      <td>ab £600</td>\n",
       "      <td>...</td>\n",
       "      <td>NaN</td>\n",
       "      <td>01947b9c-0f24-4a6a-b636-10d1e0fd2b39</td>\n",
       "      <td>2023-05-23T09:32:04Z</td>\n",
       "      <td>NaN</td>\n",
       "      <td>NaN</td>\n",
       "      <td>NaN</td>\n",
       "      <td>NaN</td>\n",
       "      <td>NaN</td>\n",
       "      <td>/workshop/</td>\n",
       "      <td>/event/pole-dance-camp---tenerife-january</td>\n",
       "    </tr>\n",
       "    <tr>\n",
       "      <th>3</th>\n",
       "      <td>Christmas Cup</td>\n",
       "      <td>Wettkampf</td>\n",
       "      <td>NaN</td>\n",
       "      <td>2024-11-23</td>\n",
       "      <td>284241e1-0e53-4183-b67f-34edcfb7c8b1</td>\n",
       "      <td>https://rockthestage.eu/2024-2/</td>\n",
       "      <td>NaN</td>\n",
       "      <td>2024-11-23</td>\n",
       "      <td>NaN</td>\n",
       "      <td>NaN</td>\n",
       "      <td>...</td>\n",
       "      <td>NaN</td>\n",
       "      <td>01e5f52c-e068-4f4e-8c32-3443bb59d765</td>\n",
       "      <td>2023-08-30T15:29:23Z</td>\n",
       "      <td>NaN</td>\n",
       "      <td>NaN</td>\n",
       "      <td>NaN</td>\n",
       "      <td>NaN</td>\n",
       "      <td>NaN</td>\n",
       "      <td>/workshop/</td>\n",
       "      <td>/event/christmas-cup</td>\n",
       "    </tr>\n",
       "  </tbody>\n",
       "</table>\n",
       "<p>4 rows × 34 columns</p>\n",
       "</div>"
      ],
      "text/plain": [
       "                                  Name        Art Inaktiv       Datum  \\\n",
       "0                pulse pole dance camp  Pole Camp    True  2023-12-16   \n",
       "1  Floorwork Stripperstyle (all level)   Workshop     NaN  2024-01-27   \n",
       "2   Pole Dance Camp - Tenerife January  Pole Camp     NaN  2024-01-21   \n",
       "3                        Christmas Cup  Wettkampf     NaN  2024-11-23   \n",
       "\n",
       "                                  Owner  \\\n",
       "0  284241e1-0e53-4183-b67f-34edcfb7c8b1   \n",
       "1  284241e1-0e53-4183-b67f-34edcfb7c8b1   \n",
       "2  284241e1-0e53-4183-b67f-34edcfb7c8b1   \n",
       "3  284241e1-0e53-4183-b67f-34edcfb7c8b1   \n",
       "\n",
       "                                           Webseite            Uhrzeit  \\\n",
       "0                           https://pulse-champ.ru/                NaN   \n",
       "1      https://www.eversports.de/e/workshop/kP5QagX  16:30 - 17:45 Uhr   \n",
       "2  https://www.facebook.com/events/941235323981022/                NaN   \n",
       "3                   https://rockthestage.eu/2024-2/                NaN   \n",
       "\n",
       "     Enddatum       Level       Preis  ... Löschvermerk  \\\n",
       "0         NaN  Alle Level         NaN  ...          NaN   \n",
       "1         NaN  Alle Level  ab 55,00 €  ...          NaN   \n",
       "2  2024-01-28         NaN     ab £600  ...          NaN   \n",
       "3  2024-11-23         NaN         NaN  ...          NaN   \n",
       "\n",
       "                                     ID          Updated Date  \\\n",
       "0  000e3c0f-5c12-49dc-a94e-c2134f82d52f  2023-09-22T08:48:49Z   \n",
       "1  0121b4d1-cda0-4a1e-9124-dc98e5ca73f7  2023-11-01T14:02:04Z   \n",
       "2  01947b9c-0f24-4a6a-b636-10d1e0fd2b39  2023-05-23T09:32:04Z   \n",
       "3  01e5f52c-e068-4f4e-8c32-3443bb59d765  2023-08-30T15:29:23Z   \n",
       "\n",
       "  Trainerbeschreibung Trainerbild Richtigkeit der Angaben Bilder inkludiert  \\\n",
       "0                 NaN         NaN                     NaN               NaN   \n",
       "1                 NaN         NaN                     NaN               NaN   \n",
       "2                 NaN         NaN                     NaN               NaN   \n",
       "3                 NaN         NaN                     NaN               NaN   \n",
       "\n",
       "  Kosten pro Bild Events (All)                               Events (Name)  \n",
       "0             NaN   /workshop/                /event/pulse-pole-dance-camp  \n",
       "1             NaN   /workshop/  /event/floorwork-stripperstyle-(all-level)  \n",
       "2             NaN   /workshop/   /event/pole-dance-camp---tenerife-january  \n",
       "3             NaN   /workshop/                        /event/christmas-cup  \n",
       "\n",
       "[4 rows x 34 columns]"
      ]
     },
     "execution_count": 9,
     "metadata": {},
     "output_type": "execute_result"
    }
   ],
   "source": [
    "events_2[:4]"
   ]
  },
  {
   "cell_type": "code",
   "execution_count": 10,
   "metadata": {},
   "outputs": [
    {
     "data": {
      "text/plain": [
       "Index(['Name', 'Art', 'Inaktiv', 'Datum', 'Owner', 'Webseite', 'Uhrzeit',\n",
       "       'Enddatum', 'Level', 'Preis', 'Dauer', 'Kategorie', 'Beschreibung',\n",
       "       'Trainer', 'Anbieter', 'Pole Studio', 'Stadt', 'Land',\n",
       "       'Kurzbeschreibung', 'Schwerpunkte', 'Titelbild', 'Portfolio',\n",
       "       'Favoriten', 'Created Date', 'Löschvermerk', 'ID', 'Updated Date',\n",
       "       'Trainerbeschreibung', 'Trainerbild', 'Richtigkeit der Angaben',\n",
       "       'Bilder inkludiert', 'Kosten pro Bild', 'Events (All)',\n",
       "       'Events (Name)'],\n",
       "      dtype='object')"
      ]
     },
     "execution_count": 10,
     "metadata": {},
     "output_type": "execute_result"
    }
   ],
   "source": [
    "events_2.columns"
   ]
  },
  {
   "cell_type": "code",
   "execution_count": null,
   "metadata": {},
   "outputs": [],
   "source": []
  }
 ],
 "metadata": {
  "kernelspec": {
   "display_name": ".venv",
   "language": "python",
   "name": "python3"
  },
  "language_info": {
   "codemirror_mode": {
    "name": "ipython",
    "version": 3
   },
   "file_extension": ".py",
   "mimetype": "text/x-python",
   "name": "python",
   "nbconvert_exporter": "python",
   "pygments_lexer": "ipython3",
   "version": "3.12.1"
  }
 },
 "nbformat": 4,
 "nbformat_minor": 2
}
