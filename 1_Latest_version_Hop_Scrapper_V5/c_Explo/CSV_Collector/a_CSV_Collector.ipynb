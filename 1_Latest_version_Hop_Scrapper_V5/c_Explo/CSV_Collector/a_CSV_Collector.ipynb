{
 "cells": [
  {
   "cell_type": "code",
   "execution_count": 16,
   "metadata": {},
   "outputs": [
    {
     "name": "stdout",
     "output_type": "stream",
     "text": [
      "Processing file: C:\\Users\\hamud\\Documents\\GitHub\\1_Latest_version_Hop_Scrapper_V5\\Explo\\CSV_Collector\\1_PoleStudio_Overview_Didi_2023-05-03_01-18.csv\n",
      "Processing file: C:\\Users\\hamud\\Documents\\GitHub\\1_Latest_version_Hop_Scrapper_V5\\Explo\\CSV_Collector\\1_PoleStudio_Overview_Didi_2023-05-03_19-32.csv\n",
      "Processing file: C:\\Users\\hamud\\Documents\\GitHub\\1_Latest_version_Hop_Scrapper_V5\\Explo\\CSV_Collector\\1_PoleStudio_Overview_Didi_2023-05-05_16-01.csv\n",
      "Processing file: C:\\Users\\hamud\\Documents\\GitHub\\1_Latest_version_Hop_Scrapper_V5\\Explo\\CSV_Collector\\1_PoleStudio_Overview_Didi_2023-05-06_13-24.csv\n",
      "Processing file: C:\\Users\\hamud\\Documents\\GitHub\\1_Latest_version_Hop_Scrapper_V5\\Explo\\CSV_Collector\\1_PoleStudio_Overview_Didi_2023-05-06_21-48.csv\n",
      "Processing file: C:\\Users\\hamud\\Documents\\GitHub\\1_Latest_version_Hop_Scrapper_V5\\Explo\\CSV_Collector\\1_PoleStudio_Overview_Didi_2023-05-07_13-43.csv\n",
      "Processing file: C:\\Users\\hamud\\Documents\\GitHub\\1_Latest_version_Hop_Scrapper_V5\\Explo\\CSV_Collector\\1_PoleStudio_Overview_Didi_2023-05-07_20-58.csv\n",
      "Processing file: C:\\Users\\hamud\\Documents\\GitHub\\1_Latest_version_Hop_Scrapper_V5\\Explo\\CSV_Collector\\1_PoleStudio_Overview_Didi_2023-05-08_19-10.csv\n",
      "Processing file: C:\\Users\\hamud\\Documents\\GitHub\\1_Latest_version_Hop_Scrapper_V5\\Explo\\CSV_Collector\\1_PoleStudio_Overview_Didi_2023-05-10_20-18.csv\n",
      "Processing file: C:\\Users\\hamud\\Documents\\GitHub\\1_Latest_version_Hop_Scrapper_V5\\Explo\\CSV_Collector\\1_PoleStudio_Overview_Didi_2023-05-12_13-18.csv\n",
      "Processing file: C:\\Users\\hamud\\Documents\\GitHub\\1_Latest_version_Hop_Scrapper_V5\\Explo\\CSV_Collector\\1_PoleStudio_Overview_Didi_2023-05-12_15-23.csv\n",
      "Processing file: C:\\Users\\hamud\\Documents\\GitHub\\1_Latest_version_Hop_Scrapper_V5\\Explo\\CSV_Collector\\1_PoleStudio_Overview_Didi_2023-05-12_15-57.csv\n",
      "Processing file: C:\\Users\\hamud\\Documents\\GitHub\\1_Latest_version_Hop_Scrapper_V5\\Explo\\CSV_Collector\\1_PoleStudio_Overview_Didi_2023-05-12_20-51_P2.csv\n",
      "Processing file: C:\\Users\\hamud\\Documents\\GitHub\\1_Latest_version_Hop_Scrapper_V5\\Explo\\CSV_Collector\\1_PoleStudio_Overview_Didi_2023-05-13_12-59.csv\n",
      "Processing file: C:\\Users\\hamud\\Documents\\GitHub\\1_Latest_version_Hop_Scrapper_V5\\Explo\\CSV_Collector\\1_PoleStudio_Overview_Didi_2023-05-13_13-07.csv\n",
      "Processing file: C:\\Users\\hamud\\Documents\\GitHub\\1_Latest_version_Hop_Scrapper_V5\\Explo\\CSV_Collector\\1_PoleStudio_Overview_Didi_2023-05-13_19-29.csv\n",
      "Processing file: C:\\Users\\hamud\\Documents\\GitHub\\1_Latest_version_Hop_Scrapper_V5\\Explo\\CSV_Collector\\1_PoleStudio_Overview_Didi_2023-05-14_16-52.csv\n",
      "Processing file: C:\\Users\\hamud\\Documents\\GitHub\\1_Latest_version_Hop_Scrapper_V5\\Explo\\CSV_Collector\\1_PoleStudio_Overview_Didi_2023-05-15_22-38.csv\n",
      "Processing file: C:\\Users\\hamud\\Documents\\GitHub\\1_Latest_version_Hop_Scrapper_V5\\Explo\\CSV_Collector\\1_PoleStudio_Overview_Didi_2023-05-16_20-19.csv\n",
      "Processing file: C:\\Users\\hamud\\Documents\\GitHub\\1_Latest_version_Hop_Scrapper_V5\\Explo\\CSV_Collector\\1_PoleStudio_Overview_Didi_2023-06-03_22-04.csv\n",
      "Processing file: C:\\Users\\hamud\\Documents\\GitHub\\1_Latest_version_Hop_Scrapper_V5\\Explo\\CSV_Collector\\1_PoleStudio_Overview_Didi_2023-06-03_22-14.csv\n",
      "Processing file: C:\\Users\\hamud\\Documents\\GitHub\\1_Latest_version_Hop_Scrapper_V5\\Explo\\CSV_Collector\\1_PoleStudio_Overview_Didi_2023-06-05_13-19.csv\n",
      "Processing file: C:\\Users\\hamud\\Documents\\GitHub\\1_Latest_version_Hop_Scrapper_V5\\Explo\\CSV_Collector\\1_Workshop_Overview_Didi_e_2023-05-05_17-54.csv\n",
      "Processing file: C:\\Users\\hamud\\Documents\\GitHub\\1_Latest_version_Hop_Scrapper_V5\\Explo\\CSV_Collector\\1_Workshop_Overview_Didi_e_2023-05-12_15-23.csv\n",
      "Processing file: C:\\Users\\hamud\\Documents\\GitHub\\1_Latest_version_Hop_Scrapper_V5\\Explo\\CSV_Collector\\1_Workshop_Overview_Didi_e_2023-05-13_19-29.csv\n",
      "Processing file: C:\\Users\\hamud\\Documents\\GitHub\\1_Latest_version_Hop_Scrapper_V5\\Explo\\CSV_Collector\\all_pole_studios_germany_&_Didi_valid_urls.csv\n",
      "Processing file: C:\\Users\\hamud\\Documents\\GitHub\\1_Latest_version_Hop_Scrapper_V5\\Explo\\CSV_Collector\\all_pole_urls_S_ger_didi_mo_handchecked.csv\n",
      "Processing file: C:\\Users\\hamud\\Documents\\GitHub\\1_Latest_version_Hop_Scrapper_V5\\Explo\\CSV_Collector\\all_urls_SW_ger_didi_handchecked.csv\n",
      "Processing file: C:\\Users\\hamud\\Documents\\GitHub\\1_Latest_version_Hop_Scrapper_V5\\Explo\\CSV_Collector\\didi_sorted_urls_S_SW_SK_not_validated.csv\n",
      "Processing file: C:\\Users\\hamud\\Documents\\GitHub\\1_Latest_version_Hop_Scrapper_V5\\Explo\\CSV_Collector\\DWO_URLS_Workshops_2_Valid.csv\n",
      "Processing file: C:\\Users\\hamud\\Documents\\GitHub\\1_Latest_version_Hop_Scrapper_V5\\Explo\\CSV_Collector\\eversports_urls_1.csv\n",
      "Processing file: C:\\Users\\hamud\\Documents\\GitHub\\1_Latest_version_Hop_Scrapper_V5\\Explo\\CSV_Collector\\Kopie von PoleStudio.csv\n",
      "Error processing file C:\\Users\\hamud\\Documents\\GitHub\\1_Latest_version_Hop_Scrapper_V5\\Explo\\CSV_Collector\\Kopie von PoleStudio.csv: 'bool' object has no attribute 'startswith'\n",
      "Processing file: C:\\Users\\hamud\\Documents\\GitHub\\1_Latest_version_Hop_Scrapper_V5\\Explo\\CSV_Collector\\OG_Valid_Urls.csv\n",
      "Processing file: C:\\Users\\hamud\\Documents\\GitHub\\1_Latest_version_Hop_Scrapper_V5\\Explo\\CSV_Collector\\PoleStudio.csv\n",
      "Error processing file C:\\Users\\hamud\\Documents\\GitHub\\1_Latest_version_Hop_Scrapper_V5\\Explo\\CSV_Collector\\PoleStudio.csv: 'bool' object has no attribute 'startswith'\n",
      "Processing file: C:\\Users\\hamud\\Documents\\GitHub\\1_Latest_version_Hop_Scrapper_V5\\Explo\\CSV_Collector\\polestudios.csv\n",
      "Processing file: C:\\Users\\hamud\\Documents\\GitHub\\1_Latest_version_Hop_Scrapper_V5\\Explo\\CSV_Collector\\polestudios_ger_checked_hand_urls.csv\n",
      "Processing file: C:\\Users\\hamud\\Documents\\GitHub\\1_Latest_version_Hop_Scrapper_V5\\Explo\\CSV_Collector\\polestudios_ger_checked_urls.csv\n",
      "Processing file: C:\\Users\\hamud\\Documents\\GitHub\\1_Latest_version_Hop_Scrapper_V5\\Explo\\CSV_Collector\\polestudios_ger_l_Original.csv\n",
      "Processing file: C:\\Users\\hamud\\Documents\\GitHub\\1_Latest_version_Hop_Scrapper_V5\\Explo\\CSV_Collector\\polestudios_ger_unchecked.csv\n",
      "Processing file: C:\\Users\\hamud\\Documents\\GitHub\\1_Latest_version_Hop_Scrapper_V5\\Explo\\CSV_Collector\\PoleStudio_Overview_Didi_yo.csv\n",
      "Processing file: C:\\Users\\hamud\\Documents\\GitHub\\1_Latest_version_Hop_Scrapper_V5\\Explo\\CSV_Collector\\PoleStudio_Overview_ger_2023-05-12_12-25.csv\n",
      "Processing file: C:\\Users\\hamud\\Documents\\GitHub\\1_Latest_version_Hop_Scrapper_V5\\Explo\\CSV_Collector\\PoleStudio_Overview_ger_2023-05-14_16-53.csv\n",
      "Processing file: C:\\Users\\hamud\\Documents\\GitHub\\1_Latest_version_Hop_Scrapper_V5\\Explo\\CSV_Collector\\pole_studios_ger_not_validated_L.csv\n",
      "Processing file: C:\\Users\\hamud\\Documents\\GitHub\\1_Latest_version_Hop_Scrapper_V5\\Explo\\CSV_Collector\\pole_studios_ger_not_validated_L_2.csv\n",
      "Processing file: C:\\Users\\hamud\\Documents\\GitHub\\1_Latest_version_Hop_Scrapper_V5\\Explo\\CSV_Collector\\pole_studios_ger_not_validated_L_S_DWO.csv\n",
      "Processing file: C:\\Users\\hamud\\Documents\\GitHub\\1_Latest_version_Hop_Scrapper_V5\\Explo\\CSV_Collector\\pole_studios_ger_validated_urls_SW_handchecked.csv\n",
      "Processing file: C:\\Users\\hamud\\Documents\\GitHub\\1_Latest_version_Hop_Scrapper_V5\\Explo\\CSV_Collector\\pole_studios_ger_validated_urls_S_handchecked.csv\n",
      "Processing file: C:\\Users\\hamud\\Documents\\GitHub\\1_Latest_version_Hop_Scrapper_V5\\Explo\\CSV_Collector\\pole_studios_ger_validated_urls_S_SW.csv\n",
      "Processing file: C:\\Users\\hamud\\Documents\\GitHub\\1_Latest_version_Hop_Scrapper_V5\\Explo\\CSV_Collector\\Scraper_cities_DWO_S_L.csv\n",
      "Processing file: C:\\Users\\hamud\\Documents\\GitHub\\1_Latest_version_Hop_Scrapper_V5\\Explo\\CSV_Collector\\to_validate_S_polestudios_didi_handchecked_P2.csv\n",
      "Processing file: C:\\Users\\hamud\\Documents\\GitHub\\1_Latest_version_Hop_Scrapper_V5\\Explo\\CSV_Collector\\unique_urls_s_23.12.23.csv\n",
      "Processing file: C:\\Users\\hamud\\Documents\\GitHub\\1_Latest_version_Hop_Scrapper_V5\\Explo\\CSV_Collector\\urls_didi.csv\n",
      "Processing file: C:\\Users\\hamud\\Documents\\GitHub\\1_Latest_version_Hop_Scrapper_V5\\Explo\\CSV_Collector\\Urls_PoleStudios_17_05.csv\n",
      "Processing file: C:\\Users\\hamud\\Documents\\GitHub\\1_Latest_version_Hop_Scrapper_V5\\Explo\\CSV_Collector\\URLS_SCL_Workshops.csv\n",
      "Processing file: C:\\Users\\hamud\\Documents\\GitHub\\1_Latest_version_Hop_Scrapper_V5\\Explo\\CSV_Collector\\validated_polestudios_V2.csv\n",
      "0       https://www.eversports.de/s/pole-faction-pole-...\n",
      "1       https://www.eversports.de/s/pole-dance-palazzo...\n",
      "2            https://www.eversports.de/s/balance-neumarkt\n",
      "3                  https://www.eversports.de/s/aerialflow\n",
      "4       https://www.eversports.de/s/seemannsbraut-pole...\n",
      "                              ...                        \n",
      "7003           https://www.eversports.de/s/Star-Poledance\n",
      "7004    https://www.eversports.de/s/Polemotions-Filder...\n",
      "7005          https://www.eversports.de/s/The-Pole-Jungle\n",
      "7006           https://www.eversports.de/s/Polestructions\n",
      "7007       https://www.eversports.de/s/Pole-Dance-Krefeld\n",
      "Length: 7008, dtype: object\n"
     ]
    }
   ],
   "source": [
    "import os\n",
    "import glob\n",
    "import pandas as pd\n",
    "\n",
    "def find_urls_in_csv(file_path, base_url):\n",
    "    \"\"\"\n",
    "    Reads a CSV file and finds URLs matching a specific pattern.\n",
    "\n",
    "    Args:\n",
    "        file_path (str): The path to the CSV file.\n",
    "        base_url (str): The base URL pattern to search for.\n",
    "\n",
    "    Returns:\n",
    "        list: A list of matching URLs.\n",
    "    \"\"\"\n",
    "    try:\n",
    "        data = pd.read_csv(file_path)\n",
    "        matching_urls = []\n",
    "\n",
    "        for column in data.columns:\n",
    "            if data[column].dtype == object:  # Check if column type is 'object' (string)\n",
    "                urls = data[column].dropna().tolist()  # Get all non-null values\n",
    "                matching_urls.extend([url for url in urls if url.startswith(base_url)])\n",
    "\n",
    "        return matching_urls\n",
    "    except Exception as e:\n",
    "        print(f\"Error processing file {file_path}: {e}\")\n",
    "        return []\n",
    "\n",
    "def process_all_csv_files(directory, base_url):\n",
    "    \"\"\"\n",
    "    Process all CSV files in a directory to find URLs matching a specific pattern.\n",
    "\n",
    "    Args:\n",
    "        directory (str): The directory containing CSV files.\n",
    "        base_url (str): The base URL pattern to search for.\n",
    "\n",
    "    Returns:\n",
    "        pandas.Series: A series containing all matching URLs.\n",
    "    \"\"\"\n",
    "    all_urls = []\n",
    "    for file_path in glob.glob(os.path.join(directory, '*.csv')):\n",
    "        print(f\"Processing file: {file_path}\")\n",
    "        urls = find_urls_in_csv(file_path, base_url)\n",
    "        all_urls.extend(urls)\n",
    "\n",
    "    return pd.Series(all_urls)\n",
    "\n",
    "# Example usage\n",
    "directory_path = r'C:\\Users\\hamud\\Documents\\GitHub\\1_Latest_version_Hop_Scrapper_V5\\Explo\\CSV_Collector'  # Replace with your directory path\n",
    "base_url = 'https://www.eversports.de/s/'\n",
    "all_matching_urls = process_all_csv_files(directory_path, base_url)\n",
    "print(all_matching_urls)\n"
   ]
  },
  {
   "cell_type": "code",
   "execution_count": 17,
   "metadata": {},
   "outputs": [
    {
     "data": {
      "text/plain": [
       "559"
      ]
     },
     "execution_count": 17,
     "metadata": {},
     "output_type": "execute_result"
    }
   ],
   "source": [
    "len(set(all_matching_urls))"
   ]
  },
  {
   "cell_type": "code",
   "execution_count": 18,
   "metadata": {},
   "outputs": [
    {
     "data": {
      "text/plain": [
       "0       https://www.eversports.de/s/pole-faction-pole-...\n",
       "1       https://www.eversports.de/s/pole-dance-palazzo...\n",
       "2            https://www.eversports.de/s/balance-neumarkt\n",
       "3                  https://www.eversports.de/s/aerialflow\n",
       "4       https://www.eversports.de/s/seemannsbraut-pole...\n",
       "                              ...                        \n",
       "7003           https://www.eversports.de/s/Star-Poledance\n",
       "7004    https://www.eversports.de/s/Polemotions-Filder...\n",
       "7005          https://www.eversports.de/s/The-Pole-Jungle\n",
       "7006           https://www.eversports.de/s/Polestructions\n",
       "7007       https://www.eversports.de/s/Pole-Dance-Krefeld\n",
       "Length: 7008, dtype: object"
      ]
     },
     "execution_count": 18,
     "metadata": {},
     "output_type": "execute_result"
    }
   ],
   "source": [
    "all_matching_urls"
   ]
  },
  {
   "cell_type": "code",
   "execution_count": null,
   "metadata": {},
   "outputs": [],
   "source": [
    "all_matching_urls.to_csv(\"all_found_urls_23.12.23.csv\")"
   ]
  }
 ],
 "metadata": {
  "kernelspec": {
   "display_name": "Python 3",
   "language": "python",
   "name": "python3"
  },
  "language_info": {
   "codemirror_mode": {
    "name": "ipython",
    "version": 3
   },
   "file_extension": ".py",
   "mimetype": "text/x-python",
   "name": "python",
   "nbconvert_exporter": "python",
   "pygments_lexer": "ipython3",
   "version": "3.12.1"
  }
 },
 "nbformat": 4,
 "nbformat_minor": 2
}
