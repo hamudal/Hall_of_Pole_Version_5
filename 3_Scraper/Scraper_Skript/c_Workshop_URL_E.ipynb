{
 "cells": [
  {
   "cell_type": "code",
   "execution_count": 2,
   "metadata": {},
   "outputs": [],
   "source": [
    "import os\n",
    "import requests\n",
    "from bs4 import BeautifulSoup\n",
    "import pandas as pd\n",
    "\n",
    "from datetime import datetime"
   ]
  },
  {
   "cell_type": "code",
   "execution_count": 3,
   "metadata": {},
   "outputs": [],
   "source": [
    "url = \"https://www.eversports.de/e/workshop/mT-MZa2\"\n",
    "#url = \"https://www.eversports.de/e/class/AieL128\""
   ]
  },
  {
   "cell_type": "code",
   "execution_count": 4,
   "metadata": {},
   "outputs": [],
   "source": [
    "response = requests.get(url)\n",
    "soup = BeautifulSoup(response.content, 'html.parser')"
   ]
  },
  {
   "cell_type": "code",
   "execution_count": 5,
   "metadata": {},
   "outputs": [],
   "source": [
    "# Find the Workshop Name\n",
    "workshop_name = soup.find('h1', class_='MuiTypography-root MuiTypography-h1 css-1bvkaia').text\n",
    "\n",
    "#Workshop Beschreibung\n",
    "description_div = soup.find('div', class_='css-3awvdx')\n",
    "description = ' '.join([p.text for p in description_div.find_all('p')])\n",
    "description\n",
    "\n",
    "# Find the Studio Name\n",
    "studio_name = soup.find('p', class_='MuiTypography-root MuiTypography-body1 css-z923os').text\n",
    "\n",
    "# Find the Location\n",
    "location = soup.find_all('p', class_='MuiTypography-root MuiTypography-body1 css-bjhn26')\n",
    "location = location[2].text\n",
    "\n",
    "# Find the Level\n",
    "level = soup.find('p', class_='MuiTypography-root MuiTypography-body1 css-ilcg2f').text\n",
    "\n",
    "# Find the Date\n",
    "date = soup.find('p', class_='MuiTypography-root MuiTypography-body1 css-16ai5j1').text\n",
    "\n",
    "time = soup.find('p', class_='MuiTypography-root MuiTypography-body1 css-bjhn26').text\n"
   ]
  },
  {
   "cell_type": "code",
   "execution_count": 6,
   "metadata": {},
   "outputs": [
    {
     "ename": "SyntaxError",
     "evalue": "invalid syntax. Perhaps you forgot a comma? (428989828.py, line 4)",
     "output_type": "error",
     "traceback": [
      "\u001b[1;36m  Cell \u001b[1;32mIn[6], line 4\u001b[1;36m\u001b[0m\n\u001b[1;33m    'Beschreibung': [description]\u001b[0m\n\u001b[1;37m                    ^\u001b[0m\n\u001b[1;31mSyntaxError\u001b[0m\u001b[1;31m:\u001b[0m invalid syntax. Perhaps you forgot a comma?\n"
     ]
    }
   ],
   "source": [
    "# Create a DataFrame\n",
    "Workshop_df = pd.DataFrame({\n",
    "    'Workshop Name': [workshop_name],\n",
    "    'Beschreibung': [description]\n",
    "    'Studio Name': [studio_name],\n",
    "    'Location': [location],\n",
    "    'Category': [level],\n",
    "    'Date': [date],\n",
    "    'URL_SW': url,\n",
    "    'Time': time\n",
    "})\n",
    "\n",
    "# Print the DataFrame\n",
    "print(Workshop_df)\n"
   ]
  },
  {
   "cell_type": "code",
   "execution_count": null,
   "metadata": {},
   "outputs": [
    {
     "data": {
      "text/html": [
       "<div>\n",
       "<style scoped>\n",
       "    .dataframe tbody tr th:only-of-type {\n",
       "        vertical-align: middle;\n",
       "    }\n",
       "\n",
       "    .dataframe tbody tr th {\n",
       "        vertical-align: top;\n",
       "    }\n",
       "\n",
       "    .dataframe thead th {\n",
       "        text-align: right;\n",
       "    }\n",
       "</style>\n",
       "<table border=\"1\" class=\"dataframe\">\n",
       "  <thead>\n",
       "    <tr style=\"text-align: right;\">\n",
       "      <th></th>\n",
       "      <th>Workshop Name</th>\n",
       "      <th>Studio Name</th>\n",
       "      <th>Location</th>\n",
       "      <th>Category</th>\n",
       "      <th>Date</th>\n",
       "      <th>URL_SW</th>\n",
       "      <th>Time</th>\n",
       "    </tr>\n",
       "  </thead>\n",
       "  <tbody>\n",
       "    <tr>\n",
       "      <th>0</th>\n",
       "      <td>Strip that down!  Workshop *girls only*</td>\n",
       "      <td>poda Studio</td>\n",
       "      <td>10-12 Martinstraße Innenhof, 52062 Aachen</td>\n",
       "      <td>Tanzen</td>\n",
       "      <td>Sonntag, 29. Oktober 2023</td>\n",
       "      <td>https://www.eversports.de/e/workshop/mT-MZa2</td>\n",
       "      <td>20:15 - 21:45</td>\n",
       "    </tr>\n",
       "  </tbody>\n",
       "</table>\n",
       "</div>"
      ],
      "text/plain": [
       "                             Workshop Name  Studio Name  \\\n",
       "0  Strip that down!  Workshop *girls only*  poda Studio   \n",
       "\n",
       "                                     Location Category  \\\n",
       "0   10-12 Martinstraße Innenhof, 52062 Aachen   Tanzen   \n",
       "\n",
       "                        Date                                        URL_SW  \\\n",
       "0  Sonntag, 29. Oktober 2023  https://www.eversports.de/e/workshop/mT-MZa2   \n",
       "\n",
       "            Time  \n",
       "0  20:15 - 21:45  "
      ]
     },
     "execution_count": 6,
     "metadata": {},
     "output_type": "execute_result"
    }
   ],
   "source": [
    "Workshop_df"
   ]
  },
  {
   "cell_type": "code",
   "execution_count": null,
   "metadata": {},
   "outputs": [],
   "source": [
    "#Workshop_df.to_csv(\"Hall_of_Pole_Pole_Workshop_URL_E.csv\")"
   ]
  },
  {
   "cell_type": "code",
   "execution_count": null,
   "metadata": {},
   "outputs": [],
   "source": [
    "#Dauer"
   ]
  },
  {
   "cell_type": "code",
   "execution_count": null,
   "metadata": {},
   "outputs": [
    {
     "data": {
      "text/plain": [
       "<div class=\"MuiStack-root css-w7i4po\"><p class=\"MuiTypography-root MuiTypography-body1 css-1ugokqz\">Level</p><p class=\"MuiTypography-root MuiTypography-body1 css-ilcg2f\">Alle Levels</p><img alt=\"Mehr Informationen\" height=\"12px\" src=\"/static/media/tooltipInfo.86d76f30.svg\" width=\"12px\"/></div>"
      ]
     },
     "execution_count": 21,
     "metadata": {},
     "output_type": "execute_result"
    }
   ],
   "source": [
    "#Level\n",
    "level = soup.find('div', class_ = \"MuiStack-root css-w7i4po\")\n",
    "level"
   ]
  },
  {
   "cell_type": "code",
   "execution_count": null,
   "metadata": {},
   "outputs": [
    {
     "name": "stdout",
     "output_type": "stream",
     "text": [
      "Level\n",
      "Alle Levels\n",
      "\n"
     ]
    }
   ],
   "source": [
    "p_level = []\n",
    "for p in level:\n",
    "    p_level.append(p.text)\n",
    "    print(p.text)"
   ]
  },
  {
   "cell_type": "code",
   "execution_count": null,
   "metadata": {},
   "outputs": [
    {
     "data": {
      "text/plain": [
       "[<p class=\"MuiTypography-root MuiTypography-body1 css-ilcg2f\">Tanzen</p>,\n",
       " <p class=\"MuiTypography-root MuiTypography-body1 css-ilcg2f\">Alle Levels</p>]"
      ]
     },
     "execution_count": 25,
     "metadata": {},
     "output_type": "execute_result"
    }
   ],
   "source": [
    "level_1 = soup.find_all('p', class_ = \"MuiTypography-root MuiTypography-body1 css-ilcg2f\")\n",
    "level_1"
   ]
  },
  {
   "cell_type": "code",
   "execution_count": 7,
   "metadata": {},
   "outputs": [
    {
     "data": {
      "text/plain": [
       "[<div class=\"MuiStack-root css-yd8sa2\"><div class=\"MuiStack-root css-g7sx3j\"><div height=\"12\" width=\"12\"><div style=\"width:12px;height:12px\"></div></div><p class=\"MuiTypography-root MuiTypography-body1 css-j61xuw\">Datum</p><p class=\"MuiTypography-root MuiTypography-body1 css-16ai5j1\">Sonntag, 29. Oktober 2023</p></div><div class=\"MuiStack-root css-g7sx3j\"><div height=\"12\" width=\"12\"><div style=\"width:12px;height:12px\"></div></div><p class=\"MuiTypography-root MuiTypography-body1 css-j61xuw\">Uhrzeit</p><div class=\"MuiStack-root css-3k5d53\"><p class=\"MuiTypography-root MuiTypography-body1 css-bjhn26\">20:15<!-- --> - <!-- -->21:45</p><p class=\"MuiTypography-root MuiTypography-body1 css-154jcan\">(90 min)</p></div></div></div>,\n",
       " <div class=\"MuiStack-root css-yd8sa2\"><h2 class=\"MuiTypography-root MuiTypography-h2 css-1ptnp20\">Lehrer:in</h2><div class=\"MuiStack-root css-77mr2t\"><div class=\"MuiAvatar-root MuiAvatar-circular css-32b1c2\"><img alt=\"Lehrer:in\" class=\"MuiAvatar-img css-1hy9t21\" src=\"https://files.eversports.com/d942ed72-a8b9-4fba-b522-2fb048b533bd/emmyjpg-x-small.webp\"/></div><p class=\"MuiTypography-root MuiTypography-body1 css-j61xuw\">Emmy</p></div><div class=\"MuiStack-root css-j7qwjs\"><p class=\"MuiTypography-root MuiTypography-body1 css-j61xuw\">Über</p><div class=\"MuiBox-root css-i2zjwp\"><div class=\"MuiBox-root css-0\"><p class=\"MuiTypography-root MuiTypography-body1 css-154jcan\">Kreativ, offen, Allrounder  &amp; Tattoo lover.\n",
       " Pole &amp; Aerial Trainerin\n",
       " \n",
       " Emmy ist unsere Allrounderin. Von Ballet bis Twerk, Pole &amp; Luftakrobatik - Emmy unterrichtet alles. Sie hat Musik &amp; Kreativität im Blut und weiß was sie tut. Ist ein absoluter Technikfreak &amp; die Liebe zum Detail machen ihren Unterricht unverkennbar. Ihre spontane und humorvollen Art reißt einfach jeden mit.\n",
       " \n",
       " Mittlerweile bildet sie auch bei Polebatics-Nele Sehrt aus. \n",
       " Teaching language: German &amp; English \n",
       " \n",
       " \n",
       " \n",
       " </p></div></div></div><div class=\"MuiStack-root css-j7qwjs\"><p class=\"MuiTypography-root MuiTypography-body1 css-j61xuw\">Ausbildung</p><div class=\"MuiBox-root css-i2zjwp\"><div class=\"MuiBox-root css-0\"><p class=\"MuiTypography-root MuiTypography-body1 css-154jcan\">Qualifikationen\n",
       " staatlich gepr. Tanzpädagogin\n",
       " Pole Instructor Beginners Level 0-3 (ADC)\n",
       " Pole Instructor Intermediate Level 4-6 (ADC)\n",
       " Pole Instructor Advanced Level 7-9 (ADC)\n",
       " Floorwork Instructor all Levels (ADC)\n",
       " Chair Dance Instructor all levels (ADC)\n",
       " Übungsleiterin Luftakrobatik TPZAK\n",
       " Aerial Yogalehrerin (Aerialyoga-Flow)\n",
       " Hammock Instructor (ADC)\n",
       " Aerial Hoop Ausbildung (Schwerelos intern)\n",
       " Mobility Flow instructor\n",
       " Fitness Trainer C Lizenz \n",
       " \n",
       " Wettbewerbe\n",
       " \n",
       " Crazy Pole Gala Cup  * Advanced Finalistin\n",
       " Steel on Fire 2019 Double Hoop \n",
       " PSO Oberhausen 2020 Floorwork &amp; Low Flow 2. Platz\n",
       " \n",
       " Professional PSO Pole Cleaner :-) </p></div></div></div></div>,\n",
       " <div class=\"MuiStack-root css-yd8sa2\"><div class=\"MuiStack-root css-yd8sa2\"><div class=\"MuiStack-root css-g7sx3j\"><div height=\"12\" width=\"12\"><div style=\"width:12px;height:12px\"></div></div><p class=\"MuiTypography-root MuiTypography-body1 css-j61xuw\">Datum</p><p class=\"MuiTypography-root MuiTypography-body1 css-16ai5j1\">Sonntag, 29. Oktober 2023</p></div><div class=\"MuiStack-root css-g7sx3j\"><div height=\"12\" width=\"12\"><div style=\"width:12px;height:12px\"></div></div><p class=\"MuiTypography-root MuiTypography-body1 css-j61xuw\">Uhrzeit</p><div class=\"MuiStack-root css-3k5d53\"><p class=\"MuiTypography-root MuiTypography-body1 css-bjhn26\">20:15<!-- --> - <!-- -->21:45</p><p class=\"MuiTypography-root MuiTypography-body1 css-154jcan\">(90 min)</p></div></div></div><div class=\"MuiStack-root css-d1paog\"><button class=\"MuiButtonBase-root MuiButton-root MuiButton-contained MuiButton-containedPrimary MuiButton-sizeMedium MuiButton-containedSizeMedium Mui-disabled MuiButton-root MuiButton-contained MuiButton-containedPrimary MuiButton-sizeMedium MuiButton-containedSizeMedium css-119l4yj\" disabled=\"\" tabindex=\"-1\" type=\"button\"><p class=\"MuiTypography-root MuiTypography-body1 css-drhlch\">Nicht buchbar</p></button><div class=\"MuiPaper-root MuiPaper-elevation MuiPaper-rounded MuiPaper-elevation0 MuiAlert-root MuiAlert-standardError MuiAlert-standard css-1e8myzj\" role=\"alert\"><div class=\"MuiAlert-message css-1xsto0d\"><p class=\"MuiTypography-root MuiTypography-body1 css-154jcan\">Bereits vergangen</p></div></div></div></div>,\n",
       " <div class=\"MuiStack-root css-yd8sa2\"><div class=\"MuiStack-root css-g7sx3j\"><div height=\"12\" width=\"12\"><div style=\"width:12px;height:12px\"></div></div><p class=\"MuiTypography-root MuiTypography-body1 css-j61xuw\">Datum</p><p class=\"MuiTypography-root MuiTypography-body1 css-16ai5j1\">Sonntag, 29. Oktober 2023</p></div><div class=\"MuiStack-root css-g7sx3j\"><div height=\"12\" width=\"12\"><div style=\"width:12px;height:12px\"></div></div><p class=\"MuiTypography-root MuiTypography-body1 css-j61xuw\">Uhrzeit</p><div class=\"MuiStack-root css-3k5d53\"><p class=\"MuiTypography-root MuiTypography-body1 css-bjhn26\">20:15<!-- --> - <!-- -->21:45</p><p class=\"MuiTypography-root MuiTypography-body1 css-154jcan\">(90 min)</p></div></div></div>]"
      ]
     },
     "execution_count": 7,
     "metadata": {},
     "output_type": "execute_result"
    }
   ],
   "source": [
    "#Trainer, Name, Trainer Beschreibung / About Me, Ausbildung / Qualifikation, Trainerbild\n",
    "trainer_info_div = soup.find_all('div', class_='MuiStack-root css-yd8sa2')\n",
    "trainer_info_div"
   ]
  },
  {
   "cell_type": "code",
   "execution_count": 10,
   "metadata": {},
   "outputs": [
    {
     "data": {
      "text/plain": [
       "['DatumSonntag, 29. Oktober 2023Uhrzeit20:15 - 21:45(90 min)',\n",
       " 'Lehrer:inEmmyÜberKreativ, offen, Allrounder  & Tattoo lover.\\nPole & Aerial Trainerin\\n\\nEmmy ist unsere Allrounderin. Von Ballet bis Twerk, Pole & Luftakrobatik - Emmy unterrichtet alles. Sie hat Musik & Kreativität im Blut und weiß was sie tut. Ist ein absoluter Technikfreak & die Liebe zum Detail machen ihren Unterricht unverkennbar. Ihre spontane und humorvollen Art reißt einfach jeden mit.\\n\\nMittlerweile bildet sie auch bei Polebatics-Nele Sehrt aus. \\nTeaching language: German & English \\n\\n\\n\\nAusbildungQualifikationen\\nstaatlich gepr. Tanzpädagogin\\nPole Instructor Beginners Level 0-3 (ADC)\\nPole Instructor Intermediate Level 4-6 (ADC)\\nPole Instructor Advanced Level 7-9 (ADC)\\nFloorwork Instructor all Levels (ADC)\\nChair Dance Instructor all levels (ADC)\\nÜbungsleiterin Luftakrobatik TPZAK\\nAerial Yogalehrerin (Aerialyoga-Flow)\\nHammock Instructor (ADC)\\nAerial Hoop Ausbildung (Schwerelos intern)\\nMobility Flow instructor\\nFitness Trainer C Lizenz \\n\\nWettbewerbe\\n\\nCrazy Pole Gala Cup  * Advanced Finalistin\\nSteel on Fire 2019 Double Hoop \\nPSO Oberhausen 2020 Floorwork & Low Flow 2. Platz\\n\\nProfessional PSO Pole Cleaner :-) ',\n",
       " 'DatumSonntag, 29. Oktober 2023Uhrzeit20:15 - 21:45(90 min)Nicht buchbarBereits vergangen',\n",
       " 'DatumSonntag, 29. Oktober 2023Uhrzeit20:15 - 21:45(90 min)']"
      ]
     },
     "execution_count": 10,
     "metadata": {},
     "output_type": "execute_result"
    }
   ],
   "source": [
    "trainer_info = []\n",
    "for item in trainer_info_div:\n",
    "    trainer_info.append(item.text)\n",
    "\n",
    "trainer_info"
   ]
  },
  {
   "cell_type": "code",
   "execution_count": 15,
   "metadata": {},
   "outputs": [
    {
     "data": {
      "text/plain": [
       "[<p class=\"MuiTypography-root MuiTypography-body1 css-j61xuw\">Datum</p>,\n",
       " <p class=\"MuiTypography-root MuiTypography-body1 css-j61xuw\">Uhrzeit</p>,\n",
       " <p class=\"MuiTypography-root MuiTypography-body1 css-j61xuw\">Room</p>,\n",
       " <p class=\"MuiTypography-root MuiTypography-body1 css-j61xuw\">Ort</p>,\n",
       " <p class=\"MuiTypography-root MuiTypography-body1 css-j61xuw\">Emmy</p>,\n",
       " <p class=\"MuiTypography-root MuiTypography-body1 css-j61xuw\">Über</p>,\n",
       " <p class=\"MuiTypography-root MuiTypography-body1 css-j61xuw\">Ausbildung</p>,\n",
       " <p class=\"MuiTypography-root MuiTypography-body1 css-j61xuw\">Bewertungen</p>,\n",
       " <p class=\"MuiTypography-root MuiTypography-body1 css-j61xuw\">4.9</p>,\n",
       " <p class=\"MuiTypography-root MuiTypography-body1 css-j61xuw\">Datum</p>,\n",
       " <p class=\"MuiTypography-root MuiTypography-body1 css-j61xuw\">Uhrzeit</p>]"
      ]
     },
     "execution_count": 15,
     "metadata": {},
     "output_type": "execute_result"
    }
   ],
   "source": [
    "# Trainer Name\n",
    "tainer_name = soup.find_all('p', class_ = 'MuiTypography-root MuiTypography-body1 css-j61xuw')\n",
    "tainer_name"
   ]
  },
  {
   "cell_type": "code",
   "execution_count": null,
   "metadata": {},
   "outputs": [
    {
     "data": {
      "text/plain": [
       "<tr class=\"MuiTableRow-root css-1i2fn72\"><td class=\"MuiTableCell-root MuiTableCell-body MuiTableCell-sizeSmall css-14heacu\"><p class=\"MuiTypography-root MuiTypography-body1 css-mqc5zo\">35,00 €</p></td><td class=\"MuiTableCell-root MuiTableCell-body MuiTableCell-sizeSmall css-f8kxh6\"><p class=\"MuiTypography-root MuiTypography-body1 css-bjhn26\">Workshop </p></td><td class=\"MuiTableCell-root MuiTableCell-body MuiTableCell-sizeSmall css-f8kxh6\"><div class=\"MuiStack-root css-qfdd9t\"></div></td></tr>"
      ]
     },
     "execution_count": 36,
     "metadata": {},
     "output_type": "execute_result"
    }
   ],
   "source": [
    "#Preis\n",
    "price = soup.find('tr', class_ = 'MuiTableRow-root css-1i2fn72')\n",
    "price"
   ]
  },
  {
   "cell_type": "code",
   "execution_count": null,
   "metadata": {},
   "outputs": [
    {
     "data": {
      "text/plain": [
       "['35,00\\xa0€', 'Workshop ', '']"
      ]
     },
     "execution_count": 40,
     "metadata": {},
     "output_type": "execute_result"
    }
   ],
   "source": [
    "price_list = []\n",
    "for prices in price:\n",
    "    price_list.append(prices.text)\n",
    "\n",
    "price_list"
   ]
  },
  {
   "cell_type": "code",
   "execution_count": null,
   "metadata": {},
   "outputs": [],
   "source": []
  }
 ],
 "metadata": {
  "kernelspec": {
   "display_name": "Python 3",
   "language": "python",
   "name": "python3"
  },
  "language_info": {
   "codemirror_mode": {
    "name": "ipython",
    "version": 3
   },
   "file_extension": ".py",
   "mimetype": "text/x-python",
   "name": "python",
   "nbconvert_exporter": "python",
   "pygments_lexer": "ipython3",
   "version": "3.12.1"
  }
 },
 "nbformat": 4,
 "nbformat_minor": 2
}
