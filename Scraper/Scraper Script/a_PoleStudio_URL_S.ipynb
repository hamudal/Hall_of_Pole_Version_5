{
 "cells": [
  {
   "cell_type": "code",
   "execution_count": 44,
   "metadata": {},
   "outputs": [],
   "source": [
    "import requests\n",
    "from bs4 import BeautifulSoup\n",
    "from datetime import datetime\n",
    "import pandas as pd"
   ]
  },
  {
   "cell_type": "code",
   "execution_count": 45,
   "metadata": {},
   "outputs": [],
   "source": [
    "url = \"https://www.eversports.de/s/poda-studio\""
   ]
  },
  {
   "cell_type": "code",
   "execution_count": 46,
   "metadata": {},
   "outputs": [],
   "source": [
    "response = requests.get(url)\n",
    "\n",
    "# if response.status_code != 200:\n",
    "#     print(\"Fehler beim Abrufen der Webseite\")\n",
    "#     return\n",
    "\n",
    "polestudio_soup = BeautifulSoup(response.content, 'html.parser')"
   ]
  },
  {
   "cell_type": "code",
   "execution_count": 47,
   "metadata": {},
   "outputs": [
    {
     "data": {
      "text/plain": [
       "['Übersicht', 'Klassen', 'Workshops', 'Videos', 'Preise', 'Team']"
      ]
     },
     "execution_count": 47,
     "metadata": {},
     "output_type": "execute_result"
    }
   ],
   "source": [
    "overviewbuttons = polestudio_soup.find_all('div', class_=\"MuiStack-root css-sgccrm\")\n",
    "\n",
    "button_text = []\n",
    "\n",
    "for item in overviewbuttons:\n",
    "    # Find all <a> elements within the current <div>\n",
    "    a_elements = item.find_all('a')\n",
    "    \n",
    "    # Iterate through <a> elements and append their text content to the list\n",
    "    for a in a_elements:\n",
    "        text = a.text\n",
    "        button_text.append(text)\n",
    "\n",
    "button_text"
   ]
  },
  {
   "cell_type": "code",
   "execution_count": 48,
   "metadata": {},
   "outputs": [
    {
     "data": {
      "text/plain": [
       "'poda Studio'"
      ]
     },
     "execution_count": 48,
     "metadata": {},
     "output_type": "execute_result"
    }
   ],
   "source": [
    "# Pole Studio Name\n",
    "pole_studio_name = polestudio_soup.find('h1', class_='MuiTypography-root MuiTypography-h1 css-qinhw0').text\n",
    "\n",
    "pole_studio_name"
   ]
  },
  {
   "cell_type": "code",
   "execution_count": 49,
   "metadata": {},
   "outputs": [
    {
     "data": {
      "text/plain": [
       "{'E-Mail': ' info@podastudio.de',\n",
       " 'Homepage': 'https://www.podastudio.de/',\n",
       " 'Telefon': '+49241 95719917'}"
      ]
     },
     "execution_count": 49,
     "metadata": {},
     "output_type": "execute_result"
    }
   ],
   "source": [
    "# Owner information\n",
    "polestudio_contact_info = polestudio_soup.find_all('div', class_='css-1x2phcg')\n",
    "\n",
    "contact_info = []\n",
    "\n",
    "for div in polestudio_contact_info:\n",
    "    a_tags = div.find_all('a')\n",
    "    \n",
    "    contact_row = {\"E-Mail\": None, \"Homepage\": None, \"Telefon\": None}\n",
    "    \n",
    "    for a in a_tags:\n",
    "        href = a.get('href')\n",
    "        \n",
    "        if href:\n",
    "            if href.startswith('mailto:'):\n",
    "                contact_row[\"E-Mail\"] = href.replace('mailto:', '')\n",
    "            elif href.startswith('tel:'):\n",
    "                contact_row[\"Telefon\"] = href.replace('tel:', '')\n",
    "            else:\n",
    "                contact_row[\"Homepage\"] = href\n",
    "\n",
    "    contact_info.append(contact_row)\n",
    "    \n",
    "contact_row"
   ]
  },
  {
   "cell_type": "code",
   "execution_count": 50,
   "metadata": {},
   "outputs": [
    {
     "name": "stdout",
     "output_type": "stream",
     "text": [
      "Address: ['Martinstraße 10-12 ', ' 52062 Aachen']\n",
      "Town: Aachen\n",
      "Postal Code: 52062\n",
      "Street: Martinstraße 10-12 \n"
     ]
    }
   ],
   "source": [
    "# Address\n",
    "address_element = polestudio_soup.find('p', class_='MuiTypography-root MuiTypography-body1 css-1619old')\n",
    "\n",
    "address_text_list = []\n",
    "\n",
    "if address_element:\n",
    "    address_text = address_element.text\n",
    "\n",
    "    # Split the address into its components\n",
    "    address = address_text.split(',')\n",
    "    street = address_text.split(',')[0]\n",
    "    postal_code = address[1].split(\" \")[1]\n",
    "    town = address[1].split(\" \")[2]  # Town is the first part\n",
    "\n",
    "    # Append the components to the address_text_list\n",
    "    address_text_list.append(town)\n",
    "    address_text_list.append(address)\n",
    "    address_text_list.append(postal_code)\n",
    "    address_text_list.append(street)\n",
    "\n",
    "    print(\"Address:\", address)\n",
    "    print(\"Town:\", town)\n",
    "    print(\"Postal Code:\", postal_code)\n",
    "    print(\"Street:\", street)\n",
    "else:\n",
    "    print(\"Address element not found or doesn't have the specified class.\")"
   ]
  },
  {
   "cell_type": "code",
   "execution_count": 51,
   "metadata": {},
   "outputs": [
    {
     "data": {
      "text/plain": [
       "'Flieg mit uns! Poda ist das größte Pole Dance & Luftakrobatik Studio in Aachen und der Euregio. Neben Pole Dance / Pole Sport Kursen bieten wir auch Luftakrobatik, Tanzkurse wie Chair Dance, High Heels & Floorwork sowie Fitness, Yoga und Flexibility Kurse ohne Stange und Online Kurse an. Ob Probestunden, 10er-Karten oder Abos, Privatstunden, Workshops, Pole Parties, Junggesellinnen - Abschiede oder Pole Shows - wir haben für jeden das richtige Angebot.'"
      ]
     },
     "execution_count": 51,
     "metadata": {},
     "output_type": "execute_result"
    }
   ],
   "source": [
    "# Pole Studio Description \n",
    "description_text = polestudio_soup.find('p', class_='MuiTypography-root MuiTypography-body1 css-154jcan').text\n",
    "\n",
    "description_text"
   ]
  },
  {
   "cell_type": "code",
   "execution_count": 52,
   "metadata": {},
   "outputs": [
    {
     "name": "stdout",
     "output_type": "stream",
     "text": [
      "Overall Rating: 4,9\n",
      "Number of Reviews: 51 Rezensionen\n"
     ]
    }
   ],
   "source": [
    "# Rating\n",
    "rating_element = polestudio_soup.find('p', class_='MuiTypography-root MuiTypography-body1 css-2g7rhg')\n",
    "\n",
    "rating_text_list = []\n",
    "\n",
    "if rating_element:\n",
    "    rating_text = rating_element.text\n",
    "    \n",
    "    # Split the rating text based on the opening parenthesis and remove any trailing white spaces\n",
    "    rating_parts = rating_text.split('(')\n",
    "    overall_rating = rating_parts[0].strip()\n",
    "    num_reviews = rating_parts[1].replace(')', '').strip()\n",
    "\n",
    "    # Append the extracted parts to the list\n",
    "    rating_text_list.append(overall_rating)\n",
    "    rating_text_list.append(num_reviews)\n",
    "\n",
    "    print(\"Overall Rating:\", overall_rating)\n",
    "    print(\"Number of Reviews:\", num_reviews)\n",
    "else:\n",
    "    print(\"Rating element not found or doesn't have the specified class.\")"
   ]
  },
  {
   "cell_type": "code",
   "execution_count": 53,
   "metadata": {},
   "outputs": [
    {
     "name": "stdout",
     "output_type": "stream",
     "text": [
      "['Raumqualität: 5.0', 'Freundlichkeit & Service: 4.9', 'Sauberkeit: 5.0', 'Atmosphäre: 5.0', 'Preis-Leistung: 4.9']\n"
     ]
    }
   ],
   "source": [
    "# Rating Factors\n",
    "items = polestudio_soup.find_all('div', class_='MuiStack-root css-95g4uk')\n",
    "\n",
    "combined_items = []\n",
    "\n",
    "# Iterate through the found elements and extract the desired information\n",
    "for item in items:\n",
    "    # Extract the text related to each item\n",
    "    item_name = item.find('p', class_='MuiTypography-root MuiTypography-body1 css-1k55edk')\n",
    "    item_score = item.find('p', class_='MuiTypography-root MuiTypography-body1 css-1y0caop')\n",
    "\n",
    "    if item_name and item_score:\n",
    "        combined_item = f\"{item_name.text}: {item_score.text}\"\n",
    "        combined_items.append(combined_item)\n",
    "\n",
    "# Print the combined list\n",
    "print(combined_items)"
   ]
  },
  {
   "cell_type": "code",
   "execution_count": 54,
   "metadata": {},
   "outputs": [
    {
     "name": "stdout",
     "output_type": "stream",
     "text": [
      "Fitness\n",
      "Tanzen\n",
      "Fitness\n",
      "Yoga\n",
      "Tanzen\n",
      "Fitness\n",
      "Tanzen\n",
      "Fitness\n",
      "51 Rezensionen\n",
      "Fitness\n",
      "Tanzen\n",
      "Yoga\n",
      "Poledance\n",
      "Personal Training\n",
      "Akrobatik\n",
      "Power Pole\n",
      "Stretching\n",
      "Floorwork\n",
      "Chairdance\n",
      "Aerial Silk\n",
      "Aerial Dance\n",
      "Aerial Hoop\n",
      "Aerial Akrobatik\n",
      "Polesport\n",
      "Online Klasse\n",
      "Bodybalance\n",
      "Workout\n",
      "Dehnung/Flexibilität\n",
      "Twerken\n",
      "Luftartistik\n"
     ]
    }
   ],
   "source": [
    "#Art (Sportarten und Aktivitäten)\n",
    "art = polestudio_soup.find_all(\"p\", class_ = \"MuiTypography-root MuiTypography-body1 css-6ik050\")\n",
    "\n",
    "arten = []\n",
    "\n",
    "for item in art:\n",
    "    \n",
    "    print(item.text)\n",
    "    arten.append(item.text)"
   ]
  },
  {
   "cell_type": "code",
   "execution_count": null,
   "metadata": {},
   "outputs": [],
   "source": [
    "#Angebot\n",
    "sale = polestudio_soup.find(\"p\", class_=\"MuiTypography-root MuiTypography-body1 css-153qxhx\").text\n",
    "sale"
   ]
  },
  {
   "cell_type": "code",
   "execution_count": 74,
   "metadata": {},
   "outputs": [
    {
     "name": "stdout",
     "output_type": "stream",
     "text": [
      "https://files.eversports.com/b5fbdb8d-cc1e-44ab-872b-d0b211cc9007/d-img_2188-6jpg-x-large.webp\n",
      "https://files.eversports.com/0dde4c77-2ca9-453c-a7c0-9785f56a22bc/mc9c0065jpg-small.webp\n",
      "https://files.eversports.com/e914ea9a-8749-4cb4-ab76-80e5d7ef068e/dsc_8651jpg-small.webp\n",
      "https://files.eversports.com/370be88a-af94-463f-b8e9-acef1edd3812/_e3a1647jpg-small.webp\n",
      "https://files.eversports.com/6e59b19a-18df-49d0-8e07-343e8ce401d6/rz-logo-001-85x300jpg-small.webp\n"
     ]
    }
   ],
   "source": [
    "# Alle `div`-Tags mit der spezifischen Klasse finden\n",
    "pictures = polestudio_soup.find_all(\"div\", class_=\"MuiBox-root css-1fivxf\")\n",
    "\n",
    "# Für jedes `div`-Tag die Bildadressen extrahieren\n",
    "image_urls = []\n",
    "for div in pictures:\n",
    "    img_tag = div.find(\"img\")\n",
    "    if img_tag and img_tag.has_attr(\"src\"):\n",
    "        image_urls.append(img_tag[\"src\"])\n",
    "\n",
    "# Ausgabe der Bild-URLs\n",
    "for url in image_urls:\n",
    "    print(url)"
   ]
  },
  {
   "cell_type": "code",
   "execution_count": 55,
   "metadata": {},
   "outputs": [],
   "source": [
    "owner = []\n",
    "id = []"
   ]
  },
  {
   "cell_type": "code",
   "execution_count": 75,
   "metadata": {},
   "outputs": [],
   "source": [
    "# create a dictionary from the given lists\n",
    "pole_studio_overview = {\n",
    "    'ID':id,\n",
    "    'PoleStudio_Name': pole_studio_name,\n",
    "    'Adresse': address,\n",
    "    'PLZ': postal_code,\n",
    "    'Stadt': town,\n",
    "    'Straße': street,\n",
    "    'Buttons': button_text,\n",
    "    'Pole Studio Beschreibung': description_text,\n",
    "    'Ratingscore': rating_text_list[0],\n",
    "    'Reviewanzahl': rating_text_list[1],\n",
    "    'Rating Faktoren': combined_items,\n",
    "    'E-Mail': contact_row['E-Mail'],\n",
    "    'Homepage': contact_row['Homepage'],\n",
    "    'Telefon': contact_row['Telefon'],\n",
    "    'Eversports Pole Studio Seite': url,\n",
    "    'Owner': owner,\n",
    "    'Art': arten,\n",
    "    'Angebot': sale,\n",
    "    'Bildergalerie': image_urls\n",
    "    }\n",
    "\n",
    "# create pandas dataframe\n",
    "pole_studio_overview_df = pd.DataFrame([pole_studio_overview])\n",
    "\n",
    "# Make a datastamp\n",
    "pole_studio_overview_df['Created Date'] = datetime.now().strftime(\"%Y-%m-%d %H:%M:%S\")\n",
    "pole_studio_overview_df['Updated Date'] = datetime.now().strftime(\"%Y-%m-%d %H:%M:%S\")"
   ]
  },
  {
   "cell_type": "code",
   "execution_count": 76,
   "metadata": {},
   "outputs": [
    {
     "data": {
      "text/html": [
       "<div>\n",
       "<style scoped>\n",
       "    .dataframe tbody tr th:only-of-type {\n",
       "        vertical-align: middle;\n",
       "    }\n",
       "\n",
       "    .dataframe tbody tr th {\n",
       "        vertical-align: top;\n",
       "    }\n",
       "\n",
       "    .dataframe thead th {\n",
       "        text-align: right;\n",
       "    }\n",
       "</style>\n",
       "<table border=\"1\" class=\"dataframe\">\n",
       "  <thead>\n",
       "    <tr style=\"text-align: right;\">\n",
       "      <th></th>\n",
       "      <th>ID</th>\n",
       "      <th>PoleStudio_Name</th>\n",
       "      <th>Adresse</th>\n",
       "      <th>PLZ</th>\n",
       "      <th>Stadt</th>\n",
       "      <th>Straße</th>\n",
       "      <th>Buttons</th>\n",
       "      <th>Pole Studio Beschreibung</th>\n",
       "      <th>Ratingscore</th>\n",
       "      <th>Reviewanzahl</th>\n",
       "      <th>...</th>\n",
       "      <th>E-Mail</th>\n",
       "      <th>Homepage</th>\n",
       "      <th>Telefon</th>\n",
       "      <th>Eversports Pole Studio Seite</th>\n",
       "      <th>Owner</th>\n",
       "      <th>Art</th>\n",
       "      <th>Angebot</th>\n",
       "      <th>Bildergalerie</th>\n",
       "      <th>Created Date</th>\n",
       "      <th>Updated Date</th>\n",
       "    </tr>\n",
       "  </thead>\n",
       "  <tbody>\n",
       "    <tr>\n",
       "      <th>0</th>\n",
       "      <td>[]</td>\n",
       "      <td>poda Studio</td>\n",
       "      <td>[Martinstraße 10-12 ,  52062 Aachen]</td>\n",
       "      <td>52062</td>\n",
       "      <td>Aachen</td>\n",
       "      <td>Martinstraße 10-12</td>\n",
       "      <td>[Übersicht, Klassen, Workshops, Videos, Preise...</td>\n",
       "      <td>Flieg mit uns! Poda ist das größte Pole Dance ...</td>\n",
       "      <td>4,9</td>\n",
       "      <td>51 Rezensionen</td>\n",
       "      <td>...</td>\n",
       "      <td>info@podastudio.de</td>\n",
       "      <td>https://www.podastudio.de/</td>\n",
       "      <td>+49241 95719917</td>\n",
       "      <td>https://files.eversports.com/6e59b19a-18df-49d...</td>\n",
       "      <td>[]</td>\n",
       "      <td>[Fitness, Tanzen, Fitness, Yoga, Tanzen, Fitne...</td>\n",
       "      <td>1 Angebot für Neukund:innen</td>\n",
       "      <td>[https://files.eversports.com/b5fbdb8d-cc1e-44...</td>\n",
       "      <td>2023-12-17 02:19:32</td>\n",
       "      <td>2023-12-17 02:19:32</td>\n",
       "    </tr>\n",
       "  </tbody>\n",
       "</table>\n",
       "<p>1 rows × 21 columns</p>\n",
       "</div>"
      ],
      "text/plain": [
       "   ID PoleStudio_Name                               Adresse    PLZ   Stadt  \\\n",
       "0  []     poda Studio  [Martinstraße 10-12 ,  52062 Aachen]  52062  Aachen   \n",
       "\n",
       "                Straße                                            Buttons  \\\n",
       "0  Martinstraße 10-12   [Übersicht, Klassen, Workshops, Videos, Preise...   \n",
       "\n",
       "                            Pole Studio Beschreibung Ratingscore  \\\n",
       "0  Flieg mit uns! Poda ist das größte Pole Dance ...         4,9   \n",
       "\n",
       "     Reviewanzahl  ...               E-Mail                    Homepage  \\\n",
       "0  51 Rezensionen  ...   info@podastudio.de  https://www.podastudio.de/   \n",
       "\n",
       "           Telefon                       Eversports Pole Studio Seite Owner  \\\n",
       "0  +49241 95719917  https://files.eversports.com/6e59b19a-18df-49d...    []   \n",
       "\n",
       "                                                 Art  \\\n",
       "0  [Fitness, Tanzen, Fitness, Yoga, Tanzen, Fitne...   \n",
       "\n",
       "                       Angebot  \\\n",
       "0  1 Angebot für Neukund:innen   \n",
       "\n",
       "                                       Bildergalerie         Created Date  \\\n",
       "0  [https://files.eversports.com/b5fbdb8d-cc1e-44...  2023-12-17 02:19:32   \n",
       "\n",
       "          Updated Date  \n",
       "0  2023-12-17 02:19:32  \n",
       "\n",
       "[1 rows x 21 columns]"
      ]
     },
     "execution_count": 76,
     "metadata": {},
     "output_type": "execute_result"
    }
   ],
   "source": [
    "pole_studio_overview_df"
   ]
  },
  {
   "cell_type": "code",
   "execution_count": 58,
   "metadata": {},
   "outputs": [],
   "source": [
    "#Online Studios (Pole Studio)"
   ]
  }
 ],
 "metadata": {
  "kernelspec": {
   "display_name": "Python 3",
   "language": "python",
   "name": "python3"
  },
  "language_info": {
   "codemirror_mode": {
    "name": "ipython",
    "version": 3
   },
   "file_extension": ".py",
   "mimetype": "text/x-python",
   "name": "python",
   "nbconvert_exporter": "python",
   "pygments_lexer": "ipython3",
   "version": "3.12.1"
  }
 },
 "nbformat": 4,
 "nbformat_minor": 2
}
