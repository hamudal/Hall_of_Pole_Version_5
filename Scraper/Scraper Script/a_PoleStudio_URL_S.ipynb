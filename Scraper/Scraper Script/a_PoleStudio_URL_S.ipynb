{
 "cells": [
  {
   "cell_type": "code",
   "execution_count": 44,
   "metadata": {},
   "outputs": [],
   "source": [
    "import requests\n",
    "from bs4 import BeautifulSoup\n",
    "from datetime import datetime\n",
    "import pandas as pd"
   ]
  },
  {
   "cell_type": "code",
   "execution_count": 45,
   "metadata": {},
   "outputs": [],
   "source": [
    "url = \"https://www.eversports.de/s/poda-studio\""
   ]
  },
  {
   "cell_type": "code",
   "execution_count": 46,
   "metadata": {},
   "outputs": [],
   "source": [
    "response = requests.get(url)\n",
    "\n",
    "# if response.status_code != 200:\n",
    "#     print(\"Fehler beim Abrufen der Webseite\")\n",
    "#     return\n",
    "\n",
    "polestudio_soup = BeautifulSoup(response.content, 'html.parser')"
   ]
  },
  {
   "cell_type": "code",
   "execution_count": 47,
   "metadata": {},
   "outputs": [
    {
     "data": {
      "text/plain": [
       "['Übersicht', 'Klassen', 'Workshops', 'Videos', 'Preise', 'Team']"
      ]
     },
     "execution_count": 47,
     "metadata": {},
     "output_type": "execute_result"
    }
   ],
   "source": [
    "overviewbuttons = polestudio_soup.find_all('div', class_=\"MuiStack-root css-sgccrm\")\n",
    "\n",
    "button_text = []\n",
    "\n",
    "for item in overviewbuttons:\n",
    "    # Find all <a> elements within the current <div>\n",
    "    a_elements = item.find_all('a')\n",
    "    \n",
    "    # Iterate through <a> elements and append their text content to the list\n",
    "    for a in a_elements:\n",
    "        text = a.text\n",
    "        button_text.append(text)\n",
    "\n",
    "button_text"
   ]
  },
  {
   "cell_type": "code",
   "execution_count": 48,
   "metadata": {},
   "outputs": [
    {
     "data": {
      "text/plain": [
       "'poda Studio'"
      ]
     },
     "execution_count": 48,
     "metadata": {},
     "output_type": "execute_result"
    }
   ],
   "source": [
    "# Pole Studio Name\n",
    "pole_studio_name = polestudio_soup.find('h1', class_='MuiTypography-root MuiTypography-h1 css-qinhw0').text\n",
    "\n",
    "pole_studio_name"
   ]
  },
  {
   "cell_type": "code",
   "execution_count": 49,
   "metadata": {},
   "outputs": [
    {
     "data": {
      "text/plain": [
       "{'E-Mail': ' info@podastudio.de',\n",
       " 'Homepage': 'https://www.podastudio.de/',\n",
       " 'Telefon': '+49241 95719917'}"
      ]
     },
     "execution_count": 49,
     "metadata": {},
     "output_type": "execute_result"
    }
   ],
   "source": [
    "# Owner information\n",
    "polestudio_contact_info = polestudio_soup.find_all('div', class_='css-1x2phcg')\n",
    "\n",
    "contact_info = []\n",
    "\n",
    "for div in polestudio_contact_info:\n",
    "    a_tags = div.find_all('a')\n",
    "    \n",
    "    contact_row = {\"E-Mail\": None, \"Homepage\": None, \"Telefon\": None}\n",
    "    \n",
    "    for a in a_tags:\n",
    "        href = a.get('href')\n",
    "        \n",
    "        if href:\n",
    "            if href.startswith('mailto:'):\n",
    "                contact_row[\"E-Mail\"] = href.replace('mailto:', '')\n",
    "            elif href.startswith('tel:'):\n",
    "                contact_row[\"Telefon\"] = href.replace('tel:', '')\n",
    "            else:\n",
    "                contact_row[\"Homepage\"] = href\n",
    "\n",
    "    contact_info.append(contact_row)\n",
    "    \n",
    "contact_row"
   ]
  },
  {
   "cell_type": "code",
   "execution_count": 50,
   "metadata": {},
   "outputs": [
    {
     "name": "stdout",
     "output_type": "stream",
     "text": [
      "Address: ['Martinstraße 10-12 ', ' 52062 Aachen']\n",
      "Town: Aachen\n",
      "Postal Code: 52062\n",
      "Street: Martinstraße 10-12 \n"
     ]
    }
   ],
   "source": [
    "# Address\n",
    "address_element = polestudio_soup.find('p', class_='MuiTypography-root MuiTypography-body1 css-1619old')\n",
    "\n",
    "address_text_list = []\n",
    "\n",
    "if address_element:\n",
    "    address_text = address_element.text\n",
    "\n",
    "    # Split the address into its components\n",
    "    address = address_text.split(',')\n",
    "    street = address_text.split(',')[0]\n",
    "    postal_code = address[1].split(\" \")[1]\n",
    "    town = address[1].split(\" \")[2]  # Town is the first part\n",
    "\n",
    "    # Append the components to the address_text_list\n",
    "    address_text_list.append(town)\n",
    "    address_text_list.append(address)\n",
    "    address_text_list.append(postal_code)\n",
    "    address_text_list.append(street)\n",
    "\n",
    "    print(\"Address:\", address)\n",
    "    print(\"Town:\", town)\n",
    "    print(\"Postal Code:\", postal_code)\n",
    "    print(\"Street:\", street)\n",
    "else:\n",
    "    print(\"Address element not found or doesn't have the specified class.\")"
   ]
  },
  {
   "cell_type": "code",
   "execution_count": 51,
   "metadata": {},
   "outputs": [
    {
     "data": {
      "text/plain": [
       "'Flieg mit uns! Poda ist das größte Pole Dance & Luftakrobatik Studio in Aachen und der Euregio. Neben Pole Dance / Pole Sport Kursen bieten wir auch Luftakrobatik, Tanzkurse wie Chair Dance, High Heels & Floorwork sowie Fitness, Yoga und Flexibility Kurse ohne Stange und Online Kurse an. Ob Probestunden, 10er-Karten oder Abos, Privatstunden, Workshops, Pole Parties, Junggesellinnen - Abschiede oder Pole Shows - wir haben für jeden das richtige Angebot.'"
      ]
     },
     "execution_count": 51,
     "metadata": {},
     "output_type": "execute_result"
    }
   ],
   "source": [
    "# Pole Studio Description \n",
    "description_text = polestudio_soup.find('p', class_='MuiTypography-root MuiTypography-body1 css-154jcan').text\n",
    "\n",
    "description_text"
   ]
  },
  {
   "cell_type": "code",
   "execution_count": 52,
   "metadata": {},
   "outputs": [
    {
     "name": "stdout",
     "output_type": "stream",
     "text": [
      "Overall Rating: 4,9\n",
      "Number of Reviews: 51 Rezensionen\n"
     ]
    }
   ],
   "source": [
    "# Rating\n",
    "rating_element = polestudio_soup.find('p', class_='MuiTypography-root MuiTypography-body1 css-2g7rhg')\n",
    "\n",
    "rating_text_list = []\n",
    "\n",
    "if rating_element:\n",
    "    rating_text = rating_element.text\n",
    "    \n",
    "    # Split the rating text based on the opening parenthesis and remove any trailing white spaces\n",
    "    rating_parts = rating_text.split('(')\n",
    "    overall_rating = rating_parts[0].strip()\n",
    "    num_reviews = rating_parts[1].replace(')', '').strip()\n",
    "\n",
    "    # Append the extracted parts to the list\n",
    "    rating_text_list.append(overall_rating)\n",
    "    rating_text_list.append(num_reviews)\n",
    "\n",
    "    print(\"Overall Rating:\", overall_rating)\n",
    "    print(\"Number of Reviews:\", num_reviews)\n",
    "else:\n",
    "    print(\"Rating element not found or doesn't have the specified class.\")"
   ]
  },
  {
   "cell_type": "code",
   "execution_count": 53,
   "metadata": {},
   "outputs": [
    {
     "name": "stdout",
     "output_type": "stream",
     "text": [
      "['Raumqualität: 5.0', 'Freundlichkeit & Service: 4.9', 'Sauberkeit: 5.0', 'Atmosphäre: 5.0', 'Preis-Leistung: 4.9']\n"
     ]
    }
   ],
   "source": [
    "# Rating Factors\n",
    "items = polestudio_soup.find_all('div', class_='MuiStack-root css-95g4uk')\n",
    "\n",
    "combined_items = []\n",
    "\n",
    "# Iterate through the found elements and extract the desired information\n",
    "for item in items:\n",
    "    # Extract the text related to each item\n",
    "    item_name = item.find('p', class_='MuiTypography-root MuiTypography-body1 css-1k55edk')\n",
    "    item_score = item.find('p', class_='MuiTypography-root MuiTypography-body1 css-1y0caop')\n",
    "\n",
    "    if item_name and item_score:\n",
    "        combined_item = f\"{item_name.text}: {item_score.text}\"\n",
    "        combined_items.append(combined_item)\n",
    "\n",
    "# Print the combined list\n",
    "print(combined_items)"
   ]
  },
  {
   "cell_type": "code",
   "execution_count": 54,
   "metadata": {},
   "outputs": [
    {
     "name": "stdout",
     "output_type": "stream",
     "text": [
      "Fitness\n",
      "Tanzen\n",
      "Fitness\n",
      "Yoga\n",
      "Tanzen\n",
      "Fitness\n",
      "Tanzen\n",
      "Fitness\n",
      "51 Rezensionen\n",
      "Fitness\n",
      "Tanzen\n",
      "Yoga\n",
      "Poledance\n",
      "Personal Training\n",
      "Akrobatik\n",
      "Power Pole\n",
      "Stretching\n",
      "Floorwork\n",
      "Chairdance\n",
      "Aerial Silk\n",
      "Aerial Dance\n",
      "Aerial Hoop\n",
      "Aerial Akrobatik\n",
      "Polesport\n",
      "Online Klasse\n",
      "Bodybalance\n",
      "Workout\n",
      "Dehnung/Flexibilität\n",
      "Twerken\n",
      "Luftartistik\n"
     ]
    }
   ],
   "source": [
    "#Art (Sportarten und Aktivitäten)\n",
    "art = polestudio_soup.find_all(\"p\", class_ = \"MuiTypography-root MuiTypography-body1 css-6ik050\")\n",
    "\n",
    "arten = []\n",
    "\n",
    "for item in art:\n",
    "    \n",
    "    print(item.text)\n",
    "    arten.append(item.text)"
   ]
  },
  {
   "cell_type": "code",
   "execution_count": 55,
   "metadata": {},
   "outputs": [],
   "source": [
    "owner = []\n",
    "id = []"
   ]
  },
  {
   "cell_type": "code",
   "execution_count": 56,
   "metadata": {},
   "outputs": [],
   "source": [
    "# create a dictionary from the given lists\n",
    "pole_studio_overview = {\n",
    "    'ID':id,\n",
    "    'PoleStudio_Name': pole_studio_name,\n",
    "    'Adresse': address,\n",
    "    'PLZ': postal_code,\n",
    "    'Stadt': town,\n",
    "    'Straße': street,\n",
    "    'Buttons': button_text,\n",
    "    'Pole Studio Beschreibung': description_text,\n",
    "    'Ratingscore': rating_text_list[0],\n",
    "    'Reviewanzahl': rating_text_list[1],\n",
    "    'Rating Faktoren': combined_items,\n",
    "    'E-Mail': contact_row['E-Mail'],\n",
    "    'Homepage': contact_row['Homepage'],\n",
    "    'Telefon': contact_row['Telefon'],\n",
    "    'Eversports Pole Studio Seite': url,\n",
    "    'Owner':owner,\n",
    "    'Art':arten\n",
    "    }\n",
    "\n",
    "# create pandas dataframe\n",
    "pole_studio_overview_df = pd.DataFrame([pole_studio_overview])\n",
    "\n",
    "# Make a datastamp\n",
    "pole_studio_overview_df['Created Date'] = datetime.now().strftime(\"%Y-%m-%d %H:%M:%S\")\n",
    "pole_studio_overview_df['Updated Date'] = datetime.now().strftime(\"%Y-%m-%d %H:%M:%S\")"
   ]
  },
  {
   "cell_type": "code",
   "execution_count": 57,
   "metadata": {},
   "outputs": [
    {
     "data": {
      "text/html": [
       "<div>\n",
       "<style scoped>\n",
       "    .dataframe tbody tr th:only-of-type {\n",
       "        vertical-align: middle;\n",
       "    }\n",
       "\n",
       "    .dataframe tbody tr th {\n",
       "        vertical-align: top;\n",
       "    }\n",
       "\n",
       "    .dataframe thead th {\n",
       "        text-align: right;\n",
       "    }\n",
       "</style>\n",
       "<table border=\"1\" class=\"dataframe\">\n",
       "  <thead>\n",
       "    <tr style=\"text-align: right;\">\n",
       "      <th></th>\n",
       "      <th>ID</th>\n",
       "      <th>PoleStudio_Name</th>\n",
       "      <th>Adresse</th>\n",
       "      <th>PLZ</th>\n",
       "      <th>Stadt</th>\n",
       "      <th>Straße</th>\n",
       "      <th>Buttons</th>\n",
       "      <th>Pole Studio Beschreibung</th>\n",
       "      <th>Ratingscore</th>\n",
       "      <th>Reviewanzahl</th>\n",
       "      <th>Rating Faktoren</th>\n",
       "      <th>E-Mail</th>\n",
       "      <th>Homepage</th>\n",
       "      <th>Telefon</th>\n",
       "      <th>Eversports Pole Studio Seite</th>\n",
       "      <th>Owner</th>\n",
       "      <th>Art</th>\n",
       "      <th>Created Date</th>\n",
       "      <th>Updated Date</th>\n",
       "    </tr>\n",
       "  </thead>\n",
       "  <tbody>\n",
       "    <tr>\n",
       "      <th>0</th>\n",
       "      <td>[]</td>\n",
       "      <td>poda Studio</td>\n",
       "      <td>[Martinstraße 10-12 ,  52062 Aachen]</td>\n",
       "      <td>52062</td>\n",
       "      <td>Aachen</td>\n",
       "      <td>Martinstraße 10-12</td>\n",
       "      <td>[Übersicht, Klassen, Workshops, Videos, Preise...</td>\n",
       "      <td>Flieg mit uns! Poda ist das größte Pole Dance ...</td>\n",
       "      <td>4,9</td>\n",
       "      <td>51 Rezensionen</td>\n",
       "      <td>[Raumqualität: 5.0, Freundlichkeit &amp; Service: ...</td>\n",
       "      <td>info@podastudio.de</td>\n",
       "      <td>https://www.podastudio.de/</td>\n",
       "      <td>+49241 95719917</td>\n",
       "      <td>https://www.eversports.de/s/poda-studio</td>\n",
       "      <td>[]</td>\n",
       "      <td>[Fitness, Tanzen, Fitness, Yoga, Tanzen, Fitne...</td>\n",
       "      <td>2023-12-17 02:10:06</td>\n",
       "      <td>2023-12-17 02:10:06</td>\n",
       "    </tr>\n",
       "  </tbody>\n",
       "</table>\n",
       "</div>"
      ],
      "text/plain": [
       "   ID PoleStudio_Name                               Adresse    PLZ   Stadt  \\\n",
       "0  []     poda Studio  [Martinstraße 10-12 ,  52062 Aachen]  52062  Aachen   \n",
       "\n",
       "                Straße                                            Buttons  \\\n",
       "0  Martinstraße 10-12   [Übersicht, Klassen, Workshops, Videos, Preise...   \n",
       "\n",
       "                            Pole Studio Beschreibung Ratingscore  \\\n",
       "0  Flieg mit uns! Poda ist das größte Pole Dance ...         4,9   \n",
       "\n",
       "     Reviewanzahl                                    Rating Faktoren  \\\n",
       "0  51 Rezensionen  [Raumqualität: 5.0, Freundlichkeit & Service: ...   \n",
       "\n",
       "                E-Mail                    Homepage          Telefon  \\\n",
       "0   info@podastudio.de  https://www.podastudio.de/  +49241 95719917   \n",
       "\n",
       "              Eversports Pole Studio Seite Owner  \\\n",
       "0  https://www.eversports.de/s/poda-studio    []   \n",
       "\n",
       "                                                 Art         Created Date  \\\n",
       "0  [Fitness, Tanzen, Fitness, Yoga, Tanzen, Fitne...  2023-12-17 02:10:06   \n",
       "\n",
       "          Updated Date  \n",
       "0  2023-12-17 02:10:06  "
      ]
     },
     "execution_count": 57,
     "metadata": {},
     "output_type": "execute_result"
    }
   ],
   "source": [
    "pole_studio_overview_df"
   ]
  },
  {
   "cell_type": "code",
   "execution_count": 58,
   "metadata": {},
   "outputs": [],
   "source": [
    "#Online Studios (Pole Studio)"
   ]
  },
  {
   "cell_type": "code",
   "execution_count": 59,
   "metadata": {},
   "outputs": [
    {
     "ename": "KeyboardInterrupt",
     "evalue": "",
     "output_type": "error",
     "traceback": [
      "\u001b[1;31m---------------------------------------------------------------------------\u001b[0m",
      "\u001b[1;31mKeyboardInterrupt\u001b[0m                         Traceback (most recent call last)",
      "Cell \u001b[1;32mIn[59], line 2\u001b[0m\n\u001b[0;32m      1\u001b[0m \u001b[38;5;66;03m#Bildergalerie\u001b[39;00m\n\u001b[1;32m----> 2\u001b[0m pictures \u001b[38;5;241m=\u001b[39m \u001b[43mpolestudio_soup\u001b[49m\u001b[38;5;241;43m.\u001b[39;49m\u001b[43mfind_all\u001b[49m\u001b[43m(\u001b[49m\u001b[43mdiv\u001b[49m\u001b[43m,\u001b[49m\u001b[43m \u001b[49m\u001b[43mclass_\u001b[49m\u001b[38;5;241;43m=\u001b[39;49m\u001b[38;5;124;43m\"\u001b[39;49m\u001b[38;5;124;43mMuiStack-root css-1a7wvso\u001b[39;49m\u001b[38;5;124;43m\"\u001b[39;49m\u001b[43m)\u001b[49m\n",
      "File \u001b[1;32m~\\AppData\\Roaming\\Python\\Python312\\site-packages\\bs4\\element.py:2030\u001b[0m, in \u001b[0;36mTag.find_all\u001b[1;34m(self, name, attrs, recursive, string, limit, **kwargs)\u001b[0m\n\u001b[0;32m   2028\u001b[0m     generator \u001b[38;5;241m=\u001b[39m \u001b[38;5;28mself\u001b[39m\u001b[38;5;241m.\u001b[39mchildren\n\u001b[0;32m   2029\u001b[0m _stacklevel \u001b[38;5;241m=\u001b[39m kwargs\u001b[38;5;241m.\u001b[39mpop(\u001b[38;5;124m'\u001b[39m\u001b[38;5;124m_stacklevel\u001b[39m\u001b[38;5;124m'\u001b[39m, \u001b[38;5;241m2\u001b[39m)\n\u001b[1;32m-> 2030\u001b[0m \u001b[38;5;28;01mreturn\u001b[39;00m \u001b[38;5;28;43mself\u001b[39;49m\u001b[38;5;241;43m.\u001b[39;49m\u001b[43m_find_all\u001b[49m\u001b[43m(\u001b[49m\u001b[43mname\u001b[49m\u001b[43m,\u001b[49m\u001b[43m \u001b[49m\u001b[43mattrs\u001b[49m\u001b[43m,\u001b[49m\u001b[43m \u001b[49m\u001b[43mstring\u001b[49m\u001b[43m,\u001b[49m\u001b[43m \u001b[49m\u001b[43mlimit\u001b[49m\u001b[43m,\u001b[49m\u001b[43m \u001b[49m\u001b[43mgenerator\u001b[49m\u001b[43m,\u001b[49m\n\u001b[0;32m   2031\u001b[0m \u001b[43m                      \u001b[49m\u001b[43m_stacklevel\u001b[49m\u001b[38;5;241;43m=\u001b[39;49m\u001b[43m_stacklevel\u001b[49m\u001b[38;5;241;43m+\u001b[39;49m\u001b[38;5;241;43m1\u001b[39;49m\u001b[43m,\u001b[49m\u001b[43m \u001b[49m\u001b[38;5;241;43m*\u001b[39;49m\u001b[38;5;241;43m*\u001b[39;49m\u001b[43mkwargs\u001b[49m\u001b[43m)\u001b[49m\n",
      "File \u001b[1;32m~\\AppData\\Roaming\\Python\\Python312\\site-packages\\bs4\\element.py:841\u001b[0m, in \u001b[0;36mPageElement._find_all\u001b[1;34m(self, name, attrs, string, limit, generator, **kwargs)\u001b[0m\n\u001b[0;32m    839\u001b[0m     \u001b[38;5;28;01mbreak\u001b[39;00m\n\u001b[0;32m    840\u001b[0m \u001b[38;5;28;01mif\u001b[39;00m i:\n\u001b[1;32m--> 841\u001b[0m     found \u001b[38;5;241m=\u001b[39m \u001b[43mstrainer\u001b[49m\u001b[38;5;241;43m.\u001b[39;49m\u001b[43msearch\u001b[49m\u001b[43m(\u001b[49m\u001b[43mi\u001b[49m\u001b[43m)\u001b[49m\n\u001b[0;32m    842\u001b[0m     \u001b[38;5;28;01mif\u001b[39;00m found:\n\u001b[0;32m    843\u001b[0m         results\u001b[38;5;241m.\u001b[39mappend(found)\n",
      "File \u001b[1;32m~\\AppData\\Roaming\\Python\\Python312\\site-packages\\bs4\\element.py:2320\u001b[0m, in \u001b[0;36mSoupStrainer.search\u001b[1;34m(self, markup)\u001b[0m\n\u001b[0;32m   2318\u001b[0m \u001b[38;5;28;01melif\u001b[39;00m \u001b[38;5;28misinstance\u001b[39m(markup, Tag):\n\u001b[0;32m   2319\u001b[0m     \u001b[38;5;28;01mif\u001b[39;00m \u001b[38;5;129;01mnot\u001b[39;00m \u001b[38;5;28mself\u001b[39m\u001b[38;5;241m.\u001b[39mstring \u001b[38;5;129;01mor\u001b[39;00m \u001b[38;5;28mself\u001b[39m\u001b[38;5;241m.\u001b[39mname \u001b[38;5;129;01mor\u001b[39;00m \u001b[38;5;28mself\u001b[39m\u001b[38;5;241m.\u001b[39mattrs:\n\u001b[1;32m-> 2320\u001b[0m         found \u001b[38;5;241m=\u001b[39m \u001b[38;5;28;43mself\u001b[39;49m\u001b[38;5;241;43m.\u001b[39;49m\u001b[43msearch_tag\u001b[49m\u001b[43m(\u001b[49m\u001b[43mmarkup\u001b[49m\u001b[43m)\u001b[49m\n\u001b[0;32m   2321\u001b[0m \u001b[38;5;66;03m# If it's text, make sure the text matches.\u001b[39;00m\n\u001b[0;32m   2322\u001b[0m \u001b[38;5;28;01melif\u001b[39;00m \u001b[38;5;28misinstance\u001b[39m(markup, NavigableString) \u001b[38;5;129;01mor\u001b[39;00m \\\n\u001b[0;32m   2323\u001b[0m          \u001b[38;5;28misinstance\u001b[39m(markup, \u001b[38;5;28mstr\u001b[39m):\n",
      "File \u001b[1;32m~\\AppData\\Roaming\\Python\\Python312\\site-packages\\bs4\\element.py:2267\u001b[0m, in \u001b[0;36mSoupStrainer.search_tag\u001b[1;34m(self, markup_name, markup_attrs)\u001b[0m\n\u001b[0;32m   2259\u001b[0m          \u001b[38;5;28;01mreturn\u001b[39;00m \u001b[38;5;28;01mFalse\u001b[39;00m\n\u001b[0;32m   2261\u001b[0m call_function_with_tag_data \u001b[38;5;241m=\u001b[39m (\n\u001b[0;32m   2262\u001b[0m     \u001b[38;5;28misinstance\u001b[39m(\u001b[38;5;28mself\u001b[39m\u001b[38;5;241m.\u001b[39mname, Callable)\n\u001b[0;32m   2263\u001b[0m     \u001b[38;5;129;01mand\u001b[39;00m \u001b[38;5;129;01mnot\u001b[39;00m \u001b[38;5;28misinstance\u001b[39m(markup_name, Tag))\n\u001b[0;32m   2265\u001b[0m \u001b[38;5;28;01mif\u001b[39;00m ((\u001b[38;5;129;01mnot\u001b[39;00m \u001b[38;5;28mself\u001b[39m\u001b[38;5;241m.\u001b[39mname)\n\u001b[0;32m   2266\u001b[0m     \u001b[38;5;129;01mor\u001b[39;00m call_function_with_tag_data\n\u001b[1;32m-> 2267\u001b[0m     \u001b[38;5;129;01mor\u001b[39;00m (markup \u001b[38;5;129;01mand\u001b[39;00m \u001b[38;5;28;43mself\u001b[39;49m\u001b[38;5;241;43m.\u001b[39;49m\u001b[43m_matches\u001b[49m\u001b[43m(\u001b[49m\u001b[43mmarkup\u001b[49m\u001b[43m,\u001b[49m\u001b[43m \u001b[49m\u001b[38;5;28;43mself\u001b[39;49m\u001b[38;5;241;43m.\u001b[39;49m\u001b[43mname\u001b[49m\u001b[43m)\u001b[49m)\n\u001b[0;32m   2268\u001b[0m     \u001b[38;5;129;01mor\u001b[39;00m (\u001b[38;5;129;01mnot\u001b[39;00m markup \u001b[38;5;129;01mand\u001b[39;00m \u001b[38;5;28mself\u001b[39m\u001b[38;5;241m.\u001b[39m_matches(markup_name, \u001b[38;5;28mself\u001b[39m\u001b[38;5;241m.\u001b[39mname))):\n\u001b[0;32m   2269\u001b[0m     \u001b[38;5;28;01mif\u001b[39;00m call_function_with_tag_data:\n\u001b[0;32m   2270\u001b[0m         match \u001b[38;5;241m=\u001b[39m \u001b[38;5;28mself\u001b[39m\u001b[38;5;241m.\u001b[39mname(markup_name, markup_attrs)\n",
      "File \u001b[1;32m~\\AppData\\Roaming\\Python\\Python312\\site-packages\\bs4\\element.py:2352\u001b[0m, in \u001b[0;36mSoupStrainer._matches\u001b[1;34m(self, markup, match_against, already_tried)\u001b[0m\n\u001b[0;32m   2349\u001b[0m     \u001b[38;5;28;01mreturn\u001b[39;00m markup \u001b[38;5;129;01mis\u001b[39;00m \u001b[38;5;129;01mnot\u001b[39;00m \u001b[38;5;28;01mNone\u001b[39;00m\n\u001b[0;32m   2351\u001b[0m \u001b[38;5;28;01mif\u001b[39;00m \u001b[38;5;28misinstance\u001b[39m(match_against, Callable):\n\u001b[1;32m-> 2352\u001b[0m     \u001b[38;5;28;01mreturn\u001b[39;00m \u001b[43mmatch_against\u001b[49m\u001b[43m(\u001b[49m\u001b[43mmarkup\u001b[49m\u001b[43m)\u001b[49m\n\u001b[0;32m   2354\u001b[0m \u001b[38;5;66;03m# Custom callables take the tag as an argument, but all\u001b[39;00m\n\u001b[0;32m   2355\u001b[0m \u001b[38;5;66;03m# other ways of matching match the tag name as a string.\u001b[39;00m\n\u001b[0;32m   2356\u001b[0m original_markup \u001b[38;5;241m=\u001b[39m markup\n",
      "File \u001b[1;32m~\\AppData\\Roaming\\Python\\Python312\\site-packages\\bs4\\element.py:1603\u001b[0m, in \u001b[0;36mTag.__call__\u001b[1;34m(self, *args, **kwargs)\u001b[0m\n\u001b[0;32m   1599\u001b[0m \u001b[38;5;28;01mdef\u001b[39;00m \u001b[38;5;21m__call__\u001b[39m(\u001b[38;5;28mself\u001b[39m, \u001b[38;5;241m*\u001b[39margs, \u001b[38;5;241m*\u001b[39m\u001b[38;5;241m*\u001b[39mkwargs):\n\u001b[0;32m   1600\u001b[0m \u001b[38;5;250m    \u001b[39m\u001b[38;5;124;03m\"\"\"Calling a Tag like a function is the same as calling its\u001b[39;00m\n\u001b[0;32m   1601\u001b[0m \u001b[38;5;124;03m    find_all() method. Eg. tag('a') returns a list of all the A tags\u001b[39;00m\n\u001b[0;32m   1602\u001b[0m \u001b[38;5;124;03m    found within this tag.\"\"\"\u001b[39;00m\n\u001b[1;32m-> 1603\u001b[0m     \u001b[38;5;28;01mreturn\u001b[39;00m \u001b[38;5;28;43mself\u001b[39;49m\u001b[38;5;241;43m.\u001b[39;49m\u001b[43mfind_all\u001b[49m\u001b[43m(\u001b[49m\u001b[38;5;241;43m*\u001b[39;49m\u001b[43margs\u001b[49m\u001b[43m,\u001b[49m\u001b[43m \u001b[49m\u001b[38;5;241;43m*\u001b[39;49m\u001b[38;5;241;43m*\u001b[39;49m\u001b[43mkwargs\u001b[49m\u001b[43m)\u001b[49m\n",
      "File \u001b[1;32m~\\AppData\\Roaming\\Python\\Python312\\site-packages\\bs4\\element.py:2030\u001b[0m, in \u001b[0;36mTag.find_all\u001b[1;34m(self, name, attrs, recursive, string, limit, **kwargs)\u001b[0m\n\u001b[0;32m   2028\u001b[0m     generator \u001b[38;5;241m=\u001b[39m \u001b[38;5;28mself\u001b[39m\u001b[38;5;241m.\u001b[39mchildren\n\u001b[0;32m   2029\u001b[0m _stacklevel \u001b[38;5;241m=\u001b[39m kwargs\u001b[38;5;241m.\u001b[39mpop(\u001b[38;5;124m'\u001b[39m\u001b[38;5;124m_stacklevel\u001b[39m\u001b[38;5;124m'\u001b[39m, \u001b[38;5;241m2\u001b[39m)\n\u001b[1;32m-> 2030\u001b[0m \u001b[38;5;28;01mreturn\u001b[39;00m \u001b[38;5;28;43mself\u001b[39;49m\u001b[38;5;241;43m.\u001b[39;49m\u001b[43m_find_all\u001b[49m\u001b[43m(\u001b[49m\u001b[43mname\u001b[49m\u001b[43m,\u001b[49m\u001b[43m \u001b[49m\u001b[43mattrs\u001b[49m\u001b[43m,\u001b[49m\u001b[43m \u001b[49m\u001b[43mstring\u001b[49m\u001b[43m,\u001b[49m\u001b[43m \u001b[49m\u001b[43mlimit\u001b[49m\u001b[43m,\u001b[49m\u001b[43m \u001b[49m\u001b[43mgenerator\u001b[49m\u001b[43m,\u001b[49m\n\u001b[0;32m   2031\u001b[0m \u001b[43m                      \u001b[49m\u001b[43m_stacklevel\u001b[49m\u001b[38;5;241;43m=\u001b[39;49m\u001b[43m_stacklevel\u001b[49m\u001b[38;5;241;43m+\u001b[39;49m\u001b[38;5;241;43m1\u001b[39;49m\u001b[43m,\u001b[49m\u001b[43m \u001b[49m\u001b[38;5;241;43m*\u001b[39;49m\u001b[38;5;241;43m*\u001b[39;49m\u001b[43mkwargs\u001b[49m\u001b[43m)\u001b[49m\n",
      "File \u001b[1;32m~\\AppData\\Roaming\\Python\\Python312\\site-packages\\bs4\\element.py:841\u001b[0m, in \u001b[0;36mPageElement._find_all\u001b[1;34m(self, name, attrs, string, limit, generator, **kwargs)\u001b[0m\n\u001b[0;32m    839\u001b[0m     \u001b[38;5;28;01mbreak\u001b[39;00m\n\u001b[0;32m    840\u001b[0m \u001b[38;5;28;01mif\u001b[39;00m i:\n\u001b[1;32m--> 841\u001b[0m     found \u001b[38;5;241m=\u001b[39m \u001b[43mstrainer\u001b[49m\u001b[38;5;241;43m.\u001b[39;49m\u001b[43msearch\u001b[49m\u001b[43m(\u001b[49m\u001b[43mi\u001b[49m\u001b[43m)\u001b[49m\n\u001b[0;32m    842\u001b[0m     \u001b[38;5;28;01mif\u001b[39;00m found:\n\u001b[0;32m    843\u001b[0m         results\u001b[38;5;241m.\u001b[39mappend(found)\n",
      "File \u001b[1;32m~\\AppData\\Roaming\\Python\\Python312\\site-packages\\bs4\\element.py:2320\u001b[0m, in \u001b[0;36mSoupStrainer.search\u001b[1;34m(self, markup)\u001b[0m\n\u001b[0;32m   2318\u001b[0m \u001b[38;5;28;01melif\u001b[39;00m \u001b[38;5;28misinstance\u001b[39m(markup, Tag):\n\u001b[0;32m   2319\u001b[0m     \u001b[38;5;28;01mif\u001b[39;00m \u001b[38;5;129;01mnot\u001b[39;00m \u001b[38;5;28mself\u001b[39m\u001b[38;5;241m.\u001b[39mstring \u001b[38;5;129;01mor\u001b[39;00m \u001b[38;5;28mself\u001b[39m\u001b[38;5;241m.\u001b[39mname \u001b[38;5;129;01mor\u001b[39;00m \u001b[38;5;28mself\u001b[39m\u001b[38;5;241m.\u001b[39mattrs:\n\u001b[1;32m-> 2320\u001b[0m         found \u001b[38;5;241m=\u001b[39m \u001b[38;5;28;43mself\u001b[39;49m\u001b[38;5;241;43m.\u001b[39;49m\u001b[43msearch_tag\u001b[49m\u001b[43m(\u001b[49m\u001b[43mmarkup\u001b[49m\u001b[43m)\u001b[49m\n\u001b[0;32m   2321\u001b[0m \u001b[38;5;66;03m# If it's text, make sure the text matches.\u001b[39;00m\n\u001b[0;32m   2322\u001b[0m \u001b[38;5;28;01melif\u001b[39;00m \u001b[38;5;28misinstance\u001b[39m(markup, NavigableString) \u001b[38;5;129;01mor\u001b[39;00m \\\n\u001b[0;32m   2323\u001b[0m          \u001b[38;5;28misinstance\u001b[39m(markup, \u001b[38;5;28mstr\u001b[39m):\n",
      "File \u001b[1;32m~\\AppData\\Roaming\\Python\\Python312\\site-packages\\bs4\\element.py:2267\u001b[0m, in \u001b[0;36mSoupStrainer.search_tag\u001b[1;34m(self, markup_name, markup_attrs)\u001b[0m\n\u001b[0;32m   2259\u001b[0m          \u001b[38;5;28;01mreturn\u001b[39;00m \u001b[38;5;28;01mFalse\u001b[39;00m\n\u001b[0;32m   2261\u001b[0m call_function_with_tag_data \u001b[38;5;241m=\u001b[39m (\n\u001b[0;32m   2262\u001b[0m     \u001b[38;5;28misinstance\u001b[39m(\u001b[38;5;28mself\u001b[39m\u001b[38;5;241m.\u001b[39mname, Callable)\n\u001b[0;32m   2263\u001b[0m     \u001b[38;5;129;01mand\u001b[39;00m \u001b[38;5;129;01mnot\u001b[39;00m \u001b[38;5;28misinstance\u001b[39m(markup_name, Tag))\n\u001b[0;32m   2265\u001b[0m \u001b[38;5;28;01mif\u001b[39;00m ((\u001b[38;5;129;01mnot\u001b[39;00m \u001b[38;5;28mself\u001b[39m\u001b[38;5;241m.\u001b[39mname)\n\u001b[0;32m   2266\u001b[0m     \u001b[38;5;129;01mor\u001b[39;00m call_function_with_tag_data\n\u001b[1;32m-> 2267\u001b[0m     \u001b[38;5;129;01mor\u001b[39;00m (markup \u001b[38;5;129;01mand\u001b[39;00m \u001b[38;5;28;43mself\u001b[39;49m\u001b[38;5;241;43m.\u001b[39;49m\u001b[43m_matches\u001b[49m\u001b[43m(\u001b[49m\u001b[43mmarkup\u001b[49m\u001b[43m,\u001b[49m\u001b[43m \u001b[49m\u001b[38;5;28;43mself\u001b[39;49m\u001b[38;5;241;43m.\u001b[39;49m\u001b[43mname\u001b[49m\u001b[43m)\u001b[49m)\n\u001b[0;32m   2268\u001b[0m     \u001b[38;5;129;01mor\u001b[39;00m (\u001b[38;5;129;01mnot\u001b[39;00m markup \u001b[38;5;129;01mand\u001b[39;00m \u001b[38;5;28mself\u001b[39m\u001b[38;5;241m.\u001b[39m_matches(markup_name, \u001b[38;5;28mself\u001b[39m\u001b[38;5;241m.\u001b[39mname))):\n\u001b[0;32m   2269\u001b[0m     \u001b[38;5;28;01mif\u001b[39;00m call_function_with_tag_data:\n\u001b[0;32m   2270\u001b[0m         match \u001b[38;5;241m=\u001b[39m \u001b[38;5;28mself\u001b[39m\u001b[38;5;241m.\u001b[39mname(markup_name, markup_attrs)\n",
      "File \u001b[1;32m~\\AppData\\Roaming\\Python\\Python312\\site-packages\\bs4\\element.py:2352\u001b[0m, in \u001b[0;36mSoupStrainer._matches\u001b[1;34m(self, markup, match_against, already_tried)\u001b[0m\n\u001b[0;32m   2349\u001b[0m     \u001b[38;5;28;01mreturn\u001b[39;00m markup \u001b[38;5;129;01mis\u001b[39;00m \u001b[38;5;129;01mnot\u001b[39;00m \u001b[38;5;28;01mNone\u001b[39;00m\n\u001b[0;32m   2351\u001b[0m \u001b[38;5;28;01mif\u001b[39;00m \u001b[38;5;28misinstance\u001b[39m(match_against, Callable):\n\u001b[1;32m-> 2352\u001b[0m     \u001b[38;5;28;01mreturn\u001b[39;00m \u001b[43mmatch_against\u001b[49m\u001b[43m(\u001b[49m\u001b[43mmarkup\u001b[49m\u001b[43m)\u001b[49m\n\u001b[0;32m   2354\u001b[0m \u001b[38;5;66;03m# Custom callables take the tag as an argument, but all\u001b[39;00m\n\u001b[0;32m   2355\u001b[0m \u001b[38;5;66;03m# other ways of matching match the tag name as a string.\u001b[39;00m\n\u001b[0;32m   2356\u001b[0m original_markup \u001b[38;5;241m=\u001b[39m markup\n",
      "File \u001b[1;32m~\\AppData\\Roaming\\Python\\Python312\\site-packages\\bs4\\element.py:1603\u001b[0m, in \u001b[0;36mTag.__call__\u001b[1;34m(self, *args, **kwargs)\u001b[0m\n\u001b[0;32m   1599\u001b[0m \u001b[38;5;28;01mdef\u001b[39;00m \u001b[38;5;21m__call__\u001b[39m(\u001b[38;5;28mself\u001b[39m, \u001b[38;5;241m*\u001b[39margs, \u001b[38;5;241m*\u001b[39m\u001b[38;5;241m*\u001b[39mkwargs):\n\u001b[0;32m   1600\u001b[0m \u001b[38;5;250m    \u001b[39m\u001b[38;5;124;03m\"\"\"Calling a Tag like a function is the same as calling its\u001b[39;00m\n\u001b[0;32m   1601\u001b[0m \u001b[38;5;124;03m    find_all() method. Eg. tag('a') returns a list of all the A tags\u001b[39;00m\n\u001b[0;32m   1602\u001b[0m \u001b[38;5;124;03m    found within this tag.\"\"\"\u001b[39;00m\n\u001b[1;32m-> 1603\u001b[0m     \u001b[38;5;28;01mreturn\u001b[39;00m \u001b[38;5;28;43mself\u001b[39;49m\u001b[38;5;241;43m.\u001b[39;49m\u001b[43mfind_all\u001b[49m\u001b[43m(\u001b[49m\u001b[38;5;241;43m*\u001b[39;49m\u001b[43margs\u001b[49m\u001b[43m,\u001b[49m\u001b[43m \u001b[49m\u001b[38;5;241;43m*\u001b[39;49m\u001b[38;5;241;43m*\u001b[39;49m\u001b[43mkwargs\u001b[49m\u001b[43m)\u001b[49m\n",
      "    \u001b[1;31m[... skipping similar frames: Tag.__call__ at line 1603 (5 times), PageElement._find_all at line 841 (5 times), SoupStrainer._matches at line 2352 (5 times), Tag.find_all at line 2030 (5 times), SoupStrainer.search at line 2320 (5 times), SoupStrainer.search_tag at line 2267 (5 times)]\u001b[0m\n",
      "File \u001b[1;32m~\\AppData\\Roaming\\Python\\Python312\\site-packages\\bs4\\element.py:2030\u001b[0m, in \u001b[0;36mTag.find_all\u001b[1;34m(self, name, attrs, recursive, string, limit, **kwargs)\u001b[0m\n\u001b[0;32m   2028\u001b[0m     generator \u001b[38;5;241m=\u001b[39m \u001b[38;5;28mself\u001b[39m\u001b[38;5;241m.\u001b[39mchildren\n\u001b[0;32m   2029\u001b[0m _stacklevel \u001b[38;5;241m=\u001b[39m kwargs\u001b[38;5;241m.\u001b[39mpop(\u001b[38;5;124m'\u001b[39m\u001b[38;5;124m_stacklevel\u001b[39m\u001b[38;5;124m'\u001b[39m, \u001b[38;5;241m2\u001b[39m)\n\u001b[1;32m-> 2030\u001b[0m \u001b[38;5;28;01mreturn\u001b[39;00m \u001b[38;5;28;43mself\u001b[39;49m\u001b[38;5;241;43m.\u001b[39;49m\u001b[43m_find_all\u001b[49m\u001b[43m(\u001b[49m\u001b[43mname\u001b[49m\u001b[43m,\u001b[49m\u001b[43m \u001b[49m\u001b[43mattrs\u001b[49m\u001b[43m,\u001b[49m\u001b[43m \u001b[49m\u001b[43mstring\u001b[49m\u001b[43m,\u001b[49m\u001b[43m \u001b[49m\u001b[43mlimit\u001b[49m\u001b[43m,\u001b[49m\u001b[43m \u001b[49m\u001b[43mgenerator\u001b[49m\u001b[43m,\u001b[49m\n\u001b[0;32m   2031\u001b[0m \u001b[43m                      \u001b[49m\u001b[43m_stacklevel\u001b[49m\u001b[38;5;241;43m=\u001b[39;49m\u001b[43m_stacklevel\u001b[49m\u001b[38;5;241;43m+\u001b[39;49m\u001b[38;5;241;43m1\u001b[39;49m\u001b[43m,\u001b[49m\u001b[43m \u001b[49m\u001b[38;5;241;43m*\u001b[39;49m\u001b[38;5;241;43m*\u001b[39;49m\u001b[43mkwargs\u001b[49m\u001b[43m)\u001b[49m\n",
      "File \u001b[1;32m~\\AppData\\Roaming\\Python\\Python312\\site-packages\\bs4\\element.py:841\u001b[0m, in \u001b[0;36mPageElement._find_all\u001b[1;34m(self, name, attrs, string, limit, generator, **kwargs)\u001b[0m\n\u001b[0;32m    839\u001b[0m     \u001b[38;5;28;01mbreak\u001b[39;00m\n\u001b[0;32m    840\u001b[0m \u001b[38;5;28;01mif\u001b[39;00m i:\n\u001b[1;32m--> 841\u001b[0m     found \u001b[38;5;241m=\u001b[39m \u001b[43mstrainer\u001b[49m\u001b[38;5;241;43m.\u001b[39;49m\u001b[43msearch\u001b[49m\u001b[43m(\u001b[49m\u001b[43mi\u001b[49m\u001b[43m)\u001b[49m\n\u001b[0;32m    842\u001b[0m     \u001b[38;5;28;01mif\u001b[39;00m found:\n\u001b[0;32m    843\u001b[0m         results\u001b[38;5;241m.\u001b[39mappend(found)\n",
      "File \u001b[1;32m~\\AppData\\Roaming\\Python\\Python312\\site-packages\\bs4\\element.py:2320\u001b[0m, in \u001b[0;36mSoupStrainer.search\u001b[1;34m(self, markup)\u001b[0m\n\u001b[0;32m   2318\u001b[0m \u001b[38;5;28;01melif\u001b[39;00m \u001b[38;5;28misinstance\u001b[39m(markup, Tag):\n\u001b[0;32m   2319\u001b[0m     \u001b[38;5;28;01mif\u001b[39;00m \u001b[38;5;129;01mnot\u001b[39;00m \u001b[38;5;28mself\u001b[39m\u001b[38;5;241m.\u001b[39mstring \u001b[38;5;129;01mor\u001b[39;00m \u001b[38;5;28mself\u001b[39m\u001b[38;5;241m.\u001b[39mname \u001b[38;5;129;01mor\u001b[39;00m \u001b[38;5;28mself\u001b[39m\u001b[38;5;241m.\u001b[39mattrs:\n\u001b[1;32m-> 2320\u001b[0m         found \u001b[38;5;241m=\u001b[39m \u001b[38;5;28;43mself\u001b[39;49m\u001b[38;5;241;43m.\u001b[39;49m\u001b[43msearch_tag\u001b[49m\u001b[43m(\u001b[49m\u001b[43mmarkup\u001b[49m\u001b[43m)\u001b[49m\n\u001b[0;32m   2321\u001b[0m \u001b[38;5;66;03m# If it's text, make sure the text matches.\u001b[39;00m\n\u001b[0;32m   2322\u001b[0m \u001b[38;5;28;01melif\u001b[39;00m \u001b[38;5;28misinstance\u001b[39m(markup, NavigableString) \u001b[38;5;129;01mor\u001b[39;00m \\\n\u001b[0;32m   2323\u001b[0m          \u001b[38;5;28misinstance\u001b[39m(markup, \u001b[38;5;28mstr\u001b[39m):\n",
      "File \u001b[1;32m~\\AppData\\Roaming\\Python\\Python312\\site-packages\\bs4\\element.py:2267\u001b[0m, in \u001b[0;36mSoupStrainer.search_tag\u001b[1;34m(self, markup_name, markup_attrs)\u001b[0m\n\u001b[0;32m   2259\u001b[0m          \u001b[38;5;28;01mreturn\u001b[39;00m \u001b[38;5;28;01mFalse\u001b[39;00m\n\u001b[0;32m   2261\u001b[0m call_function_with_tag_data \u001b[38;5;241m=\u001b[39m (\n\u001b[0;32m   2262\u001b[0m     \u001b[38;5;28misinstance\u001b[39m(\u001b[38;5;28mself\u001b[39m\u001b[38;5;241m.\u001b[39mname, Callable)\n\u001b[0;32m   2263\u001b[0m     \u001b[38;5;129;01mand\u001b[39;00m \u001b[38;5;129;01mnot\u001b[39;00m \u001b[38;5;28misinstance\u001b[39m(markup_name, Tag))\n\u001b[0;32m   2265\u001b[0m \u001b[38;5;28;01mif\u001b[39;00m ((\u001b[38;5;129;01mnot\u001b[39;00m \u001b[38;5;28mself\u001b[39m\u001b[38;5;241m.\u001b[39mname)\n\u001b[0;32m   2266\u001b[0m     \u001b[38;5;129;01mor\u001b[39;00m call_function_with_tag_data\n\u001b[1;32m-> 2267\u001b[0m     \u001b[38;5;129;01mor\u001b[39;00m (markup \u001b[38;5;129;01mand\u001b[39;00m \u001b[38;5;28;43mself\u001b[39;49m\u001b[38;5;241;43m.\u001b[39;49m\u001b[43m_matches\u001b[49m\u001b[43m(\u001b[49m\u001b[43mmarkup\u001b[49m\u001b[43m,\u001b[49m\u001b[43m \u001b[49m\u001b[38;5;28;43mself\u001b[39;49m\u001b[38;5;241;43m.\u001b[39;49m\u001b[43mname\u001b[49m\u001b[43m)\u001b[49m)\n\u001b[0;32m   2268\u001b[0m     \u001b[38;5;129;01mor\u001b[39;00m (\u001b[38;5;129;01mnot\u001b[39;00m markup \u001b[38;5;129;01mand\u001b[39;00m \u001b[38;5;28mself\u001b[39m\u001b[38;5;241m.\u001b[39m_matches(markup_name, \u001b[38;5;28mself\u001b[39m\u001b[38;5;241m.\u001b[39mname))):\n\u001b[0;32m   2269\u001b[0m     \u001b[38;5;28;01mif\u001b[39;00m call_function_with_tag_data:\n\u001b[0;32m   2270\u001b[0m         match \u001b[38;5;241m=\u001b[39m \u001b[38;5;28mself\u001b[39m\u001b[38;5;241m.\u001b[39mname(markup_name, markup_attrs)\n",
      "File \u001b[1;32m~\\AppData\\Roaming\\Python\\Python312\\site-packages\\bs4\\element.py:2352\u001b[0m, in \u001b[0;36mSoupStrainer._matches\u001b[1;34m(self, markup, match_against, already_tried)\u001b[0m\n\u001b[0;32m   2349\u001b[0m     \u001b[38;5;28;01mreturn\u001b[39;00m markup \u001b[38;5;129;01mis\u001b[39;00m \u001b[38;5;129;01mnot\u001b[39;00m \u001b[38;5;28;01mNone\u001b[39;00m\n\u001b[0;32m   2351\u001b[0m \u001b[38;5;28;01mif\u001b[39;00m \u001b[38;5;28misinstance\u001b[39m(match_against, Callable):\n\u001b[1;32m-> 2352\u001b[0m     \u001b[38;5;28;01mreturn\u001b[39;00m \u001b[43mmatch_against\u001b[49m\u001b[43m(\u001b[49m\u001b[43mmarkup\u001b[49m\u001b[43m)\u001b[49m\n\u001b[0;32m   2354\u001b[0m \u001b[38;5;66;03m# Custom callables take the tag as an argument, but all\u001b[39;00m\n\u001b[0;32m   2355\u001b[0m \u001b[38;5;66;03m# other ways of matching match the tag name as a string.\u001b[39;00m\n\u001b[0;32m   2356\u001b[0m original_markup \u001b[38;5;241m=\u001b[39m markup\n",
      "File \u001b[1;32m~\\AppData\\Roaming\\Python\\Python312\\site-packages\\bs4\\element.py:1603\u001b[0m, in \u001b[0;36mTag.__call__\u001b[1;34m(self, *args, **kwargs)\u001b[0m\n\u001b[0;32m   1599\u001b[0m \u001b[38;5;28;01mdef\u001b[39;00m \u001b[38;5;21m__call__\u001b[39m(\u001b[38;5;28mself\u001b[39m, \u001b[38;5;241m*\u001b[39margs, \u001b[38;5;241m*\u001b[39m\u001b[38;5;241m*\u001b[39mkwargs):\n\u001b[0;32m   1600\u001b[0m \u001b[38;5;250m    \u001b[39m\u001b[38;5;124;03m\"\"\"Calling a Tag like a function is the same as calling its\u001b[39;00m\n\u001b[0;32m   1601\u001b[0m \u001b[38;5;124;03m    find_all() method. Eg. tag('a') returns a list of all the A tags\u001b[39;00m\n\u001b[0;32m   1602\u001b[0m \u001b[38;5;124;03m    found within this tag.\"\"\"\u001b[39;00m\n\u001b[1;32m-> 1603\u001b[0m     \u001b[38;5;28;01mreturn\u001b[39;00m \u001b[38;5;28;43mself\u001b[39;49m\u001b[38;5;241;43m.\u001b[39;49m\u001b[43mfind_all\u001b[49m\u001b[43m(\u001b[49m\u001b[38;5;241;43m*\u001b[39;49m\u001b[43margs\u001b[49m\u001b[43m,\u001b[49m\u001b[43m \u001b[49m\u001b[38;5;241;43m*\u001b[39;49m\u001b[38;5;241;43m*\u001b[39;49m\u001b[43mkwargs\u001b[49m\u001b[43m)\u001b[49m\n",
      "\u001b[1;31mKeyboardInterrupt\u001b[0m: "
     ]
    }
   ],
   "source": [
    "#Bildergalerie\n",
    "pictures = polestudio_soup.find_all(div, class_=\"MuiStack-root css-1a7wvso\")"
   ]
  },
  {
   "cell_type": "code",
   "execution_count": null,
   "metadata": {},
   "outputs": [],
   "source": [
    "Angebot\n",
    "sale = find(p, class_=\"MuiTypography-root MuiTypography-body1 css-153qxhx\")"
   ]
  },
  {
   "cell_type": "code",
   "execution_count": null,
   "metadata": {},
   "outputs": [],
   "source": []
  }
 ],
 "metadata": {
  "kernelspec": {
   "display_name": "Python 3",
   "language": "python",
   "name": "python3"
  },
  "language_info": {
   "codemirror_mode": {
    "name": "ipython",
    "version": 3
   },
   "file_extension": ".py",
   "mimetype": "text/x-python",
   "name": "python",
   "nbconvert_exporter": "python",
   "pygments_lexer": "ipython3",
   "version": "3.12.1"
  }
 },
 "nbformat": 4,
 "nbformat_minor": 2
}
