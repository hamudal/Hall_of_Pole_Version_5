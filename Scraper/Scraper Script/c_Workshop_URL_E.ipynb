{
 "cells": [
  {
   "cell_type": "code",
   "execution_count": 11,
   "metadata": {},
   "outputs": [],
   "source": [
    "import os\n",
    "import requests\n",
    "from bs4 import BeautifulSoup\n",
    "import pandas as pd\n",
    "\n",
    "from datetime import datetime"
   ]
  },
  {
   "cell_type": "code",
   "execution_count": 12,
   "metadata": {},
   "outputs": [],
   "source": [
    "url = \"https://www.eversports.de/e/workshop/mT-MZa2\"\n",
    "#url = \"https://www.eversports.de/e/class/AieL128\""
   ]
  },
  {
   "cell_type": "code",
   "execution_count": 13,
   "metadata": {},
   "outputs": [],
   "source": [
    "response = requests.get(url)\n",
    "soup = BeautifulSoup(response.content, 'html.parser')"
   ]
  },
  {
   "cell_type": "code",
   "execution_count": 14,
   "metadata": {},
   "outputs": [],
   "source": [
    "# Find the Workshop Name\n",
    "workshop_name = soup.find('h1', class_='MuiTypography-root MuiTypography-h1 css-1bvkaia').text\n",
    "\n",
    "# Find the Studio Name\n",
    "studio_name = soup.find('p', class_='MuiTypography-root MuiTypography-body1 css-z923os').text\n",
    "\n",
    "# Find the Location\n",
    "location = soup.find_all('p', class_='MuiTypography-root MuiTypography-body1 css-bjhn26')\n",
    "location = location[2].text\n",
    "\n",
    "# Find the Level\n",
    "level = soup.find('p', class_='MuiTypography-root MuiTypography-body1 css-ilcg2f').text\n",
    "\n",
    "# Find the Date\n",
    "date = soup.find('p', class_='MuiTypography-root MuiTypography-body1 css-16ai5j1').text\n",
    "\n",
    "time = soup.find('p', class_='MuiTypography-root MuiTypography-body1 css-bjhn26').text\n"
   ]
  },
  {
   "cell_type": "code",
   "execution_count": 15,
   "metadata": {},
   "outputs": [
    {
     "name": "stdout",
     "output_type": "stream",
     "text": [
      "                             Workshop Name  Studio Name  \\\n",
      "0  Strip that down!  Workshop *girls only*  poda Studio   \n",
      "\n",
      "                                     Location Category  \\\n",
      "0   10-12 Martinstraße Innenhof, 52062 Aachen   Tanzen   \n",
      "\n",
      "                        Date                                        URL_SW  \\\n",
      "0  Sonntag, 29. Oktober 2023  https://www.eversports.de/e/workshop/mT-MZa2   \n",
      "\n",
      "            Time  \n",
      "0  20:15 - 21:45  \n"
     ]
    }
   ],
   "source": [
    "# Create a DataFrame\n",
    "Workshop_df = pd.DataFrame({\n",
    "    'Workshop Name': [workshop_name],\n",
    "    'Studio Name': [studio_name],\n",
    "    'Location': [location],\n",
    "    'Category': [level],\n",
    "    'Date': [date],\n",
    "    'URL_SW': url,\n",
    "    'Time': time\n",
    "})\n",
    "\n",
    "# Print the DataFrame\n",
    "print(Workshop_df)\n"
   ]
  },
  {
   "cell_type": "code",
   "execution_count": 16,
   "metadata": {},
   "outputs": [
    {
     "data": {
      "text/html": [
       "<div>\n",
       "<style scoped>\n",
       "    .dataframe tbody tr th:only-of-type {\n",
       "        vertical-align: middle;\n",
       "    }\n",
       "\n",
       "    .dataframe tbody tr th {\n",
       "        vertical-align: top;\n",
       "    }\n",
       "\n",
       "    .dataframe thead th {\n",
       "        text-align: right;\n",
       "    }\n",
       "</style>\n",
       "<table border=\"1\" class=\"dataframe\">\n",
       "  <thead>\n",
       "    <tr style=\"text-align: right;\">\n",
       "      <th></th>\n",
       "      <th>Workshop Name</th>\n",
       "      <th>Studio Name</th>\n",
       "      <th>Location</th>\n",
       "      <th>Category</th>\n",
       "      <th>Date</th>\n",
       "      <th>URL_SW</th>\n",
       "      <th>Time</th>\n",
       "    </tr>\n",
       "  </thead>\n",
       "  <tbody>\n",
       "    <tr>\n",
       "      <th>0</th>\n",
       "      <td>Strip that down!  Workshop *girls only*</td>\n",
       "      <td>poda Studio</td>\n",
       "      <td>10-12 Martinstraße Innenhof, 52062 Aachen</td>\n",
       "      <td>Tanzen</td>\n",
       "      <td>Sonntag, 29. Oktober 2023</td>\n",
       "      <td>https://www.eversports.de/e/workshop/mT-MZa2</td>\n",
       "      <td>20:15 - 21:45</td>\n",
       "    </tr>\n",
       "  </tbody>\n",
       "</table>\n",
       "</div>"
      ],
      "text/plain": [
       "                             Workshop Name  Studio Name  \\\n",
       "0  Strip that down!  Workshop *girls only*  poda Studio   \n",
       "\n",
       "                                     Location Category  \\\n",
       "0   10-12 Martinstraße Innenhof, 52062 Aachen   Tanzen   \n",
       "\n",
       "                        Date                                        URL_SW  \\\n",
       "0  Sonntag, 29. Oktober 2023  https://www.eversports.de/e/workshop/mT-MZa2   \n",
       "\n",
       "            Time  \n",
       "0  20:15 - 21:45  "
      ]
     },
     "execution_count": 16,
     "metadata": {},
     "output_type": "execute_result"
    }
   ],
   "source": [
    "Workshop_df"
   ]
  },
  {
   "cell_type": "code",
   "execution_count": 17,
   "metadata": {},
   "outputs": [],
   "source": [
    "Workshop_df.to_csv(\"Hall_of_Pole_Pole_Workshop_URL_E.csv\")"
   ]
  },
  {
   "cell_type": "code",
   "execution_count": 18,
   "metadata": {},
   "outputs": [],
   "source": [
    "#Dauer"
   ]
  },
  {
   "cell_type": "code",
   "execution_count": 19,
   "metadata": {},
   "outputs": [],
   "source": [
    "#Level\n",
    "level = soup.find('p', class_='MuiTypography-root MuiTypography-body1 css-ilcg2f').text"
   ]
  },
  {
   "cell_type": "code",
   "execution_count": 20,
   "metadata": {},
   "outputs": [
    {
     "ename": "SyntaxError",
     "evalue": "invalid syntax (4223472501.py, line 2)",
     "output_type": "error",
     "traceback": [
      "\u001b[1;36m  Cell \u001b[1;32mIn[20], line 2\u001b[1;36m\u001b[0m\n\u001b[1;33m    div class=\"css-3awvdx\" all text or p elements\u001b[0m\n\u001b[1;37m        ^\u001b[0m\n\u001b[1;31mSyntaxError\u001b[0m\u001b[1;31m:\u001b[0m invalid syntax\n"
     ]
    }
   ],
   "source": [
    "#Workshop Beschreibung\n",
    "div class=\"css-3awvdx\" all text or p elements"
   ]
  },
  {
   "cell_type": "code",
   "execution_count": null,
   "metadata": {},
   "outputs": [],
   "source": [
    "#Trainer, Name, Trainer Beschreibung / About Me, Ausbildung / Qualifikation, Trainerbild\n",
    "div class=\"MuiStack-root css-yd8sa2\" search"
   ]
  },
  {
   "cell_type": "code",
   "execution_count": null,
   "metadata": {},
   "outputs": [],
   "source": [
    "#Preis\n",
    "p class=\"MuiTypography-root MuiTypography-body1 css-mqc5zo\""
   ]
  },
  {
   "cell_type": "code",
   "execution_count": null,
   "metadata": {},
   "outputs": [],
   "source": []
  },
  {
   "cell_type": "code",
   "execution_count": null,
   "metadata": {},
   "outputs": [],
   "source": []
  }
 ],
 "metadata": {
  "kernelspec": {
   "display_name": "Python 3",
   "language": "python",
   "name": "python3"
  },
  "language_info": {
   "codemirror_mode": {
    "name": "ipython",
    "version": 3
   },
   "file_extension": ".py",
   "mimetype": "text/x-python",
   "name": "python",
   "nbconvert_exporter": "python",
   "pygments_lexer": "ipython3",
   "version": "3.12.1"
  }
 },
 "nbformat": 4,
 "nbformat_minor": 2
}
