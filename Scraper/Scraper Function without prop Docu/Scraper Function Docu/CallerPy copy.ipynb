{
 "cells": [
  {
   "cell_type": "code",
   "execution_count": 8,
   "metadata": {},
   "outputs": [],
   "source": [
    "# Importieren der benötigten Module\n",
    "from a_URL_Reconstructor import reconstruct_urls_and_extract_buttons\n",
    "from aa_URL_Validation import validate_urls\n",
    "from aaa_PoleStudio_URL_S_Function import scrape_pole_studio\n",
    "from b_Workshopslist_URL_SW_Function import scrape_workshops\n",
    "from c_Workshop_URL_E_Function import scrape_workshop_details\n",
    "from d_Klassenlist_SCL_Function import scrape_classes\n",
    "\n",
    "import pandas as pd"
   ]
  },
  {
   "cell_type": "code",
   "execution_count": 9,
   "metadata": {},
   "outputs": [],
   "source": [
    "url = \"https://www.eversports.de/s/poda-studio\""
   ]
  },
  {
   "cell_type": "code",
   "execution_count": 10,
   "metadata": {},
   "outputs": [
    {
     "data": {
      "text/plain": [
       "{'Übersicht': 'https://www.eversports.de/s/poda-studio',\n",
       " 'Klassen': 'https://www.eversports.de/scl/poda-studio',\n",
       " 'Workshops': 'https://www.eversports.de/sw/poda-studio',\n",
       " 'Videos': 'https://www.eversports.de/s/videos/poda-studio',\n",
       " 'Preise': 'https://www.eversports.de/sp/poda-studio',\n",
       " 'Team': 'https://www.eversports.de/s/team/poda-studio'}"
      ]
     },
     "execution_count": 10,
     "metadata": {},
     "output_type": "execute_result"
    }
   ],
   "source": [
    "_, reconstructed_urls = reconstruct_urls_and_extract_buttons(url)\n",
    "reconstructed_urls"
   ]
  },
  {
   "cell_type": "code",
   "execution_count": 11,
   "metadata": {},
   "outputs": [
    {
     "name": "stdout",
     "output_type": "stream",
     "text": [
      "   Kategorie                                             URL\n",
      "0  Übersicht         https://www.eversports.de/s/poda-studio\n",
      "1    Klassen       https://www.eversports.de/scl/poda-studio\n",
      "2  Workshops        https://www.eversports.de/sw/poda-studio\n",
      "3     Videos  https://www.eversports.de/s/videos/poda-studio\n",
      "4     Preise        https://www.eversports.de/sp/poda-studio\n",
      "5       Team    https://www.eversports.de/s/team/poda-studio\n"
     ]
    }
   ],
   "source": [
    "# Umwandlung des Dictionaries in ein DataFrame\n",
    "reconstructed_urls_df = pd.DataFrame(list(reconstructed_urls.items()), columns=['Kategorie', 'URL'])\n",
    "\n",
    "# Anzeige des DataFrames\n",
    "print(reconstructed_urls_df)"
   ]
  },
  {
   "cell_type": "code",
   "execution_count": 12,
   "metadata": {},
   "outputs": [
    {
     "name": "stdout",
     "output_type": "stream",
     "text": [
      "Processing URL 1/6: https://www.eversports.de/s/poda-studio\n",
      "URL https://www.eversports.de/s/poda-studio is valid.\n",
      "\n",
      "\n",
      "Processing URL 2/6: https://www.eversports.de/scl/poda-studio\n",
      "URL https://www.eversports.de/scl/poda-studio is valid.\n",
      "\n",
      "\n",
      "Processing URL 3/6: https://www.eversports.de/sw/poda-studio\n",
      "URL https://www.eversports.de/sw/poda-studio is valid.\n",
      "\n",
      "\n",
      "Processing URL 4/6: https://www.eversports.de/s/videos/poda-studio\n",
      "URL https://www.eversports.de/s/videos/poda-studio is not valid.\n",
      "\n",
      "\n",
      "Processing URL 5/6: https://www.eversports.de/sp/poda-studio\n",
      "URL https://www.eversports.de/sp/poda-studio is valid.\n",
      "\n",
      "\n",
      "Processing URL 6/6: https://www.eversports.de/s/team/poda-studio\n",
      "URL https://www.eversports.de/s/team/poda-studio is not valid.\n",
      "\n",
      "\n"
     ]
    },
    {
     "data": {
      "text/html": [
       "<div>\n",
       "<style scoped>\n",
       "    .dataframe tbody tr th:only-of-type {\n",
       "        vertical-align: middle;\n",
       "    }\n",
       "\n",
       "    .dataframe tbody tr th {\n",
       "        vertical-align: top;\n",
       "    }\n",
       "\n",
       "    .dataframe thead th {\n",
       "        text-align: right;\n",
       "    }\n",
       "</style>\n",
       "<table border=\"1\" class=\"dataframe\">\n",
       "  <thead>\n",
       "    <tr style=\"text-align: right;\">\n",
       "      <th></th>\n",
       "      <th>Valid_URL</th>\n",
       "    </tr>\n",
       "  </thead>\n",
       "  <tbody>\n",
       "    <tr>\n",
       "      <th>0</th>\n",
       "      <td>https://www.eversports.de/s/poda-studio</td>\n",
       "    </tr>\n",
       "    <tr>\n",
       "      <th>1</th>\n",
       "      <td>https://www.eversports.de/scl/poda-studio</td>\n",
       "    </tr>\n",
       "    <tr>\n",
       "      <th>2</th>\n",
       "      <td>https://www.eversports.de/sw/poda-studio</td>\n",
       "    </tr>\n",
       "    <tr>\n",
       "      <th>3</th>\n",
       "      <td>https://www.eversports.de/sp/poda-studio</td>\n",
       "    </tr>\n",
       "  </tbody>\n",
       "</table>\n",
       "</div>"
      ],
      "text/plain": [
       "                                   Valid_URL\n",
       "0    https://www.eversports.de/s/poda-studio\n",
       "1  https://www.eversports.de/scl/poda-studio\n",
       "2   https://www.eversports.de/sw/poda-studio\n",
       "3   https://www.eversports.de/sp/poda-studio"
      ]
     },
     "execution_count": 12,
     "metadata": {},
     "output_type": "execute_result"
    }
   ],
   "source": [
    "validated_urls_df = validate_urls(reconstructed_urls_df[\"URL\"].to_list())\n"
   ]
  },
  {
   "cell_type": "code",
   "execution_count": 13,
   "metadata": {},
   "outputs": [
    {
     "data": {
      "text/html": [
       "<div>\n",
       "<style scoped>\n",
       "    .dataframe tbody tr th:only-of-type {\n",
       "        vertical-align: middle;\n",
       "    }\n",
       "\n",
       "    .dataframe tbody tr th {\n",
       "        vertical-align: top;\n",
       "    }\n",
       "\n",
       "    .dataframe thead th {\n",
       "        text-align: right;\n",
       "    }\n",
       "</style>\n",
       "<table border=\"1\" class=\"dataframe\">\n",
       "  <thead>\n",
       "    <tr style=\"text-align: right;\">\n",
       "      <th></th>\n",
       "      <th>Valid_URL</th>\n",
       "    </tr>\n",
       "  </thead>\n",
       "  <tbody>\n",
       "    <tr>\n",
       "      <th>0</th>\n",
       "      <td>https://www.eversports.de/s/poda-studio</td>\n",
       "    </tr>\n",
       "    <tr>\n",
       "      <th>1</th>\n",
       "      <td>https://www.eversports.de/scl/poda-studio</td>\n",
       "    </tr>\n",
       "    <tr>\n",
       "      <th>2</th>\n",
       "      <td>https://www.eversports.de/sw/poda-studio</td>\n",
       "    </tr>\n",
       "    <tr>\n",
       "      <th>3</th>\n",
       "      <td>https://www.eversports.de/sp/poda-studio</td>\n",
       "    </tr>\n",
       "  </tbody>\n",
       "</table>\n",
       "</div>"
      ],
      "text/plain": [
       "                                   Valid_URL\n",
       "0    https://www.eversports.de/s/poda-studio\n",
       "1  https://www.eversports.de/scl/poda-studio\n",
       "2   https://www.eversports.de/sw/poda-studio\n",
       "3   https://www.eversports.de/sp/poda-studio"
      ]
     },
     "execution_count": 13,
     "metadata": {},
     "output_type": "execute_result"
    }
   ],
   "source": [
    "validated_urls_df"
   ]
  },
  {
   "cell_type": "code",
   "execution_count": 4,
   "metadata": {},
   "outputs": [
    {
     "data": {
      "text/html": [
       "<div>\n",
       "<style scoped>\n",
       "    .dataframe tbody tr th:only-of-type {\n",
       "        vertical-align: middle;\n",
       "    }\n",
       "\n",
       "    .dataframe tbody tr th {\n",
       "        vertical-align: top;\n",
       "    }\n",
       "\n",
       "    .dataframe thead th {\n",
       "        text-align: right;\n",
       "    }\n",
       "</style>\n",
       "<table border=\"1\" class=\"dataframe\">\n",
       "  <thead>\n",
       "    <tr style=\"text-align: right;\">\n",
       "      <th></th>\n",
       "      <th>PoleStudio_Name</th>\n",
       "      <th>Adresse</th>\n",
       "      <th>PLZ</th>\n",
       "      <th>Stadt</th>\n",
       "      <th>Straße</th>\n",
       "      <th>Buttons</th>\n",
       "      <th>Pole Studio Beschreibung</th>\n",
       "      <th>Ratingscore</th>\n",
       "      <th>Reviewanzahl</th>\n",
       "      <th>Rating Faktoren</th>\n",
       "      <th>E-Mail</th>\n",
       "      <th>Homepage</th>\n",
       "      <th>Telefon</th>\n",
       "      <th>URL_S</th>\n",
       "      <th>Art</th>\n",
       "      <th>Angebot</th>\n",
       "      <th>Bildergalerie</th>\n",
       "      <th>Created Date</th>\n",
       "      <th>Updated Date</th>\n",
       "    </tr>\n",
       "  </thead>\n",
       "  <tbody>\n",
       "    <tr>\n",
       "      <th>0</th>\n",
       "      <td>poda Studio</td>\n",
       "      <td>[Martinstraße 10-12 ,  52062 Aachen]</td>\n",
       "      <td>52062</td>\n",
       "      <td>Aachen</td>\n",
       "      <td>Martinstraße 10-12</td>\n",
       "      <td>[Übersicht, Klassen, Workshops, Videos, Preise...</td>\n",
       "      <td>Flieg mit uns! Poda ist das größte Pole Dance ...</td>\n",
       "      <td>4,9</td>\n",
       "      <td>52 Rezensionen</td>\n",
       "      <td>[Raumqualität: 5.0, Freundlichkeit &amp; Service: ...</td>\n",
       "      <td>info@podastudio.de</td>\n",
       "      <td>https://www.podastudio.de/</td>\n",
       "      <td>+49241 95719917</td>\n",
       "      <td>https://www.eversports.de/s/poda-studio</td>\n",
       "      <td>[Fitness, Tanzen, Fitness, Yoga, Fitness, Yoga...</td>\n",
       "      <td>1 Angebot für Neukund:innen</td>\n",
       "      <td>[https://files.eversports.com/b5fbdb8d-cc1e-44...</td>\n",
       "      <td>2023-12-20 07:28:47</td>\n",
       "      <td>2023-12-20 07:28:47</td>\n",
       "    </tr>\n",
       "  </tbody>\n",
       "</table>\n",
       "</div>"
      ],
      "text/plain": [
       "  PoleStudio_Name                               Adresse    PLZ   Stadt  \\\n",
       "0     poda Studio  [Martinstraße 10-12 ,  52062 Aachen]  52062  Aachen   \n",
       "\n",
       "                Straße                                            Buttons  \\\n",
       "0  Martinstraße 10-12   [Übersicht, Klassen, Workshops, Videos, Preise...   \n",
       "\n",
       "                            Pole Studio Beschreibung Ratingscore  \\\n",
       "0  Flieg mit uns! Poda ist das größte Pole Dance ...         4,9   \n",
       "\n",
       "     Reviewanzahl                                    Rating Faktoren  \\\n",
       "0  52 Rezensionen  [Raumqualität: 5.0, Freundlichkeit & Service: ...   \n",
       "\n",
       "                E-Mail                    Homepage          Telefon  \\\n",
       "0   info@podastudio.de  https://www.podastudio.de/  +49241 95719917   \n",
       "\n",
       "                                     URL_S  \\\n",
       "0  https://www.eversports.de/s/poda-studio   \n",
       "\n",
       "                                                 Art  \\\n",
       "0  [Fitness, Tanzen, Fitness, Yoga, Fitness, Yoga...   \n",
       "\n",
       "                       Angebot  \\\n",
       "0  1 Angebot für Neukund:innen   \n",
       "\n",
       "                                       Bildergalerie         Created Date  \\\n",
       "0  [https://files.eversports.com/b5fbdb8d-cc1e-44...  2023-12-20 07:28:47   \n",
       "\n",
       "          Updated Date  \n",
       "0  2023-12-20 07:28:47  "
      ]
     },
     "execution_count": 4,
     "metadata": {},
     "output_type": "execute_result"
    }
   ],
   "source": [
    "pole_studio_data = scrape_pole_studio(url)\n",
    "pole_studio_data"
   ]
  },
  {
   "cell_type": "code",
   "execution_count": null,
   "metadata": {},
   "outputs": [],
   "source": [
    "url = pole_studio_data[\"\"]\n",
    "workshops_data = scrape_workshops(url)"
   ]
  },
  {
   "cell_type": "code",
   "execution_count": null,
   "metadata": {},
   "outputs": [],
   "source": [
    "url = workshops_data['URL_SW'].tolist()\n",
    "workshop_details = scrape_workshop_details(url)"
   ]
  },
  {
   "cell_type": "code",
   "execution_count": null,
   "metadata": {},
   "outputs": [],
   "source": [
    "classes_data = scrape_classes(url)"
   ]
  },
  {
   "cell_type": "code",
   "execution_count": null,
   "metadata": {},
   "outputs": [],
   "source": [
    "url = classes_data['Valid_URL'].tolist()\n",
    "classes_details = scrape_workshop_details(url)"
   ]
  }
 ],
 "metadata": {
  "kernelspec": {
   "display_name": "Python 3",
   "language": "python",
   "name": "python3"
  },
  "language_info": {
   "codemirror_mode": {
    "name": "ipython",
    "version": 3
   },
   "file_extension": ".py",
   "mimetype": "text/x-python",
   "name": "python",
   "nbconvert_exporter": "python",
   "pygments_lexer": "ipython3",
   "version": "3.12.1"
  }
 },
 "nbformat": 4,
 "nbformat_minor": 2
}
