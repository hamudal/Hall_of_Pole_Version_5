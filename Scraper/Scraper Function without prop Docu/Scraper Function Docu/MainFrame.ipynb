{
 "cells": [
  {
   "cell_type": "code",
   "execution_count": 2,
   "metadata": {},
   "outputs": [],
   "source": [
    "from CallerPy import process_urls \n",
    "import pandas as pd"
   ]
  },
  {
   "cell_type": "code",
   "execution_count": 3,
   "metadata": {},
   "outputs": [
    {
     "name": "stdout",
     "output_type": "stream",
     "text": [
      "Starte URL-Rekonstruktion...\n",
      "Konvertiere in DataFrame...\n",
      "Validiere URLs...\n",
      "Processing URL 1/6: https://www.eversports.de/s/poda-studio\n",
      "URL https://www.eversports.de/s/poda-studio is valid.\n",
      "\n",
      "\n",
      "Processing URL 2/6: https://www.eversports.de/scl/poda-studio\n",
      "URL https://www.eversports.de/scl/poda-studio is valid.\n",
      "\n",
      "\n",
      "Processing URL 3/6: https://www.eversports.de/sw/poda-studio\n",
      "URL https://www.eversports.de/sw/poda-studio is valid.\n",
      "\n",
      "\n",
      "Processing URL 4/6: https://www.eversports.de/s/videos/poda-studio\n",
      "URL https://www.eversports.de/s/videos/poda-studio is not valid.\n",
      "\n",
      "\n",
      "Processing URL 5/6: https://www.eversports.de/sp/poda-studio\n",
      "URL https://www.eversports.de/sp/poda-studio is valid.\n",
      "\n",
      "\n",
      "Processing URL 6/6: https://www.eversports.de/s/team/poda-studio\n",
      "URL https://www.eversports.de/s/team/poda-studio is not valid.\n",
      "\n",
      "\n",
      "Scrape Pole Studio Daten von https://www.eversports.de/s/poda-studio...\n",
      "Scrape Klassen Daten von https://www.eversports.de/scl/poda-studio...\n",
      "Scrape Klassen Details von https://www.eversports.de/e/class/Otaqqee...\n",
      "Scrape Workshops Daten von https://www.eversports.de/sw/poda-studio...\n",
      "Verarbeitung abgeschlossen.\n"
     ]
    }
   ],
   "source": [
    "# Beispielaufruf\n",
    "initial_urls = [\"https://www.eversports.de/s/poda-studio\"]\n",
    "data = process_urls(initial_urls)"
   ]
  },
  {
   "cell_type": "code",
   "execution_count": 4,
   "metadata": {},
   "outputs": [
    {
     "data": {
      "text/plain": [
       "{'pole_studio_data':   PoleStudio_Name                               Adresse    PLZ   Stadt  \\\n",
       " 0     poda Studio  [Martinstraße 10-12 ,  52062 Aachen]  52062  Aachen   \n",
       " \n",
       "                 Straße                                            Buttons  \\\n",
       " 0  Martinstraße 10-12   [Übersicht, Klassen, Workshops, Videos, Preise...   \n",
       " \n",
       "                             Pole Studio Beschreibung Ratingscore  \\\n",
       " 0  Flieg mit uns! Poda ist das größte Pole Dance ...         4,9   \n",
       " \n",
       "      Reviewanzahl                                    Rating Faktoren  \\\n",
       " 0  52 Rezensionen  [Raumqualität: 5.0, Freundlichkeit & Service: ...   \n",
       " \n",
       "                 E-Mail                    Homepage          Telefon  \\\n",
       " 0   info@podastudio.de  https://www.podastudio.de/  +49241 95719917   \n",
       " \n",
       "                                      URL_S  \\\n",
       " 0  https://www.eversports.de/s/poda-studio   \n",
       " \n",
       "                                                  Art  \\\n",
       " 0  [Fitness, Tanzen, Fitness, Yoga, Fitness, Yoga...   \n",
       " \n",
       "                        Angebot  \\\n",
       " 0  1 Angebot für Neukund:innen   \n",
       " \n",
       "                                        Bildergalerie         Created Date  \\\n",
       " 0  [https://files.eversports.com/b5fbdb8d-cc1e-44...  2023-12-20 09:32:25   \n",
       " \n",
       "           Updated Date  \n",
       " 0  2023-12-20 09:32:25  ,\n",
       " 'classes_data':                                    URL_SCL_E   Time Duration  \\\n",
       " 0  https://www.eversports.de/e/class/Otaqqee  18:45   60 Min   \n",
       " 1  https://www.eversports.de/e/class/pci9U3w  20:00   60 Min   \n",
       " 2  https://www.eversports.de/e/class/IMt1Fo6  18:45   60 Min   \n",
       " 3  https://www.eversports.de/e/class/Otaqqee  18:45   60 Min   \n",
       " 4  https://www.eversports.de/e/class/pci9U3w  20:00   60 Min   \n",
       " 5  https://www.eversports.de/e/class/IMt1Fo6  18:45   60 Min   \n",
       " \n",
       "                                                 Name         Available Slots  \\\n",
       " 0  Do they know it's Fitnesstime - Pole Fitness *...  6/24 Plätzen verfügbar   \n",
       " 1  Ho ho hold your split - stretch for splits Xma...  8/24 Plätzen verfügbar   \n",
       " 2                Burlesque Chairdance *Xmas Special*  4/24 Plätzen verfügbar   \n",
       " 3  Do they know it's Fitnesstime - Pole Fitness *...  6/24 Plätzen verfügbar   \n",
       " 4  Ho ho hold your split - stretch for splits Xma...  8/24 Plätzen verfügbar   \n",
       " 5                Burlesque Chairdance *Xmas Special*  4/24 Plätzen verfügbar   \n",
       " \n",
       "   Trainer         Room  \n",
       " 0    Anna  Poda Studio  \n",
       " 1    Anna  Poda Studio  \n",
       " 2   Joana  Poda Studio  \n",
       " 3    Anna  Poda Studio  \n",
       " 4    Anna  Poda Studio  \n",
       " 5   Joana  Poda Studio  ,\n",
       " 'classes_details':                                        Workshop Name  \\\n",
       " 0  Do they know it's Fitnesstime - Pole Fitness *...   \n",
       " \n",
       "                                         Beschreibung  Studio Name  \\\n",
       " 0  Wir warten nicht bis Neujahr, um den Weihnacht...  poda Studio   \n",
       " \n",
       "                                      Location Category  \\\n",
       " 0   10-12 Martinstraße Innenhof, 52062 Aachen  Fitness   \n",
       " \n",
       "                         Date                                      URL_E  \\\n",
       " 0  Montag, 18. Dezember 2023  https://www.eversports.de/e/class/Otaqqee   \n",
       " \n",
       "             Time  \n",
       " 0  18:45 - 19:45  ,\n",
       " 'workshops_data':                               Workshop Name  Workshop Date Workshop Price  \\\n",
       " 0                     Aerial Loops Workshop   Jan13Samstag     ab 35,00 €   \n",
       " 1               Handstands on Pole Workshop   Jan20Samstag     ab 35,00 €   \n",
       " 2                    How to invert Workshop   Jan20Samstag     ab 35,00 €   \n",
       " 3  Rock Hard Style High Heels Pole Workshop   Feb04Sonntag     ab 35,00 €   \n",
       " 4              Hip Hop Pole Choreo Workshop  März16Samstag     ab 35,00 €   \n",
       " \n",
       "   Workshop Units Workshop Studio                           Workshop Address  \\\n",
       " 0      1 Einheit     poda Studio  10-12 Martinstraße Innenhof, 52062 Aachen   \n",
       " 1      1 Einheit     poda Studio  10-12 Martinstraße Innenhof, 52062 Aachen   \n",
       " 2      1 Einheit     poda Studio  10-12 Martinstraße Innenhof, 52062 Aachen   \n",
       " 3      1 Einheit     poda Studio  10-12 Martinstraße Innenhof, 52062 Aachen   \n",
       " 4      1 Einheit     poda Studio  10-12 Martinstraße Innenhof, 52062 Aachen   \n",
       " \n",
       "                                          URL_SW  \n",
       " 0  https://www.eversports.de/e/workshop/5Qka0Ok  \n",
       " 1  https://www.eversports.de/e/workshop/mmIS0hG  \n",
       " 2  https://www.eversports.de/e/workshop/5id4nVo  \n",
       " 3  https://www.eversports.de/e/workshop/LAHNDF-  \n",
       " 4  https://www.eversports.de/e/workshop/2f93D4_  }"
      ]
     },
     "execution_count": 4,
     "metadata": {},
     "output_type": "execute_result"
    }
   ],
   "source": [
    "data"
   ]
  },
  {
   "cell_type": "code",
   "execution_count": null,
   "metadata": {},
   "outputs": [],
   "source": []
  }
 ],
 "metadata": {
  "kernelspec": {
   "display_name": "Python 3",
   "language": "python",
   "name": "python3"
  },
  "language_info": {
   "codemirror_mode": {
    "name": "ipython",
    "version": 3
   },
   "file_extension": ".py",
   "mimetype": "text/x-python",
   "name": "python",
   "nbconvert_exporter": "python",
   "pygments_lexer": "ipython3",
   "version": "3.12.1"
  }
 },
 "nbformat": 4,
 "nbformat_minor": 2
}
